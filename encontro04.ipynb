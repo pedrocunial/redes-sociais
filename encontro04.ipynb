{
 "cells": [
  {
   "cell_type": "markdown",
   "metadata": {},
   "source": [
    "# Encontro 04: Suporte para Análise Espectral de Grafos\n",
    "\n",
    "Este guia foi escrito para ajudar você a atingir os seguintes objetivos:\n",
    "\n",
    "* lembrar conceitos básicos de geometria analítica e álgebra linear;\n",
    "* explicar conceitos básicos de matriz de adjacência.\n",
    "\n",
    "As seguintes bibliotecas serão usadas:"
   ]
  },
  {
   "cell_type": "code",
   "execution_count": 1,
   "metadata": {},
   "outputs": [
    {
     "data": {
      "text/html": [
       "<script>requirejs.config({paths: { 'plotly': ['https://cdn.plot.ly/plotly-latest.min']},});if(!window.Plotly) {{require(['plotly'],function(plotly) {window.Plotly=plotly;});}}</script>"
      ],
      "text/vnd.plotly.v1+html": [
       "<script>requirejs.config({paths: { 'plotly': ['https://cdn.plot.ly/plotly-latest.min']},});if(!window.Plotly) {{require(['plotly'],function(plotly) {window.Plotly=plotly;});}}</script>"
      ]
     },
     "metadata": {},
     "output_type": "display_data"
    },
    {
     "data": {
      "text/html": [
       "<script>requirejs.config({paths: { 'plotly': ['https://cdn.plot.ly/plotly-latest.min']},});if(!window.Plotly) {{require(['plotly'],function(plotly) {window.Plotly=plotly;});}}</script>"
      ],
      "text/vnd.plotly.v1+html": [
       "<script>requirejs.config({paths: { 'plotly': ['https://cdn.plot.ly/plotly-latest.min']},});if(!window.Plotly) {{require(['plotly'],function(plotly) {window.Plotly=plotly;});}}</script>"
      ]
     },
     "metadata": {},
     "output_type": "display_data"
    }
   ],
   "source": [
    "import numpy as np\n",
    "import socnet as sn\n",
    "import easyplot as ep"
   ]
  },
  {
   "cell_type": "markdown",
   "metadata": {},
   "source": [
    "## Terminologia e notação\n",
    "\n",
    "* Um **escalar** $\\alpha \\in \\mathbb{R}$ é denotado por uma *letra grega minúscula*.\n",
    "* Um **vetor** $a \\in \\mathbb{R}^n$ é denotado por uma *letra romana minúscula*.\n",
    "* Uma **matriz** $A \\in \\mathbb{R}^{n \\times m}$ é denotada por uma *letra romana maiúscula*.\n",
    "\n",
    "\n",
    "## Geometria analítica\n",
    "\n",
    "* Considere dois vetores, $a = (\\alpha_0, \\ldots, \\alpha_{n-1})$ e $b = (\\beta_0, \\ldots, \\beta_{n-1})$. O **produto interno** desses vetores é denotado por $a \\cdot b$ e definido como\n",
    "$\\sum^{n-1}_{i = 0} \\alpha_i \\beta_i$.\n",
    "\n",
    "* Dizemos que $a$ e $b$ são **ortogonais** se $a \\cdot b = 0$.\n",
    "\n",
    "* A **norma** de $a$ é denotada por $\\|a\\|$ e definida como $\\sqrt{a \\cdot a}$, ou seja, $\\sqrt{\\sum^{n-1}_{i = 0} \\alpha^2_i}$.\n",
    "\n",
    "* Dizemos que $a$ é um **versor** se $\\|a\\| = 1$.\n",
    "\n",
    "* **Normalizar** $a$ significa considerar o versor $\\frac{a}{\\|a\\|}$.\n",
    "\n",
    "\n",
    "## Álgebra linear\n",
    "\n",
    "* Considere um conjunto de vetores $a_0, \\ldots, a_{m-1}$. Uma **combinação linear** desses vetores é uma soma $\\gamma_0 a_0 + \\cdots + \\gamma_{m-1} a_{m-1}$.\n",
    "\n",
    "* Dizemos que $a_0, \\ldots, a_{m-1}$ é uma **base** se todo vetor em $\\mathbb{R}^n$ é uma combinação linear desses vetores.\n",
    "\n",
    "* Considere uma matriz $A$. Sua **transposta** é denotada por $A^t$ e definida como uma matriz tal que, para todo $i$ e $j$, o elemento na linha $i$ e coluna $j$ de $A$ é o elemento na linha $j$ e coluna $i$ de $A^t$.\n",
    "\n",
    "* Em multiplicações, um vetor é por padrão \"de pé\", ou seja, uma matriz com uma única coluna. Disso segue que o produto $Ab$ é uma combinação linear das colunas de $A$.\n",
    "\n",
    "* Como consequência, a transposta de um vetor é por padrão \"deitada\", ou seja, uma matriz com uma única linha. Disse segue que o produto $b^t A$ é a transposta de uma combinação linear das linhas de $A$.\n",
    "\n",
    "\n",
    "## Autovetores e autovalores\n",
    "\n",
    "Considere um vetor $b$ e uma matriz $A$. Dizemos que $b$ é um **autovetor** de $A$ se existe $\\lambda$ tal que\n",
    "\n",
    "$$Ab = \\lambda b.$$\n",
    "\n",
    "Nesse caso, dizemos que $\\lambda$ é o **autovalor** de $A$ correspondente a $b$.\n",
    "\n",
    "Note que a multiplicação pela matriz pode mudar o módulo de um autovetor, mas não pode mudar sua direção. Essa interpretação geométrica permite visualizar um algoritmo surpreendentemente simples para obter um autovetor."
   ]
  },
  {
   "cell_type": "code",
   "execution_count": null,
   "metadata": {
    "collapsed": true,
    "scrolled": true
   },
   "outputs": [],
   "source": [
    "from random import randint, uniform\n",
    "from math import pi, cos, sin\n",
    "\n",
    "\n",
    "NUM_PAIRS = 10\n",
    "NUM_FRAMES = 10\n",
    "\n",
    "\n",
    "# devolve um versor positivo aleatório\n",
    "def random_pair():\n",
    "    angle = uniform(0, pi / 2)\n",
    "\n",
    "    return np.array([cos(angle), sin(angle)])\n",
    "\n",
    "\n",
    "# devolve uma cor aleatória\n",
    "def random_color():\n",
    "    r = randint(0, 255)\n",
    "    g = randint(0, 255)\n",
    "    b = randint(0, 255)\n",
    "\n",
    "    return (r, g, b)\n",
    "\n",
    "\n",
    "# matriz da qual queremos descobrir um autovetor\n",
    "A = np.array([\n",
    "    [ 2, -1],\n",
    "    [-1,  2]\n",
    "])\n",
    "\n",
    "# versores positivos e cores aleatórias\n",
    "pairs = []\n",
    "colors = []\n",
    "for i in range(NUM_PAIRS):\n",
    "    pairs.append(random_pair())\n",
    "    colors.append(random_color())\n",
    "\n",
    "frames = []\n",
    "\n",
    "for i in range(NUM_FRAMES):\n",
    "    frames.append(ep.frame_vectors(pairs, colors))\n",
    "\n",
    "    # multiplica cada vetor por A\n",
    "    pairs = [A.dot(pair) for pair in pairs]\n",
    "\n",
    "ep.show_animation(frames, xrange=[-5, 5], yrange=[-5, 5])"
   ]
  },
  {
   "cell_type": "markdown",
   "metadata": {
    "collapsed": true
   },
   "source": [
    "Note que as multiplicações por $A$ fazem o módulo dos vetores aumentar indefinidamente, *mas a direção converge*. Para deixar isso mais claro, vamos normalizar depois de multiplicar."
   ]
  },
  {
   "cell_type": "code",
   "execution_count": null,
   "metadata": {
    "collapsed": true
   },
   "outputs": [],
   "source": [
    "# normaliza um vetor\n",
    "def normalize(a):\n",
    "    return a / np.linalg.norm(a)\n",
    "\n",
    "\n",
    "# versores positivos e cores aleatórias\n",
    "pairs = []\n",
    "colors = []\n",
    "for i in range(NUM_PAIRS):\n",
    "    pairs.append(random_pair())\n",
    "    colors.append(random_color())\n",
    "\n",
    "frames = []\n",
    "\n",
    "for i in range(NUM_FRAMES):\n",
    "    frames.append(ep.frame_vectors(pairs, colors))\n",
    "\n",
    "    # multiplica cada vetor por A e normaliza\n",
    "    pairs = [normalize(A.dot(pair)) for pair in pairs]\n",
    "\n",
    "ep.show_animation(frames, xrange=[-1, 1], yrange=[-1, 1])"
   ]
  },
  {
   "cell_type": "markdown",
   "metadata": {
    "collapsed": true
   },
   "source": [
    "Portanto, o algoritmo converge para uma direção que a multiplicação por $A$ não pode mudar. Isso corresponde à definição de autovetor dada acima!\n",
    "\n",
    "Cabe enfatizar, porém, que nem toda matriz garante convergência.\n",
    "\n",
    "\n",
    "## Matriz de adjacência\n",
    "\n",
    "Considere um grafo $(N, E)$ e uma matriz $A \\in \\{0, 1\\}^{|N| \\times |N|}$. Denotando por $\\alpha_{ij}$ o elemento na linha $i$ e coluna $j$, dizemos que $A$ é a **matriz de adjacência** do grafo $(N, E)$ se:\n",
    "\n",
    "$$\\textrm{supondo } (N, E) \\textrm{ não-dirigido}, \\alpha_{ij} = 1 \\textrm{ se } \\{i, j\\} \\in E \\textrm{ e } \\alpha_{ij} = 0 \\textrm{ caso contrário};$$\n",
    "\n",
    "$$\\textrm{supondo } (N, E) \\textrm{ dirigido}, \\alpha_{ij} = 1 \\textrm{ se } (i, j) \\in E \\textrm{ e } \\alpha_{ij} = 0 \\textrm{ caso contrário}.$$\n",
    "\n",
    "Vamos construir a matriz de adjacência de um grafo dos encontros anteriores."
   ]
  },
  {
   "cell_type": "code",
   "execution_count": null,
   "metadata": {
    "collapsed": true
   },
   "outputs": [],
   "source": [
    "sn.graph_width = 320\n",
    "sn.graph_height = 180\n",
    "\n",
    "g = sn.load_graph('encontro02/3-bellman.gml', has_pos=True)\n",
    "\n",
    "for n in g.nodes():\n",
    "    g.node[n]['label'] = str(n)\n",
    "\n",
    "sn.show_graph(g, nlab=True)"
   ]
  },
  {
   "cell_type": "code",
   "execution_count": null,
   "metadata": {
    "collapsed": true
   },
   "outputs": [],
   "source": [
    "matrix = sn.build_matrix(g)\n",
    "\n",
    "print(matrix)"
   ]
  },
  {
   "cell_type": "markdown",
   "metadata": {},
   "source": [
    "### Exercício 1\n",
    "\n",
    "Considerando um grafo não-dirigido, como encontrar *vizinhos* na matriz de adjacência? Há mais de uma maneira."
   ]
  },
  {
   "cell_type": "markdown",
   "metadata": {},
   "source": [
    "*(sua resposta)*"
   ]
  },
  {
   "cell_type": "markdown",
   "metadata": {},
   "source": [
    "### Exercício 2\n",
    "\n",
    "Cite uma propriedade que matrizes de grafos não-dirigidos possuem, mas matrizes de grafos dirigidos não possuem."
   ]
  },
  {
   "cell_type": "markdown",
   "metadata": {},
   "source": [
    "*(sua resposta)*"
   ]
  },
  {
   "cell_type": "markdown",
   "metadata": {},
   "source": [
    "### Exercício 3\n",
    "\n",
    "Considerando um grafo dirigido, como encontrar *sucessores* na matriz de adjacência?"
   ]
  },
  {
   "cell_type": "markdown",
   "metadata": {},
   "source": [
    "*(sua resposta)*"
   ]
  },
  {
   "cell_type": "markdown",
   "metadata": {},
   "source": [
    "### Exercício 4\n",
    "\n",
    "Considerando um grafo dirigido, como encontrar *predecessores* na matriz de adjacência?"
   ]
  },
  {
   "cell_type": "markdown",
   "metadata": {},
   "source": [
    "*(sua resposta)*"
   ]
  },
  {
   "cell_type": "markdown",
   "metadata": {},
   "source": [
    "### Exercício 5\n",
    "\n",
    "Se $A$ é a matriz de adjacência de um grafo não-dirigido, o que o produto $AA$ representa?"
   ]
  },
  {
   "cell_type": "markdown",
   "metadata": {},
   "source": [
    "*(sua resposta)*"
   ]
  },
  {
   "cell_type": "markdown",
   "metadata": {},
   "source": [
    "### Exercício 6\n",
    "\n",
    "Se $A$ é a matriz de adjacência de um grafo não-dirigido, o que o produto $AA^t$ representa?"
   ]
  },
  {
   "cell_type": "markdown",
   "metadata": {},
   "source": [
    "*(sua resposta)*"
   ]
  },
  {
   "cell_type": "markdown",
   "metadata": {},
   "source": [
    "### Exercício 7\n",
    "\n",
    "Se $A$ é a matriz de adjacência de um grafo dirigido, o que o produto $AA$ representa?"
   ]
  },
  {
   "cell_type": "markdown",
   "metadata": {},
   "source": [
    "*(sua resposta)*"
   ]
  },
  {
   "cell_type": "markdown",
   "metadata": {},
   "source": [
    "### Exercício 8\n",
    "\n",
    "Se $A$ é a matriz de adjacência de um grafo dirigido, o que o produto $AA^t$ representa?"
   ]
  },
  {
   "cell_type": "markdown",
   "metadata": {},
   "source": [
    "*(sua resposta)*"
   ]
  },
  {
   "cell_type": "markdown",
   "metadata": {},
   "source": [
    "Em encontros futuros, veremos como alguns dos conceitos das primeiras seções podem ser usados em análise de redes sociais."
   ]
  }
 ],
 "metadata": {
  "kernelspec": {
   "display_name": "Python 3",
   "language": "python",
   "name": "python3"
  },
  "language_info": {
   "codemirror_mode": {
    "name": "ipython",
    "version": 3
   },
   "file_extension": ".py",
   "mimetype": "text/x-python",
   "name": "python",
   "nbconvert_exporter": "python",
   "pygments_lexer": "ipython3",
   "version": "3.6.1"
  }
 },
 "nbformat": 4,
 "nbformat_minor": 1
}
