{
 "cells": [
  {
   "cell_type": "markdown",
   "metadata": {},
   "source": [
    "# Encontro 07: Simulação e Demonstração de Hub/Authority\n",
    "\n",
    "Importando as bibliotecas:"
   ]
  },
  {
   "cell_type": "code",
   "execution_count": null,
   "metadata": {
    "collapsed": true,
    "scrolled": true
   },
   "outputs": [],
   "source": [
    "import sys\n",
    "sys.path.append('..')\n",
    "\n",
    "import numpy as np\n",
    "import socnet as sn"
   ]
  },
  {
   "cell_type": "markdown",
   "metadata": {},
   "source": [
    "Configurando a biblioteca:"
   ]
  },
  {
   "cell_type": "code",
   "execution_count": null,
   "metadata": {
    "collapsed": true
   },
   "outputs": [],
   "source": [
    "sn.graph_width = 225\n",
    "sn.graph_height = 225"
   ]
  },
  {
   "cell_type": "markdown",
   "metadata": {},
   "source": [
    "Carregando o grafo:"
   ]
  },
  {
   "cell_type": "code",
   "execution_count": null,
   "metadata": {
    "collapsed": true
   },
   "outputs": [],
   "source": [
    "g = sn.load_graph('graph.gml', has_pos=True)\n",
    "\n",
    "sn.show_graph(g)"
   ]
  },
  {
   "cell_type": "markdown",
   "metadata": {},
   "source": [
    "Vamos fazer uma simulação de $k$ iterações do algoritmo Hub/Authority:"
   ]
  },
  {
   "cell_type": "code",
   "execution_count": null,
   "metadata": {
    "collapsed": true
   },
   "outputs": [],
   "source": [
    "k = 10\n",
    "\n",
    "# inicializa arbitrariamente hubs\n",
    "g.node[0]['h'] = 0\n",
    "g.node[1]['h'] = 0\n",
    "g.node[2]['h'] = 0\n",
    "g.node[3]['h'] = 0\n",
    "\n",
    "# inicializa arbitrariamente authorities\n",
    "g.node[0]['a'] = 2\n",
    "g.node[1]['a'] = 6\n",
    "g.node[2]['a'] = 4\n",
    "g.node[3]['a'] = 3\n",
    "\n",
    "for _ in range(k):\n",
    "    # atualiza hubs a partir de authorities\n",
    "    for n in g.nodes():\n",
    "        g.node[n]['h'] = sum([g.node[m]['a'] for m in g.successors(n)])\n",
    "\n",
    "    # atualiza authorities a partir de hubs\n",
    "    for n in g.nodes():\n",
    "        g.node[n]['a'] = sum([g.node[m]['h'] for m in g.predecessors(n)])\n",
    "\n",
    "# soma hubs\n",
    "sh = sum([g.node[n]['h'] for n in g.nodes()])\n",
    "\n",
    "# soma authorities\n",
    "sa = sum([g.node[n]['a'] for n in g.nodes()])\n",
    "\n",
    "# imprime hubs e authorities normalizados\n",
    "for n in g.nodes():\n",
    "    print('{}: hub {:04.2f}, authority {:04.2f}'.format(n, g.node[n]['h'] / sh, g.node[n]['a'] / sa))"
   ]
  },
  {
   "cell_type": "markdown",
   "metadata": {},
   "source": [
    "Considere as seguintes definições:\n",
    "\n",
    "* $A$ é a matriz de adjacência de `g`;\n",
    "* $h^k$ é o vetor de hubs no final da iteração $k$;\n",
    "* $a^k$ é o vetor de authorities no final da iteração $k$.\n",
    "\n",
    "Note que:\n",
    "\n",
    "* $h^k = Aa^{k-1}$;\n",
    "* $a^k = A^th^k$.\n",
    "\n",
    "Vamos fazer uma nova simulação de $k$ iterações do algoritmo Hub/Authority, desta vez usando álgebra matricial:"
   ]
  },
  {
   "cell_type": "code",
   "execution_count": null,
   "metadata": {
    "collapsed": true
   },
   "outputs": [],
   "source": [
    "k = 10\n",
    "\n",
    "# constrói matriz de adjacência\n",
    "A = sn.build_matrix(g)\n",
    "\n",
    "# constrói matriz transposta\n",
    "At = A.transpose()\n",
    "\n",
    "# inicializa arbitrariamente hubs\n",
    "h = np.array([[0], [0], [0], [0]])\n",
    "\n",
    "# inicializa arbitrariamente authorities\n",
    "a = np.array([[2], [6], [4], [3]])\n",
    "\n",
    "for _ in range(k):\n",
    "    # atualiza hubs a partir de authorities\n",
    "    h = A.dot(a)\n",
    "\n",
    "    # atualiza authorities a partir de hubs\n",
    "    a = At.dot(h)\n",
    "\n",
    "# soma hubs\n",
    "sh = np.sum(h)\n",
    "\n",
    "# soma authorities\n",
    "sa = np.sum(a)\n",
    "\n",
    "# imprime hubs e authorities normalizados\n",
    "for n in g.nodes():\n",
    "    print('{}: hub {:04.2f}, authority {:04.2f}'.format(n, h[n, 0] / sh, a[n, 0] / sa))"
   ]
  },
  {
   "cell_type": "markdown",
   "metadata": {},
   "source": [
    "Nas duas simulações, modifique o valor de $k$ e note que os valores de hub e authority convergem.\n",
    "\n",
    "Mas por que convergem? Tivemos sorte em relação à matriz? Tivemos sorte em relação aos valores iniciais?\n",
    "\n",
    "Para entender, vamos desenvolver as igualdades anteriores:\n",
    "\n",
    "* $h^k = Aa^{k-1} = AA^th^{k-1} = AA^tAa^{k-2} = AA^tAA^th^{k-2} = \\cdots = (AA^t)^k a^0$;\n",
    "* $a^k = A^th^k = A^tAa^{k-1} = A^tAA^th^{k-1} = A^tAA^tAa^{k-2} = \\cdots = (A^tA)^k a^0$.\n",
    "\n",
    "Ou seja:\n",
    "\n",
    "* $h^k$ é o resultado de multiplicar $k$ vezes a matriz $AA^t$ pelo vetor de authorities inicial;\n",
    "* $a^k$ é o resultado de multiplicar $k$ vezes a matriz $A^tA$ pelo vetor de authorities inicial.\n",
    "\n",
    "Vamos demonstrar que $h^k$ converge de alguma forma conforme $k$ cresce, desde que $a_0$ seja positivo.\n",
    "\n",
    "Por simplicidade, vamos usar o seguinte teorema como caixa-preta: *para toda matriz simétrica $n \\times n$, existe um conjunto de $n$ autovetores dessa matriz que são versores mutuamente ortogonais e, portanto, uma base de $\\mathbb{R}^n$*.\n",
    "\n",
    "Embora $A$ não seja simétrica, podemos observar que $AA^t$ é simétrica. Então sejam $e_0, \\ldots, e_{n-1}$ os autovetores de $AA^t$ mencionados pelo teorema e sejam $\\lambda_0, \\ldots, \\lambda_{n-1}$ os autovalores correspondentes. Como esses autovetores são uma base, então existem coeficientes $\\gamma_0, \\ldots, \\gamma_{n-1}$ tais que:\n",
    "\n",
    "$$a^0 = \\gamma_0 e_0 + \\cdots + \\gamma_{n-1} e_{n-1}$$\n",
    "\n",
    "Disso segue que:\n",
    "\n",
    "$$h^k = (AA^t)^k a^0 = (AA^t)^k \\gamma_0 e_0 + \\cdots + (AA^t)^k \\gamma_{n-1} e_{n-1} = \\lambda^k_0 \\gamma_0 e_0 + \\cdots + \\lambda^k_{n-1} \\gamma_{n-1} e_{n-1}$$\n",
    "\n",
    "Isso não parece convergir... De fato, sabemos que o *módulo* de $h^k$ pode não convergir, pois os hubs podem crescer indefinidamente.\n",
    "\n",
    "Por outro lado, podemos demonstrar que a *direção* de $h^k$ converge. Considere uma versão escalada do cálculo de $h_k$, na qual o resultado é dividido por uma constante $\\lambda$ após cada multiplicação.\n",
    "\n",
    "$$\\frac{h^k}{\\lambda^k}  = \\frac{\\lambda^k_0}{\\lambda^k} \\gamma_0 e_0 + \\cdots + \\frac{\\lambda^k_{n-1}}{\\lambda^k} \\gamma_{n-1} e_{n-1} = \\left(\\frac{\\lambda_0}{\\lambda}\\right)^k \\gamma_0 e_0 + \\cdots + \\left(\\frac{\\lambda_{n-1}}{\\lambda}\\right)^k \\gamma_{n-1} e_{n-1}$$\n",
    "\n",
    "Se $\\lambda$ for o maior valor absoluto dentre os autovalores, podemos observar que essa versão escalada converge.\n",
    "\n",
    "A demonstração da convergência de $a^k$ é análoga. "
   ]
  }
 ],
 "metadata": {
  "kernelspec": {
   "display_name": "Python 3",
   "language": "python",
   "name": "python3"
  },
  "language_info": {
   "codemirror_mode": {
    "name": "ipython",
    "version": 3
   },
   "file_extension": ".py",
   "mimetype": "text/x-python",
   "name": "python",
   "nbconvert_exporter": "python",
   "pygments_lexer": "ipython3",
   "version": "3.6.1"
  }
 },
 "nbformat": 4,
 "nbformat_minor": 1
}
