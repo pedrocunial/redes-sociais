{
 "cells": [
  {
   "cell_type": "markdown",
   "metadata": {},
   "source": [
    "# Encontro 07: Simulação e Demonstração de PageRank\n",
    "\n",
    "Importando as bibliotecas:"
   ]
  },
  {
   "cell_type": "code",
   "execution_count": 6,
   "metadata": {
    "scrolled": true
   },
   "outputs": [],
   "source": [
    "import sys\n",
    "sys.path.append('..')\n",
    "\n",
    "import numpy as np\n",
    "import socnet as sn"
   ]
  },
  {
   "cell_type": "markdown",
   "metadata": {},
   "source": [
    "Configurando a biblioteca:"
   ]
  },
  {
   "cell_type": "code",
   "execution_count": 7,
   "metadata": {
    "collapsed": true
   },
   "outputs": [],
   "source": [
    "sn.graph_width = 225\n",
    "sn.graph_height = 225"
   ]
  },
  {
   "cell_type": "markdown",
   "metadata": {},
   "source": [
    "Carregando o grafo:"
   ]
  },
  {
   "cell_type": "code",
   "execution_count": 8,
   "metadata": {},
   "outputs": [
    {
     "data": {
      "application/vnd.plotly.v1+json": {
       "data": [
        {
         "hoverinfo": "none",
         "line": {
          "color": "rgb(0, 0, 0)",
          "width": 2
         },
         "mode": "lines",
         "x": [
          1,
          0.625,
          null,
          0.6586134453781513,
          0.6666251600140538,
          null,
          0.6586134453781513,
          0.7095988777600889,
          null,
          1,
          1,
          null,
          1,
          0.9731414264087281,
          null,
          1,
          1.0268585735912719,
          null,
          0.625,
          0,
          null,
          0.056022408963585436,
          0.10518669814511893,
          null,
          0.056022408963585436,
          0.10518669814511893,
          null,
          0.625,
          1,
          null,
          0.9663865546218487,
          0.9154011222399111,
          null,
          0.9663865546218487,
          0.9583748399859462,
          null,
          0,
          1,
          null,
          0.9498920341176518,
          0.9179296763132582,
          null,
          0.9498920341176518,
          0.8939066377817523,
          null,
          1,
          0,
          null,
          0.050107965882348234,
          0.1060933622182477,
          null,
          0.050107965882348234,
          0.08207032368674187,
          null
         ],
         "y": [
          1,
          0.5,
          null,
          0.5448179271708683,
          0.6002645026708582,
          null,
          0.5448179271708683,
          0.568034214361332,
          null,
          1,
          0,
          null,
          0.056022408963585436,
          0.10518669814511893,
          null,
          0.056022408963585436,
          0.10518669814511893,
          null,
          0.5,
          0.5,
          null,
          0.5,
          0.5268585735912719,
          null,
          0.5,
          0.47314142640872814,
          null,
          0.5,
          0,
          null,
          0.04481792717086835,
          0.06803421436133202,
          null,
          0.04481792717086835,
          0.10026450267085826,
          null,
          0.5,
          1,
          null,
          0.9749460170588259,
          0.9289360399922468,
          null,
          0.9749460170588259,
          0.9769821170552584,
          null,
          0,
          0.5,
          null,
          0.4749460170588259,
          0.47698211705525845,
          null,
          0.4749460170588259,
          0.4289360399922468,
          null
         ]
        },
        {
         "hoverinfo": "none",
         "marker": {
          "color": "rgb(255, 255, 255)",
          "line": {
           "color": "rgb(0, 0, 0)",
           "width": 2
          },
          "size": 20
         },
         "mode": "markers+text",
         "text": [],
         "textfont": {
          "color": "rgb(0, 0, 0)"
         },
         "textposition": "middle center",
         "x": [
          1,
          0.625,
          0,
          1
         ],
         "y": [
          1,
          0.5,
          0.5,
          0
         ]
        }
       ],
       "layout": {
        "height": 225,
        "margin": {
         "b": 0,
         "l": 0,
         "r": 0,
         "t": 0
        },
        "showlegend": false,
        "width": 225,
        "xaxis": {
         "showgrid": false,
         "showticklabels": false,
         "zeroline": false
        },
        "yaxis": {
         "showgrid": false,
         "showticklabels": false,
         "zeroline": false
        }
       }
      },
      "text/html": [
       "<div id=\"7b9818f3-51aa-439f-8dab-b372416cb7ee\" style=\"height: 225px; width: 225px;\" class=\"plotly-graph-div\"></div><script type=\"text/javascript\">require([\"plotly\"], function(Plotly) { window.PLOTLYENV=window.PLOTLYENV || {};window.PLOTLYENV.BASE_URL=\"https://plot.ly\";Plotly.newPlot(\"7b9818f3-51aa-439f-8dab-b372416cb7ee\", [{\"line\": {\"width\": 2, \"color\": \"rgb(0, 0, 0)\"}, \"y\": [1.0, 0.5, null, 0.5448179271708683, 0.6002645026708582, null, 0.5448179271708683, 0.568034214361332, null, 1.0, 0.0, null, 0.056022408963585436, 0.10518669814511893, null, 0.056022408963585436, 0.10518669814511893, null, 0.5, 0.5, null, 0.5, 0.5268585735912719, null, 0.5, 0.47314142640872814, null, 0.5, 0.0, null, 0.04481792717086835, 0.06803421436133202, null, 0.04481792717086835, 0.10026450267085826, null, 0.5, 1.0, null, 0.9749460170588259, 0.9289360399922468, null, 0.9749460170588259, 0.9769821170552584, null, 0.0, 0.5, null, 0.4749460170588259, 0.47698211705525845, null, 0.4749460170588259, 0.4289360399922468, null], \"mode\": \"lines\", \"x\": [1.0, 0.625, null, 0.6586134453781513, 0.6666251600140538, null, 0.6586134453781513, 0.7095988777600889, null, 1.0, 1.0, null, 1.0, 0.9731414264087281, null, 1.0, 1.0268585735912719, null, 0.625, 0.0, null, 0.056022408963585436, 0.10518669814511893, null, 0.056022408963585436, 0.10518669814511893, null, 0.625, 1.0, null, 0.9663865546218487, 0.9154011222399111, null, 0.9663865546218487, 0.9583748399859462, null, 0.0, 1.0, null, 0.9498920341176518, 0.9179296763132582, null, 0.9498920341176518, 0.8939066377817523, null, 1.0, 0.0, null, 0.050107965882348234, 0.1060933622182477, null, 0.050107965882348234, 0.08207032368674187, null], \"hoverinfo\": \"none\"}, {\"textposition\": \"middle center\", \"y\": [1.0, 0.5, 0.5, 0.0], \"text\": [], \"x\": [1.0, 0.625, 0.0, 1.0], \"mode\": \"markers+text\", \"textfont\": {\"color\": \"rgb(0, 0, 0)\"}, \"marker\": {\"line\": {\"width\": 2, \"color\": \"rgb(0, 0, 0)\"}, \"color\": \"rgb(255, 255, 255)\", \"size\": 20}, \"hoverinfo\": \"none\"}], {\"margin\": {\"b\": 0, \"l\": 0, \"r\": 0, \"t\": 0}, \"width\": 225, \"height\": 225, \"xaxis\": {\"showgrid\": false, \"zeroline\": false, \"showticklabels\": false}, \"yaxis\": {\"showgrid\": false, \"zeroline\": false, \"showticklabels\": false}, \"showlegend\": false}, {\"showLink\": false, \"linkText\": \"Export to plot.ly\", \"displayModeBar\": false})});</script>"
      ],
      "text/vnd.plotly.v1+html": [
       "<div id=\"7b9818f3-51aa-439f-8dab-b372416cb7ee\" style=\"height: 225px; width: 225px;\" class=\"plotly-graph-div\"></div><script type=\"text/javascript\">require([\"plotly\"], function(Plotly) { window.PLOTLYENV=window.PLOTLYENV || {};window.PLOTLYENV.BASE_URL=\"https://plot.ly\";Plotly.newPlot(\"7b9818f3-51aa-439f-8dab-b372416cb7ee\", [{\"line\": {\"width\": 2, \"color\": \"rgb(0, 0, 0)\"}, \"y\": [1.0, 0.5, null, 0.5448179271708683, 0.6002645026708582, null, 0.5448179271708683, 0.568034214361332, null, 1.0, 0.0, null, 0.056022408963585436, 0.10518669814511893, null, 0.056022408963585436, 0.10518669814511893, null, 0.5, 0.5, null, 0.5, 0.5268585735912719, null, 0.5, 0.47314142640872814, null, 0.5, 0.0, null, 0.04481792717086835, 0.06803421436133202, null, 0.04481792717086835, 0.10026450267085826, null, 0.5, 1.0, null, 0.9749460170588259, 0.9289360399922468, null, 0.9749460170588259, 0.9769821170552584, null, 0.0, 0.5, null, 0.4749460170588259, 0.47698211705525845, null, 0.4749460170588259, 0.4289360399922468, null], \"mode\": \"lines\", \"x\": [1.0, 0.625, null, 0.6586134453781513, 0.6666251600140538, null, 0.6586134453781513, 0.7095988777600889, null, 1.0, 1.0, null, 1.0, 0.9731414264087281, null, 1.0, 1.0268585735912719, null, 0.625, 0.0, null, 0.056022408963585436, 0.10518669814511893, null, 0.056022408963585436, 0.10518669814511893, null, 0.625, 1.0, null, 0.9663865546218487, 0.9154011222399111, null, 0.9663865546218487, 0.9583748399859462, null, 0.0, 1.0, null, 0.9498920341176518, 0.9179296763132582, null, 0.9498920341176518, 0.8939066377817523, null, 1.0, 0.0, null, 0.050107965882348234, 0.1060933622182477, null, 0.050107965882348234, 0.08207032368674187, null], \"hoverinfo\": \"none\"}, {\"textposition\": \"middle center\", \"y\": [1.0, 0.5, 0.5, 0.0], \"text\": [], \"x\": [1.0, 0.625, 0.0, 1.0], \"mode\": \"markers+text\", \"textfont\": {\"color\": \"rgb(0, 0, 0)\"}, \"marker\": {\"line\": {\"width\": 2, \"color\": \"rgb(0, 0, 0)\"}, \"color\": \"rgb(255, 255, 255)\", \"size\": 20}, \"hoverinfo\": \"none\"}], {\"margin\": {\"b\": 0, \"l\": 0, \"r\": 0, \"t\": 0}, \"width\": 225, \"height\": 225, \"xaxis\": {\"showgrid\": false, \"zeroline\": false, \"showticklabels\": false}, \"yaxis\": {\"showgrid\": false, \"zeroline\": false, \"showticklabels\": false}, \"showlegend\": false}, {\"showLink\": false, \"linkText\": \"Export to plot.ly\", \"displayModeBar\": false})});</script>"
      ]
     },
     "metadata": {},
     "output_type": "display_data"
    }
   ],
   "source": [
    "g = sn.load_graph('graph.gml', has_pos=True)\n",
    "\n",
    "sn.show_graph(g)"
   ]
  },
  {
   "cell_type": "markdown",
   "metadata": {},
   "source": [
    "Vamos fazer uma simulação de $k$ iterações do algoritmo PageRank:"
   ]
  },
  {
   "cell_type": "code",
   "execution_count": 9,
   "metadata": {},
   "outputs": [
    {
     "name": "stdout",
     "output_type": "stream",
     "text": [
      "0: rank 0.29\n",
      "1: rank 0.17\n",
      "2: rank 0.30\n",
      "3: rank 0.24\n"
     ]
    }
   ],
   "source": [
    "k = 10\n",
    "\n",
    "scale = 0.8\n",
    "\n",
    "residue = (1 - scale) / g.number_of_nodes()\n",
    "\n",
    "# inicializa ranks\n",
    "\n",
    "rank = 1 / g.number_of_nodes()\n",
    "\n",
    "g.node[0]['r'] = rank\n",
    "g.node[1]['r'] = rank\n",
    "g.node[2]['r'] = rank\n",
    "g.node[3]['r'] = rank\n",
    "\n",
    "for _ in range(k):\n",
    "    # calcula quanto cada nó recebe\n",
    "\n",
    "    received = {n: 0 for n in g.nodes()}\n",
    "\n",
    "    for n in g.nodes():\n",
    "        sent = g.node[n]['r'] / len(g.successors(n))\n",
    "\n",
    "        for m in g.successors(n):\n",
    "            received[m] += sent\n",
    "\n",
    "    # atualiza quanto cada nó tem, considerando escala e resíduo\n",
    "\n",
    "    for n in g.nodes():\n",
    "        g.node[n]['r'] = scale * received[n] + residue\n",
    "\n",
    "# imprime ranks\n",
    "\n",
    "for n in g.nodes():\n",
    "    print('{}: rank {:04.2f}'.format(n, g.node[n]['r']))"
   ]
  },
  {
   "cell_type": "markdown",
   "metadata": {},
   "source": [
    "Seja $(N, E)$ o grafo `g` e considere as seguintes definições:\n",
    "\n",
    "* $R \\in \\mathbb{R}^{|N| \\times |N|}$ é uma matriz tal que, denotando por $\\rho_{ij}$ o elemento na linha $i$ e coluna $j$, temos que $\\rho_{ij} = \\frac{1}{|\\mathcal{S}(i)|}$ se $(i, j) \\in E$ e $\\rho_{ij} = 0$ caso contrário, lembrando que $|\\mathcal{S}(i)|$ é o número de sucessores de $i$;\n",
    "* $s$ é o fator de escala;\n",
    "* $r$ é o resíduo, ou seja $\\frac{1 - s}{|N|}$;\n",
    "* $\\tilde{R}$ é a matriz obtida quando cada elemento de $R$ é multiplicado por $s$ e somado a $r$;\n",
    "* $r^k$ é o vetor de ranks na iteração $k$.\n",
    "\n",
    "Note que:\n",
    "\n",
    "* $r^k = \\tilde{R}^tr^{k-1}$.\n",
    "\n",
    "Vamos fazer uma nova simulação de $k$ iterações do algoritmo PageRank, desta vez usando álgebra matricial:"
   ]
  },
  {
   "cell_type": "code",
   "execution_count": 10,
   "metadata": {},
   "outputs": [
    {
     "name": "stdout",
     "output_type": "stream",
     "text": [
      "0: rank 0.29\n",
      "1: rank 0.17\n",
      "2: rank 0.30\n",
      "3: rank 0.24\n"
     ]
    }
   ],
   "source": [
    "k = 10\n",
    "\n",
    "scale = 0.8\n",
    "\n",
    "residue = (1 - scale) / g.number_of_nodes()\n",
    "\n",
    "# constrói matriz de atualização\n",
    "R = sn.build_matrix(g)\n",
    "for n in g.nodes():\n",
    "    R[n,] /= np.sum(R[n,])\n",
    "R = scale * R + residue\n",
    "\n",
    "# constrói matriz transposta\n",
    "Rt = R.transpose()\n",
    "\n",
    "# inicializa ranks\n",
    "rank = 1 / g.number_of_nodes()\n",
    "r = np.array([[rank], [rank], [rank], [rank]])\n",
    "\n",
    "for _ in range(k):\n",
    "    r = Rt.dot(r)\n",
    "\n",
    "# imprime ranks\n",
    "for n in g.nodes():\n",
    "    print('{}: rank {:04.2f}'.format(n, r[n, 0]))"
   ]
  },
  {
   "cell_type": "markdown",
   "metadata": {},
   "source": [
    "Nas duas simulações, modifique o valor de $k$ e note que os valores de rank convergem.\n",
    "\n",
    "Mas por que convergem? Tivemos sorte em relação à matriz? Tivemos sorte em relação aos valores iniciais?\n",
    "\n",
    "Para entender, vamos desenvolver a igualdade anterior:\n",
    "\n",
    "* $r^k = \\tilde{R}^tr^{k-1} = \\tilde{R}^t\\tilde{R}^tr^{k-1} = (\\tilde{R}^t)^kr^0$.\n",
    "\n",
    "Ou seja:\n",
    "\n",
    "* $r^k$ é o resultado de multiplicar $k$ vezes a matriz $\\tilde{R}^t$ pelo vetor de ranks inicial.\n",
    "\n",
    "Não vamos demonstrar que $r^k$ converge, mas o argumento baseia-se no *Teorema de Perron-Frobenius*, que garante convergência para um autovetor se a matriz for positiva. Não temos essa garantia em relação à matriz $R$, mas temos em relação a $\\tilde{R}$."
   ]
  },
  {
   "cell_type": "code",
   "execution_count": null,
   "metadata": {
    "collapsed": true
   },
   "outputs": [],
   "source": []
  },
  {
   "cell_type": "code",
   "execution_count": null,
   "metadata": {
    "collapsed": true
   },
   "outputs": [],
   "source": []
  }
 ],
 "metadata": {
  "kernelspec": {
   "display_name": "Python 3",
   "language": "python",
   "name": "python3"
  },
  "language_info": {
   "codemirror_mode": {
    "name": "ipython",
    "version": 3
   },
   "file_extension": ".py",
   "mimetype": "text/x-python",
   "name": "python",
   "nbconvert_exporter": "python",
   "pygments_lexer": "ipython3",
   "version": "3.5.3"
  }
 },
 "nbformat": 4,
 "nbformat_minor": 1
}
