{
 "cells": [
  {
   "cell_type": "markdown",
   "metadata": {},
   "source": [
    "# Encontro 06: Simulação de Negociações\n",
    "\n",
    "Importando a biblioteca:"
   ]
  },
  {
   "cell_type": "code",
   "execution_count": null,
   "metadata": {
    "collapsed": true,
    "scrolled": true
   },
   "outputs": [],
   "source": [
    "import sys\n",
    "sys.path.append('..')\n",
    "\n",
    "import socnet as sn"
   ]
  },
  {
   "cell_type": "markdown",
   "metadata": {},
   "source": [
    "Configurando a biblioteca:"
   ]
  },
  {
   "cell_type": "code",
   "execution_count": null,
   "metadata": {
    "collapsed": true
   },
   "outputs": [],
   "source": [
    "sn.graph_width = 360\n",
    "sn.graph_height = 360\n",
    "sn.node_size = 25\n",
    "\n",
    "\n",
    "def load_graph(path):\n",
    "    g = sn.load_graph(path, has_pos=True)\n",
    "\n",
    "    for n, m in g.edges():\n",
    "        g.edge[n][m]['strong'] = bool(g.edge[n][m]['strong'])\n",
    "\n",
    "    return g\n",
    "\n",
    "\n",
    "def set_colors(g):\n",
    "    for n, m in g.edges():\n",
    "        if g.edge[n][m]['strong']:\n",
    "            g.edge[n][m]['color'] = (0, 0, 0)\n",
    "        else:\n",
    "            g.edge[n][m]['color'] = (192, 192, 192)\n",
    "\n",
    "\n",
    "def show_graph(g):\n",
    "    set_colors(g)\n",
    "\n",
    "    sn.show_graph(g, nlab=True)"
   ]
  },
  {
   "cell_type": "markdown",
   "metadata": {},
   "source": [
    "O objetivo desta atividade é escrever uma simulação **animada** de negociações e executá-la sobre seis grafos diferentes."
   ]
  },
  {
   "cell_type": "markdown",
   "metadata": {},
   "source": [
    "Primeiro grafo:"
   ]
  },
  {
   "cell_type": "code",
   "execution_count": null,
   "metadata": {
    "collapsed": true
   },
   "outputs": [],
   "source": [
    "g1 = load_graph('power-1.gml')\n",
    "\n",
    "show_graph(g1)"
   ]
  },
  {
   "cell_type": "markdown",
   "metadata": {},
   "source": [
    "Segundo grafo:"
   ]
  },
  {
   "cell_type": "code",
   "execution_count": null,
   "metadata": {
    "collapsed": true
   },
   "outputs": [],
   "source": [
    "g2 = load_graph('power-2.gml')\n",
    "\n",
    "show_graph(g2)"
   ]
  },
  {
   "cell_type": "markdown",
   "metadata": {},
   "source": [
    "Terceiro grafo:"
   ]
  },
  {
   "cell_type": "code",
   "execution_count": null,
   "metadata": {
    "collapsed": true
   },
   "outputs": [],
   "source": [
    "g3 = load_graph('power-3.gml')\n",
    "\n",
    "show_graph(g3)"
   ]
  },
  {
   "cell_type": "markdown",
   "metadata": {},
   "source": [
    "Quarto grafo:"
   ]
  },
  {
   "cell_type": "code",
   "execution_count": null,
   "metadata": {
    "collapsed": true
   },
   "outputs": [],
   "source": [
    "g4 = load_graph('power-4.gml')\n",
    "\n",
    "show_graph(g4)"
   ]
  },
  {
   "cell_type": "markdown",
   "metadata": {},
   "source": [
    "Quinto grafo:"
   ]
  },
  {
   "cell_type": "code",
   "execution_count": null,
   "metadata": {
    "collapsed": true
   },
   "outputs": [],
   "source": [
    "g5 = load_graph('power-5.gml')\n",
    "\n",
    "show_graph(g5)"
   ]
  },
  {
   "cell_type": "markdown",
   "metadata": {},
   "source": [
    "Sexto grafo:"
   ]
  },
  {
   "cell_type": "code",
   "execution_count": null,
   "metadata": {
    "collapsed": true
   },
   "outputs": [],
   "source": [
    "g6 = load_graph('power-6.gml')\n",
    "\n",
    "show_graph(g6)"
   ]
  },
  {
   "cell_type": "markdown",
   "metadata": {},
   "source": [
    "## Definições\n",
    "\n",
    "* A **demanda** de um nó é um inteiro de $1$ a $23$.\n",
    "\n",
    "* A **oferta** de um nó $n$ para um nó $m$ é 24 menos a demanda de $n$ (se a aresta $\\{n, m\\}$ é forte) ou 8 menos a demanda de $n$ (se a aresta $\\{n, m\\}$ não é forte). Note que essa definição permite que a oferta seja negativa.\n",
    "\n",
    "* Um vizinho $m$ de $n$ é **aceitável** se a oferta de $m$ para $n$ é máxima em relação aos vizinhos de $n$ e maior ou igual que a demanda de $n$. Note que a segunda condição implica que um nó pode não ter vizinhos aceitáveis.\n",
    "\n",
    "## Algoritmo\n",
    "\n",
    "1. Inicialize a demanda de cada nó como um inteiro aleatório de $1$ a $23$.\n",
    "\n",
    "2. Para cada nó $n$, escolha aleatoriamente um (e apenas um) vizinho aceitável $m$. Defina que $n$ aceita $m$. Se não tem vizinhos aceitáveis, defina que não aceita ninguém.\n",
    "\n",
    "3. Para cada aresta $\\{n, m\\}$, defina que $n$ e $m$ fecharam se $n$ aceita $m$ e $m$ aceita $n$.\n",
    "\n",
    "4. Para cada nó $n$, incremente a demanda (se fechou e a demanda é menor que $23$) ou decremente a demanda (se não fechou e a demanda é maior que $1$).\n",
    "\n",
    "5. Repita os passos de 2 a 4 até as demandas convergirem."
   ]
  },
  {
   "cell_type": "code",
   "execution_count": null,
   "metadata": {
    "collapsed": true
   },
   "outputs": [],
   "source": [
    "from random import randint, choice\n",
    "\n",
    "TIMES = 100\n",
    "\n",
    "\n",
    "def offer(g, n, m):\n",
    "    if g.edge[n][m]['strong']:\n",
    "        return 24 - g.node[m]['demand']\n",
    "    return 8 - g.node[m]['demand']\n",
    "\n",
    "\n",
    "def snapshot(g, frames):\n",
    "    for n in g.nodes():\n",
    "        g.node[n]['label'] = str(g.node[n]['demand'])\n",
    "    frame = sn.generate_frame(g, nlab=True)\n",
    "    frames.append(frame)\n",
    "\n",
    "\n",
    "def simulate(g):\n",
    "    frames = []\n",
    "\n",
    "    for n in g.nodes():\n",
    "        g.node[n]['demand'] = randint(1, 23)\n",
    "\n",
    "    snapshot(g, frames)\n",
    "\n",
    "    for _ in range(TIMES):\n",
    "        pass # seu código\n",
    "\n",
    "    sn.show_animation(frames)\n",
    "\n",
    "\n",
    "simulate(g3)"
   ]
  },
  {
   "cell_type": "markdown",
   "metadata": {},
   "source": [
    "O vídeo `exemplo.mp4` no repositório ilustra como a simulação deve ser: as negociações são destacadas e as demandas são atualizadas."
   ]
  },
  {
   "cell_type": "markdown",
   "metadata": {},
   "source": [
    "## Avançado\n",
    "\n",
    "Na consolidação do módulo de centralidade, você pode atingir conceito avançado no objetivo **traduzir conceitos sociológicos para teoria dos grafos e algoritmos em grafos** se adicionar ao código da simulação um *cálculo de lucro acumulado*. Essa adição deve ser entregue na mesma data e deve incluir um comentário que explique *como você distribui o lucro no caso em que a soma das demandas é menor que o dinheiro disponível*.\n",
    "\n",
    "Entender esse enunciado sozinho faz parte da entrega."
   ]
  },
  {
   "cell_type": "code",
   "execution_count": null,
   "metadata": {
    "collapsed": true
   },
   "outputs": [],
   "source": []
  }
 ],
 "metadata": {
  "kernelspec": {
   "display_name": "Python 3",
   "language": "python",
   "name": "python3"
  },
  "language_info": {
   "codemirror_mode": {
    "name": "ipython",
    "version": 3
   },
   "file_extension": ".py",
   "mimetype": "text/x-python",
   "name": "python",
   "nbconvert_exporter": "python",
   "pygments_lexer": "ipython3",
   "version": "3.6.1"
  }
 },
 "nbformat": 4,
 "nbformat_minor": 1
}
