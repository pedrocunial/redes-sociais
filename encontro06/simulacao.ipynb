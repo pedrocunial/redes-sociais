{
 "cells": [
  {
   "cell_type": "markdown",
   "metadata": {},
   "source": [
    "# Encontro 06: Simulação de Negociações\n",
    "\n",
    "Importando a biblioteca:"
   ]
  },
  {
   "cell_type": "code",
   "execution_count": 1,
   "metadata": {
    "scrolled": true
   },
   "outputs": [
    {
     "data": {
      "text/html": [
       "<script>requirejs.config({paths: { 'plotly': ['https://cdn.plot.ly/plotly-latest.min']},});if(!window.Plotly) {{require(['plotly'],function(plotly) {window.Plotly=plotly;});}}</script>"
      ],
      "text/vnd.plotly.v1+html": [
       "<script>requirejs.config({paths: { 'plotly': ['https://cdn.plot.ly/plotly-latest.min']},});if(!window.Plotly) {{require(['plotly'],function(plotly) {window.Plotly=plotly;});}}</script>"
      ]
     },
     "metadata": {},
     "output_type": "display_data"
    }
   ],
   "source": [
    "import sys\n",
    "sys.path.append('..')\n",
    "\n",
    "import socnet as sn"
   ]
  },
  {
   "cell_type": "markdown",
   "metadata": {},
   "source": [
    "Configurando a biblioteca:"
   ]
  },
  {
   "cell_type": "code",
   "execution_count": 2,
   "metadata": {
    "collapsed": true
   },
   "outputs": [],
   "source": [
    "sn.graph_width = 360\n",
    "sn.graph_height = 360\n",
    "sn.node_size = 25\n",
    "\n",
    "\n",
    "def load_graph(path):\n",
    "    g = sn.load_graph(path, has_pos=True)\n",
    "\n",
    "    for n, m in g.edges():\n",
    "        g.edge[n][m]['strong'] = bool(g.edge[n][m]['strong'])\n",
    "\n",
    "    return g\n",
    "\n",
    "\n",
    "def set_colors(g):\n",
    "    for n, m in g.edges():\n",
    "        if g.edge[n][m]['strong']:\n",
    "            g.edge[n][m]['color'] = (0, 0, 0)\n",
    "        else:\n",
    "            g.edge[n][m]['color'] = (192, 192, 192)\n",
    "\n",
    "\n",
    "def show_graph(g):\n",
    "    set_colors(g)\n",
    "\n",
    "    sn.show_graph(g, nlab=True)"
   ]
  },
  {
   "cell_type": "markdown",
   "metadata": {},
   "source": [
    "O objetivo desta atividade é escrever uma simulação **animada** de negociações e executá-la sobre seis grafos diferentes."
   ]
  },
  {
   "cell_type": "markdown",
   "metadata": {},
   "source": [
    "Primeiro grafo:"
   ]
  },
  {
   "cell_type": "code",
   "execution_count": 3,
   "metadata": {},
   "outputs": [
    {
     "data": {
      "application/vnd.plotly.v1+json": {
       "data": [
        {
         "hoverinfo": "none",
         "line": {
          "color": "rgb(192, 192, 192)",
          "width": 2
         },
         "mode": "lines",
         "x": [
          0.5,
          0,
          null,
          0.5,
          1,
          null,
          0,
          1,
          null
         ],
         "y": [
          1,
          0,
          null,
          1,
          0,
          null,
          0,
          0,
          null
         ]
        },
        {
         "hoverinfo": "none",
         "line": {
          "color": "rgb(0, 0, 0)",
          "width": 2
         },
         "mode": "lines",
         "x": [
          0.5,
          0.5,
          null,
          0.5,
          0,
          null,
          0.5,
          1,
          null
         ],
         "y": [
          0.4,
          1,
          null,
          0.4,
          0,
          null,
          0.4,
          0,
          null
         ]
        },
        {
         "hoverinfo": "none",
         "marker": {
          "color": "rgb(255, 255, 255)",
          "line": {
           "color": "rgb(0, 0, 0)",
           "width": 2
          },
          "size": 25
         },
         "mode": "markers+text",
         "text": [
          "A",
          "B1",
          "B2",
          "B3"
         ],
         "textfont": {
          "color": "rgb(0, 0, 0)"
         },
         "textposition": "middle center",
         "x": [
          0.5,
          0.5,
          0,
          1
         ],
         "y": [
          0.4,
          1,
          0,
          0
         ]
        }
       ],
       "layout": {
        "height": 360,
        "margin": {
         "b": 0,
         "l": 0,
         "r": 0,
         "t": 0
        },
        "showlegend": false,
        "width": 360,
        "xaxis": {
         "showgrid": false,
         "showticklabels": false,
         "zeroline": false
        },
        "yaxis": {
         "showgrid": false,
         "showticklabels": false,
         "zeroline": false
        }
       }
      },
      "text/html": [
       "<div id=\"e2308386-0b0a-4a4a-8ff0-ff6a11b13fe8\" style=\"height: 360px; width: 360px;\" class=\"plotly-graph-div\"></div><script type=\"text/javascript\">require([\"plotly\"], function(Plotly) { window.PLOTLYENV=window.PLOTLYENV || {};window.PLOTLYENV.BASE_URL=\"https://plot.ly\";Plotly.newPlot(\"e2308386-0b0a-4a4a-8ff0-ff6a11b13fe8\", [{\"hoverinfo\": \"none\", \"y\": [1.0, 0.0, null, 1.0, 0.0, null, 0.0, 0.0, null], \"x\": [0.5, 0.0, null, 0.5, 1.0, null, 0.0, 1.0, null], \"mode\": \"lines\", \"line\": {\"color\": \"rgb(192, 192, 192)\", \"width\": 2}}, {\"hoverinfo\": \"none\", \"y\": [0.4, 1.0, null, 0.4, 0.0, null, 0.4, 0.0, null], \"x\": [0.5, 0.5, null, 0.5, 0.0, null, 0.5, 1.0, null], \"mode\": \"lines\", \"line\": {\"color\": \"rgb(0, 0, 0)\", \"width\": 2}}, {\"hoverinfo\": \"none\", \"y\": [0.4, 1.0, 0.0, 0.0], \"x\": [0.5, 0.5, 0.0, 1.0], \"textfont\": {\"color\": \"rgb(0, 0, 0)\"}, \"text\": [\"A\", \"B1\", \"B2\", \"B3\"], \"marker\": {\"color\": \"rgb(255, 255, 255)\", \"line\": {\"color\": \"rgb(0, 0, 0)\", \"width\": 2}, \"size\": 25}, \"textposition\": \"middle center\", \"mode\": \"markers+text\"}], {\"yaxis\": {\"showticklabels\": false, \"showgrid\": false, \"zeroline\": false}, \"height\": 360, \"showlegend\": false, \"margin\": {\"b\": 0, \"r\": 0, \"l\": 0, \"t\": 0}, \"width\": 360, \"xaxis\": {\"showticklabels\": false, \"showgrid\": false, \"zeroline\": false}}, {\"showLink\": false, \"displayModeBar\": false, \"linkText\": \"Export to plot.ly\"})});</script>"
      ],
      "text/vnd.plotly.v1+html": [
       "<div id=\"e2308386-0b0a-4a4a-8ff0-ff6a11b13fe8\" style=\"height: 360px; width: 360px;\" class=\"plotly-graph-div\"></div><script type=\"text/javascript\">require([\"plotly\"], function(Plotly) { window.PLOTLYENV=window.PLOTLYENV || {};window.PLOTLYENV.BASE_URL=\"https://plot.ly\";Plotly.newPlot(\"e2308386-0b0a-4a4a-8ff0-ff6a11b13fe8\", [{\"hoverinfo\": \"none\", \"y\": [1.0, 0.0, null, 1.0, 0.0, null, 0.0, 0.0, null], \"x\": [0.5, 0.0, null, 0.5, 1.0, null, 0.0, 1.0, null], \"mode\": \"lines\", \"line\": {\"color\": \"rgb(192, 192, 192)\", \"width\": 2}}, {\"hoverinfo\": \"none\", \"y\": [0.4, 1.0, null, 0.4, 0.0, null, 0.4, 0.0, null], \"x\": [0.5, 0.5, null, 0.5, 0.0, null, 0.5, 1.0, null], \"mode\": \"lines\", \"line\": {\"color\": \"rgb(0, 0, 0)\", \"width\": 2}}, {\"hoverinfo\": \"none\", \"y\": [0.4, 1.0, 0.0, 0.0], \"x\": [0.5, 0.5, 0.0, 1.0], \"textfont\": {\"color\": \"rgb(0, 0, 0)\"}, \"text\": [\"A\", \"B1\", \"B2\", \"B3\"], \"marker\": {\"color\": \"rgb(255, 255, 255)\", \"line\": {\"color\": \"rgb(0, 0, 0)\", \"width\": 2}, \"size\": 25}, \"textposition\": \"middle center\", \"mode\": \"markers+text\"}], {\"yaxis\": {\"showticklabels\": false, \"showgrid\": false, \"zeroline\": false}, \"height\": 360, \"showlegend\": false, \"margin\": {\"b\": 0, \"r\": 0, \"l\": 0, \"t\": 0}, \"width\": 360, \"xaxis\": {\"showticklabels\": false, \"showgrid\": false, \"zeroline\": false}}, {\"showLink\": false, \"displayModeBar\": false, \"linkText\": \"Export to plot.ly\"})});</script>"
      ]
     },
     "metadata": {},
     "output_type": "display_data"
    }
   ],
   "source": [
    "g1 = load_graph('power-1.gml')\n",
    "\n",
    "show_graph(g1)"
   ]
  },
  {
   "cell_type": "markdown",
   "metadata": {},
   "source": [
    "Segundo grafo:"
   ]
  },
  {
   "cell_type": "code",
<<<<<<< HEAD
   "execution_count": 4,
   "metadata": {},
   "outputs": [
    {
     "data": {
      "application/vnd.plotly.v1+json": {
       "data": [
        {
         "hoverinfo": "none",
         "line": {
          "color": "rgb(0, 0, 0)",
          "width": 2
         },
         "mode": "lines",
         "x": [
          0.5,
          0.5,
          null,
          0.5,
          0,
          null,
          0.5,
          1,
          null,
          0.5,
          0,
          null,
          0.5,
          1,
          null,
          0,
          1,
          null
         ],
         "y": [
          0.4,
          1,
          null,
          0.4,
          0,
          null,
          0.4,
          0,
          null,
          1,
          0,
          null,
          1,
          0,
          null,
          0,
          0,
          null
         ]
        },
        {
         "hoverinfo": "none",
         "marker": {
          "color": "rgb(255, 255, 255)",
          "line": {
           "color": "rgb(0, 0, 0)",
           "width": 2
          },
          "size": 25
         },
         "mode": "markers+text",
         "text": [
          "C1",
          "C2",
          "C3",
          "C4"
         ],
         "textfont": {
          "color": "rgb(0, 0, 0)"
         },
         "textposition": "middle center",
         "x": [
          0.5,
          0.5,
          0,
          1
         ],
         "y": [
          0.4,
          1,
          0,
          0
         ]
        }
       ],
       "layout": {
        "height": 360,
        "margin": {
         "b": 0,
         "l": 0,
         "r": 0,
         "t": 0
        },
        "showlegend": false,
        "width": 360,
        "xaxis": {
         "showgrid": false,
         "showticklabels": false,
         "zeroline": false
        },
        "yaxis": {
         "showgrid": false,
         "showticklabels": false,
         "zeroline": false
        }
       }
      },
      "text/html": [
       "<div id=\"11aa29d4-cd2b-4d6d-937a-e9072f6f9224\" style=\"height: 360px; width: 360px;\" class=\"plotly-graph-div\"></div><script type=\"text/javascript\">require([\"plotly\"], function(Plotly) { window.PLOTLYENV=window.PLOTLYENV || {};window.PLOTLYENV.BASE_URL=\"https://plot.ly\";Plotly.newPlot(\"11aa29d4-cd2b-4d6d-937a-e9072f6f9224\", [{\"hoverinfo\": \"none\", \"y\": [0.4, 1.0, null, 0.4, 0.0, null, 0.4, 0.0, null, 1.0, 0.0, null, 1.0, 0.0, null, 0.0, 0.0, null], \"x\": [0.5, 0.5, null, 0.5, 0.0, null, 0.5, 1.0, null, 0.5, 0.0, null, 0.5, 1.0, null, 0.0, 1.0, null], \"mode\": \"lines\", \"line\": {\"color\": \"rgb(0, 0, 0)\", \"width\": 2}}, {\"hoverinfo\": \"none\", \"y\": [0.4, 1.0, 0.0, 0.0], \"x\": [0.5, 0.5, 0.0, 1.0], \"textfont\": {\"color\": \"rgb(0, 0, 0)\"}, \"text\": [\"C1\", \"C2\", \"C3\", \"C4\"], \"marker\": {\"color\": \"rgb(255, 255, 255)\", \"line\": {\"color\": \"rgb(0, 0, 0)\", \"width\": 2}, \"size\": 25}, \"textposition\": \"middle center\", \"mode\": \"markers+text\"}], {\"yaxis\": {\"showticklabels\": false, \"showgrid\": false, \"zeroline\": false}, \"height\": 360, \"showlegend\": false, \"margin\": {\"b\": 0, \"r\": 0, \"l\": 0, \"t\": 0}, \"width\": 360, \"xaxis\": {\"showticklabels\": false, \"showgrid\": false, \"zeroline\": false}}, {\"showLink\": false, \"displayModeBar\": false, \"linkText\": \"Export to plot.ly\"})});</script>"
      ],
      "text/vnd.plotly.v1+html": [
       "<div id=\"11aa29d4-cd2b-4d6d-937a-e9072f6f9224\" style=\"height: 360px; width: 360px;\" class=\"plotly-graph-div\"></div><script type=\"text/javascript\">require([\"plotly\"], function(Plotly) { window.PLOTLYENV=window.PLOTLYENV || {};window.PLOTLYENV.BASE_URL=\"https://plot.ly\";Plotly.newPlot(\"11aa29d4-cd2b-4d6d-937a-e9072f6f9224\", [{\"hoverinfo\": \"none\", \"y\": [0.4, 1.0, null, 0.4, 0.0, null, 0.4, 0.0, null, 1.0, 0.0, null, 1.0, 0.0, null, 0.0, 0.0, null], \"x\": [0.5, 0.5, null, 0.5, 0.0, null, 0.5, 1.0, null, 0.5, 0.0, null, 0.5, 1.0, null, 0.0, 1.0, null], \"mode\": \"lines\", \"line\": {\"color\": \"rgb(0, 0, 0)\", \"width\": 2}}, {\"hoverinfo\": \"none\", \"y\": [0.4, 1.0, 0.0, 0.0], \"x\": [0.5, 0.5, 0.0, 1.0], \"textfont\": {\"color\": \"rgb(0, 0, 0)\"}, \"text\": [\"C1\", \"C2\", \"C3\", \"C4\"], \"marker\": {\"color\": \"rgb(255, 255, 255)\", \"line\": {\"color\": \"rgb(0, 0, 0)\", \"width\": 2}, \"size\": 25}, \"textposition\": \"middle center\", \"mode\": \"markers+text\"}], {\"yaxis\": {\"showticklabels\": false, \"showgrid\": false, \"zeroline\": false}, \"height\": 360, \"showlegend\": false, \"margin\": {\"b\": 0, \"r\": 0, \"l\": 0, \"t\": 0}, \"width\": 360, \"xaxis\": {\"showticklabels\": false, \"showgrid\": false, \"zeroline\": false}}, {\"showLink\": false, \"displayModeBar\": false, \"linkText\": \"Export to plot.ly\"})});</script>"
      ]
     },
     "metadata": {},
     "output_type": "display_data"
    }
   ],
   "execution_count": null,
   "metadata": {},
   "outputs": [],
   "execution_count": 5,
   "metadata": {},
   "outputs": [
    {
     "data": {
      "application/vnd.plotly.v1+json": {
       "data": [
        {
         "hoverinfo": "none",
         "line": {
          "color": "rgb(192, 192, 192)",
          "width": 2
         },
         "mode": "lines",
         "x": [
          0,
          1,
          null
         ],
         "y": [
          0,
          0,
          null
         ]
        },
        {
         "hoverinfo": "none",
         "line": {
          "color": "rgb(0, 0, 0)",
          "width": 2
         },
         "mode": "lines",
         "x": [
          0.5,
          0,
          null,
          0.5,
          1,
          null,
          0,
          0,
          null,
          1,
          1,
          null
         ],
         "y": [
          1,
          0.6,
          null,
          1,
          0.6,
          null,
          0.6,
          0,
          null,
          0.6,
          0,
          null
         ]
        },
        {
         "hoverinfo": "none",
         "marker": {
          "color": "rgb(255, 255, 255)",
          "line": {
           "color": "rgb(0, 0, 0)",
           "width": 2
          },
          "size": 25
         },
         "mode": "markers+text",
         "text": [
          "D1",
          "E1",
          "E2",
          "F1",
          "F2"
         ],
         "textfont": {
          "color": "rgb(0, 0, 0)"
         },
         "textposition": "middle center",
         "x": [
          0.5,
          0,
          1,
          0,
          1
         ],
         "y": [
          1,
          0.6,
          0.6,
          0,
          0
         ]
        }
       ],
       "layout": {
        "height": 360,
        "margin": {
         "b": 0,
         "l": 0,
         "r": 0,
         "t": 0
        },
        "showlegend": false,
        "width": 360,
        "xaxis": {
         "showgrid": false,
         "showticklabels": false,
         "zeroline": false
        },
        "yaxis": {
         "showgrid": false,
         "showticklabels": false,
         "zeroline": false
        }
       }
      },
      "text/html": [
       "<div id=\"6b76b803-d215-4f4a-bfbc-69c4dc6038ed\" style=\"height: 360px; width: 360px;\" class=\"plotly-graph-div\"></div><script type=\"text/javascript\">require([\"plotly\"], function(Plotly) { window.PLOTLYENV=window.PLOTLYENV || {};window.PLOTLYENV.BASE_URL=\"https://plot.ly\";Plotly.newPlot(\"6b76b803-d215-4f4a-bfbc-69c4dc6038ed\", [{\"hoverinfo\": \"none\", \"y\": [0.0, 0.0, null], \"x\": [0.0, 1.0, null], \"mode\": \"lines\", \"line\": {\"color\": \"rgb(192, 192, 192)\", \"width\": 2}}, {\"hoverinfo\": \"none\", \"y\": [1.0, 0.6, null, 1.0, 0.6, null, 0.6, 0.0, null, 0.6, 0.0, null], \"x\": [0.5, 0.0, null, 0.5, 1.0, null, 0.0, 0.0, null, 1.0, 1.0, null], \"mode\": \"lines\", \"line\": {\"color\": \"rgb(0, 0, 0)\", \"width\": 2}}, {\"hoverinfo\": \"none\", \"y\": [1.0, 0.6, 0.6, 0.0, 0.0], \"x\": [0.5, 0.0, 1.0, 0.0, 1.0], \"textfont\": {\"color\": \"rgb(0, 0, 0)\"}, \"text\": [\"D1\", \"E1\", \"E2\", \"F1\", \"F2\"], \"marker\": {\"color\": \"rgb(255, 255, 255)\", \"line\": {\"color\": \"rgb(0, 0, 0)\", \"width\": 2}, \"size\": 25}, \"textposition\": \"middle center\", \"mode\": \"markers+text\"}], {\"yaxis\": {\"showticklabels\": false, \"showgrid\": false, \"zeroline\": false}, \"height\": 360, \"showlegend\": false, \"margin\": {\"b\": 0, \"r\": 0, \"l\": 0, \"t\": 0}, \"width\": 360, \"xaxis\": {\"showticklabels\": false, \"showgrid\": false, \"zeroline\": false}}, {\"showLink\": false, \"displayModeBar\": false, \"linkText\": \"Export to plot.ly\"})});</script>"
      ],
      "text/vnd.plotly.v1+html": [
       "<div id=\"6b76b803-d215-4f4a-bfbc-69c4dc6038ed\" style=\"height: 360px; width: 360px;\" class=\"plotly-graph-div\"></div><script type=\"text/javascript\">require([\"plotly\"], function(Plotly) { window.PLOTLYENV=window.PLOTLYENV || {};window.PLOTLYENV.BASE_URL=\"https://plot.ly\";Plotly.newPlot(\"6b76b803-d215-4f4a-bfbc-69c4dc6038ed\", [{\"hoverinfo\": \"none\", \"y\": [0.0, 0.0, null], \"x\": [0.0, 1.0, null], \"mode\": \"lines\", \"line\": {\"color\": \"rgb(192, 192, 192)\", \"width\": 2}}, {\"hoverinfo\": \"none\", \"y\": [1.0, 0.6, null, 1.0, 0.6, null, 0.6, 0.0, null, 0.6, 0.0, null], \"x\": [0.5, 0.0, null, 0.5, 1.0, null, 0.0, 0.0, null, 1.0, 1.0, null], \"mode\": \"lines\", \"line\": {\"color\": \"rgb(0, 0, 0)\", \"width\": 2}}, {\"hoverinfo\": \"none\", \"y\": [1.0, 0.6, 0.6, 0.0, 0.0], \"x\": [0.5, 0.0, 1.0, 0.0, 1.0], \"textfont\": {\"color\": \"rgb(0, 0, 0)\"}, \"text\": [\"D1\", \"E1\", \"E2\", \"F1\", \"F2\"], \"marker\": {\"color\": \"rgb(255, 255, 255)\", \"line\": {\"color\": \"rgb(0, 0, 0)\", \"width\": 2}, \"size\": 25}, \"textposition\": \"middle center\", \"mode\": \"markers+text\"}], {\"yaxis\": {\"showticklabels\": false, \"showgrid\": false, \"zeroline\": false}, \"height\": 360, \"showlegend\": false, \"margin\": {\"b\": 0, \"r\": 0, \"l\": 0, \"t\": 0}, \"width\": 360, \"xaxis\": {\"showticklabels\": false, \"showgrid\": false, \"zeroline\": false}}, {\"showLink\": false, \"displayModeBar\": false, \"linkText\": \"Export to plot.ly\"})});</script>"
      ]
     },
     "metadata": {},
     "output_type": "display_data"
    }
   ],
   "execution_count": null,
   "metadata": {},
   "outputs": [],
   "execution_count": 6,
   "metadata": {},
   "outputs": [
    {
     "data": {
      "application/vnd.plotly.v1+json": {
       "data": [
        {
         "hoverinfo": "none",
         "line": {
          "color": "rgb(192, 192, 192)",
          "width": 2
         },
         "mode": "lines",
         "x": [
          0.5,
          0,
          null,
          0.5,
          1,
          null,
          0,
          1,
          null
         ],
         "y": [
          1,
          0,
          null,
          1,
          0,
          null,
          0,
          0,
          null
         ]
        },
        {
         "hoverinfo": "none",
         "line": {
          "color": "rgb(0, 0, 0)",
          "width": 2
         },
         "mode": "lines",
         "x": [
          0.5,
          0.5,
          null,
          0.5,
          0.25,
          null,
          0.5,
          0.75,
          null,
          0.5,
          0.5,
          null,
          0.25,
          0,
          null,
          0.75,
          1,
          null
         ],
         "y": [
          0.4,
          0.7,
          null,
          0.4,
          0.2,
          null,
          0.4,
          0.2,
          null,
          0.7,
          1,
          null,
          0.2,
          0,
          null,
          0.2,
          0,
          null
         ]
        },
        {
         "hoverinfo": "none",
         "marker": {
          "color": "rgb(255, 255, 255)",
          "line": {
           "color": "rgb(0, 0, 0)",
           "width": 2
          },
          "size": 25
         },
         "mode": "markers+text",
         "text": [
          "D2",
          "E3",
          "E4",
          "E5",
          "F3",
          "F4",
          "F5"
         ],
         "textfont": {
          "color": "rgb(0, 0, 0)"
         },
         "textposition": "middle center",
         "x": [
          0.5,
          0.5,
          0.25,
          0.75,
          0.5,
          0,
          1
         ],
         "y": [
          0.4,
          0.7,
          0.2,
          0.2,
          1,
          0,
          0
         ]
        }
       ],
       "layout": {
        "height": 360,
        "margin": {
         "b": 0,
         "l": 0,
         "r": 0,
         "t": 0
        },
        "showlegend": false,
        "width": 360,
        "xaxis": {
         "showgrid": false,
         "showticklabels": false,
         "zeroline": false
        },
        "yaxis": {
         "showgrid": false,
         "showticklabels": false,
         "zeroline": false
        }
       }
      },
      "text/html": [
       "<div id=\"65e4464d-10ac-42a5-b534-ea7999337754\" style=\"height: 360px; width: 360px;\" class=\"plotly-graph-div\"></div><script type=\"text/javascript\">require([\"plotly\"], function(Plotly) { window.PLOTLYENV=window.PLOTLYENV || {};window.PLOTLYENV.BASE_URL=\"https://plot.ly\";Plotly.newPlot(\"65e4464d-10ac-42a5-b534-ea7999337754\", [{\"hoverinfo\": \"none\", \"y\": [1.0, 0.0, null, 1.0, 0.0, null, 0.0, 0.0, null], \"x\": [0.5, 0.0, null, 0.5, 1.0, null, 0.0, 1.0, null], \"mode\": \"lines\", \"line\": {\"color\": \"rgb(192, 192, 192)\", \"width\": 2}}, {\"hoverinfo\": \"none\", \"y\": [0.4, 0.7, null, 0.4, 0.2, null, 0.4, 0.2, null, 0.7, 1.0, null, 0.2, 0.0, null, 0.2, 0.0, null], \"x\": [0.5, 0.5, null, 0.5, 0.25, null, 0.5, 0.75, null, 0.5, 0.5, null, 0.25, 0.0, null, 0.75, 1.0, null], \"mode\": \"lines\", \"line\": {\"color\": \"rgb(0, 0, 0)\", \"width\": 2}}, {\"hoverinfo\": \"none\", \"y\": [0.4, 0.7, 0.2, 0.2, 1.0, 0.0, 0.0], \"x\": [0.5, 0.5, 0.25, 0.75, 0.5, 0.0, 1.0], \"textfont\": {\"color\": \"rgb(0, 0, 0)\"}, \"text\": [\"D2\", \"E3\", \"E4\", \"E5\", \"F3\", \"F4\", \"F5\"], \"marker\": {\"color\": \"rgb(255, 255, 255)\", \"line\": {\"color\": \"rgb(0, 0, 0)\", \"width\": 2}, \"size\": 25}, \"textposition\": \"middle center\", \"mode\": \"markers+text\"}], {\"yaxis\": {\"showticklabels\": false, \"showgrid\": false, \"zeroline\": false}, \"height\": 360, \"showlegend\": false, \"margin\": {\"b\": 0, \"r\": 0, \"l\": 0, \"t\": 0}, \"width\": 360, \"xaxis\": {\"showticklabels\": false, \"showgrid\": false, \"zeroline\": false}}, {\"showLink\": false, \"displayModeBar\": false, \"linkText\": \"Export to plot.ly\"})});</script>"
      ],
      "text/vnd.plotly.v1+html": [
       "<div id=\"65e4464d-10ac-42a5-b534-ea7999337754\" style=\"height: 360px; width: 360px;\" class=\"plotly-graph-div\"></div><script type=\"text/javascript\">require([\"plotly\"], function(Plotly) { window.PLOTLYENV=window.PLOTLYENV || {};window.PLOTLYENV.BASE_URL=\"https://plot.ly\";Plotly.newPlot(\"65e4464d-10ac-42a5-b534-ea7999337754\", [{\"hoverinfo\": \"none\", \"y\": [1.0, 0.0, null, 1.0, 0.0, null, 0.0, 0.0, null], \"x\": [0.5, 0.0, null, 0.5, 1.0, null, 0.0, 1.0, null], \"mode\": \"lines\", \"line\": {\"color\": \"rgb(192, 192, 192)\", \"width\": 2}}, {\"hoverinfo\": \"none\", \"y\": [0.4, 0.7, null, 0.4, 0.2, null, 0.4, 0.2, null, 0.7, 1.0, null, 0.2, 0.0, null, 0.2, 0.0, null], \"x\": [0.5, 0.5, null, 0.5, 0.25, null, 0.5, 0.75, null, 0.5, 0.5, null, 0.25, 0.0, null, 0.75, 1.0, null], \"mode\": \"lines\", \"line\": {\"color\": \"rgb(0, 0, 0)\", \"width\": 2}}, {\"hoverinfo\": \"none\", \"y\": [0.4, 0.7, 0.2, 0.2, 1.0, 0.0, 0.0], \"x\": [0.5, 0.5, 0.25, 0.75, 0.5, 0.0, 1.0], \"textfont\": {\"color\": \"rgb(0, 0, 0)\"}, \"text\": [\"D2\", \"E3\", \"E4\", \"E5\", \"F3\", \"F4\", \"F5\"], \"marker\": {\"color\": \"rgb(255, 255, 255)\", \"line\": {\"color\": \"rgb(0, 0, 0)\", \"width\": 2}, \"size\": 25}, \"textposition\": \"middle center\", \"mode\": \"markers+text\"}], {\"yaxis\": {\"showticklabels\": false, \"showgrid\": false, \"zeroline\": false}, \"height\": 360, \"showlegend\": false, \"margin\": {\"b\": 0, \"r\": 0, \"l\": 0, \"t\": 0}, \"width\": 360, \"xaxis\": {\"showticklabels\": false, \"showgrid\": false, \"zeroline\": false}}, {\"showLink\": false, \"displayModeBar\": false, \"linkText\": \"Export to plot.ly\"})});</script>"
      ]
     },
     "metadata": {},
     "output_type": "display_data"
    }
   ],
   "execution_count": 7,
   "metadata": {},
   "outputs": [
    {
     "data": {
      "application/vnd.plotly.v1+json": {
       "data": [
        {
         "hoverinfo": "none",
         "line": {
          "color": "rgb(192, 192, 192)",
          "width": 2
         },
         "mode": "lines",
         "x": [
          0.25,
          0.75,
          null,
          0.25,
          0,
          null,
          0.75,
          1,
          null,
          0,
          0.25,
          null,
          0.25,
          0.75,
          null,
          1,
          0.75,
          null
         ],
         "y": [
          1,
          1,
          null,
          1,
          0.5,
          null,
          1,
          0.5,
          null,
          0.5,
          0,
          null,
          0,
          0,
          null,
          0.5,
          0,
          null
         ]
        },
        {
         "hoverinfo": "none",
         "line": {
          "color": "rgb(0, 0, 0)",
          "width": 2
         },
         "mode": "lines",
         "x": [
          0.5,
          0.5,
          null,
          0.5,
          0.25,
          null,
          0.5,
          0.75,
          null,
          0.5,
          0.25,
          null,
          0.5,
          0.75,
          null,
          0.25,
          0,
          null,
          0.25,
          0.25,
          null,
          0.75,
          0.75,
          null,
          0.75,
          1,
          null
         ],
         "y": [
          0.5,
          0.85,
          null,
          0.5,
          0.35,
          null,
          0.5,
          0.35,
          null,
          0.85,
          1,
          null,
          0.85,
          1,
          null,
          0.35,
          0.5,
          null,
          0.35,
          0,
          null,
          0.35,
          0,
          null,
          0.35,
          0.5,
          null
         ]
        },
        {
         "hoverinfo": "none",
         "marker": {
          "color": "rgb(255, 255, 255)",
          "line": {
           "color": "rgb(0, 0, 0)",
           "width": 2
          },
          "size": 25
         },
         "mode": "markers+text",
         "text": [
          "D3",
          "E6",
          "E7",
          "E8",
          "F6",
          "F7",
          "F8",
          "F9",
          "F10",
          "F11"
         ],
         "textfont": {
          "color": "rgb(0, 0, 0)"
         },
         "textposition": "middle center",
         "x": [
          0.5,
          0.5,
          0.25,
          0.75,
          0.25,
          0.75,
          0,
          0.25,
          1,
          0.75
         ],
         "y": [
          0.5,
          0.85,
          0.35,
          0.35,
          1,
          1,
          0.5,
          0,
          0.5,
          0
         ]
        }
       ],
       "layout": {
        "height": 360,
        "margin": {
         "b": 0,
         "l": 0,
         "r": 0,
         "t": 0
        },
        "showlegend": false,
        "width": 360,
        "xaxis": {
         "showgrid": false,
         "showticklabels": false,
         "zeroline": false
        },
        "yaxis": {
         "showgrid": false,
         "showticklabels": false,
         "zeroline": false
        }
       }
      },
      "text/html": [
       "<div id=\"c87dfb7b-10e9-4f63-80ca-aaa49cece651\" style=\"height: 360px; width: 360px;\" class=\"plotly-graph-div\"></div><script type=\"text/javascript\">require([\"plotly\"], function(Plotly) { window.PLOTLYENV=window.PLOTLYENV || {};window.PLOTLYENV.BASE_URL=\"https://plot.ly\";Plotly.newPlot(\"c87dfb7b-10e9-4f63-80ca-aaa49cece651\", [{\"hoverinfo\": \"none\", \"y\": [1.0, 1.0, null, 1.0, 0.5, null, 1.0, 0.5, null, 0.5, 0.0, null, 0.0, 0.0, null, 0.5, 0.0, null], \"x\": [0.25, 0.75, null, 0.25, 0.0, null, 0.75, 1.0, null, 0.0, 0.25, null, 0.25, 0.75, null, 1.0, 0.75, null], \"mode\": \"lines\", \"line\": {\"color\": \"rgb(192, 192, 192)\", \"width\": 2}}, {\"hoverinfo\": \"none\", \"y\": [0.5, 0.85, null, 0.5, 0.35, null, 0.5, 0.35, null, 0.85, 1.0, null, 0.85, 1.0, null, 0.35, 0.5, null, 0.35, 0.0, null, 0.35, 0.0, null, 0.35, 0.5, null], \"x\": [0.5, 0.5, null, 0.5, 0.25, null, 0.5, 0.75, null, 0.5, 0.25, null, 0.5, 0.75, null, 0.25, 0.0, null, 0.25, 0.25, null, 0.75, 0.75, null, 0.75, 1.0, null], \"mode\": \"lines\", \"line\": {\"color\": \"rgb(0, 0, 0)\", \"width\": 2}}, {\"hoverinfo\": \"none\", \"y\": [0.5, 0.85, 0.35, 0.35, 1.0, 1.0, 0.5, 0.0, 0.5, 0.0], \"x\": [0.5, 0.5, 0.25, 0.75, 0.25, 0.75, 0.0, 0.25, 1.0, 0.75], \"textfont\": {\"color\": \"rgb(0, 0, 0)\"}, \"text\": [\"D3\", \"E6\", \"E7\", \"E8\", \"F6\", \"F7\", \"F8\", \"F9\", \"F10\", \"F11\"], \"marker\": {\"color\": \"rgb(255, 255, 255)\", \"line\": {\"color\": \"rgb(0, 0, 0)\", \"width\": 2}, \"size\": 25}, \"textposition\": \"middle center\", \"mode\": \"markers+text\"}], {\"yaxis\": {\"showticklabels\": false, \"showgrid\": false, \"zeroline\": false}, \"height\": 360, \"showlegend\": false, \"margin\": {\"b\": 0, \"r\": 0, \"l\": 0, \"t\": 0}, \"width\": 360, \"xaxis\": {\"showticklabels\": false, \"showgrid\": false, \"zeroline\": false}}, {\"showLink\": false, \"displayModeBar\": false, \"linkText\": \"Export to plot.ly\"})});</script>"
      ],
      "text/vnd.plotly.v1+html": [
       "<div id=\"c87dfb7b-10e9-4f63-80ca-aaa49cece651\" style=\"height: 360px; width: 360px;\" class=\"plotly-graph-div\"></div><script type=\"text/javascript\">require([\"plotly\"], function(Plotly) { window.PLOTLYENV=window.PLOTLYENV || {};window.PLOTLYENV.BASE_URL=\"https://plot.ly\";Plotly.newPlot(\"c87dfb7b-10e9-4f63-80ca-aaa49cece651\", [{\"hoverinfo\": \"none\", \"y\": [1.0, 1.0, null, 1.0, 0.5, null, 1.0, 0.5, null, 0.5, 0.0, null, 0.0, 0.0, null, 0.5, 0.0, null], \"x\": [0.25, 0.75, null, 0.25, 0.0, null, 0.75, 1.0, null, 0.0, 0.25, null, 0.25, 0.75, null, 1.0, 0.75, null], \"mode\": \"lines\", \"line\": {\"color\": \"rgb(192, 192, 192)\", \"width\": 2}}, {\"hoverinfo\": \"none\", \"y\": [0.5, 0.85, null, 0.5, 0.35, null, 0.5, 0.35, null, 0.85, 1.0, null, 0.85, 1.0, null, 0.35, 0.5, null, 0.35, 0.0, null, 0.35, 0.0, null, 0.35, 0.5, null], \"x\": [0.5, 0.5, null, 0.5, 0.25, null, 0.5, 0.75, null, 0.5, 0.25, null, 0.5, 0.75, null, 0.25, 0.0, null, 0.25, 0.25, null, 0.75, 0.75, null, 0.75, 1.0, null], \"mode\": \"lines\", \"line\": {\"color\": \"rgb(0, 0, 0)\", \"width\": 2}}, {\"hoverinfo\": \"none\", \"y\": [0.5, 0.85, 0.35, 0.35, 1.0, 1.0, 0.5, 0.0, 0.5, 0.0], \"x\": [0.5, 0.5, 0.25, 0.75, 0.25, 0.75, 0.0, 0.25, 1.0, 0.75], \"textfont\": {\"color\": \"rgb(0, 0, 0)\"}, \"text\": [\"D3\", \"E6\", \"E7\", \"E8\", \"F6\", \"F7\", \"F8\", \"F9\", \"F10\", \"F11\"], \"marker\": {\"color\": \"rgb(255, 255, 255)\", \"line\": {\"color\": \"rgb(0, 0, 0)\", \"width\": 2}, \"size\": 25}, \"textposition\": \"middle center\", \"mode\": \"markers+text\"}], {\"yaxis\": {\"showticklabels\": false, \"showgrid\": false, \"zeroline\": false}, \"height\": 360, \"showlegend\": false, \"margin\": {\"b\": 0, \"r\": 0, \"l\": 0, \"t\": 0}, \"width\": 360, \"xaxis\": {\"showticklabels\": false, \"showgrid\": false, \"zeroline\": false}}, {\"showLink\": false, \"displayModeBar\": false, \"linkText\": \"Export to plot.ly\"})});</script>"
      ]
     },
     "metadata": {},
     "output_type": "display_data"
    }
   ],
   "execution_count": 8,
   "metadata": {},
   "outputs": [
    {
     "data": {
      "application/vnd.plotly.v1+json": {
       "data": [
        {
         "hoverinfo": "none",
         "line": {
          "color": "rgb(192, 192, 192)",
          "width": 2
         },
         "mode": "lines",
         "x": [
          0.25,
          0.5,
          null,
          0.25,
          0.05,
          null,
          0.5,
          0.75,
          null,
          0.75,
          0.95,
          null,
          0.05,
          0,
          null,
          0,
          0.25,
          null,
          0.25,
          0.75,
          null,
          0.95,
          1,
          null,
          1,
          0.75,
          null
         ],
         "y": [
          0.8,
          1,
          null,
          0.8,
          0.5,
          null,
          1,
          0.8,
          null,
          0.8,
          0.5,
          null,
          0.5,
          0.1,
          null,
          0.1,
          0,
          null,
          0,
          0,
          null,
          0.5,
          0.1,
          null,
          0.1,
          0,
          null
         ]
        },
        {
         "hoverinfo": "none",
         "line": {
          "color": "rgb(0, 0, 0)",
          "width": 2
         },
         "mode": "lines",
         "x": [
          0.5,
          0.5,
          null,
          0.5,
          0.25,
          null,
          0.5,
          0.75,
          null,
          0.5,
          0.25,
          null,
          0.5,
          0.5,
          null,
          0.5,
          0.75,
          null,
          0.25,
          0,
          null,
          0.25,
          0.25,
          null,
          0.25,
          0.05,
          null,
          0.75,
          0.95,
          null,
          0.75,
          1,
          null,
          0.75,
          0.75,
          null
         ],
         "y": [
          0.5,
          0.75,
          null,
          0.5,
          0.25,
          null,
          0.5,
          0.25,
          null,
          0.75,
          0.8,
          null,
          0.75,
          1,
          null,
          0.75,
          0.8,
          null,
          0.25,
          0.1,
          null,
          0.25,
          0,
          null,
          0.25,
          0.5,
          null,
          0.25,
          0.5,
          null,
          0.25,
          0.1,
          null,
          0.25,
          0,
          null
         ]
        },
        {
         "hoverinfo": "none",
         "marker": {
          "color": "rgb(255, 255, 255)",
          "line": {
           "color": "rgb(0, 0, 0)",
           "width": 2
          },
          "size": 25
         },
         "mode": "markers+text",
         "text": [
          "D4",
          "E9",
          "E10",
          "E11",
          "F12",
          "F13",
          "F14",
          "F15",
          "F16",
          "F17",
          "F18",
          "F19",
          "F20"
         ],
         "textfont": {
          "color": "rgb(0, 0, 0)"
         },
         "textposition": "middle center",
         "x": [
          0.5,
          0.5,
          0.25,
          0.75,
          0.25,
          0.5,
          0.75,
          0.05,
          0,
          0.25,
          0.95,
          1,
          0.75
         ],
         "y": [
          0.5,
          0.75,
          0.25,
          0.25,
          0.8,
          1,
          0.8,
          0.5,
          0.1,
          0,
          0.5,
          0.1,
          0
         ]
        }
       ],
       "layout": {
        "height": 360,
        "margin": {
         "b": 0,
         "l": 0,
         "r": 0,
         "t": 0
        },
        "showlegend": false,
        "width": 360,
        "xaxis": {
         "showgrid": false,
         "showticklabels": false,
         "zeroline": false
        },
        "yaxis": {
         "showgrid": false,
         "showticklabels": false,
         "zeroline": false
        }
       }
      },
      "text/html": [
       "<div id=\"5841e5d0-e475-4146-9985-ba0ed2909bd9\" style=\"height: 360px; width: 360px;\" class=\"plotly-graph-div\"></div><script type=\"text/javascript\">require([\"plotly\"], function(Plotly) { window.PLOTLYENV=window.PLOTLYENV || {};window.PLOTLYENV.BASE_URL=\"https://plot.ly\";Plotly.newPlot(\"5841e5d0-e475-4146-9985-ba0ed2909bd9\", [{\"hoverinfo\": \"none\", \"y\": [0.8, 1.0, null, 0.8, 0.5, null, 1.0, 0.8, null, 0.8, 0.5, null, 0.5, 0.1, null, 0.1, 0.0, null, 0.0, 0.0, null, 0.5, 0.1, null, 0.1, 0.0, null], \"x\": [0.25, 0.5, null, 0.25, 0.05, null, 0.5, 0.75, null, 0.75, 0.95, null, 0.05, 0.0, null, 0.0, 0.25, null, 0.25, 0.75, null, 0.95, 1.0, null, 1.0, 0.75, null], \"mode\": \"lines\", \"line\": {\"color\": \"rgb(192, 192, 192)\", \"width\": 2}}, {\"hoverinfo\": \"none\", \"y\": [0.5, 0.75, null, 0.5, 0.25, null, 0.5, 0.25, null, 0.75, 0.8, null, 0.75, 1.0, null, 0.75, 0.8, null, 0.25, 0.1, null, 0.25, 0.0, null, 0.25, 0.5, null, 0.25, 0.5, null, 0.25, 0.1, null, 0.25, 0.0, null], \"x\": [0.5, 0.5, null, 0.5, 0.25, null, 0.5, 0.75, null, 0.5, 0.25, null, 0.5, 0.5, null, 0.5, 0.75, null, 0.25, 0.0, null, 0.25, 0.25, null, 0.25, 0.05, null, 0.75, 0.95, null, 0.75, 1.0, null, 0.75, 0.75, null], \"mode\": \"lines\", \"line\": {\"color\": \"rgb(0, 0, 0)\", \"width\": 2}}, {\"hoverinfo\": \"none\", \"y\": [0.5, 0.75, 0.25, 0.25, 0.8, 1.0, 0.8, 0.5, 0.1, 0.0, 0.5, 0.1, 0.0], \"x\": [0.5, 0.5, 0.25, 0.75, 0.25, 0.5, 0.75, 0.05, 0.0, 0.25, 0.95, 1.0, 0.75], \"textfont\": {\"color\": \"rgb(0, 0, 0)\"}, \"text\": [\"D4\", \"E9\", \"E10\", \"E11\", \"F12\", \"F13\", \"F14\", \"F15\", \"F16\", \"F17\", \"F18\", \"F19\", \"F20\"], \"marker\": {\"color\": \"rgb(255, 255, 255)\", \"line\": {\"color\": \"rgb(0, 0, 0)\", \"width\": 2}, \"size\": 25}, \"textposition\": \"middle center\", \"mode\": \"markers+text\"}], {\"yaxis\": {\"showticklabels\": false, \"showgrid\": false, \"zeroline\": false}, \"height\": 360, \"showlegend\": false, \"margin\": {\"b\": 0, \"r\": 0, \"l\": 0, \"t\": 0}, \"width\": 360, \"xaxis\": {\"showticklabels\": false, \"showgrid\": false, \"zeroline\": false}}, {\"showLink\": false, \"displayModeBar\": false, \"linkText\": \"Export to plot.ly\"})});</script>"
      ],
      "text/vnd.plotly.v1+html": [
       "<div id=\"5841e5d0-e475-4146-9985-ba0ed2909bd9\" style=\"height: 360px; width: 360px;\" class=\"plotly-graph-div\"></div><script type=\"text/javascript\">require([\"plotly\"], function(Plotly) { window.PLOTLYENV=window.PLOTLYENV || {};window.PLOTLYENV.BASE_URL=\"https://plot.ly\";Plotly.newPlot(\"5841e5d0-e475-4146-9985-ba0ed2909bd9\", [{\"hoverinfo\": \"none\", \"y\": [0.8, 1.0, null, 0.8, 0.5, null, 1.0, 0.8, null, 0.8, 0.5, null, 0.5, 0.1, null, 0.1, 0.0, null, 0.0, 0.0, null, 0.5, 0.1, null, 0.1, 0.0, null], \"x\": [0.25, 0.5, null, 0.25, 0.05, null, 0.5, 0.75, null, 0.75, 0.95, null, 0.05, 0.0, null, 0.0, 0.25, null, 0.25, 0.75, null, 0.95, 1.0, null, 1.0, 0.75, null], \"mode\": \"lines\", \"line\": {\"color\": \"rgb(192, 192, 192)\", \"width\": 2}}, {\"hoverinfo\": \"none\", \"y\": [0.5, 0.75, null, 0.5, 0.25, null, 0.5, 0.25, null, 0.75, 0.8, null, 0.75, 1.0, null, 0.75, 0.8, null, 0.25, 0.1, null, 0.25, 0.0, null, 0.25, 0.5, null, 0.25, 0.5, null, 0.25, 0.1, null, 0.25, 0.0, null], \"x\": [0.5, 0.5, null, 0.5, 0.25, null, 0.5, 0.75, null, 0.5, 0.25, null, 0.5, 0.5, null, 0.5, 0.75, null, 0.25, 0.0, null, 0.25, 0.25, null, 0.25, 0.05, null, 0.75, 0.95, null, 0.75, 1.0, null, 0.75, 0.75, null], \"mode\": \"lines\", \"line\": {\"color\": \"rgb(0, 0, 0)\", \"width\": 2}}, {\"hoverinfo\": \"none\", \"y\": [0.5, 0.75, 0.25, 0.25, 0.8, 1.0, 0.8, 0.5, 0.1, 0.0, 0.5, 0.1, 0.0], \"x\": [0.5, 0.5, 0.25, 0.75, 0.25, 0.5, 0.75, 0.05, 0.0, 0.25, 0.95, 1.0, 0.75], \"textfont\": {\"color\": \"rgb(0, 0, 0)\"}, \"text\": [\"D4\", \"E9\", \"E10\", \"E11\", \"F12\", \"F13\", \"F14\", \"F15\", \"F16\", \"F17\", \"F18\", \"F19\", \"F20\"], \"marker\": {\"color\": \"rgb(255, 255, 255)\", \"line\": {\"color\": \"rgb(0, 0, 0)\", \"width\": 2}, \"size\": 25}, \"textposition\": \"middle center\", \"mode\": \"markers+text\"}], {\"yaxis\": {\"showticklabels\": false, \"showgrid\": false, \"zeroline\": false}, \"height\": 360, \"showlegend\": false, \"margin\": {\"b\": 0, \"r\": 0, \"l\": 0, \"t\": 0}, \"width\": 360, \"xaxis\": {\"showticklabels\": false, \"showgrid\": false, \"zeroline\": false}}, {\"showLink\": false, \"displayModeBar\": false, \"linkText\": \"Export to plot.ly\"})});</script>"
      ]
     },
     "metadata": {},
     "output_type": "display_data"
    }
   ],
