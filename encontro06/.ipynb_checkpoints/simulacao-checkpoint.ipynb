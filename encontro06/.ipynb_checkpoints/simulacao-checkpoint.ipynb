{
 "cells": [
  {
   "cell_type": "markdown",
   "metadata": {},
   "source": [
    "# Encontro 06: Simulação de Negociações\n",
    "\n",
    "Importando a biblioteca:"
   ]
  },
  {
   "cell_type": "code",
   "execution_count": 1,
   "metadata": {
    "scrolled": true
   },
   "outputs": [
    {
     "data": {
      "text/html": [
       "<script>requirejs.config({paths: { 'plotly': ['https://cdn.plot.ly/plotly-latest.min']},});if(!window.Plotly) {{require(['plotly'],function(plotly) {window.Plotly=plotly;});}}</script>"
      ],
      "text/vnd.plotly.v1+html": [
       "<script>requirejs.config({paths: { 'plotly': ['https://cdn.plot.ly/plotly-latest.min']},});if(!window.Plotly) {{require(['plotly'],function(plotly) {window.Plotly=plotly;});}}</script>"
      ]
     },
     "metadata": {},
     "output_type": "display_data"
    }
   ],
   "source": [
    "import sys\n",
    "sys.path.append('..')\n",
    "\n",
    "import socnet as sn"
   ]
  },
  {
   "cell_type": "markdown",
   "metadata": {},
   "source": [
    "Configurando a biblioteca:"
   ]
  },
  {
   "cell_type": "code",
   "execution_count": 2,
   "metadata": {
    "collapsed": true
   },
   "outputs": [],
   "source": [
    "sn.graph_width = 360\n",
    "sn.graph_height = 360\n",
    "sn.node_size = 25\n",
    "\n",
    "\n",
    "def load_graph(path):\n",
    "    g = sn.load_graph(path, has_pos=True)\n",
    "\n",
    "    for n, m in g.edges():\n",
    "        g.edge[n][m]['strong'] = bool(g.edge[n][m]['strong'])\n",
    "\n",
    "    return g\n",
    "\n",
    "\n",
    "def set_colors(g):\n",
    "    for n, m in g.edges():\n",
    "        if g.edge[n][m]['strong']:\n",
    "            g.edge[n][m]['color'] = (0, 0, 0)\n",
    "        else:\n",
    "            g.edge[n][m]['color'] = (192, 192, 192)\n",
    "\n",
    "\n",
    "def show_graph(g):\n",
    "    set_colors(g)\n",
    "\n",
    "    sn.show_graph(g, nlab=True)"
   ]
  },
  {
   "cell_type": "markdown",
   "metadata": {},
   "source": [
    "O objetivo desta atividade é escrever uma simulação **animada** de negociações e executá-la sobre seis grafos diferentes."
   ]
  },
  {
   "cell_type": "markdown",
   "metadata": {},
   "source": [
    "Primeiro grafo:"
   ]
  },
  {
   "cell_type": "code",
   "execution_count": 3,
   "metadata": {},
   "outputs": [
    {
     "data": {
      "application/vnd.plotly.v1+json": {
       "data": [
        {
         "hoverinfo": "none",
         "line": {
          "color": "rgb(192, 192, 192)",
          "width": 2
         },
         "mode": "lines",
         "x": [
          0.5,
          0,
          null,
          0.5,
          1,
          null,
          0,
          1,
          null
         ],
         "y": [
          1,
          0,
          null,
          1,
          0,
          null,
          0,
          0,
          null
         ]
        },
        {
         "hoverinfo": "none",
         "line": {
          "color": "rgb(0, 0, 0)",
          "width": 2
         },
         "mode": "lines",
         "x": [
          0.5,
          0.5,
          null,
          0.5,
          0,
          null,
          0.5,
          1,
          null
         ],
         "y": [
          0.4,
          1,
          null,
          0.4,
          0,
          null,
          0.4,
          0,
          null
         ]
        },
        {
         "hoverinfo": "none",
         "marker": {
          "color": "rgb(255, 255, 255)",
          "line": {
           "color": "rgb(0, 0, 0)",
           "width": 2
          },
          "size": 25
         },
         "mode": "markers+text",
         "text": [
          "A",
          "B1",
          "B2",
          "B3"
         ],
         "textfont": {
          "color": "rgb(0, 0, 0)"
         },
         "textposition": "middle center",
         "x": [
          0.5,
          0.5,
          0,
          1
         ],
         "y": [
          0.4,
          1,
          0,
          0
         ]
        }
       ],
       "layout": {
        "height": 360,
        "margin": {
         "b": 0,
         "l": 0,
         "r": 0,
         "t": 0
        },
        "showlegend": false,
        "width": 360,
        "xaxis": {
         "showgrid": false,
         "showticklabels": false,
         "zeroline": false
        },
        "yaxis": {
         "showgrid": false,
         "showticklabels": false,
         "zeroline": false
        }
       }
      },
      "text/html": [
       "<div id=\"e2308386-0b0a-4a4a-8ff0-ff6a11b13fe8\" style=\"height: 360px; width: 360px;\" class=\"plotly-graph-div\"></div><script type=\"text/javascript\">require([\"plotly\"], function(Plotly) { window.PLOTLYENV=window.PLOTLYENV || {};window.PLOTLYENV.BASE_URL=\"https://plot.ly\";Plotly.newPlot(\"e2308386-0b0a-4a4a-8ff0-ff6a11b13fe8\", [{\"hoverinfo\": \"none\", \"y\": [1.0, 0.0, null, 1.0, 0.0, null, 0.0, 0.0, null], \"x\": [0.5, 0.0, null, 0.5, 1.0, null, 0.0, 1.0, null], \"mode\": \"lines\", \"line\": {\"color\": \"rgb(192, 192, 192)\", \"width\": 2}}, {\"hoverinfo\": \"none\", \"y\": [0.4, 1.0, null, 0.4, 0.0, null, 0.4, 0.0, null], \"x\": [0.5, 0.5, null, 0.5, 0.0, null, 0.5, 1.0, null], \"mode\": \"lines\", \"line\": {\"color\": \"rgb(0, 0, 0)\", \"width\": 2}}, {\"hoverinfo\": \"none\", \"y\": [0.4, 1.0, 0.0, 0.0], \"x\": [0.5, 0.5, 0.0, 1.0], \"textfont\": {\"color\": \"rgb(0, 0, 0)\"}, \"text\": [\"A\", \"B1\", \"B2\", \"B3\"], \"marker\": {\"color\": \"rgb(255, 255, 255)\", \"line\": {\"color\": \"rgb(0, 0, 0)\", \"width\": 2}, \"size\": 25}, \"textposition\": \"middle center\", \"mode\": \"markers+text\"}], {\"yaxis\": {\"showticklabels\": false, \"showgrid\": false, \"zeroline\": false}, \"height\": 360, \"showlegend\": false, \"margin\": {\"b\": 0, \"r\": 0, \"l\": 0, \"t\": 0}, \"width\": 360, \"xaxis\": {\"showticklabels\": false, \"showgrid\": false, \"zeroline\": false}}, {\"showLink\": false, \"displayModeBar\": false, \"linkText\": \"Export to plot.ly\"})});</script>"
      ],
      "text/vnd.plotly.v1+html": [
       "<div id=\"e2308386-0b0a-4a4a-8ff0-ff6a11b13fe8\" style=\"height: 360px; width: 360px;\" class=\"plotly-graph-div\"></div><script type=\"text/javascript\">require([\"plotly\"], function(Plotly) { window.PLOTLYENV=window.PLOTLYENV || {};window.PLOTLYENV.BASE_URL=\"https://plot.ly\";Plotly.newPlot(\"e2308386-0b0a-4a4a-8ff0-ff6a11b13fe8\", [{\"hoverinfo\": \"none\", \"y\": [1.0, 0.0, null, 1.0, 0.0, null, 0.0, 0.0, null], \"x\": [0.5, 0.0, null, 0.5, 1.0, null, 0.0, 1.0, null], \"mode\": \"lines\", \"line\": {\"color\": \"rgb(192, 192, 192)\", \"width\": 2}}, {\"hoverinfo\": \"none\", \"y\": [0.4, 1.0, null, 0.4, 0.0, null, 0.4, 0.0, null], \"x\": [0.5, 0.5, null, 0.5, 0.0, null, 0.5, 1.0, null], \"mode\": \"lines\", \"line\": {\"color\": \"rgb(0, 0, 0)\", \"width\": 2}}, {\"hoverinfo\": \"none\", \"y\": [0.4, 1.0, 0.0, 0.0], \"x\": [0.5, 0.5, 0.0, 1.0], \"textfont\": {\"color\": \"rgb(0, 0, 0)\"}, \"text\": [\"A\", \"B1\", \"B2\", \"B3\"], \"marker\": {\"color\": \"rgb(255, 255, 255)\", \"line\": {\"color\": \"rgb(0, 0, 0)\", \"width\": 2}, \"size\": 25}, \"textposition\": \"middle center\", \"mode\": \"markers+text\"}], {\"yaxis\": {\"showticklabels\": false, \"showgrid\": false, \"zeroline\": false}, \"height\": 360, \"showlegend\": false, \"margin\": {\"b\": 0, \"r\": 0, \"l\": 0, \"t\": 0}, \"width\": 360, \"xaxis\": {\"showticklabels\": false, \"showgrid\": false, \"zeroline\": false}}, {\"showLink\": false, \"displayModeBar\": false, \"linkText\": \"Export to plot.ly\"})});</script>"
      ]
     },
     "metadata": {},
     "output_type": "display_data"
    }
   ],
   "source": [
    "g1 = load_graph('power-1.gml')\n",
    "\n",
    "show_graph(g1)"
   ]
  },
  {
   "cell_type": "markdown",
   "metadata": {},
   "source": [
    "Segundo grafo:"
   ]
  },
  {
   "cell_type": "code",
   "execution_count": 4,
   "metadata": {},
   "outputs": [
    {
     "data": {
      "application/vnd.plotly.v1+json": {
       "data": [
        {
         "hoverinfo": "none",
         "line": {
          "color": "rgb(0, 0, 0)",
          "width": 2
         },
         "mode": "lines",
         "x": [
          0.5,
          0.5,
          null,
          0.5,
          0,
          null,
          0.5,
          1,
          null,
          0.5,
          0,
          null,
          0.5,
          1,
          null,
          0,
          1,
          null
         ],
         "y": [
          0.4,
          1,
          null,
          0.4,
          0,
          null,
          0.4,
          0,
          null,
          1,
          0,
          null,
          1,
          0,
          null,
          0,
          0,
          null
         ]
        },
        {
         "hoverinfo": "none",
         "marker": {
          "color": "rgb(255, 255, 255)",
          "line": {
           "color": "rgb(0, 0, 0)",
           "width": 2
          },
          "size": 25
         },
         "mode": "markers+text",
         "text": [
          "C1",
          "C2",
          "C3",
          "C4"
         ],
         "textfont": {
          "color": "rgb(0, 0, 0)"
         },
         "textposition": "middle center",
         "x": [
          0.5,
          0.5,
          0,
          1
         ],
         "y": [
          0.4,
          1,
          0,
          0
         ]
        }
       ],
       "layout": {
        "height": 360,
        "margin": {
         "b": 0,
         "l": 0,
         "r": 0,
         "t": 0
        },
        "showlegend": false,
        "width": 360,
        "xaxis": {
         "showgrid": false,
         "showticklabels": false,
         "zeroline": false
        },
        "yaxis": {
         "showgrid": false,
         "showticklabels": false,
         "zeroline": false
        }
       }
      },
      "text/html": [
       "<div id=\"11aa29d4-cd2b-4d6d-937a-e9072f6f9224\" style=\"height: 360px; width: 360px;\" class=\"plotly-graph-div\"></div><script type=\"text/javascript\">require([\"plotly\"], function(Plotly) { window.PLOTLYENV=window.PLOTLYENV || {};window.PLOTLYENV.BASE_URL=\"https://plot.ly\";Plotly.newPlot(\"11aa29d4-cd2b-4d6d-937a-e9072f6f9224\", [{\"hoverinfo\": \"none\", \"y\": [0.4, 1.0, null, 0.4, 0.0, null, 0.4, 0.0, null, 1.0, 0.0, null, 1.0, 0.0, null, 0.0, 0.0, null], \"x\": [0.5, 0.5, null, 0.5, 0.0, null, 0.5, 1.0, null, 0.5, 0.0, null, 0.5, 1.0, null, 0.0, 1.0, null], \"mode\": \"lines\", \"line\": {\"color\": \"rgb(0, 0, 0)\", \"width\": 2}}, {\"hoverinfo\": \"none\", \"y\": [0.4, 1.0, 0.0, 0.0], \"x\": [0.5, 0.5, 0.0, 1.0], \"textfont\": {\"color\": \"rgb(0, 0, 0)\"}, \"text\": [\"C1\", \"C2\", \"C3\", \"C4\"], \"marker\": {\"color\": \"rgb(255, 255, 255)\", \"line\": {\"color\": \"rgb(0, 0, 0)\", \"width\": 2}, \"size\": 25}, \"textposition\": \"middle center\", \"mode\": \"markers+text\"}], {\"yaxis\": {\"showticklabels\": false, \"showgrid\": false, \"zeroline\": false}, \"height\": 360, \"showlegend\": false, \"margin\": {\"b\": 0, \"r\": 0, \"l\": 0, \"t\": 0}, \"width\": 360, \"xaxis\": {\"showticklabels\": false, \"showgrid\": false, \"zeroline\": false}}, {\"showLink\": false, \"displayModeBar\": false, \"linkText\": \"Export to plot.ly\"})});</script>"
      ],
      "text/vnd.plotly.v1+html": [
       "<div id=\"11aa29d4-cd2b-4d6d-937a-e9072f6f9224\" style=\"height: 360px; width: 360px;\" class=\"plotly-graph-div\"></div><script type=\"text/javascript\">require([\"plotly\"], function(Plotly) { window.PLOTLYENV=window.PLOTLYENV || {};window.PLOTLYENV.BASE_URL=\"https://plot.ly\";Plotly.newPlot(\"11aa29d4-cd2b-4d6d-937a-e9072f6f9224\", [{\"hoverinfo\": \"none\", \"y\": [0.4, 1.0, null, 0.4, 0.0, null, 0.4, 0.0, null, 1.0, 0.0, null, 1.0, 0.0, null, 0.0, 0.0, null], \"x\": [0.5, 0.5, null, 0.5, 0.0, null, 0.5, 1.0, null, 0.5, 0.0, null, 0.5, 1.0, null, 0.0, 1.0, null], \"mode\": \"lines\", \"line\": {\"color\": \"rgb(0, 0, 0)\", \"width\": 2}}, {\"hoverinfo\": \"none\", \"y\": [0.4, 1.0, 0.0, 0.0], \"x\": [0.5, 0.5, 0.0, 1.0], \"textfont\": {\"color\": \"rgb(0, 0, 0)\"}, \"text\": [\"C1\", \"C2\", \"C3\", \"C4\"], \"marker\": {\"color\": \"rgb(255, 255, 255)\", \"line\": {\"color\": \"rgb(0, 0, 0)\", \"width\": 2}, \"size\": 25}, \"textposition\": \"middle center\", \"mode\": \"markers+text\"}], {\"yaxis\": {\"showticklabels\": false, \"showgrid\": false, \"zeroline\": false}, \"height\": 360, \"showlegend\": false, \"margin\": {\"b\": 0, \"r\": 0, \"l\": 0, \"t\": 0}, \"width\": 360, \"xaxis\": {\"showticklabels\": false, \"showgrid\": false, \"zeroline\": false}}, {\"showLink\": false, \"displayModeBar\": false, \"linkText\": \"Export to plot.ly\"})});</script>"
      ]
     },
     "metadata": {},
     "output_type": "display_data"
    }
   ],
   "source": [
    "g2 = load_graph('power-2.gml')\n",
    "\n",
    "show_graph(g2)"
   ]
  },
  {
   "cell_type": "markdown",
   "metadata": {},
   "source": [
    "Terceiro grafo:"
   ]
  },
  {
   "cell_type": "code",
   "execution_count": 5,
   "metadata": {},
   "outputs": [
    {
     "data": {
      "application/vnd.plotly.v1+json": {
       "data": [
        {
         "hoverinfo": "none",
         "line": {
          "color": "rgb(192, 192, 192)",
          "width": 2
         },
         "mode": "lines",
         "x": [
          0,
          1,
          null
         ],
         "y": [
          0,
          0,
          null
         ]
        },
        {
         "hoverinfo": "none",
         "line": {
          "color": "rgb(0, 0, 0)",
          "width": 2
         },
         "mode": "lines",
         "x": [
          0.5,
          0,
          null,
          0.5,
          1,
          null,
          0,
          0,
          null,
          1,
          1,
          null
         ],
         "y": [
          1,
          0.6,
          null,
          1,
          0.6,
          null,
          0.6,
          0,
          null,
          0.6,
          0,
          null
         ]
        },
        {
         "hoverinfo": "none",
         "marker": {
          "color": "rgb(255, 255, 255)",
          "line": {
           "color": "rgb(0, 0, 0)",
           "width": 2
          },
          "size": 25
         },
         "mode": "markers+text",
         "text": [
          "D1",
          "E1",
          "E2",
          "F1",
          "F2"
         ],
         "textfont": {
          "color": "rgb(0, 0, 0)"
         },
         "textposition": "middle center",
         "x": [
          0.5,
          0,
          1,
          0,
          1
         ],
         "y": [
          1,
          0.6,
          0.6,
          0,
          0
         ]
        }
       ],
       "layout": {
        "height": 360,
        "margin": {
         "b": 0,
         "l": 0,
         "r": 0,
         "t": 0
        },
        "showlegend": false,
        "width": 360,
        "xaxis": {
         "showgrid": false,
         "showticklabels": false,
         "zeroline": false
        },
        "yaxis": {
         "showgrid": false,
         "showticklabels": false,
         "zeroline": false
        }
       }
      },
      "text/html": [
       "<div id=\"6b76b803-d215-4f4a-bfbc-69c4dc6038ed\" style=\"height: 360px; width: 360px;\" class=\"plotly-graph-div\"></div><script type=\"text/javascript\">require([\"plotly\"], function(Plotly) { window.PLOTLYENV=window.PLOTLYENV || {};window.PLOTLYENV.BASE_URL=\"https://plot.ly\";Plotly.newPlot(\"6b76b803-d215-4f4a-bfbc-69c4dc6038ed\", [{\"hoverinfo\": \"none\", \"y\": [0.0, 0.0, null], \"x\": [0.0, 1.0, null], \"mode\": \"lines\", \"line\": {\"color\": \"rgb(192, 192, 192)\", \"width\": 2}}, {\"hoverinfo\": \"none\", \"y\": [1.0, 0.6, null, 1.0, 0.6, null, 0.6, 0.0, null, 0.6, 0.0, null], \"x\": [0.5, 0.0, null, 0.5, 1.0, null, 0.0, 0.0, null, 1.0, 1.0, null], \"mode\": \"lines\", \"line\": {\"color\": \"rgb(0, 0, 0)\", \"width\": 2}}, {\"hoverinfo\": \"none\", \"y\": [1.0, 0.6, 0.6, 0.0, 0.0], \"x\": [0.5, 0.0, 1.0, 0.0, 1.0], \"textfont\": {\"color\": \"rgb(0, 0, 0)\"}, \"text\": [\"D1\", \"E1\", \"E2\", \"F1\", \"F2\"], \"marker\": {\"color\": \"rgb(255, 255, 255)\", \"line\": {\"color\": \"rgb(0, 0, 0)\", \"width\": 2}, \"size\": 25}, \"textposition\": \"middle center\", \"mode\": \"markers+text\"}], {\"yaxis\": {\"showticklabels\": false, \"showgrid\": false, \"zeroline\": false}, \"height\": 360, \"showlegend\": false, \"margin\": {\"b\": 0, \"r\": 0, \"l\": 0, \"t\": 0}, \"width\": 360, \"xaxis\": {\"showticklabels\": false, \"showgrid\": false, \"zeroline\": false}}, {\"showLink\": false, \"displayModeBar\": false, \"linkText\": \"Export to plot.ly\"})});</script>"
      ],
      "text/vnd.plotly.v1+html": [
       "<div id=\"6b76b803-d215-4f4a-bfbc-69c4dc6038ed\" style=\"height: 360px; width: 360px;\" class=\"plotly-graph-div\"></div><script type=\"text/javascript\">require([\"plotly\"], function(Plotly) { window.PLOTLYENV=window.PLOTLYENV || {};window.PLOTLYENV.BASE_URL=\"https://plot.ly\";Plotly.newPlot(\"6b76b803-d215-4f4a-bfbc-69c4dc6038ed\", [{\"hoverinfo\": \"none\", \"y\": [0.0, 0.0, null], \"x\": [0.0, 1.0, null], \"mode\": \"lines\", \"line\": {\"color\": \"rgb(192, 192, 192)\", \"width\": 2}}, {\"hoverinfo\": \"none\", \"y\": [1.0, 0.6, null, 1.0, 0.6, null, 0.6, 0.0, null, 0.6, 0.0, null], \"x\": [0.5, 0.0, null, 0.5, 1.0, null, 0.0, 0.0, null, 1.0, 1.0, null], \"mode\": \"lines\", \"line\": {\"color\": \"rgb(0, 0, 0)\", \"width\": 2}}, {\"hoverinfo\": \"none\", \"y\": [1.0, 0.6, 0.6, 0.0, 0.0], \"x\": [0.5, 0.0, 1.0, 0.0, 1.0], \"textfont\": {\"color\": \"rgb(0, 0, 0)\"}, \"text\": [\"D1\", \"E1\", \"E2\", \"F1\", \"F2\"], \"marker\": {\"color\": \"rgb(255, 255, 255)\", \"line\": {\"color\": \"rgb(0, 0, 0)\", \"width\": 2}, \"size\": 25}, \"textposition\": \"middle center\", \"mode\": \"markers+text\"}], {\"yaxis\": {\"showticklabels\": false, \"showgrid\": false, \"zeroline\": false}, \"height\": 360, \"showlegend\": false, \"margin\": {\"b\": 0, \"r\": 0, \"l\": 0, \"t\": 0}, \"width\": 360, \"xaxis\": {\"showticklabels\": false, \"showgrid\": false, \"zeroline\": false}}, {\"showLink\": false, \"displayModeBar\": false, \"linkText\": \"Export to plot.ly\"})});</script>"
      ]
     },
     "metadata": {},
     "output_type": "display_data"
    }
   ],
   "source": [
    "g3 = load_graph('power-3.gml')\n",
    "\n",
    "show_graph(g3)"
   ]
  },
  {
   "cell_type": "markdown",
   "metadata": {},
   "source": [
    "Quarto grafo:"
   ]
  },
  {
   "cell_type": "code",
   "execution_count": 6,
   "metadata": {},
   "outputs": [
    {
     "data": {
      "application/vnd.plotly.v1+json": {
       "data": [
        {
         "hoverinfo": "none",
         "line": {
          "color": "rgb(192, 192, 192)",
          "width": 2
         },
         "mode": "lines",
         "x": [
          0.5,
          0,
          null,
          0.5,
          1,
          null,
          0,
          1,
          null
         ],
         "y": [
          1,
          0,
          null,
          1,
          0,
          null,
          0,
          0,
          null
         ]
        },
        {
         "hoverinfo": "none",
         "line": {
          "color": "rgb(0, 0, 0)",
          "width": 2
         },
         "mode": "lines",
         "x": [
          0.5,
          0.5,
          null,
          0.5,
          0.25,
          null,
          0.5,
          0.75,
          null,
          0.5,
          0.5,
          null,
          0.25,
          0,
          null,
          0.75,
          1,
          null
         ],
         "y": [
          0.4,
          0.7,
          null,
          0.4,
          0.2,
          null,
          0.4,
          0.2,
          null,
          0.7,
          1,
          null,
          0.2,
          0,
          null,
          0.2,
          0,
          null
         ]
        },
        {
         "hoverinfo": "none",
         "marker": {
          "color": "rgb(255, 255, 255)",
          "line": {
           "color": "rgb(0, 0, 0)",
           "width": 2
          },
          "size": 25
         },
         "mode": "markers+text",
         "text": [
          "D2",
          "E3",
          "E4",
          "E5",
          "F3",
          "F4",
          "F5"
         ],
         "textfont": {
          "color": "rgb(0, 0, 0)"
         },
         "textposition": "middle center",
         "x": [
          0.5,
          0.5,
          0.25,
          0.75,
          0.5,
          0,
          1
         ],
         "y": [
          0.4,
          0.7,
          0.2,
          0.2,
          1,
          0,
          0
         ]
        }
       ],
       "layout": {
        "height": 360,
        "margin": {
         "b": 0,
         "l": 0,
         "r": 0,
         "t": 0
        },
        "showlegend": false,
        "width": 360,
        "xaxis": {
         "showgrid": false,
         "showticklabels": false,
         "zeroline": false
        },
        "yaxis": {
         "showgrid": false,
         "showticklabels": false,
         "zeroline": false
        }
       }
      },
      "text/html": [
       "<div id=\"65e4464d-10ac-42a5-b534-ea7999337754\" style=\"height: 360px; width: 360px;\" class=\"plotly-graph-div\"></div><script type=\"text/javascript\">require([\"plotly\"], function(Plotly) { window.PLOTLYENV=window.PLOTLYENV || {};window.PLOTLYENV.BASE_URL=\"https://plot.ly\";Plotly.newPlot(\"65e4464d-10ac-42a5-b534-ea7999337754\", [{\"hoverinfo\": \"none\", \"y\": [1.0, 0.0, null, 1.0, 0.0, null, 0.0, 0.0, null], \"x\": [0.5, 0.0, null, 0.5, 1.0, null, 0.0, 1.0, null], \"mode\": \"lines\", \"line\": {\"color\": \"rgb(192, 192, 192)\", \"width\": 2}}, {\"hoverinfo\": \"none\", \"y\": [0.4, 0.7, null, 0.4, 0.2, null, 0.4, 0.2, null, 0.7, 1.0, null, 0.2, 0.0, null, 0.2, 0.0, null], \"x\": [0.5, 0.5, null, 0.5, 0.25, null, 0.5, 0.75, null, 0.5, 0.5, null, 0.25, 0.0, null, 0.75, 1.0, null], \"mode\": \"lines\", \"line\": {\"color\": \"rgb(0, 0, 0)\", \"width\": 2}}, {\"hoverinfo\": \"none\", \"y\": [0.4, 0.7, 0.2, 0.2, 1.0, 0.0, 0.0], \"x\": [0.5, 0.5, 0.25, 0.75, 0.5, 0.0, 1.0], \"textfont\": {\"color\": \"rgb(0, 0, 0)\"}, \"text\": [\"D2\", \"E3\", \"E4\", \"E5\", \"F3\", \"F4\", \"F5\"], \"marker\": {\"color\": \"rgb(255, 255, 255)\", \"line\": {\"color\": \"rgb(0, 0, 0)\", \"width\": 2}, \"size\": 25}, \"textposition\": \"middle center\", \"mode\": \"markers+text\"}], {\"yaxis\": {\"showticklabels\": false, \"showgrid\": false, \"zeroline\": false}, \"height\": 360, \"showlegend\": false, \"margin\": {\"b\": 0, \"r\": 0, \"l\": 0, \"t\": 0}, \"width\": 360, \"xaxis\": {\"showticklabels\": false, \"showgrid\": false, \"zeroline\": false}}, {\"showLink\": false, \"displayModeBar\": false, \"linkText\": \"Export to plot.ly\"})});</script>"
      ],
      "text/vnd.plotly.v1+html": [
       "<div id=\"65e4464d-10ac-42a5-b534-ea7999337754\" style=\"height: 360px; width: 360px;\" class=\"plotly-graph-div\"></div><script type=\"text/javascript\">require([\"plotly\"], function(Plotly) { window.PLOTLYENV=window.PLOTLYENV || {};window.PLOTLYENV.BASE_URL=\"https://plot.ly\";Plotly.newPlot(\"65e4464d-10ac-42a5-b534-ea7999337754\", [{\"hoverinfo\": \"none\", \"y\": [1.0, 0.0, null, 1.0, 0.0, null, 0.0, 0.0, null], \"x\": [0.5, 0.0, null, 0.5, 1.0, null, 0.0, 1.0, null], \"mode\": \"lines\", \"line\": {\"color\": \"rgb(192, 192, 192)\", \"width\": 2}}, {\"hoverinfo\": \"none\", \"y\": [0.4, 0.7, null, 0.4, 0.2, null, 0.4, 0.2, null, 0.7, 1.0, null, 0.2, 0.0, null, 0.2, 0.0, null], \"x\": [0.5, 0.5, null, 0.5, 0.25, null, 0.5, 0.75, null, 0.5, 0.5, null, 0.25, 0.0, null, 0.75, 1.0, null], \"mode\": \"lines\", \"line\": {\"color\": \"rgb(0, 0, 0)\", \"width\": 2}}, {\"hoverinfo\": \"none\", \"y\": [0.4, 0.7, 0.2, 0.2, 1.0, 0.0, 0.0], \"x\": [0.5, 0.5, 0.25, 0.75, 0.5, 0.0, 1.0], \"textfont\": {\"color\": \"rgb(0, 0, 0)\"}, \"text\": [\"D2\", \"E3\", \"E4\", \"E5\", \"F3\", \"F4\", \"F5\"], \"marker\": {\"color\": \"rgb(255, 255, 255)\", \"line\": {\"color\": \"rgb(0, 0, 0)\", \"width\": 2}, \"size\": 25}, \"textposition\": \"middle center\", \"mode\": \"markers+text\"}], {\"yaxis\": {\"showticklabels\": false, \"showgrid\": false, \"zeroline\": false}, \"height\": 360, \"showlegend\": false, \"margin\": {\"b\": 0, \"r\": 0, \"l\": 0, \"t\": 0}, \"width\": 360, \"xaxis\": {\"showticklabels\": false, \"showgrid\": false, \"zeroline\": false}}, {\"showLink\": false, \"displayModeBar\": false, \"linkText\": \"Export to plot.ly\"})});</script>"
      ]
     },
     "metadata": {},
     "output_type": "display_data"
    }
   ],
   "source": [
    "g4 = load_graph('power-4.gml')\n",
    "\n",
    "show_graph(g4)"
   ]
  },
  {
   "cell_type": "markdown",
   "metadata": {},
   "source": [
    "Quinto grafo:"
   ]
  },
  {
   "cell_type": "code",
   "execution_count": 7,
   "metadata": {},
   "outputs": [
    {
     "data": {
      "application/vnd.plotly.v1+json": {
       "data": [
        {
         "hoverinfo": "none",
         "line": {
          "color": "rgb(192, 192, 192)",
          "width": 2
         },
         "mode": "lines",
         "x": [
          0.25,
          0.75,
          null,
          0.25,
          0,
          null,
          0.75,
          1,
          null,
          0,
          0.25,
          null,
          0.25,
          0.75,
          null,
          1,
          0.75,
          null
         ],
         "y": [
          1,
          1,
          null,
          1,
          0.5,
          null,
          1,
          0.5,
          null,
          0.5,
          0,
          null,
          0,
          0,
          null,
          0.5,
          0,
          null
         ]
        },
        {
         "hoverinfo": "none",
         "line": {
          "color": "rgb(0, 0, 0)",
          "width": 2
         },
         "mode": "lines",
         "x": [
          0.5,
          0.5,
          null,
          0.5,
          0.25,
          null,
          0.5,
          0.75,
          null,
          0.5,
          0.25,
          null,
          0.5,
          0.75,
          null,
          0.25,
          0,
          null,
          0.25,
          0.25,
          null,
          0.75,
          0.75,
          null,
          0.75,
          1,
          null
         ],
         "y": [
          0.5,
          0.85,
          null,
          0.5,
          0.35,
          null,
          0.5,
          0.35,
          null,
          0.85,
          1,
          null,
          0.85,
          1,
          null,
          0.35,
          0.5,
          null,
          0.35,
          0,
          null,
          0.35,
          0,
          null,
          0.35,
          0.5,
          null
         ]
        },
        {
         "hoverinfo": "none",
         "marker": {
          "color": "rgb(255, 255, 255)",
          "line": {
           "color": "rgb(0, 0, 0)",
           "width": 2
          },
          "size": 25
         },
         "mode": "markers+text",
         "text": [
          "D3",
          "E6",
          "E7",
          "E8",
          "F6",
          "F7",
          "F8",
          "F9",
          "F10",
          "F11"
         ],
         "textfont": {
          "color": "rgb(0, 0, 0)"
         },
         "textposition": "middle center",
         "x": [
          0.5,
          0.5,
          0.25,
          0.75,
          0.25,
          0.75,
          0,
          0.25,
          1,
          0.75
         ],
         "y": [
          0.5,
          0.85,
          0.35,
          0.35,
          1,
          1,
          0.5,
          0,
          0.5,
          0
         ]
        }
       ],
       "layout": {
        "height": 360,
        "margin": {
         "b": 0,
         "l": 0,
         "r": 0,
         "t": 0
        },
        "showlegend": false,
        "width": 360,
        "xaxis": {
         "showgrid": false,
         "showticklabels": false,
         "zeroline": false
        },
        "yaxis": {
         "showgrid": false,
         "showticklabels": false,
         "zeroline": false
        }
       }
      },
      "text/html": [
       "<div id=\"c87dfb7b-10e9-4f63-80ca-aaa49cece651\" style=\"height: 360px; width: 360px;\" class=\"plotly-graph-div\"></div><script type=\"text/javascript\">require([\"plotly\"], function(Plotly) { window.PLOTLYENV=window.PLOTLYENV || {};window.PLOTLYENV.BASE_URL=\"https://plot.ly\";Plotly.newPlot(\"c87dfb7b-10e9-4f63-80ca-aaa49cece651\", [{\"hoverinfo\": \"none\", \"y\": [1.0, 1.0, null, 1.0, 0.5, null, 1.0, 0.5, null, 0.5, 0.0, null, 0.0, 0.0, null, 0.5, 0.0, null], \"x\": [0.25, 0.75, null, 0.25, 0.0, null, 0.75, 1.0, null, 0.0, 0.25, null, 0.25, 0.75, null, 1.0, 0.75, null], \"mode\": \"lines\", \"line\": {\"color\": \"rgb(192, 192, 192)\", \"width\": 2}}, {\"hoverinfo\": \"none\", \"y\": [0.5, 0.85, null, 0.5, 0.35, null, 0.5, 0.35, null, 0.85, 1.0, null, 0.85, 1.0, null, 0.35, 0.5, null, 0.35, 0.0, null, 0.35, 0.0, null, 0.35, 0.5, null], \"x\": [0.5, 0.5, null, 0.5, 0.25, null, 0.5, 0.75, null, 0.5, 0.25, null, 0.5, 0.75, null, 0.25, 0.0, null, 0.25, 0.25, null, 0.75, 0.75, null, 0.75, 1.0, null], \"mode\": \"lines\", \"line\": {\"color\": \"rgb(0, 0, 0)\", \"width\": 2}}, {\"hoverinfo\": \"none\", \"y\": [0.5, 0.85, 0.35, 0.35, 1.0, 1.0, 0.5, 0.0, 0.5, 0.0], \"x\": [0.5, 0.5, 0.25, 0.75, 0.25, 0.75, 0.0, 0.25, 1.0, 0.75], \"textfont\": {\"color\": \"rgb(0, 0, 0)\"}, \"text\": [\"D3\", \"E6\", \"E7\", \"E8\", \"F6\", \"F7\", \"F8\", \"F9\", \"F10\", \"F11\"], \"marker\": {\"color\": \"rgb(255, 255, 255)\", \"line\": {\"color\": \"rgb(0, 0, 0)\", \"width\": 2}, \"size\": 25}, \"textposition\": \"middle center\", \"mode\": \"markers+text\"}], {\"yaxis\": {\"showticklabels\": false, \"showgrid\": false, \"zeroline\": false}, \"height\": 360, \"showlegend\": false, \"margin\": {\"b\": 0, \"r\": 0, \"l\": 0, \"t\": 0}, \"width\": 360, \"xaxis\": {\"showticklabels\": false, \"showgrid\": false, \"zeroline\": false}}, {\"showLink\": false, \"displayModeBar\": false, \"linkText\": \"Export to plot.ly\"})});</script>"
      ],
      "text/vnd.plotly.v1+html": [
       "<div id=\"c87dfb7b-10e9-4f63-80ca-aaa49cece651\" style=\"height: 360px; width: 360px;\" class=\"plotly-graph-div\"></div><script type=\"text/javascript\">require([\"plotly\"], function(Plotly) { window.PLOTLYENV=window.PLOTLYENV || {};window.PLOTLYENV.BASE_URL=\"https://plot.ly\";Plotly.newPlot(\"c87dfb7b-10e9-4f63-80ca-aaa49cece651\", [{\"hoverinfo\": \"none\", \"y\": [1.0, 1.0, null, 1.0, 0.5, null, 1.0, 0.5, null, 0.5, 0.0, null, 0.0, 0.0, null, 0.5, 0.0, null], \"x\": [0.25, 0.75, null, 0.25, 0.0, null, 0.75, 1.0, null, 0.0, 0.25, null, 0.25, 0.75, null, 1.0, 0.75, null], \"mode\": \"lines\", \"line\": {\"color\": \"rgb(192, 192, 192)\", \"width\": 2}}, {\"hoverinfo\": \"none\", \"y\": [0.5, 0.85, null, 0.5, 0.35, null, 0.5, 0.35, null, 0.85, 1.0, null, 0.85, 1.0, null, 0.35, 0.5, null, 0.35, 0.0, null, 0.35, 0.0, null, 0.35, 0.5, null], \"x\": [0.5, 0.5, null, 0.5, 0.25, null, 0.5, 0.75, null, 0.5, 0.25, null, 0.5, 0.75, null, 0.25, 0.0, null, 0.25, 0.25, null, 0.75, 0.75, null, 0.75, 1.0, null], \"mode\": \"lines\", \"line\": {\"color\": \"rgb(0, 0, 0)\", \"width\": 2}}, {\"hoverinfo\": \"none\", \"y\": [0.5, 0.85, 0.35, 0.35, 1.0, 1.0, 0.5, 0.0, 0.5, 0.0], \"x\": [0.5, 0.5, 0.25, 0.75, 0.25, 0.75, 0.0, 0.25, 1.0, 0.75], \"textfont\": {\"color\": \"rgb(0, 0, 0)\"}, \"text\": [\"D3\", \"E6\", \"E7\", \"E8\", \"F6\", \"F7\", \"F8\", \"F9\", \"F10\", \"F11\"], \"marker\": {\"color\": \"rgb(255, 255, 255)\", \"line\": {\"color\": \"rgb(0, 0, 0)\", \"width\": 2}, \"size\": 25}, \"textposition\": \"middle center\", \"mode\": \"markers+text\"}], {\"yaxis\": {\"showticklabels\": false, \"showgrid\": false, \"zeroline\": false}, \"height\": 360, \"showlegend\": false, \"margin\": {\"b\": 0, \"r\": 0, \"l\": 0, \"t\": 0}, \"width\": 360, \"xaxis\": {\"showticklabels\": false, \"showgrid\": false, \"zeroline\": false}}, {\"showLink\": false, \"displayModeBar\": false, \"linkText\": \"Export to plot.ly\"})});</script>"
      ]
     },
     "metadata": {},
     "output_type": "display_data"
    }
   ],
   "source": [
    "g5 = load_graph('power-5.gml')\n",
    "\n",
    "show_graph(g5)"
   ]
  },
  {
   "cell_type": "markdown",
   "metadata": {},
   "source": [
    "Sexto grafo:"
   ]
  },
  {
   "cell_type": "code",
   "execution_count": 8,
   "metadata": {},
   "outputs": [
    {
     "data": {
      "application/vnd.plotly.v1+json": {
       "data": [
        {
         "hoverinfo": "none",
         "line": {
          "color": "rgb(192, 192, 192)",
          "width": 2
         },
         "mode": "lines",
         "x": [
          0.25,
          0.5,
          null,
          0.25,
          0.05,
          null,
          0.5,
          0.75,
          null,
          0.75,
          0.95,
          null,
          0.05,
          0,
          null,
          0,
          0.25,
          null,
          0.25,
          0.75,
          null,
          0.95,
          1,
          null,
          1,
          0.75,
          null
         ],
         "y": [
          0.8,
          1,
          null,
          0.8,
          0.5,
          null,
          1,
          0.8,
          null,
          0.8,
          0.5,
          null,
          0.5,
          0.1,
          null,
          0.1,
          0,
          null,
          0,
          0,
          null,
          0.5,
          0.1,
          null,
          0.1,
          0,
          null
         ]
        },
        {
         "hoverinfo": "none",
         "line": {
          "color": "rgb(0, 0, 0)",
          "width": 2
         },
         "mode": "lines",
         "x": [
          0.5,
          0.5,
          null,
          0.5,
          0.25,
          null,
          0.5,
          0.75,
          null,
          0.5,
          0.25,
          null,
          0.5,
          0.5,
          null,
          0.5,
          0.75,
          null,
          0.25,
          0,
          null,
          0.25,
          0.25,
          null,
          0.25,
          0.05,
          null,
          0.75,
          0.95,
          null,
          0.75,
          1,
          null,
          0.75,
          0.75,
          null
         ],
         "y": [
          0.5,
          0.75,
          null,
          0.5,
          0.25,
          null,
          0.5,
          0.25,
          null,
          0.75,
          0.8,
          null,
          0.75,
          1,
          null,
          0.75,
          0.8,
          null,
          0.25,
          0.1,
          null,
          0.25,
          0,
          null,
          0.25,
          0.5,
          null,
          0.25,
          0.5,
          null,
          0.25,
          0.1,
          null,
          0.25,
          0,
          null
         ]
        },
        {
         "hoverinfo": "none",
         "marker": {
          "color": "rgb(255, 255, 255)",
          "line": {
           "color": "rgb(0, 0, 0)",
           "width": 2
          },
          "size": 25
         },
         "mode": "markers+text",
         "text": [
          "D4",
          "E9",
          "E10",
          "E11",
          "F12",
          "F13",
          "F14",
          "F15",
          "F16",
          "F17",
          "F18",
          "F19",
          "F20"
         ],
         "textfont": {
          "color": "rgb(0, 0, 0)"
         },
         "textposition": "middle center",
         "x": [
          0.5,
          0.5,
          0.25,
          0.75,
          0.25,
          0.5,
          0.75,
          0.05,
          0,
          0.25,
          0.95,
          1,
          0.75
         ],
         "y": [
          0.5,
          0.75,
          0.25,
          0.25,
          0.8,
          1,
          0.8,
          0.5,
          0.1,
          0,
          0.5,
          0.1,
          0
         ]
        }
       ],
       "layout": {
        "height": 360,
        "margin": {
         "b": 0,
         "l": 0,
         "r": 0,
         "t": 0
        },
        "showlegend": false,
        "width": 360,
        "xaxis": {
         "showgrid": false,
         "showticklabels": false,
         "zeroline": false
        },
        "yaxis": {
         "showgrid": false,
         "showticklabels": false,
         "zeroline": false
        }
       }
      },
      "text/html": [
       "<div id=\"5841e5d0-e475-4146-9985-ba0ed2909bd9\" style=\"height: 360px; width: 360px;\" class=\"plotly-graph-div\"></div><script type=\"text/javascript\">require([\"plotly\"], function(Plotly) { window.PLOTLYENV=window.PLOTLYENV || {};window.PLOTLYENV.BASE_URL=\"https://plot.ly\";Plotly.newPlot(\"5841e5d0-e475-4146-9985-ba0ed2909bd9\", [{\"hoverinfo\": \"none\", \"y\": [0.8, 1.0, null, 0.8, 0.5, null, 1.0, 0.8, null, 0.8, 0.5, null, 0.5, 0.1, null, 0.1, 0.0, null, 0.0, 0.0, null, 0.5, 0.1, null, 0.1, 0.0, null], \"x\": [0.25, 0.5, null, 0.25, 0.05, null, 0.5, 0.75, null, 0.75, 0.95, null, 0.05, 0.0, null, 0.0, 0.25, null, 0.25, 0.75, null, 0.95, 1.0, null, 1.0, 0.75, null], \"mode\": \"lines\", \"line\": {\"color\": \"rgb(192, 192, 192)\", \"width\": 2}}, {\"hoverinfo\": \"none\", \"y\": [0.5, 0.75, null, 0.5, 0.25, null, 0.5, 0.25, null, 0.75, 0.8, null, 0.75, 1.0, null, 0.75, 0.8, null, 0.25, 0.1, null, 0.25, 0.0, null, 0.25, 0.5, null, 0.25, 0.5, null, 0.25, 0.1, null, 0.25, 0.0, null], \"x\": [0.5, 0.5, null, 0.5, 0.25, null, 0.5, 0.75, null, 0.5, 0.25, null, 0.5, 0.5, null, 0.5, 0.75, null, 0.25, 0.0, null, 0.25, 0.25, null, 0.25, 0.05, null, 0.75, 0.95, null, 0.75, 1.0, null, 0.75, 0.75, null], \"mode\": \"lines\", \"line\": {\"color\": \"rgb(0, 0, 0)\", \"width\": 2}}, {\"hoverinfo\": \"none\", \"y\": [0.5, 0.75, 0.25, 0.25, 0.8, 1.0, 0.8, 0.5, 0.1, 0.0, 0.5, 0.1, 0.0], \"x\": [0.5, 0.5, 0.25, 0.75, 0.25, 0.5, 0.75, 0.05, 0.0, 0.25, 0.95, 1.0, 0.75], \"textfont\": {\"color\": \"rgb(0, 0, 0)\"}, \"text\": [\"D4\", \"E9\", \"E10\", \"E11\", \"F12\", \"F13\", \"F14\", \"F15\", \"F16\", \"F17\", \"F18\", \"F19\", \"F20\"], \"marker\": {\"color\": \"rgb(255, 255, 255)\", \"line\": {\"color\": \"rgb(0, 0, 0)\", \"width\": 2}, \"size\": 25}, \"textposition\": \"middle center\", \"mode\": \"markers+text\"}], {\"yaxis\": {\"showticklabels\": false, \"showgrid\": false, \"zeroline\": false}, \"height\": 360, \"showlegend\": false, \"margin\": {\"b\": 0, \"r\": 0, \"l\": 0, \"t\": 0}, \"width\": 360, \"xaxis\": {\"showticklabels\": false, \"showgrid\": false, \"zeroline\": false}}, {\"showLink\": false, \"displayModeBar\": false, \"linkText\": \"Export to plot.ly\"})});</script>"
      ],
      "text/vnd.plotly.v1+html": [
       "<div id=\"5841e5d0-e475-4146-9985-ba0ed2909bd9\" style=\"height: 360px; width: 360px;\" class=\"plotly-graph-div\"></div><script type=\"text/javascript\">require([\"plotly\"], function(Plotly) { window.PLOTLYENV=window.PLOTLYENV || {};window.PLOTLYENV.BASE_URL=\"https://plot.ly\";Plotly.newPlot(\"5841e5d0-e475-4146-9985-ba0ed2909bd9\", [{\"hoverinfo\": \"none\", \"y\": [0.8, 1.0, null, 0.8, 0.5, null, 1.0, 0.8, null, 0.8, 0.5, null, 0.5, 0.1, null, 0.1, 0.0, null, 0.0, 0.0, null, 0.5, 0.1, null, 0.1, 0.0, null], \"x\": [0.25, 0.5, null, 0.25, 0.05, null, 0.5, 0.75, null, 0.75, 0.95, null, 0.05, 0.0, null, 0.0, 0.25, null, 0.25, 0.75, null, 0.95, 1.0, null, 1.0, 0.75, null], \"mode\": \"lines\", \"line\": {\"color\": \"rgb(192, 192, 192)\", \"width\": 2}}, {\"hoverinfo\": \"none\", \"y\": [0.5, 0.75, null, 0.5, 0.25, null, 0.5, 0.25, null, 0.75, 0.8, null, 0.75, 1.0, null, 0.75, 0.8, null, 0.25, 0.1, null, 0.25, 0.0, null, 0.25, 0.5, null, 0.25, 0.5, null, 0.25, 0.1, null, 0.25, 0.0, null], \"x\": [0.5, 0.5, null, 0.5, 0.25, null, 0.5, 0.75, null, 0.5, 0.25, null, 0.5, 0.5, null, 0.5, 0.75, null, 0.25, 0.0, null, 0.25, 0.25, null, 0.25, 0.05, null, 0.75, 0.95, null, 0.75, 1.0, null, 0.75, 0.75, null], \"mode\": \"lines\", \"line\": {\"color\": \"rgb(0, 0, 0)\", \"width\": 2}}, {\"hoverinfo\": \"none\", \"y\": [0.5, 0.75, 0.25, 0.25, 0.8, 1.0, 0.8, 0.5, 0.1, 0.0, 0.5, 0.1, 0.0], \"x\": [0.5, 0.5, 0.25, 0.75, 0.25, 0.5, 0.75, 0.05, 0.0, 0.25, 0.95, 1.0, 0.75], \"textfont\": {\"color\": \"rgb(0, 0, 0)\"}, \"text\": [\"D4\", \"E9\", \"E10\", \"E11\", \"F12\", \"F13\", \"F14\", \"F15\", \"F16\", \"F17\", \"F18\", \"F19\", \"F20\"], \"marker\": {\"color\": \"rgb(255, 255, 255)\", \"line\": {\"color\": \"rgb(0, 0, 0)\", \"width\": 2}, \"size\": 25}, \"textposition\": \"middle center\", \"mode\": \"markers+text\"}], {\"yaxis\": {\"showticklabels\": false, \"showgrid\": false, \"zeroline\": false}, \"height\": 360, \"showlegend\": false, \"margin\": {\"b\": 0, \"r\": 0, \"l\": 0, \"t\": 0}, \"width\": 360, \"xaxis\": {\"showticklabels\": false, \"showgrid\": false, \"zeroline\": false}}, {\"showLink\": false, \"displayModeBar\": false, \"linkText\": \"Export to plot.ly\"})});</script>"
      ]
     },
     "metadata": {},
     "output_type": "display_data"
    }
   ],
   "source": [
    "g6 = load_graph('power-6.gml')\n",
    "\n",
    "show_graph(g6)"
   ]
  },
  {
   "cell_type": "markdown",
   "metadata": {},
   "source": [
    "## Definições\n",
    "\n",
    "* A **demanda** de um nó é um inteiro de $1$ a $23$.\n",
    "\n",
    "* A **oferta** de um nó $n$ para um nó $m$ é 24 menos a demanda de $n$ (se a aresta $\\{n, m\\}$ é forte) ou 8 menos a demanda de $n$ (se a aresta $\\{n, m\\}$ não é forte). Note que essa definição permite que a oferta seja negativa.\n",
    "\n",
    "* Um vizinho $m$ de $n$ é **aceitável** se a oferta de $m$ para $n$ é máxima em relação aos vizinhos de $n$ e maior ou igual que a demanda de $n$. Note que a segunda condição implica que um nó pode não ter vizinhos aceitáveis.\n",
    "\n",
    "## Algoritmo\n",
    "\n",
    "1. Inicialize a demanda de cada nó como um inteiro aleatório de $1$ a $23$.\n",
    "\n",
    "2. Para cada nó $n$, escolha aleatoriamente um (e apenas um) vizinho aceitável $m$. Defina que $n$ aceita $m$. Se não tem vizinhos aceitáveis, defina que não aceita ninguém.\n",
    "\n",
    "3. Para cada aresta $\\{n, m\\}$, defina que $n$ e $m$ fecharam se $n$ aceita $m$ e $m$ aceita $n$.\n",
    "\n",
    "4. Para cada nó $n$, incremente a demanda (se fechou e a demanda é menor que $23$) ou decremente a demanda (se não fechou e a demanda é maior que $1$).\n",
    "\n",
    "5. Repita os passos de 2 a 4 até as demandas convergirem."
   ]
  },
  {
   "cell_type": "code",
   "execution_count": 66,
   "metadata": {},
   "outputs": [
    {
     "data": {
      "application/vnd.plotly.v1+json": {
       "data": [
        {
         "hoverinfo": "none",
         "line": {
          "color": "rgb(0, 0, 0)",
          "width": 2
         },
         "mode": "lines",
         "x": [
          0.5,
          0,
          null
         ],
         "y": [
          1,
          0.6,
          null
         ]
        },
        {
         "hoverinfo": "none",
         "line": {
          "color": "rgb(0, 0, 0)",
          "width": 2
         },
         "mode": "lines",
         "x": [
          0.5,
          1,
          null
         ],
         "y": [
          1,
          0.6,
          null
         ]
        },
        {
         "hoverinfo": "none",
         "line": {
          "color": "rgb(0, 0, 0)",
          "width": 2
         },
         "mode": "lines",
         "x": [
          0,
          0,
          null
         ],
         "y": [
          0.6,
          0,
          null
         ]
        },
        {
         "hoverinfo": "none",
         "line": {
          "color": "rgb(0, 0, 0)",
          "width": 2
         },
         "mode": "lines",
         "x": [
          1,
          1,
          null
         ],
         "y": [
          0.6,
          0,
          null
         ]
        },
        {
         "hoverinfo": "none",
         "line": {
          "color": "rgb(192, 192, 192)",
          "width": 2
         },
         "mode": "lines",
         "x": [
          0,
          1,
          null
         ],
         "y": [
          0,
          0,
          null
         ]
        },
        {
         "hoverinfo": "none",
         "marker": {
          "color": "rgb(255, 0, 0)",
          "line": {
           "color": "rgb(0, 0, 0)",
           "width": 2
          },
          "size": 25
         },
         "mode": "markers+text",
         "text": [
          "15"
         ],
         "textfont": {
          "color": "rgb(255, 255, 255)"
         },
         "textposition": "middle center",
         "x": [
          0.5
         ],
         "y": [
          1
         ]
        },
        {
         "hoverinfo": "none",
         "marker": {
          "color": "rgb(255, 0, 0)",
          "line": {
           "color": "rgb(0, 0, 0)",
           "width": 2
          },
          "size": 25
         },
         "mode": "markers+text",
         "text": [
          "2"
         ],
         "textfont": {
          "color": "rgb(255, 255, 255)"
         },
         "textposition": "middle center",
         "x": [
          0
         ],
         "y": [
          0.6
         ]
        },
        {
         "hoverinfo": "none",
         "marker": {
          "color": "rgb(255, 0, 0)",
          "line": {
           "color": "rgb(0, 0, 0)",
           "width": 2
          },
          "size": 25
         },
         "mode": "markers+text",
         "text": [
          "8"
         ],
         "textfont": {
          "color": "rgb(255, 255, 255)"
         },
         "textposition": "middle center",
         "x": [
          1
         ],
         "y": [
          0.6
         ]
        },
        {
         "hoverinfo": "none",
         "marker": {
          "color": "rgb(255, 0, 0)",
          "line": {
           "color": "rgb(0, 0, 0)",
           "width": 2
          },
          "size": 25
         },
         "mode": "markers+text",
         "text": [
          "11"
         ],
         "textfont": {
          "color": "rgb(255, 255, 255)"
         },
         "textposition": "middle center",
         "x": [
          0
         ],
         "y": [
          0
         ]
        },
        {
         "hoverinfo": "none",
         "marker": {
          "color": "rgb(255, 0, 0)",
          "line": {
           "color": "rgb(0, 0, 0)",
           "width": 2
          },
          "size": 25
         },
         "mode": "markers+text",
         "text": [
          "17"
         ],
         "textfont": {
          "color": "rgb(255, 255, 255)"
         },
         "textposition": "middle center",
         "x": [
          1
         ],
         "y": [
          0
         ]
        }
       ],
       "frames": [
        {
         "data": [
          {
           "hoverinfo": "none",
           "line": {
            "color": "rgb(0, 0, 0)",
            "width": 2
           },
           "mode": "lines",
           "x": [
            0.5,
            0,
            null
           ],
           "y": [
            1,
            0.6,
            null
           ]
          },
          {
           "hoverinfo": "none",
           "line": {
            "color": "rgb(0, 0, 0)",
            "width": 2
           },
           "mode": "lines",
           "x": [
            0.5,
            1,
            null
           ],
           "y": [
            1,
            0.6,
            null
           ]
          },
          {
           "hoverinfo": "none",
           "line": {
            "color": "rgb(0, 0, 0)",
            "width": 2
           },
           "mode": "lines",
           "x": [
            0,
            0,
            null
           ],
           "y": [
            0.6,
            0,
            null
           ]
          },
          {
           "hoverinfo": "none",
           "line": {
            "color": "rgb(0, 0, 0)",
            "width": 2
           },
           "mode": "lines",
           "x": [
            1,
            1,
            null
           ],
           "y": [
            0.6,
            0,
            null
           ]
          },
          {
           "hoverinfo": "none",
           "line": {
            "color": "rgb(192, 192, 192)",
            "width": 2
           },
           "mode": "lines",
           "x": [
            0,
            1,
            null
           ],
           "y": [
            0,
            0,
            null
           ]
          },
          {
           "hoverinfo": "none",
           "marker": {
            "color": "rgb(255, 0, 0)",
            "line": {
             "color": "rgb(0, 0, 0)",
             "width": 2
            },
            "size": 25
           },
           "mode": "markers+text",
           "text": [
            "15"
           ],
           "textfont": {
            "color": "rgb(255, 255, 255)"
           },
           "textposition": "middle center",
           "x": [
            0.5
           ],
           "y": [
            1
           ]
          },
          {
           "hoverinfo": "none",
           "marker": {
            "color": "rgb(255, 0, 0)",
            "line": {
             "color": "rgb(0, 0, 0)",
             "width": 2
            },
            "size": 25
           },
           "mode": "markers+text",
           "text": [
            "2"
           ],
           "textfont": {
            "color": "rgb(255, 255, 255)"
           },
           "textposition": "middle center",
           "x": [
            0
           ],
           "y": [
            0.6
           ]
          },
          {
           "hoverinfo": "none",
           "marker": {
            "color": "rgb(255, 0, 0)",
            "line": {
             "color": "rgb(0, 0, 0)",
             "width": 2
            },
            "size": 25
           },
           "mode": "markers+text",
           "text": [
            "8"
           ],
           "textfont": {
            "color": "rgb(255, 255, 255)"
           },
           "textposition": "middle center",
           "x": [
            1
           ],
           "y": [
            0.6
           ]
          },
          {
           "hoverinfo": "none",
           "marker": {
            "color": "rgb(255, 0, 0)",
            "line": {
             "color": "rgb(0, 0, 0)",
             "width": 2
            },
            "size": 25
           },
           "mode": "markers+text",
           "text": [
            "11"
           ],
           "textfont": {
            "color": "rgb(255, 255, 255)"
           },
           "textposition": "middle center",
           "x": [
            0
           ],
           "y": [
            0
           ]
          },
          {
           "hoverinfo": "none",
           "marker": {
            "color": "rgb(255, 0, 0)",
            "line": {
             "color": "rgb(0, 0, 0)",
             "width": 2
            },
            "size": 25
           },
           "mode": "markers+text",
           "text": [
            "17"
           ],
           "textfont": {
            "color": "rgb(255, 255, 255)"
           },
           "textposition": "middle center",
           "x": [
            1
           ],
           "y": [
            0
           ]
          }
         ],
         "name": 0
        },
        {
         "data": [
          {
           "hoverinfo": "none",
           "line": {
            "color": "rgb(0, 0, 0)",
            "width": 2
           },
           "mode": "lines",
           "x": [
            0.5,
            0,
            null
           ],
           "y": [
            1,
            0.6,
            null
           ]
          },
          {
           "hoverinfo": "none",
           "line": {
            "color": "rgb(0, 0, 0)",
            "width": 2
           },
           "mode": "lines",
           "x": [
            0.5,
            1,
            null
           ],
           "y": [
            1,
            0.6,
            null
           ]
          },
          {
           "hoverinfo": "none",
           "line": {
            "color": "rgb(0, 255, 0)",
            "width": 2
           },
           "mode": "lines",
           "x": [
            0,
            0,
            null
           ],
           "y": [
            0.6,
            0,
            null
           ]
          },
          {
           "hoverinfo": "none",
           "line": {
            "color": "rgb(0, 255, 0)",
            "width": 2
           },
           "mode": "lines",
           "x": [
            1,
            1,
            null
           ],
           "y": [
            0.6,
            0,
            null
           ]
          },
          {
           "hoverinfo": "none",
           "line": {
            "color": "rgb(192, 192, 192)",
            "width": 2
           },
           "mode": "lines",
           "x": [
            0,
            1,
            null
           ],
           "y": [
            0,
            0,
            null
           ]
          },
          {
           "hoverinfo": "none",
           "marker": {
            "color": "rgb(255, 0, 0)",
            "line": {
             "color": "rgb(0, 0, 0)",
             "width": 2
            },
            "size": 25
           },
           "mode": "markers+text",
           "text": [
            "14"
           ],
           "textfont": {
            "color": "rgb(255, 255, 255)"
           },
           "textposition": "middle center",
           "x": [
            0.5
           ],
           "y": [
            1
           ]
          },
          {
           "hoverinfo": "none",
           "marker": {
            "color": "rgb(255, 0, 0)",
            "line": {
             "color": "rgb(0, 0, 0)",
             "width": 2
            },
            "size": 25
           },
           "mode": "markers+text",
           "text": [
            "3"
           ],
           "textfont": {
            "color": "rgb(255, 255, 255)"
           },
           "textposition": "middle center",
           "x": [
            0
           ],
           "y": [
            0.6
           ]
          },
          {
           "hoverinfo": "none",
           "marker": {
            "color": "rgb(255, 0, 0)",
            "line": {
             "color": "rgb(0, 0, 0)",
             "width": 2
            },
            "size": 25
           },
           "mode": "markers+text",
           "text": [
            "9"
           ],
           "textfont": {
            "color": "rgb(255, 255, 255)"
           },
           "textposition": "middle center",
           "x": [
            1
           ],
           "y": [
            0.6
           ]
          },
          {
           "hoverinfo": "none",
           "marker": {
            "color": "rgb(255, 0, 0)",
            "line": {
             "color": "rgb(0, 0, 0)",
             "width": 2
            },
            "size": 25
           },
           "mode": "markers+text",
           "text": [
            "12"
           ],
           "textfont": {
            "color": "rgb(255, 255, 255)"
           },
           "textposition": "middle center",
           "x": [
            0
           ],
           "y": [
            0
           ]
          },
          {
           "hoverinfo": "none",
           "marker": {
            "color": "rgb(255, 0, 0)",
            "line": {
             "color": "rgb(0, 0, 0)",
             "width": 2
            },
            "size": 25
           },
           "mode": "markers+text",
           "text": [
            "18"
           ],
           "textfont": {
            "color": "rgb(255, 255, 255)"
           },
           "textposition": "middle center",
           "x": [
            1
           ],
           "y": [
            0
           ]
          }
         ],
         "name": 1
        },
        {
         "data": [
          {
           "hoverinfo": "none",
           "line": {
            "color": "rgb(0, 0, 0)",
            "width": 2
           },
           "mode": "lines",
           "x": [
            0.5,
            0,
            null
           ],
           "y": [
            1,
            0.6,
            null
           ]
          },
          {
           "hoverinfo": "none",
           "line": {
            "color": "rgb(0, 255, 0)",
            "width": 2
           },
           "mode": "lines",
           "x": [
            0.5,
            1,
            null
           ],
           "y": [
            1,
            0.6,
            null
           ]
          },
          {
           "hoverinfo": "none",
           "line": {
            "color": "rgb(0, 255, 0)",
            "width": 2
           },
           "mode": "lines",
           "x": [
            0,
            0,
            null
           ],
           "y": [
            0.6,
            0,
            null
           ]
          },
          {
           "hoverinfo": "none",
           "line": {
            "color": "rgb(0, 0, 0)",
            "width": 2
           },
           "mode": "lines",
           "x": [
            1,
            1,
            null
           ],
           "y": [
            0.6,
            0,
            null
           ]
          },
          {
           "hoverinfo": "none",
           "line": {
            "color": "rgb(192, 192, 192)",
            "width": 2
           },
           "mode": "lines",
           "x": [
            0,
            1,
            null
           ],
           "y": [
            0,
            0,
            null
           ]
          },
          {
           "hoverinfo": "none",
           "marker": {
            "color": "rgb(255, 0, 0)",
            "line": {
             "color": "rgb(0, 0, 0)",
             "width": 2
            },
            "size": 25
           },
           "mode": "markers+text",
           "text": [
            "15"
           ],
           "textfont": {
            "color": "rgb(255, 255, 255)"
           },
           "textposition": "middle center",
           "x": [
            0.5
           ],
           "y": [
            1
           ]
          },
          {
           "hoverinfo": "none",
           "marker": {
            "color": "rgb(255, 0, 0)",
            "line": {
             "color": "rgb(0, 0, 0)",
             "width": 2
            },
            "size": 25
           },
           "mode": "markers+text",
           "text": [
            "4"
           ],
           "textfont": {
            "color": "rgb(255, 255, 255)"
           },
           "textposition": "middle center",
           "x": [
            0
           ],
           "y": [
            0.6
           ]
          },
          {
           "hoverinfo": "none",
           "marker": {
            "color": "rgb(255, 0, 0)",
            "line": {
             "color": "rgb(0, 0, 0)",
             "width": 2
            },
            "size": 25
           },
           "mode": "markers+text",
           "text": [
            "10"
           ],
           "textfont": {
            "color": "rgb(255, 255, 255)"
           },
           "textposition": "middle center",
           "x": [
            1
           ],
           "y": [
            0.6
           ]
          },
          {
           "hoverinfo": "none",
           "marker": {
            "color": "rgb(255, 0, 0)",
            "line": {
             "color": "rgb(0, 0, 0)",
             "width": 2
            },
            "size": 25
           },
           "mode": "markers+text",
           "text": [
            "13"
           ],
           "textfont": {
            "color": "rgb(255, 255, 255)"
           },
           "textposition": "middle center",
           "x": [
            0
           ],
           "y": [
            0
           ]
          },
          {
           "hoverinfo": "none",
           "marker": {
            "color": "rgb(255, 0, 0)",
            "line": {
             "color": "rgb(0, 0, 0)",
             "width": 2
            },
            "size": 25
           },
           "mode": "markers+text",
           "text": [
            "18"
           ],
           "textfont": {
            "color": "rgb(255, 255, 255)"
           },
           "textposition": "middle center",
           "x": [
            1
           ],
           "y": [
            0
           ]
          }
         ],
         "name": 2
        },
        {
         "data": [
          {
           "hoverinfo": "none",
           "line": {
            "color": "rgb(0, 0, 0)",
            "width": 2
           },
           "mode": "lines",
           "x": [
            0.5,
            0,
            null
           ],
           "y": [
            1,
            0.6,
            null
           ]
          },
          {
           "hoverinfo": "none",
           "line": {
            "color": "rgb(0, 255, 0)",
            "width": 2
           },
           "mode": "lines",
           "x": [
            0.5,
            1,
            null
           ],
           "y": [
            1,
            0.6,
            null
           ]
          },
          {
           "hoverinfo": "none",
           "line": {
            "color": "rgb(0, 255, 0)",
            "width": 2
           },
           "mode": "lines",
           "x": [
            0,
            0,
            null
           ],
           "y": [
            0.6,
            0,
            null
           ]
          },
          {
           "hoverinfo": "none",
           "line": {
            "color": "rgb(0, 0, 0)",
            "width": 2
           },
           "mode": "lines",
           "x": [
            1,
            1,
            null
           ],
           "y": [
            0.6,
            0,
            null
           ]
          },
          {
           "hoverinfo": "none",
           "line": {
            "color": "rgb(192, 192, 192)",
            "width": 2
           },
           "mode": "lines",
           "x": [
            0,
            1,
            null
           ],
           "y": [
            0,
            0,
            null
           ]
          },
          {
           "hoverinfo": "none",
           "marker": {
            "color": "rgb(255, 0, 0)",
            "line": {
             "color": "rgb(0, 0, 0)",
             "width": 2
            },
            "size": 25
           },
           "mode": "markers+text",
           "text": [
            "16"
           ],
           "textfont": {
            "color": "rgb(255, 255, 255)"
           },
           "textposition": "middle center",
           "x": [
            0.5
           ],
           "y": [
            1
           ]
          },
          {
           "hoverinfo": "none",
           "marker": {
            "color": "rgb(255, 0, 0)",
            "line": {
             "color": "rgb(0, 0, 0)",
             "width": 2
            },
            "size": 25
           },
           "mode": "markers+text",
           "text": [
            "5"
           ],
           "textfont": {
            "color": "rgb(255, 255, 255)"
           },
           "textposition": "middle center",
           "x": [
            0
           ],
           "y": [
            0.6
           ]
          },
          {
           "hoverinfo": "none",
           "marker": {
            "color": "rgb(255, 0, 0)",
            "line": {
             "color": "rgb(0, 0, 0)",
             "width": 2
            },
            "size": 25
           },
           "mode": "markers+text",
           "text": [
            "11"
           ],
           "textfont": {
            "color": "rgb(255, 255, 255)"
           },
           "textposition": "middle center",
           "x": [
            1
           ],
           "y": [
            0.6
           ]
          },
          {
           "hoverinfo": "none",
           "marker": {
            "color": "rgb(255, 0, 0)",
            "line": {
             "color": "rgb(0, 0, 0)",
             "width": 2
            },
            "size": 25
           },
           "mode": "markers+text",
           "text": [
            "14"
           ],
           "textfont": {
            "color": "rgb(255, 255, 255)"
           },
           "textposition": "middle center",
           "x": [
            0
           ],
           "y": [
            0
           ]
          },
          {
           "hoverinfo": "none",
           "marker": {
            "color": "rgb(255, 0, 0)",
            "line": {
             "color": "rgb(0, 0, 0)",
             "width": 2
            },
            "size": 25
           },
           "mode": "markers+text",
           "text": [
            "18"
           ],
           "textfont": {
            "color": "rgb(255, 255, 255)"
           },
           "textposition": "middle center",
           "x": [
            1
           ],
           "y": [
            0
           ]
          }
         ],
         "name": 3
        },
        {
         "data": [
          {
           "hoverinfo": "none",
           "line": {
            "color": "rgb(0, 0, 0)",
            "width": 2
           },
           "mode": "lines",
           "x": [
            0.5,
            0,
            null
           ],
           "y": [
            1,
            0.6,
            null
           ]
          },
          {
           "hoverinfo": "none",
           "line": {
            "color": "rgb(0, 0, 0)",
            "width": 2
           },
           "mode": "lines",
           "x": [
            0.5,
            1,
            null
           ],
           "y": [
            1,
            0.6,
            null
           ]
          },
          {
           "hoverinfo": "none",
           "line": {
            "color": "rgb(0, 255, 0)",
            "width": 2
           },
           "mode": "lines",
           "x": [
            0,
            0,
            null
           ],
           "y": [
            0.6,
            0,
            null
           ]
          },
          {
           "hoverinfo": "none",
           "line": {
            "color": "rgb(0, 0, 0)",
            "width": 2
           },
           "mode": "lines",
           "x": [
            1,
            1,
            null
           ],
           "y": [
            0.6,
            0,
            null
           ]
          },
          {
           "hoverinfo": "none",
           "line": {
            "color": "rgb(192, 192, 192)",
            "width": 2
           },
           "mode": "lines",
           "x": [
            0,
            1,
            null
           ],
           "y": [
            0,
            0,
            null
           ]
          },
          {
           "hoverinfo": "none",
           "marker": {
            "color": "rgb(255, 0, 0)",
            "line": {
             "color": "rgb(0, 0, 0)",
             "width": 2
            },
            "size": 25
           },
           "mode": "markers+text",
           "text": [
            "15"
           ],
           "textfont": {
            "color": "rgb(255, 255, 255)"
           },
           "textposition": "middle center",
           "x": [
            0.5
           ],
           "y": [
            1
           ]
          },
          {
           "hoverinfo": "none",
           "marker": {
            "color": "rgb(255, 0, 0)",
            "line": {
             "color": "rgb(0, 0, 0)",
             "width": 2
            },
            "size": 25
           },
           "mode": "markers+text",
           "text": [
            "6"
           ],
           "textfont": {
            "color": "rgb(255, 255, 255)"
           },
           "textposition": "middle center",
           "x": [
            0
           ],
           "y": [
            0.6
           ]
          },
          {
           "hoverinfo": "none",
           "marker": {
            "color": "rgb(255, 0, 0)",
            "line": {
             "color": "rgb(0, 0, 0)",
             "width": 2
            },
            "size": 25
           },
           "mode": "markers+text",
           "text": [
            "11"
           ],
           "textfont": {
            "color": "rgb(255, 255, 255)"
           },
           "textposition": "middle center",
           "x": [
            1
           ],
           "y": [
            0.6
           ]
          },
          {
           "hoverinfo": "none",
           "marker": {
            "color": "rgb(255, 0, 0)",
            "line": {
             "color": "rgb(0, 0, 0)",
             "width": 2
            },
            "size": 25
           },
           "mode": "markers+text",
           "text": [
            "15"
           ],
           "textfont": {
            "color": "rgb(255, 255, 255)"
           },
           "textposition": "middle center",
           "x": [
            0
           ],
           "y": [
            0
           ]
          },
          {
           "hoverinfo": "none",
           "marker": {
            "color": "rgb(255, 0, 0)",
            "line": {
             "color": "rgb(0, 0, 0)",
             "width": 2
            },
            "size": 25
           },
           "mode": "markers+text",
           "text": [
            "18"
           ],
           "textfont": {
            "color": "rgb(255, 255, 255)"
           },
           "textposition": "middle center",
           "x": [
            1
           ],
           "y": [
            0
           ]
          }
         ],
         "name": 4
        },
        {
         "data": [
          {
           "hoverinfo": "none",
           "line": {
            "color": "rgb(0, 0, 0)",
            "width": 2
           },
           "mode": "lines",
           "x": [
            0.5,
            0,
            null
           ],
           "y": [
            1,
            0.6,
            null
           ]
          },
          {
           "hoverinfo": "none",
           "line": {
            "color": "rgb(0, 0, 0)",
            "width": 2
           },
           "mode": "lines",
           "x": [
            0.5,
            1,
            null
           ],
           "y": [
            1,
            0.6,
            null
           ]
          },
          {
           "hoverinfo": "none",
           "line": {
            "color": "rgb(0, 255, 0)",
            "width": 2
           },
           "mode": "lines",
           "x": [
            0,
            0,
            null
           ],
           "y": [
            0.6,
            0,
            null
           ]
          },
          {
           "hoverinfo": "none",
           "line": {
            "color": "rgb(0, 0, 0)",
            "width": 2
           },
           "mode": "lines",
           "x": [
            1,
            1,
            null
           ],
           "y": [
            0.6,
            0,
            null
           ]
          },
          {
           "hoverinfo": "none",
           "line": {
            "color": "rgb(192, 192, 192)",
            "width": 2
           },
           "mode": "lines",
           "x": [
            0,
            1,
            null
           ],
           "y": [
            0,
            0,
            null
           ]
          },
          {
           "hoverinfo": "none",
           "marker": {
            "color": "rgb(255, 0, 0)",
            "line": {
             "color": "rgb(0, 0, 0)",
             "width": 2
            },
            "size": 25
           },
           "mode": "markers+text",
           "text": [
            "14"
           ],
           "textfont": {
            "color": "rgb(255, 255, 255)"
           },
           "textposition": "middle center",
           "x": [
            0.5
           ],
           "y": [
            1
           ]
          },
          {
           "hoverinfo": "none",
           "marker": {
            "color": "rgb(255, 0, 0)",
            "line": {
             "color": "rgb(0, 0, 0)",
             "width": 2
            },
            "size": 25
           },
           "mode": "markers+text",
           "text": [
            "7"
           ],
           "textfont": {
            "color": "rgb(255, 255, 255)"
           },
           "textposition": "middle center",
           "x": [
            0
           ],
           "y": [
            0.6
           ]
          },
          {
           "hoverinfo": "none",
           "marker": {
            "color": "rgb(255, 0, 0)",
            "line": {
             "color": "rgb(0, 0, 0)",
             "width": 2
            },
            "size": 25
           },
           "mode": "markers+text",
           "text": [
            "11"
           ],
           "textfont": {
            "color": "rgb(255, 255, 255)"
           },
           "textposition": "middle center",
           "x": [
            1
           ],
           "y": [
            0.6
           ]
          },
          {
           "hoverinfo": "none",
           "marker": {
            "color": "rgb(255, 0, 0)",
            "line": {
             "color": "rgb(0, 0, 0)",
             "width": 2
            },
            "size": 25
           },
           "mode": "markers+text",
           "text": [
            "16"
           ],
           "textfont": {
            "color": "rgb(255, 255, 255)"
           },
           "textposition": "middle center",
           "x": [
            0
           ],
           "y": [
            0
           ]
          },
          {
           "hoverinfo": "none",
           "marker": {
            "color": "rgb(255, 0, 0)",
            "line": {
             "color": "rgb(0, 0, 0)",
             "width": 2
            },
            "size": 25
           },
           "mode": "markers+text",
           "text": [
            "18"
           ],
           "textfont": {
            "color": "rgb(255, 255, 255)"
           },
           "textposition": "middle center",
           "x": [
            1
           ],
           "y": [
            0
           ]
          }
         ],
         "name": 5
        },
        {
         "data": [
          {
           "hoverinfo": "none",
           "line": {
            "color": "rgb(0, 0, 0)",
            "width": 2
           },
           "mode": "lines",
           "x": [
            0.5,
            0,
            null
           ],
           "y": [
            1,
            0.6,
            null
           ]
          },
          {
           "hoverinfo": "none",
           "line": {
            "color": "rgb(0, 0, 0)",
            "width": 2
           },
           "mode": "lines",
           "x": [
            0.5,
            1,
            null
           ],
           "y": [
            1,
            0.6,
            null
           ]
          },
          {
           "hoverinfo": "none",
           "line": {
            "color": "rgb(0, 255, 0)",
            "width": 2
           },
           "mode": "lines",
           "x": [
            0,
            0,
            null
           ],
           "y": [
            0.6,
            0,
            null
           ]
          },
          {
           "hoverinfo": "none",
           "line": {
            "color": "rgb(0, 0, 0)",
            "width": 2
           },
           "mode": "lines",
           "x": [
            1,
            1,
            null
           ],
           "y": [
            0.6,
            0,
            null
           ]
          },
          {
           "hoverinfo": "none",
           "line": {
            "color": "rgb(192, 192, 192)",
            "width": 2
           },
           "mode": "lines",
           "x": [
            0,
            1,
            null
           ],
           "y": [
            0,
            0,
            null
           ]
          },
          {
           "hoverinfo": "none",
           "marker": {
            "color": "rgb(255, 0, 0)",
            "line": {
             "color": "rgb(0, 0, 0)",
             "width": 2
            },
            "size": 25
           },
           "mode": "markers+text",
           "text": [
            "13"
           ],
           "textfont": {
            "color": "rgb(255, 255, 255)"
           },
           "textposition": "middle center",
           "x": [
            0.5
           ],
           "y": [
            1
           ]
          },
          {
           "hoverinfo": "none",
           "marker": {
            "color": "rgb(255, 0, 0)",
            "line": {
             "color": "rgb(0, 0, 0)",
             "width": 2
            },
            "size": 25
           },
           "mode": "markers+text",
           "text": [
            "8"
           ],
           "textfont": {
            "color": "rgb(255, 255, 255)"
           },
           "textposition": "middle center",
           "x": [
            0
           ],
           "y": [
            0.6
           ]
          },
          {
           "hoverinfo": "none",
           "marker": {
            "color": "rgb(255, 0, 0)",
            "line": {
             "color": "rgb(0, 0, 0)",
             "width": 2
            },
            "size": 25
           },
           "mode": "markers+text",
           "text": [
            "10"
           ],
           "textfont": {
            "color": "rgb(255, 255, 255)"
           },
           "textposition": "middle center",
           "x": [
            1
           ],
           "y": [
            0.6
           ]
          },
          {
           "hoverinfo": "none",
           "marker": {
            "color": "rgb(255, 0, 0)",
            "line": {
             "color": "rgb(0, 0, 0)",
             "width": 2
            },
            "size": 25
           },
           "mode": "markers+text",
           "text": [
            "17"
           ],
           "textfont": {
            "color": "rgb(255, 255, 255)"
           },
           "textposition": "middle center",
           "x": [
            0
           ],
           "y": [
            0
           ]
          },
          {
           "hoverinfo": "none",
           "marker": {
            "color": "rgb(255, 0, 0)",
            "line": {
             "color": "rgb(0, 0, 0)",
             "width": 2
            },
            "size": 25
           },
           "mode": "markers+text",
           "text": [
            "18"
           ],
           "textfont": {
            "color": "rgb(255, 255, 255)"
           },
           "textposition": "middle center",
           "x": [
            1
           ],
           "y": [
            0
           ]
          }
         ],
         "name": 6
        },
        {
         "data": [
          {
           "hoverinfo": "none",
           "line": {
            "color": "rgb(0, 0, 0)",
            "width": 2
           },
           "mode": "lines",
           "x": [
            0.5,
            0,
            null
           ],
           "y": [
            1,
            0.6,
            null
           ]
          },
          {
           "hoverinfo": "none",
           "line": {
            "color": "rgb(0, 255, 0)",
            "width": 2
           },
           "mode": "lines",
           "x": [
            0.5,
            1,
            null
           ],
           "y": [
            1,
            0.6,
            null
           ]
          },
          {
           "hoverinfo": "none",
           "line": {
            "color": "rgb(0, 0, 0)",
            "width": 2
           },
           "mode": "lines",
           "x": [
            0,
            0,
            null
           ],
           "y": [
            0.6,
            0,
            null
           ]
          },
          {
           "hoverinfo": "none",
           "line": {
            "color": "rgb(0, 0, 0)",
            "width": 2
           },
           "mode": "lines",
           "x": [
            1,
            1,
            null
           ],
           "y": [
            0.6,
            0,
            null
           ]
          },
          {
           "hoverinfo": "none",
           "line": {
            "color": "rgb(192, 192, 192)",
            "width": 2
           },
           "mode": "lines",
           "x": [
            0,
            1,
            null
           ],
           "y": [
            0,
            0,
            null
           ]
          },
          {
           "hoverinfo": "none",
           "marker": {
            "color": "rgb(255, 0, 0)",
            "line": {
             "color": "rgb(0, 0, 0)",
             "width": 2
            },
            "size": 25
           },
           "mode": "markers+text",
           "text": [
            "14"
           ],
           "textfont": {
            "color": "rgb(255, 255, 255)"
           },
           "textposition": "middle center",
           "x": [
            0.5
           ],
           "y": [
            1
           ]
          },
          {
           "hoverinfo": "none",
           "marker": {
            "color": "rgb(255, 0, 0)",
            "line": {
             "color": "rgb(0, 0, 0)",
             "width": 2
            },
            "size": 25
           },
           "mode": "markers+text",
           "text": [
            "7"
           ],
           "textfont": {
            "color": "rgb(255, 255, 255)"
           },
           "textposition": "middle center",
           "x": [
            0
           ],
           "y": [
            0.6
           ]
          },
          {
           "hoverinfo": "none",
           "marker": {
            "color": "rgb(255, 0, 0)",
            "line": {
             "color": "rgb(0, 0, 0)",
             "width": 2
            },
            "size": 25
           },
           "mode": "markers+text",
           "text": [
            "11"
           ],
           "textfont": {
            "color": "rgb(255, 255, 255)"
           },
           "textposition": "middle center",
           "x": [
            1
           ],
           "y": [
            0.6
           ]
          },
          {
           "hoverinfo": "none",
           "marker": {
            "color": "rgb(255, 0, 0)",
            "line": {
             "color": "rgb(0, 0, 0)",
             "width": 2
            },
            "size": 25
           },
           "mode": "markers+text",
           "text": [
            "16"
           ],
           "textfont": {
            "color": "rgb(255, 255, 255)"
           },
           "textposition": "middle center",
           "x": [
            0
           ],
           "y": [
            0
           ]
          },
          {
           "hoverinfo": "none",
           "marker": {
            "color": "rgb(255, 0, 0)",
            "line": {
             "color": "rgb(0, 0, 0)",
             "width": 2
            },
            "size": 25
           },
           "mode": "markers+text",
           "text": [
            "18"
           ],
           "textfont": {
            "color": "rgb(255, 255, 255)"
           },
           "textposition": "middle center",
           "x": [
            1
           ],
           "y": [
            0
           ]
          }
         ],
         "name": 7
        },
        {
         "data": [
          {
           "hoverinfo": "none",
           "line": {
            "color": "rgb(0, 0, 0)",
            "width": 2
           },
           "mode": "lines",
           "x": [
            0.5,
            0,
            null
           ],
           "y": [
            1,
            0.6,
            null
           ]
          },
          {
           "hoverinfo": "none",
           "line": {
            "color": "rgb(0, 0, 0)",
            "width": 2
           },
           "mode": "lines",
           "x": [
            0.5,
            1,
            null
           ],
           "y": [
            1,
            0.6,
            null
           ]
          },
          {
           "hoverinfo": "none",
           "line": {
            "color": "rgb(0, 255, 0)",
            "width": 2
           },
           "mode": "lines",
           "x": [
            0,
            0,
            null
           ],
           "y": [
            0.6,
            0,
            null
           ]
          },
          {
           "hoverinfo": "none",
           "line": {
            "color": "rgb(0, 0, 0)",
            "width": 2
           },
           "mode": "lines",
           "x": [
            1,
            1,
            null
           ],
           "y": [
            0.6,
            0,
            null
           ]
          },
          {
           "hoverinfo": "none",
           "line": {
            "color": "rgb(192, 192, 192)",
            "width": 2
           },
           "mode": "lines",
           "x": [
            0,
            1,
            null
           ],
           "y": [
            0,
            0,
            null
           ]
          },
          {
           "hoverinfo": "none",
           "marker": {
            "color": "rgb(255, 0, 0)",
            "line": {
             "color": "rgb(0, 0, 0)",
             "width": 2
            },
            "size": 25
           },
           "mode": "markers+text",
           "text": [
            "13"
           ],
           "textfont": {
            "color": "rgb(255, 255, 255)"
           },
           "textposition": "middle center",
           "x": [
            0.5
           ],
           "y": [
            1
           ]
          },
          {
           "hoverinfo": "none",
           "marker": {
            "color": "rgb(255, 0, 0)",
            "line": {
             "color": "rgb(0, 0, 0)",
             "width": 2
            },
            "size": 25
           },
           "mode": "markers+text",
           "text": [
            "8"
           ],
           "textfont": {
            "color": "rgb(255, 255, 255)"
           },
           "textposition": "middle center",
           "x": [
            0
           ],
           "y": [
            0.6
           ]
          },
          {
           "hoverinfo": "none",
           "marker": {
            "color": "rgb(255, 0, 0)",
            "line": {
             "color": "rgb(0, 0, 0)",
             "width": 2
            },
            "size": 25
           },
           "mode": "markers+text",
           "text": [
            "10"
           ],
           "textfont": {
            "color": "rgb(255, 255, 255)"
           },
           "textposition": "middle center",
           "x": [
            1
           ],
           "y": [
            0.6
           ]
          },
          {
           "hoverinfo": "none",
           "marker": {
            "color": "rgb(255, 0, 0)",
            "line": {
             "color": "rgb(0, 0, 0)",
             "width": 2
            },
            "size": 25
           },
           "mode": "markers+text",
           "text": [
            "17"
           ],
           "textfont": {
            "color": "rgb(255, 255, 255)"
           },
           "textposition": "middle center",
           "x": [
            0
           ],
           "y": [
            0
           ]
          },
          {
           "hoverinfo": "none",
           "marker": {
            "color": "rgb(255, 0, 0)",
            "line": {
             "color": "rgb(0, 0, 0)",
             "width": 2
            },
            "size": 25
           },
           "mode": "markers+text",
           "text": [
            "18"
           ],
           "textfont": {
            "color": "rgb(255, 255, 255)"
           },
           "textposition": "middle center",
           "x": [
            1
           ],
           "y": [
            0
           ]
          }
         ],
         "name": 8
        },
        {
         "data": [
          {
           "hoverinfo": "none",
           "line": {
            "color": "rgb(0, 0, 0)",
            "width": 2
           },
           "mode": "lines",
           "x": [
            0.5,
            0,
            null
           ],
           "y": [
            1,
            0.6,
            null
           ]
          },
          {
           "hoverinfo": "none",
           "line": {
            "color": "rgb(0, 255, 0)",
            "width": 2
           },
           "mode": "lines",
           "x": [
            0.5,
            1,
            null
           ],
           "y": [
            1,
            0.6,
            null
           ]
          },
          {
           "hoverinfo": "none",
           "line": {
            "color": "rgb(0, 0, 0)",
            "width": 2
           },
           "mode": "lines",
           "x": [
            0,
            0,
            null
           ],
           "y": [
            0.6,
            0,
            null
           ]
          },
          {
           "hoverinfo": "none",
           "line": {
            "color": "rgb(0, 0, 0)",
            "width": 2
           },
           "mode": "lines",
           "x": [
            1,
            1,
            null
           ],
           "y": [
            0.6,
            0,
            null
           ]
          },
          {
           "hoverinfo": "none",
           "line": {
            "color": "rgb(192, 192, 192)",
            "width": 2
           },
           "mode": "lines",
           "x": [
            0,
            1,
            null
           ],
           "y": [
            0,
            0,
            null
           ]
          },
          {
           "hoverinfo": "none",
           "marker": {
            "color": "rgb(255, 0, 0)",
            "line": {
             "color": "rgb(0, 0, 0)",
             "width": 2
            },
            "size": 25
           },
           "mode": "markers+text",
           "text": [
            "14"
           ],
           "textfont": {
            "color": "rgb(255, 255, 255)"
           },
           "textposition": "middle center",
           "x": [
            0.5
           ],
           "y": [
            1
           ]
          },
          {
           "hoverinfo": "none",
           "marker": {
            "color": "rgb(255, 0, 0)",
            "line": {
             "color": "rgb(0, 0, 0)",
             "width": 2
            },
            "size": 25
           },
           "mode": "markers+text",
           "text": [
            "7"
           ],
           "textfont": {
            "color": "rgb(255, 255, 255)"
           },
           "textposition": "middle center",
           "x": [
            0
           ],
           "y": [
            0.6
           ]
          },
          {
           "hoverinfo": "none",
           "marker": {
            "color": "rgb(255, 0, 0)",
            "line": {
             "color": "rgb(0, 0, 0)",
             "width": 2
            },
            "size": 25
           },
           "mode": "markers+text",
           "text": [
            "11"
           ],
           "textfont": {
            "color": "rgb(255, 255, 255)"
           },
           "textposition": "middle center",
           "x": [
            1
           ],
           "y": [
            0.6
           ]
          },
          {
           "hoverinfo": "none",
           "marker": {
            "color": "rgb(255, 0, 0)",
            "line": {
             "color": "rgb(0, 0, 0)",
             "width": 2
            },
            "size": 25
           },
           "mode": "markers+text",
           "text": [
            "16"
           ],
           "textfont": {
            "color": "rgb(255, 255, 255)"
           },
           "textposition": "middle center",
           "x": [
            0
           ],
           "y": [
            0
           ]
          },
          {
           "hoverinfo": "none",
           "marker": {
            "color": "rgb(255, 0, 0)",
            "line": {
             "color": "rgb(0, 0, 0)",
             "width": 2
            },
            "size": 25
           },
           "mode": "markers+text",
           "text": [
            "18"
           ],
           "textfont": {
            "color": "rgb(255, 255, 255)"
           },
           "textposition": "middle center",
           "x": [
            1
           ],
           "y": [
            0
           ]
          }
         ],
         "name": 9
        },
        {
         "data": [
          {
           "hoverinfo": "none",
           "line": {
            "color": "rgb(0, 0, 0)",
            "width": 2
           },
           "mode": "lines",
           "x": [
            0.5,
            0,
            null
           ],
           "y": [
            1,
            0.6,
            null
           ]
          },
          {
           "hoverinfo": "none",
           "line": {
            "color": "rgb(0, 255, 0)",
            "width": 2
           },
           "mode": "lines",
           "x": [
            0.5,
            1,
            null
           ],
           "y": [
            1,
            0.6,
            null
           ]
          },
          {
           "hoverinfo": "none",
           "line": {
            "color": "rgb(0, 255, 0)",
            "width": 2
           },
           "mode": "lines",
           "x": [
            0,
            0,
            null
           ],
           "y": [
            0.6,
            0,
            null
           ]
          },
          {
           "hoverinfo": "none",
           "line": {
            "color": "rgb(0, 0, 0)",
            "width": 2
           },
           "mode": "lines",
           "x": [
            1,
            1,
            null
           ],
           "y": [
            0.6,
            0,
            null
           ]
          },
          {
           "hoverinfo": "none",
           "line": {
            "color": "rgb(192, 192, 192)",
            "width": 2
           },
           "mode": "lines",
           "x": [
            0,
            1,
            null
           ],
           "y": [
            0,
            0,
            null
           ]
          },
          {
           "hoverinfo": "none",
           "marker": {
            "color": "rgb(255, 0, 0)",
            "line": {
             "color": "rgb(0, 0, 0)",
             "width": 2
            },
            "size": 25
           },
           "mode": "markers+text",
           "text": [
            "15"
           ],
           "textfont": {
            "color": "rgb(255, 255, 255)"
           },
           "textposition": "middle center",
           "x": [
            0.5
           ],
           "y": [
            1
           ]
          },
          {
           "hoverinfo": "none",
           "marker": {
            "color": "rgb(255, 0, 0)",
            "line": {
             "color": "rgb(0, 0, 0)",
             "width": 2
            },
            "size": 25
           },
           "mode": "markers+text",
           "text": [
            "8"
           ],
           "textfont": {
            "color": "rgb(255, 255, 255)"
           },
           "textposition": "middle center",
           "x": [
            0
           ],
           "y": [
            0.6
           ]
          },
          {
           "hoverinfo": "none",
           "marker": {
            "color": "rgb(255, 0, 0)",
            "line": {
             "color": "rgb(0, 0, 0)",
             "width": 2
            },
            "size": 25
           },
           "mode": "markers+text",
           "text": [
            "12"
           ],
           "textfont": {
            "color": "rgb(255, 255, 255)"
           },
           "textposition": "middle center",
           "x": [
            1
           ],
           "y": [
            0.6
           ]
          },
          {
           "hoverinfo": "none",
           "marker": {
            "color": "rgb(255, 0, 0)",
            "line": {
             "color": "rgb(0, 0, 0)",
             "width": 2
            },
            "size": 25
           },
           "mode": "markers+text",
           "text": [
            "17"
           ],
           "textfont": {
            "color": "rgb(255, 255, 255)"
           },
           "textposition": "middle center",
           "x": [
            0
           ],
           "y": [
            0
           ]
          },
          {
           "hoverinfo": "none",
           "marker": {
            "color": "rgb(255, 0, 0)",
            "line": {
             "color": "rgb(0, 0, 0)",
             "width": 2
            },
            "size": 25
           },
           "mode": "markers+text",
           "text": [
            "18"
           ],
           "textfont": {
            "color": "rgb(255, 255, 255)"
           },
           "textposition": "middle center",
           "x": [
            1
           ],
           "y": [
            0
           ]
          }
         ],
         "name": 10
        },
        {
         "data": [
          {
           "hoverinfo": "none",
           "line": {
            "color": "rgb(0, 0, 0)",
            "width": 2
           },
           "mode": "lines",
           "x": [
            0.5,
            0,
            null
           ],
           "y": [
            1,
            0.6,
            null
           ]
          },
          {
           "hoverinfo": "none",
           "line": {
            "color": "rgb(0, 0, 0)",
            "width": 2
           },
           "mode": "lines",
           "x": [
            0.5,
            1,
            null
           ],
           "y": [
            1,
            0.6,
            null
           ]
          },
          {
           "hoverinfo": "none",
           "line": {
            "color": "rgb(0, 255, 0)",
            "width": 2
           },
           "mode": "lines",
           "x": [
            0,
            0,
            null
           ],
           "y": [
            0.6,
            0,
            null
           ]
          },
          {
           "hoverinfo": "none",
           "line": {
            "color": "rgb(0, 0, 0)",
            "width": 2
           },
           "mode": "lines",
           "x": [
            1,
            1,
            null
           ],
           "y": [
            0.6,
            0,
            null
           ]
          },
          {
           "hoverinfo": "none",
           "line": {
            "color": "rgb(192, 192, 192)",
            "width": 2
           },
           "mode": "lines",
           "x": [
            0,
            1,
            null
           ],
           "y": [
            0,
            0,
            null
           ]
          },
          {
           "hoverinfo": "none",
           "marker": {
            "color": "rgb(255, 0, 0)",
            "line": {
             "color": "rgb(0, 0, 0)",
             "width": 2
            },
            "size": 25
           },
           "mode": "markers+text",
           "text": [
            "14"
           ],
           "textfont": {
            "color": "rgb(255, 255, 255)"
           },
           "textposition": "middle center",
           "x": [
            0.5
           ],
           "y": [
            1
           ]
          },
          {
           "hoverinfo": "none",
           "marker": {
            "color": "rgb(255, 0, 0)",
            "line": {
             "color": "rgb(0, 0, 0)",
             "width": 2
            },
            "size": 25
           },
           "mode": "markers+text",
           "text": [
            "9"
           ],
           "textfont": {
            "color": "rgb(255, 255, 255)"
           },
           "textposition": "middle center",
           "x": [
            0
           ],
           "y": [
            0.6
           ]
          },
          {
           "hoverinfo": "none",
           "marker": {
            "color": "rgb(255, 0, 0)",
            "line": {
             "color": "rgb(0, 0, 0)",
             "width": 2
            },
            "size": 25
           },
           "mode": "markers+text",
           "text": [
            "12"
           ],
           "textfont": {
            "color": "rgb(255, 255, 255)"
           },
           "textposition": "middle center",
           "x": [
            1
           ],
           "y": [
            0.6
           ]
          },
          {
           "hoverinfo": "none",
           "marker": {
            "color": "rgb(255, 0, 0)",
            "line": {
             "color": "rgb(0, 0, 0)",
             "width": 2
            },
            "size": 25
           },
           "mode": "markers+text",
           "text": [
            "18"
           ],
           "textfont": {
            "color": "rgb(255, 255, 255)"
           },
           "textposition": "middle center",
           "x": [
            0
           ],
           "y": [
            0
           ]
          },
          {
           "hoverinfo": "none",
           "marker": {
            "color": "rgb(255, 0, 0)",
            "line": {
             "color": "rgb(0, 0, 0)",
             "width": 2
            },
            "size": 25
           },
           "mode": "markers+text",
           "text": [
            "18"
           ],
           "textfont": {
            "color": "rgb(255, 255, 255)"
           },
           "textposition": "middle center",
           "x": [
            1
           ],
           "y": [
            0
           ]
          }
         ],
         "name": 11
        },
        {
         "data": [
          {
           "hoverinfo": "none",
           "line": {
            "color": "rgb(0, 255, 0)",
            "width": 2
           },
           "mode": "lines",
           "x": [
            0.5,
            0,
            null
           ],
           "y": [
            1,
            0.6,
            null
           ]
          },
          {
           "hoverinfo": "none",
           "line": {
            "color": "rgb(0, 0, 0)",
            "width": 2
           },
           "mode": "lines",
           "x": [
            0.5,
            1,
            null
           ],
           "y": [
            1,
            0.6,
            null
           ]
          },
          {
           "hoverinfo": "none",
           "line": {
            "color": "rgb(0, 0, 0)",
            "width": 2
           },
           "mode": "lines",
           "x": [
            0,
            0,
            null
           ],
           "y": [
            0.6,
            0,
            null
           ]
          },
          {
           "hoverinfo": "none",
           "line": {
            "color": "rgb(0, 0, 0)",
            "width": 2
           },
           "mode": "lines",
           "x": [
            1,
            1,
            null
           ],
           "y": [
            0.6,
            0,
            null
           ]
          },
          {
           "hoverinfo": "none",
           "line": {
            "color": "rgb(192, 192, 192)",
            "width": 2
           },
           "mode": "lines",
           "x": [
            0,
            1,
            null
           ],
           "y": [
            0,
            0,
            null
           ]
          },
          {
           "hoverinfo": "none",
           "marker": {
            "color": "rgb(255, 0, 0)",
            "line": {
             "color": "rgb(0, 0, 0)",
             "width": 2
            },
            "size": 25
           },
           "mode": "markers+text",
           "text": [
            "15"
           ],
           "textfont": {
            "color": "rgb(255, 255, 255)"
           },
           "textposition": "middle center",
           "x": [
            0.5
           ],
           "y": [
            1
           ]
          },
          {
           "hoverinfo": "none",
           "marker": {
            "color": "rgb(255, 0, 0)",
            "line": {
             "color": "rgb(0, 0, 0)",
             "width": 2
            },
            "size": 25
           },
           "mode": "markers+text",
           "text": [
            "10"
           ],
           "textfont": {
            "color": "rgb(255, 255, 255)"
           },
           "textposition": "middle center",
           "x": [
            0
           ],
           "y": [
            0.6
           ]
          },
          {
           "hoverinfo": "none",
           "marker": {
            "color": "rgb(255, 0, 0)",
            "line": {
             "color": "rgb(0, 0, 0)",
             "width": 2
            },
            "size": 25
           },
           "mode": "markers+text",
           "text": [
            "12"
           ],
           "textfont": {
            "color": "rgb(255, 255, 255)"
           },
           "textposition": "middle center",
           "x": [
            1
           ],
           "y": [
            0.6
           ]
          },
          {
           "hoverinfo": "none",
           "marker": {
            "color": "rgb(255, 0, 0)",
            "line": {
             "color": "rgb(0, 0, 0)",
             "width": 2
            },
            "size": 25
           },
           "mode": "markers+text",
           "text": [
            "18"
           ],
           "textfont": {
            "color": "rgb(255, 255, 255)"
           },
           "textposition": "middle center",
           "x": [
            0
           ],
           "y": [
            0
           ]
          },
          {
           "hoverinfo": "none",
           "marker": {
            "color": "rgb(255, 0, 0)",
            "line": {
             "color": "rgb(0, 0, 0)",
             "width": 2
            },
            "size": 25
           },
           "mode": "markers+text",
           "text": [
            "18"
           ],
           "textfont": {
            "color": "rgb(255, 255, 255)"
           },
           "textposition": "middle center",
           "x": [
            1
           ],
           "y": [
            0
           ]
          }
         ],
         "name": 12
        },
        {
         "data": [
          {
           "hoverinfo": "none",
           "line": {
            "color": "rgb(0, 255, 0)",
            "width": 2
           },
           "mode": "lines",
           "x": [
            0.5,
            0,
            null
           ],
           "y": [
            1,
            0.6,
            null
           ]
          },
          {
           "hoverinfo": "none",
           "line": {
            "color": "rgb(0, 0, 0)",
            "width": 2
           },
           "mode": "lines",
           "x": [
            0.5,
            1,
            null
           ],
           "y": [
            1,
            0.6,
            null
           ]
          },
          {
           "hoverinfo": "none",
           "line": {
            "color": "rgb(0, 0, 0)",
            "width": 2
           },
           "mode": "lines",
           "x": [
            0,
            0,
            null
           ],
           "y": [
            0.6,
            0,
            null
           ]
          },
          {
           "hoverinfo": "none",
           "line": {
            "color": "rgb(0, 0, 0)",
            "width": 2
           },
           "mode": "lines",
           "x": [
            1,
            1,
            null
           ],
           "y": [
            0.6,
            0,
            null
           ]
          },
          {
           "hoverinfo": "none",
           "line": {
            "color": "rgb(192, 192, 192)",
            "width": 2
           },
           "mode": "lines",
           "x": [
            0,
            1,
            null
           ],
           "y": [
            0,
            0,
            null
           ]
          },
          {
           "hoverinfo": "none",
           "marker": {
            "color": "rgb(255, 0, 0)",
            "line": {
             "color": "rgb(0, 0, 0)",
             "width": 2
            },
            "size": 25
           },
           "mode": "markers+text",
           "text": [
            "16"
           ],
           "textfont": {
            "color": "rgb(255, 255, 255)"
           },
           "textposition": "middle center",
           "x": [
            0.5
           ],
           "y": [
            1
           ]
          },
          {
           "hoverinfo": "none",
           "marker": {
            "color": "rgb(255, 0, 0)",
            "line": {
             "color": "rgb(0, 0, 0)",
             "width": 2
            },
            "size": 25
           },
           "mode": "markers+text",
           "text": [
            "11"
           ],
           "textfont": {
            "color": "rgb(255, 255, 255)"
           },
           "textposition": "middle center",
           "x": [
            0
           ],
           "y": [
            0.6
           ]
          },
          {
           "hoverinfo": "none",
           "marker": {
            "color": "rgb(255, 0, 0)",
            "line": {
             "color": "rgb(0, 0, 0)",
             "width": 2
            },
            "size": 25
           },
           "mode": "markers+text",
           "text": [
            "12"
           ],
           "textfont": {
            "color": "rgb(255, 255, 255)"
           },
           "textposition": "middle center",
           "x": [
            1
           ],
           "y": [
            0.6
           ]
          },
          {
           "hoverinfo": "none",
           "marker": {
            "color": "rgb(255, 0, 0)",
            "line": {
             "color": "rgb(0, 0, 0)",
             "width": 2
            },
            "size": 25
           },
           "mode": "markers+text",
           "text": [
            "18"
           ],
           "textfont": {
            "color": "rgb(255, 255, 255)"
           },
           "textposition": "middle center",
           "x": [
            0
           ],
           "y": [
            0
           ]
          },
          {
           "hoverinfo": "none",
           "marker": {
            "color": "rgb(255, 0, 0)",
            "line": {
             "color": "rgb(0, 0, 0)",
             "width": 2
            },
            "size": 25
           },
           "mode": "markers+text",
           "text": [
            "18"
           ],
           "textfont": {
            "color": "rgb(255, 255, 255)"
           },
           "textposition": "middle center",
           "x": [
            1
           ],
           "y": [
            0
           ]
          }
         ],
         "name": 13
        },
        {
         "data": [
          {
           "hoverinfo": "none",
           "line": {
            "color": "rgb(0, 0, 0)",
            "width": 2
           },
           "mode": "lines",
           "x": [
            0.5,
            0,
            null
           ],
           "y": [
            1,
            0.6,
            null
           ]
          },
          {
           "hoverinfo": "none",
           "line": {
            "color": "rgb(0, 0, 0)",
            "width": 2
           },
           "mode": "lines",
           "x": [
            0.5,
            1,
            null
           ],
           "y": [
            1,
            0.6,
            null
           ]
          },
          {
           "hoverinfo": "none",
           "line": {
            "color": "rgb(0, 0, 0)",
            "width": 2
           },
           "mode": "lines",
           "x": [
            0,
            0,
            null
           ],
           "y": [
            0.6,
            0,
            null
           ]
          },
          {
           "hoverinfo": "none",
           "line": {
            "color": "rgb(0, 0, 0)",
            "width": 2
           },
           "mode": "lines",
           "x": [
            1,
            1,
            null
           ],
           "y": [
            0.6,
            0,
            null
           ]
          },
          {
           "hoverinfo": "none",
           "line": {
            "color": "rgb(192, 192, 192)",
            "width": 2
           },
           "mode": "lines",
           "x": [
            0,
            1,
            null
           ],
           "y": [
            0,
            0,
            null
           ]
          },
          {
           "hoverinfo": "none",
           "marker": {
            "color": "rgb(255, 0, 0)",
            "line": {
             "color": "rgb(0, 0, 0)",
             "width": 2
            },
            "size": 25
           },
           "mode": "markers+text",
           "text": [
            "16"
           ],
           "textfont": {
            "color": "rgb(255, 255, 255)"
           },
           "textposition": "middle center",
           "x": [
            0.5
           ],
           "y": [
            1
           ]
          },
          {
           "hoverinfo": "none",
           "marker": {
            "color": "rgb(255, 0, 0)",
            "line": {
             "color": "rgb(0, 0, 0)",
             "width": 2
            },
            "size": 25
           },
           "mode": "markers+text",
           "text": [
            "11"
           ],
           "textfont": {
            "color": "rgb(255, 255, 255)"
           },
           "textposition": "middle center",
           "x": [
            0
           ],
           "y": [
            0.6
           ]
          },
          {
           "hoverinfo": "none",
           "marker": {
            "color": "rgb(255, 0, 0)",
            "line": {
             "color": "rgb(0, 0, 0)",
             "width": 2
            },
            "size": 25
           },
           "mode": "markers+text",
           "text": [
            "12"
           ],
           "textfont": {
            "color": "rgb(255, 255, 255)"
           },
           "textposition": "middle center",
           "x": [
            1
           ],
           "y": [
            0.6
           ]
          },
          {
           "hoverinfo": "none",
           "marker": {
            "color": "rgb(255, 0, 0)",
            "line": {
             "color": "rgb(0, 0, 0)",
             "width": 2
            },
            "size": 25
           },
           "mode": "markers+text",
           "text": [
            "18"
           ],
           "textfont": {
            "color": "rgb(255, 255, 255)"
           },
           "textposition": "middle center",
           "x": [
            0
           ],
           "y": [
            0
           ]
          },
          {
           "hoverinfo": "none",
           "marker": {
            "color": "rgb(255, 0, 0)",
            "line": {
             "color": "rgb(0, 0, 0)",
             "width": 2
            },
            "size": 25
           },
           "mode": "markers+text",
           "text": [
            "18"
           ],
           "textfont": {
            "color": "rgb(255, 255, 255)"
           },
           "textposition": "middle center",
           "x": [
            1
           ],
           "y": [
            0
           ]
          }
         ],
         "name": 14
        }
       ],
       "layout": {
        "height": 436,
        "margin": {
         "b": 0,
         "l": 0,
         "r": 0,
         "t": 0
        },
        "showlegend": false,
        "sliders": [
         {
          "currentvalue": {
           "visible": false
          },
          "steps": [
           {
            "args": [
             [
              0
             ],
             {
              "frame": {
               "redraw": false
              },
              "mode": "immediate"
             }
            ],
            "label": "",
            "method": "animate"
           },
           {
            "args": [
             [
              1
             ],
             {
              "frame": {
               "redraw": false
              },
              "mode": "immediate"
             }
            ],
            "label": "",
            "method": "animate"
           },
           {
            "args": [
             [
              2
             ],
             {
              "frame": {
               "redraw": false
              },
              "mode": "immediate"
             }
            ],
            "label": "",
            "method": "animate"
           },
           {
            "args": [
             [
              3
             ],
             {
              "frame": {
               "redraw": false
              },
              "mode": "immediate"
             }
            ],
            "label": "",
            "method": "animate"
           },
           {
            "args": [
             [
              4
             ],
             {
              "frame": {
               "redraw": false
              },
              "mode": "immediate"
             }
            ],
            "label": "",
            "method": "animate"
           },
           {
            "args": [
             [
              5
             ],
             {
              "frame": {
               "redraw": false
              },
              "mode": "immediate"
             }
            ],
            "label": "",
            "method": "animate"
           },
           {
            "args": [
             [
              6
             ],
             {
              "frame": {
               "redraw": false
              },
              "mode": "immediate"
             }
            ],
            "label": "",
            "method": "animate"
           },
           {
            "args": [
             [
              7
             ],
             {
              "frame": {
               "redraw": false
              },
              "mode": "immediate"
             }
            ],
            "label": "",
            "method": "animate"
           },
           {
            "args": [
             [
              8
             ],
             {
              "frame": {
               "redraw": false
              },
              "mode": "immediate"
             }
            ],
            "label": "",
            "method": "animate"
           },
           {
            "args": [
             [
              9
             ],
             {
              "frame": {
               "redraw": false
              },
              "mode": "immediate"
             }
            ],
            "label": "",
            "method": "animate"
           },
           {
            "args": [
             [
              10
             ],
             {
              "frame": {
               "redraw": false
              },
              "mode": "immediate"
             }
            ],
            "label": "",
            "method": "animate"
           },
           {
            "args": [
             [
              11
             ],
             {
              "frame": {
               "redraw": false
              },
              "mode": "immediate"
             }
            ],
            "label": "",
            "method": "animate"
           },
           {
            "args": [
             [
              12
             ],
             {
              "frame": {
               "redraw": false
              },
              "mode": "immediate"
             }
            ],
            "label": "",
            "method": "animate"
           },
           {
            "args": [
             [
              13
             ],
             {
              "frame": {
               "redraw": false
              },
              "mode": "immediate"
             }
            ],
            "label": "",
            "method": "animate"
           },
           {
            "args": [
             [
              14
             ],
             {
              "frame": {
               "redraw": false
              },
              "mode": "immediate"
             }
            ],
            "label": "",
            "method": "animate"
           }
          ]
         }
        ],
        "updatemenus": [
         {
          "buttons": [
           {
            "args": [
             null,
             {
              "frame": {
               "redraw": false
              },
              "fromcurrent": true
             }
            ],
            "label": "Play",
            "method": "animate"
           },
           {
            "args": [
             [
              null
             ],
             {
              "frame": {
               "redraw": false
              },
              "mode": "immediate"
             }
            ],
            "label": "Pause",
            "method": "animate"
           }
          ],
          "showactive": true,
          "type": "buttons"
         }
        ],
        "width": 450,
        "xaxis": {
         "showgrid": false,
         "showticklabels": false,
         "zeroline": false
        },
        "yaxis": {
         "showgrid": false,
         "showticklabels": false,
         "zeroline": false
        }
       }
      },
      "text/html": [
       "<div id=\"2e3bffd3-023c-495a-8785-7e4b8c20abbe\" style=\"height: 436.0px; width: 450.0px;\" class=\"plotly-graph-div\"></div><script type=\"text/javascript\">require([\"plotly\"], function(Plotly) { window.PLOTLYENV=window.PLOTLYENV || {};window.PLOTLYENV.BASE_URL=\"https://plot.ly\";\n",
       "        Plotly.plot(\n",
       "            '2e3bffd3-023c-495a-8785-7e4b8c20abbe',\n",
       "            [{\"hoverinfo\": \"none\", \"y\": [1.0, 0.6, null], \"x\": [0.5, 0.0, null], \"mode\": \"lines\", \"line\": {\"color\": \"rgb(0, 0, 0)\", \"width\": 2}}, {\"hoverinfo\": \"none\", \"y\": [1.0, 0.6, null], \"x\": [0.5, 1.0, null], \"mode\": \"lines\", \"line\": {\"color\": \"rgb(0, 0, 0)\", \"width\": 2}}, {\"hoverinfo\": \"none\", \"y\": [0.6, 0.0, null], \"x\": [0.0, 0.0, null], \"mode\": \"lines\", \"line\": {\"color\": \"rgb(0, 0, 0)\", \"width\": 2}}, {\"hoverinfo\": \"none\", \"y\": [0.6, 0.0, null], \"x\": [1.0, 1.0, null], \"mode\": \"lines\", \"line\": {\"color\": \"rgb(0, 0, 0)\", \"width\": 2}}, {\"hoverinfo\": \"none\", \"y\": [0.0, 0.0, null], \"x\": [0.0, 1.0, null], \"mode\": \"lines\", \"line\": {\"color\": \"rgb(192, 192, 192)\", \"width\": 2}}, {\"hoverinfo\": \"none\", \"y\": [1.0], \"x\": [0.5], \"textfont\": {\"color\": \"rgb(255, 255, 255)\"}, \"text\": [\"15\"], \"marker\": {\"color\": \"rgb(255, 0, 0)\", \"line\": {\"color\": \"rgb(0, 0, 0)\", \"width\": 2}, \"size\": 25}, \"textposition\": \"middle center\", \"mode\": \"markers+text\"}, {\"hoverinfo\": \"none\", \"y\": [0.6], \"x\": [0.0], \"textfont\": {\"color\": \"rgb(255, 255, 255)\"}, \"text\": [\"2\"], \"marker\": {\"color\": \"rgb(255, 0, 0)\", \"line\": {\"color\": \"rgb(0, 0, 0)\", \"width\": 2}, \"size\": 25}, \"textposition\": \"middle center\", \"mode\": \"markers+text\"}, {\"hoverinfo\": \"none\", \"y\": [0.6], \"x\": [1.0], \"textfont\": {\"color\": \"rgb(255, 255, 255)\"}, \"text\": [\"8\"], \"marker\": {\"color\": \"rgb(255, 0, 0)\", \"line\": {\"color\": \"rgb(0, 0, 0)\", \"width\": 2}, \"size\": 25}, \"textposition\": \"middle center\", \"mode\": \"markers+text\"}, {\"hoverinfo\": \"none\", \"y\": [0.0], \"x\": [0.0], \"textfont\": {\"color\": \"rgb(255, 255, 255)\"}, \"text\": [\"11\"], \"marker\": {\"color\": \"rgb(255, 0, 0)\", \"line\": {\"color\": \"rgb(0, 0, 0)\", \"width\": 2}, \"size\": 25}, \"textposition\": \"middle center\", \"mode\": \"markers+text\"}, {\"hoverinfo\": \"none\", \"y\": [0.0], \"x\": [1.0], \"textfont\": {\"color\": \"rgb(255, 255, 255)\"}, \"text\": [\"17\"], \"marker\": {\"color\": \"rgb(255, 0, 0)\", \"line\": {\"color\": \"rgb(0, 0, 0)\", \"width\": 2}, \"size\": 25}, \"textposition\": \"middle center\", \"mode\": \"markers+text\"}],\n",
       "            {\"updatemenus\": [{\"type\": \"buttons\", \"showactive\": true, \"buttons\": [{\"label\": \"Play\", \"args\": [null, {\"frame\": {\"redraw\": false}, \"fromcurrent\": true}], \"method\": \"animate\"}, {\"label\": \"Pause\", \"args\": [[null], {\"frame\": {\"redraw\": false}, \"mode\": \"immediate\"}], \"method\": \"animate\"}]}], \"width\": 450.0, \"height\": 436.0, \"showlegend\": false, \"sliders\": [{\"currentvalue\": {\"visible\": false}, \"steps\": [{\"label\": \"\", \"args\": [[0], {\"frame\": {\"redraw\": false}, \"mode\": \"immediate\"}], \"method\": \"animate\"}, {\"label\": \"\", \"args\": [[1], {\"frame\": {\"redraw\": false}, \"mode\": \"immediate\"}], \"method\": \"animate\"}, {\"label\": \"\", \"args\": [[2], {\"frame\": {\"redraw\": false}, \"mode\": \"immediate\"}], \"method\": \"animate\"}, {\"label\": \"\", \"args\": [[3], {\"frame\": {\"redraw\": false}, \"mode\": \"immediate\"}], \"method\": \"animate\"}, {\"label\": \"\", \"args\": [[4], {\"frame\": {\"redraw\": false}, \"mode\": \"immediate\"}], \"method\": \"animate\"}, {\"label\": \"\", \"args\": [[5], {\"frame\": {\"redraw\": false}, \"mode\": \"immediate\"}], \"method\": \"animate\"}, {\"label\": \"\", \"args\": [[6], {\"frame\": {\"redraw\": false}, \"mode\": \"immediate\"}], \"method\": \"animate\"}, {\"label\": \"\", \"args\": [[7], {\"frame\": {\"redraw\": false}, \"mode\": \"immediate\"}], \"method\": \"animate\"}, {\"label\": \"\", \"args\": [[8], {\"frame\": {\"redraw\": false}, \"mode\": \"immediate\"}], \"method\": \"animate\"}, {\"label\": \"\", \"args\": [[9], {\"frame\": {\"redraw\": false}, \"mode\": \"immediate\"}], \"method\": \"animate\"}, {\"label\": \"\", \"args\": [[10], {\"frame\": {\"redraw\": false}, \"mode\": \"immediate\"}], \"method\": \"animate\"}, {\"label\": \"\", \"args\": [[11], {\"frame\": {\"redraw\": false}, \"mode\": \"immediate\"}], \"method\": \"animate\"}, {\"label\": \"\", \"args\": [[12], {\"frame\": {\"redraw\": false}, \"mode\": \"immediate\"}], \"method\": \"animate\"}, {\"label\": \"\", \"args\": [[13], {\"frame\": {\"redraw\": false}, \"mode\": \"immediate\"}], \"method\": \"animate\"}, {\"label\": \"\", \"args\": [[14], {\"frame\": {\"redraw\": false}, \"mode\": \"immediate\"}], \"method\": \"animate\"}]}], \"margin\": {\"b\": 0, \"r\": 0, \"l\": 0, \"t\": 0}, \"yaxis\": {\"showticklabels\": false, \"showgrid\": false, \"zeroline\": false}, \"xaxis\": {\"showticklabels\": false, \"showgrid\": false, \"zeroline\": false}},\n",
       "            {\"showLink\": false, \"displayModeBar\": false, \"linkText\": \"Export to plot.ly\"}\n",
       "        ).then(function () {return Plotly.addFrames('2e3bffd3-023c-495a-8785-7e4b8c20abbe',[{\"data\": [{\"hoverinfo\": \"none\", \"y\": [1.0, 0.6, null], \"x\": [0.5, 0.0, null], \"mode\": \"lines\", \"line\": {\"color\": \"rgb(0, 0, 0)\", \"width\": 2}}, {\"hoverinfo\": \"none\", \"y\": [1.0, 0.6, null], \"x\": [0.5, 1.0, null], \"mode\": \"lines\", \"line\": {\"color\": \"rgb(0, 0, 0)\", \"width\": 2}}, {\"hoverinfo\": \"none\", \"y\": [0.6, 0.0, null], \"x\": [0.0, 0.0, null], \"mode\": \"lines\", \"line\": {\"color\": \"rgb(0, 0, 0)\", \"width\": 2}}, {\"hoverinfo\": \"none\", \"y\": [0.6, 0.0, null], \"x\": [1.0, 1.0, null], \"mode\": \"lines\", \"line\": {\"color\": \"rgb(0, 0, 0)\", \"width\": 2}}, {\"hoverinfo\": \"none\", \"y\": [0.0, 0.0, null], \"x\": [0.0, 1.0, null], \"mode\": \"lines\", \"line\": {\"color\": \"rgb(192, 192, 192)\", \"width\": 2}}, {\"hoverinfo\": \"none\", \"y\": [1.0], \"x\": [0.5], \"textfont\": {\"color\": \"rgb(255, 255, 255)\"}, \"text\": [\"15\"], \"marker\": {\"color\": \"rgb(255, 0, 0)\", \"line\": {\"color\": \"rgb(0, 0, 0)\", \"width\": 2}, \"size\": 25}, \"textposition\": \"middle center\", \"mode\": \"markers+text\"}, {\"hoverinfo\": \"none\", \"y\": [0.6], \"x\": [0.0], \"textfont\": {\"color\": \"rgb(255, 255, 255)\"}, \"text\": [\"2\"], \"marker\": {\"color\": \"rgb(255, 0, 0)\", \"line\": {\"color\": \"rgb(0, 0, 0)\", \"width\": 2}, \"size\": 25}, \"textposition\": \"middle center\", \"mode\": \"markers+text\"}, {\"hoverinfo\": \"none\", \"y\": [0.6], \"x\": [1.0], \"textfont\": {\"color\": \"rgb(255, 255, 255)\"}, \"text\": [\"8\"], \"marker\": {\"color\": \"rgb(255, 0, 0)\", \"line\": {\"color\": \"rgb(0, 0, 0)\", \"width\": 2}, \"size\": 25}, \"textposition\": \"middle center\", \"mode\": \"markers+text\"}, {\"hoverinfo\": \"none\", \"y\": [0.0], \"x\": [0.0], \"textfont\": {\"color\": \"rgb(255, 255, 255)\"}, \"text\": [\"11\"], \"marker\": {\"color\": \"rgb(255, 0, 0)\", \"line\": {\"color\": \"rgb(0, 0, 0)\", \"width\": 2}, \"size\": 25}, \"textposition\": \"middle center\", \"mode\": \"markers+text\"}, {\"hoverinfo\": \"none\", \"y\": [0.0], \"x\": [1.0], \"textfont\": {\"color\": \"rgb(255, 255, 255)\"}, \"text\": [\"17\"], \"marker\": {\"color\": \"rgb(255, 0, 0)\", \"line\": {\"color\": \"rgb(0, 0, 0)\", \"width\": 2}, \"size\": 25}, \"textposition\": \"middle center\", \"mode\": \"markers+text\"}], \"name\": 0}, {\"data\": [{\"hoverinfo\": \"none\", \"y\": [1.0, 0.6, null], \"x\": [0.5, 0.0, null], \"mode\": \"lines\", \"line\": {\"color\": \"rgb(0, 0, 0)\", \"width\": 2}}, {\"hoverinfo\": \"none\", \"y\": [1.0, 0.6, null], \"x\": [0.5, 1.0, null], \"mode\": \"lines\", \"line\": {\"color\": \"rgb(0, 0, 0)\", \"width\": 2}}, {\"hoverinfo\": \"none\", \"y\": [0.6, 0.0, null], \"x\": [0.0, 0.0, null], \"mode\": \"lines\", \"line\": {\"color\": \"rgb(0, 255, 0)\", \"width\": 2}}, {\"hoverinfo\": \"none\", \"y\": [0.6, 0.0, null], \"x\": [1.0, 1.0, null], \"mode\": \"lines\", \"line\": {\"color\": \"rgb(0, 255, 0)\", \"width\": 2}}, {\"hoverinfo\": \"none\", \"y\": [0.0, 0.0, null], \"x\": [0.0, 1.0, null], \"mode\": \"lines\", \"line\": {\"color\": \"rgb(192, 192, 192)\", \"width\": 2}}, {\"hoverinfo\": \"none\", \"y\": [1.0], \"x\": [0.5], \"textfont\": {\"color\": \"rgb(255, 255, 255)\"}, \"text\": [\"14\"], \"marker\": {\"color\": \"rgb(255, 0, 0)\", \"line\": {\"color\": \"rgb(0, 0, 0)\", \"width\": 2}, \"size\": 25}, \"textposition\": \"middle center\", \"mode\": \"markers+text\"}, {\"hoverinfo\": \"none\", \"y\": [0.6], \"x\": [0.0], \"textfont\": {\"color\": \"rgb(255, 255, 255)\"}, \"text\": [\"3\"], \"marker\": {\"color\": \"rgb(255, 0, 0)\", \"line\": {\"color\": \"rgb(0, 0, 0)\", \"width\": 2}, \"size\": 25}, \"textposition\": \"middle center\", \"mode\": \"markers+text\"}, {\"hoverinfo\": \"none\", \"y\": [0.6], \"x\": [1.0], \"textfont\": {\"color\": \"rgb(255, 255, 255)\"}, \"text\": [\"9\"], \"marker\": {\"color\": \"rgb(255, 0, 0)\", \"line\": {\"color\": \"rgb(0, 0, 0)\", \"width\": 2}, \"size\": 25}, \"textposition\": \"middle center\", \"mode\": \"markers+text\"}, {\"hoverinfo\": \"none\", \"y\": [0.0], \"x\": [0.0], \"textfont\": {\"color\": \"rgb(255, 255, 255)\"}, \"text\": [\"12\"], \"marker\": {\"color\": \"rgb(255, 0, 0)\", \"line\": {\"color\": \"rgb(0, 0, 0)\", \"width\": 2}, \"size\": 25}, \"textposition\": \"middle center\", \"mode\": \"markers+text\"}, {\"hoverinfo\": \"none\", \"y\": [0.0], \"x\": [1.0], \"textfont\": {\"color\": \"rgb(255, 255, 255)\"}, \"text\": [\"18\"], \"marker\": {\"color\": \"rgb(255, 0, 0)\", \"line\": {\"color\": \"rgb(0, 0, 0)\", \"width\": 2}, \"size\": 25}, \"textposition\": \"middle center\", \"mode\": \"markers+text\"}], \"name\": 1}, {\"data\": [{\"hoverinfo\": \"none\", \"y\": [1.0, 0.6, null], \"x\": [0.5, 0.0, null], \"mode\": \"lines\", \"line\": {\"color\": \"rgb(0, 0, 0)\", \"width\": 2}}, {\"hoverinfo\": \"none\", \"y\": [1.0, 0.6, null], \"x\": [0.5, 1.0, null], \"mode\": \"lines\", \"line\": {\"color\": \"rgb(0, 255, 0)\", \"width\": 2}}, {\"hoverinfo\": \"none\", \"y\": [0.6, 0.0, null], \"x\": [0.0, 0.0, null], \"mode\": \"lines\", \"line\": {\"color\": \"rgb(0, 255, 0)\", \"width\": 2}}, {\"hoverinfo\": \"none\", \"y\": [0.6, 0.0, null], \"x\": [1.0, 1.0, null], \"mode\": \"lines\", \"line\": {\"color\": \"rgb(0, 0, 0)\", \"width\": 2}}, {\"hoverinfo\": \"none\", \"y\": [0.0, 0.0, null], \"x\": [0.0, 1.0, null], \"mode\": \"lines\", \"line\": {\"color\": \"rgb(192, 192, 192)\", \"width\": 2}}, {\"hoverinfo\": \"none\", \"y\": [1.0], \"x\": [0.5], \"textfont\": {\"color\": \"rgb(255, 255, 255)\"}, \"text\": [\"15\"], \"marker\": {\"color\": \"rgb(255, 0, 0)\", \"line\": {\"color\": \"rgb(0, 0, 0)\", \"width\": 2}, \"size\": 25}, \"textposition\": \"middle center\", \"mode\": \"markers+text\"}, {\"hoverinfo\": \"none\", \"y\": [0.6], \"x\": [0.0], \"textfont\": {\"color\": \"rgb(255, 255, 255)\"}, \"text\": [\"4\"], \"marker\": {\"color\": \"rgb(255, 0, 0)\", \"line\": {\"color\": \"rgb(0, 0, 0)\", \"width\": 2}, \"size\": 25}, \"textposition\": \"middle center\", \"mode\": \"markers+text\"}, {\"hoverinfo\": \"none\", \"y\": [0.6], \"x\": [1.0], \"textfont\": {\"color\": \"rgb(255, 255, 255)\"}, \"text\": [\"10\"], \"marker\": {\"color\": \"rgb(255, 0, 0)\", \"line\": {\"color\": \"rgb(0, 0, 0)\", \"width\": 2}, \"size\": 25}, \"textposition\": \"middle center\", \"mode\": \"markers+text\"}, {\"hoverinfo\": \"none\", \"y\": [0.0], \"x\": [0.0], \"textfont\": {\"color\": \"rgb(255, 255, 255)\"}, \"text\": [\"13\"], \"marker\": {\"color\": \"rgb(255, 0, 0)\", \"line\": {\"color\": \"rgb(0, 0, 0)\", \"width\": 2}, \"size\": 25}, \"textposition\": \"middle center\", \"mode\": \"markers+text\"}, {\"hoverinfo\": \"none\", \"y\": [0.0], \"x\": [1.0], \"textfont\": {\"color\": \"rgb(255, 255, 255)\"}, \"text\": [\"18\"], \"marker\": {\"color\": \"rgb(255, 0, 0)\", \"line\": {\"color\": \"rgb(0, 0, 0)\", \"width\": 2}, \"size\": 25}, \"textposition\": \"middle center\", \"mode\": \"markers+text\"}], \"name\": 2}, {\"data\": [{\"hoverinfo\": \"none\", \"y\": [1.0, 0.6, null], \"x\": [0.5, 0.0, null], \"mode\": \"lines\", \"line\": {\"color\": \"rgb(0, 0, 0)\", \"width\": 2}}, {\"hoverinfo\": \"none\", \"y\": [1.0, 0.6, null], \"x\": [0.5, 1.0, null], \"mode\": \"lines\", \"line\": {\"color\": \"rgb(0, 255, 0)\", \"width\": 2}}, {\"hoverinfo\": \"none\", \"y\": [0.6, 0.0, null], \"x\": [0.0, 0.0, null], \"mode\": \"lines\", \"line\": {\"color\": \"rgb(0, 255, 0)\", \"width\": 2}}, {\"hoverinfo\": \"none\", \"y\": [0.6, 0.0, null], \"x\": [1.0, 1.0, null], \"mode\": \"lines\", \"line\": {\"color\": \"rgb(0, 0, 0)\", \"width\": 2}}, {\"hoverinfo\": \"none\", \"y\": [0.0, 0.0, null], \"x\": [0.0, 1.0, null], \"mode\": \"lines\", \"line\": {\"color\": \"rgb(192, 192, 192)\", \"width\": 2}}, {\"hoverinfo\": \"none\", \"y\": [1.0], \"x\": [0.5], \"textfont\": {\"color\": \"rgb(255, 255, 255)\"}, \"text\": [\"16\"], \"marker\": {\"color\": \"rgb(255, 0, 0)\", \"line\": {\"color\": \"rgb(0, 0, 0)\", \"width\": 2}, \"size\": 25}, \"textposition\": \"middle center\", \"mode\": \"markers+text\"}, {\"hoverinfo\": \"none\", \"y\": [0.6], \"x\": [0.0], \"textfont\": {\"color\": \"rgb(255, 255, 255)\"}, \"text\": [\"5\"], \"marker\": {\"color\": \"rgb(255, 0, 0)\", \"line\": {\"color\": \"rgb(0, 0, 0)\", \"width\": 2}, \"size\": 25}, \"textposition\": \"middle center\", \"mode\": \"markers+text\"}, {\"hoverinfo\": \"none\", \"y\": [0.6], \"x\": [1.0], \"textfont\": {\"color\": \"rgb(255, 255, 255)\"}, \"text\": [\"11\"], \"marker\": {\"color\": \"rgb(255, 0, 0)\", \"line\": {\"color\": \"rgb(0, 0, 0)\", \"width\": 2}, \"size\": 25}, \"textposition\": \"middle center\", \"mode\": \"markers+text\"}, {\"hoverinfo\": \"none\", \"y\": [0.0], \"x\": [0.0], \"textfont\": {\"color\": \"rgb(255, 255, 255)\"}, \"text\": [\"14\"], \"marker\": {\"color\": \"rgb(255, 0, 0)\", \"line\": {\"color\": \"rgb(0, 0, 0)\", \"width\": 2}, \"size\": 25}, \"textposition\": \"middle center\", \"mode\": \"markers+text\"}, {\"hoverinfo\": \"none\", \"y\": [0.0], \"x\": [1.0], \"textfont\": {\"color\": \"rgb(255, 255, 255)\"}, \"text\": [\"18\"], \"marker\": {\"color\": \"rgb(255, 0, 0)\", \"line\": {\"color\": \"rgb(0, 0, 0)\", \"width\": 2}, \"size\": 25}, \"textposition\": \"middle center\", \"mode\": \"markers+text\"}], \"name\": 3}, {\"data\": [{\"hoverinfo\": \"none\", \"y\": [1.0, 0.6, null], \"x\": [0.5, 0.0, null], \"mode\": \"lines\", \"line\": {\"color\": \"rgb(0, 0, 0)\", \"width\": 2}}, {\"hoverinfo\": \"none\", \"y\": [1.0, 0.6, null], \"x\": [0.5, 1.0, null], \"mode\": \"lines\", \"line\": {\"color\": \"rgb(0, 0, 0)\", \"width\": 2}}, {\"hoverinfo\": \"none\", \"y\": [0.6, 0.0, null], \"x\": [0.0, 0.0, null], \"mode\": \"lines\", \"line\": {\"color\": \"rgb(0, 255, 0)\", \"width\": 2}}, {\"hoverinfo\": \"none\", \"y\": [0.6, 0.0, null], \"x\": [1.0, 1.0, null], \"mode\": \"lines\", \"line\": {\"color\": \"rgb(0, 0, 0)\", \"width\": 2}}, {\"hoverinfo\": \"none\", \"y\": [0.0, 0.0, null], \"x\": [0.0, 1.0, null], \"mode\": \"lines\", \"line\": {\"color\": \"rgb(192, 192, 192)\", \"width\": 2}}, {\"hoverinfo\": \"none\", \"y\": [1.0], \"x\": [0.5], \"textfont\": {\"color\": \"rgb(255, 255, 255)\"}, \"text\": [\"15\"], \"marker\": {\"color\": \"rgb(255, 0, 0)\", \"line\": {\"color\": \"rgb(0, 0, 0)\", \"width\": 2}, \"size\": 25}, \"textposition\": \"middle center\", \"mode\": \"markers+text\"}, {\"hoverinfo\": \"none\", \"y\": [0.6], \"x\": [0.0], \"textfont\": {\"color\": \"rgb(255, 255, 255)\"}, \"text\": [\"6\"], \"marker\": {\"color\": \"rgb(255, 0, 0)\", \"line\": {\"color\": \"rgb(0, 0, 0)\", \"width\": 2}, \"size\": 25}, \"textposition\": \"middle center\", \"mode\": \"markers+text\"}, {\"hoverinfo\": \"none\", \"y\": [0.6], \"x\": [1.0], \"textfont\": {\"color\": \"rgb(255, 255, 255)\"}, \"text\": [\"11\"], \"marker\": {\"color\": \"rgb(255, 0, 0)\", \"line\": {\"color\": \"rgb(0, 0, 0)\", \"width\": 2}, \"size\": 25}, \"textposition\": \"middle center\", \"mode\": \"markers+text\"}, {\"hoverinfo\": \"none\", \"y\": [0.0], \"x\": [0.0], \"textfont\": {\"color\": \"rgb(255, 255, 255)\"}, \"text\": [\"15\"], \"marker\": {\"color\": \"rgb(255, 0, 0)\", \"line\": {\"color\": \"rgb(0, 0, 0)\", \"width\": 2}, \"size\": 25}, \"textposition\": \"middle center\", \"mode\": \"markers+text\"}, {\"hoverinfo\": \"none\", \"y\": [0.0], \"x\": [1.0], \"textfont\": {\"color\": \"rgb(255, 255, 255)\"}, \"text\": [\"18\"], \"marker\": {\"color\": \"rgb(255, 0, 0)\", \"line\": {\"color\": \"rgb(0, 0, 0)\", \"width\": 2}, \"size\": 25}, \"textposition\": \"middle center\", \"mode\": \"markers+text\"}], \"name\": 4}, {\"data\": [{\"hoverinfo\": \"none\", \"y\": [1.0, 0.6, null], \"x\": [0.5, 0.0, null], \"mode\": \"lines\", \"line\": {\"color\": \"rgb(0, 0, 0)\", \"width\": 2}}, {\"hoverinfo\": \"none\", \"y\": [1.0, 0.6, null], \"x\": [0.5, 1.0, null], \"mode\": \"lines\", \"line\": {\"color\": \"rgb(0, 0, 0)\", \"width\": 2}}, {\"hoverinfo\": \"none\", \"y\": [0.6, 0.0, null], \"x\": [0.0, 0.0, null], \"mode\": \"lines\", \"line\": {\"color\": \"rgb(0, 255, 0)\", \"width\": 2}}, {\"hoverinfo\": \"none\", \"y\": [0.6, 0.0, null], \"x\": [1.0, 1.0, null], \"mode\": \"lines\", \"line\": {\"color\": \"rgb(0, 0, 0)\", \"width\": 2}}, {\"hoverinfo\": \"none\", \"y\": [0.0, 0.0, null], \"x\": [0.0, 1.0, null], \"mode\": \"lines\", \"line\": {\"color\": \"rgb(192, 192, 192)\", \"width\": 2}}, {\"hoverinfo\": \"none\", \"y\": [1.0], \"x\": [0.5], \"textfont\": {\"color\": \"rgb(255, 255, 255)\"}, \"text\": [\"14\"], \"marker\": {\"color\": \"rgb(255, 0, 0)\", \"line\": {\"color\": \"rgb(0, 0, 0)\", \"width\": 2}, \"size\": 25}, \"textposition\": \"middle center\", \"mode\": \"markers+text\"}, {\"hoverinfo\": \"none\", \"y\": [0.6], \"x\": [0.0], \"textfont\": {\"color\": \"rgb(255, 255, 255)\"}, \"text\": [\"7\"], \"marker\": {\"color\": \"rgb(255, 0, 0)\", \"line\": {\"color\": \"rgb(0, 0, 0)\", \"width\": 2}, \"size\": 25}, \"textposition\": \"middle center\", \"mode\": \"markers+text\"}, {\"hoverinfo\": \"none\", \"y\": [0.6], \"x\": [1.0], \"textfont\": {\"color\": \"rgb(255, 255, 255)\"}, \"text\": [\"11\"], \"marker\": {\"color\": \"rgb(255, 0, 0)\", \"line\": {\"color\": \"rgb(0, 0, 0)\", \"width\": 2}, \"size\": 25}, \"textposition\": \"middle center\", \"mode\": \"markers+text\"}, {\"hoverinfo\": \"none\", \"y\": [0.0], \"x\": [0.0], \"textfont\": {\"color\": \"rgb(255, 255, 255)\"}, \"text\": [\"16\"], \"marker\": {\"color\": \"rgb(255, 0, 0)\", \"line\": {\"color\": \"rgb(0, 0, 0)\", \"width\": 2}, \"size\": 25}, \"textposition\": \"middle center\", \"mode\": \"markers+text\"}, {\"hoverinfo\": \"none\", \"y\": [0.0], \"x\": [1.0], \"textfont\": {\"color\": \"rgb(255, 255, 255)\"}, \"text\": [\"18\"], \"marker\": {\"color\": \"rgb(255, 0, 0)\", \"line\": {\"color\": \"rgb(0, 0, 0)\", \"width\": 2}, \"size\": 25}, \"textposition\": \"middle center\", \"mode\": \"markers+text\"}], \"name\": 5}, {\"data\": [{\"hoverinfo\": \"none\", \"y\": [1.0, 0.6, null], \"x\": [0.5, 0.0, null], \"mode\": \"lines\", \"line\": {\"color\": \"rgb(0, 0, 0)\", \"width\": 2}}, {\"hoverinfo\": \"none\", \"y\": [1.0, 0.6, null], \"x\": [0.5, 1.0, null], \"mode\": \"lines\", \"line\": {\"color\": \"rgb(0, 0, 0)\", \"width\": 2}}, {\"hoverinfo\": \"none\", \"y\": [0.6, 0.0, null], \"x\": [0.0, 0.0, null], \"mode\": \"lines\", \"line\": {\"color\": \"rgb(0, 255, 0)\", \"width\": 2}}, {\"hoverinfo\": \"none\", \"y\": [0.6, 0.0, null], \"x\": [1.0, 1.0, null], \"mode\": \"lines\", \"line\": {\"color\": \"rgb(0, 0, 0)\", \"width\": 2}}, {\"hoverinfo\": \"none\", \"y\": [0.0, 0.0, null], \"x\": [0.0, 1.0, null], \"mode\": \"lines\", \"line\": {\"color\": \"rgb(192, 192, 192)\", \"width\": 2}}, {\"hoverinfo\": \"none\", \"y\": [1.0], \"x\": [0.5], \"textfont\": {\"color\": \"rgb(255, 255, 255)\"}, \"text\": [\"13\"], \"marker\": {\"color\": \"rgb(255, 0, 0)\", \"line\": {\"color\": \"rgb(0, 0, 0)\", \"width\": 2}, \"size\": 25}, \"textposition\": \"middle center\", \"mode\": \"markers+text\"}, {\"hoverinfo\": \"none\", \"y\": [0.6], \"x\": [0.0], \"textfont\": {\"color\": \"rgb(255, 255, 255)\"}, \"text\": [\"8\"], \"marker\": {\"color\": \"rgb(255, 0, 0)\", \"line\": {\"color\": \"rgb(0, 0, 0)\", \"width\": 2}, \"size\": 25}, \"textposition\": \"middle center\", \"mode\": \"markers+text\"}, {\"hoverinfo\": \"none\", \"y\": [0.6], \"x\": [1.0], \"textfont\": {\"color\": \"rgb(255, 255, 255)\"}, \"text\": [\"10\"], \"marker\": {\"color\": \"rgb(255, 0, 0)\", \"line\": {\"color\": \"rgb(0, 0, 0)\", \"width\": 2}, \"size\": 25}, \"textposition\": \"middle center\", \"mode\": \"markers+text\"}, {\"hoverinfo\": \"none\", \"y\": [0.0], \"x\": [0.0], \"textfont\": {\"color\": \"rgb(255, 255, 255)\"}, \"text\": [\"17\"], \"marker\": {\"color\": \"rgb(255, 0, 0)\", \"line\": {\"color\": \"rgb(0, 0, 0)\", \"width\": 2}, \"size\": 25}, \"textposition\": \"middle center\", \"mode\": \"markers+text\"}, {\"hoverinfo\": \"none\", \"y\": [0.0], \"x\": [1.0], \"textfont\": {\"color\": \"rgb(255, 255, 255)\"}, \"text\": [\"18\"], \"marker\": {\"color\": \"rgb(255, 0, 0)\", \"line\": {\"color\": \"rgb(0, 0, 0)\", \"width\": 2}, \"size\": 25}, \"textposition\": \"middle center\", \"mode\": \"markers+text\"}], \"name\": 6}, {\"data\": [{\"hoverinfo\": \"none\", \"y\": [1.0, 0.6, null], \"x\": [0.5, 0.0, null], \"mode\": \"lines\", \"line\": {\"color\": \"rgb(0, 0, 0)\", \"width\": 2}}, {\"hoverinfo\": \"none\", \"y\": [1.0, 0.6, null], \"x\": [0.5, 1.0, null], \"mode\": \"lines\", \"line\": {\"color\": \"rgb(0, 255, 0)\", \"width\": 2}}, {\"hoverinfo\": \"none\", \"y\": [0.6, 0.0, null], \"x\": [0.0, 0.0, null], \"mode\": \"lines\", \"line\": {\"color\": \"rgb(0, 0, 0)\", \"width\": 2}}, {\"hoverinfo\": \"none\", \"y\": [0.6, 0.0, null], \"x\": [1.0, 1.0, null], \"mode\": \"lines\", \"line\": {\"color\": \"rgb(0, 0, 0)\", \"width\": 2}}, {\"hoverinfo\": \"none\", \"y\": [0.0, 0.0, null], \"x\": [0.0, 1.0, null], \"mode\": \"lines\", \"line\": {\"color\": \"rgb(192, 192, 192)\", \"width\": 2}}, {\"hoverinfo\": \"none\", \"y\": [1.0], \"x\": [0.5], \"textfont\": {\"color\": \"rgb(255, 255, 255)\"}, \"text\": [\"14\"], \"marker\": {\"color\": \"rgb(255, 0, 0)\", \"line\": {\"color\": \"rgb(0, 0, 0)\", \"width\": 2}, \"size\": 25}, \"textposition\": \"middle center\", \"mode\": \"markers+text\"}, {\"hoverinfo\": \"none\", \"y\": [0.6], \"x\": [0.0], \"textfont\": {\"color\": \"rgb(255, 255, 255)\"}, \"text\": [\"7\"], \"marker\": {\"color\": \"rgb(255, 0, 0)\", \"line\": {\"color\": \"rgb(0, 0, 0)\", \"width\": 2}, \"size\": 25}, \"textposition\": \"middle center\", \"mode\": \"markers+text\"}, {\"hoverinfo\": \"none\", \"y\": [0.6], \"x\": [1.0], \"textfont\": {\"color\": \"rgb(255, 255, 255)\"}, \"text\": [\"11\"], \"marker\": {\"color\": \"rgb(255, 0, 0)\", \"line\": {\"color\": \"rgb(0, 0, 0)\", \"width\": 2}, \"size\": 25}, \"textposition\": \"middle center\", \"mode\": \"markers+text\"}, {\"hoverinfo\": \"none\", \"y\": [0.0], \"x\": [0.0], \"textfont\": {\"color\": \"rgb(255, 255, 255)\"}, \"text\": [\"16\"], \"marker\": {\"color\": \"rgb(255, 0, 0)\", \"line\": {\"color\": \"rgb(0, 0, 0)\", \"width\": 2}, \"size\": 25}, \"textposition\": \"middle center\", \"mode\": \"markers+text\"}, {\"hoverinfo\": \"none\", \"y\": [0.0], \"x\": [1.0], \"textfont\": {\"color\": \"rgb(255, 255, 255)\"}, \"text\": [\"18\"], \"marker\": {\"color\": \"rgb(255, 0, 0)\", \"line\": {\"color\": \"rgb(0, 0, 0)\", \"width\": 2}, \"size\": 25}, \"textposition\": \"middle center\", \"mode\": \"markers+text\"}], \"name\": 7}, {\"data\": [{\"hoverinfo\": \"none\", \"y\": [1.0, 0.6, null], \"x\": [0.5, 0.0, null], \"mode\": \"lines\", \"line\": {\"color\": \"rgb(0, 0, 0)\", \"width\": 2}}, {\"hoverinfo\": \"none\", \"y\": [1.0, 0.6, null], \"x\": [0.5, 1.0, null], \"mode\": \"lines\", \"line\": {\"color\": \"rgb(0, 0, 0)\", \"width\": 2}}, {\"hoverinfo\": \"none\", \"y\": [0.6, 0.0, null], \"x\": [0.0, 0.0, null], \"mode\": \"lines\", \"line\": {\"color\": \"rgb(0, 255, 0)\", \"width\": 2}}, {\"hoverinfo\": \"none\", \"y\": [0.6, 0.0, null], \"x\": [1.0, 1.0, null], \"mode\": \"lines\", \"line\": {\"color\": \"rgb(0, 0, 0)\", \"width\": 2}}, {\"hoverinfo\": \"none\", \"y\": [0.0, 0.0, null], \"x\": [0.0, 1.0, null], \"mode\": \"lines\", \"line\": {\"color\": \"rgb(192, 192, 192)\", \"width\": 2}}, {\"hoverinfo\": \"none\", \"y\": [1.0], \"x\": [0.5], \"textfont\": {\"color\": \"rgb(255, 255, 255)\"}, \"text\": [\"13\"], \"marker\": {\"color\": \"rgb(255, 0, 0)\", \"line\": {\"color\": \"rgb(0, 0, 0)\", \"width\": 2}, \"size\": 25}, \"textposition\": \"middle center\", \"mode\": \"markers+text\"}, {\"hoverinfo\": \"none\", \"y\": [0.6], \"x\": [0.0], \"textfont\": {\"color\": \"rgb(255, 255, 255)\"}, \"text\": [\"8\"], \"marker\": {\"color\": \"rgb(255, 0, 0)\", \"line\": {\"color\": \"rgb(0, 0, 0)\", \"width\": 2}, \"size\": 25}, \"textposition\": \"middle center\", \"mode\": \"markers+text\"}, {\"hoverinfo\": \"none\", \"y\": [0.6], \"x\": [1.0], \"textfont\": {\"color\": \"rgb(255, 255, 255)\"}, \"text\": [\"10\"], \"marker\": {\"color\": \"rgb(255, 0, 0)\", \"line\": {\"color\": \"rgb(0, 0, 0)\", \"width\": 2}, \"size\": 25}, \"textposition\": \"middle center\", \"mode\": \"markers+text\"}, {\"hoverinfo\": \"none\", \"y\": [0.0], \"x\": [0.0], \"textfont\": {\"color\": \"rgb(255, 255, 255)\"}, \"text\": [\"17\"], \"marker\": {\"color\": \"rgb(255, 0, 0)\", \"line\": {\"color\": \"rgb(0, 0, 0)\", \"width\": 2}, \"size\": 25}, \"textposition\": \"middle center\", \"mode\": \"markers+text\"}, {\"hoverinfo\": \"none\", \"y\": [0.0], \"x\": [1.0], \"textfont\": {\"color\": \"rgb(255, 255, 255)\"}, \"text\": [\"18\"], \"marker\": {\"color\": \"rgb(255, 0, 0)\", \"line\": {\"color\": \"rgb(0, 0, 0)\", \"width\": 2}, \"size\": 25}, \"textposition\": \"middle center\", \"mode\": \"markers+text\"}], \"name\": 8}, {\"data\": [{\"hoverinfo\": \"none\", \"y\": [1.0, 0.6, null], \"x\": [0.5, 0.0, null], \"mode\": \"lines\", \"line\": {\"color\": \"rgb(0, 0, 0)\", \"width\": 2}}, {\"hoverinfo\": \"none\", \"y\": [1.0, 0.6, null], \"x\": [0.5, 1.0, null], \"mode\": \"lines\", \"line\": {\"color\": \"rgb(0, 255, 0)\", \"width\": 2}}, {\"hoverinfo\": \"none\", \"y\": [0.6, 0.0, null], \"x\": [0.0, 0.0, null], \"mode\": \"lines\", \"line\": {\"color\": \"rgb(0, 0, 0)\", \"width\": 2}}, {\"hoverinfo\": \"none\", \"y\": [0.6, 0.0, null], \"x\": [1.0, 1.0, null], \"mode\": \"lines\", \"line\": {\"color\": \"rgb(0, 0, 0)\", \"width\": 2}}, {\"hoverinfo\": \"none\", \"y\": [0.0, 0.0, null], \"x\": [0.0, 1.0, null], \"mode\": \"lines\", \"line\": {\"color\": \"rgb(192, 192, 192)\", \"width\": 2}}, {\"hoverinfo\": \"none\", \"y\": [1.0], \"x\": [0.5], \"textfont\": {\"color\": \"rgb(255, 255, 255)\"}, \"text\": [\"14\"], \"marker\": {\"color\": \"rgb(255, 0, 0)\", \"line\": {\"color\": \"rgb(0, 0, 0)\", \"width\": 2}, \"size\": 25}, \"textposition\": \"middle center\", \"mode\": \"markers+text\"}, {\"hoverinfo\": \"none\", \"y\": [0.6], \"x\": [0.0], \"textfont\": {\"color\": \"rgb(255, 255, 255)\"}, \"text\": [\"7\"], \"marker\": {\"color\": \"rgb(255, 0, 0)\", \"line\": {\"color\": \"rgb(0, 0, 0)\", \"width\": 2}, \"size\": 25}, \"textposition\": \"middle center\", \"mode\": \"markers+text\"}, {\"hoverinfo\": \"none\", \"y\": [0.6], \"x\": [1.0], \"textfont\": {\"color\": \"rgb(255, 255, 255)\"}, \"text\": [\"11\"], \"marker\": {\"color\": \"rgb(255, 0, 0)\", \"line\": {\"color\": \"rgb(0, 0, 0)\", \"width\": 2}, \"size\": 25}, \"textposition\": \"middle center\", \"mode\": \"markers+text\"}, {\"hoverinfo\": \"none\", \"y\": [0.0], \"x\": [0.0], \"textfont\": {\"color\": \"rgb(255, 255, 255)\"}, \"text\": [\"16\"], \"marker\": {\"color\": \"rgb(255, 0, 0)\", \"line\": {\"color\": \"rgb(0, 0, 0)\", \"width\": 2}, \"size\": 25}, \"textposition\": \"middle center\", \"mode\": \"markers+text\"}, {\"hoverinfo\": \"none\", \"y\": [0.0], \"x\": [1.0], \"textfont\": {\"color\": \"rgb(255, 255, 255)\"}, \"text\": [\"18\"], \"marker\": {\"color\": \"rgb(255, 0, 0)\", \"line\": {\"color\": \"rgb(0, 0, 0)\", \"width\": 2}, \"size\": 25}, \"textposition\": \"middle center\", \"mode\": \"markers+text\"}], \"name\": 9}, {\"data\": [{\"hoverinfo\": \"none\", \"y\": [1.0, 0.6, null], \"x\": [0.5, 0.0, null], \"mode\": \"lines\", \"line\": {\"color\": \"rgb(0, 0, 0)\", \"width\": 2}}, {\"hoverinfo\": \"none\", \"y\": [1.0, 0.6, null], \"x\": [0.5, 1.0, null], \"mode\": \"lines\", \"line\": {\"color\": \"rgb(0, 255, 0)\", \"width\": 2}}, {\"hoverinfo\": \"none\", \"y\": [0.6, 0.0, null], \"x\": [0.0, 0.0, null], \"mode\": \"lines\", \"line\": {\"color\": \"rgb(0, 255, 0)\", \"width\": 2}}, {\"hoverinfo\": \"none\", \"y\": [0.6, 0.0, null], \"x\": [1.0, 1.0, null], \"mode\": \"lines\", \"line\": {\"color\": \"rgb(0, 0, 0)\", \"width\": 2}}, {\"hoverinfo\": \"none\", \"y\": [0.0, 0.0, null], \"x\": [0.0, 1.0, null], \"mode\": \"lines\", \"line\": {\"color\": \"rgb(192, 192, 192)\", \"width\": 2}}, {\"hoverinfo\": \"none\", \"y\": [1.0], \"x\": [0.5], \"textfont\": {\"color\": \"rgb(255, 255, 255)\"}, \"text\": [\"15\"], \"marker\": {\"color\": \"rgb(255, 0, 0)\", \"line\": {\"color\": \"rgb(0, 0, 0)\", \"width\": 2}, \"size\": 25}, \"textposition\": \"middle center\", \"mode\": \"markers+text\"}, {\"hoverinfo\": \"none\", \"y\": [0.6], \"x\": [0.0], \"textfont\": {\"color\": \"rgb(255, 255, 255)\"}, \"text\": [\"8\"], \"marker\": {\"color\": \"rgb(255, 0, 0)\", \"line\": {\"color\": \"rgb(0, 0, 0)\", \"width\": 2}, \"size\": 25}, \"textposition\": \"middle center\", \"mode\": \"markers+text\"}, {\"hoverinfo\": \"none\", \"y\": [0.6], \"x\": [1.0], \"textfont\": {\"color\": \"rgb(255, 255, 255)\"}, \"text\": [\"12\"], \"marker\": {\"color\": \"rgb(255, 0, 0)\", \"line\": {\"color\": \"rgb(0, 0, 0)\", \"width\": 2}, \"size\": 25}, \"textposition\": \"middle center\", \"mode\": \"markers+text\"}, {\"hoverinfo\": \"none\", \"y\": [0.0], \"x\": [0.0], \"textfont\": {\"color\": \"rgb(255, 255, 255)\"}, \"text\": [\"17\"], \"marker\": {\"color\": \"rgb(255, 0, 0)\", \"line\": {\"color\": \"rgb(0, 0, 0)\", \"width\": 2}, \"size\": 25}, \"textposition\": \"middle center\", \"mode\": \"markers+text\"}, {\"hoverinfo\": \"none\", \"y\": [0.0], \"x\": [1.0], \"textfont\": {\"color\": \"rgb(255, 255, 255)\"}, \"text\": [\"18\"], \"marker\": {\"color\": \"rgb(255, 0, 0)\", \"line\": {\"color\": \"rgb(0, 0, 0)\", \"width\": 2}, \"size\": 25}, \"textposition\": \"middle center\", \"mode\": \"markers+text\"}], \"name\": 10}, {\"data\": [{\"hoverinfo\": \"none\", \"y\": [1.0, 0.6, null], \"x\": [0.5, 0.0, null], \"mode\": \"lines\", \"line\": {\"color\": \"rgb(0, 0, 0)\", \"width\": 2}}, {\"hoverinfo\": \"none\", \"y\": [1.0, 0.6, null], \"x\": [0.5, 1.0, null], \"mode\": \"lines\", \"line\": {\"color\": \"rgb(0, 0, 0)\", \"width\": 2}}, {\"hoverinfo\": \"none\", \"y\": [0.6, 0.0, null], \"x\": [0.0, 0.0, null], \"mode\": \"lines\", \"line\": {\"color\": \"rgb(0, 255, 0)\", \"width\": 2}}, {\"hoverinfo\": \"none\", \"y\": [0.6, 0.0, null], \"x\": [1.0, 1.0, null], \"mode\": \"lines\", \"line\": {\"color\": \"rgb(0, 0, 0)\", \"width\": 2}}, {\"hoverinfo\": \"none\", \"y\": [0.0, 0.0, null], \"x\": [0.0, 1.0, null], \"mode\": \"lines\", \"line\": {\"color\": \"rgb(192, 192, 192)\", \"width\": 2}}, {\"hoverinfo\": \"none\", \"y\": [1.0], \"x\": [0.5], \"textfont\": {\"color\": \"rgb(255, 255, 255)\"}, \"text\": [\"14\"], \"marker\": {\"color\": \"rgb(255, 0, 0)\", \"line\": {\"color\": \"rgb(0, 0, 0)\", \"width\": 2}, \"size\": 25}, \"textposition\": \"middle center\", \"mode\": \"markers+text\"}, {\"hoverinfo\": \"none\", \"y\": [0.6], \"x\": [0.0], \"textfont\": {\"color\": \"rgb(255, 255, 255)\"}, \"text\": [\"9\"], \"marker\": {\"color\": \"rgb(255, 0, 0)\", \"line\": {\"color\": \"rgb(0, 0, 0)\", \"width\": 2}, \"size\": 25}, \"textposition\": \"middle center\", \"mode\": \"markers+text\"}, {\"hoverinfo\": \"none\", \"y\": [0.6], \"x\": [1.0], \"textfont\": {\"color\": \"rgb(255, 255, 255)\"}, \"text\": [\"12\"], \"marker\": {\"color\": \"rgb(255, 0, 0)\", \"line\": {\"color\": \"rgb(0, 0, 0)\", \"width\": 2}, \"size\": 25}, \"textposition\": \"middle center\", \"mode\": \"markers+text\"}, {\"hoverinfo\": \"none\", \"y\": [0.0], \"x\": [0.0], \"textfont\": {\"color\": \"rgb(255, 255, 255)\"}, \"text\": [\"18\"], \"marker\": {\"color\": \"rgb(255, 0, 0)\", \"line\": {\"color\": \"rgb(0, 0, 0)\", \"width\": 2}, \"size\": 25}, \"textposition\": \"middle center\", \"mode\": \"markers+text\"}, {\"hoverinfo\": \"none\", \"y\": [0.0], \"x\": [1.0], \"textfont\": {\"color\": \"rgb(255, 255, 255)\"}, \"text\": [\"18\"], \"marker\": {\"color\": \"rgb(255, 0, 0)\", \"line\": {\"color\": \"rgb(0, 0, 0)\", \"width\": 2}, \"size\": 25}, \"textposition\": \"middle center\", \"mode\": \"markers+text\"}], \"name\": 11}, {\"data\": [{\"hoverinfo\": \"none\", \"y\": [1.0, 0.6, null], \"x\": [0.5, 0.0, null], \"mode\": \"lines\", \"line\": {\"color\": \"rgb(0, 255, 0)\", \"width\": 2}}, {\"hoverinfo\": \"none\", \"y\": [1.0, 0.6, null], \"x\": [0.5, 1.0, null], \"mode\": \"lines\", \"line\": {\"color\": \"rgb(0, 0, 0)\", \"width\": 2}}, {\"hoverinfo\": \"none\", \"y\": [0.6, 0.0, null], \"x\": [0.0, 0.0, null], \"mode\": \"lines\", \"line\": {\"color\": \"rgb(0, 0, 0)\", \"width\": 2}}, {\"hoverinfo\": \"none\", \"y\": [0.6, 0.0, null], \"x\": [1.0, 1.0, null], \"mode\": \"lines\", \"line\": {\"color\": \"rgb(0, 0, 0)\", \"width\": 2}}, {\"hoverinfo\": \"none\", \"y\": [0.0, 0.0, null], \"x\": [0.0, 1.0, null], \"mode\": \"lines\", \"line\": {\"color\": \"rgb(192, 192, 192)\", \"width\": 2}}, {\"hoverinfo\": \"none\", \"y\": [1.0], \"x\": [0.5], \"textfont\": {\"color\": \"rgb(255, 255, 255)\"}, \"text\": [\"15\"], \"marker\": {\"color\": \"rgb(255, 0, 0)\", \"line\": {\"color\": \"rgb(0, 0, 0)\", \"width\": 2}, \"size\": 25}, \"textposition\": \"middle center\", \"mode\": \"markers+text\"}, {\"hoverinfo\": \"none\", \"y\": [0.6], \"x\": [0.0], \"textfont\": {\"color\": \"rgb(255, 255, 255)\"}, \"text\": [\"10\"], \"marker\": {\"color\": \"rgb(255, 0, 0)\", \"line\": {\"color\": \"rgb(0, 0, 0)\", \"width\": 2}, \"size\": 25}, \"textposition\": \"middle center\", \"mode\": \"markers+text\"}, {\"hoverinfo\": \"none\", \"y\": [0.6], \"x\": [1.0], \"textfont\": {\"color\": \"rgb(255, 255, 255)\"}, \"text\": [\"12\"], \"marker\": {\"color\": \"rgb(255, 0, 0)\", \"line\": {\"color\": \"rgb(0, 0, 0)\", \"width\": 2}, \"size\": 25}, \"textposition\": \"middle center\", \"mode\": \"markers+text\"}, {\"hoverinfo\": \"none\", \"y\": [0.0], \"x\": [0.0], \"textfont\": {\"color\": \"rgb(255, 255, 255)\"}, \"text\": [\"18\"], \"marker\": {\"color\": \"rgb(255, 0, 0)\", \"line\": {\"color\": \"rgb(0, 0, 0)\", \"width\": 2}, \"size\": 25}, \"textposition\": \"middle center\", \"mode\": \"markers+text\"}, {\"hoverinfo\": \"none\", \"y\": [0.0], \"x\": [1.0], \"textfont\": {\"color\": \"rgb(255, 255, 255)\"}, \"text\": [\"18\"], \"marker\": {\"color\": \"rgb(255, 0, 0)\", \"line\": {\"color\": \"rgb(0, 0, 0)\", \"width\": 2}, \"size\": 25}, \"textposition\": \"middle center\", \"mode\": \"markers+text\"}], \"name\": 12}, {\"data\": [{\"hoverinfo\": \"none\", \"y\": [1.0, 0.6, null], \"x\": [0.5, 0.0, null], \"mode\": \"lines\", \"line\": {\"color\": \"rgb(0, 255, 0)\", \"width\": 2}}, {\"hoverinfo\": \"none\", \"y\": [1.0, 0.6, null], \"x\": [0.5, 1.0, null], \"mode\": \"lines\", \"line\": {\"color\": \"rgb(0, 0, 0)\", \"width\": 2}}, {\"hoverinfo\": \"none\", \"y\": [0.6, 0.0, null], \"x\": [0.0, 0.0, null], \"mode\": \"lines\", \"line\": {\"color\": \"rgb(0, 0, 0)\", \"width\": 2}}, {\"hoverinfo\": \"none\", \"y\": [0.6, 0.0, null], \"x\": [1.0, 1.0, null], \"mode\": \"lines\", \"line\": {\"color\": \"rgb(0, 0, 0)\", \"width\": 2}}, {\"hoverinfo\": \"none\", \"y\": [0.0, 0.0, null], \"x\": [0.0, 1.0, null], \"mode\": \"lines\", \"line\": {\"color\": \"rgb(192, 192, 192)\", \"width\": 2}}, {\"hoverinfo\": \"none\", \"y\": [1.0], \"x\": [0.5], \"textfont\": {\"color\": \"rgb(255, 255, 255)\"}, \"text\": [\"16\"], \"marker\": {\"color\": \"rgb(255, 0, 0)\", \"line\": {\"color\": \"rgb(0, 0, 0)\", \"width\": 2}, \"size\": 25}, \"textposition\": \"middle center\", \"mode\": \"markers+text\"}, {\"hoverinfo\": \"none\", \"y\": [0.6], \"x\": [0.0], \"textfont\": {\"color\": \"rgb(255, 255, 255)\"}, \"text\": [\"11\"], \"marker\": {\"color\": \"rgb(255, 0, 0)\", \"line\": {\"color\": \"rgb(0, 0, 0)\", \"width\": 2}, \"size\": 25}, \"textposition\": \"middle center\", \"mode\": \"markers+text\"}, {\"hoverinfo\": \"none\", \"y\": [0.6], \"x\": [1.0], \"textfont\": {\"color\": \"rgb(255, 255, 255)\"}, \"text\": [\"12\"], \"marker\": {\"color\": \"rgb(255, 0, 0)\", \"line\": {\"color\": \"rgb(0, 0, 0)\", \"width\": 2}, \"size\": 25}, \"textposition\": \"middle center\", \"mode\": \"markers+text\"}, {\"hoverinfo\": \"none\", \"y\": [0.0], \"x\": [0.0], \"textfont\": {\"color\": \"rgb(255, 255, 255)\"}, \"text\": [\"18\"], \"marker\": {\"color\": \"rgb(255, 0, 0)\", \"line\": {\"color\": \"rgb(0, 0, 0)\", \"width\": 2}, \"size\": 25}, \"textposition\": \"middle center\", \"mode\": \"markers+text\"}, {\"hoverinfo\": \"none\", \"y\": [0.0], \"x\": [1.0], \"textfont\": {\"color\": \"rgb(255, 255, 255)\"}, \"text\": [\"18\"], \"marker\": {\"color\": \"rgb(255, 0, 0)\", \"line\": {\"color\": \"rgb(0, 0, 0)\", \"width\": 2}, \"size\": 25}, \"textposition\": \"middle center\", \"mode\": \"markers+text\"}], \"name\": 13}, {\"data\": [{\"hoverinfo\": \"none\", \"y\": [1.0, 0.6, null], \"x\": [0.5, 0.0, null], \"mode\": \"lines\", \"line\": {\"color\": \"rgb(0, 0, 0)\", \"width\": 2}}, {\"hoverinfo\": \"none\", \"y\": [1.0, 0.6, null], \"x\": [0.5, 1.0, null], \"mode\": \"lines\", \"line\": {\"color\": \"rgb(0, 0, 0)\", \"width\": 2}}, {\"hoverinfo\": \"none\", \"y\": [0.6, 0.0, null], \"x\": [0.0, 0.0, null], \"mode\": \"lines\", \"line\": {\"color\": \"rgb(0, 0, 0)\", \"width\": 2}}, {\"hoverinfo\": \"none\", \"y\": [0.6, 0.0, null], \"x\": [1.0, 1.0, null], \"mode\": \"lines\", \"line\": {\"color\": \"rgb(0, 0, 0)\", \"width\": 2}}, {\"hoverinfo\": \"none\", \"y\": [0.0, 0.0, null], \"x\": [0.0, 1.0, null], \"mode\": \"lines\", \"line\": {\"color\": \"rgb(192, 192, 192)\", \"width\": 2}}, {\"hoverinfo\": \"none\", \"y\": [1.0], \"x\": [0.5], \"textfont\": {\"color\": \"rgb(255, 255, 255)\"}, \"text\": [\"16\"], \"marker\": {\"color\": \"rgb(255, 0, 0)\", \"line\": {\"color\": \"rgb(0, 0, 0)\", \"width\": 2}, \"size\": 25}, \"textposition\": \"middle center\", \"mode\": \"markers+text\"}, {\"hoverinfo\": \"none\", \"y\": [0.6], \"x\": [0.0], \"textfont\": {\"color\": \"rgb(255, 255, 255)\"}, \"text\": [\"11\"], \"marker\": {\"color\": \"rgb(255, 0, 0)\", \"line\": {\"color\": \"rgb(0, 0, 0)\", \"width\": 2}, \"size\": 25}, \"textposition\": \"middle center\", \"mode\": \"markers+text\"}, {\"hoverinfo\": \"none\", \"y\": [0.6], \"x\": [1.0], \"textfont\": {\"color\": \"rgb(255, 255, 255)\"}, \"text\": [\"12\"], \"marker\": {\"color\": \"rgb(255, 0, 0)\", \"line\": {\"color\": \"rgb(0, 0, 0)\", \"width\": 2}, \"size\": 25}, \"textposition\": \"middle center\", \"mode\": \"markers+text\"}, {\"hoverinfo\": \"none\", \"y\": [0.0], \"x\": [0.0], \"textfont\": {\"color\": \"rgb(255, 255, 255)\"}, \"text\": [\"18\"], \"marker\": {\"color\": \"rgb(255, 0, 0)\", \"line\": {\"color\": \"rgb(0, 0, 0)\", \"width\": 2}, \"size\": 25}, \"textposition\": \"middle center\", \"mode\": \"markers+text\"}, {\"hoverinfo\": \"none\", \"y\": [0.0], \"x\": [1.0], \"textfont\": {\"color\": \"rgb(255, 255, 255)\"}, \"text\": [\"18\"], \"marker\": {\"color\": \"rgb(255, 0, 0)\", \"line\": {\"color\": \"rgb(0, 0, 0)\", \"width\": 2}, \"size\": 25}, \"textposition\": \"middle center\", \"mode\": \"markers+text\"}], \"name\": 14}]);}).then(function(){Plotly.animate('2e3bffd3-023c-495a-8785-7e4b8c20abbe');})\n",
       "        });</script>"
      ],
      "text/vnd.plotly.v1+html": [
       "<div id=\"2e3bffd3-023c-495a-8785-7e4b8c20abbe\" style=\"height: 436.0px; width: 450.0px;\" class=\"plotly-graph-div\"></div><script type=\"text/javascript\">require([\"plotly\"], function(Plotly) { window.PLOTLYENV=window.PLOTLYENV || {};window.PLOTLYENV.BASE_URL=\"https://plot.ly\";\n",
       "        Plotly.plot(\n",
       "            '2e3bffd3-023c-495a-8785-7e4b8c20abbe',\n",
       "            [{\"hoverinfo\": \"none\", \"y\": [1.0, 0.6, null], \"x\": [0.5, 0.0, null], \"mode\": \"lines\", \"line\": {\"color\": \"rgb(0, 0, 0)\", \"width\": 2}}, {\"hoverinfo\": \"none\", \"y\": [1.0, 0.6, null], \"x\": [0.5, 1.0, null], \"mode\": \"lines\", \"line\": {\"color\": \"rgb(0, 0, 0)\", \"width\": 2}}, {\"hoverinfo\": \"none\", \"y\": [0.6, 0.0, null], \"x\": [0.0, 0.0, null], \"mode\": \"lines\", \"line\": {\"color\": \"rgb(0, 0, 0)\", \"width\": 2}}, {\"hoverinfo\": \"none\", \"y\": [0.6, 0.0, null], \"x\": [1.0, 1.0, null], \"mode\": \"lines\", \"line\": {\"color\": \"rgb(0, 0, 0)\", \"width\": 2}}, {\"hoverinfo\": \"none\", \"y\": [0.0, 0.0, null], \"x\": [0.0, 1.0, null], \"mode\": \"lines\", \"line\": {\"color\": \"rgb(192, 192, 192)\", \"width\": 2}}, {\"hoverinfo\": \"none\", \"y\": [1.0], \"x\": [0.5], \"textfont\": {\"color\": \"rgb(255, 255, 255)\"}, \"text\": [\"15\"], \"marker\": {\"color\": \"rgb(255, 0, 0)\", \"line\": {\"color\": \"rgb(0, 0, 0)\", \"width\": 2}, \"size\": 25}, \"textposition\": \"middle center\", \"mode\": \"markers+text\"}, {\"hoverinfo\": \"none\", \"y\": [0.6], \"x\": [0.0], \"textfont\": {\"color\": \"rgb(255, 255, 255)\"}, \"text\": [\"2\"], \"marker\": {\"color\": \"rgb(255, 0, 0)\", \"line\": {\"color\": \"rgb(0, 0, 0)\", \"width\": 2}, \"size\": 25}, \"textposition\": \"middle center\", \"mode\": \"markers+text\"}, {\"hoverinfo\": \"none\", \"y\": [0.6], \"x\": [1.0], \"textfont\": {\"color\": \"rgb(255, 255, 255)\"}, \"text\": [\"8\"], \"marker\": {\"color\": \"rgb(255, 0, 0)\", \"line\": {\"color\": \"rgb(0, 0, 0)\", \"width\": 2}, \"size\": 25}, \"textposition\": \"middle center\", \"mode\": \"markers+text\"}, {\"hoverinfo\": \"none\", \"y\": [0.0], \"x\": [0.0], \"textfont\": {\"color\": \"rgb(255, 255, 255)\"}, \"text\": [\"11\"], \"marker\": {\"color\": \"rgb(255, 0, 0)\", \"line\": {\"color\": \"rgb(0, 0, 0)\", \"width\": 2}, \"size\": 25}, \"textposition\": \"middle center\", \"mode\": \"markers+text\"}, {\"hoverinfo\": \"none\", \"y\": [0.0], \"x\": [1.0], \"textfont\": {\"color\": \"rgb(255, 255, 255)\"}, \"text\": [\"17\"], \"marker\": {\"color\": \"rgb(255, 0, 0)\", \"line\": {\"color\": \"rgb(0, 0, 0)\", \"width\": 2}, \"size\": 25}, \"textposition\": \"middle center\", \"mode\": \"markers+text\"}],\n",
       "            {\"updatemenus\": [{\"type\": \"buttons\", \"showactive\": true, \"buttons\": [{\"label\": \"Play\", \"args\": [null, {\"frame\": {\"redraw\": false}, \"fromcurrent\": true}], \"method\": \"animate\"}, {\"label\": \"Pause\", \"args\": [[null], {\"frame\": {\"redraw\": false}, \"mode\": \"immediate\"}], \"method\": \"animate\"}]}], \"width\": 450.0, \"height\": 436.0, \"showlegend\": false, \"sliders\": [{\"currentvalue\": {\"visible\": false}, \"steps\": [{\"label\": \"\", \"args\": [[0], {\"frame\": {\"redraw\": false}, \"mode\": \"immediate\"}], \"method\": \"animate\"}, {\"label\": \"\", \"args\": [[1], {\"frame\": {\"redraw\": false}, \"mode\": \"immediate\"}], \"method\": \"animate\"}, {\"label\": \"\", \"args\": [[2], {\"frame\": {\"redraw\": false}, \"mode\": \"immediate\"}], \"method\": \"animate\"}, {\"label\": \"\", \"args\": [[3], {\"frame\": {\"redraw\": false}, \"mode\": \"immediate\"}], \"method\": \"animate\"}, {\"label\": \"\", \"args\": [[4], {\"frame\": {\"redraw\": false}, \"mode\": \"immediate\"}], \"method\": \"animate\"}, {\"label\": \"\", \"args\": [[5], {\"frame\": {\"redraw\": false}, \"mode\": \"immediate\"}], \"method\": \"animate\"}, {\"label\": \"\", \"args\": [[6], {\"frame\": {\"redraw\": false}, \"mode\": \"immediate\"}], \"method\": \"animate\"}, {\"label\": \"\", \"args\": [[7], {\"frame\": {\"redraw\": false}, \"mode\": \"immediate\"}], \"method\": \"animate\"}, {\"label\": \"\", \"args\": [[8], {\"frame\": {\"redraw\": false}, \"mode\": \"immediate\"}], \"method\": \"animate\"}, {\"label\": \"\", \"args\": [[9], {\"frame\": {\"redraw\": false}, \"mode\": \"immediate\"}], \"method\": \"animate\"}, {\"label\": \"\", \"args\": [[10], {\"frame\": {\"redraw\": false}, \"mode\": \"immediate\"}], \"method\": \"animate\"}, {\"label\": \"\", \"args\": [[11], {\"frame\": {\"redraw\": false}, \"mode\": \"immediate\"}], \"method\": \"animate\"}, {\"label\": \"\", \"args\": [[12], {\"frame\": {\"redraw\": false}, \"mode\": \"immediate\"}], \"method\": \"animate\"}, {\"label\": \"\", \"args\": [[13], {\"frame\": {\"redraw\": false}, \"mode\": \"immediate\"}], \"method\": \"animate\"}, {\"label\": \"\", \"args\": [[14], {\"frame\": {\"redraw\": false}, \"mode\": \"immediate\"}], \"method\": \"animate\"}]}], \"margin\": {\"b\": 0, \"r\": 0, \"l\": 0, \"t\": 0}, \"yaxis\": {\"showticklabels\": false, \"showgrid\": false, \"zeroline\": false}, \"xaxis\": {\"showticklabels\": false, \"showgrid\": false, \"zeroline\": false}},\n",
       "            {\"showLink\": false, \"displayModeBar\": false, \"linkText\": \"Export to plot.ly\"}\n",
       "        ).then(function () {return Plotly.addFrames('2e3bffd3-023c-495a-8785-7e4b8c20abbe',[{\"data\": [{\"hoverinfo\": \"none\", \"y\": [1.0, 0.6, null], \"x\": [0.5, 0.0, null], \"mode\": \"lines\", \"line\": {\"color\": \"rgb(0, 0, 0)\", \"width\": 2}}, {\"hoverinfo\": \"none\", \"y\": [1.0, 0.6, null], \"x\": [0.5, 1.0, null], \"mode\": \"lines\", \"line\": {\"color\": \"rgb(0, 0, 0)\", \"width\": 2}}, {\"hoverinfo\": \"none\", \"y\": [0.6, 0.0, null], \"x\": [0.0, 0.0, null], \"mode\": \"lines\", \"line\": {\"color\": \"rgb(0, 0, 0)\", \"width\": 2}}, {\"hoverinfo\": \"none\", \"y\": [0.6, 0.0, null], \"x\": [1.0, 1.0, null], \"mode\": \"lines\", \"line\": {\"color\": \"rgb(0, 0, 0)\", \"width\": 2}}, {\"hoverinfo\": \"none\", \"y\": [0.0, 0.0, null], \"x\": [0.0, 1.0, null], \"mode\": \"lines\", \"line\": {\"color\": \"rgb(192, 192, 192)\", \"width\": 2}}, {\"hoverinfo\": \"none\", \"y\": [1.0], \"x\": [0.5], \"textfont\": {\"color\": \"rgb(255, 255, 255)\"}, \"text\": [\"15\"], \"marker\": {\"color\": \"rgb(255, 0, 0)\", \"line\": {\"color\": \"rgb(0, 0, 0)\", \"width\": 2}, \"size\": 25}, \"textposition\": \"middle center\", \"mode\": \"markers+text\"}, {\"hoverinfo\": \"none\", \"y\": [0.6], \"x\": [0.0], \"textfont\": {\"color\": \"rgb(255, 255, 255)\"}, \"text\": [\"2\"], \"marker\": {\"color\": \"rgb(255, 0, 0)\", \"line\": {\"color\": \"rgb(0, 0, 0)\", \"width\": 2}, \"size\": 25}, \"textposition\": \"middle center\", \"mode\": \"markers+text\"}, {\"hoverinfo\": \"none\", \"y\": [0.6], \"x\": [1.0], \"textfont\": {\"color\": \"rgb(255, 255, 255)\"}, \"text\": [\"8\"], \"marker\": {\"color\": \"rgb(255, 0, 0)\", \"line\": {\"color\": \"rgb(0, 0, 0)\", \"width\": 2}, \"size\": 25}, \"textposition\": \"middle center\", \"mode\": \"markers+text\"}, {\"hoverinfo\": \"none\", \"y\": [0.0], \"x\": [0.0], \"textfont\": {\"color\": \"rgb(255, 255, 255)\"}, \"text\": [\"11\"], \"marker\": {\"color\": \"rgb(255, 0, 0)\", \"line\": {\"color\": \"rgb(0, 0, 0)\", \"width\": 2}, \"size\": 25}, \"textposition\": \"middle center\", \"mode\": \"markers+text\"}, {\"hoverinfo\": \"none\", \"y\": [0.0], \"x\": [1.0], \"textfont\": {\"color\": \"rgb(255, 255, 255)\"}, \"text\": [\"17\"], \"marker\": {\"color\": \"rgb(255, 0, 0)\", \"line\": {\"color\": \"rgb(0, 0, 0)\", \"width\": 2}, \"size\": 25}, \"textposition\": \"middle center\", \"mode\": \"markers+text\"}], \"name\": 0}, {\"data\": [{\"hoverinfo\": \"none\", \"y\": [1.0, 0.6, null], \"x\": [0.5, 0.0, null], \"mode\": \"lines\", \"line\": {\"color\": \"rgb(0, 0, 0)\", \"width\": 2}}, {\"hoverinfo\": \"none\", \"y\": [1.0, 0.6, null], \"x\": [0.5, 1.0, null], \"mode\": \"lines\", \"line\": {\"color\": \"rgb(0, 0, 0)\", \"width\": 2}}, {\"hoverinfo\": \"none\", \"y\": [0.6, 0.0, null], \"x\": [0.0, 0.0, null], \"mode\": \"lines\", \"line\": {\"color\": \"rgb(0, 255, 0)\", \"width\": 2}}, {\"hoverinfo\": \"none\", \"y\": [0.6, 0.0, null], \"x\": [1.0, 1.0, null], \"mode\": \"lines\", \"line\": {\"color\": \"rgb(0, 255, 0)\", \"width\": 2}}, {\"hoverinfo\": \"none\", \"y\": [0.0, 0.0, null], \"x\": [0.0, 1.0, null], \"mode\": \"lines\", \"line\": {\"color\": \"rgb(192, 192, 192)\", \"width\": 2}}, {\"hoverinfo\": \"none\", \"y\": [1.0], \"x\": [0.5], \"textfont\": {\"color\": \"rgb(255, 255, 255)\"}, \"text\": [\"14\"], \"marker\": {\"color\": \"rgb(255, 0, 0)\", \"line\": {\"color\": \"rgb(0, 0, 0)\", \"width\": 2}, \"size\": 25}, \"textposition\": \"middle center\", \"mode\": \"markers+text\"}, {\"hoverinfo\": \"none\", \"y\": [0.6], \"x\": [0.0], \"textfont\": {\"color\": \"rgb(255, 255, 255)\"}, \"text\": [\"3\"], \"marker\": {\"color\": \"rgb(255, 0, 0)\", \"line\": {\"color\": \"rgb(0, 0, 0)\", \"width\": 2}, \"size\": 25}, \"textposition\": \"middle center\", \"mode\": \"markers+text\"}, {\"hoverinfo\": \"none\", \"y\": [0.6], \"x\": [1.0], \"textfont\": {\"color\": \"rgb(255, 255, 255)\"}, \"text\": [\"9\"], \"marker\": {\"color\": \"rgb(255, 0, 0)\", \"line\": {\"color\": \"rgb(0, 0, 0)\", \"width\": 2}, \"size\": 25}, \"textposition\": \"middle center\", \"mode\": \"markers+text\"}, {\"hoverinfo\": \"none\", \"y\": [0.0], \"x\": [0.0], \"textfont\": {\"color\": \"rgb(255, 255, 255)\"}, \"text\": [\"12\"], \"marker\": {\"color\": \"rgb(255, 0, 0)\", \"line\": {\"color\": \"rgb(0, 0, 0)\", \"width\": 2}, \"size\": 25}, \"textposition\": \"middle center\", \"mode\": \"markers+text\"}, {\"hoverinfo\": \"none\", \"y\": [0.0], \"x\": [1.0], \"textfont\": {\"color\": \"rgb(255, 255, 255)\"}, \"text\": [\"18\"], \"marker\": {\"color\": \"rgb(255, 0, 0)\", \"line\": {\"color\": \"rgb(0, 0, 0)\", \"width\": 2}, \"size\": 25}, \"textposition\": \"middle center\", \"mode\": \"markers+text\"}], \"name\": 1}, {\"data\": [{\"hoverinfo\": \"none\", \"y\": [1.0, 0.6, null], \"x\": [0.5, 0.0, null], \"mode\": \"lines\", \"line\": {\"color\": \"rgb(0, 0, 0)\", \"width\": 2}}, {\"hoverinfo\": \"none\", \"y\": [1.0, 0.6, null], \"x\": [0.5, 1.0, null], \"mode\": \"lines\", \"line\": {\"color\": \"rgb(0, 255, 0)\", \"width\": 2}}, {\"hoverinfo\": \"none\", \"y\": [0.6, 0.0, null], \"x\": [0.0, 0.0, null], \"mode\": \"lines\", \"line\": {\"color\": \"rgb(0, 255, 0)\", \"width\": 2}}, {\"hoverinfo\": \"none\", \"y\": [0.6, 0.0, null], \"x\": [1.0, 1.0, null], \"mode\": \"lines\", \"line\": {\"color\": \"rgb(0, 0, 0)\", \"width\": 2}}, {\"hoverinfo\": \"none\", \"y\": [0.0, 0.0, null], \"x\": [0.0, 1.0, null], \"mode\": \"lines\", \"line\": {\"color\": \"rgb(192, 192, 192)\", \"width\": 2}}, {\"hoverinfo\": \"none\", \"y\": [1.0], \"x\": [0.5], \"textfont\": {\"color\": \"rgb(255, 255, 255)\"}, \"text\": [\"15\"], \"marker\": {\"color\": \"rgb(255, 0, 0)\", \"line\": {\"color\": \"rgb(0, 0, 0)\", \"width\": 2}, \"size\": 25}, \"textposition\": \"middle center\", \"mode\": \"markers+text\"}, {\"hoverinfo\": \"none\", \"y\": [0.6], \"x\": [0.0], \"textfont\": {\"color\": \"rgb(255, 255, 255)\"}, \"text\": [\"4\"], \"marker\": {\"color\": \"rgb(255, 0, 0)\", \"line\": {\"color\": \"rgb(0, 0, 0)\", \"width\": 2}, \"size\": 25}, \"textposition\": \"middle center\", \"mode\": \"markers+text\"}, {\"hoverinfo\": \"none\", \"y\": [0.6], \"x\": [1.0], \"textfont\": {\"color\": \"rgb(255, 255, 255)\"}, \"text\": [\"10\"], \"marker\": {\"color\": \"rgb(255, 0, 0)\", \"line\": {\"color\": \"rgb(0, 0, 0)\", \"width\": 2}, \"size\": 25}, \"textposition\": \"middle center\", \"mode\": \"markers+text\"}, {\"hoverinfo\": \"none\", \"y\": [0.0], \"x\": [0.0], \"textfont\": {\"color\": \"rgb(255, 255, 255)\"}, \"text\": [\"13\"], \"marker\": {\"color\": \"rgb(255, 0, 0)\", \"line\": {\"color\": \"rgb(0, 0, 0)\", \"width\": 2}, \"size\": 25}, \"textposition\": \"middle center\", \"mode\": \"markers+text\"}, {\"hoverinfo\": \"none\", \"y\": [0.0], \"x\": [1.0], \"textfont\": {\"color\": \"rgb(255, 255, 255)\"}, \"text\": [\"18\"], \"marker\": {\"color\": \"rgb(255, 0, 0)\", \"line\": {\"color\": \"rgb(0, 0, 0)\", \"width\": 2}, \"size\": 25}, \"textposition\": \"middle center\", \"mode\": \"markers+text\"}], \"name\": 2}, {\"data\": [{\"hoverinfo\": \"none\", \"y\": [1.0, 0.6, null], \"x\": [0.5, 0.0, null], \"mode\": \"lines\", \"line\": {\"color\": \"rgb(0, 0, 0)\", \"width\": 2}}, {\"hoverinfo\": \"none\", \"y\": [1.0, 0.6, null], \"x\": [0.5, 1.0, null], \"mode\": \"lines\", \"line\": {\"color\": \"rgb(0, 255, 0)\", \"width\": 2}}, {\"hoverinfo\": \"none\", \"y\": [0.6, 0.0, null], \"x\": [0.0, 0.0, null], \"mode\": \"lines\", \"line\": {\"color\": \"rgb(0, 255, 0)\", \"width\": 2}}, {\"hoverinfo\": \"none\", \"y\": [0.6, 0.0, null], \"x\": [1.0, 1.0, null], \"mode\": \"lines\", \"line\": {\"color\": \"rgb(0, 0, 0)\", \"width\": 2}}, {\"hoverinfo\": \"none\", \"y\": [0.0, 0.0, null], \"x\": [0.0, 1.0, null], \"mode\": \"lines\", \"line\": {\"color\": \"rgb(192, 192, 192)\", \"width\": 2}}, {\"hoverinfo\": \"none\", \"y\": [1.0], \"x\": [0.5], \"textfont\": {\"color\": \"rgb(255, 255, 255)\"}, \"text\": [\"16\"], \"marker\": {\"color\": \"rgb(255, 0, 0)\", \"line\": {\"color\": \"rgb(0, 0, 0)\", \"width\": 2}, \"size\": 25}, \"textposition\": \"middle center\", \"mode\": \"markers+text\"}, {\"hoverinfo\": \"none\", \"y\": [0.6], \"x\": [0.0], \"textfont\": {\"color\": \"rgb(255, 255, 255)\"}, \"text\": [\"5\"], \"marker\": {\"color\": \"rgb(255, 0, 0)\", \"line\": {\"color\": \"rgb(0, 0, 0)\", \"width\": 2}, \"size\": 25}, \"textposition\": \"middle center\", \"mode\": \"markers+text\"}, {\"hoverinfo\": \"none\", \"y\": [0.6], \"x\": [1.0], \"textfont\": {\"color\": \"rgb(255, 255, 255)\"}, \"text\": [\"11\"], \"marker\": {\"color\": \"rgb(255, 0, 0)\", \"line\": {\"color\": \"rgb(0, 0, 0)\", \"width\": 2}, \"size\": 25}, \"textposition\": \"middle center\", \"mode\": \"markers+text\"}, {\"hoverinfo\": \"none\", \"y\": [0.0], \"x\": [0.0], \"textfont\": {\"color\": \"rgb(255, 255, 255)\"}, \"text\": [\"14\"], \"marker\": {\"color\": \"rgb(255, 0, 0)\", \"line\": {\"color\": \"rgb(0, 0, 0)\", \"width\": 2}, \"size\": 25}, \"textposition\": \"middle center\", \"mode\": \"markers+text\"}, {\"hoverinfo\": \"none\", \"y\": [0.0], \"x\": [1.0], \"textfont\": {\"color\": \"rgb(255, 255, 255)\"}, \"text\": [\"18\"], \"marker\": {\"color\": \"rgb(255, 0, 0)\", \"line\": {\"color\": \"rgb(0, 0, 0)\", \"width\": 2}, \"size\": 25}, \"textposition\": \"middle center\", \"mode\": \"markers+text\"}], \"name\": 3}, {\"data\": [{\"hoverinfo\": \"none\", \"y\": [1.0, 0.6, null], \"x\": [0.5, 0.0, null], \"mode\": \"lines\", \"line\": {\"color\": \"rgb(0, 0, 0)\", \"width\": 2}}, {\"hoverinfo\": \"none\", \"y\": [1.0, 0.6, null], \"x\": [0.5, 1.0, null], \"mode\": \"lines\", \"line\": {\"color\": \"rgb(0, 0, 0)\", \"width\": 2}}, {\"hoverinfo\": \"none\", \"y\": [0.6, 0.0, null], \"x\": [0.0, 0.0, null], \"mode\": \"lines\", \"line\": {\"color\": \"rgb(0, 255, 0)\", \"width\": 2}}, {\"hoverinfo\": \"none\", \"y\": [0.6, 0.0, null], \"x\": [1.0, 1.0, null], \"mode\": \"lines\", \"line\": {\"color\": \"rgb(0, 0, 0)\", \"width\": 2}}, {\"hoverinfo\": \"none\", \"y\": [0.0, 0.0, null], \"x\": [0.0, 1.0, null], \"mode\": \"lines\", \"line\": {\"color\": \"rgb(192, 192, 192)\", \"width\": 2}}, {\"hoverinfo\": \"none\", \"y\": [1.0], \"x\": [0.5], \"textfont\": {\"color\": \"rgb(255, 255, 255)\"}, \"text\": [\"15\"], \"marker\": {\"color\": \"rgb(255, 0, 0)\", \"line\": {\"color\": \"rgb(0, 0, 0)\", \"width\": 2}, \"size\": 25}, \"textposition\": \"middle center\", \"mode\": \"markers+text\"}, {\"hoverinfo\": \"none\", \"y\": [0.6], \"x\": [0.0], \"textfont\": {\"color\": \"rgb(255, 255, 255)\"}, \"text\": [\"6\"], \"marker\": {\"color\": \"rgb(255, 0, 0)\", \"line\": {\"color\": \"rgb(0, 0, 0)\", \"width\": 2}, \"size\": 25}, \"textposition\": \"middle center\", \"mode\": \"markers+text\"}, {\"hoverinfo\": \"none\", \"y\": [0.6], \"x\": [1.0], \"textfont\": {\"color\": \"rgb(255, 255, 255)\"}, \"text\": [\"11\"], \"marker\": {\"color\": \"rgb(255, 0, 0)\", \"line\": {\"color\": \"rgb(0, 0, 0)\", \"width\": 2}, \"size\": 25}, \"textposition\": \"middle center\", \"mode\": \"markers+text\"}, {\"hoverinfo\": \"none\", \"y\": [0.0], \"x\": [0.0], \"textfont\": {\"color\": \"rgb(255, 255, 255)\"}, \"text\": [\"15\"], \"marker\": {\"color\": \"rgb(255, 0, 0)\", \"line\": {\"color\": \"rgb(0, 0, 0)\", \"width\": 2}, \"size\": 25}, \"textposition\": \"middle center\", \"mode\": \"markers+text\"}, {\"hoverinfo\": \"none\", \"y\": [0.0], \"x\": [1.0], \"textfont\": {\"color\": \"rgb(255, 255, 255)\"}, \"text\": [\"18\"], \"marker\": {\"color\": \"rgb(255, 0, 0)\", \"line\": {\"color\": \"rgb(0, 0, 0)\", \"width\": 2}, \"size\": 25}, \"textposition\": \"middle center\", \"mode\": \"markers+text\"}], \"name\": 4}, {\"data\": [{\"hoverinfo\": \"none\", \"y\": [1.0, 0.6, null], \"x\": [0.5, 0.0, null], \"mode\": \"lines\", \"line\": {\"color\": \"rgb(0, 0, 0)\", \"width\": 2}}, {\"hoverinfo\": \"none\", \"y\": [1.0, 0.6, null], \"x\": [0.5, 1.0, null], \"mode\": \"lines\", \"line\": {\"color\": \"rgb(0, 0, 0)\", \"width\": 2}}, {\"hoverinfo\": \"none\", \"y\": [0.6, 0.0, null], \"x\": [0.0, 0.0, null], \"mode\": \"lines\", \"line\": {\"color\": \"rgb(0, 255, 0)\", \"width\": 2}}, {\"hoverinfo\": \"none\", \"y\": [0.6, 0.0, null], \"x\": [1.0, 1.0, null], \"mode\": \"lines\", \"line\": {\"color\": \"rgb(0, 0, 0)\", \"width\": 2}}, {\"hoverinfo\": \"none\", \"y\": [0.0, 0.0, null], \"x\": [0.0, 1.0, null], \"mode\": \"lines\", \"line\": {\"color\": \"rgb(192, 192, 192)\", \"width\": 2}}, {\"hoverinfo\": \"none\", \"y\": [1.0], \"x\": [0.5], \"textfont\": {\"color\": \"rgb(255, 255, 255)\"}, \"text\": [\"14\"], \"marker\": {\"color\": \"rgb(255, 0, 0)\", \"line\": {\"color\": \"rgb(0, 0, 0)\", \"width\": 2}, \"size\": 25}, \"textposition\": \"middle center\", \"mode\": \"markers+text\"}, {\"hoverinfo\": \"none\", \"y\": [0.6], \"x\": [0.0], \"textfont\": {\"color\": \"rgb(255, 255, 255)\"}, \"text\": [\"7\"], \"marker\": {\"color\": \"rgb(255, 0, 0)\", \"line\": {\"color\": \"rgb(0, 0, 0)\", \"width\": 2}, \"size\": 25}, \"textposition\": \"middle center\", \"mode\": \"markers+text\"}, {\"hoverinfo\": \"none\", \"y\": [0.6], \"x\": [1.0], \"textfont\": {\"color\": \"rgb(255, 255, 255)\"}, \"text\": [\"11\"], \"marker\": {\"color\": \"rgb(255, 0, 0)\", \"line\": {\"color\": \"rgb(0, 0, 0)\", \"width\": 2}, \"size\": 25}, \"textposition\": \"middle center\", \"mode\": \"markers+text\"}, {\"hoverinfo\": \"none\", \"y\": [0.0], \"x\": [0.0], \"textfont\": {\"color\": \"rgb(255, 255, 255)\"}, \"text\": [\"16\"], \"marker\": {\"color\": \"rgb(255, 0, 0)\", \"line\": {\"color\": \"rgb(0, 0, 0)\", \"width\": 2}, \"size\": 25}, \"textposition\": \"middle center\", \"mode\": \"markers+text\"}, {\"hoverinfo\": \"none\", \"y\": [0.0], \"x\": [1.0], \"textfont\": {\"color\": \"rgb(255, 255, 255)\"}, \"text\": [\"18\"], \"marker\": {\"color\": \"rgb(255, 0, 0)\", \"line\": {\"color\": \"rgb(0, 0, 0)\", \"width\": 2}, \"size\": 25}, \"textposition\": \"middle center\", \"mode\": \"markers+text\"}], \"name\": 5}, {\"data\": [{\"hoverinfo\": \"none\", \"y\": [1.0, 0.6, null], \"x\": [0.5, 0.0, null], \"mode\": \"lines\", \"line\": {\"color\": \"rgb(0, 0, 0)\", \"width\": 2}}, {\"hoverinfo\": \"none\", \"y\": [1.0, 0.6, null], \"x\": [0.5, 1.0, null], \"mode\": \"lines\", \"line\": {\"color\": \"rgb(0, 0, 0)\", \"width\": 2}}, {\"hoverinfo\": \"none\", \"y\": [0.6, 0.0, null], \"x\": [0.0, 0.0, null], \"mode\": \"lines\", \"line\": {\"color\": \"rgb(0, 255, 0)\", \"width\": 2}}, {\"hoverinfo\": \"none\", \"y\": [0.6, 0.0, null], \"x\": [1.0, 1.0, null], \"mode\": \"lines\", \"line\": {\"color\": \"rgb(0, 0, 0)\", \"width\": 2}}, {\"hoverinfo\": \"none\", \"y\": [0.0, 0.0, null], \"x\": [0.0, 1.0, null], \"mode\": \"lines\", \"line\": {\"color\": \"rgb(192, 192, 192)\", \"width\": 2}}, {\"hoverinfo\": \"none\", \"y\": [1.0], \"x\": [0.5], \"textfont\": {\"color\": \"rgb(255, 255, 255)\"}, \"text\": [\"13\"], \"marker\": {\"color\": \"rgb(255, 0, 0)\", \"line\": {\"color\": \"rgb(0, 0, 0)\", \"width\": 2}, \"size\": 25}, \"textposition\": \"middle center\", \"mode\": \"markers+text\"}, {\"hoverinfo\": \"none\", \"y\": [0.6], \"x\": [0.0], \"textfont\": {\"color\": \"rgb(255, 255, 255)\"}, \"text\": [\"8\"], \"marker\": {\"color\": \"rgb(255, 0, 0)\", \"line\": {\"color\": \"rgb(0, 0, 0)\", \"width\": 2}, \"size\": 25}, \"textposition\": \"middle center\", \"mode\": \"markers+text\"}, {\"hoverinfo\": \"none\", \"y\": [0.6], \"x\": [1.0], \"textfont\": {\"color\": \"rgb(255, 255, 255)\"}, \"text\": [\"10\"], \"marker\": {\"color\": \"rgb(255, 0, 0)\", \"line\": {\"color\": \"rgb(0, 0, 0)\", \"width\": 2}, \"size\": 25}, \"textposition\": \"middle center\", \"mode\": \"markers+text\"}, {\"hoverinfo\": \"none\", \"y\": [0.0], \"x\": [0.0], \"textfont\": {\"color\": \"rgb(255, 255, 255)\"}, \"text\": [\"17\"], \"marker\": {\"color\": \"rgb(255, 0, 0)\", \"line\": {\"color\": \"rgb(0, 0, 0)\", \"width\": 2}, \"size\": 25}, \"textposition\": \"middle center\", \"mode\": \"markers+text\"}, {\"hoverinfo\": \"none\", \"y\": [0.0], \"x\": [1.0], \"textfont\": {\"color\": \"rgb(255, 255, 255)\"}, \"text\": [\"18\"], \"marker\": {\"color\": \"rgb(255, 0, 0)\", \"line\": {\"color\": \"rgb(0, 0, 0)\", \"width\": 2}, \"size\": 25}, \"textposition\": \"middle center\", \"mode\": \"markers+text\"}], \"name\": 6}, {\"data\": [{\"hoverinfo\": \"none\", \"y\": [1.0, 0.6, null], \"x\": [0.5, 0.0, null], \"mode\": \"lines\", \"line\": {\"color\": \"rgb(0, 0, 0)\", \"width\": 2}}, {\"hoverinfo\": \"none\", \"y\": [1.0, 0.6, null], \"x\": [0.5, 1.0, null], \"mode\": \"lines\", \"line\": {\"color\": \"rgb(0, 255, 0)\", \"width\": 2}}, {\"hoverinfo\": \"none\", \"y\": [0.6, 0.0, null], \"x\": [0.0, 0.0, null], \"mode\": \"lines\", \"line\": {\"color\": \"rgb(0, 0, 0)\", \"width\": 2}}, {\"hoverinfo\": \"none\", \"y\": [0.6, 0.0, null], \"x\": [1.0, 1.0, null], \"mode\": \"lines\", \"line\": {\"color\": \"rgb(0, 0, 0)\", \"width\": 2}}, {\"hoverinfo\": \"none\", \"y\": [0.0, 0.0, null], \"x\": [0.0, 1.0, null], \"mode\": \"lines\", \"line\": {\"color\": \"rgb(192, 192, 192)\", \"width\": 2}}, {\"hoverinfo\": \"none\", \"y\": [1.0], \"x\": [0.5], \"textfont\": {\"color\": \"rgb(255, 255, 255)\"}, \"text\": [\"14\"], \"marker\": {\"color\": \"rgb(255, 0, 0)\", \"line\": {\"color\": \"rgb(0, 0, 0)\", \"width\": 2}, \"size\": 25}, \"textposition\": \"middle center\", \"mode\": \"markers+text\"}, {\"hoverinfo\": \"none\", \"y\": [0.6], \"x\": [0.0], \"textfont\": {\"color\": \"rgb(255, 255, 255)\"}, \"text\": [\"7\"], \"marker\": {\"color\": \"rgb(255, 0, 0)\", \"line\": {\"color\": \"rgb(0, 0, 0)\", \"width\": 2}, \"size\": 25}, \"textposition\": \"middle center\", \"mode\": \"markers+text\"}, {\"hoverinfo\": \"none\", \"y\": [0.6], \"x\": [1.0], \"textfont\": {\"color\": \"rgb(255, 255, 255)\"}, \"text\": [\"11\"], \"marker\": {\"color\": \"rgb(255, 0, 0)\", \"line\": {\"color\": \"rgb(0, 0, 0)\", \"width\": 2}, \"size\": 25}, \"textposition\": \"middle center\", \"mode\": \"markers+text\"}, {\"hoverinfo\": \"none\", \"y\": [0.0], \"x\": [0.0], \"textfont\": {\"color\": \"rgb(255, 255, 255)\"}, \"text\": [\"16\"], \"marker\": {\"color\": \"rgb(255, 0, 0)\", \"line\": {\"color\": \"rgb(0, 0, 0)\", \"width\": 2}, \"size\": 25}, \"textposition\": \"middle center\", \"mode\": \"markers+text\"}, {\"hoverinfo\": \"none\", \"y\": [0.0], \"x\": [1.0], \"textfont\": {\"color\": \"rgb(255, 255, 255)\"}, \"text\": [\"18\"], \"marker\": {\"color\": \"rgb(255, 0, 0)\", \"line\": {\"color\": \"rgb(0, 0, 0)\", \"width\": 2}, \"size\": 25}, \"textposition\": \"middle center\", \"mode\": \"markers+text\"}], \"name\": 7}, {\"data\": [{\"hoverinfo\": \"none\", \"y\": [1.0, 0.6, null], \"x\": [0.5, 0.0, null], \"mode\": \"lines\", \"line\": {\"color\": \"rgb(0, 0, 0)\", \"width\": 2}}, {\"hoverinfo\": \"none\", \"y\": [1.0, 0.6, null], \"x\": [0.5, 1.0, null], \"mode\": \"lines\", \"line\": {\"color\": \"rgb(0, 0, 0)\", \"width\": 2}}, {\"hoverinfo\": \"none\", \"y\": [0.6, 0.0, null], \"x\": [0.0, 0.0, null], \"mode\": \"lines\", \"line\": {\"color\": \"rgb(0, 255, 0)\", \"width\": 2}}, {\"hoverinfo\": \"none\", \"y\": [0.6, 0.0, null], \"x\": [1.0, 1.0, null], \"mode\": \"lines\", \"line\": {\"color\": \"rgb(0, 0, 0)\", \"width\": 2}}, {\"hoverinfo\": \"none\", \"y\": [0.0, 0.0, null], \"x\": [0.0, 1.0, null], \"mode\": \"lines\", \"line\": {\"color\": \"rgb(192, 192, 192)\", \"width\": 2}}, {\"hoverinfo\": \"none\", \"y\": [1.0], \"x\": [0.5], \"textfont\": {\"color\": \"rgb(255, 255, 255)\"}, \"text\": [\"13\"], \"marker\": {\"color\": \"rgb(255, 0, 0)\", \"line\": {\"color\": \"rgb(0, 0, 0)\", \"width\": 2}, \"size\": 25}, \"textposition\": \"middle center\", \"mode\": \"markers+text\"}, {\"hoverinfo\": \"none\", \"y\": [0.6], \"x\": [0.0], \"textfont\": {\"color\": \"rgb(255, 255, 255)\"}, \"text\": [\"8\"], \"marker\": {\"color\": \"rgb(255, 0, 0)\", \"line\": {\"color\": \"rgb(0, 0, 0)\", \"width\": 2}, \"size\": 25}, \"textposition\": \"middle center\", \"mode\": \"markers+text\"}, {\"hoverinfo\": \"none\", \"y\": [0.6], \"x\": [1.0], \"textfont\": {\"color\": \"rgb(255, 255, 255)\"}, \"text\": [\"10\"], \"marker\": {\"color\": \"rgb(255, 0, 0)\", \"line\": {\"color\": \"rgb(0, 0, 0)\", \"width\": 2}, \"size\": 25}, \"textposition\": \"middle center\", \"mode\": \"markers+text\"}, {\"hoverinfo\": \"none\", \"y\": [0.0], \"x\": [0.0], \"textfont\": {\"color\": \"rgb(255, 255, 255)\"}, \"text\": [\"17\"], \"marker\": {\"color\": \"rgb(255, 0, 0)\", \"line\": {\"color\": \"rgb(0, 0, 0)\", \"width\": 2}, \"size\": 25}, \"textposition\": \"middle center\", \"mode\": \"markers+text\"}, {\"hoverinfo\": \"none\", \"y\": [0.0], \"x\": [1.0], \"textfont\": {\"color\": \"rgb(255, 255, 255)\"}, \"text\": [\"18\"], \"marker\": {\"color\": \"rgb(255, 0, 0)\", \"line\": {\"color\": \"rgb(0, 0, 0)\", \"width\": 2}, \"size\": 25}, \"textposition\": \"middle center\", \"mode\": \"markers+text\"}], \"name\": 8}, {\"data\": [{\"hoverinfo\": \"none\", \"y\": [1.0, 0.6, null], \"x\": [0.5, 0.0, null], \"mode\": \"lines\", \"line\": {\"color\": \"rgb(0, 0, 0)\", \"width\": 2}}, {\"hoverinfo\": \"none\", \"y\": [1.0, 0.6, null], \"x\": [0.5, 1.0, null], \"mode\": \"lines\", \"line\": {\"color\": \"rgb(0, 255, 0)\", \"width\": 2}}, {\"hoverinfo\": \"none\", \"y\": [0.6, 0.0, null], \"x\": [0.0, 0.0, null], \"mode\": \"lines\", \"line\": {\"color\": \"rgb(0, 0, 0)\", \"width\": 2}}, {\"hoverinfo\": \"none\", \"y\": [0.6, 0.0, null], \"x\": [1.0, 1.0, null], \"mode\": \"lines\", \"line\": {\"color\": \"rgb(0, 0, 0)\", \"width\": 2}}, {\"hoverinfo\": \"none\", \"y\": [0.0, 0.0, null], \"x\": [0.0, 1.0, null], \"mode\": \"lines\", \"line\": {\"color\": \"rgb(192, 192, 192)\", \"width\": 2}}, {\"hoverinfo\": \"none\", \"y\": [1.0], \"x\": [0.5], \"textfont\": {\"color\": \"rgb(255, 255, 255)\"}, \"text\": [\"14\"], \"marker\": {\"color\": \"rgb(255, 0, 0)\", \"line\": {\"color\": \"rgb(0, 0, 0)\", \"width\": 2}, \"size\": 25}, \"textposition\": \"middle center\", \"mode\": \"markers+text\"}, {\"hoverinfo\": \"none\", \"y\": [0.6], \"x\": [0.0], \"textfont\": {\"color\": \"rgb(255, 255, 255)\"}, \"text\": [\"7\"], \"marker\": {\"color\": \"rgb(255, 0, 0)\", \"line\": {\"color\": \"rgb(0, 0, 0)\", \"width\": 2}, \"size\": 25}, \"textposition\": \"middle center\", \"mode\": \"markers+text\"}, {\"hoverinfo\": \"none\", \"y\": [0.6], \"x\": [1.0], \"textfont\": {\"color\": \"rgb(255, 255, 255)\"}, \"text\": [\"11\"], \"marker\": {\"color\": \"rgb(255, 0, 0)\", \"line\": {\"color\": \"rgb(0, 0, 0)\", \"width\": 2}, \"size\": 25}, \"textposition\": \"middle center\", \"mode\": \"markers+text\"}, {\"hoverinfo\": \"none\", \"y\": [0.0], \"x\": [0.0], \"textfont\": {\"color\": \"rgb(255, 255, 255)\"}, \"text\": [\"16\"], \"marker\": {\"color\": \"rgb(255, 0, 0)\", \"line\": {\"color\": \"rgb(0, 0, 0)\", \"width\": 2}, \"size\": 25}, \"textposition\": \"middle center\", \"mode\": \"markers+text\"}, {\"hoverinfo\": \"none\", \"y\": [0.0], \"x\": [1.0], \"textfont\": {\"color\": \"rgb(255, 255, 255)\"}, \"text\": [\"18\"], \"marker\": {\"color\": \"rgb(255, 0, 0)\", \"line\": {\"color\": \"rgb(0, 0, 0)\", \"width\": 2}, \"size\": 25}, \"textposition\": \"middle center\", \"mode\": \"markers+text\"}], \"name\": 9}, {\"data\": [{\"hoverinfo\": \"none\", \"y\": [1.0, 0.6, null], \"x\": [0.5, 0.0, null], \"mode\": \"lines\", \"line\": {\"color\": \"rgb(0, 0, 0)\", \"width\": 2}}, {\"hoverinfo\": \"none\", \"y\": [1.0, 0.6, null], \"x\": [0.5, 1.0, null], \"mode\": \"lines\", \"line\": {\"color\": \"rgb(0, 255, 0)\", \"width\": 2}}, {\"hoverinfo\": \"none\", \"y\": [0.6, 0.0, null], \"x\": [0.0, 0.0, null], \"mode\": \"lines\", \"line\": {\"color\": \"rgb(0, 255, 0)\", \"width\": 2}}, {\"hoverinfo\": \"none\", \"y\": [0.6, 0.0, null], \"x\": [1.0, 1.0, null], \"mode\": \"lines\", \"line\": {\"color\": \"rgb(0, 0, 0)\", \"width\": 2}}, {\"hoverinfo\": \"none\", \"y\": [0.0, 0.0, null], \"x\": [0.0, 1.0, null], \"mode\": \"lines\", \"line\": {\"color\": \"rgb(192, 192, 192)\", \"width\": 2}}, {\"hoverinfo\": \"none\", \"y\": [1.0], \"x\": [0.5], \"textfont\": {\"color\": \"rgb(255, 255, 255)\"}, \"text\": [\"15\"], \"marker\": {\"color\": \"rgb(255, 0, 0)\", \"line\": {\"color\": \"rgb(0, 0, 0)\", \"width\": 2}, \"size\": 25}, \"textposition\": \"middle center\", \"mode\": \"markers+text\"}, {\"hoverinfo\": \"none\", \"y\": [0.6], \"x\": [0.0], \"textfont\": {\"color\": \"rgb(255, 255, 255)\"}, \"text\": [\"8\"], \"marker\": {\"color\": \"rgb(255, 0, 0)\", \"line\": {\"color\": \"rgb(0, 0, 0)\", \"width\": 2}, \"size\": 25}, \"textposition\": \"middle center\", \"mode\": \"markers+text\"}, {\"hoverinfo\": \"none\", \"y\": [0.6], \"x\": [1.0], \"textfont\": {\"color\": \"rgb(255, 255, 255)\"}, \"text\": [\"12\"], \"marker\": {\"color\": \"rgb(255, 0, 0)\", \"line\": {\"color\": \"rgb(0, 0, 0)\", \"width\": 2}, \"size\": 25}, \"textposition\": \"middle center\", \"mode\": \"markers+text\"}, {\"hoverinfo\": \"none\", \"y\": [0.0], \"x\": [0.0], \"textfont\": {\"color\": \"rgb(255, 255, 255)\"}, \"text\": [\"17\"], \"marker\": {\"color\": \"rgb(255, 0, 0)\", \"line\": {\"color\": \"rgb(0, 0, 0)\", \"width\": 2}, \"size\": 25}, \"textposition\": \"middle center\", \"mode\": \"markers+text\"}, {\"hoverinfo\": \"none\", \"y\": [0.0], \"x\": [1.0], \"textfont\": {\"color\": \"rgb(255, 255, 255)\"}, \"text\": [\"18\"], \"marker\": {\"color\": \"rgb(255, 0, 0)\", \"line\": {\"color\": \"rgb(0, 0, 0)\", \"width\": 2}, \"size\": 25}, \"textposition\": \"middle center\", \"mode\": \"markers+text\"}], \"name\": 10}, {\"data\": [{\"hoverinfo\": \"none\", \"y\": [1.0, 0.6, null], \"x\": [0.5, 0.0, null], \"mode\": \"lines\", \"line\": {\"color\": \"rgb(0, 0, 0)\", \"width\": 2}}, {\"hoverinfo\": \"none\", \"y\": [1.0, 0.6, null], \"x\": [0.5, 1.0, null], \"mode\": \"lines\", \"line\": {\"color\": \"rgb(0, 0, 0)\", \"width\": 2}}, {\"hoverinfo\": \"none\", \"y\": [0.6, 0.0, null], \"x\": [0.0, 0.0, null], \"mode\": \"lines\", \"line\": {\"color\": \"rgb(0, 255, 0)\", \"width\": 2}}, {\"hoverinfo\": \"none\", \"y\": [0.6, 0.0, null], \"x\": [1.0, 1.0, null], \"mode\": \"lines\", \"line\": {\"color\": \"rgb(0, 0, 0)\", \"width\": 2}}, {\"hoverinfo\": \"none\", \"y\": [0.0, 0.0, null], \"x\": [0.0, 1.0, null], \"mode\": \"lines\", \"line\": {\"color\": \"rgb(192, 192, 192)\", \"width\": 2}}, {\"hoverinfo\": \"none\", \"y\": [1.0], \"x\": [0.5], \"textfont\": {\"color\": \"rgb(255, 255, 255)\"}, \"text\": [\"14\"], \"marker\": {\"color\": \"rgb(255, 0, 0)\", \"line\": {\"color\": \"rgb(0, 0, 0)\", \"width\": 2}, \"size\": 25}, \"textposition\": \"middle center\", \"mode\": \"markers+text\"}, {\"hoverinfo\": \"none\", \"y\": [0.6], \"x\": [0.0], \"textfont\": {\"color\": \"rgb(255, 255, 255)\"}, \"text\": [\"9\"], \"marker\": {\"color\": \"rgb(255, 0, 0)\", \"line\": {\"color\": \"rgb(0, 0, 0)\", \"width\": 2}, \"size\": 25}, \"textposition\": \"middle center\", \"mode\": \"markers+text\"}, {\"hoverinfo\": \"none\", \"y\": [0.6], \"x\": [1.0], \"textfont\": {\"color\": \"rgb(255, 255, 255)\"}, \"text\": [\"12\"], \"marker\": {\"color\": \"rgb(255, 0, 0)\", \"line\": {\"color\": \"rgb(0, 0, 0)\", \"width\": 2}, \"size\": 25}, \"textposition\": \"middle center\", \"mode\": \"markers+text\"}, {\"hoverinfo\": \"none\", \"y\": [0.0], \"x\": [0.0], \"textfont\": {\"color\": \"rgb(255, 255, 255)\"}, \"text\": [\"18\"], \"marker\": {\"color\": \"rgb(255, 0, 0)\", \"line\": {\"color\": \"rgb(0, 0, 0)\", \"width\": 2}, \"size\": 25}, \"textposition\": \"middle center\", \"mode\": \"markers+text\"}, {\"hoverinfo\": \"none\", \"y\": [0.0], \"x\": [1.0], \"textfont\": {\"color\": \"rgb(255, 255, 255)\"}, \"text\": [\"18\"], \"marker\": {\"color\": \"rgb(255, 0, 0)\", \"line\": {\"color\": \"rgb(0, 0, 0)\", \"width\": 2}, \"size\": 25}, \"textposition\": \"middle center\", \"mode\": \"markers+text\"}], \"name\": 11}, {\"data\": [{\"hoverinfo\": \"none\", \"y\": [1.0, 0.6, null], \"x\": [0.5, 0.0, null], \"mode\": \"lines\", \"line\": {\"color\": \"rgb(0, 255, 0)\", \"width\": 2}}, {\"hoverinfo\": \"none\", \"y\": [1.0, 0.6, null], \"x\": [0.5, 1.0, null], \"mode\": \"lines\", \"line\": {\"color\": \"rgb(0, 0, 0)\", \"width\": 2}}, {\"hoverinfo\": \"none\", \"y\": [0.6, 0.0, null], \"x\": [0.0, 0.0, null], \"mode\": \"lines\", \"line\": {\"color\": \"rgb(0, 0, 0)\", \"width\": 2}}, {\"hoverinfo\": \"none\", \"y\": [0.6, 0.0, null], \"x\": [1.0, 1.0, null], \"mode\": \"lines\", \"line\": {\"color\": \"rgb(0, 0, 0)\", \"width\": 2}}, {\"hoverinfo\": \"none\", \"y\": [0.0, 0.0, null], \"x\": [0.0, 1.0, null], \"mode\": \"lines\", \"line\": {\"color\": \"rgb(192, 192, 192)\", \"width\": 2}}, {\"hoverinfo\": \"none\", \"y\": [1.0], \"x\": [0.5], \"textfont\": {\"color\": \"rgb(255, 255, 255)\"}, \"text\": [\"15\"], \"marker\": {\"color\": \"rgb(255, 0, 0)\", \"line\": {\"color\": \"rgb(0, 0, 0)\", \"width\": 2}, \"size\": 25}, \"textposition\": \"middle center\", \"mode\": \"markers+text\"}, {\"hoverinfo\": \"none\", \"y\": [0.6], \"x\": [0.0], \"textfont\": {\"color\": \"rgb(255, 255, 255)\"}, \"text\": [\"10\"], \"marker\": {\"color\": \"rgb(255, 0, 0)\", \"line\": {\"color\": \"rgb(0, 0, 0)\", \"width\": 2}, \"size\": 25}, \"textposition\": \"middle center\", \"mode\": \"markers+text\"}, {\"hoverinfo\": \"none\", \"y\": [0.6], \"x\": [1.0], \"textfont\": {\"color\": \"rgb(255, 255, 255)\"}, \"text\": [\"12\"], \"marker\": {\"color\": \"rgb(255, 0, 0)\", \"line\": {\"color\": \"rgb(0, 0, 0)\", \"width\": 2}, \"size\": 25}, \"textposition\": \"middle center\", \"mode\": \"markers+text\"}, {\"hoverinfo\": \"none\", \"y\": [0.0], \"x\": [0.0], \"textfont\": {\"color\": \"rgb(255, 255, 255)\"}, \"text\": [\"18\"], \"marker\": {\"color\": \"rgb(255, 0, 0)\", \"line\": {\"color\": \"rgb(0, 0, 0)\", \"width\": 2}, \"size\": 25}, \"textposition\": \"middle center\", \"mode\": \"markers+text\"}, {\"hoverinfo\": \"none\", \"y\": [0.0], \"x\": [1.0], \"textfont\": {\"color\": \"rgb(255, 255, 255)\"}, \"text\": [\"18\"], \"marker\": {\"color\": \"rgb(255, 0, 0)\", \"line\": {\"color\": \"rgb(0, 0, 0)\", \"width\": 2}, \"size\": 25}, \"textposition\": \"middle center\", \"mode\": \"markers+text\"}], \"name\": 12}, {\"data\": [{\"hoverinfo\": \"none\", \"y\": [1.0, 0.6, null], \"x\": [0.5, 0.0, null], \"mode\": \"lines\", \"line\": {\"color\": \"rgb(0, 255, 0)\", \"width\": 2}}, {\"hoverinfo\": \"none\", \"y\": [1.0, 0.6, null], \"x\": [0.5, 1.0, null], \"mode\": \"lines\", \"line\": {\"color\": \"rgb(0, 0, 0)\", \"width\": 2}}, {\"hoverinfo\": \"none\", \"y\": [0.6, 0.0, null], \"x\": [0.0, 0.0, null], \"mode\": \"lines\", \"line\": {\"color\": \"rgb(0, 0, 0)\", \"width\": 2}}, {\"hoverinfo\": \"none\", \"y\": [0.6, 0.0, null], \"x\": [1.0, 1.0, null], \"mode\": \"lines\", \"line\": {\"color\": \"rgb(0, 0, 0)\", \"width\": 2}}, {\"hoverinfo\": \"none\", \"y\": [0.0, 0.0, null], \"x\": [0.0, 1.0, null], \"mode\": \"lines\", \"line\": {\"color\": \"rgb(192, 192, 192)\", \"width\": 2}}, {\"hoverinfo\": \"none\", \"y\": [1.0], \"x\": [0.5], \"textfont\": {\"color\": \"rgb(255, 255, 255)\"}, \"text\": [\"16\"], \"marker\": {\"color\": \"rgb(255, 0, 0)\", \"line\": {\"color\": \"rgb(0, 0, 0)\", \"width\": 2}, \"size\": 25}, \"textposition\": \"middle center\", \"mode\": \"markers+text\"}, {\"hoverinfo\": \"none\", \"y\": [0.6], \"x\": [0.0], \"textfont\": {\"color\": \"rgb(255, 255, 255)\"}, \"text\": [\"11\"], \"marker\": {\"color\": \"rgb(255, 0, 0)\", \"line\": {\"color\": \"rgb(0, 0, 0)\", \"width\": 2}, \"size\": 25}, \"textposition\": \"middle center\", \"mode\": \"markers+text\"}, {\"hoverinfo\": \"none\", \"y\": [0.6], \"x\": [1.0], \"textfont\": {\"color\": \"rgb(255, 255, 255)\"}, \"text\": [\"12\"], \"marker\": {\"color\": \"rgb(255, 0, 0)\", \"line\": {\"color\": \"rgb(0, 0, 0)\", \"width\": 2}, \"size\": 25}, \"textposition\": \"middle center\", \"mode\": \"markers+text\"}, {\"hoverinfo\": \"none\", \"y\": [0.0], \"x\": [0.0], \"textfont\": {\"color\": \"rgb(255, 255, 255)\"}, \"text\": [\"18\"], \"marker\": {\"color\": \"rgb(255, 0, 0)\", \"line\": {\"color\": \"rgb(0, 0, 0)\", \"width\": 2}, \"size\": 25}, \"textposition\": \"middle center\", \"mode\": \"markers+text\"}, {\"hoverinfo\": \"none\", \"y\": [0.0], \"x\": [1.0], \"textfont\": {\"color\": \"rgb(255, 255, 255)\"}, \"text\": [\"18\"], \"marker\": {\"color\": \"rgb(255, 0, 0)\", \"line\": {\"color\": \"rgb(0, 0, 0)\", \"width\": 2}, \"size\": 25}, \"textposition\": \"middle center\", \"mode\": \"markers+text\"}], \"name\": 13}, {\"data\": [{\"hoverinfo\": \"none\", \"y\": [1.0, 0.6, null], \"x\": [0.5, 0.0, null], \"mode\": \"lines\", \"line\": {\"color\": \"rgb(0, 0, 0)\", \"width\": 2}}, {\"hoverinfo\": \"none\", \"y\": [1.0, 0.6, null], \"x\": [0.5, 1.0, null], \"mode\": \"lines\", \"line\": {\"color\": \"rgb(0, 0, 0)\", \"width\": 2}}, {\"hoverinfo\": \"none\", \"y\": [0.6, 0.0, null], \"x\": [0.0, 0.0, null], \"mode\": \"lines\", \"line\": {\"color\": \"rgb(0, 0, 0)\", \"width\": 2}}, {\"hoverinfo\": \"none\", \"y\": [0.6, 0.0, null], \"x\": [1.0, 1.0, null], \"mode\": \"lines\", \"line\": {\"color\": \"rgb(0, 0, 0)\", \"width\": 2}}, {\"hoverinfo\": \"none\", \"y\": [0.0, 0.0, null], \"x\": [0.0, 1.0, null], \"mode\": \"lines\", \"line\": {\"color\": \"rgb(192, 192, 192)\", \"width\": 2}}, {\"hoverinfo\": \"none\", \"y\": [1.0], \"x\": [0.5], \"textfont\": {\"color\": \"rgb(255, 255, 255)\"}, \"text\": [\"16\"], \"marker\": {\"color\": \"rgb(255, 0, 0)\", \"line\": {\"color\": \"rgb(0, 0, 0)\", \"width\": 2}, \"size\": 25}, \"textposition\": \"middle center\", \"mode\": \"markers+text\"}, {\"hoverinfo\": \"none\", \"y\": [0.6], \"x\": [0.0], \"textfont\": {\"color\": \"rgb(255, 255, 255)\"}, \"text\": [\"11\"], \"marker\": {\"color\": \"rgb(255, 0, 0)\", \"line\": {\"color\": \"rgb(0, 0, 0)\", \"width\": 2}, \"size\": 25}, \"textposition\": \"middle center\", \"mode\": \"markers+text\"}, {\"hoverinfo\": \"none\", \"y\": [0.6], \"x\": [1.0], \"textfont\": {\"color\": \"rgb(255, 255, 255)\"}, \"text\": [\"12\"], \"marker\": {\"color\": \"rgb(255, 0, 0)\", \"line\": {\"color\": \"rgb(0, 0, 0)\", \"width\": 2}, \"size\": 25}, \"textposition\": \"middle center\", \"mode\": \"markers+text\"}, {\"hoverinfo\": \"none\", \"y\": [0.0], \"x\": [0.0], \"textfont\": {\"color\": \"rgb(255, 255, 255)\"}, \"text\": [\"18\"], \"marker\": {\"color\": \"rgb(255, 0, 0)\", \"line\": {\"color\": \"rgb(0, 0, 0)\", \"width\": 2}, \"size\": 25}, \"textposition\": \"middle center\", \"mode\": \"markers+text\"}, {\"hoverinfo\": \"none\", \"y\": [0.0], \"x\": [1.0], \"textfont\": {\"color\": \"rgb(255, 255, 255)\"}, \"text\": [\"18\"], \"marker\": {\"color\": \"rgb(255, 0, 0)\", \"line\": {\"color\": \"rgb(0, 0, 0)\", \"width\": 2}, \"size\": 25}, \"textposition\": \"middle center\", \"mode\": \"markers+text\"}], \"name\": 14}]);}).then(function(){Plotly.animate('2e3bffd3-023c-495a-8785-7e4b8c20abbe');})\n",
       "        });</script>"
      ]
     },
     "metadata": {},
     "output_type": "display_data"
    }
   ],
   "source": [
    "from random import randint, choice\n",
    "\n",
    "TIMES = 100\n",
    "\n",
    "# Colors\n",
    "DEAL = (0, 255, 0)\n",
    "POSSIBILITY = (0, 0, 255)\n",
    "TARGET = (255, 0, 0)\n",
    "\n",
    "\n",
    "def offer(g, n, m):\n",
    "    if g.edge[n][m]['strong']:\n",
    "        return 24 - g.node[m]['demand']\n",
    "    return 8 - g.node[m]['demand']\n",
    "\n",
    "\n",
    "def snapshot(g, frames):\n",
    "    for n in g.nodes():\n",
    "        g.node[n]['label'] = str(g.node[n]['demand'])\n",
    "    frame = sn.generate_frame(g, nlab=True)\n",
    "    frames.append(frame)\n",
    "\n",
    "\n",
    "def simulate(g):\n",
    "    frames = []\n",
    "    prev_demands = []\n",
    "    \n",
    "    for n in g.nodes():\n",
    "        dem = randint(1, 23)\n",
    "        g.node[n]['demand'] = dem\n",
    "        prev_demands.append(dem)\n",
    "\n",
    "    snapshot(g, frames)\n",
    "    \n",
    "    for _ in range(TIMES):\n",
    "        # seu codigo\n",
    "        deals = []\n",
    "        for n in g.nodes():\n",
    "#             print(n)\n",
    "            acc_neigh = []  # acceptable neighbors\n",
    "            _max = -1\n",
    "            neighbors = g.neighbors(n)\n",
    "            node = g.node[n]\n",
    "            \n",
    "            for neigh in neighbors:\n",
    "                # check possible deals\n",
    "                val = offer(g, n, neigh) - node['demand']\n",
    "                if val > _max:\n",
    "                    # new best offer\n",
    "                    acc_neigh = [neigh]\n",
    "                elif val == _max:\n",
    "                    acc_neigh.append(neigh)\n",
    "                \n",
    "            if len(acc_neigh) > 0:\n",
    "                deals.append(choice(acc_neigh))\n",
    "            else:\n",
    "                deals.append(-1)  # -1: recusa todas as ofertas\n",
    "        \n",
    "        # step 5\n",
    "        stable = True\n",
    "        \n",
    "        for i in range(len(deals)):\n",
    "            # no offers\n",
    "            if deals[i] < 0:\n",
    "                pass\n",
    "            # step 3\n",
    "            elif i == deals[deals[i]]:\n",
    "                g.edge[i][deals[i]]['color'] = DEAL\n",
    "                \n",
    "                # step 4\n",
    "                if g.node[i]['demand'] < 23:\n",
    "                    g.node[i]['demand'] += 1\n",
    "            \n",
    "            # step 4\n",
    "            elif g.node[i]['demand'] > 1:\n",
    "                g.node[i]['demand'] -= 1\n",
    "                \n",
    "            # step 5\n",
    "            if stable and g.node[i]['demand'] != prev_demands[i]:\n",
    "                stable = False\n",
    "            prev_demands[i] = g.node[i]['demand']\n",
    "        \n",
    "        snapshot(g, frames)\n",
    "        \n",
    "        # reset graph colors\n",
    "        set_colors(g)\n",
    "        \n",
    "        # step 5\n",
    "        if stable:\n",
    "            break\n",
    "\n",
    "    sn.show_animation(frames)\n",
    "\n",
    "simulate(g3)"
   ]
  },
  {
   "cell_type": "markdown",
   "metadata": {},
   "source": [
    "O vídeo `exemplo.mp4` no repositório ilustra como a simulação deve ser: as negociações são destacadas e as demandas são atualizadas."
   ]
  },
  {
   "cell_type": "markdown",
   "metadata": {},
   "source": [
    "## Avançado\n",
    "\n",
    "Na consolidação do módulo de centralidade, você pode atingir conceito avançado no objetivo **traduzir conceitos sociológicos para teoria dos grafos e algoritmos em grafos** se adicionar ao código da simulação um *cálculo de lucro acumulado*. Essa adição deve ser entregue na mesma data e deve incluir um comentário que explique *como você distribui o lucro no caso em que a soma das demandas é menor que o dinheiro disponível*.\n",
    "\n",
    "Entender esse enunciado sozinho faz parte da entrega."
   ]
  },
  {
   "cell_type": "code",
   "execution_count": null,
   "metadata": {
    "collapsed": true
   },
   "outputs": [],
   "source": []
  }
 ],
 "metadata": {
  "kernelspec": {
   "display_name": "Python 3",
   "language": "python",
   "name": "python3"
  },
  "language_info": {
   "codemirror_mode": {
    "name": "ipython",
    "version": 3
   },
   "file_extension": ".py",
   "mimetype": "text/x-python",
   "name": "python",
   "nbconvert_exporter": "python",
   "pygments_lexer": "ipython3",
   "version": "3.5.3"
  }
 },
 "nbformat": 4,
 "nbformat_minor": 1
}
