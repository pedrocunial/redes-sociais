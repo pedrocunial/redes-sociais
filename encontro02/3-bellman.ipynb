{
 "cells": [
  {
   "cell_type": "markdown",
   "metadata": {},
   "source": [
    "# Encontro 02, Parte 3: Algoritmo de Bellman-Ford\n",
    "\n",
    "Este guia foi escrito para ajudar você a atingir os seguintes objetivos:\n",
    "\n",
    "* implementar o algoritmo de Bellman-Ford;\n",
    "* praticar o uso da biblioteca da disciplina.\n",
    "\n",
    "Primeiramente, vamos importar a biblioteca:"
   ]
  },
  {
   "cell_type": "code",
   "execution_count": 7,
   "metadata": {},
   "outputs": [],
   "source": [
    "import sys\n",
    "sys.path.append('..')\n",
    "\n",
    "import socnet as sn"
   ]
  },
  {
   "cell_type": "markdown",
   "metadata": {},
   "source": [
    "A seguir, vamos configurar as propriedades visuais:"
   ]
  },
  {
   "cell_type": "code",
   "execution_count": 8,
   "metadata": {
    "collapsed": true
   },
   "outputs": [],
   "source": [
    "sn.graph_width = 320\n",
    "sn.graph_height = 180"
   ]
  },
  {
   "cell_type": "markdown",
   "metadata": {},
   "source": [
    "Por fim, vamos carregar e visualizar um grafo:"
   ]
  },
  {
   "cell_type": "code",
   "execution_count": 9,
   "metadata": {},
   "outputs": [
    {
     "data": {
      "application/vnd.plotly.v1+json": {
       "data": [
        {
         "hoverinfo": "none",
         "line": {
          "color": "rgb(0, 0, 0)",
          "width": 2
         },
         "mode": "lines",
         "x": [
          0,
          0.5,
          null,
          0.46643085439538495,
          0.44538388103556675,
          null,
          0.46643085439538495,
          0.4285584341548651,
          null,
          0,
          0.5,
          null,
          0.46643085439538495,
          0.4285584341548651,
          null,
          0.46643085439538495,
          0.44538388103556675,
          null,
          0.5,
          1,
          null,
          0.9621212121212122,
          0.9288794484132434,
          null,
          0.5,
          0.5,
          null,
          0.5,
          0.48183994171953776,
          null,
          0.5,
          0.5181600582804622,
          null,
          0.5,
          1,
          null,
          0.9738173240163878,
          0.9377166459078401,
          null,
          0.9738173240163878,
          0.9639630823912474,
          null,
          1,
          0.5,
          null,
          0.5378787878787878,
          0.5711205515867566,
          null,
          0.5,
          1,
          null,
          0.9738173240163878,
          0.9639630823912474,
          null,
          0.9738173240163878,
          0.9377166459078401,
          null,
          0.5,
          1,
          null,
          0.9621212121212122,
          0.9288794484132434,
          null,
          0.9621212121212122,
          0.9288794484132434,
          null,
          1,
          0,
          null,
          0.03664774299318793,
          0.07340128670201525,
          null,
          0.03664774299318793,
          0.06421703965128427,
          null,
          1,
          1,
          null,
          1,
          1.0181600582804622,
          null,
          1,
          0.9818399417195378,
          null
         ],
         "y": [
          0.5,
          1,
          null,
          0.966430854395385,
          0.906182816233176,
          null,
          0.966430854395385,
          0.967759498957256,
          null,
          0.5,
          0,
          null,
          0.03356914560461503,
          0.032240501042743994,
          null,
          0.03356914560461503,
          0.09381718376682407,
          null,
          1.0144927536231885,
          1.0144927536231885,
          null,
          1.0144927536231885,
          1.049233734681464,
          null,
          1,
          0,
          null,
          0.07246376811594203,
          0.13605670738336034,
          null,
          0.07246376811594203,
          0.13605670738336034,
          null,
          1,
          0,
          null,
          0.052365351967224576,
          0.07430651885030926,
          null,
          0.052365351967224576,
          0.12233402455151593,
          null,
          0.9855072463768116,
          0.9855072463768116,
          null,
          0.9855072463768116,
          0.950766265318536,
          null,
          0,
          1,
          null,
          0.9476346480327754,
          0.8776659754484841,
          null,
          0.9476346480327754,
          0.9256934811496907,
          null,
          0,
          0,
          null,
          0,
          -0.03474098105827558,
          null,
          0,
          0.03474098105827558,
          null,
          0,
          0.5,
          null,
          0.481676128503406,
          0.4992073320037643,
          null,
          0.481676128503406,
          0.4319835048195859,
          null,
          0,
          1,
          null,
          0.927536231884058,
          0.8639432926166397,
          null,
          0.927536231884058,
          0.8639432926166397,
          null
         ]
        },
        {
         "hoverinfo": "none",
         "marker": {
          "color": "rgb(255, 255, 255)",
          "line": {
           "color": "rgb(0, 0, 0)",
           "width": 2
          },
          "size": 20
         },
         "mode": "markers+text",
         "text": [],
         "textfont": {
          "color": "rgb(0, 0, 0)"
         },
         "textposition": "middle center",
         "x": [
          0,
          0.5,
          1,
          0.5,
          1
         ],
         "y": [
          0.5,
          1,
          1,
          0,
          0
         ]
        },
        {
         "hoverinfo": "none",
         "mode": "text",
         "text": [
          6,
          7,
          5,
          8,
          -4,
          -2,
          -3,
          9,
          2,
          7
         ],
         "textfont": {
          "color": "rgb(0, 0, 0)"
         },
         "textposition": "middle center",
         "x": [
          0.21643085439538495,
          0.28356914560461505,
          0.75,
          0.5378787878787878,
          0.786647742993188,
          0.75,
          0.713352257006812,
          0.75,
          0.4738173240163877,
          0.9621212121212122
         ],
         "y": [
          0.783569145604615,
          0.28356914560461505,
          1.0869565217391306,
          0.5,
          0.518323871496594,
          0.9130434782608696,
          0.518323871496594,
          0.07246376811594203,
          0.19763464803277542,
          0.5
         ]
        }
       ],
       "layout": {
        "height": 180,
        "margin": {
         "b": 0,
         "l": 0,
         "r": 0,
         "t": 0
        },
        "showlegend": false,
        "width": 320,
        "xaxis": {
         "showgrid": false,
         "showticklabels": false,
         "zeroline": false
        },
        "yaxis": {
         "showgrid": false,
         "showticklabels": false,
         "zeroline": false
        }
       }
      },
      "text/html": [
       "<div id=\"d41a60fa-6191-4b90-8e89-696177812c8d\" style=\"height: 180px; width: 320px;\" class=\"plotly-graph-div\"></div><script type=\"text/javascript\">require([\"plotly\"], function(Plotly) { window.PLOTLYENV=window.PLOTLYENV || {};window.PLOTLYENV.BASE_URL=\"https://plot.ly\";Plotly.newPlot(\"d41a60fa-6191-4b90-8e89-696177812c8d\", [{\"y\": [0.5, 1.0, null, 0.966430854395385, 0.906182816233176, null, 0.966430854395385, 0.967759498957256, null, 0.5, 0.0, null, 0.03356914560461503, 0.032240501042743994, null, 0.03356914560461503, 0.09381718376682407, null, 1.0144927536231885, 1.0144927536231885, null, 1.0144927536231885, 1.049233734681464, null, 1.0, 0.0, null, 0.07246376811594203, 0.13605670738336034, null, 0.07246376811594203, 0.13605670738336034, null, 1.0, 0.0, null, 0.052365351967224576, 0.07430651885030926, null, 0.052365351967224576, 0.12233402455151593, null, 0.9855072463768116, 0.9855072463768116, null, 0.9855072463768116, 0.950766265318536, null, 0.0, 1.0, null, 0.9476346480327754, 0.8776659754484841, null, 0.9476346480327754, 0.9256934811496907, null, 0.0, 0.0, null, 0.0, -0.03474098105827558, null, 0.0, 0.03474098105827558, null, 0.0, 0.5, null, 0.481676128503406, 0.4992073320037643, null, 0.481676128503406, 0.4319835048195859, null, 0.0, 1.0, null, 0.927536231884058, 0.8639432926166397, null, 0.927536231884058, 0.8639432926166397, null], \"x\": [0.0, 0.5, null, 0.46643085439538495, 0.44538388103556675, null, 0.46643085439538495, 0.4285584341548651, null, 0.0, 0.5, null, 0.46643085439538495, 0.4285584341548651, null, 0.46643085439538495, 0.44538388103556675, null, 0.5, 1.0, null, 0.9621212121212122, 0.9288794484132434, null, 0.5, 0.5, null, 0.5, 0.48183994171953776, null, 0.5, 0.5181600582804622, null, 0.5, 1.0, null, 0.9738173240163878, 0.9377166459078401, null, 0.9738173240163878, 0.9639630823912474, null, 1.0, 0.5, null, 0.5378787878787878, 0.5711205515867566, null, 0.5, 1.0, null, 0.9738173240163878, 0.9639630823912474, null, 0.9738173240163878, 0.9377166459078401, null, 0.5, 1.0, null, 0.9621212121212122, 0.9288794484132434, null, 0.9621212121212122, 0.9288794484132434, null, 1.0, 0.0, null, 0.03664774299318793, 0.07340128670201525, null, 0.03664774299318793, 0.06421703965128427, null, 1.0, 1.0, null, 1.0, 1.0181600582804622, null, 1.0, 0.9818399417195378, null], \"line\": {\"width\": 2, \"color\": \"rgb(0, 0, 0)\"}, \"mode\": \"lines\", \"hoverinfo\": \"none\"}, {\"y\": [0.5, 1.0, 1.0, 0.0, 0.0], \"marker\": {\"line\": {\"width\": 2, \"color\": \"rgb(0, 0, 0)\"}, \"color\": \"rgb(255, 255, 255)\", \"size\": 20}, \"hoverinfo\": \"none\", \"textposition\": \"middle center\", \"x\": [0.0, 0.5, 1.0, 0.5, 1.0], \"mode\": \"markers+text\", \"text\": [], \"textfont\": {\"color\": \"rgb(0, 0, 0)\"}}, {\"y\": [0.783569145604615, 0.28356914560461505, 1.0869565217391306, 0.5, 0.518323871496594, 0.9130434782608696, 0.518323871496594, 0.07246376811594203, 0.19763464803277542, 0.5], \"textposition\": \"middle center\", \"hoverinfo\": \"none\", \"x\": [0.21643085439538495, 0.28356914560461505, 0.75, 0.5378787878787878, 0.786647742993188, 0.75, 0.713352257006812, 0.75, 0.4738173240163877, 0.9621212121212122], \"mode\": \"text\", \"text\": [6, 7, 5, 8, -4, -2, -3, 9, 2, 7], \"textfont\": {\"color\": \"rgb(0, 0, 0)\"}}], {\"width\": 320, \"showlegend\": false, \"height\": 180, \"margin\": {\"r\": 0, \"b\": 0, \"l\": 0, \"t\": 0}, \"yaxis\": {\"zeroline\": false, \"showticklabels\": false, \"showgrid\": false}, \"xaxis\": {\"zeroline\": false, \"showticklabels\": false, \"showgrid\": false}}, {\"displayModeBar\": false, \"showLink\": false, \"linkText\": \"Export to plot.ly\"})});</script>"
      ],
      "text/vnd.plotly.v1+html": [
       "<div id=\"d41a60fa-6191-4b90-8e89-696177812c8d\" style=\"height: 180px; width: 320px;\" class=\"plotly-graph-div\"></div><script type=\"text/javascript\">require([\"plotly\"], function(Plotly) { window.PLOTLYENV=window.PLOTLYENV || {};window.PLOTLYENV.BASE_URL=\"https://plot.ly\";Plotly.newPlot(\"d41a60fa-6191-4b90-8e89-696177812c8d\", [{\"y\": [0.5, 1.0, null, 0.966430854395385, 0.906182816233176, null, 0.966430854395385, 0.967759498957256, null, 0.5, 0.0, null, 0.03356914560461503, 0.032240501042743994, null, 0.03356914560461503, 0.09381718376682407, null, 1.0144927536231885, 1.0144927536231885, null, 1.0144927536231885, 1.049233734681464, null, 1.0, 0.0, null, 0.07246376811594203, 0.13605670738336034, null, 0.07246376811594203, 0.13605670738336034, null, 1.0, 0.0, null, 0.052365351967224576, 0.07430651885030926, null, 0.052365351967224576, 0.12233402455151593, null, 0.9855072463768116, 0.9855072463768116, null, 0.9855072463768116, 0.950766265318536, null, 0.0, 1.0, null, 0.9476346480327754, 0.8776659754484841, null, 0.9476346480327754, 0.9256934811496907, null, 0.0, 0.0, null, 0.0, -0.03474098105827558, null, 0.0, 0.03474098105827558, null, 0.0, 0.5, null, 0.481676128503406, 0.4992073320037643, null, 0.481676128503406, 0.4319835048195859, null, 0.0, 1.0, null, 0.927536231884058, 0.8639432926166397, null, 0.927536231884058, 0.8639432926166397, null], \"x\": [0.0, 0.5, null, 0.46643085439538495, 0.44538388103556675, null, 0.46643085439538495, 0.4285584341548651, null, 0.0, 0.5, null, 0.46643085439538495, 0.4285584341548651, null, 0.46643085439538495, 0.44538388103556675, null, 0.5, 1.0, null, 0.9621212121212122, 0.9288794484132434, null, 0.5, 0.5, null, 0.5, 0.48183994171953776, null, 0.5, 0.5181600582804622, null, 0.5, 1.0, null, 0.9738173240163878, 0.9377166459078401, null, 0.9738173240163878, 0.9639630823912474, null, 1.0, 0.5, null, 0.5378787878787878, 0.5711205515867566, null, 0.5, 1.0, null, 0.9738173240163878, 0.9639630823912474, null, 0.9738173240163878, 0.9377166459078401, null, 0.5, 1.0, null, 0.9621212121212122, 0.9288794484132434, null, 0.9621212121212122, 0.9288794484132434, null, 1.0, 0.0, null, 0.03664774299318793, 0.07340128670201525, null, 0.03664774299318793, 0.06421703965128427, null, 1.0, 1.0, null, 1.0, 1.0181600582804622, null, 1.0, 0.9818399417195378, null], \"line\": {\"width\": 2, \"color\": \"rgb(0, 0, 0)\"}, \"mode\": \"lines\", \"hoverinfo\": \"none\"}, {\"y\": [0.5, 1.0, 1.0, 0.0, 0.0], \"marker\": {\"line\": {\"width\": 2, \"color\": \"rgb(0, 0, 0)\"}, \"color\": \"rgb(255, 255, 255)\", \"size\": 20}, \"hoverinfo\": \"none\", \"textposition\": \"middle center\", \"x\": [0.0, 0.5, 1.0, 0.5, 1.0], \"mode\": \"markers+text\", \"text\": [], \"textfont\": {\"color\": \"rgb(0, 0, 0)\"}}, {\"y\": [0.783569145604615, 0.28356914560461505, 1.0869565217391306, 0.5, 0.518323871496594, 0.9130434782608696, 0.518323871496594, 0.07246376811594203, 0.19763464803277542, 0.5], \"textposition\": \"middle center\", \"hoverinfo\": \"none\", \"x\": [0.21643085439538495, 0.28356914560461505, 0.75, 0.5378787878787878, 0.786647742993188, 0.75, 0.713352257006812, 0.75, 0.4738173240163877, 0.9621212121212122], \"mode\": \"text\", \"text\": [6, 7, 5, 8, -4, -2, -3, 9, 2, 7], \"textfont\": {\"color\": \"rgb(0, 0, 0)\"}}], {\"width\": 320, \"showlegend\": false, \"height\": 180, \"margin\": {\"r\": 0, \"b\": 0, \"l\": 0, \"t\": 0}, \"yaxis\": {\"zeroline\": false, \"showticklabels\": false, \"showgrid\": false}, \"xaxis\": {\"zeroline\": false, \"showticklabels\": false, \"showgrid\": false}}, {\"displayModeBar\": false, \"showLink\": false, \"linkText\": \"Export to plot.ly\"})});</script>"
      ]
     },
     "metadata": {},
     "output_type": "display_data"
    }
   ],
   "source": [
    "g = sn.load_graph('3-bellman.gml', has_pos=True)\n",
    "\n",
    "for n, m in g.edges():\n",
    "    g.edge[n][m]['label'] = g.edge[n][m]['c']\n",
    "\n",
    "sn.show_graph(g, elab=True)"
   ]
  },
  {
   "cell_type": "markdown",
   "metadata": {},
   "source": [
    "## Passeios de custo mínimo\n",
    "\n",
    "O arquivo atribui `c` às arestas. Formalmente, esse atributo é uma função que mapeia pares de nós a reais:\n",
    "\n",
    "$c \\colon N \\times N \\rightarrow \\mathbb{R}$.\n",
    "\n",
    "O **custo** de um passeio $\\langle n_0, n_1, \\ldots, n_{k-1} \\rangle$ é\n",
    "\n",
    "$\\sum^{k-2}_{i=0} c(n_i, n_{i+1})$.\n",
    "\n",
    "Um passeio de origem $s$ e destino $t$ tem **custo mínimo** se não existe outro passeio de origem $s$ e destino $t$ de custo menor. Note que podem existir múltiplos passeios de custo mínimo.\n",
    "\n",
    "A **distância ponderada** de $s$ a $t$ é o custo mínimo de um passeio de origem $s$ e destino $t$. Por completude, dizemos que a distância ponderada de $s$ a $t$ é $\\infty$ se não existe passeio de origem $s$ e destino $t$.\n",
    "\n",
    "## Algoritmo de Bellman-Ford\n",
    "\n",
    "Dado um nó $s$, podemos eficientemente calcular as distâncias ponderadas desse a todos os outros nós do grafo usando o **algoritmo de Bellman-Ford**. A ideia desse algoritmo é diferente da ideia do algoritmo de busca em largura, mas também é simples: inicializamos a distância de $s$ como $0$, inicializamos a distância dos outros nós como $\\infty$ e verificamos todas as arestas. Para cada aresta $(n, m)$, se a distância de $m$ for maior que a distância de $n$ mais o custo de $(n, m)$, essa soma passa a ser a nova distância de $m$.\n",
    "\n",
    "É possível demonstrar matematicamente esse laço precisa ser repetido não mais que $|N|-1$ vezes, onde $|N|$ é a quantidade de nós."
   ]
  },
  {
   "cell_type": "code",
   "execution_count": 4,
   "metadata": {},
   "outputs": [
    {
     "name": "stdout",
     "output_type": "stream",
     "text": [
      "distância de 0: 0\n",
      "distância de 1: 2\n",
      "distância de 2: 4\n",
      "distância de 3: 7\n",
      "distância de 4: -2\n"
     ]
    }
   ],
   "source": [
    "from math import inf, isinf\n",
    "\n",
    "s = 0\n",
    "\n",
    "for n in g.nodes():\n",
    "    g.node[n]['d'] = inf\n",
    "\n",
    "g.node[s]['d'] = 0\n",
    "\n",
    "for i in range(g.number_of_nodes() - 1):\n",
    "    for n, m in g.edges():\n",
    "        d = g.node[n]['d'] + g.edge[n][m]['c']\n",
    "\n",
    "        if g.node[m]['d'] > d:\n",
    "            g.node[m]['d'] = d\n",
    "\n",
    "for n in g.nodes():\n",
    "    print('distância de {}: {}'.format(n, g.node[n]['d']))"
   ]
  },
  {
   "cell_type": "markdown",
   "metadata": {},
   "source": [
    "No entanto, essa demonstração depende de certas hipóteses em relação ao grafo. Tenho uma má e uma boa notícia:\n",
    "\n",
    "* a má é que existem grafos em que o algoritmo não funciona, ou seja, devolve uma resposta incorreta;\n",
    "* a boa é que, nos grafos em que ele funciona, os passeios de custo mínimo são caminhos de custo mínimo.\n",
    "\n",
    "### Exercício 1\n",
    "\n",
    "Que grafos são esses?"
   ]
  },
  {
   "cell_type": "markdown",
   "metadata": {},
   "source": [
    "*Resposta:* O algoritmo nao funcionaria caso houvesse um passeio fechado por onde as arestas tem valores negativos, nesse caso, o algoritmo entraria em loop infinito pois percorrer este caminho sempre seria a melhor opção."
   ]
  },
  {
   "cell_type": "markdown",
   "metadata": {},
   "source": [
    "### Exercício 2\n",
    "\n",
    "Monte uma visualização do algoritmo de Bellman-Ford."
   ]
  },
  {
   "cell_type": "code",
   "execution_count": 5,
   "metadata": {
    "collapsed": true
   },
   "outputs": [],
   "source": [
    "# sua resposta\n",
    "def snapshot(g, frames):\n",
    "    for n in g.nodes():\n",
    "        if isinf(g.node[n]['d']):\n",
    "            g.node[n]['label'] = '∞'\n",
    "        else:\n",
    "            g.node[n]['label'] = str(g.node[n]['d'])\n",
    "\n",
    "    frame = sn.generate_frame(g, nlab=True)\n",
    "\n",
    "    frames.append(frame)"
   ]
  },
  {
   "cell_type": "code",
   "execution_count": 6,
   "metadata": {},
   "outputs": [
    {
     "data": {
      "application/vnd.plotly.v1+json": {
       "data": [
        {
         "hoverinfo": "none",
         "line": {
          "color": "rgb(0, 0, 0)",
          "width": 2
         },
         "mode": "lines",
         "x": [
          0,
          0.5,
          null,
          0.46643085439538495,
          0.44538388103556675,
          null,
          0.46643085439538495,
          0.4285584341548651,
          null
         ],
         "y": [
          0.5,
          1,
          null,
          0.966430854395385,
          0.906182816233176,
          null,
          0.966430854395385,
          0.967759498957256,
          null
         ]
        },
        {
         "hoverinfo": "none",
         "line": {
          "color": "rgb(0, 0, 0)",
          "width": 2
         },
         "mode": "lines",
         "x": [
          0,
          0.5,
          null,
          0.46643085439538495,
          0.4285584341548651,
          null,
          0.46643085439538495,
          0.44538388103556675,
          null
         ],
         "y": [
          0.5,
          0,
          null,
          0.03356914560461503,
          0.032240501042743994,
          null,
          0.03356914560461503,
          0.09381718376682407,
          null
         ]
        },
        {
         "hoverinfo": "none",
         "line": {
          "color": "rgb(0, 0, 0)",
          "width": 2
         },
         "mode": "lines",
         "x": [
          0.5,
          1,
          null,
          0.9621212121212122,
          0.9288794484132434,
          null
         ],
         "y": [
          1.0144927536231885,
          1.0144927536231885,
          null,
          1.0144927536231885,
          1.049233734681464,
          null
         ]
        },
        {
         "hoverinfo": "none",
         "line": {
          "color": "rgb(0, 0, 0)",
          "width": 2
         },
         "mode": "lines",
         "x": [
          0.5,
          0.5,
          null,
          0.5,
          0.48183994171953776,
          null,
          0.5,
          0.5181600582804622,
          null
         ],
         "y": [
          1,
          0,
          null,
          0.07246376811594203,
          0.13605670738336034,
          null,
          0.07246376811594203,
          0.13605670738336034,
          null
         ]
        },
        {
         "hoverinfo": "none",
         "line": {
          "color": "rgb(0, 0, 0)",
          "width": 2
         },
         "mode": "lines",
         "x": [
          0.5,
          1,
          null,
          0.9738173240163878,
          0.9377166459078401,
          null,
          0.9738173240163878,
          0.9639630823912474,
          null
         ],
         "y": [
          1,
          0,
          null,
          0.052365351967224576,
          0.07430651885030926,
          null,
          0.052365351967224576,
          0.12233402455151593,
          null
         ]
        },
        {
         "hoverinfo": "none",
         "line": {
          "color": "rgb(0, 0, 0)",
          "width": 2
         },
         "mode": "lines",
         "x": [
          1,
          0.5,
          null,
          0.5378787878787878,
          0.5711205515867566,
          null
         ],
         "y": [
          0.9855072463768116,
          0.9855072463768116,
          null,
          0.9855072463768116,
          0.950766265318536,
          null
         ]
        },
        {
         "hoverinfo": "none",
         "line": {
          "color": "rgb(0, 0, 0)",
          "width": 2
         },
         "mode": "lines",
         "x": [
          0.5,
          1,
          null,
          0.9738173240163878,
          0.9639630823912474,
          null,
          0.9738173240163878,
          0.9377166459078401,
          null
         ],
         "y": [
          0,
          1,
          null,
          0.9476346480327754,
          0.8776659754484841,
          null,
          0.9476346480327754,
          0.9256934811496907,
          null
         ]
        },
        {
         "hoverinfo": "none",
         "line": {
          "color": "rgb(0, 0, 0)",
          "width": 2
         },
         "mode": "lines",
         "x": [
          0.5,
          1,
          null,
          0.9621212121212122,
          0.9288794484132434,
          null,
          0.9621212121212122,
          0.9288794484132434,
          null
         ],
         "y": [
          0,
          0,
          null,
          0,
          -0.03474098105827558,
          null,
          0,
          0.03474098105827558,
          null
         ]
        },
        {
         "hoverinfo": "none",
         "line": {
          "color": "rgb(0, 0, 0)",
          "width": 2
         },
         "mode": "lines",
         "x": [
          1,
          0,
          null,
          0.03664774299318793,
          0.07340128670201525,
          null,
          0.03664774299318793,
          0.06421703965128427,
          null
         ],
         "y": [
          0,
          0.5,
          null,
          0.481676128503406,
          0.4992073320037643,
          null,
          0.481676128503406,
          0.4319835048195859,
          null
         ]
        },
        {
         "hoverinfo": "none",
         "line": {
          "color": "rgb(0, 0, 0)",
          "width": 2
         },
         "mode": "lines",
         "x": [
          1,
          1,
          null,
          1,
          1.0181600582804622,
          null,
          1,
          0.9818399417195378,
          null
         ],
         "y": [
          0,
          1,
          null,
          0.927536231884058,
          0.8639432926166397,
          null,
          0.927536231884058,
          0.8639432926166397,
          null
         ]
        },
        {
         "hoverinfo": "none",
         "marker": {
          "color": "rgb(255, 255, 255)",
          "line": {
           "color": "rgb(0, 0, 0)",
           "width": 2
          },
          "size": 20
         },
         "mode": "markers+text",
         "text": [
          "0"
         ],
         "textfont": {
          "color": "rgb(0, 0, 0)"
         },
         "textposition": "middle center",
         "x": [
          0
         ],
         "y": [
          0.5
         ]
        },
        {
         "hoverinfo": "none",
         "marker": {
          "color": "rgb(255, 255, 255)",
          "line": {
           "color": "rgb(0, 0, 0)",
           "width": 2
          },
          "size": 20
         },
         "mode": "markers+text",
         "text": [
          "∞"
         ],
         "textfont": {
          "color": "rgb(0, 0, 0)"
         },
         "textposition": "middle center",
         "x": [
          0.5
         ],
         "y": [
          1
         ]
        },
        {
         "hoverinfo": "none",
         "marker": {
          "color": "rgb(255, 255, 255)",
          "line": {
           "color": "rgb(0, 0, 0)",
           "width": 2
          },
          "size": 20
         },
         "mode": "markers+text",
         "text": [
          "∞"
         ],
         "textfont": {
          "color": "rgb(0, 0, 0)"
         },
         "textposition": "middle center",
         "x": [
          1
         ],
         "y": [
          1
         ]
        },
        {
         "hoverinfo": "none",
         "marker": {
          "color": "rgb(255, 255, 255)",
          "line": {
           "color": "rgb(0, 0, 0)",
           "width": 2
          },
          "size": 20
         },
         "mode": "markers+text",
         "text": [
          "∞"
         ],
         "textfont": {
          "color": "rgb(0, 0, 0)"
         },
         "textposition": "middle center",
         "x": [
          0.5
         ],
         "y": [
          0
         ]
        },
        {
         "hoverinfo": "none",
         "marker": {
          "color": "rgb(255, 255, 255)",
          "line": {
           "color": "rgb(0, 0, 0)",
           "width": 2
          },
          "size": 20
         },
         "mode": "markers+text",
         "text": [
          "∞"
         ],
         "textfont": {
          "color": "rgb(0, 0, 0)"
         },
         "textposition": "middle center",
         "x": [
          1
         ],
         "y": [
          0
         ]
        }
       ],
       "frames": [
        {
         "data": [
          {
           "hoverinfo": "none",
           "line": {
            "color": "rgb(0, 0, 0)",
            "width": 2
           },
           "mode": "lines",
           "x": [
            0,
            0.5,
            null,
            0.46643085439538495,
            0.44538388103556675,
            null,
            0.46643085439538495,
            0.4285584341548651,
            null
           ],
           "y": [
            0.5,
            1,
            null,
            0.966430854395385,
            0.906182816233176,
            null,
            0.966430854395385,
            0.967759498957256,
            null
           ]
          },
          {
           "hoverinfo": "none",
           "line": {
            "color": "rgb(0, 0, 0)",
            "width": 2
           },
           "mode": "lines",
           "x": [
            0,
            0.5,
            null,
            0.46643085439538495,
            0.4285584341548651,
            null,
            0.46643085439538495,
            0.44538388103556675,
            null
           ],
           "y": [
            0.5,
            0,
            null,
            0.03356914560461503,
            0.032240501042743994,
            null,
            0.03356914560461503,
            0.09381718376682407,
            null
           ]
          },
          {
           "hoverinfo": "none",
           "line": {
            "color": "rgb(0, 0, 0)",
            "width": 2
           },
           "mode": "lines",
           "x": [
            0.5,
            1,
            null,
            0.9621212121212122,
            0.9288794484132434,
            null
           ],
           "y": [
            1.0144927536231885,
            1.0144927536231885,
            null,
            1.0144927536231885,
            1.049233734681464,
            null
           ]
          },
          {
           "hoverinfo": "none",
           "line": {
            "color": "rgb(0, 0, 0)",
            "width": 2
           },
           "mode": "lines",
           "x": [
            0.5,
            0.5,
            null,
            0.5,
            0.48183994171953776,
            null,
            0.5,
            0.5181600582804622,
            null
           ],
           "y": [
            1,
            0,
            null,
            0.07246376811594203,
            0.13605670738336034,
            null,
            0.07246376811594203,
            0.13605670738336034,
            null
           ]
          },
          {
           "hoverinfo": "none",
           "line": {
            "color": "rgb(0, 0, 0)",
            "width": 2
           },
           "mode": "lines",
           "x": [
            0.5,
            1,
            null,
            0.9738173240163878,
            0.9377166459078401,
            null,
            0.9738173240163878,
            0.9639630823912474,
            null
           ],
           "y": [
            1,
            0,
            null,
            0.052365351967224576,
            0.07430651885030926,
            null,
            0.052365351967224576,
            0.12233402455151593,
            null
           ]
          },
          {
           "hoverinfo": "none",
           "line": {
            "color": "rgb(0, 0, 0)",
            "width": 2
           },
           "mode": "lines",
           "x": [
            1,
            0.5,
            null,
            0.5378787878787878,
            0.5711205515867566,
            null
           ],
           "y": [
            0.9855072463768116,
            0.9855072463768116,
            null,
            0.9855072463768116,
            0.950766265318536,
            null
           ]
          },
          {
           "hoverinfo": "none",
           "line": {
            "color": "rgb(0, 0, 0)",
            "width": 2
           },
           "mode": "lines",
           "x": [
            0.5,
            1,
            null,
            0.9738173240163878,
            0.9639630823912474,
            null,
            0.9738173240163878,
            0.9377166459078401,
            null
           ],
           "y": [
            0,
            1,
            null,
            0.9476346480327754,
            0.8776659754484841,
            null,
            0.9476346480327754,
            0.9256934811496907,
            null
           ]
          },
          {
           "hoverinfo": "none",
           "line": {
            "color": "rgb(0, 0, 0)",
            "width": 2
           },
           "mode": "lines",
           "x": [
            0.5,
            1,
            null,
            0.9621212121212122,
            0.9288794484132434,
            null,
            0.9621212121212122,
            0.9288794484132434,
            null
           ],
           "y": [
            0,
            0,
            null,
            0,
            -0.03474098105827558,
            null,
            0,
            0.03474098105827558,
            null
           ]
          },
          {
           "hoverinfo": "none",
           "line": {
            "color": "rgb(0, 0, 0)",
            "width": 2
           },
           "mode": "lines",
           "x": [
            1,
            0,
            null,
            0.03664774299318793,
            0.07340128670201525,
            null,
            0.03664774299318793,
            0.06421703965128427,
            null
           ],
           "y": [
            0,
            0.5,
            null,
            0.481676128503406,
            0.4992073320037643,
            null,
            0.481676128503406,
            0.4319835048195859,
            null
           ]
          },
          {
           "hoverinfo": "none",
           "line": {
            "color": "rgb(0, 0, 0)",
            "width": 2
           },
           "mode": "lines",
           "x": [
            1,
            1,
            null,
            1,
            1.0181600582804622,
            null,
            1,
            0.9818399417195378,
            null
           ],
           "y": [
            0,
            1,
            null,
            0.927536231884058,
            0.8639432926166397,
            null,
            0.927536231884058,
            0.8639432926166397,
            null
           ]
          },
          {
           "hoverinfo": "none",
           "marker": {
            "color": "rgb(255, 255, 255)",
            "line": {
             "color": "rgb(0, 0, 0)",
             "width": 2
            },
            "size": 20
           },
           "mode": "markers+text",
           "text": [
            "0"
           ],
           "textfont": {
            "color": "rgb(0, 0, 0)"
           },
           "textposition": "middle center",
           "x": [
            0
           ],
           "y": [
            0.5
           ]
          },
          {
           "hoverinfo": "none",
           "marker": {
            "color": "rgb(255, 255, 255)",
            "line": {
             "color": "rgb(0, 0, 0)",
             "width": 2
            },
            "size": 20
           },
           "mode": "markers+text",
           "text": [
            "∞"
           ],
           "textfont": {
            "color": "rgb(0, 0, 0)"
           },
           "textposition": "middle center",
           "x": [
            0.5
           ],
           "y": [
            1
           ]
          },
          {
           "hoverinfo": "none",
           "marker": {
            "color": "rgb(255, 255, 255)",
            "line": {
             "color": "rgb(0, 0, 0)",
             "width": 2
            },
            "size": 20
           },
           "mode": "markers+text",
           "text": [
            "∞"
           ],
           "textfont": {
            "color": "rgb(0, 0, 0)"
           },
           "textposition": "middle center",
           "x": [
            1
           ],
           "y": [
            1
           ]
          },
          {
           "hoverinfo": "none",
           "marker": {
            "color": "rgb(255, 255, 255)",
            "line": {
             "color": "rgb(0, 0, 0)",
             "width": 2
            },
            "size": 20
           },
           "mode": "markers+text",
           "text": [
            "∞"
           ],
           "textfont": {
            "color": "rgb(0, 0, 0)"
           },
           "textposition": "middle center",
           "x": [
            0.5
           ],
           "y": [
            0
           ]
          },
          {
           "hoverinfo": "none",
           "marker": {
            "color": "rgb(255, 255, 255)",
            "line": {
             "color": "rgb(0, 0, 0)",
             "width": 2
            },
            "size": 20
           },
           "mode": "markers+text",
           "text": [
            "∞"
           ],
           "textfont": {
            "color": "rgb(0, 0, 0)"
           },
           "textposition": "middle center",
           "x": [
            1
           ],
           "y": [
            0
           ]
          }
         ],
         "name": 0
        },
        {
         "data": [
          {
           "hoverinfo": "none",
           "line": {
            "color": "rgb(0, 255, 0)",
            "width": 2
           },
           "mode": "lines",
           "x": [
            0,
            0.5,
            null,
            0.46643085439538495,
            0.44538388103556675,
            null,
            0.46643085439538495,
            0.4285584341548651,
            null
           ],
           "y": [
            0.5,
            1,
            null,
            0.966430854395385,
            0.906182816233176,
            null,
            0.966430854395385,
            0.967759498957256,
            null
           ]
          },
          {
           "hoverinfo": "none",
           "line": {
            "color": "rgb(0, 0, 0)",
            "width": 2
           },
           "mode": "lines",
           "x": [
            0,
            0.5,
            null,
            0.46643085439538495,
            0.4285584341548651,
            null,
            0.46643085439538495,
            0.44538388103556675,
            null
           ],
           "y": [
            0.5,
            0,
            null,
            0.03356914560461503,
            0.032240501042743994,
            null,
            0.03356914560461503,
            0.09381718376682407,
            null
           ]
          },
          {
           "hoverinfo": "none",
           "line": {
            "color": "rgb(0, 0, 0)",
            "width": 2
           },
           "mode": "lines",
           "x": [
            0.5,
            1,
            null,
            0.9621212121212122,
            0.9288794484132434,
            null
           ],
           "y": [
            1.0144927536231885,
            1.0144927536231885,
            null,
            1.0144927536231885,
            1.049233734681464,
            null
           ]
          },
          {
           "hoverinfo": "none",
           "line": {
            "color": "rgb(0, 0, 0)",
            "width": 2
           },
           "mode": "lines",
           "x": [
            0.5,
            0.5,
            null,
            0.5,
            0.48183994171953776,
            null,
            0.5,
            0.5181600582804622,
            null
           ],
           "y": [
            1,
            0,
            null,
            0.07246376811594203,
            0.13605670738336034,
            null,
            0.07246376811594203,
            0.13605670738336034,
            null
           ]
          },
          {
           "hoverinfo": "none",
           "line": {
            "color": "rgb(0, 0, 0)",
            "width": 2
           },
           "mode": "lines",
           "x": [
            0.5,
            1,
            null,
            0.9738173240163878,
            0.9377166459078401,
            null,
            0.9738173240163878,
            0.9639630823912474,
            null
           ],
           "y": [
            1,
            0,
            null,
            0.052365351967224576,
            0.07430651885030926,
            null,
            0.052365351967224576,
            0.12233402455151593,
            null
           ]
          },
          {
           "hoverinfo": "none",
           "line": {
            "color": "rgb(0, 0, 0)",
            "width": 2
           },
           "mode": "lines",
           "x": [
            1,
            0.5,
            null,
            0.5378787878787878,
            0.5711205515867566,
            null
           ],
           "y": [
            0.9855072463768116,
            0.9855072463768116,
            null,
            0.9855072463768116,
            0.950766265318536,
            null
           ]
          },
          {
           "hoverinfo": "none",
           "line": {
            "color": "rgb(0, 0, 0)",
            "width": 2
           },
           "mode": "lines",
           "x": [
            0.5,
            1,
            null,
            0.9738173240163878,
            0.9639630823912474,
            null,
            0.9738173240163878,
            0.9377166459078401,
            null
           ],
           "y": [
            0,
            1,
            null,
            0.9476346480327754,
            0.8776659754484841,
            null,
            0.9476346480327754,
            0.9256934811496907,
            null
           ]
          },
          {
           "hoverinfo": "none",
           "line": {
            "color": "rgb(0, 0, 0)",
            "width": 2
           },
           "mode": "lines",
           "x": [
            0.5,
            1,
            null,
            0.9621212121212122,
            0.9288794484132434,
            null,
            0.9621212121212122,
            0.9288794484132434,
            null
           ],
           "y": [
            0,
            0,
            null,
            0,
            -0.03474098105827558,
            null,
            0,
            0.03474098105827558,
            null
           ]
          },
          {
           "hoverinfo": "none",
           "line": {
            "color": "rgb(0, 0, 0)",
            "width": 2
           },
           "mode": "lines",
           "x": [
            1,
            0,
            null,
            0.03664774299318793,
            0.07340128670201525,
            null,
            0.03664774299318793,
            0.06421703965128427,
            null
           ],
           "y": [
            0,
            0.5,
            null,
            0.481676128503406,
            0.4992073320037643,
            null,
            0.481676128503406,
            0.4319835048195859,
            null
           ]
          },
          {
           "hoverinfo": "none",
           "line": {
            "color": "rgb(0, 0, 0)",
            "width": 2
           },
           "mode": "lines",
           "x": [
            1,
            1,
            null,
            1,
            1.0181600582804622,
            null,
            1,
            0.9818399417195378,
            null
           ],
           "y": [
            0,
            1,
            null,
            0.927536231884058,
            0.8639432926166397,
            null,
            0.927536231884058,
            0.8639432926166397,
            null
           ]
          },
          {
           "hoverinfo": "none",
           "marker": {
            "color": "rgb(255, 255, 255)",
            "line": {
             "color": "rgb(0, 0, 0)",
             "width": 2
            },
            "size": 20
           },
           "mode": "markers+text",
           "text": [
            "0"
           ],
           "textfont": {
            "color": "rgb(0, 0, 0)"
           },
           "textposition": "middle center",
           "x": [
            0
           ],
           "y": [
            0.5
           ]
          },
          {
           "hoverinfo": "none",
           "marker": {
            "color": "rgb(255, 255, 255)",
            "line": {
             "color": "rgb(0, 0, 0)",
             "width": 2
            },
            "size": 20
           },
           "mode": "markers+text",
           "text": [
            "6"
           ],
           "textfont": {
            "color": "rgb(0, 0, 0)"
           },
           "textposition": "middle center",
           "x": [
            0.5
           ],
           "y": [
            1
           ]
          },
          {
           "hoverinfo": "none",
           "marker": {
            "color": "rgb(255, 255, 255)",
            "line": {
             "color": "rgb(0, 0, 0)",
             "width": 2
            },
            "size": 20
           },
           "mode": "markers+text",
           "text": [
            "∞"
           ],
           "textfont": {
            "color": "rgb(0, 0, 0)"
           },
           "textposition": "middle center",
           "x": [
            1
           ],
           "y": [
            1
           ]
          },
          {
           "hoverinfo": "none",
           "marker": {
            "color": "rgb(255, 255, 255)",
            "line": {
             "color": "rgb(0, 0, 0)",
             "width": 2
            },
            "size": 20
           },
           "mode": "markers+text",
           "text": [
            "∞"
           ],
           "textfont": {
            "color": "rgb(0, 0, 0)"
           },
           "textposition": "middle center",
           "x": [
            0.5
           ],
           "y": [
            0
           ]
          },
          {
           "hoverinfo": "none",
           "marker": {
            "color": "rgb(255, 255, 255)",
            "line": {
             "color": "rgb(0, 0, 0)",
             "width": 2
            },
            "size": 20
           },
           "mode": "markers+text",
           "text": [
            "∞"
           ],
           "textfont": {
            "color": "rgb(0, 0, 0)"
           },
           "textposition": "middle center",
           "x": [
            1
           ],
           "y": [
            0
           ]
          }
         ],
         "name": 1
        },
        {
         "data": [
          {
           "hoverinfo": "none",
           "line": {
            "color": "rgb(0, 0, 0)",
            "width": 2
           },
           "mode": "lines",
           "x": [
            0,
            0.5,
            null,
            0.46643085439538495,
            0.44538388103556675,
            null,
            0.46643085439538495,
            0.4285584341548651,
            null
           ],
           "y": [
            0.5,
            1,
            null,
            0.966430854395385,
            0.906182816233176,
            null,
            0.966430854395385,
            0.967759498957256,
            null
           ]
          },
          {
           "hoverinfo": "none",
           "line": {
            "color": "rgb(0, 255, 0)",
            "width": 2
           },
           "mode": "lines",
           "x": [
            0,
            0.5,
            null,
            0.46643085439538495,
            0.4285584341548651,
            null,
            0.46643085439538495,
            0.44538388103556675,
            null
           ],
           "y": [
            0.5,
            0,
            null,
            0.03356914560461503,
            0.032240501042743994,
            null,
            0.03356914560461503,
            0.09381718376682407,
            null
           ]
          },
          {
           "hoverinfo": "none",
           "line": {
            "color": "rgb(0, 0, 0)",
            "width": 2
           },
           "mode": "lines",
           "x": [
            0.5,
            1,
            null,
            0.9621212121212122,
            0.9288794484132434,
            null
           ],
           "y": [
            1.0144927536231885,
            1.0144927536231885,
            null,
            1.0144927536231885,
            1.049233734681464,
            null
           ]
          },
          {
           "hoverinfo": "none",
           "line": {
            "color": "rgb(0, 0, 0)",
            "width": 2
           },
           "mode": "lines",
           "x": [
            0.5,
            0.5,
            null,
            0.5,
            0.48183994171953776,
            null,
            0.5,
            0.5181600582804622,
            null
           ],
           "y": [
            1,
            0,
            null,
            0.07246376811594203,
            0.13605670738336034,
            null,
            0.07246376811594203,
            0.13605670738336034,
            null
           ]
          },
          {
           "hoverinfo": "none",
           "line": {
            "color": "rgb(0, 0, 0)",
            "width": 2
           },
           "mode": "lines",
           "x": [
            0.5,
            1,
            null,
            0.9738173240163878,
            0.9377166459078401,
            null,
            0.9738173240163878,
            0.9639630823912474,
            null
           ],
           "y": [
            1,
            0,
            null,
            0.052365351967224576,
            0.07430651885030926,
            null,
            0.052365351967224576,
            0.12233402455151593,
            null
           ]
          },
          {
           "hoverinfo": "none",
           "line": {
            "color": "rgb(0, 0, 0)",
            "width": 2
           },
           "mode": "lines",
           "x": [
            1,
            0.5,
            null,
            0.5378787878787878,
            0.5711205515867566,
            null
           ],
           "y": [
            0.9855072463768116,
            0.9855072463768116,
            null,
            0.9855072463768116,
            0.950766265318536,
            null
           ]
          },
          {
           "hoverinfo": "none",
           "line": {
            "color": "rgb(0, 0, 0)",
            "width": 2
           },
           "mode": "lines",
           "x": [
            0.5,
            1,
            null,
            0.9738173240163878,
            0.9639630823912474,
            null,
            0.9738173240163878,
            0.9377166459078401,
            null
           ],
           "y": [
            0,
            1,
            null,
            0.9476346480327754,
            0.8776659754484841,
            null,
            0.9476346480327754,
            0.9256934811496907,
            null
           ]
          },
          {
           "hoverinfo": "none",
           "line": {
            "color": "rgb(0, 0, 0)",
            "width": 2
           },
           "mode": "lines",
           "x": [
            0.5,
            1,
            null,
            0.9621212121212122,
            0.9288794484132434,
            null,
            0.9621212121212122,
            0.9288794484132434,
            null
           ],
           "y": [
            0,
            0,
            null,
            0,
            -0.03474098105827558,
            null,
            0,
            0.03474098105827558,
            null
           ]
          },
          {
           "hoverinfo": "none",
           "line": {
            "color": "rgb(0, 0, 0)",
            "width": 2
           },
           "mode": "lines",
           "x": [
            1,
            0,
            null,
            0.03664774299318793,
            0.07340128670201525,
            null,
            0.03664774299318793,
            0.06421703965128427,
            null
           ],
           "y": [
            0,
            0.5,
            null,
            0.481676128503406,
            0.4992073320037643,
            null,
            0.481676128503406,
            0.4319835048195859,
            null
           ]
          },
          {
           "hoverinfo": "none",
           "line": {
            "color": "rgb(0, 0, 0)",
            "width": 2
           },
           "mode": "lines",
           "x": [
            1,
            1,
            null,
            1,
            1.0181600582804622,
            null,
            1,
            0.9818399417195378,
            null
           ],
           "y": [
            0,
            1,
            null,
            0.927536231884058,
            0.8639432926166397,
            null,
            0.927536231884058,
            0.8639432926166397,
            null
           ]
          },
          {
           "hoverinfo": "none",
           "marker": {
            "color": "rgb(255, 255, 255)",
            "line": {
             "color": "rgb(0, 0, 0)",
             "width": 2
            },
            "size": 20
           },
           "mode": "markers+text",
           "text": [
            "0"
           ],
           "textfont": {
            "color": "rgb(0, 0, 0)"
           },
           "textposition": "middle center",
           "x": [
            0
           ],
           "y": [
            0.5
           ]
          },
          {
           "hoverinfo": "none",
           "marker": {
            "color": "rgb(255, 255, 255)",
            "line": {
             "color": "rgb(0, 0, 0)",
             "width": 2
            },
            "size": 20
           },
           "mode": "markers+text",
           "text": [
            "6"
           ],
           "textfont": {
            "color": "rgb(0, 0, 0)"
           },
           "textposition": "middle center",
           "x": [
            0.5
           ],
           "y": [
            1
           ]
          },
          {
           "hoverinfo": "none",
           "marker": {
            "color": "rgb(255, 255, 255)",
            "line": {
             "color": "rgb(0, 0, 0)",
             "width": 2
            },
            "size": 20
           },
           "mode": "markers+text",
           "text": [
            "∞"
           ],
           "textfont": {
            "color": "rgb(0, 0, 0)"
           },
           "textposition": "middle center",
           "x": [
            1
           ],
           "y": [
            1
           ]
          },
          {
           "hoverinfo": "none",
           "marker": {
            "color": "rgb(255, 255, 255)",
            "line": {
             "color": "rgb(0, 0, 0)",
             "width": 2
            },
            "size": 20
           },
           "mode": "markers+text",
           "text": [
            "7"
           ],
           "textfont": {
            "color": "rgb(0, 0, 0)"
           },
           "textposition": "middle center",
           "x": [
            0.5
           ],
           "y": [
            0
           ]
          },
          {
           "hoverinfo": "none",
           "marker": {
            "color": "rgb(255, 255, 255)",
            "line": {
             "color": "rgb(0, 0, 0)",
             "width": 2
            },
            "size": 20
           },
           "mode": "markers+text",
           "text": [
            "∞"
           ],
           "textfont": {
            "color": "rgb(0, 0, 0)"
           },
           "textposition": "middle center",
           "x": [
            1
           ],
           "y": [
            0
           ]
          }
         ],
         "name": 2
        },
        {
         "data": [
          {
           "hoverinfo": "none",
           "line": {
            "color": "rgb(0, 0, 0)",
            "width": 2
           },
           "mode": "lines",
           "x": [
            0,
            0.5,
            null,
            0.46643085439538495,
            0.44538388103556675,
            null,
            0.46643085439538495,
            0.4285584341548651,
            null
           ],
           "y": [
            0.5,
            1,
            null,
            0.966430854395385,
            0.906182816233176,
            null,
            0.966430854395385,
            0.967759498957256,
            null
           ]
          },
          {
           "hoverinfo": "none",
           "line": {
            "color": "rgb(0, 0, 0)",
            "width": 2
           },
           "mode": "lines",
           "x": [
            0,
            0.5,
            null,
            0.46643085439538495,
            0.4285584341548651,
            null,
            0.46643085439538495,
            0.44538388103556675,
            null
           ],
           "y": [
            0.5,
            0,
            null,
            0.03356914560461503,
            0.032240501042743994,
            null,
            0.03356914560461503,
            0.09381718376682407,
            null
           ]
          },
          {
           "hoverinfo": "none",
           "line": {
            "color": "rgb(0, 255, 0)",
            "width": 2
           },
           "mode": "lines",
           "x": [
            0.5,
            1,
            null,
            0.9621212121212122,
            0.9288794484132434,
            null
           ],
           "y": [
            1.0144927536231885,
            1.0144927536231885,
            null,
            1.0144927536231885,
            1.049233734681464,
            null
           ]
          },
          {
           "hoverinfo": "none",
           "line": {
            "color": "rgb(0, 0, 0)",
            "width": 2
           },
           "mode": "lines",
           "x": [
            0.5,
            0.5,
            null,
            0.5,
            0.48183994171953776,
            null,
            0.5,
            0.5181600582804622,
            null
           ],
           "y": [
            1,
            0,
            null,
            0.07246376811594203,
            0.13605670738336034,
            null,
            0.07246376811594203,
            0.13605670738336034,
            null
           ]
          },
          {
           "hoverinfo": "none",
           "line": {
            "color": "rgb(0, 0, 0)",
            "width": 2
           },
           "mode": "lines",
           "x": [
            0.5,
            1,
            null,
            0.9738173240163878,
            0.9377166459078401,
            null,
            0.9738173240163878,
            0.9639630823912474,
            null
           ],
           "y": [
            1,
            0,
            null,
            0.052365351967224576,
            0.07430651885030926,
            null,
            0.052365351967224576,
            0.12233402455151593,
            null
           ]
          },
          {
           "hoverinfo": "none",
           "line": {
            "color": "rgb(0, 0, 0)",
            "width": 2
           },
           "mode": "lines",
           "x": [
            1,
            0.5,
            null,
            0.5378787878787878,
            0.5711205515867566,
            null
           ],
           "y": [
            0.9855072463768116,
            0.9855072463768116,
            null,
            0.9855072463768116,
            0.950766265318536,
            null
           ]
          },
          {
           "hoverinfo": "none",
           "line": {
            "color": "rgb(0, 0, 0)",
            "width": 2
           },
           "mode": "lines",
           "x": [
            0.5,
            1,
            null,
            0.9738173240163878,
            0.9639630823912474,
            null,
            0.9738173240163878,
            0.9377166459078401,
            null
           ],
           "y": [
            0,
            1,
            null,
            0.9476346480327754,
            0.8776659754484841,
            null,
            0.9476346480327754,
            0.9256934811496907,
            null
           ]
          },
          {
           "hoverinfo": "none",
           "line": {
            "color": "rgb(0, 0, 0)",
            "width": 2
           },
           "mode": "lines",
           "x": [
            0.5,
            1,
            null,
            0.9621212121212122,
            0.9288794484132434,
            null,
            0.9621212121212122,
            0.9288794484132434,
            null
           ],
           "y": [
            0,
            0,
            null,
            0,
            -0.03474098105827558,
            null,
            0,
            0.03474098105827558,
            null
           ]
          },
          {
           "hoverinfo": "none",
           "line": {
            "color": "rgb(0, 0, 0)",
            "width": 2
           },
           "mode": "lines",
           "x": [
            1,
            0,
            null,
            0.03664774299318793,
            0.07340128670201525,
            null,
            0.03664774299318793,
            0.06421703965128427,
            null
           ],
           "y": [
            0,
            0.5,
            null,
            0.481676128503406,
            0.4992073320037643,
            null,
            0.481676128503406,
            0.4319835048195859,
            null
           ]
          },
          {
           "hoverinfo": "none",
           "line": {
            "color": "rgb(0, 0, 0)",
            "width": 2
           },
           "mode": "lines",
           "x": [
            1,
            1,
            null,
            1,
            1.0181600582804622,
            null,
            1,
            0.9818399417195378,
            null
           ],
           "y": [
            0,
            1,
            null,
            0.927536231884058,
            0.8639432926166397,
            null,
            0.927536231884058,
            0.8639432926166397,
            null
           ]
          },
          {
           "hoverinfo": "none",
           "marker": {
            "color": "rgb(255, 255, 255)",
            "line": {
             "color": "rgb(0, 0, 0)",
             "width": 2
            },
            "size": 20
           },
           "mode": "markers+text",
           "text": [
            "0"
           ],
           "textfont": {
            "color": "rgb(0, 0, 0)"
           },
           "textposition": "middle center",
           "x": [
            0
           ],
           "y": [
            0.5
           ]
          },
          {
           "hoverinfo": "none",
           "marker": {
            "color": "rgb(255, 255, 255)",
            "line": {
             "color": "rgb(0, 0, 0)",
             "width": 2
            },
            "size": 20
           },
           "mode": "markers+text",
           "text": [
            "6"
           ],
           "textfont": {
            "color": "rgb(0, 0, 0)"
           },
           "textposition": "middle center",
           "x": [
            0.5
           ],
           "y": [
            1
           ]
          },
          {
           "hoverinfo": "none",
           "marker": {
            "color": "rgb(255, 255, 255)",
            "line": {
             "color": "rgb(0, 0, 0)",
             "width": 2
            },
            "size": 20
           },
           "mode": "markers+text",
           "text": [
            "11"
           ],
           "textfont": {
            "color": "rgb(0, 0, 0)"
           },
           "textposition": "middle center",
           "x": [
            1
           ],
           "y": [
            1
           ]
          },
          {
           "hoverinfo": "none",
           "marker": {
            "color": "rgb(255, 255, 255)",
            "line": {
             "color": "rgb(0, 0, 0)",
             "width": 2
            },
            "size": 20
           },
           "mode": "markers+text",
           "text": [
            "7"
           ],
           "textfont": {
            "color": "rgb(0, 0, 0)"
           },
           "textposition": "middle center",
           "x": [
            0.5
           ],
           "y": [
            0
           ]
          },
          {
           "hoverinfo": "none",
           "marker": {
            "color": "rgb(255, 255, 255)",
            "line": {
             "color": "rgb(0, 0, 0)",
             "width": 2
            },
            "size": 20
           },
           "mode": "markers+text",
           "text": [
            "∞"
           ],
           "textfont": {
            "color": "rgb(0, 0, 0)"
           },
           "textposition": "middle center",
           "x": [
            1
           ],
           "y": [
            0
           ]
          }
         ],
         "name": 3
        },
        {
         "data": [
          {
           "hoverinfo": "none",
           "line": {
            "color": "rgb(0, 0, 0)",
            "width": 2
           },
           "mode": "lines",
           "x": [
            0,
            0.5,
            null,
            0.46643085439538495,
            0.44538388103556675,
            null,
            0.46643085439538495,
            0.4285584341548651,
            null
           ],
           "y": [
            0.5,
            1,
            null,
            0.966430854395385,
            0.906182816233176,
            null,
            0.966430854395385,
            0.967759498957256,
            null
           ]
          },
          {
           "hoverinfo": "none",
           "line": {
            "color": "rgb(0, 0, 0)",
            "width": 2
           },
           "mode": "lines",
           "x": [
            0,
            0.5,
            null,
            0.46643085439538495,
            0.4285584341548651,
            null,
            0.46643085439538495,
            0.44538388103556675,
            null
           ],
           "y": [
            0.5,
            0,
            null,
            0.03356914560461503,
            0.032240501042743994,
            null,
            0.03356914560461503,
            0.09381718376682407,
            null
           ]
          },
          {
           "hoverinfo": "none",
           "line": {
            "color": "rgb(0, 0, 0)",
            "width": 2
           },
           "mode": "lines",
           "x": [
            0.5,
            1,
            null,
            0.9621212121212122,
            0.9288794484132434,
            null
           ],
           "y": [
            1.0144927536231885,
            1.0144927536231885,
            null,
            1.0144927536231885,
            1.049233734681464,
            null
           ]
          },
          {
           "hoverinfo": "none",
           "line": {
            "color": "rgb(255, 0, 0)",
            "width": 2
           },
           "mode": "lines",
           "x": [
            0.5,
            0.5,
            null,
            0.5,
            0.48183994171953776,
            null,
            0.5,
            0.5181600582804622,
            null
           ],
           "y": [
            1,
            0,
            null,
            0.07246376811594203,
            0.13605670738336034,
            null,
            0.07246376811594203,
            0.13605670738336034,
            null
           ]
          },
          {
           "hoverinfo": "none",
           "line": {
            "color": "rgb(0, 0, 0)",
            "width": 2
           },
           "mode": "lines",
           "x": [
            0.5,
            1,
            null,
            0.9738173240163878,
            0.9377166459078401,
            null,
            0.9738173240163878,
            0.9639630823912474,
            null
           ],
           "y": [
            1,
            0,
            null,
            0.052365351967224576,
            0.07430651885030926,
            null,
            0.052365351967224576,
            0.12233402455151593,
            null
           ]
          },
          {
           "hoverinfo": "none",
           "line": {
            "color": "rgb(0, 0, 0)",
            "width": 2
           },
           "mode": "lines",
           "x": [
            1,
            0.5,
            null,
            0.5378787878787878,
            0.5711205515867566,
            null
           ],
           "y": [
            0.9855072463768116,
            0.9855072463768116,
            null,
            0.9855072463768116,
            0.950766265318536,
            null
           ]
          },
          {
           "hoverinfo": "none",
           "line": {
            "color": "rgb(0, 0, 0)",
            "width": 2
           },
           "mode": "lines",
           "x": [
            0.5,
            1,
            null,
            0.9738173240163878,
            0.9639630823912474,
            null,
            0.9738173240163878,
            0.9377166459078401,
            null
           ],
           "y": [
            0,
            1,
            null,
            0.9476346480327754,
            0.8776659754484841,
            null,
            0.9476346480327754,
            0.9256934811496907,
            null
           ]
          },
          {
           "hoverinfo": "none",
           "line": {
            "color": "rgb(0, 0, 0)",
            "width": 2
           },
           "mode": "lines",
           "x": [
            0.5,
            1,
            null,
            0.9621212121212122,
            0.9288794484132434,
            null,
            0.9621212121212122,
            0.9288794484132434,
            null
           ],
           "y": [
            0,
            0,
            null,
            0,
            -0.03474098105827558,
            null,
            0,
            0.03474098105827558,
            null
           ]
          },
          {
           "hoverinfo": "none",
           "line": {
            "color": "rgb(0, 0, 0)",
            "width": 2
           },
           "mode": "lines",
           "x": [
            1,
            0,
            null,
            0.03664774299318793,
            0.07340128670201525,
            null,
            0.03664774299318793,
            0.06421703965128427,
            null
           ],
           "y": [
            0,
            0.5,
            null,
            0.481676128503406,
            0.4992073320037643,
            null,
            0.481676128503406,
            0.4319835048195859,
            null
           ]
          },
          {
           "hoverinfo": "none",
           "line": {
            "color": "rgb(0, 0, 0)",
            "width": 2
           },
           "mode": "lines",
           "x": [
            1,
            1,
            null,
            1,
            1.0181600582804622,
            null,
            1,
            0.9818399417195378,
            null
           ],
           "y": [
            0,
            1,
            null,
            0.927536231884058,
            0.8639432926166397,
            null,
            0.927536231884058,
            0.8639432926166397,
            null
           ]
          },
          {
           "hoverinfo": "none",
           "marker": {
            "color": "rgb(255, 255, 255)",
            "line": {
             "color": "rgb(0, 0, 0)",
             "width": 2
            },
            "size": 20
           },
           "mode": "markers+text",
           "text": [
            "0"
           ],
           "textfont": {
            "color": "rgb(0, 0, 0)"
           },
           "textposition": "middle center",
           "x": [
            0
           ],
           "y": [
            0.5
           ]
          },
          {
           "hoverinfo": "none",
           "marker": {
            "color": "rgb(255, 255, 255)",
            "line": {
             "color": "rgb(0, 0, 0)",
             "width": 2
            },
            "size": 20
           },
           "mode": "markers+text",
           "text": [
            "6"
           ],
           "textfont": {
            "color": "rgb(0, 0, 0)"
           },
           "textposition": "middle center",
           "x": [
            0.5
           ],
           "y": [
            1
           ]
          },
          {
           "hoverinfo": "none",
           "marker": {
            "color": "rgb(255, 255, 255)",
            "line": {
             "color": "rgb(0, 0, 0)",
             "width": 2
            },
            "size": 20
           },
           "mode": "markers+text",
           "text": [
            "11"
           ],
           "textfont": {
            "color": "rgb(0, 0, 0)"
           },
           "textposition": "middle center",
           "x": [
            1
           ],
           "y": [
            1
           ]
          },
          {
           "hoverinfo": "none",
           "marker": {
            "color": "rgb(255, 255, 255)",
            "line": {
             "color": "rgb(0, 0, 0)",
             "width": 2
            },
            "size": 20
           },
           "mode": "markers+text",
           "text": [
            "7"
           ],
           "textfont": {
            "color": "rgb(0, 0, 0)"
           },
           "textposition": "middle center",
           "x": [
            0.5
           ],
           "y": [
            0
           ]
          },
          {
           "hoverinfo": "none",
           "marker": {
            "color": "rgb(255, 255, 255)",
            "line": {
             "color": "rgb(0, 0, 0)",
             "width": 2
            },
            "size": 20
           },
           "mode": "markers+text",
           "text": [
            "∞"
           ],
           "textfont": {
            "color": "rgb(0, 0, 0)"
           },
           "textposition": "middle center",
           "x": [
            1
           ],
           "y": [
            0
           ]
          }
         ],
         "name": 4
        },
        {
         "data": [
          {
           "hoverinfo": "none",
           "line": {
            "color": "rgb(0, 0, 0)",
            "width": 2
           },
           "mode": "lines",
           "x": [
            0,
            0.5,
            null,
            0.46643085439538495,
            0.44538388103556675,
            null,
            0.46643085439538495,
            0.4285584341548651,
            null
           ],
           "y": [
            0.5,
            1,
            null,
            0.966430854395385,
            0.906182816233176,
            null,
            0.966430854395385,
            0.967759498957256,
            null
           ]
          },
          {
           "hoverinfo": "none",
           "line": {
            "color": "rgb(0, 0, 0)",
            "width": 2
           },
           "mode": "lines",
           "x": [
            0,
            0.5,
            null,
            0.46643085439538495,
            0.4285584341548651,
            null,
            0.46643085439538495,
            0.44538388103556675,
            null
           ],
           "y": [
            0.5,
            0,
            null,
            0.03356914560461503,
            0.032240501042743994,
            null,
            0.03356914560461503,
            0.09381718376682407,
            null
           ]
          },
          {
           "hoverinfo": "none",
           "line": {
            "color": "rgb(0, 0, 0)",
            "width": 2
           },
           "mode": "lines",
           "x": [
            0.5,
            1,
            null,
            0.9621212121212122,
            0.9288794484132434,
            null
           ],
           "y": [
            1.0144927536231885,
            1.0144927536231885,
            null,
            1.0144927536231885,
            1.049233734681464,
            null
           ]
          },
          {
           "hoverinfo": "none",
           "line": {
            "color": "rgb(0, 0, 0)",
            "width": 2
           },
           "mode": "lines",
           "x": [
            0.5,
            0.5,
            null,
            0.5,
            0.48183994171953776,
            null,
            0.5,
            0.5181600582804622,
            null
           ],
           "y": [
            1,
            0,
            null,
            0.07246376811594203,
            0.13605670738336034,
            null,
            0.07246376811594203,
            0.13605670738336034,
            null
           ]
          },
          {
           "hoverinfo": "none",
           "line": {
            "color": "rgb(0, 255, 0)",
            "width": 2
           },
           "mode": "lines",
           "x": [
            0.5,
            1,
            null,
            0.9738173240163878,
            0.9377166459078401,
            null,
            0.9738173240163878,
            0.9639630823912474,
            null
           ],
           "y": [
            1,
            0,
            null,
            0.052365351967224576,
            0.07430651885030926,
            null,
            0.052365351967224576,
            0.12233402455151593,
            null
           ]
          },
          {
           "hoverinfo": "none",
           "line": {
            "color": "rgb(0, 0, 0)",
            "width": 2
           },
           "mode": "lines",
           "x": [
            1,
            0.5,
            null,
            0.5378787878787878,
            0.5711205515867566,
            null
           ],
           "y": [
            0.9855072463768116,
            0.9855072463768116,
            null,
            0.9855072463768116,
            0.950766265318536,
            null
           ]
          },
          {
           "hoverinfo": "none",
           "line": {
            "color": "rgb(0, 0, 0)",
            "width": 2
           },
           "mode": "lines",
           "x": [
            0.5,
            1,
            null,
            0.9738173240163878,
            0.9639630823912474,
            null,
            0.9738173240163878,
            0.9377166459078401,
            null
           ],
           "y": [
            0,
            1,
            null,
            0.9476346480327754,
            0.8776659754484841,
            null,
            0.9476346480327754,
            0.9256934811496907,
            null
           ]
          },
          {
           "hoverinfo": "none",
           "line": {
            "color": "rgb(0, 0, 0)",
            "width": 2
           },
           "mode": "lines",
           "x": [
            0.5,
            1,
            null,
            0.9621212121212122,
            0.9288794484132434,
            null,
            0.9621212121212122,
            0.9288794484132434,
            null
           ],
           "y": [
            0,
            0,
            null,
            0,
            -0.03474098105827558,
            null,
            0,
            0.03474098105827558,
            null
           ]
          },
          {
           "hoverinfo": "none",
           "line": {
            "color": "rgb(0, 0, 0)",
            "width": 2
           },
           "mode": "lines",
           "x": [
            1,
            0,
            null,
            0.03664774299318793,
            0.07340128670201525,
            null,
            0.03664774299318793,
            0.06421703965128427,
            null
           ],
           "y": [
            0,
            0.5,
            null,
            0.481676128503406,
            0.4992073320037643,
            null,
            0.481676128503406,
            0.4319835048195859,
            null
           ]
          },
          {
           "hoverinfo": "none",
           "line": {
            "color": "rgb(0, 0, 0)",
            "width": 2
           },
           "mode": "lines",
           "x": [
            1,
            1,
            null,
            1,
            1.0181600582804622,
            null,
            1,
            0.9818399417195378,
            null
           ],
           "y": [
            0,
            1,
            null,
            0.927536231884058,
            0.8639432926166397,
            null,
            0.927536231884058,
            0.8639432926166397,
            null
           ]
          },
          {
           "hoverinfo": "none",
           "marker": {
            "color": "rgb(255, 255, 255)",
            "line": {
             "color": "rgb(0, 0, 0)",
             "width": 2
            },
            "size": 20
           },
           "mode": "markers+text",
           "text": [
            "0"
           ],
           "textfont": {
            "color": "rgb(0, 0, 0)"
           },
           "textposition": "middle center",
           "x": [
            0
           ],
           "y": [
            0.5
           ]
          },
          {
           "hoverinfo": "none",
           "marker": {
            "color": "rgb(255, 255, 255)",
            "line": {
             "color": "rgb(0, 0, 0)",
             "width": 2
            },
            "size": 20
           },
           "mode": "markers+text",
           "text": [
            "6"
           ],
           "textfont": {
            "color": "rgb(0, 0, 0)"
           },
           "textposition": "middle center",
           "x": [
            0.5
           ],
           "y": [
            1
           ]
          },
          {
           "hoverinfo": "none",
           "marker": {
            "color": "rgb(255, 255, 255)",
            "line": {
             "color": "rgb(0, 0, 0)",
             "width": 2
            },
            "size": 20
           },
           "mode": "markers+text",
           "text": [
            "11"
           ],
           "textfont": {
            "color": "rgb(0, 0, 0)"
           },
           "textposition": "middle center",
           "x": [
            1
           ],
           "y": [
            1
           ]
          },
          {
           "hoverinfo": "none",
           "marker": {
            "color": "rgb(255, 255, 255)",
            "line": {
             "color": "rgb(0, 0, 0)",
             "width": 2
            },
            "size": 20
           },
           "mode": "markers+text",
           "text": [
            "7"
           ],
           "textfont": {
            "color": "rgb(0, 0, 0)"
           },
           "textposition": "middle center",
           "x": [
            0.5
           ],
           "y": [
            0
           ]
          },
          {
           "hoverinfo": "none",
           "marker": {
            "color": "rgb(255, 255, 255)",
            "line": {
             "color": "rgb(0, 0, 0)",
             "width": 2
            },
            "size": 20
           },
           "mode": "markers+text",
           "text": [
            "2"
           ],
           "textfont": {
            "color": "rgb(0, 0, 0)"
           },
           "textposition": "middle center",
           "x": [
            1
           ],
           "y": [
            0
           ]
          }
         ],
         "name": 5
        },
        {
         "data": [
          {
           "hoverinfo": "none",
           "line": {
            "color": "rgb(0, 0, 0)",
            "width": 2
           },
           "mode": "lines",
           "x": [
            0,
            0.5,
            null,
            0.46643085439538495,
            0.44538388103556675,
            null,
            0.46643085439538495,
            0.4285584341548651,
            null
           ],
           "y": [
            0.5,
            1,
            null,
            0.966430854395385,
            0.906182816233176,
            null,
            0.966430854395385,
            0.967759498957256,
            null
           ]
          },
          {
           "hoverinfo": "none",
           "line": {
            "color": "rgb(0, 0, 0)",
            "width": 2
           },
           "mode": "lines",
           "x": [
            0,
            0.5,
            null,
            0.46643085439538495,
            0.4285584341548651,
            null,
            0.46643085439538495,
            0.44538388103556675,
            null
           ],
           "y": [
            0.5,
            0,
            null,
            0.03356914560461503,
            0.032240501042743994,
            null,
            0.03356914560461503,
            0.09381718376682407,
            null
           ]
          },
          {
           "hoverinfo": "none",
           "line": {
            "color": "rgb(0, 0, 0)",
            "width": 2
           },
           "mode": "lines",
           "x": [
            0.5,
            1,
            null,
            0.9621212121212122,
            0.9288794484132434,
            null
           ],
           "y": [
            1.0144927536231885,
            1.0144927536231885,
            null,
            1.0144927536231885,
            1.049233734681464,
            null
           ]
          },
          {
           "hoverinfo": "none",
           "line": {
            "color": "rgb(0, 0, 0)",
            "width": 2
           },
           "mode": "lines",
           "x": [
            0.5,
            0.5,
            null,
            0.5,
            0.48183994171953776,
            null,
            0.5,
            0.5181600582804622,
            null
           ],
           "y": [
            1,
            0,
            null,
            0.07246376811594203,
            0.13605670738336034,
            null,
            0.07246376811594203,
            0.13605670738336034,
            null
           ]
          },
          {
           "hoverinfo": "none",
           "line": {
            "color": "rgb(0, 0, 0)",
            "width": 2
           },
           "mode": "lines",
           "x": [
            0.5,
            1,
            null,
            0.9738173240163878,
            0.9377166459078401,
            null,
            0.9738173240163878,
            0.9639630823912474,
            null
           ],
           "y": [
            1,
            0,
            null,
            0.052365351967224576,
            0.07430651885030926,
            null,
            0.052365351967224576,
            0.12233402455151593,
            null
           ]
          },
          {
           "hoverinfo": "none",
           "line": {
            "color": "rgb(255, 0, 0)",
            "width": 2
           },
           "mode": "lines",
           "x": [
            1,
            0.5,
            null,
            0.5378787878787878,
            0.5711205515867566,
            null
           ],
           "y": [
            0.9855072463768116,
            0.9855072463768116,
            null,
            0.9855072463768116,
            0.950766265318536,
            null
           ]
          },
          {
           "hoverinfo": "none",
           "line": {
            "color": "rgb(0, 0, 0)",
            "width": 2
           },
           "mode": "lines",
           "x": [
            0.5,
            1,
            null,
            0.9738173240163878,
            0.9639630823912474,
            null,
            0.9738173240163878,
            0.9377166459078401,
            null
           ],
           "y": [
            0,
            1,
            null,
            0.9476346480327754,
            0.8776659754484841,
            null,
            0.9476346480327754,
            0.9256934811496907,
            null
           ]
          },
          {
           "hoverinfo": "none",
           "line": {
            "color": "rgb(0, 0, 0)",
            "width": 2
           },
           "mode": "lines",
           "x": [
            0.5,
            1,
            null,
            0.9621212121212122,
            0.9288794484132434,
            null,
            0.9621212121212122,
            0.9288794484132434,
            null
           ],
           "y": [
            0,
            0,
            null,
            0,
            -0.03474098105827558,
            null,
            0,
            0.03474098105827558,
            null
           ]
          },
          {
           "hoverinfo": "none",
           "line": {
            "color": "rgb(0, 0, 0)",
            "width": 2
           },
           "mode": "lines",
           "x": [
            1,
            0,
            null,
            0.03664774299318793,
            0.07340128670201525,
            null,
            0.03664774299318793,
            0.06421703965128427,
            null
           ],
           "y": [
            0,
            0.5,
            null,
            0.481676128503406,
            0.4992073320037643,
            null,
            0.481676128503406,
            0.4319835048195859,
            null
           ]
          },
          {
           "hoverinfo": "none",
           "line": {
            "color": "rgb(0, 0, 0)",
            "width": 2
           },
           "mode": "lines",
           "x": [
            1,
            1,
            null,
            1,
            1.0181600582804622,
            null,
            1,
            0.9818399417195378,
            null
           ],
           "y": [
            0,
            1,
            null,
            0.927536231884058,
            0.8639432926166397,
            null,
            0.927536231884058,
            0.8639432926166397,
            null
           ]
          },
          {
           "hoverinfo": "none",
           "marker": {
            "color": "rgb(255, 255, 255)",
            "line": {
             "color": "rgb(0, 0, 0)",
             "width": 2
            },
            "size": 20
           },
           "mode": "markers+text",
           "text": [
            "0"
           ],
           "textfont": {
            "color": "rgb(0, 0, 0)"
           },
           "textposition": "middle center",
           "x": [
            0
           ],
           "y": [
            0.5
           ]
          },
          {
           "hoverinfo": "none",
           "marker": {
            "color": "rgb(255, 255, 255)",
            "line": {
             "color": "rgb(0, 0, 0)",
             "width": 2
            },
            "size": 20
           },
           "mode": "markers+text",
           "text": [
            "6"
           ],
           "textfont": {
            "color": "rgb(0, 0, 0)"
           },
           "textposition": "middle center",
           "x": [
            0.5
           ],
           "y": [
            1
           ]
          },
          {
           "hoverinfo": "none",
           "marker": {
            "color": "rgb(255, 255, 255)",
            "line": {
             "color": "rgb(0, 0, 0)",
             "width": 2
            },
            "size": 20
           },
           "mode": "markers+text",
           "text": [
            "11"
           ],
           "textfont": {
            "color": "rgb(0, 0, 0)"
           },
           "textposition": "middle center",
           "x": [
            1
           ],
           "y": [
            1
           ]
          },
          {
           "hoverinfo": "none",
           "marker": {
            "color": "rgb(255, 255, 255)",
            "line": {
             "color": "rgb(0, 0, 0)",
             "width": 2
            },
            "size": 20
           },
           "mode": "markers+text",
           "text": [
            "7"
           ],
           "textfont": {
            "color": "rgb(0, 0, 0)"
           },
           "textposition": "middle center",
           "x": [
            0.5
           ],
           "y": [
            0
           ]
          },
          {
           "hoverinfo": "none",
           "marker": {
            "color": "rgb(255, 255, 255)",
            "line": {
             "color": "rgb(0, 0, 0)",
             "width": 2
            },
            "size": 20
           },
           "mode": "markers+text",
           "text": [
            "2"
           ],
           "textfont": {
            "color": "rgb(0, 0, 0)"
           },
           "textposition": "middle center",
           "x": [
            1
           ],
           "y": [
            0
           ]
          }
         ],
         "name": 6
        },
        {
         "data": [
          {
           "hoverinfo": "none",
           "line": {
            "color": "rgb(0, 0, 0)",
            "width": 2
           },
           "mode": "lines",
           "x": [
            0,
            0.5,
            null,
            0.46643085439538495,
            0.44538388103556675,
            null,
            0.46643085439538495,
            0.4285584341548651,
            null
           ],
           "y": [
            0.5,
            1,
            null,
            0.966430854395385,
            0.906182816233176,
            null,
            0.966430854395385,
            0.967759498957256,
            null
           ]
          },
          {
           "hoverinfo": "none",
           "line": {
            "color": "rgb(0, 0, 0)",
            "width": 2
           },
           "mode": "lines",
           "x": [
            0,
            0.5,
            null,
            0.46643085439538495,
            0.4285584341548651,
            null,
            0.46643085439538495,
            0.44538388103556675,
            null
           ],
           "y": [
            0.5,
            0,
            null,
            0.03356914560461503,
            0.032240501042743994,
            null,
            0.03356914560461503,
            0.09381718376682407,
            null
           ]
          },
          {
           "hoverinfo": "none",
           "line": {
            "color": "rgb(0, 0, 0)",
            "width": 2
           },
           "mode": "lines",
           "x": [
            0.5,
            1,
            null,
            0.9621212121212122,
            0.9288794484132434,
            null
           ],
           "y": [
            1.0144927536231885,
            1.0144927536231885,
            null,
            1.0144927536231885,
            1.049233734681464,
            null
           ]
          },
          {
           "hoverinfo": "none",
           "line": {
            "color": "rgb(0, 0, 0)",
            "width": 2
           },
           "mode": "lines",
           "x": [
            0.5,
            0.5,
            null,
            0.5,
            0.48183994171953776,
            null,
            0.5,
            0.5181600582804622,
            null
           ],
           "y": [
            1,
            0,
            null,
            0.07246376811594203,
            0.13605670738336034,
            null,
            0.07246376811594203,
            0.13605670738336034,
            null
           ]
          },
          {
           "hoverinfo": "none",
           "line": {
            "color": "rgb(0, 0, 0)",
            "width": 2
           },
           "mode": "lines",
           "x": [
            0.5,
            1,
            null,
            0.9738173240163878,
            0.9377166459078401,
            null,
            0.9738173240163878,
            0.9639630823912474,
            null
           ],
           "y": [
            1,
            0,
            null,
            0.052365351967224576,
            0.07430651885030926,
            null,
            0.052365351967224576,
            0.12233402455151593,
            null
           ]
          },
          {
           "hoverinfo": "none",
           "line": {
            "color": "rgb(0, 0, 0)",
            "width": 2
           },
           "mode": "lines",
           "x": [
            1,
            0.5,
            null,
            0.5378787878787878,
            0.5711205515867566,
            null
           ],
           "y": [
            0.9855072463768116,
            0.9855072463768116,
            null,
            0.9855072463768116,
            0.950766265318536,
            null
           ]
          },
          {
           "hoverinfo": "none",
           "line": {
            "color": "rgb(0, 255, 0)",
            "width": 2
           },
           "mode": "lines",
           "x": [
            0.5,
            1,
            null,
            0.9738173240163878,
            0.9639630823912474,
            null,
            0.9738173240163878,
            0.9377166459078401,
            null
           ],
           "y": [
            0,
            1,
            null,
            0.9476346480327754,
            0.8776659754484841,
            null,
            0.9476346480327754,
            0.9256934811496907,
            null
           ]
          },
          {
           "hoverinfo": "none",
           "line": {
            "color": "rgb(0, 0, 0)",
            "width": 2
           },
           "mode": "lines",
           "x": [
            0.5,
            1,
            null,
            0.9621212121212122,
            0.9288794484132434,
            null,
            0.9621212121212122,
            0.9288794484132434,
            null
           ],
           "y": [
            0,
            0,
            null,
            0,
            -0.03474098105827558,
            null,
            0,
            0.03474098105827558,
            null
           ]
          },
          {
           "hoverinfo": "none",
           "line": {
            "color": "rgb(0, 0, 0)",
            "width": 2
           },
           "mode": "lines",
           "x": [
            1,
            0,
            null,
            0.03664774299318793,
            0.07340128670201525,
            null,
            0.03664774299318793,
            0.06421703965128427,
            null
           ],
           "y": [
            0,
            0.5,
            null,
            0.481676128503406,
            0.4992073320037643,
            null,
            0.481676128503406,
            0.4319835048195859,
            null
           ]
          },
          {
           "hoverinfo": "none",
           "line": {
            "color": "rgb(0, 0, 0)",
            "width": 2
           },
           "mode": "lines",
           "x": [
            1,
            1,
            null,
            1,
            1.0181600582804622,
            null,
            1,
            0.9818399417195378,
            null
           ],
           "y": [
            0,
            1,
            null,
            0.927536231884058,
            0.8639432926166397,
            null,
            0.927536231884058,
            0.8639432926166397,
            null
           ]
          },
          {
           "hoverinfo": "none",
           "marker": {
            "color": "rgb(255, 255, 255)",
            "line": {
             "color": "rgb(0, 0, 0)",
             "width": 2
            },
            "size": 20
           },
           "mode": "markers+text",
           "text": [
            "0"
           ],
           "textfont": {
            "color": "rgb(0, 0, 0)"
           },
           "textposition": "middle center",
           "x": [
            0
           ],
           "y": [
            0.5
           ]
          },
          {
           "hoverinfo": "none",
           "marker": {
            "color": "rgb(255, 255, 255)",
            "line": {
             "color": "rgb(0, 0, 0)",
             "width": 2
            },
            "size": 20
           },
           "mode": "markers+text",
           "text": [
            "6"
           ],
           "textfont": {
            "color": "rgb(0, 0, 0)"
           },
           "textposition": "middle center",
           "x": [
            0.5
           ],
           "y": [
            1
           ]
          },
          {
           "hoverinfo": "none",
           "marker": {
            "color": "rgb(255, 255, 255)",
            "line": {
             "color": "rgb(0, 0, 0)",
             "width": 2
            },
            "size": 20
           },
           "mode": "markers+text",
           "text": [
            "4"
           ],
           "textfont": {
            "color": "rgb(0, 0, 0)"
           },
           "textposition": "middle center",
           "x": [
            1
           ],
           "y": [
            1
           ]
          },
          {
           "hoverinfo": "none",
           "marker": {
            "color": "rgb(255, 255, 255)",
            "line": {
             "color": "rgb(0, 0, 0)",
             "width": 2
            },
            "size": 20
           },
           "mode": "markers+text",
           "text": [
            "7"
           ],
           "textfont": {
            "color": "rgb(0, 0, 0)"
           },
           "textposition": "middle center",
           "x": [
            0.5
           ],
           "y": [
            0
           ]
          },
          {
           "hoverinfo": "none",
           "marker": {
            "color": "rgb(255, 255, 255)",
            "line": {
             "color": "rgb(0, 0, 0)",
             "width": 2
            },
            "size": 20
           },
           "mode": "markers+text",
           "text": [
            "2"
           ],
           "textfont": {
            "color": "rgb(0, 0, 0)"
           },
           "textposition": "middle center",
           "x": [
            1
           ],
           "y": [
            0
           ]
          }
         ],
         "name": 7
        },
        {
         "data": [
          {
           "hoverinfo": "none",
           "line": {
            "color": "rgb(0, 0, 0)",
            "width": 2
           },
           "mode": "lines",
           "x": [
            0,
            0.5,
            null,
            0.46643085439538495,
            0.44538388103556675,
            null,
            0.46643085439538495,
            0.4285584341548651,
            null
           ],
           "y": [
            0.5,
            1,
            null,
            0.966430854395385,
            0.906182816233176,
            null,
            0.966430854395385,
            0.967759498957256,
            null
           ]
          },
          {
           "hoverinfo": "none",
           "line": {
            "color": "rgb(0, 0, 0)",
            "width": 2
           },
           "mode": "lines",
           "x": [
            0,
            0.5,
            null,
            0.46643085439538495,
            0.4285584341548651,
            null,
            0.46643085439538495,
            0.44538388103556675,
            null
           ],
           "y": [
            0.5,
            0,
            null,
            0.03356914560461503,
            0.032240501042743994,
            null,
            0.03356914560461503,
            0.09381718376682407,
            null
           ]
          },
          {
           "hoverinfo": "none",
           "line": {
            "color": "rgb(0, 0, 0)",
            "width": 2
           },
           "mode": "lines",
           "x": [
            0.5,
            1,
            null,
            0.9621212121212122,
            0.9288794484132434,
            null
           ],
           "y": [
            1.0144927536231885,
            1.0144927536231885,
            null,
            1.0144927536231885,
            1.049233734681464,
            null
           ]
          },
          {
           "hoverinfo": "none",
           "line": {
            "color": "rgb(0, 0, 0)",
            "width": 2
           },
           "mode": "lines",
           "x": [
            0.5,
            0.5,
            null,
            0.5,
            0.48183994171953776,
            null,
            0.5,
            0.5181600582804622,
            null
           ],
           "y": [
            1,
            0,
            null,
            0.07246376811594203,
            0.13605670738336034,
            null,
            0.07246376811594203,
            0.13605670738336034,
            null
           ]
          },
          {
           "hoverinfo": "none",
           "line": {
            "color": "rgb(0, 0, 0)",
            "width": 2
           },
           "mode": "lines",
           "x": [
            0.5,
            1,
            null,
            0.9738173240163878,
            0.9377166459078401,
            null,
            0.9738173240163878,
            0.9639630823912474,
            null
           ],
           "y": [
            1,
            0,
            null,
            0.052365351967224576,
            0.07430651885030926,
            null,
            0.052365351967224576,
            0.12233402455151593,
            null
           ]
          },
          {
           "hoverinfo": "none",
           "line": {
            "color": "rgb(0, 0, 0)",
            "width": 2
           },
           "mode": "lines",
           "x": [
            1,
            0.5,
            null,
            0.5378787878787878,
            0.5711205515867566,
            null
           ],
           "y": [
            0.9855072463768116,
            0.9855072463768116,
            null,
            0.9855072463768116,
            0.950766265318536,
            null
           ]
          },
          {
           "hoverinfo": "none",
           "line": {
            "color": "rgb(0, 0, 0)",
            "width": 2
           },
           "mode": "lines",
           "x": [
            0.5,
            1,
            null,
            0.9738173240163878,
            0.9639630823912474,
            null,
            0.9738173240163878,
            0.9377166459078401,
            null
           ],
           "y": [
            0,
            1,
            null,
            0.9476346480327754,
            0.8776659754484841,
            null,
            0.9476346480327754,
            0.9256934811496907,
            null
           ]
          },
          {
           "hoverinfo": "none",
           "line": {
            "color": "rgb(255, 0, 0)",
            "width": 2
           },
           "mode": "lines",
           "x": [
            0.5,
            1,
            null,
            0.9621212121212122,
            0.9288794484132434,
            null,
            0.9621212121212122,
            0.9288794484132434,
            null
           ],
           "y": [
            0,
            0,
            null,
            0,
            -0.03474098105827558,
            null,
            0,
            0.03474098105827558,
            null
           ]
          },
          {
           "hoverinfo": "none",
           "line": {
            "color": "rgb(0, 0, 0)",
            "width": 2
           },
           "mode": "lines",
           "x": [
            1,
            0,
            null,
            0.03664774299318793,
            0.07340128670201525,
            null,
            0.03664774299318793,
            0.06421703965128427,
            null
           ],
           "y": [
            0,
            0.5,
            null,
            0.481676128503406,
            0.4992073320037643,
            null,
            0.481676128503406,
            0.4319835048195859,
            null
           ]
          },
          {
           "hoverinfo": "none",
           "line": {
            "color": "rgb(0, 0, 0)",
            "width": 2
           },
           "mode": "lines",
           "x": [
            1,
            1,
            null,
            1,
            1.0181600582804622,
            null,
            1,
            0.9818399417195378,
            null
           ],
           "y": [
            0,
            1,
            null,
            0.927536231884058,
            0.8639432926166397,
            null,
            0.927536231884058,
            0.8639432926166397,
            null
           ]
          },
          {
           "hoverinfo": "none",
           "marker": {
            "color": "rgb(255, 255, 255)",
            "line": {
             "color": "rgb(0, 0, 0)",
             "width": 2
            },
            "size": 20
           },
           "mode": "markers+text",
           "text": [
            "0"
           ],
           "textfont": {
            "color": "rgb(0, 0, 0)"
           },
           "textposition": "middle center",
           "x": [
            0
           ],
           "y": [
            0.5
           ]
          },
          {
           "hoverinfo": "none",
           "marker": {
            "color": "rgb(255, 255, 255)",
            "line": {
             "color": "rgb(0, 0, 0)",
             "width": 2
            },
            "size": 20
           },
           "mode": "markers+text",
           "text": [
            "6"
           ],
           "textfont": {
            "color": "rgb(0, 0, 0)"
           },
           "textposition": "middle center",
           "x": [
            0.5
           ],
           "y": [
            1
           ]
          },
          {
           "hoverinfo": "none",
           "marker": {
            "color": "rgb(255, 255, 255)",
            "line": {
             "color": "rgb(0, 0, 0)",
             "width": 2
            },
            "size": 20
           },
           "mode": "markers+text",
           "text": [
            "4"
           ],
           "textfont": {
            "color": "rgb(0, 0, 0)"
           },
           "textposition": "middle center",
           "x": [
            1
           ],
           "y": [
            1
           ]
          },
          {
           "hoverinfo": "none",
           "marker": {
            "color": "rgb(255, 255, 255)",
            "line": {
             "color": "rgb(0, 0, 0)",
             "width": 2
            },
            "size": 20
           },
           "mode": "markers+text",
           "text": [
            "7"
           ],
           "textfont": {
            "color": "rgb(0, 0, 0)"
           },
           "textposition": "middle center",
           "x": [
            0.5
           ],
           "y": [
            0
           ]
          },
          {
           "hoverinfo": "none",
           "marker": {
            "color": "rgb(255, 255, 255)",
            "line": {
             "color": "rgb(0, 0, 0)",
             "width": 2
            },
            "size": 20
           },
           "mode": "markers+text",
           "text": [
            "2"
           ],
           "textfont": {
            "color": "rgb(0, 0, 0)"
           },
           "textposition": "middle center",
           "x": [
            1
           ],
           "y": [
            0
           ]
          }
         ],
         "name": 8
        },
        {
         "data": [
          {
           "hoverinfo": "none",
           "line": {
            "color": "rgb(0, 0, 0)",
            "width": 2
           },
           "mode": "lines",
           "x": [
            0,
            0.5,
            null,
            0.46643085439538495,
            0.44538388103556675,
            null,
            0.46643085439538495,
            0.4285584341548651,
            null
           ],
           "y": [
            0.5,
            1,
            null,
            0.966430854395385,
            0.906182816233176,
            null,
            0.966430854395385,
            0.967759498957256,
            null
           ]
          },
          {
           "hoverinfo": "none",
           "line": {
            "color": "rgb(0, 0, 0)",
            "width": 2
           },
           "mode": "lines",
           "x": [
            0,
            0.5,
            null,
            0.46643085439538495,
            0.4285584341548651,
            null,
            0.46643085439538495,
            0.44538388103556675,
            null
           ],
           "y": [
            0.5,
            0,
            null,
            0.03356914560461503,
            0.032240501042743994,
            null,
            0.03356914560461503,
            0.09381718376682407,
            null
           ]
          },
          {
           "hoverinfo": "none",
           "line": {
            "color": "rgb(0, 0, 0)",
            "width": 2
           },
           "mode": "lines",
           "x": [
            0.5,
            1,
            null,
            0.9621212121212122,
            0.9288794484132434,
            null
           ],
           "y": [
            1.0144927536231885,
            1.0144927536231885,
            null,
            1.0144927536231885,
            1.049233734681464,
            null
           ]
          },
          {
           "hoverinfo": "none",
           "line": {
            "color": "rgb(0, 0, 0)",
            "width": 2
           },
           "mode": "lines",
           "x": [
            0.5,
            0.5,
            null,
            0.5,
            0.48183994171953776,
            null,
            0.5,
            0.5181600582804622,
            null
           ],
           "y": [
            1,
            0,
            null,
            0.07246376811594203,
            0.13605670738336034,
            null,
            0.07246376811594203,
            0.13605670738336034,
            null
           ]
          },
          {
           "hoverinfo": "none",
           "line": {
            "color": "rgb(0, 0, 0)",
            "width": 2
           },
           "mode": "lines",
           "x": [
            0.5,
            1,
            null,
            0.9738173240163878,
            0.9377166459078401,
            null,
            0.9738173240163878,
            0.9639630823912474,
            null
           ],
           "y": [
            1,
            0,
            null,
            0.052365351967224576,
            0.07430651885030926,
            null,
            0.052365351967224576,
            0.12233402455151593,
            null
           ]
          },
          {
           "hoverinfo": "none",
           "line": {
            "color": "rgb(0, 0, 0)",
            "width": 2
           },
           "mode": "lines",
           "x": [
            1,
            0.5,
            null,
            0.5378787878787878,
            0.5711205515867566,
            null
           ],
           "y": [
            0.9855072463768116,
            0.9855072463768116,
            null,
            0.9855072463768116,
            0.950766265318536,
            null
           ]
          },
          {
           "hoverinfo": "none",
           "line": {
            "color": "rgb(0, 0, 0)",
            "width": 2
           },
           "mode": "lines",
           "x": [
            0.5,
            1,
            null,
            0.9738173240163878,
            0.9639630823912474,
            null,
            0.9738173240163878,
            0.9377166459078401,
            null
           ],
           "y": [
            0,
            1,
            null,
            0.9476346480327754,
            0.8776659754484841,
            null,
            0.9476346480327754,
            0.9256934811496907,
            null
           ]
          },
          {
           "hoverinfo": "none",
           "line": {
            "color": "rgb(0, 0, 0)",
            "width": 2
           },
           "mode": "lines",
           "x": [
            0.5,
            1,
            null,
            0.9621212121212122,
            0.9288794484132434,
            null,
            0.9621212121212122,
            0.9288794484132434,
            null
           ],
           "y": [
            0,
            0,
            null,
            0,
            -0.03474098105827558,
            null,
            0,
            0.03474098105827558,
            null
           ]
          },
          {
           "hoverinfo": "none",
           "line": {
            "color": "rgb(255, 0, 0)",
            "width": 2
           },
           "mode": "lines",
           "x": [
            1,
            0,
            null,
            0.03664774299318793,
            0.07340128670201525,
            null,
            0.03664774299318793,
            0.06421703965128427,
            null
           ],
           "y": [
            0,
            0.5,
            null,
            0.481676128503406,
            0.4992073320037643,
            null,
            0.481676128503406,
            0.4319835048195859,
            null
           ]
          },
          {
           "hoverinfo": "none",
           "line": {
            "color": "rgb(0, 0, 0)",
            "width": 2
           },
           "mode": "lines",
           "x": [
            1,
            1,
            null,
            1,
            1.0181600582804622,
            null,
            1,
            0.9818399417195378,
            null
           ],
           "y": [
            0,
            1,
            null,
            0.927536231884058,
            0.8639432926166397,
            null,
            0.927536231884058,
            0.8639432926166397,
            null
           ]
          },
          {
           "hoverinfo": "none",
           "marker": {
            "color": "rgb(255, 255, 255)",
            "line": {
             "color": "rgb(0, 0, 0)",
             "width": 2
            },
            "size": 20
           },
           "mode": "markers+text",
           "text": [
            "0"
           ],
           "textfont": {
            "color": "rgb(0, 0, 0)"
           },
           "textposition": "middle center",
           "x": [
            0
           ],
           "y": [
            0.5
           ]
          },
          {
           "hoverinfo": "none",
           "marker": {
            "color": "rgb(255, 255, 255)",
            "line": {
             "color": "rgb(0, 0, 0)",
             "width": 2
            },
            "size": 20
           },
           "mode": "markers+text",
           "text": [
            "6"
           ],
           "textfont": {
            "color": "rgb(0, 0, 0)"
           },
           "textposition": "middle center",
           "x": [
            0.5
           ],
           "y": [
            1
           ]
          },
          {
           "hoverinfo": "none",
           "marker": {
            "color": "rgb(255, 255, 255)",
            "line": {
             "color": "rgb(0, 0, 0)",
             "width": 2
            },
            "size": 20
           },
           "mode": "markers+text",
           "text": [
            "4"
           ],
           "textfont": {
            "color": "rgb(0, 0, 0)"
           },
           "textposition": "middle center",
           "x": [
            1
           ],
           "y": [
            1
           ]
          },
          {
           "hoverinfo": "none",
           "marker": {
            "color": "rgb(255, 255, 255)",
            "line": {
             "color": "rgb(0, 0, 0)",
             "width": 2
            },
            "size": 20
           },
           "mode": "markers+text",
           "text": [
            "7"
           ],
           "textfont": {
            "color": "rgb(0, 0, 0)"
           },
           "textposition": "middle center",
           "x": [
            0.5
           ],
           "y": [
            0
           ]
          },
          {
           "hoverinfo": "none",
           "marker": {
            "color": "rgb(255, 255, 255)",
            "line": {
             "color": "rgb(0, 0, 0)",
             "width": 2
            },
            "size": 20
           },
           "mode": "markers+text",
           "text": [
            "2"
           ],
           "textfont": {
            "color": "rgb(0, 0, 0)"
           },
           "textposition": "middle center",
           "x": [
            1
           ],
           "y": [
            0
           ]
          }
         ],
         "name": 9
        },
        {
         "data": [
          {
           "hoverinfo": "none",
           "line": {
            "color": "rgb(0, 0, 0)",
            "width": 2
           },
           "mode": "lines",
           "x": [
            0,
            0.5,
            null,
            0.46643085439538495,
            0.44538388103556675,
            null,
            0.46643085439538495,
            0.4285584341548651,
            null
           ],
           "y": [
            0.5,
            1,
            null,
            0.966430854395385,
            0.906182816233176,
            null,
            0.966430854395385,
            0.967759498957256,
            null
           ]
          },
          {
           "hoverinfo": "none",
           "line": {
            "color": "rgb(0, 0, 0)",
            "width": 2
           },
           "mode": "lines",
           "x": [
            0,
            0.5,
            null,
            0.46643085439538495,
            0.4285584341548651,
            null,
            0.46643085439538495,
            0.44538388103556675,
            null
           ],
           "y": [
            0.5,
            0,
            null,
            0.03356914560461503,
            0.032240501042743994,
            null,
            0.03356914560461503,
            0.09381718376682407,
            null
           ]
          },
          {
           "hoverinfo": "none",
           "line": {
            "color": "rgb(0, 0, 0)",
            "width": 2
           },
           "mode": "lines",
           "x": [
            0.5,
            1,
            null,
            0.9621212121212122,
            0.9288794484132434,
            null
           ],
           "y": [
            1.0144927536231885,
            1.0144927536231885,
            null,
            1.0144927536231885,
            1.049233734681464,
            null
           ]
          },
          {
           "hoverinfo": "none",
           "line": {
            "color": "rgb(0, 0, 0)",
            "width": 2
           },
           "mode": "lines",
           "x": [
            0.5,
            0.5,
            null,
            0.5,
            0.48183994171953776,
            null,
            0.5,
            0.5181600582804622,
            null
           ],
           "y": [
            1,
            0,
            null,
            0.07246376811594203,
            0.13605670738336034,
            null,
            0.07246376811594203,
            0.13605670738336034,
            null
           ]
          },
          {
           "hoverinfo": "none",
           "line": {
            "color": "rgb(0, 0, 0)",
            "width": 2
           },
           "mode": "lines",
           "x": [
            0.5,
            1,
            null,
            0.9738173240163878,
            0.9377166459078401,
            null,
            0.9738173240163878,
            0.9639630823912474,
            null
           ],
           "y": [
            1,
            0,
            null,
            0.052365351967224576,
            0.07430651885030926,
            null,
            0.052365351967224576,
            0.12233402455151593,
            null
           ]
          },
          {
           "hoverinfo": "none",
           "line": {
            "color": "rgb(0, 0, 0)",
            "width": 2
           },
           "mode": "lines",
           "x": [
            1,
            0.5,
            null,
            0.5378787878787878,
            0.5711205515867566,
            null
           ],
           "y": [
            0.9855072463768116,
            0.9855072463768116,
            null,
            0.9855072463768116,
            0.950766265318536,
            null
           ]
          },
          {
           "hoverinfo": "none",
           "line": {
            "color": "rgb(0, 0, 0)",
            "width": 2
           },
           "mode": "lines",
           "x": [
            0.5,
            1,
            null,
            0.9738173240163878,
            0.9639630823912474,
            null,
            0.9738173240163878,
            0.9377166459078401,
            null
           ],
           "y": [
            0,
            1,
            null,
            0.9476346480327754,
            0.8776659754484841,
            null,
            0.9476346480327754,
            0.9256934811496907,
            null
           ]
          },
          {
           "hoverinfo": "none",
           "line": {
            "color": "rgb(0, 0, 0)",
            "width": 2
           },
           "mode": "lines",
           "x": [
            0.5,
            1,
            null,
            0.9621212121212122,
            0.9288794484132434,
            null,
            0.9621212121212122,
            0.9288794484132434,
            null
           ],
           "y": [
            0,
            0,
            null,
            0,
            -0.03474098105827558,
            null,
            0,
            0.03474098105827558,
            null
           ]
          },
          {
           "hoverinfo": "none",
           "line": {
            "color": "rgb(0, 0, 0)",
            "width": 2
           },
           "mode": "lines",
           "x": [
            1,
            0,
            null,
            0.03664774299318793,
            0.07340128670201525,
            null,
            0.03664774299318793,
            0.06421703965128427,
            null
           ],
           "y": [
            0,
            0.5,
            null,
            0.481676128503406,
            0.4992073320037643,
            null,
            0.481676128503406,
            0.4319835048195859,
            null
           ]
          },
          {
           "hoverinfo": "none",
           "line": {
            "color": "rgb(255, 0, 0)",
            "width": 2
           },
           "mode": "lines",
           "x": [
            1,
            1,
            null,
            1,
            1.0181600582804622,
            null,
            1,
            0.9818399417195378,
            null
           ],
           "y": [
            0,
            1,
            null,
            0.927536231884058,
            0.8639432926166397,
            null,
            0.927536231884058,
            0.8639432926166397,
            null
           ]
          },
          {
           "hoverinfo": "none",
           "marker": {
            "color": "rgb(255, 255, 255)",
            "line": {
             "color": "rgb(0, 0, 0)",
             "width": 2
            },
            "size": 20
           },
           "mode": "markers+text",
           "text": [
            "0"
           ],
           "textfont": {
            "color": "rgb(0, 0, 0)"
           },
           "textposition": "middle center",
           "x": [
            0
           ],
           "y": [
            0.5
           ]
          },
          {
           "hoverinfo": "none",
           "marker": {
            "color": "rgb(255, 255, 255)",
            "line": {
             "color": "rgb(0, 0, 0)",
             "width": 2
            },
            "size": 20
           },
           "mode": "markers+text",
           "text": [
            "6"
           ],
           "textfont": {
            "color": "rgb(0, 0, 0)"
           },
           "textposition": "middle center",
           "x": [
            0.5
           ],
           "y": [
            1
           ]
          },
          {
           "hoverinfo": "none",
           "marker": {
            "color": "rgb(255, 255, 255)",
            "line": {
             "color": "rgb(0, 0, 0)",
             "width": 2
            },
            "size": 20
           },
           "mode": "markers+text",
           "text": [
            "4"
           ],
           "textfont": {
            "color": "rgb(0, 0, 0)"
           },
           "textposition": "middle center",
           "x": [
            1
           ],
           "y": [
            1
           ]
          },
          {
           "hoverinfo": "none",
           "marker": {
            "color": "rgb(255, 255, 255)",
            "line": {
             "color": "rgb(0, 0, 0)",
             "width": 2
            },
            "size": 20
           },
           "mode": "markers+text",
           "text": [
            "7"
           ],
           "textfont": {
            "color": "rgb(0, 0, 0)"
           },
           "textposition": "middle center",
           "x": [
            0.5
           ],
           "y": [
            0
           ]
          },
          {
           "hoverinfo": "none",
           "marker": {
            "color": "rgb(255, 255, 255)",
            "line": {
             "color": "rgb(0, 0, 0)",
             "width": 2
            },
            "size": 20
           },
           "mode": "markers+text",
           "text": [
            "2"
           ],
           "textfont": {
            "color": "rgb(0, 0, 0)"
           },
           "textposition": "middle center",
           "x": [
            1
           ],
           "y": [
            0
           ]
          }
         ],
         "name": 10
        },
        {
         "data": [
          {
           "hoverinfo": "none",
           "line": {
            "color": "rgb(255, 0, 0)",
            "width": 2
           },
           "mode": "lines",
           "x": [
            0,
            0.5,
            null,
            0.46643085439538495,
            0.44538388103556675,
            null,
            0.46643085439538495,
            0.4285584341548651,
            null
           ],
           "y": [
            0.5,
            1,
            null,
            0.966430854395385,
            0.906182816233176,
            null,
            0.966430854395385,
            0.967759498957256,
            null
           ]
          },
          {
           "hoverinfo": "none",
           "line": {
            "color": "rgb(0, 0, 0)",
            "width": 2
           },
           "mode": "lines",
           "x": [
            0,
            0.5,
            null,
            0.46643085439538495,
            0.4285584341548651,
            null,
            0.46643085439538495,
            0.44538388103556675,
            null
           ],
           "y": [
            0.5,
            0,
            null,
            0.03356914560461503,
            0.032240501042743994,
            null,
            0.03356914560461503,
            0.09381718376682407,
            null
           ]
          },
          {
           "hoverinfo": "none",
           "line": {
            "color": "rgb(0, 0, 0)",
            "width": 2
           },
           "mode": "lines",
           "x": [
            0.5,
            1,
            null,
            0.9621212121212122,
            0.9288794484132434,
            null
           ],
           "y": [
            1.0144927536231885,
            1.0144927536231885,
            null,
            1.0144927536231885,
            1.049233734681464,
            null
           ]
          },
          {
           "hoverinfo": "none",
           "line": {
            "color": "rgb(0, 0, 0)",
            "width": 2
           },
           "mode": "lines",
           "x": [
            0.5,
            0.5,
            null,
            0.5,
            0.48183994171953776,
            null,
            0.5,
            0.5181600582804622,
            null
           ],
           "y": [
            1,
            0,
            null,
            0.07246376811594203,
            0.13605670738336034,
            null,
            0.07246376811594203,
            0.13605670738336034,
            null
           ]
          },
          {
           "hoverinfo": "none",
           "line": {
            "color": "rgb(0, 0, 0)",
            "width": 2
           },
           "mode": "lines",
           "x": [
            0.5,
            1,
            null,
            0.9738173240163878,
            0.9377166459078401,
            null,
            0.9738173240163878,
            0.9639630823912474,
            null
           ],
           "y": [
            1,
            0,
            null,
            0.052365351967224576,
            0.07430651885030926,
            null,
            0.052365351967224576,
            0.12233402455151593,
            null
           ]
          },
          {
           "hoverinfo": "none",
           "line": {
            "color": "rgb(0, 0, 0)",
            "width": 2
           },
           "mode": "lines",
           "x": [
            1,
            0.5,
            null,
            0.5378787878787878,
            0.5711205515867566,
            null
           ],
           "y": [
            0.9855072463768116,
            0.9855072463768116,
            null,
            0.9855072463768116,
            0.950766265318536,
            null
           ]
          },
          {
           "hoverinfo": "none",
           "line": {
            "color": "rgb(0, 0, 0)",
            "width": 2
           },
           "mode": "lines",
           "x": [
            0.5,
            1,
            null,
            0.9738173240163878,
            0.9639630823912474,
            null,
            0.9738173240163878,
            0.9377166459078401,
            null
           ],
           "y": [
            0,
            1,
            null,
            0.9476346480327754,
            0.8776659754484841,
            null,
            0.9476346480327754,
            0.9256934811496907,
            null
           ]
          },
          {
           "hoverinfo": "none",
           "line": {
            "color": "rgb(0, 0, 0)",
            "width": 2
           },
           "mode": "lines",
           "x": [
            0.5,
            1,
            null,
            0.9621212121212122,
            0.9288794484132434,
            null,
            0.9621212121212122,
            0.9288794484132434,
            null
           ],
           "y": [
            0,
            0,
            null,
            0,
            -0.03474098105827558,
            null,
            0,
            0.03474098105827558,
            null
           ]
          },
          {
           "hoverinfo": "none",
           "line": {
            "color": "rgb(0, 0, 0)",
            "width": 2
           },
           "mode": "lines",
           "x": [
            1,
            0,
            null,
            0.03664774299318793,
            0.07340128670201525,
            null,
            0.03664774299318793,
            0.06421703965128427,
            null
           ],
           "y": [
            0,
            0.5,
            null,
            0.481676128503406,
            0.4992073320037643,
            null,
            0.481676128503406,
            0.4319835048195859,
            null
           ]
          },
          {
           "hoverinfo": "none",
           "line": {
            "color": "rgb(0, 0, 0)",
            "width": 2
           },
           "mode": "lines",
           "x": [
            1,
            1,
            null,
            1,
            1.0181600582804622,
            null,
            1,
            0.9818399417195378,
            null
           ],
           "y": [
            0,
            1,
            null,
            0.927536231884058,
            0.8639432926166397,
            null,
            0.927536231884058,
            0.8639432926166397,
            null
           ]
          },
          {
           "hoverinfo": "none",
           "marker": {
            "color": "rgb(255, 255, 255)",
            "line": {
             "color": "rgb(0, 0, 0)",
             "width": 2
            },
            "size": 20
           },
           "mode": "markers+text",
           "text": [
            "0"
           ],
           "textfont": {
            "color": "rgb(0, 0, 0)"
           },
           "textposition": "middle center",
           "x": [
            0
           ],
           "y": [
            0.5
           ]
          },
          {
           "hoverinfo": "none",
           "marker": {
            "color": "rgb(255, 255, 255)",
            "line": {
             "color": "rgb(0, 0, 0)",
             "width": 2
            },
            "size": 20
           },
           "mode": "markers+text",
           "text": [
            "6"
           ],
           "textfont": {
            "color": "rgb(0, 0, 0)"
           },
           "textposition": "middle center",
           "x": [
            0.5
           ],
           "y": [
            1
           ]
          },
          {
           "hoverinfo": "none",
           "marker": {
            "color": "rgb(255, 255, 255)",
            "line": {
             "color": "rgb(0, 0, 0)",
             "width": 2
            },
            "size": 20
           },
           "mode": "markers+text",
           "text": [
            "4"
           ],
           "textfont": {
            "color": "rgb(0, 0, 0)"
           },
           "textposition": "middle center",
           "x": [
            1
           ],
           "y": [
            1
           ]
          },
          {
           "hoverinfo": "none",
           "marker": {
            "color": "rgb(255, 255, 255)",
            "line": {
             "color": "rgb(0, 0, 0)",
             "width": 2
            },
            "size": 20
           },
           "mode": "markers+text",
           "text": [
            "7"
           ],
           "textfont": {
            "color": "rgb(0, 0, 0)"
           },
           "textposition": "middle center",
           "x": [
            0.5
           ],
           "y": [
            0
           ]
          },
          {
           "hoverinfo": "none",
           "marker": {
            "color": "rgb(255, 255, 255)",
            "line": {
             "color": "rgb(0, 0, 0)",
             "width": 2
            },
            "size": 20
           },
           "mode": "markers+text",
           "text": [
            "2"
           ],
           "textfont": {
            "color": "rgb(0, 0, 0)"
           },
           "textposition": "middle center",
           "x": [
            1
           ],
           "y": [
            0
           ]
          }
         ],
         "name": 11
        },
        {
         "data": [
          {
           "hoverinfo": "none",
           "line": {
            "color": "rgb(0, 0, 0)",
            "width": 2
           },
           "mode": "lines",
           "x": [
            0,
            0.5,
            null,
            0.46643085439538495,
            0.44538388103556675,
            null,
            0.46643085439538495,
            0.4285584341548651,
            null
           ],
           "y": [
            0.5,
            1,
            null,
            0.966430854395385,
            0.906182816233176,
            null,
            0.966430854395385,
            0.967759498957256,
            null
           ]
          },
          {
           "hoverinfo": "none",
           "line": {
            "color": "rgb(255, 0, 0)",
            "width": 2
           },
           "mode": "lines",
           "x": [
            0,
            0.5,
            null,
            0.46643085439538495,
            0.4285584341548651,
            null,
            0.46643085439538495,
            0.44538388103556675,
            null
           ],
           "y": [
            0.5,
            0,
            null,
            0.03356914560461503,
            0.032240501042743994,
            null,
            0.03356914560461503,
            0.09381718376682407,
            null
           ]
          },
          {
           "hoverinfo": "none",
           "line": {
            "color": "rgb(0, 0, 0)",
            "width": 2
           },
           "mode": "lines",
           "x": [
            0.5,
            1,
            null,
            0.9621212121212122,
            0.9288794484132434,
            null
           ],
           "y": [
            1.0144927536231885,
            1.0144927536231885,
            null,
            1.0144927536231885,
            1.049233734681464,
            null
           ]
          },
          {
           "hoverinfo": "none",
           "line": {
            "color": "rgb(0, 0, 0)",
            "width": 2
           },
           "mode": "lines",
           "x": [
            0.5,
            0.5,
            null,
            0.5,
            0.48183994171953776,
            null,
            0.5,
            0.5181600582804622,
            null
           ],
           "y": [
            1,
            0,
            null,
            0.07246376811594203,
            0.13605670738336034,
            null,
            0.07246376811594203,
            0.13605670738336034,
            null
           ]
          },
          {
           "hoverinfo": "none",
           "line": {
            "color": "rgb(0, 0, 0)",
            "width": 2
           },
           "mode": "lines",
           "x": [
            0.5,
            1,
            null,
            0.9738173240163878,
            0.9377166459078401,
            null,
            0.9738173240163878,
            0.9639630823912474,
            null
           ],
           "y": [
            1,
            0,
            null,
            0.052365351967224576,
            0.07430651885030926,
            null,
            0.052365351967224576,
            0.12233402455151593,
            null
           ]
          },
          {
           "hoverinfo": "none",
           "line": {
            "color": "rgb(0, 0, 0)",
            "width": 2
           },
           "mode": "lines",
           "x": [
            1,
            0.5,
            null,
            0.5378787878787878,
            0.5711205515867566,
            null
           ],
           "y": [
            0.9855072463768116,
            0.9855072463768116,
            null,
            0.9855072463768116,
            0.950766265318536,
            null
           ]
          },
          {
           "hoverinfo": "none",
           "line": {
            "color": "rgb(0, 0, 0)",
            "width": 2
           },
           "mode": "lines",
           "x": [
            0.5,
            1,
            null,
            0.9738173240163878,
            0.9639630823912474,
            null,
            0.9738173240163878,
            0.9377166459078401,
            null
           ],
           "y": [
            0,
            1,
            null,
            0.9476346480327754,
            0.8776659754484841,
            null,
            0.9476346480327754,
            0.9256934811496907,
            null
           ]
          },
          {
           "hoverinfo": "none",
           "line": {
            "color": "rgb(0, 0, 0)",
            "width": 2
           },
           "mode": "lines",
           "x": [
            0.5,
            1,
            null,
            0.9621212121212122,
            0.9288794484132434,
            null,
            0.9621212121212122,
            0.9288794484132434,
            null
           ],
           "y": [
            0,
            0,
            null,
            0,
            -0.03474098105827558,
            null,
            0,
            0.03474098105827558,
            null
           ]
          },
          {
           "hoverinfo": "none",
           "line": {
            "color": "rgb(0, 0, 0)",
            "width": 2
           },
           "mode": "lines",
           "x": [
            1,
            0,
            null,
            0.03664774299318793,
            0.07340128670201525,
            null,
            0.03664774299318793,
            0.06421703965128427,
            null
           ],
           "y": [
            0,
            0.5,
            null,
            0.481676128503406,
            0.4992073320037643,
            null,
            0.481676128503406,
            0.4319835048195859,
            null
           ]
          },
          {
           "hoverinfo": "none",
           "line": {
            "color": "rgb(0, 0, 0)",
            "width": 2
           },
           "mode": "lines",
           "x": [
            1,
            1,
            null,
            1,
            1.0181600582804622,
            null,
            1,
            0.9818399417195378,
            null
           ],
           "y": [
            0,
            1,
            null,
            0.927536231884058,
            0.8639432926166397,
            null,
            0.927536231884058,
            0.8639432926166397,
            null
           ]
          },
          {
           "hoverinfo": "none",
           "marker": {
            "color": "rgb(255, 255, 255)",
            "line": {
             "color": "rgb(0, 0, 0)",
             "width": 2
            },
            "size": 20
           },
           "mode": "markers+text",
           "text": [
            "0"
           ],
           "textfont": {
            "color": "rgb(0, 0, 0)"
           },
           "textposition": "middle center",
           "x": [
            0
           ],
           "y": [
            0.5
           ]
          },
          {
           "hoverinfo": "none",
           "marker": {
            "color": "rgb(255, 255, 255)",
            "line": {
             "color": "rgb(0, 0, 0)",
             "width": 2
            },
            "size": 20
           },
           "mode": "markers+text",
           "text": [
            "6"
           ],
           "textfont": {
            "color": "rgb(0, 0, 0)"
           },
           "textposition": "middle center",
           "x": [
            0.5
           ],
           "y": [
            1
           ]
          },
          {
           "hoverinfo": "none",
           "marker": {
            "color": "rgb(255, 255, 255)",
            "line": {
             "color": "rgb(0, 0, 0)",
             "width": 2
            },
            "size": 20
           },
           "mode": "markers+text",
           "text": [
            "4"
           ],
           "textfont": {
            "color": "rgb(0, 0, 0)"
           },
           "textposition": "middle center",
           "x": [
            1
           ],
           "y": [
            1
           ]
          },
          {
           "hoverinfo": "none",
           "marker": {
            "color": "rgb(255, 255, 255)",
            "line": {
             "color": "rgb(0, 0, 0)",
             "width": 2
            },
            "size": 20
           },
           "mode": "markers+text",
           "text": [
            "7"
           ],
           "textfont": {
            "color": "rgb(0, 0, 0)"
           },
           "textposition": "middle center",
           "x": [
            0.5
           ],
           "y": [
            0
           ]
          },
          {
           "hoverinfo": "none",
           "marker": {
            "color": "rgb(255, 255, 255)",
            "line": {
             "color": "rgb(0, 0, 0)",
             "width": 2
            },
            "size": 20
           },
           "mode": "markers+text",
           "text": [
            "2"
           ],
           "textfont": {
            "color": "rgb(0, 0, 0)"
           },
           "textposition": "middle center",
           "x": [
            1
           ],
           "y": [
            0
           ]
          }
         ],
         "name": 12
        },
        {
         "data": [
          {
           "hoverinfo": "none",
           "line": {
            "color": "rgb(0, 0, 0)",
            "width": 2
           },
           "mode": "lines",
           "x": [
            0,
            0.5,
            null,
            0.46643085439538495,
            0.44538388103556675,
            null,
            0.46643085439538495,
            0.4285584341548651,
            null
           ],
           "y": [
            0.5,
            1,
            null,
            0.966430854395385,
            0.906182816233176,
            null,
            0.966430854395385,
            0.967759498957256,
            null
           ]
          },
          {
           "hoverinfo": "none",
           "line": {
            "color": "rgb(0, 0, 0)",
            "width": 2
           },
           "mode": "lines",
           "x": [
            0,
            0.5,
            null,
            0.46643085439538495,
            0.4285584341548651,
            null,
            0.46643085439538495,
            0.44538388103556675,
            null
           ],
           "y": [
            0.5,
            0,
            null,
            0.03356914560461503,
            0.032240501042743994,
            null,
            0.03356914560461503,
            0.09381718376682407,
            null
           ]
          },
          {
           "hoverinfo": "none",
           "line": {
            "color": "rgb(255, 0, 0)",
            "width": 2
           },
           "mode": "lines",
           "x": [
            0.5,
            1,
            null,
            0.9621212121212122,
            0.9288794484132434,
            null
           ],
           "y": [
            1.0144927536231885,
            1.0144927536231885,
            null,
            1.0144927536231885,
            1.049233734681464,
            null
           ]
          },
          {
           "hoverinfo": "none",
           "line": {
            "color": "rgb(0, 0, 0)",
            "width": 2
           },
           "mode": "lines",
           "x": [
            0.5,
            0.5,
            null,
            0.5,
            0.48183994171953776,
            null,
            0.5,
            0.5181600582804622,
            null
           ],
           "y": [
            1,
            0,
            null,
            0.07246376811594203,
            0.13605670738336034,
            null,
            0.07246376811594203,
            0.13605670738336034,
            null
           ]
          },
          {
           "hoverinfo": "none",
           "line": {
            "color": "rgb(0, 0, 0)",
            "width": 2
           },
           "mode": "lines",
           "x": [
            0.5,
            1,
            null,
            0.9738173240163878,
            0.9377166459078401,
            null,
            0.9738173240163878,
            0.9639630823912474,
            null
           ],
           "y": [
            1,
            0,
            null,
            0.052365351967224576,
            0.07430651885030926,
            null,
            0.052365351967224576,
            0.12233402455151593,
            null
           ]
          },
          {
           "hoverinfo": "none",
           "line": {
            "color": "rgb(0, 0, 0)",
            "width": 2
           },
           "mode": "lines",
           "x": [
            1,
            0.5,
            null,
            0.5378787878787878,
            0.5711205515867566,
            null
           ],
           "y": [
            0.9855072463768116,
            0.9855072463768116,
            null,
            0.9855072463768116,
            0.950766265318536,
            null
           ]
          },
          {
           "hoverinfo": "none",
           "line": {
            "color": "rgb(0, 0, 0)",
            "width": 2
           },
           "mode": "lines",
           "x": [
            0.5,
            1,
            null,
            0.9738173240163878,
            0.9639630823912474,
            null,
            0.9738173240163878,
            0.9377166459078401,
            null
           ],
           "y": [
            0,
            1,
            null,
            0.9476346480327754,
            0.8776659754484841,
            null,
            0.9476346480327754,
            0.9256934811496907,
            null
           ]
          },
          {
           "hoverinfo": "none",
           "line": {
            "color": "rgb(0, 0, 0)",
            "width": 2
           },
           "mode": "lines",
           "x": [
            0.5,
            1,
            null,
            0.9621212121212122,
            0.9288794484132434,
            null,
            0.9621212121212122,
            0.9288794484132434,
            null
           ],
           "y": [
            0,
            0,
            null,
            0,
            -0.03474098105827558,
            null,
            0,
            0.03474098105827558,
            null
           ]
          },
          {
           "hoverinfo": "none",
           "line": {
            "color": "rgb(0, 0, 0)",
            "width": 2
           },
           "mode": "lines",
           "x": [
            1,
            0,
            null,
            0.03664774299318793,
            0.07340128670201525,
            null,
            0.03664774299318793,
            0.06421703965128427,
            null
           ],
           "y": [
            0,
            0.5,
            null,
            0.481676128503406,
            0.4992073320037643,
            null,
            0.481676128503406,
            0.4319835048195859,
            null
           ]
          },
          {
           "hoverinfo": "none",
           "line": {
            "color": "rgb(0, 0, 0)",
            "width": 2
           },
           "mode": "lines",
           "x": [
            1,
            1,
            null,
            1,
            1.0181600582804622,
            null,
            1,
            0.9818399417195378,
            null
           ],
           "y": [
            0,
            1,
            null,
            0.927536231884058,
            0.8639432926166397,
            null,
            0.927536231884058,
            0.8639432926166397,
            null
           ]
          },
          {
           "hoverinfo": "none",
           "marker": {
            "color": "rgb(255, 255, 255)",
            "line": {
             "color": "rgb(0, 0, 0)",
             "width": 2
            },
            "size": 20
           },
           "mode": "markers+text",
           "text": [
            "0"
           ],
           "textfont": {
            "color": "rgb(0, 0, 0)"
           },
           "textposition": "middle center",
           "x": [
            0
           ],
           "y": [
            0.5
           ]
          },
          {
           "hoverinfo": "none",
           "marker": {
            "color": "rgb(255, 255, 255)",
            "line": {
             "color": "rgb(0, 0, 0)",
             "width": 2
            },
            "size": 20
           },
           "mode": "markers+text",
           "text": [
            "6"
           ],
           "textfont": {
            "color": "rgb(0, 0, 0)"
           },
           "textposition": "middle center",
           "x": [
            0.5
           ],
           "y": [
            1
           ]
          },
          {
           "hoverinfo": "none",
           "marker": {
            "color": "rgb(255, 255, 255)",
            "line": {
             "color": "rgb(0, 0, 0)",
             "width": 2
            },
            "size": 20
           },
           "mode": "markers+text",
           "text": [
            "4"
           ],
           "textfont": {
            "color": "rgb(0, 0, 0)"
           },
           "textposition": "middle center",
           "x": [
            1
           ],
           "y": [
            1
           ]
          },
          {
           "hoverinfo": "none",
           "marker": {
            "color": "rgb(255, 255, 255)",
            "line": {
             "color": "rgb(0, 0, 0)",
             "width": 2
            },
            "size": 20
           },
           "mode": "markers+text",
           "text": [
            "7"
           ],
           "textfont": {
            "color": "rgb(0, 0, 0)"
           },
           "textposition": "middle center",
           "x": [
            0.5
           ],
           "y": [
            0
           ]
          },
          {
           "hoverinfo": "none",
           "marker": {
            "color": "rgb(255, 255, 255)",
            "line": {
             "color": "rgb(0, 0, 0)",
             "width": 2
            },
            "size": 20
           },
           "mode": "markers+text",
           "text": [
            "2"
           ],
           "textfont": {
            "color": "rgb(0, 0, 0)"
           },
           "textposition": "middle center",
           "x": [
            1
           ],
           "y": [
            0
           ]
          }
         ],
         "name": 13
        },
        {
         "data": [
          {
           "hoverinfo": "none",
           "line": {
            "color": "rgb(0, 0, 0)",
            "width": 2
           },
           "mode": "lines",
           "x": [
            0,
            0.5,
            null,
            0.46643085439538495,
            0.44538388103556675,
            null,
            0.46643085439538495,
            0.4285584341548651,
            null
           ],
           "y": [
            0.5,
            1,
            null,
            0.966430854395385,
            0.906182816233176,
            null,
            0.966430854395385,
            0.967759498957256,
            null
           ]
          },
          {
           "hoverinfo": "none",
           "line": {
            "color": "rgb(0, 0, 0)",
            "width": 2
           },
           "mode": "lines",
           "x": [
            0,
            0.5,
            null,
            0.46643085439538495,
            0.4285584341548651,
            null,
            0.46643085439538495,
            0.44538388103556675,
            null
           ],
           "y": [
            0.5,
            0,
            null,
            0.03356914560461503,
            0.032240501042743994,
            null,
            0.03356914560461503,
            0.09381718376682407,
            null
           ]
          },
          {
           "hoverinfo": "none",
           "line": {
            "color": "rgb(0, 0, 0)",
            "width": 2
           },
           "mode": "lines",
           "x": [
            0.5,
            1,
            null,
            0.9621212121212122,
            0.9288794484132434,
            null
           ],
           "y": [
            1.0144927536231885,
            1.0144927536231885,
            null,
            1.0144927536231885,
            1.049233734681464,
            null
           ]
          },
          {
           "hoverinfo": "none",
           "line": {
            "color": "rgb(255, 0, 0)",
            "width": 2
           },
           "mode": "lines",
           "x": [
            0.5,
            0.5,
            null,
            0.5,
            0.48183994171953776,
            null,
            0.5,
            0.5181600582804622,
            null
           ],
           "y": [
            1,
            0,
            null,
            0.07246376811594203,
            0.13605670738336034,
            null,
            0.07246376811594203,
            0.13605670738336034,
            null
           ]
          },
          {
           "hoverinfo": "none",
           "line": {
            "color": "rgb(0, 0, 0)",
            "width": 2
           },
           "mode": "lines",
           "x": [
            0.5,
            1,
            null,
            0.9738173240163878,
            0.9377166459078401,
            null,
            0.9738173240163878,
            0.9639630823912474,
            null
           ],
           "y": [
            1,
            0,
            null,
            0.052365351967224576,
            0.07430651885030926,
            null,
            0.052365351967224576,
            0.12233402455151593,
            null
           ]
          },
          {
           "hoverinfo": "none",
           "line": {
            "color": "rgb(0, 0, 0)",
            "width": 2
           },
           "mode": "lines",
           "x": [
            1,
            0.5,
            null,
            0.5378787878787878,
            0.5711205515867566,
            null
           ],
           "y": [
            0.9855072463768116,
            0.9855072463768116,
            null,
            0.9855072463768116,
            0.950766265318536,
            null
           ]
          },
          {
           "hoverinfo": "none",
           "line": {
            "color": "rgb(0, 0, 0)",
            "width": 2
           },
           "mode": "lines",
           "x": [
            0.5,
            1,
            null,
            0.9738173240163878,
            0.9639630823912474,
            null,
            0.9738173240163878,
            0.9377166459078401,
            null
           ],
           "y": [
            0,
            1,
            null,
            0.9476346480327754,
            0.8776659754484841,
            null,
            0.9476346480327754,
            0.9256934811496907,
            null
           ]
          },
          {
           "hoverinfo": "none",
           "line": {
            "color": "rgb(0, 0, 0)",
            "width": 2
           },
           "mode": "lines",
           "x": [
            0.5,
            1,
            null,
            0.9621212121212122,
            0.9288794484132434,
            null,
            0.9621212121212122,
            0.9288794484132434,
            null
           ],
           "y": [
            0,
            0,
            null,
            0,
            -0.03474098105827558,
            null,
            0,
            0.03474098105827558,
            null
           ]
          },
          {
           "hoverinfo": "none",
           "line": {
            "color": "rgb(0, 0, 0)",
            "width": 2
           },
           "mode": "lines",
           "x": [
            1,
            0,
            null,
            0.03664774299318793,
            0.07340128670201525,
            null,
            0.03664774299318793,
            0.06421703965128427,
            null
           ],
           "y": [
            0,
            0.5,
            null,
            0.481676128503406,
            0.4992073320037643,
            null,
            0.481676128503406,
            0.4319835048195859,
            null
           ]
          },
          {
           "hoverinfo": "none",
           "line": {
            "color": "rgb(0, 0, 0)",
            "width": 2
           },
           "mode": "lines",
           "x": [
            1,
            1,
            null,
            1,
            1.0181600582804622,
            null,
            1,
            0.9818399417195378,
            null
           ],
           "y": [
            0,
            1,
            null,
            0.927536231884058,
            0.8639432926166397,
            null,
            0.927536231884058,
            0.8639432926166397,
            null
           ]
          },
          {
           "hoverinfo": "none",
           "marker": {
            "color": "rgb(255, 255, 255)",
            "line": {
             "color": "rgb(0, 0, 0)",
             "width": 2
            },
            "size": 20
           },
           "mode": "markers+text",
           "text": [
            "0"
           ],
           "textfont": {
            "color": "rgb(0, 0, 0)"
           },
           "textposition": "middle center",
           "x": [
            0
           ],
           "y": [
            0.5
           ]
          },
          {
           "hoverinfo": "none",
           "marker": {
            "color": "rgb(255, 255, 255)",
            "line": {
             "color": "rgb(0, 0, 0)",
             "width": 2
            },
            "size": 20
           },
           "mode": "markers+text",
           "text": [
            "6"
           ],
           "textfont": {
            "color": "rgb(0, 0, 0)"
           },
           "textposition": "middle center",
           "x": [
            0.5
           ],
           "y": [
            1
           ]
          },
          {
           "hoverinfo": "none",
           "marker": {
            "color": "rgb(255, 255, 255)",
            "line": {
             "color": "rgb(0, 0, 0)",
             "width": 2
            },
            "size": 20
           },
           "mode": "markers+text",
           "text": [
            "4"
           ],
           "textfont": {
            "color": "rgb(0, 0, 0)"
           },
           "textposition": "middle center",
           "x": [
            1
           ],
           "y": [
            1
           ]
          },
          {
           "hoverinfo": "none",
           "marker": {
            "color": "rgb(255, 255, 255)",
            "line": {
             "color": "rgb(0, 0, 0)",
             "width": 2
            },
            "size": 20
           },
           "mode": "markers+text",
           "text": [
            "7"
           ],
           "textfont": {
            "color": "rgb(0, 0, 0)"
           },
           "textposition": "middle center",
           "x": [
            0.5
           ],
           "y": [
            0
           ]
          },
          {
           "hoverinfo": "none",
           "marker": {
            "color": "rgb(255, 255, 255)",
            "line": {
             "color": "rgb(0, 0, 0)",
             "width": 2
            },
            "size": 20
           },
           "mode": "markers+text",
           "text": [
            "2"
           ],
           "textfont": {
            "color": "rgb(0, 0, 0)"
           },
           "textposition": "middle center",
           "x": [
            1
           ],
           "y": [
            0
           ]
          }
         ],
         "name": 14
        },
        {
         "data": [
          {
           "hoverinfo": "none",
           "line": {
            "color": "rgb(0, 0, 0)",
            "width": 2
           },
           "mode": "lines",
           "x": [
            0,
            0.5,
            null,
            0.46643085439538495,
            0.44538388103556675,
            null,
            0.46643085439538495,
            0.4285584341548651,
            null
           ],
           "y": [
            0.5,
            1,
            null,
            0.966430854395385,
            0.906182816233176,
            null,
            0.966430854395385,
            0.967759498957256,
            null
           ]
          },
          {
           "hoverinfo": "none",
           "line": {
            "color": "rgb(0, 0, 0)",
            "width": 2
           },
           "mode": "lines",
           "x": [
            0,
            0.5,
            null,
            0.46643085439538495,
            0.4285584341548651,
            null,
            0.46643085439538495,
            0.44538388103556675,
            null
           ],
           "y": [
            0.5,
            0,
            null,
            0.03356914560461503,
            0.032240501042743994,
            null,
            0.03356914560461503,
            0.09381718376682407,
            null
           ]
          },
          {
           "hoverinfo": "none",
           "line": {
            "color": "rgb(0, 0, 0)",
            "width": 2
           },
           "mode": "lines",
           "x": [
            0.5,
            1,
            null,
            0.9621212121212122,
            0.9288794484132434,
            null
           ],
           "y": [
            1.0144927536231885,
            1.0144927536231885,
            null,
            1.0144927536231885,
            1.049233734681464,
            null
           ]
          },
          {
           "hoverinfo": "none",
           "line": {
            "color": "rgb(0, 0, 0)",
            "width": 2
           },
           "mode": "lines",
           "x": [
            0.5,
            0.5,
            null,
            0.5,
            0.48183994171953776,
            null,
            0.5,
            0.5181600582804622,
            null
           ],
           "y": [
            1,
            0,
            null,
            0.07246376811594203,
            0.13605670738336034,
            null,
            0.07246376811594203,
            0.13605670738336034,
            null
           ]
          },
          {
           "hoverinfo": "none",
           "line": {
            "color": "rgb(255, 0, 0)",
            "width": 2
           },
           "mode": "lines",
           "x": [
            0.5,
            1,
            null,
            0.9738173240163878,
            0.9377166459078401,
            null,
            0.9738173240163878,
            0.9639630823912474,
            null
           ],
           "y": [
            1,
            0,
            null,
            0.052365351967224576,
            0.07430651885030926,
            null,
            0.052365351967224576,
            0.12233402455151593,
            null
           ]
          },
          {
           "hoverinfo": "none",
           "line": {
            "color": "rgb(0, 0, 0)",
            "width": 2
           },
           "mode": "lines",
           "x": [
            1,
            0.5,
            null,
            0.5378787878787878,
            0.5711205515867566,
            null
           ],
           "y": [
            0.9855072463768116,
            0.9855072463768116,
            null,
            0.9855072463768116,
            0.950766265318536,
            null
           ]
          },
          {
           "hoverinfo": "none",
           "line": {
            "color": "rgb(0, 0, 0)",
            "width": 2
           },
           "mode": "lines",
           "x": [
            0.5,
            1,
            null,
            0.9738173240163878,
            0.9639630823912474,
            null,
            0.9738173240163878,
            0.9377166459078401,
            null
           ],
           "y": [
            0,
            1,
            null,
            0.9476346480327754,
            0.8776659754484841,
            null,
            0.9476346480327754,
            0.9256934811496907,
            null
           ]
          },
          {
           "hoverinfo": "none",
           "line": {
            "color": "rgb(0, 0, 0)",
            "width": 2
           },
           "mode": "lines",
           "x": [
            0.5,
            1,
            null,
            0.9621212121212122,
            0.9288794484132434,
            null,
            0.9621212121212122,
            0.9288794484132434,
            null
           ],
           "y": [
            0,
            0,
            null,
            0,
            -0.03474098105827558,
            null,
            0,
            0.03474098105827558,
            null
           ]
          },
          {
           "hoverinfo": "none",
           "line": {
            "color": "rgb(0, 0, 0)",
            "width": 2
           },
           "mode": "lines",
           "x": [
            1,
            0,
            null,
            0.03664774299318793,
            0.07340128670201525,
            null,
            0.03664774299318793,
            0.06421703965128427,
            null
           ],
           "y": [
            0,
            0.5,
            null,
            0.481676128503406,
            0.4992073320037643,
            null,
            0.481676128503406,
            0.4319835048195859,
            null
           ]
          },
          {
           "hoverinfo": "none",
           "line": {
            "color": "rgb(0, 0, 0)",
            "width": 2
           },
           "mode": "lines",
           "x": [
            1,
            1,
            null,
            1,
            1.0181600582804622,
            null,
            1,
            0.9818399417195378,
            null
           ],
           "y": [
            0,
            1,
            null,
            0.927536231884058,
            0.8639432926166397,
            null,
            0.927536231884058,
            0.8639432926166397,
            null
           ]
          },
          {
           "hoverinfo": "none",
           "marker": {
            "color": "rgb(255, 255, 255)",
            "line": {
             "color": "rgb(0, 0, 0)",
             "width": 2
            },
            "size": 20
           },
           "mode": "markers+text",
           "text": [
            "0"
           ],
           "textfont": {
            "color": "rgb(0, 0, 0)"
           },
           "textposition": "middle center",
           "x": [
            0
           ],
           "y": [
            0.5
           ]
          },
          {
           "hoverinfo": "none",
           "marker": {
            "color": "rgb(255, 255, 255)",
            "line": {
             "color": "rgb(0, 0, 0)",
             "width": 2
            },
            "size": 20
           },
           "mode": "markers+text",
           "text": [
            "6"
           ],
           "textfont": {
            "color": "rgb(0, 0, 0)"
           },
           "textposition": "middle center",
           "x": [
            0.5
           ],
           "y": [
            1
           ]
          },
          {
           "hoverinfo": "none",
           "marker": {
            "color": "rgb(255, 255, 255)",
            "line": {
             "color": "rgb(0, 0, 0)",
             "width": 2
            },
            "size": 20
           },
           "mode": "markers+text",
           "text": [
            "4"
           ],
           "textfont": {
            "color": "rgb(0, 0, 0)"
           },
           "textposition": "middle center",
           "x": [
            1
           ],
           "y": [
            1
           ]
          },
          {
           "hoverinfo": "none",
           "marker": {
            "color": "rgb(255, 255, 255)",
            "line": {
             "color": "rgb(0, 0, 0)",
             "width": 2
            },
            "size": 20
           },
           "mode": "markers+text",
           "text": [
            "7"
           ],
           "textfont": {
            "color": "rgb(0, 0, 0)"
           },
           "textposition": "middle center",
           "x": [
            0.5
           ],
           "y": [
            0
           ]
          },
          {
           "hoverinfo": "none",
           "marker": {
            "color": "rgb(255, 255, 255)",
            "line": {
             "color": "rgb(0, 0, 0)",
             "width": 2
            },
            "size": 20
           },
           "mode": "markers+text",
           "text": [
            "2"
           ],
           "textfont": {
            "color": "rgb(0, 0, 0)"
           },
           "textposition": "middle center",
           "x": [
            1
           ],
           "y": [
            0
           ]
          }
         ],
         "name": 15
        },
        {
         "data": [
          {
           "hoverinfo": "none",
           "line": {
            "color": "rgb(0, 0, 0)",
            "width": 2
           },
           "mode": "lines",
           "x": [
            0,
            0.5,
            null,
            0.46643085439538495,
            0.44538388103556675,
            null,
            0.46643085439538495,
            0.4285584341548651,
            null
           ],
           "y": [
            0.5,
            1,
            null,
            0.966430854395385,
            0.906182816233176,
            null,
            0.966430854395385,
            0.967759498957256,
            null
           ]
          },
          {
           "hoverinfo": "none",
           "line": {
            "color": "rgb(0, 0, 0)",
            "width": 2
           },
           "mode": "lines",
           "x": [
            0,
            0.5,
            null,
            0.46643085439538495,
            0.4285584341548651,
            null,
            0.46643085439538495,
            0.44538388103556675,
            null
           ],
           "y": [
            0.5,
            0,
            null,
            0.03356914560461503,
            0.032240501042743994,
            null,
            0.03356914560461503,
            0.09381718376682407,
            null
           ]
          },
          {
           "hoverinfo": "none",
           "line": {
            "color": "rgb(0, 0, 0)",
            "width": 2
           },
           "mode": "lines",
           "x": [
            0.5,
            1,
            null,
            0.9621212121212122,
            0.9288794484132434,
            null
           ],
           "y": [
            1.0144927536231885,
            1.0144927536231885,
            null,
            1.0144927536231885,
            1.049233734681464,
            null
           ]
          },
          {
           "hoverinfo": "none",
           "line": {
            "color": "rgb(0, 0, 0)",
            "width": 2
           },
           "mode": "lines",
           "x": [
            0.5,
            0.5,
            null,
            0.5,
            0.48183994171953776,
            null,
            0.5,
            0.5181600582804622,
            null
           ],
           "y": [
            1,
            0,
            null,
            0.07246376811594203,
            0.13605670738336034,
            null,
            0.07246376811594203,
            0.13605670738336034,
            null
           ]
          },
          {
           "hoverinfo": "none",
           "line": {
            "color": "rgb(0, 0, 0)",
            "width": 2
           },
           "mode": "lines",
           "x": [
            0.5,
            1,
            null,
            0.9738173240163878,
            0.9377166459078401,
            null,
            0.9738173240163878,
            0.9639630823912474,
            null
           ],
           "y": [
            1,
            0,
            null,
            0.052365351967224576,
            0.07430651885030926,
            null,
            0.052365351967224576,
            0.12233402455151593,
            null
           ]
          },
          {
           "hoverinfo": "none",
           "line": {
            "color": "rgb(0, 255, 0)",
            "width": 2
           },
           "mode": "lines",
           "x": [
            1,
            0.5,
            null,
            0.5378787878787878,
            0.5711205515867566,
            null
           ],
           "y": [
            0.9855072463768116,
            0.9855072463768116,
            null,
            0.9855072463768116,
            0.950766265318536,
            null
           ]
          },
          {
           "hoverinfo": "none",
           "line": {
            "color": "rgb(0, 0, 0)",
            "width": 2
           },
           "mode": "lines",
           "x": [
            0.5,
            1,
            null,
            0.9738173240163878,
            0.9639630823912474,
            null,
            0.9738173240163878,
            0.9377166459078401,
            null
           ],
           "y": [
            0,
            1,
            null,
            0.9476346480327754,
            0.8776659754484841,
            null,
            0.9476346480327754,
            0.9256934811496907,
            null
           ]
          },
          {
           "hoverinfo": "none",
           "line": {
            "color": "rgb(0, 0, 0)",
            "width": 2
           },
           "mode": "lines",
           "x": [
            0.5,
            1,
            null,
            0.9621212121212122,
            0.9288794484132434,
            null,
            0.9621212121212122,
            0.9288794484132434,
            null
           ],
           "y": [
            0,
            0,
            null,
            0,
            -0.03474098105827558,
            null,
            0,
            0.03474098105827558,
            null
           ]
          },
          {
           "hoverinfo": "none",
           "line": {
            "color": "rgb(0, 0, 0)",
            "width": 2
           },
           "mode": "lines",
           "x": [
            1,
            0,
            null,
            0.03664774299318793,
            0.07340128670201525,
            null,
            0.03664774299318793,
            0.06421703965128427,
            null
           ],
           "y": [
            0,
            0.5,
            null,
            0.481676128503406,
            0.4992073320037643,
            null,
            0.481676128503406,
            0.4319835048195859,
            null
           ]
          },
          {
           "hoverinfo": "none",
           "line": {
            "color": "rgb(0, 0, 0)",
            "width": 2
           },
           "mode": "lines",
           "x": [
            1,
            1,
            null,
            1,
            1.0181600582804622,
            null,
            1,
            0.9818399417195378,
            null
           ],
           "y": [
            0,
            1,
            null,
            0.927536231884058,
            0.8639432926166397,
            null,
            0.927536231884058,
            0.8639432926166397,
            null
           ]
          },
          {
           "hoverinfo": "none",
           "marker": {
            "color": "rgb(255, 255, 255)",
            "line": {
             "color": "rgb(0, 0, 0)",
             "width": 2
            },
            "size": 20
           },
           "mode": "markers+text",
           "text": [
            "0"
           ],
           "textfont": {
            "color": "rgb(0, 0, 0)"
           },
           "textposition": "middle center",
           "x": [
            0
           ],
           "y": [
            0.5
           ]
          },
          {
           "hoverinfo": "none",
           "marker": {
            "color": "rgb(255, 255, 255)",
            "line": {
             "color": "rgb(0, 0, 0)",
             "width": 2
            },
            "size": 20
           },
           "mode": "markers+text",
           "text": [
            "2"
           ],
           "textfont": {
            "color": "rgb(0, 0, 0)"
           },
           "textposition": "middle center",
           "x": [
            0.5
           ],
           "y": [
            1
           ]
          },
          {
           "hoverinfo": "none",
           "marker": {
            "color": "rgb(255, 255, 255)",
            "line": {
             "color": "rgb(0, 0, 0)",
             "width": 2
            },
            "size": 20
           },
           "mode": "markers+text",
           "text": [
            "4"
           ],
           "textfont": {
            "color": "rgb(0, 0, 0)"
           },
           "textposition": "middle center",
           "x": [
            1
           ],
           "y": [
            1
           ]
          },
          {
           "hoverinfo": "none",
           "marker": {
            "color": "rgb(255, 255, 255)",
            "line": {
             "color": "rgb(0, 0, 0)",
             "width": 2
            },
            "size": 20
           },
           "mode": "markers+text",
           "text": [
            "7"
           ],
           "textfont": {
            "color": "rgb(0, 0, 0)"
           },
           "textposition": "middle center",
           "x": [
            0.5
           ],
           "y": [
            0
           ]
          },
          {
           "hoverinfo": "none",
           "marker": {
            "color": "rgb(255, 255, 255)",
            "line": {
             "color": "rgb(0, 0, 0)",
             "width": 2
            },
            "size": 20
           },
           "mode": "markers+text",
           "text": [
            "2"
           ],
           "textfont": {
            "color": "rgb(0, 0, 0)"
           },
           "textposition": "middle center",
           "x": [
            1
           ],
           "y": [
            0
           ]
          }
         ],
         "name": 16
        },
        {
         "data": [
          {
           "hoverinfo": "none",
           "line": {
            "color": "rgb(0, 0, 0)",
            "width": 2
           },
           "mode": "lines",
           "x": [
            0,
            0.5,
            null,
            0.46643085439538495,
            0.44538388103556675,
            null,
            0.46643085439538495,
            0.4285584341548651,
            null
           ],
           "y": [
            0.5,
            1,
            null,
            0.966430854395385,
            0.906182816233176,
            null,
            0.966430854395385,
            0.967759498957256,
            null
           ]
          },
          {
           "hoverinfo": "none",
           "line": {
            "color": "rgb(0, 0, 0)",
            "width": 2
           },
           "mode": "lines",
           "x": [
            0,
            0.5,
            null,
            0.46643085439538495,
            0.4285584341548651,
            null,
            0.46643085439538495,
            0.44538388103556675,
            null
           ],
           "y": [
            0.5,
            0,
            null,
            0.03356914560461503,
            0.032240501042743994,
            null,
            0.03356914560461503,
            0.09381718376682407,
            null
           ]
          },
          {
           "hoverinfo": "none",
           "line": {
            "color": "rgb(0, 0, 0)",
            "width": 2
           },
           "mode": "lines",
           "x": [
            0.5,
            1,
            null,
            0.9621212121212122,
            0.9288794484132434,
            null
           ],
           "y": [
            1.0144927536231885,
            1.0144927536231885,
            null,
            1.0144927536231885,
            1.049233734681464,
            null
           ]
          },
          {
           "hoverinfo": "none",
           "line": {
            "color": "rgb(0, 0, 0)",
            "width": 2
           },
           "mode": "lines",
           "x": [
            0.5,
            0.5,
            null,
            0.5,
            0.48183994171953776,
            null,
            0.5,
            0.5181600582804622,
            null
           ],
           "y": [
            1,
            0,
            null,
            0.07246376811594203,
            0.13605670738336034,
            null,
            0.07246376811594203,
            0.13605670738336034,
            null
           ]
          },
          {
           "hoverinfo": "none",
           "line": {
            "color": "rgb(0, 0, 0)",
            "width": 2
           },
           "mode": "lines",
           "x": [
            0.5,
            1,
            null,
            0.9738173240163878,
            0.9377166459078401,
            null,
            0.9738173240163878,
            0.9639630823912474,
            null
           ],
           "y": [
            1,
            0,
            null,
            0.052365351967224576,
            0.07430651885030926,
            null,
            0.052365351967224576,
            0.12233402455151593,
            null
           ]
          },
          {
           "hoverinfo": "none",
           "line": {
            "color": "rgb(0, 0, 0)",
            "width": 2
           },
           "mode": "lines",
           "x": [
            1,
            0.5,
            null,
            0.5378787878787878,
            0.5711205515867566,
            null
           ],
           "y": [
            0.9855072463768116,
            0.9855072463768116,
            null,
            0.9855072463768116,
            0.950766265318536,
            null
           ]
          },
          {
           "hoverinfo": "none",
           "line": {
            "color": "rgb(255, 0, 0)",
            "width": 2
           },
           "mode": "lines",
           "x": [
            0.5,
            1,
            null,
            0.9738173240163878,
            0.9639630823912474,
            null,
            0.9738173240163878,
            0.9377166459078401,
            null
           ],
           "y": [
            0,
            1,
            null,
            0.9476346480327754,
            0.8776659754484841,
            null,
            0.9476346480327754,
            0.9256934811496907,
            null
           ]
          },
          {
           "hoverinfo": "none",
           "line": {
            "color": "rgb(0, 0, 0)",
            "width": 2
           },
           "mode": "lines",
           "x": [
            0.5,
            1,
            null,
            0.9621212121212122,
            0.9288794484132434,
            null,
            0.9621212121212122,
            0.9288794484132434,
            null
           ],
           "y": [
            0,
            0,
            null,
            0,
            -0.03474098105827558,
            null,
            0,
            0.03474098105827558,
            null
           ]
          },
          {
           "hoverinfo": "none",
           "line": {
            "color": "rgb(0, 0, 0)",
            "width": 2
           },
           "mode": "lines",
           "x": [
            1,
            0,
            null,
            0.03664774299318793,
            0.07340128670201525,
            null,
            0.03664774299318793,
            0.06421703965128427,
            null
           ],
           "y": [
            0,
            0.5,
            null,
            0.481676128503406,
            0.4992073320037643,
            null,
            0.481676128503406,
            0.4319835048195859,
            null
           ]
          },
          {
           "hoverinfo": "none",
           "line": {
            "color": "rgb(0, 0, 0)",
            "width": 2
           },
           "mode": "lines",
           "x": [
            1,
            1,
            null,
            1,
            1.0181600582804622,
            null,
            1,
            0.9818399417195378,
            null
           ],
           "y": [
            0,
            1,
            null,
            0.927536231884058,
            0.8639432926166397,
            null,
            0.927536231884058,
            0.8639432926166397,
            null
           ]
          },
          {
           "hoverinfo": "none",
           "marker": {
            "color": "rgb(255, 255, 255)",
            "line": {
             "color": "rgb(0, 0, 0)",
             "width": 2
            },
            "size": 20
           },
           "mode": "markers+text",
           "text": [
            "0"
           ],
           "textfont": {
            "color": "rgb(0, 0, 0)"
           },
           "textposition": "middle center",
           "x": [
            0
           ],
           "y": [
            0.5
           ]
          },
          {
           "hoverinfo": "none",
           "marker": {
            "color": "rgb(255, 255, 255)",
            "line": {
             "color": "rgb(0, 0, 0)",
             "width": 2
            },
            "size": 20
           },
           "mode": "markers+text",
           "text": [
            "2"
           ],
           "textfont": {
            "color": "rgb(0, 0, 0)"
           },
           "textposition": "middle center",
           "x": [
            0.5
           ],
           "y": [
            1
           ]
          },
          {
           "hoverinfo": "none",
           "marker": {
            "color": "rgb(255, 255, 255)",
            "line": {
             "color": "rgb(0, 0, 0)",
             "width": 2
            },
            "size": 20
           },
           "mode": "markers+text",
           "text": [
            "4"
           ],
           "textfont": {
            "color": "rgb(0, 0, 0)"
           },
           "textposition": "middle center",
           "x": [
            1
           ],
           "y": [
            1
           ]
          },
          {
           "hoverinfo": "none",
           "marker": {
            "color": "rgb(255, 255, 255)",
            "line": {
             "color": "rgb(0, 0, 0)",
             "width": 2
            },
            "size": 20
           },
           "mode": "markers+text",
           "text": [
            "7"
           ],
           "textfont": {
            "color": "rgb(0, 0, 0)"
           },
           "textposition": "middle center",
           "x": [
            0.5
           ],
           "y": [
            0
           ]
          },
          {
           "hoverinfo": "none",
           "marker": {
            "color": "rgb(255, 255, 255)",
            "line": {
             "color": "rgb(0, 0, 0)",
             "width": 2
            },
            "size": 20
           },
           "mode": "markers+text",
           "text": [
            "2"
           ],
           "textfont": {
            "color": "rgb(0, 0, 0)"
           },
           "textposition": "middle center",
           "x": [
            1
           ],
           "y": [
            0
           ]
          }
         ],
         "name": 17
        },
        {
         "data": [
          {
           "hoverinfo": "none",
           "line": {
            "color": "rgb(0, 0, 0)",
            "width": 2
           },
           "mode": "lines",
           "x": [
            0,
            0.5,
            null,
            0.46643085439538495,
            0.44538388103556675,
            null,
            0.46643085439538495,
            0.4285584341548651,
            null
           ],
           "y": [
            0.5,
            1,
            null,
            0.966430854395385,
            0.906182816233176,
            null,
            0.966430854395385,
            0.967759498957256,
            null
           ]
          },
          {
           "hoverinfo": "none",
           "line": {
            "color": "rgb(0, 0, 0)",
            "width": 2
           },
           "mode": "lines",
           "x": [
            0,
            0.5,
            null,
            0.46643085439538495,
            0.4285584341548651,
            null,
            0.46643085439538495,
            0.44538388103556675,
            null
           ],
           "y": [
            0.5,
            0,
            null,
            0.03356914560461503,
            0.032240501042743994,
            null,
            0.03356914560461503,
            0.09381718376682407,
            null
           ]
          },
          {
           "hoverinfo": "none",
           "line": {
            "color": "rgb(0, 0, 0)",
            "width": 2
           },
           "mode": "lines",
           "x": [
            0.5,
            1,
            null,
            0.9621212121212122,
            0.9288794484132434,
            null
           ],
           "y": [
            1.0144927536231885,
            1.0144927536231885,
            null,
            1.0144927536231885,
            1.049233734681464,
            null
           ]
          },
          {
           "hoverinfo": "none",
           "line": {
            "color": "rgb(0, 0, 0)",
            "width": 2
           },
           "mode": "lines",
           "x": [
            0.5,
            0.5,
            null,
            0.5,
            0.48183994171953776,
            null,
            0.5,
            0.5181600582804622,
            null
           ],
           "y": [
            1,
            0,
            null,
            0.07246376811594203,
            0.13605670738336034,
            null,
            0.07246376811594203,
            0.13605670738336034,
            null
           ]
          },
          {
           "hoverinfo": "none",
           "line": {
            "color": "rgb(0, 0, 0)",
            "width": 2
           },
           "mode": "lines",
           "x": [
            0.5,
            1,
            null,
            0.9738173240163878,
            0.9377166459078401,
            null,
            0.9738173240163878,
            0.9639630823912474,
            null
           ],
           "y": [
            1,
            0,
            null,
            0.052365351967224576,
            0.07430651885030926,
            null,
            0.052365351967224576,
            0.12233402455151593,
            null
           ]
          },
          {
           "hoverinfo": "none",
           "line": {
            "color": "rgb(0, 0, 0)",
            "width": 2
           },
           "mode": "lines",
           "x": [
            1,
            0.5,
            null,
            0.5378787878787878,
            0.5711205515867566,
            null
           ],
           "y": [
            0.9855072463768116,
            0.9855072463768116,
            null,
            0.9855072463768116,
            0.950766265318536,
            null
           ]
          },
          {
           "hoverinfo": "none",
           "line": {
            "color": "rgb(0, 0, 0)",
            "width": 2
           },
           "mode": "lines",
           "x": [
            0.5,
            1,
            null,
            0.9738173240163878,
            0.9639630823912474,
            null,
            0.9738173240163878,
            0.9377166459078401,
            null
           ],
           "y": [
            0,
            1,
            null,
            0.9476346480327754,
            0.8776659754484841,
            null,
            0.9476346480327754,
            0.9256934811496907,
            null
           ]
          },
          {
           "hoverinfo": "none",
           "line": {
            "color": "rgb(255, 0, 0)",
            "width": 2
           },
           "mode": "lines",
           "x": [
            0.5,
            1,
            null,
            0.9621212121212122,
            0.9288794484132434,
            null,
            0.9621212121212122,
            0.9288794484132434,
            null
           ],
           "y": [
            0,
            0,
            null,
            0,
            -0.03474098105827558,
            null,
            0,
            0.03474098105827558,
            null
           ]
          },
          {
           "hoverinfo": "none",
           "line": {
            "color": "rgb(0, 0, 0)",
            "width": 2
           },
           "mode": "lines",
           "x": [
            1,
            0,
            null,
            0.03664774299318793,
            0.07340128670201525,
            null,
            0.03664774299318793,
            0.06421703965128427,
            null
           ],
           "y": [
            0,
            0.5,
            null,
            0.481676128503406,
            0.4992073320037643,
            null,
            0.481676128503406,
            0.4319835048195859,
            null
           ]
          },
          {
           "hoverinfo": "none",
           "line": {
            "color": "rgb(0, 0, 0)",
            "width": 2
           },
           "mode": "lines",
           "x": [
            1,
            1,
            null,
            1,
            1.0181600582804622,
            null,
            1,
            0.9818399417195378,
            null
           ],
           "y": [
            0,
            1,
            null,
            0.927536231884058,
            0.8639432926166397,
            null,
            0.927536231884058,
            0.8639432926166397,
            null
           ]
          },
          {
           "hoverinfo": "none",
           "marker": {
            "color": "rgb(255, 255, 255)",
            "line": {
             "color": "rgb(0, 0, 0)",
             "width": 2
            },
            "size": 20
           },
           "mode": "markers+text",
           "text": [
            "0"
           ],
           "textfont": {
            "color": "rgb(0, 0, 0)"
           },
           "textposition": "middle center",
           "x": [
            0
           ],
           "y": [
            0.5
           ]
          },
          {
           "hoverinfo": "none",
           "marker": {
            "color": "rgb(255, 255, 255)",
            "line": {
             "color": "rgb(0, 0, 0)",
             "width": 2
            },
            "size": 20
           },
           "mode": "markers+text",
           "text": [
            "2"
           ],
           "textfont": {
            "color": "rgb(0, 0, 0)"
           },
           "textposition": "middle center",
           "x": [
            0.5
           ],
           "y": [
            1
           ]
          },
          {
           "hoverinfo": "none",
           "marker": {
            "color": "rgb(255, 255, 255)",
            "line": {
             "color": "rgb(0, 0, 0)",
             "width": 2
            },
            "size": 20
           },
           "mode": "markers+text",
           "text": [
            "4"
           ],
           "textfont": {
            "color": "rgb(0, 0, 0)"
           },
           "textposition": "middle center",
           "x": [
            1
           ],
           "y": [
            1
           ]
          },
          {
           "hoverinfo": "none",
           "marker": {
            "color": "rgb(255, 255, 255)",
            "line": {
             "color": "rgb(0, 0, 0)",
             "width": 2
            },
            "size": 20
           },
           "mode": "markers+text",
           "text": [
            "7"
           ],
           "textfont": {
            "color": "rgb(0, 0, 0)"
           },
           "textposition": "middle center",
           "x": [
            0.5
           ],
           "y": [
            0
           ]
          },
          {
           "hoverinfo": "none",
           "marker": {
            "color": "rgb(255, 255, 255)",
            "line": {
             "color": "rgb(0, 0, 0)",
             "width": 2
            },
            "size": 20
           },
           "mode": "markers+text",
           "text": [
            "2"
           ],
           "textfont": {
            "color": "rgb(0, 0, 0)"
           },
           "textposition": "middle center",
           "x": [
            1
           ],
           "y": [
            0
           ]
          }
         ],
         "name": 18
        },
        {
         "data": [
          {
           "hoverinfo": "none",
           "line": {
            "color": "rgb(0, 0, 0)",
            "width": 2
           },
           "mode": "lines",
           "x": [
            0,
            0.5,
            null,
            0.46643085439538495,
            0.44538388103556675,
            null,
            0.46643085439538495,
            0.4285584341548651,
            null
           ],
           "y": [
            0.5,
            1,
            null,
            0.966430854395385,
            0.906182816233176,
            null,
            0.966430854395385,
            0.967759498957256,
            null
           ]
          },
          {
           "hoverinfo": "none",
           "line": {
            "color": "rgb(0, 0, 0)",
            "width": 2
           },
           "mode": "lines",
           "x": [
            0,
            0.5,
            null,
            0.46643085439538495,
            0.4285584341548651,
            null,
            0.46643085439538495,
            0.44538388103556675,
            null
           ],
           "y": [
            0.5,
            0,
            null,
            0.03356914560461503,
            0.032240501042743994,
            null,
            0.03356914560461503,
            0.09381718376682407,
            null
           ]
          },
          {
           "hoverinfo": "none",
           "line": {
            "color": "rgb(0, 0, 0)",
            "width": 2
           },
           "mode": "lines",
           "x": [
            0.5,
            1,
            null,
            0.9621212121212122,
            0.9288794484132434,
            null
           ],
           "y": [
            1.0144927536231885,
            1.0144927536231885,
            null,
            1.0144927536231885,
            1.049233734681464,
            null
           ]
          },
          {
           "hoverinfo": "none",
           "line": {
            "color": "rgb(0, 0, 0)",
            "width": 2
           },
           "mode": "lines",
           "x": [
            0.5,
            0.5,
            null,
            0.5,
            0.48183994171953776,
            null,
            0.5,
            0.5181600582804622,
            null
           ],
           "y": [
            1,
            0,
            null,
            0.07246376811594203,
            0.13605670738336034,
            null,
            0.07246376811594203,
            0.13605670738336034,
            null
           ]
          },
          {
           "hoverinfo": "none",
           "line": {
            "color": "rgb(0, 0, 0)",
            "width": 2
           },
           "mode": "lines",
           "x": [
            0.5,
            1,
            null,
            0.9738173240163878,
            0.9377166459078401,
            null,
            0.9738173240163878,
            0.9639630823912474,
            null
           ],
           "y": [
            1,
            0,
            null,
            0.052365351967224576,
            0.07430651885030926,
            null,
            0.052365351967224576,
            0.12233402455151593,
            null
           ]
          },
          {
           "hoverinfo": "none",
           "line": {
            "color": "rgb(0, 0, 0)",
            "width": 2
           },
           "mode": "lines",
           "x": [
            1,
            0.5,
            null,
            0.5378787878787878,
            0.5711205515867566,
            null
           ],
           "y": [
            0.9855072463768116,
            0.9855072463768116,
            null,
            0.9855072463768116,
            0.950766265318536,
            null
           ]
          },
          {
           "hoverinfo": "none",
           "line": {
            "color": "rgb(0, 0, 0)",
            "width": 2
           },
           "mode": "lines",
           "x": [
            0.5,
            1,
            null,
            0.9738173240163878,
            0.9639630823912474,
            null,
            0.9738173240163878,
            0.9377166459078401,
            null
           ],
           "y": [
            0,
            1,
            null,
            0.9476346480327754,
            0.8776659754484841,
            null,
            0.9476346480327754,
            0.9256934811496907,
            null
           ]
          },
          {
           "hoverinfo": "none",
           "line": {
            "color": "rgb(0, 0, 0)",
            "width": 2
           },
           "mode": "lines",
           "x": [
            0.5,
            1,
            null,
            0.9621212121212122,
            0.9288794484132434,
            null,
            0.9621212121212122,
            0.9288794484132434,
            null
           ],
           "y": [
            0,
            0,
            null,
            0,
            -0.03474098105827558,
            null,
            0,
            0.03474098105827558,
            null
           ]
          },
          {
           "hoverinfo": "none",
           "line": {
            "color": "rgb(255, 0, 0)",
            "width": 2
           },
           "mode": "lines",
           "x": [
            1,
            0,
            null,
            0.03664774299318793,
            0.07340128670201525,
            null,
            0.03664774299318793,
            0.06421703965128427,
            null
           ],
           "y": [
            0,
            0.5,
            null,
            0.481676128503406,
            0.4992073320037643,
            null,
            0.481676128503406,
            0.4319835048195859,
            null
           ]
          },
          {
           "hoverinfo": "none",
           "line": {
            "color": "rgb(0, 0, 0)",
            "width": 2
           },
           "mode": "lines",
           "x": [
            1,
            1,
            null,
            1,
            1.0181600582804622,
            null,
            1,
            0.9818399417195378,
            null
           ],
           "y": [
            0,
            1,
            null,
            0.927536231884058,
            0.8639432926166397,
            null,
            0.927536231884058,
            0.8639432926166397,
            null
           ]
          },
          {
           "hoverinfo": "none",
           "marker": {
            "color": "rgb(255, 255, 255)",
            "line": {
             "color": "rgb(0, 0, 0)",
             "width": 2
            },
            "size": 20
           },
           "mode": "markers+text",
           "text": [
            "0"
           ],
           "textfont": {
            "color": "rgb(0, 0, 0)"
           },
           "textposition": "middle center",
           "x": [
            0
           ],
           "y": [
            0.5
           ]
          },
          {
           "hoverinfo": "none",
           "marker": {
            "color": "rgb(255, 255, 255)",
            "line": {
             "color": "rgb(0, 0, 0)",
             "width": 2
            },
            "size": 20
           },
           "mode": "markers+text",
           "text": [
            "2"
           ],
           "textfont": {
            "color": "rgb(0, 0, 0)"
           },
           "textposition": "middle center",
           "x": [
            0.5
           ],
           "y": [
            1
           ]
          },
          {
           "hoverinfo": "none",
           "marker": {
            "color": "rgb(255, 255, 255)",
            "line": {
             "color": "rgb(0, 0, 0)",
             "width": 2
            },
            "size": 20
           },
           "mode": "markers+text",
           "text": [
            "4"
           ],
           "textfont": {
            "color": "rgb(0, 0, 0)"
           },
           "textposition": "middle center",
           "x": [
            1
           ],
           "y": [
            1
           ]
          },
          {
           "hoverinfo": "none",
           "marker": {
            "color": "rgb(255, 255, 255)",
            "line": {
             "color": "rgb(0, 0, 0)",
             "width": 2
            },
            "size": 20
           },
           "mode": "markers+text",
           "text": [
            "7"
           ],
           "textfont": {
            "color": "rgb(0, 0, 0)"
           },
           "textposition": "middle center",
           "x": [
            0.5
           ],
           "y": [
            0
           ]
          },
          {
           "hoverinfo": "none",
           "marker": {
            "color": "rgb(255, 255, 255)",
            "line": {
             "color": "rgb(0, 0, 0)",
             "width": 2
            },
            "size": 20
           },
           "mode": "markers+text",
           "text": [
            "2"
           ],
           "textfont": {
            "color": "rgb(0, 0, 0)"
           },
           "textposition": "middle center",
           "x": [
            1
           ],
           "y": [
            0
           ]
          }
         ],
         "name": 19
        },
        {
         "data": [
          {
           "hoverinfo": "none",
           "line": {
            "color": "rgb(0, 0, 0)",
            "width": 2
           },
           "mode": "lines",
           "x": [
            0,
            0.5,
            null,
            0.46643085439538495,
            0.44538388103556675,
            null,
            0.46643085439538495,
            0.4285584341548651,
            null
           ],
           "y": [
            0.5,
            1,
            null,
            0.966430854395385,
            0.906182816233176,
            null,
            0.966430854395385,
            0.967759498957256,
            null
           ]
          },
          {
           "hoverinfo": "none",
           "line": {
            "color": "rgb(0, 0, 0)",
            "width": 2
           },
           "mode": "lines",
           "x": [
            0,
            0.5,
            null,
            0.46643085439538495,
            0.4285584341548651,
            null,
            0.46643085439538495,
            0.44538388103556675,
            null
           ],
           "y": [
            0.5,
            0,
            null,
            0.03356914560461503,
            0.032240501042743994,
            null,
            0.03356914560461503,
            0.09381718376682407,
            null
           ]
          },
          {
           "hoverinfo": "none",
           "line": {
            "color": "rgb(0, 0, 0)",
            "width": 2
           },
           "mode": "lines",
           "x": [
            0.5,
            1,
            null,
            0.9621212121212122,
            0.9288794484132434,
            null
           ],
           "y": [
            1.0144927536231885,
            1.0144927536231885,
            null,
            1.0144927536231885,
            1.049233734681464,
            null
           ]
          },
          {
           "hoverinfo": "none",
           "line": {
            "color": "rgb(0, 0, 0)",
            "width": 2
           },
           "mode": "lines",
           "x": [
            0.5,
            0.5,
            null,
            0.5,
            0.48183994171953776,
            null,
            0.5,
            0.5181600582804622,
            null
           ],
           "y": [
            1,
            0,
            null,
            0.07246376811594203,
            0.13605670738336034,
            null,
            0.07246376811594203,
            0.13605670738336034,
            null
           ]
          },
          {
           "hoverinfo": "none",
           "line": {
            "color": "rgb(0, 0, 0)",
            "width": 2
           },
           "mode": "lines",
           "x": [
            0.5,
            1,
            null,
            0.9738173240163878,
            0.9377166459078401,
            null,
            0.9738173240163878,
            0.9639630823912474,
            null
           ],
           "y": [
            1,
            0,
            null,
            0.052365351967224576,
            0.07430651885030926,
            null,
            0.052365351967224576,
            0.12233402455151593,
            null
           ]
          },
          {
           "hoverinfo": "none",
           "line": {
            "color": "rgb(0, 0, 0)",
            "width": 2
           },
           "mode": "lines",
           "x": [
            1,
            0.5,
            null,
            0.5378787878787878,
            0.5711205515867566,
            null
           ],
           "y": [
            0.9855072463768116,
            0.9855072463768116,
            null,
            0.9855072463768116,
            0.950766265318536,
            null
           ]
          },
          {
           "hoverinfo": "none",
           "line": {
            "color": "rgb(0, 0, 0)",
            "width": 2
           },
           "mode": "lines",
           "x": [
            0.5,
            1,
            null,
            0.9738173240163878,
            0.9639630823912474,
            null,
            0.9738173240163878,
            0.9377166459078401,
            null
           ],
           "y": [
            0,
            1,
            null,
            0.9476346480327754,
            0.8776659754484841,
            null,
            0.9476346480327754,
            0.9256934811496907,
            null
           ]
          },
          {
           "hoverinfo": "none",
           "line": {
            "color": "rgb(0, 0, 0)",
            "width": 2
           },
           "mode": "lines",
           "x": [
            0.5,
            1,
            null,
            0.9621212121212122,
            0.9288794484132434,
            null,
            0.9621212121212122,
            0.9288794484132434,
            null
           ],
           "y": [
            0,
            0,
            null,
            0,
            -0.03474098105827558,
            null,
            0,
            0.03474098105827558,
            null
           ]
          },
          {
           "hoverinfo": "none",
           "line": {
            "color": "rgb(0, 0, 0)",
            "width": 2
           },
           "mode": "lines",
           "x": [
            1,
            0,
            null,
            0.03664774299318793,
            0.07340128670201525,
            null,
            0.03664774299318793,
            0.06421703965128427,
            null
           ],
           "y": [
            0,
            0.5,
            null,
            0.481676128503406,
            0.4992073320037643,
            null,
            0.481676128503406,
            0.4319835048195859,
            null
           ]
          },
          {
           "hoverinfo": "none",
           "line": {
            "color": "rgb(255, 0, 0)",
            "width": 2
           },
           "mode": "lines",
           "x": [
            1,
            1,
            null,
            1,
            1.0181600582804622,
            null,
            1,
            0.9818399417195378,
            null
           ],
           "y": [
            0,
            1,
            null,
            0.927536231884058,
            0.8639432926166397,
            null,
            0.927536231884058,
            0.8639432926166397,
            null
           ]
          },
          {
           "hoverinfo": "none",
           "marker": {
            "color": "rgb(255, 255, 255)",
            "line": {
             "color": "rgb(0, 0, 0)",
             "width": 2
            },
            "size": 20
           },
           "mode": "markers+text",
           "text": [
            "0"
           ],
           "textfont": {
            "color": "rgb(0, 0, 0)"
           },
           "textposition": "middle center",
           "x": [
            0
           ],
           "y": [
            0.5
           ]
          },
          {
           "hoverinfo": "none",
           "marker": {
            "color": "rgb(255, 255, 255)",
            "line": {
             "color": "rgb(0, 0, 0)",
             "width": 2
            },
            "size": 20
           },
           "mode": "markers+text",
           "text": [
            "2"
           ],
           "textfont": {
            "color": "rgb(0, 0, 0)"
           },
           "textposition": "middle center",
           "x": [
            0.5
           ],
           "y": [
            1
           ]
          },
          {
           "hoverinfo": "none",
           "marker": {
            "color": "rgb(255, 255, 255)",
            "line": {
             "color": "rgb(0, 0, 0)",
             "width": 2
            },
            "size": 20
           },
           "mode": "markers+text",
           "text": [
            "4"
           ],
           "textfont": {
            "color": "rgb(0, 0, 0)"
           },
           "textposition": "middle center",
           "x": [
            1
           ],
           "y": [
            1
           ]
          },
          {
           "hoverinfo": "none",
           "marker": {
            "color": "rgb(255, 255, 255)",
            "line": {
             "color": "rgb(0, 0, 0)",
             "width": 2
            },
            "size": 20
           },
           "mode": "markers+text",
           "text": [
            "7"
           ],
           "textfont": {
            "color": "rgb(0, 0, 0)"
           },
           "textposition": "middle center",
           "x": [
            0.5
           ],
           "y": [
            0
           ]
          },
          {
           "hoverinfo": "none",
           "marker": {
            "color": "rgb(255, 255, 255)",
            "line": {
             "color": "rgb(0, 0, 0)",
             "width": 2
            },
            "size": 20
           },
           "mode": "markers+text",
           "text": [
            "2"
           ],
           "textfont": {
            "color": "rgb(0, 0, 0)"
           },
           "textposition": "middle center",
           "x": [
            1
           ],
           "y": [
            0
           ]
          }
         ],
         "name": 20
        },
        {
         "data": [
          {
           "hoverinfo": "none",
           "line": {
            "color": "rgb(255, 0, 0)",
            "width": 2
           },
           "mode": "lines",
           "x": [
            0,
            0.5,
            null,
            0.46643085439538495,
            0.44538388103556675,
            null,
            0.46643085439538495,
            0.4285584341548651,
            null
           ],
           "y": [
            0.5,
            1,
            null,
            0.966430854395385,
            0.906182816233176,
            null,
            0.966430854395385,
            0.967759498957256,
            null
           ]
          },
          {
           "hoverinfo": "none",
           "line": {
            "color": "rgb(0, 0, 0)",
            "width": 2
           },
           "mode": "lines",
           "x": [
            0,
            0.5,
            null,
            0.46643085439538495,
            0.4285584341548651,
            null,
            0.46643085439538495,
            0.44538388103556675,
            null
           ],
           "y": [
            0.5,
            0,
            null,
            0.03356914560461503,
            0.032240501042743994,
            null,
            0.03356914560461503,
            0.09381718376682407,
            null
           ]
          },
          {
           "hoverinfo": "none",
           "line": {
            "color": "rgb(0, 0, 0)",
            "width": 2
           },
           "mode": "lines",
           "x": [
            0.5,
            1,
            null,
            0.9621212121212122,
            0.9288794484132434,
            null
           ],
           "y": [
            1.0144927536231885,
            1.0144927536231885,
            null,
            1.0144927536231885,
            1.049233734681464,
            null
           ]
          },
          {
           "hoverinfo": "none",
           "line": {
            "color": "rgb(0, 0, 0)",
            "width": 2
           },
           "mode": "lines",
           "x": [
            0.5,
            0.5,
            null,
            0.5,
            0.48183994171953776,
            null,
            0.5,
            0.5181600582804622,
            null
           ],
           "y": [
            1,
            0,
            null,
            0.07246376811594203,
            0.13605670738336034,
            null,
            0.07246376811594203,
            0.13605670738336034,
            null
           ]
          },
          {
           "hoverinfo": "none",
           "line": {
            "color": "rgb(0, 0, 0)",
            "width": 2
           },
           "mode": "lines",
           "x": [
            0.5,
            1,
            null,
            0.9738173240163878,
            0.9377166459078401,
            null,
            0.9738173240163878,
            0.9639630823912474,
            null
           ],
           "y": [
            1,
            0,
            null,
            0.052365351967224576,
            0.07430651885030926,
            null,
            0.052365351967224576,
            0.12233402455151593,
            null
           ]
          },
          {
           "hoverinfo": "none",
           "line": {
            "color": "rgb(0, 0, 0)",
            "width": 2
           },
           "mode": "lines",
           "x": [
            1,
            0.5,
            null,
            0.5378787878787878,
            0.5711205515867566,
            null
           ],
           "y": [
            0.9855072463768116,
            0.9855072463768116,
            null,
            0.9855072463768116,
            0.950766265318536,
            null
           ]
          },
          {
           "hoverinfo": "none",
           "line": {
            "color": "rgb(0, 0, 0)",
            "width": 2
           },
           "mode": "lines",
           "x": [
            0.5,
            1,
            null,
            0.9738173240163878,
            0.9639630823912474,
            null,
            0.9738173240163878,
            0.9377166459078401,
            null
           ],
           "y": [
            0,
            1,
            null,
            0.9476346480327754,
            0.8776659754484841,
            null,
            0.9476346480327754,
            0.9256934811496907,
            null
           ]
          },
          {
           "hoverinfo": "none",
           "line": {
            "color": "rgb(0, 0, 0)",
            "width": 2
           },
           "mode": "lines",
           "x": [
            0.5,
            1,
            null,
            0.9621212121212122,
            0.9288794484132434,
            null,
            0.9621212121212122,
            0.9288794484132434,
            null
           ],
           "y": [
            0,
            0,
            null,
            0,
            -0.03474098105827558,
            null,
            0,
            0.03474098105827558,
            null
           ]
          },
          {
           "hoverinfo": "none",
           "line": {
            "color": "rgb(0, 0, 0)",
            "width": 2
           },
           "mode": "lines",
           "x": [
            1,
            0,
            null,
            0.03664774299318793,
            0.07340128670201525,
            null,
            0.03664774299318793,
            0.06421703965128427,
            null
           ],
           "y": [
            0,
            0.5,
            null,
            0.481676128503406,
            0.4992073320037643,
            null,
            0.481676128503406,
            0.4319835048195859,
            null
           ]
          },
          {
           "hoverinfo": "none",
           "line": {
            "color": "rgb(0, 0, 0)",
            "width": 2
           },
           "mode": "lines",
           "x": [
            1,
            1,
            null,
            1,
            1.0181600582804622,
            null,
            1,
            0.9818399417195378,
            null
           ],
           "y": [
            0,
            1,
            null,
            0.927536231884058,
            0.8639432926166397,
            null,
            0.927536231884058,
            0.8639432926166397,
            null
           ]
          },
          {
           "hoverinfo": "none",
           "marker": {
            "color": "rgb(255, 255, 255)",
            "line": {
             "color": "rgb(0, 0, 0)",
             "width": 2
            },
            "size": 20
           },
           "mode": "markers+text",
           "text": [
            "0"
           ],
           "textfont": {
            "color": "rgb(0, 0, 0)"
           },
           "textposition": "middle center",
           "x": [
            0
           ],
           "y": [
            0.5
           ]
          },
          {
           "hoverinfo": "none",
           "marker": {
            "color": "rgb(255, 255, 255)",
            "line": {
             "color": "rgb(0, 0, 0)",
             "width": 2
            },
            "size": 20
           },
           "mode": "markers+text",
           "text": [
            "2"
           ],
           "textfont": {
            "color": "rgb(0, 0, 0)"
           },
           "textposition": "middle center",
           "x": [
            0.5
           ],
           "y": [
            1
           ]
          },
          {
           "hoverinfo": "none",
           "marker": {
            "color": "rgb(255, 255, 255)",
            "line": {
             "color": "rgb(0, 0, 0)",
             "width": 2
            },
            "size": 20
           },
           "mode": "markers+text",
           "text": [
            "4"
           ],
           "textfont": {
            "color": "rgb(0, 0, 0)"
           },
           "textposition": "middle center",
           "x": [
            1
           ],
           "y": [
            1
           ]
          },
          {
           "hoverinfo": "none",
           "marker": {
            "color": "rgb(255, 255, 255)",
            "line": {
             "color": "rgb(0, 0, 0)",
             "width": 2
            },
            "size": 20
           },
           "mode": "markers+text",
           "text": [
            "7"
           ],
           "textfont": {
            "color": "rgb(0, 0, 0)"
           },
           "textposition": "middle center",
           "x": [
            0.5
           ],
           "y": [
            0
           ]
          },
          {
           "hoverinfo": "none",
           "marker": {
            "color": "rgb(255, 255, 255)",
            "line": {
             "color": "rgb(0, 0, 0)",
             "width": 2
            },
            "size": 20
           },
           "mode": "markers+text",
           "text": [
            "2"
           ],
           "textfont": {
            "color": "rgb(0, 0, 0)"
           },
           "textposition": "middle center",
           "x": [
            1
           ],
           "y": [
            0
           ]
          }
         ],
         "name": 21
        },
        {
         "data": [
          {
           "hoverinfo": "none",
           "line": {
            "color": "rgb(0, 0, 0)",
            "width": 2
           },
           "mode": "lines",
           "x": [
            0,
            0.5,
            null,
            0.46643085439538495,
            0.44538388103556675,
            null,
            0.46643085439538495,
            0.4285584341548651,
            null
           ],
           "y": [
            0.5,
            1,
            null,
            0.966430854395385,
            0.906182816233176,
            null,
            0.966430854395385,
            0.967759498957256,
            null
           ]
          },
          {
           "hoverinfo": "none",
           "line": {
            "color": "rgb(255, 0, 0)",
            "width": 2
           },
           "mode": "lines",
           "x": [
            0,
            0.5,
            null,
            0.46643085439538495,
            0.4285584341548651,
            null,
            0.46643085439538495,
            0.44538388103556675,
            null
           ],
           "y": [
            0.5,
            0,
            null,
            0.03356914560461503,
            0.032240501042743994,
            null,
            0.03356914560461503,
            0.09381718376682407,
            null
           ]
          },
          {
           "hoverinfo": "none",
           "line": {
            "color": "rgb(0, 0, 0)",
            "width": 2
           },
           "mode": "lines",
           "x": [
            0.5,
            1,
            null,
            0.9621212121212122,
            0.9288794484132434,
            null
           ],
           "y": [
            1.0144927536231885,
            1.0144927536231885,
            null,
            1.0144927536231885,
            1.049233734681464,
            null
           ]
          },
          {
           "hoverinfo": "none",
           "line": {
            "color": "rgb(0, 0, 0)",
            "width": 2
           },
           "mode": "lines",
           "x": [
            0.5,
            0.5,
            null,
            0.5,
            0.48183994171953776,
            null,
            0.5,
            0.5181600582804622,
            null
           ],
           "y": [
            1,
            0,
            null,
            0.07246376811594203,
            0.13605670738336034,
            null,
            0.07246376811594203,
            0.13605670738336034,
            null
           ]
          },
          {
           "hoverinfo": "none",
           "line": {
            "color": "rgb(0, 0, 0)",
            "width": 2
           },
           "mode": "lines",
           "x": [
            0.5,
            1,
            null,
            0.9738173240163878,
            0.9377166459078401,
            null,
            0.9738173240163878,
            0.9639630823912474,
            null
           ],
           "y": [
            1,
            0,
            null,
            0.052365351967224576,
            0.07430651885030926,
            null,
            0.052365351967224576,
            0.12233402455151593,
            null
           ]
          },
          {
           "hoverinfo": "none",
           "line": {
            "color": "rgb(0, 0, 0)",
            "width": 2
           },
           "mode": "lines",
           "x": [
            1,
            0.5,
            null,
            0.5378787878787878,
            0.5711205515867566,
            null
           ],
           "y": [
            0.9855072463768116,
            0.9855072463768116,
            null,
            0.9855072463768116,
            0.950766265318536,
            null
           ]
          },
          {
           "hoverinfo": "none",
           "line": {
            "color": "rgb(0, 0, 0)",
            "width": 2
           },
           "mode": "lines",
           "x": [
            0.5,
            1,
            null,
            0.9738173240163878,
            0.9639630823912474,
            null,
            0.9738173240163878,
            0.9377166459078401,
            null
           ],
           "y": [
            0,
            1,
            null,
            0.9476346480327754,
            0.8776659754484841,
            null,
            0.9476346480327754,
            0.9256934811496907,
            null
           ]
          },
          {
           "hoverinfo": "none",
           "line": {
            "color": "rgb(0, 0, 0)",
            "width": 2
           },
           "mode": "lines",
           "x": [
            0.5,
            1,
            null,
            0.9621212121212122,
            0.9288794484132434,
            null,
            0.9621212121212122,
            0.9288794484132434,
            null
           ],
           "y": [
            0,
            0,
            null,
            0,
            -0.03474098105827558,
            null,
            0,
            0.03474098105827558,
            null
           ]
          },
          {
           "hoverinfo": "none",
           "line": {
            "color": "rgb(0, 0, 0)",
            "width": 2
           },
           "mode": "lines",
           "x": [
            1,
            0,
            null,
            0.03664774299318793,
            0.07340128670201525,
            null,
            0.03664774299318793,
            0.06421703965128427,
            null
           ],
           "y": [
            0,
            0.5,
            null,
            0.481676128503406,
            0.4992073320037643,
            null,
            0.481676128503406,
            0.4319835048195859,
            null
           ]
          },
          {
           "hoverinfo": "none",
           "line": {
            "color": "rgb(0, 0, 0)",
            "width": 2
           },
           "mode": "lines",
           "x": [
            1,
            1,
            null,
            1,
            1.0181600582804622,
            null,
            1,
            0.9818399417195378,
            null
           ],
           "y": [
            0,
            1,
            null,
            0.927536231884058,
            0.8639432926166397,
            null,
            0.927536231884058,
            0.8639432926166397,
            null
           ]
          },
          {
           "hoverinfo": "none",
           "marker": {
            "color": "rgb(255, 255, 255)",
            "line": {
             "color": "rgb(0, 0, 0)",
             "width": 2
            },
            "size": 20
           },
           "mode": "markers+text",
           "text": [
            "0"
           ],
           "textfont": {
            "color": "rgb(0, 0, 0)"
           },
           "textposition": "middle center",
           "x": [
            0
           ],
           "y": [
            0.5
           ]
          },
          {
           "hoverinfo": "none",
           "marker": {
            "color": "rgb(255, 255, 255)",
            "line": {
             "color": "rgb(0, 0, 0)",
             "width": 2
            },
            "size": 20
           },
           "mode": "markers+text",
           "text": [
            "2"
           ],
           "textfont": {
            "color": "rgb(0, 0, 0)"
           },
           "textposition": "middle center",
           "x": [
            0.5
           ],
           "y": [
            1
           ]
          },
          {
           "hoverinfo": "none",
           "marker": {
            "color": "rgb(255, 255, 255)",
            "line": {
             "color": "rgb(0, 0, 0)",
             "width": 2
            },
            "size": 20
           },
           "mode": "markers+text",
           "text": [
            "4"
           ],
           "textfont": {
            "color": "rgb(0, 0, 0)"
           },
           "textposition": "middle center",
           "x": [
            1
           ],
           "y": [
            1
           ]
          },
          {
           "hoverinfo": "none",
           "marker": {
            "color": "rgb(255, 255, 255)",
            "line": {
             "color": "rgb(0, 0, 0)",
             "width": 2
            },
            "size": 20
           },
           "mode": "markers+text",
           "text": [
            "7"
           ],
           "textfont": {
            "color": "rgb(0, 0, 0)"
           },
           "textposition": "middle center",
           "x": [
            0.5
           ],
           "y": [
            0
           ]
          },
          {
           "hoverinfo": "none",
           "marker": {
            "color": "rgb(255, 255, 255)",
            "line": {
             "color": "rgb(0, 0, 0)",
             "width": 2
            },
            "size": 20
           },
           "mode": "markers+text",
           "text": [
            "2"
           ],
           "textfont": {
            "color": "rgb(0, 0, 0)"
           },
           "textposition": "middle center",
           "x": [
            1
           ],
           "y": [
            0
           ]
          }
         ],
         "name": 22
        },
        {
         "data": [
          {
           "hoverinfo": "none",
           "line": {
            "color": "rgb(0, 0, 0)",
            "width": 2
           },
           "mode": "lines",
           "x": [
            0,
            0.5,
            null,
            0.46643085439538495,
            0.44538388103556675,
            null,
            0.46643085439538495,
            0.4285584341548651,
            null
           ],
           "y": [
            0.5,
            1,
            null,
            0.966430854395385,
            0.906182816233176,
            null,
            0.966430854395385,
            0.967759498957256,
            null
           ]
          },
          {
           "hoverinfo": "none",
           "line": {
            "color": "rgb(0, 0, 0)",
            "width": 2
           },
           "mode": "lines",
           "x": [
            0,
            0.5,
            null,
            0.46643085439538495,
            0.4285584341548651,
            null,
            0.46643085439538495,
            0.44538388103556675,
            null
           ],
           "y": [
            0.5,
            0,
            null,
            0.03356914560461503,
            0.032240501042743994,
            null,
            0.03356914560461503,
            0.09381718376682407,
            null
           ]
          },
          {
           "hoverinfo": "none",
           "line": {
            "color": "rgb(255, 0, 0)",
            "width": 2
           },
           "mode": "lines",
           "x": [
            0.5,
            1,
            null,
            0.9621212121212122,
            0.9288794484132434,
            null
           ],
           "y": [
            1.0144927536231885,
            1.0144927536231885,
            null,
            1.0144927536231885,
            1.049233734681464,
            null
           ]
          },
          {
           "hoverinfo": "none",
           "line": {
            "color": "rgb(0, 0, 0)",
            "width": 2
           },
           "mode": "lines",
           "x": [
            0.5,
            0.5,
            null,
            0.5,
            0.48183994171953776,
            null,
            0.5,
            0.5181600582804622,
            null
           ],
           "y": [
            1,
            0,
            null,
            0.07246376811594203,
            0.13605670738336034,
            null,
            0.07246376811594203,
            0.13605670738336034,
            null
           ]
          },
          {
           "hoverinfo": "none",
           "line": {
            "color": "rgb(0, 0, 0)",
            "width": 2
           },
           "mode": "lines",
           "x": [
            0.5,
            1,
            null,
            0.9738173240163878,
            0.9377166459078401,
            null,
            0.9738173240163878,
            0.9639630823912474,
            null
           ],
           "y": [
            1,
            0,
            null,
            0.052365351967224576,
            0.07430651885030926,
            null,
            0.052365351967224576,
            0.12233402455151593,
            null
           ]
          },
          {
           "hoverinfo": "none",
           "line": {
            "color": "rgb(0, 0, 0)",
            "width": 2
           },
           "mode": "lines",
           "x": [
            1,
            0.5,
            null,
            0.5378787878787878,
            0.5711205515867566,
            null
           ],
           "y": [
            0.9855072463768116,
            0.9855072463768116,
            null,
            0.9855072463768116,
            0.950766265318536,
            null
           ]
          },
          {
           "hoverinfo": "none",
           "line": {
            "color": "rgb(0, 0, 0)",
            "width": 2
           },
           "mode": "lines",
           "x": [
            0.5,
            1,
            null,
            0.9738173240163878,
            0.9639630823912474,
            null,
            0.9738173240163878,
            0.9377166459078401,
            null
           ],
           "y": [
            0,
            1,
            null,
            0.9476346480327754,
            0.8776659754484841,
            null,
            0.9476346480327754,
            0.9256934811496907,
            null
           ]
          },
          {
           "hoverinfo": "none",
           "line": {
            "color": "rgb(0, 0, 0)",
            "width": 2
           },
           "mode": "lines",
           "x": [
            0.5,
            1,
            null,
            0.9621212121212122,
            0.9288794484132434,
            null,
            0.9621212121212122,
            0.9288794484132434,
            null
           ],
           "y": [
            0,
            0,
            null,
            0,
            -0.03474098105827558,
            null,
            0,
            0.03474098105827558,
            null
           ]
          },
          {
           "hoverinfo": "none",
           "line": {
            "color": "rgb(0, 0, 0)",
            "width": 2
           },
           "mode": "lines",
           "x": [
            1,
            0,
            null,
            0.03664774299318793,
            0.07340128670201525,
            null,
            0.03664774299318793,
            0.06421703965128427,
            null
           ],
           "y": [
            0,
            0.5,
            null,
            0.481676128503406,
            0.4992073320037643,
            null,
            0.481676128503406,
            0.4319835048195859,
            null
           ]
          },
          {
           "hoverinfo": "none",
           "line": {
            "color": "rgb(0, 0, 0)",
            "width": 2
           },
           "mode": "lines",
           "x": [
            1,
            1,
            null,
            1,
            1.0181600582804622,
            null,
            1,
            0.9818399417195378,
            null
           ],
           "y": [
            0,
            1,
            null,
            0.927536231884058,
            0.8639432926166397,
            null,
            0.927536231884058,
            0.8639432926166397,
            null
           ]
          },
          {
           "hoverinfo": "none",
           "marker": {
            "color": "rgb(255, 255, 255)",
            "line": {
             "color": "rgb(0, 0, 0)",
             "width": 2
            },
            "size": 20
           },
           "mode": "markers+text",
           "text": [
            "0"
           ],
           "textfont": {
            "color": "rgb(0, 0, 0)"
           },
           "textposition": "middle center",
           "x": [
            0
           ],
           "y": [
            0.5
           ]
          },
          {
           "hoverinfo": "none",
           "marker": {
            "color": "rgb(255, 255, 255)",
            "line": {
             "color": "rgb(0, 0, 0)",
             "width": 2
            },
            "size": 20
           },
           "mode": "markers+text",
           "text": [
            "2"
           ],
           "textfont": {
            "color": "rgb(0, 0, 0)"
           },
           "textposition": "middle center",
           "x": [
            0.5
           ],
           "y": [
            1
           ]
          },
          {
           "hoverinfo": "none",
           "marker": {
            "color": "rgb(255, 255, 255)",
            "line": {
             "color": "rgb(0, 0, 0)",
             "width": 2
            },
            "size": 20
           },
           "mode": "markers+text",
           "text": [
            "4"
           ],
           "textfont": {
            "color": "rgb(0, 0, 0)"
           },
           "textposition": "middle center",
           "x": [
            1
           ],
           "y": [
            1
           ]
          },
          {
           "hoverinfo": "none",
           "marker": {
            "color": "rgb(255, 255, 255)",
            "line": {
             "color": "rgb(0, 0, 0)",
             "width": 2
            },
            "size": 20
           },
           "mode": "markers+text",
           "text": [
            "7"
           ],
           "textfont": {
            "color": "rgb(0, 0, 0)"
           },
           "textposition": "middle center",
           "x": [
            0.5
           ],
           "y": [
            0
           ]
          },
          {
           "hoverinfo": "none",
           "marker": {
            "color": "rgb(255, 255, 255)",
            "line": {
             "color": "rgb(0, 0, 0)",
             "width": 2
            },
            "size": 20
           },
           "mode": "markers+text",
           "text": [
            "2"
           ],
           "textfont": {
            "color": "rgb(0, 0, 0)"
           },
           "textposition": "middle center",
           "x": [
            1
           ],
           "y": [
            0
           ]
          }
         ],
         "name": 23
        },
        {
         "data": [
          {
           "hoverinfo": "none",
           "line": {
            "color": "rgb(0, 0, 0)",
            "width": 2
           },
           "mode": "lines",
           "x": [
            0,
            0.5,
            null,
            0.46643085439538495,
            0.44538388103556675,
            null,
            0.46643085439538495,
            0.4285584341548651,
            null
           ],
           "y": [
            0.5,
            1,
            null,
            0.966430854395385,
            0.906182816233176,
            null,
            0.966430854395385,
            0.967759498957256,
            null
           ]
          },
          {
           "hoverinfo": "none",
           "line": {
            "color": "rgb(0, 0, 0)",
            "width": 2
           },
           "mode": "lines",
           "x": [
            0,
            0.5,
            null,
            0.46643085439538495,
            0.4285584341548651,
            null,
            0.46643085439538495,
            0.44538388103556675,
            null
           ],
           "y": [
            0.5,
            0,
            null,
            0.03356914560461503,
            0.032240501042743994,
            null,
            0.03356914560461503,
            0.09381718376682407,
            null
           ]
          },
          {
           "hoverinfo": "none",
           "line": {
            "color": "rgb(0, 0, 0)",
            "width": 2
           },
           "mode": "lines",
           "x": [
            0.5,
            1,
            null,
            0.9621212121212122,
            0.9288794484132434,
            null
           ],
           "y": [
            1.0144927536231885,
            1.0144927536231885,
            null,
            1.0144927536231885,
            1.049233734681464,
            null
           ]
          },
          {
           "hoverinfo": "none",
           "line": {
            "color": "rgb(255, 0, 0)",
            "width": 2
           },
           "mode": "lines",
           "x": [
            0.5,
            0.5,
            null,
            0.5,
            0.48183994171953776,
            null,
            0.5,
            0.5181600582804622,
            null
           ],
           "y": [
            1,
            0,
            null,
            0.07246376811594203,
            0.13605670738336034,
            null,
            0.07246376811594203,
            0.13605670738336034,
            null
           ]
          },
          {
           "hoverinfo": "none",
           "line": {
            "color": "rgb(0, 0, 0)",
            "width": 2
           },
           "mode": "lines",
           "x": [
            0.5,
            1,
            null,
            0.9738173240163878,
            0.9377166459078401,
            null,
            0.9738173240163878,
            0.9639630823912474,
            null
           ],
           "y": [
            1,
            0,
            null,
            0.052365351967224576,
            0.07430651885030926,
            null,
            0.052365351967224576,
            0.12233402455151593,
            null
           ]
          },
          {
           "hoverinfo": "none",
           "line": {
            "color": "rgb(0, 0, 0)",
            "width": 2
           },
           "mode": "lines",
           "x": [
            1,
            0.5,
            null,
            0.5378787878787878,
            0.5711205515867566,
            null
           ],
           "y": [
            0.9855072463768116,
            0.9855072463768116,
            null,
            0.9855072463768116,
            0.950766265318536,
            null
           ]
          },
          {
           "hoverinfo": "none",
           "line": {
            "color": "rgb(0, 0, 0)",
            "width": 2
           },
           "mode": "lines",
           "x": [
            0.5,
            1,
            null,
            0.9738173240163878,
            0.9639630823912474,
            null,
            0.9738173240163878,
            0.9377166459078401,
            null
           ],
           "y": [
            0,
            1,
            null,
            0.9476346480327754,
            0.8776659754484841,
            null,
            0.9476346480327754,
            0.9256934811496907,
            null
           ]
          },
          {
           "hoverinfo": "none",
           "line": {
            "color": "rgb(0, 0, 0)",
            "width": 2
           },
           "mode": "lines",
           "x": [
            0.5,
            1,
            null,
            0.9621212121212122,
            0.9288794484132434,
            null,
            0.9621212121212122,
            0.9288794484132434,
            null
           ],
           "y": [
            0,
            0,
            null,
            0,
            -0.03474098105827558,
            null,
            0,
            0.03474098105827558,
            null
           ]
          },
          {
           "hoverinfo": "none",
           "line": {
            "color": "rgb(0, 0, 0)",
            "width": 2
           },
           "mode": "lines",
           "x": [
            1,
            0,
            null,
            0.03664774299318793,
            0.07340128670201525,
            null,
            0.03664774299318793,
            0.06421703965128427,
            null
           ],
           "y": [
            0,
            0.5,
            null,
            0.481676128503406,
            0.4992073320037643,
            null,
            0.481676128503406,
            0.4319835048195859,
            null
           ]
          },
          {
           "hoverinfo": "none",
           "line": {
            "color": "rgb(0, 0, 0)",
            "width": 2
           },
           "mode": "lines",
           "x": [
            1,
            1,
            null,
            1,
            1.0181600582804622,
            null,
            1,
            0.9818399417195378,
            null
           ],
           "y": [
            0,
            1,
            null,
            0.927536231884058,
            0.8639432926166397,
            null,
            0.927536231884058,
            0.8639432926166397,
            null
           ]
          },
          {
           "hoverinfo": "none",
           "marker": {
            "color": "rgb(255, 255, 255)",
            "line": {
             "color": "rgb(0, 0, 0)",
             "width": 2
            },
            "size": 20
           },
           "mode": "markers+text",
           "text": [
            "0"
           ],
           "textfont": {
            "color": "rgb(0, 0, 0)"
           },
           "textposition": "middle center",
           "x": [
            0
           ],
           "y": [
            0.5
           ]
          },
          {
           "hoverinfo": "none",
           "marker": {
            "color": "rgb(255, 255, 255)",
            "line": {
             "color": "rgb(0, 0, 0)",
             "width": 2
            },
            "size": 20
           },
           "mode": "markers+text",
           "text": [
            "2"
           ],
           "textfont": {
            "color": "rgb(0, 0, 0)"
           },
           "textposition": "middle center",
           "x": [
            0.5
           ],
           "y": [
            1
           ]
          },
          {
           "hoverinfo": "none",
           "marker": {
            "color": "rgb(255, 255, 255)",
            "line": {
             "color": "rgb(0, 0, 0)",
             "width": 2
            },
            "size": 20
           },
           "mode": "markers+text",
           "text": [
            "4"
           ],
           "textfont": {
            "color": "rgb(0, 0, 0)"
           },
           "textposition": "middle center",
           "x": [
            1
           ],
           "y": [
            1
           ]
          },
          {
           "hoverinfo": "none",
           "marker": {
            "color": "rgb(255, 255, 255)",
            "line": {
             "color": "rgb(0, 0, 0)",
             "width": 2
            },
            "size": 20
           },
           "mode": "markers+text",
           "text": [
            "7"
           ],
           "textfont": {
            "color": "rgb(0, 0, 0)"
           },
           "textposition": "middle center",
           "x": [
            0.5
           ],
           "y": [
            0
           ]
          },
          {
           "hoverinfo": "none",
           "marker": {
            "color": "rgb(255, 255, 255)",
            "line": {
             "color": "rgb(0, 0, 0)",
             "width": 2
            },
            "size": 20
           },
           "mode": "markers+text",
           "text": [
            "2"
           ],
           "textfont": {
            "color": "rgb(0, 0, 0)"
           },
           "textposition": "middle center",
           "x": [
            1
           ],
           "y": [
            0
           ]
          }
         ],
         "name": 24
        },
        {
         "data": [
          {
           "hoverinfo": "none",
           "line": {
            "color": "rgb(0, 0, 0)",
            "width": 2
           },
           "mode": "lines",
           "x": [
            0,
            0.5,
            null,
            0.46643085439538495,
            0.44538388103556675,
            null,
            0.46643085439538495,
            0.4285584341548651,
            null
           ],
           "y": [
            0.5,
            1,
            null,
            0.966430854395385,
            0.906182816233176,
            null,
            0.966430854395385,
            0.967759498957256,
            null
           ]
          },
          {
           "hoverinfo": "none",
           "line": {
            "color": "rgb(0, 0, 0)",
            "width": 2
           },
           "mode": "lines",
           "x": [
            0,
            0.5,
            null,
            0.46643085439538495,
            0.4285584341548651,
            null,
            0.46643085439538495,
            0.44538388103556675,
            null
           ],
           "y": [
            0.5,
            0,
            null,
            0.03356914560461503,
            0.032240501042743994,
            null,
            0.03356914560461503,
            0.09381718376682407,
            null
           ]
          },
          {
           "hoverinfo": "none",
           "line": {
            "color": "rgb(0, 0, 0)",
            "width": 2
           },
           "mode": "lines",
           "x": [
            0.5,
            1,
            null,
            0.9621212121212122,
            0.9288794484132434,
            null
           ],
           "y": [
            1.0144927536231885,
            1.0144927536231885,
            null,
            1.0144927536231885,
            1.049233734681464,
            null
           ]
          },
          {
           "hoverinfo": "none",
           "line": {
            "color": "rgb(0, 0, 0)",
            "width": 2
           },
           "mode": "lines",
           "x": [
            0.5,
            0.5,
            null,
            0.5,
            0.48183994171953776,
            null,
            0.5,
            0.5181600582804622,
            null
           ],
           "y": [
            1,
            0,
            null,
            0.07246376811594203,
            0.13605670738336034,
            null,
            0.07246376811594203,
            0.13605670738336034,
            null
           ]
          },
          {
           "hoverinfo": "none",
           "line": {
            "color": "rgb(0, 255, 0)",
            "width": 2
           },
           "mode": "lines",
           "x": [
            0.5,
            1,
            null,
            0.9738173240163878,
            0.9377166459078401,
            null,
            0.9738173240163878,
            0.9639630823912474,
            null
           ],
           "y": [
            1,
            0,
            null,
            0.052365351967224576,
            0.07430651885030926,
            null,
            0.052365351967224576,
            0.12233402455151593,
            null
           ]
          },
          {
           "hoverinfo": "none",
           "line": {
            "color": "rgb(0, 0, 0)",
            "width": 2
           },
           "mode": "lines",
           "x": [
            1,
            0.5,
            null,
            0.5378787878787878,
            0.5711205515867566,
            null
           ],
           "y": [
            0.9855072463768116,
            0.9855072463768116,
            null,
            0.9855072463768116,
            0.950766265318536,
            null
           ]
          },
          {
           "hoverinfo": "none",
           "line": {
            "color": "rgb(0, 0, 0)",
            "width": 2
           },
           "mode": "lines",
           "x": [
            0.5,
            1,
            null,
            0.9738173240163878,
            0.9639630823912474,
            null,
            0.9738173240163878,
            0.9377166459078401,
            null
           ],
           "y": [
            0,
            1,
            null,
            0.9476346480327754,
            0.8776659754484841,
            null,
            0.9476346480327754,
            0.9256934811496907,
            null
           ]
          },
          {
           "hoverinfo": "none",
           "line": {
            "color": "rgb(0, 0, 0)",
            "width": 2
           },
           "mode": "lines",
           "x": [
            0.5,
            1,
            null,
            0.9621212121212122,
            0.9288794484132434,
            null,
            0.9621212121212122,
            0.9288794484132434,
            null
           ],
           "y": [
            0,
            0,
            null,
            0,
            -0.03474098105827558,
            null,
            0,
            0.03474098105827558,
            null
           ]
          },
          {
           "hoverinfo": "none",
           "line": {
            "color": "rgb(0, 0, 0)",
            "width": 2
           },
           "mode": "lines",
           "x": [
            1,
            0,
            null,
            0.03664774299318793,
            0.07340128670201525,
            null,
            0.03664774299318793,
            0.06421703965128427,
            null
           ],
           "y": [
            0,
            0.5,
            null,
            0.481676128503406,
            0.4992073320037643,
            null,
            0.481676128503406,
            0.4319835048195859,
            null
           ]
          },
          {
           "hoverinfo": "none",
           "line": {
            "color": "rgb(0, 0, 0)",
            "width": 2
           },
           "mode": "lines",
           "x": [
            1,
            1,
            null,
            1,
            1.0181600582804622,
            null,
            1,
            0.9818399417195378,
            null
           ],
           "y": [
            0,
            1,
            null,
            0.927536231884058,
            0.8639432926166397,
            null,
            0.927536231884058,
            0.8639432926166397,
            null
           ]
          },
          {
           "hoverinfo": "none",
           "marker": {
            "color": "rgb(255, 255, 255)",
            "line": {
             "color": "rgb(0, 0, 0)",
             "width": 2
            },
            "size": 20
           },
           "mode": "markers+text",
           "text": [
            "0"
           ],
           "textfont": {
            "color": "rgb(0, 0, 0)"
           },
           "textposition": "middle center",
           "x": [
            0
           ],
           "y": [
            0.5
           ]
          },
          {
           "hoverinfo": "none",
           "marker": {
            "color": "rgb(255, 255, 255)",
            "line": {
             "color": "rgb(0, 0, 0)",
             "width": 2
            },
            "size": 20
           },
           "mode": "markers+text",
           "text": [
            "2"
           ],
           "textfont": {
            "color": "rgb(0, 0, 0)"
           },
           "textposition": "middle center",
           "x": [
            0.5
           ],
           "y": [
            1
           ]
          },
          {
           "hoverinfo": "none",
           "marker": {
            "color": "rgb(255, 255, 255)",
            "line": {
             "color": "rgb(0, 0, 0)",
             "width": 2
            },
            "size": 20
           },
           "mode": "markers+text",
           "text": [
            "4"
           ],
           "textfont": {
            "color": "rgb(0, 0, 0)"
           },
           "textposition": "middle center",
           "x": [
            1
           ],
           "y": [
            1
           ]
          },
          {
           "hoverinfo": "none",
           "marker": {
            "color": "rgb(255, 255, 255)",
            "line": {
             "color": "rgb(0, 0, 0)",
             "width": 2
            },
            "size": 20
           },
           "mode": "markers+text",
           "text": [
            "7"
           ],
           "textfont": {
            "color": "rgb(0, 0, 0)"
           },
           "textposition": "middle center",
           "x": [
            0.5
           ],
           "y": [
            0
           ]
          },
          {
           "hoverinfo": "none",
           "marker": {
            "color": "rgb(255, 255, 255)",
            "line": {
             "color": "rgb(0, 0, 0)",
             "width": 2
            },
            "size": 20
           },
           "mode": "markers+text",
           "text": [
            "-2"
           ],
           "textfont": {
            "color": "rgb(0, 0, 0)"
           },
           "textposition": "middle center",
           "x": [
            1
           ],
           "y": [
            0
           ]
          }
         ],
         "name": 25
        },
        {
         "data": [
          {
           "hoverinfo": "none",
           "line": {
            "color": "rgb(0, 0, 0)",
            "width": 2
           },
           "mode": "lines",
           "x": [
            0,
            0.5,
            null,
            0.46643085439538495,
            0.44538388103556675,
            null,
            0.46643085439538495,
            0.4285584341548651,
            null
           ],
           "y": [
            0.5,
            1,
            null,
            0.966430854395385,
            0.906182816233176,
            null,
            0.966430854395385,
            0.967759498957256,
            null
           ]
          },
          {
           "hoverinfo": "none",
           "line": {
            "color": "rgb(0, 0, 0)",
            "width": 2
           },
           "mode": "lines",
           "x": [
            0,
            0.5,
            null,
            0.46643085439538495,
            0.4285584341548651,
            null,
            0.46643085439538495,
            0.44538388103556675,
            null
           ],
           "y": [
            0.5,
            0,
            null,
            0.03356914560461503,
            0.032240501042743994,
            null,
            0.03356914560461503,
            0.09381718376682407,
            null
           ]
          },
          {
           "hoverinfo": "none",
           "line": {
            "color": "rgb(0, 0, 0)",
            "width": 2
           },
           "mode": "lines",
           "x": [
            0.5,
            1,
            null,
            0.9621212121212122,
            0.9288794484132434,
            null
           ],
           "y": [
            1.0144927536231885,
            1.0144927536231885,
            null,
            1.0144927536231885,
            1.049233734681464,
            null
           ]
          },
          {
           "hoverinfo": "none",
           "line": {
            "color": "rgb(0, 0, 0)",
            "width": 2
           },
           "mode": "lines",
           "x": [
            0.5,
            0.5,
            null,
            0.5,
            0.48183994171953776,
            null,
            0.5,
            0.5181600582804622,
            null
           ],
           "y": [
            1,
            0,
            null,
            0.07246376811594203,
            0.13605670738336034,
            null,
            0.07246376811594203,
            0.13605670738336034,
            null
           ]
          },
          {
           "hoverinfo": "none",
           "line": {
            "color": "rgb(0, 0, 0)",
            "width": 2
           },
           "mode": "lines",
           "x": [
            0.5,
            1,
            null,
            0.9738173240163878,
            0.9377166459078401,
            null,
            0.9738173240163878,
            0.9639630823912474,
            null
           ],
           "y": [
            1,
            0,
            null,
            0.052365351967224576,
            0.07430651885030926,
            null,
            0.052365351967224576,
            0.12233402455151593,
            null
           ]
          },
          {
           "hoverinfo": "none",
           "line": {
            "color": "rgb(255, 0, 0)",
            "width": 2
           },
           "mode": "lines",
           "x": [
            1,
            0.5,
            null,
            0.5378787878787878,
            0.5711205515867566,
            null
           ],
           "y": [
            0.9855072463768116,
            0.9855072463768116,
            null,
            0.9855072463768116,
            0.950766265318536,
            null
           ]
          },
          {
           "hoverinfo": "none",
           "line": {
            "color": "rgb(0, 0, 0)",
            "width": 2
           },
           "mode": "lines",
           "x": [
            0.5,
            1,
            null,
            0.9738173240163878,
            0.9639630823912474,
            null,
            0.9738173240163878,
            0.9377166459078401,
            null
           ],
           "y": [
            0,
            1,
            null,
            0.9476346480327754,
            0.8776659754484841,
            null,
            0.9476346480327754,
            0.9256934811496907,
            null
           ]
          },
          {
           "hoverinfo": "none",
           "line": {
            "color": "rgb(0, 0, 0)",
            "width": 2
           },
           "mode": "lines",
           "x": [
            0.5,
            1,
            null,
            0.9621212121212122,
            0.9288794484132434,
            null,
            0.9621212121212122,
            0.9288794484132434,
            null
           ],
           "y": [
            0,
            0,
            null,
            0,
            -0.03474098105827558,
            null,
            0,
            0.03474098105827558,
            null
           ]
          },
          {
           "hoverinfo": "none",
           "line": {
            "color": "rgb(0, 0, 0)",
            "width": 2
           },
           "mode": "lines",
           "x": [
            1,
            0,
            null,
            0.03664774299318793,
            0.07340128670201525,
            null,
            0.03664774299318793,
            0.06421703965128427,
            null
           ],
           "y": [
            0,
            0.5,
            null,
            0.481676128503406,
            0.4992073320037643,
            null,
            0.481676128503406,
            0.4319835048195859,
            null
           ]
          },
          {
           "hoverinfo": "none",
           "line": {
            "color": "rgb(0, 0, 0)",
            "width": 2
           },
           "mode": "lines",
           "x": [
            1,
            1,
            null,
            1,
            1.0181600582804622,
            null,
            1,
            0.9818399417195378,
            null
           ],
           "y": [
            0,
            1,
            null,
            0.927536231884058,
            0.8639432926166397,
            null,
            0.927536231884058,
            0.8639432926166397,
            null
           ]
          },
          {
           "hoverinfo": "none",
           "marker": {
            "color": "rgb(255, 255, 255)",
            "line": {
             "color": "rgb(0, 0, 0)",
             "width": 2
            },
            "size": 20
           },
           "mode": "markers+text",
           "text": [
            "0"
           ],
           "textfont": {
            "color": "rgb(0, 0, 0)"
           },
           "textposition": "middle center",
           "x": [
            0
           ],
           "y": [
            0.5
           ]
          },
          {
           "hoverinfo": "none",
           "marker": {
            "color": "rgb(255, 255, 255)",
            "line": {
             "color": "rgb(0, 0, 0)",
             "width": 2
            },
            "size": 20
           },
           "mode": "markers+text",
           "text": [
            "2"
           ],
           "textfont": {
            "color": "rgb(0, 0, 0)"
           },
           "textposition": "middle center",
           "x": [
            0.5
           ],
           "y": [
            1
           ]
          },
          {
           "hoverinfo": "none",
           "marker": {
            "color": "rgb(255, 255, 255)",
            "line": {
             "color": "rgb(0, 0, 0)",
             "width": 2
            },
            "size": 20
           },
           "mode": "markers+text",
           "text": [
            "4"
           ],
           "textfont": {
            "color": "rgb(0, 0, 0)"
           },
           "textposition": "middle center",
           "x": [
            1
           ],
           "y": [
            1
           ]
          },
          {
           "hoverinfo": "none",
           "marker": {
            "color": "rgb(255, 255, 255)",
            "line": {
             "color": "rgb(0, 0, 0)",
             "width": 2
            },
            "size": 20
           },
           "mode": "markers+text",
           "text": [
            "7"
           ],
           "textfont": {
            "color": "rgb(0, 0, 0)"
           },
           "textposition": "middle center",
           "x": [
            0.5
           ],
           "y": [
            0
           ]
          },
          {
           "hoverinfo": "none",
           "marker": {
            "color": "rgb(255, 255, 255)",
            "line": {
             "color": "rgb(0, 0, 0)",
             "width": 2
            },
            "size": 20
           },
           "mode": "markers+text",
           "text": [
            "-2"
           ],
           "textfont": {
            "color": "rgb(0, 0, 0)"
           },
           "textposition": "middle center",
           "x": [
            1
           ],
           "y": [
            0
           ]
          }
         ],
         "name": 26
        },
        {
         "data": [
          {
           "hoverinfo": "none",
           "line": {
            "color": "rgb(0, 0, 0)",
            "width": 2
           },
           "mode": "lines",
           "x": [
            0,
            0.5,
            null,
            0.46643085439538495,
            0.44538388103556675,
            null,
            0.46643085439538495,
            0.4285584341548651,
            null
           ],
           "y": [
            0.5,
            1,
            null,
            0.966430854395385,
            0.906182816233176,
            null,
            0.966430854395385,
            0.967759498957256,
            null
           ]
          },
          {
           "hoverinfo": "none",
           "line": {
            "color": "rgb(0, 0, 0)",
            "width": 2
           },
           "mode": "lines",
           "x": [
            0,
            0.5,
            null,
            0.46643085439538495,
            0.4285584341548651,
            null,
            0.46643085439538495,
            0.44538388103556675,
            null
           ],
           "y": [
            0.5,
            0,
            null,
            0.03356914560461503,
            0.032240501042743994,
            null,
            0.03356914560461503,
            0.09381718376682407,
            null
           ]
          },
          {
           "hoverinfo": "none",
           "line": {
            "color": "rgb(0, 0, 0)",
            "width": 2
           },
           "mode": "lines",
           "x": [
            0.5,
            1,
            null,
            0.9621212121212122,
            0.9288794484132434,
            null
           ],
           "y": [
            1.0144927536231885,
            1.0144927536231885,
            null,
            1.0144927536231885,
            1.049233734681464,
            null
           ]
          },
          {
           "hoverinfo": "none",
           "line": {
            "color": "rgb(0, 0, 0)",
            "width": 2
           },
           "mode": "lines",
           "x": [
            0.5,
            0.5,
            null,
            0.5,
            0.48183994171953776,
            null,
            0.5,
            0.5181600582804622,
            null
           ],
           "y": [
            1,
            0,
            null,
            0.07246376811594203,
            0.13605670738336034,
            null,
            0.07246376811594203,
            0.13605670738336034,
            null
           ]
          },
          {
           "hoverinfo": "none",
           "line": {
            "color": "rgb(0, 0, 0)",
            "width": 2
           },
           "mode": "lines",
           "x": [
            0.5,
            1,
            null,
            0.9738173240163878,
            0.9377166459078401,
            null,
            0.9738173240163878,
            0.9639630823912474,
            null
           ],
           "y": [
            1,
            0,
            null,
            0.052365351967224576,
            0.07430651885030926,
            null,
            0.052365351967224576,
            0.12233402455151593,
            null
           ]
          },
          {
           "hoverinfo": "none",
           "line": {
            "color": "rgb(0, 0, 0)",
            "width": 2
           },
           "mode": "lines",
           "x": [
            1,
            0.5,
            null,
            0.5378787878787878,
            0.5711205515867566,
            null
           ],
           "y": [
            0.9855072463768116,
            0.9855072463768116,
            null,
            0.9855072463768116,
            0.950766265318536,
            null
           ]
          },
          {
           "hoverinfo": "none",
           "line": {
            "color": "rgb(255, 0, 0)",
            "width": 2
           },
           "mode": "lines",
           "x": [
            0.5,
            1,
            null,
            0.9738173240163878,
            0.9639630823912474,
            null,
            0.9738173240163878,
            0.9377166459078401,
            null
           ],
           "y": [
            0,
            1,
            null,
            0.9476346480327754,
            0.8776659754484841,
            null,
            0.9476346480327754,
            0.9256934811496907,
            null
           ]
          },
          {
           "hoverinfo": "none",
           "line": {
            "color": "rgb(0, 0, 0)",
            "width": 2
           },
           "mode": "lines",
           "x": [
            0.5,
            1,
            null,
            0.9621212121212122,
            0.9288794484132434,
            null,
            0.9621212121212122,
            0.9288794484132434,
            null
           ],
           "y": [
            0,
            0,
            null,
            0,
            -0.03474098105827558,
            null,
            0,
            0.03474098105827558,
            null
           ]
          },
          {
           "hoverinfo": "none",
           "line": {
            "color": "rgb(0, 0, 0)",
            "width": 2
           },
           "mode": "lines",
           "x": [
            1,
            0,
            null,
            0.03664774299318793,
            0.07340128670201525,
            null,
            0.03664774299318793,
            0.06421703965128427,
            null
           ],
           "y": [
            0,
            0.5,
            null,
            0.481676128503406,
            0.4992073320037643,
            null,
            0.481676128503406,
            0.4319835048195859,
            null
           ]
          },
          {
           "hoverinfo": "none",
           "line": {
            "color": "rgb(0, 0, 0)",
            "width": 2
           },
           "mode": "lines",
           "x": [
            1,
            1,
            null,
            1,
            1.0181600582804622,
            null,
            1,
            0.9818399417195378,
            null
           ],
           "y": [
            0,
            1,
            null,
            0.927536231884058,
            0.8639432926166397,
            null,
            0.927536231884058,
            0.8639432926166397,
            null
           ]
          },
          {
           "hoverinfo": "none",
           "marker": {
            "color": "rgb(255, 255, 255)",
            "line": {
             "color": "rgb(0, 0, 0)",
             "width": 2
            },
            "size": 20
           },
           "mode": "markers+text",
           "text": [
            "0"
           ],
           "textfont": {
            "color": "rgb(0, 0, 0)"
           },
           "textposition": "middle center",
           "x": [
            0
           ],
           "y": [
            0.5
           ]
          },
          {
           "hoverinfo": "none",
           "marker": {
            "color": "rgb(255, 255, 255)",
            "line": {
             "color": "rgb(0, 0, 0)",
             "width": 2
            },
            "size": 20
           },
           "mode": "markers+text",
           "text": [
            "2"
           ],
           "textfont": {
            "color": "rgb(0, 0, 0)"
           },
           "textposition": "middle center",
           "x": [
            0.5
           ],
           "y": [
            1
           ]
          },
          {
           "hoverinfo": "none",
           "marker": {
            "color": "rgb(255, 255, 255)",
            "line": {
             "color": "rgb(0, 0, 0)",
             "width": 2
            },
            "size": 20
           },
           "mode": "markers+text",
           "text": [
            "4"
           ],
           "textfont": {
            "color": "rgb(0, 0, 0)"
           },
           "textposition": "middle center",
           "x": [
            1
           ],
           "y": [
            1
           ]
          },
          {
           "hoverinfo": "none",
           "marker": {
            "color": "rgb(255, 255, 255)",
            "line": {
             "color": "rgb(0, 0, 0)",
             "width": 2
            },
            "size": 20
           },
           "mode": "markers+text",
           "text": [
            "7"
           ],
           "textfont": {
            "color": "rgb(0, 0, 0)"
           },
           "textposition": "middle center",
           "x": [
            0.5
           ],
           "y": [
            0
           ]
          },
          {
           "hoverinfo": "none",
           "marker": {
            "color": "rgb(255, 255, 255)",
            "line": {
             "color": "rgb(0, 0, 0)",
             "width": 2
            },
            "size": 20
           },
           "mode": "markers+text",
           "text": [
            "-2"
           ],
           "textfont": {
            "color": "rgb(0, 0, 0)"
           },
           "textposition": "middle center",
           "x": [
            1
           ],
           "y": [
            0
           ]
          }
         ],
         "name": 27
        },
        {
         "data": [
          {
           "hoverinfo": "none",
           "line": {
            "color": "rgb(0, 0, 0)",
            "width": 2
           },
           "mode": "lines",
           "x": [
            0,
            0.5,
            null,
            0.46643085439538495,
            0.44538388103556675,
            null,
            0.46643085439538495,
            0.4285584341548651,
            null
           ],
           "y": [
            0.5,
            1,
            null,
            0.966430854395385,
            0.906182816233176,
            null,
            0.966430854395385,
            0.967759498957256,
            null
           ]
          },
          {
           "hoverinfo": "none",
           "line": {
            "color": "rgb(0, 0, 0)",
            "width": 2
           },
           "mode": "lines",
           "x": [
            0,
            0.5,
            null,
            0.46643085439538495,
            0.4285584341548651,
            null,
            0.46643085439538495,
            0.44538388103556675,
            null
           ],
           "y": [
            0.5,
            0,
            null,
            0.03356914560461503,
            0.032240501042743994,
            null,
            0.03356914560461503,
            0.09381718376682407,
            null
           ]
          },
          {
           "hoverinfo": "none",
           "line": {
            "color": "rgb(0, 0, 0)",
            "width": 2
           },
           "mode": "lines",
           "x": [
            0.5,
            1,
            null,
            0.9621212121212122,
            0.9288794484132434,
            null
           ],
           "y": [
            1.0144927536231885,
            1.0144927536231885,
            null,
            1.0144927536231885,
            1.049233734681464,
            null
           ]
          },
          {
           "hoverinfo": "none",
           "line": {
            "color": "rgb(0, 0, 0)",
            "width": 2
           },
           "mode": "lines",
           "x": [
            0.5,
            0.5,
            null,
            0.5,
            0.48183994171953776,
            null,
            0.5,
            0.5181600582804622,
            null
           ],
           "y": [
            1,
            0,
            null,
            0.07246376811594203,
            0.13605670738336034,
            null,
            0.07246376811594203,
            0.13605670738336034,
            null
           ]
          },
          {
           "hoverinfo": "none",
           "line": {
            "color": "rgb(0, 0, 0)",
            "width": 2
           },
           "mode": "lines",
           "x": [
            0.5,
            1,
            null,
            0.9738173240163878,
            0.9377166459078401,
            null,
            0.9738173240163878,
            0.9639630823912474,
            null
           ],
           "y": [
            1,
            0,
            null,
            0.052365351967224576,
            0.07430651885030926,
            null,
            0.052365351967224576,
            0.12233402455151593,
            null
           ]
          },
          {
           "hoverinfo": "none",
           "line": {
            "color": "rgb(0, 0, 0)",
            "width": 2
           },
           "mode": "lines",
           "x": [
            1,
            0.5,
            null,
            0.5378787878787878,
            0.5711205515867566,
            null
           ],
           "y": [
            0.9855072463768116,
            0.9855072463768116,
            null,
            0.9855072463768116,
            0.950766265318536,
            null
           ]
          },
          {
           "hoverinfo": "none",
           "line": {
            "color": "rgb(0, 0, 0)",
            "width": 2
           },
           "mode": "lines",
           "x": [
            0.5,
            1,
            null,
            0.9738173240163878,
            0.9639630823912474,
            null,
            0.9738173240163878,
            0.9377166459078401,
            null
           ],
           "y": [
            0,
            1,
            null,
            0.9476346480327754,
            0.8776659754484841,
            null,
            0.9476346480327754,
            0.9256934811496907,
            null
           ]
          },
          {
           "hoverinfo": "none",
           "line": {
            "color": "rgb(255, 0, 0)",
            "width": 2
           },
           "mode": "lines",
           "x": [
            0.5,
            1,
            null,
            0.9621212121212122,
            0.9288794484132434,
            null,
            0.9621212121212122,
            0.9288794484132434,
            null
           ],
           "y": [
            0,
            0,
            null,
            0,
            -0.03474098105827558,
            null,
            0,
            0.03474098105827558,
            null
           ]
          },
          {
           "hoverinfo": "none",
           "line": {
            "color": "rgb(0, 0, 0)",
            "width": 2
           },
           "mode": "lines",
           "x": [
            1,
            0,
            null,
            0.03664774299318793,
            0.07340128670201525,
            null,
            0.03664774299318793,
            0.06421703965128427,
            null
           ],
           "y": [
            0,
            0.5,
            null,
            0.481676128503406,
            0.4992073320037643,
            null,
            0.481676128503406,
            0.4319835048195859,
            null
           ]
          },
          {
           "hoverinfo": "none",
           "line": {
            "color": "rgb(0, 0, 0)",
            "width": 2
           },
           "mode": "lines",
           "x": [
            1,
            1,
            null,
            1,
            1.0181600582804622,
            null,
            1,
            0.9818399417195378,
            null
           ],
           "y": [
            0,
            1,
            null,
            0.927536231884058,
            0.8639432926166397,
            null,
            0.927536231884058,
            0.8639432926166397,
            null
           ]
          },
          {
           "hoverinfo": "none",
           "marker": {
            "color": "rgb(255, 255, 255)",
            "line": {
             "color": "rgb(0, 0, 0)",
             "width": 2
            },
            "size": 20
           },
           "mode": "markers+text",
           "text": [
            "0"
           ],
           "textfont": {
            "color": "rgb(0, 0, 0)"
           },
           "textposition": "middle center",
           "x": [
            0
           ],
           "y": [
            0.5
           ]
          },
          {
           "hoverinfo": "none",
           "marker": {
            "color": "rgb(255, 255, 255)",
            "line": {
             "color": "rgb(0, 0, 0)",
             "width": 2
            },
            "size": 20
           },
           "mode": "markers+text",
           "text": [
            "2"
           ],
           "textfont": {
            "color": "rgb(0, 0, 0)"
           },
           "textposition": "middle center",
           "x": [
            0.5
           ],
           "y": [
            1
           ]
          },
          {
           "hoverinfo": "none",
           "marker": {
            "color": "rgb(255, 255, 255)",
            "line": {
             "color": "rgb(0, 0, 0)",
             "width": 2
            },
            "size": 20
           },
           "mode": "markers+text",
           "text": [
            "4"
           ],
           "textfont": {
            "color": "rgb(0, 0, 0)"
           },
           "textposition": "middle center",
           "x": [
            1
           ],
           "y": [
            1
           ]
          },
          {
           "hoverinfo": "none",
           "marker": {
            "color": "rgb(255, 255, 255)",
            "line": {
             "color": "rgb(0, 0, 0)",
             "width": 2
            },
            "size": 20
           },
           "mode": "markers+text",
           "text": [
            "7"
           ],
           "textfont": {
            "color": "rgb(0, 0, 0)"
           },
           "textposition": "middle center",
           "x": [
            0.5
           ],
           "y": [
            0
           ]
          },
          {
           "hoverinfo": "none",
           "marker": {
            "color": "rgb(255, 255, 255)",
            "line": {
             "color": "rgb(0, 0, 0)",
             "width": 2
            },
            "size": 20
           },
           "mode": "markers+text",
           "text": [
            "-2"
           ],
           "textfont": {
            "color": "rgb(0, 0, 0)"
           },
           "textposition": "middle center",
           "x": [
            1
           ],
           "y": [
            0
           ]
          }
         ],
         "name": 28
        },
        {
         "data": [
          {
           "hoverinfo": "none",
           "line": {
            "color": "rgb(0, 0, 0)",
            "width": 2
           },
           "mode": "lines",
           "x": [
            0,
            0.5,
            null,
            0.46643085439538495,
            0.44538388103556675,
            null,
            0.46643085439538495,
            0.4285584341548651,
            null
           ],
           "y": [
            0.5,
            1,
            null,
            0.966430854395385,
            0.906182816233176,
            null,
            0.966430854395385,
            0.967759498957256,
            null
           ]
          },
          {
           "hoverinfo": "none",
           "line": {
            "color": "rgb(0, 0, 0)",
            "width": 2
           },
           "mode": "lines",
           "x": [
            0,
            0.5,
            null,
            0.46643085439538495,
            0.4285584341548651,
            null,
            0.46643085439538495,
            0.44538388103556675,
            null
           ],
           "y": [
            0.5,
            0,
            null,
            0.03356914560461503,
            0.032240501042743994,
            null,
            0.03356914560461503,
            0.09381718376682407,
            null
           ]
          },
          {
           "hoverinfo": "none",
           "line": {
            "color": "rgb(0, 0, 0)",
            "width": 2
           },
           "mode": "lines",
           "x": [
            0.5,
            1,
            null,
            0.9621212121212122,
            0.9288794484132434,
            null
           ],
           "y": [
            1.0144927536231885,
            1.0144927536231885,
            null,
            1.0144927536231885,
            1.049233734681464,
            null
           ]
          },
          {
           "hoverinfo": "none",
           "line": {
            "color": "rgb(0, 0, 0)",
            "width": 2
           },
           "mode": "lines",
           "x": [
            0.5,
            0.5,
            null,
            0.5,
            0.48183994171953776,
            null,
            0.5,
            0.5181600582804622,
            null
           ],
           "y": [
            1,
            0,
            null,
            0.07246376811594203,
            0.13605670738336034,
            null,
            0.07246376811594203,
            0.13605670738336034,
            null
           ]
          },
          {
           "hoverinfo": "none",
           "line": {
            "color": "rgb(0, 0, 0)",
            "width": 2
           },
           "mode": "lines",
           "x": [
            0.5,
            1,
            null,
            0.9738173240163878,
            0.9377166459078401,
            null,
            0.9738173240163878,
            0.9639630823912474,
            null
           ],
           "y": [
            1,
            0,
            null,
            0.052365351967224576,
            0.07430651885030926,
            null,
            0.052365351967224576,
            0.12233402455151593,
            null
           ]
          },
          {
           "hoverinfo": "none",
           "line": {
            "color": "rgb(0, 0, 0)",
            "width": 2
           },
           "mode": "lines",
           "x": [
            1,
            0.5,
            null,
            0.5378787878787878,
            0.5711205515867566,
            null
           ],
           "y": [
            0.9855072463768116,
            0.9855072463768116,
            null,
            0.9855072463768116,
            0.950766265318536,
            null
           ]
          },
          {
           "hoverinfo": "none",
           "line": {
            "color": "rgb(0, 0, 0)",
            "width": 2
           },
           "mode": "lines",
           "x": [
            0.5,
            1,
            null,
            0.9738173240163878,
            0.9639630823912474,
            null,
            0.9738173240163878,
            0.9377166459078401,
            null
           ],
           "y": [
            0,
            1,
            null,
            0.9476346480327754,
            0.8776659754484841,
            null,
            0.9476346480327754,
            0.9256934811496907,
            null
           ]
          },
          {
           "hoverinfo": "none",
           "line": {
            "color": "rgb(0, 0, 0)",
            "width": 2
           },
           "mode": "lines",
           "x": [
            0.5,
            1,
            null,
            0.9621212121212122,
            0.9288794484132434,
            null,
            0.9621212121212122,
            0.9288794484132434,
            null
           ],
           "y": [
            0,
            0,
            null,
            0,
            -0.03474098105827558,
            null,
            0,
            0.03474098105827558,
            null
           ]
          },
          {
           "hoverinfo": "none",
           "line": {
            "color": "rgb(255, 0, 0)",
            "width": 2
           },
           "mode": "lines",
           "x": [
            1,
            0,
            null,
            0.03664774299318793,
            0.07340128670201525,
            null,
            0.03664774299318793,
            0.06421703965128427,
            null
           ],
           "y": [
            0,
            0.5,
            null,
            0.481676128503406,
            0.4992073320037643,
            null,
            0.481676128503406,
            0.4319835048195859,
            null
           ]
          },
          {
           "hoverinfo": "none",
           "line": {
            "color": "rgb(0, 0, 0)",
            "width": 2
           },
           "mode": "lines",
           "x": [
            1,
            1,
            null,
            1,
            1.0181600582804622,
            null,
            1,
            0.9818399417195378,
            null
           ],
           "y": [
            0,
            1,
            null,
            0.927536231884058,
            0.8639432926166397,
            null,
            0.927536231884058,
            0.8639432926166397,
            null
           ]
          },
          {
           "hoverinfo": "none",
           "marker": {
            "color": "rgb(255, 255, 255)",
            "line": {
             "color": "rgb(0, 0, 0)",
             "width": 2
            },
            "size": 20
           },
           "mode": "markers+text",
           "text": [
            "0"
           ],
           "textfont": {
            "color": "rgb(0, 0, 0)"
           },
           "textposition": "middle center",
           "x": [
            0
           ],
           "y": [
            0.5
           ]
          },
          {
           "hoverinfo": "none",
           "marker": {
            "color": "rgb(255, 255, 255)",
            "line": {
             "color": "rgb(0, 0, 0)",
             "width": 2
            },
            "size": 20
           },
           "mode": "markers+text",
           "text": [
            "2"
           ],
           "textfont": {
            "color": "rgb(0, 0, 0)"
           },
           "textposition": "middle center",
           "x": [
            0.5
           ],
           "y": [
            1
           ]
          },
          {
           "hoverinfo": "none",
           "marker": {
            "color": "rgb(255, 255, 255)",
            "line": {
             "color": "rgb(0, 0, 0)",
             "width": 2
            },
            "size": 20
           },
           "mode": "markers+text",
           "text": [
            "4"
           ],
           "textfont": {
            "color": "rgb(0, 0, 0)"
           },
           "textposition": "middle center",
           "x": [
            1
           ],
           "y": [
            1
           ]
          },
          {
           "hoverinfo": "none",
           "marker": {
            "color": "rgb(255, 255, 255)",
            "line": {
             "color": "rgb(0, 0, 0)",
             "width": 2
            },
            "size": 20
           },
           "mode": "markers+text",
           "text": [
            "7"
           ],
           "textfont": {
            "color": "rgb(0, 0, 0)"
           },
           "textposition": "middle center",
           "x": [
            0.5
           ],
           "y": [
            0
           ]
          },
          {
           "hoverinfo": "none",
           "marker": {
            "color": "rgb(255, 255, 255)",
            "line": {
             "color": "rgb(0, 0, 0)",
             "width": 2
            },
            "size": 20
           },
           "mode": "markers+text",
           "text": [
            "-2"
           ],
           "textfont": {
            "color": "rgb(0, 0, 0)"
           },
           "textposition": "middle center",
           "x": [
            1
           ],
           "y": [
            0
           ]
          }
         ],
         "name": 29
        },
        {
         "data": [
          {
           "hoverinfo": "none",
           "line": {
            "color": "rgb(0, 0, 0)",
            "width": 2
           },
           "mode": "lines",
           "x": [
            0,
            0.5,
            null,
            0.46643085439538495,
            0.44538388103556675,
            null,
            0.46643085439538495,
            0.4285584341548651,
            null
           ],
           "y": [
            0.5,
            1,
            null,
            0.966430854395385,
            0.906182816233176,
            null,
            0.966430854395385,
            0.967759498957256,
            null
           ]
          },
          {
           "hoverinfo": "none",
           "line": {
            "color": "rgb(0, 0, 0)",
            "width": 2
           },
           "mode": "lines",
           "x": [
            0,
            0.5,
            null,
            0.46643085439538495,
            0.4285584341548651,
            null,
            0.46643085439538495,
            0.44538388103556675,
            null
           ],
           "y": [
            0.5,
            0,
            null,
            0.03356914560461503,
            0.032240501042743994,
            null,
            0.03356914560461503,
            0.09381718376682407,
            null
           ]
          },
          {
           "hoverinfo": "none",
           "line": {
            "color": "rgb(0, 0, 0)",
            "width": 2
           },
           "mode": "lines",
           "x": [
            0.5,
            1,
            null,
            0.9621212121212122,
            0.9288794484132434,
            null
           ],
           "y": [
            1.0144927536231885,
            1.0144927536231885,
            null,
            1.0144927536231885,
            1.049233734681464,
            null
           ]
          },
          {
           "hoverinfo": "none",
           "line": {
            "color": "rgb(0, 0, 0)",
            "width": 2
           },
           "mode": "lines",
           "x": [
            0.5,
            0.5,
            null,
            0.5,
            0.48183994171953776,
            null,
            0.5,
            0.5181600582804622,
            null
           ],
           "y": [
            1,
            0,
            null,
            0.07246376811594203,
            0.13605670738336034,
            null,
            0.07246376811594203,
            0.13605670738336034,
            null
           ]
          },
          {
           "hoverinfo": "none",
           "line": {
            "color": "rgb(0, 0, 0)",
            "width": 2
           },
           "mode": "lines",
           "x": [
            0.5,
            1,
            null,
            0.9738173240163878,
            0.9377166459078401,
            null,
            0.9738173240163878,
            0.9639630823912474,
            null
           ],
           "y": [
            1,
            0,
            null,
            0.052365351967224576,
            0.07430651885030926,
            null,
            0.052365351967224576,
            0.12233402455151593,
            null
           ]
          },
          {
           "hoverinfo": "none",
           "line": {
            "color": "rgb(0, 0, 0)",
            "width": 2
           },
           "mode": "lines",
           "x": [
            1,
            0.5,
            null,
            0.5378787878787878,
            0.5711205515867566,
            null
           ],
           "y": [
            0.9855072463768116,
            0.9855072463768116,
            null,
            0.9855072463768116,
            0.950766265318536,
            null
           ]
          },
          {
           "hoverinfo": "none",
           "line": {
            "color": "rgb(0, 0, 0)",
            "width": 2
           },
           "mode": "lines",
           "x": [
            0.5,
            1,
            null,
            0.9738173240163878,
            0.9639630823912474,
            null,
            0.9738173240163878,
            0.9377166459078401,
            null
           ],
           "y": [
            0,
            1,
            null,
            0.9476346480327754,
            0.8776659754484841,
            null,
            0.9476346480327754,
            0.9256934811496907,
            null
           ]
          },
          {
           "hoverinfo": "none",
           "line": {
            "color": "rgb(0, 0, 0)",
            "width": 2
           },
           "mode": "lines",
           "x": [
            0.5,
            1,
            null,
            0.9621212121212122,
            0.9288794484132434,
            null,
            0.9621212121212122,
            0.9288794484132434,
            null
           ],
           "y": [
            0,
            0,
            null,
            0,
            -0.03474098105827558,
            null,
            0,
            0.03474098105827558,
            null
           ]
          },
          {
           "hoverinfo": "none",
           "line": {
            "color": "rgb(0, 0, 0)",
            "width": 2
           },
           "mode": "lines",
           "x": [
            1,
            0,
            null,
            0.03664774299318793,
            0.07340128670201525,
            null,
            0.03664774299318793,
            0.06421703965128427,
            null
           ],
           "y": [
            0,
            0.5,
            null,
            0.481676128503406,
            0.4992073320037643,
            null,
            0.481676128503406,
            0.4319835048195859,
            null
           ]
          },
          {
           "hoverinfo": "none",
           "line": {
            "color": "rgb(255, 0, 0)",
            "width": 2
           },
           "mode": "lines",
           "x": [
            1,
            1,
            null,
            1,
            1.0181600582804622,
            null,
            1,
            0.9818399417195378,
            null
           ],
           "y": [
            0,
            1,
            null,
            0.927536231884058,
            0.8639432926166397,
            null,
            0.927536231884058,
            0.8639432926166397,
            null
           ]
          },
          {
           "hoverinfo": "none",
           "marker": {
            "color": "rgb(255, 255, 255)",
            "line": {
             "color": "rgb(0, 0, 0)",
             "width": 2
            },
            "size": 20
           },
           "mode": "markers+text",
           "text": [
            "0"
           ],
           "textfont": {
            "color": "rgb(0, 0, 0)"
           },
           "textposition": "middle center",
           "x": [
            0
           ],
           "y": [
            0.5
           ]
          },
          {
           "hoverinfo": "none",
           "marker": {
            "color": "rgb(255, 255, 255)",
            "line": {
             "color": "rgb(0, 0, 0)",
             "width": 2
            },
            "size": 20
           },
           "mode": "markers+text",
           "text": [
            "2"
           ],
           "textfont": {
            "color": "rgb(0, 0, 0)"
           },
           "textposition": "middle center",
           "x": [
            0.5
           ],
           "y": [
            1
           ]
          },
          {
           "hoverinfo": "none",
           "marker": {
            "color": "rgb(255, 255, 255)",
            "line": {
             "color": "rgb(0, 0, 0)",
             "width": 2
            },
            "size": 20
           },
           "mode": "markers+text",
           "text": [
            "4"
           ],
           "textfont": {
            "color": "rgb(0, 0, 0)"
           },
           "textposition": "middle center",
           "x": [
            1
           ],
           "y": [
            1
           ]
          },
          {
           "hoverinfo": "none",
           "marker": {
            "color": "rgb(255, 255, 255)",
            "line": {
             "color": "rgb(0, 0, 0)",
             "width": 2
            },
            "size": 20
           },
           "mode": "markers+text",
           "text": [
            "7"
           ],
           "textfont": {
            "color": "rgb(0, 0, 0)"
           },
           "textposition": "middle center",
           "x": [
            0.5
           ],
           "y": [
            0
           ]
          },
          {
           "hoverinfo": "none",
           "marker": {
            "color": "rgb(255, 255, 255)",
            "line": {
             "color": "rgb(0, 0, 0)",
             "width": 2
            },
            "size": 20
           },
           "mode": "markers+text",
           "text": [
            "-2"
           ],
           "textfont": {
            "color": "rgb(0, 0, 0)"
           },
           "textposition": "middle center",
           "x": [
            1
           ],
           "y": [
            0
           ]
          }
         ],
         "name": 30
        },
        {
         "data": [
          {
           "hoverinfo": "none",
           "line": {
            "color": "rgb(255, 0, 0)",
            "width": 2
           },
           "mode": "lines",
           "x": [
            0,
            0.5,
            null,
            0.46643085439538495,
            0.44538388103556675,
            null,
            0.46643085439538495,
            0.4285584341548651,
            null
           ],
           "y": [
            0.5,
            1,
            null,
            0.966430854395385,
            0.906182816233176,
            null,
            0.966430854395385,
            0.967759498957256,
            null
           ]
          },
          {
           "hoverinfo": "none",
           "line": {
            "color": "rgb(0, 0, 0)",
            "width": 2
           },
           "mode": "lines",
           "x": [
            0,
            0.5,
            null,
            0.46643085439538495,
            0.4285584341548651,
            null,
            0.46643085439538495,
            0.44538388103556675,
            null
           ],
           "y": [
            0.5,
            0,
            null,
            0.03356914560461503,
            0.032240501042743994,
            null,
            0.03356914560461503,
            0.09381718376682407,
            null
           ]
          },
          {
           "hoverinfo": "none",
           "line": {
            "color": "rgb(0, 0, 0)",
            "width": 2
           },
           "mode": "lines",
           "x": [
            0.5,
            1,
            null,
            0.9621212121212122,
            0.9288794484132434,
            null
           ],
           "y": [
            1.0144927536231885,
            1.0144927536231885,
            null,
            1.0144927536231885,
            1.049233734681464,
            null
           ]
          },
          {
           "hoverinfo": "none",
           "line": {
            "color": "rgb(0, 0, 0)",
            "width": 2
           },
           "mode": "lines",
           "x": [
            0.5,
            0.5,
            null,
            0.5,
            0.48183994171953776,
            null,
            0.5,
            0.5181600582804622,
            null
           ],
           "y": [
            1,
            0,
            null,
            0.07246376811594203,
            0.13605670738336034,
            null,
            0.07246376811594203,
            0.13605670738336034,
            null
           ]
          },
          {
           "hoverinfo": "none",
           "line": {
            "color": "rgb(0, 0, 0)",
            "width": 2
           },
           "mode": "lines",
           "x": [
            0.5,
            1,
            null,
            0.9738173240163878,
            0.9377166459078401,
            null,
            0.9738173240163878,
            0.9639630823912474,
            null
           ],
           "y": [
            1,
            0,
            null,
            0.052365351967224576,
            0.07430651885030926,
            null,
            0.052365351967224576,
            0.12233402455151593,
            null
           ]
          },
          {
           "hoverinfo": "none",
           "line": {
            "color": "rgb(0, 0, 0)",
            "width": 2
           },
           "mode": "lines",
           "x": [
            1,
            0.5,
            null,
            0.5378787878787878,
            0.5711205515867566,
            null
           ],
           "y": [
            0.9855072463768116,
            0.9855072463768116,
            null,
            0.9855072463768116,
            0.950766265318536,
            null
           ]
          },
          {
           "hoverinfo": "none",
           "line": {
            "color": "rgb(0, 0, 0)",
            "width": 2
           },
           "mode": "lines",
           "x": [
            0.5,
            1,
            null,
            0.9738173240163878,
            0.9639630823912474,
            null,
            0.9738173240163878,
            0.9377166459078401,
            null
           ],
           "y": [
            0,
            1,
            null,
            0.9476346480327754,
            0.8776659754484841,
            null,
            0.9476346480327754,
            0.9256934811496907,
            null
           ]
          },
          {
           "hoverinfo": "none",
           "line": {
            "color": "rgb(0, 0, 0)",
            "width": 2
           },
           "mode": "lines",
           "x": [
            0.5,
            1,
            null,
            0.9621212121212122,
            0.9288794484132434,
            null,
            0.9621212121212122,
            0.9288794484132434,
            null
           ],
           "y": [
            0,
            0,
            null,
            0,
            -0.03474098105827558,
            null,
            0,
            0.03474098105827558,
            null
           ]
          },
          {
           "hoverinfo": "none",
           "line": {
            "color": "rgb(0, 0, 0)",
            "width": 2
           },
           "mode": "lines",
           "x": [
            1,
            0,
            null,
            0.03664774299318793,
            0.07340128670201525,
            null,
            0.03664774299318793,
            0.06421703965128427,
            null
           ],
           "y": [
            0,
            0.5,
            null,
            0.481676128503406,
            0.4992073320037643,
            null,
            0.481676128503406,
            0.4319835048195859,
            null
           ]
          },
          {
           "hoverinfo": "none",
           "line": {
            "color": "rgb(0, 0, 0)",
            "width": 2
           },
           "mode": "lines",
           "x": [
            1,
            1,
            null,
            1,
            1.0181600582804622,
            null,
            1,
            0.9818399417195378,
            null
           ],
           "y": [
            0,
            1,
            null,
            0.927536231884058,
            0.8639432926166397,
            null,
            0.927536231884058,
            0.8639432926166397,
            null
           ]
          },
          {
           "hoverinfo": "none",
           "marker": {
            "color": "rgb(255, 255, 255)",
            "line": {
             "color": "rgb(0, 0, 0)",
             "width": 2
            },
            "size": 20
           },
           "mode": "markers+text",
           "text": [
            "0"
           ],
           "textfont": {
            "color": "rgb(0, 0, 0)"
           },
           "textposition": "middle center",
           "x": [
            0
           ],
           "y": [
            0.5
           ]
          },
          {
           "hoverinfo": "none",
           "marker": {
            "color": "rgb(255, 255, 255)",
            "line": {
             "color": "rgb(0, 0, 0)",
             "width": 2
            },
            "size": 20
           },
           "mode": "markers+text",
           "text": [
            "2"
           ],
           "textfont": {
            "color": "rgb(0, 0, 0)"
           },
           "textposition": "middle center",
           "x": [
            0.5
           ],
           "y": [
            1
           ]
          },
          {
           "hoverinfo": "none",
           "marker": {
            "color": "rgb(255, 255, 255)",
            "line": {
             "color": "rgb(0, 0, 0)",
             "width": 2
            },
            "size": 20
           },
           "mode": "markers+text",
           "text": [
            "4"
           ],
           "textfont": {
            "color": "rgb(0, 0, 0)"
           },
           "textposition": "middle center",
           "x": [
            1
           ],
           "y": [
            1
           ]
          },
          {
           "hoverinfo": "none",
           "marker": {
            "color": "rgb(255, 255, 255)",
            "line": {
             "color": "rgb(0, 0, 0)",
             "width": 2
            },
            "size": 20
           },
           "mode": "markers+text",
           "text": [
            "7"
           ],
           "textfont": {
            "color": "rgb(0, 0, 0)"
           },
           "textposition": "middle center",
           "x": [
            0.5
           ],
           "y": [
            0
           ]
          },
          {
           "hoverinfo": "none",
           "marker": {
            "color": "rgb(255, 255, 255)",
            "line": {
             "color": "rgb(0, 0, 0)",
             "width": 2
            },
            "size": 20
           },
           "mode": "markers+text",
           "text": [
            "-2"
           ],
           "textfont": {
            "color": "rgb(0, 0, 0)"
           },
           "textposition": "middle center",
           "x": [
            1
           ],
           "y": [
            0
           ]
          }
         ],
         "name": 31
        },
        {
         "data": [
          {
           "hoverinfo": "none",
           "line": {
            "color": "rgb(0, 0, 0)",
            "width": 2
           },
           "mode": "lines",
           "x": [
            0,
            0.5,
            null,
            0.46643085439538495,
            0.44538388103556675,
            null,
            0.46643085439538495,
            0.4285584341548651,
            null
           ],
           "y": [
            0.5,
            1,
            null,
            0.966430854395385,
            0.906182816233176,
            null,
            0.966430854395385,
            0.967759498957256,
            null
           ]
          },
          {
           "hoverinfo": "none",
           "line": {
            "color": "rgb(255, 0, 0)",
            "width": 2
           },
           "mode": "lines",
           "x": [
            0,
            0.5,
            null,
            0.46643085439538495,
            0.4285584341548651,
            null,
            0.46643085439538495,
            0.44538388103556675,
            null
           ],
           "y": [
            0.5,
            0,
            null,
            0.03356914560461503,
            0.032240501042743994,
            null,
            0.03356914560461503,
            0.09381718376682407,
            null
           ]
          },
          {
           "hoverinfo": "none",
           "line": {
            "color": "rgb(0, 0, 0)",
            "width": 2
           },
           "mode": "lines",
           "x": [
            0.5,
            1,
            null,
            0.9621212121212122,
            0.9288794484132434,
            null
           ],
           "y": [
            1.0144927536231885,
            1.0144927536231885,
            null,
            1.0144927536231885,
            1.049233734681464,
            null
           ]
          },
          {
           "hoverinfo": "none",
           "line": {
            "color": "rgb(0, 0, 0)",
            "width": 2
           },
           "mode": "lines",
           "x": [
            0.5,
            0.5,
            null,
            0.5,
            0.48183994171953776,
            null,
            0.5,
            0.5181600582804622,
            null
           ],
           "y": [
            1,
            0,
            null,
            0.07246376811594203,
            0.13605670738336034,
            null,
            0.07246376811594203,
            0.13605670738336034,
            null
           ]
          },
          {
           "hoverinfo": "none",
           "line": {
            "color": "rgb(0, 0, 0)",
            "width": 2
           },
           "mode": "lines",
           "x": [
            0.5,
            1,
            null,
            0.9738173240163878,
            0.9377166459078401,
            null,
            0.9738173240163878,
            0.9639630823912474,
            null
           ],
           "y": [
            1,
            0,
            null,
            0.052365351967224576,
            0.07430651885030926,
            null,
            0.052365351967224576,
            0.12233402455151593,
            null
           ]
          },
          {
           "hoverinfo": "none",
           "line": {
            "color": "rgb(0, 0, 0)",
            "width": 2
           },
           "mode": "lines",
           "x": [
            1,
            0.5,
            null,
            0.5378787878787878,
            0.5711205515867566,
            null
           ],
           "y": [
            0.9855072463768116,
            0.9855072463768116,
            null,
            0.9855072463768116,
            0.950766265318536,
            null
           ]
          },
          {
           "hoverinfo": "none",
           "line": {
            "color": "rgb(0, 0, 0)",
            "width": 2
           },
           "mode": "lines",
           "x": [
            0.5,
            1,
            null,
            0.9738173240163878,
            0.9639630823912474,
            null,
            0.9738173240163878,
            0.9377166459078401,
            null
           ],
           "y": [
            0,
            1,
            null,
            0.9476346480327754,
            0.8776659754484841,
            null,
            0.9476346480327754,
            0.9256934811496907,
            null
           ]
          },
          {
           "hoverinfo": "none",
           "line": {
            "color": "rgb(0, 0, 0)",
            "width": 2
           },
           "mode": "lines",
           "x": [
            0.5,
            1,
            null,
            0.9621212121212122,
            0.9288794484132434,
            null,
            0.9621212121212122,
            0.9288794484132434,
            null
           ],
           "y": [
            0,
            0,
            null,
            0,
            -0.03474098105827558,
            null,
            0,
            0.03474098105827558,
            null
           ]
          },
          {
           "hoverinfo": "none",
           "line": {
            "color": "rgb(0, 0, 0)",
            "width": 2
           },
           "mode": "lines",
           "x": [
            1,
            0,
            null,
            0.03664774299318793,
            0.07340128670201525,
            null,
            0.03664774299318793,
            0.06421703965128427,
            null
           ],
           "y": [
            0,
            0.5,
            null,
            0.481676128503406,
            0.4992073320037643,
            null,
            0.481676128503406,
            0.4319835048195859,
            null
           ]
          },
          {
           "hoverinfo": "none",
           "line": {
            "color": "rgb(0, 0, 0)",
            "width": 2
           },
           "mode": "lines",
           "x": [
            1,
            1,
            null,
            1,
            1.0181600582804622,
            null,
            1,
            0.9818399417195378,
            null
           ],
           "y": [
            0,
            1,
            null,
            0.927536231884058,
            0.8639432926166397,
            null,
            0.927536231884058,
            0.8639432926166397,
            null
           ]
          },
          {
           "hoverinfo": "none",
           "marker": {
            "color": "rgb(255, 255, 255)",
            "line": {
             "color": "rgb(0, 0, 0)",
             "width": 2
            },
            "size": 20
           },
           "mode": "markers+text",
           "text": [
            "0"
           ],
           "textfont": {
            "color": "rgb(0, 0, 0)"
           },
           "textposition": "middle center",
           "x": [
            0
           ],
           "y": [
            0.5
           ]
          },
          {
           "hoverinfo": "none",
           "marker": {
            "color": "rgb(255, 255, 255)",
            "line": {
             "color": "rgb(0, 0, 0)",
             "width": 2
            },
            "size": 20
           },
           "mode": "markers+text",
           "text": [
            "2"
           ],
           "textfont": {
            "color": "rgb(0, 0, 0)"
           },
           "textposition": "middle center",
           "x": [
            0.5
           ],
           "y": [
            1
           ]
          },
          {
           "hoverinfo": "none",
           "marker": {
            "color": "rgb(255, 255, 255)",
            "line": {
             "color": "rgb(0, 0, 0)",
             "width": 2
            },
            "size": 20
           },
           "mode": "markers+text",
           "text": [
            "4"
           ],
           "textfont": {
            "color": "rgb(0, 0, 0)"
           },
           "textposition": "middle center",
           "x": [
            1
           ],
           "y": [
            1
           ]
          },
          {
           "hoverinfo": "none",
           "marker": {
            "color": "rgb(255, 255, 255)",
            "line": {
             "color": "rgb(0, 0, 0)",
             "width": 2
            },
            "size": 20
           },
           "mode": "markers+text",
           "text": [
            "7"
           ],
           "textfont": {
            "color": "rgb(0, 0, 0)"
           },
           "textposition": "middle center",
           "x": [
            0.5
           ],
           "y": [
            0
           ]
          },
          {
           "hoverinfo": "none",
           "marker": {
            "color": "rgb(255, 255, 255)",
            "line": {
             "color": "rgb(0, 0, 0)",
             "width": 2
            },
            "size": 20
           },
           "mode": "markers+text",
           "text": [
            "-2"
           ],
           "textfont": {
            "color": "rgb(0, 0, 0)"
           },
           "textposition": "middle center",
           "x": [
            1
           ],
           "y": [
            0
           ]
          }
         ],
         "name": 32
        },
        {
         "data": [
          {
           "hoverinfo": "none",
           "line": {
            "color": "rgb(0, 0, 0)",
            "width": 2
           },
           "mode": "lines",
           "x": [
            0,
            0.5,
            null,
            0.46643085439538495,
            0.44538388103556675,
            null,
            0.46643085439538495,
            0.4285584341548651,
            null
           ],
           "y": [
            0.5,
            1,
            null,
            0.966430854395385,
            0.906182816233176,
            null,
            0.966430854395385,
            0.967759498957256,
            null
           ]
          },
          {
           "hoverinfo": "none",
           "line": {
            "color": "rgb(0, 0, 0)",
            "width": 2
           },
           "mode": "lines",
           "x": [
            0,
            0.5,
            null,
            0.46643085439538495,
            0.4285584341548651,
            null,
            0.46643085439538495,
            0.44538388103556675,
            null
           ],
           "y": [
            0.5,
            0,
            null,
            0.03356914560461503,
            0.032240501042743994,
            null,
            0.03356914560461503,
            0.09381718376682407,
            null
           ]
          },
          {
           "hoverinfo": "none",
           "line": {
            "color": "rgb(255, 0, 0)",
            "width": 2
           },
           "mode": "lines",
           "x": [
            0.5,
            1,
            null,
            0.9621212121212122,
            0.9288794484132434,
            null
           ],
           "y": [
            1.0144927536231885,
            1.0144927536231885,
            null,
            1.0144927536231885,
            1.049233734681464,
            null
           ]
          },
          {
           "hoverinfo": "none",
           "line": {
            "color": "rgb(0, 0, 0)",
            "width": 2
           },
           "mode": "lines",
           "x": [
            0.5,
            0.5,
            null,
            0.5,
            0.48183994171953776,
            null,
            0.5,
            0.5181600582804622,
            null
           ],
           "y": [
            1,
            0,
            null,
            0.07246376811594203,
            0.13605670738336034,
            null,
            0.07246376811594203,
            0.13605670738336034,
            null
           ]
          },
          {
           "hoverinfo": "none",
           "line": {
            "color": "rgb(0, 0, 0)",
            "width": 2
           },
           "mode": "lines",
           "x": [
            0.5,
            1,
            null,
            0.9738173240163878,
            0.9377166459078401,
            null,
            0.9738173240163878,
            0.9639630823912474,
            null
           ],
           "y": [
            1,
            0,
            null,
            0.052365351967224576,
            0.07430651885030926,
            null,
            0.052365351967224576,
            0.12233402455151593,
            null
           ]
          },
          {
           "hoverinfo": "none",
           "line": {
            "color": "rgb(0, 0, 0)",
            "width": 2
           },
           "mode": "lines",
           "x": [
            1,
            0.5,
            null,
            0.5378787878787878,
            0.5711205515867566,
            null
           ],
           "y": [
            0.9855072463768116,
            0.9855072463768116,
            null,
            0.9855072463768116,
            0.950766265318536,
            null
           ]
          },
          {
           "hoverinfo": "none",
           "line": {
            "color": "rgb(0, 0, 0)",
            "width": 2
           },
           "mode": "lines",
           "x": [
            0.5,
            1,
            null,
            0.9738173240163878,
            0.9639630823912474,
            null,
            0.9738173240163878,
            0.9377166459078401,
            null
           ],
           "y": [
            0,
            1,
            null,
            0.9476346480327754,
            0.8776659754484841,
            null,
            0.9476346480327754,
            0.9256934811496907,
            null
           ]
          },
          {
           "hoverinfo": "none",
           "line": {
            "color": "rgb(0, 0, 0)",
            "width": 2
           },
           "mode": "lines",
           "x": [
            0.5,
            1,
            null,
            0.9621212121212122,
            0.9288794484132434,
            null,
            0.9621212121212122,
            0.9288794484132434,
            null
           ],
           "y": [
            0,
            0,
            null,
            0,
            -0.03474098105827558,
            null,
            0,
            0.03474098105827558,
            null
           ]
          },
          {
           "hoverinfo": "none",
           "line": {
            "color": "rgb(0, 0, 0)",
            "width": 2
           },
           "mode": "lines",
           "x": [
            1,
            0,
            null,
            0.03664774299318793,
            0.07340128670201525,
            null,
            0.03664774299318793,
            0.06421703965128427,
            null
           ],
           "y": [
            0,
            0.5,
            null,
            0.481676128503406,
            0.4992073320037643,
            null,
            0.481676128503406,
            0.4319835048195859,
            null
           ]
          },
          {
           "hoverinfo": "none",
           "line": {
            "color": "rgb(0, 0, 0)",
            "width": 2
           },
           "mode": "lines",
           "x": [
            1,
            1,
            null,
            1,
            1.0181600582804622,
            null,
            1,
            0.9818399417195378,
            null
           ],
           "y": [
            0,
            1,
            null,
            0.927536231884058,
            0.8639432926166397,
            null,
            0.927536231884058,
            0.8639432926166397,
            null
           ]
          },
          {
           "hoverinfo": "none",
           "marker": {
            "color": "rgb(255, 255, 255)",
            "line": {
             "color": "rgb(0, 0, 0)",
             "width": 2
            },
            "size": 20
           },
           "mode": "markers+text",
           "text": [
            "0"
           ],
           "textfont": {
            "color": "rgb(0, 0, 0)"
           },
           "textposition": "middle center",
           "x": [
            0
           ],
           "y": [
            0.5
           ]
          },
          {
           "hoverinfo": "none",
           "marker": {
            "color": "rgb(255, 255, 255)",
            "line": {
             "color": "rgb(0, 0, 0)",
             "width": 2
            },
            "size": 20
           },
           "mode": "markers+text",
           "text": [
            "2"
           ],
           "textfont": {
            "color": "rgb(0, 0, 0)"
           },
           "textposition": "middle center",
           "x": [
            0.5
           ],
           "y": [
            1
           ]
          },
          {
           "hoverinfo": "none",
           "marker": {
            "color": "rgb(255, 255, 255)",
            "line": {
             "color": "rgb(0, 0, 0)",
             "width": 2
            },
            "size": 20
           },
           "mode": "markers+text",
           "text": [
            "4"
           ],
           "textfont": {
            "color": "rgb(0, 0, 0)"
           },
           "textposition": "middle center",
           "x": [
            1
           ],
           "y": [
            1
           ]
          },
          {
           "hoverinfo": "none",
           "marker": {
            "color": "rgb(255, 255, 255)",
            "line": {
             "color": "rgb(0, 0, 0)",
             "width": 2
            },
            "size": 20
           },
           "mode": "markers+text",
           "text": [
            "7"
           ],
           "textfont": {
            "color": "rgb(0, 0, 0)"
           },
           "textposition": "middle center",
           "x": [
            0.5
           ],
           "y": [
            0
           ]
          },
          {
           "hoverinfo": "none",
           "marker": {
            "color": "rgb(255, 255, 255)",
            "line": {
             "color": "rgb(0, 0, 0)",
             "width": 2
            },
            "size": 20
           },
           "mode": "markers+text",
           "text": [
            "-2"
           ],
           "textfont": {
            "color": "rgb(0, 0, 0)"
           },
           "textposition": "middle center",
           "x": [
            1
           ],
           "y": [
            0
           ]
          }
         ],
         "name": 33
        },
        {
         "data": [
          {
           "hoverinfo": "none",
           "line": {
            "color": "rgb(0, 0, 0)",
            "width": 2
           },
           "mode": "lines",
           "x": [
            0,
            0.5,
            null,
            0.46643085439538495,
            0.44538388103556675,
            null,
            0.46643085439538495,
            0.4285584341548651,
            null
           ],
           "y": [
            0.5,
            1,
            null,
            0.966430854395385,
            0.906182816233176,
            null,
            0.966430854395385,
            0.967759498957256,
            null
           ]
          },
          {
           "hoverinfo": "none",
           "line": {
            "color": "rgb(0, 0, 0)",
            "width": 2
           },
           "mode": "lines",
           "x": [
            0,
            0.5,
            null,
            0.46643085439538495,
            0.4285584341548651,
            null,
            0.46643085439538495,
            0.44538388103556675,
            null
           ],
           "y": [
            0.5,
            0,
            null,
            0.03356914560461503,
            0.032240501042743994,
            null,
            0.03356914560461503,
            0.09381718376682407,
            null
           ]
          },
          {
           "hoverinfo": "none",
           "line": {
            "color": "rgb(0, 0, 0)",
            "width": 2
           },
           "mode": "lines",
           "x": [
            0.5,
            1,
            null,
            0.9621212121212122,
            0.9288794484132434,
            null
           ],
           "y": [
            1.0144927536231885,
            1.0144927536231885,
            null,
            1.0144927536231885,
            1.049233734681464,
            null
           ]
          },
          {
           "hoverinfo": "none",
           "line": {
            "color": "rgb(255, 0, 0)",
            "width": 2
           },
           "mode": "lines",
           "x": [
            0.5,
            0.5,
            null,
            0.5,
            0.48183994171953776,
            null,
            0.5,
            0.5181600582804622,
            null
           ],
           "y": [
            1,
            0,
            null,
            0.07246376811594203,
            0.13605670738336034,
            null,
            0.07246376811594203,
            0.13605670738336034,
            null
           ]
          },
          {
           "hoverinfo": "none",
           "line": {
            "color": "rgb(0, 0, 0)",
            "width": 2
           },
           "mode": "lines",
           "x": [
            0.5,
            1,
            null,
            0.9738173240163878,
            0.9377166459078401,
            null,
            0.9738173240163878,
            0.9639630823912474,
            null
           ],
           "y": [
            1,
            0,
            null,
            0.052365351967224576,
            0.07430651885030926,
            null,
            0.052365351967224576,
            0.12233402455151593,
            null
           ]
          },
          {
           "hoverinfo": "none",
           "line": {
            "color": "rgb(0, 0, 0)",
            "width": 2
           },
           "mode": "lines",
           "x": [
            1,
            0.5,
            null,
            0.5378787878787878,
            0.5711205515867566,
            null
           ],
           "y": [
            0.9855072463768116,
            0.9855072463768116,
            null,
            0.9855072463768116,
            0.950766265318536,
            null
           ]
          },
          {
           "hoverinfo": "none",
           "line": {
            "color": "rgb(0, 0, 0)",
            "width": 2
           },
           "mode": "lines",
           "x": [
            0.5,
            1,
            null,
            0.9738173240163878,
            0.9639630823912474,
            null,
            0.9738173240163878,
            0.9377166459078401,
            null
           ],
           "y": [
            0,
            1,
            null,
            0.9476346480327754,
            0.8776659754484841,
            null,
            0.9476346480327754,
            0.9256934811496907,
            null
           ]
          },
          {
           "hoverinfo": "none",
           "line": {
            "color": "rgb(0, 0, 0)",
            "width": 2
           },
           "mode": "lines",
           "x": [
            0.5,
            1,
            null,
            0.9621212121212122,
            0.9288794484132434,
            null,
            0.9621212121212122,
            0.9288794484132434,
            null
           ],
           "y": [
            0,
            0,
            null,
            0,
            -0.03474098105827558,
            null,
            0,
            0.03474098105827558,
            null
           ]
          },
          {
           "hoverinfo": "none",
           "line": {
            "color": "rgb(0, 0, 0)",
            "width": 2
           },
           "mode": "lines",
           "x": [
            1,
            0,
            null,
            0.03664774299318793,
            0.07340128670201525,
            null,
            0.03664774299318793,
            0.06421703965128427,
            null
           ],
           "y": [
            0,
            0.5,
            null,
            0.481676128503406,
            0.4992073320037643,
            null,
            0.481676128503406,
            0.4319835048195859,
            null
           ]
          },
          {
           "hoverinfo": "none",
           "line": {
            "color": "rgb(0, 0, 0)",
            "width": 2
           },
           "mode": "lines",
           "x": [
            1,
            1,
            null,
            1,
            1.0181600582804622,
            null,
            1,
            0.9818399417195378,
            null
           ],
           "y": [
            0,
            1,
            null,
            0.927536231884058,
            0.8639432926166397,
            null,
            0.927536231884058,
            0.8639432926166397,
            null
           ]
          },
          {
           "hoverinfo": "none",
           "marker": {
            "color": "rgb(255, 255, 255)",
            "line": {
             "color": "rgb(0, 0, 0)",
             "width": 2
            },
            "size": 20
           },
           "mode": "markers+text",
           "text": [
            "0"
           ],
           "textfont": {
            "color": "rgb(0, 0, 0)"
           },
           "textposition": "middle center",
           "x": [
            0
           ],
           "y": [
            0.5
           ]
          },
          {
           "hoverinfo": "none",
           "marker": {
            "color": "rgb(255, 255, 255)",
            "line": {
             "color": "rgb(0, 0, 0)",
             "width": 2
            },
            "size": 20
           },
           "mode": "markers+text",
           "text": [
            "2"
           ],
           "textfont": {
            "color": "rgb(0, 0, 0)"
           },
           "textposition": "middle center",
           "x": [
            0.5
           ],
           "y": [
            1
           ]
          },
          {
           "hoverinfo": "none",
           "marker": {
            "color": "rgb(255, 255, 255)",
            "line": {
             "color": "rgb(0, 0, 0)",
             "width": 2
            },
            "size": 20
           },
           "mode": "markers+text",
           "text": [
            "4"
           ],
           "textfont": {
            "color": "rgb(0, 0, 0)"
           },
           "textposition": "middle center",
           "x": [
            1
           ],
           "y": [
            1
           ]
          },
          {
           "hoverinfo": "none",
           "marker": {
            "color": "rgb(255, 255, 255)",
            "line": {
             "color": "rgb(0, 0, 0)",
             "width": 2
            },
            "size": 20
           },
           "mode": "markers+text",
           "text": [
            "7"
           ],
           "textfont": {
            "color": "rgb(0, 0, 0)"
           },
           "textposition": "middle center",
           "x": [
            0.5
           ],
           "y": [
            0
           ]
          },
          {
           "hoverinfo": "none",
           "marker": {
            "color": "rgb(255, 255, 255)",
            "line": {
             "color": "rgb(0, 0, 0)",
             "width": 2
            },
            "size": 20
           },
           "mode": "markers+text",
           "text": [
            "-2"
           ],
           "textfont": {
            "color": "rgb(0, 0, 0)"
           },
           "textposition": "middle center",
           "x": [
            1
           ],
           "y": [
            0
           ]
          }
         ],
         "name": 34
        },
        {
         "data": [
          {
           "hoverinfo": "none",
           "line": {
            "color": "rgb(0, 0, 0)",
            "width": 2
           },
           "mode": "lines",
           "x": [
            0,
            0.5,
            null,
            0.46643085439538495,
            0.44538388103556675,
            null,
            0.46643085439538495,
            0.4285584341548651,
            null
           ],
           "y": [
            0.5,
            1,
            null,
            0.966430854395385,
            0.906182816233176,
            null,
            0.966430854395385,
            0.967759498957256,
            null
           ]
          },
          {
           "hoverinfo": "none",
           "line": {
            "color": "rgb(0, 0, 0)",
            "width": 2
           },
           "mode": "lines",
           "x": [
            0,
            0.5,
            null,
            0.46643085439538495,
            0.4285584341548651,
            null,
            0.46643085439538495,
            0.44538388103556675,
            null
           ],
           "y": [
            0.5,
            0,
            null,
            0.03356914560461503,
            0.032240501042743994,
            null,
            0.03356914560461503,
            0.09381718376682407,
            null
           ]
          },
          {
           "hoverinfo": "none",
           "line": {
            "color": "rgb(0, 0, 0)",
            "width": 2
           },
           "mode": "lines",
           "x": [
            0.5,
            1,
            null,
            0.9621212121212122,
            0.9288794484132434,
            null
           ],
           "y": [
            1.0144927536231885,
            1.0144927536231885,
            null,
            1.0144927536231885,
            1.049233734681464,
            null
           ]
          },
          {
           "hoverinfo": "none",
           "line": {
            "color": "rgb(0, 0, 0)",
            "width": 2
           },
           "mode": "lines",
           "x": [
            0.5,
            0.5,
            null,
            0.5,
            0.48183994171953776,
            null,
            0.5,
            0.5181600582804622,
            null
           ],
           "y": [
            1,
            0,
            null,
            0.07246376811594203,
            0.13605670738336034,
            null,
            0.07246376811594203,
            0.13605670738336034,
            null
           ]
          },
          {
           "hoverinfo": "none",
           "line": {
            "color": "rgb(255, 0, 0)",
            "width": 2
           },
           "mode": "lines",
           "x": [
            0.5,
            1,
            null,
            0.9738173240163878,
            0.9377166459078401,
            null,
            0.9738173240163878,
            0.9639630823912474,
            null
           ],
           "y": [
            1,
            0,
            null,
            0.052365351967224576,
            0.07430651885030926,
            null,
            0.052365351967224576,
            0.12233402455151593,
            null
           ]
          },
          {
           "hoverinfo": "none",
           "line": {
            "color": "rgb(0, 0, 0)",
            "width": 2
           },
           "mode": "lines",
           "x": [
            1,
            0.5,
            null,
            0.5378787878787878,
            0.5711205515867566,
            null
           ],
           "y": [
            0.9855072463768116,
            0.9855072463768116,
            null,
            0.9855072463768116,
            0.950766265318536,
            null
           ]
          },
          {
           "hoverinfo": "none",
           "line": {
            "color": "rgb(0, 0, 0)",
            "width": 2
           },
           "mode": "lines",
           "x": [
            0.5,
            1,
            null,
            0.9738173240163878,
            0.9639630823912474,
            null,
            0.9738173240163878,
            0.9377166459078401,
            null
           ],
           "y": [
            0,
            1,
            null,
            0.9476346480327754,
            0.8776659754484841,
            null,
            0.9476346480327754,
            0.9256934811496907,
            null
           ]
          },
          {
           "hoverinfo": "none",
           "line": {
            "color": "rgb(0, 0, 0)",
            "width": 2
           },
           "mode": "lines",
           "x": [
            0.5,
            1,
            null,
            0.9621212121212122,
            0.9288794484132434,
            null,
            0.9621212121212122,
            0.9288794484132434,
            null
           ],
           "y": [
            0,
            0,
            null,
            0,
            -0.03474098105827558,
            null,
            0,
            0.03474098105827558,
            null
           ]
          },
          {
           "hoverinfo": "none",
           "line": {
            "color": "rgb(0, 0, 0)",
            "width": 2
           },
           "mode": "lines",
           "x": [
            1,
            0,
            null,
            0.03664774299318793,
            0.07340128670201525,
            null,
            0.03664774299318793,
            0.06421703965128427,
            null
           ],
           "y": [
            0,
            0.5,
            null,
            0.481676128503406,
            0.4992073320037643,
            null,
            0.481676128503406,
            0.4319835048195859,
            null
           ]
          },
          {
           "hoverinfo": "none",
           "line": {
            "color": "rgb(0, 0, 0)",
            "width": 2
           },
           "mode": "lines",
           "x": [
            1,
            1,
            null,
            1,
            1.0181600582804622,
            null,
            1,
            0.9818399417195378,
            null
           ],
           "y": [
            0,
            1,
            null,
            0.927536231884058,
            0.8639432926166397,
            null,
            0.927536231884058,
            0.8639432926166397,
            null
           ]
          },
          {
           "hoverinfo": "none",
           "marker": {
            "color": "rgb(255, 255, 255)",
            "line": {
             "color": "rgb(0, 0, 0)",
             "width": 2
            },
            "size": 20
           },
           "mode": "markers+text",
           "text": [
            "0"
           ],
           "textfont": {
            "color": "rgb(0, 0, 0)"
           },
           "textposition": "middle center",
           "x": [
            0
           ],
           "y": [
            0.5
           ]
          },
          {
           "hoverinfo": "none",
           "marker": {
            "color": "rgb(255, 255, 255)",
            "line": {
             "color": "rgb(0, 0, 0)",
             "width": 2
            },
            "size": 20
           },
           "mode": "markers+text",
           "text": [
            "2"
           ],
           "textfont": {
            "color": "rgb(0, 0, 0)"
           },
           "textposition": "middle center",
           "x": [
            0.5
           ],
           "y": [
            1
           ]
          },
          {
           "hoverinfo": "none",
           "marker": {
            "color": "rgb(255, 255, 255)",
            "line": {
             "color": "rgb(0, 0, 0)",
             "width": 2
            },
            "size": 20
           },
           "mode": "markers+text",
           "text": [
            "4"
           ],
           "textfont": {
            "color": "rgb(0, 0, 0)"
           },
           "textposition": "middle center",
           "x": [
            1
           ],
           "y": [
            1
           ]
          },
          {
           "hoverinfo": "none",
           "marker": {
            "color": "rgb(255, 255, 255)",
            "line": {
             "color": "rgb(0, 0, 0)",
             "width": 2
            },
            "size": 20
           },
           "mode": "markers+text",
           "text": [
            "7"
           ],
           "textfont": {
            "color": "rgb(0, 0, 0)"
           },
           "textposition": "middle center",
           "x": [
            0.5
           ],
           "y": [
            0
           ]
          },
          {
           "hoverinfo": "none",
           "marker": {
            "color": "rgb(255, 255, 255)",
            "line": {
             "color": "rgb(0, 0, 0)",
             "width": 2
            },
            "size": 20
           },
           "mode": "markers+text",
           "text": [
            "-2"
           ],
           "textfont": {
            "color": "rgb(0, 0, 0)"
           },
           "textposition": "middle center",
           "x": [
            1
           ],
           "y": [
            0
           ]
          }
         ],
         "name": 35
        },
        {
         "data": [
          {
           "hoverinfo": "none",
           "line": {
            "color": "rgb(0, 0, 0)",
            "width": 2
           },
           "mode": "lines",
           "x": [
            0,
            0.5,
            null,
            0.46643085439538495,
            0.44538388103556675,
            null,
            0.46643085439538495,
            0.4285584341548651,
            null
           ],
           "y": [
            0.5,
            1,
            null,
            0.966430854395385,
            0.906182816233176,
            null,
            0.966430854395385,
            0.967759498957256,
            null
           ]
          },
          {
           "hoverinfo": "none",
           "line": {
            "color": "rgb(0, 0, 0)",
            "width": 2
           },
           "mode": "lines",
           "x": [
            0,
            0.5,
            null,
            0.46643085439538495,
            0.4285584341548651,
            null,
            0.46643085439538495,
            0.44538388103556675,
            null
           ],
           "y": [
            0.5,
            0,
            null,
            0.03356914560461503,
            0.032240501042743994,
            null,
            0.03356914560461503,
            0.09381718376682407,
            null
           ]
          },
          {
           "hoverinfo": "none",
           "line": {
            "color": "rgb(0, 0, 0)",
            "width": 2
           },
           "mode": "lines",
           "x": [
            0.5,
            1,
            null,
            0.9621212121212122,
            0.9288794484132434,
            null
           ],
           "y": [
            1.0144927536231885,
            1.0144927536231885,
            null,
            1.0144927536231885,
            1.049233734681464,
            null
           ]
          },
          {
           "hoverinfo": "none",
           "line": {
            "color": "rgb(0, 0, 0)",
            "width": 2
           },
           "mode": "lines",
           "x": [
            0.5,
            0.5,
            null,
            0.5,
            0.48183994171953776,
            null,
            0.5,
            0.5181600582804622,
            null
           ],
           "y": [
            1,
            0,
            null,
            0.07246376811594203,
            0.13605670738336034,
            null,
            0.07246376811594203,
            0.13605670738336034,
            null
           ]
          },
          {
           "hoverinfo": "none",
           "line": {
            "color": "rgb(0, 0, 0)",
            "width": 2
           },
           "mode": "lines",
           "x": [
            0.5,
            1,
            null,
            0.9738173240163878,
            0.9377166459078401,
            null,
            0.9738173240163878,
            0.9639630823912474,
            null
           ],
           "y": [
            1,
            0,
            null,
            0.052365351967224576,
            0.07430651885030926,
            null,
            0.052365351967224576,
            0.12233402455151593,
            null
           ]
          },
          {
           "hoverinfo": "none",
           "line": {
            "color": "rgb(255, 0, 0)",
            "width": 2
           },
           "mode": "lines",
           "x": [
            1,
            0.5,
            null,
            0.5378787878787878,
            0.5711205515867566,
            null
           ],
           "y": [
            0.9855072463768116,
            0.9855072463768116,
            null,
            0.9855072463768116,
            0.950766265318536,
            null
           ]
          },
          {
           "hoverinfo": "none",
           "line": {
            "color": "rgb(0, 0, 0)",
            "width": 2
           },
           "mode": "lines",
           "x": [
            0.5,
            1,
            null,
            0.9738173240163878,
            0.9639630823912474,
            null,
            0.9738173240163878,
            0.9377166459078401,
            null
           ],
           "y": [
            0,
            1,
            null,
            0.9476346480327754,
            0.8776659754484841,
            null,
            0.9476346480327754,
            0.9256934811496907,
            null
           ]
          },
          {
           "hoverinfo": "none",
           "line": {
            "color": "rgb(0, 0, 0)",
            "width": 2
           },
           "mode": "lines",
           "x": [
            0.5,
            1,
            null,
            0.9621212121212122,
            0.9288794484132434,
            null,
            0.9621212121212122,
            0.9288794484132434,
            null
           ],
           "y": [
            0,
            0,
            null,
            0,
            -0.03474098105827558,
            null,
            0,
            0.03474098105827558,
            null
           ]
          },
          {
           "hoverinfo": "none",
           "line": {
            "color": "rgb(0, 0, 0)",
            "width": 2
           },
           "mode": "lines",
           "x": [
            1,
            0,
            null,
            0.03664774299318793,
            0.07340128670201525,
            null,
            0.03664774299318793,
            0.06421703965128427,
            null
           ],
           "y": [
            0,
            0.5,
            null,
            0.481676128503406,
            0.4992073320037643,
            null,
            0.481676128503406,
            0.4319835048195859,
            null
           ]
          },
          {
           "hoverinfo": "none",
           "line": {
            "color": "rgb(0, 0, 0)",
            "width": 2
           },
           "mode": "lines",
           "x": [
            1,
            1,
            null,
            1,
            1.0181600582804622,
            null,
            1,
            0.9818399417195378,
            null
           ],
           "y": [
            0,
            1,
            null,
            0.927536231884058,
            0.8639432926166397,
            null,
            0.927536231884058,
            0.8639432926166397,
            null
           ]
          },
          {
           "hoverinfo": "none",
           "marker": {
            "color": "rgb(255, 255, 255)",
            "line": {
             "color": "rgb(0, 0, 0)",
             "width": 2
            },
            "size": 20
           },
           "mode": "markers+text",
           "text": [
            "0"
           ],
           "textfont": {
            "color": "rgb(0, 0, 0)"
           },
           "textposition": "middle center",
           "x": [
            0
           ],
           "y": [
            0.5
           ]
          },
          {
           "hoverinfo": "none",
           "marker": {
            "color": "rgb(255, 255, 255)",
            "line": {
             "color": "rgb(0, 0, 0)",
             "width": 2
            },
            "size": 20
           },
           "mode": "markers+text",
           "text": [
            "2"
           ],
           "textfont": {
            "color": "rgb(0, 0, 0)"
           },
           "textposition": "middle center",
           "x": [
            0.5
           ],
           "y": [
            1
           ]
          },
          {
           "hoverinfo": "none",
           "marker": {
            "color": "rgb(255, 255, 255)",
            "line": {
             "color": "rgb(0, 0, 0)",
             "width": 2
            },
            "size": 20
           },
           "mode": "markers+text",
           "text": [
            "4"
           ],
           "textfont": {
            "color": "rgb(0, 0, 0)"
           },
           "textposition": "middle center",
           "x": [
            1
           ],
           "y": [
            1
           ]
          },
          {
           "hoverinfo": "none",
           "marker": {
            "color": "rgb(255, 255, 255)",
            "line": {
             "color": "rgb(0, 0, 0)",
             "width": 2
            },
            "size": 20
           },
           "mode": "markers+text",
           "text": [
            "7"
           ],
           "textfont": {
            "color": "rgb(0, 0, 0)"
           },
           "textposition": "middle center",
           "x": [
            0.5
           ],
           "y": [
            0
           ]
          },
          {
           "hoverinfo": "none",
           "marker": {
            "color": "rgb(255, 255, 255)",
            "line": {
             "color": "rgb(0, 0, 0)",
             "width": 2
            },
            "size": 20
           },
           "mode": "markers+text",
           "text": [
            "-2"
           ],
           "textfont": {
            "color": "rgb(0, 0, 0)"
           },
           "textposition": "middle center",
           "x": [
            1
           ],
           "y": [
            0
           ]
          }
         ],
         "name": 36
        },
        {
         "data": [
          {
           "hoverinfo": "none",
           "line": {
            "color": "rgb(0, 0, 0)",
            "width": 2
           },
           "mode": "lines",
           "x": [
            0,
            0.5,
            null,
            0.46643085439538495,
            0.44538388103556675,
            null,
            0.46643085439538495,
            0.4285584341548651,
            null
           ],
           "y": [
            0.5,
            1,
            null,
            0.966430854395385,
            0.906182816233176,
            null,
            0.966430854395385,
            0.967759498957256,
            null
           ]
          },
          {
           "hoverinfo": "none",
           "line": {
            "color": "rgb(0, 0, 0)",
            "width": 2
           },
           "mode": "lines",
           "x": [
            0,
            0.5,
            null,
            0.46643085439538495,
            0.4285584341548651,
            null,
            0.46643085439538495,
            0.44538388103556675,
            null
           ],
           "y": [
            0.5,
            0,
            null,
            0.03356914560461503,
            0.032240501042743994,
            null,
            0.03356914560461503,
            0.09381718376682407,
            null
           ]
          },
          {
           "hoverinfo": "none",
           "line": {
            "color": "rgb(0, 0, 0)",
            "width": 2
           },
           "mode": "lines",
           "x": [
            0.5,
            1,
            null,
            0.9621212121212122,
            0.9288794484132434,
            null
           ],
           "y": [
            1.0144927536231885,
            1.0144927536231885,
            null,
            1.0144927536231885,
            1.049233734681464,
            null
           ]
          },
          {
           "hoverinfo": "none",
           "line": {
            "color": "rgb(0, 0, 0)",
            "width": 2
           },
           "mode": "lines",
           "x": [
            0.5,
            0.5,
            null,
            0.5,
            0.48183994171953776,
            null,
            0.5,
            0.5181600582804622,
            null
           ],
           "y": [
            1,
            0,
            null,
            0.07246376811594203,
            0.13605670738336034,
            null,
            0.07246376811594203,
            0.13605670738336034,
            null
           ]
          },
          {
           "hoverinfo": "none",
           "line": {
            "color": "rgb(0, 0, 0)",
            "width": 2
           },
           "mode": "lines",
           "x": [
            0.5,
            1,
            null,
            0.9738173240163878,
            0.9377166459078401,
            null,
            0.9738173240163878,
            0.9639630823912474,
            null
           ],
           "y": [
            1,
            0,
            null,
            0.052365351967224576,
            0.07430651885030926,
            null,
            0.052365351967224576,
            0.12233402455151593,
            null
           ]
          },
          {
           "hoverinfo": "none",
           "line": {
            "color": "rgb(0, 0, 0)",
            "width": 2
           },
           "mode": "lines",
           "x": [
            1,
            0.5,
            null,
            0.5378787878787878,
            0.5711205515867566,
            null
           ],
           "y": [
            0.9855072463768116,
            0.9855072463768116,
            null,
            0.9855072463768116,
            0.950766265318536,
            null
           ]
          },
          {
           "hoverinfo": "none",
           "line": {
            "color": "rgb(255, 0, 0)",
            "width": 2
           },
           "mode": "lines",
           "x": [
            0.5,
            1,
            null,
            0.9738173240163878,
            0.9639630823912474,
            null,
            0.9738173240163878,
            0.9377166459078401,
            null
           ],
           "y": [
            0,
            1,
            null,
            0.9476346480327754,
            0.8776659754484841,
            null,
            0.9476346480327754,
            0.9256934811496907,
            null
           ]
          },
          {
           "hoverinfo": "none",
           "line": {
            "color": "rgb(0, 0, 0)",
            "width": 2
           },
           "mode": "lines",
           "x": [
            0.5,
            1,
            null,
            0.9621212121212122,
            0.9288794484132434,
            null,
            0.9621212121212122,
            0.9288794484132434,
            null
           ],
           "y": [
            0,
            0,
            null,
            0,
            -0.03474098105827558,
            null,
            0,
            0.03474098105827558,
            null
           ]
          },
          {
           "hoverinfo": "none",
           "line": {
            "color": "rgb(0, 0, 0)",
            "width": 2
           },
           "mode": "lines",
           "x": [
            1,
            0,
            null,
            0.03664774299318793,
            0.07340128670201525,
            null,
            0.03664774299318793,
            0.06421703965128427,
            null
           ],
           "y": [
            0,
            0.5,
            null,
            0.481676128503406,
            0.4992073320037643,
            null,
            0.481676128503406,
            0.4319835048195859,
            null
           ]
          },
          {
           "hoverinfo": "none",
           "line": {
            "color": "rgb(0, 0, 0)",
            "width": 2
           },
           "mode": "lines",
           "x": [
            1,
            1,
            null,
            1,
            1.0181600582804622,
            null,
            1,
            0.9818399417195378,
            null
           ],
           "y": [
            0,
            1,
            null,
            0.927536231884058,
            0.8639432926166397,
            null,
            0.927536231884058,
            0.8639432926166397,
            null
           ]
          },
          {
           "hoverinfo": "none",
           "marker": {
            "color": "rgb(255, 255, 255)",
            "line": {
             "color": "rgb(0, 0, 0)",
             "width": 2
            },
            "size": 20
           },
           "mode": "markers+text",
           "text": [
            "0"
           ],
           "textfont": {
            "color": "rgb(0, 0, 0)"
           },
           "textposition": "middle center",
           "x": [
            0
           ],
           "y": [
            0.5
           ]
          },
          {
           "hoverinfo": "none",
           "marker": {
            "color": "rgb(255, 255, 255)",
            "line": {
             "color": "rgb(0, 0, 0)",
             "width": 2
            },
            "size": 20
           },
           "mode": "markers+text",
           "text": [
            "2"
           ],
           "textfont": {
            "color": "rgb(0, 0, 0)"
           },
           "textposition": "middle center",
           "x": [
            0.5
           ],
           "y": [
            1
           ]
          },
          {
           "hoverinfo": "none",
           "marker": {
            "color": "rgb(255, 255, 255)",
            "line": {
             "color": "rgb(0, 0, 0)",
             "width": 2
            },
            "size": 20
           },
           "mode": "markers+text",
           "text": [
            "4"
           ],
           "textfont": {
            "color": "rgb(0, 0, 0)"
           },
           "textposition": "middle center",
           "x": [
            1
           ],
           "y": [
            1
           ]
          },
          {
           "hoverinfo": "none",
           "marker": {
            "color": "rgb(255, 255, 255)",
            "line": {
             "color": "rgb(0, 0, 0)",
             "width": 2
            },
            "size": 20
           },
           "mode": "markers+text",
           "text": [
            "7"
           ],
           "textfont": {
            "color": "rgb(0, 0, 0)"
           },
           "textposition": "middle center",
           "x": [
            0.5
           ],
           "y": [
            0
           ]
          },
          {
           "hoverinfo": "none",
           "marker": {
            "color": "rgb(255, 255, 255)",
            "line": {
             "color": "rgb(0, 0, 0)",
             "width": 2
            },
            "size": 20
           },
           "mode": "markers+text",
           "text": [
            "-2"
           ],
           "textfont": {
            "color": "rgb(0, 0, 0)"
           },
           "textposition": "middle center",
           "x": [
            1
           ],
           "y": [
            0
           ]
          }
         ],
         "name": 37
        },
        {
         "data": [
          {
           "hoverinfo": "none",
           "line": {
            "color": "rgb(0, 0, 0)",
            "width": 2
           },
           "mode": "lines",
           "x": [
            0,
            0.5,
            null,
            0.46643085439538495,
            0.44538388103556675,
            null,
            0.46643085439538495,
            0.4285584341548651,
            null
           ],
           "y": [
            0.5,
            1,
            null,
            0.966430854395385,
            0.906182816233176,
            null,
            0.966430854395385,
            0.967759498957256,
            null
           ]
          },
          {
           "hoverinfo": "none",
           "line": {
            "color": "rgb(0, 0, 0)",
            "width": 2
           },
           "mode": "lines",
           "x": [
            0,
            0.5,
            null,
            0.46643085439538495,
            0.4285584341548651,
            null,
            0.46643085439538495,
            0.44538388103556675,
            null
           ],
           "y": [
            0.5,
            0,
            null,
            0.03356914560461503,
            0.032240501042743994,
            null,
            0.03356914560461503,
            0.09381718376682407,
            null
           ]
          },
          {
           "hoverinfo": "none",
           "line": {
            "color": "rgb(0, 0, 0)",
            "width": 2
           },
           "mode": "lines",
           "x": [
            0.5,
            1,
            null,
            0.9621212121212122,
            0.9288794484132434,
            null
           ],
           "y": [
            1.0144927536231885,
            1.0144927536231885,
            null,
            1.0144927536231885,
            1.049233734681464,
            null
           ]
          },
          {
           "hoverinfo": "none",
           "line": {
            "color": "rgb(0, 0, 0)",
            "width": 2
           },
           "mode": "lines",
           "x": [
            0.5,
            0.5,
            null,
            0.5,
            0.48183994171953776,
            null,
            0.5,
            0.5181600582804622,
            null
           ],
           "y": [
            1,
            0,
            null,
            0.07246376811594203,
            0.13605670738336034,
            null,
            0.07246376811594203,
            0.13605670738336034,
            null
           ]
          },
          {
           "hoverinfo": "none",
           "line": {
            "color": "rgb(0, 0, 0)",
            "width": 2
           },
           "mode": "lines",
           "x": [
            0.5,
            1,
            null,
            0.9738173240163878,
            0.9377166459078401,
            null,
            0.9738173240163878,
            0.9639630823912474,
            null
           ],
           "y": [
            1,
            0,
            null,
            0.052365351967224576,
            0.07430651885030926,
            null,
            0.052365351967224576,
            0.12233402455151593,
            null
           ]
          },
          {
           "hoverinfo": "none",
           "line": {
            "color": "rgb(0, 0, 0)",
            "width": 2
           },
           "mode": "lines",
           "x": [
            1,
            0.5,
            null,
            0.5378787878787878,
            0.5711205515867566,
            null
           ],
           "y": [
            0.9855072463768116,
            0.9855072463768116,
            null,
            0.9855072463768116,
            0.950766265318536,
            null
           ]
          },
          {
           "hoverinfo": "none",
           "line": {
            "color": "rgb(0, 0, 0)",
            "width": 2
           },
           "mode": "lines",
           "x": [
            0.5,
            1,
            null,
            0.9738173240163878,
            0.9639630823912474,
            null,
            0.9738173240163878,
            0.9377166459078401,
            null
           ],
           "y": [
            0,
            1,
            null,
            0.9476346480327754,
            0.8776659754484841,
            null,
            0.9476346480327754,
            0.9256934811496907,
            null
           ]
          },
          {
           "hoverinfo": "none",
           "line": {
            "color": "rgb(255, 0, 0)",
            "width": 2
           },
           "mode": "lines",
           "x": [
            0.5,
            1,
            null,
            0.9621212121212122,
            0.9288794484132434,
            null,
            0.9621212121212122,
            0.9288794484132434,
            null
           ],
           "y": [
            0,
            0,
            null,
            0,
            -0.03474098105827558,
            null,
            0,
            0.03474098105827558,
            null
           ]
          },
          {
           "hoverinfo": "none",
           "line": {
            "color": "rgb(0, 0, 0)",
            "width": 2
           },
           "mode": "lines",
           "x": [
            1,
            0,
            null,
            0.03664774299318793,
            0.07340128670201525,
            null,
            0.03664774299318793,
            0.06421703965128427,
            null
           ],
           "y": [
            0,
            0.5,
            null,
            0.481676128503406,
            0.4992073320037643,
            null,
            0.481676128503406,
            0.4319835048195859,
            null
           ]
          },
          {
           "hoverinfo": "none",
           "line": {
            "color": "rgb(0, 0, 0)",
            "width": 2
           },
           "mode": "lines",
           "x": [
            1,
            1,
            null,
            1,
            1.0181600582804622,
            null,
            1,
            0.9818399417195378,
            null
           ],
           "y": [
            0,
            1,
            null,
            0.927536231884058,
            0.8639432926166397,
            null,
            0.927536231884058,
            0.8639432926166397,
            null
           ]
          },
          {
           "hoverinfo": "none",
           "marker": {
            "color": "rgb(255, 255, 255)",
            "line": {
             "color": "rgb(0, 0, 0)",
             "width": 2
            },
            "size": 20
           },
           "mode": "markers+text",
           "text": [
            "0"
           ],
           "textfont": {
            "color": "rgb(0, 0, 0)"
           },
           "textposition": "middle center",
           "x": [
            0
           ],
           "y": [
            0.5
           ]
          },
          {
           "hoverinfo": "none",
           "marker": {
            "color": "rgb(255, 255, 255)",
            "line": {
             "color": "rgb(0, 0, 0)",
             "width": 2
            },
            "size": 20
           },
           "mode": "markers+text",
           "text": [
            "2"
           ],
           "textfont": {
            "color": "rgb(0, 0, 0)"
           },
           "textposition": "middle center",
           "x": [
            0.5
           ],
           "y": [
            1
           ]
          },
          {
           "hoverinfo": "none",
           "marker": {
            "color": "rgb(255, 255, 255)",
            "line": {
             "color": "rgb(0, 0, 0)",
             "width": 2
            },
            "size": 20
           },
           "mode": "markers+text",
           "text": [
            "4"
           ],
           "textfont": {
            "color": "rgb(0, 0, 0)"
           },
           "textposition": "middle center",
           "x": [
            1
           ],
           "y": [
            1
           ]
          },
          {
           "hoverinfo": "none",
           "marker": {
            "color": "rgb(255, 255, 255)",
            "line": {
             "color": "rgb(0, 0, 0)",
             "width": 2
            },
            "size": 20
           },
           "mode": "markers+text",
           "text": [
            "7"
           ],
           "textfont": {
            "color": "rgb(0, 0, 0)"
           },
           "textposition": "middle center",
           "x": [
            0.5
           ],
           "y": [
            0
           ]
          },
          {
           "hoverinfo": "none",
           "marker": {
            "color": "rgb(255, 255, 255)",
            "line": {
             "color": "rgb(0, 0, 0)",
             "width": 2
            },
            "size": 20
           },
           "mode": "markers+text",
           "text": [
            "-2"
           ],
           "textfont": {
            "color": "rgb(0, 0, 0)"
           },
           "textposition": "middle center",
           "x": [
            1
           ],
           "y": [
            0
           ]
          }
         ],
         "name": 38
        },
        {
         "data": [
          {
           "hoverinfo": "none",
           "line": {
            "color": "rgb(0, 0, 0)",
            "width": 2
           },
           "mode": "lines",
           "x": [
            0,
            0.5,
            null,
            0.46643085439538495,
            0.44538388103556675,
            null,
            0.46643085439538495,
            0.4285584341548651,
            null
           ],
           "y": [
            0.5,
            1,
            null,
            0.966430854395385,
            0.906182816233176,
            null,
            0.966430854395385,
            0.967759498957256,
            null
           ]
          },
          {
           "hoverinfo": "none",
           "line": {
            "color": "rgb(0, 0, 0)",
            "width": 2
           },
           "mode": "lines",
           "x": [
            0,
            0.5,
            null,
            0.46643085439538495,
            0.4285584341548651,
            null,
            0.46643085439538495,
            0.44538388103556675,
            null
           ],
           "y": [
            0.5,
            0,
            null,
            0.03356914560461503,
            0.032240501042743994,
            null,
            0.03356914560461503,
            0.09381718376682407,
            null
           ]
          },
          {
           "hoverinfo": "none",
           "line": {
            "color": "rgb(0, 0, 0)",
            "width": 2
           },
           "mode": "lines",
           "x": [
            0.5,
            1,
            null,
            0.9621212121212122,
            0.9288794484132434,
            null
           ],
           "y": [
            1.0144927536231885,
            1.0144927536231885,
            null,
            1.0144927536231885,
            1.049233734681464,
            null
           ]
          },
          {
           "hoverinfo": "none",
           "line": {
            "color": "rgb(0, 0, 0)",
            "width": 2
           },
           "mode": "lines",
           "x": [
            0.5,
            0.5,
            null,
            0.5,
            0.48183994171953776,
            null,
            0.5,
            0.5181600582804622,
            null
           ],
           "y": [
            1,
            0,
            null,
            0.07246376811594203,
            0.13605670738336034,
            null,
            0.07246376811594203,
            0.13605670738336034,
            null
           ]
          },
          {
           "hoverinfo": "none",
           "line": {
            "color": "rgb(0, 0, 0)",
            "width": 2
           },
           "mode": "lines",
           "x": [
            0.5,
            1,
            null,
            0.9738173240163878,
            0.9377166459078401,
            null,
            0.9738173240163878,
            0.9639630823912474,
            null
           ],
           "y": [
            1,
            0,
            null,
            0.052365351967224576,
            0.07430651885030926,
            null,
            0.052365351967224576,
            0.12233402455151593,
            null
           ]
          },
          {
           "hoverinfo": "none",
           "line": {
            "color": "rgb(0, 0, 0)",
            "width": 2
           },
           "mode": "lines",
           "x": [
            1,
            0.5,
            null,
            0.5378787878787878,
            0.5711205515867566,
            null
           ],
           "y": [
            0.9855072463768116,
            0.9855072463768116,
            null,
            0.9855072463768116,
            0.950766265318536,
            null
           ]
          },
          {
           "hoverinfo": "none",
           "line": {
            "color": "rgb(0, 0, 0)",
            "width": 2
           },
           "mode": "lines",
           "x": [
            0.5,
            1,
            null,
            0.9738173240163878,
            0.9639630823912474,
            null,
            0.9738173240163878,
            0.9377166459078401,
            null
           ],
           "y": [
            0,
            1,
            null,
            0.9476346480327754,
            0.8776659754484841,
            null,
            0.9476346480327754,
            0.9256934811496907,
            null
           ]
          },
          {
           "hoverinfo": "none",
           "line": {
            "color": "rgb(0, 0, 0)",
            "width": 2
           },
           "mode": "lines",
           "x": [
            0.5,
            1,
            null,
            0.9621212121212122,
            0.9288794484132434,
            null,
            0.9621212121212122,
            0.9288794484132434,
            null
           ],
           "y": [
            0,
            0,
            null,
            0,
            -0.03474098105827558,
            null,
            0,
            0.03474098105827558,
            null
           ]
          },
          {
           "hoverinfo": "none",
           "line": {
            "color": "rgb(255, 0, 0)",
            "width": 2
           },
           "mode": "lines",
           "x": [
            1,
            0,
            null,
            0.03664774299318793,
            0.07340128670201525,
            null,
            0.03664774299318793,
            0.06421703965128427,
            null
           ],
           "y": [
            0,
            0.5,
            null,
            0.481676128503406,
            0.4992073320037643,
            null,
            0.481676128503406,
            0.4319835048195859,
            null
           ]
          },
          {
           "hoverinfo": "none",
           "line": {
            "color": "rgb(0, 0, 0)",
            "width": 2
           },
           "mode": "lines",
           "x": [
            1,
            1,
            null,
            1,
            1.0181600582804622,
            null,
            1,
            0.9818399417195378,
            null
           ],
           "y": [
            0,
            1,
            null,
            0.927536231884058,
            0.8639432926166397,
            null,
            0.927536231884058,
            0.8639432926166397,
            null
           ]
          },
          {
           "hoverinfo": "none",
           "marker": {
            "color": "rgb(255, 255, 255)",
            "line": {
             "color": "rgb(0, 0, 0)",
             "width": 2
            },
            "size": 20
           },
           "mode": "markers+text",
           "text": [
            "0"
           ],
           "textfont": {
            "color": "rgb(0, 0, 0)"
           },
           "textposition": "middle center",
           "x": [
            0
           ],
           "y": [
            0.5
           ]
          },
          {
           "hoverinfo": "none",
           "marker": {
            "color": "rgb(255, 255, 255)",
            "line": {
             "color": "rgb(0, 0, 0)",
             "width": 2
            },
            "size": 20
           },
           "mode": "markers+text",
           "text": [
            "2"
           ],
           "textfont": {
            "color": "rgb(0, 0, 0)"
           },
           "textposition": "middle center",
           "x": [
            0.5
           ],
           "y": [
            1
           ]
          },
          {
           "hoverinfo": "none",
           "marker": {
            "color": "rgb(255, 255, 255)",
            "line": {
             "color": "rgb(0, 0, 0)",
             "width": 2
            },
            "size": 20
           },
           "mode": "markers+text",
           "text": [
            "4"
           ],
           "textfont": {
            "color": "rgb(0, 0, 0)"
           },
           "textposition": "middle center",
           "x": [
            1
           ],
           "y": [
            1
           ]
          },
          {
           "hoverinfo": "none",
           "marker": {
            "color": "rgb(255, 255, 255)",
            "line": {
             "color": "rgb(0, 0, 0)",
             "width": 2
            },
            "size": 20
           },
           "mode": "markers+text",
           "text": [
            "7"
           ],
           "textfont": {
            "color": "rgb(0, 0, 0)"
           },
           "textposition": "middle center",
           "x": [
            0.5
           ],
           "y": [
            0
           ]
          },
          {
           "hoverinfo": "none",
           "marker": {
            "color": "rgb(255, 255, 255)",
            "line": {
             "color": "rgb(0, 0, 0)",
             "width": 2
            },
            "size": 20
           },
           "mode": "markers+text",
           "text": [
            "-2"
           ],
           "textfont": {
            "color": "rgb(0, 0, 0)"
           },
           "textposition": "middle center",
           "x": [
            1
           ],
           "y": [
            0
           ]
          }
         ],
         "name": 39
        },
        {
         "data": [
          {
           "hoverinfo": "none",
           "line": {
            "color": "rgb(0, 0, 0)",
            "width": 2
           },
           "mode": "lines",
           "x": [
            0,
            0.5,
            null,
            0.46643085439538495,
            0.44538388103556675,
            null,
            0.46643085439538495,
            0.4285584341548651,
            null
           ],
           "y": [
            0.5,
            1,
            null,
            0.966430854395385,
            0.906182816233176,
            null,
            0.966430854395385,
            0.967759498957256,
            null
           ]
          },
          {
           "hoverinfo": "none",
           "line": {
            "color": "rgb(0, 0, 0)",
            "width": 2
           },
           "mode": "lines",
           "x": [
            0,
            0.5,
            null,
            0.46643085439538495,
            0.4285584341548651,
            null,
            0.46643085439538495,
            0.44538388103556675,
            null
           ],
           "y": [
            0.5,
            0,
            null,
            0.03356914560461503,
            0.032240501042743994,
            null,
            0.03356914560461503,
            0.09381718376682407,
            null
           ]
          },
          {
           "hoverinfo": "none",
           "line": {
            "color": "rgb(0, 0, 0)",
            "width": 2
           },
           "mode": "lines",
           "x": [
            0.5,
            1,
            null,
            0.9621212121212122,
            0.9288794484132434,
            null
           ],
           "y": [
            1.0144927536231885,
            1.0144927536231885,
            null,
            1.0144927536231885,
            1.049233734681464,
            null
           ]
          },
          {
           "hoverinfo": "none",
           "line": {
            "color": "rgb(0, 0, 0)",
            "width": 2
           },
           "mode": "lines",
           "x": [
            0.5,
            0.5,
            null,
            0.5,
            0.48183994171953776,
            null,
            0.5,
            0.5181600582804622,
            null
           ],
           "y": [
            1,
            0,
            null,
            0.07246376811594203,
            0.13605670738336034,
            null,
            0.07246376811594203,
            0.13605670738336034,
            null
           ]
          },
          {
           "hoverinfo": "none",
           "line": {
            "color": "rgb(0, 0, 0)",
            "width": 2
           },
           "mode": "lines",
           "x": [
            0.5,
            1,
            null,
            0.9738173240163878,
            0.9377166459078401,
            null,
            0.9738173240163878,
            0.9639630823912474,
            null
           ],
           "y": [
            1,
            0,
            null,
            0.052365351967224576,
            0.07430651885030926,
            null,
            0.052365351967224576,
            0.12233402455151593,
            null
           ]
          },
          {
           "hoverinfo": "none",
           "line": {
            "color": "rgb(0, 0, 0)",
            "width": 2
           },
           "mode": "lines",
           "x": [
            1,
            0.5,
            null,
            0.5378787878787878,
            0.5711205515867566,
            null
           ],
           "y": [
            0.9855072463768116,
            0.9855072463768116,
            null,
            0.9855072463768116,
            0.950766265318536,
            null
           ]
          },
          {
           "hoverinfo": "none",
           "line": {
            "color": "rgb(0, 0, 0)",
            "width": 2
           },
           "mode": "lines",
           "x": [
            0.5,
            1,
            null,
            0.9738173240163878,
            0.9639630823912474,
            null,
            0.9738173240163878,
            0.9377166459078401,
            null
           ],
           "y": [
            0,
            1,
            null,
            0.9476346480327754,
            0.8776659754484841,
            null,
            0.9476346480327754,
            0.9256934811496907,
            null
           ]
          },
          {
           "hoverinfo": "none",
           "line": {
            "color": "rgb(0, 0, 0)",
            "width": 2
           },
           "mode": "lines",
           "x": [
            0.5,
            1,
            null,
            0.9621212121212122,
            0.9288794484132434,
            null,
            0.9621212121212122,
            0.9288794484132434,
            null
           ],
           "y": [
            0,
            0,
            null,
            0,
            -0.03474098105827558,
            null,
            0,
            0.03474098105827558,
            null
           ]
          },
          {
           "hoverinfo": "none",
           "line": {
            "color": "rgb(0, 0, 0)",
            "width": 2
           },
           "mode": "lines",
           "x": [
            1,
            0,
            null,
            0.03664774299318793,
            0.07340128670201525,
            null,
            0.03664774299318793,
            0.06421703965128427,
            null
           ],
           "y": [
            0,
            0.5,
            null,
            0.481676128503406,
            0.4992073320037643,
            null,
            0.481676128503406,
            0.4319835048195859,
            null
           ]
          },
          {
           "hoverinfo": "none",
           "line": {
            "color": "rgb(255, 0, 0)",
            "width": 2
           },
           "mode": "lines",
           "x": [
            1,
            1,
            null,
            1,
            1.0181600582804622,
            null,
            1,
            0.9818399417195378,
            null
           ],
           "y": [
            0,
            1,
            null,
            0.927536231884058,
            0.8639432926166397,
            null,
            0.927536231884058,
            0.8639432926166397,
            null
           ]
          },
          {
           "hoverinfo": "none",
           "marker": {
            "color": "rgb(255, 255, 255)",
            "line": {
             "color": "rgb(0, 0, 0)",
             "width": 2
            },
            "size": 20
           },
           "mode": "markers+text",
           "text": [
            "0"
           ],
           "textfont": {
            "color": "rgb(0, 0, 0)"
           },
           "textposition": "middle center",
           "x": [
            0
           ],
           "y": [
            0.5
           ]
          },
          {
           "hoverinfo": "none",
           "marker": {
            "color": "rgb(255, 255, 255)",
            "line": {
             "color": "rgb(0, 0, 0)",
             "width": 2
            },
            "size": 20
           },
           "mode": "markers+text",
           "text": [
            "2"
           ],
           "textfont": {
            "color": "rgb(0, 0, 0)"
           },
           "textposition": "middle center",
           "x": [
            0.5
           ],
           "y": [
            1
           ]
          },
          {
           "hoverinfo": "none",
           "marker": {
            "color": "rgb(255, 255, 255)",
            "line": {
             "color": "rgb(0, 0, 0)",
             "width": 2
            },
            "size": 20
           },
           "mode": "markers+text",
           "text": [
            "4"
           ],
           "textfont": {
            "color": "rgb(0, 0, 0)"
           },
           "textposition": "middle center",
           "x": [
            1
           ],
           "y": [
            1
           ]
          },
          {
           "hoverinfo": "none",
           "marker": {
            "color": "rgb(255, 255, 255)",
            "line": {
             "color": "rgb(0, 0, 0)",
             "width": 2
            },
            "size": 20
           },
           "mode": "markers+text",
           "text": [
            "7"
           ],
           "textfont": {
            "color": "rgb(0, 0, 0)"
           },
           "textposition": "middle center",
           "x": [
            0.5
           ],
           "y": [
            0
           ]
          },
          {
           "hoverinfo": "none",
           "marker": {
            "color": "rgb(255, 255, 255)",
            "line": {
             "color": "rgb(0, 0, 0)",
             "width": 2
            },
            "size": 20
           },
           "mode": "markers+text",
           "text": [
            "-2"
           ],
           "textfont": {
            "color": "rgb(0, 0, 0)"
           },
           "textposition": "middle center",
           "x": [
            1
           ],
           "y": [
            0
           ]
          }
         ],
         "name": 40
        }
       ],
       "layout": {
        "height": 256,
        "margin": {
         "b": 0,
         "l": 0,
         "r": 0,
         "t": 0
        },
        "showlegend": false,
        "sliders": [
         {
          "currentvalue": {
           "visible": false
          },
          "steps": [
           {
            "args": [
             [
              0
             ],
             {
              "frame": {
               "redraw": false
              },
              "mode": "immediate"
             }
            ],
            "label": "",
            "method": "animate"
           },
           {
            "args": [
             [
              1
             ],
             {
              "frame": {
               "redraw": false
              },
              "mode": "immediate"
             }
            ],
            "label": "",
            "method": "animate"
           },
           {
            "args": [
             [
              2
             ],
             {
              "frame": {
               "redraw": false
              },
              "mode": "immediate"
             }
            ],
            "label": "",
            "method": "animate"
           },
           {
            "args": [
             [
              3
             ],
             {
              "frame": {
               "redraw": false
              },
              "mode": "immediate"
             }
            ],
            "label": "",
            "method": "animate"
           },
           {
            "args": [
             [
              4
             ],
             {
              "frame": {
               "redraw": false
              },
              "mode": "immediate"
             }
            ],
            "label": "",
            "method": "animate"
           },
           {
            "args": [
             [
              5
             ],
             {
              "frame": {
               "redraw": false
              },
              "mode": "immediate"
             }
            ],
            "label": "",
            "method": "animate"
           },
           {
            "args": [
             [
              6
             ],
             {
              "frame": {
               "redraw": false
              },
              "mode": "immediate"
             }
            ],
            "label": "",
            "method": "animate"
           },
           {
            "args": [
             [
              7
             ],
             {
              "frame": {
               "redraw": false
              },
              "mode": "immediate"
             }
            ],
            "label": "",
            "method": "animate"
           },
           {
            "args": [
             [
              8
             ],
             {
              "frame": {
               "redraw": false
              },
              "mode": "immediate"
             }
            ],
            "label": "",
            "method": "animate"
           },
           {
            "args": [
             [
              9
             ],
             {
              "frame": {
               "redraw": false
              },
              "mode": "immediate"
             }
            ],
            "label": "",
            "method": "animate"
           },
           {
            "args": [
             [
              10
             ],
             {
              "frame": {
               "redraw": false
              },
              "mode": "immediate"
             }
            ],
            "label": "",
            "method": "animate"
           },
           {
            "args": [
             [
              11
             ],
             {
              "frame": {
               "redraw": false
              },
              "mode": "immediate"
             }
            ],
            "label": "",
            "method": "animate"
           },
           {
            "args": [
             [
              12
             ],
             {
              "frame": {
               "redraw": false
              },
              "mode": "immediate"
             }
            ],
            "label": "",
            "method": "animate"
           },
           {
            "args": [
             [
              13
             ],
             {
              "frame": {
               "redraw": false
              },
              "mode": "immediate"
             }
            ],
            "label": "",
            "method": "animate"
           },
           {
            "args": [
             [
              14
             ],
             {
              "frame": {
               "redraw": false
              },
              "mode": "immediate"
             }
            ],
            "label": "",
            "method": "animate"
           },
           {
            "args": [
             [
              15
             ],
             {
              "frame": {
               "redraw": false
              },
              "mode": "immediate"
             }
            ],
            "label": "",
            "method": "animate"
           },
           {
            "args": [
             [
              16
             ],
             {
              "frame": {
               "redraw": false
              },
              "mode": "immediate"
             }
            ],
            "label": "",
            "method": "animate"
           },
           {
            "args": [
             [
              17
             ],
             {
              "frame": {
               "redraw": false
              },
              "mode": "immediate"
             }
            ],
            "label": "",
            "method": "animate"
           },
           {
            "args": [
             [
              18
             ],
             {
              "frame": {
               "redraw": false
              },
              "mode": "immediate"
             }
            ],
            "label": "",
            "method": "animate"
           },
           {
            "args": [
             [
              19
             ],
             {
              "frame": {
               "redraw": false
              },
              "mode": "immediate"
             }
            ],
            "label": "",
            "method": "animate"
           },
           {
            "args": [
             [
              20
             ],
             {
              "frame": {
               "redraw": false
              },
              "mode": "immediate"
             }
            ],
            "label": "",
            "method": "animate"
           },
           {
            "args": [
             [
              21
             ],
             {
              "frame": {
               "redraw": false
              },
              "mode": "immediate"
             }
            ],
            "label": "",
            "method": "animate"
           },
           {
            "args": [
             [
              22
             ],
             {
              "frame": {
               "redraw": false
              },
              "mode": "immediate"
             }
            ],
            "label": "",
            "method": "animate"
           },
           {
            "args": [
             [
              23
             ],
             {
              "frame": {
               "redraw": false
              },
              "mode": "immediate"
             }
            ],
            "label": "",
            "method": "animate"
           },
           {
            "args": [
             [
              24
             ],
             {
              "frame": {
               "redraw": false
              },
              "mode": "immediate"
             }
            ],
            "label": "",
            "method": "animate"
           },
           {
            "args": [
             [
              25
             ],
             {
              "frame": {
               "redraw": false
              },
              "mode": "immediate"
             }
            ],
            "label": "",
            "method": "animate"
           },
           {
            "args": [
             [
              26
             ],
             {
              "frame": {
               "redraw": false
              },
              "mode": "immediate"
             }
            ],
            "label": "",
            "method": "animate"
           },
           {
            "args": [
             [
              27
             ],
             {
              "frame": {
               "redraw": false
              },
              "mode": "immediate"
             }
            ],
            "label": "",
            "method": "animate"
           },
           {
            "args": [
             [
              28
             ],
             {
              "frame": {
               "redraw": false
              },
              "mode": "immediate"
             }
            ],
            "label": "",
            "method": "animate"
           },
           {
            "args": [
             [
              29
             ],
             {
              "frame": {
               "redraw": false
              },
              "mode": "immediate"
             }
            ],
            "label": "",
            "method": "animate"
           },
           {
            "args": [
             [
              30
             ],
             {
              "frame": {
               "redraw": false
              },
              "mode": "immediate"
             }
            ],
            "label": "",
            "method": "animate"
           },
           {
            "args": [
             [
              31
             ],
             {
              "frame": {
               "redraw": false
              },
              "mode": "immediate"
             }
            ],
            "label": "",
            "method": "animate"
           },
           {
            "args": [
             [
              32
             ],
             {
              "frame": {
               "redraw": false
              },
              "mode": "immediate"
             }
            ],
            "label": "",
            "method": "animate"
           },
           {
            "args": [
             [
              33
             ],
             {
              "frame": {
               "redraw": false
              },
              "mode": "immediate"
             }
            ],
            "label": "",
            "method": "animate"
           },
           {
            "args": [
             [
              34
             ],
             {
              "frame": {
               "redraw": false
              },
              "mode": "immediate"
             }
            ],
            "label": "",
            "method": "animate"
           },
           {
            "args": [
             [
              35
             ],
             {
              "frame": {
               "redraw": false
              },
              "mode": "immediate"
             }
            ],
            "label": "",
            "method": "animate"
           },
           {
            "args": [
             [
              36
             ],
             {
              "frame": {
               "redraw": false
              },
              "mode": "immediate"
             }
            ],
            "label": "",
            "method": "animate"
           },
           {
            "args": [
             [
              37
             ],
             {
              "frame": {
               "redraw": false
              },
              "mode": "immediate"
             }
            ],
            "label": "",
            "method": "animate"
           },
           {
            "args": [
             [
              38
             ],
             {
              "frame": {
               "redraw": false
              },
              "mode": "immediate"
             }
            ],
            "label": "",
            "method": "animate"
           },
           {
            "args": [
             [
              39
             ],
             {
              "frame": {
               "redraw": false
              },
              "mode": "immediate"
             }
            ],
            "label": "",
            "method": "animate"
           },
           {
            "args": [
             [
              40
             ],
             {
              "frame": {
               "redraw": false
              },
              "mode": "immediate"
             }
            ],
            "label": "",
            "method": "animate"
           }
          ]
         }
        ],
        "updatemenus": [
         {
          "buttons": [
           {
            "args": [
             null,
             {
              "frame": {
               "redraw": false
              },
              "fromcurrent": true
             }
            ],
            "label": "Play",
            "method": "animate"
           },
           {
            "args": [
             [
              null
             ],
             {
              "frame": {
               "redraw": false
              },
              "mode": "immediate"
             }
            ],
            "label": "Pause",
            "method": "animate"
           }
          ],
          "showactive": true,
          "type": "buttons"
         }
        ],
        "width": 408,
        "xaxis": {
         "showgrid": false,
         "showticklabels": false,
         "zeroline": false
        },
        "yaxis": {
         "showgrid": false,
         "showticklabels": false,
         "zeroline": false
        }
       }
      },
      "text/html": [
       "<div id=\"f43fe06c-d3f8-48ad-8871-b5df286688d6\" style=\"height: 256.0px; width: 408.0px;\" class=\"plotly-graph-div\"></div><script type=\"text/javascript\">require([\"plotly\"], function(Plotly) { window.PLOTLYENV=window.PLOTLYENV || {};window.PLOTLYENV.BASE_URL=\"https://plot.ly\";\n",
       "        Plotly.plot(\n",
       "            'f43fe06c-d3f8-48ad-8871-b5df286688d6',\n",
       "            [{\"y\": [0.5, 1.0, null, 0.966430854395385, 0.906182816233176, null, 0.966430854395385, 0.967759498957256, null], \"x\": [0.0, 0.5, null, 0.46643085439538495, 0.44538388103556675, null, 0.46643085439538495, 0.4285584341548651, null], \"line\": {\"width\": 2, \"color\": \"rgb(0, 0, 0)\"}, \"mode\": \"lines\", \"hoverinfo\": \"none\"}, {\"y\": [0.5, 0.0, null, 0.03356914560461503, 0.032240501042743994, null, 0.03356914560461503, 0.09381718376682407, null], \"x\": [0.0, 0.5, null, 0.46643085439538495, 0.4285584341548651, null, 0.46643085439538495, 0.44538388103556675, null], \"line\": {\"width\": 2, \"color\": \"rgb(0, 0, 0)\"}, \"mode\": \"lines\", \"hoverinfo\": \"none\"}, {\"y\": [1.0144927536231885, 1.0144927536231885, null, 1.0144927536231885, 1.049233734681464, null], \"x\": [0.5, 1.0, null, 0.9621212121212122, 0.9288794484132434, null], \"line\": {\"width\": 2, \"color\": \"rgb(0, 0, 0)\"}, \"mode\": \"lines\", \"hoverinfo\": \"none\"}, {\"y\": [1.0, 0.0, null, 0.07246376811594203, 0.13605670738336034, null, 0.07246376811594203, 0.13605670738336034, null], \"x\": [0.5, 0.5, null, 0.5, 0.48183994171953776, null, 0.5, 0.5181600582804622, null], \"line\": {\"width\": 2, \"color\": \"rgb(0, 0, 0)\"}, \"mode\": \"lines\", \"hoverinfo\": \"none\"}, {\"y\": [1.0, 0.0, null, 0.052365351967224576, 0.07430651885030926, null, 0.052365351967224576, 0.12233402455151593, null], \"x\": [0.5, 1.0, null, 0.9738173240163878, 0.9377166459078401, null, 0.9738173240163878, 0.9639630823912474, null], \"line\": {\"width\": 2, \"color\": \"rgb(0, 0, 0)\"}, \"mode\": \"lines\", \"hoverinfo\": \"none\"}, {\"y\": [0.9855072463768116, 0.9855072463768116, null, 0.9855072463768116, 0.950766265318536, null], \"x\": [1.0, 0.5, null, 0.5378787878787878, 0.5711205515867566, null], \"line\": {\"width\": 2, \"color\": \"rgb(0, 0, 0)\"}, \"mode\": \"lines\", \"hoverinfo\": \"none\"}, {\"y\": [0.0, 1.0, null, 0.9476346480327754, 0.8776659754484841, null, 0.9476346480327754, 0.9256934811496907, null], \"x\": [0.5, 1.0, null, 0.9738173240163878, 0.9639630823912474, null, 0.9738173240163878, 0.9377166459078401, null], \"line\": {\"width\": 2, \"color\": \"rgb(0, 0, 0)\"}, \"mode\": \"lines\", \"hoverinfo\": \"none\"}, {\"y\": [0.0, 0.0, null, 0.0, -0.03474098105827558, null, 0.0, 0.03474098105827558, null], \"x\": [0.5, 1.0, null, 0.9621212121212122, 0.9288794484132434, null, 0.9621212121212122, 0.9288794484132434, null], \"line\": {\"width\": 2, \"color\": \"rgb(0, 0, 0)\"}, \"mode\": \"lines\", \"hoverinfo\": \"none\"}, {\"y\": [0.0, 0.5, null, 0.481676128503406, 0.4992073320037643, null, 0.481676128503406, 0.4319835048195859, null], \"x\": [1.0, 0.0, null, 0.03664774299318793, 0.07340128670201525, null, 0.03664774299318793, 0.06421703965128427, null], \"line\": {\"width\": 2, \"color\": \"rgb(0, 0, 0)\"}, \"mode\": \"lines\", \"hoverinfo\": \"none\"}, {\"y\": [0.0, 1.0, null, 0.927536231884058, 0.8639432926166397, null, 0.927536231884058, 0.8639432926166397, null], \"x\": [1.0, 1.0, null, 1.0, 1.0181600582804622, null, 1.0, 0.9818399417195378, null], \"line\": {\"width\": 2, \"color\": \"rgb(0, 0, 0)\"}, \"mode\": \"lines\", \"hoverinfo\": \"none\"}, {\"y\": [0.5], \"marker\": {\"line\": {\"width\": 2, \"color\": \"rgb(0, 0, 0)\"}, \"color\": \"rgb(255, 255, 255)\", \"size\": 20}, \"hoverinfo\": \"none\", \"textposition\": \"middle center\", \"x\": [0.0], \"mode\": \"markers+text\", \"text\": [\"0\"], \"textfont\": {\"color\": \"rgb(0, 0, 0)\"}}, {\"y\": [1.0], \"marker\": {\"line\": {\"width\": 2, \"color\": \"rgb(0, 0, 0)\"}, \"color\": \"rgb(255, 255, 255)\", \"size\": 20}, \"hoverinfo\": \"none\", \"textposition\": \"middle center\", \"x\": [0.5], \"mode\": \"markers+text\", \"text\": [\"\\u221e\"], \"textfont\": {\"color\": \"rgb(0, 0, 0)\"}}, {\"y\": [1.0], \"marker\": {\"line\": {\"width\": 2, \"color\": \"rgb(0, 0, 0)\"}, \"color\": \"rgb(255, 255, 255)\", \"size\": 20}, \"hoverinfo\": \"none\", \"textposition\": \"middle center\", \"x\": [1.0], \"mode\": \"markers+text\", \"text\": [\"\\u221e\"], \"textfont\": {\"color\": \"rgb(0, 0, 0)\"}}, {\"y\": [0.0], \"marker\": {\"line\": {\"width\": 2, \"color\": \"rgb(0, 0, 0)\"}, \"color\": \"rgb(255, 255, 255)\", \"size\": 20}, \"hoverinfo\": \"none\", \"textposition\": \"middle center\", \"x\": [0.5], \"mode\": \"markers+text\", \"text\": [\"\\u221e\"], \"textfont\": {\"color\": \"rgb(0, 0, 0)\"}}, {\"y\": [0.0], \"marker\": {\"line\": {\"width\": 2, \"color\": \"rgb(0, 0, 0)\"}, \"color\": \"rgb(255, 255, 255)\", \"size\": 20}, \"hoverinfo\": \"none\", \"textposition\": \"middle center\", \"x\": [1.0], \"mode\": \"markers+text\", \"text\": [\"\\u221e\"], \"textfont\": {\"color\": \"rgb(0, 0, 0)\"}}],\n",
       "            {\"width\": 408.0, \"sliders\": [{\"steps\": [{\"args\": [[0], {\"frame\": {\"redraw\": false}, \"mode\": \"immediate\"}], \"method\": \"animate\", \"label\": \"\"}, {\"args\": [[1], {\"frame\": {\"redraw\": false}, \"mode\": \"immediate\"}], \"method\": \"animate\", \"label\": \"\"}, {\"args\": [[2], {\"frame\": {\"redraw\": false}, \"mode\": \"immediate\"}], \"method\": \"animate\", \"label\": \"\"}, {\"args\": [[3], {\"frame\": {\"redraw\": false}, \"mode\": \"immediate\"}], \"method\": \"animate\", \"label\": \"\"}, {\"args\": [[4], {\"frame\": {\"redraw\": false}, \"mode\": \"immediate\"}], \"method\": \"animate\", \"label\": \"\"}, {\"args\": [[5], {\"frame\": {\"redraw\": false}, \"mode\": \"immediate\"}], \"method\": \"animate\", \"label\": \"\"}, {\"args\": [[6], {\"frame\": {\"redraw\": false}, \"mode\": \"immediate\"}], \"method\": \"animate\", \"label\": \"\"}, {\"args\": [[7], {\"frame\": {\"redraw\": false}, \"mode\": \"immediate\"}], \"method\": \"animate\", \"label\": \"\"}, {\"args\": [[8], {\"frame\": {\"redraw\": false}, \"mode\": \"immediate\"}], \"method\": \"animate\", \"label\": \"\"}, {\"args\": [[9], {\"frame\": {\"redraw\": false}, \"mode\": \"immediate\"}], \"method\": \"animate\", \"label\": \"\"}, {\"args\": [[10], {\"frame\": {\"redraw\": false}, \"mode\": \"immediate\"}], \"method\": \"animate\", \"label\": \"\"}, {\"args\": [[11], {\"frame\": {\"redraw\": false}, \"mode\": \"immediate\"}], \"method\": \"animate\", \"label\": \"\"}, {\"args\": [[12], {\"frame\": {\"redraw\": false}, \"mode\": \"immediate\"}], \"method\": \"animate\", \"label\": \"\"}, {\"args\": [[13], {\"frame\": {\"redraw\": false}, \"mode\": \"immediate\"}], \"method\": \"animate\", \"label\": \"\"}, {\"args\": [[14], {\"frame\": {\"redraw\": false}, \"mode\": \"immediate\"}], \"method\": \"animate\", \"label\": \"\"}, {\"args\": [[15], {\"frame\": {\"redraw\": false}, \"mode\": \"immediate\"}], \"method\": \"animate\", \"label\": \"\"}, {\"args\": [[16], {\"frame\": {\"redraw\": false}, \"mode\": \"immediate\"}], \"method\": \"animate\", \"label\": \"\"}, {\"args\": [[17], {\"frame\": {\"redraw\": false}, \"mode\": \"immediate\"}], \"method\": \"animate\", \"label\": \"\"}, {\"args\": [[18], {\"frame\": {\"redraw\": false}, \"mode\": \"immediate\"}], \"method\": \"animate\", \"label\": \"\"}, {\"args\": [[19], {\"frame\": {\"redraw\": false}, \"mode\": \"immediate\"}], \"method\": \"animate\", \"label\": \"\"}, {\"args\": [[20], {\"frame\": {\"redraw\": false}, \"mode\": \"immediate\"}], \"method\": \"animate\", \"label\": \"\"}, {\"args\": [[21], {\"frame\": {\"redraw\": false}, \"mode\": \"immediate\"}], \"method\": \"animate\", \"label\": \"\"}, {\"args\": [[22], {\"frame\": {\"redraw\": false}, \"mode\": \"immediate\"}], \"method\": \"animate\", \"label\": \"\"}, {\"args\": [[23], {\"frame\": {\"redraw\": false}, \"mode\": \"immediate\"}], \"method\": \"animate\", \"label\": \"\"}, {\"args\": [[24], {\"frame\": {\"redraw\": false}, \"mode\": \"immediate\"}], \"method\": \"animate\", \"label\": \"\"}, {\"args\": [[25], {\"frame\": {\"redraw\": false}, \"mode\": \"immediate\"}], \"method\": \"animate\", \"label\": \"\"}, {\"args\": [[26], {\"frame\": {\"redraw\": false}, \"mode\": \"immediate\"}], \"method\": \"animate\", \"label\": \"\"}, {\"args\": [[27], {\"frame\": {\"redraw\": false}, \"mode\": \"immediate\"}], \"method\": \"animate\", \"label\": \"\"}, {\"args\": [[28], {\"frame\": {\"redraw\": false}, \"mode\": \"immediate\"}], \"method\": \"animate\", \"label\": \"\"}, {\"args\": [[29], {\"frame\": {\"redraw\": false}, \"mode\": \"immediate\"}], \"method\": \"animate\", \"label\": \"\"}, {\"args\": [[30], {\"frame\": {\"redraw\": false}, \"mode\": \"immediate\"}], \"method\": \"animate\", \"label\": \"\"}, {\"args\": [[31], {\"frame\": {\"redraw\": false}, \"mode\": \"immediate\"}], \"method\": \"animate\", \"label\": \"\"}, {\"args\": [[32], {\"frame\": {\"redraw\": false}, \"mode\": \"immediate\"}], \"method\": \"animate\", \"label\": \"\"}, {\"args\": [[33], {\"frame\": {\"redraw\": false}, \"mode\": \"immediate\"}], \"method\": \"animate\", \"label\": \"\"}, {\"args\": [[34], {\"frame\": {\"redraw\": false}, \"mode\": \"immediate\"}], \"method\": \"animate\", \"label\": \"\"}, {\"args\": [[35], {\"frame\": {\"redraw\": false}, \"mode\": \"immediate\"}], \"method\": \"animate\", \"label\": \"\"}, {\"args\": [[36], {\"frame\": {\"redraw\": false}, \"mode\": \"immediate\"}], \"method\": \"animate\", \"label\": \"\"}, {\"args\": [[37], {\"frame\": {\"redraw\": false}, \"mode\": \"immediate\"}], \"method\": \"animate\", \"label\": \"\"}, {\"args\": [[38], {\"frame\": {\"redraw\": false}, \"mode\": \"immediate\"}], \"method\": \"animate\", \"label\": \"\"}, {\"args\": [[39], {\"frame\": {\"redraw\": false}, \"mode\": \"immediate\"}], \"method\": \"animate\", \"label\": \"\"}, {\"args\": [[40], {\"frame\": {\"redraw\": false}, \"mode\": \"immediate\"}], \"method\": \"animate\", \"label\": \"\"}], \"currentvalue\": {\"visible\": false}}], \"margin\": {\"r\": 0, \"b\": 0, \"l\": 0, \"t\": 0}, \"showlegend\": false, \"height\": 256.0, \"updatemenus\": [{\"type\": \"buttons\", \"buttons\": [{\"args\": [null, {\"frame\": {\"redraw\": false}, \"fromcurrent\": true}], \"method\": \"animate\", \"label\": \"Play\"}, {\"args\": [[null], {\"frame\": {\"redraw\": false}, \"mode\": \"immediate\"}], \"method\": \"animate\", \"label\": \"Pause\"}], \"showactive\": true}], \"yaxis\": {\"zeroline\": false, \"showticklabels\": false, \"showgrid\": false}, \"xaxis\": {\"zeroline\": false, \"showticklabels\": false, \"showgrid\": false}},\n",
       "            {\"displayModeBar\": false, \"showLink\": false, \"linkText\": \"Export to plot.ly\"}\n",
       "        ).then(function () {return Plotly.addFrames('f43fe06c-d3f8-48ad-8871-b5df286688d6',[{\"name\": 0, \"data\": [{\"y\": [0.5, 1.0, null, 0.966430854395385, 0.906182816233176, null, 0.966430854395385, 0.967759498957256, null], \"x\": [0.0, 0.5, null, 0.46643085439538495, 0.44538388103556675, null, 0.46643085439538495, 0.4285584341548651, null], \"line\": {\"width\": 2, \"color\": \"rgb(0, 0, 0)\"}, \"mode\": \"lines\", \"hoverinfo\": \"none\"}, {\"y\": [0.5, 0.0, null, 0.03356914560461503, 0.032240501042743994, null, 0.03356914560461503, 0.09381718376682407, null], \"x\": [0.0, 0.5, null, 0.46643085439538495, 0.4285584341548651, null, 0.46643085439538495, 0.44538388103556675, null], \"line\": {\"width\": 2, \"color\": \"rgb(0, 0, 0)\"}, \"mode\": \"lines\", \"hoverinfo\": \"none\"}, {\"y\": [1.0144927536231885, 1.0144927536231885, null, 1.0144927536231885, 1.049233734681464, null], \"x\": [0.5, 1.0, null, 0.9621212121212122, 0.9288794484132434, null], \"line\": {\"width\": 2, \"color\": \"rgb(0, 0, 0)\"}, \"mode\": \"lines\", \"hoverinfo\": \"none\"}, {\"y\": [1.0, 0.0, null, 0.07246376811594203, 0.13605670738336034, null, 0.07246376811594203, 0.13605670738336034, null], \"x\": [0.5, 0.5, null, 0.5, 0.48183994171953776, null, 0.5, 0.5181600582804622, null], \"line\": {\"width\": 2, \"color\": \"rgb(0, 0, 0)\"}, \"mode\": \"lines\", \"hoverinfo\": \"none\"}, {\"y\": [1.0, 0.0, null, 0.052365351967224576, 0.07430651885030926, null, 0.052365351967224576, 0.12233402455151593, null], \"x\": [0.5, 1.0, null, 0.9738173240163878, 0.9377166459078401, null, 0.9738173240163878, 0.9639630823912474, null], \"line\": {\"width\": 2, \"color\": \"rgb(0, 0, 0)\"}, \"mode\": \"lines\", \"hoverinfo\": \"none\"}, {\"y\": [0.9855072463768116, 0.9855072463768116, null, 0.9855072463768116, 0.950766265318536, null], \"x\": [1.0, 0.5, null, 0.5378787878787878, 0.5711205515867566, null], \"line\": {\"width\": 2, \"color\": \"rgb(0, 0, 0)\"}, \"mode\": \"lines\", \"hoverinfo\": \"none\"}, {\"y\": [0.0, 1.0, null, 0.9476346480327754, 0.8776659754484841, null, 0.9476346480327754, 0.9256934811496907, null], \"x\": [0.5, 1.0, null, 0.9738173240163878, 0.9639630823912474, null, 0.9738173240163878, 0.9377166459078401, null], \"line\": {\"width\": 2, \"color\": \"rgb(0, 0, 0)\"}, \"mode\": \"lines\", \"hoverinfo\": \"none\"}, {\"y\": [0.0, 0.0, null, 0.0, -0.03474098105827558, null, 0.0, 0.03474098105827558, null], \"x\": [0.5, 1.0, null, 0.9621212121212122, 0.9288794484132434, null, 0.9621212121212122, 0.9288794484132434, null], \"line\": {\"width\": 2, \"color\": \"rgb(0, 0, 0)\"}, \"mode\": \"lines\", \"hoverinfo\": \"none\"}, {\"y\": [0.0, 0.5, null, 0.481676128503406, 0.4992073320037643, null, 0.481676128503406, 0.4319835048195859, null], \"x\": [1.0, 0.0, null, 0.03664774299318793, 0.07340128670201525, null, 0.03664774299318793, 0.06421703965128427, null], \"line\": {\"width\": 2, \"color\": \"rgb(0, 0, 0)\"}, \"mode\": \"lines\", \"hoverinfo\": \"none\"}, {\"y\": [0.0, 1.0, null, 0.927536231884058, 0.8639432926166397, null, 0.927536231884058, 0.8639432926166397, null], \"x\": [1.0, 1.0, null, 1.0, 1.0181600582804622, null, 1.0, 0.9818399417195378, null], \"line\": {\"width\": 2, \"color\": \"rgb(0, 0, 0)\"}, \"mode\": \"lines\", \"hoverinfo\": \"none\"}, {\"y\": [0.5], \"marker\": {\"line\": {\"width\": 2, \"color\": \"rgb(0, 0, 0)\"}, \"color\": \"rgb(255, 255, 255)\", \"size\": 20}, \"hoverinfo\": \"none\", \"textposition\": \"middle center\", \"x\": [0.0], \"mode\": \"markers+text\", \"text\": [\"0\"], \"textfont\": {\"color\": \"rgb(0, 0, 0)\"}}, {\"y\": [1.0], \"marker\": {\"line\": {\"width\": 2, \"color\": \"rgb(0, 0, 0)\"}, \"color\": \"rgb(255, 255, 255)\", \"size\": 20}, \"hoverinfo\": \"none\", \"textposition\": \"middle center\", \"x\": [0.5], \"mode\": \"markers+text\", \"text\": [\"\\u221e\"], \"textfont\": {\"color\": \"rgb(0, 0, 0)\"}}, {\"y\": [1.0], \"marker\": {\"line\": {\"width\": 2, \"color\": \"rgb(0, 0, 0)\"}, \"color\": \"rgb(255, 255, 255)\", \"size\": 20}, \"hoverinfo\": \"none\", \"textposition\": \"middle center\", \"x\": [1.0], \"mode\": \"markers+text\", \"text\": [\"\\u221e\"], \"textfont\": {\"color\": \"rgb(0, 0, 0)\"}}, {\"y\": [0.0], \"marker\": {\"line\": {\"width\": 2, \"color\": \"rgb(0, 0, 0)\"}, \"color\": \"rgb(255, 255, 255)\", \"size\": 20}, \"hoverinfo\": \"none\", \"textposition\": \"middle center\", \"x\": [0.5], \"mode\": \"markers+text\", \"text\": [\"\\u221e\"], \"textfont\": {\"color\": \"rgb(0, 0, 0)\"}}, {\"y\": [0.0], \"marker\": {\"line\": {\"width\": 2, \"color\": \"rgb(0, 0, 0)\"}, \"color\": \"rgb(255, 255, 255)\", \"size\": 20}, \"hoverinfo\": \"none\", \"textposition\": \"middle center\", \"x\": [1.0], \"mode\": \"markers+text\", \"text\": [\"\\u221e\"], \"textfont\": {\"color\": \"rgb(0, 0, 0)\"}}]}, {\"name\": 1, \"data\": [{\"y\": [0.5, 1.0, null, 0.966430854395385, 0.906182816233176, null, 0.966430854395385, 0.967759498957256, null], \"x\": [0.0, 0.5, null, 0.46643085439538495, 0.44538388103556675, null, 0.46643085439538495, 0.4285584341548651, null], \"line\": {\"width\": 2, \"color\": \"rgb(0, 255, 0)\"}, \"mode\": \"lines\", \"hoverinfo\": \"none\"}, {\"y\": [0.5, 0.0, null, 0.03356914560461503, 0.032240501042743994, null, 0.03356914560461503, 0.09381718376682407, null], \"x\": [0.0, 0.5, null, 0.46643085439538495, 0.4285584341548651, null, 0.46643085439538495, 0.44538388103556675, null], \"line\": {\"width\": 2, \"color\": \"rgb(0, 0, 0)\"}, \"mode\": \"lines\", \"hoverinfo\": \"none\"}, {\"y\": [1.0144927536231885, 1.0144927536231885, null, 1.0144927536231885, 1.049233734681464, null], \"x\": [0.5, 1.0, null, 0.9621212121212122, 0.9288794484132434, null], \"line\": {\"width\": 2, \"color\": \"rgb(0, 0, 0)\"}, \"mode\": \"lines\", \"hoverinfo\": \"none\"}, {\"y\": [1.0, 0.0, null, 0.07246376811594203, 0.13605670738336034, null, 0.07246376811594203, 0.13605670738336034, null], \"x\": [0.5, 0.5, null, 0.5, 0.48183994171953776, null, 0.5, 0.5181600582804622, null], \"line\": {\"width\": 2, \"color\": \"rgb(0, 0, 0)\"}, \"mode\": \"lines\", \"hoverinfo\": \"none\"}, {\"y\": [1.0, 0.0, null, 0.052365351967224576, 0.07430651885030926, null, 0.052365351967224576, 0.12233402455151593, null], \"x\": [0.5, 1.0, null, 0.9738173240163878, 0.9377166459078401, null, 0.9738173240163878, 0.9639630823912474, null], \"line\": {\"width\": 2, \"color\": \"rgb(0, 0, 0)\"}, \"mode\": \"lines\", \"hoverinfo\": \"none\"}, {\"y\": [0.9855072463768116, 0.9855072463768116, null, 0.9855072463768116, 0.950766265318536, null], \"x\": [1.0, 0.5, null, 0.5378787878787878, 0.5711205515867566, null], \"line\": {\"width\": 2, \"color\": \"rgb(0, 0, 0)\"}, \"mode\": \"lines\", \"hoverinfo\": \"none\"}, {\"y\": [0.0, 1.0, null, 0.9476346480327754, 0.8776659754484841, null, 0.9476346480327754, 0.9256934811496907, null], \"x\": [0.5, 1.0, null, 0.9738173240163878, 0.9639630823912474, null, 0.9738173240163878, 0.9377166459078401, null], \"line\": {\"width\": 2, \"color\": \"rgb(0, 0, 0)\"}, \"mode\": \"lines\", \"hoverinfo\": \"none\"}, {\"y\": [0.0, 0.0, null, 0.0, -0.03474098105827558, null, 0.0, 0.03474098105827558, null], \"x\": [0.5, 1.0, null, 0.9621212121212122, 0.9288794484132434, null, 0.9621212121212122, 0.9288794484132434, null], \"line\": {\"width\": 2, \"color\": \"rgb(0, 0, 0)\"}, \"mode\": \"lines\", \"hoverinfo\": \"none\"}, {\"y\": [0.0, 0.5, null, 0.481676128503406, 0.4992073320037643, null, 0.481676128503406, 0.4319835048195859, null], \"x\": [1.0, 0.0, null, 0.03664774299318793, 0.07340128670201525, null, 0.03664774299318793, 0.06421703965128427, null], \"line\": {\"width\": 2, \"color\": \"rgb(0, 0, 0)\"}, \"mode\": \"lines\", \"hoverinfo\": \"none\"}, {\"y\": [0.0, 1.0, null, 0.927536231884058, 0.8639432926166397, null, 0.927536231884058, 0.8639432926166397, null], \"x\": [1.0, 1.0, null, 1.0, 1.0181600582804622, null, 1.0, 0.9818399417195378, null], \"line\": {\"width\": 2, \"color\": \"rgb(0, 0, 0)\"}, \"mode\": \"lines\", \"hoverinfo\": \"none\"}, {\"y\": [0.5], \"marker\": {\"line\": {\"width\": 2, \"color\": \"rgb(0, 0, 0)\"}, \"color\": \"rgb(255, 255, 255)\", \"size\": 20}, \"hoverinfo\": \"none\", \"textposition\": \"middle center\", \"x\": [0.0], \"mode\": \"markers+text\", \"text\": [\"0\"], \"textfont\": {\"color\": \"rgb(0, 0, 0)\"}}, {\"y\": [1.0], \"marker\": {\"line\": {\"width\": 2, \"color\": \"rgb(0, 0, 0)\"}, \"color\": \"rgb(255, 255, 255)\", \"size\": 20}, \"hoverinfo\": \"none\", \"textposition\": \"middle center\", \"x\": [0.5], \"mode\": \"markers+text\", \"text\": [\"6\"], \"textfont\": {\"color\": \"rgb(0, 0, 0)\"}}, {\"y\": [1.0], \"marker\": {\"line\": {\"width\": 2, \"color\": \"rgb(0, 0, 0)\"}, \"color\": \"rgb(255, 255, 255)\", \"size\": 20}, \"hoverinfo\": \"none\", \"textposition\": \"middle center\", \"x\": [1.0], \"mode\": \"markers+text\", \"text\": [\"\\u221e\"], \"textfont\": {\"color\": \"rgb(0, 0, 0)\"}}, {\"y\": [0.0], \"marker\": {\"line\": {\"width\": 2, \"color\": \"rgb(0, 0, 0)\"}, \"color\": \"rgb(255, 255, 255)\", \"size\": 20}, \"hoverinfo\": \"none\", \"textposition\": \"middle center\", \"x\": [0.5], \"mode\": \"markers+text\", \"text\": [\"\\u221e\"], \"textfont\": {\"color\": \"rgb(0, 0, 0)\"}}, {\"y\": [0.0], \"marker\": {\"line\": {\"width\": 2, \"color\": \"rgb(0, 0, 0)\"}, \"color\": \"rgb(255, 255, 255)\", \"size\": 20}, \"hoverinfo\": \"none\", \"textposition\": \"middle center\", \"x\": [1.0], \"mode\": \"markers+text\", \"text\": [\"\\u221e\"], \"textfont\": {\"color\": \"rgb(0, 0, 0)\"}}]}, {\"name\": 2, \"data\": [{\"y\": [0.5, 1.0, null, 0.966430854395385, 0.906182816233176, null, 0.966430854395385, 0.967759498957256, null], \"x\": [0.0, 0.5, null, 0.46643085439538495, 0.44538388103556675, null, 0.46643085439538495, 0.4285584341548651, null], \"line\": {\"width\": 2, \"color\": \"rgb(0, 0, 0)\"}, \"mode\": \"lines\", \"hoverinfo\": \"none\"}, {\"y\": [0.5, 0.0, null, 0.03356914560461503, 0.032240501042743994, null, 0.03356914560461503, 0.09381718376682407, null], \"x\": [0.0, 0.5, null, 0.46643085439538495, 0.4285584341548651, null, 0.46643085439538495, 0.44538388103556675, null], \"line\": {\"width\": 2, \"color\": \"rgb(0, 255, 0)\"}, \"mode\": \"lines\", \"hoverinfo\": \"none\"}, {\"y\": [1.0144927536231885, 1.0144927536231885, null, 1.0144927536231885, 1.049233734681464, null], \"x\": [0.5, 1.0, null, 0.9621212121212122, 0.9288794484132434, null], \"line\": {\"width\": 2, \"color\": \"rgb(0, 0, 0)\"}, \"mode\": \"lines\", \"hoverinfo\": \"none\"}, {\"y\": [1.0, 0.0, null, 0.07246376811594203, 0.13605670738336034, null, 0.07246376811594203, 0.13605670738336034, null], \"x\": [0.5, 0.5, null, 0.5, 0.48183994171953776, null, 0.5, 0.5181600582804622, null], \"line\": {\"width\": 2, \"color\": \"rgb(0, 0, 0)\"}, \"mode\": \"lines\", \"hoverinfo\": \"none\"}, {\"y\": [1.0, 0.0, null, 0.052365351967224576, 0.07430651885030926, null, 0.052365351967224576, 0.12233402455151593, null], \"x\": [0.5, 1.0, null, 0.9738173240163878, 0.9377166459078401, null, 0.9738173240163878, 0.9639630823912474, null], \"line\": {\"width\": 2, \"color\": \"rgb(0, 0, 0)\"}, \"mode\": \"lines\", \"hoverinfo\": \"none\"}, {\"y\": [0.9855072463768116, 0.9855072463768116, null, 0.9855072463768116, 0.950766265318536, null], \"x\": [1.0, 0.5, null, 0.5378787878787878, 0.5711205515867566, null], \"line\": {\"width\": 2, \"color\": \"rgb(0, 0, 0)\"}, \"mode\": \"lines\", \"hoverinfo\": \"none\"}, {\"y\": [0.0, 1.0, null, 0.9476346480327754, 0.8776659754484841, null, 0.9476346480327754, 0.9256934811496907, null], \"x\": [0.5, 1.0, null, 0.9738173240163878, 0.9639630823912474, null, 0.9738173240163878, 0.9377166459078401, null], \"line\": {\"width\": 2, \"color\": \"rgb(0, 0, 0)\"}, \"mode\": \"lines\", \"hoverinfo\": \"none\"}, {\"y\": [0.0, 0.0, null, 0.0, -0.03474098105827558, null, 0.0, 0.03474098105827558, null], \"x\": [0.5, 1.0, null, 0.9621212121212122, 0.9288794484132434, null, 0.9621212121212122, 0.9288794484132434, null], \"line\": {\"width\": 2, \"color\": \"rgb(0, 0, 0)\"}, \"mode\": \"lines\", \"hoverinfo\": \"none\"}, {\"y\": [0.0, 0.5, null, 0.481676128503406, 0.4992073320037643, null, 0.481676128503406, 0.4319835048195859, null], \"x\": [1.0, 0.0, null, 0.03664774299318793, 0.07340128670201525, null, 0.03664774299318793, 0.06421703965128427, null], \"line\": {\"width\": 2, \"color\": \"rgb(0, 0, 0)\"}, \"mode\": \"lines\", \"hoverinfo\": \"none\"}, {\"y\": [0.0, 1.0, null, 0.927536231884058, 0.8639432926166397, null, 0.927536231884058, 0.8639432926166397, null], \"x\": [1.0, 1.0, null, 1.0, 1.0181600582804622, null, 1.0, 0.9818399417195378, null], \"line\": {\"width\": 2, \"color\": \"rgb(0, 0, 0)\"}, \"mode\": \"lines\", \"hoverinfo\": \"none\"}, {\"y\": [0.5], \"marker\": {\"line\": {\"width\": 2, \"color\": \"rgb(0, 0, 0)\"}, \"color\": \"rgb(255, 255, 255)\", \"size\": 20}, \"hoverinfo\": \"none\", \"textposition\": \"middle center\", \"x\": [0.0], \"mode\": \"markers+text\", \"text\": [\"0\"], \"textfont\": {\"color\": \"rgb(0, 0, 0)\"}}, {\"y\": [1.0], \"marker\": {\"line\": {\"width\": 2, \"color\": \"rgb(0, 0, 0)\"}, \"color\": \"rgb(255, 255, 255)\", \"size\": 20}, \"hoverinfo\": \"none\", \"textposition\": \"middle center\", \"x\": [0.5], \"mode\": \"markers+text\", \"text\": [\"6\"], \"textfont\": {\"color\": \"rgb(0, 0, 0)\"}}, {\"y\": [1.0], \"marker\": {\"line\": {\"width\": 2, \"color\": \"rgb(0, 0, 0)\"}, \"color\": \"rgb(255, 255, 255)\", \"size\": 20}, \"hoverinfo\": \"none\", \"textposition\": \"middle center\", \"x\": [1.0], \"mode\": \"markers+text\", \"text\": [\"\\u221e\"], \"textfont\": {\"color\": \"rgb(0, 0, 0)\"}}, {\"y\": [0.0], \"marker\": {\"line\": {\"width\": 2, \"color\": \"rgb(0, 0, 0)\"}, \"color\": \"rgb(255, 255, 255)\", \"size\": 20}, \"hoverinfo\": \"none\", \"textposition\": \"middle center\", \"x\": [0.5], \"mode\": \"markers+text\", \"text\": [\"7\"], \"textfont\": {\"color\": \"rgb(0, 0, 0)\"}}, {\"y\": [0.0], \"marker\": {\"line\": {\"width\": 2, \"color\": \"rgb(0, 0, 0)\"}, \"color\": \"rgb(255, 255, 255)\", \"size\": 20}, \"hoverinfo\": \"none\", \"textposition\": \"middle center\", \"x\": [1.0], \"mode\": \"markers+text\", \"text\": [\"\\u221e\"], \"textfont\": {\"color\": \"rgb(0, 0, 0)\"}}]}, {\"name\": 3, \"data\": [{\"y\": [0.5, 1.0, null, 0.966430854395385, 0.906182816233176, null, 0.966430854395385, 0.967759498957256, null], \"x\": [0.0, 0.5, null, 0.46643085439538495, 0.44538388103556675, null, 0.46643085439538495, 0.4285584341548651, null], \"line\": {\"width\": 2, \"color\": \"rgb(0, 0, 0)\"}, \"mode\": \"lines\", \"hoverinfo\": \"none\"}, {\"y\": [0.5, 0.0, null, 0.03356914560461503, 0.032240501042743994, null, 0.03356914560461503, 0.09381718376682407, null], \"x\": [0.0, 0.5, null, 0.46643085439538495, 0.4285584341548651, null, 0.46643085439538495, 0.44538388103556675, null], \"line\": {\"width\": 2, \"color\": \"rgb(0, 0, 0)\"}, \"mode\": \"lines\", \"hoverinfo\": \"none\"}, {\"y\": [1.0144927536231885, 1.0144927536231885, null, 1.0144927536231885, 1.049233734681464, null], \"x\": [0.5, 1.0, null, 0.9621212121212122, 0.9288794484132434, null], \"line\": {\"width\": 2, \"color\": \"rgb(0, 255, 0)\"}, \"mode\": \"lines\", \"hoverinfo\": \"none\"}, {\"y\": [1.0, 0.0, null, 0.07246376811594203, 0.13605670738336034, null, 0.07246376811594203, 0.13605670738336034, null], \"x\": [0.5, 0.5, null, 0.5, 0.48183994171953776, null, 0.5, 0.5181600582804622, null], \"line\": {\"width\": 2, \"color\": \"rgb(0, 0, 0)\"}, \"mode\": \"lines\", \"hoverinfo\": \"none\"}, {\"y\": [1.0, 0.0, null, 0.052365351967224576, 0.07430651885030926, null, 0.052365351967224576, 0.12233402455151593, null], \"x\": [0.5, 1.0, null, 0.9738173240163878, 0.9377166459078401, null, 0.9738173240163878, 0.9639630823912474, null], \"line\": {\"width\": 2, \"color\": \"rgb(0, 0, 0)\"}, \"mode\": \"lines\", \"hoverinfo\": \"none\"}, {\"y\": [0.9855072463768116, 0.9855072463768116, null, 0.9855072463768116, 0.950766265318536, null], \"x\": [1.0, 0.5, null, 0.5378787878787878, 0.5711205515867566, null], \"line\": {\"width\": 2, \"color\": \"rgb(0, 0, 0)\"}, \"mode\": \"lines\", \"hoverinfo\": \"none\"}, {\"y\": [0.0, 1.0, null, 0.9476346480327754, 0.8776659754484841, null, 0.9476346480327754, 0.9256934811496907, null], \"x\": [0.5, 1.0, null, 0.9738173240163878, 0.9639630823912474, null, 0.9738173240163878, 0.9377166459078401, null], \"line\": {\"width\": 2, \"color\": \"rgb(0, 0, 0)\"}, \"mode\": \"lines\", \"hoverinfo\": \"none\"}, {\"y\": [0.0, 0.0, null, 0.0, -0.03474098105827558, null, 0.0, 0.03474098105827558, null], \"x\": [0.5, 1.0, null, 0.9621212121212122, 0.9288794484132434, null, 0.9621212121212122, 0.9288794484132434, null], \"line\": {\"width\": 2, \"color\": \"rgb(0, 0, 0)\"}, \"mode\": \"lines\", \"hoverinfo\": \"none\"}, {\"y\": [0.0, 0.5, null, 0.481676128503406, 0.4992073320037643, null, 0.481676128503406, 0.4319835048195859, null], \"x\": [1.0, 0.0, null, 0.03664774299318793, 0.07340128670201525, null, 0.03664774299318793, 0.06421703965128427, null], \"line\": {\"width\": 2, \"color\": \"rgb(0, 0, 0)\"}, \"mode\": \"lines\", \"hoverinfo\": \"none\"}, {\"y\": [0.0, 1.0, null, 0.927536231884058, 0.8639432926166397, null, 0.927536231884058, 0.8639432926166397, null], \"x\": [1.0, 1.0, null, 1.0, 1.0181600582804622, null, 1.0, 0.9818399417195378, null], \"line\": {\"width\": 2, \"color\": \"rgb(0, 0, 0)\"}, \"mode\": \"lines\", \"hoverinfo\": \"none\"}, {\"y\": [0.5], \"marker\": {\"line\": {\"width\": 2, \"color\": \"rgb(0, 0, 0)\"}, \"color\": \"rgb(255, 255, 255)\", \"size\": 20}, \"hoverinfo\": \"none\", \"textposition\": \"middle center\", \"x\": [0.0], \"mode\": \"markers+text\", \"text\": [\"0\"], \"textfont\": {\"color\": \"rgb(0, 0, 0)\"}}, {\"y\": [1.0], \"marker\": {\"line\": {\"width\": 2, \"color\": \"rgb(0, 0, 0)\"}, \"color\": \"rgb(255, 255, 255)\", \"size\": 20}, \"hoverinfo\": \"none\", \"textposition\": \"middle center\", \"x\": [0.5], \"mode\": \"markers+text\", \"text\": [\"6\"], \"textfont\": {\"color\": \"rgb(0, 0, 0)\"}}, {\"y\": [1.0], \"marker\": {\"line\": {\"width\": 2, \"color\": \"rgb(0, 0, 0)\"}, \"color\": \"rgb(255, 255, 255)\", \"size\": 20}, \"hoverinfo\": \"none\", \"textposition\": \"middle center\", \"x\": [1.0], \"mode\": \"markers+text\", \"text\": [\"11\"], \"textfont\": {\"color\": \"rgb(0, 0, 0)\"}}, {\"y\": [0.0], \"marker\": {\"line\": {\"width\": 2, \"color\": \"rgb(0, 0, 0)\"}, \"color\": \"rgb(255, 255, 255)\", \"size\": 20}, \"hoverinfo\": \"none\", \"textposition\": \"middle center\", \"x\": [0.5], \"mode\": \"markers+text\", \"text\": [\"7\"], \"textfont\": {\"color\": \"rgb(0, 0, 0)\"}}, {\"y\": [0.0], \"marker\": {\"line\": {\"width\": 2, \"color\": \"rgb(0, 0, 0)\"}, \"color\": \"rgb(255, 255, 255)\", \"size\": 20}, \"hoverinfo\": \"none\", \"textposition\": \"middle center\", \"x\": [1.0], \"mode\": \"markers+text\", \"text\": [\"\\u221e\"], \"textfont\": {\"color\": \"rgb(0, 0, 0)\"}}]}, {\"name\": 4, \"data\": [{\"y\": [0.5, 1.0, null, 0.966430854395385, 0.906182816233176, null, 0.966430854395385, 0.967759498957256, null], \"x\": [0.0, 0.5, null, 0.46643085439538495, 0.44538388103556675, null, 0.46643085439538495, 0.4285584341548651, null], \"line\": {\"width\": 2, \"color\": \"rgb(0, 0, 0)\"}, \"mode\": \"lines\", \"hoverinfo\": \"none\"}, {\"y\": [0.5, 0.0, null, 0.03356914560461503, 0.032240501042743994, null, 0.03356914560461503, 0.09381718376682407, null], \"x\": [0.0, 0.5, null, 0.46643085439538495, 0.4285584341548651, null, 0.46643085439538495, 0.44538388103556675, null], \"line\": {\"width\": 2, \"color\": \"rgb(0, 0, 0)\"}, \"mode\": \"lines\", \"hoverinfo\": \"none\"}, {\"y\": [1.0144927536231885, 1.0144927536231885, null, 1.0144927536231885, 1.049233734681464, null], \"x\": [0.5, 1.0, null, 0.9621212121212122, 0.9288794484132434, null], \"line\": {\"width\": 2, \"color\": \"rgb(0, 0, 0)\"}, \"mode\": \"lines\", \"hoverinfo\": \"none\"}, {\"y\": [1.0, 0.0, null, 0.07246376811594203, 0.13605670738336034, null, 0.07246376811594203, 0.13605670738336034, null], \"x\": [0.5, 0.5, null, 0.5, 0.48183994171953776, null, 0.5, 0.5181600582804622, null], \"line\": {\"width\": 2, \"color\": \"rgb(255, 0, 0)\"}, \"mode\": \"lines\", \"hoverinfo\": \"none\"}, {\"y\": [1.0, 0.0, null, 0.052365351967224576, 0.07430651885030926, null, 0.052365351967224576, 0.12233402455151593, null], \"x\": [0.5, 1.0, null, 0.9738173240163878, 0.9377166459078401, null, 0.9738173240163878, 0.9639630823912474, null], \"line\": {\"width\": 2, \"color\": \"rgb(0, 0, 0)\"}, \"mode\": \"lines\", \"hoverinfo\": \"none\"}, {\"y\": [0.9855072463768116, 0.9855072463768116, null, 0.9855072463768116, 0.950766265318536, null], \"x\": [1.0, 0.5, null, 0.5378787878787878, 0.5711205515867566, null], \"line\": {\"width\": 2, \"color\": \"rgb(0, 0, 0)\"}, \"mode\": \"lines\", \"hoverinfo\": \"none\"}, {\"y\": [0.0, 1.0, null, 0.9476346480327754, 0.8776659754484841, null, 0.9476346480327754, 0.9256934811496907, null], \"x\": [0.5, 1.0, null, 0.9738173240163878, 0.9639630823912474, null, 0.9738173240163878, 0.9377166459078401, null], \"line\": {\"width\": 2, \"color\": \"rgb(0, 0, 0)\"}, \"mode\": \"lines\", \"hoverinfo\": \"none\"}, {\"y\": [0.0, 0.0, null, 0.0, -0.03474098105827558, null, 0.0, 0.03474098105827558, null], \"x\": [0.5, 1.0, null, 0.9621212121212122, 0.9288794484132434, null, 0.9621212121212122, 0.9288794484132434, null], \"line\": {\"width\": 2, \"color\": \"rgb(0, 0, 0)\"}, \"mode\": \"lines\", \"hoverinfo\": \"none\"}, {\"y\": [0.0, 0.5, null, 0.481676128503406, 0.4992073320037643, null, 0.481676128503406, 0.4319835048195859, null], \"x\": [1.0, 0.0, null, 0.03664774299318793, 0.07340128670201525, null, 0.03664774299318793, 0.06421703965128427, null], \"line\": {\"width\": 2, \"color\": \"rgb(0, 0, 0)\"}, \"mode\": \"lines\", \"hoverinfo\": \"none\"}, {\"y\": [0.0, 1.0, null, 0.927536231884058, 0.8639432926166397, null, 0.927536231884058, 0.8639432926166397, null], \"x\": [1.0, 1.0, null, 1.0, 1.0181600582804622, null, 1.0, 0.9818399417195378, null], \"line\": {\"width\": 2, \"color\": \"rgb(0, 0, 0)\"}, \"mode\": \"lines\", \"hoverinfo\": \"none\"}, {\"y\": [0.5], \"marker\": {\"line\": {\"width\": 2, \"color\": \"rgb(0, 0, 0)\"}, \"color\": \"rgb(255, 255, 255)\", \"size\": 20}, \"hoverinfo\": \"none\", \"textposition\": \"middle center\", \"x\": [0.0], \"mode\": \"markers+text\", \"text\": [\"0\"], \"textfont\": {\"color\": \"rgb(0, 0, 0)\"}}, {\"y\": [1.0], \"marker\": {\"line\": {\"width\": 2, \"color\": \"rgb(0, 0, 0)\"}, \"color\": \"rgb(255, 255, 255)\", \"size\": 20}, \"hoverinfo\": \"none\", \"textposition\": \"middle center\", \"x\": [0.5], \"mode\": \"markers+text\", \"text\": [\"6\"], \"textfont\": {\"color\": \"rgb(0, 0, 0)\"}}, {\"y\": [1.0], \"marker\": {\"line\": {\"width\": 2, \"color\": \"rgb(0, 0, 0)\"}, \"color\": \"rgb(255, 255, 255)\", \"size\": 20}, \"hoverinfo\": \"none\", \"textposition\": \"middle center\", \"x\": [1.0], \"mode\": \"markers+text\", \"text\": [\"11\"], \"textfont\": {\"color\": \"rgb(0, 0, 0)\"}}, {\"y\": [0.0], \"marker\": {\"line\": {\"width\": 2, \"color\": \"rgb(0, 0, 0)\"}, \"color\": \"rgb(255, 255, 255)\", \"size\": 20}, \"hoverinfo\": \"none\", \"textposition\": \"middle center\", \"x\": [0.5], \"mode\": \"markers+text\", \"text\": [\"7\"], \"textfont\": {\"color\": \"rgb(0, 0, 0)\"}}, {\"y\": [0.0], \"marker\": {\"line\": {\"width\": 2, \"color\": \"rgb(0, 0, 0)\"}, \"color\": \"rgb(255, 255, 255)\", \"size\": 20}, \"hoverinfo\": \"none\", \"textposition\": \"middle center\", \"x\": [1.0], \"mode\": \"markers+text\", \"text\": [\"\\u221e\"], \"textfont\": {\"color\": \"rgb(0, 0, 0)\"}}]}, {\"name\": 5, \"data\": [{\"y\": [0.5, 1.0, null, 0.966430854395385, 0.906182816233176, null, 0.966430854395385, 0.967759498957256, null], \"x\": [0.0, 0.5, null, 0.46643085439538495, 0.44538388103556675, null, 0.46643085439538495, 0.4285584341548651, null], \"line\": {\"width\": 2, \"color\": \"rgb(0, 0, 0)\"}, \"mode\": \"lines\", \"hoverinfo\": \"none\"}, {\"y\": [0.5, 0.0, null, 0.03356914560461503, 0.032240501042743994, null, 0.03356914560461503, 0.09381718376682407, null], \"x\": [0.0, 0.5, null, 0.46643085439538495, 0.4285584341548651, null, 0.46643085439538495, 0.44538388103556675, null], \"line\": {\"width\": 2, \"color\": \"rgb(0, 0, 0)\"}, \"mode\": \"lines\", \"hoverinfo\": \"none\"}, {\"y\": [1.0144927536231885, 1.0144927536231885, null, 1.0144927536231885, 1.049233734681464, null], \"x\": [0.5, 1.0, null, 0.9621212121212122, 0.9288794484132434, null], \"line\": {\"width\": 2, \"color\": \"rgb(0, 0, 0)\"}, \"mode\": \"lines\", \"hoverinfo\": \"none\"}, {\"y\": [1.0, 0.0, null, 0.07246376811594203, 0.13605670738336034, null, 0.07246376811594203, 0.13605670738336034, null], \"x\": [0.5, 0.5, null, 0.5, 0.48183994171953776, null, 0.5, 0.5181600582804622, null], \"line\": {\"width\": 2, \"color\": \"rgb(0, 0, 0)\"}, \"mode\": \"lines\", \"hoverinfo\": \"none\"}, {\"y\": [1.0, 0.0, null, 0.052365351967224576, 0.07430651885030926, null, 0.052365351967224576, 0.12233402455151593, null], \"x\": [0.5, 1.0, null, 0.9738173240163878, 0.9377166459078401, null, 0.9738173240163878, 0.9639630823912474, null], \"line\": {\"width\": 2, \"color\": \"rgb(0, 255, 0)\"}, \"mode\": \"lines\", \"hoverinfo\": \"none\"}, {\"y\": [0.9855072463768116, 0.9855072463768116, null, 0.9855072463768116, 0.950766265318536, null], \"x\": [1.0, 0.5, null, 0.5378787878787878, 0.5711205515867566, null], \"line\": {\"width\": 2, \"color\": \"rgb(0, 0, 0)\"}, \"mode\": \"lines\", \"hoverinfo\": \"none\"}, {\"y\": [0.0, 1.0, null, 0.9476346480327754, 0.8776659754484841, null, 0.9476346480327754, 0.9256934811496907, null], \"x\": [0.5, 1.0, null, 0.9738173240163878, 0.9639630823912474, null, 0.9738173240163878, 0.9377166459078401, null], \"line\": {\"width\": 2, \"color\": \"rgb(0, 0, 0)\"}, \"mode\": \"lines\", \"hoverinfo\": \"none\"}, {\"y\": [0.0, 0.0, null, 0.0, -0.03474098105827558, null, 0.0, 0.03474098105827558, null], \"x\": [0.5, 1.0, null, 0.9621212121212122, 0.9288794484132434, null, 0.9621212121212122, 0.9288794484132434, null], \"line\": {\"width\": 2, \"color\": \"rgb(0, 0, 0)\"}, \"mode\": \"lines\", \"hoverinfo\": \"none\"}, {\"y\": [0.0, 0.5, null, 0.481676128503406, 0.4992073320037643, null, 0.481676128503406, 0.4319835048195859, null], \"x\": [1.0, 0.0, null, 0.03664774299318793, 0.07340128670201525, null, 0.03664774299318793, 0.06421703965128427, null], \"line\": {\"width\": 2, \"color\": \"rgb(0, 0, 0)\"}, \"mode\": \"lines\", \"hoverinfo\": \"none\"}, {\"y\": [0.0, 1.0, null, 0.927536231884058, 0.8639432926166397, null, 0.927536231884058, 0.8639432926166397, null], \"x\": [1.0, 1.0, null, 1.0, 1.0181600582804622, null, 1.0, 0.9818399417195378, null], \"line\": {\"width\": 2, \"color\": \"rgb(0, 0, 0)\"}, \"mode\": \"lines\", \"hoverinfo\": \"none\"}, {\"y\": [0.5], \"marker\": {\"line\": {\"width\": 2, \"color\": \"rgb(0, 0, 0)\"}, \"color\": \"rgb(255, 255, 255)\", \"size\": 20}, \"hoverinfo\": \"none\", \"textposition\": \"middle center\", \"x\": [0.0], \"mode\": \"markers+text\", \"text\": [\"0\"], \"textfont\": {\"color\": \"rgb(0, 0, 0)\"}}, {\"y\": [1.0], \"marker\": {\"line\": {\"width\": 2, \"color\": \"rgb(0, 0, 0)\"}, \"color\": \"rgb(255, 255, 255)\", \"size\": 20}, \"hoverinfo\": \"none\", \"textposition\": \"middle center\", \"x\": [0.5], \"mode\": \"markers+text\", \"text\": [\"6\"], \"textfont\": {\"color\": \"rgb(0, 0, 0)\"}}, {\"y\": [1.0], \"marker\": {\"line\": {\"width\": 2, \"color\": \"rgb(0, 0, 0)\"}, \"color\": \"rgb(255, 255, 255)\", \"size\": 20}, \"hoverinfo\": \"none\", \"textposition\": \"middle center\", \"x\": [1.0], \"mode\": \"markers+text\", \"text\": [\"11\"], \"textfont\": {\"color\": \"rgb(0, 0, 0)\"}}, {\"y\": [0.0], \"marker\": {\"line\": {\"width\": 2, \"color\": \"rgb(0, 0, 0)\"}, \"color\": \"rgb(255, 255, 255)\", \"size\": 20}, \"hoverinfo\": \"none\", \"textposition\": \"middle center\", \"x\": [0.5], \"mode\": \"markers+text\", \"text\": [\"7\"], \"textfont\": {\"color\": \"rgb(0, 0, 0)\"}}, {\"y\": [0.0], \"marker\": {\"line\": {\"width\": 2, \"color\": \"rgb(0, 0, 0)\"}, \"color\": \"rgb(255, 255, 255)\", \"size\": 20}, \"hoverinfo\": \"none\", \"textposition\": \"middle center\", \"x\": [1.0], \"mode\": \"markers+text\", \"text\": [\"2\"], \"textfont\": {\"color\": \"rgb(0, 0, 0)\"}}]}, {\"name\": 6, \"data\": [{\"y\": [0.5, 1.0, null, 0.966430854395385, 0.906182816233176, null, 0.966430854395385, 0.967759498957256, null], \"x\": [0.0, 0.5, null, 0.46643085439538495, 0.44538388103556675, null, 0.46643085439538495, 0.4285584341548651, null], \"line\": {\"width\": 2, \"color\": \"rgb(0, 0, 0)\"}, \"mode\": \"lines\", \"hoverinfo\": \"none\"}, {\"y\": [0.5, 0.0, null, 0.03356914560461503, 0.032240501042743994, null, 0.03356914560461503, 0.09381718376682407, null], \"x\": [0.0, 0.5, null, 0.46643085439538495, 0.4285584341548651, null, 0.46643085439538495, 0.44538388103556675, null], \"line\": {\"width\": 2, \"color\": \"rgb(0, 0, 0)\"}, \"mode\": \"lines\", \"hoverinfo\": \"none\"}, {\"y\": [1.0144927536231885, 1.0144927536231885, null, 1.0144927536231885, 1.049233734681464, null], \"x\": [0.5, 1.0, null, 0.9621212121212122, 0.9288794484132434, null], \"line\": {\"width\": 2, \"color\": \"rgb(0, 0, 0)\"}, \"mode\": \"lines\", \"hoverinfo\": \"none\"}, {\"y\": [1.0, 0.0, null, 0.07246376811594203, 0.13605670738336034, null, 0.07246376811594203, 0.13605670738336034, null], \"x\": [0.5, 0.5, null, 0.5, 0.48183994171953776, null, 0.5, 0.5181600582804622, null], \"line\": {\"width\": 2, \"color\": \"rgb(0, 0, 0)\"}, \"mode\": \"lines\", \"hoverinfo\": \"none\"}, {\"y\": [1.0, 0.0, null, 0.052365351967224576, 0.07430651885030926, null, 0.052365351967224576, 0.12233402455151593, null], \"x\": [0.5, 1.0, null, 0.9738173240163878, 0.9377166459078401, null, 0.9738173240163878, 0.9639630823912474, null], \"line\": {\"width\": 2, \"color\": \"rgb(0, 0, 0)\"}, \"mode\": \"lines\", \"hoverinfo\": \"none\"}, {\"y\": [0.9855072463768116, 0.9855072463768116, null, 0.9855072463768116, 0.950766265318536, null], \"x\": [1.0, 0.5, null, 0.5378787878787878, 0.5711205515867566, null], \"line\": {\"width\": 2, \"color\": \"rgb(255, 0, 0)\"}, \"mode\": \"lines\", \"hoverinfo\": \"none\"}, {\"y\": [0.0, 1.0, null, 0.9476346480327754, 0.8776659754484841, null, 0.9476346480327754, 0.9256934811496907, null], \"x\": [0.5, 1.0, null, 0.9738173240163878, 0.9639630823912474, null, 0.9738173240163878, 0.9377166459078401, null], \"line\": {\"width\": 2, \"color\": \"rgb(0, 0, 0)\"}, \"mode\": \"lines\", \"hoverinfo\": \"none\"}, {\"y\": [0.0, 0.0, null, 0.0, -0.03474098105827558, null, 0.0, 0.03474098105827558, null], \"x\": [0.5, 1.0, null, 0.9621212121212122, 0.9288794484132434, null, 0.9621212121212122, 0.9288794484132434, null], \"line\": {\"width\": 2, \"color\": \"rgb(0, 0, 0)\"}, \"mode\": \"lines\", \"hoverinfo\": \"none\"}, {\"y\": [0.0, 0.5, null, 0.481676128503406, 0.4992073320037643, null, 0.481676128503406, 0.4319835048195859, null], \"x\": [1.0, 0.0, null, 0.03664774299318793, 0.07340128670201525, null, 0.03664774299318793, 0.06421703965128427, null], \"line\": {\"width\": 2, \"color\": \"rgb(0, 0, 0)\"}, \"mode\": \"lines\", \"hoverinfo\": \"none\"}, {\"y\": [0.0, 1.0, null, 0.927536231884058, 0.8639432926166397, null, 0.927536231884058, 0.8639432926166397, null], \"x\": [1.0, 1.0, null, 1.0, 1.0181600582804622, null, 1.0, 0.9818399417195378, null], \"line\": {\"width\": 2, \"color\": \"rgb(0, 0, 0)\"}, \"mode\": \"lines\", \"hoverinfo\": \"none\"}, {\"y\": [0.5], \"marker\": {\"line\": {\"width\": 2, \"color\": \"rgb(0, 0, 0)\"}, \"color\": \"rgb(255, 255, 255)\", \"size\": 20}, \"hoverinfo\": \"none\", \"textposition\": \"middle center\", \"x\": [0.0], \"mode\": \"markers+text\", \"text\": [\"0\"], \"textfont\": {\"color\": \"rgb(0, 0, 0)\"}}, {\"y\": [1.0], \"marker\": {\"line\": {\"width\": 2, \"color\": \"rgb(0, 0, 0)\"}, \"color\": \"rgb(255, 255, 255)\", \"size\": 20}, \"hoverinfo\": \"none\", \"textposition\": \"middle center\", \"x\": [0.5], \"mode\": \"markers+text\", \"text\": [\"6\"], \"textfont\": {\"color\": \"rgb(0, 0, 0)\"}}, {\"y\": [1.0], \"marker\": {\"line\": {\"width\": 2, \"color\": \"rgb(0, 0, 0)\"}, \"color\": \"rgb(255, 255, 255)\", \"size\": 20}, \"hoverinfo\": \"none\", \"textposition\": \"middle center\", \"x\": [1.0], \"mode\": \"markers+text\", \"text\": [\"11\"], \"textfont\": {\"color\": \"rgb(0, 0, 0)\"}}, {\"y\": [0.0], \"marker\": {\"line\": {\"width\": 2, \"color\": \"rgb(0, 0, 0)\"}, \"color\": \"rgb(255, 255, 255)\", \"size\": 20}, \"hoverinfo\": \"none\", \"textposition\": \"middle center\", \"x\": [0.5], \"mode\": \"markers+text\", \"text\": [\"7\"], \"textfont\": {\"color\": \"rgb(0, 0, 0)\"}}, {\"y\": [0.0], \"marker\": {\"line\": {\"width\": 2, \"color\": \"rgb(0, 0, 0)\"}, \"color\": \"rgb(255, 255, 255)\", \"size\": 20}, \"hoverinfo\": \"none\", \"textposition\": \"middle center\", \"x\": [1.0], \"mode\": \"markers+text\", \"text\": [\"2\"], \"textfont\": {\"color\": \"rgb(0, 0, 0)\"}}]}, {\"name\": 7, \"data\": [{\"y\": [0.5, 1.0, null, 0.966430854395385, 0.906182816233176, null, 0.966430854395385, 0.967759498957256, null], \"x\": [0.0, 0.5, null, 0.46643085439538495, 0.44538388103556675, null, 0.46643085439538495, 0.4285584341548651, null], \"line\": {\"width\": 2, \"color\": \"rgb(0, 0, 0)\"}, \"mode\": \"lines\", \"hoverinfo\": \"none\"}, {\"y\": [0.5, 0.0, null, 0.03356914560461503, 0.032240501042743994, null, 0.03356914560461503, 0.09381718376682407, null], \"x\": [0.0, 0.5, null, 0.46643085439538495, 0.4285584341548651, null, 0.46643085439538495, 0.44538388103556675, null], \"line\": {\"width\": 2, \"color\": \"rgb(0, 0, 0)\"}, \"mode\": \"lines\", \"hoverinfo\": \"none\"}, {\"y\": [1.0144927536231885, 1.0144927536231885, null, 1.0144927536231885, 1.049233734681464, null], \"x\": [0.5, 1.0, null, 0.9621212121212122, 0.9288794484132434, null], \"line\": {\"width\": 2, \"color\": \"rgb(0, 0, 0)\"}, \"mode\": \"lines\", \"hoverinfo\": \"none\"}, {\"y\": [1.0, 0.0, null, 0.07246376811594203, 0.13605670738336034, null, 0.07246376811594203, 0.13605670738336034, null], \"x\": [0.5, 0.5, null, 0.5, 0.48183994171953776, null, 0.5, 0.5181600582804622, null], \"line\": {\"width\": 2, \"color\": \"rgb(0, 0, 0)\"}, \"mode\": \"lines\", \"hoverinfo\": \"none\"}, {\"y\": [1.0, 0.0, null, 0.052365351967224576, 0.07430651885030926, null, 0.052365351967224576, 0.12233402455151593, null], \"x\": [0.5, 1.0, null, 0.9738173240163878, 0.9377166459078401, null, 0.9738173240163878, 0.9639630823912474, null], \"line\": {\"width\": 2, \"color\": \"rgb(0, 0, 0)\"}, \"mode\": \"lines\", \"hoverinfo\": \"none\"}, {\"y\": [0.9855072463768116, 0.9855072463768116, null, 0.9855072463768116, 0.950766265318536, null], \"x\": [1.0, 0.5, null, 0.5378787878787878, 0.5711205515867566, null], \"line\": {\"width\": 2, \"color\": \"rgb(0, 0, 0)\"}, \"mode\": \"lines\", \"hoverinfo\": \"none\"}, {\"y\": [0.0, 1.0, null, 0.9476346480327754, 0.8776659754484841, null, 0.9476346480327754, 0.9256934811496907, null], \"x\": [0.5, 1.0, null, 0.9738173240163878, 0.9639630823912474, null, 0.9738173240163878, 0.9377166459078401, null], \"line\": {\"width\": 2, \"color\": \"rgb(0, 255, 0)\"}, \"mode\": \"lines\", \"hoverinfo\": \"none\"}, {\"y\": [0.0, 0.0, null, 0.0, -0.03474098105827558, null, 0.0, 0.03474098105827558, null], \"x\": [0.5, 1.0, null, 0.9621212121212122, 0.9288794484132434, null, 0.9621212121212122, 0.9288794484132434, null], \"line\": {\"width\": 2, \"color\": \"rgb(0, 0, 0)\"}, \"mode\": \"lines\", \"hoverinfo\": \"none\"}, {\"y\": [0.0, 0.5, null, 0.481676128503406, 0.4992073320037643, null, 0.481676128503406, 0.4319835048195859, null], \"x\": [1.0, 0.0, null, 0.03664774299318793, 0.07340128670201525, null, 0.03664774299318793, 0.06421703965128427, null], \"line\": {\"width\": 2, \"color\": \"rgb(0, 0, 0)\"}, \"mode\": \"lines\", \"hoverinfo\": \"none\"}, {\"y\": [0.0, 1.0, null, 0.927536231884058, 0.8639432926166397, null, 0.927536231884058, 0.8639432926166397, null], \"x\": [1.0, 1.0, null, 1.0, 1.0181600582804622, null, 1.0, 0.9818399417195378, null], \"line\": {\"width\": 2, \"color\": \"rgb(0, 0, 0)\"}, \"mode\": \"lines\", \"hoverinfo\": \"none\"}, {\"y\": [0.5], \"marker\": {\"line\": {\"width\": 2, \"color\": \"rgb(0, 0, 0)\"}, \"color\": \"rgb(255, 255, 255)\", \"size\": 20}, \"hoverinfo\": \"none\", \"textposition\": \"middle center\", \"x\": [0.0], \"mode\": \"markers+text\", \"text\": [\"0\"], \"textfont\": {\"color\": \"rgb(0, 0, 0)\"}}, {\"y\": [1.0], \"marker\": {\"line\": {\"width\": 2, \"color\": \"rgb(0, 0, 0)\"}, \"color\": \"rgb(255, 255, 255)\", \"size\": 20}, \"hoverinfo\": \"none\", \"textposition\": \"middle center\", \"x\": [0.5], \"mode\": \"markers+text\", \"text\": [\"6\"], \"textfont\": {\"color\": \"rgb(0, 0, 0)\"}}, {\"y\": [1.0], \"marker\": {\"line\": {\"width\": 2, \"color\": \"rgb(0, 0, 0)\"}, \"color\": \"rgb(255, 255, 255)\", \"size\": 20}, \"hoverinfo\": \"none\", \"textposition\": \"middle center\", \"x\": [1.0], \"mode\": \"markers+text\", \"text\": [\"4\"], \"textfont\": {\"color\": \"rgb(0, 0, 0)\"}}, {\"y\": [0.0], \"marker\": {\"line\": {\"width\": 2, \"color\": \"rgb(0, 0, 0)\"}, \"color\": \"rgb(255, 255, 255)\", \"size\": 20}, \"hoverinfo\": \"none\", \"textposition\": \"middle center\", \"x\": [0.5], \"mode\": \"markers+text\", \"text\": [\"7\"], \"textfont\": {\"color\": \"rgb(0, 0, 0)\"}}, {\"y\": [0.0], \"marker\": {\"line\": {\"width\": 2, \"color\": \"rgb(0, 0, 0)\"}, \"color\": \"rgb(255, 255, 255)\", \"size\": 20}, \"hoverinfo\": \"none\", \"textposition\": \"middle center\", \"x\": [1.0], \"mode\": \"markers+text\", \"text\": [\"2\"], \"textfont\": {\"color\": \"rgb(0, 0, 0)\"}}]}, {\"name\": 8, \"data\": [{\"y\": [0.5, 1.0, null, 0.966430854395385, 0.906182816233176, null, 0.966430854395385, 0.967759498957256, null], \"x\": [0.0, 0.5, null, 0.46643085439538495, 0.44538388103556675, null, 0.46643085439538495, 0.4285584341548651, null], \"line\": {\"width\": 2, \"color\": \"rgb(0, 0, 0)\"}, \"mode\": \"lines\", \"hoverinfo\": \"none\"}, {\"y\": [0.5, 0.0, null, 0.03356914560461503, 0.032240501042743994, null, 0.03356914560461503, 0.09381718376682407, null], \"x\": [0.0, 0.5, null, 0.46643085439538495, 0.4285584341548651, null, 0.46643085439538495, 0.44538388103556675, null], \"line\": {\"width\": 2, \"color\": \"rgb(0, 0, 0)\"}, \"mode\": \"lines\", \"hoverinfo\": \"none\"}, {\"y\": [1.0144927536231885, 1.0144927536231885, null, 1.0144927536231885, 1.049233734681464, null], \"x\": [0.5, 1.0, null, 0.9621212121212122, 0.9288794484132434, null], \"line\": {\"width\": 2, \"color\": \"rgb(0, 0, 0)\"}, \"mode\": \"lines\", \"hoverinfo\": \"none\"}, {\"y\": [1.0, 0.0, null, 0.07246376811594203, 0.13605670738336034, null, 0.07246376811594203, 0.13605670738336034, null], \"x\": [0.5, 0.5, null, 0.5, 0.48183994171953776, null, 0.5, 0.5181600582804622, null], \"line\": {\"width\": 2, \"color\": \"rgb(0, 0, 0)\"}, \"mode\": \"lines\", \"hoverinfo\": \"none\"}, {\"y\": [1.0, 0.0, null, 0.052365351967224576, 0.07430651885030926, null, 0.052365351967224576, 0.12233402455151593, null], \"x\": [0.5, 1.0, null, 0.9738173240163878, 0.9377166459078401, null, 0.9738173240163878, 0.9639630823912474, null], \"line\": {\"width\": 2, \"color\": \"rgb(0, 0, 0)\"}, \"mode\": \"lines\", \"hoverinfo\": \"none\"}, {\"y\": [0.9855072463768116, 0.9855072463768116, null, 0.9855072463768116, 0.950766265318536, null], \"x\": [1.0, 0.5, null, 0.5378787878787878, 0.5711205515867566, null], \"line\": {\"width\": 2, \"color\": \"rgb(0, 0, 0)\"}, \"mode\": \"lines\", \"hoverinfo\": \"none\"}, {\"y\": [0.0, 1.0, null, 0.9476346480327754, 0.8776659754484841, null, 0.9476346480327754, 0.9256934811496907, null], \"x\": [0.5, 1.0, null, 0.9738173240163878, 0.9639630823912474, null, 0.9738173240163878, 0.9377166459078401, null], \"line\": {\"width\": 2, \"color\": \"rgb(0, 0, 0)\"}, \"mode\": \"lines\", \"hoverinfo\": \"none\"}, {\"y\": [0.0, 0.0, null, 0.0, -0.03474098105827558, null, 0.0, 0.03474098105827558, null], \"x\": [0.5, 1.0, null, 0.9621212121212122, 0.9288794484132434, null, 0.9621212121212122, 0.9288794484132434, null], \"line\": {\"width\": 2, \"color\": \"rgb(255, 0, 0)\"}, \"mode\": \"lines\", \"hoverinfo\": \"none\"}, {\"y\": [0.0, 0.5, null, 0.481676128503406, 0.4992073320037643, null, 0.481676128503406, 0.4319835048195859, null], \"x\": [1.0, 0.0, null, 0.03664774299318793, 0.07340128670201525, null, 0.03664774299318793, 0.06421703965128427, null], \"line\": {\"width\": 2, \"color\": \"rgb(0, 0, 0)\"}, \"mode\": \"lines\", \"hoverinfo\": \"none\"}, {\"y\": [0.0, 1.0, null, 0.927536231884058, 0.8639432926166397, null, 0.927536231884058, 0.8639432926166397, null], \"x\": [1.0, 1.0, null, 1.0, 1.0181600582804622, null, 1.0, 0.9818399417195378, null], \"line\": {\"width\": 2, \"color\": \"rgb(0, 0, 0)\"}, \"mode\": \"lines\", \"hoverinfo\": \"none\"}, {\"y\": [0.5], \"marker\": {\"line\": {\"width\": 2, \"color\": \"rgb(0, 0, 0)\"}, \"color\": \"rgb(255, 255, 255)\", \"size\": 20}, \"hoverinfo\": \"none\", \"textposition\": \"middle center\", \"x\": [0.0], \"mode\": \"markers+text\", \"text\": [\"0\"], \"textfont\": {\"color\": \"rgb(0, 0, 0)\"}}, {\"y\": [1.0], \"marker\": {\"line\": {\"width\": 2, \"color\": \"rgb(0, 0, 0)\"}, \"color\": \"rgb(255, 255, 255)\", \"size\": 20}, \"hoverinfo\": \"none\", \"textposition\": \"middle center\", \"x\": [0.5], \"mode\": \"markers+text\", \"text\": [\"6\"], \"textfont\": {\"color\": \"rgb(0, 0, 0)\"}}, {\"y\": [1.0], \"marker\": {\"line\": {\"width\": 2, \"color\": \"rgb(0, 0, 0)\"}, \"color\": \"rgb(255, 255, 255)\", \"size\": 20}, \"hoverinfo\": \"none\", \"textposition\": \"middle center\", \"x\": [1.0], \"mode\": \"markers+text\", \"text\": [\"4\"], \"textfont\": {\"color\": \"rgb(0, 0, 0)\"}}, {\"y\": [0.0], \"marker\": {\"line\": {\"width\": 2, \"color\": \"rgb(0, 0, 0)\"}, \"color\": \"rgb(255, 255, 255)\", \"size\": 20}, \"hoverinfo\": \"none\", \"textposition\": \"middle center\", \"x\": [0.5], \"mode\": \"markers+text\", \"text\": [\"7\"], \"textfont\": {\"color\": \"rgb(0, 0, 0)\"}}, {\"y\": [0.0], \"marker\": {\"line\": {\"width\": 2, \"color\": \"rgb(0, 0, 0)\"}, \"color\": \"rgb(255, 255, 255)\", \"size\": 20}, \"hoverinfo\": \"none\", \"textposition\": \"middle center\", \"x\": [1.0], \"mode\": \"markers+text\", \"text\": [\"2\"], \"textfont\": {\"color\": \"rgb(0, 0, 0)\"}}]}, {\"name\": 9, \"data\": [{\"y\": [0.5, 1.0, null, 0.966430854395385, 0.906182816233176, null, 0.966430854395385, 0.967759498957256, null], \"x\": [0.0, 0.5, null, 0.46643085439538495, 0.44538388103556675, null, 0.46643085439538495, 0.4285584341548651, null], \"line\": {\"width\": 2, \"color\": \"rgb(0, 0, 0)\"}, \"mode\": \"lines\", \"hoverinfo\": \"none\"}, {\"y\": [0.5, 0.0, null, 0.03356914560461503, 0.032240501042743994, null, 0.03356914560461503, 0.09381718376682407, null], \"x\": [0.0, 0.5, null, 0.46643085439538495, 0.4285584341548651, null, 0.46643085439538495, 0.44538388103556675, null], \"line\": {\"width\": 2, \"color\": \"rgb(0, 0, 0)\"}, \"mode\": \"lines\", \"hoverinfo\": \"none\"}, {\"y\": [1.0144927536231885, 1.0144927536231885, null, 1.0144927536231885, 1.049233734681464, null], \"x\": [0.5, 1.0, null, 0.9621212121212122, 0.9288794484132434, null], \"line\": {\"width\": 2, \"color\": \"rgb(0, 0, 0)\"}, \"mode\": \"lines\", \"hoverinfo\": \"none\"}, {\"y\": [1.0, 0.0, null, 0.07246376811594203, 0.13605670738336034, null, 0.07246376811594203, 0.13605670738336034, null], \"x\": [0.5, 0.5, null, 0.5, 0.48183994171953776, null, 0.5, 0.5181600582804622, null], \"line\": {\"width\": 2, \"color\": \"rgb(0, 0, 0)\"}, \"mode\": \"lines\", \"hoverinfo\": \"none\"}, {\"y\": [1.0, 0.0, null, 0.052365351967224576, 0.07430651885030926, null, 0.052365351967224576, 0.12233402455151593, null], \"x\": [0.5, 1.0, null, 0.9738173240163878, 0.9377166459078401, null, 0.9738173240163878, 0.9639630823912474, null], \"line\": {\"width\": 2, \"color\": \"rgb(0, 0, 0)\"}, \"mode\": \"lines\", \"hoverinfo\": \"none\"}, {\"y\": [0.9855072463768116, 0.9855072463768116, null, 0.9855072463768116, 0.950766265318536, null], \"x\": [1.0, 0.5, null, 0.5378787878787878, 0.5711205515867566, null], \"line\": {\"width\": 2, \"color\": \"rgb(0, 0, 0)\"}, \"mode\": \"lines\", \"hoverinfo\": \"none\"}, {\"y\": [0.0, 1.0, null, 0.9476346480327754, 0.8776659754484841, null, 0.9476346480327754, 0.9256934811496907, null], \"x\": [0.5, 1.0, null, 0.9738173240163878, 0.9639630823912474, null, 0.9738173240163878, 0.9377166459078401, null], \"line\": {\"width\": 2, \"color\": \"rgb(0, 0, 0)\"}, \"mode\": \"lines\", \"hoverinfo\": \"none\"}, {\"y\": [0.0, 0.0, null, 0.0, -0.03474098105827558, null, 0.0, 0.03474098105827558, null], \"x\": [0.5, 1.0, null, 0.9621212121212122, 0.9288794484132434, null, 0.9621212121212122, 0.9288794484132434, null], \"line\": {\"width\": 2, \"color\": \"rgb(0, 0, 0)\"}, \"mode\": \"lines\", \"hoverinfo\": \"none\"}, {\"y\": [0.0, 0.5, null, 0.481676128503406, 0.4992073320037643, null, 0.481676128503406, 0.4319835048195859, null], \"x\": [1.0, 0.0, null, 0.03664774299318793, 0.07340128670201525, null, 0.03664774299318793, 0.06421703965128427, null], \"line\": {\"width\": 2, \"color\": \"rgb(255, 0, 0)\"}, \"mode\": \"lines\", \"hoverinfo\": \"none\"}, {\"y\": [0.0, 1.0, null, 0.927536231884058, 0.8639432926166397, null, 0.927536231884058, 0.8639432926166397, null], \"x\": [1.0, 1.0, null, 1.0, 1.0181600582804622, null, 1.0, 0.9818399417195378, null], \"line\": {\"width\": 2, \"color\": \"rgb(0, 0, 0)\"}, \"mode\": \"lines\", \"hoverinfo\": \"none\"}, {\"y\": [0.5], \"marker\": {\"line\": {\"width\": 2, \"color\": \"rgb(0, 0, 0)\"}, \"color\": \"rgb(255, 255, 255)\", \"size\": 20}, \"hoverinfo\": \"none\", \"textposition\": \"middle center\", \"x\": [0.0], \"mode\": \"markers+text\", \"text\": [\"0\"], \"textfont\": {\"color\": \"rgb(0, 0, 0)\"}}, {\"y\": [1.0], \"marker\": {\"line\": {\"width\": 2, \"color\": \"rgb(0, 0, 0)\"}, \"color\": \"rgb(255, 255, 255)\", \"size\": 20}, \"hoverinfo\": \"none\", \"textposition\": \"middle center\", \"x\": [0.5], \"mode\": \"markers+text\", \"text\": [\"6\"], \"textfont\": {\"color\": \"rgb(0, 0, 0)\"}}, {\"y\": [1.0], \"marker\": {\"line\": {\"width\": 2, \"color\": \"rgb(0, 0, 0)\"}, \"color\": \"rgb(255, 255, 255)\", \"size\": 20}, \"hoverinfo\": \"none\", \"textposition\": \"middle center\", \"x\": [1.0], \"mode\": \"markers+text\", \"text\": [\"4\"], \"textfont\": {\"color\": \"rgb(0, 0, 0)\"}}, {\"y\": [0.0], \"marker\": {\"line\": {\"width\": 2, \"color\": \"rgb(0, 0, 0)\"}, \"color\": \"rgb(255, 255, 255)\", \"size\": 20}, \"hoverinfo\": \"none\", \"textposition\": \"middle center\", \"x\": [0.5], \"mode\": \"markers+text\", \"text\": [\"7\"], \"textfont\": {\"color\": \"rgb(0, 0, 0)\"}}, {\"y\": [0.0], \"marker\": {\"line\": {\"width\": 2, \"color\": \"rgb(0, 0, 0)\"}, \"color\": \"rgb(255, 255, 255)\", \"size\": 20}, \"hoverinfo\": \"none\", \"textposition\": \"middle center\", \"x\": [1.0], \"mode\": \"markers+text\", \"text\": [\"2\"], \"textfont\": {\"color\": \"rgb(0, 0, 0)\"}}]}, {\"name\": 10, \"data\": [{\"y\": [0.5, 1.0, null, 0.966430854395385, 0.906182816233176, null, 0.966430854395385, 0.967759498957256, null], \"x\": [0.0, 0.5, null, 0.46643085439538495, 0.44538388103556675, null, 0.46643085439538495, 0.4285584341548651, null], \"line\": {\"width\": 2, \"color\": \"rgb(0, 0, 0)\"}, \"mode\": \"lines\", \"hoverinfo\": \"none\"}, {\"y\": [0.5, 0.0, null, 0.03356914560461503, 0.032240501042743994, null, 0.03356914560461503, 0.09381718376682407, null], \"x\": [0.0, 0.5, null, 0.46643085439538495, 0.4285584341548651, null, 0.46643085439538495, 0.44538388103556675, null], \"line\": {\"width\": 2, \"color\": \"rgb(0, 0, 0)\"}, \"mode\": \"lines\", \"hoverinfo\": \"none\"}, {\"y\": [1.0144927536231885, 1.0144927536231885, null, 1.0144927536231885, 1.049233734681464, null], \"x\": [0.5, 1.0, null, 0.9621212121212122, 0.9288794484132434, null], \"line\": {\"width\": 2, \"color\": \"rgb(0, 0, 0)\"}, \"mode\": \"lines\", \"hoverinfo\": \"none\"}, {\"y\": [1.0, 0.0, null, 0.07246376811594203, 0.13605670738336034, null, 0.07246376811594203, 0.13605670738336034, null], \"x\": [0.5, 0.5, null, 0.5, 0.48183994171953776, null, 0.5, 0.5181600582804622, null], \"line\": {\"width\": 2, \"color\": \"rgb(0, 0, 0)\"}, \"mode\": \"lines\", \"hoverinfo\": \"none\"}, {\"y\": [1.0, 0.0, null, 0.052365351967224576, 0.07430651885030926, null, 0.052365351967224576, 0.12233402455151593, null], \"x\": [0.5, 1.0, null, 0.9738173240163878, 0.9377166459078401, null, 0.9738173240163878, 0.9639630823912474, null], \"line\": {\"width\": 2, \"color\": \"rgb(0, 0, 0)\"}, \"mode\": \"lines\", \"hoverinfo\": \"none\"}, {\"y\": [0.9855072463768116, 0.9855072463768116, null, 0.9855072463768116, 0.950766265318536, null], \"x\": [1.0, 0.5, null, 0.5378787878787878, 0.5711205515867566, null], \"line\": {\"width\": 2, \"color\": \"rgb(0, 0, 0)\"}, \"mode\": \"lines\", \"hoverinfo\": \"none\"}, {\"y\": [0.0, 1.0, null, 0.9476346480327754, 0.8776659754484841, null, 0.9476346480327754, 0.9256934811496907, null], \"x\": [0.5, 1.0, null, 0.9738173240163878, 0.9639630823912474, null, 0.9738173240163878, 0.9377166459078401, null], \"line\": {\"width\": 2, \"color\": \"rgb(0, 0, 0)\"}, \"mode\": \"lines\", \"hoverinfo\": \"none\"}, {\"y\": [0.0, 0.0, null, 0.0, -0.03474098105827558, null, 0.0, 0.03474098105827558, null], \"x\": [0.5, 1.0, null, 0.9621212121212122, 0.9288794484132434, null, 0.9621212121212122, 0.9288794484132434, null], \"line\": {\"width\": 2, \"color\": \"rgb(0, 0, 0)\"}, \"mode\": \"lines\", \"hoverinfo\": \"none\"}, {\"y\": [0.0, 0.5, null, 0.481676128503406, 0.4992073320037643, null, 0.481676128503406, 0.4319835048195859, null], \"x\": [1.0, 0.0, null, 0.03664774299318793, 0.07340128670201525, null, 0.03664774299318793, 0.06421703965128427, null], \"line\": {\"width\": 2, \"color\": \"rgb(0, 0, 0)\"}, \"mode\": \"lines\", \"hoverinfo\": \"none\"}, {\"y\": [0.0, 1.0, null, 0.927536231884058, 0.8639432926166397, null, 0.927536231884058, 0.8639432926166397, null], \"x\": [1.0, 1.0, null, 1.0, 1.0181600582804622, null, 1.0, 0.9818399417195378, null], \"line\": {\"width\": 2, \"color\": \"rgb(255, 0, 0)\"}, \"mode\": \"lines\", \"hoverinfo\": \"none\"}, {\"y\": [0.5], \"marker\": {\"line\": {\"width\": 2, \"color\": \"rgb(0, 0, 0)\"}, \"color\": \"rgb(255, 255, 255)\", \"size\": 20}, \"hoverinfo\": \"none\", \"textposition\": \"middle center\", \"x\": [0.0], \"mode\": \"markers+text\", \"text\": [\"0\"], \"textfont\": {\"color\": \"rgb(0, 0, 0)\"}}, {\"y\": [1.0], \"marker\": {\"line\": {\"width\": 2, \"color\": \"rgb(0, 0, 0)\"}, \"color\": \"rgb(255, 255, 255)\", \"size\": 20}, \"hoverinfo\": \"none\", \"textposition\": \"middle center\", \"x\": [0.5], \"mode\": \"markers+text\", \"text\": [\"6\"], \"textfont\": {\"color\": \"rgb(0, 0, 0)\"}}, {\"y\": [1.0], \"marker\": {\"line\": {\"width\": 2, \"color\": \"rgb(0, 0, 0)\"}, \"color\": \"rgb(255, 255, 255)\", \"size\": 20}, \"hoverinfo\": \"none\", \"textposition\": \"middle center\", \"x\": [1.0], \"mode\": \"markers+text\", \"text\": [\"4\"], \"textfont\": {\"color\": \"rgb(0, 0, 0)\"}}, {\"y\": [0.0], \"marker\": {\"line\": {\"width\": 2, \"color\": \"rgb(0, 0, 0)\"}, \"color\": \"rgb(255, 255, 255)\", \"size\": 20}, \"hoverinfo\": \"none\", \"textposition\": \"middle center\", \"x\": [0.5], \"mode\": \"markers+text\", \"text\": [\"7\"], \"textfont\": {\"color\": \"rgb(0, 0, 0)\"}}, {\"y\": [0.0], \"marker\": {\"line\": {\"width\": 2, \"color\": \"rgb(0, 0, 0)\"}, \"color\": \"rgb(255, 255, 255)\", \"size\": 20}, \"hoverinfo\": \"none\", \"textposition\": \"middle center\", \"x\": [1.0], \"mode\": \"markers+text\", \"text\": [\"2\"], \"textfont\": {\"color\": \"rgb(0, 0, 0)\"}}]}, {\"name\": 11, \"data\": [{\"y\": [0.5, 1.0, null, 0.966430854395385, 0.906182816233176, null, 0.966430854395385, 0.967759498957256, null], \"x\": [0.0, 0.5, null, 0.46643085439538495, 0.44538388103556675, null, 0.46643085439538495, 0.4285584341548651, null], \"line\": {\"width\": 2, \"color\": \"rgb(255, 0, 0)\"}, \"mode\": \"lines\", \"hoverinfo\": \"none\"}, {\"y\": [0.5, 0.0, null, 0.03356914560461503, 0.032240501042743994, null, 0.03356914560461503, 0.09381718376682407, null], \"x\": [0.0, 0.5, null, 0.46643085439538495, 0.4285584341548651, null, 0.46643085439538495, 0.44538388103556675, null], \"line\": {\"width\": 2, \"color\": \"rgb(0, 0, 0)\"}, \"mode\": \"lines\", \"hoverinfo\": \"none\"}, {\"y\": [1.0144927536231885, 1.0144927536231885, null, 1.0144927536231885, 1.049233734681464, null], \"x\": [0.5, 1.0, null, 0.9621212121212122, 0.9288794484132434, null], \"line\": {\"width\": 2, \"color\": \"rgb(0, 0, 0)\"}, \"mode\": \"lines\", \"hoverinfo\": \"none\"}, {\"y\": [1.0, 0.0, null, 0.07246376811594203, 0.13605670738336034, null, 0.07246376811594203, 0.13605670738336034, null], \"x\": [0.5, 0.5, null, 0.5, 0.48183994171953776, null, 0.5, 0.5181600582804622, null], \"line\": {\"width\": 2, \"color\": \"rgb(0, 0, 0)\"}, \"mode\": \"lines\", \"hoverinfo\": \"none\"}, {\"y\": [1.0, 0.0, null, 0.052365351967224576, 0.07430651885030926, null, 0.052365351967224576, 0.12233402455151593, null], \"x\": [0.5, 1.0, null, 0.9738173240163878, 0.9377166459078401, null, 0.9738173240163878, 0.9639630823912474, null], \"line\": {\"width\": 2, \"color\": \"rgb(0, 0, 0)\"}, \"mode\": \"lines\", \"hoverinfo\": \"none\"}, {\"y\": [0.9855072463768116, 0.9855072463768116, null, 0.9855072463768116, 0.950766265318536, null], \"x\": [1.0, 0.5, null, 0.5378787878787878, 0.5711205515867566, null], \"line\": {\"width\": 2, \"color\": \"rgb(0, 0, 0)\"}, \"mode\": \"lines\", \"hoverinfo\": \"none\"}, {\"y\": [0.0, 1.0, null, 0.9476346480327754, 0.8776659754484841, null, 0.9476346480327754, 0.9256934811496907, null], \"x\": [0.5, 1.0, null, 0.9738173240163878, 0.9639630823912474, null, 0.9738173240163878, 0.9377166459078401, null], \"line\": {\"width\": 2, \"color\": \"rgb(0, 0, 0)\"}, \"mode\": \"lines\", \"hoverinfo\": \"none\"}, {\"y\": [0.0, 0.0, null, 0.0, -0.03474098105827558, null, 0.0, 0.03474098105827558, null], \"x\": [0.5, 1.0, null, 0.9621212121212122, 0.9288794484132434, null, 0.9621212121212122, 0.9288794484132434, null], \"line\": {\"width\": 2, \"color\": \"rgb(0, 0, 0)\"}, \"mode\": \"lines\", \"hoverinfo\": \"none\"}, {\"y\": [0.0, 0.5, null, 0.481676128503406, 0.4992073320037643, null, 0.481676128503406, 0.4319835048195859, null], \"x\": [1.0, 0.0, null, 0.03664774299318793, 0.07340128670201525, null, 0.03664774299318793, 0.06421703965128427, null], \"line\": {\"width\": 2, \"color\": \"rgb(0, 0, 0)\"}, \"mode\": \"lines\", \"hoverinfo\": \"none\"}, {\"y\": [0.0, 1.0, null, 0.927536231884058, 0.8639432926166397, null, 0.927536231884058, 0.8639432926166397, null], \"x\": [1.0, 1.0, null, 1.0, 1.0181600582804622, null, 1.0, 0.9818399417195378, null], \"line\": {\"width\": 2, \"color\": \"rgb(0, 0, 0)\"}, \"mode\": \"lines\", \"hoverinfo\": \"none\"}, {\"y\": [0.5], \"marker\": {\"line\": {\"width\": 2, \"color\": \"rgb(0, 0, 0)\"}, \"color\": \"rgb(255, 255, 255)\", \"size\": 20}, \"hoverinfo\": \"none\", \"textposition\": \"middle center\", \"x\": [0.0], \"mode\": \"markers+text\", \"text\": [\"0\"], \"textfont\": {\"color\": \"rgb(0, 0, 0)\"}}, {\"y\": [1.0], \"marker\": {\"line\": {\"width\": 2, \"color\": \"rgb(0, 0, 0)\"}, \"color\": \"rgb(255, 255, 255)\", \"size\": 20}, \"hoverinfo\": \"none\", \"textposition\": \"middle center\", \"x\": [0.5], \"mode\": \"markers+text\", \"text\": [\"6\"], \"textfont\": {\"color\": \"rgb(0, 0, 0)\"}}, {\"y\": [1.0], \"marker\": {\"line\": {\"width\": 2, \"color\": \"rgb(0, 0, 0)\"}, \"color\": \"rgb(255, 255, 255)\", \"size\": 20}, \"hoverinfo\": \"none\", \"textposition\": \"middle center\", \"x\": [1.0], \"mode\": \"markers+text\", \"text\": [\"4\"], \"textfont\": {\"color\": \"rgb(0, 0, 0)\"}}, {\"y\": [0.0], \"marker\": {\"line\": {\"width\": 2, \"color\": \"rgb(0, 0, 0)\"}, \"color\": \"rgb(255, 255, 255)\", \"size\": 20}, \"hoverinfo\": \"none\", \"textposition\": \"middle center\", \"x\": [0.5], \"mode\": \"markers+text\", \"text\": [\"7\"], \"textfont\": {\"color\": \"rgb(0, 0, 0)\"}}, {\"y\": [0.0], \"marker\": {\"line\": {\"width\": 2, \"color\": \"rgb(0, 0, 0)\"}, \"color\": \"rgb(255, 255, 255)\", \"size\": 20}, \"hoverinfo\": \"none\", \"textposition\": \"middle center\", \"x\": [1.0], \"mode\": \"markers+text\", \"text\": [\"2\"], \"textfont\": {\"color\": \"rgb(0, 0, 0)\"}}]}, {\"name\": 12, \"data\": [{\"y\": [0.5, 1.0, null, 0.966430854395385, 0.906182816233176, null, 0.966430854395385, 0.967759498957256, null], \"x\": [0.0, 0.5, null, 0.46643085439538495, 0.44538388103556675, null, 0.46643085439538495, 0.4285584341548651, null], \"line\": {\"width\": 2, \"color\": \"rgb(0, 0, 0)\"}, \"mode\": \"lines\", \"hoverinfo\": \"none\"}, {\"y\": [0.5, 0.0, null, 0.03356914560461503, 0.032240501042743994, null, 0.03356914560461503, 0.09381718376682407, null], \"x\": [0.0, 0.5, null, 0.46643085439538495, 0.4285584341548651, null, 0.46643085439538495, 0.44538388103556675, null], \"line\": {\"width\": 2, \"color\": \"rgb(255, 0, 0)\"}, \"mode\": \"lines\", \"hoverinfo\": \"none\"}, {\"y\": [1.0144927536231885, 1.0144927536231885, null, 1.0144927536231885, 1.049233734681464, null], \"x\": [0.5, 1.0, null, 0.9621212121212122, 0.9288794484132434, null], \"line\": {\"width\": 2, \"color\": \"rgb(0, 0, 0)\"}, \"mode\": \"lines\", \"hoverinfo\": \"none\"}, {\"y\": [1.0, 0.0, null, 0.07246376811594203, 0.13605670738336034, null, 0.07246376811594203, 0.13605670738336034, null], \"x\": [0.5, 0.5, null, 0.5, 0.48183994171953776, null, 0.5, 0.5181600582804622, null], \"line\": {\"width\": 2, \"color\": \"rgb(0, 0, 0)\"}, \"mode\": \"lines\", \"hoverinfo\": \"none\"}, {\"y\": [1.0, 0.0, null, 0.052365351967224576, 0.07430651885030926, null, 0.052365351967224576, 0.12233402455151593, null], \"x\": [0.5, 1.0, null, 0.9738173240163878, 0.9377166459078401, null, 0.9738173240163878, 0.9639630823912474, null], \"line\": {\"width\": 2, \"color\": \"rgb(0, 0, 0)\"}, \"mode\": \"lines\", \"hoverinfo\": \"none\"}, {\"y\": [0.9855072463768116, 0.9855072463768116, null, 0.9855072463768116, 0.950766265318536, null], \"x\": [1.0, 0.5, null, 0.5378787878787878, 0.5711205515867566, null], \"line\": {\"width\": 2, \"color\": \"rgb(0, 0, 0)\"}, \"mode\": \"lines\", \"hoverinfo\": \"none\"}, {\"y\": [0.0, 1.0, null, 0.9476346480327754, 0.8776659754484841, null, 0.9476346480327754, 0.9256934811496907, null], \"x\": [0.5, 1.0, null, 0.9738173240163878, 0.9639630823912474, null, 0.9738173240163878, 0.9377166459078401, null], \"line\": {\"width\": 2, \"color\": \"rgb(0, 0, 0)\"}, \"mode\": \"lines\", \"hoverinfo\": \"none\"}, {\"y\": [0.0, 0.0, null, 0.0, -0.03474098105827558, null, 0.0, 0.03474098105827558, null], \"x\": [0.5, 1.0, null, 0.9621212121212122, 0.9288794484132434, null, 0.9621212121212122, 0.9288794484132434, null], \"line\": {\"width\": 2, \"color\": \"rgb(0, 0, 0)\"}, \"mode\": \"lines\", \"hoverinfo\": \"none\"}, {\"y\": [0.0, 0.5, null, 0.481676128503406, 0.4992073320037643, null, 0.481676128503406, 0.4319835048195859, null], \"x\": [1.0, 0.0, null, 0.03664774299318793, 0.07340128670201525, null, 0.03664774299318793, 0.06421703965128427, null], \"line\": {\"width\": 2, \"color\": \"rgb(0, 0, 0)\"}, \"mode\": \"lines\", \"hoverinfo\": \"none\"}, {\"y\": [0.0, 1.0, null, 0.927536231884058, 0.8639432926166397, null, 0.927536231884058, 0.8639432926166397, null], \"x\": [1.0, 1.0, null, 1.0, 1.0181600582804622, null, 1.0, 0.9818399417195378, null], \"line\": {\"width\": 2, \"color\": \"rgb(0, 0, 0)\"}, \"mode\": \"lines\", \"hoverinfo\": \"none\"}, {\"y\": [0.5], \"marker\": {\"line\": {\"width\": 2, \"color\": \"rgb(0, 0, 0)\"}, \"color\": \"rgb(255, 255, 255)\", \"size\": 20}, \"hoverinfo\": \"none\", \"textposition\": \"middle center\", \"x\": [0.0], \"mode\": \"markers+text\", \"text\": [\"0\"], \"textfont\": {\"color\": \"rgb(0, 0, 0)\"}}, {\"y\": [1.0], \"marker\": {\"line\": {\"width\": 2, \"color\": \"rgb(0, 0, 0)\"}, \"color\": \"rgb(255, 255, 255)\", \"size\": 20}, \"hoverinfo\": \"none\", \"textposition\": \"middle center\", \"x\": [0.5], \"mode\": \"markers+text\", \"text\": [\"6\"], \"textfont\": {\"color\": \"rgb(0, 0, 0)\"}}, {\"y\": [1.0], \"marker\": {\"line\": {\"width\": 2, \"color\": \"rgb(0, 0, 0)\"}, \"color\": \"rgb(255, 255, 255)\", \"size\": 20}, \"hoverinfo\": \"none\", \"textposition\": \"middle center\", \"x\": [1.0], \"mode\": \"markers+text\", \"text\": [\"4\"], \"textfont\": {\"color\": \"rgb(0, 0, 0)\"}}, {\"y\": [0.0], \"marker\": {\"line\": {\"width\": 2, \"color\": \"rgb(0, 0, 0)\"}, \"color\": \"rgb(255, 255, 255)\", \"size\": 20}, \"hoverinfo\": \"none\", \"textposition\": \"middle center\", \"x\": [0.5], \"mode\": \"markers+text\", \"text\": [\"7\"], \"textfont\": {\"color\": \"rgb(0, 0, 0)\"}}, {\"y\": [0.0], \"marker\": {\"line\": {\"width\": 2, \"color\": \"rgb(0, 0, 0)\"}, \"color\": \"rgb(255, 255, 255)\", \"size\": 20}, \"hoverinfo\": \"none\", \"textposition\": \"middle center\", \"x\": [1.0], \"mode\": \"markers+text\", \"text\": [\"2\"], \"textfont\": {\"color\": \"rgb(0, 0, 0)\"}}]}, {\"name\": 13, \"data\": [{\"y\": [0.5, 1.0, null, 0.966430854395385, 0.906182816233176, null, 0.966430854395385, 0.967759498957256, null], \"x\": [0.0, 0.5, null, 0.46643085439538495, 0.44538388103556675, null, 0.46643085439538495, 0.4285584341548651, null], \"line\": {\"width\": 2, \"color\": \"rgb(0, 0, 0)\"}, \"mode\": \"lines\", \"hoverinfo\": \"none\"}, {\"y\": [0.5, 0.0, null, 0.03356914560461503, 0.032240501042743994, null, 0.03356914560461503, 0.09381718376682407, null], \"x\": [0.0, 0.5, null, 0.46643085439538495, 0.4285584341548651, null, 0.46643085439538495, 0.44538388103556675, null], \"line\": {\"width\": 2, \"color\": \"rgb(0, 0, 0)\"}, \"mode\": \"lines\", \"hoverinfo\": \"none\"}, {\"y\": [1.0144927536231885, 1.0144927536231885, null, 1.0144927536231885, 1.049233734681464, null], \"x\": [0.5, 1.0, null, 0.9621212121212122, 0.9288794484132434, null], \"line\": {\"width\": 2, \"color\": \"rgb(255, 0, 0)\"}, \"mode\": \"lines\", \"hoverinfo\": \"none\"}, {\"y\": [1.0, 0.0, null, 0.07246376811594203, 0.13605670738336034, null, 0.07246376811594203, 0.13605670738336034, null], \"x\": [0.5, 0.5, null, 0.5, 0.48183994171953776, null, 0.5, 0.5181600582804622, null], \"line\": {\"width\": 2, \"color\": \"rgb(0, 0, 0)\"}, \"mode\": \"lines\", \"hoverinfo\": \"none\"}, {\"y\": [1.0, 0.0, null, 0.052365351967224576, 0.07430651885030926, null, 0.052365351967224576, 0.12233402455151593, null], \"x\": [0.5, 1.0, null, 0.9738173240163878, 0.9377166459078401, null, 0.9738173240163878, 0.9639630823912474, null], \"line\": {\"width\": 2, \"color\": \"rgb(0, 0, 0)\"}, \"mode\": \"lines\", \"hoverinfo\": \"none\"}, {\"y\": [0.9855072463768116, 0.9855072463768116, null, 0.9855072463768116, 0.950766265318536, null], \"x\": [1.0, 0.5, null, 0.5378787878787878, 0.5711205515867566, null], \"line\": {\"width\": 2, \"color\": \"rgb(0, 0, 0)\"}, \"mode\": \"lines\", \"hoverinfo\": \"none\"}, {\"y\": [0.0, 1.0, null, 0.9476346480327754, 0.8776659754484841, null, 0.9476346480327754, 0.9256934811496907, null], \"x\": [0.5, 1.0, null, 0.9738173240163878, 0.9639630823912474, null, 0.9738173240163878, 0.9377166459078401, null], \"line\": {\"width\": 2, \"color\": \"rgb(0, 0, 0)\"}, \"mode\": \"lines\", \"hoverinfo\": \"none\"}, {\"y\": [0.0, 0.0, null, 0.0, -0.03474098105827558, null, 0.0, 0.03474098105827558, null], \"x\": [0.5, 1.0, null, 0.9621212121212122, 0.9288794484132434, null, 0.9621212121212122, 0.9288794484132434, null], \"line\": {\"width\": 2, \"color\": \"rgb(0, 0, 0)\"}, \"mode\": \"lines\", \"hoverinfo\": \"none\"}, {\"y\": [0.0, 0.5, null, 0.481676128503406, 0.4992073320037643, null, 0.481676128503406, 0.4319835048195859, null], \"x\": [1.0, 0.0, null, 0.03664774299318793, 0.07340128670201525, null, 0.03664774299318793, 0.06421703965128427, null], \"line\": {\"width\": 2, \"color\": \"rgb(0, 0, 0)\"}, \"mode\": \"lines\", \"hoverinfo\": \"none\"}, {\"y\": [0.0, 1.0, null, 0.927536231884058, 0.8639432926166397, null, 0.927536231884058, 0.8639432926166397, null], \"x\": [1.0, 1.0, null, 1.0, 1.0181600582804622, null, 1.0, 0.9818399417195378, null], \"line\": {\"width\": 2, \"color\": \"rgb(0, 0, 0)\"}, \"mode\": \"lines\", \"hoverinfo\": \"none\"}, {\"y\": [0.5], \"marker\": {\"line\": {\"width\": 2, \"color\": \"rgb(0, 0, 0)\"}, \"color\": \"rgb(255, 255, 255)\", \"size\": 20}, \"hoverinfo\": \"none\", \"textposition\": \"middle center\", \"x\": [0.0], \"mode\": \"markers+text\", \"text\": [\"0\"], \"textfont\": {\"color\": \"rgb(0, 0, 0)\"}}, {\"y\": [1.0], \"marker\": {\"line\": {\"width\": 2, \"color\": \"rgb(0, 0, 0)\"}, \"color\": \"rgb(255, 255, 255)\", \"size\": 20}, \"hoverinfo\": \"none\", \"textposition\": \"middle center\", \"x\": [0.5], \"mode\": \"markers+text\", \"text\": [\"6\"], \"textfont\": {\"color\": \"rgb(0, 0, 0)\"}}, {\"y\": [1.0], \"marker\": {\"line\": {\"width\": 2, \"color\": \"rgb(0, 0, 0)\"}, \"color\": \"rgb(255, 255, 255)\", \"size\": 20}, \"hoverinfo\": \"none\", \"textposition\": \"middle center\", \"x\": [1.0], \"mode\": \"markers+text\", \"text\": [\"4\"], \"textfont\": {\"color\": \"rgb(0, 0, 0)\"}}, {\"y\": [0.0], \"marker\": {\"line\": {\"width\": 2, \"color\": \"rgb(0, 0, 0)\"}, \"color\": \"rgb(255, 255, 255)\", \"size\": 20}, \"hoverinfo\": \"none\", \"textposition\": \"middle center\", \"x\": [0.5], \"mode\": \"markers+text\", \"text\": [\"7\"], \"textfont\": {\"color\": \"rgb(0, 0, 0)\"}}, {\"y\": [0.0], \"marker\": {\"line\": {\"width\": 2, \"color\": \"rgb(0, 0, 0)\"}, \"color\": \"rgb(255, 255, 255)\", \"size\": 20}, \"hoverinfo\": \"none\", \"textposition\": \"middle center\", \"x\": [1.0], \"mode\": \"markers+text\", \"text\": [\"2\"], \"textfont\": {\"color\": \"rgb(0, 0, 0)\"}}]}, {\"name\": 14, \"data\": [{\"y\": [0.5, 1.0, null, 0.966430854395385, 0.906182816233176, null, 0.966430854395385, 0.967759498957256, null], \"x\": [0.0, 0.5, null, 0.46643085439538495, 0.44538388103556675, null, 0.46643085439538495, 0.4285584341548651, null], \"line\": {\"width\": 2, \"color\": \"rgb(0, 0, 0)\"}, \"mode\": \"lines\", \"hoverinfo\": \"none\"}, {\"y\": [0.5, 0.0, null, 0.03356914560461503, 0.032240501042743994, null, 0.03356914560461503, 0.09381718376682407, null], \"x\": [0.0, 0.5, null, 0.46643085439538495, 0.4285584341548651, null, 0.46643085439538495, 0.44538388103556675, null], \"line\": {\"width\": 2, \"color\": \"rgb(0, 0, 0)\"}, \"mode\": \"lines\", \"hoverinfo\": \"none\"}, {\"y\": [1.0144927536231885, 1.0144927536231885, null, 1.0144927536231885, 1.049233734681464, null], \"x\": [0.5, 1.0, null, 0.9621212121212122, 0.9288794484132434, null], \"line\": {\"width\": 2, \"color\": \"rgb(0, 0, 0)\"}, \"mode\": \"lines\", \"hoverinfo\": \"none\"}, {\"y\": [1.0, 0.0, null, 0.07246376811594203, 0.13605670738336034, null, 0.07246376811594203, 0.13605670738336034, null], \"x\": [0.5, 0.5, null, 0.5, 0.48183994171953776, null, 0.5, 0.5181600582804622, null], \"line\": {\"width\": 2, \"color\": \"rgb(255, 0, 0)\"}, \"mode\": \"lines\", \"hoverinfo\": \"none\"}, {\"y\": [1.0, 0.0, null, 0.052365351967224576, 0.07430651885030926, null, 0.052365351967224576, 0.12233402455151593, null], \"x\": [0.5, 1.0, null, 0.9738173240163878, 0.9377166459078401, null, 0.9738173240163878, 0.9639630823912474, null], \"line\": {\"width\": 2, \"color\": \"rgb(0, 0, 0)\"}, \"mode\": \"lines\", \"hoverinfo\": \"none\"}, {\"y\": [0.9855072463768116, 0.9855072463768116, null, 0.9855072463768116, 0.950766265318536, null], \"x\": [1.0, 0.5, null, 0.5378787878787878, 0.5711205515867566, null], \"line\": {\"width\": 2, \"color\": \"rgb(0, 0, 0)\"}, \"mode\": \"lines\", \"hoverinfo\": \"none\"}, {\"y\": [0.0, 1.0, null, 0.9476346480327754, 0.8776659754484841, null, 0.9476346480327754, 0.9256934811496907, null], \"x\": [0.5, 1.0, null, 0.9738173240163878, 0.9639630823912474, null, 0.9738173240163878, 0.9377166459078401, null], \"line\": {\"width\": 2, \"color\": \"rgb(0, 0, 0)\"}, \"mode\": \"lines\", \"hoverinfo\": \"none\"}, {\"y\": [0.0, 0.0, null, 0.0, -0.03474098105827558, null, 0.0, 0.03474098105827558, null], \"x\": [0.5, 1.0, null, 0.9621212121212122, 0.9288794484132434, null, 0.9621212121212122, 0.9288794484132434, null], \"line\": {\"width\": 2, \"color\": \"rgb(0, 0, 0)\"}, \"mode\": \"lines\", \"hoverinfo\": \"none\"}, {\"y\": [0.0, 0.5, null, 0.481676128503406, 0.4992073320037643, null, 0.481676128503406, 0.4319835048195859, null], \"x\": [1.0, 0.0, null, 0.03664774299318793, 0.07340128670201525, null, 0.03664774299318793, 0.06421703965128427, null], \"line\": {\"width\": 2, \"color\": \"rgb(0, 0, 0)\"}, \"mode\": \"lines\", \"hoverinfo\": \"none\"}, {\"y\": [0.0, 1.0, null, 0.927536231884058, 0.8639432926166397, null, 0.927536231884058, 0.8639432926166397, null], \"x\": [1.0, 1.0, null, 1.0, 1.0181600582804622, null, 1.0, 0.9818399417195378, null], \"line\": {\"width\": 2, \"color\": \"rgb(0, 0, 0)\"}, \"mode\": \"lines\", \"hoverinfo\": \"none\"}, {\"y\": [0.5], \"marker\": {\"line\": {\"width\": 2, \"color\": \"rgb(0, 0, 0)\"}, \"color\": \"rgb(255, 255, 255)\", \"size\": 20}, \"hoverinfo\": \"none\", \"textposition\": \"middle center\", \"x\": [0.0], \"mode\": \"markers+text\", \"text\": [\"0\"], \"textfont\": {\"color\": \"rgb(0, 0, 0)\"}}, {\"y\": [1.0], \"marker\": {\"line\": {\"width\": 2, \"color\": \"rgb(0, 0, 0)\"}, \"color\": \"rgb(255, 255, 255)\", \"size\": 20}, \"hoverinfo\": \"none\", \"textposition\": \"middle center\", \"x\": [0.5], \"mode\": \"markers+text\", \"text\": [\"6\"], \"textfont\": {\"color\": \"rgb(0, 0, 0)\"}}, {\"y\": [1.0], \"marker\": {\"line\": {\"width\": 2, \"color\": \"rgb(0, 0, 0)\"}, \"color\": \"rgb(255, 255, 255)\", \"size\": 20}, \"hoverinfo\": \"none\", \"textposition\": \"middle center\", \"x\": [1.0], \"mode\": \"markers+text\", \"text\": [\"4\"], \"textfont\": {\"color\": \"rgb(0, 0, 0)\"}}, {\"y\": [0.0], \"marker\": {\"line\": {\"width\": 2, \"color\": \"rgb(0, 0, 0)\"}, \"color\": \"rgb(255, 255, 255)\", \"size\": 20}, \"hoverinfo\": \"none\", \"textposition\": \"middle center\", \"x\": [0.5], \"mode\": \"markers+text\", \"text\": [\"7\"], \"textfont\": {\"color\": \"rgb(0, 0, 0)\"}}, {\"y\": [0.0], \"marker\": {\"line\": {\"width\": 2, \"color\": \"rgb(0, 0, 0)\"}, \"color\": \"rgb(255, 255, 255)\", \"size\": 20}, \"hoverinfo\": \"none\", \"textposition\": \"middle center\", \"x\": [1.0], \"mode\": \"markers+text\", \"text\": [\"2\"], \"textfont\": {\"color\": \"rgb(0, 0, 0)\"}}]}, {\"name\": 15, \"data\": [{\"y\": [0.5, 1.0, null, 0.966430854395385, 0.906182816233176, null, 0.966430854395385, 0.967759498957256, null], \"x\": [0.0, 0.5, null, 0.46643085439538495, 0.44538388103556675, null, 0.46643085439538495, 0.4285584341548651, null], \"line\": {\"width\": 2, \"color\": \"rgb(0, 0, 0)\"}, \"mode\": \"lines\", \"hoverinfo\": \"none\"}, {\"y\": [0.5, 0.0, null, 0.03356914560461503, 0.032240501042743994, null, 0.03356914560461503, 0.09381718376682407, null], \"x\": [0.0, 0.5, null, 0.46643085439538495, 0.4285584341548651, null, 0.46643085439538495, 0.44538388103556675, null], \"line\": {\"width\": 2, \"color\": \"rgb(0, 0, 0)\"}, \"mode\": \"lines\", \"hoverinfo\": \"none\"}, {\"y\": [1.0144927536231885, 1.0144927536231885, null, 1.0144927536231885, 1.049233734681464, null], \"x\": [0.5, 1.0, null, 0.9621212121212122, 0.9288794484132434, null], \"line\": {\"width\": 2, \"color\": \"rgb(0, 0, 0)\"}, \"mode\": \"lines\", \"hoverinfo\": \"none\"}, {\"y\": [1.0, 0.0, null, 0.07246376811594203, 0.13605670738336034, null, 0.07246376811594203, 0.13605670738336034, null], \"x\": [0.5, 0.5, null, 0.5, 0.48183994171953776, null, 0.5, 0.5181600582804622, null], \"line\": {\"width\": 2, \"color\": \"rgb(0, 0, 0)\"}, \"mode\": \"lines\", \"hoverinfo\": \"none\"}, {\"y\": [1.0, 0.0, null, 0.052365351967224576, 0.07430651885030926, null, 0.052365351967224576, 0.12233402455151593, null], \"x\": [0.5, 1.0, null, 0.9738173240163878, 0.9377166459078401, null, 0.9738173240163878, 0.9639630823912474, null], \"line\": {\"width\": 2, \"color\": \"rgb(255, 0, 0)\"}, \"mode\": \"lines\", \"hoverinfo\": \"none\"}, {\"y\": [0.9855072463768116, 0.9855072463768116, null, 0.9855072463768116, 0.950766265318536, null], \"x\": [1.0, 0.5, null, 0.5378787878787878, 0.5711205515867566, null], \"line\": {\"width\": 2, \"color\": \"rgb(0, 0, 0)\"}, \"mode\": \"lines\", \"hoverinfo\": \"none\"}, {\"y\": [0.0, 1.0, null, 0.9476346480327754, 0.8776659754484841, null, 0.9476346480327754, 0.9256934811496907, null], \"x\": [0.5, 1.0, null, 0.9738173240163878, 0.9639630823912474, null, 0.9738173240163878, 0.9377166459078401, null], \"line\": {\"width\": 2, \"color\": \"rgb(0, 0, 0)\"}, \"mode\": \"lines\", \"hoverinfo\": \"none\"}, {\"y\": [0.0, 0.0, null, 0.0, -0.03474098105827558, null, 0.0, 0.03474098105827558, null], \"x\": [0.5, 1.0, null, 0.9621212121212122, 0.9288794484132434, null, 0.9621212121212122, 0.9288794484132434, null], \"line\": {\"width\": 2, \"color\": \"rgb(0, 0, 0)\"}, \"mode\": \"lines\", \"hoverinfo\": \"none\"}, {\"y\": [0.0, 0.5, null, 0.481676128503406, 0.4992073320037643, null, 0.481676128503406, 0.4319835048195859, null], \"x\": [1.0, 0.0, null, 0.03664774299318793, 0.07340128670201525, null, 0.03664774299318793, 0.06421703965128427, null], \"line\": {\"width\": 2, \"color\": \"rgb(0, 0, 0)\"}, \"mode\": \"lines\", \"hoverinfo\": \"none\"}, {\"y\": [0.0, 1.0, null, 0.927536231884058, 0.8639432926166397, null, 0.927536231884058, 0.8639432926166397, null], \"x\": [1.0, 1.0, null, 1.0, 1.0181600582804622, null, 1.0, 0.9818399417195378, null], \"line\": {\"width\": 2, \"color\": \"rgb(0, 0, 0)\"}, \"mode\": \"lines\", \"hoverinfo\": \"none\"}, {\"y\": [0.5], \"marker\": {\"line\": {\"width\": 2, \"color\": \"rgb(0, 0, 0)\"}, \"color\": \"rgb(255, 255, 255)\", \"size\": 20}, \"hoverinfo\": \"none\", \"textposition\": \"middle center\", \"x\": [0.0], \"mode\": \"markers+text\", \"text\": [\"0\"], \"textfont\": {\"color\": \"rgb(0, 0, 0)\"}}, {\"y\": [1.0], \"marker\": {\"line\": {\"width\": 2, \"color\": \"rgb(0, 0, 0)\"}, \"color\": \"rgb(255, 255, 255)\", \"size\": 20}, \"hoverinfo\": \"none\", \"textposition\": \"middle center\", \"x\": [0.5], \"mode\": \"markers+text\", \"text\": [\"6\"], \"textfont\": {\"color\": \"rgb(0, 0, 0)\"}}, {\"y\": [1.0], \"marker\": {\"line\": {\"width\": 2, \"color\": \"rgb(0, 0, 0)\"}, \"color\": \"rgb(255, 255, 255)\", \"size\": 20}, \"hoverinfo\": \"none\", \"textposition\": \"middle center\", \"x\": [1.0], \"mode\": \"markers+text\", \"text\": [\"4\"], \"textfont\": {\"color\": \"rgb(0, 0, 0)\"}}, {\"y\": [0.0], \"marker\": {\"line\": {\"width\": 2, \"color\": \"rgb(0, 0, 0)\"}, \"color\": \"rgb(255, 255, 255)\", \"size\": 20}, \"hoverinfo\": \"none\", \"textposition\": \"middle center\", \"x\": [0.5], \"mode\": \"markers+text\", \"text\": [\"7\"], \"textfont\": {\"color\": \"rgb(0, 0, 0)\"}}, {\"y\": [0.0], \"marker\": {\"line\": {\"width\": 2, \"color\": \"rgb(0, 0, 0)\"}, \"color\": \"rgb(255, 255, 255)\", \"size\": 20}, \"hoverinfo\": \"none\", \"textposition\": \"middle center\", \"x\": [1.0], \"mode\": \"markers+text\", \"text\": [\"2\"], \"textfont\": {\"color\": \"rgb(0, 0, 0)\"}}]}, {\"name\": 16, \"data\": [{\"y\": [0.5, 1.0, null, 0.966430854395385, 0.906182816233176, null, 0.966430854395385, 0.967759498957256, null], \"x\": [0.0, 0.5, null, 0.46643085439538495, 0.44538388103556675, null, 0.46643085439538495, 0.4285584341548651, null], \"line\": {\"width\": 2, \"color\": \"rgb(0, 0, 0)\"}, \"mode\": \"lines\", \"hoverinfo\": \"none\"}, {\"y\": [0.5, 0.0, null, 0.03356914560461503, 0.032240501042743994, null, 0.03356914560461503, 0.09381718376682407, null], \"x\": [0.0, 0.5, null, 0.46643085439538495, 0.4285584341548651, null, 0.46643085439538495, 0.44538388103556675, null], \"line\": {\"width\": 2, \"color\": \"rgb(0, 0, 0)\"}, \"mode\": \"lines\", \"hoverinfo\": \"none\"}, {\"y\": [1.0144927536231885, 1.0144927536231885, null, 1.0144927536231885, 1.049233734681464, null], \"x\": [0.5, 1.0, null, 0.9621212121212122, 0.9288794484132434, null], \"line\": {\"width\": 2, \"color\": \"rgb(0, 0, 0)\"}, \"mode\": \"lines\", \"hoverinfo\": \"none\"}, {\"y\": [1.0, 0.0, null, 0.07246376811594203, 0.13605670738336034, null, 0.07246376811594203, 0.13605670738336034, null], \"x\": [0.5, 0.5, null, 0.5, 0.48183994171953776, null, 0.5, 0.5181600582804622, null], \"line\": {\"width\": 2, \"color\": \"rgb(0, 0, 0)\"}, \"mode\": \"lines\", \"hoverinfo\": \"none\"}, {\"y\": [1.0, 0.0, null, 0.052365351967224576, 0.07430651885030926, null, 0.052365351967224576, 0.12233402455151593, null], \"x\": [0.5, 1.0, null, 0.9738173240163878, 0.9377166459078401, null, 0.9738173240163878, 0.9639630823912474, null], \"line\": {\"width\": 2, \"color\": \"rgb(0, 0, 0)\"}, \"mode\": \"lines\", \"hoverinfo\": \"none\"}, {\"y\": [0.9855072463768116, 0.9855072463768116, null, 0.9855072463768116, 0.950766265318536, null], \"x\": [1.0, 0.5, null, 0.5378787878787878, 0.5711205515867566, null], \"line\": {\"width\": 2, \"color\": \"rgb(0, 255, 0)\"}, \"mode\": \"lines\", \"hoverinfo\": \"none\"}, {\"y\": [0.0, 1.0, null, 0.9476346480327754, 0.8776659754484841, null, 0.9476346480327754, 0.9256934811496907, null], \"x\": [0.5, 1.0, null, 0.9738173240163878, 0.9639630823912474, null, 0.9738173240163878, 0.9377166459078401, null], \"line\": {\"width\": 2, \"color\": \"rgb(0, 0, 0)\"}, \"mode\": \"lines\", \"hoverinfo\": \"none\"}, {\"y\": [0.0, 0.0, null, 0.0, -0.03474098105827558, null, 0.0, 0.03474098105827558, null], \"x\": [0.5, 1.0, null, 0.9621212121212122, 0.9288794484132434, null, 0.9621212121212122, 0.9288794484132434, null], \"line\": {\"width\": 2, \"color\": \"rgb(0, 0, 0)\"}, \"mode\": \"lines\", \"hoverinfo\": \"none\"}, {\"y\": [0.0, 0.5, null, 0.481676128503406, 0.4992073320037643, null, 0.481676128503406, 0.4319835048195859, null], \"x\": [1.0, 0.0, null, 0.03664774299318793, 0.07340128670201525, null, 0.03664774299318793, 0.06421703965128427, null], \"line\": {\"width\": 2, \"color\": \"rgb(0, 0, 0)\"}, \"mode\": \"lines\", \"hoverinfo\": \"none\"}, {\"y\": [0.0, 1.0, null, 0.927536231884058, 0.8639432926166397, null, 0.927536231884058, 0.8639432926166397, null], \"x\": [1.0, 1.0, null, 1.0, 1.0181600582804622, null, 1.0, 0.9818399417195378, null], \"line\": {\"width\": 2, \"color\": \"rgb(0, 0, 0)\"}, \"mode\": \"lines\", \"hoverinfo\": \"none\"}, {\"y\": [0.5], \"marker\": {\"line\": {\"width\": 2, \"color\": \"rgb(0, 0, 0)\"}, \"color\": \"rgb(255, 255, 255)\", \"size\": 20}, \"hoverinfo\": \"none\", \"textposition\": \"middle center\", \"x\": [0.0], \"mode\": \"markers+text\", \"text\": [\"0\"], \"textfont\": {\"color\": \"rgb(0, 0, 0)\"}}, {\"y\": [1.0], \"marker\": {\"line\": {\"width\": 2, \"color\": \"rgb(0, 0, 0)\"}, \"color\": \"rgb(255, 255, 255)\", \"size\": 20}, \"hoverinfo\": \"none\", \"textposition\": \"middle center\", \"x\": [0.5], \"mode\": \"markers+text\", \"text\": [\"2\"], \"textfont\": {\"color\": \"rgb(0, 0, 0)\"}}, {\"y\": [1.0], \"marker\": {\"line\": {\"width\": 2, \"color\": \"rgb(0, 0, 0)\"}, \"color\": \"rgb(255, 255, 255)\", \"size\": 20}, \"hoverinfo\": \"none\", \"textposition\": \"middle center\", \"x\": [1.0], \"mode\": \"markers+text\", \"text\": [\"4\"], \"textfont\": {\"color\": \"rgb(0, 0, 0)\"}}, {\"y\": [0.0], \"marker\": {\"line\": {\"width\": 2, \"color\": \"rgb(0, 0, 0)\"}, \"color\": \"rgb(255, 255, 255)\", \"size\": 20}, \"hoverinfo\": \"none\", \"textposition\": \"middle center\", \"x\": [0.5], \"mode\": \"markers+text\", \"text\": [\"7\"], \"textfont\": {\"color\": \"rgb(0, 0, 0)\"}}, {\"y\": [0.0], \"marker\": {\"line\": {\"width\": 2, \"color\": \"rgb(0, 0, 0)\"}, \"color\": \"rgb(255, 255, 255)\", \"size\": 20}, \"hoverinfo\": \"none\", \"textposition\": \"middle center\", \"x\": [1.0], \"mode\": \"markers+text\", \"text\": [\"2\"], \"textfont\": {\"color\": \"rgb(0, 0, 0)\"}}]}, {\"name\": 17, \"data\": [{\"y\": [0.5, 1.0, null, 0.966430854395385, 0.906182816233176, null, 0.966430854395385, 0.967759498957256, null], \"x\": [0.0, 0.5, null, 0.46643085439538495, 0.44538388103556675, null, 0.46643085439538495, 0.4285584341548651, null], \"line\": {\"width\": 2, \"color\": \"rgb(0, 0, 0)\"}, \"mode\": \"lines\", \"hoverinfo\": \"none\"}, {\"y\": [0.5, 0.0, null, 0.03356914560461503, 0.032240501042743994, null, 0.03356914560461503, 0.09381718376682407, null], \"x\": [0.0, 0.5, null, 0.46643085439538495, 0.4285584341548651, null, 0.46643085439538495, 0.44538388103556675, null], \"line\": {\"width\": 2, \"color\": \"rgb(0, 0, 0)\"}, \"mode\": \"lines\", \"hoverinfo\": \"none\"}, {\"y\": [1.0144927536231885, 1.0144927536231885, null, 1.0144927536231885, 1.049233734681464, null], \"x\": [0.5, 1.0, null, 0.9621212121212122, 0.9288794484132434, null], \"line\": {\"width\": 2, \"color\": \"rgb(0, 0, 0)\"}, \"mode\": \"lines\", \"hoverinfo\": \"none\"}, {\"y\": [1.0, 0.0, null, 0.07246376811594203, 0.13605670738336034, null, 0.07246376811594203, 0.13605670738336034, null], \"x\": [0.5, 0.5, null, 0.5, 0.48183994171953776, null, 0.5, 0.5181600582804622, null], \"line\": {\"width\": 2, \"color\": \"rgb(0, 0, 0)\"}, \"mode\": \"lines\", \"hoverinfo\": \"none\"}, {\"y\": [1.0, 0.0, null, 0.052365351967224576, 0.07430651885030926, null, 0.052365351967224576, 0.12233402455151593, null], \"x\": [0.5, 1.0, null, 0.9738173240163878, 0.9377166459078401, null, 0.9738173240163878, 0.9639630823912474, null], \"line\": {\"width\": 2, \"color\": \"rgb(0, 0, 0)\"}, \"mode\": \"lines\", \"hoverinfo\": \"none\"}, {\"y\": [0.9855072463768116, 0.9855072463768116, null, 0.9855072463768116, 0.950766265318536, null], \"x\": [1.0, 0.5, null, 0.5378787878787878, 0.5711205515867566, null], \"line\": {\"width\": 2, \"color\": \"rgb(0, 0, 0)\"}, \"mode\": \"lines\", \"hoverinfo\": \"none\"}, {\"y\": [0.0, 1.0, null, 0.9476346480327754, 0.8776659754484841, null, 0.9476346480327754, 0.9256934811496907, null], \"x\": [0.5, 1.0, null, 0.9738173240163878, 0.9639630823912474, null, 0.9738173240163878, 0.9377166459078401, null], \"line\": {\"width\": 2, \"color\": \"rgb(255, 0, 0)\"}, \"mode\": \"lines\", \"hoverinfo\": \"none\"}, {\"y\": [0.0, 0.0, null, 0.0, -0.03474098105827558, null, 0.0, 0.03474098105827558, null], \"x\": [0.5, 1.0, null, 0.9621212121212122, 0.9288794484132434, null, 0.9621212121212122, 0.9288794484132434, null], \"line\": {\"width\": 2, \"color\": \"rgb(0, 0, 0)\"}, \"mode\": \"lines\", \"hoverinfo\": \"none\"}, {\"y\": [0.0, 0.5, null, 0.481676128503406, 0.4992073320037643, null, 0.481676128503406, 0.4319835048195859, null], \"x\": [1.0, 0.0, null, 0.03664774299318793, 0.07340128670201525, null, 0.03664774299318793, 0.06421703965128427, null], \"line\": {\"width\": 2, \"color\": \"rgb(0, 0, 0)\"}, \"mode\": \"lines\", \"hoverinfo\": \"none\"}, {\"y\": [0.0, 1.0, null, 0.927536231884058, 0.8639432926166397, null, 0.927536231884058, 0.8639432926166397, null], \"x\": [1.0, 1.0, null, 1.0, 1.0181600582804622, null, 1.0, 0.9818399417195378, null], \"line\": {\"width\": 2, \"color\": \"rgb(0, 0, 0)\"}, \"mode\": \"lines\", \"hoverinfo\": \"none\"}, {\"y\": [0.5], \"marker\": {\"line\": {\"width\": 2, \"color\": \"rgb(0, 0, 0)\"}, \"color\": \"rgb(255, 255, 255)\", \"size\": 20}, \"hoverinfo\": \"none\", \"textposition\": \"middle center\", \"x\": [0.0], \"mode\": \"markers+text\", \"text\": [\"0\"], \"textfont\": {\"color\": \"rgb(0, 0, 0)\"}}, {\"y\": [1.0], \"marker\": {\"line\": {\"width\": 2, \"color\": \"rgb(0, 0, 0)\"}, \"color\": \"rgb(255, 255, 255)\", \"size\": 20}, \"hoverinfo\": \"none\", \"textposition\": \"middle center\", \"x\": [0.5], \"mode\": \"markers+text\", \"text\": [\"2\"], \"textfont\": {\"color\": \"rgb(0, 0, 0)\"}}, {\"y\": [1.0], \"marker\": {\"line\": {\"width\": 2, \"color\": \"rgb(0, 0, 0)\"}, \"color\": \"rgb(255, 255, 255)\", \"size\": 20}, \"hoverinfo\": \"none\", \"textposition\": \"middle center\", \"x\": [1.0], \"mode\": \"markers+text\", \"text\": [\"4\"], \"textfont\": {\"color\": \"rgb(0, 0, 0)\"}}, {\"y\": [0.0], \"marker\": {\"line\": {\"width\": 2, \"color\": \"rgb(0, 0, 0)\"}, \"color\": \"rgb(255, 255, 255)\", \"size\": 20}, \"hoverinfo\": \"none\", \"textposition\": \"middle center\", \"x\": [0.5], \"mode\": \"markers+text\", \"text\": [\"7\"], \"textfont\": {\"color\": \"rgb(0, 0, 0)\"}}, {\"y\": [0.0], \"marker\": {\"line\": {\"width\": 2, \"color\": \"rgb(0, 0, 0)\"}, \"color\": \"rgb(255, 255, 255)\", \"size\": 20}, \"hoverinfo\": \"none\", \"textposition\": \"middle center\", \"x\": [1.0], \"mode\": \"markers+text\", \"text\": [\"2\"], \"textfont\": {\"color\": \"rgb(0, 0, 0)\"}}]}, {\"name\": 18, \"data\": [{\"y\": [0.5, 1.0, null, 0.966430854395385, 0.906182816233176, null, 0.966430854395385, 0.967759498957256, null], \"x\": [0.0, 0.5, null, 0.46643085439538495, 0.44538388103556675, null, 0.46643085439538495, 0.4285584341548651, null], \"line\": {\"width\": 2, \"color\": \"rgb(0, 0, 0)\"}, \"mode\": \"lines\", \"hoverinfo\": \"none\"}, {\"y\": [0.5, 0.0, null, 0.03356914560461503, 0.032240501042743994, null, 0.03356914560461503, 0.09381718376682407, null], \"x\": [0.0, 0.5, null, 0.46643085439538495, 0.4285584341548651, null, 0.46643085439538495, 0.44538388103556675, null], \"line\": {\"width\": 2, \"color\": \"rgb(0, 0, 0)\"}, \"mode\": \"lines\", \"hoverinfo\": \"none\"}, {\"y\": [1.0144927536231885, 1.0144927536231885, null, 1.0144927536231885, 1.049233734681464, null], \"x\": [0.5, 1.0, null, 0.9621212121212122, 0.9288794484132434, null], \"line\": {\"width\": 2, \"color\": \"rgb(0, 0, 0)\"}, \"mode\": \"lines\", \"hoverinfo\": \"none\"}, {\"y\": [1.0, 0.0, null, 0.07246376811594203, 0.13605670738336034, null, 0.07246376811594203, 0.13605670738336034, null], \"x\": [0.5, 0.5, null, 0.5, 0.48183994171953776, null, 0.5, 0.5181600582804622, null], \"line\": {\"width\": 2, \"color\": \"rgb(0, 0, 0)\"}, \"mode\": \"lines\", \"hoverinfo\": \"none\"}, {\"y\": [1.0, 0.0, null, 0.052365351967224576, 0.07430651885030926, null, 0.052365351967224576, 0.12233402455151593, null], \"x\": [0.5, 1.0, null, 0.9738173240163878, 0.9377166459078401, null, 0.9738173240163878, 0.9639630823912474, null], \"line\": {\"width\": 2, \"color\": \"rgb(0, 0, 0)\"}, \"mode\": \"lines\", \"hoverinfo\": \"none\"}, {\"y\": [0.9855072463768116, 0.9855072463768116, null, 0.9855072463768116, 0.950766265318536, null], \"x\": [1.0, 0.5, null, 0.5378787878787878, 0.5711205515867566, null], \"line\": {\"width\": 2, \"color\": \"rgb(0, 0, 0)\"}, \"mode\": \"lines\", \"hoverinfo\": \"none\"}, {\"y\": [0.0, 1.0, null, 0.9476346480327754, 0.8776659754484841, null, 0.9476346480327754, 0.9256934811496907, null], \"x\": [0.5, 1.0, null, 0.9738173240163878, 0.9639630823912474, null, 0.9738173240163878, 0.9377166459078401, null], \"line\": {\"width\": 2, \"color\": \"rgb(0, 0, 0)\"}, \"mode\": \"lines\", \"hoverinfo\": \"none\"}, {\"y\": [0.0, 0.0, null, 0.0, -0.03474098105827558, null, 0.0, 0.03474098105827558, null], \"x\": [0.5, 1.0, null, 0.9621212121212122, 0.9288794484132434, null, 0.9621212121212122, 0.9288794484132434, null], \"line\": {\"width\": 2, \"color\": \"rgb(255, 0, 0)\"}, \"mode\": \"lines\", \"hoverinfo\": \"none\"}, {\"y\": [0.0, 0.5, null, 0.481676128503406, 0.4992073320037643, null, 0.481676128503406, 0.4319835048195859, null], \"x\": [1.0, 0.0, null, 0.03664774299318793, 0.07340128670201525, null, 0.03664774299318793, 0.06421703965128427, null], \"line\": {\"width\": 2, \"color\": \"rgb(0, 0, 0)\"}, \"mode\": \"lines\", \"hoverinfo\": \"none\"}, {\"y\": [0.0, 1.0, null, 0.927536231884058, 0.8639432926166397, null, 0.927536231884058, 0.8639432926166397, null], \"x\": [1.0, 1.0, null, 1.0, 1.0181600582804622, null, 1.0, 0.9818399417195378, null], \"line\": {\"width\": 2, \"color\": \"rgb(0, 0, 0)\"}, \"mode\": \"lines\", \"hoverinfo\": \"none\"}, {\"y\": [0.5], \"marker\": {\"line\": {\"width\": 2, \"color\": \"rgb(0, 0, 0)\"}, \"color\": \"rgb(255, 255, 255)\", \"size\": 20}, \"hoverinfo\": \"none\", \"textposition\": \"middle center\", \"x\": [0.0], \"mode\": \"markers+text\", \"text\": [\"0\"], \"textfont\": {\"color\": \"rgb(0, 0, 0)\"}}, {\"y\": [1.0], \"marker\": {\"line\": {\"width\": 2, \"color\": \"rgb(0, 0, 0)\"}, \"color\": \"rgb(255, 255, 255)\", \"size\": 20}, \"hoverinfo\": \"none\", \"textposition\": \"middle center\", \"x\": [0.5], \"mode\": \"markers+text\", \"text\": [\"2\"], \"textfont\": {\"color\": \"rgb(0, 0, 0)\"}}, {\"y\": [1.0], \"marker\": {\"line\": {\"width\": 2, \"color\": \"rgb(0, 0, 0)\"}, \"color\": \"rgb(255, 255, 255)\", \"size\": 20}, \"hoverinfo\": \"none\", \"textposition\": \"middle center\", \"x\": [1.0], \"mode\": \"markers+text\", \"text\": [\"4\"], \"textfont\": {\"color\": \"rgb(0, 0, 0)\"}}, {\"y\": [0.0], \"marker\": {\"line\": {\"width\": 2, \"color\": \"rgb(0, 0, 0)\"}, \"color\": \"rgb(255, 255, 255)\", \"size\": 20}, \"hoverinfo\": \"none\", \"textposition\": \"middle center\", \"x\": [0.5], \"mode\": \"markers+text\", \"text\": [\"7\"], \"textfont\": {\"color\": \"rgb(0, 0, 0)\"}}, {\"y\": [0.0], \"marker\": {\"line\": {\"width\": 2, \"color\": \"rgb(0, 0, 0)\"}, \"color\": \"rgb(255, 255, 255)\", \"size\": 20}, \"hoverinfo\": \"none\", \"textposition\": \"middle center\", \"x\": [1.0], \"mode\": \"markers+text\", \"text\": [\"2\"], \"textfont\": {\"color\": \"rgb(0, 0, 0)\"}}]}, {\"name\": 19, \"data\": [{\"y\": [0.5, 1.0, null, 0.966430854395385, 0.906182816233176, null, 0.966430854395385, 0.967759498957256, null], \"x\": [0.0, 0.5, null, 0.46643085439538495, 0.44538388103556675, null, 0.46643085439538495, 0.4285584341548651, null], \"line\": {\"width\": 2, \"color\": \"rgb(0, 0, 0)\"}, \"mode\": \"lines\", \"hoverinfo\": \"none\"}, {\"y\": [0.5, 0.0, null, 0.03356914560461503, 0.032240501042743994, null, 0.03356914560461503, 0.09381718376682407, null], \"x\": [0.0, 0.5, null, 0.46643085439538495, 0.4285584341548651, null, 0.46643085439538495, 0.44538388103556675, null], \"line\": {\"width\": 2, \"color\": \"rgb(0, 0, 0)\"}, \"mode\": \"lines\", \"hoverinfo\": \"none\"}, {\"y\": [1.0144927536231885, 1.0144927536231885, null, 1.0144927536231885, 1.049233734681464, null], \"x\": [0.5, 1.0, null, 0.9621212121212122, 0.9288794484132434, null], \"line\": {\"width\": 2, \"color\": \"rgb(0, 0, 0)\"}, \"mode\": \"lines\", \"hoverinfo\": \"none\"}, {\"y\": [1.0, 0.0, null, 0.07246376811594203, 0.13605670738336034, null, 0.07246376811594203, 0.13605670738336034, null], \"x\": [0.5, 0.5, null, 0.5, 0.48183994171953776, null, 0.5, 0.5181600582804622, null], \"line\": {\"width\": 2, \"color\": \"rgb(0, 0, 0)\"}, \"mode\": \"lines\", \"hoverinfo\": \"none\"}, {\"y\": [1.0, 0.0, null, 0.052365351967224576, 0.07430651885030926, null, 0.052365351967224576, 0.12233402455151593, null], \"x\": [0.5, 1.0, null, 0.9738173240163878, 0.9377166459078401, null, 0.9738173240163878, 0.9639630823912474, null], \"line\": {\"width\": 2, \"color\": \"rgb(0, 0, 0)\"}, \"mode\": \"lines\", \"hoverinfo\": \"none\"}, {\"y\": [0.9855072463768116, 0.9855072463768116, null, 0.9855072463768116, 0.950766265318536, null], \"x\": [1.0, 0.5, null, 0.5378787878787878, 0.5711205515867566, null], \"line\": {\"width\": 2, \"color\": \"rgb(0, 0, 0)\"}, \"mode\": \"lines\", \"hoverinfo\": \"none\"}, {\"y\": [0.0, 1.0, null, 0.9476346480327754, 0.8776659754484841, null, 0.9476346480327754, 0.9256934811496907, null], \"x\": [0.5, 1.0, null, 0.9738173240163878, 0.9639630823912474, null, 0.9738173240163878, 0.9377166459078401, null], \"line\": {\"width\": 2, \"color\": \"rgb(0, 0, 0)\"}, \"mode\": \"lines\", \"hoverinfo\": \"none\"}, {\"y\": [0.0, 0.0, null, 0.0, -0.03474098105827558, null, 0.0, 0.03474098105827558, null], \"x\": [0.5, 1.0, null, 0.9621212121212122, 0.9288794484132434, null, 0.9621212121212122, 0.9288794484132434, null], \"line\": {\"width\": 2, \"color\": \"rgb(0, 0, 0)\"}, \"mode\": \"lines\", \"hoverinfo\": \"none\"}, {\"y\": [0.0, 0.5, null, 0.481676128503406, 0.4992073320037643, null, 0.481676128503406, 0.4319835048195859, null], \"x\": [1.0, 0.0, null, 0.03664774299318793, 0.07340128670201525, null, 0.03664774299318793, 0.06421703965128427, null], \"line\": {\"width\": 2, \"color\": \"rgb(255, 0, 0)\"}, \"mode\": \"lines\", \"hoverinfo\": \"none\"}, {\"y\": [0.0, 1.0, null, 0.927536231884058, 0.8639432926166397, null, 0.927536231884058, 0.8639432926166397, null], \"x\": [1.0, 1.0, null, 1.0, 1.0181600582804622, null, 1.0, 0.9818399417195378, null], \"line\": {\"width\": 2, \"color\": \"rgb(0, 0, 0)\"}, \"mode\": \"lines\", \"hoverinfo\": \"none\"}, {\"y\": [0.5], \"marker\": {\"line\": {\"width\": 2, \"color\": \"rgb(0, 0, 0)\"}, \"color\": \"rgb(255, 255, 255)\", \"size\": 20}, \"hoverinfo\": \"none\", \"textposition\": \"middle center\", \"x\": [0.0], \"mode\": \"markers+text\", \"text\": [\"0\"], \"textfont\": {\"color\": \"rgb(0, 0, 0)\"}}, {\"y\": [1.0], \"marker\": {\"line\": {\"width\": 2, \"color\": \"rgb(0, 0, 0)\"}, \"color\": \"rgb(255, 255, 255)\", \"size\": 20}, \"hoverinfo\": \"none\", \"textposition\": \"middle center\", \"x\": [0.5], \"mode\": \"markers+text\", \"text\": [\"2\"], \"textfont\": {\"color\": \"rgb(0, 0, 0)\"}}, {\"y\": [1.0], \"marker\": {\"line\": {\"width\": 2, \"color\": \"rgb(0, 0, 0)\"}, \"color\": \"rgb(255, 255, 255)\", \"size\": 20}, \"hoverinfo\": \"none\", \"textposition\": \"middle center\", \"x\": [1.0], \"mode\": \"markers+text\", \"text\": [\"4\"], \"textfont\": {\"color\": \"rgb(0, 0, 0)\"}}, {\"y\": [0.0], \"marker\": {\"line\": {\"width\": 2, \"color\": \"rgb(0, 0, 0)\"}, \"color\": \"rgb(255, 255, 255)\", \"size\": 20}, \"hoverinfo\": \"none\", \"textposition\": \"middle center\", \"x\": [0.5], \"mode\": \"markers+text\", \"text\": [\"7\"], \"textfont\": {\"color\": \"rgb(0, 0, 0)\"}}, {\"y\": [0.0], \"marker\": {\"line\": {\"width\": 2, \"color\": \"rgb(0, 0, 0)\"}, \"color\": \"rgb(255, 255, 255)\", \"size\": 20}, \"hoverinfo\": \"none\", \"textposition\": \"middle center\", \"x\": [1.0], \"mode\": \"markers+text\", \"text\": [\"2\"], \"textfont\": {\"color\": \"rgb(0, 0, 0)\"}}]}, {\"name\": 20, \"data\": [{\"y\": [0.5, 1.0, null, 0.966430854395385, 0.906182816233176, null, 0.966430854395385, 0.967759498957256, null], \"x\": [0.0, 0.5, null, 0.46643085439538495, 0.44538388103556675, null, 0.46643085439538495, 0.4285584341548651, null], \"line\": {\"width\": 2, \"color\": \"rgb(0, 0, 0)\"}, \"mode\": \"lines\", \"hoverinfo\": \"none\"}, {\"y\": [0.5, 0.0, null, 0.03356914560461503, 0.032240501042743994, null, 0.03356914560461503, 0.09381718376682407, null], \"x\": [0.0, 0.5, null, 0.46643085439538495, 0.4285584341548651, null, 0.46643085439538495, 0.44538388103556675, null], \"line\": {\"width\": 2, \"color\": \"rgb(0, 0, 0)\"}, \"mode\": \"lines\", \"hoverinfo\": \"none\"}, {\"y\": [1.0144927536231885, 1.0144927536231885, null, 1.0144927536231885, 1.049233734681464, null], \"x\": [0.5, 1.0, null, 0.9621212121212122, 0.9288794484132434, null], \"line\": {\"width\": 2, \"color\": \"rgb(0, 0, 0)\"}, \"mode\": \"lines\", \"hoverinfo\": \"none\"}, {\"y\": [1.0, 0.0, null, 0.07246376811594203, 0.13605670738336034, null, 0.07246376811594203, 0.13605670738336034, null], \"x\": [0.5, 0.5, null, 0.5, 0.48183994171953776, null, 0.5, 0.5181600582804622, null], \"line\": {\"width\": 2, \"color\": \"rgb(0, 0, 0)\"}, \"mode\": \"lines\", \"hoverinfo\": \"none\"}, {\"y\": [1.0, 0.0, null, 0.052365351967224576, 0.07430651885030926, null, 0.052365351967224576, 0.12233402455151593, null], \"x\": [0.5, 1.0, null, 0.9738173240163878, 0.9377166459078401, null, 0.9738173240163878, 0.9639630823912474, null], \"line\": {\"width\": 2, \"color\": \"rgb(0, 0, 0)\"}, \"mode\": \"lines\", \"hoverinfo\": \"none\"}, {\"y\": [0.9855072463768116, 0.9855072463768116, null, 0.9855072463768116, 0.950766265318536, null], \"x\": [1.0, 0.5, null, 0.5378787878787878, 0.5711205515867566, null], \"line\": {\"width\": 2, \"color\": \"rgb(0, 0, 0)\"}, \"mode\": \"lines\", \"hoverinfo\": \"none\"}, {\"y\": [0.0, 1.0, null, 0.9476346480327754, 0.8776659754484841, null, 0.9476346480327754, 0.9256934811496907, null], \"x\": [0.5, 1.0, null, 0.9738173240163878, 0.9639630823912474, null, 0.9738173240163878, 0.9377166459078401, null], \"line\": {\"width\": 2, \"color\": \"rgb(0, 0, 0)\"}, \"mode\": \"lines\", \"hoverinfo\": \"none\"}, {\"y\": [0.0, 0.0, null, 0.0, -0.03474098105827558, null, 0.0, 0.03474098105827558, null], \"x\": [0.5, 1.0, null, 0.9621212121212122, 0.9288794484132434, null, 0.9621212121212122, 0.9288794484132434, null], \"line\": {\"width\": 2, \"color\": \"rgb(0, 0, 0)\"}, \"mode\": \"lines\", \"hoverinfo\": \"none\"}, {\"y\": [0.0, 0.5, null, 0.481676128503406, 0.4992073320037643, null, 0.481676128503406, 0.4319835048195859, null], \"x\": [1.0, 0.0, null, 0.03664774299318793, 0.07340128670201525, null, 0.03664774299318793, 0.06421703965128427, null], \"line\": {\"width\": 2, \"color\": \"rgb(0, 0, 0)\"}, \"mode\": \"lines\", \"hoverinfo\": \"none\"}, {\"y\": [0.0, 1.0, null, 0.927536231884058, 0.8639432926166397, null, 0.927536231884058, 0.8639432926166397, null], \"x\": [1.0, 1.0, null, 1.0, 1.0181600582804622, null, 1.0, 0.9818399417195378, null], \"line\": {\"width\": 2, \"color\": \"rgb(255, 0, 0)\"}, \"mode\": \"lines\", \"hoverinfo\": \"none\"}, {\"y\": [0.5], \"marker\": {\"line\": {\"width\": 2, \"color\": \"rgb(0, 0, 0)\"}, \"color\": \"rgb(255, 255, 255)\", \"size\": 20}, \"hoverinfo\": \"none\", \"textposition\": \"middle center\", \"x\": [0.0], \"mode\": \"markers+text\", \"text\": [\"0\"], \"textfont\": {\"color\": \"rgb(0, 0, 0)\"}}, {\"y\": [1.0], \"marker\": {\"line\": {\"width\": 2, \"color\": \"rgb(0, 0, 0)\"}, \"color\": \"rgb(255, 255, 255)\", \"size\": 20}, \"hoverinfo\": \"none\", \"textposition\": \"middle center\", \"x\": [0.5], \"mode\": \"markers+text\", \"text\": [\"2\"], \"textfont\": {\"color\": \"rgb(0, 0, 0)\"}}, {\"y\": [1.0], \"marker\": {\"line\": {\"width\": 2, \"color\": \"rgb(0, 0, 0)\"}, \"color\": \"rgb(255, 255, 255)\", \"size\": 20}, \"hoverinfo\": \"none\", \"textposition\": \"middle center\", \"x\": [1.0], \"mode\": \"markers+text\", \"text\": [\"4\"], \"textfont\": {\"color\": \"rgb(0, 0, 0)\"}}, {\"y\": [0.0], \"marker\": {\"line\": {\"width\": 2, \"color\": \"rgb(0, 0, 0)\"}, \"color\": \"rgb(255, 255, 255)\", \"size\": 20}, \"hoverinfo\": \"none\", \"textposition\": \"middle center\", \"x\": [0.5], \"mode\": \"markers+text\", \"text\": [\"7\"], \"textfont\": {\"color\": \"rgb(0, 0, 0)\"}}, {\"y\": [0.0], \"marker\": {\"line\": {\"width\": 2, \"color\": \"rgb(0, 0, 0)\"}, \"color\": \"rgb(255, 255, 255)\", \"size\": 20}, \"hoverinfo\": \"none\", \"textposition\": \"middle center\", \"x\": [1.0], \"mode\": \"markers+text\", \"text\": [\"2\"], \"textfont\": {\"color\": \"rgb(0, 0, 0)\"}}]}, {\"name\": 21, \"data\": [{\"y\": [0.5, 1.0, null, 0.966430854395385, 0.906182816233176, null, 0.966430854395385, 0.967759498957256, null], \"x\": [0.0, 0.5, null, 0.46643085439538495, 0.44538388103556675, null, 0.46643085439538495, 0.4285584341548651, null], \"line\": {\"width\": 2, \"color\": \"rgb(255, 0, 0)\"}, \"mode\": \"lines\", \"hoverinfo\": \"none\"}, {\"y\": [0.5, 0.0, null, 0.03356914560461503, 0.032240501042743994, null, 0.03356914560461503, 0.09381718376682407, null], \"x\": [0.0, 0.5, null, 0.46643085439538495, 0.4285584341548651, null, 0.46643085439538495, 0.44538388103556675, null], \"line\": {\"width\": 2, \"color\": \"rgb(0, 0, 0)\"}, \"mode\": \"lines\", \"hoverinfo\": \"none\"}, {\"y\": [1.0144927536231885, 1.0144927536231885, null, 1.0144927536231885, 1.049233734681464, null], \"x\": [0.5, 1.0, null, 0.9621212121212122, 0.9288794484132434, null], \"line\": {\"width\": 2, \"color\": \"rgb(0, 0, 0)\"}, \"mode\": \"lines\", \"hoverinfo\": \"none\"}, {\"y\": [1.0, 0.0, null, 0.07246376811594203, 0.13605670738336034, null, 0.07246376811594203, 0.13605670738336034, null], \"x\": [0.5, 0.5, null, 0.5, 0.48183994171953776, null, 0.5, 0.5181600582804622, null], \"line\": {\"width\": 2, \"color\": \"rgb(0, 0, 0)\"}, \"mode\": \"lines\", \"hoverinfo\": \"none\"}, {\"y\": [1.0, 0.0, null, 0.052365351967224576, 0.07430651885030926, null, 0.052365351967224576, 0.12233402455151593, null], \"x\": [0.5, 1.0, null, 0.9738173240163878, 0.9377166459078401, null, 0.9738173240163878, 0.9639630823912474, null], \"line\": {\"width\": 2, \"color\": \"rgb(0, 0, 0)\"}, \"mode\": \"lines\", \"hoverinfo\": \"none\"}, {\"y\": [0.9855072463768116, 0.9855072463768116, null, 0.9855072463768116, 0.950766265318536, null], \"x\": [1.0, 0.5, null, 0.5378787878787878, 0.5711205515867566, null], \"line\": {\"width\": 2, \"color\": \"rgb(0, 0, 0)\"}, \"mode\": \"lines\", \"hoverinfo\": \"none\"}, {\"y\": [0.0, 1.0, null, 0.9476346480327754, 0.8776659754484841, null, 0.9476346480327754, 0.9256934811496907, null], \"x\": [0.5, 1.0, null, 0.9738173240163878, 0.9639630823912474, null, 0.9738173240163878, 0.9377166459078401, null], \"line\": {\"width\": 2, \"color\": \"rgb(0, 0, 0)\"}, \"mode\": \"lines\", \"hoverinfo\": \"none\"}, {\"y\": [0.0, 0.0, null, 0.0, -0.03474098105827558, null, 0.0, 0.03474098105827558, null], \"x\": [0.5, 1.0, null, 0.9621212121212122, 0.9288794484132434, null, 0.9621212121212122, 0.9288794484132434, null], \"line\": {\"width\": 2, \"color\": \"rgb(0, 0, 0)\"}, \"mode\": \"lines\", \"hoverinfo\": \"none\"}, {\"y\": [0.0, 0.5, null, 0.481676128503406, 0.4992073320037643, null, 0.481676128503406, 0.4319835048195859, null], \"x\": [1.0, 0.0, null, 0.03664774299318793, 0.07340128670201525, null, 0.03664774299318793, 0.06421703965128427, null], \"line\": {\"width\": 2, \"color\": \"rgb(0, 0, 0)\"}, \"mode\": \"lines\", \"hoverinfo\": \"none\"}, {\"y\": [0.0, 1.0, null, 0.927536231884058, 0.8639432926166397, null, 0.927536231884058, 0.8639432926166397, null], \"x\": [1.0, 1.0, null, 1.0, 1.0181600582804622, null, 1.0, 0.9818399417195378, null], \"line\": {\"width\": 2, \"color\": \"rgb(0, 0, 0)\"}, \"mode\": \"lines\", \"hoverinfo\": \"none\"}, {\"y\": [0.5], \"marker\": {\"line\": {\"width\": 2, \"color\": \"rgb(0, 0, 0)\"}, \"color\": \"rgb(255, 255, 255)\", \"size\": 20}, \"hoverinfo\": \"none\", \"textposition\": \"middle center\", \"x\": [0.0], \"mode\": \"markers+text\", \"text\": [\"0\"], \"textfont\": {\"color\": \"rgb(0, 0, 0)\"}}, {\"y\": [1.0], \"marker\": {\"line\": {\"width\": 2, \"color\": \"rgb(0, 0, 0)\"}, \"color\": \"rgb(255, 255, 255)\", \"size\": 20}, \"hoverinfo\": \"none\", \"textposition\": \"middle center\", \"x\": [0.5], \"mode\": \"markers+text\", \"text\": [\"2\"], \"textfont\": {\"color\": \"rgb(0, 0, 0)\"}}, {\"y\": [1.0], \"marker\": {\"line\": {\"width\": 2, \"color\": \"rgb(0, 0, 0)\"}, \"color\": \"rgb(255, 255, 255)\", \"size\": 20}, \"hoverinfo\": \"none\", \"textposition\": \"middle center\", \"x\": [1.0], \"mode\": \"markers+text\", \"text\": [\"4\"], \"textfont\": {\"color\": \"rgb(0, 0, 0)\"}}, {\"y\": [0.0], \"marker\": {\"line\": {\"width\": 2, \"color\": \"rgb(0, 0, 0)\"}, \"color\": \"rgb(255, 255, 255)\", \"size\": 20}, \"hoverinfo\": \"none\", \"textposition\": \"middle center\", \"x\": [0.5], \"mode\": \"markers+text\", \"text\": [\"7\"], \"textfont\": {\"color\": \"rgb(0, 0, 0)\"}}, {\"y\": [0.0], \"marker\": {\"line\": {\"width\": 2, \"color\": \"rgb(0, 0, 0)\"}, \"color\": \"rgb(255, 255, 255)\", \"size\": 20}, \"hoverinfo\": \"none\", \"textposition\": \"middle center\", \"x\": [1.0], \"mode\": \"markers+text\", \"text\": [\"2\"], \"textfont\": {\"color\": \"rgb(0, 0, 0)\"}}]}, {\"name\": 22, \"data\": [{\"y\": [0.5, 1.0, null, 0.966430854395385, 0.906182816233176, null, 0.966430854395385, 0.967759498957256, null], \"x\": [0.0, 0.5, null, 0.46643085439538495, 0.44538388103556675, null, 0.46643085439538495, 0.4285584341548651, null], \"line\": {\"width\": 2, \"color\": \"rgb(0, 0, 0)\"}, \"mode\": \"lines\", \"hoverinfo\": \"none\"}, {\"y\": [0.5, 0.0, null, 0.03356914560461503, 0.032240501042743994, null, 0.03356914560461503, 0.09381718376682407, null], \"x\": [0.0, 0.5, null, 0.46643085439538495, 0.4285584341548651, null, 0.46643085439538495, 0.44538388103556675, null], \"line\": {\"width\": 2, \"color\": \"rgb(255, 0, 0)\"}, \"mode\": \"lines\", \"hoverinfo\": \"none\"}, {\"y\": [1.0144927536231885, 1.0144927536231885, null, 1.0144927536231885, 1.049233734681464, null], \"x\": [0.5, 1.0, null, 0.9621212121212122, 0.9288794484132434, null], \"line\": {\"width\": 2, \"color\": \"rgb(0, 0, 0)\"}, \"mode\": \"lines\", \"hoverinfo\": \"none\"}, {\"y\": [1.0, 0.0, null, 0.07246376811594203, 0.13605670738336034, null, 0.07246376811594203, 0.13605670738336034, null], \"x\": [0.5, 0.5, null, 0.5, 0.48183994171953776, null, 0.5, 0.5181600582804622, null], \"line\": {\"width\": 2, \"color\": \"rgb(0, 0, 0)\"}, \"mode\": \"lines\", \"hoverinfo\": \"none\"}, {\"y\": [1.0, 0.0, null, 0.052365351967224576, 0.07430651885030926, null, 0.052365351967224576, 0.12233402455151593, null], \"x\": [0.5, 1.0, null, 0.9738173240163878, 0.9377166459078401, null, 0.9738173240163878, 0.9639630823912474, null], \"line\": {\"width\": 2, \"color\": \"rgb(0, 0, 0)\"}, \"mode\": \"lines\", \"hoverinfo\": \"none\"}, {\"y\": [0.9855072463768116, 0.9855072463768116, null, 0.9855072463768116, 0.950766265318536, null], \"x\": [1.0, 0.5, null, 0.5378787878787878, 0.5711205515867566, null], \"line\": {\"width\": 2, \"color\": \"rgb(0, 0, 0)\"}, \"mode\": \"lines\", \"hoverinfo\": \"none\"}, {\"y\": [0.0, 1.0, null, 0.9476346480327754, 0.8776659754484841, null, 0.9476346480327754, 0.9256934811496907, null], \"x\": [0.5, 1.0, null, 0.9738173240163878, 0.9639630823912474, null, 0.9738173240163878, 0.9377166459078401, null], \"line\": {\"width\": 2, \"color\": \"rgb(0, 0, 0)\"}, \"mode\": \"lines\", \"hoverinfo\": \"none\"}, {\"y\": [0.0, 0.0, null, 0.0, -0.03474098105827558, null, 0.0, 0.03474098105827558, null], \"x\": [0.5, 1.0, null, 0.9621212121212122, 0.9288794484132434, null, 0.9621212121212122, 0.9288794484132434, null], \"line\": {\"width\": 2, \"color\": \"rgb(0, 0, 0)\"}, \"mode\": \"lines\", \"hoverinfo\": \"none\"}, {\"y\": [0.0, 0.5, null, 0.481676128503406, 0.4992073320037643, null, 0.481676128503406, 0.4319835048195859, null], \"x\": [1.0, 0.0, null, 0.03664774299318793, 0.07340128670201525, null, 0.03664774299318793, 0.06421703965128427, null], \"line\": {\"width\": 2, \"color\": \"rgb(0, 0, 0)\"}, \"mode\": \"lines\", \"hoverinfo\": \"none\"}, {\"y\": [0.0, 1.0, null, 0.927536231884058, 0.8639432926166397, null, 0.927536231884058, 0.8639432926166397, null], \"x\": [1.0, 1.0, null, 1.0, 1.0181600582804622, null, 1.0, 0.9818399417195378, null], \"line\": {\"width\": 2, \"color\": \"rgb(0, 0, 0)\"}, \"mode\": \"lines\", \"hoverinfo\": \"none\"}, {\"y\": [0.5], \"marker\": {\"line\": {\"width\": 2, \"color\": \"rgb(0, 0, 0)\"}, \"color\": \"rgb(255, 255, 255)\", \"size\": 20}, \"hoverinfo\": \"none\", \"textposition\": \"middle center\", \"x\": [0.0], \"mode\": \"markers+text\", \"text\": [\"0\"], \"textfont\": {\"color\": \"rgb(0, 0, 0)\"}}, {\"y\": [1.0], \"marker\": {\"line\": {\"width\": 2, \"color\": \"rgb(0, 0, 0)\"}, \"color\": \"rgb(255, 255, 255)\", \"size\": 20}, \"hoverinfo\": \"none\", \"textposition\": \"middle center\", \"x\": [0.5], \"mode\": \"markers+text\", \"text\": [\"2\"], \"textfont\": {\"color\": \"rgb(0, 0, 0)\"}}, {\"y\": [1.0], \"marker\": {\"line\": {\"width\": 2, \"color\": \"rgb(0, 0, 0)\"}, \"color\": \"rgb(255, 255, 255)\", \"size\": 20}, \"hoverinfo\": \"none\", \"textposition\": \"middle center\", \"x\": [1.0], \"mode\": \"markers+text\", \"text\": [\"4\"], \"textfont\": {\"color\": \"rgb(0, 0, 0)\"}}, {\"y\": [0.0], \"marker\": {\"line\": {\"width\": 2, \"color\": \"rgb(0, 0, 0)\"}, \"color\": \"rgb(255, 255, 255)\", \"size\": 20}, \"hoverinfo\": \"none\", \"textposition\": \"middle center\", \"x\": [0.5], \"mode\": \"markers+text\", \"text\": [\"7\"], \"textfont\": {\"color\": \"rgb(0, 0, 0)\"}}, {\"y\": [0.0], \"marker\": {\"line\": {\"width\": 2, \"color\": \"rgb(0, 0, 0)\"}, \"color\": \"rgb(255, 255, 255)\", \"size\": 20}, \"hoverinfo\": \"none\", \"textposition\": \"middle center\", \"x\": [1.0], \"mode\": \"markers+text\", \"text\": [\"2\"], \"textfont\": {\"color\": \"rgb(0, 0, 0)\"}}]}, {\"name\": 23, \"data\": [{\"y\": [0.5, 1.0, null, 0.966430854395385, 0.906182816233176, null, 0.966430854395385, 0.967759498957256, null], \"x\": [0.0, 0.5, null, 0.46643085439538495, 0.44538388103556675, null, 0.46643085439538495, 0.4285584341548651, null], \"line\": {\"width\": 2, \"color\": \"rgb(0, 0, 0)\"}, \"mode\": \"lines\", \"hoverinfo\": \"none\"}, {\"y\": [0.5, 0.0, null, 0.03356914560461503, 0.032240501042743994, null, 0.03356914560461503, 0.09381718376682407, null], \"x\": [0.0, 0.5, null, 0.46643085439538495, 0.4285584341548651, null, 0.46643085439538495, 0.44538388103556675, null], \"line\": {\"width\": 2, \"color\": \"rgb(0, 0, 0)\"}, \"mode\": \"lines\", \"hoverinfo\": \"none\"}, {\"y\": [1.0144927536231885, 1.0144927536231885, null, 1.0144927536231885, 1.049233734681464, null], \"x\": [0.5, 1.0, null, 0.9621212121212122, 0.9288794484132434, null], \"line\": {\"width\": 2, \"color\": \"rgb(255, 0, 0)\"}, \"mode\": \"lines\", \"hoverinfo\": \"none\"}, {\"y\": [1.0, 0.0, null, 0.07246376811594203, 0.13605670738336034, null, 0.07246376811594203, 0.13605670738336034, null], \"x\": [0.5, 0.5, null, 0.5, 0.48183994171953776, null, 0.5, 0.5181600582804622, null], \"line\": {\"width\": 2, \"color\": \"rgb(0, 0, 0)\"}, \"mode\": \"lines\", \"hoverinfo\": \"none\"}, {\"y\": [1.0, 0.0, null, 0.052365351967224576, 0.07430651885030926, null, 0.052365351967224576, 0.12233402455151593, null], \"x\": [0.5, 1.0, null, 0.9738173240163878, 0.9377166459078401, null, 0.9738173240163878, 0.9639630823912474, null], \"line\": {\"width\": 2, \"color\": \"rgb(0, 0, 0)\"}, \"mode\": \"lines\", \"hoverinfo\": \"none\"}, {\"y\": [0.9855072463768116, 0.9855072463768116, null, 0.9855072463768116, 0.950766265318536, null], \"x\": [1.0, 0.5, null, 0.5378787878787878, 0.5711205515867566, null], \"line\": {\"width\": 2, \"color\": \"rgb(0, 0, 0)\"}, \"mode\": \"lines\", \"hoverinfo\": \"none\"}, {\"y\": [0.0, 1.0, null, 0.9476346480327754, 0.8776659754484841, null, 0.9476346480327754, 0.9256934811496907, null], \"x\": [0.5, 1.0, null, 0.9738173240163878, 0.9639630823912474, null, 0.9738173240163878, 0.9377166459078401, null], \"line\": {\"width\": 2, \"color\": \"rgb(0, 0, 0)\"}, \"mode\": \"lines\", \"hoverinfo\": \"none\"}, {\"y\": [0.0, 0.0, null, 0.0, -0.03474098105827558, null, 0.0, 0.03474098105827558, null], \"x\": [0.5, 1.0, null, 0.9621212121212122, 0.9288794484132434, null, 0.9621212121212122, 0.9288794484132434, null], \"line\": {\"width\": 2, \"color\": \"rgb(0, 0, 0)\"}, \"mode\": \"lines\", \"hoverinfo\": \"none\"}, {\"y\": [0.0, 0.5, null, 0.481676128503406, 0.4992073320037643, null, 0.481676128503406, 0.4319835048195859, null], \"x\": [1.0, 0.0, null, 0.03664774299318793, 0.07340128670201525, null, 0.03664774299318793, 0.06421703965128427, null], \"line\": {\"width\": 2, \"color\": \"rgb(0, 0, 0)\"}, \"mode\": \"lines\", \"hoverinfo\": \"none\"}, {\"y\": [0.0, 1.0, null, 0.927536231884058, 0.8639432926166397, null, 0.927536231884058, 0.8639432926166397, null], \"x\": [1.0, 1.0, null, 1.0, 1.0181600582804622, null, 1.0, 0.9818399417195378, null], \"line\": {\"width\": 2, \"color\": \"rgb(0, 0, 0)\"}, \"mode\": \"lines\", \"hoverinfo\": \"none\"}, {\"y\": [0.5], \"marker\": {\"line\": {\"width\": 2, \"color\": \"rgb(0, 0, 0)\"}, \"color\": \"rgb(255, 255, 255)\", \"size\": 20}, \"hoverinfo\": \"none\", \"textposition\": \"middle center\", \"x\": [0.0], \"mode\": \"markers+text\", \"text\": [\"0\"], \"textfont\": {\"color\": \"rgb(0, 0, 0)\"}}, {\"y\": [1.0], \"marker\": {\"line\": {\"width\": 2, \"color\": \"rgb(0, 0, 0)\"}, \"color\": \"rgb(255, 255, 255)\", \"size\": 20}, \"hoverinfo\": \"none\", \"textposition\": \"middle center\", \"x\": [0.5], \"mode\": \"markers+text\", \"text\": [\"2\"], \"textfont\": {\"color\": \"rgb(0, 0, 0)\"}}, {\"y\": [1.0], \"marker\": {\"line\": {\"width\": 2, \"color\": \"rgb(0, 0, 0)\"}, \"color\": \"rgb(255, 255, 255)\", \"size\": 20}, \"hoverinfo\": \"none\", \"textposition\": \"middle center\", \"x\": [1.0], \"mode\": \"markers+text\", \"text\": [\"4\"], \"textfont\": {\"color\": \"rgb(0, 0, 0)\"}}, {\"y\": [0.0], \"marker\": {\"line\": {\"width\": 2, \"color\": \"rgb(0, 0, 0)\"}, \"color\": \"rgb(255, 255, 255)\", \"size\": 20}, \"hoverinfo\": \"none\", \"textposition\": \"middle center\", \"x\": [0.5], \"mode\": \"markers+text\", \"text\": [\"7\"], \"textfont\": {\"color\": \"rgb(0, 0, 0)\"}}, {\"y\": [0.0], \"marker\": {\"line\": {\"width\": 2, \"color\": \"rgb(0, 0, 0)\"}, \"color\": \"rgb(255, 255, 255)\", \"size\": 20}, \"hoverinfo\": \"none\", \"textposition\": \"middle center\", \"x\": [1.0], \"mode\": \"markers+text\", \"text\": [\"2\"], \"textfont\": {\"color\": \"rgb(0, 0, 0)\"}}]}, {\"name\": 24, \"data\": [{\"y\": [0.5, 1.0, null, 0.966430854395385, 0.906182816233176, null, 0.966430854395385, 0.967759498957256, null], \"x\": [0.0, 0.5, null, 0.46643085439538495, 0.44538388103556675, null, 0.46643085439538495, 0.4285584341548651, null], \"line\": {\"width\": 2, \"color\": \"rgb(0, 0, 0)\"}, \"mode\": \"lines\", \"hoverinfo\": \"none\"}, {\"y\": [0.5, 0.0, null, 0.03356914560461503, 0.032240501042743994, null, 0.03356914560461503, 0.09381718376682407, null], \"x\": [0.0, 0.5, null, 0.46643085439538495, 0.4285584341548651, null, 0.46643085439538495, 0.44538388103556675, null], \"line\": {\"width\": 2, \"color\": \"rgb(0, 0, 0)\"}, \"mode\": \"lines\", \"hoverinfo\": \"none\"}, {\"y\": [1.0144927536231885, 1.0144927536231885, null, 1.0144927536231885, 1.049233734681464, null], \"x\": [0.5, 1.0, null, 0.9621212121212122, 0.9288794484132434, null], \"line\": {\"width\": 2, \"color\": \"rgb(0, 0, 0)\"}, \"mode\": \"lines\", \"hoverinfo\": \"none\"}, {\"y\": [1.0, 0.0, null, 0.07246376811594203, 0.13605670738336034, null, 0.07246376811594203, 0.13605670738336034, null], \"x\": [0.5, 0.5, null, 0.5, 0.48183994171953776, null, 0.5, 0.5181600582804622, null], \"line\": {\"width\": 2, \"color\": \"rgb(255, 0, 0)\"}, \"mode\": \"lines\", \"hoverinfo\": \"none\"}, {\"y\": [1.0, 0.0, null, 0.052365351967224576, 0.07430651885030926, null, 0.052365351967224576, 0.12233402455151593, null], \"x\": [0.5, 1.0, null, 0.9738173240163878, 0.9377166459078401, null, 0.9738173240163878, 0.9639630823912474, null], \"line\": {\"width\": 2, \"color\": \"rgb(0, 0, 0)\"}, \"mode\": \"lines\", \"hoverinfo\": \"none\"}, {\"y\": [0.9855072463768116, 0.9855072463768116, null, 0.9855072463768116, 0.950766265318536, null], \"x\": [1.0, 0.5, null, 0.5378787878787878, 0.5711205515867566, null], \"line\": {\"width\": 2, \"color\": \"rgb(0, 0, 0)\"}, \"mode\": \"lines\", \"hoverinfo\": \"none\"}, {\"y\": [0.0, 1.0, null, 0.9476346480327754, 0.8776659754484841, null, 0.9476346480327754, 0.9256934811496907, null], \"x\": [0.5, 1.0, null, 0.9738173240163878, 0.9639630823912474, null, 0.9738173240163878, 0.9377166459078401, null], \"line\": {\"width\": 2, \"color\": \"rgb(0, 0, 0)\"}, \"mode\": \"lines\", \"hoverinfo\": \"none\"}, {\"y\": [0.0, 0.0, null, 0.0, -0.03474098105827558, null, 0.0, 0.03474098105827558, null], \"x\": [0.5, 1.0, null, 0.9621212121212122, 0.9288794484132434, null, 0.9621212121212122, 0.9288794484132434, null], \"line\": {\"width\": 2, \"color\": \"rgb(0, 0, 0)\"}, \"mode\": \"lines\", \"hoverinfo\": \"none\"}, {\"y\": [0.0, 0.5, null, 0.481676128503406, 0.4992073320037643, null, 0.481676128503406, 0.4319835048195859, null], \"x\": [1.0, 0.0, null, 0.03664774299318793, 0.07340128670201525, null, 0.03664774299318793, 0.06421703965128427, null], \"line\": {\"width\": 2, \"color\": \"rgb(0, 0, 0)\"}, \"mode\": \"lines\", \"hoverinfo\": \"none\"}, {\"y\": [0.0, 1.0, null, 0.927536231884058, 0.8639432926166397, null, 0.927536231884058, 0.8639432926166397, null], \"x\": [1.0, 1.0, null, 1.0, 1.0181600582804622, null, 1.0, 0.9818399417195378, null], \"line\": {\"width\": 2, \"color\": \"rgb(0, 0, 0)\"}, \"mode\": \"lines\", \"hoverinfo\": \"none\"}, {\"y\": [0.5], \"marker\": {\"line\": {\"width\": 2, \"color\": \"rgb(0, 0, 0)\"}, \"color\": \"rgb(255, 255, 255)\", \"size\": 20}, \"hoverinfo\": \"none\", \"textposition\": \"middle center\", \"x\": [0.0], \"mode\": \"markers+text\", \"text\": [\"0\"], \"textfont\": {\"color\": \"rgb(0, 0, 0)\"}}, {\"y\": [1.0], \"marker\": {\"line\": {\"width\": 2, \"color\": \"rgb(0, 0, 0)\"}, \"color\": \"rgb(255, 255, 255)\", \"size\": 20}, \"hoverinfo\": \"none\", \"textposition\": \"middle center\", \"x\": [0.5], \"mode\": \"markers+text\", \"text\": [\"2\"], \"textfont\": {\"color\": \"rgb(0, 0, 0)\"}}, {\"y\": [1.0], \"marker\": {\"line\": {\"width\": 2, \"color\": \"rgb(0, 0, 0)\"}, \"color\": \"rgb(255, 255, 255)\", \"size\": 20}, \"hoverinfo\": \"none\", \"textposition\": \"middle center\", \"x\": [1.0], \"mode\": \"markers+text\", \"text\": [\"4\"], \"textfont\": {\"color\": \"rgb(0, 0, 0)\"}}, {\"y\": [0.0], \"marker\": {\"line\": {\"width\": 2, \"color\": \"rgb(0, 0, 0)\"}, \"color\": \"rgb(255, 255, 255)\", \"size\": 20}, \"hoverinfo\": \"none\", \"textposition\": \"middle center\", \"x\": [0.5], \"mode\": \"markers+text\", \"text\": [\"7\"], \"textfont\": {\"color\": \"rgb(0, 0, 0)\"}}, {\"y\": [0.0], \"marker\": {\"line\": {\"width\": 2, \"color\": \"rgb(0, 0, 0)\"}, \"color\": \"rgb(255, 255, 255)\", \"size\": 20}, \"hoverinfo\": \"none\", \"textposition\": \"middle center\", \"x\": [1.0], \"mode\": \"markers+text\", \"text\": [\"2\"], \"textfont\": {\"color\": \"rgb(0, 0, 0)\"}}]}, {\"name\": 25, \"data\": [{\"y\": [0.5, 1.0, null, 0.966430854395385, 0.906182816233176, null, 0.966430854395385, 0.967759498957256, null], \"x\": [0.0, 0.5, null, 0.46643085439538495, 0.44538388103556675, null, 0.46643085439538495, 0.4285584341548651, null], \"line\": {\"width\": 2, \"color\": \"rgb(0, 0, 0)\"}, \"mode\": \"lines\", \"hoverinfo\": \"none\"}, {\"y\": [0.5, 0.0, null, 0.03356914560461503, 0.032240501042743994, null, 0.03356914560461503, 0.09381718376682407, null], \"x\": [0.0, 0.5, null, 0.46643085439538495, 0.4285584341548651, null, 0.46643085439538495, 0.44538388103556675, null], \"line\": {\"width\": 2, \"color\": \"rgb(0, 0, 0)\"}, \"mode\": \"lines\", \"hoverinfo\": \"none\"}, {\"y\": [1.0144927536231885, 1.0144927536231885, null, 1.0144927536231885, 1.049233734681464, null], \"x\": [0.5, 1.0, null, 0.9621212121212122, 0.9288794484132434, null], \"line\": {\"width\": 2, \"color\": \"rgb(0, 0, 0)\"}, \"mode\": \"lines\", \"hoverinfo\": \"none\"}, {\"y\": [1.0, 0.0, null, 0.07246376811594203, 0.13605670738336034, null, 0.07246376811594203, 0.13605670738336034, null], \"x\": [0.5, 0.5, null, 0.5, 0.48183994171953776, null, 0.5, 0.5181600582804622, null], \"line\": {\"width\": 2, \"color\": \"rgb(0, 0, 0)\"}, \"mode\": \"lines\", \"hoverinfo\": \"none\"}, {\"y\": [1.0, 0.0, null, 0.052365351967224576, 0.07430651885030926, null, 0.052365351967224576, 0.12233402455151593, null], \"x\": [0.5, 1.0, null, 0.9738173240163878, 0.9377166459078401, null, 0.9738173240163878, 0.9639630823912474, null], \"line\": {\"width\": 2, \"color\": \"rgb(0, 255, 0)\"}, \"mode\": \"lines\", \"hoverinfo\": \"none\"}, {\"y\": [0.9855072463768116, 0.9855072463768116, null, 0.9855072463768116, 0.950766265318536, null], \"x\": [1.0, 0.5, null, 0.5378787878787878, 0.5711205515867566, null], \"line\": {\"width\": 2, \"color\": \"rgb(0, 0, 0)\"}, \"mode\": \"lines\", \"hoverinfo\": \"none\"}, {\"y\": [0.0, 1.0, null, 0.9476346480327754, 0.8776659754484841, null, 0.9476346480327754, 0.9256934811496907, null], \"x\": [0.5, 1.0, null, 0.9738173240163878, 0.9639630823912474, null, 0.9738173240163878, 0.9377166459078401, null], \"line\": {\"width\": 2, \"color\": \"rgb(0, 0, 0)\"}, \"mode\": \"lines\", \"hoverinfo\": \"none\"}, {\"y\": [0.0, 0.0, null, 0.0, -0.03474098105827558, null, 0.0, 0.03474098105827558, null], \"x\": [0.5, 1.0, null, 0.9621212121212122, 0.9288794484132434, null, 0.9621212121212122, 0.9288794484132434, null], \"line\": {\"width\": 2, \"color\": \"rgb(0, 0, 0)\"}, \"mode\": \"lines\", \"hoverinfo\": \"none\"}, {\"y\": [0.0, 0.5, null, 0.481676128503406, 0.4992073320037643, null, 0.481676128503406, 0.4319835048195859, null], \"x\": [1.0, 0.0, null, 0.03664774299318793, 0.07340128670201525, null, 0.03664774299318793, 0.06421703965128427, null], \"line\": {\"width\": 2, \"color\": \"rgb(0, 0, 0)\"}, \"mode\": \"lines\", \"hoverinfo\": \"none\"}, {\"y\": [0.0, 1.0, null, 0.927536231884058, 0.8639432926166397, null, 0.927536231884058, 0.8639432926166397, null], \"x\": [1.0, 1.0, null, 1.0, 1.0181600582804622, null, 1.0, 0.9818399417195378, null], \"line\": {\"width\": 2, \"color\": \"rgb(0, 0, 0)\"}, \"mode\": \"lines\", \"hoverinfo\": \"none\"}, {\"y\": [0.5], \"marker\": {\"line\": {\"width\": 2, \"color\": \"rgb(0, 0, 0)\"}, \"color\": \"rgb(255, 255, 255)\", \"size\": 20}, \"hoverinfo\": \"none\", \"textposition\": \"middle center\", \"x\": [0.0], \"mode\": \"markers+text\", \"text\": [\"0\"], \"textfont\": {\"color\": \"rgb(0, 0, 0)\"}}, {\"y\": [1.0], \"marker\": {\"line\": {\"width\": 2, \"color\": \"rgb(0, 0, 0)\"}, \"color\": \"rgb(255, 255, 255)\", \"size\": 20}, \"hoverinfo\": \"none\", \"textposition\": \"middle center\", \"x\": [0.5], \"mode\": \"markers+text\", \"text\": [\"2\"], \"textfont\": {\"color\": \"rgb(0, 0, 0)\"}}, {\"y\": [1.0], \"marker\": {\"line\": {\"width\": 2, \"color\": \"rgb(0, 0, 0)\"}, \"color\": \"rgb(255, 255, 255)\", \"size\": 20}, \"hoverinfo\": \"none\", \"textposition\": \"middle center\", \"x\": [1.0], \"mode\": \"markers+text\", \"text\": [\"4\"], \"textfont\": {\"color\": \"rgb(0, 0, 0)\"}}, {\"y\": [0.0], \"marker\": {\"line\": {\"width\": 2, \"color\": \"rgb(0, 0, 0)\"}, \"color\": \"rgb(255, 255, 255)\", \"size\": 20}, \"hoverinfo\": \"none\", \"textposition\": \"middle center\", \"x\": [0.5], \"mode\": \"markers+text\", \"text\": [\"7\"], \"textfont\": {\"color\": \"rgb(0, 0, 0)\"}}, {\"y\": [0.0], \"marker\": {\"line\": {\"width\": 2, \"color\": \"rgb(0, 0, 0)\"}, \"color\": \"rgb(255, 255, 255)\", \"size\": 20}, \"hoverinfo\": \"none\", \"textposition\": \"middle center\", \"x\": [1.0], \"mode\": \"markers+text\", \"text\": [\"-2\"], \"textfont\": {\"color\": \"rgb(0, 0, 0)\"}}]}, {\"name\": 26, \"data\": [{\"y\": [0.5, 1.0, null, 0.966430854395385, 0.906182816233176, null, 0.966430854395385, 0.967759498957256, null], \"x\": [0.0, 0.5, null, 0.46643085439538495, 0.44538388103556675, null, 0.46643085439538495, 0.4285584341548651, null], \"line\": {\"width\": 2, \"color\": \"rgb(0, 0, 0)\"}, \"mode\": \"lines\", \"hoverinfo\": \"none\"}, {\"y\": [0.5, 0.0, null, 0.03356914560461503, 0.032240501042743994, null, 0.03356914560461503, 0.09381718376682407, null], \"x\": [0.0, 0.5, null, 0.46643085439538495, 0.4285584341548651, null, 0.46643085439538495, 0.44538388103556675, null], \"line\": {\"width\": 2, \"color\": \"rgb(0, 0, 0)\"}, \"mode\": \"lines\", \"hoverinfo\": \"none\"}, {\"y\": [1.0144927536231885, 1.0144927536231885, null, 1.0144927536231885, 1.049233734681464, null], \"x\": [0.5, 1.0, null, 0.9621212121212122, 0.9288794484132434, null], \"line\": {\"width\": 2, \"color\": \"rgb(0, 0, 0)\"}, \"mode\": \"lines\", \"hoverinfo\": \"none\"}, {\"y\": [1.0, 0.0, null, 0.07246376811594203, 0.13605670738336034, null, 0.07246376811594203, 0.13605670738336034, null], \"x\": [0.5, 0.5, null, 0.5, 0.48183994171953776, null, 0.5, 0.5181600582804622, null], \"line\": {\"width\": 2, \"color\": \"rgb(0, 0, 0)\"}, \"mode\": \"lines\", \"hoverinfo\": \"none\"}, {\"y\": [1.0, 0.0, null, 0.052365351967224576, 0.07430651885030926, null, 0.052365351967224576, 0.12233402455151593, null], \"x\": [0.5, 1.0, null, 0.9738173240163878, 0.9377166459078401, null, 0.9738173240163878, 0.9639630823912474, null], \"line\": {\"width\": 2, \"color\": \"rgb(0, 0, 0)\"}, \"mode\": \"lines\", \"hoverinfo\": \"none\"}, {\"y\": [0.9855072463768116, 0.9855072463768116, null, 0.9855072463768116, 0.950766265318536, null], \"x\": [1.0, 0.5, null, 0.5378787878787878, 0.5711205515867566, null], \"line\": {\"width\": 2, \"color\": \"rgb(255, 0, 0)\"}, \"mode\": \"lines\", \"hoverinfo\": \"none\"}, {\"y\": [0.0, 1.0, null, 0.9476346480327754, 0.8776659754484841, null, 0.9476346480327754, 0.9256934811496907, null], \"x\": [0.5, 1.0, null, 0.9738173240163878, 0.9639630823912474, null, 0.9738173240163878, 0.9377166459078401, null], \"line\": {\"width\": 2, \"color\": \"rgb(0, 0, 0)\"}, \"mode\": \"lines\", \"hoverinfo\": \"none\"}, {\"y\": [0.0, 0.0, null, 0.0, -0.03474098105827558, null, 0.0, 0.03474098105827558, null], \"x\": [0.5, 1.0, null, 0.9621212121212122, 0.9288794484132434, null, 0.9621212121212122, 0.9288794484132434, null], \"line\": {\"width\": 2, \"color\": \"rgb(0, 0, 0)\"}, \"mode\": \"lines\", \"hoverinfo\": \"none\"}, {\"y\": [0.0, 0.5, null, 0.481676128503406, 0.4992073320037643, null, 0.481676128503406, 0.4319835048195859, null], \"x\": [1.0, 0.0, null, 0.03664774299318793, 0.07340128670201525, null, 0.03664774299318793, 0.06421703965128427, null], \"line\": {\"width\": 2, \"color\": \"rgb(0, 0, 0)\"}, \"mode\": \"lines\", \"hoverinfo\": \"none\"}, {\"y\": [0.0, 1.0, null, 0.927536231884058, 0.8639432926166397, null, 0.927536231884058, 0.8639432926166397, null], \"x\": [1.0, 1.0, null, 1.0, 1.0181600582804622, null, 1.0, 0.9818399417195378, null], \"line\": {\"width\": 2, \"color\": \"rgb(0, 0, 0)\"}, \"mode\": \"lines\", \"hoverinfo\": \"none\"}, {\"y\": [0.5], \"marker\": {\"line\": {\"width\": 2, \"color\": \"rgb(0, 0, 0)\"}, \"color\": \"rgb(255, 255, 255)\", \"size\": 20}, \"hoverinfo\": \"none\", \"textposition\": \"middle center\", \"x\": [0.0], \"mode\": \"markers+text\", \"text\": [\"0\"], \"textfont\": {\"color\": \"rgb(0, 0, 0)\"}}, {\"y\": [1.0], \"marker\": {\"line\": {\"width\": 2, \"color\": \"rgb(0, 0, 0)\"}, \"color\": \"rgb(255, 255, 255)\", \"size\": 20}, \"hoverinfo\": \"none\", \"textposition\": \"middle center\", \"x\": [0.5], \"mode\": \"markers+text\", \"text\": [\"2\"], \"textfont\": {\"color\": \"rgb(0, 0, 0)\"}}, {\"y\": [1.0], \"marker\": {\"line\": {\"width\": 2, \"color\": \"rgb(0, 0, 0)\"}, \"color\": \"rgb(255, 255, 255)\", \"size\": 20}, \"hoverinfo\": \"none\", \"textposition\": \"middle center\", \"x\": [1.0], \"mode\": \"markers+text\", \"text\": [\"4\"], \"textfont\": {\"color\": \"rgb(0, 0, 0)\"}}, {\"y\": [0.0], \"marker\": {\"line\": {\"width\": 2, \"color\": \"rgb(0, 0, 0)\"}, \"color\": \"rgb(255, 255, 255)\", \"size\": 20}, \"hoverinfo\": \"none\", \"textposition\": \"middle center\", \"x\": [0.5], \"mode\": \"markers+text\", \"text\": [\"7\"], \"textfont\": {\"color\": \"rgb(0, 0, 0)\"}}, {\"y\": [0.0], \"marker\": {\"line\": {\"width\": 2, \"color\": \"rgb(0, 0, 0)\"}, \"color\": \"rgb(255, 255, 255)\", \"size\": 20}, \"hoverinfo\": \"none\", \"textposition\": \"middle center\", \"x\": [1.0], \"mode\": \"markers+text\", \"text\": [\"-2\"], \"textfont\": {\"color\": \"rgb(0, 0, 0)\"}}]}, {\"name\": 27, \"data\": [{\"y\": [0.5, 1.0, null, 0.966430854395385, 0.906182816233176, null, 0.966430854395385, 0.967759498957256, null], \"x\": [0.0, 0.5, null, 0.46643085439538495, 0.44538388103556675, null, 0.46643085439538495, 0.4285584341548651, null], \"line\": {\"width\": 2, \"color\": \"rgb(0, 0, 0)\"}, \"mode\": \"lines\", \"hoverinfo\": \"none\"}, {\"y\": [0.5, 0.0, null, 0.03356914560461503, 0.032240501042743994, null, 0.03356914560461503, 0.09381718376682407, null], \"x\": [0.0, 0.5, null, 0.46643085439538495, 0.4285584341548651, null, 0.46643085439538495, 0.44538388103556675, null], \"line\": {\"width\": 2, \"color\": \"rgb(0, 0, 0)\"}, \"mode\": \"lines\", \"hoverinfo\": \"none\"}, {\"y\": [1.0144927536231885, 1.0144927536231885, null, 1.0144927536231885, 1.049233734681464, null], \"x\": [0.5, 1.0, null, 0.9621212121212122, 0.9288794484132434, null], \"line\": {\"width\": 2, \"color\": \"rgb(0, 0, 0)\"}, \"mode\": \"lines\", \"hoverinfo\": \"none\"}, {\"y\": [1.0, 0.0, null, 0.07246376811594203, 0.13605670738336034, null, 0.07246376811594203, 0.13605670738336034, null], \"x\": [0.5, 0.5, null, 0.5, 0.48183994171953776, null, 0.5, 0.5181600582804622, null], \"line\": {\"width\": 2, \"color\": \"rgb(0, 0, 0)\"}, \"mode\": \"lines\", \"hoverinfo\": \"none\"}, {\"y\": [1.0, 0.0, null, 0.052365351967224576, 0.07430651885030926, null, 0.052365351967224576, 0.12233402455151593, null], \"x\": [0.5, 1.0, null, 0.9738173240163878, 0.9377166459078401, null, 0.9738173240163878, 0.9639630823912474, null], \"line\": {\"width\": 2, \"color\": \"rgb(0, 0, 0)\"}, \"mode\": \"lines\", \"hoverinfo\": \"none\"}, {\"y\": [0.9855072463768116, 0.9855072463768116, null, 0.9855072463768116, 0.950766265318536, null], \"x\": [1.0, 0.5, null, 0.5378787878787878, 0.5711205515867566, null], \"line\": {\"width\": 2, \"color\": \"rgb(0, 0, 0)\"}, \"mode\": \"lines\", \"hoverinfo\": \"none\"}, {\"y\": [0.0, 1.0, null, 0.9476346480327754, 0.8776659754484841, null, 0.9476346480327754, 0.9256934811496907, null], \"x\": [0.5, 1.0, null, 0.9738173240163878, 0.9639630823912474, null, 0.9738173240163878, 0.9377166459078401, null], \"line\": {\"width\": 2, \"color\": \"rgb(255, 0, 0)\"}, \"mode\": \"lines\", \"hoverinfo\": \"none\"}, {\"y\": [0.0, 0.0, null, 0.0, -0.03474098105827558, null, 0.0, 0.03474098105827558, null], \"x\": [0.5, 1.0, null, 0.9621212121212122, 0.9288794484132434, null, 0.9621212121212122, 0.9288794484132434, null], \"line\": {\"width\": 2, \"color\": \"rgb(0, 0, 0)\"}, \"mode\": \"lines\", \"hoverinfo\": \"none\"}, {\"y\": [0.0, 0.5, null, 0.481676128503406, 0.4992073320037643, null, 0.481676128503406, 0.4319835048195859, null], \"x\": [1.0, 0.0, null, 0.03664774299318793, 0.07340128670201525, null, 0.03664774299318793, 0.06421703965128427, null], \"line\": {\"width\": 2, \"color\": \"rgb(0, 0, 0)\"}, \"mode\": \"lines\", \"hoverinfo\": \"none\"}, {\"y\": [0.0, 1.0, null, 0.927536231884058, 0.8639432926166397, null, 0.927536231884058, 0.8639432926166397, null], \"x\": [1.0, 1.0, null, 1.0, 1.0181600582804622, null, 1.0, 0.9818399417195378, null], \"line\": {\"width\": 2, \"color\": \"rgb(0, 0, 0)\"}, \"mode\": \"lines\", \"hoverinfo\": \"none\"}, {\"y\": [0.5], \"marker\": {\"line\": {\"width\": 2, \"color\": \"rgb(0, 0, 0)\"}, \"color\": \"rgb(255, 255, 255)\", \"size\": 20}, \"hoverinfo\": \"none\", \"textposition\": \"middle center\", \"x\": [0.0], \"mode\": \"markers+text\", \"text\": [\"0\"], \"textfont\": {\"color\": \"rgb(0, 0, 0)\"}}, {\"y\": [1.0], \"marker\": {\"line\": {\"width\": 2, \"color\": \"rgb(0, 0, 0)\"}, \"color\": \"rgb(255, 255, 255)\", \"size\": 20}, \"hoverinfo\": \"none\", \"textposition\": \"middle center\", \"x\": [0.5], \"mode\": \"markers+text\", \"text\": [\"2\"], \"textfont\": {\"color\": \"rgb(0, 0, 0)\"}}, {\"y\": [1.0], \"marker\": {\"line\": {\"width\": 2, \"color\": \"rgb(0, 0, 0)\"}, \"color\": \"rgb(255, 255, 255)\", \"size\": 20}, \"hoverinfo\": \"none\", \"textposition\": \"middle center\", \"x\": [1.0], \"mode\": \"markers+text\", \"text\": [\"4\"], \"textfont\": {\"color\": \"rgb(0, 0, 0)\"}}, {\"y\": [0.0], \"marker\": {\"line\": {\"width\": 2, \"color\": \"rgb(0, 0, 0)\"}, \"color\": \"rgb(255, 255, 255)\", \"size\": 20}, \"hoverinfo\": \"none\", \"textposition\": \"middle center\", \"x\": [0.5], \"mode\": \"markers+text\", \"text\": [\"7\"], \"textfont\": {\"color\": \"rgb(0, 0, 0)\"}}, {\"y\": [0.0], \"marker\": {\"line\": {\"width\": 2, \"color\": \"rgb(0, 0, 0)\"}, \"color\": \"rgb(255, 255, 255)\", \"size\": 20}, \"hoverinfo\": \"none\", \"textposition\": \"middle center\", \"x\": [1.0], \"mode\": \"markers+text\", \"text\": [\"-2\"], \"textfont\": {\"color\": \"rgb(0, 0, 0)\"}}]}, {\"name\": 28, \"data\": [{\"y\": [0.5, 1.0, null, 0.966430854395385, 0.906182816233176, null, 0.966430854395385, 0.967759498957256, null], \"x\": [0.0, 0.5, null, 0.46643085439538495, 0.44538388103556675, null, 0.46643085439538495, 0.4285584341548651, null], \"line\": {\"width\": 2, \"color\": \"rgb(0, 0, 0)\"}, \"mode\": \"lines\", \"hoverinfo\": \"none\"}, {\"y\": [0.5, 0.0, null, 0.03356914560461503, 0.032240501042743994, null, 0.03356914560461503, 0.09381718376682407, null], \"x\": [0.0, 0.5, null, 0.46643085439538495, 0.4285584341548651, null, 0.46643085439538495, 0.44538388103556675, null], \"line\": {\"width\": 2, \"color\": \"rgb(0, 0, 0)\"}, \"mode\": \"lines\", \"hoverinfo\": \"none\"}, {\"y\": [1.0144927536231885, 1.0144927536231885, null, 1.0144927536231885, 1.049233734681464, null], \"x\": [0.5, 1.0, null, 0.9621212121212122, 0.9288794484132434, null], \"line\": {\"width\": 2, \"color\": \"rgb(0, 0, 0)\"}, \"mode\": \"lines\", \"hoverinfo\": \"none\"}, {\"y\": [1.0, 0.0, null, 0.07246376811594203, 0.13605670738336034, null, 0.07246376811594203, 0.13605670738336034, null], \"x\": [0.5, 0.5, null, 0.5, 0.48183994171953776, null, 0.5, 0.5181600582804622, null], \"line\": {\"width\": 2, \"color\": \"rgb(0, 0, 0)\"}, \"mode\": \"lines\", \"hoverinfo\": \"none\"}, {\"y\": [1.0, 0.0, null, 0.052365351967224576, 0.07430651885030926, null, 0.052365351967224576, 0.12233402455151593, null], \"x\": [0.5, 1.0, null, 0.9738173240163878, 0.9377166459078401, null, 0.9738173240163878, 0.9639630823912474, null], \"line\": {\"width\": 2, \"color\": \"rgb(0, 0, 0)\"}, \"mode\": \"lines\", \"hoverinfo\": \"none\"}, {\"y\": [0.9855072463768116, 0.9855072463768116, null, 0.9855072463768116, 0.950766265318536, null], \"x\": [1.0, 0.5, null, 0.5378787878787878, 0.5711205515867566, null], \"line\": {\"width\": 2, \"color\": \"rgb(0, 0, 0)\"}, \"mode\": \"lines\", \"hoverinfo\": \"none\"}, {\"y\": [0.0, 1.0, null, 0.9476346480327754, 0.8776659754484841, null, 0.9476346480327754, 0.9256934811496907, null], \"x\": [0.5, 1.0, null, 0.9738173240163878, 0.9639630823912474, null, 0.9738173240163878, 0.9377166459078401, null], \"line\": {\"width\": 2, \"color\": \"rgb(0, 0, 0)\"}, \"mode\": \"lines\", \"hoverinfo\": \"none\"}, {\"y\": [0.0, 0.0, null, 0.0, -0.03474098105827558, null, 0.0, 0.03474098105827558, null], \"x\": [0.5, 1.0, null, 0.9621212121212122, 0.9288794484132434, null, 0.9621212121212122, 0.9288794484132434, null], \"line\": {\"width\": 2, \"color\": \"rgb(255, 0, 0)\"}, \"mode\": \"lines\", \"hoverinfo\": \"none\"}, {\"y\": [0.0, 0.5, null, 0.481676128503406, 0.4992073320037643, null, 0.481676128503406, 0.4319835048195859, null], \"x\": [1.0, 0.0, null, 0.03664774299318793, 0.07340128670201525, null, 0.03664774299318793, 0.06421703965128427, null], \"line\": {\"width\": 2, \"color\": \"rgb(0, 0, 0)\"}, \"mode\": \"lines\", \"hoverinfo\": \"none\"}, {\"y\": [0.0, 1.0, null, 0.927536231884058, 0.8639432926166397, null, 0.927536231884058, 0.8639432926166397, null], \"x\": [1.0, 1.0, null, 1.0, 1.0181600582804622, null, 1.0, 0.9818399417195378, null], \"line\": {\"width\": 2, \"color\": \"rgb(0, 0, 0)\"}, \"mode\": \"lines\", \"hoverinfo\": \"none\"}, {\"y\": [0.5], \"marker\": {\"line\": {\"width\": 2, \"color\": \"rgb(0, 0, 0)\"}, \"color\": \"rgb(255, 255, 255)\", \"size\": 20}, \"hoverinfo\": \"none\", \"textposition\": \"middle center\", \"x\": [0.0], \"mode\": \"markers+text\", \"text\": [\"0\"], \"textfont\": {\"color\": \"rgb(0, 0, 0)\"}}, {\"y\": [1.0], \"marker\": {\"line\": {\"width\": 2, \"color\": \"rgb(0, 0, 0)\"}, \"color\": \"rgb(255, 255, 255)\", \"size\": 20}, \"hoverinfo\": \"none\", \"textposition\": \"middle center\", \"x\": [0.5], \"mode\": \"markers+text\", \"text\": [\"2\"], \"textfont\": {\"color\": \"rgb(0, 0, 0)\"}}, {\"y\": [1.0], \"marker\": {\"line\": {\"width\": 2, \"color\": \"rgb(0, 0, 0)\"}, \"color\": \"rgb(255, 255, 255)\", \"size\": 20}, \"hoverinfo\": \"none\", \"textposition\": \"middle center\", \"x\": [1.0], \"mode\": \"markers+text\", \"text\": [\"4\"], \"textfont\": {\"color\": \"rgb(0, 0, 0)\"}}, {\"y\": [0.0], \"marker\": {\"line\": {\"width\": 2, \"color\": \"rgb(0, 0, 0)\"}, \"color\": \"rgb(255, 255, 255)\", \"size\": 20}, \"hoverinfo\": \"none\", \"textposition\": \"middle center\", \"x\": [0.5], \"mode\": \"markers+text\", \"text\": [\"7\"], \"textfont\": {\"color\": \"rgb(0, 0, 0)\"}}, {\"y\": [0.0], \"marker\": {\"line\": {\"width\": 2, \"color\": \"rgb(0, 0, 0)\"}, \"color\": \"rgb(255, 255, 255)\", \"size\": 20}, \"hoverinfo\": \"none\", \"textposition\": \"middle center\", \"x\": [1.0], \"mode\": \"markers+text\", \"text\": [\"-2\"], \"textfont\": {\"color\": \"rgb(0, 0, 0)\"}}]}, {\"name\": 29, \"data\": [{\"y\": [0.5, 1.0, null, 0.966430854395385, 0.906182816233176, null, 0.966430854395385, 0.967759498957256, null], \"x\": [0.0, 0.5, null, 0.46643085439538495, 0.44538388103556675, null, 0.46643085439538495, 0.4285584341548651, null], \"line\": {\"width\": 2, \"color\": \"rgb(0, 0, 0)\"}, \"mode\": \"lines\", \"hoverinfo\": \"none\"}, {\"y\": [0.5, 0.0, null, 0.03356914560461503, 0.032240501042743994, null, 0.03356914560461503, 0.09381718376682407, null], \"x\": [0.0, 0.5, null, 0.46643085439538495, 0.4285584341548651, null, 0.46643085439538495, 0.44538388103556675, null], \"line\": {\"width\": 2, \"color\": \"rgb(0, 0, 0)\"}, \"mode\": \"lines\", \"hoverinfo\": \"none\"}, {\"y\": [1.0144927536231885, 1.0144927536231885, null, 1.0144927536231885, 1.049233734681464, null], \"x\": [0.5, 1.0, null, 0.9621212121212122, 0.9288794484132434, null], \"line\": {\"width\": 2, \"color\": \"rgb(0, 0, 0)\"}, \"mode\": \"lines\", \"hoverinfo\": \"none\"}, {\"y\": [1.0, 0.0, null, 0.07246376811594203, 0.13605670738336034, null, 0.07246376811594203, 0.13605670738336034, null], \"x\": [0.5, 0.5, null, 0.5, 0.48183994171953776, null, 0.5, 0.5181600582804622, null], \"line\": {\"width\": 2, \"color\": \"rgb(0, 0, 0)\"}, \"mode\": \"lines\", \"hoverinfo\": \"none\"}, {\"y\": [1.0, 0.0, null, 0.052365351967224576, 0.07430651885030926, null, 0.052365351967224576, 0.12233402455151593, null], \"x\": [0.5, 1.0, null, 0.9738173240163878, 0.9377166459078401, null, 0.9738173240163878, 0.9639630823912474, null], \"line\": {\"width\": 2, \"color\": \"rgb(0, 0, 0)\"}, \"mode\": \"lines\", \"hoverinfo\": \"none\"}, {\"y\": [0.9855072463768116, 0.9855072463768116, null, 0.9855072463768116, 0.950766265318536, null], \"x\": [1.0, 0.5, null, 0.5378787878787878, 0.5711205515867566, null], \"line\": {\"width\": 2, \"color\": \"rgb(0, 0, 0)\"}, \"mode\": \"lines\", \"hoverinfo\": \"none\"}, {\"y\": [0.0, 1.0, null, 0.9476346480327754, 0.8776659754484841, null, 0.9476346480327754, 0.9256934811496907, null], \"x\": [0.5, 1.0, null, 0.9738173240163878, 0.9639630823912474, null, 0.9738173240163878, 0.9377166459078401, null], \"line\": {\"width\": 2, \"color\": \"rgb(0, 0, 0)\"}, \"mode\": \"lines\", \"hoverinfo\": \"none\"}, {\"y\": [0.0, 0.0, null, 0.0, -0.03474098105827558, null, 0.0, 0.03474098105827558, null], \"x\": [0.5, 1.0, null, 0.9621212121212122, 0.9288794484132434, null, 0.9621212121212122, 0.9288794484132434, null], \"line\": {\"width\": 2, \"color\": \"rgb(0, 0, 0)\"}, \"mode\": \"lines\", \"hoverinfo\": \"none\"}, {\"y\": [0.0, 0.5, null, 0.481676128503406, 0.4992073320037643, null, 0.481676128503406, 0.4319835048195859, null], \"x\": [1.0, 0.0, null, 0.03664774299318793, 0.07340128670201525, null, 0.03664774299318793, 0.06421703965128427, null], \"line\": {\"width\": 2, \"color\": \"rgb(255, 0, 0)\"}, \"mode\": \"lines\", \"hoverinfo\": \"none\"}, {\"y\": [0.0, 1.0, null, 0.927536231884058, 0.8639432926166397, null, 0.927536231884058, 0.8639432926166397, null], \"x\": [1.0, 1.0, null, 1.0, 1.0181600582804622, null, 1.0, 0.9818399417195378, null], \"line\": {\"width\": 2, \"color\": \"rgb(0, 0, 0)\"}, \"mode\": \"lines\", \"hoverinfo\": \"none\"}, {\"y\": [0.5], \"marker\": {\"line\": {\"width\": 2, \"color\": \"rgb(0, 0, 0)\"}, \"color\": \"rgb(255, 255, 255)\", \"size\": 20}, \"hoverinfo\": \"none\", \"textposition\": \"middle center\", \"x\": [0.0], \"mode\": \"markers+text\", \"text\": [\"0\"], \"textfont\": {\"color\": \"rgb(0, 0, 0)\"}}, {\"y\": [1.0], \"marker\": {\"line\": {\"width\": 2, \"color\": \"rgb(0, 0, 0)\"}, \"color\": \"rgb(255, 255, 255)\", \"size\": 20}, \"hoverinfo\": \"none\", \"textposition\": \"middle center\", \"x\": [0.5], \"mode\": \"markers+text\", \"text\": [\"2\"], \"textfont\": {\"color\": \"rgb(0, 0, 0)\"}}, {\"y\": [1.0], \"marker\": {\"line\": {\"width\": 2, \"color\": \"rgb(0, 0, 0)\"}, \"color\": \"rgb(255, 255, 255)\", \"size\": 20}, \"hoverinfo\": \"none\", \"textposition\": \"middle center\", \"x\": [1.0], \"mode\": \"markers+text\", \"text\": [\"4\"], \"textfont\": {\"color\": \"rgb(0, 0, 0)\"}}, {\"y\": [0.0], \"marker\": {\"line\": {\"width\": 2, \"color\": \"rgb(0, 0, 0)\"}, \"color\": \"rgb(255, 255, 255)\", \"size\": 20}, \"hoverinfo\": \"none\", \"textposition\": \"middle center\", \"x\": [0.5], \"mode\": \"markers+text\", \"text\": [\"7\"], \"textfont\": {\"color\": \"rgb(0, 0, 0)\"}}, {\"y\": [0.0], \"marker\": {\"line\": {\"width\": 2, \"color\": \"rgb(0, 0, 0)\"}, \"color\": \"rgb(255, 255, 255)\", \"size\": 20}, \"hoverinfo\": \"none\", \"textposition\": \"middle center\", \"x\": [1.0], \"mode\": \"markers+text\", \"text\": [\"-2\"], \"textfont\": {\"color\": \"rgb(0, 0, 0)\"}}]}, {\"name\": 30, \"data\": [{\"y\": [0.5, 1.0, null, 0.966430854395385, 0.906182816233176, null, 0.966430854395385, 0.967759498957256, null], \"x\": [0.0, 0.5, null, 0.46643085439538495, 0.44538388103556675, null, 0.46643085439538495, 0.4285584341548651, null], \"line\": {\"width\": 2, \"color\": \"rgb(0, 0, 0)\"}, \"mode\": \"lines\", \"hoverinfo\": \"none\"}, {\"y\": [0.5, 0.0, null, 0.03356914560461503, 0.032240501042743994, null, 0.03356914560461503, 0.09381718376682407, null], \"x\": [0.0, 0.5, null, 0.46643085439538495, 0.4285584341548651, null, 0.46643085439538495, 0.44538388103556675, null], \"line\": {\"width\": 2, \"color\": \"rgb(0, 0, 0)\"}, \"mode\": \"lines\", \"hoverinfo\": \"none\"}, {\"y\": [1.0144927536231885, 1.0144927536231885, null, 1.0144927536231885, 1.049233734681464, null], \"x\": [0.5, 1.0, null, 0.9621212121212122, 0.9288794484132434, null], \"line\": {\"width\": 2, \"color\": \"rgb(0, 0, 0)\"}, \"mode\": \"lines\", \"hoverinfo\": \"none\"}, {\"y\": [1.0, 0.0, null, 0.07246376811594203, 0.13605670738336034, null, 0.07246376811594203, 0.13605670738336034, null], \"x\": [0.5, 0.5, null, 0.5, 0.48183994171953776, null, 0.5, 0.5181600582804622, null], \"line\": {\"width\": 2, \"color\": \"rgb(0, 0, 0)\"}, \"mode\": \"lines\", \"hoverinfo\": \"none\"}, {\"y\": [1.0, 0.0, null, 0.052365351967224576, 0.07430651885030926, null, 0.052365351967224576, 0.12233402455151593, null], \"x\": [0.5, 1.0, null, 0.9738173240163878, 0.9377166459078401, null, 0.9738173240163878, 0.9639630823912474, null], \"line\": {\"width\": 2, \"color\": \"rgb(0, 0, 0)\"}, \"mode\": \"lines\", \"hoverinfo\": \"none\"}, {\"y\": [0.9855072463768116, 0.9855072463768116, null, 0.9855072463768116, 0.950766265318536, null], \"x\": [1.0, 0.5, null, 0.5378787878787878, 0.5711205515867566, null], \"line\": {\"width\": 2, \"color\": \"rgb(0, 0, 0)\"}, \"mode\": \"lines\", \"hoverinfo\": \"none\"}, {\"y\": [0.0, 1.0, null, 0.9476346480327754, 0.8776659754484841, null, 0.9476346480327754, 0.9256934811496907, null], \"x\": [0.5, 1.0, null, 0.9738173240163878, 0.9639630823912474, null, 0.9738173240163878, 0.9377166459078401, null], \"line\": {\"width\": 2, \"color\": \"rgb(0, 0, 0)\"}, \"mode\": \"lines\", \"hoverinfo\": \"none\"}, {\"y\": [0.0, 0.0, null, 0.0, -0.03474098105827558, null, 0.0, 0.03474098105827558, null], \"x\": [0.5, 1.0, null, 0.9621212121212122, 0.9288794484132434, null, 0.9621212121212122, 0.9288794484132434, null], \"line\": {\"width\": 2, \"color\": \"rgb(0, 0, 0)\"}, \"mode\": \"lines\", \"hoverinfo\": \"none\"}, {\"y\": [0.0, 0.5, null, 0.481676128503406, 0.4992073320037643, null, 0.481676128503406, 0.4319835048195859, null], \"x\": [1.0, 0.0, null, 0.03664774299318793, 0.07340128670201525, null, 0.03664774299318793, 0.06421703965128427, null], \"line\": {\"width\": 2, \"color\": \"rgb(0, 0, 0)\"}, \"mode\": \"lines\", \"hoverinfo\": \"none\"}, {\"y\": [0.0, 1.0, null, 0.927536231884058, 0.8639432926166397, null, 0.927536231884058, 0.8639432926166397, null], \"x\": [1.0, 1.0, null, 1.0, 1.0181600582804622, null, 1.0, 0.9818399417195378, null], \"line\": {\"width\": 2, \"color\": \"rgb(255, 0, 0)\"}, \"mode\": \"lines\", \"hoverinfo\": \"none\"}, {\"y\": [0.5], \"marker\": {\"line\": {\"width\": 2, \"color\": \"rgb(0, 0, 0)\"}, \"color\": \"rgb(255, 255, 255)\", \"size\": 20}, \"hoverinfo\": \"none\", \"textposition\": \"middle center\", \"x\": [0.0], \"mode\": \"markers+text\", \"text\": [\"0\"], \"textfont\": {\"color\": \"rgb(0, 0, 0)\"}}, {\"y\": [1.0], \"marker\": {\"line\": {\"width\": 2, \"color\": \"rgb(0, 0, 0)\"}, \"color\": \"rgb(255, 255, 255)\", \"size\": 20}, \"hoverinfo\": \"none\", \"textposition\": \"middle center\", \"x\": [0.5], \"mode\": \"markers+text\", \"text\": [\"2\"], \"textfont\": {\"color\": \"rgb(0, 0, 0)\"}}, {\"y\": [1.0], \"marker\": {\"line\": {\"width\": 2, \"color\": \"rgb(0, 0, 0)\"}, \"color\": \"rgb(255, 255, 255)\", \"size\": 20}, \"hoverinfo\": \"none\", \"textposition\": \"middle center\", \"x\": [1.0], \"mode\": \"markers+text\", \"text\": [\"4\"], \"textfont\": {\"color\": \"rgb(0, 0, 0)\"}}, {\"y\": [0.0], \"marker\": {\"line\": {\"width\": 2, \"color\": \"rgb(0, 0, 0)\"}, \"color\": \"rgb(255, 255, 255)\", \"size\": 20}, \"hoverinfo\": \"none\", \"textposition\": \"middle center\", \"x\": [0.5], \"mode\": \"markers+text\", \"text\": [\"7\"], \"textfont\": {\"color\": \"rgb(0, 0, 0)\"}}, {\"y\": [0.0], \"marker\": {\"line\": {\"width\": 2, \"color\": \"rgb(0, 0, 0)\"}, \"color\": \"rgb(255, 255, 255)\", \"size\": 20}, \"hoverinfo\": \"none\", \"textposition\": \"middle center\", \"x\": [1.0], \"mode\": \"markers+text\", \"text\": [\"-2\"], \"textfont\": {\"color\": \"rgb(0, 0, 0)\"}}]}, {\"name\": 31, \"data\": [{\"y\": [0.5, 1.0, null, 0.966430854395385, 0.906182816233176, null, 0.966430854395385, 0.967759498957256, null], \"x\": [0.0, 0.5, null, 0.46643085439538495, 0.44538388103556675, null, 0.46643085439538495, 0.4285584341548651, null], \"line\": {\"width\": 2, \"color\": \"rgb(255, 0, 0)\"}, \"mode\": \"lines\", \"hoverinfo\": \"none\"}, {\"y\": [0.5, 0.0, null, 0.03356914560461503, 0.032240501042743994, null, 0.03356914560461503, 0.09381718376682407, null], \"x\": [0.0, 0.5, null, 0.46643085439538495, 0.4285584341548651, null, 0.46643085439538495, 0.44538388103556675, null], \"line\": {\"width\": 2, \"color\": \"rgb(0, 0, 0)\"}, \"mode\": \"lines\", \"hoverinfo\": \"none\"}, {\"y\": [1.0144927536231885, 1.0144927536231885, null, 1.0144927536231885, 1.049233734681464, null], \"x\": [0.5, 1.0, null, 0.9621212121212122, 0.9288794484132434, null], \"line\": {\"width\": 2, \"color\": \"rgb(0, 0, 0)\"}, \"mode\": \"lines\", \"hoverinfo\": \"none\"}, {\"y\": [1.0, 0.0, null, 0.07246376811594203, 0.13605670738336034, null, 0.07246376811594203, 0.13605670738336034, null], \"x\": [0.5, 0.5, null, 0.5, 0.48183994171953776, null, 0.5, 0.5181600582804622, null], \"line\": {\"width\": 2, \"color\": \"rgb(0, 0, 0)\"}, \"mode\": \"lines\", \"hoverinfo\": \"none\"}, {\"y\": [1.0, 0.0, null, 0.052365351967224576, 0.07430651885030926, null, 0.052365351967224576, 0.12233402455151593, null], \"x\": [0.5, 1.0, null, 0.9738173240163878, 0.9377166459078401, null, 0.9738173240163878, 0.9639630823912474, null], \"line\": {\"width\": 2, \"color\": \"rgb(0, 0, 0)\"}, \"mode\": \"lines\", \"hoverinfo\": \"none\"}, {\"y\": [0.9855072463768116, 0.9855072463768116, null, 0.9855072463768116, 0.950766265318536, null], \"x\": [1.0, 0.5, null, 0.5378787878787878, 0.5711205515867566, null], \"line\": {\"width\": 2, \"color\": \"rgb(0, 0, 0)\"}, \"mode\": \"lines\", \"hoverinfo\": \"none\"}, {\"y\": [0.0, 1.0, null, 0.9476346480327754, 0.8776659754484841, null, 0.9476346480327754, 0.9256934811496907, null], \"x\": [0.5, 1.0, null, 0.9738173240163878, 0.9639630823912474, null, 0.9738173240163878, 0.9377166459078401, null], \"line\": {\"width\": 2, \"color\": \"rgb(0, 0, 0)\"}, \"mode\": \"lines\", \"hoverinfo\": \"none\"}, {\"y\": [0.0, 0.0, null, 0.0, -0.03474098105827558, null, 0.0, 0.03474098105827558, null], \"x\": [0.5, 1.0, null, 0.9621212121212122, 0.9288794484132434, null, 0.9621212121212122, 0.9288794484132434, null], \"line\": {\"width\": 2, \"color\": \"rgb(0, 0, 0)\"}, \"mode\": \"lines\", \"hoverinfo\": \"none\"}, {\"y\": [0.0, 0.5, null, 0.481676128503406, 0.4992073320037643, null, 0.481676128503406, 0.4319835048195859, null], \"x\": [1.0, 0.0, null, 0.03664774299318793, 0.07340128670201525, null, 0.03664774299318793, 0.06421703965128427, null], \"line\": {\"width\": 2, \"color\": \"rgb(0, 0, 0)\"}, \"mode\": \"lines\", \"hoverinfo\": \"none\"}, {\"y\": [0.0, 1.0, null, 0.927536231884058, 0.8639432926166397, null, 0.927536231884058, 0.8639432926166397, null], \"x\": [1.0, 1.0, null, 1.0, 1.0181600582804622, null, 1.0, 0.9818399417195378, null], \"line\": {\"width\": 2, \"color\": \"rgb(0, 0, 0)\"}, \"mode\": \"lines\", \"hoverinfo\": \"none\"}, {\"y\": [0.5], \"marker\": {\"line\": {\"width\": 2, \"color\": \"rgb(0, 0, 0)\"}, \"color\": \"rgb(255, 255, 255)\", \"size\": 20}, \"hoverinfo\": \"none\", \"textposition\": \"middle center\", \"x\": [0.0], \"mode\": \"markers+text\", \"text\": [\"0\"], \"textfont\": {\"color\": \"rgb(0, 0, 0)\"}}, {\"y\": [1.0], \"marker\": {\"line\": {\"width\": 2, \"color\": \"rgb(0, 0, 0)\"}, \"color\": \"rgb(255, 255, 255)\", \"size\": 20}, \"hoverinfo\": \"none\", \"textposition\": \"middle center\", \"x\": [0.5], \"mode\": \"markers+text\", \"text\": [\"2\"], \"textfont\": {\"color\": \"rgb(0, 0, 0)\"}}, {\"y\": [1.0], \"marker\": {\"line\": {\"width\": 2, \"color\": \"rgb(0, 0, 0)\"}, \"color\": \"rgb(255, 255, 255)\", \"size\": 20}, \"hoverinfo\": \"none\", \"textposition\": \"middle center\", \"x\": [1.0], \"mode\": \"markers+text\", \"text\": [\"4\"], \"textfont\": {\"color\": \"rgb(0, 0, 0)\"}}, {\"y\": [0.0], \"marker\": {\"line\": {\"width\": 2, \"color\": \"rgb(0, 0, 0)\"}, \"color\": \"rgb(255, 255, 255)\", \"size\": 20}, \"hoverinfo\": \"none\", \"textposition\": \"middle center\", \"x\": [0.5], \"mode\": \"markers+text\", \"text\": [\"7\"], \"textfont\": {\"color\": \"rgb(0, 0, 0)\"}}, {\"y\": [0.0], \"marker\": {\"line\": {\"width\": 2, \"color\": \"rgb(0, 0, 0)\"}, \"color\": \"rgb(255, 255, 255)\", \"size\": 20}, \"hoverinfo\": \"none\", \"textposition\": \"middle center\", \"x\": [1.0], \"mode\": \"markers+text\", \"text\": [\"-2\"], \"textfont\": {\"color\": \"rgb(0, 0, 0)\"}}]}, {\"name\": 32, \"data\": [{\"y\": [0.5, 1.0, null, 0.966430854395385, 0.906182816233176, null, 0.966430854395385, 0.967759498957256, null], \"x\": [0.0, 0.5, null, 0.46643085439538495, 0.44538388103556675, null, 0.46643085439538495, 0.4285584341548651, null], \"line\": {\"width\": 2, \"color\": \"rgb(0, 0, 0)\"}, \"mode\": \"lines\", \"hoverinfo\": \"none\"}, {\"y\": [0.5, 0.0, null, 0.03356914560461503, 0.032240501042743994, null, 0.03356914560461503, 0.09381718376682407, null], \"x\": [0.0, 0.5, null, 0.46643085439538495, 0.4285584341548651, null, 0.46643085439538495, 0.44538388103556675, null], \"line\": {\"width\": 2, \"color\": \"rgb(255, 0, 0)\"}, \"mode\": \"lines\", \"hoverinfo\": \"none\"}, {\"y\": [1.0144927536231885, 1.0144927536231885, null, 1.0144927536231885, 1.049233734681464, null], \"x\": [0.5, 1.0, null, 0.9621212121212122, 0.9288794484132434, null], \"line\": {\"width\": 2, \"color\": \"rgb(0, 0, 0)\"}, \"mode\": \"lines\", \"hoverinfo\": \"none\"}, {\"y\": [1.0, 0.0, null, 0.07246376811594203, 0.13605670738336034, null, 0.07246376811594203, 0.13605670738336034, null], \"x\": [0.5, 0.5, null, 0.5, 0.48183994171953776, null, 0.5, 0.5181600582804622, null], \"line\": {\"width\": 2, \"color\": \"rgb(0, 0, 0)\"}, \"mode\": \"lines\", \"hoverinfo\": \"none\"}, {\"y\": [1.0, 0.0, null, 0.052365351967224576, 0.07430651885030926, null, 0.052365351967224576, 0.12233402455151593, null], \"x\": [0.5, 1.0, null, 0.9738173240163878, 0.9377166459078401, null, 0.9738173240163878, 0.9639630823912474, null], \"line\": {\"width\": 2, \"color\": \"rgb(0, 0, 0)\"}, \"mode\": \"lines\", \"hoverinfo\": \"none\"}, {\"y\": [0.9855072463768116, 0.9855072463768116, null, 0.9855072463768116, 0.950766265318536, null], \"x\": [1.0, 0.5, null, 0.5378787878787878, 0.5711205515867566, null], \"line\": {\"width\": 2, \"color\": \"rgb(0, 0, 0)\"}, \"mode\": \"lines\", \"hoverinfo\": \"none\"}, {\"y\": [0.0, 1.0, null, 0.9476346480327754, 0.8776659754484841, null, 0.9476346480327754, 0.9256934811496907, null], \"x\": [0.5, 1.0, null, 0.9738173240163878, 0.9639630823912474, null, 0.9738173240163878, 0.9377166459078401, null], \"line\": {\"width\": 2, \"color\": \"rgb(0, 0, 0)\"}, \"mode\": \"lines\", \"hoverinfo\": \"none\"}, {\"y\": [0.0, 0.0, null, 0.0, -0.03474098105827558, null, 0.0, 0.03474098105827558, null], \"x\": [0.5, 1.0, null, 0.9621212121212122, 0.9288794484132434, null, 0.9621212121212122, 0.9288794484132434, null], \"line\": {\"width\": 2, \"color\": \"rgb(0, 0, 0)\"}, \"mode\": \"lines\", \"hoverinfo\": \"none\"}, {\"y\": [0.0, 0.5, null, 0.481676128503406, 0.4992073320037643, null, 0.481676128503406, 0.4319835048195859, null], \"x\": [1.0, 0.0, null, 0.03664774299318793, 0.07340128670201525, null, 0.03664774299318793, 0.06421703965128427, null], \"line\": {\"width\": 2, \"color\": \"rgb(0, 0, 0)\"}, \"mode\": \"lines\", \"hoverinfo\": \"none\"}, {\"y\": [0.0, 1.0, null, 0.927536231884058, 0.8639432926166397, null, 0.927536231884058, 0.8639432926166397, null], \"x\": [1.0, 1.0, null, 1.0, 1.0181600582804622, null, 1.0, 0.9818399417195378, null], \"line\": {\"width\": 2, \"color\": \"rgb(0, 0, 0)\"}, \"mode\": \"lines\", \"hoverinfo\": \"none\"}, {\"y\": [0.5], \"marker\": {\"line\": {\"width\": 2, \"color\": \"rgb(0, 0, 0)\"}, \"color\": \"rgb(255, 255, 255)\", \"size\": 20}, \"hoverinfo\": \"none\", \"textposition\": \"middle center\", \"x\": [0.0], \"mode\": \"markers+text\", \"text\": [\"0\"], \"textfont\": {\"color\": \"rgb(0, 0, 0)\"}}, {\"y\": [1.0], \"marker\": {\"line\": {\"width\": 2, \"color\": \"rgb(0, 0, 0)\"}, \"color\": \"rgb(255, 255, 255)\", \"size\": 20}, \"hoverinfo\": \"none\", \"textposition\": \"middle center\", \"x\": [0.5], \"mode\": \"markers+text\", \"text\": [\"2\"], \"textfont\": {\"color\": \"rgb(0, 0, 0)\"}}, {\"y\": [1.0], \"marker\": {\"line\": {\"width\": 2, \"color\": \"rgb(0, 0, 0)\"}, \"color\": \"rgb(255, 255, 255)\", \"size\": 20}, \"hoverinfo\": \"none\", \"textposition\": \"middle center\", \"x\": [1.0], \"mode\": \"markers+text\", \"text\": [\"4\"], \"textfont\": {\"color\": \"rgb(0, 0, 0)\"}}, {\"y\": [0.0], \"marker\": {\"line\": {\"width\": 2, \"color\": \"rgb(0, 0, 0)\"}, \"color\": \"rgb(255, 255, 255)\", \"size\": 20}, \"hoverinfo\": \"none\", \"textposition\": \"middle center\", \"x\": [0.5], \"mode\": \"markers+text\", \"text\": [\"7\"], \"textfont\": {\"color\": \"rgb(0, 0, 0)\"}}, {\"y\": [0.0], \"marker\": {\"line\": {\"width\": 2, \"color\": \"rgb(0, 0, 0)\"}, \"color\": \"rgb(255, 255, 255)\", \"size\": 20}, \"hoverinfo\": \"none\", \"textposition\": \"middle center\", \"x\": [1.0], \"mode\": \"markers+text\", \"text\": [\"-2\"], \"textfont\": {\"color\": \"rgb(0, 0, 0)\"}}]}, {\"name\": 33, \"data\": [{\"y\": [0.5, 1.0, null, 0.966430854395385, 0.906182816233176, null, 0.966430854395385, 0.967759498957256, null], \"x\": [0.0, 0.5, null, 0.46643085439538495, 0.44538388103556675, null, 0.46643085439538495, 0.4285584341548651, null], \"line\": {\"width\": 2, \"color\": \"rgb(0, 0, 0)\"}, \"mode\": \"lines\", \"hoverinfo\": \"none\"}, {\"y\": [0.5, 0.0, null, 0.03356914560461503, 0.032240501042743994, null, 0.03356914560461503, 0.09381718376682407, null], \"x\": [0.0, 0.5, null, 0.46643085439538495, 0.4285584341548651, null, 0.46643085439538495, 0.44538388103556675, null], \"line\": {\"width\": 2, \"color\": \"rgb(0, 0, 0)\"}, \"mode\": \"lines\", \"hoverinfo\": \"none\"}, {\"y\": [1.0144927536231885, 1.0144927536231885, null, 1.0144927536231885, 1.049233734681464, null], \"x\": [0.5, 1.0, null, 0.9621212121212122, 0.9288794484132434, null], \"line\": {\"width\": 2, \"color\": \"rgb(255, 0, 0)\"}, \"mode\": \"lines\", \"hoverinfo\": \"none\"}, {\"y\": [1.0, 0.0, null, 0.07246376811594203, 0.13605670738336034, null, 0.07246376811594203, 0.13605670738336034, null], \"x\": [0.5, 0.5, null, 0.5, 0.48183994171953776, null, 0.5, 0.5181600582804622, null], \"line\": {\"width\": 2, \"color\": \"rgb(0, 0, 0)\"}, \"mode\": \"lines\", \"hoverinfo\": \"none\"}, {\"y\": [1.0, 0.0, null, 0.052365351967224576, 0.07430651885030926, null, 0.052365351967224576, 0.12233402455151593, null], \"x\": [0.5, 1.0, null, 0.9738173240163878, 0.9377166459078401, null, 0.9738173240163878, 0.9639630823912474, null], \"line\": {\"width\": 2, \"color\": \"rgb(0, 0, 0)\"}, \"mode\": \"lines\", \"hoverinfo\": \"none\"}, {\"y\": [0.9855072463768116, 0.9855072463768116, null, 0.9855072463768116, 0.950766265318536, null], \"x\": [1.0, 0.5, null, 0.5378787878787878, 0.5711205515867566, null], \"line\": {\"width\": 2, \"color\": \"rgb(0, 0, 0)\"}, \"mode\": \"lines\", \"hoverinfo\": \"none\"}, {\"y\": [0.0, 1.0, null, 0.9476346480327754, 0.8776659754484841, null, 0.9476346480327754, 0.9256934811496907, null], \"x\": [0.5, 1.0, null, 0.9738173240163878, 0.9639630823912474, null, 0.9738173240163878, 0.9377166459078401, null], \"line\": {\"width\": 2, \"color\": \"rgb(0, 0, 0)\"}, \"mode\": \"lines\", \"hoverinfo\": \"none\"}, {\"y\": [0.0, 0.0, null, 0.0, -0.03474098105827558, null, 0.0, 0.03474098105827558, null], \"x\": [0.5, 1.0, null, 0.9621212121212122, 0.9288794484132434, null, 0.9621212121212122, 0.9288794484132434, null], \"line\": {\"width\": 2, \"color\": \"rgb(0, 0, 0)\"}, \"mode\": \"lines\", \"hoverinfo\": \"none\"}, {\"y\": [0.0, 0.5, null, 0.481676128503406, 0.4992073320037643, null, 0.481676128503406, 0.4319835048195859, null], \"x\": [1.0, 0.0, null, 0.03664774299318793, 0.07340128670201525, null, 0.03664774299318793, 0.06421703965128427, null], \"line\": {\"width\": 2, \"color\": \"rgb(0, 0, 0)\"}, \"mode\": \"lines\", \"hoverinfo\": \"none\"}, {\"y\": [0.0, 1.0, null, 0.927536231884058, 0.8639432926166397, null, 0.927536231884058, 0.8639432926166397, null], \"x\": [1.0, 1.0, null, 1.0, 1.0181600582804622, null, 1.0, 0.9818399417195378, null], \"line\": {\"width\": 2, \"color\": \"rgb(0, 0, 0)\"}, \"mode\": \"lines\", \"hoverinfo\": \"none\"}, {\"y\": [0.5], \"marker\": {\"line\": {\"width\": 2, \"color\": \"rgb(0, 0, 0)\"}, \"color\": \"rgb(255, 255, 255)\", \"size\": 20}, \"hoverinfo\": \"none\", \"textposition\": \"middle center\", \"x\": [0.0], \"mode\": \"markers+text\", \"text\": [\"0\"], \"textfont\": {\"color\": \"rgb(0, 0, 0)\"}}, {\"y\": [1.0], \"marker\": {\"line\": {\"width\": 2, \"color\": \"rgb(0, 0, 0)\"}, \"color\": \"rgb(255, 255, 255)\", \"size\": 20}, \"hoverinfo\": \"none\", \"textposition\": \"middle center\", \"x\": [0.5], \"mode\": \"markers+text\", \"text\": [\"2\"], \"textfont\": {\"color\": \"rgb(0, 0, 0)\"}}, {\"y\": [1.0], \"marker\": {\"line\": {\"width\": 2, \"color\": \"rgb(0, 0, 0)\"}, \"color\": \"rgb(255, 255, 255)\", \"size\": 20}, \"hoverinfo\": \"none\", \"textposition\": \"middle center\", \"x\": [1.0], \"mode\": \"markers+text\", \"text\": [\"4\"], \"textfont\": {\"color\": \"rgb(0, 0, 0)\"}}, {\"y\": [0.0], \"marker\": {\"line\": {\"width\": 2, \"color\": \"rgb(0, 0, 0)\"}, \"color\": \"rgb(255, 255, 255)\", \"size\": 20}, \"hoverinfo\": \"none\", \"textposition\": \"middle center\", \"x\": [0.5], \"mode\": \"markers+text\", \"text\": [\"7\"], \"textfont\": {\"color\": \"rgb(0, 0, 0)\"}}, {\"y\": [0.0], \"marker\": {\"line\": {\"width\": 2, \"color\": \"rgb(0, 0, 0)\"}, \"color\": \"rgb(255, 255, 255)\", \"size\": 20}, \"hoverinfo\": \"none\", \"textposition\": \"middle center\", \"x\": [1.0], \"mode\": \"markers+text\", \"text\": [\"-2\"], \"textfont\": {\"color\": \"rgb(0, 0, 0)\"}}]}, {\"name\": 34, \"data\": [{\"y\": [0.5, 1.0, null, 0.966430854395385, 0.906182816233176, null, 0.966430854395385, 0.967759498957256, null], \"x\": [0.0, 0.5, null, 0.46643085439538495, 0.44538388103556675, null, 0.46643085439538495, 0.4285584341548651, null], \"line\": {\"width\": 2, \"color\": \"rgb(0, 0, 0)\"}, \"mode\": \"lines\", \"hoverinfo\": \"none\"}, {\"y\": [0.5, 0.0, null, 0.03356914560461503, 0.032240501042743994, null, 0.03356914560461503, 0.09381718376682407, null], \"x\": [0.0, 0.5, null, 0.46643085439538495, 0.4285584341548651, null, 0.46643085439538495, 0.44538388103556675, null], \"line\": {\"width\": 2, \"color\": \"rgb(0, 0, 0)\"}, \"mode\": \"lines\", \"hoverinfo\": \"none\"}, {\"y\": [1.0144927536231885, 1.0144927536231885, null, 1.0144927536231885, 1.049233734681464, null], \"x\": [0.5, 1.0, null, 0.9621212121212122, 0.9288794484132434, null], \"line\": {\"width\": 2, \"color\": \"rgb(0, 0, 0)\"}, \"mode\": \"lines\", \"hoverinfo\": \"none\"}, {\"y\": [1.0, 0.0, null, 0.07246376811594203, 0.13605670738336034, null, 0.07246376811594203, 0.13605670738336034, null], \"x\": [0.5, 0.5, null, 0.5, 0.48183994171953776, null, 0.5, 0.5181600582804622, null], \"line\": {\"width\": 2, \"color\": \"rgb(255, 0, 0)\"}, \"mode\": \"lines\", \"hoverinfo\": \"none\"}, {\"y\": [1.0, 0.0, null, 0.052365351967224576, 0.07430651885030926, null, 0.052365351967224576, 0.12233402455151593, null], \"x\": [0.5, 1.0, null, 0.9738173240163878, 0.9377166459078401, null, 0.9738173240163878, 0.9639630823912474, null], \"line\": {\"width\": 2, \"color\": \"rgb(0, 0, 0)\"}, \"mode\": \"lines\", \"hoverinfo\": \"none\"}, {\"y\": [0.9855072463768116, 0.9855072463768116, null, 0.9855072463768116, 0.950766265318536, null], \"x\": [1.0, 0.5, null, 0.5378787878787878, 0.5711205515867566, null], \"line\": {\"width\": 2, \"color\": \"rgb(0, 0, 0)\"}, \"mode\": \"lines\", \"hoverinfo\": \"none\"}, {\"y\": [0.0, 1.0, null, 0.9476346480327754, 0.8776659754484841, null, 0.9476346480327754, 0.9256934811496907, null], \"x\": [0.5, 1.0, null, 0.9738173240163878, 0.9639630823912474, null, 0.9738173240163878, 0.9377166459078401, null], \"line\": {\"width\": 2, \"color\": \"rgb(0, 0, 0)\"}, \"mode\": \"lines\", \"hoverinfo\": \"none\"}, {\"y\": [0.0, 0.0, null, 0.0, -0.03474098105827558, null, 0.0, 0.03474098105827558, null], \"x\": [0.5, 1.0, null, 0.9621212121212122, 0.9288794484132434, null, 0.9621212121212122, 0.9288794484132434, null], \"line\": {\"width\": 2, \"color\": \"rgb(0, 0, 0)\"}, \"mode\": \"lines\", \"hoverinfo\": \"none\"}, {\"y\": [0.0, 0.5, null, 0.481676128503406, 0.4992073320037643, null, 0.481676128503406, 0.4319835048195859, null], \"x\": [1.0, 0.0, null, 0.03664774299318793, 0.07340128670201525, null, 0.03664774299318793, 0.06421703965128427, null], \"line\": {\"width\": 2, \"color\": \"rgb(0, 0, 0)\"}, \"mode\": \"lines\", \"hoverinfo\": \"none\"}, {\"y\": [0.0, 1.0, null, 0.927536231884058, 0.8639432926166397, null, 0.927536231884058, 0.8639432926166397, null], \"x\": [1.0, 1.0, null, 1.0, 1.0181600582804622, null, 1.0, 0.9818399417195378, null], \"line\": {\"width\": 2, \"color\": \"rgb(0, 0, 0)\"}, \"mode\": \"lines\", \"hoverinfo\": \"none\"}, {\"y\": [0.5], \"marker\": {\"line\": {\"width\": 2, \"color\": \"rgb(0, 0, 0)\"}, \"color\": \"rgb(255, 255, 255)\", \"size\": 20}, \"hoverinfo\": \"none\", \"textposition\": \"middle center\", \"x\": [0.0], \"mode\": \"markers+text\", \"text\": [\"0\"], \"textfont\": {\"color\": \"rgb(0, 0, 0)\"}}, {\"y\": [1.0], \"marker\": {\"line\": {\"width\": 2, \"color\": \"rgb(0, 0, 0)\"}, \"color\": \"rgb(255, 255, 255)\", \"size\": 20}, \"hoverinfo\": \"none\", \"textposition\": \"middle center\", \"x\": [0.5], \"mode\": \"markers+text\", \"text\": [\"2\"], \"textfont\": {\"color\": \"rgb(0, 0, 0)\"}}, {\"y\": [1.0], \"marker\": {\"line\": {\"width\": 2, \"color\": \"rgb(0, 0, 0)\"}, \"color\": \"rgb(255, 255, 255)\", \"size\": 20}, \"hoverinfo\": \"none\", \"textposition\": \"middle center\", \"x\": [1.0], \"mode\": \"markers+text\", \"text\": [\"4\"], \"textfont\": {\"color\": \"rgb(0, 0, 0)\"}}, {\"y\": [0.0], \"marker\": {\"line\": {\"width\": 2, \"color\": \"rgb(0, 0, 0)\"}, \"color\": \"rgb(255, 255, 255)\", \"size\": 20}, \"hoverinfo\": \"none\", \"textposition\": \"middle center\", \"x\": [0.5], \"mode\": \"markers+text\", \"text\": [\"7\"], \"textfont\": {\"color\": \"rgb(0, 0, 0)\"}}, {\"y\": [0.0], \"marker\": {\"line\": {\"width\": 2, \"color\": \"rgb(0, 0, 0)\"}, \"color\": \"rgb(255, 255, 255)\", \"size\": 20}, \"hoverinfo\": \"none\", \"textposition\": \"middle center\", \"x\": [1.0], \"mode\": \"markers+text\", \"text\": [\"-2\"], \"textfont\": {\"color\": \"rgb(0, 0, 0)\"}}]}, {\"name\": 35, \"data\": [{\"y\": [0.5, 1.0, null, 0.966430854395385, 0.906182816233176, null, 0.966430854395385, 0.967759498957256, null], \"x\": [0.0, 0.5, null, 0.46643085439538495, 0.44538388103556675, null, 0.46643085439538495, 0.4285584341548651, null], \"line\": {\"width\": 2, \"color\": \"rgb(0, 0, 0)\"}, \"mode\": \"lines\", \"hoverinfo\": \"none\"}, {\"y\": [0.5, 0.0, null, 0.03356914560461503, 0.032240501042743994, null, 0.03356914560461503, 0.09381718376682407, null], \"x\": [0.0, 0.5, null, 0.46643085439538495, 0.4285584341548651, null, 0.46643085439538495, 0.44538388103556675, null], \"line\": {\"width\": 2, \"color\": \"rgb(0, 0, 0)\"}, \"mode\": \"lines\", \"hoverinfo\": \"none\"}, {\"y\": [1.0144927536231885, 1.0144927536231885, null, 1.0144927536231885, 1.049233734681464, null], \"x\": [0.5, 1.0, null, 0.9621212121212122, 0.9288794484132434, null], \"line\": {\"width\": 2, \"color\": \"rgb(0, 0, 0)\"}, \"mode\": \"lines\", \"hoverinfo\": \"none\"}, {\"y\": [1.0, 0.0, null, 0.07246376811594203, 0.13605670738336034, null, 0.07246376811594203, 0.13605670738336034, null], \"x\": [0.5, 0.5, null, 0.5, 0.48183994171953776, null, 0.5, 0.5181600582804622, null], \"line\": {\"width\": 2, \"color\": \"rgb(0, 0, 0)\"}, \"mode\": \"lines\", \"hoverinfo\": \"none\"}, {\"y\": [1.0, 0.0, null, 0.052365351967224576, 0.07430651885030926, null, 0.052365351967224576, 0.12233402455151593, null], \"x\": [0.5, 1.0, null, 0.9738173240163878, 0.9377166459078401, null, 0.9738173240163878, 0.9639630823912474, null], \"line\": {\"width\": 2, \"color\": \"rgb(255, 0, 0)\"}, \"mode\": \"lines\", \"hoverinfo\": \"none\"}, {\"y\": [0.9855072463768116, 0.9855072463768116, null, 0.9855072463768116, 0.950766265318536, null], \"x\": [1.0, 0.5, null, 0.5378787878787878, 0.5711205515867566, null], \"line\": {\"width\": 2, \"color\": \"rgb(0, 0, 0)\"}, \"mode\": \"lines\", \"hoverinfo\": \"none\"}, {\"y\": [0.0, 1.0, null, 0.9476346480327754, 0.8776659754484841, null, 0.9476346480327754, 0.9256934811496907, null], \"x\": [0.5, 1.0, null, 0.9738173240163878, 0.9639630823912474, null, 0.9738173240163878, 0.9377166459078401, null], \"line\": {\"width\": 2, \"color\": \"rgb(0, 0, 0)\"}, \"mode\": \"lines\", \"hoverinfo\": \"none\"}, {\"y\": [0.0, 0.0, null, 0.0, -0.03474098105827558, null, 0.0, 0.03474098105827558, null], \"x\": [0.5, 1.0, null, 0.9621212121212122, 0.9288794484132434, null, 0.9621212121212122, 0.9288794484132434, null], \"line\": {\"width\": 2, \"color\": \"rgb(0, 0, 0)\"}, \"mode\": \"lines\", \"hoverinfo\": \"none\"}, {\"y\": [0.0, 0.5, null, 0.481676128503406, 0.4992073320037643, null, 0.481676128503406, 0.4319835048195859, null], \"x\": [1.0, 0.0, null, 0.03664774299318793, 0.07340128670201525, null, 0.03664774299318793, 0.06421703965128427, null], \"line\": {\"width\": 2, \"color\": \"rgb(0, 0, 0)\"}, \"mode\": \"lines\", \"hoverinfo\": \"none\"}, {\"y\": [0.0, 1.0, null, 0.927536231884058, 0.8639432926166397, null, 0.927536231884058, 0.8639432926166397, null], \"x\": [1.0, 1.0, null, 1.0, 1.0181600582804622, null, 1.0, 0.9818399417195378, null], \"line\": {\"width\": 2, \"color\": \"rgb(0, 0, 0)\"}, \"mode\": \"lines\", \"hoverinfo\": \"none\"}, {\"y\": [0.5], \"marker\": {\"line\": {\"width\": 2, \"color\": \"rgb(0, 0, 0)\"}, \"color\": \"rgb(255, 255, 255)\", \"size\": 20}, \"hoverinfo\": \"none\", \"textposition\": \"middle center\", \"x\": [0.0], \"mode\": \"markers+text\", \"text\": [\"0\"], \"textfont\": {\"color\": \"rgb(0, 0, 0)\"}}, {\"y\": [1.0], \"marker\": {\"line\": {\"width\": 2, \"color\": \"rgb(0, 0, 0)\"}, \"color\": \"rgb(255, 255, 255)\", \"size\": 20}, \"hoverinfo\": \"none\", \"textposition\": \"middle center\", \"x\": [0.5], \"mode\": \"markers+text\", \"text\": [\"2\"], \"textfont\": {\"color\": \"rgb(0, 0, 0)\"}}, {\"y\": [1.0], \"marker\": {\"line\": {\"width\": 2, \"color\": \"rgb(0, 0, 0)\"}, \"color\": \"rgb(255, 255, 255)\", \"size\": 20}, \"hoverinfo\": \"none\", \"textposition\": \"middle center\", \"x\": [1.0], \"mode\": \"markers+text\", \"text\": [\"4\"], \"textfont\": {\"color\": \"rgb(0, 0, 0)\"}}, {\"y\": [0.0], \"marker\": {\"line\": {\"width\": 2, \"color\": \"rgb(0, 0, 0)\"}, \"color\": \"rgb(255, 255, 255)\", \"size\": 20}, \"hoverinfo\": \"none\", \"textposition\": \"middle center\", \"x\": [0.5], \"mode\": \"markers+text\", \"text\": [\"7\"], \"textfont\": {\"color\": \"rgb(0, 0, 0)\"}}, {\"y\": [0.0], \"marker\": {\"line\": {\"width\": 2, \"color\": \"rgb(0, 0, 0)\"}, \"color\": \"rgb(255, 255, 255)\", \"size\": 20}, \"hoverinfo\": \"none\", \"textposition\": \"middle center\", \"x\": [1.0], \"mode\": \"markers+text\", \"text\": [\"-2\"], \"textfont\": {\"color\": \"rgb(0, 0, 0)\"}}]}, {\"name\": 36, \"data\": [{\"y\": [0.5, 1.0, null, 0.966430854395385, 0.906182816233176, null, 0.966430854395385, 0.967759498957256, null], \"x\": [0.0, 0.5, null, 0.46643085439538495, 0.44538388103556675, null, 0.46643085439538495, 0.4285584341548651, null], \"line\": {\"width\": 2, \"color\": \"rgb(0, 0, 0)\"}, \"mode\": \"lines\", \"hoverinfo\": \"none\"}, {\"y\": [0.5, 0.0, null, 0.03356914560461503, 0.032240501042743994, null, 0.03356914560461503, 0.09381718376682407, null], \"x\": [0.0, 0.5, null, 0.46643085439538495, 0.4285584341548651, null, 0.46643085439538495, 0.44538388103556675, null], \"line\": {\"width\": 2, \"color\": \"rgb(0, 0, 0)\"}, \"mode\": \"lines\", \"hoverinfo\": \"none\"}, {\"y\": [1.0144927536231885, 1.0144927536231885, null, 1.0144927536231885, 1.049233734681464, null], \"x\": [0.5, 1.0, null, 0.9621212121212122, 0.9288794484132434, null], \"line\": {\"width\": 2, \"color\": \"rgb(0, 0, 0)\"}, \"mode\": \"lines\", \"hoverinfo\": \"none\"}, {\"y\": [1.0, 0.0, null, 0.07246376811594203, 0.13605670738336034, null, 0.07246376811594203, 0.13605670738336034, null], \"x\": [0.5, 0.5, null, 0.5, 0.48183994171953776, null, 0.5, 0.5181600582804622, null], \"line\": {\"width\": 2, \"color\": \"rgb(0, 0, 0)\"}, \"mode\": \"lines\", \"hoverinfo\": \"none\"}, {\"y\": [1.0, 0.0, null, 0.052365351967224576, 0.07430651885030926, null, 0.052365351967224576, 0.12233402455151593, null], \"x\": [0.5, 1.0, null, 0.9738173240163878, 0.9377166459078401, null, 0.9738173240163878, 0.9639630823912474, null], \"line\": {\"width\": 2, \"color\": \"rgb(0, 0, 0)\"}, \"mode\": \"lines\", \"hoverinfo\": \"none\"}, {\"y\": [0.9855072463768116, 0.9855072463768116, null, 0.9855072463768116, 0.950766265318536, null], \"x\": [1.0, 0.5, null, 0.5378787878787878, 0.5711205515867566, null], \"line\": {\"width\": 2, \"color\": \"rgb(255, 0, 0)\"}, \"mode\": \"lines\", \"hoverinfo\": \"none\"}, {\"y\": [0.0, 1.0, null, 0.9476346480327754, 0.8776659754484841, null, 0.9476346480327754, 0.9256934811496907, null], \"x\": [0.5, 1.0, null, 0.9738173240163878, 0.9639630823912474, null, 0.9738173240163878, 0.9377166459078401, null], \"line\": {\"width\": 2, \"color\": \"rgb(0, 0, 0)\"}, \"mode\": \"lines\", \"hoverinfo\": \"none\"}, {\"y\": [0.0, 0.0, null, 0.0, -0.03474098105827558, null, 0.0, 0.03474098105827558, null], \"x\": [0.5, 1.0, null, 0.9621212121212122, 0.9288794484132434, null, 0.9621212121212122, 0.9288794484132434, null], \"line\": {\"width\": 2, \"color\": \"rgb(0, 0, 0)\"}, \"mode\": \"lines\", \"hoverinfo\": \"none\"}, {\"y\": [0.0, 0.5, null, 0.481676128503406, 0.4992073320037643, null, 0.481676128503406, 0.4319835048195859, null], \"x\": [1.0, 0.0, null, 0.03664774299318793, 0.07340128670201525, null, 0.03664774299318793, 0.06421703965128427, null], \"line\": {\"width\": 2, \"color\": \"rgb(0, 0, 0)\"}, \"mode\": \"lines\", \"hoverinfo\": \"none\"}, {\"y\": [0.0, 1.0, null, 0.927536231884058, 0.8639432926166397, null, 0.927536231884058, 0.8639432926166397, null], \"x\": [1.0, 1.0, null, 1.0, 1.0181600582804622, null, 1.0, 0.9818399417195378, null], \"line\": {\"width\": 2, \"color\": \"rgb(0, 0, 0)\"}, \"mode\": \"lines\", \"hoverinfo\": \"none\"}, {\"y\": [0.5], \"marker\": {\"line\": {\"width\": 2, \"color\": \"rgb(0, 0, 0)\"}, \"color\": \"rgb(255, 255, 255)\", \"size\": 20}, \"hoverinfo\": \"none\", \"textposition\": \"middle center\", \"x\": [0.0], \"mode\": \"markers+text\", \"text\": [\"0\"], \"textfont\": {\"color\": \"rgb(0, 0, 0)\"}}, {\"y\": [1.0], \"marker\": {\"line\": {\"width\": 2, \"color\": \"rgb(0, 0, 0)\"}, \"color\": \"rgb(255, 255, 255)\", \"size\": 20}, \"hoverinfo\": \"none\", \"textposition\": \"middle center\", \"x\": [0.5], \"mode\": \"markers+text\", \"text\": [\"2\"], \"textfont\": {\"color\": \"rgb(0, 0, 0)\"}}, {\"y\": [1.0], \"marker\": {\"line\": {\"width\": 2, \"color\": \"rgb(0, 0, 0)\"}, \"color\": \"rgb(255, 255, 255)\", \"size\": 20}, \"hoverinfo\": \"none\", \"textposition\": \"middle center\", \"x\": [1.0], \"mode\": \"markers+text\", \"text\": [\"4\"], \"textfont\": {\"color\": \"rgb(0, 0, 0)\"}}, {\"y\": [0.0], \"marker\": {\"line\": {\"width\": 2, \"color\": \"rgb(0, 0, 0)\"}, \"color\": \"rgb(255, 255, 255)\", \"size\": 20}, \"hoverinfo\": \"none\", \"textposition\": \"middle center\", \"x\": [0.5], \"mode\": \"markers+text\", \"text\": [\"7\"], \"textfont\": {\"color\": \"rgb(0, 0, 0)\"}}, {\"y\": [0.0], \"marker\": {\"line\": {\"width\": 2, \"color\": \"rgb(0, 0, 0)\"}, \"color\": \"rgb(255, 255, 255)\", \"size\": 20}, \"hoverinfo\": \"none\", \"textposition\": \"middle center\", \"x\": [1.0], \"mode\": \"markers+text\", \"text\": [\"-2\"], \"textfont\": {\"color\": \"rgb(0, 0, 0)\"}}]}, {\"name\": 37, \"data\": [{\"y\": [0.5, 1.0, null, 0.966430854395385, 0.906182816233176, null, 0.966430854395385, 0.967759498957256, null], \"x\": [0.0, 0.5, null, 0.46643085439538495, 0.44538388103556675, null, 0.46643085439538495, 0.4285584341548651, null], \"line\": {\"width\": 2, \"color\": \"rgb(0, 0, 0)\"}, \"mode\": \"lines\", \"hoverinfo\": \"none\"}, {\"y\": [0.5, 0.0, null, 0.03356914560461503, 0.032240501042743994, null, 0.03356914560461503, 0.09381718376682407, null], \"x\": [0.0, 0.5, null, 0.46643085439538495, 0.4285584341548651, null, 0.46643085439538495, 0.44538388103556675, null], \"line\": {\"width\": 2, \"color\": \"rgb(0, 0, 0)\"}, \"mode\": \"lines\", \"hoverinfo\": \"none\"}, {\"y\": [1.0144927536231885, 1.0144927536231885, null, 1.0144927536231885, 1.049233734681464, null], \"x\": [0.5, 1.0, null, 0.9621212121212122, 0.9288794484132434, null], \"line\": {\"width\": 2, \"color\": \"rgb(0, 0, 0)\"}, \"mode\": \"lines\", \"hoverinfo\": \"none\"}, {\"y\": [1.0, 0.0, null, 0.07246376811594203, 0.13605670738336034, null, 0.07246376811594203, 0.13605670738336034, null], \"x\": [0.5, 0.5, null, 0.5, 0.48183994171953776, null, 0.5, 0.5181600582804622, null], \"line\": {\"width\": 2, \"color\": \"rgb(0, 0, 0)\"}, \"mode\": \"lines\", \"hoverinfo\": \"none\"}, {\"y\": [1.0, 0.0, null, 0.052365351967224576, 0.07430651885030926, null, 0.052365351967224576, 0.12233402455151593, null], \"x\": [0.5, 1.0, null, 0.9738173240163878, 0.9377166459078401, null, 0.9738173240163878, 0.9639630823912474, null], \"line\": {\"width\": 2, \"color\": \"rgb(0, 0, 0)\"}, \"mode\": \"lines\", \"hoverinfo\": \"none\"}, {\"y\": [0.9855072463768116, 0.9855072463768116, null, 0.9855072463768116, 0.950766265318536, null], \"x\": [1.0, 0.5, null, 0.5378787878787878, 0.5711205515867566, null], \"line\": {\"width\": 2, \"color\": \"rgb(0, 0, 0)\"}, \"mode\": \"lines\", \"hoverinfo\": \"none\"}, {\"y\": [0.0, 1.0, null, 0.9476346480327754, 0.8776659754484841, null, 0.9476346480327754, 0.9256934811496907, null], \"x\": [0.5, 1.0, null, 0.9738173240163878, 0.9639630823912474, null, 0.9738173240163878, 0.9377166459078401, null], \"line\": {\"width\": 2, \"color\": \"rgb(255, 0, 0)\"}, \"mode\": \"lines\", \"hoverinfo\": \"none\"}, {\"y\": [0.0, 0.0, null, 0.0, -0.03474098105827558, null, 0.0, 0.03474098105827558, null], \"x\": [0.5, 1.0, null, 0.9621212121212122, 0.9288794484132434, null, 0.9621212121212122, 0.9288794484132434, null], \"line\": {\"width\": 2, \"color\": \"rgb(0, 0, 0)\"}, \"mode\": \"lines\", \"hoverinfo\": \"none\"}, {\"y\": [0.0, 0.5, null, 0.481676128503406, 0.4992073320037643, null, 0.481676128503406, 0.4319835048195859, null], \"x\": [1.0, 0.0, null, 0.03664774299318793, 0.07340128670201525, null, 0.03664774299318793, 0.06421703965128427, null], \"line\": {\"width\": 2, \"color\": \"rgb(0, 0, 0)\"}, \"mode\": \"lines\", \"hoverinfo\": \"none\"}, {\"y\": [0.0, 1.0, null, 0.927536231884058, 0.8639432926166397, null, 0.927536231884058, 0.8639432926166397, null], \"x\": [1.0, 1.0, null, 1.0, 1.0181600582804622, null, 1.0, 0.9818399417195378, null], \"line\": {\"width\": 2, \"color\": \"rgb(0, 0, 0)\"}, \"mode\": \"lines\", \"hoverinfo\": \"none\"}, {\"y\": [0.5], \"marker\": {\"line\": {\"width\": 2, \"color\": \"rgb(0, 0, 0)\"}, \"color\": \"rgb(255, 255, 255)\", \"size\": 20}, \"hoverinfo\": \"none\", \"textposition\": \"middle center\", \"x\": [0.0], \"mode\": \"markers+text\", \"text\": [\"0\"], \"textfont\": {\"color\": \"rgb(0, 0, 0)\"}}, {\"y\": [1.0], \"marker\": {\"line\": {\"width\": 2, \"color\": \"rgb(0, 0, 0)\"}, \"color\": \"rgb(255, 255, 255)\", \"size\": 20}, \"hoverinfo\": \"none\", \"textposition\": \"middle center\", \"x\": [0.5], \"mode\": \"markers+text\", \"text\": [\"2\"], \"textfont\": {\"color\": \"rgb(0, 0, 0)\"}}, {\"y\": [1.0], \"marker\": {\"line\": {\"width\": 2, \"color\": \"rgb(0, 0, 0)\"}, \"color\": \"rgb(255, 255, 255)\", \"size\": 20}, \"hoverinfo\": \"none\", \"textposition\": \"middle center\", \"x\": [1.0], \"mode\": \"markers+text\", \"text\": [\"4\"], \"textfont\": {\"color\": \"rgb(0, 0, 0)\"}}, {\"y\": [0.0], \"marker\": {\"line\": {\"width\": 2, \"color\": \"rgb(0, 0, 0)\"}, \"color\": \"rgb(255, 255, 255)\", \"size\": 20}, \"hoverinfo\": \"none\", \"textposition\": \"middle center\", \"x\": [0.5], \"mode\": \"markers+text\", \"text\": [\"7\"], \"textfont\": {\"color\": \"rgb(0, 0, 0)\"}}, {\"y\": [0.0], \"marker\": {\"line\": {\"width\": 2, \"color\": \"rgb(0, 0, 0)\"}, \"color\": \"rgb(255, 255, 255)\", \"size\": 20}, \"hoverinfo\": \"none\", \"textposition\": \"middle center\", \"x\": [1.0], \"mode\": \"markers+text\", \"text\": [\"-2\"], \"textfont\": {\"color\": \"rgb(0, 0, 0)\"}}]}, {\"name\": 38, \"data\": [{\"y\": [0.5, 1.0, null, 0.966430854395385, 0.906182816233176, null, 0.966430854395385, 0.967759498957256, null], \"x\": [0.0, 0.5, null, 0.46643085439538495, 0.44538388103556675, null, 0.46643085439538495, 0.4285584341548651, null], \"line\": {\"width\": 2, \"color\": \"rgb(0, 0, 0)\"}, \"mode\": \"lines\", \"hoverinfo\": \"none\"}, {\"y\": [0.5, 0.0, null, 0.03356914560461503, 0.032240501042743994, null, 0.03356914560461503, 0.09381718376682407, null], \"x\": [0.0, 0.5, null, 0.46643085439538495, 0.4285584341548651, null, 0.46643085439538495, 0.44538388103556675, null], \"line\": {\"width\": 2, \"color\": \"rgb(0, 0, 0)\"}, \"mode\": \"lines\", \"hoverinfo\": \"none\"}, {\"y\": [1.0144927536231885, 1.0144927536231885, null, 1.0144927536231885, 1.049233734681464, null], \"x\": [0.5, 1.0, null, 0.9621212121212122, 0.9288794484132434, null], \"line\": {\"width\": 2, \"color\": \"rgb(0, 0, 0)\"}, \"mode\": \"lines\", \"hoverinfo\": \"none\"}, {\"y\": [1.0, 0.0, null, 0.07246376811594203, 0.13605670738336034, null, 0.07246376811594203, 0.13605670738336034, null], \"x\": [0.5, 0.5, null, 0.5, 0.48183994171953776, null, 0.5, 0.5181600582804622, null], \"line\": {\"width\": 2, \"color\": \"rgb(0, 0, 0)\"}, \"mode\": \"lines\", \"hoverinfo\": \"none\"}, {\"y\": [1.0, 0.0, null, 0.052365351967224576, 0.07430651885030926, null, 0.052365351967224576, 0.12233402455151593, null], \"x\": [0.5, 1.0, null, 0.9738173240163878, 0.9377166459078401, null, 0.9738173240163878, 0.9639630823912474, null], \"line\": {\"width\": 2, \"color\": \"rgb(0, 0, 0)\"}, \"mode\": \"lines\", \"hoverinfo\": \"none\"}, {\"y\": [0.9855072463768116, 0.9855072463768116, null, 0.9855072463768116, 0.950766265318536, null], \"x\": [1.0, 0.5, null, 0.5378787878787878, 0.5711205515867566, null], \"line\": {\"width\": 2, \"color\": \"rgb(0, 0, 0)\"}, \"mode\": \"lines\", \"hoverinfo\": \"none\"}, {\"y\": [0.0, 1.0, null, 0.9476346480327754, 0.8776659754484841, null, 0.9476346480327754, 0.9256934811496907, null], \"x\": [0.5, 1.0, null, 0.9738173240163878, 0.9639630823912474, null, 0.9738173240163878, 0.9377166459078401, null], \"line\": {\"width\": 2, \"color\": \"rgb(0, 0, 0)\"}, \"mode\": \"lines\", \"hoverinfo\": \"none\"}, {\"y\": [0.0, 0.0, null, 0.0, -0.03474098105827558, null, 0.0, 0.03474098105827558, null], \"x\": [0.5, 1.0, null, 0.9621212121212122, 0.9288794484132434, null, 0.9621212121212122, 0.9288794484132434, null], \"line\": {\"width\": 2, \"color\": \"rgb(255, 0, 0)\"}, \"mode\": \"lines\", \"hoverinfo\": \"none\"}, {\"y\": [0.0, 0.5, null, 0.481676128503406, 0.4992073320037643, null, 0.481676128503406, 0.4319835048195859, null], \"x\": [1.0, 0.0, null, 0.03664774299318793, 0.07340128670201525, null, 0.03664774299318793, 0.06421703965128427, null], \"line\": {\"width\": 2, \"color\": \"rgb(0, 0, 0)\"}, \"mode\": \"lines\", \"hoverinfo\": \"none\"}, {\"y\": [0.0, 1.0, null, 0.927536231884058, 0.8639432926166397, null, 0.927536231884058, 0.8639432926166397, null], \"x\": [1.0, 1.0, null, 1.0, 1.0181600582804622, null, 1.0, 0.9818399417195378, null], \"line\": {\"width\": 2, \"color\": \"rgb(0, 0, 0)\"}, \"mode\": \"lines\", \"hoverinfo\": \"none\"}, {\"y\": [0.5], \"marker\": {\"line\": {\"width\": 2, \"color\": \"rgb(0, 0, 0)\"}, \"color\": \"rgb(255, 255, 255)\", \"size\": 20}, \"hoverinfo\": \"none\", \"textposition\": \"middle center\", \"x\": [0.0], \"mode\": \"markers+text\", \"text\": [\"0\"], \"textfont\": {\"color\": \"rgb(0, 0, 0)\"}}, {\"y\": [1.0], \"marker\": {\"line\": {\"width\": 2, \"color\": \"rgb(0, 0, 0)\"}, \"color\": \"rgb(255, 255, 255)\", \"size\": 20}, \"hoverinfo\": \"none\", \"textposition\": \"middle center\", \"x\": [0.5], \"mode\": \"markers+text\", \"text\": [\"2\"], \"textfont\": {\"color\": \"rgb(0, 0, 0)\"}}, {\"y\": [1.0], \"marker\": {\"line\": {\"width\": 2, \"color\": \"rgb(0, 0, 0)\"}, \"color\": \"rgb(255, 255, 255)\", \"size\": 20}, \"hoverinfo\": \"none\", \"textposition\": \"middle center\", \"x\": [1.0], \"mode\": \"markers+text\", \"text\": [\"4\"], \"textfont\": {\"color\": \"rgb(0, 0, 0)\"}}, {\"y\": [0.0], \"marker\": {\"line\": {\"width\": 2, \"color\": \"rgb(0, 0, 0)\"}, \"color\": \"rgb(255, 255, 255)\", \"size\": 20}, \"hoverinfo\": \"none\", \"textposition\": \"middle center\", \"x\": [0.5], \"mode\": \"markers+text\", \"text\": [\"7\"], \"textfont\": {\"color\": \"rgb(0, 0, 0)\"}}, {\"y\": [0.0], \"marker\": {\"line\": {\"width\": 2, \"color\": \"rgb(0, 0, 0)\"}, \"color\": \"rgb(255, 255, 255)\", \"size\": 20}, \"hoverinfo\": \"none\", \"textposition\": \"middle center\", \"x\": [1.0], \"mode\": \"markers+text\", \"text\": [\"-2\"], \"textfont\": {\"color\": \"rgb(0, 0, 0)\"}}]}, {\"name\": 39, \"data\": [{\"y\": [0.5, 1.0, null, 0.966430854395385, 0.906182816233176, null, 0.966430854395385, 0.967759498957256, null], \"x\": [0.0, 0.5, null, 0.46643085439538495, 0.44538388103556675, null, 0.46643085439538495, 0.4285584341548651, null], \"line\": {\"width\": 2, \"color\": \"rgb(0, 0, 0)\"}, \"mode\": \"lines\", \"hoverinfo\": \"none\"}, {\"y\": [0.5, 0.0, null, 0.03356914560461503, 0.032240501042743994, null, 0.03356914560461503, 0.09381718376682407, null], \"x\": [0.0, 0.5, null, 0.46643085439538495, 0.4285584341548651, null, 0.46643085439538495, 0.44538388103556675, null], \"line\": {\"width\": 2, \"color\": \"rgb(0, 0, 0)\"}, \"mode\": \"lines\", \"hoverinfo\": \"none\"}, {\"y\": [1.0144927536231885, 1.0144927536231885, null, 1.0144927536231885, 1.049233734681464, null], \"x\": [0.5, 1.0, null, 0.9621212121212122, 0.9288794484132434, null], \"line\": {\"width\": 2, \"color\": \"rgb(0, 0, 0)\"}, \"mode\": \"lines\", \"hoverinfo\": \"none\"}, {\"y\": [1.0, 0.0, null, 0.07246376811594203, 0.13605670738336034, null, 0.07246376811594203, 0.13605670738336034, null], \"x\": [0.5, 0.5, null, 0.5, 0.48183994171953776, null, 0.5, 0.5181600582804622, null], \"line\": {\"width\": 2, \"color\": \"rgb(0, 0, 0)\"}, \"mode\": \"lines\", \"hoverinfo\": \"none\"}, {\"y\": [1.0, 0.0, null, 0.052365351967224576, 0.07430651885030926, null, 0.052365351967224576, 0.12233402455151593, null], \"x\": [0.5, 1.0, null, 0.9738173240163878, 0.9377166459078401, null, 0.9738173240163878, 0.9639630823912474, null], \"line\": {\"width\": 2, \"color\": \"rgb(0, 0, 0)\"}, \"mode\": \"lines\", \"hoverinfo\": \"none\"}, {\"y\": [0.9855072463768116, 0.9855072463768116, null, 0.9855072463768116, 0.950766265318536, null], \"x\": [1.0, 0.5, null, 0.5378787878787878, 0.5711205515867566, null], \"line\": {\"width\": 2, \"color\": \"rgb(0, 0, 0)\"}, \"mode\": \"lines\", \"hoverinfo\": \"none\"}, {\"y\": [0.0, 1.0, null, 0.9476346480327754, 0.8776659754484841, null, 0.9476346480327754, 0.9256934811496907, null], \"x\": [0.5, 1.0, null, 0.9738173240163878, 0.9639630823912474, null, 0.9738173240163878, 0.9377166459078401, null], \"line\": {\"width\": 2, \"color\": \"rgb(0, 0, 0)\"}, \"mode\": \"lines\", \"hoverinfo\": \"none\"}, {\"y\": [0.0, 0.0, null, 0.0, -0.03474098105827558, null, 0.0, 0.03474098105827558, null], \"x\": [0.5, 1.0, null, 0.9621212121212122, 0.9288794484132434, null, 0.9621212121212122, 0.9288794484132434, null], \"line\": {\"width\": 2, \"color\": \"rgb(0, 0, 0)\"}, \"mode\": \"lines\", \"hoverinfo\": \"none\"}, {\"y\": [0.0, 0.5, null, 0.481676128503406, 0.4992073320037643, null, 0.481676128503406, 0.4319835048195859, null], \"x\": [1.0, 0.0, null, 0.03664774299318793, 0.07340128670201525, null, 0.03664774299318793, 0.06421703965128427, null], \"line\": {\"width\": 2, \"color\": \"rgb(255, 0, 0)\"}, \"mode\": \"lines\", \"hoverinfo\": \"none\"}, {\"y\": [0.0, 1.0, null, 0.927536231884058, 0.8639432926166397, null, 0.927536231884058, 0.8639432926166397, null], \"x\": [1.0, 1.0, null, 1.0, 1.0181600582804622, null, 1.0, 0.9818399417195378, null], \"line\": {\"width\": 2, \"color\": \"rgb(0, 0, 0)\"}, \"mode\": \"lines\", \"hoverinfo\": \"none\"}, {\"y\": [0.5], \"marker\": {\"line\": {\"width\": 2, \"color\": \"rgb(0, 0, 0)\"}, \"color\": \"rgb(255, 255, 255)\", \"size\": 20}, \"hoverinfo\": \"none\", \"textposition\": \"middle center\", \"x\": [0.0], \"mode\": \"markers+text\", \"text\": [\"0\"], \"textfont\": {\"color\": \"rgb(0, 0, 0)\"}}, {\"y\": [1.0], \"marker\": {\"line\": {\"width\": 2, \"color\": \"rgb(0, 0, 0)\"}, \"color\": \"rgb(255, 255, 255)\", \"size\": 20}, \"hoverinfo\": \"none\", \"textposition\": \"middle center\", \"x\": [0.5], \"mode\": \"markers+text\", \"text\": [\"2\"], \"textfont\": {\"color\": \"rgb(0, 0, 0)\"}}, {\"y\": [1.0], \"marker\": {\"line\": {\"width\": 2, \"color\": \"rgb(0, 0, 0)\"}, \"color\": \"rgb(255, 255, 255)\", \"size\": 20}, \"hoverinfo\": \"none\", \"textposition\": \"middle center\", \"x\": [1.0], \"mode\": \"markers+text\", \"text\": [\"4\"], \"textfont\": {\"color\": \"rgb(0, 0, 0)\"}}, {\"y\": [0.0], \"marker\": {\"line\": {\"width\": 2, \"color\": \"rgb(0, 0, 0)\"}, \"color\": \"rgb(255, 255, 255)\", \"size\": 20}, \"hoverinfo\": \"none\", \"textposition\": \"middle center\", \"x\": [0.5], \"mode\": \"markers+text\", \"text\": [\"7\"], \"textfont\": {\"color\": \"rgb(0, 0, 0)\"}}, {\"y\": [0.0], \"marker\": {\"line\": {\"width\": 2, \"color\": \"rgb(0, 0, 0)\"}, \"color\": \"rgb(255, 255, 255)\", \"size\": 20}, \"hoverinfo\": \"none\", \"textposition\": \"middle center\", \"x\": [1.0], \"mode\": \"markers+text\", \"text\": [\"-2\"], \"textfont\": {\"color\": \"rgb(0, 0, 0)\"}}]}, {\"name\": 40, \"data\": [{\"y\": [0.5, 1.0, null, 0.966430854395385, 0.906182816233176, null, 0.966430854395385, 0.967759498957256, null], \"x\": [0.0, 0.5, null, 0.46643085439538495, 0.44538388103556675, null, 0.46643085439538495, 0.4285584341548651, null], \"line\": {\"width\": 2, \"color\": \"rgb(0, 0, 0)\"}, \"mode\": \"lines\", \"hoverinfo\": \"none\"}, {\"y\": [0.5, 0.0, null, 0.03356914560461503, 0.032240501042743994, null, 0.03356914560461503, 0.09381718376682407, null], \"x\": [0.0, 0.5, null, 0.46643085439538495, 0.4285584341548651, null, 0.46643085439538495, 0.44538388103556675, null], \"line\": {\"width\": 2, \"color\": \"rgb(0, 0, 0)\"}, \"mode\": \"lines\", \"hoverinfo\": \"none\"}, {\"y\": [1.0144927536231885, 1.0144927536231885, null, 1.0144927536231885, 1.049233734681464, null], \"x\": [0.5, 1.0, null, 0.9621212121212122, 0.9288794484132434, null], \"line\": {\"width\": 2, \"color\": \"rgb(0, 0, 0)\"}, \"mode\": \"lines\", \"hoverinfo\": \"none\"}, {\"y\": [1.0, 0.0, null, 0.07246376811594203, 0.13605670738336034, null, 0.07246376811594203, 0.13605670738336034, null], \"x\": [0.5, 0.5, null, 0.5, 0.48183994171953776, null, 0.5, 0.5181600582804622, null], \"line\": {\"width\": 2, \"color\": \"rgb(0, 0, 0)\"}, \"mode\": \"lines\", \"hoverinfo\": \"none\"}, {\"y\": [1.0, 0.0, null, 0.052365351967224576, 0.07430651885030926, null, 0.052365351967224576, 0.12233402455151593, null], \"x\": [0.5, 1.0, null, 0.9738173240163878, 0.9377166459078401, null, 0.9738173240163878, 0.9639630823912474, null], \"line\": {\"width\": 2, \"color\": \"rgb(0, 0, 0)\"}, \"mode\": \"lines\", \"hoverinfo\": \"none\"}, {\"y\": [0.9855072463768116, 0.9855072463768116, null, 0.9855072463768116, 0.950766265318536, null], \"x\": [1.0, 0.5, null, 0.5378787878787878, 0.5711205515867566, null], \"line\": {\"width\": 2, \"color\": \"rgb(0, 0, 0)\"}, \"mode\": \"lines\", \"hoverinfo\": \"none\"}, {\"y\": [0.0, 1.0, null, 0.9476346480327754, 0.8776659754484841, null, 0.9476346480327754, 0.9256934811496907, null], \"x\": [0.5, 1.0, null, 0.9738173240163878, 0.9639630823912474, null, 0.9738173240163878, 0.9377166459078401, null], \"line\": {\"width\": 2, \"color\": \"rgb(0, 0, 0)\"}, \"mode\": \"lines\", \"hoverinfo\": \"none\"}, {\"y\": [0.0, 0.0, null, 0.0, -0.03474098105827558, null, 0.0, 0.03474098105827558, null], \"x\": [0.5, 1.0, null, 0.9621212121212122, 0.9288794484132434, null, 0.9621212121212122, 0.9288794484132434, null], \"line\": {\"width\": 2, \"color\": \"rgb(0, 0, 0)\"}, \"mode\": \"lines\", \"hoverinfo\": \"none\"}, {\"y\": [0.0, 0.5, null, 0.481676128503406, 0.4992073320037643, null, 0.481676128503406, 0.4319835048195859, null], \"x\": [1.0, 0.0, null, 0.03664774299318793, 0.07340128670201525, null, 0.03664774299318793, 0.06421703965128427, null], \"line\": {\"width\": 2, \"color\": \"rgb(0, 0, 0)\"}, \"mode\": \"lines\", \"hoverinfo\": \"none\"}, {\"y\": [0.0, 1.0, null, 0.927536231884058, 0.8639432926166397, null, 0.927536231884058, 0.8639432926166397, null], \"x\": [1.0, 1.0, null, 1.0, 1.0181600582804622, null, 1.0, 0.9818399417195378, null], \"line\": {\"width\": 2, \"color\": \"rgb(255, 0, 0)\"}, \"mode\": \"lines\", \"hoverinfo\": \"none\"}, {\"y\": [0.5], \"marker\": {\"line\": {\"width\": 2, \"color\": \"rgb(0, 0, 0)\"}, \"color\": \"rgb(255, 255, 255)\", \"size\": 20}, \"hoverinfo\": \"none\", \"textposition\": \"middle center\", \"x\": [0.0], \"mode\": \"markers+text\", \"text\": [\"0\"], \"textfont\": {\"color\": \"rgb(0, 0, 0)\"}}, {\"y\": [1.0], \"marker\": {\"line\": {\"width\": 2, \"color\": \"rgb(0, 0, 0)\"}, \"color\": \"rgb(255, 255, 255)\", \"size\": 20}, \"hoverinfo\": \"none\", \"textposition\": \"middle center\", \"x\": [0.5], \"mode\": \"markers+text\", \"text\": [\"2\"], \"textfont\": {\"color\": \"rgb(0, 0, 0)\"}}, {\"y\": [1.0], \"marker\": {\"line\": {\"width\": 2, \"color\": \"rgb(0, 0, 0)\"}, \"color\": \"rgb(255, 255, 255)\", \"size\": 20}, \"hoverinfo\": \"none\", \"textposition\": \"middle center\", \"x\": [1.0], \"mode\": \"markers+text\", \"text\": [\"4\"], \"textfont\": {\"color\": \"rgb(0, 0, 0)\"}}, {\"y\": [0.0], \"marker\": {\"line\": {\"width\": 2, \"color\": \"rgb(0, 0, 0)\"}, \"color\": \"rgb(255, 255, 255)\", \"size\": 20}, \"hoverinfo\": \"none\", \"textposition\": \"middle center\", \"x\": [0.5], \"mode\": \"markers+text\", \"text\": [\"7\"], \"textfont\": {\"color\": \"rgb(0, 0, 0)\"}}, {\"y\": [0.0], \"marker\": {\"line\": {\"width\": 2, \"color\": \"rgb(0, 0, 0)\"}, \"color\": \"rgb(255, 255, 255)\", \"size\": 20}, \"hoverinfo\": \"none\", \"textposition\": \"middle center\", \"x\": [1.0], \"mode\": \"markers+text\", \"text\": [\"-2\"], \"textfont\": {\"color\": \"rgb(0, 0, 0)\"}}]}]);}).then(function(){Plotly.animate('f43fe06c-d3f8-48ad-8871-b5df286688d6');})\n",
       "        });</script>"
      ],
      "text/vnd.plotly.v1+html": [
       "<div id=\"f43fe06c-d3f8-48ad-8871-b5df286688d6\" style=\"height: 256.0px; width: 408.0px;\" class=\"plotly-graph-div\"></div><script type=\"text/javascript\">require([\"plotly\"], function(Plotly) { window.PLOTLYENV=window.PLOTLYENV || {};window.PLOTLYENV.BASE_URL=\"https://plot.ly\";\n",
       "        Plotly.plot(\n",
       "            'f43fe06c-d3f8-48ad-8871-b5df286688d6',\n",
       "            [{\"y\": [0.5, 1.0, null, 0.966430854395385, 0.906182816233176, null, 0.966430854395385, 0.967759498957256, null], \"x\": [0.0, 0.5, null, 0.46643085439538495, 0.44538388103556675, null, 0.46643085439538495, 0.4285584341548651, null], \"line\": {\"width\": 2, \"color\": \"rgb(0, 0, 0)\"}, \"mode\": \"lines\", \"hoverinfo\": \"none\"}, {\"y\": [0.5, 0.0, null, 0.03356914560461503, 0.032240501042743994, null, 0.03356914560461503, 0.09381718376682407, null], \"x\": [0.0, 0.5, null, 0.46643085439538495, 0.4285584341548651, null, 0.46643085439538495, 0.44538388103556675, null], \"line\": {\"width\": 2, \"color\": \"rgb(0, 0, 0)\"}, \"mode\": \"lines\", \"hoverinfo\": \"none\"}, {\"y\": [1.0144927536231885, 1.0144927536231885, null, 1.0144927536231885, 1.049233734681464, null], \"x\": [0.5, 1.0, null, 0.9621212121212122, 0.9288794484132434, null], \"line\": {\"width\": 2, \"color\": \"rgb(0, 0, 0)\"}, \"mode\": \"lines\", \"hoverinfo\": \"none\"}, {\"y\": [1.0, 0.0, null, 0.07246376811594203, 0.13605670738336034, null, 0.07246376811594203, 0.13605670738336034, null], \"x\": [0.5, 0.5, null, 0.5, 0.48183994171953776, null, 0.5, 0.5181600582804622, null], \"line\": {\"width\": 2, \"color\": \"rgb(0, 0, 0)\"}, \"mode\": \"lines\", \"hoverinfo\": \"none\"}, {\"y\": [1.0, 0.0, null, 0.052365351967224576, 0.07430651885030926, null, 0.052365351967224576, 0.12233402455151593, null], \"x\": [0.5, 1.0, null, 0.9738173240163878, 0.9377166459078401, null, 0.9738173240163878, 0.9639630823912474, null], \"line\": {\"width\": 2, \"color\": \"rgb(0, 0, 0)\"}, \"mode\": \"lines\", \"hoverinfo\": \"none\"}, {\"y\": [0.9855072463768116, 0.9855072463768116, null, 0.9855072463768116, 0.950766265318536, null], \"x\": [1.0, 0.5, null, 0.5378787878787878, 0.5711205515867566, null], \"line\": {\"width\": 2, \"color\": \"rgb(0, 0, 0)\"}, \"mode\": \"lines\", \"hoverinfo\": \"none\"}, {\"y\": [0.0, 1.0, null, 0.9476346480327754, 0.8776659754484841, null, 0.9476346480327754, 0.9256934811496907, null], \"x\": [0.5, 1.0, null, 0.9738173240163878, 0.9639630823912474, null, 0.9738173240163878, 0.9377166459078401, null], \"line\": {\"width\": 2, \"color\": \"rgb(0, 0, 0)\"}, \"mode\": \"lines\", \"hoverinfo\": \"none\"}, {\"y\": [0.0, 0.0, null, 0.0, -0.03474098105827558, null, 0.0, 0.03474098105827558, null], \"x\": [0.5, 1.0, null, 0.9621212121212122, 0.9288794484132434, null, 0.9621212121212122, 0.9288794484132434, null], \"line\": {\"width\": 2, \"color\": \"rgb(0, 0, 0)\"}, \"mode\": \"lines\", \"hoverinfo\": \"none\"}, {\"y\": [0.0, 0.5, null, 0.481676128503406, 0.4992073320037643, null, 0.481676128503406, 0.4319835048195859, null], \"x\": [1.0, 0.0, null, 0.03664774299318793, 0.07340128670201525, null, 0.03664774299318793, 0.06421703965128427, null], \"line\": {\"width\": 2, \"color\": \"rgb(0, 0, 0)\"}, \"mode\": \"lines\", \"hoverinfo\": \"none\"}, {\"y\": [0.0, 1.0, null, 0.927536231884058, 0.8639432926166397, null, 0.927536231884058, 0.8639432926166397, null], \"x\": [1.0, 1.0, null, 1.0, 1.0181600582804622, null, 1.0, 0.9818399417195378, null], \"line\": {\"width\": 2, \"color\": \"rgb(0, 0, 0)\"}, \"mode\": \"lines\", \"hoverinfo\": \"none\"}, {\"y\": [0.5], \"marker\": {\"line\": {\"width\": 2, \"color\": \"rgb(0, 0, 0)\"}, \"color\": \"rgb(255, 255, 255)\", \"size\": 20}, \"hoverinfo\": \"none\", \"textposition\": \"middle center\", \"x\": [0.0], \"mode\": \"markers+text\", \"text\": [\"0\"], \"textfont\": {\"color\": \"rgb(0, 0, 0)\"}}, {\"y\": [1.0], \"marker\": {\"line\": {\"width\": 2, \"color\": \"rgb(0, 0, 0)\"}, \"color\": \"rgb(255, 255, 255)\", \"size\": 20}, \"hoverinfo\": \"none\", \"textposition\": \"middle center\", \"x\": [0.5], \"mode\": \"markers+text\", \"text\": [\"\\u221e\"], \"textfont\": {\"color\": \"rgb(0, 0, 0)\"}}, {\"y\": [1.0], \"marker\": {\"line\": {\"width\": 2, \"color\": \"rgb(0, 0, 0)\"}, \"color\": \"rgb(255, 255, 255)\", \"size\": 20}, \"hoverinfo\": \"none\", \"textposition\": \"middle center\", \"x\": [1.0], \"mode\": \"markers+text\", \"text\": [\"\\u221e\"], \"textfont\": {\"color\": \"rgb(0, 0, 0)\"}}, {\"y\": [0.0], \"marker\": {\"line\": {\"width\": 2, \"color\": \"rgb(0, 0, 0)\"}, \"color\": \"rgb(255, 255, 255)\", \"size\": 20}, \"hoverinfo\": \"none\", \"textposition\": \"middle center\", \"x\": [0.5], \"mode\": \"markers+text\", \"text\": [\"\\u221e\"], \"textfont\": {\"color\": \"rgb(0, 0, 0)\"}}, {\"y\": [0.0], \"marker\": {\"line\": {\"width\": 2, \"color\": \"rgb(0, 0, 0)\"}, \"color\": \"rgb(255, 255, 255)\", \"size\": 20}, \"hoverinfo\": \"none\", \"textposition\": \"middle center\", \"x\": [1.0], \"mode\": \"markers+text\", \"text\": [\"\\u221e\"], \"textfont\": {\"color\": \"rgb(0, 0, 0)\"}}],\n",
       "            {\"width\": 408.0, \"sliders\": [{\"steps\": [{\"args\": [[0], {\"frame\": {\"redraw\": false}, \"mode\": \"immediate\"}], \"method\": \"animate\", \"label\": \"\"}, {\"args\": [[1], {\"frame\": {\"redraw\": false}, \"mode\": \"immediate\"}], \"method\": \"animate\", \"label\": \"\"}, {\"args\": [[2], {\"frame\": {\"redraw\": false}, \"mode\": \"immediate\"}], \"method\": \"animate\", \"label\": \"\"}, {\"args\": [[3], {\"frame\": {\"redraw\": false}, \"mode\": \"immediate\"}], \"method\": \"animate\", \"label\": \"\"}, {\"args\": [[4], {\"frame\": {\"redraw\": false}, \"mode\": \"immediate\"}], \"method\": \"animate\", \"label\": \"\"}, {\"args\": [[5], {\"frame\": {\"redraw\": false}, \"mode\": \"immediate\"}], \"method\": \"animate\", \"label\": \"\"}, {\"args\": [[6], {\"frame\": {\"redraw\": false}, \"mode\": \"immediate\"}], \"method\": \"animate\", \"label\": \"\"}, {\"args\": [[7], {\"frame\": {\"redraw\": false}, \"mode\": \"immediate\"}], \"method\": \"animate\", \"label\": \"\"}, {\"args\": [[8], {\"frame\": {\"redraw\": false}, \"mode\": \"immediate\"}], \"method\": \"animate\", \"label\": \"\"}, {\"args\": [[9], {\"frame\": {\"redraw\": false}, \"mode\": \"immediate\"}], \"method\": \"animate\", \"label\": \"\"}, {\"args\": [[10], {\"frame\": {\"redraw\": false}, \"mode\": \"immediate\"}], \"method\": \"animate\", \"label\": \"\"}, {\"args\": [[11], {\"frame\": {\"redraw\": false}, \"mode\": \"immediate\"}], \"method\": \"animate\", \"label\": \"\"}, {\"args\": [[12], {\"frame\": {\"redraw\": false}, \"mode\": \"immediate\"}], \"method\": \"animate\", \"label\": \"\"}, {\"args\": [[13], {\"frame\": {\"redraw\": false}, \"mode\": \"immediate\"}], \"method\": \"animate\", \"label\": \"\"}, {\"args\": [[14], {\"frame\": {\"redraw\": false}, \"mode\": \"immediate\"}], \"method\": \"animate\", \"label\": \"\"}, {\"args\": [[15], {\"frame\": {\"redraw\": false}, \"mode\": \"immediate\"}], \"method\": \"animate\", \"label\": \"\"}, {\"args\": [[16], {\"frame\": {\"redraw\": false}, \"mode\": \"immediate\"}], \"method\": \"animate\", \"label\": \"\"}, {\"args\": [[17], {\"frame\": {\"redraw\": false}, \"mode\": \"immediate\"}], \"method\": \"animate\", \"label\": \"\"}, {\"args\": [[18], {\"frame\": {\"redraw\": false}, \"mode\": \"immediate\"}], \"method\": \"animate\", \"label\": \"\"}, {\"args\": [[19], {\"frame\": {\"redraw\": false}, \"mode\": \"immediate\"}], \"method\": \"animate\", \"label\": \"\"}, {\"args\": [[20], {\"frame\": {\"redraw\": false}, \"mode\": \"immediate\"}], \"method\": \"animate\", \"label\": \"\"}, {\"args\": [[21], {\"frame\": {\"redraw\": false}, \"mode\": \"immediate\"}], \"method\": \"animate\", \"label\": \"\"}, {\"args\": [[22], {\"frame\": {\"redraw\": false}, \"mode\": \"immediate\"}], \"method\": \"animate\", \"label\": \"\"}, {\"args\": [[23], {\"frame\": {\"redraw\": false}, \"mode\": \"immediate\"}], \"method\": \"animate\", \"label\": \"\"}, {\"args\": [[24], {\"frame\": {\"redraw\": false}, \"mode\": \"immediate\"}], \"method\": \"animate\", \"label\": \"\"}, {\"args\": [[25], {\"frame\": {\"redraw\": false}, \"mode\": \"immediate\"}], \"method\": \"animate\", \"label\": \"\"}, {\"args\": [[26], {\"frame\": {\"redraw\": false}, \"mode\": \"immediate\"}], \"method\": \"animate\", \"label\": \"\"}, {\"args\": [[27], {\"frame\": {\"redraw\": false}, \"mode\": \"immediate\"}], \"method\": \"animate\", \"label\": \"\"}, {\"args\": [[28], {\"frame\": {\"redraw\": false}, \"mode\": \"immediate\"}], \"method\": \"animate\", \"label\": \"\"}, {\"args\": [[29], {\"frame\": {\"redraw\": false}, \"mode\": \"immediate\"}], \"method\": \"animate\", \"label\": \"\"}, {\"args\": [[30], {\"frame\": {\"redraw\": false}, \"mode\": \"immediate\"}], \"method\": \"animate\", \"label\": \"\"}, {\"args\": [[31], {\"frame\": {\"redraw\": false}, \"mode\": \"immediate\"}], \"method\": \"animate\", \"label\": \"\"}, {\"args\": [[32], {\"frame\": {\"redraw\": false}, \"mode\": \"immediate\"}], \"method\": \"animate\", \"label\": \"\"}, {\"args\": [[33], {\"frame\": {\"redraw\": false}, \"mode\": \"immediate\"}], \"method\": \"animate\", \"label\": \"\"}, {\"args\": [[34], {\"frame\": {\"redraw\": false}, \"mode\": \"immediate\"}], \"method\": \"animate\", \"label\": \"\"}, {\"args\": [[35], {\"frame\": {\"redraw\": false}, \"mode\": \"immediate\"}], \"method\": \"animate\", \"label\": \"\"}, {\"args\": [[36], {\"frame\": {\"redraw\": false}, \"mode\": \"immediate\"}], \"method\": \"animate\", \"label\": \"\"}, {\"args\": [[37], {\"frame\": {\"redraw\": false}, \"mode\": \"immediate\"}], \"method\": \"animate\", \"label\": \"\"}, {\"args\": [[38], {\"frame\": {\"redraw\": false}, \"mode\": \"immediate\"}], \"method\": \"animate\", \"label\": \"\"}, {\"args\": [[39], {\"frame\": {\"redraw\": false}, \"mode\": \"immediate\"}], \"method\": \"animate\", \"label\": \"\"}, {\"args\": [[40], {\"frame\": {\"redraw\": false}, \"mode\": \"immediate\"}], \"method\": \"animate\", \"label\": \"\"}], \"currentvalue\": {\"visible\": false}}], \"margin\": {\"r\": 0, \"b\": 0, \"l\": 0, \"t\": 0}, \"showlegend\": false, \"height\": 256.0, \"updatemenus\": [{\"type\": \"buttons\", \"buttons\": [{\"args\": [null, {\"frame\": {\"redraw\": false}, \"fromcurrent\": true}], \"method\": \"animate\", \"label\": \"Play\"}, {\"args\": [[null], {\"frame\": {\"redraw\": false}, \"mode\": \"immediate\"}], \"method\": \"animate\", \"label\": \"Pause\"}], \"showactive\": true}], \"yaxis\": {\"zeroline\": false, \"showticklabels\": false, \"showgrid\": false}, \"xaxis\": {\"zeroline\": false, \"showticklabels\": false, \"showgrid\": false}},\n",
       "            {\"displayModeBar\": false, \"showLink\": false, \"linkText\": \"Export to plot.ly\"}\n",
       "        ).then(function () {return Plotly.addFrames('f43fe06c-d3f8-48ad-8871-b5df286688d6',[{\"name\": 0, \"data\": [{\"y\": [0.5, 1.0, null, 0.966430854395385, 0.906182816233176, null, 0.966430854395385, 0.967759498957256, null], \"x\": [0.0, 0.5, null, 0.46643085439538495, 0.44538388103556675, null, 0.46643085439538495, 0.4285584341548651, null], \"line\": {\"width\": 2, \"color\": \"rgb(0, 0, 0)\"}, \"mode\": \"lines\", \"hoverinfo\": \"none\"}, {\"y\": [0.5, 0.0, null, 0.03356914560461503, 0.032240501042743994, null, 0.03356914560461503, 0.09381718376682407, null], \"x\": [0.0, 0.5, null, 0.46643085439538495, 0.4285584341548651, null, 0.46643085439538495, 0.44538388103556675, null], \"line\": {\"width\": 2, \"color\": \"rgb(0, 0, 0)\"}, \"mode\": \"lines\", \"hoverinfo\": \"none\"}, {\"y\": [1.0144927536231885, 1.0144927536231885, null, 1.0144927536231885, 1.049233734681464, null], \"x\": [0.5, 1.0, null, 0.9621212121212122, 0.9288794484132434, null], \"line\": {\"width\": 2, \"color\": \"rgb(0, 0, 0)\"}, \"mode\": \"lines\", \"hoverinfo\": \"none\"}, {\"y\": [1.0, 0.0, null, 0.07246376811594203, 0.13605670738336034, null, 0.07246376811594203, 0.13605670738336034, null], \"x\": [0.5, 0.5, null, 0.5, 0.48183994171953776, null, 0.5, 0.5181600582804622, null], \"line\": {\"width\": 2, \"color\": \"rgb(0, 0, 0)\"}, \"mode\": \"lines\", \"hoverinfo\": \"none\"}, {\"y\": [1.0, 0.0, null, 0.052365351967224576, 0.07430651885030926, null, 0.052365351967224576, 0.12233402455151593, null], \"x\": [0.5, 1.0, null, 0.9738173240163878, 0.9377166459078401, null, 0.9738173240163878, 0.9639630823912474, null], \"line\": {\"width\": 2, \"color\": \"rgb(0, 0, 0)\"}, \"mode\": \"lines\", \"hoverinfo\": \"none\"}, {\"y\": [0.9855072463768116, 0.9855072463768116, null, 0.9855072463768116, 0.950766265318536, null], \"x\": [1.0, 0.5, null, 0.5378787878787878, 0.5711205515867566, null], \"line\": {\"width\": 2, \"color\": \"rgb(0, 0, 0)\"}, \"mode\": \"lines\", \"hoverinfo\": \"none\"}, {\"y\": [0.0, 1.0, null, 0.9476346480327754, 0.8776659754484841, null, 0.9476346480327754, 0.9256934811496907, null], \"x\": [0.5, 1.0, null, 0.9738173240163878, 0.9639630823912474, null, 0.9738173240163878, 0.9377166459078401, null], \"line\": {\"width\": 2, \"color\": \"rgb(0, 0, 0)\"}, \"mode\": \"lines\", \"hoverinfo\": \"none\"}, {\"y\": [0.0, 0.0, null, 0.0, -0.03474098105827558, null, 0.0, 0.03474098105827558, null], \"x\": [0.5, 1.0, null, 0.9621212121212122, 0.9288794484132434, null, 0.9621212121212122, 0.9288794484132434, null], \"line\": {\"width\": 2, \"color\": \"rgb(0, 0, 0)\"}, \"mode\": \"lines\", \"hoverinfo\": \"none\"}, {\"y\": [0.0, 0.5, null, 0.481676128503406, 0.4992073320037643, null, 0.481676128503406, 0.4319835048195859, null], \"x\": [1.0, 0.0, null, 0.03664774299318793, 0.07340128670201525, null, 0.03664774299318793, 0.06421703965128427, null], \"line\": {\"width\": 2, \"color\": \"rgb(0, 0, 0)\"}, \"mode\": \"lines\", \"hoverinfo\": \"none\"}, {\"y\": [0.0, 1.0, null, 0.927536231884058, 0.8639432926166397, null, 0.927536231884058, 0.8639432926166397, null], \"x\": [1.0, 1.0, null, 1.0, 1.0181600582804622, null, 1.0, 0.9818399417195378, null], \"line\": {\"width\": 2, \"color\": \"rgb(0, 0, 0)\"}, \"mode\": \"lines\", \"hoverinfo\": \"none\"}, {\"y\": [0.5], \"marker\": {\"line\": {\"width\": 2, \"color\": \"rgb(0, 0, 0)\"}, \"color\": \"rgb(255, 255, 255)\", \"size\": 20}, \"hoverinfo\": \"none\", \"textposition\": \"middle center\", \"x\": [0.0], \"mode\": \"markers+text\", \"text\": [\"0\"], \"textfont\": {\"color\": \"rgb(0, 0, 0)\"}}, {\"y\": [1.0], \"marker\": {\"line\": {\"width\": 2, \"color\": \"rgb(0, 0, 0)\"}, \"color\": \"rgb(255, 255, 255)\", \"size\": 20}, \"hoverinfo\": \"none\", \"textposition\": \"middle center\", \"x\": [0.5], \"mode\": \"markers+text\", \"text\": [\"\\u221e\"], \"textfont\": {\"color\": \"rgb(0, 0, 0)\"}}, {\"y\": [1.0], \"marker\": {\"line\": {\"width\": 2, \"color\": \"rgb(0, 0, 0)\"}, \"color\": \"rgb(255, 255, 255)\", \"size\": 20}, \"hoverinfo\": \"none\", \"textposition\": \"middle center\", \"x\": [1.0], \"mode\": \"markers+text\", \"text\": [\"\\u221e\"], \"textfont\": {\"color\": \"rgb(0, 0, 0)\"}}, {\"y\": [0.0], \"marker\": {\"line\": {\"width\": 2, \"color\": \"rgb(0, 0, 0)\"}, \"color\": \"rgb(255, 255, 255)\", \"size\": 20}, \"hoverinfo\": \"none\", \"textposition\": \"middle center\", \"x\": [0.5], \"mode\": \"markers+text\", \"text\": [\"\\u221e\"], \"textfont\": {\"color\": \"rgb(0, 0, 0)\"}}, {\"y\": [0.0], \"marker\": {\"line\": {\"width\": 2, \"color\": \"rgb(0, 0, 0)\"}, \"color\": \"rgb(255, 255, 255)\", \"size\": 20}, \"hoverinfo\": \"none\", \"textposition\": \"middle center\", \"x\": [1.0], \"mode\": \"markers+text\", \"text\": [\"\\u221e\"], \"textfont\": {\"color\": \"rgb(0, 0, 0)\"}}]}, {\"name\": 1, \"data\": [{\"y\": [0.5, 1.0, null, 0.966430854395385, 0.906182816233176, null, 0.966430854395385, 0.967759498957256, null], \"x\": [0.0, 0.5, null, 0.46643085439538495, 0.44538388103556675, null, 0.46643085439538495, 0.4285584341548651, null], \"line\": {\"width\": 2, \"color\": \"rgb(0, 255, 0)\"}, \"mode\": \"lines\", \"hoverinfo\": \"none\"}, {\"y\": [0.5, 0.0, null, 0.03356914560461503, 0.032240501042743994, null, 0.03356914560461503, 0.09381718376682407, null], \"x\": [0.0, 0.5, null, 0.46643085439538495, 0.4285584341548651, null, 0.46643085439538495, 0.44538388103556675, null], \"line\": {\"width\": 2, \"color\": \"rgb(0, 0, 0)\"}, \"mode\": \"lines\", \"hoverinfo\": \"none\"}, {\"y\": [1.0144927536231885, 1.0144927536231885, null, 1.0144927536231885, 1.049233734681464, null], \"x\": [0.5, 1.0, null, 0.9621212121212122, 0.9288794484132434, null], \"line\": {\"width\": 2, \"color\": \"rgb(0, 0, 0)\"}, \"mode\": \"lines\", \"hoverinfo\": \"none\"}, {\"y\": [1.0, 0.0, null, 0.07246376811594203, 0.13605670738336034, null, 0.07246376811594203, 0.13605670738336034, null], \"x\": [0.5, 0.5, null, 0.5, 0.48183994171953776, null, 0.5, 0.5181600582804622, null], \"line\": {\"width\": 2, \"color\": \"rgb(0, 0, 0)\"}, \"mode\": \"lines\", \"hoverinfo\": \"none\"}, {\"y\": [1.0, 0.0, null, 0.052365351967224576, 0.07430651885030926, null, 0.052365351967224576, 0.12233402455151593, null], \"x\": [0.5, 1.0, null, 0.9738173240163878, 0.9377166459078401, null, 0.9738173240163878, 0.9639630823912474, null], \"line\": {\"width\": 2, \"color\": \"rgb(0, 0, 0)\"}, \"mode\": \"lines\", \"hoverinfo\": \"none\"}, {\"y\": [0.9855072463768116, 0.9855072463768116, null, 0.9855072463768116, 0.950766265318536, null], \"x\": [1.0, 0.5, null, 0.5378787878787878, 0.5711205515867566, null], \"line\": {\"width\": 2, \"color\": \"rgb(0, 0, 0)\"}, \"mode\": \"lines\", \"hoverinfo\": \"none\"}, {\"y\": [0.0, 1.0, null, 0.9476346480327754, 0.8776659754484841, null, 0.9476346480327754, 0.9256934811496907, null], \"x\": [0.5, 1.0, null, 0.9738173240163878, 0.9639630823912474, null, 0.9738173240163878, 0.9377166459078401, null], \"line\": {\"width\": 2, \"color\": \"rgb(0, 0, 0)\"}, \"mode\": \"lines\", \"hoverinfo\": \"none\"}, {\"y\": [0.0, 0.0, null, 0.0, -0.03474098105827558, null, 0.0, 0.03474098105827558, null], \"x\": [0.5, 1.0, null, 0.9621212121212122, 0.9288794484132434, null, 0.9621212121212122, 0.9288794484132434, null], \"line\": {\"width\": 2, \"color\": \"rgb(0, 0, 0)\"}, \"mode\": \"lines\", \"hoverinfo\": \"none\"}, {\"y\": [0.0, 0.5, null, 0.481676128503406, 0.4992073320037643, null, 0.481676128503406, 0.4319835048195859, null], \"x\": [1.0, 0.0, null, 0.03664774299318793, 0.07340128670201525, null, 0.03664774299318793, 0.06421703965128427, null], \"line\": {\"width\": 2, \"color\": \"rgb(0, 0, 0)\"}, \"mode\": \"lines\", \"hoverinfo\": \"none\"}, {\"y\": [0.0, 1.0, null, 0.927536231884058, 0.8639432926166397, null, 0.927536231884058, 0.8639432926166397, null], \"x\": [1.0, 1.0, null, 1.0, 1.0181600582804622, null, 1.0, 0.9818399417195378, null], \"line\": {\"width\": 2, \"color\": \"rgb(0, 0, 0)\"}, \"mode\": \"lines\", \"hoverinfo\": \"none\"}, {\"y\": [0.5], \"marker\": {\"line\": {\"width\": 2, \"color\": \"rgb(0, 0, 0)\"}, \"color\": \"rgb(255, 255, 255)\", \"size\": 20}, \"hoverinfo\": \"none\", \"textposition\": \"middle center\", \"x\": [0.0], \"mode\": \"markers+text\", \"text\": [\"0\"], \"textfont\": {\"color\": \"rgb(0, 0, 0)\"}}, {\"y\": [1.0], \"marker\": {\"line\": {\"width\": 2, \"color\": \"rgb(0, 0, 0)\"}, \"color\": \"rgb(255, 255, 255)\", \"size\": 20}, \"hoverinfo\": \"none\", \"textposition\": \"middle center\", \"x\": [0.5], \"mode\": \"markers+text\", \"text\": [\"6\"], \"textfont\": {\"color\": \"rgb(0, 0, 0)\"}}, {\"y\": [1.0], \"marker\": {\"line\": {\"width\": 2, \"color\": \"rgb(0, 0, 0)\"}, \"color\": \"rgb(255, 255, 255)\", \"size\": 20}, \"hoverinfo\": \"none\", \"textposition\": \"middle center\", \"x\": [1.0], \"mode\": \"markers+text\", \"text\": [\"\\u221e\"], \"textfont\": {\"color\": \"rgb(0, 0, 0)\"}}, {\"y\": [0.0], \"marker\": {\"line\": {\"width\": 2, \"color\": \"rgb(0, 0, 0)\"}, \"color\": \"rgb(255, 255, 255)\", \"size\": 20}, \"hoverinfo\": \"none\", \"textposition\": \"middle center\", \"x\": [0.5], \"mode\": \"markers+text\", \"text\": [\"\\u221e\"], \"textfont\": {\"color\": \"rgb(0, 0, 0)\"}}, {\"y\": [0.0], \"marker\": {\"line\": {\"width\": 2, \"color\": \"rgb(0, 0, 0)\"}, \"color\": \"rgb(255, 255, 255)\", \"size\": 20}, \"hoverinfo\": \"none\", \"textposition\": \"middle center\", \"x\": [1.0], \"mode\": \"markers+text\", \"text\": [\"\\u221e\"], \"textfont\": {\"color\": \"rgb(0, 0, 0)\"}}]}, {\"name\": 2, \"data\": [{\"y\": [0.5, 1.0, null, 0.966430854395385, 0.906182816233176, null, 0.966430854395385, 0.967759498957256, null], \"x\": [0.0, 0.5, null, 0.46643085439538495, 0.44538388103556675, null, 0.46643085439538495, 0.4285584341548651, null], \"line\": {\"width\": 2, \"color\": \"rgb(0, 0, 0)\"}, \"mode\": \"lines\", \"hoverinfo\": \"none\"}, {\"y\": [0.5, 0.0, null, 0.03356914560461503, 0.032240501042743994, null, 0.03356914560461503, 0.09381718376682407, null], \"x\": [0.0, 0.5, null, 0.46643085439538495, 0.4285584341548651, null, 0.46643085439538495, 0.44538388103556675, null], \"line\": {\"width\": 2, \"color\": \"rgb(0, 255, 0)\"}, \"mode\": \"lines\", \"hoverinfo\": \"none\"}, {\"y\": [1.0144927536231885, 1.0144927536231885, null, 1.0144927536231885, 1.049233734681464, null], \"x\": [0.5, 1.0, null, 0.9621212121212122, 0.9288794484132434, null], \"line\": {\"width\": 2, \"color\": \"rgb(0, 0, 0)\"}, \"mode\": \"lines\", \"hoverinfo\": \"none\"}, {\"y\": [1.0, 0.0, null, 0.07246376811594203, 0.13605670738336034, null, 0.07246376811594203, 0.13605670738336034, null], \"x\": [0.5, 0.5, null, 0.5, 0.48183994171953776, null, 0.5, 0.5181600582804622, null], \"line\": {\"width\": 2, \"color\": \"rgb(0, 0, 0)\"}, \"mode\": \"lines\", \"hoverinfo\": \"none\"}, {\"y\": [1.0, 0.0, null, 0.052365351967224576, 0.07430651885030926, null, 0.052365351967224576, 0.12233402455151593, null], \"x\": [0.5, 1.0, null, 0.9738173240163878, 0.9377166459078401, null, 0.9738173240163878, 0.9639630823912474, null], \"line\": {\"width\": 2, \"color\": \"rgb(0, 0, 0)\"}, \"mode\": \"lines\", \"hoverinfo\": \"none\"}, {\"y\": [0.9855072463768116, 0.9855072463768116, null, 0.9855072463768116, 0.950766265318536, null], \"x\": [1.0, 0.5, null, 0.5378787878787878, 0.5711205515867566, null], \"line\": {\"width\": 2, \"color\": \"rgb(0, 0, 0)\"}, \"mode\": \"lines\", \"hoverinfo\": \"none\"}, {\"y\": [0.0, 1.0, null, 0.9476346480327754, 0.8776659754484841, null, 0.9476346480327754, 0.9256934811496907, null], \"x\": [0.5, 1.0, null, 0.9738173240163878, 0.9639630823912474, null, 0.9738173240163878, 0.9377166459078401, null], \"line\": {\"width\": 2, \"color\": \"rgb(0, 0, 0)\"}, \"mode\": \"lines\", \"hoverinfo\": \"none\"}, {\"y\": [0.0, 0.0, null, 0.0, -0.03474098105827558, null, 0.0, 0.03474098105827558, null], \"x\": [0.5, 1.0, null, 0.9621212121212122, 0.9288794484132434, null, 0.9621212121212122, 0.9288794484132434, null], \"line\": {\"width\": 2, \"color\": \"rgb(0, 0, 0)\"}, \"mode\": \"lines\", \"hoverinfo\": \"none\"}, {\"y\": [0.0, 0.5, null, 0.481676128503406, 0.4992073320037643, null, 0.481676128503406, 0.4319835048195859, null], \"x\": [1.0, 0.0, null, 0.03664774299318793, 0.07340128670201525, null, 0.03664774299318793, 0.06421703965128427, null], \"line\": {\"width\": 2, \"color\": \"rgb(0, 0, 0)\"}, \"mode\": \"lines\", \"hoverinfo\": \"none\"}, {\"y\": [0.0, 1.0, null, 0.927536231884058, 0.8639432926166397, null, 0.927536231884058, 0.8639432926166397, null], \"x\": [1.0, 1.0, null, 1.0, 1.0181600582804622, null, 1.0, 0.9818399417195378, null], \"line\": {\"width\": 2, \"color\": \"rgb(0, 0, 0)\"}, \"mode\": \"lines\", \"hoverinfo\": \"none\"}, {\"y\": [0.5], \"marker\": {\"line\": {\"width\": 2, \"color\": \"rgb(0, 0, 0)\"}, \"color\": \"rgb(255, 255, 255)\", \"size\": 20}, \"hoverinfo\": \"none\", \"textposition\": \"middle center\", \"x\": [0.0], \"mode\": \"markers+text\", \"text\": [\"0\"], \"textfont\": {\"color\": \"rgb(0, 0, 0)\"}}, {\"y\": [1.0], \"marker\": {\"line\": {\"width\": 2, \"color\": \"rgb(0, 0, 0)\"}, \"color\": \"rgb(255, 255, 255)\", \"size\": 20}, \"hoverinfo\": \"none\", \"textposition\": \"middle center\", \"x\": [0.5], \"mode\": \"markers+text\", \"text\": [\"6\"], \"textfont\": {\"color\": \"rgb(0, 0, 0)\"}}, {\"y\": [1.0], \"marker\": {\"line\": {\"width\": 2, \"color\": \"rgb(0, 0, 0)\"}, \"color\": \"rgb(255, 255, 255)\", \"size\": 20}, \"hoverinfo\": \"none\", \"textposition\": \"middle center\", \"x\": [1.0], \"mode\": \"markers+text\", \"text\": [\"\\u221e\"], \"textfont\": {\"color\": \"rgb(0, 0, 0)\"}}, {\"y\": [0.0], \"marker\": {\"line\": {\"width\": 2, \"color\": \"rgb(0, 0, 0)\"}, \"color\": \"rgb(255, 255, 255)\", \"size\": 20}, \"hoverinfo\": \"none\", \"textposition\": \"middle center\", \"x\": [0.5], \"mode\": \"markers+text\", \"text\": [\"7\"], \"textfont\": {\"color\": \"rgb(0, 0, 0)\"}}, {\"y\": [0.0], \"marker\": {\"line\": {\"width\": 2, \"color\": \"rgb(0, 0, 0)\"}, \"color\": \"rgb(255, 255, 255)\", \"size\": 20}, \"hoverinfo\": \"none\", \"textposition\": \"middle center\", \"x\": [1.0], \"mode\": \"markers+text\", \"text\": [\"\\u221e\"], \"textfont\": {\"color\": \"rgb(0, 0, 0)\"}}]}, {\"name\": 3, \"data\": [{\"y\": [0.5, 1.0, null, 0.966430854395385, 0.906182816233176, null, 0.966430854395385, 0.967759498957256, null], \"x\": [0.0, 0.5, null, 0.46643085439538495, 0.44538388103556675, null, 0.46643085439538495, 0.4285584341548651, null], \"line\": {\"width\": 2, \"color\": \"rgb(0, 0, 0)\"}, \"mode\": \"lines\", \"hoverinfo\": \"none\"}, {\"y\": [0.5, 0.0, null, 0.03356914560461503, 0.032240501042743994, null, 0.03356914560461503, 0.09381718376682407, null], \"x\": [0.0, 0.5, null, 0.46643085439538495, 0.4285584341548651, null, 0.46643085439538495, 0.44538388103556675, null], \"line\": {\"width\": 2, \"color\": \"rgb(0, 0, 0)\"}, \"mode\": \"lines\", \"hoverinfo\": \"none\"}, {\"y\": [1.0144927536231885, 1.0144927536231885, null, 1.0144927536231885, 1.049233734681464, null], \"x\": [0.5, 1.0, null, 0.9621212121212122, 0.9288794484132434, null], \"line\": {\"width\": 2, \"color\": \"rgb(0, 255, 0)\"}, \"mode\": \"lines\", \"hoverinfo\": \"none\"}, {\"y\": [1.0, 0.0, null, 0.07246376811594203, 0.13605670738336034, null, 0.07246376811594203, 0.13605670738336034, null], \"x\": [0.5, 0.5, null, 0.5, 0.48183994171953776, null, 0.5, 0.5181600582804622, null], \"line\": {\"width\": 2, \"color\": \"rgb(0, 0, 0)\"}, \"mode\": \"lines\", \"hoverinfo\": \"none\"}, {\"y\": [1.0, 0.0, null, 0.052365351967224576, 0.07430651885030926, null, 0.052365351967224576, 0.12233402455151593, null], \"x\": [0.5, 1.0, null, 0.9738173240163878, 0.9377166459078401, null, 0.9738173240163878, 0.9639630823912474, null], \"line\": {\"width\": 2, \"color\": \"rgb(0, 0, 0)\"}, \"mode\": \"lines\", \"hoverinfo\": \"none\"}, {\"y\": [0.9855072463768116, 0.9855072463768116, null, 0.9855072463768116, 0.950766265318536, null], \"x\": [1.0, 0.5, null, 0.5378787878787878, 0.5711205515867566, null], \"line\": {\"width\": 2, \"color\": \"rgb(0, 0, 0)\"}, \"mode\": \"lines\", \"hoverinfo\": \"none\"}, {\"y\": [0.0, 1.0, null, 0.9476346480327754, 0.8776659754484841, null, 0.9476346480327754, 0.9256934811496907, null], \"x\": [0.5, 1.0, null, 0.9738173240163878, 0.9639630823912474, null, 0.9738173240163878, 0.9377166459078401, null], \"line\": {\"width\": 2, \"color\": \"rgb(0, 0, 0)\"}, \"mode\": \"lines\", \"hoverinfo\": \"none\"}, {\"y\": [0.0, 0.0, null, 0.0, -0.03474098105827558, null, 0.0, 0.03474098105827558, null], \"x\": [0.5, 1.0, null, 0.9621212121212122, 0.9288794484132434, null, 0.9621212121212122, 0.9288794484132434, null], \"line\": {\"width\": 2, \"color\": \"rgb(0, 0, 0)\"}, \"mode\": \"lines\", \"hoverinfo\": \"none\"}, {\"y\": [0.0, 0.5, null, 0.481676128503406, 0.4992073320037643, null, 0.481676128503406, 0.4319835048195859, null], \"x\": [1.0, 0.0, null, 0.03664774299318793, 0.07340128670201525, null, 0.03664774299318793, 0.06421703965128427, null], \"line\": {\"width\": 2, \"color\": \"rgb(0, 0, 0)\"}, \"mode\": \"lines\", \"hoverinfo\": \"none\"}, {\"y\": [0.0, 1.0, null, 0.927536231884058, 0.8639432926166397, null, 0.927536231884058, 0.8639432926166397, null], \"x\": [1.0, 1.0, null, 1.0, 1.0181600582804622, null, 1.0, 0.9818399417195378, null], \"line\": {\"width\": 2, \"color\": \"rgb(0, 0, 0)\"}, \"mode\": \"lines\", \"hoverinfo\": \"none\"}, {\"y\": [0.5], \"marker\": {\"line\": {\"width\": 2, \"color\": \"rgb(0, 0, 0)\"}, \"color\": \"rgb(255, 255, 255)\", \"size\": 20}, \"hoverinfo\": \"none\", \"textposition\": \"middle center\", \"x\": [0.0], \"mode\": \"markers+text\", \"text\": [\"0\"], \"textfont\": {\"color\": \"rgb(0, 0, 0)\"}}, {\"y\": [1.0], \"marker\": {\"line\": {\"width\": 2, \"color\": \"rgb(0, 0, 0)\"}, \"color\": \"rgb(255, 255, 255)\", \"size\": 20}, \"hoverinfo\": \"none\", \"textposition\": \"middle center\", \"x\": [0.5], \"mode\": \"markers+text\", \"text\": [\"6\"], \"textfont\": {\"color\": \"rgb(0, 0, 0)\"}}, {\"y\": [1.0], \"marker\": {\"line\": {\"width\": 2, \"color\": \"rgb(0, 0, 0)\"}, \"color\": \"rgb(255, 255, 255)\", \"size\": 20}, \"hoverinfo\": \"none\", \"textposition\": \"middle center\", \"x\": [1.0], \"mode\": \"markers+text\", \"text\": [\"11\"], \"textfont\": {\"color\": \"rgb(0, 0, 0)\"}}, {\"y\": [0.0], \"marker\": {\"line\": {\"width\": 2, \"color\": \"rgb(0, 0, 0)\"}, \"color\": \"rgb(255, 255, 255)\", \"size\": 20}, \"hoverinfo\": \"none\", \"textposition\": \"middle center\", \"x\": [0.5], \"mode\": \"markers+text\", \"text\": [\"7\"], \"textfont\": {\"color\": \"rgb(0, 0, 0)\"}}, {\"y\": [0.0], \"marker\": {\"line\": {\"width\": 2, \"color\": \"rgb(0, 0, 0)\"}, \"color\": \"rgb(255, 255, 255)\", \"size\": 20}, \"hoverinfo\": \"none\", \"textposition\": \"middle center\", \"x\": [1.0], \"mode\": \"markers+text\", \"text\": [\"\\u221e\"], \"textfont\": {\"color\": \"rgb(0, 0, 0)\"}}]}, {\"name\": 4, \"data\": [{\"y\": [0.5, 1.0, null, 0.966430854395385, 0.906182816233176, null, 0.966430854395385, 0.967759498957256, null], \"x\": [0.0, 0.5, null, 0.46643085439538495, 0.44538388103556675, null, 0.46643085439538495, 0.4285584341548651, null], \"line\": {\"width\": 2, \"color\": \"rgb(0, 0, 0)\"}, \"mode\": \"lines\", \"hoverinfo\": \"none\"}, {\"y\": [0.5, 0.0, null, 0.03356914560461503, 0.032240501042743994, null, 0.03356914560461503, 0.09381718376682407, null], \"x\": [0.0, 0.5, null, 0.46643085439538495, 0.4285584341548651, null, 0.46643085439538495, 0.44538388103556675, null], \"line\": {\"width\": 2, \"color\": \"rgb(0, 0, 0)\"}, \"mode\": \"lines\", \"hoverinfo\": \"none\"}, {\"y\": [1.0144927536231885, 1.0144927536231885, null, 1.0144927536231885, 1.049233734681464, null], \"x\": [0.5, 1.0, null, 0.9621212121212122, 0.9288794484132434, null], \"line\": {\"width\": 2, \"color\": \"rgb(0, 0, 0)\"}, \"mode\": \"lines\", \"hoverinfo\": \"none\"}, {\"y\": [1.0, 0.0, null, 0.07246376811594203, 0.13605670738336034, null, 0.07246376811594203, 0.13605670738336034, null], \"x\": [0.5, 0.5, null, 0.5, 0.48183994171953776, null, 0.5, 0.5181600582804622, null], \"line\": {\"width\": 2, \"color\": \"rgb(255, 0, 0)\"}, \"mode\": \"lines\", \"hoverinfo\": \"none\"}, {\"y\": [1.0, 0.0, null, 0.052365351967224576, 0.07430651885030926, null, 0.052365351967224576, 0.12233402455151593, null], \"x\": [0.5, 1.0, null, 0.9738173240163878, 0.9377166459078401, null, 0.9738173240163878, 0.9639630823912474, null], \"line\": {\"width\": 2, \"color\": \"rgb(0, 0, 0)\"}, \"mode\": \"lines\", \"hoverinfo\": \"none\"}, {\"y\": [0.9855072463768116, 0.9855072463768116, null, 0.9855072463768116, 0.950766265318536, null], \"x\": [1.0, 0.5, null, 0.5378787878787878, 0.5711205515867566, null], \"line\": {\"width\": 2, \"color\": \"rgb(0, 0, 0)\"}, \"mode\": \"lines\", \"hoverinfo\": \"none\"}, {\"y\": [0.0, 1.0, null, 0.9476346480327754, 0.8776659754484841, null, 0.9476346480327754, 0.9256934811496907, null], \"x\": [0.5, 1.0, null, 0.9738173240163878, 0.9639630823912474, null, 0.9738173240163878, 0.9377166459078401, null], \"line\": {\"width\": 2, \"color\": \"rgb(0, 0, 0)\"}, \"mode\": \"lines\", \"hoverinfo\": \"none\"}, {\"y\": [0.0, 0.0, null, 0.0, -0.03474098105827558, null, 0.0, 0.03474098105827558, null], \"x\": [0.5, 1.0, null, 0.9621212121212122, 0.9288794484132434, null, 0.9621212121212122, 0.9288794484132434, null], \"line\": {\"width\": 2, \"color\": \"rgb(0, 0, 0)\"}, \"mode\": \"lines\", \"hoverinfo\": \"none\"}, {\"y\": [0.0, 0.5, null, 0.481676128503406, 0.4992073320037643, null, 0.481676128503406, 0.4319835048195859, null], \"x\": [1.0, 0.0, null, 0.03664774299318793, 0.07340128670201525, null, 0.03664774299318793, 0.06421703965128427, null], \"line\": {\"width\": 2, \"color\": \"rgb(0, 0, 0)\"}, \"mode\": \"lines\", \"hoverinfo\": \"none\"}, {\"y\": [0.0, 1.0, null, 0.927536231884058, 0.8639432926166397, null, 0.927536231884058, 0.8639432926166397, null], \"x\": [1.0, 1.0, null, 1.0, 1.0181600582804622, null, 1.0, 0.9818399417195378, null], \"line\": {\"width\": 2, \"color\": \"rgb(0, 0, 0)\"}, \"mode\": \"lines\", \"hoverinfo\": \"none\"}, {\"y\": [0.5], \"marker\": {\"line\": {\"width\": 2, \"color\": \"rgb(0, 0, 0)\"}, \"color\": \"rgb(255, 255, 255)\", \"size\": 20}, \"hoverinfo\": \"none\", \"textposition\": \"middle center\", \"x\": [0.0], \"mode\": \"markers+text\", \"text\": [\"0\"], \"textfont\": {\"color\": \"rgb(0, 0, 0)\"}}, {\"y\": [1.0], \"marker\": {\"line\": {\"width\": 2, \"color\": \"rgb(0, 0, 0)\"}, \"color\": \"rgb(255, 255, 255)\", \"size\": 20}, \"hoverinfo\": \"none\", \"textposition\": \"middle center\", \"x\": [0.5], \"mode\": \"markers+text\", \"text\": [\"6\"], \"textfont\": {\"color\": \"rgb(0, 0, 0)\"}}, {\"y\": [1.0], \"marker\": {\"line\": {\"width\": 2, \"color\": \"rgb(0, 0, 0)\"}, \"color\": \"rgb(255, 255, 255)\", \"size\": 20}, \"hoverinfo\": \"none\", \"textposition\": \"middle center\", \"x\": [1.0], \"mode\": \"markers+text\", \"text\": [\"11\"], \"textfont\": {\"color\": \"rgb(0, 0, 0)\"}}, {\"y\": [0.0], \"marker\": {\"line\": {\"width\": 2, \"color\": \"rgb(0, 0, 0)\"}, \"color\": \"rgb(255, 255, 255)\", \"size\": 20}, \"hoverinfo\": \"none\", \"textposition\": \"middle center\", \"x\": [0.5], \"mode\": \"markers+text\", \"text\": [\"7\"], \"textfont\": {\"color\": \"rgb(0, 0, 0)\"}}, {\"y\": [0.0], \"marker\": {\"line\": {\"width\": 2, \"color\": \"rgb(0, 0, 0)\"}, \"color\": \"rgb(255, 255, 255)\", \"size\": 20}, \"hoverinfo\": \"none\", \"textposition\": \"middle center\", \"x\": [1.0], \"mode\": \"markers+text\", \"text\": [\"\\u221e\"], \"textfont\": {\"color\": \"rgb(0, 0, 0)\"}}]}, {\"name\": 5, \"data\": [{\"y\": [0.5, 1.0, null, 0.966430854395385, 0.906182816233176, null, 0.966430854395385, 0.967759498957256, null], \"x\": [0.0, 0.5, null, 0.46643085439538495, 0.44538388103556675, null, 0.46643085439538495, 0.4285584341548651, null], \"line\": {\"width\": 2, \"color\": \"rgb(0, 0, 0)\"}, \"mode\": \"lines\", \"hoverinfo\": \"none\"}, {\"y\": [0.5, 0.0, null, 0.03356914560461503, 0.032240501042743994, null, 0.03356914560461503, 0.09381718376682407, null], \"x\": [0.0, 0.5, null, 0.46643085439538495, 0.4285584341548651, null, 0.46643085439538495, 0.44538388103556675, null], \"line\": {\"width\": 2, \"color\": \"rgb(0, 0, 0)\"}, \"mode\": \"lines\", \"hoverinfo\": \"none\"}, {\"y\": [1.0144927536231885, 1.0144927536231885, null, 1.0144927536231885, 1.049233734681464, null], \"x\": [0.5, 1.0, null, 0.9621212121212122, 0.9288794484132434, null], \"line\": {\"width\": 2, \"color\": \"rgb(0, 0, 0)\"}, \"mode\": \"lines\", \"hoverinfo\": \"none\"}, {\"y\": [1.0, 0.0, null, 0.07246376811594203, 0.13605670738336034, null, 0.07246376811594203, 0.13605670738336034, null], \"x\": [0.5, 0.5, null, 0.5, 0.48183994171953776, null, 0.5, 0.5181600582804622, null], \"line\": {\"width\": 2, \"color\": \"rgb(0, 0, 0)\"}, \"mode\": \"lines\", \"hoverinfo\": \"none\"}, {\"y\": [1.0, 0.0, null, 0.052365351967224576, 0.07430651885030926, null, 0.052365351967224576, 0.12233402455151593, null], \"x\": [0.5, 1.0, null, 0.9738173240163878, 0.9377166459078401, null, 0.9738173240163878, 0.9639630823912474, null], \"line\": {\"width\": 2, \"color\": \"rgb(0, 255, 0)\"}, \"mode\": \"lines\", \"hoverinfo\": \"none\"}, {\"y\": [0.9855072463768116, 0.9855072463768116, null, 0.9855072463768116, 0.950766265318536, null], \"x\": [1.0, 0.5, null, 0.5378787878787878, 0.5711205515867566, null], \"line\": {\"width\": 2, \"color\": \"rgb(0, 0, 0)\"}, \"mode\": \"lines\", \"hoverinfo\": \"none\"}, {\"y\": [0.0, 1.0, null, 0.9476346480327754, 0.8776659754484841, null, 0.9476346480327754, 0.9256934811496907, null], \"x\": [0.5, 1.0, null, 0.9738173240163878, 0.9639630823912474, null, 0.9738173240163878, 0.9377166459078401, null], \"line\": {\"width\": 2, \"color\": \"rgb(0, 0, 0)\"}, \"mode\": \"lines\", \"hoverinfo\": \"none\"}, {\"y\": [0.0, 0.0, null, 0.0, -0.03474098105827558, null, 0.0, 0.03474098105827558, null], \"x\": [0.5, 1.0, null, 0.9621212121212122, 0.9288794484132434, null, 0.9621212121212122, 0.9288794484132434, null], \"line\": {\"width\": 2, \"color\": \"rgb(0, 0, 0)\"}, \"mode\": \"lines\", \"hoverinfo\": \"none\"}, {\"y\": [0.0, 0.5, null, 0.481676128503406, 0.4992073320037643, null, 0.481676128503406, 0.4319835048195859, null], \"x\": [1.0, 0.0, null, 0.03664774299318793, 0.07340128670201525, null, 0.03664774299318793, 0.06421703965128427, null], \"line\": {\"width\": 2, \"color\": \"rgb(0, 0, 0)\"}, \"mode\": \"lines\", \"hoverinfo\": \"none\"}, {\"y\": [0.0, 1.0, null, 0.927536231884058, 0.8639432926166397, null, 0.927536231884058, 0.8639432926166397, null], \"x\": [1.0, 1.0, null, 1.0, 1.0181600582804622, null, 1.0, 0.9818399417195378, null], \"line\": {\"width\": 2, \"color\": \"rgb(0, 0, 0)\"}, \"mode\": \"lines\", \"hoverinfo\": \"none\"}, {\"y\": [0.5], \"marker\": {\"line\": {\"width\": 2, \"color\": \"rgb(0, 0, 0)\"}, \"color\": \"rgb(255, 255, 255)\", \"size\": 20}, \"hoverinfo\": \"none\", \"textposition\": \"middle center\", \"x\": [0.0], \"mode\": \"markers+text\", \"text\": [\"0\"], \"textfont\": {\"color\": \"rgb(0, 0, 0)\"}}, {\"y\": [1.0], \"marker\": {\"line\": {\"width\": 2, \"color\": \"rgb(0, 0, 0)\"}, \"color\": \"rgb(255, 255, 255)\", \"size\": 20}, \"hoverinfo\": \"none\", \"textposition\": \"middle center\", \"x\": [0.5], \"mode\": \"markers+text\", \"text\": [\"6\"], \"textfont\": {\"color\": \"rgb(0, 0, 0)\"}}, {\"y\": [1.0], \"marker\": {\"line\": {\"width\": 2, \"color\": \"rgb(0, 0, 0)\"}, \"color\": \"rgb(255, 255, 255)\", \"size\": 20}, \"hoverinfo\": \"none\", \"textposition\": \"middle center\", \"x\": [1.0], \"mode\": \"markers+text\", \"text\": [\"11\"], \"textfont\": {\"color\": \"rgb(0, 0, 0)\"}}, {\"y\": [0.0], \"marker\": {\"line\": {\"width\": 2, \"color\": \"rgb(0, 0, 0)\"}, \"color\": \"rgb(255, 255, 255)\", \"size\": 20}, \"hoverinfo\": \"none\", \"textposition\": \"middle center\", \"x\": [0.5], \"mode\": \"markers+text\", \"text\": [\"7\"], \"textfont\": {\"color\": \"rgb(0, 0, 0)\"}}, {\"y\": [0.0], \"marker\": {\"line\": {\"width\": 2, \"color\": \"rgb(0, 0, 0)\"}, \"color\": \"rgb(255, 255, 255)\", \"size\": 20}, \"hoverinfo\": \"none\", \"textposition\": \"middle center\", \"x\": [1.0], \"mode\": \"markers+text\", \"text\": [\"2\"], \"textfont\": {\"color\": \"rgb(0, 0, 0)\"}}]}, {\"name\": 6, \"data\": [{\"y\": [0.5, 1.0, null, 0.966430854395385, 0.906182816233176, null, 0.966430854395385, 0.967759498957256, null], \"x\": [0.0, 0.5, null, 0.46643085439538495, 0.44538388103556675, null, 0.46643085439538495, 0.4285584341548651, null], \"line\": {\"width\": 2, \"color\": \"rgb(0, 0, 0)\"}, \"mode\": \"lines\", \"hoverinfo\": \"none\"}, {\"y\": [0.5, 0.0, null, 0.03356914560461503, 0.032240501042743994, null, 0.03356914560461503, 0.09381718376682407, null], \"x\": [0.0, 0.5, null, 0.46643085439538495, 0.4285584341548651, null, 0.46643085439538495, 0.44538388103556675, null], \"line\": {\"width\": 2, \"color\": \"rgb(0, 0, 0)\"}, \"mode\": \"lines\", \"hoverinfo\": \"none\"}, {\"y\": [1.0144927536231885, 1.0144927536231885, null, 1.0144927536231885, 1.049233734681464, null], \"x\": [0.5, 1.0, null, 0.9621212121212122, 0.9288794484132434, null], \"line\": {\"width\": 2, \"color\": \"rgb(0, 0, 0)\"}, \"mode\": \"lines\", \"hoverinfo\": \"none\"}, {\"y\": [1.0, 0.0, null, 0.07246376811594203, 0.13605670738336034, null, 0.07246376811594203, 0.13605670738336034, null], \"x\": [0.5, 0.5, null, 0.5, 0.48183994171953776, null, 0.5, 0.5181600582804622, null], \"line\": {\"width\": 2, \"color\": \"rgb(0, 0, 0)\"}, \"mode\": \"lines\", \"hoverinfo\": \"none\"}, {\"y\": [1.0, 0.0, null, 0.052365351967224576, 0.07430651885030926, null, 0.052365351967224576, 0.12233402455151593, null], \"x\": [0.5, 1.0, null, 0.9738173240163878, 0.9377166459078401, null, 0.9738173240163878, 0.9639630823912474, null], \"line\": {\"width\": 2, \"color\": \"rgb(0, 0, 0)\"}, \"mode\": \"lines\", \"hoverinfo\": \"none\"}, {\"y\": [0.9855072463768116, 0.9855072463768116, null, 0.9855072463768116, 0.950766265318536, null], \"x\": [1.0, 0.5, null, 0.5378787878787878, 0.5711205515867566, null], \"line\": {\"width\": 2, \"color\": \"rgb(255, 0, 0)\"}, \"mode\": \"lines\", \"hoverinfo\": \"none\"}, {\"y\": [0.0, 1.0, null, 0.9476346480327754, 0.8776659754484841, null, 0.9476346480327754, 0.9256934811496907, null], \"x\": [0.5, 1.0, null, 0.9738173240163878, 0.9639630823912474, null, 0.9738173240163878, 0.9377166459078401, null], \"line\": {\"width\": 2, \"color\": \"rgb(0, 0, 0)\"}, \"mode\": \"lines\", \"hoverinfo\": \"none\"}, {\"y\": [0.0, 0.0, null, 0.0, -0.03474098105827558, null, 0.0, 0.03474098105827558, null], \"x\": [0.5, 1.0, null, 0.9621212121212122, 0.9288794484132434, null, 0.9621212121212122, 0.9288794484132434, null], \"line\": {\"width\": 2, \"color\": \"rgb(0, 0, 0)\"}, \"mode\": \"lines\", \"hoverinfo\": \"none\"}, {\"y\": [0.0, 0.5, null, 0.481676128503406, 0.4992073320037643, null, 0.481676128503406, 0.4319835048195859, null], \"x\": [1.0, 0.0, null, 0.03664774299318793, 0.07340128670201525, null, 0.03664774299318793, 0.06421703965128427, null], \"line\": {\"width\": 2, \"color\": \"rgb(0, 0, 0)\"}, \"mode\": \"lines\", \"hoverinfo\": \"none\"}, {\"y\": [0.0, 1.0, null, 0.927536231884058, 0.8639432926166397, null, 0.927536231884058, 0.8639432926166397, null], \"x\": [1.0, 1.0, null, 1.0, 1.0181600582804622, null, 1.0, 0.9818399417195378, null], \"line\": {\"width\": 2, \"color\": \"rgb(0, 0, 0)\"}, \"mode\": \"lines\", \"hoverinfo\": \"none\"}, {\"y\": [0.5], \"marker\": {\"line\": {\"width\": 2, \"color\": \"rgb(0, 0, 0)\"}, \"color\": \"rgb(255, 255, 255)\", \"size\": 20}, \"hoverinfo\": \"none\", \"textposition\": \"middle center\", \"x\": [0.0], \"mode\": \"markers+text\", \"text\": [\"0\"], \"textfont\": {\"color\": \"rgb(0, 0, 0)\"}}, {\"y\": [1.0], \"marker\": {\"line\": {\"width\": 2, \"color\": \"rgb(0, 0, 0)\"}, \"color\": \"rgb(255, 255, 255)\", \"size\": 20}, \"hoverinfo\": \"none\", \"textposition\": \"middle center\", \"x\": [0.5], \"mode\": \"markers+text\", \"text\": [\"6\"], \"textfont\": {\"color\": \"rgb(0, 0, 0)\"}}, {\"y\": [1.0], \"marker\": {\"line\": {\"width\": 2, \"color\": \"rgb(0, 0, 0)\"}, \"color\": \"rgb(255, 255, 255)\", \"size\": 20}, \"hoverinfo\": \"none\", \"textposition\": \"middle center\", \"x\": [1.0], \"mode\": \"markers+text\", \"text\": [\"11\"], \"textfont\": {\"color\": \"rgb(0, 0, 0)\"}}, {\"y\": [0.0], \"marker\": {\"line\": {\"width\": 2, \"color\": \"rgb(0, 0, 0)\"}, \"color\": \"rgb(255, 255, 255)\", \"size\": 20}, \"hoverinfo\": \"none\", \"textposition\": \"middle center\", \"x\": [0.5], \"mode\": \"markers+text\", \"text\": [\"7\"], \"textfont\": {\"color\": \"rgb(0, 0, 0)\"}}, {\"y\": [0.0], \"marker\": {\"line\": {\"width\": 2, \"color\": \"rgb(0, 0, 0)\"}, \"color\": \"rgb(255, 255, 255)\", \"size\": 20}, \"hoverinfo\": \"none\", \"textposition\": \"middle center\", \"x\": [1.0], \"mode\": \"markers+text\", \"text\": [\"2\"], \"textfont\": {\"color\": \"rgb(0, 0, 0)\"}}]}, {\"name\": 7, \"data\": [{\"y\": [0.5, 1.0, null, 0.966430854395385, 0.906182816233176, null, 0.966430854395385, 0.967759498957256, null], \"x\": [0.0, 0.5, null, 0.46643085439538495, 0.44538388103556675, null, 0.46643085439538495, 0.4285584341548651, null], \"line\": {\"width\": 2, \"color\": \"rgb(0, 0, 0)\"}, \"mode\": \"lines\", \"hoverinfo\": \"none\"}, {\"y\": [0.5, 0.0, null, 0.03356914560461503, 0.032240501042743994, null, 0.03356914560461503, 0.09381718376682407, null], \"x\": [0.0, 0.5, null, 0.46643085439538495, 0.4285584341548651, null, 0.46643085439538495, 0.44538388103556675, null], \"line\": {\"width\": 2, \"color\": \"rgb(0, 0, 0)\"}, \"mode\": \"lines\", \"hoverinfo\": \"none\"}, {\"y\": [1.0144927536231885, 1.0144927536231885, null, 1.0144927536231885, 1.049233734681464, null], \"x\": [0.5, 1.0, null, 0.9621212121212122, 0.9288794484132434, null], \"line\": {\"width\": 2, \"color\": \"rgb(0, 0, 0)\"}, \"mode\": \"lines\", \"hoverinfo\": \"none\"}, {\"y\": [1.0, 0.0, null, 0.07246376811594203, 0.13605670738336034, null, 0.07246376811594203, 0.13605670738336034, null], \"x\": [0.5, 0.5, null, 0.5, 0.48183994171953776, null, 0.5, 0.5181600582804622, null], \"line\": {\"width\": 2, \"color\": \"rgb(0, 0, 0)\"}, \"mode\": \"lines\", \"hoverinfo\": \"none\"}, {\"y\": [1.0, 0.0, null, 0.052365351967224576, 0.07430651885030926, null, 0.052365351967224576, 0.12233402455151593, null], \"x\": [0.5, 1.0, null, 0.9738173240163878, 0.9377166459078401, null, 0.9738173240163878, 0.9639630823912474, null], \"line\": {\"width\": 2, \"color\": \"rgb(0, 0, 0)\"}, \"mode\": \"lines\", \"hoverinfo\": \"none\"}, {\"y\": [0.9855072463768116, 0.9855072463768116, null, 0.9855072463768116, 0.950766265318536, null], \"x\": [1.0, 0.5, null, 0.5378787878787878, 0.5711205515867566, null], \"line\": {\"width\": 2, \"color\": \"rgb(0, 0, 0)\"}, \"mode\": \"lines\", \"hoverinfo\": \"none\"}, {\"y\": [0.0, 1.0, null, 0.9476346480327754, 0.8776659754484841, null, 0.9476346480327754, 0.9256934811496907, null], \"x\": [0.5, 1.0, null, 0.9738173240163878, 0.9639630823912474, null, 0.9738173240163878, 0.9377166459078401, null], \"line\": {\"width\": 2, \"color\": \"rgb(0, 255, 0)\"}, \"mode\": \"lines\", \"hoverinfo\": \"none\"}, {\"y\": [0.0, 0.0, null, 0.0, -0.03474098105827558, null, 0.0, 0.03474098105827558, null], \"x\": [0.5, 1.0, null, 0.9621212121212122, 0.9288794484132434, null, 0.9621212121212122, 0.9288794484132434, null], \"line\": {\"width\": 2, \"color\": \"rgb(0, 0, 0)\"}, \"mode\": \"lines\", \"hoverinfo\": \"none\"}, {\"y\": [0.0, 0.5, null, 0.481676128503406, 0.4992073320037643, null, 0.481676128503406, 0.4319835048195859, null], \"x\": [1.0, 0.0, null, 0.03664774299318793, 0.07340128670201525, null, 0.03664774299318793, 0.06421703965128427, null], \"line\": {\"width\": 2, \"color\": \"rgb(0, 0, 0)\"}, \"mode\": \"lines\", \"hoverinfo\": \"none\"}, {\"y\": [0.0, 1.0, null, 0.927536231884058, 0.8639432926166397, null, 0.927536231884058, 0.8639432926166397, null], \"x\": [1.0, 1.0, null, 1.0, 1.0181600582804622, null, 1.0, 0.9818399417195378, null], \"line\": {\"width\": 2, \"color\": \"rgb(0, 0, 0)\"}, \"mode\": \"lines\", \"hoverinfo\": \"none\"}, {\"y\": [0.5], \"marker\": {\"line\": {\"width\": 2, \"color\": \"rgb(0, 0, 0)\"}, \"color\": \"rgb(255, 255, 255)\", \"size\": 20}, \"hoverinfo\": \"none\", \"textposition\": \"middle center\", \"x\": [0.0], \"mode\": \"markers+text\", \"text\": [\"0\"], \"textfont\": {\"color\": \"rgb(0, 0, 0)\"}}, {\"y\": [1.0], \"marker\": {\"line\": {\"width\": 2, \"color\": \"rgb(0, 0, 0)\"}, \"color\": \"rgb(255, 255, 255)\", \"size\": 20}, \"hoverinfo\": \"none\", \"textposition\": \"middle center\", \"x\": [0.5], \"mode\": \"markers+text\", \"text\": [\"6\"], \"textfont\": {\"color\": \"rgb(0, 0, 0)\"}}, {\"y\": [1.0], \"marker\": {\"line\": {\"width\": 2, \"color\": \"rgb(0, 0, 0)\"}, \"color\": \"rgb(255, 255, 255)\", \"size\": 20}, \"hoverinfo\": \"none\", \"textposition\": \"middle center\", \"x\": [1.0], \"mode\": \"markers+text\", \"text\": [\"4\"], \"textfont\": {\"color\": \"rgb(0, 0, 0)\"}}, {\"y\": [0.0], \"marker\": {\"line\": {\"width\": 2, \"color\": \"rgb(0, 0, 0)\"}, \"color\": \"rgb(255, 255, 255)\", \"size\": 20}, \"hoverinfo\": \"none\", \"textposition\": \"middle center\", \"x\": [0.5], \"mode\": \"markers+text\", \"text\": [\"7\"], \"textfont\": {\"color\": \"rgb(0, 0, 0)\"}}, {\"y\": [0.0], \"marker\": {\"line\": {\"width\": 2, \"color\": \"rgb(0, 0, 0)\"}, \"color\": \"rgb(255, 255, 255)\", \"size\": 20}, \"hoverinfo\": \"none\", \"textposition\": \"middle center\", \"x\": [1.0], \"mode\": \"markers+text\", \"text\": [\"2\"], \"textfont\": {\"color\": \"rgb(0, 0, 0)\"}}]}, {\"name\": 8, \"data\": [{\"y\": [0.5, 1.0, null, 0.966430854395385, 0.906182816233176, null, 0.966430854395385, 0.967759498957256, null], \"x\": [0.0, 0.5, null, 0.46643085439538495, 0.44538388103556675, null, 0.46643085439538495, 0.4285584341548651, null], \"line\": {\"width\": 2, \"color\": \"rgb(0, 0, 0)\"}, \"mode\": \"lines\", \"hoverinfo\": \"none\"}, {\"y\": [0.5, 0.0, null, 0.03356914560461503, 0.032240501042743994, null, 0.03356914560461503, 0.09381718376682407, null], \"x\": [0.0, 0.5, null, 0.46643085439538495, 0.4285584341548651, null, 0.46643085439538495, 0.44538388103556675, null], \"line\": {\"width\": 2, \"color\": \"rgb(0, 0, 0)\"}, \"mode\": \"lines\", \"hoverinfo\": \"none\"}, {\"y\": [1.0144927536231885, 1.0144927536231885, null, 1.0144927536231885, 1.049233734681464, null], \"x\": [0.5, 1.0, null, 0.9621212121212122, 0.9288794484132434, null], \"line\": {\"width\": 2, \"color\": \"rgb(0, 0, 0)\"}, \"mode\": \"lines\", \"hoverinfo\": \"none\"}, {\"y\": [1.0, 0.0, null, 0.07246376811594203, 0.13605670738336034, null, 0.07246376811594203, 0.13605670738336034, null], \"x\": [0.5, 0.5, null, 0.5, 0.48183994171953776, null, 0.5, 0.5181600582804622, null], \"line\": {\"width\": 2, \"color\": \"rgb(0, 0, 0)\"}, \"mode\": \"lines\", \"hoverinfo\": \"none\"}, {\"y\": [1.0, 0.0, null, 0.052365351967224576, 0.07430651885030926, null, 0.052365351967224576, 0.12233402455151593, null], \"x\": [0.5, 1.0, null, 0.9738173240163878, 0.9377166459078401, null, 0.9738173240163878, 0.9639630823912474, null], \"line\": {\"width\": 2, \"color\": \"rgb(0, 0, 0)\"}, \"mode\": \"lines\", \"hoverinfo\": \"none\"}, {\"y\": [0.9855072463768116, 0.9855072463768116, null, 0.9855072463768116, 0.950766265318536, null], \"x\": [1.0, 0.5, null, 0.5378787878787878, 0.5711205515867566, null], \"line\": {\"width\": 2, \"color\": \"rgb(0, 0, 0)\"}, \"mode\": \"lines\", \"hoverinfo\": \"none\"}, {\"y\": [0.0, 1.0, null, 0.9476346480327754, 0.8776659754484841, null, 0.9476346480327754, 0.9256934811496907, null], \"x\": [0.5, 1.0, null, 0.9738173240163878, 0.9639630823912474, null, 0.9738173240163878, 0.9377166459078401, null], \"line\": {\"width\": 2, \"color\": \"rgb(0, 0, 0)\"}, \"mode\": \"lines\", \"hoverinfo\": \"none\"}, {\"y\": [0.0, 0.0, null, 0.0, -0.03474098105827558, null, 0.0, 0.03474098105827558, null], \"x\": [0.5, 1.0, null, 0.9621212121212122, 0.9288794484132434, null, 0.9621212121212122, 0.9288794484132434, null], \"line\": {\"width\": 2, \"color\": \"rgb(255, 0, 0)\"}, \"mode\": \"lines\", \"hoverinfo\": \"none\"}, {\"y\": [0.0, 0.5, null, 0.481676128503406, 0.4992073320037643, null, 0.481676128503406, 0.4319835048195859, null], \"x\": [1.0, 0.0, null, 0.03664774299318793, 0.07340128670201525, null, 0.03664774299318793, 0.06421703965128427, null], \"line\": {\"width\": 2, \"color\": \"rgb(0, 0, 0)\"}, \"mode\": \"lines\", \"hoverinfo\": \"none\"}, {\"y\": [0.0, 1.0, null, 0.927536231884058, 0.8639432926166397, null, 0.927536231884058, 0.8639432926166397, null], \"x\": [1.0, 1.0, null, 1.0, 1.0181600582804622, null, 1.0, 0.9818399417195378, null], \"line\": {\"width\": 2, \"color\": \"rgb(0, 0, 0)\"}, \"mode\": \"lines\", \"hoverinfo\": \"none\"}, {\"y\": [0.5], \"marker\": {\"line\": {\"width\": 2, \"color\": \"rgb(0, 0, 0)\"}, \"color\": \"rgb(255, 255, 255)\", \"size\": 20}, \"hoverinfo\": \"none\", \"textposition\": \"middle center\", \"x\": [0.0], \"mode\": \"markers+text\", \"text\": [\"0\"], \"textfont\": {\"color\": \"rgb(0, 0, 0)\"}}, {\"y\": [1.0], \"marker\": {\"line\": {\"width\": 2, \"color\": \"rgb(0, 0, 0)\"}, \"color\": \"rgb(255, 255, 255)\", \"size\": 20}, \"hoverinfo\": \"none\", \"textposition\": \"middle center\", \"x\": [0.5], \"mode\": \"markers+text\", \"text\": [\"6\"], \"textfont\": {\"color\": \"rgb(0, 0, 0)\"}}, {\"y\": [1.0], \"marker\": {\"line\": {\"width\": 2, \"color\": \"rgb(0, 0, 0)\"}, \"color\": \"rgb(255, 255, 255)\", \"size\": 20}, \"hoverinfo\": \"none\", \"textposition\": \"middle center\", \"x\": [1.0], \"mode\": \"markers+text\", \"text\": [\"4\"], \"textfont\": {\"color\": \"rgb(0, 0, 0)\"}}, {\"y\": [0.0], \"marker\": {\"line\": {\"width\": 2, \"color\": \"rgb(0, 0, 0)\"}, \"color\": \"rgb(255, 255, 255)\", \"size\": 20}, \"hoverinfo\": \"none\", \"textposition\": \"middle center\", \"x\": [0.5], \"mode\": \"markers+text\", \"text\": [\"7\"], \"textfont\": {\"color\": \"rgb(0, 0, 0)\"}}, {\"y\": [0.0], \"marker\": {\"line\": {\"width\": 2, \"color\": \"rgb(0, 0, 0)\"}, \"color\": \"rgb(255, 255, 255)\", \"size\": 20}, \"hoverinfo\": \"none\", \"textposition\": \"middle center\", \"x\": [1.0], \"mode\": \"markers+text\", \"text\": [\"2\"], \"textfont\": {\"color\": \"rgb(0, 0, 0)\"}}]}, {\"name\": 9, \"data\": [{\"y\": [0.5, 1.0, null, 0.966430854395385, 0.906182816233176, null, 0.966430854395385, 0.967759498957256, null], \"x\": [0.0, 0.5, null, 0.46643085439538495, 0.44538388103556675, null, 0.46643085439538495, 0.4285584341548651, null], \"line\": {\"width\": 2, \"color\": \"rgb(0, 0, 0)\"}, \"mode\": \"lines\", \"hoverinfo\": \"none\"}, {\"y\": [0.5, 0.0, null, 0.03356914560461503, 0.032240501042743994, null, 0.03356914560461503, 0.09381718376682407, null], \"x\": [0.0, 0.5, null, 0.46643085439538495, 0.4285584341548651, null, 0.46643085439538495, 0.44538388103556675, null], \"line\": {\"width\": 2, \"color\": \"rgb(0, 0, 0)\"}, \"mode\": \"lines\", \"hoverinfo\": \"none\"}, {\"y\": [1.0144927536231885, 1.0144927536231885, null, 1.0144927536231885, 1.049233734681464, null], \"x\": [0.5, 1.0, null, 0.9621212121212122, 0.9288794484132434, null], \"line\": {\"width\": 2, \"color\": \"rgb(0, 0, 0)\"}, \"mode\": \"lines\", \"hoverinfo\": \"none\"}, {\"y\": [1.0, 0.0, null, 0.07246376811594203, 0.13605670738336034, null, 0.07246376811594203, 0.13605670738336034, null], \"x\": [0.5, 0.5, null, 0.5, 0.48183994171953776, null, 0.5, 0.5181600582804622, null], \"line\": {\"width\": 2, \"color\": \"rgb(0, 0, 0)\"}, \"mode\": \"lines\", \"hoverinfo\": \"none\"}, {\"y\": [1.0, 0.0, null, 0.052365351967224576, 0.07430651885030926, null, 0.052365351967224576, 0.12233402455151593, null], \"x\": [0.5, 1.0, null, 0.9738173240163878, 0.9377166459078401, null, 0.9738173240163878, 0.9639630823912474, null], \"line\": {\"width\": 2, \"color\": \"rgb(0, 0, 0)\"}, \"mode\": \"lines\", \"hoverinfo\": \"none\"}, {\"y\": [0.9855072463768116, 0.9855072463768116, null, 0.9855072463768116, 0.950766265318536, null], \"x\": [1.0, 0.5, null, 0.5378787878787878, 0.5711205515867566, null], \"line\": {\"width\": 2, \"color\": \"rgb(0, 0, 0)\"}, \"mode\": \"lines\", \"hoverinfo\": \"none\"}, {\"y\": [0.0, 1.0, null, 0.9476346480327754, 0.8776659754484841, null, 0.9476346480327754, 0.9256934811496907, null], \"x\": [0.5, 1.0, null, 0.9738173240163878, 0.9639630823912474, null, 0.9738173240163878, 0.9377166459078401, null], \"line\": {\"width\": 2, \"color\": \"rgb(0, 0, 0)\"}, \"mode\": \"lines\", \"hoverinfo\": \"none\"}, {\"y\": [0.0, 0.0, null, 0.0, -0.03474098105827558, null, 0.0, 0.03474098105827558, null], \"x\": [0.5, 1.0, null, 0.9621212121212122, 0.9288794484132434, null, 0.9621212121212122, 0.9288794484132434, null], \"line\": {\"width\": 2, \"color\": \"rgb(0, 0, 0)\"}, \"mode\": \"lines\", \"hoverinfo\": \"none\"}, {\"y\": [0.0, 0.5, null, 0.481676128503406, 0.4992073320037643, null, 0.481676128503406, 0.4319835048195859, null], \"x\": [1.0, 0.0, null, 0.03664774299318793, 0.07340128670201525, null, 0.03664774299318793, 0.06421703965128427, null], \"line\": {\"width\": 2, \"color\": \"rgb(255, 0, 0)\"}, \"mode\": \"lines\", \"hoverinfo\": \"none\"}, {\"y\": [0.0, 1.0, null, 0.927536231884058, 0.8639432926166397, null, 0.927536231884058, 0.8639432926166397, null], \"x\": [1.0, 1.0, null, 1.0, 1.0181600582804622, null, 1.0, 0.9818399417195378, null], \"line\": {\"width\": 2, \"color\": \"rgb(0, 0, 0)\"}, \"mode\": \"lines\", \"hoverinfo\": \"none\"}, {\"y\": [0.5], \"marker\": {\"line\": {\"width\": 2, \"color\": \"rgb(0, 0, 0)\"}, \"color\": \"rgb(255, 255, 255)\", \"size\": 20}, \"hoverinfo\": \"none\", \"textposition\": \"middle center\", \"x\": [0.0], \"mode\": \"markers+text\", \"text\": [\"0\"], \"textfont\": {\"color\": \"rgb(0, 0, 0)\"}}, {\"y\": [1.0], \"marker\": {\"line\": {\"width\": 2, \"color\": \"rgb(0, 0, 0)\"}, \"color\": \"rgb(255, 255, 255)\", \"size\": 20}, \"hoverinfo\": \"none\", \"textposition\": \"middle center\", \"x\": [0.5], \"mode\": \"markers+text\", \"text\": [\"6\"], \"textfont\": {\"color\": \"rgb(0, 0, 0)\"}}, {\"y\": [1.0], \"marker\": {\"line\": {\"width\": 2, \"color\": \"rgb(0, 0, 0)\"}, \"color\": \"rgb(255, 255, 255)\", \"size\": 20}, \"hoverinfo\": \"none\", \"textposition\": \"middle center\", \"x\": [1.0], \"mode\": \"markers+text\", \"text\": [\"4\"], \"textfont\": {\"color\": \"rgb(0, 0, 0)\"}}, {\"y\": [0.0], \"marker\": {\"line\": {\"width\": 2, \"color\": \"rgb(0, 0, 0)\"}, \"color\": \"rgb(255, 255, 255)\", \"size\": 20}, \"hoverinfo\": \"none\", \"textposition\": \"middle center\", \"x\": [0.5], \"mode\": \"markers+text\", \"text\": [\"7\"], \"textfont\": {\"color\": \"rgb(0, 0, 0)\"}}, {\"y\": [0.0], \"marker\": {\"line\": {\"width\": 2, \"color\": \"rgb(0, 0, 0)\"}, \"color\": \"rgb(255, 255, 255)\", \"size\": 20}, \"hoverinfo\": \"none\", \"textposition\": \"middle center\", \"x\": [1.0], \"mode\": \"markers+text\", \"text\": [\"2\"], \"textfont\": {\"color\": \"rgb(0, 0, 0)\"}}]}, {\"name\": 10, \"data\": [{\"y\": [0.5, 1.0, null, 0.966430854395385, 0.906182816233176, null, 0.966430854395385, 0.967759498957256, null], \"x\": [0.0, 0.5, null, 0.46643085439538495, 0.44538388103556675, null, 0.46643085439538495, 0.4285584341548651, null], \"line\": {\"width\": 2, \"color\": \"rgb(0, 0, 0)\"}, \"mode\": \"lines\", \"hoverinfo\": \"none\"}, {\"y\": [0.5, 0.0, null, 0.03356914560461503, 0.032240501042743994, null, 0.03356914560461503, 0.09381718376682407, null], \"x\": [0.0, 0.5, null, 0.46643085439538495, 0.4285584341548651, null, 0.46643085439538495, 0.44538388103556675, null], \"line\": {\"width\": 2, \"color\": \"rgb(0, 0, 0)\"}, \"mode\": \"lines\", \"hoverinfo\": \"none\"}, {\"y\": [1.0144927536231885, 1.0144927536231885, null, 1.0144927536231885, 1.049233734681464, null], \"x\": [0.5, 1.0, null, 0.9621212121212122, 0.9288794484132434, null], \"line\": {\"width\": 2, \"color\": \"rgb(0, 0, 0)\"}, \"mode\": \"lines\", \"hoverinfo\": \"none\"}, {\"y\": [1.0, 0.0, null, 0.07246376811594203, 0.13605670738336034, null, 0.07246376811594203, 0.13605670738336034, null], \"x\": [0.5, 0.5, null, 0.5, 0.48183994171953776, null, 0.5, 0.5181600582804622, null], \"line\": {\"width\": 2, \"color\": \"rgb(0, 0, 0)\"}, \"mode\": \"lines\", \"hoverinfo\": \"none\"}, {\"y\": [1.0, 0.0, null, 0.052365351967224576, 0.07430651885030926, null, 0.052365351967224576, 0.12233402455151593, null], \"x\": [0.5, 1.0, null, 0.9738173240163878, 0.9377166459078401, null, 0.9738173240163878, 0.9639630823912474, null], \"line\": {\"width\": 2, \"color\": \"rgb(0, 0, 0)\"}, \"mode\": \"lines\", \"hoverinfo\": \"none\"}, {\"y\": [0.9855072463768116, 0.9855072463768116, null, 0.9855072463768116, 0.950766265318536, null], \"x\": [1.0, 0.5, null, 0.5378787878787878, 0.5711205515867566, null], \"line\": {\"width\": 2, \"color\": \"rgb(0, 0, 0)\"}, \"mode\": \"lines\", \"hoverinfo\": \"none\"}, {\"y\": [0.0, 1.0, null, 0.9476346480327754, 0.8776659754484841, null, 0.9476346480327754, 0.9256934811496907, null], \"x\": [0.5, 1.0, null, 0.9738173240163878, 0.9639630823912474, null, 0.9738173240163878, 0.9377166459078401, null], \"line\": {\"width\": 2, \"color\": \"rgb(0, 0, 0)\"}, \"mode\": \"lines\", \"hoverinfo\": \"none\"}, {\"y\": [0.0, 0.0, null, 0.0, -0.03474098105827558, null, 0.0, 0.03474098105827558, null], \"x\": [0.5, 1.0, null, 0.9621212121212122, 0.9288794484132434, null, 0.9621212121212122, 0.9288794484132434, null], \"line\": {\"width\": 2, \"color\": \"rgb(0, 0, 0)\"}, \"mode\": \"lines\", \"hoverinfo\": \"none\"}, {\"y\": [0.0, 0.5, null, 0.481676128503406, 0.4992073320037643, null, 0.481676128503406, 0.4319835048195859, null], \"x\": [1.0, 0.0, null, 0.03664774299318793, 0.07340128670201525, null, 0.03664774299318793, 0.06421703965128427, null], \"line\": {\"width\": 2, \"color\": \"rgb(0, 0, 0)\"}, \"mode\": \"lines\", \"hoverinfo\": \"none\"}, {\"y\": [0.0, 1.0, null, 0.927536231884058, 0.8639432926166397, null, 0.927536231884058, 0.8639432926166397, null], \"x\": [1.0, 1.0, null, 1.0, 1.0181600582804622, null, 1.0, 0.9818399417195378, null], \"line\": {\"width\": 2, \"color\": \"rgb(255, 0, 0)\"}, \"mode\": \"lines\", \"hoverinfo\": \"none\"}, {\"y\": [0.5], \"marker\": {\"line\": {\"width\": 2, \"color\": \"rgb(0, 0, 0)\"}, \"color\": \"rgb(255, 255, 255)\", \"size\": 20}, \"hoverinfo\": \"none\", \"textposition\": \"middle center\", \"x\": [0.0], \"mode\": \"markers+text\", \"text\": [\"0\"], \"textfont\": {\"color\": \"rgb(0, 0, 0)\"}}, {\"y\": [1.0], \"marker\": {\"line\": {\"width\": 2, \"color\": \"rgb(0, 0, 0)\"}, \"color\": \"rgb(255, 255, 255)\", \"size\": 20}, \"hoverinfo\": \"none\", \"textposition\": \"middle center\", \"x\": [0.5], \"mode\": \"markers+text\", \"text\": [\"6\"], \"textfont\": {\"color\": \"rgb(0, 0, 0)\"}}, {\"y\": [1.0], \"marker\": {\"line\": {\"width\": 2, \"color\": \"rgb(0, 0, 0)\"}, \"color\": \"rgb(255, 255, 255)\", \"size\": 20}, \"hoverinfo\": \"none\", \"textposition\": \"middle center\", \"x\": [1.0], \"mode\": \"markers+text\", \"text\": [\"4\"], \"textfont\": {\"color\": \"rgb(0, 0, 0)\"}}, {\"y\": [0.0], \"marker\": {\"line\": {\"width\": 2, \"color\": \"rgb(0, 0, 0)\"}, \"color\": \"rgb(255, 255, 255)\", \"size\": 20}, \"hoverinfo\": \"none\", \"textposition\": \"middle center\", \"x\": [0.5], \"mode\": \"markers+text\", \"text\": [\"7\"], \"textfont\": {\"color\": \"rgb(0, 0, 0)\"}}, {\"y\": [0.0], \"marker\": {\"line\": {\"width\": 2, \"color\": \"rgb(0, 0, 0)\"}, \"color\": \"rgb(255, 255, 255)\", \"size\": 20}, \"hoverinfo\": \"none\", \"textposition\": \"middle center\", \"x\": [1.0], \"mode\": \"markers+text\", \"text\": [\"2\"], \"textfont\": {\"color\": \"rgb(0, 0, 0)\"}}]}, {\"name\": 11, \"data\": [{\"y\": [0.5, 1.0, null, 0.966430854395385, 0.906182816233176, null, 0.966430854395385, 0.967759498957256, null], \"x\": [0.0, 0.5, null, 0.46643085439538495, 0.44538388103556675, null, 0.46643085439538495, 0.4285584341548651, null], \"line\": {\"width\": 2, \"color\": \"rgb(255, 0, 0)\"}, \"mode\": \"lines\", \"hoverinfo\": \"none\"}, {\"y\": [0.5, 0.0, null, 0.03356914560461503, 0.032240501042743994, null, 0.03356914560461503, 0.09381718376682407, null], \"x\": [0.0, 0.5, null, 0.46643085439538495, 0.4285584341548651, null, 0.46643085439538495, 0.44538388103556675, null], \"line\": {\"width\": 2, \"color\": \"rgb(0, 0, 0)\"}, \"mode\": \"lines\", \"hoverinfo\": \"none\"}, {\"y\": [1.0144927536231885, 1.0144927536231885, null, 1.0144927536231885, 1.049233734681464, null], \"x\": [0.5, 1.0, null, 0.9621212121212122, 0.9288794484132434, null], \"line\": {\"width\": 2, \"color\": \"rgb(0, 0, 0)\"}, \"mode\": \"lines\", \"hoverinfo\": \"none\"}, {\"y\": [1.0, 0.0, null, 0.07246376811594203, 0.13605670738336034, null, 0.07246376811594203, 0.13605670738336034, null], \"x\": [0.5, 0.5, null, 0.5, 0.48183994171953776, null, 0.5, 0.5181600582804622, null], \"line\": {\"width\": 2, \"color\": \"rgb(0, 0, 0)\"}, \"mode\": \"lines\", \"hoverinfo\": \"none\"}, {\"y\": [1.0, 0.0, null, 0.052365351967224576, 0.07430651885030926, null, 0.052365351967224576, 0.12233402455151593, null], \"x\": [0.5, 1.0, null, 0.9738173240163878, 0.9377166459078401, null, 0.9738173240163878, 0.9639630823912474, null], \"line\": {\"width\": 2, \"color\": \"rgb(0, 0, 0)\"}, \"mode\": \"lines\", \"hoverinfo\": \"none\"}, {\"y\": [0.9855072463768116, 0.9855072463768116, null, 0.9855072463768116, 0.950766265318536, null], \"x\": [1.0, 0.5, null, 0.5378787878787878, 0.5711205515867566, null], \"line\": {\"width\": 2, \"color\": \"rgb(0, 0, 0)\"}, \"mode\": \"lines\", \"hoverinfo\": \"none\"}, {\"y\": [0.0, 1.0, null, 0.9476346480327754, 0.8776659754484841, null, 0.9476346480327754, 0.9256934811496907, null], \"x\": [0.5, 1.0, null, 0.9738173240163878, 0.9639630823912474, null, 0.9738173240163878, 0.9377166459078401, null], \"line\": {\"width\": 2, \"color\": \"rgb(0, 0, 0)\"}, \"mode\": \"lines\", \"hoverinfo\": \"none\"}, {\"y\": [0.0, 0.0, null, 0.0, -0.03474098105827558, null, 0.0, 0.03474098105827558, null], \"x\": [0.5, 1.0, null, 0.9621212121212122, 0.9288794484132434, null, 0.9621212121212122, 0.9288794484132434, null], \"line\": {\"width\": 2, \"color\": \"rgb(0, 0, 0)\"}, \"mode\": \"lines\", \"hoverinfo\": \"none\"}, {\"y\": [0.0, 0.5, null, 0.481676128503406, 0.4992073320037643, null, 0.481676128503406, 0.4319835048195859, null], \"x\": [1.0, 0.0, null, 0.03664774299318793, 0.07340128670201525, null, 0.03664774299318793, 0.06421703965128427, null], \"line\": {\"width\": 2, \"color\": \"rgb(0, 0, 0)\"}, \"mode\": \"lines\", \"hoverinfo\": \"none\"}, {\"y\": [0.0, 1.0, null, 0.927536231884058, 0.8639432926166397, null, 0.927536231884058, 0.8639432926166397, null], \"x\": [1.0, 1.0, null, 1.0, 1.0181600582804622, null, 1.0, 0.9818399417195378, null], \"line\": {\"width\": 2, \"color\": \"rgb(0, 0, 0)\"}, \"mode\": \"lines\", \"hoverinfo\": \"none\"}, {\"y\": [0.5], \"marker\": {\"line\": {\"width\": 2, \"color\": \"rgb(0, 0, 0)\"}, \"color\": \"rgb(255, 255, 255)\", \"size\": 20}, \"hoverinfo\": \"none\", \"textposition\": \"middle center\", \"x\": [0.0], \"mode\": \"markers+text\", \"text\": [\"0\"], \"textfont\": {\"color\": \"rgb(0, 0, 0)\"}}, {\"y\": [1.0], \"marker\": {\"line\": {\"width\": 2, \"color\": \"rgb(0, 0, 0)\"}, \"color\": \"rgb(255, 255, 255)\", \"size\": 20}, \"hoverinfo\": \"none\", \"textposition\": \"middle center\", \"x\": [0.5], \"mode\": \"markers+text\", \"text\": [\"6\"], \"textfont\": {\"color\": \"rgb(0, 0, 0)\"}}, {\"y\": [1.0], \"marker\": {\"line\": {\"width\": 2, \"color\": \"rgb(0, 0, 0)\"}, \"color\": \"rgb(255, 255, 255)\", \"size\": 20}, \"hoverinfo\": \"none\", \"textposition\": \"middle center\", \"x\": [1.0], \"mode\": \"markers+text\", \"text\": [\"4\"], \"textfont\": {\"color\": \"rgb(0, 0, 0)\"}}, {\"y\": [0.0], \"marker\": {\"line\": {\"width\": 2, \"color\": \"rgb(0, 0, 0)\"}, \"color\": \"rgb(255, 255, 255)\", \"size\": 20}, \"hoverinfo\": \"none\", \"textposition\": \"middle center\", \"x\": [0.5], \"mode\": \"markers+text\", \"text\": [\"7\"], \"textfont\": {\"color\": \"rgb(0, 0, 0)\"}}, {\"y\": [0.0], \"marker\": {\"line\": {\"width\": 2, \"color\": \"rgb(0, 0, 0)\"}, \"color\": \"rgb(255, 255, 255)\", \"size\": 20}, \"hoverinfo\": \"none\", \"textposition\": \"middle center\", \"x\": [1.0], \"mode\": \"markers+text\", \"text\": [\"2\"], \"textfont\": {\"color\": \"rgb(0, 0, 0)\"}}]}, {\"name\": 12, \"data\": [{\"y\": [0.5, 1.0, null, 0.966430854395385, 0.906182816233176, null, 0.966430854395385, 0.967759498957256, null], \"x\": [0.0, 0.5, null, 0.46643085439538495, 0.44538388103556675, null, 0.46643085439538495, 0.4285584341548651, null], \"line\": {\"width\": 2, \"color\": \"rgb(0, 0, 0)\"}, \"mode\": \"lines\", \"hoverinfo\": \"none\"}, {\"y\": [0.5, 0.0, null, 0.03356914560461503, 0.032240501042743994, null, 0.03356914560461503, 0.09381718376682407, null], \"x\": [0.0, 0.5, null, 0.46643085439538495, 0.4285584341548651, null, 0.46643085439538495, 0.44538388103556675, null], \"line\": {\"width\": 2, \"color\": \"rgb(255, 0, 0)\"}, \"mode\": \"lines\", \"hoverinfo\": \"none\"}, {\"y\": [1.0144927536231885, 1.0144927536231885, null, 1.0144927536231885, 1.049233734681464, null], \"x\": [0.5, 1.0, null, 0.9621212121212122, 0.9288794484132434, null], \"line\": {\"width\": 2, \"color\": \"rgb(0, 0, 0)\"}, \"mode\": \"lines\", \"hoverinfo\": \"none\"}, {\"y\": [1.0, 0.0, null, 0.07246376811594203, 0.13605670738336034, null, 0.07246376811594203, 0.13605670738336034, null], \"x\": [0.5, 0.5, null, 0.5, 0.48183994171953776, null, 0.5, 0.5181600582804622, null], \"line\": {\"width\": 2, \"color\": \"rgb(0, 0, 0)\"}, \"mode\": \"lines\", \"hoverinfo\": \"none\"}, {\"y\": [1.0, 0.0, null, 0.052365351967224576, 0.07430651885030926, null, 0.052365351967224576, 0.12233402455151593, null], \"x\": [0.5, 1.0, null, 0.9738173240163878, 0.9377166459078401, null, 0.9738173240163878, 0.9639630823912474, null], \"line\": {\"width\": 2, \"color\": \"rgb(0, 0, 0)\"}, \"mode\": \"lines\", \"hoverinfo\": \"none\"}, {\"y\": [0.9855072463768116, 0.9855072463768116, null, 0.9855072463768116, 0.950766265318536, null], \"x\": [1.0, 0.5, null, 0.5378787878787878, 0.5711205515867566, null], \"line\": {\"width\": 2, \"color\": \"rgb(0, 0, 0)\"}, \"mode\": \"lines\", \"hoverinfo\": \"none\"}, {\"y\": [0.0, 1.0, null, 0.9476346480327754, 0.8776659754484841, null, 0.9476346480327754, 0.9256934811496907, null], \"x\": [0.5, 1.0, null, 0.9738173240163878, 0.9639630823912474, null, 0.9738173240163878, 0.9377166459078401, null], \"line\": {\"width\": 2, \"color\": \"rgb(0, 0, 0)\"}, \"mode\": \"lines\", \"hoverinfo\": \"none\"}, {\"y\": [0.0, 0.0, null, 0.0, -0.03474098105827558, null, 0.0, 0.03474098105827558, null], \"x\": [0.5, 1.0, null, 0.9621212121212122, 0.9288794484132434, null, 0.9621212121212122, 0.9288794484132434, null], \"line\": {\"width\": 2, \"color\": \"rgb(0, 0, 0)\"}, \"mode\": \"lines\", \"hoverinfo\": \"none\"}, {\"y\": [0.0, 0.5, null, 0.481676128503406, 0.4992073320037643, null, 0.481676128503406, 0.4319835048195859, null], \"x\": [1.0, 0.0, null, 0.03664774299318793, 0.07340128670201525, null, 0.03664774299318793, 0.06421703965128427, null], \"line\": {\"width\": 2, \"color\": \"rgb(0, 0, 0)\"}, \"mode\": \"lines\", \"hoverinfo\": \"none\"}, {\"y\": [0.0, 1.0, null, 0.927536231884058, 0.8639432926166397, null, 0.927536231884058, 0.8639432926166397, null], \"x\": [1.0, 1.0, null, 1.0, 1.0181600582804622, null, 1.0, 0.9818399417195378, null], \"line\": {\"width\": 2, \"color\": \"rgb(0, 0, 0)\"}, \"mode\": \"lines\", \"hoverinfo\": \"none\"}, {\"y\": [0.5], \"marker\": {\"line\": {\"width\": 2, \"color\": \"rgb(0, 0, 0)\"}, \"color\": \"rgb(255, 255, 255)\", \"size\": 20}, \"hoverinfo\": \"none\", \"textposition\": \"middle center\", \"x\": [0.0], \"mode\": \"markers+text\", \"text\": [\"0\"], \"textfont\": {\"color\": \"rgb(0, 0, 0)\"}}, {\"y\": [1.0], \"marker\": {\"line\": {\"width\": 2, \"color\": \"rgb(0, 0, 0)\"}, \"color\": \"rgb(255, 255, 255)\", \"size\": 20}, \"hoverinfo\": \"none\", \"textposition\": \"middle center\", \"x\": [0.5], \"mode\": \"markers+text\", \"text\": [\"6\"], \"textfont\": {\"color\": \"rgb(0, 0, 0)\"}}, {\"y\": [1.0], \"marker\": {\"line\": {\"width\": 2, \"color\": \"rgb(0, 0, 0)\"}, \"color\": \"rgb(255, 255, 255)\", \"size\": 20}, \"hoverinfo\": \"none\", \"textposition\": \"middle center\", \"x\": [1.0], \"mode\": \"markers+text\", \"text\": [\"4\"], \"textfont\": {\"color\": \"rgb(0, 0, 0)\"}}, {\"y\": [0.0], \"marker\": {\"line\": {\"width\": 2, \"color\": \"rgb(0, 0, 0)\"}, \"color\": \"rgb(255, 255, 255)\", \"size\": 20}, \"hoverinfo\": \"none\", \"textposition\": \"middle center\", \"x\": [0.5], \"mode\": \"markers+text\", \"text\": [\"7\"], \"textfont\": {\"color\": \"rgb(0, 0, 0)\"}}, {\"y\": [0.0], \"marker\": {\"line\": {\"width\": 2, \"color\": \"rgb(0, 0, 0)\"}, \"color\": \"rgb(255, 255, 255)\", \"size\": 20}, \"hoverinfo\": \"none\", \"textposition\": \"middle center\", \"x\": [1.0], \"mode\": \"markers+text\", \"text\": [\"2\"], \"textfont\": {\"color\": \"rgb(0, 0, 0)\"}}]}, {\"name\": 13, \"data\": [{\"y\": [0.5, 1.0, null, 0.966430854395385, 0.906182816233176, null, 0.966430854395385, 0.967759498957256, null], \"x\": [0.0, 0.5, null, 0.46643085439538495, 0.44538388103556675, null, 0.46643085439538495, 0.4285584341548651, null], \"line\": {\"width\": 2, \"color\": \"rgb(0, 0, 0)\"}, \"mode\": \"lines\", \"hoverinfo\": \"none\"}, {\"y\": [0.5, 0.0, null, 0.03356914560461503, 0.032240501042743994, null, 0.03356914560461503, 0.09381718376682407, null], \"x\": [0.0, 0.5, null, 0.46643085439538495, 0.4285584341548651, null, 0.46643085439538495, 0.44538388103556675, null], \"line\": {\"width\": 2, \"color\": \"rgb(0, 0, 0)\"}, \"mode\": \"lines\", \"hoverinfo\": \"none\"}, {\"y\": [1.0144927536231885, 1.0144927536231885, null, 1.0144927536231885, 1.049233734681464, null], \"x\": [0.5, 1.0, null, 0.9621212121212122, 0.9288794484132434, null], \"line\": {\"width\": 2, \"color\": \"rgb(255, 0, 0)\"}, \"mode\": \"lines\", \"hoverinfo\": \"none\"}, {\"y\": [1.0, 0.0, null, 0.07246376811594203, 0.13605670738336034, null, 0.07246376811594203, 0.13605670738336034, null], \"x\": [0.5, 0.5, null, 0.5, 0.48183994171953776, null, 0.5, 0.5181600582804622, null], \"line\": {\"width\": 2, \"color\": \"rgb(0, 0, 0)\"}, \"mode\": \"lines\", \"hoverinfo\": \"none\"}, {\"y\": [1.0, 0.0, null, 0.052365351967224576, 0.07430651885030926, null, 0.052365351967224576, 0.12233402455151593, null], \"x\": [0.5, 1.0, null, 0.9738173240163878, 0.9377166459078401, null, 0.9738173240163878, 0.9639630823912474, null], \"line\": {\"width\": 2, \"color\": \"rgb(0, 0, 0)\"}, \"mode\": \"lines\", \"hoverinfo\": \"none\"}, {\"y\": [0.9855072463768116, 0.9855072463768116, null, 0.9855072463768116, 0.950766265318536, null], \"x\": [1.0, 0.5, null, 0.5378787878787878, 0.5711205515867566, null], \"line\": {\"width\": 2, \"color\": \"rgb(0, 0, 0)\"}, \"mode\": \"lines\", \"hoverinfo\": \"none\"}, {\"y\": [0.0, 1.0, null, 0.9476346480327754, 0.8776659754484841, null, 0.9476346480327754, 0.9256934811496907, null], \"x\": [0.5, 1.0, null, 0.9738173240163878, 0.9639630823912474, null, 0.9738173240163878, 0.9377166459078401, null], \"line\": {\"width\": 2, \"color\": \"rgb(0, 0, 0)\"}, \"mode\": \"lines\", \"hoverinfo\": \"none\"}, {\"y\": [0.0, 0.0, null, 0.0, -0.03474098105827558, null, 0.0, 0.03474098105827558, null], \"x\": [0.5, 1.0, null, 0.9621212121212122, 0.9288794484132434, null, 0.9621212121212122, 0.9288794484132434, null], \"line\": {\"width\": 2, \"color\": \"rgb(0, 0, 0)\"}, \"mode\": \"lines\", \"hoverinfo\": \"none\"}, {\"y\": [0.0, 0.5, null, 0.481676128503406, 0.4992073320037643, null, 0.481676128503406, 0.4319835048195859, null], \"x\": [1.0, 0.0, null, 0.03664774299318793, 0.07340128670201525, null, 0.03664774299318793, 0.06421703965128427, null], \"line\": {\"width\": 2, \"color\": \"rgb(0, 0, 0)\"}, \"mode\": \"lines\", \"hoverinfo\": \"none\"}, {\"y\": [0.0, 1.0, null, 0.927536231884058, 0.8639432926166397, null, 0.927536231884058, 0.8639432926166397, null], \"x\": [1.0, 1.0, null, 1.0, 1.0181600582804622, null, 1.0, 0.9818399417195378, null], \"line\": {\"width\": 2, \"color\": \"rgb(0, 0, 0)\"}, \"mode\": \"lines\", \"hoverinfo\": \"none\"}, {\"y\": [0.5], \"marker\": {\"line\": {\"width\": 2, \"color\": \"rgb(0, 0, 0)\"}, \"color\": \"rgb(255, 255, 255)\", \"size\": 20}, \"hoverinfo\": \"none\", \"textposition\": \"middle center\", \"x\": [0.0], \"mode\": \"markers+text\", \"text\": [\"0\"], \"textfont\": {\"color\": \"rgb(0, 0, 0)\"}}, {\"y\": [1.0], \"marker\": {\"line\": {\"width\": 2, \"color\": \"rgb(0, 0, 0)\"}, \"color\": \"rgb(255, 255, 255)\", \"size\": 20}, \"hoverinfo\": \"none\", \"textposition\": \"middle center\", \"x\": [0.5], \"mode\": \"markers+text\", \"text\": [\"6\"], \"textfont\": {\"color\": \"rgb(0, 0, 0)\"}}, {\"y\": [1.0], \"marker\": {\"line\": {\"width\": 2, \"color\": \"rgb(0, 0, 0)\"}, \"color\": \"rgb(255, 255, 255)\", \"size\": 20}, \"hoverinfo\": \"none\", \"textposition\": \"middle center\", \"x\": [1.0], \"mode\": \"markers+text\", \"text\": [\"4\"], \"textfont\": {\"color\": \"rgb(0, 0, 0)\"}}, {\"y\": [0.0], \"marker\": {\"line\": {\"width\": 2, \"color\": \"rgb(0, 0, 0)\"}, \"color\": \"rgb(255, 255, 255)\", \"size\": 20}, \"hoverinfo\": \"none\", \"textposition\": \"middle center\", \"x\": [0.5], \"mode\": \"markers+text\", \"text\": [\"7\"], \"textfont\": {\"color\": \"rgb(0, 0, 0)\"}}, {\"y\": [0.0], \"marker\": {\"line\": {\"width\": 2, \"color\": \"rgb(0, 0, 0)\"}, \"color\": \"rgb(255, 255, 255)\", \"size\": 20}, \"hoverinfo\": \"none\", \"textposition\": \"middle center\", \"x\": [1.0], \"mode\": \"markers+text\", \"text\": [\"2\"], \"textfont\": {\"color\": \"rgb(0, 0, 0)\"}}]}, {\"name\": 14, \"data\": [{\"y\": [0.5, 1.0, null, 0.966430854395385, 0.906182816233176, null, 0.966430854395385, 0.967759498957256, null], \"x\": [0.0, 0.5, null, 0.46643085439538495, 0.44538388103556675, null, 0.46643085439538495, 0.4285584341548651, null], \"line\": {\"width\": 2, \"color\": \"rgb(0, 0, 0)\"}, \"mode\": \"lines\", \"hoverinfo\": \"none\"}, {\"y\": [0.5, 0.0, null, 0.03356914560461503, 0.032240501042743994, null, 0.03356914560461503, 0.09381718376682407, null], \"x\": [0.0, 0.5, null, 0.46643085439538495, 0.4285584341548651, null, 0.46643085439538495, 0.44538388103556675, null], \"line\": {\"width\": 2, \"color\": \"rgb(0, 0, 0)\"}, \"mode\": \"lines\", \"hoverinfo\": \"none\"}, {\"y\": [1.0144927536231885, 1.0144927536231885, null, 1.0144927536231885, 1.049233734681464, null], \"x\": [0.5, 1.0, null, 0.9621212121212122, 0.9288794484132434, null], \"line\": {\"width\": 2, \"color\": \"rgb(0, 0, 0)\"}, \"mode\": \"lines\", \"hoverinfo\": \"none\"}, {\"y\": [1.0, 0.0, null, 0.07246376811594203, 0.13605670738336034, null, 0.07246376811594203, 0.13605670738336034, null], \"x\": [0.5, 0.5, null, 0.5, 0.48183994171953776, null, 0.5, 0.5181600582804622, null], \"line\": {\"width\": 2, \"color\": \"rgb(255, 0, 0)\"}, \"mode\": \"lines\", \"hoverinfo\": \"none\"}, {\"y\": [1.0, 0.0, null, 0.052365351967224576, 0.07430651885030926, null, 0.052365351967224576, 0.12233402455151593, null], \"x\": [0.5, 1.0, null, 0.9738173240163878, 0.9377166459078401, null, 0.9738173240163878, 0.9639630823912474, null], \"line\": {\"width\": 2, \"color\": \"rgb(0, 0, 0)\"}, \"mode\": \"lines\", \"hoverinfo\": \"none\"}, {\"y\": [0.9855072463768116, 0.9855072463768116, null, 0.9855072463768116, 0.950766265318536, null], \"x\": [1.0, 0.5, null, 0.5378787878787878, 0.5711205515867566, null], \"line\": {\"width\": 2, \"color\": \"rgb(0, 0, 0)\"}, \"mode\": \"lines\", \"hoverinfo\": \"none\"}, {\"y\": [0.0, 1.0, null, 0.9476346480327754, 0.8776659754484841, null, 0.9476346480327754, 0.9256934811496907, null], \"x\": [0.5, 1.0, null, 0.9738173240163878, 0.9639630823912474, null, 0.9738173240163878, 0.9377166459078401, null], \"line\": {\"width\": 2, \"color\": \"rgb(0, 0, 0)\"}, \"mode\": \"lines\", \"hoverinfo\": \"none\"}, {\"y\": [0.0, 0.0, null, 0.0, -0.03474098105827558, null, 0.0, 0.03474098105827558, null], \"x\": [0.5, 1.0, null, 0.9621212121212122, 0.9288794484132434, null, 0.9621212121212122, 0.9288794484132434, null], \"line\": {\"width\": 2, \"color\": \"rgb(0, 0, 0)\"}, \"mode\": \"lines\", \"hoverinfo\": \"none\"}, {\"y\": [0.0, 0.5, null, 0.481676128503406, 0.4992073320037643, null, 0.481676128503406, 0.4319835048195859, null], \"x\": [1.0, 0.0, null, 0.03664774299318793, 0.07340128670201525, null, 0.03664774299318793, 0.06421703965128427, null], \"line\": {\"width\": 2, \"color\": \"rgb(0, 0, 0)\"}, \"mode\": \"lines\", \"hoverinfo\": \"none\"}, {\"y\": [0.0, 1.0, null, 0.927536231884058, 0.8639432926166397, null, 0.927536231884058, 0.8639432926166397, null], \"x\": [1.0, 1.0, null, 1.0, 1.0181600582804622, null, 1.0, 0.9818399417195378, null], \"line\": {\"width\": 2, \"color\": \"rgb(0, 0, 0)\"}, \"mode\": \"lines\", \"hoverinfo\": \"none\"}, {\"y\": [0.5], \"marker\": {\"line\": {\"width\": 2, \"color\": \"rgb(0, 0, 0)\"}, \"color\": \"rgb(255, 255, 255)\", \"size\": 20}, \"hoverinfo\": \"none\", \"textposition\": \"middle center\", \"x\": [0.0], \"mode\": \"markers+text\", \"text\": [\"0\"], \"textfont\": {\"color\": \"rgb(0, 0, 0)\"}}, {\"y\": [1.0], \"marker\": {\"line\": {\"width\": 2, \"color\": \"rgb(0, 0, 0)\"}, \"color\": \"rgb(255, 255, 255)\", \"size\": 20}, \"hoverinfo\": \"none\", \"textposition\": \"middle center\", \"x\": [0.5], \"mode\": \"markers+text\", \"text\": [\"6\"], \"textfont\": {\"color\": \"rgb(0, 0, 0)\"}}, {\"y\": [1.0], \"marker\": {\"line\": {\"width\": 2, \"color\": \"rgb(0, 0, 0)\"}, \"color\": \"rgb(255, 255, 255)\", \"size\": 20}, \"hoverinfo\": \"none\", \"textposition\": \"middle center\", \"x\": [1.0], \"mode\": \"markers+text\", \"text\": [\"4\"], \"textfont\": {\"color\": \"rgb(0, 0, 0)\"}}, {\"y\": [0.0], \"marker\": {\"line\": {\"width\": 2, \"color\": \"rgb(0, 0, 0)\"}, \"color\": \"rgb(255, 255, 255)\", \"size\": 20}, \"hoverinfo\": \"none\", \"textposition\": \"middle center\", \"x\": [0.5], \"mode\": \"markers+text\", \"text\": [\"7\"], \"textfont\": {\"color\": \"rgb(0, 0, 0)\"}}, {\"y\": [0.0], \"marker\": {\"line\": {\"width\": 2, \"color\": \"rgb(0, 0, 0)\"}, \"color\": \"rgb(255, 255, 255)\", \"size\": 20}, \"hoverinfo\": \"none\", \"textposition\": \"middle center\", \"x\": [1.0], \"mode\": \"markers+text\", \"text\": [\"2\"], \"textfont\": {\"color\": \"rgb(0, 0, 0)\"}}]}, {\"name\": 15, \"data\": [{\"y\": [0.5, 1.0, null, 0.966430854395385, 0.906182816233176, null, 0.966430854395385, 0.967759498957256, null], \"x\": [0.0, 0.5, null, 0.46643085439538495, 0.44538388103556675, null, 0.46643085439538495, 0.4285584341548651, null], \"line\": {\"width\": 2, \"color\": \"rgb(0, 0, 0)\"}, \"mode\": \"lines\", \"hoverinfo\": \"none\"}, {\"y\": [0.5, 0.0, null, 0.03356914560461503, 0.032240501042743994, null, 0.03356914560461503, 0.09381718376682407, null], \"x\": [0.0, 0.5, null, 0.46643085439538495, 0.4285584341548651, null, 0.46643085439538495, 0.44538388103556675, null], \"line\": {\"width\": 2, \"color\": \"rgb(0, 0, 0)\"}, \"mode\": \"lines\", \"hoverinfo\": \"none\"}, {\"y\": [1.0144927536231885, 1.0144927536231885, null, 1.0144927536231885, 1.049233734681464, null], \"x\": [0.5, 1.0, null, 0.9621212121212122, 0.9288794484132434, null], \"line\": {\"width\": 2, \"color\": \"rgb(0, 0, 0)\"}, \"mode\": \"lines\", \"hoverinfo\": \"none\"}, {\"y\": [1.0, 0.0, null, 0.07246376811594203, 0.13605670738336034, null, 0.07246376811594203, 0.13605670738336034, null], \"x\": [0.5, 0.5, null, 0.5, 0.48183994171953776, null, 0.5, 0.5181600582804622, null], \"line\": {\"width\": 2, \"color\": \"rgb(0, 0, 0)\"}, \"mode\": \"lines\", \"hoverinfo\": \"none\"}, {\"y\": [1.0, 0.0, null, 0.052365351967224576, 0.07430651885030926, null, 0.052365351967224576, 0.12233402455151593, null], \"x\": [0.5, 1.0, null, 0.9738173240163878, 0.9377166459078401, null, 0.9738173240163878, 0.9639630823912474, null], \"line\": {\"width\": 2, \"color\": \"rgb(255, 0, 0)\"}, \"mode\": \"lines\", \"hoverinfo\": \"none\"}, {\"y\": [0.9855072463768116, 0.9855072463768116, null, 0.9855072463768116, 0.950766265318536, null], \"x\": [1.0, 0.5, null, 0.5378787878787878, 0.5711205515867566, null], \"line\": {\"width\": 2, \"color\": \"rgb(0, 0, 0)\"}, \"mode\": \"lines\", \"hoverinfo\": \"none\"}, {\"y\": [0.0, 1.0, null, 0.9476346480327754, 0.8776659754484841, null, 0.9476346480327754, 0.9256934811496907, null], \"x\": [0.5, 1.0, null, 0.9738173240163878, 0.9639630823912474, null, 0.9738173240163878, 0.9377166459078401, null], \"line\": {\"width\": 2, \"color\": \"rgb(0, 0, 0)\"}, \"mode\": \"lines\", \"hoverinfo\": \"none\"}, {\"y\": [0.0, 0.0, null, 0.0, -0.03474098105827558, null, 0.0, 0.03474098105827558, null], \"x\": [0.5, 1.0, null, 0.9621212121212122, 0.9288794484132434, null, 0.9621212121212122, 0.9288794484132434, null], \"line\": {\"width\": 2, \"color\": \"rgb(0, 0, 0)\"}, \"mode\": \"lines\", \"hoverinfo\": \"none\"}, {\"y\": [0.0, 0.5, null, 0.481676128503406, 0.4992073320037643, null, 0.481676128503406, 0.4319835048195859, null], \"x\": [1.0, 0.0, null, 0.03664774299318793, 0.07340128670201525, null, 0.03664774299318793, 0.06421703965128427, null], \"line\": {\"width\": 2, \"color\": \"rgb(0, 0, 0)\"}, \"mode\": \"lines\", \"hoverinfo\": \"none\"}, {\"y\": [0.0, 1.0, null, 0.927536231884058, 0.8639432926166397, null, 0.927536231884058, 0.8639432926166397, null], \"x\": [1.0, 1.0, null, 1.0, 1.0181600582804622, null, 1.0, 0.9818399417195378, null], \"line\": {\"width\": 2, \"color\": \"rgb(0, 0, 0)\"}, \"mode\": \"lines\", \"hoverinfo\": \"none\"}, {\"y\": [0.5], \"marker\": {\"line\": {\"width\": 2, \"color\": \"rgb(0, 0, 0)\"}, \"color\": \"rgb(255, 255, 255)\", \"size\": 20}, \"hoverinfo\": \"none\", \"textposition\": \"middle center\", \"x\": [0.0], \"mode\": \"markers+text\", \"text\": [\"0\"], \"textfont\": {\"color\": \"rgb(0, 0, 0)\"}}, {\"y\": [1.0], \"marker\": {\"line\": {\"width\": 2, \"color\": \"rgb(0, 0, 0)\"}, \"color\": \"rgb(255, 255, 255)\", \"size\": 20}, \"hoverinfo\": \"none\", \"textposition\": \"middle center\", \"x\": [0.5], \"mode\": \"markers+text\", \"text\": [\"6\"], \"textfont\": {\"color\": \"rgb(0, 0, 0)\"}}, {\"y\": [1.0], \"marker\": {\"line\": {\"width\": 2, \"color\": \"rgb(0, 0, 0)\"}, \"color\": \"rgb(255, 255, 255)\", \"size\": 20}, \"hoverinfo\": \"none\", \"textposition\": \"middle center\", \"x\": [1.0], \"mode\": \"markers+text\", \"text\": [\"4\"], \"textfont\": {\"color\": \"rgb(0, 0, 0)\"}}, {\"y\": [0.0], \"marker\": {\"line\": {\"width\": 2, \"color\": \"rgb(0, 0, 0)\"}, \"color\": \"rgb(255, 255, 255)\", \"size\": 20}, \"hoverinfo\": \"none\", \"textposition\": \"middle center\", \"x\": [0.5], \"mode\": \"markers+text\", \"text\": [\"7\"], \"textfont\": {\"color\": \"rgb(0, 0, 0)\"}}, {\"y\": [0.0], \"marker\": {\"line\": {\"width\": 2, \"color\": \"rgb(0, 0, 0)\"}, \"color\": \"rgb(255, 255, 255)\", \"size\": 20}, \"hoverinfo\": \"none\", \"textposition\": \"middle center\", \"x\": [1.0], \"mode\": \"markers+text\", \"text\": [\"2\"], \"textfont\": {\"color\": \"rgb(0, 0, 0)\"}}]}, {\"name\": 16, \"data\": [{\"y\": [0.5, 1.0, null, 0.966430854395385, 0.906182816233176, null, 0.966430854395385, 0.967759498957256, null], \"x\": [0.0, 0.5, null, 0.46643085439538495, 0.44538388103556675, null, 0.46643085439538495, 0.4285584341548651, null], \"line\": {\"width\": 2, \"color\": \"rgb(0, 0, 0)\"}, \"mode\": \"lines\", \"hoverinfo\": \"none\"}, {\"y\": [0.5, 0.0, null, 0.03356914560461503, 0.032240501042743994, null, 0.03356914560461503, 0.09381718376682407, null], \"x\": [0.0, 0.5, null, 0.46643085439538495, 0.4285584341548651, null, 0.46643085439538495, 0.44538388103556675, null], \"line\": {\"width\": 2, \"color\": \"rgb(0, 0, 0)\"}, \"mode\": \"lines\", \"hoverinfo\": \"none\"}, {\"y\": [1.0144927536231885, 1.0144927536231885, null, 1.0144927536231885, 1.049233734681464, null], \"x\": [0.5, 1.0, null, 0.9621212121212122, 0.9288794484132434, null], \"line\": {\"width\": 2, \"color\": \"rgb(0, 0, 0)\"}, \"mode\": \"lines\", \"hoverinfo\": \"none\"}, {\"y\": [1.0, 0.0, null, 0.07246376811594203, 0.13605670738336034, null, 0.07246376811594203, 0.13605670738336034, null], \"x\": [0.5, 0.5, null, 0.5, 0.48183994171953776, null, 0.5, 0.5181600582804622, null], \"line\": {\"width\": 2, \"color\": \"rgb(0, 0, 0)\"}, \"mode\": \"lines\", \"hoverinfo\": \"none\"}, {\"y\": [1.0, 0.0, null, 0.052365351967224576, 0.07430651885030926, null, 0.052365351967224576, 0.12233402455151593, null], \"x\": [0.5, 1.0, null, 0.9738173240163878, 0.9377166459078401, null, 0.9738173240163878, 0.9639630823912474, null], \"line\": {\"width\": 2, \"color\": \"rgb(0, 0, 0)\"}, \"mode\": \"lines\", \"hoverinfo\": \"none\"}, {\"y\": [0.9855072463768116, 0.9855072463768116, null, 0.9855072463768116, 0.950766265318536, null], \"x\": [1.0, 0.5, null, 0.5378787878787878, 0.5711205515867566, null], \"line\": {\"width\": 2, \"color\": \"rgb(0, 255, 0)\"}, \"mode\": \"lines\", \"hoverinfo\": \"none\"}, {\"y\": [0.0, 1.0, null, 0.9476346480327754, 0.8776659754484841, null, 0.9476346480327754, 0.9256934811496907, null], \"x\": [0.5, 1.0, null, 0.9738173240163878, 0.9639630823912474, null, 0.9738173240163878, 0.9377166459078401, null], \"line\": {\"width\": 2, \"color\": \"rgb(0, 0, 0)\"}, \"mode\": \"lines\", \"hoverinfo\": \"none\"}, {\"y\": [0.0, 0.0, null, 0.0, -0.03474098105827558, null, 0.0, 0.03474098105827558, null], \"x\": [0.5, 1.0, null, 0.9621212121212122, 0.9288794484132434, null, 0.9621212121212122, 0.9288794484132434, null], \"line\": {\"width\": 2, \"color\": \"rgb(0, 0, 0)\"}, \"mode\": \"lines\", \"hoverinfo\": \"none\"}, {\"y\": [0.0, 0.5, null, 0.481676128503406, 0.4992073320037643, null, 0.481676128503406, 0.4319835048195859, null], \"x\": [1.0, 0.0, null, 0.03664774299318793, 0.07340128670201525, null, 0.03664774299318793, 0.06421703965128427, null], \"line\": {\"width\": 2, \"color\": \"rgb(0, 0, 0)\"}, \"mode\": \"lines\", \"hoverinfo\": \"none\"}, {\"y\": [0.0, 1.0, null, 0.927536231884058, 0.8639432926166397, null, 0.927536231884058, 0.8639432926166397, null], \"x\": [1.0, 1.0, null, 1.0, 1.0181600582804622, null, 1.0, 0.9818399417195378, null], \"line\": {\"width\": 2, \"color\": \"rgb(0, 0, 0)\"}, \"mode\": \"lines\", \"hoverinfo\": \"none\"}, {\"y\": [0.5], \"marker\": {\"line\": {\"width\": 2, \"color\": \"rgb(0, 0, 0)\"}, \"color\": \"rgb(255, 255, 255)\", \"size\": 20}, \"hoverinfo\": \"none\", \"textposition\": \"middle center\", \"x\": [0.0], \"mode\": \"markers+text\", \"text\": [\"0\"], \"textfont\": {\"color\": \"rgb(0, 0, 0)\"}}, {\"y\": [1.0], \"marker\": {\"line\": {\"width\": 2, \"color\": \"rgb(0, 0, 0)\"}, \"color\": \"rgb(255, 255, 255)\", \"size\": 20}, \"hoverinfo\": \"none\", \"textposition\": \"middle center\", \"x\": [0.5], \"mode\": \"markers+text\", \"text\": [\"2\"], \"textfont\": {\"color\": \"rgb(0, 0, 0)\"}}, {\"y\": [1.0], \"marker\": {\"line\": {\"width\": 2, \"color\": \"rgb(0, 0, 0)\"}, \"color\": \"rgb(255, 255, 255)\", \"size\": 20}, \"hoverinfo\": \"none\", \"textposition\": \"middle center\", \"x\": [1.0], \"mode\": \"markers+text\", \"text\": [\"4\"], \"textfont\": {\"color\": \"rgb(0, 0, 0)\"}}, {\"y\": [0.0], \"marker\": {\"line\": {\"width\": 2, \"color\": \"rgb(0, 0, 0)\"}, \"color\": \"rgb(255, 255, 255)\", \"size\": 20}, \"hoverinfo\": \"none\", \"textposition\": \"middle center\", \"x\": [0.5], \"mode\": \"markers+text\", \"text\": [\"7\"], \"textfont\": {\"color\": \"rgb(0, 0, 0)\"}}, {\"y\": [0.0], \"marker\": {\"line\": {\"width\": 2, \"color\": \"rgb(0, 0, 0)\"}, \"color\": \"rgb(255, 255, 255)\", \"size\": 20}, \"hoverinfo\": \"none\", \"textposition\": \"middle center\", \"x\": [1.0], \"mode\": \"markers+text\", \"text\": [\"2\"], \"textfont\": {\"color\": \"rgb(0, 0, 0)\"}}]}, {\"name\": 17, \"data\": [{\"y\": [0.5, 1.0, null, 0.966430854395385, 0.906182816233176, null, 0.966430854395385, 0.967759498957256, null], \"x\": [0.0, 0.5, null, 0.46643085439538495, 0.44538388103556675, null, 0.46643085439538495, 0.4285584341548651, null], \"line\": {\"width\": 2, \"color\": \"rgb(0, 0, 0)\"}, \"mode\": \"lines\", \"hoverinfo\": \"none\"}, {\"y\": [0.5, 0.0, null, 0.03356914560461503, 0.032240501042743994, null, 0.03356914560461503, 0.09381718376682407, null], \"x\": [0.0, 0.5, null, 0.46643085439538495, 0.4285584341548651, null, 0.46643085439538495, 0.44538388103556675, null], \"line\": {\"width\": 2, \"color\": \"rgb(0, 0, 0)\"}, \"mode\": \"lines\", \"hoverinfo\": \"none\"}, {\"y\": [1.0144927536231885, 1.0144927536231885, null, 1.0144927536231885, 1.049233734681464, null], \"x\": [0.5, 1.0, null, 0.9621212121212122, 0.9288794484132434, null], \"line\": {\"width\": 2, \"color\": \"rgb(0, 0, 0)\"}, \"mode\": \"lines\", \"hoverinfo\": \"none\"}, {\"y\": [1.0, 0.0, null, 0.07246376811594203, 0.13605670738336034, null, 0.07246376811594203, 0.13605670738336034, null], \"x\": [0.5, 0.5, null, 0.5, 0.48183994171953776, null, 0.5, 0.5181600582804622, null], \"line\": {\"width\": 2, \"color\": \"rgb(0, 0, 0)\"}, \"mode\": \"lines\", \"hoverinfo\": \"none\"}, {\"y\": [1.0, 0.0, null, 0.052365351967224576, 0.07430651885030926, null, 0.052365351967224576, 0.12233402455151593, null], \"x\": [0.5, 1.0, null, 0.9738173240163878, 0.9377166459078401, null, 0.9738173240163878, 0.9639630823912474, null], \"line\": {\"width\": 2, \"color\": \"rgb(0, 0, 0)\"}, \"mode\": \"lines\", \"hoverinfo\": \"none\"}, {\"y\": [0.9855072463768116, 0.9855072463768116, null, 0.9855072463768116, 0.950766265318536, null], \"x\": [1.0, 0.5, null, 0.5378787878787878, 0.5711205515867566, null], \"line\": {\"width\": 2, \"color\": \"rgb(0, 0, 0)\"}, \"mode\": \"lines\", \"hoverinfo\": \"none\"}, {\"y\": [0.0, 1.0, null, 0.9476346480327754, 0.8776659754484841, null, 0.9476346480327754, 0.9256934811496907, null], \"x\": [0.5, 1.0, null, 0.9738173240163878, 0.9639630823912474, null, 0.9738173240163878, 0.9377166459078401, null], \"line\": {\"width\": 2, \"color\": \"rgb(255, 0, 0)\"}, \"mode\": \"lines\", \"hoverinfo\": \"none\"}, {\"y\": [0.0, 0.0, null, 0.0, -0.03474098105827558, null, 0.0, 0.03474098105827558, null], \"x\": [0.5, 1.0, null, 0.9621212121212122, 0.9288794484132434, null, 0.9621212121212122, 0.9288794484132434, null], \"line\": {\"width\": 2, \"color\": \"rgb(0, 0, 0)\"}, \"mode\": \"lines\", \"hoverinfo\": \"none\"}, {\"y\": [0.0, 0.5, null, 0.481676128503406, 0.4992073320037643, null, 0.481676128503406, 0.4319835048195859, null], \"x\": [1.0, 0.0, null, 0.03664774299318793, 0.07340128670201525, null, 0.03664774299318793, 0.06421703965128427, null], \"line\": {\"width\": 2, \"color\": \"rgb(0, 0, 0)\"}, \"mode\": \"lines\", \"hoverinfo\": \"none\"}, {\"y\": [0.0, 1.0, null, 0.927536231884058, 0.8639432926166397, null, 0.927536231884058, 0.8639432926166397, null], \"x\": [1.0, 1.0, null, 1.0, 1.0181600582804622, null, 1.0, 0.9818399417195378, null], \"line\": {\"width\": 2, \"color\": \"rgb(0, 0, 0)\"}, \"mode\": \"lines\", \"hoverinfo\": \"none\"}, {\"y\": [0.5], \"marker\": {\"line\": {\"width\": 2, \"color\": \"rgb(0, 0, 0)\"}, \"color\": \"rgb(255, 255, 255)\", \"size\": 20}, \"hoverinfo\": \"none\", \"textposition\": \"middle center\", \"x\": [0.0], \"mode\": \"markers+text\", \"text\": [\"0\"], \"textfont\": {\"color\": \"rgb(0, 0, 0)\"}}, {\"y\": [1.0], \"marker\": {\"line\": {\"width\": 2, \"color\": \"rgb(0, 0, 0)\"}, \"color\": \"rgb(255, 255, 255)\", \"size\": 20}, \"hoverinfo\": \"none\", \"textposition\": \"middle center\", \"x\": [0.5], \"mode\": \"markers+text\", \"text\": [\"2\"], \"textfont\": {\"color\": \"rgb(0, 0, 0)\"}}, {\"y\": [1.0], \"marker\": {\"line\": {\"width\": 2, \"color\": \"rgb(0, 0, 0)\"}, \"color\": \"rgb(255, 255, 255)\", \"size\": 20}, \"hoverinfo\": \"none\", \"textposition\": \"middle center\", \"x\": [1.0], \"mode\": \"markers+text\", \"text\": [\"4\"], \"textfont\": {\"color\": \"rgb(0, 0, 0)\"}}, {\"y\": [0.0], \"marker\": {\"line\": {\"width\": 2, \"color\": \"rgb(0, 0, 0)\"}, \"color\": \"rgb(255, 255, 255)\", \"size\": 20}, \"hoverinfo\": \"none\", \"textposition\": \"middle center\", \"x\": [0.5], \"mode\": \"markers+text\", \"text\": [\"7\"], \"textfont\": {\"color\": \"rgb(0, 0, 0)\"}}, {\"y\": [0.0], \"marker\": {\"line\": {\"width\": 2, \"color\": \"rgb(0, 0, 0)\"}, \"color\": \"rgb(255, 255, 255)\", \"size\": 20}, \"hoverinfo\": \"none\", \"textposition\": \"middle center\", \"x\": [1.0], \"mode\": \"markers+text\", \"text\": [\"2\"], \"textfont\": {\"color\": \"rgb(0, 0, 0)\"}}]}, {\"name\": 18, \"data\": [{\"y\": [0.5, 1.0, null, 0.966430854395385, 0.906182816233176, null, 0.966430854395385, 0.967759498957256, null], \"x\": [0.0, 0.5, null, 0.46643085439538495, 0.44538388103556675, null, 0.46643085439538495, 0.4285584341548651, null], \"line\": {\"width\": 2, \"color\": \"rgb(0, 0, 0)\"}, \"mode\": \"lines\", \"hoverinfo\": \"none\"}, {\"y\": [0.5, 0.0, null, 0.03356914560461503, 0.032240501042743994, null, 0.03356914560461503, 0.09381718376682407, null], \"x\": [0.0, 0.5, null, 0.46643085439538495, 0.4285584341548651, null, 0.46643085439538495, 0.44538388103556675, null], \"line\": {\"width\": 2, \"color\": \"rgb(0, 0, 0)\"}, \"mode\": \"lines\", \"hoverinfo\": \"none\"}, {\"y\": [1.0144927536231885, 1.0144927536231885, null, 1.0144927536231885, 1.049233734681464, null], \"x\": [0.5, 1.0, null, 0.9621212121212122, 0.9288794484132434, null], \"line\": {\"width\": 2, \"color\": \"rgb(0, 0, 0)\"}, \"mode\": \"lines\", \"hoverinfo\": \"none\"}, {\"y\": [1.0, 0.0, null, 0.07246376811594203, 0.13605670738336034, null, 0.07246376811594203, 0.13605670738336034, null], \"x\": [0.5, 0.5, null, 0.5, 0.48183994171953776, null, 0.5, 0.5181600582804622, null], \"line\": {\"width\": 2, \"color\": \"rgb(0, 0, 0)\"}, \"mode\": \"lines\", \"hoverinfo\": \"none\"}, {\"y\": [1.0, 0.0, null, 0.052365351967224576, 0.07430651885030926, null, 0.052365351967224576, 0.12233402455151593, null], \"x\": [0.5, 1.0, null, 0.9738173240163878, 0.9377166459078401, null, 0.9738173240163878, 0.9639630823912474, null], \"line\": {\"width\": 2, \"color\": \"rgb(0, 0, 0)\"}, \"mode\": \"lines\", \"hoverinfo\": \"none\"}, {\"y\": [0.9855072463768116, 0.9855072463768116, null, 0.9855072463768116, 0.950766265318536, null], \"x\": [1.0, 0.5, null, 0.5378787878787878, 0.5711205515867566, null], \"line\": {\"width\": 2, \"color\": \"rgb(0, 0, 0)\"}, \"mode\": \"lines\", \"hoverinfo\": \"none\"}, {\"y\": [0.0, 1.0, null, 0.9476346480327754, 0.8776659754484841, null, 0.9476346480327754, 0.9256934811496907, null], \"x\": [0.5, 1.0, null, 0.9738173240163878, 0.9639630823912474, null, 0.9738173240163878, 0.9377166459078401, null], \"line\": {\"width\": 2, \"color\": \"rgb(0, 0, 0)\"}, \"mode\": \"lines\", \"hoverinfo\": \"none\"}, {\"y\": [0.0, 0.0, null, 0.0, -0.03474098105827558, null, 0.0, 0.03474098105827558, null], \"x\": [0.5, 1.0, null, 0.9621212121212122, 0.9288794484132434, null, 0.9621212121212122, 0.9288794484132434, null], \"line\": {\"width\": 2, \"color\": \"rgb(255, 0, 0)\"}, \"mode\": \"lines\", \"hoverinfo\": \"none\"}, {\"y\": [0.0, 0.5, null, 0.481676128503406, 0.4992073320037643, null, 0.481676128503406, 0.4319835048195859, null], \"x\": [1.0, 0.0, null, 0.03664774299318793, 0.07340128670201525, null, 0.03664774299318793, 0.06421703965128427, null], \"line\": {\"width\": 2, \"color\": \"rgb(0, 0, 0)\"}, \"mode\": \"lines\", \"hoverinfo\": \"none\"}, {\"y\": [0.0, 1.0, null, 0.927536231884058, 0.8639432926166397, null, 0.927536231884058, 0.8639432926166397, null], \"x\": [1.0, 1.0, null, 1.0, 1.0181600582804622, null, 1.0, 0.9818399417195378, null], \"line\": {\"width\": 2, \"color\": \"rgb(0, 0, 0)\"}, \"mode\": \"lines\", \"hoverinfo\": \"none\"}, {\"y\": [0.5], \"marker\": {\"line\": {\"width\": 2, \"color\": \"rgb(0, 0, 0)\"}, \"color\": \"rgb(255, 255, 255)\", \"size\": 20}, \"hoverinfo\": \"none\", \"textposition\": \"middle center\", \"x\": [0.0], \"mode\": \"markers+text\", \"text\": [\"0\"], \"textfont\": {\"color\": \"rgb(0, 0, 0)\"}}, {\"y\": [1.0], \"marker\": {\"line\": {\"width\": 2, \"color\": \"rgb(0, 0, 0)\"}, \"color\": \"rgb(255, 255, 255)\", \"size\": 20}, \"hoverinfo\": \"none\", \"textposition\": \"middle center\", \"x\": [0.5], \"mode\": \"markers+text\", \"text\": [\"2\"], \"textfont\": {\"color\": \"rgb(0, 0, 0)\"}}, {\"y\": [1.0], \"marker\": {\"line\": {\"width\": 2, \"color\": \"rgb(0, 0, 0)\"}, \"color\": \"rgb(255, 255, 255)\", \"size\": 20}, \"hoverinfo\": \"none\", \"textposition\": \"middle center\", \"x\": [1.0], \"mode\": \"markers+text\", \"text\": [\"4\"], \"textfont\": {\"color\": \"rgb(0, 0, 0)\"}}, {\"y\": [0.0], \"marker\": {\"line\": {\"width\": 2, \"color\": \"rgb(0, 0, 0)\"}, \"color\": \"rgb(255, 255, 255)\", \"size\": 20}, \"hoverinfo\": \"none\", \"textposition\": \"middle center\", \"x\": [0.5], \"mode\": \"markers+text\", \"text\": [\"7\"], \"textfont\": {\"color\": \"rgb(0, 0, 0)\"}}, {\"y\": [0.0], \"marker\": {\"line\": {\"width\": 2, \"color\": \"rgb(0, 0, 0)\"}, \"color\": \"rgb(255, 255, 255)\", \"size\": 20}, \"hoverinfo\": \"none\", \"textposition\": \"middle center\", \"x\": [1.0], \"mode\": \"markers+text\", \"text\": [\"2\"], \"textfont\": {\"color\": \"rgb(0, 0, 0)\"}}]}, {\"name\": 19, \"data\": [{\"y\": [0.5, 1.0, null, 0.966430854395385, 0.906182816233176, null, 0.966430854395385, 0.967759498957256, null], \"x\": [0.0, 0.5, null, 0.46643085439538495, 0.44538388103556675, null, 0.46643085439538495, 0.4285584341548651, null], \"line\": {\"width\": 2, \"color\": \"rgb(0, 0, 0)\"}, \"mode\": \"lines\", \"hoverinfo\": \"none\"}, {\"y\": [0.5, 0.0, null, 0.03356914560461503, 0.032240501042743994, null, 0.03356914560461503, 0.09381718376682407, null], \"x\": [0.0, 0.5, null, 0.46643085439538495, 0.4285584341548651, null, 0.46643085439538495, 0.44538388103556675, null], \"line\": {\"width\": 2, \"color\": \"rgb(0, 0, 0)\"}, \"mode\": \"lines\", \"hoverinfo\": \"none\"}, {\"y\": [1.0144927536231885, 1.0144927536231885, null, 1.0144927536231885, 1.049233734681464, null], \"x\": [0.5, 1.0, null, 0.9621212121212122, 0.9288794484132434, null], \"line\": {\"width\": 2, \"color\": \"rgb(0, 0, 0)\"}, \"mode\": \"lines\", \"hoverinfo\": \"none\"}, {\"y\": [1.0, 0.0, null, 0.07246376811594203, 0.13605670738336034, null, 0.07246376811594203, 0.13605670738336034, null], \"x\": [0.5, 0.5, null, 0.5, 0.48183994171953776, null, 0.5, 0.5181600582804622, null], \"line\": {\"width\": 2, \"color\": \"rgb(0, 0, 0)\"}, \"mode\": \"lines\", \"hoverinfo\": \"none\"}, {\"y\": [1.0, 0.0, null, 0.052365351967224576, 0.07430651885030926, null, 0.052365351967224576, 0.12233402455151593, null], \"x\": [0.5, 1.0, null, 0.9738173240163878, 0.9377166459078401, null, 0.9738173240163878, 0.9639630823912474, null], \"line\": {\"width\": 2, \"color\": \"rgb(0, 0, 0)\"}, \"mode\": \"lines\", \"hoverinfo\": \"none\"}, {\"y\": [0.9855072463768116, 0.9855072463768116, null, 0.9855072463768116, 0.950766265318536, null], \"x\": [1.0, 0.5, null, 0.5378787878787878, 0.5711205515867566, null], \"line\": {\"width\": 2, \"color\": \"rgb(0, 0, 0)\"}, \"mode\": \"lines\", \"hoverinfo\": \"none\"}, {\"y\": [0.0, 1.0, null, 0.9476346480327754, 0.8776659754484841, null, 0.9476346480327754, 0.9256934811496907, null], \"x\": [0.5, 1.0, null, 0.9738173240163878, 0.9639630823912474, null, 0.9738173240163878, 0.9377166459078401, null], \"line\": {\"width\": 2, \"color\": \"rgb(0, 0, 0)\"}, \"mode\": \"lines\", \"hoverinfo\": \"none\"}, {\"y\": [0.0, 0.0, null, 0.0, -0.03474098105827558, null, 0.0, 0.03474098105827558, null], \"x\": [0.5, 1.0, null, 0.9621212121212122, 0.9288794484132434, null, 0.9621212121212122, 0.9288794484132434, null], \"line\": {\"width\": 2, \"color\": \"rgb(0, 0, 0)\"}, \"mode\": \"lines\", \"hoverinfo\": \"none\"}, {\"y\": [0.0, 0.5, null, 0.481676128503406, 0.4992073320037643, null, 0.481676128503406, 0.4319835048195859, null], \"x\": [1.0, 0.0, null, 0.03664774299318793, 0.07340128670201525, null, 0.03664774299318793, 0.06421703965128427, null], \"line\": {\"width\": 2, \"color\": \"rgb(255, 0, 0)\"}, \"mode\": \"lines\", \"hoverinfo\": \"none\"}, {\"y\": [0.0, 1.0, null, 0.927536231884058, 0.8639432926166397, null, 0.927536231884058, 0.8639432926166397, null], \"x\": [1.0, 1.0, null, 1.0, 1.0181600582804622, null, 1.0, 0.9818399417195378, null], \"line\": {\"width\": 2, \"color\": \"rgb(0, 0, 0)\"}, \"mode\": \"lines\", \"hoverinfo\": \"none\"}, {\"y\": [0.5], \"marker\": {\"line\": {\"width\": 2, \"color\": \"rgb(0, 0, 0)\"}, \"color\": \"rgb(255, 255, 255)\", \"size\": 20}, \"hoverinfo\": \"none\", \"textposition\": \"middle center\", \"x\": [0.0], \"mode\": \"markers+text\", \"text\": [\"0\"], \"textfont\": {\"color\": \"rgb(0, 0, 0)\"}}, {\"y\": [1.0], \"marker\": {\"line\": {\"width\": 2, \"color\": \"rgb(0, 0, 0)\"}, \"color\": \"rgb(255, 255, 255)\", \"size\": 20}, \"hoverinfo\": \"none\", \"textposition\": \"middle center\", \"x\": [0.5], \"mode\": \"markers+text\", \"text\": [\"2\"], \"textfont\": {\"color\": \"rgb(0, 0, 0)\"}}, {\"y\": [1.0], \"marker\": {\"line\": {\"width\": 2, \"color\": \"rgb(0, 0, 0)\"}, \"color\": \"rgb(255, 255, 255)\", \"size\": 20}, \"hoverinfo\": \"none\", \"textposition\": \"middle center\", \"x\": [1.0], \"mode\": \"markers+text\", \"text\": [\"4\"], \"textfont\": {\"color\": \"rgb(0, 0, 0)\"}}, {\"y\": [0.0], \"marker\": {\"line\": {\"width\": 2, \"color\": \"rgb(0, 0, 0)\"}, \"color\": \"rgb(255, 255, 255)\", \"size\": 20}, \"hoverinfo\": \"none\", \"textposition\": \"middle center\", \"x\": [0.5], \"mode\": \"markers+text\", \"text\": [\"7\"], \"textfont\": {\"color\": \"rgb(0, 0, 0)\"}}, {\"y\": [0.0], \"marker\": {\"line\": {\"width\": 2, \"color\": \"rgb(0, 0, 0)\"}, \"color\": \"rgb(255, 255, 255)\", \"size\": 20}, \"hoverinfo\": \"none\", \"textposition\": \"middle center\", \"x\": [1.0], \"mode\": \"markers+text\", \"text\": [\"2\"], \"textfont\": {\"color\": \"rgb(0, 0, 0)\"}}]}, {\"name\": 20, \"data\": [{\"y\": [0.5, 1.0, null, 0.966430854395385, 0.906182816233176, null, 0.966430854395385, 0.967759498957256, null], \"x\": [0.0, 0.5, null, 0.46643085439538495, 0.44538388103556675, null, 0.46643085439538495, 0.4285584341548651, null], \"line\": {\"width\": 2, \"color\": \"rgb(0, 0, 0)\"}, \"mode\": \"lines\", \"hoverinfo\": \"none\"}, {\"y\": [0.5, 0.0, null, 0.03356914560461503, 0.032240501042743994, null, 0.03356914560461503, 0.09381718376682407, null], \"x\": [0.0, 0.5, null, 0.46643085439538495, 0.4285584341548651, null, 0.46643085439538495, 0.44538388103556675, null], \"line\": {\"width\": 2, \"color\": \"rgb(0, 0, 0)\"}, \"mode\": \"lines\", \"hoverinfo\": \"none\"}, {\"y\": [1.0144927536231885, 1.0144927536231885, null, 1.0144927536231885, 1.049233734681464, null], \"x\": [0.5, 1.0, null, 0.9621212121212122, 0.9288794484132434, null], \"line\": {\"width\": 2, \"color\": \"rgb(0, 0, 0)\"}, \"mode\": \"lines\", \"hoverinfo\": \"none\"}, {\"y\": [1.0, 0.0, null, 0.07246376811594203, 0.13605670738336034, null, 0.07246376811594203, 0.13605670738336034, null], \"x\": [0.5, 0.5, null, 0.5, 0.48183994171953776, null, 0.5, 0.5181600582804622, null], \"line\": {\"width\": 2, \"color\": \"rgb(0, 0, 0)\"}, \"mode\": \"lines\", \"hoverinfo\": \"none\"}, {\"y\": [1.0, 0.0, null, 0.052365351967224576, 0.07430651885030926, null, 0.052365351967224576, 0.12233402455151593, null], \"x\": [0.5, 1.0, null, 0.9738173240163878, 0.9377166459078401, null, 0.9738173240163878, 0.9639630823912474, null], \"line\": {\"width\": 2, \"color\": \"rgb(0, 0, 0)\"}, \"mode\": \"lines\", \"hoverinfo\": \"none\"}, {\"y\": [0.9855072463768116, 0.9855072463768116, null, 0.9855072463768116, 0.950766265318536, null], \"x\": [1.0, 0.5, null, 0.5378787878787878, 0.5711205515867566, null], \"line\": {\"width\": 2, \"color\": \"rgb(0, 0, 0)\"}, \"mode\": \"lines\", \"hoverinfo\": \"none\"}, {\"y\": [0.0, 1.0, null, 0.9476346480327754, 0.8776659754484841, null, 0.9476346480327754, 0.9256934811496907, null], \"x\": [0.5, 1.0, null, 0.9738173240163878, 0.9639630823912474, null, 0.9738173240163878, 0.9377166459078401, null], \"line\": {\"width\": 2, \"color\": \"rgb(0, 0, 0)\"}, \"mode\": \"lines\", \"hoverinfo\": \"none\"}, {\"y\": [0.0, 0.0, null, 0.0, -0.03474098105827558, null, 0.0, 0.03474098105827558, null], \"x\": [0.5, 1.0, null, 0.9621212121212122, 0.9288794484132434, null, 0.9621212121212122, 0.9288794484132434, null], \"line\": {\"width\": 2, \"color\": \"rgb(0, 0, 0)\"}, \"mode\": \"lines\", \"hoverinfo\": \"none\"}, {\"y\": [0.0, 0.5, null, 0.481676128503406, 0.4992073320037643, null, 0.481676128503406, 0.4319835048195859, null], \"x\": [1.0, 0.0, null, 0.03664774299318793, 0.07340128670201525, null, 0.03664774299318793, 0.06421703965128427, null], \"line\": {\"width\": 2, \"color\": \"rgb(0, 0, 0)\"}, \"mode\": \"lines\", \"hoverinfo\": \"none\"}, {\"y\": [0.0, 1.0, null, 0.927536231884058, 0.8639432926166397, null, 0.927536231884058, 0.8639432926166397, null], \"x\": [1.0, 1.0, null, 1.0, 1.0181600582804622, null, 1.0, 0.9818399417195378, null], \"line\": {\"width\": 2, \"color\": \"rgb(255, 0, 0)\"}, \"mode\": \"lines\", \"hoverinfo\": \"none\"}, {\"y\": [0.5], \"marker\": {\"line\": {\"width\": 2, \"color\": \"rgb(0, 0, 0)\"}, \"color\": \"rgb(255, 255, 255)\", \"size\": 20}, \"hoverinfo\": \"none\", \"textposition\": \"middle center\", \"x\": [0.0], \"mode\": \"markers+text\", \"text\": [\"0\"], \"textfont\": {\"color\": \"rgb(0, 0, 0)\"}}, {\"y\": [1.0], \"marker\": {\"line\": {\"width\": 2, \"color\": \"rgb(0, 0, 0)\"}, \"color\": \"rgb(255, 255, 255)\", \"size\": 20}, \"hoverinfo\": \"none\", \"textposition\": \"middle center\", \"x\": [0.5], \"mode\": \"markers+text\", \"text\": [\"2\"], \"textfont\": {\"color\": \"rgb(0, 0, 0)\"}}, {\"y\": [1.0], \"marker\": {\"line\": {\"width\": 2, \"color\": \"rgb(0, 0, 0)\"}, \"color\": \"rgb(255, 255, 255)\", \"size\": 20}, \"hoverinfo\": \"none\", \"textposition\": \"middle center\", \"x\": [1.0], \"mode\": \"markers+text\", \"text\": [\"4\"], \"textfont\": {\"color\": \"rgb(0, 0, 0)\"}}, {\"y\": [0.0], \"marker\": {\"line\": {\"width\": 2, \"color\": \"rgb(0, 0, 0)\"}, \"color\": \"rgb(255, 255, 255)\", \"size\": 20}, \"hoverinfo\": \"none\", \"textposition\": \"middle center\", \"x\": [0.5], \"mode\": \"markers+text\", \"text\": [\"7\"], \"textfont\": {\"color\": \"rgb(0, 0, 0)\"}}, {\"y\": [0.0], \"marker\": {\"line\": {\"width\": 2, \"color\": \"rgb(0, 0, 0)\"}, \"color\": \"rgb(255, 255, 255)\", \"size\": 20}, \"hoverinfo\": \"none\", \"textposition\": \"middle center\", \"x\": [1.0], \"mode\": \"markers+text\", \"text\": [\"2\"], \"textfont\": {\"color\": \"rgb(0, 0, 0)\"}}]}, {\"name\": 21, \"data\": [{\"y\": [0.5, 1.0, null, 0.966430854395385, 0.906182816233176, null, 0.966430854395385, 0.967759498957256, null], \"x\": [0.0, 0.5, null, 0.46643085439538495, 0.44538388103556675, null, 0.46643085439538495, 0.4285584341548651, null], \"line\": {\"width\": 2, \"color\": \"rgb(255, 0, 0)\"}, \"mode\": \"lines\", \"hoverinfo\": \"none\"}, {\"y\": [0.5, 0.0, null, 0.03356914560461503, 0.032240501042743994, null, 0.03356914560461503, 0.09381718376682407, null], \"x\": [0.0, 0.5, null, 0.46643085439538495, 0.4285584341548651, null, 0.46643085439538495, 0.44538388103556675, null], \"line\": {\"width\": 2, \"color\": \"rgb(0, 0, 0)\"}, \"mode\": \"lines\", \"hoverinfo\": \"none\"}, {\"y\": [1.0144927536231885, 1.0144927536231885, null, 1.0144927536231885, 1.049233734681464, null], \"x\": [0.5, 1.0, null, 0.9621212121212122, 0.9288794484132434, null], \"line\": {\"width\": 2, \"color\": \"rgb(0, 0, 0)\"}, \"mode\": \"lines\", \"hoverinfo\": \"none\"}, {\"y\": [1.0, 0.0, null, 0.07246376811594203, 0.13605670738336034, null, 0.07246376811594203, 0.13605670738336034, null], \"x\": [0.5, 0.5, null, 0.5, 0.48183994171953776, null, 0.5, 0.5181600582804622, null], \"line\": {\"width\": 2, \"color\": \"rgb(0, 0, 0)\"}, \"mode\": \"lines\", \"hoverinfo\": \"none\"}, {\"y\": [1.0, 0.0, null, 0.052365351967224576, 0.07430651885030926, null, 0.052365351967224576, 0.12233402455151593, null], \"x\": [0.5, 1.0, null, 0.9738173240163878, 0.9377166459078401, null, 0.9738173240163878, 0.9639630823912474, null], \"line\": {\"width\": 2, \"color\": \"rgb(0, 0, 0)\"}, \"mode\": \"lines\", \"hoverinfo\": \"none\"}, {\"y\": [0.9855072463768116, 0.9855072463768116, null, 0.9855072463768116, 0.950766265318536, null], \"x\": [1.0, 0.5, null, 0.5378787878787878, 0.5711205515867566, null], \"line\": {\"width\": 2, \"color\": \"rgb(0, 0, 0)\"}, \"mode\": \"lines\", \"hoverinfo\": \"none\"}, {\"y\": [0.0, 1.0, null, 0.9476346480327754, 0.8776659754484841, null, 0.9476346480327754, 0.9256934811496907, null], \"x\": [0.5, 1.0, null, 0.9738173240163878, 0.9639630823912474, null, 0.9738173240163878, 0.9377166459078401, null], \"line\": {\"width\": 2, \"color\": \"rgb(0, 0, 0)\"}, \"mode\": \"lines\", \"hoverinfo\": \"none\"}, {\"y\": [0.0, 0.0, null, 0.0, -0.03474098105827558, null, 0.0, 0.03474098105827558, null], \"x\": [0.5, 1.0, null, 0.9621212121212122, 0.9288794484132434, null, 0.9621212121212122, 0.9288794484132434, null], \"line\": {\"width\": 2, \"color\": \"rgb(0, 0, 0)\"}, \"mode\": \"lines\", \"hoverinfo\": \"none\"}, {\"y\": [0.0, 0.5, null, 0.481676128503406, 0.4992073320037643, null, 0.481676128503406, 0.4319835048195859, null], \"x\": [1.0, 0.0, null, 0.03664774299318793, 0.07340128670201525, null, 0.03664774299318793, 0.06421703965128427, null], \"line\": {\"width\": 2, \"color\": \"rgb(0, 0, 0)\"}, \"mode\": \"lines\", \"hoverinfo\": \"none\"}, {\"y\": [0.0, 1.0, null, 0.927536231884058, 0.8639432926166397, null, 0.927536231884058, 0.8639432926166397, null], \"x\": [1.0, 1.0, null, 1.0, 1.0181600582804622, null, 1.0, 0.9818399417195378, null], \"line\": {\"width\": 2, \"color\": \"rgb(0, 0, 0)\"}, \"mode\": \"lines\", \"hoverinfo\": \"none\"}, {\"y\": [0.5], \"marker\": {\"line\": {\"width\": 2, \"color\": \"rgb(0, 0, 0)\"}, \"color\": \"rgb(255, 255, 255)\", \"size\": 20}, \"hoverinfo\": \"none\", \"textposition\": \"middle center\", \"x\": [0.0], \"mode\": \"markers+text\", \"text\": [\"0\"], \"textfont\": {\"color\": \"rgb(0, 0, 0)\"}}, {\"y\": [1.0], \"marker\": {\"line\": {\"width\": 2, \"color\": \"rgb(0, 0, 0)\"}, \"color\": \"rgb(255, 255, 255)\", \"size\": 20}, \"hoverinfo\": \"none\", \"textposition\": \"middle center\", \"x\": [0.5], \"mode\": \"markers+text\", \"text\": [\"2\"], \"textfont\": {\"color\": \"rgb(0, 0, 0)\"}}, {\"y\": [1.0], \"marker\": {\"line\": {\"width\": 2, \"color\": \"rgb(0, 0, 0)\"}, \"color\": \"rgb(255, 255, 255)\", \"size\": 20}, \"hoverinfo\": \"none\", \"textposition\": \"middle center\", \"x\": [1.0], \"mode\": \"markers+text\", \"text\": [\"4\"], \"textfont\": {\"color\": \"rgb(0, 0, 0)\"}}, {\"y\": [0.0], \"marker\": {\"line\": {\"width\": 2, \"color\": \"rgb(0, 0, 0)\"}, \"color\": \"rgb(255, 255, 255)\", \"size\": 20}, \"hoverinfo\": \"none\", \"textposition\": \"middle center\", \"x\": [0.5], \"mode\": \"markers+text\", \"text\": [\"7\"], \"textfont\": {\"color\": \"rgb(0, 0, 0)\"}}, {\"y\": [0.0], \"marker\": {\"line\": {\"width\": 2, \"color\": \"rgb(0, 0, 0)\"}, \"color\": \"rgb(255, 255, 255)\", \"size\": 20}, \"hoverinfo\": \"none\", \"textposition\": \"middle center\", \"x\": [1.0], \"mode\": \"markers+text\", \"text\": [\"2\"], \"textfont\": {\"color\": \"rgb(0, 0, 0)\"}}]}, {\"name\": 22, \"data\": [{\"y\": [0.5, 1.0, null, 0.966430854395385, 0.906182816233176, null, 0.966430854395385, 0.967759498957256, null], \"x\": [0.0, 0.5, null, 0.46643085439538495, 0.44538388103556675, null, 0.46643085439538495, 0.4285584341548651, null], \"line\": {\"width\": 2, \"color\": \"rgb(0, 0, 0)\"}, \"mode\": \"lines\", \"hoverinfo\": \"none\"}, {\"y\": [0.5, 0.0, null, 0.03356914560461503, 0.032240501042743994, null, 0.03356914560461503, 0.09381718376682407, null], \"x\": [0.0, 0.5, null, 0.46643085439538495, 0.4285584341548651, null, 0.46643085439538495, 0.44538388103556675, null], \"line\": {\"width\": 2, \"color\": \"rgb(255, 0, 0)\"}, \"mode\": \"lines\", \"hoverinfo\": \"none\"}, {\"y\": [1.0144927536231885, 1.0144927536231885, null, 1.0144927536231885, 1.049233734681464, null], \"x\": [0.5, 1.0, null, 0.9621212121212122, 0.9288794484132434, null], \"line\": {\"width\": 2, \"color\": \"rgb(0, 0, 0)\"}, \"mode\": \"lines\", \"hoverinfo\": \"none\"}, {\"y\": [1.0, 0.0, null, 0.07246376811594203, 0.13605670738336034, null, 0.07246376811594203, 0.13605670738336034, null], \"x\": [0.5, 0.5, null, 0.5, 0.48183994171953776, null, 0.5, 0.5181600582804622, null], \"line\": {\"width\": 2, \"color\": \"rgb(0, 0, 0)\"}, \"mode\": \"lines\", \"hoverinfo\": \"none\"}, {\"y\": [1.0, 0.0, null, 0.052365351967224576, 0.07430651885030926, null, 0.052365351967224576, 0.12233402455151593, null], \"x\": [0.5, 1.0, null, 0.9738173240163878, 0.9377166459078401, null, 0.9738173240163878, 0.9639630823912474, null], \"line\": {\"width\": 2, \"color\": \"rgb(0, 0, 0)\"}, \"mode\": \"lines\", \"hoverinfo\": \"none\"}, {\"y\": [0.9855072463768116, 0.9855072463768116, null, 0.9855072463768116, 0.950766265318536, null], \"x\": [1.0, 0.5, null, 0.5378787878787878, 0.5711205515867566, null], \"line\": {\"width\": 2, \"color\": \"rgb(0, 0, 0)\"}, \"mode\": \"lines\", \"hoverinfo\": \"none\"}, {\"y\": [0.0, 1.0, null, 0.9476346480327754, 0.8776659754484841, null, 0.9476346480327754, 0.9256934811496907, null], \"x\": [0.5, 1.0, null, 0.9738173240163878, 0.9639630823912474, null, 0.9738173240163878, 0.9377166459078401, null], \"line\": {\"width\": 2, \"color\": \"rgb(0, 0, 0)\"}, \"mode\": \"lines\", \"hoverinfo\": \"none\"}, {\"y\": [0.0, 0.0, null, 0.0, -0.03474098105827558, null, 0.0, 0.03474098105827558, null], \"x\": [0.5, 1.0, null, 0.9621212121212122, 0.9288794484132434, null, 0.9621212121212122, 0.9288794484132434, null], \"line\": {\"width\": 2, \"color\": \"rgb(0, 0, 0)\"}, \"mode\": \"lines\", \"hoverinfo\": \"none\"}, {\"y\": [0.0, 0.5, null, 0.481676128503406, 0.4992073320037643, null, 0.481676128503406, 0.4319835048195859, null], \"x\": [1.0, 0.0, null, 0.03664774299318793, 0.07340128670201525, null, 0.03664774299318793, 0.06421703965128427, null], \"line\": {\"width\": 2, \"color\": \"rgb(0, 0, 0)\"}, \"mode\": \"lines\", \"hoverinfo\": \"none\"}, {\"y\": [0.0, 1.0, null, 0.927536231884058, 0.8639432926166397, null, 0.927536231884058, 0.8639432926166397, null], \"x\": [1.0, 1.0, null, 1.0, 1.0181600582804622, null, 1.0, 0.9818399417195378, null], \"line\": {\"width\": 2, \"color\": \"rgb(0, 0, 0)\"}, \"mode\": \"lines\", \"hoverinfo\": \"none\"}, {\"y\": [0.5], \"marker\": {\"line\": {\"width\": 2, \"color\": \"rgb(0, 0, 0)\"}, \"color\": \"rgb(255, 255, 255)\", \"size\": 20}, \"hoverinfo\": \"none\", \"textposition\": \"middle center\", \"x\": [0.0], \"mode\": \"markers+text\", \"text\": [\"0\"], \"textfont\": {\"color\": \"rgb(0, 0, 0)\"}}, {\"y\": [1.0], \"marker\": {\"line\": {\"width\": 2, \"color\": \"rgb(0, 0, 0)\"}, \"color\": \"rgb(255, 255, 255)\", \"size\": 20}, \"hoverinfo\": \"none\", \"textposition\": \"middle center\", \"x\": [0.5], \"mode\": \"markers+text\", \"text\": [\"2\"], \"textfont\": {\"color\": \"rgb(0, 0, 0)\"}}, {\"y\": [1.0], \"marker\": {\"line\": {\"width\": 2, \"color\": \"rgb(0, 0, 0)\"}, \"color\": \"rgb(255, 255, 255)\", \"size\": 20}, \"hoverinfo\": \"none\", \"textposition\": \"middle center\", \"x\": [1.0], \"mode\": \"markers+text\", \"text\": [\"4\"], \"textfont\": {\"color\": \"rgb(0, 0, 0)\"}}, {\"y\": [0.0], \"marker\": {\"line\": {\"width\": 2, \"color\": \"rgb(0, 0, 0)\"}, \"color\": \"rgb(255, 255, 255)\", \"size\": 20}, \"hoverinfo\": \"none\", \"textposition\": \"middle center\", \"x\": [0.5], \"mode\": \"markers+text\", \"text\": [\"7\"], \"textfont\": {\"color\": \"rgb(0, 0, 0)\"}}, {\"y\": [0.0], \"marker\": {\"line\": {\"width\": 2, \"color\": \"rgb(0, 0, 0)\"}, \"color\": \"rgb(255, 255, 255)\", \"size\": 20}, \"hoverinfo\": \"none\", \"textposition\": \"middle center\", \"x\": [1.0], \"mode\": \"markers+text\", \"text\": [\"2\"], \"textfont\": {\"color\": \"rgb(0, 0, 0)\"}}]}, {\"name\": 23, \"data\": [{\"y\": [0.5, 1.0, null, 0.966430854395385, 0.906182816233176, null, 0.966430854395385, 0.967759498957256, null], \"x\": [0.0, 0.5, null, 0.46643085439538495, 0.44538388103556675, null, 0.46643085439538495, 0.4285584341548651, null], \"line\": {\"width\": 2, \"color\": \"rgb(0, 0, 0)\"}, \"mode\": \"lines\", \"hoverinfo\": \"none\"}, {\"y\": [0.5, 0.0, null, 0.03356914560461503, 0.032240501042743994, null, 0.03356914560461503, 0.09381718376682407, null], \"x\": [0.0, 0.5, null, 0.46643085439538495, 0.4285584341548651, null, 0.46643085439538495, 0.44538388103556675, null], \"line\": {\"width\": 2, \"color\": \"rgb(0, 0, 0)\"}, \"mode\": \"lines\", \"hoverinfo\": \"none\"}, {\"y\": [1.0144927536231885, 1.0144927536231885, null, 1.0144927536231885, 1.049233734681464, null], \"x\": [0.5, 1.0, null, 0.9621212121212122, 0.9288794484132434, null], \"line\": {\"width\": 2, \"color\": \"rgb(255, 0, 0)\"}, \"mode\": \"lines\", \"hoverinfo\": \"none\"}, {\"y\": [1.0, 0.0, null, 0.07246376811594203, 0.13605670738336034, null, 0.07246376811594203, 0.13605670738336034, null], \"x\": [0.5, 0.5, null, 0.5, 0.48183994171953776, null, 0.5, 0.5181600582804622, null], \"line\": {\"width\": 2, \"color\": \"rgb(0, 0, 0)\"}, \"mode\": \"lines\", \"hoverinfo\": \"none\"}, {\"y\": [1.0, 0.0, null, 0.052365351967224576, 0.07430651885030926, null, 0.052365351967224576, 0.12233402455151593, null], \"x\": [0.5, 1.0, null, 0.9738173240163878, 0.9377166459078401, null, 0.9738173240163878, 0.9639630823912474, null], \"line\": {\"width\": 2, \"color\": \"rgb(0, 0, 0)\"}, \"mode\": \"lines\", \"hoverinfo\": \"none\"}, {\"y\": [0.9855072463768116, 0.9855072463768116, null, 0.9855072463768116, 0.950766265318536, null], \"x\": [1.0, 0.5, null, 0.5378787878787878, 0.5711205515867566, null], \"line\": {\"width\": 2, \"color\": \"rgb(0, 0, 0)\"}, \"mode\": \"lines\", \"hoverinfo\": \"none\"}, {\"y\": [0.0, 1.0, null, 0.9476346480327754, 0.8776659754484841, null, 0.9476346480327754, 0.9256934811496907, null], \"x\": [0.5, 1.0, null, 0.9738173240163878, 0.9639630823912474, null, 0.9738173240163878, 0.9377166459078401, null], \"line\": {\"width\": 2, \"color\": \"rgb(0, 0, 0)\"}, \"mode\": \"lines\", \"hoverinfo\": \"none\"}, {\"y\": [0.0, 0.0, null, 0.0, -0.03474098105827558, null, 0.0, 0.03474098105827558, null], \"x\": [0.5, 1.0, null, 0.9621212121212122, 0.9288794484132434, null, 0.9621212121212122, 0.9288794484132434, null], \"line\": {\"width\": 2, \"color\": \"rgb(0, 0, 0)\"}, \"mode\": \"lines\", \"hoverinfo\": \"none\"}, {\"y\": [0.0, 0.5, null, 0.481676128503406, 0.4992073320037643, null, 0.481676128503406, 0.4319835048195859, null], \"x\": [1.0, 0.0, null, 0.03664774299318793, 0.07340128670201525, null, 0.03664774299318793, 0.06421703965128427, null], \"line\": {\"width\": 2, \"color\": \"rgb(0, 0, 0)\"}, \"mode\": \"lines\", \"hoverinfo\": \"none\"}, {\"y\": [0.0, 1.0, null, 0.927536231884058, 0.8639432926166397, null, 0.927536231884058, 0.8639432926166397, null], \"x\": [1.0, 1.0, null, 1.0, 1.0181600582804622, null, 1.0, 0.9818399417195378, null], \"line\": {\"width\": 2, \"color\": \"rgb(0, 0, 0)\"}, \"mode\": \"lines\", \"hoverinfo\": \"none\"}, {\"y\": [0.5], \"marker\": {\"line\": {\"width\": 2, \"color\": \"rgb(0, 0, 0)\"}, \"color\": \"rgb(255, 255, 255)\", \"size\": 20}, \"hoverinfo\": \"none\", \"textposition\": \"middle center\", \"x\": [0.0], \"mode\": \"markers+text\", \"text\": [\"0\"], \"textfont\": {\"color\": \"rgb(0, 0, 0)\"}}, {\"y\": [1.0], \"marker\": {\"line\": {\"width\": 2, \"color\": \"rgb(0, 0, 0)\"}, \"color\": \"rgb(255, 255, 255)\", \"size\": 20}, \"hoverinfo\": \"none\", \"textposition\": \"middle center\", \"x\": [0.5], \"mode\": \"markers+text\", \"text\": [\"2\"], \"textfont\": {\"color\": \"rgb(0, 0, 0)\"}}, {\"y\": [1.0], \"marker\": {\"line\": {\"width\": 2, \"color\": \"rgb(0, 0, 0)\"}, \"color\": \"rgb(255, 255, 255)\", \"size\": 20}, \"hoverinfo\": \"none\", \"textposition\": \"middle center\", \"x\": [1.0], \"mode\": \"markers+text\", \"text\": [\"4\"], \"textfont\": {\"color\": \"rgb(0, 0, 0)\"}}, {\"y\": [0.0], \"marker\": {\"line\": {\"width\": 2, \"color\": \"rgb(0, 0, 0)\"}, \"color\": \"rgb(255, 255, 255)\", \"size\": 20}, \"hoverinfo\": \"none\", \"textposition\": \"middle center\", \"x\": [0.5], \"mode\": \"markers+text\", \"text\": [\"7\"], \"textfont\": {\"color\": \"rgb(0, 0, 0)\"}}, {\"y\": [0.0], \"marker\": {\"line\": {\"width\": 2, \"color\": \"rgb(0, 0, 0)\"}, \"color\": \"rgb(255, 255, 255)\", \"size\": 20}, \"hoverinfo\": \"none\", \"textposition\": \"middle center\", \"x\": [1.0], \"mode\": \"markers+text\", \"text\": [\"2\"], \"textfont\": {\"color\": \"rgb(0, 0, 0)\"}}]}, {\"name\": 24, \"data\": [{\"y\": [0.5, 1.0, null, 0.966430854395385, 0.906182816233176, null, 0.966430854395385, 0.967759498957256, null], \"x\": [0.0, 0.5, null, 0.46643085439538495, 0.44538388103556675, null, 0.46643085439538495, 0.4285584341548651, null], \"line\": {\"width\": 2, \"color\": \"rgb(0, 0, 0)\"}, \"mode\": \"lines\", \"hoverinfo\": \"none\"}, {\"y\": [0.5, 0.0, null, 0.03356914560461503, 0.032240501042743994, null, 0.03356914560461503, 0.09381718376682407, null], \"x\": [0.0, 0.5, null, 0.46643085439538495, 0.4285584341548651, null, 0.46643085439538495, 0.44538388103556675, null], \"line\": {\"width\": 2, \"color\": \"rgb(0, 0, 0)\"}, \"mode\": \"lines\", \"hoverinfo\": \"none\"}, {\"y\": [1.0144927536231885, 1.0144927536231885, null, 1.0144927536231885, 1.049233734681464, null], \"x\": [0.5, 1.0, null, 0.9621212121212122, 0.9288794484132434, null], \"line\": {\"width\": 2, \"color\": \"rgb(0, 0, 0)\"}, \"mode\": \"lines\", \"hoverinfo\": \"none\"}, {\"y\": [1.0, 0.0, null, 0.07246376811594203, 0.13605670738336034, null, 0.07246376811594203, 0.13605670738336034, null], \"x\": [0.5, 0.5, null, 0.5, 0.48183994171953776, null, 0.5, 0.5181600582804622, null], \"line\": {\"width\": 2, \"color\": \"rgb(255, 0, 0)\"}, \"mode\": \"lines\", \"hoverinfo\": \"none\"}, {\"y\": [1.0, 0.0, null, 0.052365351967224576, 0.07430651885030926, null, 0.052365351967224576, 0.12233402455151593, null], \"x\": [0.5, 1.0, null, 0.9738173240163878, 0.9377166459078401, null, 0.9738173240163878, 0.9639630823912474, null], \"line\": {\"width\": 2, \"color\": \"rgb(0, 0, 0)\"}, \"mode\": \"lines\", \"hoverinfo\": \"none\"}, {\"y\": [0.9855072463768116, 0.9855072463768116, null, 0.9855072463768116, 0.950766265318536, null], \"x\": [1.0, 0.5, null, 0.5378787878787878, 0.5711205515867566, null], \"line\": {\"width\": 2, \"color\": \"rgb(0, 0, 0)\"}, \"mode\": \"lines\", \"hoverinfo\": \"none\"}, {\"y\": [0.0, 1.0, null, 0.9476346480327754, 0.8776659754484841, null, 0.9476346480327754, 0.9256934811496907, null], \"x\": [0.5, 1.0, null, 0.9738173240163878, 0.9639630823912474, null, 0.9738173240163878, 0.9377166459078401, null], \"line\": {\"width\": 2, \"color\": \"rgb(0, 0, 0)\"}, \"mode\": \"lines\", \"hoverinfo\": \"none\"}, {\"y\": [0.0, 0.0, null, 0.0, -0.03474098105827558, null, 0.0, 0.03474098105827558, null], \"x\": [0.5, 1.0, null, 0.9621212121212122, 0.9288794484132434, null, 0.9621212121212122, 0.9288794484132434, null], \"line\": {\"width\": 2, \"color\": \"rgb(0, 0, 0)\"}, \"mode\": \"lines\", \"hoverinfo\": \"none\"}, {\"y\": [0.0, 0.5, null, 0.481676128503406, 0.4992073320037643, null, 0.481676128503406, 0.4319835048195859, null], \"x\": [1.0, 0.0, null, 0.03664774299318793, 0.07340128670201525, null, 0.03664774299318793, 0.06421703965128427, null], \"line\": {\"width\": 2, \"color\": \"rgb(0, 0, 0)\"}, \"mode\": \"lines\", \"hoverinfo\": \"none\"}, {\"y\": [0.0, 1.0, null, 0.927536231884058, 0.8639432926166397, null, 0.927536231884058, 0.8639432926166397, null], \"x\": [1.0, 1.0, null, 1.0, 1.0181600582804622, null, 1.0, 0.9818399417195378, null], \"line\": {\"width\": 2, \"color\": \"rgb(0, 0, 0)\"}, \"mode\": \"lines\", \"hoverinfo\": \"none\"}, {\"y\": [0.5], \"marker\": {\"line\": {\"width\": 2, \"color\": \"rgb(0, 0, 0)\"}, \"color\": \"rgb(255, 255, 255)\", \"size\": 20}, \"hoverinfo\": \"none\", \"textposition\": \"middle center\", \"x\": [0.0], \"mode\": \"markers+text\", \"text\": [\"0\"], \"textfont\": {\"color\": \"rgb(0, 0, 0)\"}}, {\"y\": [1.0], \"marker\": {\"line\": {\"width\": 2, \"color\": \"rgb(0, 0, 0)\"}, \"color\": \"rgb(255, 255, 255)\", \"size\": 20}, \"hoverinfo\": \"none\", \"textposition\": \"middle center\", \"x\": [0.5], \"mode\": \"markers+text\", \"text\": [\"2\"], \"textfont\": {\"color\": \"rgb(0, 0, 0)\"}}, {\"y\": [1.0], \"marker\": {\"line\": {\"width\": 2, \"color\": \"rgb(0, 0, 0)\"}, \"color\": \"rgb(255, 255, 255)\", \"size\": 20}, \"hoverinfo\": \"none\", \"textposition\": \"middle center\", \"x\": [1.0], \"mode\": \"markers+text\", \"text\": [\"4\"], \"textfont\": {\"color\": \"rgb(0, 0, 0)\"}}, {\"y\": [0.0], \"marker\": {\"line\": {\"width\": 2, \"color\": \"rgb(0, 0, 0)\"}, \"color\": \"rgb(255, 255, 255)\", \"size\": 20}, \"hoverinfo\": \"none\", \"textposition\": \"middle center\", \"x\": [0.5], \"mode\": \"markers+text\", \"text\": [\"7\"], \"textfont\": {\"color\": \"rgb(0, 0, 0)\"}}, {\"y\": [0.0], \"marker\": {\"line\": {\"width\": 2, \"color\": \"rgb(0, 0, 0)\"}, \"color\": \"rgb(255, 255, 255)\", \"size\": 20}, \"hoverinfo\": \"none\", \"textposition\": \"middle center\", \"x\": [1.0], \"mode\": \"markers+text\", \"text\": [\"2\"], \"textfont\": {\"color\": \"rgb(0, 0, 0)\"}}]}, {\"name\": 25, \"data\": [{\"y\": [0.5, 1.0, null, 0.966430854395385, 0.906182816233176, null, 0.966430854395385, 0.967759498957256, null], \"x\": [0.0, 0.5, null, 0.46643085439538495, 0.44538388103556675, null, 0.46643085439538495, 0.4285584341548651, null], \"line\": {\"width\": 2, \"color\": \"rgb(0, 0, 0)\"}, \"mode\": \"lines\", \"hoverinfo\": \"none\"}, {\"y\": [0.5, 0.0, null, 0.03356914560461503, 0.032240501042743994, null, 0.03356914560461503, 0.09381718376682407, null], \"x\": [0.0, 0.5, null, 0.46643085439538495, 0.4285584341548651, null, 0.46643085439538495, 0.44538388103556675, null], \"line\": {\"width\": 2, \"color\": \"rgb(0, 0, 0)\"}, \"mode\": \"lines\", \"hoverinfo\": \"none\"}, {\"y\": [1.0144927536231885, 1.0144927536231885, null, 1.0144927536231885, 1.049233734681464, null], \"x\": [0.5, 1.0, null, 0.9621212121212122, 0.9288794484132434, null], \"line\": {\"width\": 2, \"color\": \"rgb(0, 0, 0)\"}, \"mode\": \"lines\", \"hoverinfo\": \"none\"}, {\"y\": [1.0, 0.0, null, 0.07246376811594203, 0.13605670738336034, null, 0.07246376811594203, 0.13605670738336034, null], \"x\": [0.5, 0.5, null, 0.5, 0.48183994171953776, null, 0.5, 0.5181600582804622, null], \"line\": {\"width\": 2, \"color\": \"rgb(0, 0, 0)\"}, \"mode\": \"lines\", \"hoverinfo\": \"none\"}, {\"y\": [1.0, 0.0, null, 0.052365351967224576, 0.07430651885030926, null, 0.052365351967224576, 0.12233402455151593, null], \"x\": [0.5, 1.0, null, 0.9738173240163878, 0.9377166459078401, null, 0.9738173240163878, 0.9639630823912474, null], \"line\": {\"width\": 2, \"color\": \"rgb(0, 255, 0)\"}, \"mode\": \"lines\", \"hoverinfo\": \"none\"}, {\"y\": [0.9855072463768116, 0.9855072463768116, null, 0.9855072463768116, 0.950766265318536, null], \"x\": [1.0, 0.5, null, 0.5378787878787878, 0.5711205515867566, null], \"line\": {\"width\": 2, \"color\": \"rgb(0, 0, 0)\"}, \"mode\": \"lines\", \"hoverinfo\": \"none\"}, {\"y\": [0.0, 1.0, null, 0.9476346480327754, 0.8776659754484841, null, 0.9476346480327754, 0.9256934811496907, null], \"x\": [0.5, 1.0, null, 0.9738173240163878, 0.9639630823912474, null, 0.9738173240163878, 0.9377166459078401, null], \"line\": {\"width\": 2, \"color\": \"rgb(0, 0, 0)\"}, \"mode\": \"lines\", \"hoverinfo\": \"none\"}, {\"y\": [0.0, 0.0, null, 0.0, -0.03474098105827558, null, 0.0, 0.03474098105827558, null], \"x\": [0.5, 1.0, null, 0.9621212121212122, 0.9288794484132434, null, 0.9621212121212122, 0.9288794484132434, null], \"line\": {\"width\": 2, \"color\": \"rgb(0, 0, 0)\"}, \"mode\": \"lines\", \"hoverinfo\": \"none\"}, {\"y\": [0.0, 0.5, null, 0.481676128503406, 0.4992073320037643, null, 0.481676128503406, 0.4319835048195859, null], \"x\": [1.0, 0.0, null, 0.03664774299318793, 0.07340128670201525, null, 0.03664774299318793, 0.06421703965128427, null], \"line\": {\"width\": 2, \"color\": \"rgb(0, 0, 0)\"}, \"mode\": \"lines\", \"hoverinfo\": \"none\"}, {\"y\": [0.0, 1.0, null, 0.927536231884058, 0.8639432926166397, null, 0.927536231884058, 0.8639432926166397, null], \"x\": [1.0, 1.0, null, 1.0, 1.0181600582804622, null, 1.0, 0.9818399417195378, null], \"line\": {\"width\": 2, \"color\": \"rgb(0, 0, 0)\"}, \"mode\": \"lines\", \"hoverinfo\": \"none\"}, {\"y\": [0.5], \"marker\": {\"line\": {\"width\": 2, \"color\": \"rgb(0, 0, 0)\"}, \"color\": \"rgb(255, 255, 255)\", \"size\": 20}, \"hoverinfo\": \"none\", \"textposition\": \"middle center\", \"x\": [0.0], \"mode\": \"markers+text\", \"text\": [\"0\"], \"textfont\": {\"color\": \"rgb(0, 0, 0)\"}}, {\"y\": [1.0], \"marker\": {\"line\": {\"width\": 2, \"color\": \"rgb(0, 0, 0)\"}, \"color\": \"rgb(255, 255, 255)\", \"size\": 20}, \"hoverinfo\": \"none\", \"textposition\": \"middle center\", \"x\": [0.5], \"mode\": \"markers+text\", \"text\": [\"2\"], \"textfont\": {\"color\": \"rgb(0, 0, 0)\"}}, {\"y\": [1.0], \"marker\": {\"line\": {\"width\": 2, \"color\": \"rgb(0, 0, 0)\"}, \"color\": \"rgb(255, 255, 255)\", \"size\": 20}, \"hoverinfo\": \"none\", \"textposition\": \"middle center\", \"x\": [1.0], \"mode\": \"markers+text\", \"text\": [\"4\"], \"textfont\": {\"color\": \"rgb(0, 0, 0)\"}}, {\"y\": [0.0], \"marker\": {\"line\": {\"width\": 2, \"color\": \"rgb(0, 0, 0)\"}, \"color\": \"rgb(255, 255, 255)\", \"size\": 20}, \"hoverinfo\": \"none\", \"textposition\": \"middle center\", \"x\": [0.5], \"mode\": \"markers+text\", \"text\": [\"7\"], \"textfont\": {\"color\": \"rgb(0, 0, 0)\"}}, {\"y\": [0.0], \"marker\": {\"line\": {\"width\": 2, \"color\": \"rgb(0, 0, 0)\"}, \"color\": \"rgb(255, 255, 255)\", \"size\": 20}, \"hoverinfo\": \"none\", \"textposition\": \"middle center\", \"x\": [1.0], \"mode\": \"markers+text\", \"text\": [\"-2\"], \"textfont\": {\"color\": \"rgb(0, 0, 0)\"}}]}, {\"name\": 26, \"data\": [{\"y\": [0.5, 1.0, null, 0.966430854395385, 0.906182816233176, null, 0.966430854395385, 0.967759498957256, null], \"x\": [0.0, 0.5, null, 0.46643085439538495, 0.44538388103556675, null, 0.46643085439538495, 0.4285584341548651, null], \"line\": {\"width\": 2, \"color\": \"rgb(0, 0, 0)\"}, \"mode\": \"lines\", \"hoverinfo\": \"none\"}, {\"y\": [0.5, 0.0, null, 0.03356914560461503, 0.032240501042743994, null, 0.03356914560461503, 0.09381718376682407, null], \"x\": [0.0, 0.5, null, 0.46643085439538495, 0.4285584341548651, null, 0.46643085439538495, 0.44538388103556675, null], \"line\": {\"width\": 2, \"color\": \"rgb(0, 0, 0)\"}, \"mode\": \"lines\", \"hoverinfo\": \"none\"}, {\"y\": [1.0144927536231885, 1.0144927536231885, null, 1.0144927536231885, 1.049233734681464, null], \"x\": [0.5, 1.0, null, 0.9621212121212122, 0.9288794484132434, null], \"line\": {\"width\": 2, \"color\": \"rgb(0, 0, 0)\"}, \"mode\": \"lines\", \"hoverinfo\": \"none\"}, {\"y\": [1.0, 0.0, null, 0.07246376811594203, 0.13605670738336034, null, 0.07246376811594203, 0.13605670738336034, null], \"x\": [0.5, 0.5, null, 0.5, 0.48183994171953776, null, 0.5, 0.5181600582804622, null], \"line\": {\"width\": 2, \"color\": \"rgb(0, 0, 0)\"}, \"mode\": \"lines\", \"hoverinfo\": \"none\"}, {\"y\": [1.0, 0.0, null, 0.052365351967224576, 0.07430651885030926, null, 0.052365351967224576, 0.12233402455151593, null], \"x\": [0.5, 1.0, null, 0.9738173240163878, 0.9377166459078401, null, 0.9738173240163878, 0.9639630823912474, null], \"line\": {\"width\": 2, \"color\": \"rgb(0, 0, 0)\"}, \"mode\": \"lines\", \"hoverinfo\": \"none\"}, {\"y\": [0.9855072463768116, 0.9855072463768116, null, 0.9855072463768116, 0.950766265318536, null], \"x\": [1.0, 0.5, null, 0.5378787878787878, 0.5711205515867566, null], \"line\": {\"width\": 2, \"color\": \"rgb(255, 0, 0)\"}, \"mode\": \"lines\", \"hoverinfo\": \"none\"}, {\"y\": [0.0, 1.0, null, 0.9476346480327754, 0.8776659754484841, null, 0.9476346480327754, 0.9256934811496907, null], \"x\": [0.5, 1.0, null, 0.9738173240163878, 0.9639630823912474, null, 0.9738173240163878, 0.9377166459078401, null], \"line\": {\"width\": 2, \"color\": \"rgb(0, 0, 0)\"}, \"mode\": \"lines\", \"hoverinfo\": \"none\"}, {\"y\": [0.0, 0.0, null, 0.0, -0.03474098105827558, null, 0.0, 0.03474098105827558, null], \"x\": [0.5, 1.0, null, 0.9621212121212122, 0.9288794484132434, null, 0.9621212121212122, 0.9288794484132434, null], \"line\": {\"width\": 2, \"color\": \"rgb(0, 0, 0)\"}, \"mode\": \"lines\", \"hoverinfo\": \"none\"}, {\"y\": [0.0, 0.5, null, 0.481676128503406, 0.4992073320037643, null, 0.481676128503406, 0.4319835048195859, null], \"x\": [1.0, 0.0, null, 0.03664774299318793, 0.07340128670201525, null, 0.03664774299318793, 0.06421703965128427, null], \"line\": {\"width\": 2, \"color\": \"rgb(0, 0, 0)\"}, \"mode\": \"lines\", \"hoverinfo\": \"none\"}, {\"y\": [0.0, 1.0, null, 0.927536231884058, 0.8639432926166397, null, 0.927536231884058, 0.8639432926166397, null], \"x\": [1.0, 1.0, null, 1.0, 1.0181600582804622, null, 1.0, 0.9818399417195378, null], \"line\": {\"width\": 2, \"color\": \"rgb(0, 0, 0)\"}, \"mode\": \"lines\", \"hoverinfo\": \"none\"}, {\"y\": [0.5], \"marker\": {\"line\": {\"width\": 2, \"color\": \"rgb(0, 0, 0)\"}, \"color\": \"rgb(255, 255, 255)\", \"size\": 20}, \"hoverinfo\": \"none\", \"textposition\": \"middle center\", \"x\": [0.0], \"mode\": \"markers+text\", \"text\": [\"0\"], \"textfont\": {\"color\": \"rgb(0, 0, 0)\"}}, {\"y\": [1.0], \"marker\": {\"line\": {\"width\": 2, \"color\": \"rgb(0, 0, 0)\"}, \"color\": \"rgb(255, 255, 255)\", \"size\": 20}, \"hoverinfo\": \"none\", \"textposition\": \"middle center\", \"x\": [0.5], \"mode\": \"markers+text\", \"text\": [\"2\"], \"textfont\": {\"color\": \"rgb(0, 0, 0)\"}}, {\"y\": [1.0], \"marker\": {\"line\": {\"width\": 2, \"color\": \"rgb(0, 0, 0)\"}, \"color\": \"rgb(255, 255, 255)\", \"size\": 20}, \"hoverinfo\": \"none\", \"textposition\": \"middle center\", \"x\": [1.0], \"mode\": \"markers+text\", \"text\": [\"4\"], \"textfont\": {\"color\": \"rgb(0, 0, 0)\"}}, {\"y\": [0.0], \"marker\": {\"line\": {\"width\": 2, \"color\": \"rgb(0, 0, 0)\"}, \"color\": \"rgb(255, 255, 255)\", \"size\": 20}, \"hoverinfo\": \"none\", \"textposition\": \"middle center\", \"x\": [0.5], \"mode\": \"markers+text\", \"text\": [\"7\"], \"textfont\": {\"color\": \"rgb(0, 0, 0)\"}}, {\"y\": [0.0], \"marker\": {\"line\": {\"width\": 2, \"color\": \"rgb(0, 0, 0)\"}, \"color\": \"rgb(255, 255, 255)\", \"size\": 20}, \"hoverinfo\": \"none\", \"textposition\": \"middle center\", \"x\": [1.0], \"mode\": \"markers+text\", \"text\": [\"-2\"], \"textfont\": {\"color\": \"rgb(0, 0, 0)\"}}]}, {\"name\": 27, \"data\": [{\"y\": [0.5, 1.0, null, 0.966430854395385, 0.906182816233176, null, 0.966430854395385, 0.967759498957256, null], \"x\": [0.0, 0.5, null, 0.46643085439538495, 0.44538388103556675, null, 0.46643085439538495, 0.4285584341548651, null], \"line\": {\"width\": 2, \"color\": \"rgb(0, 0, 0)\"}, \"mode\": \"lines\", \"hoverinfo\": \"none\"}, {\"y\": [0.5, 0.0, null, 0.03356914560461503, 0.032240501042743994, null, 0.03356914560461503, 0.09381718376682407, null], \"x\": [0.0, 0.5, null, 0.46643085439538495, 0.4285584341548651, null, 0.46643085439538495, 0.44538388103556675, null], \"line\": {\"width\": 2, \"color\": \"rgb(0, 0, 0)\"}, \"mode\": \"lines\", \"hoverinfo\": \"none\"}, {\"y\": [1.0144927536231885, 1.0144927536231885, null, 1.0144927536231885, 1.049233734681464, null], \"x\": [0.5, 1.0, null, 0.9621212121212122, 0.9288794484132434, null], \"line\": {\"width\": 2, \"color\": \"rgb(0, 0, 0)\"}, \"mode\": \"lines\", \"hoverinfo\": \"none\"}, {\"y\": [1.0, 0.0, null, 0.07246376811594203, 0.13605670738336034, null, 0.07246376811594203, 0.13605670738336034, null], \"x\": [0.5, 0.5, null, 0.5, 0.48183994171953776, null, 0.5, 0.5181600582804622, null], \"line\": {\"width\": 2, \"color\": \"rgb(0, 0, 0)\"}, \"mode\": \"lines\", \"hoverinfo\": \"none\"}, {\"y\": [1.0, 0.0, null, 0.052365351967224576, 0.07430651885030926, null, 0.052365351967224576, 0.12233402455151593, null], \"x\": [0.5, 1.0, null, 0.9738173240163878, 0.9377166459078401, null, 0.9738173240163878, 0.9639630823912474, null], \"line\": {\"width\": 2, \"color\": \"rgb(0, 0, 0)\"}, \"mode\": \"lines\", \"hoverinfo\": \"none\"}, {\"y\": [0.9855072463768116, 0.9855072463768116, null, 0.9855072463768116, 0.950766265318536, null], \"x\": [1.0, 0.5, null, 0.5378787878787878, 0.5711205515867566, null], \"line\": {\"width\": 2, \"color\": \"rgb(0, 0, 0)\"}, \"mode\": \"lines\", \"hoverinfo\": \"none\"}, {\"y\": [0.0, 1.0, null, 0.9476346480327754, 0.8776659754484841, null, 0.9476346480327754, 0.9256934811496907, null], \"x\": [0.5, 1.0, null, 0.9738173240163878, 0.9639630823912474, null, 0.9738173240163878, 0.9377166459078401, null], \"line\": {\"width\": 2, \"color\": \"rgb(255, 0, 0)\"}, \"mode\": \"lines\", \"hoverinfo\": \"none\"}, {\"y\": [0.0, 0.0, null, 0.0, -0.03474098105827558, null, 0.0, 0.03474098105827558, null], \"x\": [0.5, 1.0, null, 0.9621212121212122, 0.9288794484132434, null, 0.9621212121212122, 0.9288794484132434, null], \"line\": {\"width\": 2, \"color\": \"rgb(0, 0, 0)\"}, \"mode\": \"lines\", \"hoverinfo\": \"none\"}, {\"y\": [0.0, 0.5, null, 0.481676128503406, 0.4992073320037643, null, 0.481676128503406, 0.4319835048195859, null], \"x\": [1.0, 0.0, null, 0.03664774299318793, 0.07340128670201525, null, 0.03664774299318793, 0.06421703965128427, null], \"line\": {\"width\": 2, \"color\": \"rgb(0, 0, 0)\"}, \"mode\": \"lines\", \"hoverinfo\": \"none\"}, {\"y\": [0.0, 1.0, null, 0.927536231884058, 0.8639432926166397, null, 0.927536231884058, 0.8639432926166397, null], \"x\": [1.0, 1.0, null, 1.0, 1.0181600582804622, null, 1.0, 0.9818399417195378, null], \"line\": {\"width\": 2, \"color\": \"rgb(0, 0, 0)\"}, \"mode\": \"lines\", \"hoverinfo\": \"none\"}, {\"y\": [0.5], \"marker\": {\"line\": {\"width\": 2, \"color\": \"rgb(0, 0, 0)\"}, \"color\": \"rgb(255, 255, 255)\", \"size\": 20}, \"hoverinfo\": \"none\", \"textposition\": \"middle center\", \"x\": [0.0], \"mode\": \"markers+text\", \"text\": [\"0\"], \"textfont\": {\"color\": \"rgb(0, 0, 0)\"}}, {\"y\": [1.0], \"marker\": {\"line\": {\"width\": 2, \"color\": \"rgb(0, 0, 0)\"}, \"color\": \"rgb(255, 255, 255)\", \"size\": 20}, \"hoverinfo\": \"none\", \"textposition\": \"middle center\", \"x\": [0.5], \"mode\": \"markers+text\", \"text\": [\"2\"], \"textfont\": {\"color\": \"rgb(0, 0, 0)\"}}, {\"y\": [1.0], \"marker\": {\"line\": {\"width\": 2, \"color\": \"rgb(0, 0, 0)\"}, \"color\": \"rgb(255, 255, 255)\", \"size\": 20}, \"hoverinfo\": \"none\", \"textposition\": \"middle center\", \"x\": [1.0], \"mode\": \"markers+text\", \"text\": [\"4\"], \"textfont\": {\"color\": \"rgb(0, 0, 0)\"}}, {\"y\": [0.0], \"marker\": {\"line\": {\"width\": 2, \"color\": \"rgb(0, 0, 0)\"}, \"color\": \"rgb(255, 255, 255)\", \"size\": 20}, \"hoverinfo\": \"none\", \"textposition\": \"middle center\", \"x\": [0.5], \"mode\": \"markers+text\", \"text\": [\"7\"], \"textfont\": {\"color\": \"rgb(0, 0, 0)\"}}, {\"y\": [0.0], \"marker\": {\"line\": {\"width\": 2, \"color\": \"rgb(0, 0, 0)\"}, \"color\": \"rgb(255, 255, 255)\", \"size\": 20}, \"hoverinfo\": \"none\", \"textposition\": \"middle center\", \"x\": [1.0], \"mode\": \"markers+text\", \"text\": [\"-2\"], \"textfont\": {\"color\": \"rgb(0, 0, 0)\"}}]}, {\"name\": 28, \"data\": [{\"y\": [0.5, 1.0, null, 0.966430854395385, 0.906182816233176, null, 0.966430854395385, 0.967759498957256, null], \"x\": [0.0, 0.5, null, 0.46643085439538495, 0.44538388103556675, null, 0.46643085439538495, 0.4285584341548651, null], \"line\": {\"width\": 2, \"color\": \"rgb(0, 0, 0)\"}, \"mode\": \"lines\", \"hoverinfo\": \"none\"}, {\"y\": [0.5, 0.0, null, 0.03356914560461503, 0.032240501042743994, null, 0.03356914560461503, 0.09381718376682407, null], \"x\": [0.0, 0.5, null, 0.46643085439538495, 0.4285584341548651, null, 0.46643085439538495, 0.44538388103556675, null], \"line\": {\"width\": 2, \"color\": \"rgb(0, 0, 0)\"}, \"mode\": \"lines\", \"hoverinfo\": \"none\"}, {\"y\": [1.0144927536231885, 1.0144927536231885, null, 1.0144927536231885, 1.049233734681464, null], \"x\": [0.5, 1.0, null, 0.9621212121212122, 0.9288794484132434, null], \"line\": {\"width\": 2, \"color\": \"rgb(0, 0, 0)\"}, \"mode\": \"lines\", \"hoverinfo\": \"none\"}, {\"y\": [1.0, 0.0, null, 0.07246376811594203, 0.13605670738336034, null, 0.07246376811594203, 0.13605670738336034, null], \"x\": [0.5, 0.5, null, 0.5, 0.48183994171953776, null, 0.5, 0.5181600582804622, null], \"line\": {\"width\": 2, \"color\": \"rgb(0, 0, 0)\"}, \"mode\": \"lines\", \"hoverinfo\": \"none\"}, {\"y\": [1.0, 0.0, null, 0.052365351967224576, 0.07430651885030926, null, 0.052365351967224576, 0.12233402455151593, null], \"x\": [0.5, 1.0, null, 0.9738173240163878, 0.9377166459078401, null, 0.9738173240163878, 0.9639630823912474, null], \"line\": {\"width\": 2, \"color\": \"rgb(0, 0, 0)\"}, \"mode\": \"lines\", \"hoverinfo\": \"none\"}, {\"y\": [0.9855072463768116, 0.9855072463768116, null, 0.9855072463768116, 0.950766265318536, null], \"x\": [1.0, 0.5, null, 0.5378787878787878, 0.5711205515867566, null], \"line\": {\"width\": 2, \"color\": \"rgb(0, 0, 0)\"}, \"mode\": \"lines\", \"hoverinfo\": \"none\"}, {\"y\": [0.0, 1.0, null, 0.9476346480327754, 0.8776659754484841, null, 0.9476346480327754, 0.9256934811496907, null], \"x\": [0.5, 1.0, null, 0.9738173240163878, 0.9639630823912474, null, 0.9738173240163878, 0.9377166459078401, null], \"line\": {\"width\": 2, \"color\": \"rgb(0, 0, 0)\"}, \"mode\": \"lines\", \"hoverinfo\": \"none\"}, {\"y\": [0.0, 0.0, null, 0.0, -0.03474098105827558, null, 0.0, 0.03474098105827558, null], \"x\": [0.5, 1.0, null, 0.9621212121212122, 0.9288794484132434, null, 0.9621212121212122, 0.9288794484132434, null], \"line\": {\"width\": 2, \"color\": \"rgb(255, 0, 0)\"}, \"mode\": \"lines\", \"hoverinfo\": \"none\"}, {\"y\": [0.0, 0.5, null, 0.481676128503406, 0.4992073320037643, null, 0.481676128503406, 0.4319835048195859, null], \"x\": [1.0, 0.0, null, 0.03664774299318793, 0.07340128670201525, null, 0.03664774299318793, 0.06421703965128427, null], \"line\": {\"width\": 2, \"color\": \"rgb(0, 0, 0)\"}, \"mode\": \"lines\", \"hoverinfo\": \"none\"}, {\"y\": [0.0, 1.0, null, 0.927536231884058, 0.8639432926166397, null, 0.927536231884058, 0.8639432926166397, null], \"x\": [1.0, 1.0, null, 1.0, 1.0181600582804622, null, 1.0, 0.9818399417195378, null], \"line\": {\"width\": 2, \"color\": \"rgb(0, 0, 0)\"}, \"mode\": \"lines\", \"hoverinfo\": \"none\"}, {\"y\": [0.5], \"marker\": {\"line\": {\"width\": 2, \"color\": \"rgb(0, 0, 0)\"}, \"color\": \"rgb(255, 255, 255)\", \"size\": 20}, \"hoverinfo\": \"none\", \"textposition\": \"middle center\", \"x\": [0.0], \"mode\": \"markers+text\", \"text\": [\"0\"], \"textfont\": {\"color\": \"rgb(0, 0, 0)\"}}, {\"y\": [1.0], \"marker\": {\"line\": {\"width\": 2, \"color\": \"rgb(0, 0, 0)\"}, \"color\": \"rgb(255, 255, 255)\", \"size\": 20}, \"hoverinfo\": \"none\", \"textposition\": \"middle center\", \"x\": [0.5], \"mode\": \"markers+text\", \"text\": [\"2\"], \"textfont\": {\"color\": \"rgb(0, 0, 0)\"}}, {\"y\": [1.0], \"marker\": {\"line\": {\"width\": 2, \"color\": \"rgb(0, 0, 0)\"}, \"color\": \"rgb(255, 255, 255)\", \"size\": 20}, \"hoverinfo\": \"none\", \"textposition\": \"middle center\", \"x\": [1.0], \"mode\": \"markers+text\", \"text\": [\"4\"], \"textfont\": {\"color\": \"rgb(0, 0, 0)\"}}, {\"y\": [0.0], \"marker\": {\"line\": {\"width\": 2, \"color\": \"rgb(0, 0, 0)\"}, \"color\": \"rgb(255, 255, 255)\", \"size\": 20}, \"hoverinfo\": \"none\", \"textposition\": \"middle center\", \"x\": [0.5], \"mode\": \"markers+text\", \"text\": [\"7\"], \"textfont\": {\"color\": \"rgb(0, 0, 0)\"}}, {\"y\": [0.0], \"marker\": {\"line\": {\"width\": 2, \"color\": \"rgb(0, 0, 0)\"}, \"color\": \"rgb(255, 255, 255)\", \"size\": 20}, \"hoverinfo\": \"none\", \"textposition\": \"middle center\", \"x\": [1.0], \"mode\": \"markers+text\", \"text\": [\"-2\"], \"textfont\": {\"color\": \"rgb(0, 0, 0)\"}}]}, {\"name\": 29, \"data\": [{\"y\": [0.5, 1.0, null, 0.966430854395385, 0.906182816233176, null, 0.966430854395385, 0.967759498957256, null], \"x\": [0.0, 0.5, null, 0.46643085439538495, 0.44538388103556675, null, 0.46643085439538495, 0.4285584341548651, null], \"line\": {\"width\": 2, \"color\": \"rgb(0, 0, 0)\"}, \"mode\": \"lines\", \"hoverinfo\": \"none\"}, {\"y\": [0.5, 0.0, null, 0.03356914560461503, 0.032240501042743994, null, 0.03356914560461503, 0.09381718376682407, null], \"x\": [0.0, 0.5, null, 0.46643085439538495, 0.4285584341548651, null, 0.46643085439538495, 0.44538388103556675, null], \"line\": {\"width\": 2, \"color\": \"rgb(0, 0, 0)\"}, \"mode\": \"lines\", \"hoverinfo\": \"none\"}, {\"y\": [1.0144927536231885, 1.0144927536231885, null, 1.0144927536231885, 1.049233734681464, null], \"x\": [0.5, 1.0, null, 0.9621212121212122, 0.9288794484132434, null], \"line\": {\"width\": 2, \"color\": \"rgb(0, 0, 0)\"}, \"mode\": \"lines\", \"hoverinfo\": \"none\"}, {\"y\": [1.0, 0.0, null, 0.07246376811594203, 0.13605670738336034, null, 0.07246376811594203, 0.13605670738336034, null], \"x\": [0.5, 0.5, null, 0.5, 0.48183994171953776, null, 0.5, 0.5181600582804622, null], \"line\": {\"width\": 2, \"color\": \"rgb(0, 0, 0)\"}, \"mode\": \"lines\", \"hoverinfo\": \"none\"}, {\"y\": [1.0, 0.0, null, 0.052365351967224576, 0.07430651885030926, null, 0.052365351967224576, 0.12233402455151593, null], \"x\": [0.5, 1.0, null, 0.9738173240163878, 0.9377166459078401, null, 0.9738173240163878, 0.9639630823912474, null], \"line\": {\"width\": 2, \"color\": \"rgb(0, 0, 0)\"}, \"mode\": \"lines\", \"hoverinfo\": \"none\"}, {\"y\": [0.9855072463768116, 0.9855072463768116, null, 0.9855072463768116, 0.950766265318536, null], \"x\": [1.0, 0.5, null, 0.5378787878787878, 0.5711205515867566, null], \"line\": {\"width\": 2, \"color\": \"rgb(0, 0, 0)\"}, \"mode\": \"lines\", \"hoverinfo\": \"none\"}, {\"y\": [0.0, 1.0, null, 0.9476346480327754, 0.8776659754484841, null, 0.9476346480327754, 0.9256934811496907, null], \"x\": [0.5, 1.0, null, 0.9738173240163878, 0.9639630823912474, null, 0.9738173240163878, 0.9377166459078401, null], \"line\": {\"width\": 2, \"color\": \"rgb(0, 0, 0)\"}, \"mode\": \"lines\", \"hoverinfo\": \"none\"}, {\"y\": [0.0, 0.0, null, 0.0, -0.03474098105827558, null, 0.0, 0.03474098105827558, null], \"x\": [0.5, 1.0, null, 0.9621212121212122, 0.9288794484132434, null, 0.9621212121212122, 0.9288794484132434, null], \"line\": {\"width\": 2, \"color\": \"rgb(0, 0, 0)\"}, \"mode\": \"lines\", \"hoverinfo\": \"none\"}, {\"y\": [0.0, 0.5, null, 0.481676128503406, 0.4992073320037643, null, 0.481676128503406, 0.4319835048195859, null], \"x\": [1.0, 0.0, null, 0.03664774299318793, 0.07340128670201525, null, 0.03664774299318793, 0.06421703965128427, null], \"line\": {\"width\": 2, \"color\": \"rgb(255, 0, 0)\"}, \"mode\": \"lines\", \"hoverinfo\": \"none\"}, {\"y\": [0.0, 1.0, null, 0.927536231884058, 0.8639432926166397, null, 0.927536231884058, 0.8639432926166397, null], \"x\": [1.0, 1.0, null, 1.0, 1.0181600582804622, null, 1.0, 0.9818399417195378, null], \"line\": {\"width\": 2, \"color\": \"rgb(0, 0, 0)\"}, \"mode\": \"lines\", \"hoverinfo\": \"none\"}, {\"y\": [0.5], \"marker\": {\"line\": {\"width\": 2, \"color\": \"rgb(0, 0, 0)\"}, \"color\": \"rgb(255, 255, 255)\", \"size\": 20}, \"hoverinfo\": \"none\", \"textposition\": \"middle center\", \"x\": [0.0], \"mode\": \"markers+text\", \"text\": [\"0\"], \"textfont\": {\"color\": \"rgb(0, 0, 0)\"}}, {\"y\": [1.0], \"marker\": {\"line\": {\"width\": 2, \"color\": \"rgb(0, 0, 0)\"}, \"color\": \"rgb(255, 255, 255)\", \"size\": 20}, \"hoverinfo\": \"none\", \"textposition\": \"middle center\", \"x\": [0.5], \"mode\": \"markers+text\", \"text\": [\"2\"], \"textfont\": {\"color\": \"rgb(0, 0, 0)\"}}, {\"y\": [1.0], \"marker\": {\"line\": {\"width\": 2, \"color\": \"rgb(0, 0, 0)\"}, \"color\": \"rgb(255, 255, 255)\", \"size\": 20}, \"hoverinfo\": \"none\", \"textposition\": \"middle center\", \"x\": [1.0], \"mode\": \"markers+text\", \"text\": [\"4\"], \"textfont\": {\"color\": \"rgb(0, 0, 0)\"}}, {\"y\": [0.0], \"marker\": {\"line\": {\"width\": 2, \"color\": \"rgb(0, 0, 0)\"}, \"color\": \"rgb(255, 255, 255)\", \"size\": 20}, \"hoverinfo\": \"none\", \"textposition\": \"middle center\", \"x\": [0.5], \"mode\": \"markers+text\", \"text\": [\"7\"], \"textfont\": {\"color\": \"rgb(0, 0, 0)\"}}, {\"y\": [0.0], \"marker\": {\"line\": {\"width\": 2, \"color\": \"rgb(0, 0, 0)\"}, \"color\": \"rgb(255, 255, 255)\", \"size\": 20}, \"hoverinfo\": \"none\", \"textposition\": \"middle center\", \"x\": [1.0], \"mode\": \"markers+text\", \"text\": [\"-2\"], \"textfont\": {\"color\": \"rgb(0, 0, 0)\"}}]}, {\"name\": 30, \"data\": [{\"y\": [0.5, 1.0, null, 0.966430854395385, 0.906182816233176, null, 0.966430854395385, 0.967759498957256, null], \"x\": [0.0, 0.5, null, 0.46643085439538495, 0.44538388103556675, null, 0.46643085439538495, 0.4285584341548651, null], \"line\": {\"width\": 2, \"color\": \"rgb(0, 0, 0)\"}, \"mode\": \"lines\", \"hoverinfo\": \"none\"}, {\"y\": [0.5, 0.0, null, 0.03356914560461503, 0.032240501042743994, null, 0.03356914560461503, 0.09381718376682407, null], \"x\": [0.0, 0.5, null, 0.46643085439538495, 0.4285584341548651, null, 0.46643085439538495, 0.44538388103556675, null], \"line\": {\"width\": 2, \"color\": \"rgb(0, 0, 0)\"}, \"mode\": \"lines\", \"hoverinfo\": \"none\"}, {\"y\": [1.0144927536231885, 1.0144927536231885, null, 1.0144927536231885, 1.049233734681464, null], \"x\": [0.5, 1.0, null, 0.9621212121212122, 0.9288794484132434, null], \"line\": {\"width\": 2, \"color\": \"rgb(0, 0, 0)\"}, \"mode\": \"lines\", \"hoverinfo\": \"none\"}, {\"y\": [1.0, 0.0, null, 0.07246376811594203, 0.13605670738336034, null, 0.07246376811594203, 0.13605670738336034, null], \"x\": [0.5, 0.5, null, 0.5, 0.48183994171953776, null, 0.5, 0.5181600582804622, null], \"line\": {\"width\": 2, \"color\": \"rgb(0, 0, 0)\"}, \"mode\": \"lines\", \"hoverinfo\": \"none\"}, {\"y\": [1.0, 0.0, null, 0.052365351967224576, 0.07430651885030926, null, 0.052365351967224576, 0.12233402455151593, null], \"x\": [0.5, 1.0, null, 0.9738173240163878, 0.9377166459078401, null, 0.9738173240163878, 0.9639630823912474, null], \"line\": {\"width\": 2, \"color\": \"rgb(0, 0, 0)\"}, \"mode\": \"lines\", \"hoverinfo\": \"none\"}, {\"y\": [0.9855072463768116, 0.9855072463768116, null, 0.9855072463768116, 0.950766265318536, null], \"x\": [1.0, 0.5, null, 0.5378787878787878, 0.5711205515867566, null], \"line\": {\"width\": 2, \"color\": \"rgb(0, 0, 0)\"}, \"mode\": \"lines\", \"hoverinfo\": \"none\"}, {\"y\": [0.0, 1.0, null, 0.9476346480327754, 0.8776659754484841, null, 0.9476346480327754, 0.9256934811496907, null], \"x\": [0.5, 1.0, null, 0.9738173240163878, 0.9639630823912474, null, 0.9738173240163878, 0.9377166459078401, null], \"line\": {\"width\": 2, \"color\": \"rgb(0, 0, 0)\"}, \"mode\": \"lines\", \"hoverinfo\": \"none\"}, {\"y\": [0.0, 0.0, null, 0.0, -0.03474098105827558, null, 0.0, 0.03474098105827558, null], \"x\": [0.5, 1.0, null, 0.9621212121212122, 0.9288794484132434, null, 0.9621212121212122, 0.9288794484132434, null], \"line\": {\"width\": 2, \"color\": \"rgb(0, 0, 0)\"}, \"mode\": \"lines\", \"hoverinfo\": \"none\"}, {\"y\": [0.0, 0.5, null, 0.481676128503406, 0.4992073320037643, null, 0.481676128503406, 0.4319835048195859, null], \"x\": [1.0, 0.0, null, 0.03664774299318793, 0.07340128670201525, null, 0.03664774299318793, 0.06421703965128427, null], \"line\": {\"width\": 2, \"color\": \"rgb(0, 0, 0)\"}, \"mode\": \"lines\", \"hoverinfo\": \"none\"}, {\"y\": [0.0, 1.0, null, 0.927536231884058, 0.8639432926166397, null, 0.927536231884058, 0.8639432926166397, null], \"x\": [1.0, 1.0, null, 1.0, 1.0181600582804622, null, 1.0, 0.9818399417195378, null], \"line\": {\"width\": 2, \"color\": \"rgb(255, 0, 0)\"}, \"mode\": \"lines\", \"hoverinfo\": \"none\"}, {\"y\": [0.5], \"marker\": {\"line\": {\"width\": 2, \"color\": \"rgb(0, 0, 0)\"}, \"color\": \"rgb(255, 255, 255)\", \"size\": 20}, \"hoverinfo\": \"none\", \"textposition\": \"middle center\", \"x\": [0.0], \"mode\": \"markers+text\", \"text\": [\"0\"], \"textfont\": {\"color\": \"rgb(0, 0, 0)\"}}, {\"y\": [1.0], \"marker\": {\"line\": {\"width\": 2, \"color\": \"rgb(0, 0, 0)\"}, \"color\": \"rgb(255, 255, 255)\", \"size\": 20}, \"hoverinfo\": \"none\", \"textposition\": \"middle center\", \"x\": [0.5], \"mode\": \"markers+text\", \"text\": [\"2\"], \"textfont\": {\"color\": \"rgb(0, 0, 0)\"}}, {\"y\": [1.0], \"marker\": {\"line\": {\"width\": 2, \"color\": \"rgb(0, 0, 0)\"}, \"color\": \"rgb(255, 255, 255)\", \"size\": 20}, \"hoverinfo\": \"none\", \"textposition\": \"middle center\", \"x\": [1.0], \"mode\": \"markers+text\", \"text\": [\"4\"], \"textfont\": {\"color\": \"rgb(0, 0, 0)\"}}, {\"y\": [0.0], \"marker\": {\"line\": {\"width\": 2, \"color\": \"rgb(0, 0, 0)\"}, \"color\": \"rgb(255, 255, 255)\", \"size\": 20}, \"hoverinfo\": \"none\", \"textposition\": \"middle center\", \"x\": [0.5], \"mode\": \"markers+text\", \"text\": [\"7\"], \"textfont\": {\"color\": \"rgb(0, 0, 0)\"}}, {\"y\": [0.0], \"marker\": {\"line\": {\"width\": 2, \"color\": \"rgb(0, 0, 0)\"}, \"color\": \"rgb(255, 255, 255)\", \"size\": 20}, \"hoverinfo\": \"none\", \"textposition\": \"middle center\", \"x\": [1.0], \"mode\": \"markers+text\", \"text\": [\"-2\"], \"textfont\": {\"color\": \"rgb(0, 0, 0)\"}}]}, {\"name\": 31, \"data\": [{\"y\": [0.5, 1.0, null, 0.966430854395385, 0.906182816233176, null, 0.966430854395385, 0.967759498957256, null], \"x\": [0.0, 0.5, null, 0.46643085439538495, 0.44538388103556675, null, 0.46643085439538495, 0.4285584341548651, null], \"line\": {\"width\": 2, \"color\": \"rgb(255, 0, 0)\"}, \"mode\": \"lines\", \"hoverinfo\": \"none\"}, {\"y\": [0.5, 0.0, null, 0.03356914560461503, 0.032240501042743994, null, 0.03356914560461503, 0.09381718376682407, null], \"x\": [0.0, 0.5, null, 0.46643085439538495, 0.4285584341548651, null, 0.46643085439538495, 0.44538388103556675, null], \"line\": {\"width\": 2, \"color\": \"rgb(0, 0, 0)\"}, \"mode\": \"lines\", \"hoverinfo\": \"none\"}, {\"y\": [1.0144927536231885, 1.0144927536231885, null, 1.0144927536231885, 1.049233734681464, null], \"x\": [0.5, 1.0, null, 0.9621212121212122, 0.9288794484132434, null], \"line\": {\"width\": 2, \"color\": \"rgb(0, 0, 0)\"}, \"mode\": \"lines\", \"hoverinfo\": \"none\"}, {\"y\": [1.0, 0.0, null, 0.07246376811594203, 0.13605670738336034, null, 0.07246376811594203, 0.13605670738336034, null], \"x\": [0.5, 0.5, null, 0.5, 0.48183994171953776, null, 0.5, 0.5181600582804622, null], \"line\": {\"width\": 2, \"color\": \"rgb(0, 0, 0)\"}, \"mode\": \"lines\", \"hoverinfo\": \"none\"}, {\"y\": [1.0, 0.0, null, 0.052365351967224576, 0.07430651885030926, null, 0.052365351967224576, 0.12233402455151593, null], \"x\": [0.5, 1.0, null, 0.9738173240163878, 0.9377166459078401, null, 0.9738173240163878, 0.9639630823912474, null], \"line\": {\"width\": 2, \"color\": \"rgb(0, 0, 0)\"}, \"mode\": \"lines\", \"hoverinfo\": \"none\"}, {\"y\": [0.9855072463768116, 0.9855072463768116, null, 0.9855072463768116, 0.950766265318536, null], \"x\": [1.0, 0.5, null, 0.5378787878787878, 0.5711205515867566, null], \"line\": {\"width\": 2, \"color\": \"rgb(0, 0, 0)\"}, \"mode\": \"lines\", \"hoverinfo\": \"none\"}, {\"y\": [0.0, 1.0, null, 0.9476346480327754, 0.8776659754484841, null, 0.9476346480327754, 0.9256934811496907, null], \"x\": [0.5, 1.0, null, 0.9738173240163878, 0.9639630823912474, null, 0.9738173240163878, 0.9377166459078401, null], \"line\": {\"width\": 2, \"color\": \"rgb(0, 0, 0)\"}, \"mode\": \"lines\", \"hoverinfo\": \"none\"}, {\"y\": [0.0, 0.0, null, 0.0, -0.03474098105827558, null, 0.0, 0.03474098105827558, null], \"x\": [0.5, 1.0, null, 0.9621212121212122, 0.9288794484132434, null, 0.9621212121212122, 0.9288794484132434, null], \"line\": {\"width\": 2, \"color\": \"rgb(0, 0, 0)\"}, \"mode\": \"lines\", \"hoverinfo\": \"none\"}, {\"y\": [0.0, 0.5, null, 0.481676128503406, 0.4992073320037643, null, 0.481676128503406, 0.4319835048195859, null], \"x\": [1.0, 0.0, null, 0.03664774299318793, 0.07340128670201525, null, 0.03664774299318793, 0.06421703965128427, null], \"line\": {\"width\": 2, \"color\": \"rgb(0, 0, 0)\"}, \"mode\": \"lines\", \"hoverinfo\": \"none\"}, {\"y\": [0.0, 1.0, null, 0.927536231884058, 0.8639432926166397, null, 0.927536231884058, 0.8639432926166397, null], \"x\": [1.0, 1.0, null, 1.0, 1.0181600582804622, null, 1.0, 0.9818399417195378, null], \"line\": {\"width\": 2, \"color\": \"rgb(0, 0, 0)\"}, \"mode\": \"lines\", \"hoverinfo\": \"none\"}, {\"y\": [0.5], \"marker\": {\"line\": {\"width\": 2, \"color\": \"rgb(0, 0, 0)\"}, \"color\": \"rgb(255, 255, 255)\", \"size\": 20}, \"hoverinfo\": \"none\", \"textposition\": \"middle center\", \"x\": [0.0], \"mode\": \"markers+text\", \"text\": [\"0\"], \"textfont\": {\"color\": \"rgb(0, 0, 0)\"}}, {\"y\": [1.0], \"marker\": {\"line\": {\"width\": 2, \"color\": \"rgb(0, 0, 0)\"}, \"color\": \"rgb(255, 255, 255)\", \"size\": 20}, \"hoverinfo\": \"none\", \"textposition\": \"middle center\", \"x\": [0.5], \"mode\": \"markers+text\", \"text\": [\"2\"], \"textfont\": {\"color\": \"rgb(0, 0, 0)\"}}, {\"y\": [1.0], \"marker\": {\"line\": {\"width\": 2, \"color\": \"rgb(0, 0, 0)\"}, \"color\": \"rgb(255, 255, 255)\", \"size\": 20}, \"hoverinfo\": \"none\", \"textposition\": \"middle center\", \"x\": [1.0], \"mode\": \"markers+text\", \"text\": [\"4\"], \"textfont\": {\"color\": \"rgb(0, 0, 0)\"}}, {\"y\": [0.0], \"marker\": {\"line\": {\"width\": 2, \"color\": \"rgb(0, 0, 0)\"}, \"color\": \"rgb(255, 255, 255)\", \"size\": 20}, \"hoverinfo\": \"none\", \"textposition\": \"middle center\", \"x\": [0.5], \"mode\": \"markers+text\", \"text\": [\"7\"], \"textfont\": {\"color\": \"rgb(0, 0, 0)\"}}, {\"y\": [0.0], \"marker\": {\"line\": {\"width\": 2, \"color\": \"rgb(0, 0, 0)\"}, \"color\": \"rgb(255, 255, 255)\", \"size\": 20}, \"hoverinfo\": \"none\", \"textposition\": \"middle center\", \"x\": [1.0], \"mode\": \"markers+text\", \"text\": [\"-2\"], \"textfont\": {\"color\": \"rgb(0, 0, 0)\"}}]}, {\"name\": 32, \"data\": [{\"y\": [0.5, 1.0, null, 0.966430854395385, 0.906182816233176, null, 0.966430854395385, 0.967759498957256, null], \"x\": [0.0, 0.5, null, 0.46643085439538495, 0.44538388103556675, null, 0.46643085439538495, 0.4285584341548651, null], \"line\": {\"width\": 2, \"color\": \"rgb(0, 0, 0)\"}, \"mode\": \"lines\", \"hoverinfo\": \"none\"}, {\"y\": [0.5, 0.0, null, 0.03356914560461503, 0.032240501042743994, null, 0.03356914560461503, 0.09381718376682407, null], \"x\": [0.0, 0.5, null, 0.46643085439538495, 0.4285584341548651, null, 0.46643085439538495, 0.44538388103556675, null], \"line\": {\"width\": 2, \"color\": \"rgb(255, 0, 0)\"}, \"mode\": \"lines\", \"hoverinfo\": \"none\"}, {\"y\": [1.0144927536231885, 1.0144927536231885, null, 1.0144927536231885, 1.049233734681464, null], \"x\": [0.5, 1.0, null, 0.9621212121212122, 0.9288794484132434, null], \"line\": {\"width\": 2, \"color\": \"rgb(0, 0, 0)\"}, \"mode\": \"lines\", \"hoverinfo\": \"none\"}, {\"y\": [1.0, 0.0, null, 0.07246376811594203, 0.13605670738336034, null, 0.07246376811594203, 0.13605670738336034, null], \"x\": [0.5, 0.5, null, 0.5, 0.48183994171953776, null, 0.5, 0.5181600582804622, null], \"line\": {\"width\": 2, \"color\": \"rgb(0, 0, 0)\"}, \"mode\": \"lines\", \"hoverinfo\": \"none\"}, {\"y\": [1.0, 0.0, null, 0.052365351967224576, 0.07430651885030926, null, 0.052365351967224576, 0.12233402455151593, null], \"x\": [0.5, 1.0, null, 0.9738173240163878, 0.9377166459078401, null, 0.9738173240163878, 0.9639630823912474, null], \"line\": {\"width\": 2, \"color\": \"rgb(0, 0, 0)\"}, \"mode\": \"lines\", \"hoverinfo\": \"none\"}, {\"y\": [0.9855072463768116, 0.9855072463768116, null, 0.9855072463768116, 0.950766265318536, null], \"x\": [1.0, 0.5, null, 0.5378787878787878, 0.5711205515867566, null], \"line\": {\"width\": 2, \"color\": \"rgb(0, 0, 0)\"}, \"mode\": \"lines\", \"hoverinfo\": \"none\"}, {\"y\": [0.0, 1.0, null, 0.9476346480327754, 0.8776659754484841, null, 0.9476346480327754, 0.9256934811496907, null], \"x\": [0.5, 1.0, null, 0.9738173240163878, 0.9639630823912474, null, 0.9738173240163878, 0.9377166459078401, null], \"line\": {\"width\": 2, \"color\": \"rgb(0, 0, 0)\"}, \"mode\": \"lines\", \"hoverinfo\": \"none\"}, {\"y\": [0.0, 0.0, null, 0.0, -0.03474098105827558, null, 0.0, 0.03474098105827558, null], \"x\": [0.5, 1.0, null, 0.9621212121212122, 0.9288794484132434, null, 0.9621212121212122, 0.9288794484132434, null], \"line\": {\"width\": 2, \"color\": \"rgb(0, 0, 0)\"}, \"mode\": \"lines\", \"hoverinfo\": \"none\"}, {\"y\": [0.0, 0.5, null, 0.481676128503406, 0.4992073320037643, null, 0.481676128503406, 0.4319835048195859, null], \"x\": [1.0, 0.0, null, 0.03664774299318793, 0.07340128670201525, null, 0.03664774299318793, 0.06421703965128427, null], \"line\": {\"width\": 2, \"color\": \"rgb(0, 0, 0)\"}, \"mode\": \"lines\", \"hoverinfo\": \"none\"}, {\"y\": [0.0, 1.0, null, 0.927536231884058, 0.8639432926166397, null, 0.927536231884058, 0.8639432926166397, null], \"x\": [1.0, 1.0, null, 1.0, 1.0181600582804622, null, 1.0, 0.9818399417195378, null], \"line\": {\"width\": 2, \"color\": \"rgb(0, 0, 0)\"}, \"mode\": \"lines\", \"hoverinfo\": \"none\"}, {\"y\": [0.5], \"marker\": {\"line\": {\"width\": 2, \"color\": \"rgb(0, 0, 0)\"}, \"color\": \"rgb(255, 255, 255)\", \"size\": 20}, \"hoverinfo\": \"none\", \"textposition\": \"middle center\", \"x\": [0.0], \"mode\": \"markers+text\", \"text\": [\"0\"], \"textfont\": {\"color\": \"rgb(0, 0, 0)\"}}, {\"y\": [1.0], \"marker\": {\"line\": {\"width\": 2, \"color\": \"rgb(0, 0, 0)\"}, \"color\": \"rgb(255, 255, 255)\", \"size\": 20}, \"hoverinfo\": \"none\", \"textposition\": \"middle center\", \"x\": [0.5], \"mode\": \"markers+text\", \"text\": [\"2\"], \"textfont\": {\"color\": \"rgb(0, 0, 0)\"}}, {\"y\": [1.0], \"marker\": {\"line\": {\"width\": 2, \"color\": \"rgb(0, 0, 0)\"}, \"color\": \"rgb(255, 255, 255)\", \"size\": 20}, \"hoverinfo\": \"none\", \"textposition\": \"middle center\", \"x\": [1.0], \"mode\": \"markers+text\", \"text\": [\"4\"], \"textfont\": {\"color\": \"rgb(0, 0, 0)\"}}, {\"y\": [0.0], \"marker\": {\"line\": {\"width\": 2, \"color\": \"rgb(0, 0, 0)\"}, \"color\": \"rgb(255, 255, 255)\", \"size\": 20}, \"hoverinfo\": \"none\", \"textposition\": \"middle center\", \"x\": [0.5], \"mode\": \"markers+text\", \"text\": [\"7\"], \"textfont\": {\"color\": \"rgb(0, 0, 0)\"}}, {\"y\": [0.0], \"marker\": {\"line\": {\"width\": 2, \"color\": \"rgb(0, 0, 0)\"}, \"color\": \"rgb(255, 255, 255)\", \"size\": 20}, \"hoverinfo\": \"none\", \"textposition\": \"middle center\", \"x\": [1.0], \"mode\": \"markers+text\", \"text\": [\"-2\"], \"textfont\": {\"color\": \"rgb(0, 0, 0)\"}}]}, {\"name\": 33, \"data\": [{\"y\": [0.5, 1.0, null, 0.966430854395385, 0.906182816233176, null, 0.966430854395385, 0.967759498957256, null], \"x\": [0.0, 0.5, null, 0.46643085439538495, 0.44538388103556675, null, 0.46643085439538495, 0.4285584341548651, null], \"line\": {\"width\": 2, \"color\": \"rgb(0, 0, 0)\"}, \"mode\": \"lines\", \"hoverinfo\": \"none\"}, {\"y\": [0.5, 0.0, null, 0.03356914560461503, 0.032240501042743994, null, 0.03356914560461503, 0.09381718376682407, null], \"x\": [0.0, 0.5, null, 0.46643085439538495, 0.4285584341548651, null, 0.46643085439538495, 0.44538388103556675, null], \"line\": {\"width\": 2, \"color\": \"rgb(0, 0, 0)\"}, \"mode\": \"lines\", \"hoverinfo\": \"none\"}, {\"y\": [1.0144927536231885, 1.0144927536231885, null, 1.0144927536231885, 1.049233734681464, null], \"x\": [0.5, 1.0, null, 0.9621212121212122, 0.9288794484132434, null], \"line\": {\"width\": 2, \"color\": \"rgb(255, 0, 0)\"}, \"mode\": \"lines\", \"hoverinfo\": \"none\"}, {\"y\": [1.0, 0.0, null, 0.07246376811594203, 0.13605670738336034, null, 0.07246376811594203, 0.13605670738336034, null], \"x\": [0.5, 0.5, null, 0.5, 0.48183994171953776, null, 0.5, 0.5181600582804622, null], \"line\": {\"width\": 2, \"color\": \"rgb(0, 0, 0)\"}, \"mode\": \"lines\", \"hoverinfo\": \"none\"}, {\"y\": [1.0, 0.0, null, 0.052365351967224576, 0.07430651885030926, null, 0.052365351967224576, 0.12233402455151593, null], \"x\": [0.5, 1.0, null, 0.9738173240163878, 0.9377166459078401, null, 0.9738173240163878, 0.9639630823912474, null], \"line\": {\"width\": 2, \"color\": \"rgb(0, 0, 0)\"}, \"mode\": \"lines\", \"hoverinfo\": \"none\"}, {\"y\": [0.9855072463768116, 0.9855072463768116, null, 0.9855072463768116, 0.950766265318536, null], \"x\": [1.0, 0.5, null, 0.5378787878787878, 0.5711205515867566, null], \"line\": {\"width\": 2, \"color\": \"rgb(0, 0, 0)\"}, \"mode\": \"lines\", \"hoverinfo\": \"none\"}, {\"y\": [0.0, 1.0, null, 0.9476346480327754, 0.8776659754484841, null, 0.9476346480327754, 0.9256934811496907, null], \"x\": [0.5, 1.0, null, 0.9738173240163878, 0.9639630823912474, null, 0.9738173240163878, 0.9377166459078401, null], \"line\": {\"width\": 2, \"color\": \"rgb(0, 0, 0)\"}, \"mode\": \"lines\", \"hoverinfo\": \"none\"}, {\"y\": [0.0, 0.0, null, 0.0, -0.03474098105827558, null, 0.0, 0.03474098105827558, null], \"x\": [0.5, 1.0, null, 0.9621212121212122, 0.9288794484132434, null, 0.9621212121212122, 0.9288794484132434, null], \"line\": {\"width\": 2, \"color\": \"rgb(0, 0, 0)\"}, \"mode\": \"lines\", \"hoverinfo\": \"none\"}, {\"y\": [0.0, 0.5, null, 0.481676128503406, 0.4992073320037643, null, 0.481676128503406, 0.4319835048195859, null], \"x\": [1.0, 0.0, null, 0.03664774299318793, 0.07340128670201525, null, 0.03664774299318793, 0.06421703965128427, null], \"line\": {\"width\": 2, \"color\": \"rgb(0, 0, 0)\"}, \"mode\": \"lines\", \"hoverinfo\": \"none\"}, {\"y\": [0.0, 1.0, null, 0.927536231884058, 0.8639432926166397, null, 0.927536231884058, 0.8639432926166397, null], \"x\": [1.0, 1.0, null, 1.0, 1.0181600582804622, null, 1.0, 0.9818399417195378, null], \"line\": {\"width\": 2, \"color\": \"rgb(0, 0, 0)\"}, \"mode\": \"lines\", \"hoverinfo\": \"none\"}, {\"y\": [0.5], \"marker\": {\"line\": {\"width\": 2, \"color\": \"rgb(0, 0, 0)\"}, \"color\": \"rgb(255, 255, 255)\", \"size\": 20}, \"hoverinfo\": \"none\", \"textposition\": \"middle center\", \"x\": [0.0], \"mode\": \"markers+text\", \"text\": [\"0\"], \"textfont\": {\"color\": \"rgb(0, 0, 0)\"}}, {\"y\": [1.0], \"marker\": {\"line\": {\"width\": 2, \"color\": \"rgb(0, 0, 0)\"}, \"color\": \"rgb(255, 255, 255)\", \"size\": 20}, \"hoverinfo\": \"none\", \"textposition\": \"middle center\", \"x\": [0.5], \"mode\": \"markers+text\", \"text\": [\"2\"], \"textfont\": {\"color\": \"rgb(0, 0, 0)\"}}, {\"y\": [1.0], \"marker\": {\"line\": {\"width\": 2, \"color\": \"rgb(0, 0, 0)\"}, \"color\": \"rgb(255, 255, 255)\", \"size\": 20}, \"hoverinfo\": \"none\", \"textposition\": \"middle center\", \"x\": [1.0], \"mode\": \"markers+text\", \"text\": [\"4\"], \"textfont\": {\"color\": \"rgb(0, 0, 0)\"}}, {\"y\": [0.0], \"marker\": {\"line\": {\"width\": 2, \"color\": \"rgb(0, 0, 0)\"}, \"color\": \"rgb(255, 255, 255)\", \"size\": 20}, \"hoverinfo\": \"none\", \"textposition\": \"middle center\", \"x\": [0.5], \"mode\": \"markers+text\", \"text\": [\"7\"], \"textfont\": {\"color\": \"rgb(0, 0, 0)\"}}, {\"y\": [0.0], \"marker\": {\"line\": {\"width\": 2, \"color\": \"rgb(0, 0, 0)\"}, \"color\": \"rgb(255, 255, 255)\", \"size\": 20}, \"hoverinfo\": \"none\", \"textposition\": \"middle center\", \"x\": [1.0], \"mode\": \"markers+text\", \"text\": [\"-2\"], \"textfont\": {\"color\": \"rgb(0, 0, 0)\"}}]}, {\"name\": 34, \"data\": [{\"y\": [0.5, 1.0, null, 0.966430854395385, 0.906182816233176, null, 0.966430854395385, 0.967759498957256, null], \"x\": [0.0, 0.5, null, 0.46643085439538495, 0.44538388103556675, null, 0.46643085439538495, 0.4285584341548651, null], \"line\": {\"width\": 2, \"color\": \"rgb(0, 0, 0)\"}, \"mode\": \"lines\", \"hoverinfo\": \"none\"}, {\"y\": [0.5, 0.0, null, 0.03356914560461503, 0.032240501042743994, null, 0.03356914560461503, 0.09381718376682407, null], \"x\": [0.0, 0.5, null, 0.46643085439538495, 0.4285584341548651, null, 0.46643085439538495, 0.44538388103556675, null], \"line\": {\"width\": 2, \"color\": \"rgb(0, 0, 0)\"}, \"mode\": \"lines\", \"hoverinfo\": \"none\"}, {\"y\": [1.0144927536231885, 1.0144927536231885, null, 1.0144927536231885, 1.049233734681464, null], \"x\": [0.5, 1.0, null, 0.9621212121212122, 0.9288794484132434, null], \"line\": {\"width\": 2, \"color\": \"rgb(0, 0, 0)\"}, \"mode\": \"lines\", \"hoverinfo\": \"none\"}, {\"y\": [1.0, 0.0, null, 0.07246376811594203, 0.13605670738336034, null, 0.07246376811594203, 0.13605670738336034, null], \"x\": [0.5, 0.5, null, 0.5, 0.48183994171953776, null, 0.5, 0.5181600582804622, null], \"line\": {\"width\": 2, \"color\": \"rgb(255, 0, 0)\"}, \"mode\": \"lines\", \"hoverinfo\": \"none\"}, {\"y\": [1.0, 0.0, null, 0.052365351967224576, 0.07430651885030926, null, 0.052365351967224576, 0.12233402455151593, null], \"x\": [0.5, 1.0, null, 0.9738173240163878, 0.9377166459078401, null, 0.9738173240163878, 0.9639630823912474, null], \"line\": {\"width\": 2, \"color\": \"rgb(0, 0, 0)\"}, \"mode\": \"lines\", \"hoverinfo\": \"none\"}, {\"y\": [0.9855072463768116, 0.9855072463768116, null, 0.9855072463768116, 0.950766265318536, null], \"x\": [1.0, 0.5, null, 0.5378787878787878, 0.5711205515867566, null], \"line\": {\"width\": 2, \"color\": \"rgb(0, 0, 0)\"}, \"mode\": \"lines\", \"hoverinfo\": \"none\"}, {\"y\": [0.0, 1.0, null, 0.9476346480327754, 0.8776659754484841, null, 0.9476346480327754, 0.9256934811496907, null], \"x\": [0.5, 1.0, null, 0.9738173240163878, 0.9639630823912474, null, 0.9738173240163878, 0.9377166459078401, null], \"line\": {\"width\": 2, \"color\": \"rgb(0, 0, 0)\"}, \"mode\": \"lines\", \"hoverinfo\": \"none\"}, {\"y\": [0.0, 0.0, null, 0.0, -0.03474098105827558, null, 0.0, 0.03474098105827558, null], \"x\": [0.5, 1.0, null, 0.9621212121212122, 0.9288794484132434, null, 0.9621212121212122, 0.9288794484132434, null], \"line\": {\"width\": 2, \"color\": \"rgb(0, 0, 0)\"}, \"mode\": \"lines\", \"hoverinfo\": \"none\"}, {\"y\": [0.0, 0.5, null, 0.481676128503406, 0.4992073320037643, null, 0.481676128503406, 0.4319835048195859, null], \"x\": [1.0, 0.0, null, 0.03664774299318793, 0.07340128670201525, null, 0.03664774299318793, 0.06421703965128427, null], \"line\": {\"width\": 2, \"color\": \"rgb(0, 0, 0)\"}, \"mode\": \"lines\", \"hoverinfo\": \"none\"}, {\"y\": [0.0, 1.0, null, 0.927536231884058, 0.8639432926166397, null, 0.927536231884058, 0.8639432926166397, null], \"x\": [1.0, 1.0, null, 1.0, 1.0181600582804622, null, 1.0, 0.9818399417195378, null], \"line\": {\"width\": 2, \"color\": \"rgb(0, 0, 0)\"}, \"mode\": \"lines\", \"hoverinfo\": \"none\"}, {\"y\": [0.5], \"marker\": {\"line\": {\"width\": 2, \"color\": \"rgb(0, 0, 0)\"}, \"color\": \"rgb(255, 255, 255)\", \"size\": 20}, \"hoverinfo\": \"none\", \"textposition\": \"middle center\", \"x\": [0.0], \"mode\": \"markers+text\", \"text\": [\"0\"], \"textfont\": {\"color\": \"rgb(0, 0, 0)\"}}, {\"y\": [1.0], \"marker\": {\"line\": {\"width\": 2, \"color\": \"rgb(0, 0, 0)\"}, \"color\": \"rgb(255, 255, 255)\", \"size\": 20}, \"hoverinfo\": \"none\", \"textposition\": \"middle center\", \"x\": [0.5], \"mode\": \"markers+text\", \"text\": [\"2\"], \"textfont\": {\"color\": \"rgb(0, 0, 0)\"}}, {\"y\": [1.0], \"marker\": {\"line\": {\"width\": 2, \"color\": \"rgb(0, 0, 0)\"}, \"color\": \"rgb(255, 255, 255)\", \"size\": 20}, \"hoverinfo\": \"none\", \"textposition\": \"middle center\", \"x\": [1.0], \"mode\": \"markers+text\", \"text\": [\"4\"], \"textfont\": {\"color\": \"rgb(0, 0, 0)\"}}, {\"y\": [0.0], \"marker\": {\"line\": {\"width\": 2, \"color\": \"rgb(0, 0, 0)\"}, \"color\": \"rgb(255, 255, 255)\", \"size\": 20}, \"hoverinfo\": \"none\", \"textposition\": \"middle center\", \"x\": [0.5], \"mode\": \"markers+text\", \"text\": [\"7\"], \"textfont\": {\"color\": \"rgb(0, 0, 0)\"}}, {\"y\": [0.0], \"marker\": {\"line\": {\"width\": 2, \"color\": \"rgb(0, 0, 0)\"}, \"color\": \"rgb(255, 255, 255)\", \"size\": 20}, \"hoverinfo\": \"none\", \"textposition\": \"middle center\", \"x\": [1.0], \"mode\": \"markers+text\", \"text\": [\"-2\"], \"textfont\": {\"color\": \"rgb(0, 0, 0)\"}}]}, {\"name\": 35, \"data\": [{\"y\": [0.5, 1.0, null, 0.966430854395385, 0.906182816233176, null, 0.966430854395385, 0.967759498957256, null], \"x\": [0.0, 0.5, null, 0.46643085439538495, 0.44538388103556675, null, 0.46643085439538495, 0.4285584341548651, null], \"line\": {\"width\": 2, \"color\": \"rgb(0, 0, 0)\"}, \"mode\": \"lines\", \"hoverinfo\": \"none\"}, {\"y\": [0.5, 0.0, null, 0.03356914560461503, 0.032240501042743994, null, 0.03356914560461503, 0.09381718376682407, null], \"x\": [0.0, 0.5, null, 0.46643085439538495, 0.4285584341548651, null, 0.46643085439538495, 0.44538388103556675, null], \"line\": {\"width\": 2, \"color\": \"rgb(0, 0, 0)\"}, \"mode\": \"lines\", \"hoverinfo\": \"none\"}, {\"y\": [1.0144927536231885, 1.0144927536231885, null, 1.0144927536231885, 1.049233734681464, null], \"x\": [0.5, 1.0, null, 0.9621212121212122, 0.9288794484132434, null], \"line\": {\"width\": 2, \"color\": \"rgb(0, 0, 0)\"}, \"mode\": \"lines\", \"hoverinfo\": \"none\"}, {\"y\": [1.0, 0.0, null, 0.07246376811594203, 0.13605670738336034, null, 0.07246376811594203, 0.13605670738336034, null], \"x\": [0.5, 0.5, null, 0.5, 0.48183994171953776, null, 0.5, 0.5181600582804622, null], \"line\": {\"width\": 2, \"color\": \"rgb(0, 0, 0)\"}, \"mode\": \"lines\", \"hoverinfo\": \"none\"}, {\"y\": [1.0, 0.0, null, 0.052365351967224576, 0.07430651885030926, null, 0.052365351967224576, 0.12233402455151593, null], \"x\": [0.5, 1.0, null, 0.9738173240163878, 0.9377166459078401, null, 0.9738173240163878, 0.9639630823912474, null], \"line\": {\"width\": 2, \"color\": \"rgb(255, 0, 0)\"}, \"mode\": \"lines\", \"hoverinfo\": \"none\"}, {\"y\": [0.9855072463768116, 0.9855072463768116, null, 0.9855072463768116, 0.950766265318536, null], \"x\": [1.0, 0.5, null, 0.5378787878787878, 0.5711205515867566, null], \"line\": {\"width\": 2, \"color\": \"rgb(0, 0, 0)\"}, \"mode\": \"lines\", \"hoverinfo\": \"none\"}, {\"y\": [0.0, 1.0, null, 0.9476346480327754, 0.8776659754484841, null, 0.9476346480327754, 0.9256934811496907, null], \"x\": [0.5, 1.0, null, 0.9738173240163878, 0.9639630823912474, null, 0.9738173240163878, 0.9377166459078401, null], \"line\": {\"width\": 2, \"color\": \"rgb(0, 0, 0)\"}, \"mode\": \"lines\", \"hoverinfo\": \"none\"}, {\"y\": [0.0, 0.0, null, 0.0, -0.03474098105827558, null, 0.0, 0.03474098105827558, null], \"x\": [0.5, 1.0, null, 0.9621212121212122, 0.9288794484132434, null, 0.9621212121212122, 0.9288794484132434, null], \"line\": {\"width\": 2, \"color\": \"rgb(0, 0, 0)\"}, \"mode\": \"lines\", \"hoverinfo\": \"none\"}, {\"y\": [0.0, 0.5, null, 0.481676128503406, 0.4992073320037643, null, 0.481676128503406, 0.4319835048195859, null], \"x\": [1.0, 0.0, null, 0.03664774299318793, 0.07340128670201525, null, 0.03664774299318793, 0.06421703965128427, null], \"line\": {\"width\": 2, \"color\": \"rgb(0, 0, 0)\"}, \"mode\": \"lines\", \"hoverinfo\": \"none\"}, {\"y\": [0.0, 1.0, null, 0.927536231884058, 0.8639432926166397, null, 0.927536231884058, 0.8639432926166397, null], \"x\": [1.0, 1.0, null, 1.0, 1.0181600582804622, null, 1.0, 0.9818399417195378, null], \"line\": {\"width\": 2, \"color\": \"rgb(0, 0, 0)\"}, \"mode\": \"lines\", \"hoverinfo\": \"none\"}, {\"y\": [0.5], \"marker\": {\"line\": {\"width\": 2, \"color\": \"rgb(0, 0, 0)\"}, \"color\": \"rgb(255, 255, 255)\", \"size\": 20}, \"hoverinfo\": \"none\", \"textposition\": \"middle center\", \"x\": [0.0], \"mode\": \"markers+text\", \"text\": [\"0\"], \"textfont\": {\"color\": \"rgb(0, 0, 0)\"}}, {\"y\": [1.0], \"marker\": {\"line\": {\"width\": 2, \"color\": \"rgb(0, 0, 0)\"}, \"color\": \"rgb(255, 255, 255)\", \"size\": 20}, \"hoverinfo\": \"none\", \"textposition\": \"middle center\", \"x\": [0.5], \"mode\": \"markers+text\", \"text\": [\"2\"], \"textfont\": {\"color\": \"rgb(0, 0, 0)\"}}, {\"y\": [1.0], \"marker\": {\"line\": {\"width\": 2, \"color\": \"rgb(0, 0, 0)\"}, \"color\": \"rgb(255, 255, 255)\", \"size\": 20}, \"hoverinfo\": \"none\", \"textposition\": \"middle center\", \"x\": [1.0], \"mode\": \"markers+text\", \"text\": [\"4\"], \"textfont\": {\"color\": \"rgb(0, 0, 0)\"}}, {\"y\": [0.0], \"marker\": {\"line\": {\"width\": 2, \"color\": \"rgb(0, 0, 0)\"}, \"color\": \"rgb(255, 255, 255)\", \"size\": 20}, \"hoverinfo\": \"none\", \"textposition\": \"middle center\", \"x\": [0.5], \"mode\": \"markers+text\", \"text\": [\"7\"], \"textfont\": {\"color\": \"rgb(0, 0, 0)\"}}, {\"y\": [0.0], \"marker\": {\"line\": {\"width\": 2, \"color\": \"rgb(0, 0, 0)\"}, \"color\": \"rgb(255, 255, 255)\", \"size\": 20}, \"hoverinfo\": \"none\", \"textposition\": \"middle center\", \"x\": [1.0], \"mode\": \"markers+text\", \"text\": [\"-2\"], \"textfont\": {\"color\": \"rgb(0, 0, 0)\"}}]}, {\"name\": 36, \"data\": [{\"y\": [0.5, 1.0, null, 0.966430854395385, 0.906182816233176, null, 0.966430854395385, 0.967759498957256, null], \"x\": [0.0, 0.5, null, 0.46643085439538495, 0.44538388103556675, null, 0.46643085439538495, 0.4285584341548651, null], \"line\": {\"width\": 2, \"color\": \"rgb(0, 0, 0)\"}, \"mode\": \"lines\", \"hoverinfo\": \"none\"}, {\"y\": [0.5, 0.0, null, 0.03356914560461503, 0.032240501042743994, null, 0.03356914560461503, 0.09381718376682407, null], \"x\": [0.0, 0.5, null, 0.46643085439538495, 0.4285584341548651, null, 0.46643085439538495, 0.44538388103556675, null], \"line\": {\"width\": 2, \"color\": \"rgb(0, 0, 0)\"}, \"mode\": \"lines\", \"hoverinfo\": \"none\"}, {\"y\": [1.0144927536231885, 1.0144927536231885, null, 1.0144927536231885, 1.049233734681464, null], \"x\": [0.5, 1.0, null, 0.9621212121212122, 0.9288794484132434, null], \"line\": {\"width\": 2, \"color\": \"rgb(0, 0, 0)\"}, \"mode\": \"lines\", \"hoverinfo\": \"none\"}, {\"y\": [1.0, 0.0, null, 0.07246376811594203, 0.13605670738336034, null, 0.07246376811594203, 0.13605670738336034, null], \"x\": [0.5, 0.5, null, 0.5, 0.48183994171953776, null, 0.5, 0.5181600582804622, null], \"line\": {\"width\": 2, \"color\": \"rgb(0, 0, 0)\"}, \"mode\": \"lines\", \"hoverinfo\": \"none\"}, {\"y\": [1.0, 0.0, null, 0.052365351967224576, 0.07430651885030926, null, 0.052365351967224576, 0.12233402455151593, null], \"x\": [0.5, 1.0, null, 0.9738173240163878, 0.9377166459078401, null, 0.9738173240163878, 0.9639630823912474, null], \"line\": {\"width\": 2, \"color\": \"rgb(0, 0, 0)\"}, \"mode\": \"lines\", \"hoverinfo\": \"none\"}, {\"y\": [0.9855072463768116, 0.9855072463768116, null, 0.9855072463768116, 0.950766265318536, null], \"x\": [1.0, 0.5, null, 0.5378787878787878, 0.5711205515867566, null], \"line\": {\"width\": 2, \"color\": \"rgb(255, 0, 0)\"}, \"mode\": \"lines\", \"hoverinfo\": \"none\"}, {\"y\": [0.0, 1.0, null, 0.9476346480327754, 0.8776659754484841, null, 0.9476346480327754, 0.9256934811496907, null], \"x\": [0.5, 1.0, null, 0.9738173240163878, 0.9639630823912474, null, 0.9738173240163878, 0.9377166459078401, null], \"line\": {\"width\": 2, \"color\": \"rgb(0, 0, 0)\"}, \"mode\": \"lines\", \"hoverinfo\": \"none\"}, {\"y\": [0.0, 0.0, null, 0.0, -0.03474098105827558, null, 0.0, 0.03474098105827558, null], \"x\": [0.5, 1.0, null, 0.9621212121212122, 0.9288794484132434, null, 0.9621212121212122, 0.9288794484132434, null], \"line\": {\"width\": 2, \"color\": \"rgb(0, 0, 0)\"}, \"mode\": \"lines\", \"hoverinfo\": \"none\"}, {\"y\": [0.0, 0.5, null, 0.481676128503406, 0.4992073320037643, null, 0.481676128503406, 0.4319835048195859, null], \"x\": [1.0, 0.0, null, 0.03664774299318793, 0.07340128670201525, null, 0.03664774299318793, 0.06421703965128427, null], \"line\": {\"width\": 2, \"color\": \"rgb(0, 0, 0)\"}, \"mode\": \"lines\", \"hoverinfo\": \"none\"}, {\"y\": [0.0, 1.0, null, 0.927536231884058, 0.8639432926166397, null, 0.927536231884058, 0.8639432926166397, null], \"x\": [1.0, 1.0, null, 1.0, 1.0181600582804622, null, 1.0, 0.9818399417195378, null], \"line\": {\"width\": 2, \"color\": \"rgb(0, 0, 0)\"}, \"mode\": \"lines\", \"hoverinfo\": \"none\"}, {\"y\": [0.5], \"marker\": {\"line\": {\"width\": 2, \"color\": \"rgb(0, 0, 0)\"}, \"color\": \"rgb(255, 255, 255)\", \"size\": 20}, \"hoverinfo\": \"none\", \"textposition\": \"middle center\", \"x\": [0.0], \"mode\": \"markers+text\", \"text\": [\"0\"], \"textfont\": {\"color\": \"rgb(0, 0, 0)\"}}, {\"y\": [1.0], \"marker\": {\"line\": {\"width\": 2, \"color\": \"rgb(0, 0, 0)\"}, \"color\": \"rgb(255, 255, 255)\", \"size\": 20}, \"hoverinfo\": \"none\", \"textposition\": \"middle center\", \"x\": [0.5], \"mode\": \"markers+text\", \"text\": [\"2\"], \"textfont\": {\"color\": \"rgb(0, 0, 0)\"}}, {\"y\": [1.0], \"marker\": {\"line\": {\"width\": 2, \"color\": \"rgb(0, 0, 0)\"}, \"color\": \"rgb(255, 255, 255)\", \"size\": 20}, \"hoverinfo\": \"none\", \"textposition\": \"middle center\", \"x\": [1.0], \"mode\": \"markers+text\", \"text\": [\"4\"], \"textfont\": {\"color\": \"rgb(0, 0, 0)\"}}, {\"y\": [0.0], \"marker\": {\"line\": {\"width\": 2, \"color\": \"rgb(0, 0, 0)\"}, \"color\": \"rgb(255, 255, 255)\", \"size\": 20}, \"hoverinfo\": \"none\", \"textposition\": \"middle center\", \"x\": [0.5], \"mode\": \"markers+text\", \"text\": [\"7\"], \"textfont\": {\"color\": \"rgb(0, 0, 0)\"}}, {\"y\": [0.0], \"marker\": {\"line\": {\"width\": 2, \"color\": \"rgb(0, 0, 0)\"}, \"color\": \"rgb(255, 255, 255)\", \"size\": 20}, \"hoverinfo\": \"none\", \"textposition\": \"middle center\", \"x\": [1.0], \"mode\": \"markers+text\", \"text\": [\"-2\"], \"textfont\": {\"color\": \"rgb(0, 0, 0)\"}}]}, {\"name\": 37, \"data\": [{\"y\": [0.5, 1.0, null, 0.966430854395385, 0.906182816233176, null, 0.966430854395385, 0.967759498957256, null], \"x\": [0.0, 0.5, null, 0.46643085439538495, 0.44538388103556675, null, 0.46643085439538495, 0.4285584341548651, null], \"line\": {\"width\": 2, \"color\": \"rgb(0, 0, 0)\"}, \"mode\": \"lines\", \"hoverinfo\": \"none\"}, {\"y\": [0.5, 0.0, null, 0.03356914560461503, 0.032240501042743994, null, 0.03356914560461503, 0.09381718376682407, null], \"x\": [0.0, 0.5, null, 0.46643085439538495, 0.4285584341548651, null, 0.46643085439538495, 0.44538388103556675, null], \"line\": {\"width\": 2, \"color\": \"rgb(0, 0, 0)\"}, \"mode\": \"lines\", \"hoverinfo\": \"none\"}, {\"y\": [1.0144927536231885, 1.0144927536231885, null, 1.0144927536231885, 1.049233734681464, null], \"x\": [0.5, 1.0, null, 0.9621212121212122, 0.9288794484132434, null], \"line\": {\"width\": 2, \"color\": \"rgb(0, 0, 0)\"}, \"mode\": \"lines\", \"hoverinfo\": \"none\"}, {\"y\": [1.0, 0.0, null, 0.07246376811594203, 0.13605670738336034, null, 0.07246376811594203, 0.13605670738336034, null], \"x\": [0.5, 0.5, null, 0.5, 0.48183994171953776, null, 0.5, 0.5181600582804622, null], \"line\": {\"width\": 2, \"color\": \"rgb(0, 0, 0)\"}, \"mode\": \"lines\", \"hoverinfo\": \"none\"}, {\"y\": [1.0, 0.0, null, 0.052365351967224576, 0.07430651885030926, null, 0.052365351967224576, 0.12233402455151593, null], \"x\": [0.5, 1.0, null, 0.9738173240163878, 0.9377166459078401, null, 0.9738173240163878, 0.9639630823912474, null], \"line\": {\"width\": 2, \"color\": \"rgb(0, 0, 0)\"}, \"mode\": \"lines\", \"hoverinfo\": \"none\"}, {\"y\": [0.9855072463768116, 0.9855072463768116, null, 0.9855072463768116, 0.950766265318536, null], \"x\": [1.0, 0.5, null, 0.5378787878787878, 0.5711205515867566, null], \"line\": {\"width\": 2, \"color\": \"rgb(0, 0, 0)\"}, \"mode\": \"lines\", \"hoverinfo\": \"none\"}, {\"y\": [0.0, 1.0, null, 0.9476346480327754, 0.8776659754484841, null, 0.9476346480327754, 0.9256934811496907, null], \"x\": [0.5, 1.0, null, 0.9738173240163878, 0.9639630823912474, null, 0.9738173240163878, 0.9377166459078401, null], \"line\": {\"width\": 2, \"color\": \"rgb(255, 0, 0)\"}, \"mode\": \"lines\", \"hoverinfo\": \"none\"}, {\"y\": [0.0, 0.0, null, 0.0, -0.03474098105827558, null, 0.0, 0.03474098105827558, null], \"x\": [0.5, 1.0, null, 0.9621212121212122, 0.9288794484132434, null, 0.9621212121212122, 0.9288794484132434, null], \"line\": {\"width\": 2, \"color\": \"rgb(0, 0, 0)\"}, \"mode\": \"lines\", \"hoverinfo\": \"none\"}, {\"y\": [0.0, 0.5, null, 0.481676128503406, 0.4992073320037643, null, 0.481676128503406, 0.4319835048195859, null], \"x\": [1.0, 0.0, null, 0.03664774299318793, 0.07340128670201525, null, 0.03664774299318793, 0.06421703965128427, null], \"line\": {\"width\": 2, \"color\": \"rgb(0, 0, 0)\"}, \"mode\": \"lines\", \"hoverinfo\": \"none\"}, {\"y\": [0.0, 1.0, null, 0.927536231884058, 0.8639432926166397, null, 0.927536231884058, 0.8639432926166397, null], \"x\": [1.0, 1.0, null, 1.0, 1.0181600582804622, null, 1.0, 0.9818399417195378, null], \"line\": {\"width\": 2, \"color\": \"rgb(0, 0, 0)\"}, \"mode\": \"lines\", \"hoverinfo\": \"none\"}, {\"y\": [0.5], \"marker\": {\"line\": {\"width\": 2, \"color\": \"rgb(0, 0, 0)\"}, \"color\": \"rgb(255, 255, 255)\", \"size\": 20}, \"hoverinfo\": \"none\", \"textposition\": \"middle center\", \"x\": [0.0], \"mode\": \"markers+text\", \"text\": [\"0\"], \"textfont\": {\"color\": \"rgb(0, 0, 0)\"}}, {\"y\": [1.0], \"marker\": {\"line\": {\"width\": 2, \"color\": \"rgb(0, 0, 0)\"}, \"color\": \"rgb(255, 255, 255)\", \"size\": 20}, \"hoverinfo\": \"none\", \"textposition\": \"middle center\", \"x\": [0.5], \"mode\": \"markers+text\", \"text\": [\"2\"], \"textfont\": {\"color\": \"rgb(0, 0, 0)\"}}, {\"y\": [1.0], \"marker\": {\"line\": {\"width\": 2, \"color\": \"rgb(0, 0, 0)\"}, \"color\": \"rgb(255, 255, 255)\", \"size\": 20}, \"hoverinfo\": \"none\", \"textposition\": \"middle center\", \"x\": [1.0], \"mode\": \"markers+text\", \"text\": [\"4\"], \"textfont\": {\"color\": \"rgb(0, 0, 0)\"}}, {\"y\": [0.0], \"marker\": {\"line\": {\"width\": 2, \"color\": \"rgb(0, 0, 0)\"}, \"color\": \"rgb(255, 255, 255)\", \"size\": 20}, \"hoverinfo\": \"none\", \"textposition\": \"middle center\", \"x\": [0.5], \"mode\": \"markers+text\", \"text\": [\"7\"], \"textfont\": {\"color\": \"rgb(0, 0, 0)\"}}, {\"y\": [0.0], \"marker\": {\"line\": {\"width\": 2, \"color\": \"rgb(0, 0, 0)\"}, \"color\": \"rgb(255, 255, 255)\", \"size\": 20}, \"hoverinfo\": \"none\", \"textposition\": \"middle center\", \"x\": [1.0], \"mode\": \"markers+text\", \"text\": [\"-2\"], \"textfont\": {\"color\": \"rgb(0, 0, 0)\"}}]}, {\"name\": 38, \"data\": [{\"y\": [0.5, 1.0, null, 0.966430854395385, 0.906182816233176, null, 0.966430854395385, 0.967759498957256, null], \"x\": [0.0, 0.5, null, 0.46643085439538495, 0.44538388103556675, null, 0.46643085439538495, 0.4285584341548651, null], \"line\": {\"width\": 2, \"color\": \"rgb(0, 0, 0)\"}, \"mode\": \"lines\", \"hoverinfo\": \"none\"}, {\"y\": [0.5, 0.0, null, 0.03356914560461503, 0.032240501042743994, null, 0.03356914560461503, 0.09381718376682407, null], \"x\": [0.0, 0.5, null, 0.46643085439538495, 0.4285584341548651, null, 0.46643085439538495, 0.44538388103556675, null], \"line\": {\"width\": 2, \"color\": \"rgb(0, 0, 0)\"}, \"mode\": \"lines\", \"hoverinfo\": \"none\"}, {\"y\": [1.0144927536231885, 1.0144927536231885, null, 1.0144927536231885, 1.049233734681464, null], \"x\": [0.5, 1.0, null, 0.9621212121212122, 0.9288794484132434, null], \"line\": {\"width\": 2, \"color\": \"rgb(0, 0, 0)\"}, \"mode\": \"lines\", \"hoverinfo\": \"none\"}, {\"y\": [1.0, 0.0, null, 0.07246376811594203, 0.13605670738336034, null, 0.07246376811594203, 0.13605670738336034, null], \"x\": [0.5, 0.5, null, 0.5, 0.48183994171953776, null, 0.5, 0.5181600582804622, null], \"line\": {\"width\": 2, \"color\": \"rgb(0, 0, 0)\"}, \"mode\": \"lines\", \"hoverinfo\": \"none\"}, {\"y\": [1.0, 0.0, null, 0.052365351967224576, 0.07430651885030926, null, 0.052365351967224576, 0.12233402455151593, null], \"x\": [0.5, 1.0, null, 0.9738173240163878, 0.9377166459078401, null, 0.9738173240163878, 0.9639630823912474, null], \"line\": {\"width\": 2, \"color\": \"rgb(0, 0, 0)\"}, \"mode\": \"lines\", \"hoverinfo\": \"none\"}, {\"y\": [0.9855072463768116, 0.9855072463768116, null, 0.9855072463768116, 0.950766265318536, null], \"x\": [1.0, 0.5, null, 0.5378787878787878, 0.5711205515867566, null], \"line\": {\"width\": 2, \"color\": \"rgb(0, 0, 0)\"}, \"mode\": \"lines\", \"hoverinfo\": \"none\"}, {\"y\": [0.0, 1.0, null, 0.9476346480327754, 0.8776659754484841, null, 0.9476346480327754, 0.9256934811496907, null], \"x\": [0.5, 1.0, null, 0.9738173240163878, 0.9639630823912474, null, 0.9738173240163878, 0.9377166459078401, null], \"line\": {\"width\": 2, \"color\": \"rgb(0, 0, 0)\"}, \"mode\": \"lines\", \"hoverinfo\": \"none\"}, {\"y\": [0.0, 0.0, null, 0.0, -0.03474098105827558, null, 0.0, 0.03474098105827558, null], \"x\": [0.5, 1.0, null, 0.9621212121212122, 0.9288794484132434, null, 0.9621212121212122, 0.9288794484132434, null], \"line\": {\"width\": 2, \"color\": \"rgb(255, 0, 0)\"}, \"mode\": \"lines\", \"hoverinfo\": \"none\"}, {\"y\": [0.0, 0.5, null, 0.481676128503406, 0.4992073320037643, null, 0.481676128503406, 0.4319835048195859, null], \"x\": [1.0, 0.0, null, 0.03664774299318793, 0.07340128670201525, null, 0.03664774299318793, 0.06421703965128427, null], \"line\": {\"width\": 2, \"color\": \"rgb(0, 0, 0)\"}, \"mode\": \"lines\", \"hoverinfo\": \"none\"}, {\"y\": [0.0, 1.0, null, 0.927536231884058, 0.8639432926166397, null, 0.927536231884058, 0.8639432926166397, null], \"x\": [1.0, 1.0, null, 1.0, 1.0181600582804622, null, 1.0, 0.9818399417195378, null], \"line\": {\"width\": 2, \"color\": \"rgb(0, 0, 0)\"}, \"mode\": \"lines\", \"hoverinfo\": \"none\"}, {\"y\": [0.5], \"marker\": {\"line\": {\"width\": 2, \"color\": \"rgb(0, 0, 0)\"}, \"color\": \"rgb(255, 255, 255)\", \"size\": 20}, \"hoverinfo\": \"none\", \"textposition\": \"middle center\", \"x\": [0.0], \"mode\": \"markers+text\", \"text\": [\"0\"], \"textfont\": {\"color\": \"rgb(0, 0, 0)\"}}, {\"y\": [1.0], \"marker\": {\"line\": {\"width\": 2, \"color\": \"rgb(0, 0, 0)\"}, \"color\": \"rgb(255, 255, 255)\", \"size\": 20}, \"hoverinfo\": \"none\", \"textposition\": \"middle center\", \"x\": [0.5], \"mode\": \"markers+text\", \"text\": [\"2\"], \"textfont\": {\"color\": \"rgb(0, 0, 0)\"}}, {\"y\": [1.0], \"marker\": {\"line\": {\"width\": 2, \"color\": \"rgb(0, 0, 0)\"}, \"color\": \"rgb(255, 255, 255)\", \"size\": 20}, \"hoverinfo\": \"none\", \"textposition\": \"middle center\", \"x\": [1.0], \"mode\": \"markers+text\", \"text\": [\"4\"], \"textfont\": {\"color\": \"rgb(0, 0, 0)\"}}, {\"y\": [0.0], \"marker\": {\"line\": {\"width\": 2, \"color\": \"rgb(0, 0, 0)\"}, \"color\": \"rgb(255, 255, 255)\", \"size\": 20}, \"hoverinfo\": \"none\", \"textposition\": \"middle center\", \"x\": [0.5], \"mode\": \"markers+text\", \"text\": [\"7\"], \"textfont\": {\"color\": \"rgb(0, 0, 0)\"}}, {\"y\": [0.0], \"marker\": {\"line\": {\"width\": 2, \"color\": \"rgb(0, 0, 0)\"}, \"color\": \"rgb(255, 255, 255)\", \"size\": 20}, \"hoverinfo\": \"none\", \"textposition\": \"middle center\", \"x\": [1.0], \"mode\": \"markers+text\", \"text\": [\"-2\"], \"textfont\": {\"color\": \"rgb(0, 0, 0)\"}}]}, {\"name\": 39, \"data\": [{\"y\": [0.5, 1.0, null, 0.966430854395385, 0.906182816233176, null, 0.966430854395385, 0.967759498957256, null], \"x\": [0.0, 0.5, null, 0.46643085439538495, 0.44538388103556675, null, 0.46643085439538495, 0.4285584341548651, null], \"line\": {\"width\": 2, \"color\": \"rgb(0, 0, 0)\"}, \"mode\": \"lines\", \"hoverinfo\": \"none\"}, {\"y\": [0.5, 0.0, null, 0.03356914560461503, 0.032240501042743994, null, 0.03356914560461503, 0.09381718376682407, null], \"x\": [0.0, 0.5, null, 0.46643085439538495, 0.4285584341548651, null, 0.46643085439538495, 0.44538388103556675, null], \"line\": {\"width\": 2, \"color\": \"rgb(0, 0, 0)\"}, \"mode\": \"lines\", \"hoverinfo\": \"none\"}, {\"y\": [1.0144927536231885, 1.0144927536231885, null, 1.0144927536231885, 1.049233734681464, null], \"x\": [0.5, 1.0, null, 0.9621212121212122, 0.9288794484132434, null], \"line\": {\"width\": 2, \"color\": \"rgb(0, 0, 0)\"}, \"mode\": \"lines\", \"hoverinfo\": \"none\"}, {\"y\": [1.0, 0.0, null, 0.07246376811594203, 0.13605670738336034, null, 0.07246376811594203, 0.13605670738336034, null], \"x\": [0.5, 0.5, null, 0.5, 0.48183994171953776, null, 0.5, 0.5181600582804622, null], \"line\": {\"width\": 2, \"color\": \"rgb(0, 0, 0)\"}, \"mode\": \"lines\", \"hoverinfo\": \"none\"}, {\"y\": [1.0, 0.0, null, 0.052365351967224576, 0.07430651885030926, null, 0.052365351967224576, 0.12233402455151593, null], \"x\": [0.5, 1.0, null, 0.9738173240163878, 0.9377166459078401, null, 0.9738173240163878, 0.9639630823912474, null], \"line\": {\"width\": 2, \"color\": \"rgb(0, 0, 0)\"}, \"mode\": \"lines\", \"hoverinfo\": \"none\"}, {\"y\": [0.9855072463768116, 0.9855072463768116, null, 0.9855072463768116, 0.950766265318536, null], \"x\": [1.0, 0.5, null, 0.5378787878787878, 0.5711205515867566, null], \"line\": {\"width\": 2, \"color\": \"rgb(0, 0, 0)\"}, \"mode\": \"lines\", \"hoverinfo\": \"none\"}, {\"y\": [0.0, 1.0, null, 0.9476346480327754, 0.8776659754484841, null, 0.9476346480327754, 0.9256934811496907, null], \"x\": [0.5, 1.0, null, 0.9738173240163878, 0.9639630823912474, null, 0.9738173240163878, 0.9377166459078401, null], \"line\": {\"width\": 2, \"color\": \"rgb(0, 0, 0)\"}, \"mode\": \"lines\", \"hoverinfo\": \"none\"}, {\"y\": [0.0, 0.0, null, 0.0, -0.03474098105827558, null, 0.0, 0.03474098105827558, null], \"x\": [0.5, 1.0, null, 0.9621212121212122, 0.9288794484132434, null, 0.9621212121212122, 0.9288794484132434, null], \"line\": {\"width\": 2, \"color\": \"rgb(0, 0, 0)\"}, \"mode\": \"lines\", \"hoverinfo\": \"none\"}, {\"y\": [0.0, 0.5, null, 0.481676128503406, 0.4992073320037643, null, 0.481676128503406, 0.4319835048195859, null], \"x\": [1.0, 0.0, null, 0.03664774299318793, 0.07340128670201525, null, 0.03664774299318793, 0.06421703965128427, null], \"line\": {\"width\": 2, \"color\": \"rgb(255, 0, 0)\"}, \"mode\": \"lines\", \"hoverinfo\": \"none\"}, {\"y\": [0.0, 1.0, null, 0.927536231884058, 0.8639432926166397, null, 0.927536231884058, 0.8639432926166397, null], \"x\": [1.0, 1.0, null, 1.0, 1.0181600582804622, null, 1.0, 0.9818399417195378, null], \"line\": {\"width\": 2, \"color\": \"rgb(0, 0, 0)\"}, \"mode\": \"lines\", \"hoverinfo\": \"none\"}, {\"y\": [0.5], \"marker\": {\"line\": {\"width\": 2, \"color\": \"rgb(0, 0, 0)\"}, \"color\": \"rgb(255, 255, 255)\", \"size\": 20}, \"hoverinfo\": \"none\", \"textposition\": \"middle center\", \"x\": [0.0], \"mode\": \"markers+text\", \"text\": [\"0\"], \"textfont\": {\"color\": \"rgb(0, 0, 0)\"}}, {\"y\": [1.0], \"marker\": {\"line\": {\"width\": 2, \"color\": \"rgb(0, 0, 0)\"}, \"color\": \"rgb(255, 255, 255)\", \"size\": 20}, \"hoverinfo\": \"none\", \"textposition\": \"middle center\", \"x\": [0.5], \"mode\": \"markers+text\", \"text\": [\"2\"], \"textfont\": {\"color\": \"rgb(0, 0, 0)\"}}, {\"y\": [1.0], \"marker\": {\"line\": {\"width\": 2, \"color\": \"rgb(0, 0, 0)\"}, \"color\": \"rgb(255, 255, 255)\", \"size\": 20}, \"hoverinfo\": \"none\", \"textposition\": \"middle center\", \"x\": [1.0], \"mode\": \"markers+text\", \"text\": [\"4\"], \"textfont\": {\"color\": \"rgb(0, 0, 0)\"}}, {\"y\": [0.0], \"marker\": {\"line\": {\"width\": 2, \"color\": \"rgb(0, 0, 0)\"}, \"color\": \"rgb(255, 255, 255)\", \"size\": 20}, \"hoverinfo\": \"none\", \"textposition\": \"middle center\", \"x\": [0.5], \"mode\": \"markers+text\", \"text\": [\"7\"], \"textfont\": {\"color\": \"rgb(0, 0, 0)\"}}, {\"y\": [0.0], \"marker\": {\"line\": {\"width\": 2, \"color\": \"rgb(0, 0, 0)\"}, \"color\": \"rgb(255, 255, 255)\", \"size\": 20}, \"hoverinfo\": \"none\", \"textposition\": \"middle center\", \"x\": [1.0], \"mode\": \"markers+text\", \"text\": [\"-2\"], \"textfont\": {\"color\": \"rgb(0, 0, 0)\"}}]}, {\"name\": 40, \"data\": [{\"y\": [0.5, 1.0, null, 0.966430854395385, 0.906182816233176, null, 0.966430854395385, 0.967759498957256, null], \"x\": [0.0, 0.5, null, 0.46643085439538495, 0.44538388103556675, null, 0.46643085439538495, 0.4285584341548651, null], \"line\": {\"width\": 2, \"color\": \"rgb(0, 0, 0)\"}, \"mode\": \"lines\", \"hoverinfo\": \"none\"}, {\"y\": [0.5, 0.0, null, 0.03356914560461503, 0.032240501042743994, null, 0.03356914560461503, 0.09381718376682407, null], \"x\": [0.0, 0.5, null, 0.46643085439538495, 0.4285584341548651, null, 0.46643085439538495, 0.44538388103556675, null], \"line\": {\"width\": 2, \"color\": \"rgb(0, 0, 0)\"}, \"mode\": \"lines\", \"hoverinfo\": \"none\"}, {\"y\": [1.0144927536231885, 1.0144927536231885, null, 1.0144927536231885, 1.049233734681464, null], \"x\": [0.5, 1.0, null, 0.9621212121212122, 0.9288794484132434, null], \"line\": {\"width\": 2, \"color\": \"rgb(0, 0, 0)\"}, \"mode\": \"lines\", \"hoverinfo\": \"none\"}, {\"y\": [1.0, 0.0, null, 0.07246376811594203, 0.13605670738336034, null, 0.07246376811594203, 0.13605670738336034, null], \"x\": [0.5, 0.5, null, 0.5, 0.48183994171953776, null, 0.5, 0.5181600582804622, null], \"line\": {\"width\": 2, \"color\": \"rgb(0, 0, 0)\"}, \"mode\": \"lines\", \"hoverinfo\": \"none\"}, {\"y\": [1.0, 0.0, null, 0.052365351967224576, 0.07430651885030926, null, 0.052365351967224576, 0.12233402455151593, null], \"x\": [0.5, 1.0, null, 0.9738173240163878, 0.9377166459078401, null, 0.9738173240163878, 0.9639630823912474, null], \"line\": {\"width\": 2, \"color\": \"rgb(0, 0, 0)\"}, \"mode\": \"lines\", \"hoverinfo\": \"none\"}, {\"y\": [0.9855072463768116, 0.9855072463768116, null, 0.9855072463768116, 0.950766265318536, null], \"x\": [1.0, 0.5, null, 0.5378787878787878, 0.5711205515867566, null], \"line\": {\"width\": 2, \"color\": \"rgb(0, 0, 0)\"}, \"mode\": \"lines\", \"hoverinfo\": \"none\"}, {\"y\": [0.0, 1.0, null, 0.9476346480327754, 0.8776659754484841, null, 0.9476346480327754, 0.9256934811496907, null], \"x\": [0.5, 1.0, null, 0.9738173240163878, 0.9639630823912474, null, 0.9738173240163878, 0.9377166459078401, null], \"line\": {\"width\": 2, \"color\": \"rgb(0, 0, 0)\"}, \"mode\": \"lines\", \"hoverinfo\": \"none\"}, {\"y\": [0.0, 0.0, null, 0.0, -0.03474098105827558, null, 0.0, 0.03474098105827558, null], \"x\": [0.5, 1.0, null, 0.9621212121212122, 0.9288794484132434, null, 0.9621212121212122, 0.9288794484132434, null], \"line\": {\"width\": 2, \"color\": \"rgb(0, 0, 0)\"}, \"mode\": \"lines\", \"hoverinfo\": \"none\"}, {\"y\": [0.0, 0.5, null, 0.481676128503406, 0.4992073320037643, null, 0.481676128503406, 0.4319835048195859, null], \"x\": [1.0, 0.0, null, 0.03664774299318793, 0.07340128670201525, null, 0.03664774299318793, 0.06421703965128427, null], \"line\": {\"width\": 2, \"color\": \"rgb(0, 0, 0)\"}, \"mode\": \"lines\", \"hoverinfo\": \"none\"}, {\"y\": [0.0, 1.0, null, 0.927536231884058, 0.8639432926166397, null, 0.927536231884058, 0.8639432926166397, null], \"x\": [1.0, 1.0, null, 1.0, 1.0181600582804622, null, 1.0, 0.9818399417195378, null], \"line\": {\"width\": 2, \"color\": \"rgb(255, 0, 0)\"}, \"mode\": \"lines\", \"hoverinfo\": \"none\"}, {\"y\": [0.5], \"marker\": {\"line\": {\"width\": 2, \"color\": \"rgb(0, 0, 0)\"}, \"color\": \"rgb(255, 255, 255)\", \"size\": 20}, \"hoverinfo\": \"none\", \"textposition\": \"middle center\", \"x\": [0.0], \"mode\": \"markers+text\", \"text\": [\"0\"], \"textfont\": {\"color\": \"rgb(0, 0, 0)\"}}, {\"y\": [1.0], \"marker\": {\"line\": {\"width\": 2, \"color\": \"rgb(0, 0, 0)\"}, \"color\": \"rgb(255, 255, 255)\", \"size\": 20}, \"hoverinfo\": \"none\", \"textposition\": \"middle center\", \"x\": [0.5], \"mode\": \"markers+text\", \"text\": [\"2\"], \"textfont\": {\"color\": \"rgb(0, 0, 0)\"}}, {\"y\": [1.0], \"marker\": {\"line\": {\"width\": 2, \"color\": \"rgb(0, 0, 0)\"}, \"color\": \"rgb(255, 255, 255)\", \"size\": 20}, \"hoverinfo\": \"none\", \"textposition\": \"middle center\", \"x\": [1.0], \"mode\": \"markers+text\", \"text\": [\"4\"], \"textfont\": {\"color\": \"rgb(0, 0, 0)\"}}, {\"y\": [0.0], \"marker\": {\"line\": {\"width\": 2, \"color\": \"rgb(0, 0, 0)\"}, \"color\": \"rgb(255, 255, 255)\", \"size\": 20}, \"hoverinfo\": \"none\", \"textposition\": \"middle center\", \"x\": [0.5], \"mode\": \"markers+text\", \"text\": [\"7\"], \"textfont\": {\"color\": \"rgb(0, 0, 0)\"}}, {\"y\": [0.0], \"marker\": {\"line\": {\"width\": 2, \"color\": \"rgb(0, 0, 0)\"}, \"color\": \"rgb(255, 255, 255)\", \"size\": 20}, \"hoverinfo\": \"none\", \"textposition\": \"middle center\", \"x\": [1.0], \"mode\": \"markers+text\", \"text\": [\"-2\"], \"textfont\": {\"color\": \"rgb(0, 0, 0)\"}}]}]);}).then(function(){Plotly.animate('f43fe06c-d3f8-48ad-8871-b5df286688d6');})\n",
       "        });</script>"
      ]
     },
     "metadata": {},
     "output_type": "display_data"
    }
   ],
   "source": [
    "RED = (255, 0, 0)\n",
    "GREEN = (0, 255, 0)\n",
    "frames = []\n",
    "\n",
    "s = 0\n",
    "\n",
    "for n in g.nodes():\n",
    "    g.node[n]['d'] = inf\n",
    "\n",
    "g.node[s]['d'] = 0\n",
    "sn.reset_node_colors(g)\n",
    "sn.reset_edge_colors(g)\n",
    "snapshot(g, frames)\n",
    "\n",
    "for i in range(g.number_of_nodes() - 1):\n",
    "    for n, m in g.edges():\n",
    "        d = g.node[n]['d'] + g.edge[n][m]['c']\n",
    "\n",
    "        g.edge[n][m]['color'] = RED\n",
    "        if g.node[m]['d'] > d:\n",
    "            g.node[m]['d'] = d\n",
    "            g.edge[n][m]['color'] = GREEN  # pinta de verde se de fato mudou\n",
    "    \n",
    "        snapshot(g, frames)\n",
    "        g.edge[n][m]['color'] = sn.edge_color\n",
    "\n",
    "sn.show_animation(frames)"
   ]
  },
  {
   "cell_type": "code",
   "execution_count": null,
   "metadata": {
    "collapsed": true
   },
   "outputs": [],
   "source": []
  }
 ],
 "metadata": {
  "kernelspec": {
   "display_name": "Python 3",
   "language": "python",
   "name": "python3"
  },
  "language_info": {
   "codemirror_mode": {
    "name": "ipython",
    "version": 3
   },
   "file_extension": ".py",
   "mimetype": "text/x-python",
   "name": "python",
   "nbconvert_exporter": "python",
   "pygments_lexer": "ipython3",
   "version": "3.5.3"
  }
 },
 "nbformat": 4,
 "nbformat_minor": 1
}
