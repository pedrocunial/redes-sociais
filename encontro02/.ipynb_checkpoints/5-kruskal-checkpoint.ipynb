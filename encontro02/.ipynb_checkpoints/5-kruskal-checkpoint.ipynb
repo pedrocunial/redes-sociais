{
 "cells": [
  {
   "cell_type": "markdown",
   "metadata": {},
   "source": [
    "# Encontro 02, Parte 5: Algoritmo de Kruskal\n",
    "\n",
    "Este guia foi escrito para ajudar você a atingir os seguintes objetivos:\n",
    "\n",
    "* implementar o algoritmo de Kruskal;\n",
    "* praticar o uso da biblioteca da disciplina.\n",
    "\n",
    "Primeiramente, vamos importar a biblioteca:"
   ]
  },
  {
   "cell_type": "code",
   "execution_count": 1,
   "metadata": {},
   "outputs": [
    {
     "data": {
      "text/html": [
       "<script>requirejs.config({paths: { 'plotly': ['https://cdn.plot.ly/plotly-latest.min']},});if(!window.Plotly) {{require(['plotly'],function(plotly) {window.Plotly=plotly;});}}</script>"
      ],
      "text/vnd.plotly.v1+html": [
       "<script>requirejs.config({paths: { 'plotly': ['https://cdn.plot.ly/plotly-latest.min']},});if(!window.Plotly) {{require(['plotly'],function(plotly) {window.Plotly=plotly;});}}</script>"
      ]
     },
     "metadata": {},
     "output_type": "display_data"
    }
   ],
   "source": [
    "import sys\n",
    "sys.path.append('..')\n",
    "\n",
    "import socnet as sn"
   ]
  },
  {
   "cell_type": "markdown",
   "metadata": {},
   "source": [
    "A seguir, vamos configurar as propriedades visuais:"
   ]
  },
  {
   "cell_type": "code",
   "execution_count": 2,
   "metadata": {
    "collapsed": true
   },
   "outputs": [],
   "source": [
    "sn.graph_width = 320\n",
    "sn.graph_height = 180"
   ]
  },
  {
   "cell_type": "markdown",
   "metadata": {},
   "source": [
    "Por fim, vamos carregar e visualizar um grafo:"
   ]
  },
  {
   "cell_type": "code",
   "execution_count": 3,
   "metadata": {},
   "outputs": [
    {
     "data": {
      "application/vnd.plotly.v1+json": {
       "data": [
        {
         "hoverinfo": "none",
         "line": {
          "color": "rgb(0, 0, 0)",
          "width": 2
         },
         "mode": "lines",
         "x": [
          0,
          0.25,
          null,
          0,
          0.25,
          null,
          0.25,
          0.5,
          null,
          0.25,
          0.25,
          null,
          0.5,
          0.375,
          null,
          0.5,
          0.75,
          null,
          0.5,
          0.75,
          null,
          0.75,
          1,
          null,
          0.75,
          0.75,
          null,
          1,
          0.75,
          null,
          0.75,
          0.5,
          null,
          0.5,
          0.375,
          null,
          0.5,
          0.25,
          null,
          0.25,
          0.375,
          null
         ],
         "y": [
          0.5,
          1,
          null,
          0.5,
          0,
          null,
          1,
          1,
          null,
          1,
          0,
          null,
          1,
          0.5,
          null,
          1,
          1,
          null,
          1,
          0,
          null,
          1,
          0.5,
          null,
          1,
          0,
          null,
          0.5,
          0,
          null,
          0,
          0,
          null,
          0,
          0.5,
          null,
          0,
          0,
          null,
          0,
          0.5,
          null
         ]
        },
        {
         "hoverinfo": "none",
         "marker": {
          "color": "rgb(255, 255, 255)",
          "line": {
           "color": "rgb(0, 0, 0)",
           "width": 2
          },
          "size": 20
         },
         "mode": "markers+text",
         "text": [],
         "textfont": {
          "color": "rgb(0, 0, 0)"
         },
         "textposition": "middle center",
         "x": [
          0,
          0.25,
          0.5,
          0.75,
          1,
          0.75,
          0.5,
          0.25,
          0.375
         ],
         "y": [
          0.5,
          1,
          1,
          1,
          0.5,
          0,
          0,
          0,
          0.5
         ]
        },
        {
         "hoverinfo": "none",
         "mode": "text",
         "text": [
          4,
          8,
          8,
          11,
          2,
          7,
          4,
          9,
          14,
          10,
          2,
          6,
          1,
          7
         ],
         "textfont": {
          "color": "rgb(0, 0, 0)"
         },
         "textposition": "middle center",
         "x": [
          0.08835225700681207,
          0.16164774299318793,
          0.375,
          0.2878787878787879,
          0.4750594305323629,
          0.625,
          0.6625594305323629,
          0.911647742993188,
          0.7878787878787878,
          0.911647742993188,
          0.625,
          0.3999405694676371,
          0.375,
          0.2749405694676371
         ],
         "y": [
          0.768323871496594,
          0.268323871496594,
          1.0724637681159421,
          0.5,
          0.7406101423669093,
          1.0724637681159421,
          0.5093898576330907,
          0.768323871496594,
          0.5,
          0.23167612850340602,
          -0.07246376811594203,
          0.24061014236690928,
          -0.07246376811594203,
          0.2593898576330907
         ]
        }
       ],
       "layout": {
        "height": 180,
        "margin": {
         "b": 0,
         "l": 0,
         "r": 0,
         "t": 0
        },
        "showlegend": false,
        "width": 320,
        "xaxis": {
         "showgrid": false,
         "showticklabels": false,
         "zeroline": false
        },
        "yaxis": {
         "showgrid": false,
         "showticklabels": false,
         "zeroline": false
        }
       }
      },
      "text/html": [
       "<div id=\"da6c0d2c-c606-4f85-a8d4-4ab407134209\" style=\"height: 180px; width: 320px;\" class=\"plotly-graph-div\"></div><script type=\"text/javascript\">require([\"plotly\"], function(Plotly) { window.PLOTLYENV=window.PLOTLYENV || {};window.PLOTLYENV.BASE_URL=\"https://plot.ly\";Plotly.newPlot(\"da6c0d2c-c606-4f85-a8d4-4ab407134209\", [{\"hoverinfo\": \"none\", \"y\": [0.5, 1.0, null, 0.5, 0.0, null, 1.0, 1.0, null, 1.0, 0.0, null, 1.0, 0.5, null, 1.0, 1.0, null, 1.0, 0.0, null, 1.0, 0.5, null, 1.0, 0.0, null, 0.5, 0.0, null, 0.0, 0.0, null, 0.0, 0.5, null, 0.0, 0.0, null, 0.0, 0.5, null], \"x\": [0.0, 0.25, null, 0.0, 0.25, null, 0.25, 0.5, null, 0.25, 0.25, null, 0.5, 0.375, null, 0.5, 0.75, null, 0.5, 0.75, null, 0.75, 1.0, null, 0.75, 0.75, null, 1.0, 0.75, null, 0.75, 0.5, null, 0.5, 0.375, null, 0.5, 0.25, null, 0.25, 0.375, null], \"mode\": \"lines\", \"line\": {\"width\": 2, \"color\": \"rgb(0, 0, 0)\"}}, {\"text\": [], \"y\": [0.5, 1.0, 1.0, 1.0, 0.5, 0.0, 0.0, 0.0, 0.5], \"textfont\": {\"color\": \"rgb(0, 0, 0)\"}, \"textposition\": \"middle center\", \"x\": [0.0, 0.25, 0.5, 0.75, 1.0, 0.75, 0.5, 0.25, 0.375], \"hoverinfo\": \"none\", \"marker\": {\"size\": 20, \"color\": \"rgb(255, 255, 255)\", \"line\": {\"width\": 2, \"color\": \"rgb(0, 0, 0)\"}}, \"mode\": \"markers+text\"}, {\"text\": [4, 8, 8, 11, 2, 7, 4, 9, 14, 10, 2, 6, 1, 7], \"y\": [0.768323871496594, 0.268323871496594, 1.0724637681159421, 0.5, 0.7406101423669093, 1.0724637681159421, 0.5093898576330907, 0.768323871496594, 0.5, 0.23167612850340602, -0.07246376811594203, 0.24061014236690928, -0.07246376811594203, 0.2593898576330907], \"textfont\": {\"color\": \"rgb(0, 0, 0)\"}, \"textposition\": \"middle center\", \"x\": [0.08835225700681207, 0.16164774299318793, 0.375, 0.2878787878787879, 0.4750594305323629, 0.625, 0.6625594305323629, 0.911647742993188, 0.7878787878787878, 0.911647742993188, 0.625, 0.3999405694676371, 0.375, 0.2749405694676371], \"hoverinfo\": \"none\", \"mode\": \"text\"}], {\"height\": 180, \"showlegend\": false, \"width\": 320, \"xaxis\": {\"zeroline\": false, \"showgrid\": false, \"showticklabels\": false}, \"margin\": {\"b\": 0, \"r\": 0, \"t\": 0, \"l\": 0}, \"yaxis\": {\"zeroline\": false, \"showgrid\": false, \"showticklabels\": false}}, {\"showLink\": false, \"displayModeBar\": false, \"linkText\": \"Export to plot.ly\"})});</script>"
      ],
      "text/vnd.plotly.v1+html": [
       "<div id=\"da6c0d2c-c606-4f85-a8d4-4ab407134209\" style=\"height: 180px; width: 320px;\" class=\"plotly-graph-div\"></div><script type=\"text/javascript\">require([\"plotly\"], function(Plotly) { window.PLOTLYENV=window.PLOTLYENV || {};window.PLOTLYENV.BASE_URL=\"https://plot.ly\";Plotly.newPlot(\"da6c0d2c-c606-4f85-a8d4-4ab407134209\", [{\"hoverinfo\": \"none\", \"y\": [0.5, 1.0, null, 0.5, 0.0, null, 1.0, 1.0, null, 1.0, 0.0, null, 1.0, 0.5, null, 1.0, 1.0, null, 1.0, 0.0, null, 1.0, 0.5, null, 1.0, 0.0, null, 0.5, 0.0, null, 0.0, 0.0, null, 0.0, 0.5, null, 0.0, 0.0, null, 0.0, 0.5, null], \"x\": [0.0, 0.25, null, 0.0, 0.25, null, 0.25, 0.5, null, 0.25, 0.25, null, 0.5, 0.375, null, 0.5, 0.75, null, 0.5, 0.75, null, 0.75, 1.0, null, 0.75, 0.75, null, 1.0, 0.75, null, 0.75, 0.5, null, 0.5, 0.375, null, 0.5, 0.25, null, 0.25, 0.375, null], \"mode\": \"lines\", \"line\": {\"width\": 2, \"color\": \"rgb(0, 0, 0)\"}}, {\"text\": [], \"y\": [0.5, 1.0, 1.0, 1.0, 0.5, 0.0, 0.0, 0.0, 0.5], \"textfont\": {\"color\": \"rgb(0, 0, 0)\"}, \"textposition\": \"middle center\", \"x\": [0.0, 0.25, 0.5, 0.75, 1.0, 0.75, 0.5, 0.25, 0.375], \"hoverinfo\": \"none\", \"marker\": {\"size\": 20, \"color\": \"rgb(255, 255, 255)\", \"line\": {\"width\": 2, \"color\": \"rgb(0, 0, 0)\"}}, \"mode\": \"markers+text\"}, {\"text\": [4, 8, 8, 11, 2, 7, 4, 9, 14, 10, 2, 6, 1, 7], \"y\": [0.768323871496594, 0.268323871496594, 1.0724637681159421, 0.5, 0.7406101423669093, 1.0724637681159421, 0.5093898576330907, 0.768323871496594, 0.5, 0.23167612850340602, -0.07246376811594203, 0.24061014236690928, -0.07246376811594203, 0.2593898576330907], \"textfont\": {\"color\": \"rgb(0, 0, 0)\"}, \"textposition\": \"middle center\", \"x\": [0.08835225700681207, 0.16164774299318793, 0.375, 0.2878787878787879, 0.4750594305323629, 0.625, 0.6625594305323629, 0.911647742993188, 0.7878787878787878, 0.911647742993188, 0.625, 0.3999405694676371, 0.375, 0.2749405694676371], \"hoverinfo\": \"none\", \"mode\": \"text\"}], {\"height\": 180, \"showlegend\": false, \"width\": 320, \"xaxis\": {\"zeroline\": false, \"showgrid\": false, \"showticklabels\": false}, \"margin\": {\"b\": 0, \"r\": 0, \"t\": 0, \"l\": 0}, \"yaxis\": {\"zeroline\": false, \"showgrid\": false, \"showticklabels\": false}}, {\"showLink\": false, \"displayModeBar\": false, \"linkText\": \"Export to plot.ly\"})});</script>"
      ]
     },
     "metadata": {},
     "output_type": "display_data"
    }
   ],
   "source": [
    "g = sn.load_graph('5-kruskal.gml', has_pos=True)\n",
    "\n",
    "for e in g.edges_iter():\n",
    "    g.edge[e[0]][e[1]]['label'] = g.edge[e[0]][e[1]]['c']\n",
    "\n",
    "sn.show_graph(g, elab=True)"
   ]
  },
  {
   "cell_type": "markdown",
   "metadata": {},
   "source": [
    "## Árvores geradoras mínimas\n",
    "\n",
    "Dizemos que:\n",
    "* um passeio $\\langle n_0, n_1, \\ldots, n_{k-1} \\rangle$ é um **circuito** se $\\langle n_0, n_1, \\ldots, n_{k-2} \\rangle$ é um caminho e $n_0 = n_{k-1}$;\n",
    "* um conjunto de arestas $F$ é uma **floresta** se não existem circuitos no grafo $(N, F)$;\n",
    "* um grafo é **conexo** se para quaisquer nós $s$ e $t$ existe um caminho de $s$ a $t$;\n",
    "* uma floresta $T$ é uma **árvore geradora** se o grafo $(N, T)$ é conexo.\n",
    "\n",
    "O **custo** de uma árvore geradora $T$ é\n",
    "\n",
    "$\\sum_{\\{n, m\\} \\in T} c(n, m)$.\n",
    "\n",
    "Uma árvore geradora é **mínima** se não existe outra árvore geradora de custo menor. Note que podem existir múltiplas árvores geradoras mínimas.\n",
    "\n",
    "## Algoritmo de Kruskal\n",
    "\n",
    "Podemos eficientemente obter uma árvore geradora mínima usando o **algoritmo de Kruskal**. A ideia desse algoritmo é simples: inicializamos uma floresta $F$ como o conjunto vazio e verificamos todas as arestas em ordem não-decrescente de custo. Para cada aresta, adicionamos ela a $F$ se essa adição não formar circuito no grafo $(N, F)$.\n",
    "\n",
    "Vamos especificar uma classe que representa a floresta. Não é necessário entender todos os detalhes dela, apenas que o atributo `f` é o conjunto das arestas e os dois últimos métodos são auto-explicativos."
   ]
  },
  {
   "cell_type": "code",
   "execution_count": 4,
   "metadata": {
    "collapsed": true
   },
   "outputs": [],
   "source": [
    "class Forest(object):\n",
    "    def __init__(self, g):\n",
    "        self.g = g\n",
    "        self.f = set()\n",
    "        for n in g.nodes():\n",
    "            self._make_set(n)\n",
    "\n",
    "    def _make_set(self, x):\n",
    "        g.node[x]['p'] = x\n",
    "        g.node[x]['rank'] = 0\n",
    "\n",
    "    def _union(self, x, y):\n",
    "        self._link(self._find_set(x), self._find_set(y))\n",
    "\n",
    "    def _link(self, x, y):\n",
    "        if g.node[x]['rank'] > g.node[y]['rank']:\n",
    "            g.node[y]['p'] = x\n",
    "        else:\n",
    "            g.node[x]['p'] = y\n",
    "            if g.node[x]['rank'] == g.node[y]['rank']:\n",
    "                g.node[y]['rank'] = g.node[y]['rank'] + 1\n",
    "\n",
    "    def _find_set(self, x):\n",
    "        if x != g.node[x]['p']:\n",
    "            g.node[x]['p'] = self._find_set(g.node[x]['p'])\n",
    "        return g.node[x]['p']\n",
    "\n",
    "    def adding_does_not_form_circuit(self, n, m):\n",
    "        return self._find_set(n) != self._find_set(m)\n",
    "\n",
    "    def add(self, n, m):\n",
    "        self.f.add((n, m))\n",
    "        self._union(n, m)"
   ]
  },
  {
   "cell_type": "markdown",
   "metadata": {},
   "source": [
    "### Exercício\n",
    "\n",
    "Monte uma visualização do algoritmo de Kruskal. Use a classe `Forest`."
   ]
  },
  {
   "cell_type": "code",
   "execution_count": 47,
   "metadata": {
    "collapsed": true
   },
   "outputs": [],
   "source": [
    "from math import inf, isinf\n",
    "\n",
    "def snapshot(g, frames):\n",
    "    frame = sn.generate_frame(g, nlab=False, elab=True)\n",
    "    frames.append(frame)"
   ]
  },
  {
   "cell_type": "code",
   "execution_count": 52,
   "metadata": {},
   "outputs": [
    {
     "data": {
      "application/vnd.plotly.v1+json": {
       "data": [
        {
         "hoverinfo": "none",
         "line": {
          "color": "rgb(0, 0, 0)",
          "width": 2
         },
         "mode": "lines",
         "x": [
          0,
          0.25,
          null
         ],
         "y": [
          0.5,
          1,
          null
         ]
        },
        {
         "hoverinfo": "none",
         "line": {
          "color": "rgb(0, 0, 0)",
          "width": 2
         },
         "mode": "lines",
         "x": [
          0,
          0.25,
          null
         ],
         "y": [
          0.5,
          0,
          null
         ]
        },
        {
         "hoverinfo": "none",
         "line": {
          "color": "rgb(0, 0, 0)",
          "width": 2
         },
         "mode": "lines",
         "x": [
          0.25,
          0.5,
          null
         ],
         "y": [
          1,
          1,
          null
         ]
        },
        {
         "hoverinfo": "none",
         "line": {
          "color": "rgb(0, 0, 0)",
          "width": 2
         },
         "mode": "lines",
         "x": [
          0.25,
          0.25,
          null
         ],
         "y": [
          1,
          0,
          null
         ]
        },
        {
         "hoverinfo": "none",
         "line": {
          "color": "rgb(0, 0, 0)",
          "width": 2
         },
         "mode": "lines",
         "x": [
          0.5,
          0.375,
          null
         ],
         "y": [
          1,
          0.5,
          null
         ]
        },
        {
         "hoverinfo": "none",
         "line": {
          "color": "rgb(0, 0, 0)",
          "width": 2
         },
         "mode": "lines",
         "x": [
          0.5,
          0.75,
          null
         ],
         "y": [
          1,
          1,
          null
         ]
        },
        {
         "hoverinfo": "none",
         "line": {
          "color": "rgb(0, 0, 0)",
          "width": 2
         },
         "mode": "lines",
         "x": [
          0.5,
          0.75,
          null
         ],
         "y": [
          1,
          0,
          null
         ]
        },
        {
         "hoverinfo": "none",
         "line": {
          "color": "rgb(0, 0, 0)",
          "width": 2
         },
         "mode": "lines",
         "x": [
          0.75,
          1,
          null
         ],
         "y": [
          1,
          0.5,
          null
         ]
        },
        {
         "hoverinfo": "none",
         "line": {
          "color": "rgb(0, 0, 0)",
          "width": 2
         },
         "mode": "lines",
         "x": [
          0.75,
          0.75,
          null
         ],
         "y": [
          1,
          0,
          null
         ]
        },
        {
         "hoverinfo": "none",
         "line": {
          "color": "rgb(0, 0, 0)",
          "width": 2
         },
         "mode": "lines",
         "x": [
          1,
          0.75,
          null
         ],
         "y": [
          0.5,
          0,
          null
         ]
        },
        {
         "hoverinfo": "none",
         "line": {
          "color": "rgb(0, 0, 0)",
          "width": 2
         },
         "mode": "lines",
         "x": [
          0.75,
          0.5,
          null
         ],
         "y": [
          0,
          0,
          null
         ]
        },
        {
         "hoverinfo": "none",
         "line": {
          "color": "rgb(0, 0, 0)",
          "width": 2
         },
         "mode": "lines",
         "x": [
          0.5,
          0.375,
          null
         ],
         "y": [
          0,
          0.5,
          null
         ]
        },
        {
         "hoverinfo": "none",
         "line": {
          "color": "rgb(0, 0, 0)",
          "width": 2
         },
         "mode": "lines",
         "x": [
          0.5,
          0.25,
          null
         ],
         "y": [
          0,
          0,
          null
         ]
        },
        {
         "hoverinfo": "none",
         "line": {
          "color": "rgb(0, 0, 0)",
          "width": 2
         },
         "mode": "lines",
         "x": [
          0.25,
          0.375,
          null
         ],
         "y": [
          0,
          0.5,
          null
         ]
        },
        {
         "hoverinfo": "none",
         "marker": {
          "color": "rgb(255, 255, 255)",
          "line": {
           "color": "rgb(0, 0, 0)",
           "width": 2
          },
          "size": 20
         },
         "mode": "markers+text",
         "text": [],
         "textfont": {
          "color": "rgb(0, 0, 0)"
         },
         "textposition": "middle center",
         "x": [
          0
         ],
         "y": [
          0.5
         ]
        },
        {
         "hoverinfo": "none",
         "marker": {
          "color": "rgb(255, 255, 255)",
          "line": {
           "color": "rgb(0, 0, 0)",
           "width": 2
          },
          "size": 20
         },
         "mode": "markers+text",
         "text": [],
         "textfont": {
          "color": "rgb(0, 0, 0)"
         },
         "textposition": "middle center",
         "x": [
          0.25
         ],
         "y": [
          1
         ]
        },
        {
         "hoverinfo": "none",
         "marker": {
          "color": "rgb(255, 255, 255)",
          "line": {
           "color": "rgb(0, 0, 0)",
           "width": 2
          },
          "size": 20
         },
         "mode": "markers+text",
         "text": [],
         "textfont": {
          "color": "rgb(0, 0, 0)"
         },
         "textposition": "middle center",
         "x": [
          0.5
         ],
         "y": [
          1
         ]
        },
        {
         "hoverinfo": "none",
         "marker": {
          "color": "rgb(255, 255, 255)",
          "line": {
           "color": "rgb(0, 0, 0)",
           "width": 2
          },
          "size": 20
         },
         "mode": "markers+text",
         "text": [],
         "textfont": {
          "color": "rgb(0, 0, 0)"
         },
         "textposition": "middle center",
         "x": [
          0.75
         ],
         "y": [
          1
         ]
        },
        {
         "hoverinfo": "none",
         "marker": {
          "color": "rgb(255, 255, 255)",
          "line": {
           "color": "rgb(0, 0, 0)",
           "width": 2
          },
          "size": 20
         },
         "mode": "markers+text",
         "text": [],
         "textfont": {
          "color": "rgb(0, 0, 0)"
         },
         "textposition": "middle center",
         "x": [
          1
         ],
         "y": [
          0.5
         ]
        },
        {
         "hoverinfo": "none",
         "marker": {
          "color": "rgb(255, 255, 255)",
          "line": {
           "color": "rgb(0, 0, 0)",
           "width": 2
          },
          "size": 20
         },
         "mode": "markers+text",
         "text": [],
         "textfont": {
          "color": "rgb(0, 0, 0)"
         },
         "textposition": "middle center",
         "x": [
          0.75
         ],
         "y": [
          0
         ]
        },
        {
         "hoverinfo": "none",
         "marker": {
          "color": "rgb(255, 255, 255)",
          "line": {
           "color": "rgb(0, 0, 0)",
           "width": 2
          },
          "size": 20
         },
         "mode": "markers+text",
         "text": [],
         "textfont": {
          "color": "rgb(0, 0, 0)"
         },
         "textposition": "middle center",
         "x": [
          0.5
         ],
         "y": [
          0
         ]
        },
        {
         "hoverinfo": "none",
         "marker": {
          "color": "rgb(255, 255, 255)",
          "line": {
           "color": "rgb(0, 0, 0)",
           "width": 2
          },
          "size": 20
         },
         "mode": "markers+text",
         "text": [],
         "textfont": {
          "color": "rgb(0, 0, 0)"
         },
         "textposition": "middle center",
         "x": [
          0.25
         ],
         "y": [
          0
         ]
        },
        {
         "hoverinfo": "none",
         "marker": {
          "color": "rgb(255, 255, 255)",
          "line": {
           "color": "rgb(0, 0, 0)",
           "width": 2
          },
          "size": 20
         },
         "mode": "markers+text",
         "text": [],
         "textfont": {
          "color": "rgb(0, 0, 0)"
         },
         "textposition": "middle center",
         "x": [
          0.375
         ],
         "y": [
          0.5
         ]
        },
        {
         "hoverinfo": "none",
         "mode": "text",
         "text": [
          4,
          8,
          8,
          11,
          2,
          7,
          4,
          9,
          14,
          10,
          2,
          6,
          1,
          7
         ],
         "textfont": {
          "color": "rgb(0, 0, 0)"
         },
         "textposition": "middle center",
         "x": [
          0.08835225700681207,
          0.16164774299318793,
          0.375,
          0.2878787878787879,
          0.4750594305323629,
          0.625,
          0.6625594305323629,
          0.911647742993188,
          0.7878787878787878,
          0.911647742993188,
          0.625,
          0.3999405694676371,
          0.375,
          0.2749405694676371
         ],
         "y": [
          0.768323871496594,
          0.268323871496594,
          1.0724637681159421,
          0.5,
          0.7406101423669093,
          1.0724637681159421,
          0.5093898576330907,
          0.768323871496594,
          0.5,
          0.23167612850340602,
          -0.07246376811594203,
          0.24061014236690928,
          -0.07246376811594203,
          0.2593898576330907
         ]
        }
       ],
       "frames": [
        {
         "data": [
          {
           "hoverinfo": "none",
           "line": {
            "color": "rgb(0, 0, 0)",
            "width": 2
           },
           "mode": "lines",
           "x": [
            0,
            0.25,
            null
           ],
           "y": [
            0.5,
            1,
            null
           ]
          },
          {
           "hoverinfo": "none",
           "line": {
            "color": "rgb(0, 0, 0)",
            "width": 2
           },
           "mode": "lines",
           "x": [
            0,
            0.25,
            null
           ],
           "y": [
            0.5,
            0,
            null
           ]
          },
          {
           "hoverinfo": "none",
           "line": {
            "color": "rgb(0, 0, 0)",
            "width": 2
           },
           "mode": "lines",
           "x": [
            0.25,
            0.5,
            null
           ],
           "y": [
            1,
            1,
            null
           ]
          },
          {
           "hoverinfo": "none",
           "line": {
            "color": "rgb(0, 0, 0)",
            "width": 2
           },
           "mode": "lines",
           "x": [
            0.25,
            0.25,
            null
           ],
           "y": [
            1,
            0,
            null
           ]
          },
          {
           "hoverinfo": "none",
           "line": {
            "color": "rgb(0, 0, 0)",
            "width": 2
           },
           "mode": "lines",
           "x": [
            0.5,
            0.375,
            null
           ],
           "y": [
            1,
            0.5,
            null
           ]
          },
          {
           "hoverinfo": "none",
           "line": {
            "color": "rgb(0, 0, 0)",
            "width": 2
           },
           "mode": "lines",
           "x": [
            0.5,
            0.75,
            null
           ],
           "y": [
            1,
            1,
            null
           ]
          },
          {
           "hoverinfo": "none",
           "line": {
            "color": "rgb(0, 0, 0)",
            "width": 2
           },
           "mode": "lines",
           "x": [
            0.5,
            0.75,
            null
           ],
           "y": [
            1,
            0,
            null
           ]
          },
          {
           "hoverinfo": "none",
           "line": {
            "color": "rgb(0, 0, 0)",
            "width": 2
           },
           "mode": "lines",
           "x": [
            0.75,
            1,
            null
           ],
           "y": [
            1,
            0.5,
            null
           ]
          },
          {
           "hoverinfo": "none",
           "line": {
            "color": "rgb(0, 0, 0)",
            "width": 2
           },
           "mode": "lines",
           "x": [
            0.75,
            0.75,
            null
           ],
           "y": [
            1,
            0,
            null
           ]
          },
          {
           "hoverinfo": "none",
           "line": {
            "color": "rgb(0, 0, 0)",
            "width": 2
           },
           "mode": "lines",
           "x": [
            1,
            0.75,
            null
           ],
           "y": [
            0.5,
            0,
            null
           ]
          },
          {
           "hoverinfo": "none",
           "line": {
            "color": "rgb(0, 0, 0)",
            "width": 2
           },
           "mode": "lines",
           "x": [
            0.75,
            0.5,
            null
           ],
           "y": [
            0,
            0,
            null
           ]
          },
          {
           "hoverinfo": "none",
           "line": {
            "color": "rgb(0, 0, 0)",
            "width": 2
           },
           "mode": "lines",
           "x": [
            0.5,
            0.375,
            null
           ],
           "y": [
            0,
            0.5,
            null
           ]
          },
          {
           "hoverinfo": "none",
           "line": {
            "color": "rgb(0, 0, 0)",
            "width": 2
           },
           "mode": "lines",
           "x": [
            0.5,
            0.25,
            null
           ],
           "y": [
            0,
            0,
            null
           ]
          },
          {
           "hoverinfo": "none",
           "line": {
            "color": "rgb(0, 0, 0)",
            "width": 2
           },
           "mode": "lines",
           "x": [
            0.25,
            0.375,
            null
           ],
           "y": [
            0,
            0.5,
            null
           ]
          },
          {
           "hoverinfo": "none",
           "marker": {
            "color": "rgb(255, 255, 255)",
            "line": {
             "color": "rgb(0, 0, 0)",
             "width": 2
            },
            "size": 20
           },
           "mode": "markers+text",
           "text": [],
           "textfont": {
            "color": "rgb(0, 0, 0)"
           },
           "textposition": "middle center",
           "x": [
            0
           ],
           "y": [
            0.5
           ]
          },
          {
           "hoverinfo": "none",
           "marker": {
            "color": "rgb(255, 255, 255)",
            "line": {
             "color": "rgb(0, 0, 0)",
             "width": 2
            },
            "size": 20
           },
           "mode": "markers+text",
           "text": [],
           "textfont": {
            "color": "rgb(0, 0, 0)"
           },
           "textposition": "middle center",
           "x": [
            0.25
           ],
           "y": [
            1
           ]
          },
          {
           "hoverinfo": "none",
           "marker": {
            "color": "rgb(255, 255, 255)",
            "line": {
             "color": "rgb(0, 0, 0)",
             "width": 2
            },
            "size": 20
           },
           "mode": "markers+text",
           "text": [],
           "textfont": {
            "color": "rgb(0, 0, 0)"
           },
           "textposition": "middle center",
           "x": [
            0.5
           ],
           "y": [
            1
           ]
          },
          {
           "hoverinfo": "none",
           "marker": {
            "color": "rgb(255, 255, 255)",
            "line": {
             "color": "rgb(0, 0, 0)",
             "width": 2
            },
            "size": 20
           },
           "mode": "markers+text",
           "text": [],
           "textfont": {
            "color": "rgb(0, 0, 0)"
           },
           "textposition": "middle center",
           "x": [
            0.75
           ],
           "y": [
            1
           ]
          },
          {
           "hoverinfo": "none",
           "marker": {
            "color": "rgb(255, 255, 255)",
            "line": {
             "color": "rgb(0, 0, 0)",
             "width": 2
            },
            "size": 20
           },
           "mode": "markers+text",
           "text": [],
           "textfont": {
            "color": "rgb(0, 0, 0)"
           },
           "textposition": "middle center",
           "x": [
            1
           ],
           "y": [
            0.5
           ]
          },
          {
           "hoverinfo": "none",
           "marker": {
            "color": "rgb(255, 255, 255)",
            "line": {
             "color": "rgb(0, 0, 0)",
             "width": 2
            },
            "size": 20
           },
           "mode": "markers+text",
           "text": [],
           "textfont": {
            "color": "rgb(0, 0, 0)"
           },
           "textposition": "middle center",
           "x": [
            0.75
           ],
           "y": [
            0
           ]
          },
          {
           "hoverinfo": "none",
           "marker": {
            "color": "rgb(255, 255, 255)",
            "line": {
             "color": "rgb(0, 0, 0)",
             "width": 2
            },
            "size": 20
           },
           "mode": "markers+text",
           "text": [],
           "textfont": {
            "color": "rgb(0, 0, 0)"
           },
           "textposition": "middle center",
           "x": [
            0.5
           ],
           "y": [
            0
           ]
          },
          {
           "hoverinfo": "none",
           "marker": {
            "color": "rgb(255, 255, 255)",
            "line": {
             "color": "rgb(0, 0, 0)",
             "width": 2
            },
            "size": 20
           },
           "mode": "markers+text",
           "text": [],
           "textfont": {
            "color": "rgb(0, 0, 0)"
           },
           "textposition": "middle center",
           "x": [
            0.25
           ],
           "y": [
            0
           ]
          },
          {
           "hoverinfo": "none",
           "marker": {
            "color": "rgb(255, 255, 255)",
            "line": {
             "color": "rgb(0, 0, 0)",
             "width": 2
            },
            "size": 20
           },
           "mode": "markers+text",
           "text": [],
           "textfont": {
            "color": "rgb(0, 0, 0)"
           },
           "textposition": "middle center",
           "x": [
            0.375
           ],
           "y": [
            0.5
           ]
          },
          {
           "hoverinfo": "none",
           "mode": "text",
           "text": [
            4,
            8,
            8,
            11,
            2,
            7,
            4,
            9,
            14,
            10,
            2,
            6,
            1,
            7
           ],
           "textfont": {
            "color": "rgb(0, 0, 0)"
           },
           "textposition": "middle center",
           "x": [
            0.08835225700681207,
            0.16164774299318793,
            0.375,
            0.2878787878787879,
            0.4750594305323629,
            0.625,
            0.6625594305323629,
            0.911647742993188,
            0.7878787878787878,
            0.911647742993188,
            0.625,
            0.3999405694676371,
            0.375,
            0.2749405694676371
           ],
           "y": [
            0.768323871496594,
            0.268323871496594,
            1.0724637681159421,
            0.5,
            0.7406101423669093,
            1.0724637681159421,
            0.5093898576330907,
            0.768323871496594,
            0.5,
            0.23167612850340602,
            -0.07246376811594203,
            0.24061014236690928,
            -0.07246376811594203,
            0.2593898576330907
           ]
          }
         ],
         "name": 0
        },
        {
         "data": [
          {
           "hoverinfo": "none",
           "line": {
            "color": "rgb(0, 0, 0)",
            "width": 2
           },
           "mode": "lines",
           "x": [
            0,
            0.25,
            null
           ],
           "y": [
            0.5,
            1,
            null
           ]
          },
          {
           "hoverinfo": "none",
           "line": {
            "color": "rgb(0, 0, 0)",
            "width": 2
           },
           "mode": "lines",
           "x": [
            0,
            0.25,
            null
           ],
           "y": [
            0.5,
            0,
            null
           ]
          },
          {
           "hoverinfo": "none",
           "line": {
            "color": "rgb(0, 0, 0)",
            "width": 2
           },
           "mode": "lines",
           "x": [
            0.25,
            0.5,
            null
           ],
           "y": [
            1,
            1,
            null
           ]
          },
          {
           "hoverinfo": "none",
           "line": {
            "color": "rgb(0, 0, 0)",
            "width": 2
           },
           "mode": "lines",
           "x": [
            0.25,
            0.25,
            null
           ],
           "y": [
            1,
            0,
            null
           ]
          },
          {
           "hoverinfo": "none",
           "line": {
            "color": "rgb(0, 0, 0)",
            "width": 2
           },
           "mode": "lines",
           "x": [
            0.5,
            0.375,
            null
           ],
           "y": [
            1,
            0.5,
            null
           ]
          },
          {
           "hoverinfo": "none",
           "line": {
            "color": "rgb(0, 0, 0)",
            "width": 2
           },
           "mode": "lines",
           "x": [
            0.5,
            0.75,
            null
           ],
           "y": [
            1,
            1,
            null
           ]
          },
          {
           "hoverinfo": "none",
           "line": {
            "color": "rgb(0, 0, 0)",
            "width": 2
           },
           "mode": "lines",
           "x": [
            0.5,
            0.75,
            null
           ],
           "y": [
            1,
            0,
            null
           ]
          },
          {
           "hoverinfo": "none",
           "line": {
            "color": "rgb(0, 0, 0)",
            "width": 2
           },
           "mode": "lines",
           "x": [
            0.75,
            1,
            null
           ],
           "y": [
            1,
            0.5,
            null
           ]
          },
          {
           "hoverinfo": "none",
           "line": {
            "color": "rgb(0, 0, 0)",
            "width": 2
           },
           "mode": "lines",
           "x": [
            0.75,
            0.75,
            null
           ],
           "y": [
            1,
            0,
            null
           ]
          },
          {
           "hoverinfo": "none",
           "line": {
            "color": "rgb(0, 0, 0)",
            "width": 2
           },
           "mode": "lines",
           "x": [
            1,
            0.75,
            null
           ],
           "y": [
            0.5,
            0,
            null
           ]
          },
          {
           "hoverinfo": "none",
           "line": {
            "color": "rgb(0, 0, 0)",
            "width": 2
           },
           "mode": "lines",
           "x": [
            0.75,
            0.5,
            null
           ],
           "y": [
            0,
            0,
            null
           ]
          },
          {
           "hoverinfo": "none",
           "line": {
            "color": "rgb(0, 0, 0)",
            "width": 2
           },
           "mode": "lines",
           "x": [
            0.5,
            0.375,
            null
           ],
           "y": [
            0,
            0.5,
            null
           ]
          },
          {
           "hoverinfo": "none",
           "line": {
            "color": "rgb(255, 0, 0)",
            "width": 2
           },
           "mode": "lines",
           "x": [
            0.5,
            0.25,
            null
           ],
           "y": [
            0,
            0,
            null
           ]
          },
          {
           "hoverinfo": "none",
           "line": {
            "color": "rgb(0, 0, 0)",
            "width": 2
           },
           "mode": "lines",
           "x": [
            0.25,
            0.375,
            null
           ],
           "y": [
            0,
            0.5,
            null
           ]
          },
          {
           "hoverinfo": "none",
           "marker": {
            "color": "rgb(255, 255, 255)",
            "line": {
             "color": "rgb(0, 0, 0)",
             "width": 2
            },
            "size": 20
           },
           "mode": "markers+text",
           "text": [],
           "textfont": {
            "color": "rgb(0, 0, 0)"
           },
           "textposition": "middle center",
           "x": [
            0
           ],
           "y": [
            0.5
           ]
          },
          {
           "hoverinfo": "none",
           "marker": {
            "color": "rgb(255, 255, 255)",
            "line": {
             "color": "rgb(0, 0, 0)",
             "width": 2
            },
            "size": 20
           },
           "mode": "markers+text",
           "text": [],
           "textfont": {
            "color": "rgb(0, 0, 0)"
           },
           "textposition": "middle center",
           "x": [
            0.25
           ],
           "y": [
            1
           ]
          },
          {
           "hoverinfo": "none",
           "marker": {
            "color": "rgb(255, 255, 255)",
            "line": {
             "color": "rgb(0, 0, 0)",
             "width": 2
            },
            "size": 20
           },
           "mode": "markers+text",
           "text": [],
           "textfont": {
            "color": "rgb(0, 0, 0)"
           },
           "textposition": "middle center",
           "x": [
            0.5
           ],
           "y": [
            1
           ]
          },
          {
           "hoverinfo": "none",
           "marker": {
            "color": "rgb(255, 255, 255)",
            "line": {
             "color": "rgb(0, 0, 0)",
             "width": 2
            },
            "size": 20
           },
           "mode": "markers+text",
           "text": [],
           "textfont": {
            "color": "rgb(0, 0, 0)"
           },
           "textposition": "middle center",
           "x": [
            0.75
           ],
           "y": [
            1
           ]
          },
          {
           "hoverinfo": "none",
           "marker": {
            "color": "rgb(255, 255, 255)",
            "line": {
             "color": "rgb(0, 0, 0)",
             "width": 2
            },
            "size": 20
           },
           "mode": "markers+text",
           "text": [],
           "textfont": {
            "color": "rgb(0, 0, 0)"
           },
           "textposition": "middle center",
           "x": [
            1
           ],
           "y": [
            0.5
           ]
          },
          {
           "hoverinfo": "none",
           "marker": {
            "color": "rgb(255, 255, 255)",
            "line": {
             "color": "rgb(0, 0, 0)",
             "width": 2
            },
            "size": 20
           },
           "mode": "markers+text",
           "text": [],
           "textfont": {
            "color": "rgb(0, 0, 0)"
           },
           "textposition": "middle center",
           "x": [
            0.75
           ],
           "y": [
            0
           ]
          },
          {
           "hoverinfo": "none",
           "marker": {
            "color": "rgb(255, 255, 255)",
            "line": {
             "color": "rgb(0, 0, 0)",
             "width": 2
            },
            "size": 20
           },
           "mode": "markers+text",
           "text": [],
           "textfont": {
            "color": "rgb(0, 0, 0)"
           },
           "textposition": "middle center",
           "x": [
            0.5
           ],
           "y": [
            0
           ]
          },
          {
           "hoverinfo": "none",
           "marker": {
            "color": "rgb(255, 255, 255)",
            "line": {
             "color": "rgb(0, 0, 0)",
             "width": 2
            },
            "size": 20
           },
           "mode": "markers+text",
           "text": [],
           "textfont": {
            "color": "rgb(0, 0, 0)"
           },
           "textposition": "middle center",
           "x": [
            0.25
           ],
           "y": [
            0
           ]
          },
          {
           "hoverinfo": "none",
           "marker": {
            "color": "rgb(255, 255, 255)",
            "line": {
             "color": "rgb(0, 0, 0)",
             "width": 2
            },
            "size": 20
           },
           "mode": "markers+text",
           "text": [],
           "textfont": {
            "color": "rgb(0, 0, 0)"
           },
           "textposition": "middle center",
           "x": [
            0.375
           ],
           "y": [
            0.5
           ]
          },
          {
           "hoverinfo": "none",
           "mode": "text",
           "text": [
            4,
            8,
            8,
            11,
            2,
            7,
            4,
            9,
            14,
            10,
            2,
            6,
            1,
            7
           ],
           "textfont": {
            "color": "rgb(0, 0, 0)"
           },
           "textposition": "middle center",
           "x": [
            0.08835225700681207,
            0.16164774299318793,
            0.375,
            0.2878787878787879,
            0.4750594305323629,
            0.625,
            0.6625594305323629,
            0.911647742993188,
            0.7878787878787878,
            0.911647742993188,
            0.625,
            0.3999405694676371,
            0.375,
            0.2749405694676371
           ],
           "y": [
            0.768323871496594,
            0.268323871496594,
            1.0724637681159421,
            0.5,
            0.7406101423669093,
            1.0724637681159421,
            0.5093898576330907,
            0.768323871496594,
            0.5,
            0.23167612850340602,
            -0.07246376811594203,
            0.24061014236690928,
            -0.07246376811594203,
            0.2593898576330907
           ]
          }
         ],
         "name": 1
        },
        {
         "data": [
          {
           "hoverinfo": "none",
           "line": {
            "color": "rgb(0, 0, 0)",
            "width": 2
           },
           "mode": "lines",
           "x": [
            0,
            0.25,
            null
           ],
           "y": [
            0.5,
            1,
            null
           ]
          },
          {
           "hoverinfo": "none",
           "line": {
            "color": "rgb(0, 0, 0)",
            "width": 2
           },
           "mode": "lines",
           "x": [
            0,
            0.25,
            null
           ],
           "y": [
            0.5,
            0,
            null
           ]
          },
          {
           "hoverinfo": "none",
           "line": {
            "color": "rgb(0, 0, 0)",
            "width": 2
           },
           "mode": "lines",
           "x": [
            0.25,
            0.5,
            null
           ],
           "y": [
            1,
            1,
            null
           ]
          },
          {
           "hoverinfo": "none",
           "line": {
            "color": "rgb(0, 0, 0)",
            "width": 2
           },
           "mode": "lines",
           "x": [
            0.25,
            0.25,
            null
           ],
           "y": [
            1,
            0,
            null
           ]
          },
          {
           "hoverinfo": "none",
           "line": {
            "color": "rgb(255, 0, 0)",
            "width": 2
           },
           "mode": "lines",
           "x": [
            0.5,
            0.375,
            null
           ],
           "y": [
            1,
            0.5,
            null
           ]
          },
          {
           "hoverinfo": "none",
           "line": {
            "color": "rgb(0, 0, 0)",
            "width": 2
           },
           "mode": "lines",
           "x": [
            0.5,
            0.75,
            null
           ],
           "y": [
            1,
            1,
            null
           ]
          },
          {
           "hoverinfo": "none",
           "line": {
            "color": "rgb(0, 0, 0)",
            "width": 2
           },
           "mode": "lines",
           "x": [
            0.5,
            0.75,
            null
           ],
           "y": [
            1,
            0,
            null
           ]
          },
          {
           "hoverinfo": "none",
           "line": {
            "color": "rgb(0, 0, 0)",
            "width": 2
           },
           "mode": "lines",
           "x": [
            0.75,
            1,
            null
           ],
           "y": [
            1,
            0.5,
            null
           ]
          },
          {
           "hoverinfo": "none",
           "line": {
            "color": "rgb(0, 0, 0)",
            "width": 2
           },
           "mode": "lines",
           "x": [
            0.75,
            0.75,
            null
           ],
           "y": [
            1,
            0,
            null
           ]
          },
          {
           "hoverinfo": "none",
           "line": {
            "color": "rgb(0, 0, 0)",
            "width": 2
           },
           "mode": "lines",
           "x": [
            1,
            0.75,
            null
           ],
           "y": [
            0.5,
            0,
            null
           ]
          },
          {
           "hoverinfo": "none",
           "line": {
            "color": "rgb(0, 0, 0)",
            "width": 2
           },
           "mode": "lines",
           "x": [
            0.75,
            0.5,
            null
           ],
           "y": [
            0,
            0,
            null
           ]
          },
          {
           "hoverinfo": "none",
           "line": {
            "color": "rgb(0, 0, 0)",
            "width": 2
           },
           "mode": "lines",
           "x": [
            0.5,
            0.375,
            null
           ],
           "y": [
            0,
            0.5,
            null
           ]
          },
          {
           "hoverinfo": "none",
           "line": {
            "color": "rgb(0, 255, 0)",
            "width": 2
           },
           "mode": "lines",
           "x": [
            0.5,
            0.25,
            null
           ],
           "y": [
            0,
            0,
            null
           ]
          },
          {
           "hoverinfo": "none",
           "line": {
            "color": "rgb(0, 0, 0)",
            "width": 2
           },
           "mode": "lines",
           "x": [
            0.25,
            0.375,
            null
           ],
           "y": [
            0,
            0.5,
            null
           ]
          },
          {
           "hoverinfo": "none",
           "marker": {
            "color": "rgb(255, 255, 255)",
            "line": {
             "color": "rgb(0, 0, 0)",
             "width": 2
            },
            "size": 20
           },
           "mode": "markers+text",
           "text": [],
           "textfont": {
            "color": "rgb(0, 0, 0)"
           },
           "textposition": "middle center",
           "x": [
            0
           ],
           "y": [
            0.5
           ]
          },
          {
           "hoverinfo": "none",
           "marker": {
            "color": "rgb(255, 255, 255)",
            "line": {
             "color": "rgb(0, 0, 0)",
             "width": 2
            },
            "size": 20
           },
           "mode": "markers+text",
           "text": [],
           "textfont": {
            "color": "rgb(0, 0, 0)"
           },
           "textposition": "middle center",
           "x": [
            0.25
           ],
           "y": [
            1
           ]
          },
          {
           "hoverinfo": "none",
           "marker": {
            "color": "rgb(255, 255, 255)",
            "line": {
             "color": "rgb(0, 0, 0)",
             "width": 2
            },
            "size": 20
           },
           "mode": "markers+text",
           "text": [],
           "textfont": {
            "color": "rgb(0, 0, 0)"
           },
           "textposition": "middle center",
           "x": [
            0.5
           ],
           "y": [
            1
           ]
          },
          {
           "hoverinfo": "none",
           "marker": {
            "color": "rgb(255, 255, 255)",
            "line": {
             "color": "rgb(0, 0, 0)",
             "width": 2
            },
            "size": 20
           },
           "mode": "markers+text",
           "text": [],
           "textfont": {
            "color": "rgb(0, 0, 0)"
           },
           "textposition": "middle center",
           "x": [
            0.75
           ],
           "y": [
            1
           ]
          },
          {
           "hoverinfo": "none",
           "marker": {
            "color": "rgb(255, 255, 255)",
            "line": {
             "color": "rgb(0, 0, 0)",
             "width": 2
            },
            "size": 20
           },
           "mode": "markers+text",
           "text": [],
           "textfont": {
            "color": "rgb(0, 0, 0)"
           },
           "textposition": "middle center",
           "x": [
            1
           ],
           "y": [
            0.5
           ]
          },
          {
           "hoverinfo": "none",
           "marker": {
            "color": "rgb(255, 255, 255)",
            "line": {
             "color": "rgb(0, 0, 0)",
             "width": 2
            },
            "size": 20
           },
           "mode": "markers+text",
           "text": [],
           "textfont": {
            "color": "rgb(0, 0, 0)"
           },
           "textposition": "middle center",
           "x": [
            0.75
           ],
           "y": [
            0
           ]
          },
          {
           "hoverinfo": "none",
           "marker": {
            "color": "rgb(255, 255, 255)",
            "line": {
             "color": "rgb(0, 0, 0)",
             "width": 2
            },
            "size": 20
           },
           "mode": "markers+text",
           "text": [],
           "textfont": {
            "color": "rgb(0, 0, 0)"
           },
           "textposition": "middle center",
           "x": [
            0.5
           ],
           "y": [
            0
           ]
          },
          {
           "hoverinfo": "none",
           "marker": {
            "color": "rgb(255, 255, 255)",
            "line": {
             "color": "rgb(0, 0, 0)",
             "width": 2
            },
            "size": 20
           },
           "mode": "markers+text",
           "text": [],
           "textfont": {
            "color": "rgb(0, 0, 0)"
           },
           "textposition": "middle center",
           "x": [
            0.25
           ],
           "y": [
            0
           ]
          },
          {
           "hoverinfo": "none",
           "marker": {
            "color": "rgb(255, 255, 255)",
            "line": {
             "color": "rgb(0, 0, 0)",
             "width": 2
            },
            "size": 20
           },
           "mode": "markers+text",
           "text": [],
           "textfont": {
            "color": "rgb(0, 0, 0)"
           },
           "textposition": "middle center",
           "x": [
            0.375
           ],
           "y": [
            0.5
           ]
          },
          {
           "hoverinfo": "none",
           "mode": "text",
           "text": [
            4,
            8,
            8,
            11,
            2,
            7,
            4,
            9,
            14,
            10,
            2,
            6,
            1,
            7
           ],
           "textfont": {
            "color": "rgb(0, 0, 0)"
           },
           "textposition": "middle center",
           "x": [
            0.08835225700681207,
            0.16164774299318793,
            0.375,
            0.2878787878787879,
            0.4750594305323629,
            0.625,
            0.6625594305323629,
            0.911647742993188,
            0.7878787878787878,
            0.911647742993188,
            0.625,
            0.3999405694676371,
            0.375,
            0.2749405694676371
           ],
           "y": [
            0.768323871496594,
            0.268323871496594,
            1.0724637681159421,
            0.5,
            0.7406101423669093,
            1.0724637681159421,
            0.5093898576330907,
            0.768323871496594,
            0.5,
            0.23167612850340602,
            -0.07246376811594203,
            0.24061014236690928,
            -0.07246376811594203,
            0.2593898576330907
           ]
          }
         ],
         "name": 2
        },
        {
         "data": [
          {
           "hoverinfo": "none",
           "line": {
            "color": "rgb(0, 0, 0)",
            "width": 2
           },
           "mode": "lines",
           "x": [
            0,
            0.25,
            null
           ],
           "y": [
            0.5,
            1,
            null
           ]
          },
          {
           "hoverinfo": "none",
           "line": {
            "color": "rgb(0, 0, 0)",
            "width": 2
           },
           "mode": "lines",
           "x": [
            0,
            0.25,
            null
           ],
           "y": [
            0.5,
            0,
            null
           ]
          },
          {
           "hoverinfo": "none",
           "line": {
            "color": "rgb(0, 0, 0)",
            "width": 2
           },
           "mode": "lines",
           "x": [
            0.25,
            0.5,
            null
           ],
           "y": [
            1,
            1,
            null
           ]
          },
          {
           "hoverinfo": "none",
           "line": {
            "color": "rgb(0, 0, 0)",
            "width": 2
           },
           "mode": "lines",
           "x": [
            0.25,
            0.25,
            null
           ],
           "y": [
            1,
            0,
            null
           ]
          },
          {
           "hoverinfo": "none",
           "line": {
            "color": "rgb(0, 255, 0)",
            "width": 2
           },
           "mode": "lines",
           "x": [
            0.5,
            0.375,
            null
           ],
           "y": [
            1,
            0.5,
            null
           ]
          },
          {
           "hoverinfo": "none",
           "line": {
            "color": "rgb(0, 0, 0)",
            "width": 2
           },
           "mode": "lines",
           "x": [
            0.5,
            0.75,
            null
           ],
           "y": [
            1,
            1,
            null
           ]
          },
          {
           "hoverinfo": "none",
           "line": {
            "color": "rgb(0, 0, 0)",
            "width": 2
           },
           "mode": "lines",
           "x": [
            0.5,
            0.75,
            null
           ],
           "y": [
            1,
            0,
            null
           ]
          },
          {
           "hoverinfo": "none",
           "line": {
            "color": "rgb(0, 0, 0)",
            "width": 2
           },
           "mode": "lines",
           "x": [
            0.75,
            1,
            null
           ],
           "y": [
            1,
            0.5,
            null
           ]
          },
          {
           "hoverinfo": "none",
           "line": {
            "color": "rgb(0, 0, 0)",
            "width": 2
           },
           "mode": "lines",
           "x": [
            0.75,
            0.75,
            null
           ],
           "y": [
            1,
            0,
            null
           ]
          },
          {
           "hoverinfo": "none",
           "line": {
            "color": "rgb(0, 0, 0)",
            "width": 2
           },
           "mode": "lines",
           "x": [
            1,
            0.75,
            null
           ],
           "y": [
            0.5,
            0,
            null
           ]
          },
          {
           "hoverinfo": "none",
           "line": {
            "color": "rgb(255, 0, 0)",
            "width": 2
           },
           "mode": "lines",
           "x": [
            0.75,
            0.5,
            null
           ],
           "y": [
            0,
            0,
            null
           ]
          },
          {
           "hoverinfo": "none",
           "line": {
            "color": "rgb(0, 0, 0)",
            "width": 2
           },
           "mode": "lines",
           "x": [
            0.5,
            0.375,
            null
           ],
           "y": [
            0,
            0.5,
            null
           ]
          },
          {
           "hoverinfo": "none",
           "line": {
            "color": "rgb(0, 255, 0)",
            "width": 2
           },
           "mode": "lines",
           "x": [
            0.5,
            0.25,
            null
           ],
           "y": [
            0,
            0,
            null
           ]
          },
          {
           "hoverinfo": "none",
           "line": {
            "color": "rgb(0, 0, 0)",
            "width": 2
           },
           "mode": "lines",
           "x": [
            0.25,
            0.375,
            null
           ],
           "y": [
            0,
            0.5,
            null
           ]
          },
          {
           "hoverinfo": "none",
           "marker": {
            "color": "rgb(255, 255, 255)",
            "line": {
             "color": "rgb(0, 0, 0)",
             "width": 2
            },
            "size": 20
           },
           "mode": "markers+text",
           "text": [],
           "textfont": {
            "color": "rgb(0, 0, 0)"
           },
           "textposition": "middle center",
           "x": [
            0
           ],
           "y": [
            0.5
           ]
          },
          {
           "hoverinfo": "none",
           "marker": {
            "color": "rgb(255, 255, 255)",
            "line": {
             "color": "rgb(0, 0, 0)",
             "width": 2
            },
            "size": 20
           },
           "mode": "markers+text",
           "text": [],
           "textfont": {
            "color": "rgb(0, 0, 0)"
           },
           "textposition": "middle center",
           "x": [
            0.25
           ],
           "y": [
            1
           ]
          },
          {
           "hoverinfo": "none",
           "marker": {
            "color": "rgb(255, 255, 255)",
            "line": {
             "color": "rgb(0, 0, 0)",
             "width": 2
            },
            "size": 20
           },
           "mode": "markers+text",
           "text": [],
           "textfont": {
            "color": "rgb(0, 0, 0)"
           },
           "textposition": "middle center",
           "x": [
            0.5
           ],
           "y": [
            1
           ]
          },
          {
           "hoverinfo": "none",
           "marker": {
            "color": "rgb(255, 255, 255)",
            "line": {
             "color": "rgb(0, 0, 0)",
             "width": 2
            },
            "size": 20
           },
           "mode": "markers+text",
           "text": [],
           "textfont": {
            "color": "rgb(0, 0, 0)"
           },
           "textposition": "middle center",
           "x": [
            0.75
           ],
           "y": [
            1
           ]
          },
          {
           "hoverinfo": "none",
           "marker": {
            "color": "rgb(255, 255, 255)",
            "line": {
             "color": "rgb(0, 0, 0)",
             "width": 2
            },
            "size": 20
           },
           "mode": "markers+text",
           "text": [],
           "textfont": {
            "color": "rgb(0, 0, 0)"
           },
           "textposition": "middle center",
           "x": [
            1
           ],
           "y": [
            0.5
           ]
          },
          {
           "hoverinfo": "none",
           "marker": {
            "color": "rgb(255, 255, 255)",
            "line": {
             "color": "rgb(0, 0, 0)",
             "width": 2
            },
            "size": 20
           },
           "mode": "markers+text",
           "text": [],
           "textfont": {
            "color": "rgb(0, 0, 0)"
           },
           "textposition": "middle center",
           "x": [
            0.75
           ],
           "y": [
            0
           ]
          },
          {
           "hoverinfo": "none",
           "marker": {
            "color": "rgb(255, 255, 255)",
            "line": {
             "color": "rgb(0, 0, 0)",
             "width": 2
            },
            "size": 20
           },
           "mode": "markers+text",
           "text": [],
           "textfont": {
            "color": "rgb(0, 0, 0)"
           },
           "textposition": "middle center",
           "x": [
            0.5
           ],
           "y": [
            0
           ]
          },
          {
           "hoverinfo": "none",
           "marker": {
            "color": "rgb(255, 255, 255)",
            "line": {
             "color": "rgb(0, 0, 0)",
             "width": 2
            },
            "size": 20
           },
           "mode": "markers+text",
           "text": [],
           "textfont": {
            "color": "rgb(0, 0, 0)"
           },
           "textposition": "middle center",
           "x": [
            0.25
           ],
           "y": [
            0
           ]
          },
          {
           "hoverinfo": "none",
           "marker": {
            "color": "rgb(255, 255, 255)",
            "line": {
             "color": "rgb(0, 0, 0)",
             "width": 2
            },
            "size": 20
           },
           "mode": "markers+text",
           "text": [],
           "textfont": {
            "color": "rgb(0, 0, 0)"
           },
           "textposition": "middle center",
           "x": [
            0.375
           ],
           "y": [
            0.5
           ]
          },
          {
           "hoverinfo": "none",
           "mode": "text",
           "text": [
            4,
            8,
            8,
            11,
            2,
            7,
            4,
            9,
            14,
            10,
            2,
            6,
            1,
            7
           ],
           "textfont": {
            "color": "rgb(0, 0, 0)"
           },
           "textposition": "middle center",
           "x": [
            0.08835225700681207,
            0.16164774299318793,
            0.375,
            0.2878787878787879,
            0.4750594305323629,
            0.625,
            0.6625594305323629,
            0.911647742993188,
            0.7878787878787878,
            0.911647742993188,
            0.625,
            0.3999405694676371,
            0.375,
            0.2749405694676371
           ],
           "y": [
            0.768323871496594,
            0.268323871496594,
            1.0724637681159421,
            0.5,
            0.7406101423669093,
            1.0724637681159421,
            0.5093898576330907,
            0.768323871496594,
            0.5,
            0.23167612850340602,
            -0.07246376811594203,
            0.24061014236690928,
            -0.07246376811594203,
            0.2593898576330907
           ]
          }
         ],
         "name": 3
        },
        {
         "data": [
          {
           "hoverinfo": "none",
           "line": {
            "color": "rgb(255, 0, 0)",
            "width": 2
           },
           "mode": "lines",
           "x": [
            0,
            0.25,
            null
           ],
           "y": [
            0.5,
            1,
            null
           ]
          },
          {
           "hoverinfo": "none",
           "line": {
            "color": "rgb(0, 0, 0)",
            "width": 2
           },
           "mode": "lines",
           "x": [
            0,
            0.25,
            null
           ],
           "y": [
            0.5,
            0,
            null
           ]
          },
          {
           "hoverinfo": "none",
           "line": {
            "color": "rgb(0, 0, 0)",
            "width": 2
           },
           "mode": "lines",
           "x": [
            0.25,
            0.5,
            null
           ],
           "y": [
            1,
            1,
            null
           ]
          },
          {
           "hoverinfo": "none",
           "line": {
            "color": "rgb(0, 0, 0)",
            "width": 2
           },
           "mode": "lines",
           "x": [
            0.25,
            0.25,
            null
           ],
           "y": [
            1,
            0,
            null
           ]
          },
          {
           "hoverinfo": "none",
           "line": {
            "color": "rgb(0, 255, 0)",
            "width": 2
           },
           "mode": "lines",
           "x": [
            0.5,
            0.375,
            null
           ],
           "y": [
            1,
            0.5,
            null
           ]
          },
          {
           "hoverinfo": "none",
           "line": {
            "color": "rgb(0, 0, 0)",
            "width": 2
           },
           "mode": "lines",
           "x": [
            0.5,
            0.75,
            null
           ],
           "y": [
            1,
            1,
            null
           ]
          },
          {
           "hoverinfo": "none",
           "line": {
            "color": "rgb(0, 0, 0)",
            "width": 2
           },
           "mode": "lines",
           "x": [
            0.5,
            0.75,
            null
           ],
           "y": [
            1,
            0,
            null
           ]
          },
          {
           "hoverinfo": "none",
           "line": {
            "color": "rgb(0, 0, 0)",
            "width": 2
           },
           "mode": "lines",
           "x": [
            0.75,
            1,
            null
           ],
           "y": [
            1,
            0.5,
            null
           ]
          },
          {
           "hoverinfo": "none",
           "line": {
            "color": "rgb(0, 0, 0)",
            "width": 2
           },
           "mode": "lines",
           "x": [
            0.75,
            0.75,
            null
           ],
           "y": [
            1,
            0,
            null
           ]
          },
          {
           "hoverinfo": "none",
           "line": {
            "color": "rgb(0, 0, 0)",
            "width": 2
           },
           "mode": "lines",
           "x": [
            1,
            0.75,
            null
           ],
           "y": [
            0.5,
            0,
            null
           ]
          },
          {
           "hoverinfo": "none",
           "line": {
            "color": "rgb(0, 255, 0)",
            "width": 2
           },
           "mode": "lines",
           "x": [
            0.75,
            0.5,
            null
           ],
           "y": [
            0,
            0,
            null
           ]
          },
          {
           "hoverinfo": "none",
           "line": {
            "color": "rgb(0, 0, 0)",
            "width": 2
           },
           "mode": "lines",
           "x": [
            0.5,
            0.375,
            null
           ],
           "y": [
            0,
            0.5,
            null
           ]
          },
          {
           "hoverinfo": "none",
           "line": {
            "color": "rgb(0, 255, 0)",
            "width": 2
           },
           "mode": "lines",
           "x": [
            0.5,
            0.25,
            null
           ],
           "y": [
            0,
            0,
            null
           ]
          },
          {
           "hoverinfo": "none",
           "line": {
            "color": "rgb(0, 0, 0)",
            "width": 2
           },
           "mode": "lines",
           "x": [
            0.25,
            0.375,
            null
           ],
           "y": [
            0,
            0.5,
            null
           ]
          },
          {
           "hoverinfo": "none",
           "marker": {
            "color": "rgb(255, 255, 255)",
            "line": {
             "color": "rgb(0, 0, 0)",
             "width": 2
            },
            "size": 20
           },
           "mode": "markers+text",
           "text": [],
           "textfont": {
            "color": "rgb(0, 0, 0)"
           },
           "textposition": "middle center",
           "x": [
            0
           ],
           "y": [
            0.5
           ]
          },
          {
           "hoverinfo": "none",
           "marker": {
            "color": "rgb(255, 255, 255)",
            "line": {
             "color": "rgb(0, 0, 0)",
             "width": 2
            },
            "size": 20
           },
           "mode": "markers+text",
           "text": [],
           "textfont": {
            "color": "rgb(0, 0, 0)"
           },
           "textposition": "middle center",
           "x": [
            0.25
           ],
           "y": [
            1
           ]
          },
          {
           "hoverinfo": "none",
           "marker": {
            "color": "rgb(255, 255, 255)",
            "line": {
             "color": "rgb(0, 0, 0)",
             "width": 2
            },
            "size": 20
           },
           "mode": "markers+text",
           "text": [],
           "textfont": {
            "color": "rgb(0, 0, 0)"
           },
           "textposition": "middle center",
           "x": [
            0.5
           ],
           "y": [
            1
           ]
          },
          {
           "hoverinfo": "none",
           "marker": {
            "color": "rgb(255, 255, 255)",
            "line": {
             "color": "rgb(0, 0, 0)",
             "width": 2
            },
            "size": 20
           },
           "mode": "markers+text",
           "text": [],
           "textfont": {
            "color": "rgb(0, 0, 0)"
           },
           "textposition": "middle center",
           "x": [
            0.75
           ],
           "y": [
            1
           ]
          },
          {
           "hoverinfo": "none",
           "marker": {
            "color": "rgb(255, 255, 255)",
            "line": {
             "color": "rgb(0, 0, 0)",
             "width": 2
            },
            "size": 20
           },
           "mode": "markers+text",
           "text": [],
           "textfont": {
            "color": "rgb(0, 0, 0)"
           },
           "textposition": "middle center",
           "x": [
            1
           ],
           "y": [
            0.5
           ]
          },
          {
           "hoverinfo": "none",
           "marker": {
            "color": "rgb(255, 255, 255)",
            "line": {
             "color": "rgb(0, 0, 0)",
             "width": 2
            },
            "size": 20
           },
           "mode": "markers+text",
           "text": [],
           "textfont": {
            "color": "rgb(0, 0, 0)"
           },
           "textposition": "middle center",
           "x": [
            0.75
           ],
           "y": [
            0
           ]
          },
          {
           "hoverinfo": "none",
           "marker": {
            "color": "rgb(255, 255, 255)",
            "line": {
             "color": "rgb(0, 0, 0)",
             "width": 2
            },
            "size": 20
           },
           "mode": "markers+text",
           "text": [],
           "textfont": {
            "color": "rgb(0, 0, 0)"
           },
           "textposition": "middle center",
           "x": [
            0.5
           ],
           "y": [
            0
           ]
          },
          {
           "hoverinfo": "none",
           "marker": {
            "color": "rgb(255, 255, 255)",
            "line": {
             "color": "rgb(0, 0, 0)",
             "width": 2
            },
            "size": 20
           },
           "mode": "markers+text",
           "text": [],
           "textfont": {
            "color": "rgb(0, 0, 0)"
           },
           "textposition": "middle center",
           "x": [
            0.25
           ],
           "y": [
            0
           ]
          },
          {
           "hoverinfo": "none",
           "marker": {
            "color": "rgb(255, 255, 255)",
            "line": {
             "color": "rgb(0, 0, 0)",
             "width": 2
            },
            "size": 20
           },
           "mode": "markers+text",
           "text": [],
           "textfont": {
            "color": "rgb(0, 0, 0)"
           },
           "textposition": "middle center",
           "x": [
            0.375
           ],
           "y": [
            0.5
           ]
          },
          {
           "hoverinfo": "none",
           "mode": "text",
           "text": [
            4,
            8,
            8,
            11,
            2,
            7,
            4,
            9,
            14,
            10,
            2,
            6,
            1,
            7
           ],
           "textfont": {
            "color": "rgb(0, 0, 0)"
           },
           "textposition": "middle center",
           "x": [
            0.08835225700681207,
            0.16164774299318793,
            0.375,
            0.2878787878787879,
            0.4750594305323629,
            0.625,
            0.6625594305323629,
            0.911647742993188,
            0.7878787878787878,
            0.911647742993188,
            0.625,
            0.3999405694676371,
            0.375,
            0.2749405694676371
           ],
           "y": [
            0.768323871496594,
            0.268323871496594,
            1.0724637681159421,
            0.5,
            0.7406101423669093,
            1.0724637681159421,
            0.5093898576330907,
            0.768323871496594,
            0.5,
            0.23167612850340602,
            -0.07246376811594203,
            0.24061014236690928,
            -0.07246376811594203,
            0.2593898576330907
           ]
          }
         ],
         "name": 4
        },
        {
         "data": [
          {
           "hoverinfo": "none",
           "line": {
            "color": "rgb(0, 255, 0)",
            "width": 2
           },
           "mode": "lines",
           "x": [
            0,
            0.25,
            null
           ],
           "y": [
            0.5,
            1,
            null
           ]
          },
          {
           "hoverinfo": "none",
           "line": {
            "color": "rgb(0, 0, 0)",
            "width": 2
           },
           "mode": "lines",
           "x": [
            0,
            0.25,
            null
           ],
           "y": [
            0.5,
            0,
            null
           ]
          },
          {
           "hoverinfo": "none",
           "line": {
            "color": "rgb(0, 0, 0)",
            "width": 2
           },
           "mode": "lines",
           "x": [
            0.25,
            0.5,
            null
           ],
           "y": [
            1,
            1,
            null
           ]
          },
          {
           "hoverinfo": "none",
           "line": {
            "color": "rgb(0, 0, 0)",
            "width": 2
           },
           "mode": "lines",
           "x": [
            0.25,
            0.25,
            null
           ],
           "y": [
            1,
            0,
            null
           ]
          },
          {
           "hoverinfo": "none",
           "line": {
            "color": "rgb(0, 255, 0)",
            "width": 2
           },
           "mode": "lines",
           "x": [
            0.5,
            0.375,
            null
           ],
           "y": [
            1,
            0.5,
            null
           ]
          },
          {
           "hoverinfo": "none",
           "line": {
            "color": "rgb(0, 0, 0)",
            "width": 2
           },
           "mode": "lines",
           "x": [
            0.5,
            0.75,
            null
           ],
           "y": [
            1,
            1,
            null
           ]
          },
          {
           "hoverinfo": "none",
           "line": {
            "color": "rgb(255, 0, 0)",
            "width": 2
           },
           "mode": "lines",
           "x": [
            0.5,
            0.75,
            null
           ],
           "y": [
            1,
            0,
            null
           ]
          },
          {
           "hoverinfo": "none",
           "line": {
            "color": "rgb(0, 0, 0)",
            "width": 2
           },
           "mode": "lines",
           "x": [
            0.75,
            1,
            null
           ],
           "y": [
            1,
            0.5,
            null
           ]
          },
          {
           "hoverinfo": "none",
           "line": {
            "color": "rgb(0, 0, 0)",
            "width": 2
           },
           "mode": "lines",
           "x": [
            0.75,
            0.75,
            null
           ],
           "y": [
            1,
            0,
            null
           ]
          },
          {
           "hoverinfo": "none",
           "line": {
            "color": "rgb(0, 0, 0)",
            "width": 2
           },
           "mode": "lines",
           "x": [
            1,
            0.75,
            null
           ],
           "y": [
            0.5,
            0,
            null
           ]
          },
          {
           "hoverinfo": "none",
           "line": {
            "color": "rgb(0, 255, 0)",
            "width": 2
           },
           "mode": "lines",
           "x": [
            0.75,
            0.5,
            null
           ],
           "y": [
            0,
            0,
            null
           ]
          },
          {
           "hoverinfo": "none",
           "line": {
            "color": "rgb(0, 0, 0)",
            "width": 2
           },
           "mode": "lines",
           "x": [
            0.5,
            0.375,
            null
           ],
           "y": [
            0,
            0.5,
            null
           ]
          },
          {
           "hoverinfo": "none",
           "line": {
            "color": "rgb(0, 255, 0)",
            "width": 2
           },
           "mode": "lines",
           "x": [
            0.5,
            0.25,
            null
           ],
           "y": [
            0,
            0,
            null
           ]
          },
          {
           "hoverinfo": "none",
           "line": {
            "color": "rgb(0, 0, 0)",
            "width": 2
           },
           "mode": "lines",
           "x": [
            0.25,
            0.375,
            null
           ],
           "y": [
            0,
            0.5,
            null
           ]
          },
          {
           "hoverinfo": "none",
           "marker": {
            "color": "rgb(255, 255, 255)",
            "line": {
             "color": "rgb(0, 0, 0)",
             "width": 2
            },
            "size": 20
           },
           "mode": "markers+text",
           "text": [],
           "textfont": {
            "color": "rgb(0, 0, 0)"
           },
           "textposition": "middle center",
           "x": [
            0
           ],
           "y": [
            0.5
           ]
          },
          {
           "hoverinfo": "none",
           "marker": {
            "color": "rgb(255, 255, 255)",
            "line": {
             "color": "rgb(0, 0, 0)",
             "width": 2
            },
            "size": 20
           },
           "mode": "markers+text",
           "text": [],
           "textfont": {
            "color": "rgb(0, 0, 0)"
           },
           "textposition": "middle center",
           "x": [
            0.25
           ],
           "y": [
            1
           ]
          },
          {
           "hoverinfo": "none",
           "marker": {
            "color": "rgb(255, 255, 255)",
            "line": {
             "color": "rgb(0, 0, 0)",
             "width": 2
            },
            "size": 20
           },
           "mode": "markers+text",
           "text": [],
           "textfont": {
            "color": "rgb(0, 0, 0)"
           },
           "textposition": "middle center",
           "x": [
            0.5
           ],
           "y": [
            1
           ]
          },
          {
           "hoverinfo": "none",
           "marker": {
            "color": "rgb(255, 255, 255)",
            "line": {
             "color": "rgb(0, 0, 0)",
             "width": 2
            },
            "size": 20
           },
           "mode": "markers+text",
           "text": [],
           "textfont": {
            "color": "rgb(0, 0, 0)"
           },
           "textposition": "middle center",
           "x": [
            0.75
           ],
           "y": [
            1
           ]
          },
          {
           "hoverinfo": "none",
           "marker": {
            "color": "rgb(255, 255, 255)",
            "line": {
             "color": "rgb(0, 0, 0)",
             "width": 2
            },
            "size": 20
           },
           "mode": "markers+text",
           "text": [],
           "textfont": {
            "color": "rgb(0, 0, 0)"
           },
           "textposition": "middle center",
           "x": [
            1
           ],
           "y": [
            0.5
           ]
          },
          {
           "hoverinfo": "none",
           "marker": {
            "color": "rgb(255, 255, 255)",
            "line": {
             "color": "rgb(0, 0, 0)",
             "width": 2
            },
            "size": 20
           },
           "mode": "markers+text",
           "text": [],
           "textfont": {
            "color": "rgb(0, 0, 0)"
           },
           "textposition": "middle center",
           "x": [
            0.75
           ],
           "y": [
            0
           ]
          },
          {
           "hoverinfo": "none",
           "marker": {
            "color": "rgb(255, 255, 255)",
            "line": {
             "color": "rgb(0, 0, 0)",
             "width": 2
            },
            "size": 20
           },
           "mode": "markers+text",
           "text": [],
           "textfont": {
            "color": "rgb(0, 0, 0)"
           },
           "textposition": "middle center",
           "x": [
            0.5
           ],
           "y": [
            0
           ]
          },
          {
           "hoverinfo": "none",
           "marker": {
            "color": "rgb(255, 255, 255)",
            "line": {
             "color": "rgb(0, 0, 0)",
             "width": 2
            },
            "size": 20
           },
           "mode": "markers+text",
           "text": [],
           "textfont": {
            "color": "rgb(0, 0, 0)"
           },
           "textposition": "middle center",
           "x": [
            0.25
           ],
           "y": [
            0
           ]
          },
          {
           "hoverinfo": "none",
           "marker": {
            "color": "rgb(255, 255, 255)",
            "line": {
             "color": "rgb(0, 0, 0)",
             "width": 2
            },
            "size": 20
           },
           "mode": "markers+text",
           "text": [],
           "textfont": {
            "color": "rgb(0, 0, 0)"
           },
           "textposition": "middle center",
           "x": [
            0.375
           ],
           "y": [
            0.5
           ]
          },
          {
           "hoverinfo": "none",
           "mode": "text",
           "text": [
            4,
            8,
            8,
            11,
            2,
            7,
            4,
            9,
            14,
            10,
            2,
            6,
            1,
            7
           ],
           "textfont": {
            "color": "rgb(0, 0, 0)"
           },
           "textposition": "middle center",
           "x": [
            0.08835225700681207,
            0.16164774299318793,
            0.375,
            0.2878787878787879,
            0.4750594305323629,
            0.625,
            0.6625594305323629,
            0.911647742993188,
            0.7878787878787878,
            0.911647742993188,
            0.625,
            0.3999405694676371,
            0.375,
            0.2749405694676371
           ],
           "y": [
            0.768323871496594,
            0.268323871496594,
            1.0724637681159421,
            0.5,
            0.7406101423669093,
            1.0724637681159421,
            0.5093898576330907,
            0.768323871496594,
            0.5,
            0.23167612850340602,
            -0.07246376811594203,
            0.24061014236690928,
            -0.07246376811594203,
            0.2593898576330907
           ]
          }
         ],
         "name": 5
        },
        {
         "data": [
          {
           "hoverinfo": "none",
           "line": {
            "color": "rgb(0, 255, 0)",
            "width": 2
           },
           "mode": "lines",
           "x": [
            0,
            0.25,
            null
           ],
           "y": [
            0.5,
            1,
            null
           ]
          },
          {
           "hoverinfo": "none",
           "line": {
            "color": "rgb(0, 0, 0)",
            "width": 2
           },
           "mode": "lines",
           "x": [
            0,
            0.25,
            null
           ],
           "y": [
            0.5,
            0,
            null
           ]
          },
          {
           "hoverinfo": "none",
           "line": {
            "color": "rgb(0, 0, 0)",
            "width": 2
           },
           "mode": "lines",
           "x": [
            0.25,
            0.5,
            null
           ],
           "y": [
            1,
            1,
            null
           ]
          },
          {
           "hoverinfo": "none",
           "line": {
            "color": "rgb(0, 0, 0)",
            "width": 2
           },
           "mode": "lines",
           "x": [
            0.25,
            0.25,
            null
           ],
           "y": [
            1,
            0,
            null
           ]
          },
          {
           "hoverinfo": "none",
           "line": {
            "color": "rgb(0, 255, 0)",
            "width": 2
           },
           "mode": "lines",
           "x": [
            0.5,
            0.375,
            null
           ],
           "y": [
            1,
            0.5,
            null
           ]
          },
          {
           "hoverinfo": "none",
           "line": {
            "color": "rgb(0, 0, 0)",
            "width": 2
           },
           "mode": "lines",
           "x": [
            0.5,
            0.75,
            null
           ],
           "y": [
            1,
            1,
            null
           ]
          },
          {
           "hoverinfo": "none",
           "line": {
            "color": "rgb(0, 255, 0)",
            "width": 2
           },
           "mode": "lines",
           "x": [
            0.5,
            0.75,
            null
           ],
           "y": [
            1,
            0,
            null
           ]
          },
          {
           "hoverinfo": "none",
           "line": {
            "color": "rgb(0, 0, 0)",
            "width": 2
           },
           "mode": "lines",
           "x": [
            0.75,
            1,
            null
           ],
           "y": [
            1,
            0.5,
            null
           ]
          },
          {
           "hoverinfo": "none",
           "line": {
            "color": "rgb(0, 0, 0)",
            "width": 2
           },
           "mode": "lines",
           "x": [
            0.75,
            0.75,
            null
           ],
           "y": [
            1,
            0,
            null
           ]
          },
          {
           "hoverinfo": "none",
           "line": {
            "color": "rgb(0, 0, 0)",
            "width": 2
           },
           "mode": "lines",
           "x": [
            1,
            0.75,
            null
           ],
           "y": [
            0.5,
            0,
            null
           ]
          },
          {
           "hoverinfo": "none",
           "line": {
            "color": "rgb(0, 255, 0)",
            "width": 2
           },
           "mode": "lines",
           "x": [
            0.75,
            0.5,
            null
           ],
           "y": [
            0,
            0,
            null
           ]
          },
          {
           "hoverinfo": "none",
           "line": {
            "color": "rgb(255, 0, 0)",
            "width": 2
           },
           "mode": "lines",
           "x": [
            0.5,
            0.375,
            null
           ],
           "y": [
            0,
            0.5,
            null
           ]
          },
          {
           "hoverinfo": "none",
           "line": {
            "color": "rgb(0, 255, 0)",
            "width": 2
           },
           "mode": "lines",
           "x": [
            0.5,
            0.25,
            null
           ],
           "y": [
            0,
            0,
            null
           ]
          },
          {
           "hoverinfo": "none",
           "line": {
            "color": "rgb(0, 0, 0)",
            "width": 2
           },
           "mode": "lines",
           "x": [
            0.25,
            0.375,
            null
           ],
           "y": [
            0,
            0.5,
            null
           ]
          },
          {
           "hoverinfo": "none",
           "marker": {
            "color": "rgb(255, 255, 255)",
            "line": {
             "color": "rgb(0, 0, 0)",
             "width": 2
            },
            "size": 20
           },
           "mode": "markers+text",
           "text": [],
           "textfont": {
            "color": "rgb(0, 0, 0)"
           },
           "textposition": "middle center",
           "x": [
            0
           ],
           "y": [
            0.5
           ]
          },
          {
           "hoverinfo": "none",
           "marker": {
            "color": "rgb(255, 255, 255)",
            "line": {
             "color": "rgb(0, 0, 0)",
             "width": 2
            },
            "size": 20
           },
           "mode": "markers+text",
           "text": [],
           "textfont": {
            "color": "rgb(0, 0, 0)"
           },
           "textposition": "middle center",
           "x": [
            0.25
           ],
           "y": [
            1
           ]
          },
          {
           "hoverinfo": "none",
           "marker": {
            "color": "rgb(255, 255, 255)",
            "line": {
             "color": "rgb(0, 0, 0)",
             "width": 2
            },
            "size": 20
           },
           "mode": "markers+text",
           "text": [],
           "textfont": {
            "color": "rgb(0, 0, 0)"
           },
           "textposition": "middle center",
           "x": [
            0.5
           ],
           "y": [
            1
           ]
          },
          {
           "hoverinfo": "none",
           "marker": {
            "color": "rgb(255, 255, 255)",
            "line": {
             "color": "rgb(0, 0, 0)",
             "width": 2
            },
            "size": 20
           },
           "mode": "markers+text",
           "text": [],
           "textfont": {
            "color": "rgb(0, 0, 0)"
           },
           "textposition": "middle center",
           "x": [
            0.75
           ],
           "y": [
            1
           ]
          },
          {
           "hoverinfo": "none",
           "marker": {
            "color": "rgb(255, 255, 255)",
            "line": {
             "color": "rgb(0, 0, 0)",
             "width": 2
            },
            "size": 20
           },
           "mode": "markers+text",
           "text": [],
           "textfont": {
            "color": "rgb(0, 0, 0)"
           },
           "textposition": "middle center",
           "x": [
            1
           ],
           "y": [
            0.5
           ]
          },
          {
           "hoverinfo": "none",
           "marker": {
            "color": "rgb(255, 255, 255)",
            "line": {
             "color": "rgb(0, 0, 0)",
             "width": 2
            },
            "size": 20
           },
           "mode": "markers+text",
           "text": [],
           "textfont": {
            "color": "rgb(0, 0, 0)"
           },
           "textposition": "middle center",
           "x": [
            0.75
           ],
           "y": [
            0
           ]
          },
          {
           "hoverinfo": "none",
           "marker": {
            "color": "rgb(255, 255, 255)",
            "line": {
             "color": "rgb(0, 0, 0)",
             "width": 2
            },
            "size": 20
           },
           "mode": "markers+text",
           "text": [],
           "textfont": {
            "color": "rgb(0, 0, 0)"
           },
           "textposition": "middle center",
           "x": [
            0.5
           ],
           "y": [
            0
           ]
          },
          {
           "hoverinfo": "none",
           "marker": {
            "color": "rgb(255, 255, 255)",
            "line": {
             "color": "rgb(0, 0, 0)",
             "width": 2
            },
            "size": 20
           },
           "mode": "markers+text",
           "text": [],
           "textfont": {
            "color": "rgb(0, 0, 0)"
           },
           "textposition": "middle center",
           "x": [
            0.25
           ],
           "y": [
            0
           ]
          },
          {
           "hoverinfo": "none",
           "marker": {
            "color": "rgb(255, 255, 255)",
            "line": {
             "color": "rgb(0, 0, 0)",
             "width": 2
            },
            "size": 20
           },
           "mode": "markers+text",
           "text": [],
           "textfont": {
            "color": "rgb(0, 0, 0)"
           },
           "textposition": "middle center",
           "x": [
            0.375
           ],
           "y": [
            0.5
           ]
          },
          {
           "hoverinfo": "none",
           "mode": "text",
           "text": [
            4,
            8,
            8,
            11,
            2,
            7,
            4,
            9,
            14,
            10,
            2,
            6,
            1,
            7
           ],
           "textfont": {
            "color": "rgb(0, 0, 0)"
           },
           "textposition": "middle center",
           "x": [
            0.08835225700681207,
            0.16164774299318793,
            0.375,
            0.2878787878787879,
            0.4750594305323629,
            0.625,
            0.6625594305323629,
            0.911647742993188,
            0.7878787878787878,
            0.911647742993188,
            0.625,
            0.3999405694676371,
            0.375,
            0.2749405694676371
           ],
           "y": [
            0.768323871496594,
            0.268323871496594,
            1.0724637681159421,
            0.5,
            0.7406101423669093,
            1.0724637681159421,
            0.5093898576330907,
            0.768323871496594,
            0.5,
            0.23167612850340602,
            -0.07246376811594203,
            0.24061014236690928,
            -0.07246376811594203,
            0.2593898576330907
           ]
          }
         ],
         "name": 6
        },
        {
         "data": [
          {
           "hoverinfo": "none",
           "line": {
            "color": "rgb(0, 255, 0)",
            "width": 2
           },
           "mode": "lines",
           "x": [
            0,
            0.25,
            null
           ],
           "y": [
            0.5,
            1,
            null
           ]
          },
          {
           "hoverinfo": "none",
           "line": {
            "color": "rgb(0, 0, 0)",
            "width": 2
           },
           "mode": "lines",
           "x": [
            0,
            0.25,
            null
           ],
           "y": [
            0.5,
            0,
            null
           ]
          },
          {
           "hoverinfo": "none",
           "line": {
            "color": "rgb(0, 0, 0)",
            "width": 2
           },
           "mode": "lines",
           "x": [
            0.25,
            0.5,
            null
           ],
           "y": [
            1,
            1,
            null
           ]
          },
          {
           "hoverinfo": "none",
           "line": {
            "color": "rgb(0, 0, 0)",
            "width": 2
           },
           "mode": "lines",
           "x": [
            0.25,
            0.25,
            null
           ],
           "y": [
            1,
            0,
            null
           ]
          },
          {
           "hoverinfo": "none",
           "line": {
            "color": "rgb(0, 255, 0)",
            "width": 2
           },
           "mode": "lines",
           "x": [
            0.5,
            0.375,
            null
           ],
           "y": [
            1,
            0.5,
            null
           ]
          },
          {
           "hoverinfo": "none",
           "line": {
            "color": "rgb(255, 0, 0)",
            "width": 2
           },
           "mode": "lines",
           "x": [
            0.5,
            0.75,
            null
           ],
           "y": [
            1,
            1,
            null
           ]
          },
          {
           "hoverinfo": "none",
           "line": {
            "color": "rgb(0, 255, 0)",
            "width": 2
           },
           "mode": "lines",
           "x": [
            0.5,
            0.75,
            null
           ],
           "y": [
            1,
            0,
            null
           ]
          },
          {
           "hoverinfo": "none",
           "line": {
            "color": "rgb(0, 0, 0)",
            "width": 2
           },
           "mode": "lines",
           "x": [
            0.75,
            1,
            null
           ],
           "y": [
            1,
            0.5,
            null
           ]
          },
          {
           "hoverinfo": "none",
           "line": {
            "color": "rgb(0, 0, 0)",
            "width": 2
           },
           "mode": "lines",
           "x": [
            0.75,
            0.75,
            null
           ],
           "y": [
            1,
            0,
            null
           ]
          },
          {
           "hoverinfo": "none",
           "line": {
            "color": "rgb(0, 0, 0)",
            "width": 2
           },
           "mode": "lines",
           "x": [
            1,
            0.75,
            null
           ],
           "y": [
            0.5,
            0,
            null
           ]
          },
          {
           "hoverinfo": "none",
           "line": {
            "color": "rgb(0, 255, 0)",
            "width": 2
           },
           "mode": "lines",
           "x": [
            0.75,
            0.5,
            null
           ],
           "y": [
            0,
            0,
            null
           ]
          },
          {
           "hoverinfo": "none",
           "line": {
            "color": "rgb(0, 0, 0)",
            "width": 2
           },
           "mode": "lines",
           "x": [
            0.5,
            0.375,
            null
           ],
           "y": [
            0,
            0.5,
            null
           ]
          },
          {
           "hoverinfo": "none",
           "line": {
            "color": "rgb(0, 255, 0)",
            "width": 2
           },
           "mode": "lines",
           "x": [
            0.5,
            0.25,
            null
           ],
           "y": [
            0,
            0,
            null
           ]
          },
          {
           "hoverinfo": "none",
           "line": {
            "color": "rgb(0, 0, 0)",
            "width": 2
           },
           "mode": "lines",
           "x": [
            0.25,
            0.375,
            null
           ],
           "y": [
            0,
            0.5,
            null
           ]
          },
          {
           "hoverinfo": "none",
           "marker": {
            "color": "rgb(255, 255, 255)",
            "line": {
             "color": "rgb(0, 0, 0)",
             "width": 2
            },
            "size": 20
           },
           "mode": "markers+text",
           "text": [],
           "textfont": {
            "color": "rgb(0, 0, 0)"
           },
           "textposition": "middle center",
           "x": [
            0
           ],
           "y": [
            0.5
           ]
          },
          {
           "hoverinfo": "none",
           "marker": {
            "color": "rgb(255, 255, 255)",
            "line": {
             "color": "rgb(0, 0, 0)",
             "width": 2
            },
            "size": 20
           },
           "mode": "markers+text",
           "text": [],
           "textfont": {
            "color": "rgb(0, 0, 0)"
           },
           "textposition": "middle center",
           "x": [
            0.25
           ],
           "y": [
            1
           ]
          },
          {
           "hoverinfo": "none",
           "marker": {
            "color": "rgb(255, 255, 255)",
            "line": {
             "color": "rgb(0, 0, 0)",
             "width": 2
            },
            "size": 20
           },
           "mode": "markers+text",
           "text": [],
           "textfont": {
            "color": "rgb(0, 0, 0)"
           },
           "textposition": "middle center",
           "x": [
            0.5
           ],
           "y": [
            1
           ]
          },
          {
           "hoverinfo": "none",
           "marker": {
            "color": "rgb(255, 255, 255)",
            "line": {
             "color": "rgb(0, 0, 0)",
             "width": 2
            },
            "size": 20
           },
           "mode": "markers+text",
           "text": [],
           "textfont": {
            "color": "rgb(0, 0, 0)"
           },
           "textposition": "middle center",
           "x": [
            0.75
           ],
           "y": [
            1
           ]
          },
          {
           "hoverinfo": "none",
           "marker": {
            "color": "rgb(255, 255, 255)",
            "line": {
             "color": "rgb(0, 0, 0)",
             "width": 2
            },
            "size": 20
           },
           "mode": "markers+text",
           "text": [],
           "textfont": {
            "color": "rgb(0, 0, 0)"
           },
           "textposition": "middle center",
           "x": [
            1
           ],
           "y": [
            0.5
           ]
          },
          {
           "hoverinfo": "none",
           "marker": {
            "color": "rgb(255, 255, 255)",
            "line": {
             "color": "rgb(0, 0, 0)",
             "width": 2
            },
            "size": 20
           },
           "mode": "markers+text",
           "text": [],
           "textfont": {
            "color": "rgb(0, 0, 0)"
           },
           "textposition": "middle center",
           "x": [
            0.75
           ],
           "y": [
            0
           ]
          },
          {
           "hoverinfo": "none",
           "marker": {
            "color": "rgb(255, 255, 255)",
            "line": {
             "color": "rgb(0, 0, 0)",
             "width": 2
            },
            "size": 20
           },
           "mode": "markers+text",
           "text": [],
           "textfont": {
            "color": "rgb(0, 0, 0)"
           },
           "textposition": "middle center",
           "x": [
            0.5
           ],
           "y": [
            0
           ]
          },
          {
           "hoverinfo": "none",
           "marker": {
            "color": "rgb(255, 255, 255)",
            "line": {
             "color": "rgb(0, 0, 0)",
             "width": 2
            },
            "size": 20
           },
           "mode": "markers+text",
           "text": [],
           "textfont": {
            "color": "rgb(0, 0, 0)"
           },
           "textposition": "middle center",
           "x": [
            0.25
           ],
           "y": [
            0
           ]
          },
          {
           "hoverinfo": "none",
           "marker": {
            "color": "rgb(255, 255, 255)",
            "line": {
             "color": "rgb(0, 0, 0)",
             "width": 2
            },
            "size": 20
           },
           "mode": "markers+text",
           "text": [],
           "textfont": {
            "color": "rgb(0, 0, 0)"
           },
           "textposition": "middle center",
           "x": [
            0.375
           ],
           "y": [
            0.5
           ]
          },
          {
           "hoverinfo": "none",
           "mode": "text",
           "text": [
            4,
            8,
            8,
            11,
            2,
            7,
            4,
            9,
            14,
            10,
            2,
            6,
            1,
            7
           ],
           "textfont": {
            "color": "rgb(0, 0, 0)"
           },
           "textposition": "middle center",
           "x": [
            0.08835225700681207,
            0.16164774299318793,
            0.375,
            0.2878787878787879,
            0.4750594305323629,
            0.625,
            0.6625594305323629,
            0.911647742993188,
            0.7878787878787878,
            0.911647742993188,
            0.625,
            0.3999405694676371,
            0.375,
            0.2749405694676371
           ],
           "y": [
            0.768323871496594,
            0.268323871496594,
            1.0724637681159421,
            0.5,
            0.7406101423669093,
            1.0724637681159421,
            0.5093898576330907,
            0.768323871496594,
            0.5,
            0.23167612850340602,
            -0.07246376811594203,
            0.24061014236690928,
            -0.07246376811594203,
            0.2593898576330907
           ]
          }
         ],
         "name": 7
        },
        {
         "data": [
          {
           "hoverinfo": "none",
           "line": {
            "color": "rgb(0, 255, 0)",
            "width": 2
           },
           "mode": "lines",
           "x": [
            0,
            0.25,
            null
           ],
           "y": [
            0.5,
            1,
            null
           ]
          },
          {
           "hoverinfo": "none",
           "line": {
            "color": "rgb(0, 0, 0)",
            "width": 2
           },
           "mode": "lines",
           "x": [
            0,
            0.25,
            null
           ],
           "y": [
            0.5,
            0,
            null
           ]
          },
          {
           "hoverinfo": "none",
           "line": {
            "color": "rgb(0, 0, 0)",
            "width": 2
           },
           "mode": "lines",
           "x": [
            0.25,
            0.5,
            null
           ],
           "y": [
            1,
            1,
            null
           ]
          },
          {
           "hoverinfo": "none",
           "line": {
            "color": "rgb(0, 0, 0)",
            "width": 2
           },
           "mode": "lines",
           "x": [
            0.25,
            0.25,
            null
           ],
           "y": [
            1,
            0,
            null
           ]
          },
          {
           "hoverinfo": "none",
           "line": {
            "color": "rgb(0, 255, 0)",
            "width": 2
           },
           "mode": "lines",
           "x": [
            0.5,
            0.375,
            null
           ],
           "y": [
            1,
            0.5,
            null
           ]
          },
          {
           "hoverinfo": "none",
           "line": {
            "color": "rgb(0, 255, 0)",
            "width": 2
           },
           "mode": "lines",
           "x": [
            0.5,
            0.75,
            null
           ],
           "y": [
            1,
            1,
            null
           ]
          },
          {
           "hoverinfo": "none",
           "line": {
            "color": "rgb(0, 255, 0)",
            "width": 2
           },
           "mode": "lines",
           "x": [
            0.5,
            0.75,
            null
           ],
           "y": [
            1,
            0,
            null
           ]
          },
          {
           "hoverinfo": "none",
           "line": {
            "color": "rgb(0, 0, 0)",
            "width": 2
           },
           "mode": "lines",
           "x": [
            0.75,
            1,
            null
           ],
           "y": [
            1,
            0.5,
            null
           ]
          },
          {
           "hoverinfo": "none",
           "line": {
            "color": "rgb(0, 0, 0)",
            "width": 2
           },
           "mode": "lines",
           "x": [
            0.75,
            0.75,
            null
           ],
           "y": [
            1,
            0,
            null
           ]
          },
          {
           "hoverinfo": "none",
           "line": {
            "color": "rgb(0, 0, 0)",
            "width": 2
           },
           "mode": "lines",
           "x": [
            1,
            0.75,
            null
           ],
           "y": [
            0.5,
            0,
            null
           ]
          },
          {
           "hoverinfo": "none",
           "line": {
            "color": "rgb(0, 255, 0)",
            "width": 2
           },
           "mode": "lines",
           "x": [
            0.75,
            0.5,
            null
           ],
           "y": [
            0,
            0,
            null
           ]
          },
          {
           "hoverinfo": "none",
           "line": {
            "color": "rgb(0, 0, 0)",
            "width": 2
           },
           "mode": "lines",
           "x": [
            0.5,
            0.375,
            null
           ],
           "y": [
            0,
            0.5,
            null
           ]
          },
          {
           "hoverinfo": "none",
           "line": {
            "color": "rgb(0, 255, 0)",
            "width": 2
           },
           "mode": "lines",
           "x": [
            0.5,
            0.25,
            null
           ],
           "y": [
            0,
            0,
            null
           ]
          },
          {
           "hoverinfo": "none",
           "line": {
            "color": "rgb(255, 0, 0)",
            "width": 2
           },
           "mode": "lines",
           "x": [
            0.25,
            0.375,
            null
           ],
           "y": [
            0,
            0.5,
            null
           ]
          },
          {
           "hoverinfo": "none",
           "marker": {
            "color": "rgb(255, 255, 255)",
            "line": {
             "color": "rgb(0, 0, 0)",
             "width": 2
            },
            "size": 20
           },
           "mode": "markers+text",
           "text": [],
           "textfont": {
            "color": "rgb(0, 0, 0)"
           },
           "textposition": "middle center",
           "x": [
            0
           ],
           "y": [
            0.5
           ]
          },
          {
           "hoverinfo": "none",
           "marker": {
            "color": "rgb(255, 255, 255)",
            "line": {
             "color": "rgb(0, 0, 0)",
             "width": 2
            },
            "size": 20
           },
           "mode": "markers+text",
           "text": [],
           "textfont": {
            "color": "rgb(0, 0, 0)"
           },
           "textposition": "middle center",
           "x": [
            0.25
           ],
           "y": [
            1
           ]
          },
          {
           "hoverinfo": "none",
           "marker": {
            "color": "rgb(255, 255, 255)",
            "line": {
             "color": "rgb(0, 0, 0)",
             "width": 2
            },
            "size": 20
           },
           "mode": "markers+text",
           "text": [],
           "textfont": {
            "color": "rgb(0, 0, 0)"
           },
           "textposition": "middle center",
           "x": [
            0.5
           ],
           "y": [
            1
           ]
          },
          {
           "hoverinfo": "none",
           "marker": {
            "color": "rgb(255, 255, 255)",
            "line": {
             "color": "rgb(0, 0, 0)",
             "width": 2
            },
            "size": 20
           },
           "mode": "markers+text",
           "text": [],
           "textfont": {
            "color": "rgb(0, 0, 0)"
           },
           "textposition": "middle center",
           "x": [
            0.75
           ],
           "y": [
            1
           ]
          },
          {
           "hoverinfo": "none",
           "marker": {
            "color": "rgb(255, 255, 255)",
            "line": {
             "color": "rgb(0, 0, 0)",
             "width": 2
            },
            "size": 20
           },
           "mode": "markers+text",
           "text": [],
           "textfont": {
            "color": "rgb(0, 0, 0)"
           },
           "textposition": "middle center",
           "x": [
            1
           ],
           "y": [
            0.5
           ]
          },
          {
           "hoverinfo": "none",
           "marker": {
            "color": "rgb(255, 255, 255)",
            "line": {
             "color": "rgb(0, 0, 0)",
             "width": 2
            },
            "size": 20
           },
           "mode": "markers+text",
           "text": [],
           "textfont": {
            "color": "rgb(0, 0, 0)"
           },
           "textposition": "middle center",
           "x": [
            0.75
           ],
           "y": [
            0
           ]
          },
          {
           "hoverinfo": "none",
           "marker": {
            "color": "rgb(255, 255, 255)",
            "line": {
             "color": "rgb(0, 0, 0)",
             "width": 2
            },
            "size": 20
           },
           "mode": "markers+text",
           "text": [],
           "textfont": {
            "color": "rgb(0, 0, 0)"
           },
           "textposition": "middle center",
           "x": [
            0.5
           ],
           "y": [
            0
           ]
          },
          {
           "hoverinfo": "none",
           "marker": {
            "color": "rgb(255, 255, 255)",
            "line": {
             "color": "rgb(0, 0, 0)",
             "width": 2
            },
            "size": 20
           },
           "mode": "markers+text",
           "text": [],
           "textfont": {
            "color": "rgb(0, 0, 0)"
           },
           "textposition": "middle center",
           "x": [
            0.25
           ],
           "y": [
            0
           ]
          },
          {
           "hoverinfo": "none",
           "marker": {
            "color": "rgb(255, 255, 255)",
            "line": {
             "color": "rgb(0, 0, 0)",
             "width": 2
            },
            "size": 20
           },
           "mode": "markers+text",
           "text": [],
           "textfont": {
            "color": "rgb(0, 0, 0)"
           },
           "textposition": "middle center",
           "x": [
            0.375
           ],
           "y": [
            0.5
           ]
          },
          {
           "hoverinfo": "none",
           "mode": "text",
           "text": [
            4,
            8,
            8,
            11,
            2,
            7,
            4,
            9,
            14,
            10,
            2,
            6,
            1,
            7
           ],
           "textfont": {
            "color": "rgb(0, 0, 0)"
           },
           "textposition": "middle center",
           "x": [
            0.08835225700681207,
            0.16164774299318793,
            0.375,
            0.2878787878787879,
            0.4750594305323629,
            0.625,
            0.6625594305323629,
            0.911647742993188,
            0.7878787878787878,
            0.911647742993188,
            0.625,
            0.3999405694676371,
            0.375,
            0.2749405694676371
           ],
           "y": [
            0.768323871496594,
            0.268323871496594,
            1.0724637681159421,
            0.5,
            0.7406101423669093,
            1.0724637681159421,
            0.5093898576330907,
            0.768323871496594,
            0.5,
            0.23167612850340602,
            -0.07246376811594203,
            0.24061014236690928,
            -0.07246376811594203,
            0.2593898576330907
           ]
          }
         ],
         "name": 8
        },
        {
         "data": [
          {
           "hoverinfo": "none",
           "line": {
            "color": "rgb(0, 255, 0)",
            "width": 2
           },
           "mode": "lines",
           "x": [
            0,
            0.25,
            null
           ],
           "y": [
            0.5,
            1,
            null
           ]
          },
          {
           "hoverinfo": "none",
           "line": {
            "color": "rgb(255, 0, 0)",
            "width": 2
           },
           "mode": "lines",
           "x": [
            0,
            0.25,
            null
           ],
           "y": [
            0.5,
            0,
            null
           ]
          },
          {
           "hoverinfo": "none",
           "line": {
            "color": "rgb(0, 0, 0)",
            "width": 2
           },
           "mode": "lines",
           "x": [
            0.25,
            0.5,
            null
           ],
           "y": [
            1,
            1,
            null
           ]
          },
          {
           "hoverinfo": "none",
           "line": {
            "color": "rgb(0, 0, 0)",
            "width": 2
           },
           "mode": "lines",
           "x": [
            0.25,
            0.25,
            null
           ],
           "y": [
            1,
            0,
            null
           ]
          },
          {
           "hoverinfo": "none",
           "line": {
            "color": "rgb(0, 255, 0)",
            "width": 2
           },
           "mode": "lines",
           "x": [
            0.5,
            0.375,
            null
           ],
           "y": [
            1,
            0.5,
            null
           ]
          },
          {
           "hoverinfo": "none",
           "line": {
            "color": "rgb(0, 255, 0)",
            "width": 2
           },
           "mode": "lines",
           "x": [
            0.5,
            0.75,
            null
           ],
           "y": [
            1,
            1,
            null
           ]
          },
          {
           "hoverinfo": "none",
           "line": {
            "color": "rgb(0, 255, 0)",
            "width": 2
           },
           "mode": "lines",
           "x": [
            0.5,
            0.75,
            null
           ],
           "y": [
            1,
            0,
            null
           ]
          },
          {
           "hoverinfo": "none",
           "line": {
            "color": "rgb(0, 0, 0)",
            "width": 2
           },
           "mode": "lines",
           "x": [
            0.75,
            1,
            null
           ],
           "y": [
            1,
            0.5,
            null
           ]
          },
          {
           "hoverinfo": "none",
           "line": {
            "color": "rgb(0, 0, 0)",
            "width": 2
           },
           "mode": "lines",
           "x": [
            0.75,
            0.75,
            null
           ],
           "y": [
            1,
            0,
            null
           ]
          },
          {
           "hoverinfo": "none",
           "line": {
            "color": "rgb(0, 0, 0)",
            "width": 2
           },
           "mode": "lines",
           "x": [
            1,
            0.75,
            null
           ],
           "y": [
            0.5,
            0,
            null
           ]
          },
          {
           "hoverinfo": "none",
           "line": {
            "color": "rgb(0, 255, 0)",
            "width": 2
           },
           "mode": "lines",
           "x": [
            0.75,
            0.5,
            null
           ],
           "y": [
            0,
            0,
            null
           ]
          },
          {
           "hoverinfo": "none",
           "line": {
            "color": "rgb(0, 0, 0)",
            "width": 2
           },
           "mode": "lines",
           "x": [
            0.5,
            0.375,
            null
           ],
           "y": [
            0,
            0.5,
            null
           ]
          },
          {
           "hoverinfo": "none",
           "line": {
            "color": "rgb(0, 255, 0)",
            "width": 2
           },
           "mode": "lines",
           "x": [
            0.5,
            0.25,
            null
           ],
           "y": [
            0,
            0,
            null
           ]
          },
          {
           "hoverinfo": "none",
           "line": {
            "color": "rgb(0, 0, 0)",
            "width": 2
           },
           "mode": "lines",
           "x": [
            0.25,
            0.375,
            null
           ],
           "y": [
            0,
            0.5,
            null
           ]
          },
          {
           "hoverinfo": "none",
           "marker": {
            "color": "rgb(255, 255, 255)",
            "line": {
             "color": "rgb(0, 0, 0)",
             "width": 2
            },
            "size": 20
           },
           "mode": "markers+text",
           "text": [],
           "textfont": {
            "color": "rgb(0, 0, 0)"
           },
           "textposition": "middle center",
           "x": [
            0
           ],
           "y": [
            0.5
           ]
          },
          {
           "hoverinfo": "none",
           "marker": {
            "color": "rgb(255, 255, 255)",
            "line": {
             "color": "rgb(0, 0, 0)",
             "width": 2
            },
            "size": 20
           },
           "mode": "markers+text",
           "text": [],
           "textfont": {
            "color": "rgb(0, 0, 0)"
           },
           "textposition": "middle center",
           "x": [
            0.25
           ],
           "y": [
            1
           ]
          },
          {
           "hoverinfo": "none",
           "marker": {
            "color": "rgb(255, 255, 255)",
            "line": {
             "color": "rgb(0, 0, 0)",
             "width": 2
            },
            "size": 20
           },
           "mode": "markers+text",
           "text": [],
           "textfont": {
            "color": "rgb(0, 0, 0)"
           },
           "textposition": "middle center",
           "x": [
            0.5
           ],
           "y": [
            1
           ]
          },
          {
           "hoverinfo": "none",
           "marker": {
            "color": "rgb(255, 255, 255)",
            "line": {
             "color": "rgb(0, 0, 0)",
             "width": 2
            },
            "size": 20
           },
           "mode": "markers+text",
           "text": [],
           "textfont": {
            "color": "rgb(0, 0, 0)"
           },
           "textposition": "middle center",
           "x": [
            0.75
           ],
           "y": [
            1
           ]
          },
          {
           "hoverinfo": "none",
           "marker": {
            "color": "rgb(255, 255, 255)",
            "line": {
             "color": "rgb(0, 0, 0)",
             "width": 2
            },
            "size": 20
           },
           "mode": "markers+text",
           "text": [],
           "textfont": {
            "color": "rgb(0, 0, 0)"
           },
           "textposition": "middle center",
           "x": [
            1
           ],
           "y": [
            0.5
           ]
          },
          {
           "hoverinfo": "none",
           "marker": {
            "color": "rgb(255, 255, 255)",
            "line": {
             "color": "rgb(0, 0, 0)",
             "width": 2
            },
            "size": 20
           },
           "mode": "markers+text",
           "text": [],
           "textfont": {
            "color": "rgb(0, 0, 0)"
           },
           "textposition": "middle center",
           "x": [
            0.75
           ],
           "y": [
            0
           ]
          },
          {
           "hoverinfo": "none",
           "marker": {
            "color": "rgb(255, 255, 255)",
            "line": {
             "color": "rgb(0, 0, 0)",
             "width": 2
            },
            "size": 20
           },
           "mode": "markers+text",
           "text": [],
           "textfont": {
            "color": "rgb(0, 0, 0)"
           },
           "textposition": "middle center",
           "x": [
            0.5
           ],
           "y": [
            0
           ]
          },
          {
           "hoverinfo": "none",
           "marker": {
            "color": "rgb(255, 255, 255)",
            "line": {
             "color": "rgb(0, 0, 0)",
             "width": 2
            },
            "size": 20
           },
           "mode": "markers+text",
           "text": [],
           "textfont": {
            "color": "rgb(0, 0, 0)"
           },
           "textposition": "middle center",
           "x": [
            0.25
           ],
           "y": [
            0
           ]
          },
          {
           "hoverinfo": "none",
           "marker": {
            "color": "rgb(255, 255, 255)",
            "line": {
             "color": "rgb(0, 0, 0)",
             "width": 2
            },
            "size": 20
           },
           "mode": "markers+text",
           "text": [],
           "textfont": {
            "color": "rgb(0, 0, 0)"
           },
           "textposition": "middle center",
           "x": [
            0.375
           ],
           "y": [
            0.5
           ]
          },
          {
           "hoverinfo": "none",
           "mode": "text",
           "text": [
            4,
            8,
            8,
            11,
            2,
            7,
            4,
            9,
            14,
            10,
            2,
            6,
            1,
            7
           ],
           "textfont": {
            "color": "rgb(0, 0, 0)"
           },
           "textposition": "middle center",
           "x": [
            0.08835225700681207,
            0.16164774299318793,
            0.375,
            0.2878787878787879,
            0.4750594305323629,
            0.625,
            0.6625594305323629,
            0.911647742993188,
            0.7878787878787878,
            0.911647742993188,
            0.625,
            0.3999405694676371,
            0.375,
            0.2749405694676371
           ],
           "y": [
            0.768323871496594,
            0.268323871496594,
            1.0724637681159421,
            0.5,
            0.7406101423669093,
            1.0724637681159421,
            0.5093898576330907,
            0.768323871496594,
            0.5,
            0.23167612850340602,
            -0.07246376811594203,
            0.24061014236690928,
            -0.07246376811594203,
            0.2593898576330907
           ]
          }
         ],
         "name": 9
        },
        {
         "data": [
          {
           "hoverinfo": "none",
           "line": {
            "color": "rgb(0, 255, 0)",
            "width": 2
           },
           "mode": "lines",
           "x": [
            0,
            0.25,
            null
           ],
           "y": [
            0.5,
            1,
            null
           ]
          },
          {
           "hoverinfo": "none",
           "line": {
            "color": "rgb(0, 255, 0)",
            "width": 2
           },
           "mode": "lines",
           "x": [
            0,
            0.25,
            null
           ],
           "y": [
            0.5,
            0,
            null
           ]
          },
          {
           "hoverinfo": "none",
           "line": {
            "color": "rgb(255, 0, 0)",
            "width": 2
           },
           "mode": "lines",
           "x": [
            0.25,
            0.5,
            null
           ],
           "y": [
            1,
            1,
            null
           ]
          },
          {
           "hoverinfo": "none",
           "line": {
            "color": "rgb(0, 0, 0)",
            "width": 2
           },
           "mode": "lines",
           "x": [
            0.25,
            0.25,
            null
           ],
           "y": [
            1,
            0,
            null
           ]
          },
          {
           "hoverinfo": "none",
           "line": {
            "color": "rgb(0, 255, 0)",
            "width": 2
           },
           "mode": "lines",
           "x": [
            0.5,
            0.375,
            null
           ],
           "y": [
            1,
            0.5,
            null
           ]
          },
          {
           "hoverinfo": "none",
           "line": {
            "color": "rgb(0, 255, 0)",
            "width": 2
           },
           "mode": "lines",
           "x": [
            0.5,
            0.75,
            null
           ],
           "y": [
            1,
            1,
            null
           ]
          },
          {
           "hoverinfo": "none",
           "line": {
            "color": "rgb(0, 255, 0)",
            "width": 2
           },
           "mode": "lines",
           "x": [
            0.5,
            0.75,
            null
           ],
           "y": [
            1,
            0,
            null
           ]
          },
          {
           "hoverinfo": "none",
           "line": {
            "color": "rgb(0, 0, 0)",
            "width": 2
           },
           "mode": "lines",
           "x": [
            0.75,
            1,
            null
           ],
           "y": [
            1,
            0.5,
            null
           ]
          },
          {
           "hoverinfo": "none",
           "line": {
            "color": "rgb(0, 0, 0)",
            "width": 2
           },
           "mode": "lines",
           "x": [
            0.75,
            0.75,
            null
           ],
           "y": [
            1,
            0,
            null
           ]
          },
          {
           "hoverinfo": "none",
           "line": {
            "color": "rgb(0, 0, 0)",
            "width": 2
           },
           "mode": "lines",
           "x": [
            1,
            0.75,
            null
           ],
           "y": [
            0.5,
            0,
            null
           ]
          },
          {
           "hoverinfo": "none",
           "line": {
            "color": "rgb(0, 255, 0)",
            "width": 2
           },
           "mode": "lines",
           "x": [
            0.75,
            0.5,
            null
           ],
           "y": [
            0,
            0,
            null
           ]
          },
          {
           "hoverinfo": "none",
           "line": {
            "color": "rgb(0, 0, 0)",
            "width": 2
           },
           "mode": "lines",
           "x": [
            0.5,
            0.375,
            null
           ],
           "y": [
            0,
            0.5,
            null
           ]
          },
          {
           "hoverinfo": "none",
           "line": {
            "color": "rgb(0, 255, 0)",
            "width": 2
           },
           "mode": "lines",
           "x": [
            0.5,
            0.25,
            null
           ],
           "y": [
            0,
            0,
            null
           ]
          },
          {
           "hoverinfo": "none",
           "line": {
            "color": "rgb(0, 0, 0)",
            "width": 2
           },
           "mode": "lines",
           "x": [
            0.25,
            0.375,
            null
           ],
           "y": [
            0,
            0.5,
            null
           ]
          },
          {
           "hoverinfo": "none",
           "marker": {
            "color": "rgb(255, 255, 255)",
            "line": {
             "color": "rgb(0, 0, 0)",
             "width": 2
            },
            "size": 20
           },
           "mode": "markers+text",
           "text": [],
           "textfont": {
            "color": "rgb(0, 0, 0)"
           },
           "textposition": "middle center",
           "x": [
            0
           ],
           "y": [
            0.5
           ]
          },
          {
           "hoverinfo": "none",
           "marker": {
            "color": "rgb(255, 255, 255)",
            "line": {
             "color": "rgb(0, 0, 0)",
             "width": 2
            },
            "size": 20
           },
           "mode": "markers+text",
           "text": [],
           "textfont": {
            "color": "rgb(0, 0, 0)"
           },
           "textposition": "middle center",
           "x": [
            0.25
           ],
           "y": [
            1
           ]
          },
          {
           "hoverinfo": "none",
           "marker": {
            "color": "rgb(255, 255, 255)",
            "line": {
             "color": "rgb(0, 0, 0)",
             "width": 2
            },
            "size": 20
           },
           "mode": "markers+text",
           "text": [],
           "textfont": {
            "color": "rgb(0, 0, 0)"
           },
           "textposition": "middle center",
           "x": [
            0.5
           ],
           "y": [
            1
           ]
          },
          {
           "hoverinfo": "none",
           "marker": {
            "color": "rgb(255, 255, 255)",
            "line": {
             "color": "rgb(0, 0, 0)",
             "width": 2
            },
            "size": 20
           },
           "mode": "markers+text",
           "text": [],
           "textfont": {
            "color": "rgb(0, 0, 0)"
           },
           "textposition": "middle center",
           "x": [
            0.75
           ],
           "y": [
            1
           ]
          },
          {
           "hoverinfo": "none",
           "marker": {
            "color": "rgb(255, 255, 255)",
            "line": {
             "color": "rgb(0, 0, 0)",
             "width": 2
            },
            "size": 20
           },
           "mode": "markers+text",
           "text": [],
           "textfont": {
            "color": "rgb(0, 0, 0)"
           },
           "textposition": "middle center",
           "x": [
            1
           ],
           "y": [
            0.5
           ]
          },
          {
           "hoverinfo": "none",
           "marker": {
            "color": "rgb(255, 255, 255)",
            "line": {
             "color": "rgb(0, 0, 0)",
             "width": 2
            },
            "size": 20
           },
           "mode": "markers+text",
           "text": [],
           "textfont": {
            "color": "rgb(0, 0, 0)"
           },
           "textposition": "middle center",
           "x": [
            0.75
           ],
           "y": [
            0
           ]
          },
          {
           "hoverinfo": "none",
           "marker": {
            "color": "rgb(255, 255, 255)",
            "line": {
             "color": "rgb(0, 0, 0)",
             "width": 2
            },
            "size": 20
           },
           "mode": "markers+text",
           "text": [],
           "textfont": {
            "color": "rgb(0, 0, 0)"
           },
           "textposition": "middle center",
           "x": [
            0.5
           ],
           "y": [
            0
           ]
          },
          {
           "hoverinfo": "none",
           "marker": {
            "color": "rgb(255, 255, 255)",
            "line": {
             "color": "rgb(0, 0, 0)",
             "width": 2
            },
            "size": 20
           },
           "mode": "markers+text",
           "text": [],
           "textfont": {
            "color": "rgb(0, 0, 0)"
           },
           "textposition": "middle center",
           "x": [
            0.25
           ],
           "y": [
            0
           ]
          },
          {
           "hoverinfo": "none",
           "marker": {
            "color": "rgb(255, 255, 255)",
            "line": {
             "color": "rgb(0, 0, 0)",
             "width": 2
            },
            "size": 20
           },
           "mode": "markers+text",
           "text": [],
           "textfont": {
            "color": "rgb(0, 0, 0)"
           },
           "textposition": "middle center",
           "x": [
            0.375
           ],
           "y": [
            0.5
           ]
          },
          {
           "hoverinfo": "none",
           "mode": "text",
           "text": [
            4,
            8,
            8,
            11,
            2,
            7,
            4,
            9,
            14,
            10,
            2,
            6,
            1,
            7
           ],
           "textfont": {
            "color": "rgb(0, 0, 0)"
           },
           "textposition": "middle center",
           "x": [
            0.08835225700681207,
            0.16164774299318793,
            0.375,
            0.2878787878787879,
            0.4750594305323629,
            0.625,
            0.6625594305323629,
            0.911647742993188,
            0.7878787878787878,
            0.911647742993188,
            0.625,
            0.3999405694676371,
            0.375,
            0.2749405694676371
           ],
           "y": [
            0.768323871496594,
            0.268323871496594,
            1.0724637681159421,
            0.5,
            0.7406101423669093,
            1.0724637681159421,
            0.5093898576330907,
            0.768323871496594,
            0.5,
            0.23167612850340602,
            -0.07246376811594203,
            0.24061014236690928,
            -0.07246376811594203,
            0.2593898576330907
           ]
          }
         ],
         "name": 10
        },
        {
         "data": [
          {
           "hoverinfo": "none",
           "line": {
            "color": "rgb(0, 255, 0)",
            "width": 2
           },
           "mode": "lines",
           "x": [
            0,
            0.25,
            null
           ],
           "y": [
            0.5,
            1,
            null
           ]
          },
          {
           "hoverinfo": "none",
           "line": {
            "color": "rgb(0, 255, 0)",
            "width": 2
           },
           "mode": "lines",
           "x": [
            0,
            0.25,
            null
           ],
           "y": [
            0.5,
            0,
            null
           ]
          },
          {
           "hoverinfo": "none",
           "line": {
            "color": "rgb(0, 0, 0)",
            "width": 2
           },
           "mode": "lines",
           "x": [
            0.25,
            0.5,
            null
           ],
           "y": [
            1,
            1,
            null
           ]
          },
          {
           "hoverinfo": "none",
           "line": {
            "color": "rgb(0, 0, 0)",
            "width": 2
           },
           "mode": "lines",
           "x": [
            0.25,
            0.25,
            null
           ],
           "y": [
            1,
            0,
            null
           ]
          },
          {
           "hoverinfo": "none",
           "line": {
            "color": "rgb(0, 255, 0)",
            "width": 2
           },
           "mode": "lines",
           "x": [
            0.5,
            0.375,
            null
           ],
           "y": [
            1,
            0.5,
            null
           ]
          },
          {
           "hoverinfo": "none",
           "line": {
            "color": "rgb(0, 255, 0)",
            "width": 2
           },
           "mode": "lines",
           "x": [
            0.5,
            0.75,
            null
           ],
           "y": [
            1,
            1,
            null
           ]
          },
          {
           "hoverinfo": "none",
           "line": {
            "color": "rgb(0, 255, 0)",
            "width": 2
           },
           "mode": "lines",
           "x": [
            0.5,
            0.75,
            null
           ],
           "y": [
            1,
            0,
            null
           ]
          },
          {
           "hoverinfo": "none",
           "line": {
            "color": "rgb(255, 0, 0)",
            "width": 2
           },
           "mode": "lines",
           "x": [
            0.75,
            1,
            null
           ],
           "y": [
            1,
            0.5,
            null
           ]
          },
          {
           "hoverinfo": "none",
           "line": {
            "color": "rgb(0, 0, 0)",
            "width": 2
           },
           "mode": "lines",
           "x": [
            0.75,
            0.75,
            null
           ],
           "y": [
            1,
            0,
            null
           ]
          },
          {
           "hoverinfo": "none",
           "line": {
            "color": "rgb(0, 0, 0)",
            "width": 2
           },
           "mode": "lines",
           "x": [
            1,
            0.75,
            null
           ],
           "y": [
            0.5,
            0,
            null
           ]
          },
          {
           "hoverinfo": "none",
           "line": {
            "color": "rgb(0, 255, 0)",
            "width": 2
           },
           "mode": "lines",
           "x": [
            0.75,
            0.5,
            null
           ],
           "y": [
            0,
            0,
            null
           ]
          },
          {
           "hoverinfo": "none",
           "line": {
            "color": "rgb(0, 0, 0)",
            "width": 2
           },
           "mode": "lines",
           "x": [
            0.5,
            0.375,
            null
           ],
           "y": [
            0,
            0.5,
            null
           ]
          },
          {
           "hoverinfo": "none",
           "line": {
            "color": "rgb(0, 255, 0)",
            "width": 2
           },
           "mode": "lines",
           "x": [
            0.5,
            0.25,
            null
           ],
           "y": [
            0,
            0,
            null
           ]
          },
          {
           "hoverinfo": "none",
           "line": {
            "color": "rgb(0, 0, 0)",
            "width": 2
           },
           "mode": "lines",
           "x": [
            0.25,
            0.375,
            null
           ],
           "y": [
            0,
            0.5,
            null
           ]
          },
          {
           "hoverinfo": "none",
           "marker": {
            "color": "rgb(255, 255, 255)",
            "line": {
             "color": "rgb(0, 0, 0)",
             "width": 2
            },
            "size": 20
           },
           "mode": "markers+text",
           "text": [],
           "textfont": {
            "color": "rgb(0, 0, 0)"
           },
           "textposition": "middle center",
           "x": [
            0
           ],
           "y": [
            0.5
           ]
          },
          {
           "hoverinfo": "none",
           "marker": {
            "color": "rgb(255, 255, 255)",
            "line": {
             "color": "rgb(0, 0, 0)",
             "width": 2
            },
            "size": 20
           },
           "mode": "markers+text",
           "text": [],
           "textfont": {
            "color": "rgb(0, 0, 0)"
           },
           "textposition": "middle center",
           "x": [
            0.25
           ],
           "y": [
            1
           ]
          },
          {
           "hoverinfo": "none",
           "marker": {
            "color": "rgb(255, 255, 255)",
            "line": {
             "color": "rgb(0, 0, 0)",
             "width": 2
            },
            "size": 20
           },
           "mode": "markers+text",
           "text": [],
           "textfont": {
            "color": "rgb(0, 0, 0)"
           },
           "textposition": "middle center",
           "x": [
            0.5
           ],
           "y": [
            1
           ]
          },
          {
           "hoverinfo": "none",
           "marker": {
            "color": "rgb(255, 255, 255)",
            "line": {
             "color": "rgb(0, 0, 0)",
             "width": 2
            },
            "size": 20
           },
           "mode": "markers+text",
           "text": [],
           "textfont": {
            "color": "rgb(0, 0, 0)"
           },
           "textposition": "middle center",
           "x": [
            0.75
           ],
           "y": [
            1
           ]
          },
          {
           "hoverinfo": "none",
           "marker": {
            "color": "rgb(255, 255, 255)",
            "line": {
             "color": "rgb(0, 0, 0)",
             "width": 2
            },
            "size": 20
           },
           "mode": "markers+text",
           "text": [],
           "textfont": {
            "color": "rgb(0, 0, 0)"
           },
           "textposition": "middle center",
           "x": [
            1
           ],
           "y": [
            0.5
           ]
          },
          {
           "hoverinfo": "none",
           "marker": {
            "color": "rgb(255, 255, 255)",
            "line": {
             "color": "rgb(0, 0, 0)",
             "width": 2
            },
            "size": 20
           },
           "mode": "markers+text",
           "text": [],
           "textfont": {
            "color": "rgb(0, 0, 0)"
           },
           "textposition": "middle center",
           "x": [
            0.75
           ],
           "y": [
            0
           ]
          },
          {
           "hoverinfo": "none",
           "marker": {
            "color": "rgb(255, 255, 255)",
            "line": {
             "color": "rgb(0, 0, 0)",
             "width": 2
            },
            "size": 20
           },
           "mode": "markers+text",
           "text": [],
           "textfont": {
            "color": "rgb(0, 0, 0)"
           },
           "textposition": "middle center",
           "x": [
            0.5
           ],
           "y": [
            0
           ]
          },
          {
           "hoverinfo": "none",
           "marker": {
            "color": "rgb(255, 255, 255)",
            "line": {
             "color": "rgb(0, 0, 0)",
             "width": 2
            },
            "size": 20
           },
           "mode": "markers+text",
           "text": [],
           "textfont": {
            "color": "rgb(0, 0, 0)"
           },
           "textposition": "middle center",
           "x": [
            0.25
           ],
           "y": [
            0
           ]
          },
          {
           "hoverinfo": "none",
           "marker": {
            "color": "rgb(255, 255, 255)",
            "line": {
             "color": "rgb(0, 0, 0)",
             "width": 2
            },
            "size": 20
           },
           "mode": "markers+text",
           "text": [],
           "textfont": {
            "color": "rgb(0, 0, 0)"
           },
           "textposition": "middle center",
           "x": [
            0.375
           ],
           "y": [
            0.5
           ]
          },
          {
           "hoverinfo": "none",
           "mode": "text",
           "text": [
            4,
            8,
            8,
            11,
            2,
            7,
            4,
            9,
            14,
            10,
            2,
            6,
            1,
            7
           ],
           "textfont": {
            "color": "rgb(0, 0, 0)"
           },
           "textposition": "middle center",
           "x": [
            0.08835225700681207,
            0.16164774299318793,
            0.375,
            0.2878787878787879,
            0.4750594305323629,
            0.625,
            0.6625594305323629,
            0.911647742993188,
            0.7878787878787878,
            0.911647742993188,
            0.625,
            0.3999405694676371,
            0.375,
            0.2749405694676371
           ],
           "y": [
            0.768323871496594,
            0.268323871496594,
            1.0724637681159421,
            0.5,
            0.7406101423669093,
            1.0724637681159421,
            0.5093898576330907,
            0.768323871496594,
            0.5,
            0.23167612850340602,
            -0.07246376811594203,
            0.24061014236690928,
            -0.07246376811594203,
            0.2593898576330907
           ]
          }
         ],
         "name": 11
        },
        {
         "data": [
          {
           "hoverinfo": "none",
           "line": {
            "color": "rgb(0, 255, 0)",
            "width": 2
           },
           "mode": "lines",
           "x": [
            0,
            0.25,
            null
           ],
           "y": [
            0.5,
            1,
            null
           ]
          },
          {
           "hoverinfo": "none",
           "line": {
            "color": "rgb(0, 255, 0)",
            "width": 2
           },
           "mode": "lines",
           "x": [
            0,
            0.25,
            null
           ],
           "y": [
            0.5,
            0,
            null
           ]
          },
          {
           "hoverinfo": "none",
           "line": {
            "color": "rgb(0, 0, 0)",
            "width": 2
           },
           "mode": "lines",
           "x": [
            0.25,
            0.5,
            null
           ],
           "y": [
            1,
            1,
            null
           ]
          },
          {
           "hoverinfo": "none",
           "line": {
            "color": "rgb(0, 0, 0)",
            "width": 2
           },
           "mode": "lines",
           "x": [
            0.25,
            0.25,
            null
           ],
           "y": [
            1,
            0,
            null
           ]
          },
          {
           "hoverinfo": "none",
           "line": {
            "color": "rgb(0, 255, 0)",
            "width": 2
           },
           "mode": "lines",
           "x": [
            0.5,
            0.375,
            null
           ],
           "y": [
            1,
            0.5,
            null
           ]
          },
          {
           "hoverinfo": "none",
           "line": {
            "color": "rgb(0, 255, 0)",
            "width": 2
           },
           "mode": "lines",
           "x": [
            0.5,
            0.75,
            null
           ],
           "y": [
            1,
            1,
            null
           ]
          },
          {
           "hoverinfo": "none",
           "line": {
            "color": "rgb(0, 255, 0)",
            "width": 2
           },
           "mode": "lines",
           "x": [
            0.5,
            0.75,
            null
           ],
           "y": [
            1,
            0,
            null
           ]
          },
          {
           "hoverinfo": "none",
           "line": {
            "color": "rgb(0, 255, 0)",
            "width": 2
           },
           "mode": "lines",
           "x": [
            0.75,
            1,
            null
           ],
           "y": [
            1,
            0.5,
            null
           ]
          },
          {
           "hoverinfo": "none",
           "line": {
            "color": "rgb(0, 0, 0)",
            "width": 2
           },
           "mode": "lines",
           "x": [
            0.75,
            0.75,
            null
           ],
           "y": [
            1,
            0,
            null
           ]
          },
          {
           "hoverinfo": "none",
           "line": {
            "color": "rgb(255, 0, 0)",
            "width": 2
           },
           "mode": "lines",
           "x": [
            1,
            0.75,
            null
           ],
           "y": [
            0.5,
            0,
            null
           ]
          },
          {
           "hoverinfo": "none",
           "line": {
            "color": "rgb(0, 255, 0)",
            "width": 2
           },
           "mode": "lines",
           "x": [
            0.75,
            0.5,
            null
           ],
           "y": [
            0,
            0,
            null
           ]
          },
          {
           "hoverinfo": "none",
           "line": {
            "color": "rgb(0, 0, 0)",
            "width": 2
           },
           "mode": "lines",
           "x": [
            0.5,
            0.375,
            null
           ],
           "y": [
            0,
            0.5,
            null
           ]
          },
          {
           "hoverinfo": "none",
           "line": {
            "color": "rgb(0, 255, 0)",
            "width": 2
           },
           "mode": "lines",
           "x": [
            0.5,
            0.25,
            null
           ],
           "y": [
            0,
            0,
            null
           ]
          },
          {
           "hoverinfo": "none",
           "line": {
            "color": "rgb(0, 0, 0)",
            "width": 2
           },
           "mode": "lines",
           "x": [
            0.25,
            0.375,
            null
           ],
           "y": [
            0,
            0.5,
            null
           ]
          },
          {
           "hoverinfo": "none",
           "marker": {
            "color": "rgb(255, 255, 255)",
            "line": {
             "color": "rgb(0, 0, 0)",
             "width": 2
            },
            "size": 20
           },
           "mode": "markers+text",
           "text": [],
           "textfont": {
            "color": "rgb(0, 0, 0)"
           },
           "textposition": "middle center",
           "x": [
            0
           ],
           "y": [
            0.5
           ]
          },
          {
           "hoverinfo": "none",
           "marker": {
            "color": "rgb(255, 255, 255)",
            "line": {
             "color": "rgb(0, 0, 0)",
             "width": 2
            },
            "size": 20
           },
           "mode": "markers+text",
           "text": [],
           "textfont": {
            "color": "rgb(0, 0, 0)"
           },
           "textposition": "middle center",
           "x": [
            0.25
           ],
           "y": [
            1
           ]
          },
          {
           "hoverinfo": "none",
           "marker": {
            "color": "rgb(255, 255, 255)",
            "line": {
             "color": "rgb(0, 0, 0)",
             "width": 2
            },
            "size": 20
           },
           "mode": "markers+text",
           "text": [],
           "textfont": {
            "color": "rgb(0, 0, 0)"
           },
           "textposition": "middle center",
           "x": [
            0.5
           ],
           "y": [
            1
           ]
          },
          {
           "hoverinfo": "none",
           "marker": {
            "color": "rgb(255, 255, 255)",
            "line": {
             "color": "rgb(0, 0, 0)",
             "width": 2
            },
            "size": 20
           },
           "mode": "markers+text",
           "text": [],
           "textfont": {
            "color": "rgb(0, 0, 0)"
           },
           "textposition": "middle center",
           "x": [
            0.75
           ],
           "y": [
            1
           ]
          },
          {
           "hoverinfo": "none",
           "marker": {
            "color": "rgb(255, 255, 255)",
            "line": {
             "color": "rgb(0, 0, 0)",
             "width": 2
            },
            "size": 20
           },
           "mode": "markers+text",
           "text": [],
           "textfont": {
            "color": "rgb(0, 0, 0)"
           },
           "textposition": "middle center",
           "x": [
            1
           ],
           "y": [
            0.5
           ]
          },
          {
           "hoverinfo": "none",
           "marker": {
            "color": "rgb(255, 255, 255)",
            "line": {
             "color": "rgb(0, 0, 0)",
             "width": 2
            },
            "size": 20
           },
           "mode": "markers+text",
           "text": [],
           "textfont": {
            "color": "rgb(0, 0, 0)"
           },
           "textposition": "middle center",
           "x": [
            0.75
           ],
           "y": [
            0
           ]
          },
          {
           "hoverinfo": "none",
           "marker": {
            "color": "rgb(255, 255, 255)",
            "line": {
             "color": "rgb(0, 0, 0)",
             "width": 2
            },
            "size": 20
           },
           "mode": "markers+text",
           "text": [],
           "textfont": {
            "color": "rgb(0, 0, 0)"
           },
           "textposition": "middle center",
           "x": [
            0.5
           ],
           "y": [
            0
           ]
          },
          {
           "hoverinfo": "none",
           "marker": {
            "color": "rgb(255, 255, 255)",
            "line": {
             "color": "rgb(0, 0, 0)",
             "width": 2
            },
            "size": 20
           },
           "mode": "markers+text",
           "text": [],
           "textfont": {
            "color": "rgb(0, 0, 0)"
           },
           "textposition": "middle center",
           "x": [
            0.25
           ],
           "y": [
            0
           ]
          },
          {
           "hoverinfo": "none",
           "marker": {
            "color": "rgb(255, 255, 255)",
            "line": {
             "color": "rgb(0, 0, 0)",
             "width": 2
            },
            "size": 20
           },
           "mode": "markers+text",
           "text": [],
           "textfont": {
            "color": "rgb(0, 0, 0)"
           },
           "textposition": "middle center",
           "x": [
            0.375
           ],
           "y": [
            0.5
           ]
          },
          {
           "hoverinfo": "none",
           "mode": "text",
           "text": [
            4,
            8,
            8,
            11,
            2,
            7,
            4,
            9,
            14,
            10,
            2,
            6,
            1,
            7
           ],
           "textfont": {
            "color": "rgb(0, 0, 0)"
           },
           "textposition": "middle center",
           "x": [
            0.08835225700681207,
            0.16164774299318793,
            0.375,
            0.2878787878787879,
            0.4750594305323629,
            0.625,
            0.6625594305323629,
            0.911647742993188,
            0.7878787878787878,
            0.911647742993188,
            0.625,
            0.3999405694676371,
            0.375,
            0.2749405694676371
           ],
           "y": [
            0.768323871496594,
            0.268323871496594,
            1.0724637681159421,
            0.5,
            0.7406101423669093,
            1.0724637681159421,
            0.5093898576330907,
            0.768323871496594,
            0.5,
            0.23167612850340602,
            -0.07246376811594203,
            0.24061014236690928,
            -0.07246376811594203,
            0.2593898576330907
           ]
          }
         ],
         "name": 12
        },
        {
         "data": [
          {
           "hoverinfo": "none",
           "line": {
            "color": "rgb(0, 255, 0)",
            "width": 2
           },
           "mode": "lines",
           "x": [
            0,
            0.25,
            null
           ],
           "y": [
            0.5,
            1,
            null
           ]
          },
          {
           "hoverinfo": "none",
           "line": {
            "color": "rgb(0, 255, 0)",
            "width": 2
           },
           "mode": "lines",
           "x": [
            0,
            0.25,
            null
           ],
           "y": [
            0.5,
            0,
            null
           ]
          },
          {
           "hoverinfo": "none",
           "line": {
            "color": "rgb(0, 0, 0)",
            "width": 2
           },
           "mode": "lines",
           "x": [
            0.25,
            0.5,
            null
           ],
           "y": [
            1,
            1,
            null
           ]
          },
          {
           "hoverinfo": "none",
           "line": {
            "color": "rgb(255, 0, 0)",
            "width": 2
           },
           "mode": "lines",
           "x": [
            0.25,
            0.25,
            null
           ],
           "y": [
            1,
            0,
            null
           ]
          },
          {
           "hoverinfo": "none",
           "line": {
            "color": "rgb(0, 255, 0)",
            "width": 2
           },
           "mode": "lines",
           "x": [
            0.5,
            0.375,
            null
           ],
           "y": [
            1,
            0.5,
            null
           ]
          },
          {
           "hoverinfo": "none",
           "line": {
            "color": "rgb(0, 255, 0)",
            "width": 2
           },
           "mode": "lines",
           "x": [
            0.5,
            0.75,
            null
           ],
           "y": [
            1,
            1,
            null
           ]
          },
          {
           "hoverinfo": "none",
           "line": {
            "color": "rgb(0, 255, 0)",
            "width": 2
           },
           "mode": "lines",
           "x": [
            0.5,
            0.75,
            null
           ],
           "y": [
            1,
            0,
            null
           ]
          },
          {
           "hoverinfo": "none",
           "line": {
            "color": "rgb(0, 255, 0)",
            "width": 2
           },
           "mode": "lines",
           "x": [
            0.75,
            1,
            null
           ],
           "y": [
            1,
            0.5,
            null
           ]
          },
          {
           "hoverinfo": "none",
           "line": {
            "color": "rgb(0, 0, 0)",
            "width": 2
           },
           "mode": "lines",
           "x": [
            0.75,
            0.75,
            null
           ],
           "y": [
            1,
            0,
            null
           ]
          },
          {
           "hoverinfo": "none",
           "line": {
            "color": "rgb(0, 0, 0)",
            "width": 2
           },
           "mode": "lines",
           "x": [
            1,
            0.75,
            null
           ],
           "y": [
            0.5,
            0,
            null
           ]
          },
          {
           "hoverinfo": "none",
           "line": {
            "color": "rgb(0, 255, 0)",
            "width": 2
           },
           "mode": "lines",
           "x": [
            0.75,
            0.5,
            null
           ],
           "y": [
            0,
            0,
            null
           ]
          },
          {
           "hoverinfo": "none",
           "line": {
            "color": "rgb(0, 0, 0)",
            "width": 2
           },
           "mode": "lines",
           "x": [
            0.5,
            0.375,
            null
           ],
           "y": [
            0,
            0.5,
            null
           ]
          },
          {
           "hoverinfo": "none",
           "line": {
            "color": "rgb(0, 255, 0)",
            "width": 2
           },
           "mode": "lines",
           "x": [
            0.5,
            0.25,
            null
           ],
           "y": [
            0,
            0,
            null
           ]
          },
          {
           "hoverinfo": "none",
           "line": {
            "color": "rgb(0, 0, 0)",
            "width": 2
           },
           "mode": "lines",
           "x": [
            0.25,
            0.375,
            null
           ],
           "y": [
            0,
            0.5,
            null
           ]
          },
          {
           "hoverinfo": "none",
           "marker": {
            "color": "rgb(255, 255, 255)",
            "line": {
             "color": "rgb(0, 0, 0)",
             "width": 2
            },
            "size": 20
           },
           "mode": "markers+text",
           "text": [],
           "textfont": {
            "color": "rgb(0, 0, 0)"
           },
           "textposition": "middle center",
           "x": [
            0
           ],
           "y": [
            0.5
           ]
          },
          {
           "hoverinfo": "none",
           "marker": {
            "color": "rgb(255, 255, 255)",
            "line": {
             "color": "rgb(0, 0, 0)",
             "width": 2
            },
            "size": 20
           },
           "mode": "markers+text",
           "text": [],
           "textfont": {
            "color": "rgb(0, 0, 0)"
           },
           "textposition": "middle center",
           "x": [
            0.25
           ],
           "y": [
            1
           ]
          },
          {
           "hoverinfo": "none",
           "marker": {
            "color": "rgb(255, 255, 255)",
            "line": {
             "color": "rgb(0, 0, 0)",
             "width": 2
            },
            "size": 20
           },
           "mode": "markers+text",
           "text": [],
           "textfont": {
            "color": "rgb(0, 0, 0)"
           },
           "textposition": "middle center",
           "x": [
            0.5
           ],
           "y": [
            1
           ]
          },
          {
           "hoverinfo": "none",
           "marker": {
            "color": "rgb(255, 255, 255)",
            "line": {
             "color": "rgb(0, 0, 0)",
             "width": 2
            },
            "size": 20
           },
           "mode": "markers+text",
           "text": [],
           "textfont": {
            "color": "rgb(0, 0, 0)"
           },
           "textposition": "middle center",
           "x": [
            0.75
           ],
           "y": [
            1
           ]
          },
          {
           "hoverinfo": "none",
           "marker": {
            "color": "rgb(255, 255, 255)",
            "line": {
             "color": "rgb(0, 0, 0)",
             "width": 2
            },
            "size": 20
           },
           "mode": "markers+text",
           "text": [],
           "textfont": {
            "color": "rgb(0, 0, 0)"
           },
           "textposition": "middle center",
           "x": [
            1
           ],
           "y": [
            0.5
           ]
          },
          {
           "hoverinfo": "none",
           "marker": {
            "color": "rgb(255, 255, 255)",
            "line": {
             "color": "rgb(0, 0, 0)",
             "width": 2
            },
            "size": 20
           },
           "mode": "markers+text",
           "text": [],
           "textfont": {
            "color": "rgb(0, 0, 0)"
           },
           "textposition": "middle center",
           "x": [
            0.75
           ],
           "y": [
            0
           ]
          },
          {
           "hoverinfo": "none",
           "marker": {
            "color": "rgb(255, 255, 255)",
            "line": {
             "color": "rgb(0, 0, 0)",
             "width": 2
            },
            "size": 20
           },
           "mode": "markers+text",
           "text": [],
           "textfont": {
            "color": "rgb(0, 0, 0)"
           },
           "textposition": "middle center",
           "x": [
            0.5
           ],
           "y": [
            0
           ]
          },
          {
           "hoverinfo": "none",
           "marker": {
            "color": "rgb(255, 255, 255)",
            "line": {
             "color": "rgb(0, 0, 0)",
             "width": 2
            },
            "size": 20
           },
           "mode": "markers+text",
           "text": [],
           "textfont": {
            "color": "rgb(0, 0, 0)"
           },
           "textposition": "middle center",
           "x": [
            0.25
           ],
           "y": [
            0
           ]
          },
          {
           "hoverinfo": "none",
           "marker": {
            "color": "rgb(255, 255, 255)",
            "line": {
             "color": "rgb(0, 0, 0)",
             "width": 2
            },
            "size": 20
           },
           "mode": "markers+text",
           "text": [],
           "textfont": {
            "color": "rgb(0, 0, 0)"
           },
           "textposition": "middle center",
           "x": [
            0.375
           ],
           "y": [
            0.5
           ]
          },
          {
           "hoverinfo": "none",
           "mode": "text",
           "text": [
            4,
            8,
            8,
            11,
            2,
            7,
            4,
            9,
            14,
            10,
            2,
            6,
            1,
            7
           ],
           "textfont": {
            "color": "rgb(0, 0, 0)"
           },
           "textposition": "middle center",
           "x": [
            0.08835225700681207,
            0.16164774299318793,
            0.375,
            0.2878787878787879,
            0.4750594305323629,
            0.625,
            0.6625594305323629,
            0.911647742993188,
            0.7878787878787878,
            0.911647742993188,
            0.625,
            0.3999405694676371,
            0.375,
            0.2749405694676371
           ],
           "y": [
            0.768323871496594,
            0.268323871496594,
            1.0724637681159421,
            0.5,
            0.7406101423669093,
            1.0724637681159421,
            0.5093898576330907,
            0.768323871496594,
            0.5,
            0.23167612850340602,
            -0.07246376811594203,
            0.24061014236690928,
            -0.07246376811594203,
            0.2593898576330907
           ]
          }
         ],
         "name": 13
        },
        {
         "data": [
          {
           "hoverinfo": "none",
           "line": {
            "color": "rgb(0, 255, 0)",
            "width": 2
           },
           "mode": "lines",
           "x": [
            0,
            0.25,
            null
           ],
           "y": [
            0.5,
            1,
            null
           ]
          },
          {
           "hoverinfo": "none",
           "line": {
            "color": "rgb(0, 255, 0)",
            "width": 2
           },
           "mode": "lines",
           "x": [
            0,
            0.25,
            null
           ],
           "y": [
            0.5,
            0,
            null
           ]
          },
          {
           "hoverinfo": "none",
           "line": {
            "color": "rgb(0, 0, 0)",
            "width": 2
           },
           "mode": "lines",
           "x": [
            0.25,
            0.5,
            null
           ],
           "y": [
            1,
            1,
            null
           ]
          },
          {
           "hoverinfo": "none",
           "line": {
            "color": "rgb(0, 0, 0)",
            "width": 2
           },
           "mode": "lines",
           "x": [
            0.25,
            0.25,
            null
           ],
           "y": [
            1,
            0,
            null
           ]
          },
          {
           "hoverinfo": "none",
           "line": {
            "color": "rgb(0, 255, 0)",
            "width": 2
           },
           "mode": "lines",
           "x": [
            0.5,
            0.375,
            null
           ],
           "y": [
            1,
            0.5,
            null
           ]
          },
          {
           "hoverinfo": "none",
           "line": {
            "color": "rgb(0, 255, 0)",
            "width": 2
           },
           "mode": "lines",
           "x": [
            0.5,
            0.75,
            null
           ],
           "y": [
            1,
            1,
            null
           ]
          },
          {
           "hoverinfo": "none",
           "line": {
            "color": "rgb(0, 255, 0)",
            "width": 2
           },
           "mode": "lines",
           "x": [
            0.5,
            0.75,
            null
           ],
           "y": [
            1,
            0,
            null
           ]
          },
          {
           "hoverinfo": "none",
           "line": {
            "color": "rgb(0, 255, 0)",
            "width": 2
           },
           "mode": "lines",
           "x": [
            0.75,
            1,
            null
           ],
           "y": [
            1,
            0.5,
            null
           ]
          },
          {
           "hoverinfo": "none",
           "line": {
            "color": "rgb(255, 0, 0)",
            "width": 2
           },
           "mode": "lines",
           "x": [
            0.75,
            0.75,
            null
           ],
           "y": [
            1,
            0,
            null
           ]
          },
          {
           "hoverinfo": "none",
           "line": {
            "color": "rgb(0, 0, 0)",
            "width": 2
           },
           "mode": "lines",
           "x": [
            1,
            0.75,
            null
           ],
           "y": [
            0.5,
            0,
            null
           ]
          },
          {
           "hoverinfo": "none",
           "line": {
            "color": "rgb(0, 255, 0)",
            "width": 2
           },
           "mode": "lines",
           "x": [
            0.75,
            0.5,
            null
           ],
           "y": [
            0,
            0,
            null
           ]
          },
          {
           "hoverinfo": "none",
           "line": {
            "color": "rgb(0, 0, 0)",
            "width": 2
           },
           "mode": "lines",
           "x": [
            0.5,
            0.375,
            null
           ],
           "y": [
            0,
            0.5,
            null
           ]
          },
          {
           "hoverinfo": "none",
           "line": {
            "color": "rgb(0, 255, 0)",
            "width": 2
           },
           "mode": "lines",
           "x": [
            0.5,
            0.25,
            null
           ],
           "y": [
            0,
            0,
            null
           ]
          },
          {
           "hoverinfo": "none",
           "line": {
            "color": "rgb(0, 0, 0)",
            "width": 2
           },
           "mode": "lines",
           "x": [
            0.25,
            0.375,
            null
           ],
           "y": [
            0,
            0.5,
            null
           ]
          },
          {
           "hoverinfo": "none",
           "marker": {
            "color": "rgb(255, 255, 255)",
            "line": {
             "color": "rgb(0, 0, 0)",
             "width": 2
            },
            "size": 20
           },
           "mode": "markers+text",
           "text": [],
           "textfont": {
            "color": "rgb(0, 0, 0)"
           },
           "textposition": "middle center",
           "x": [
            0
           ],
           "y": [
            0.5
           ]
          },
          {
           "hoverinfo": "none",
           "marker": {
            "color": "rgb(255, 255, 255)",
            "line": {
             "color": "rgb(0, 0, 0)",
             "width": 2
            },
            "size": 20
           },
           "mode": "markers+text",
           "text": [],
           "textfont": {
            "color": "rgb(0, 0, 0)"
           },
           "textposition": "middle center",
           "x": [
            0.25
           ],
           "y": [
            1
           ]
          },
          {
           "hoverinfo": "none",
           "marker": {
            "color": "rgb(255, 255, 255)",
            "line": {
             "color": "rgb(0, 0, 0)",
             "width": 2
            },
            "size": 20
           },
           "mode": "markers+text",
           "text": [],
           "textfont": {
            "color": "rgb(0, 0, 0)"
           },
           "textposition": "middle center",
           "x": [
            0.5
           ],
           "y": [
            1
           ]
          },
          {
           "hoverinfo": "none",
           "marker": {
            "color": "rgb(255, 255, 255)",
            "line": {
             "color": "rgb(0, 0, 0)",
             "width": 2
            },
            "size": 20
           },
           "mode": "markers+text",
           "text": [],
           "textfont": {
            "color": "rgb(0, 0, 0)"
           },
           "textposition": "middle center",
           "x": [
            0.75
           ],
           "y": [
            1
           ]
          },
          {
           "hoverinfo": "none",
           "marker": {
            "color": "rgb(255, 255, 255)",
            "line": {
             "color": "rgb(0, 0, 0)",
             "width": 2
            },
            "size": 20
           },
           "mode": "markers+text",
           "text": [],
           "textfont": {
            "color": "rgb(0, 0, 0)"
           },
           "textposition": "middle center",
           "x": [
            1
           ],
           "y": [
            0.5
           ]
          },
          {
           "hoverinfo": "none",
           "marker": {
            "color": "rgb(255, 255, 255)",
            "line": {
             "color": "rgb(0, 0, 0)",
             "width": 2
            },
            "size": 20
           },
           "mode": "markers+text",
           "text": [],
           "textfont": {
            "color": "rgb(0, 0, 0)"
           },
           "textposition": "middle center",
           "x": [
            0.75
           ],
           "y": [
            0
           ]
          },
          {
           "hoverinfo": "none",
           "marker": {
            "color": "rgb(255, 255, 255)",
            "line": {
             "color": "rgb(0, 0, 0)",
             "width": 2
            },
            "size": 20
           },
           "mode": "markers+text",
           "text": [],
           "textfont": {
            "color": "rgb(0, 0, 0)"
           },
           "textposition": "middle center",
           "x": [
            0.5
           ],
           "y": [
            0
           ]
          },
          {
           "hoverinfo": "none",
           "marker": {
            "color": "rgb(255, 255, 255)",
            "line": {
             "color": "rgb(0, 0, 0)",
             "width": 2
            },
            "size": 20
           },
           "mode": "markers+text",
           "text": [],
           "textfont": {
            "color": "rgb(0, 0, 0)"
           },
           "textposition": "middle center",
           "x": [
            0.25
           ],
           "y": [
            0
           ]
          },
          {
           "hoverinfo": "none",
           "marker": {
            "color": "rgb(255, 255, 255)",
            "line": {
             "color": "rgb(0, 0, 0)",
             "width": 2
            },
            "size": 20
           },
           "mode": "markers+text",
           "text": [],
           "textfont": {
            "color": "rgb(0, 0, 0)"
           },
           "textposition": "middle center",
           "x": [
            0.375
           ],
           "y": [
            0.5
           ]
          },
          {
           "hoverinfo": "none",
           "mode": "text",
           "text": [
            4,
            8,
            8,
            11,
            2,
            7,
            4,
            9,
            14,
            10,
            2,
            6,
            1,
            7
           ],
           "textfont": {
            "color": "rgb(0, 0, 0)"
           },
           "textposition": "middle center",
           "x": [
            0.08835225700681207,
            0.16164774299318793,
            0.375,
            0.2878787878787879,
            0.4750594305323629,
            0.625,
            0.6625594305323629,
            0.911647742993188,
            0.7878787878787878,
            0.911647742993188,
            0.625,
            0.3999405694676371,
            0.375,
            0.2749405694676371
           ],
           "y": [
            0.768323871496594,
            0.268323871496594,
            1.0724637681159421,
            0.5,
            0.7406101423669093,
            1.0724637681159421,
            0.5093898576330907,
            0.768323871496594,
            0.5,
            0.23167612850340602,
            -0.07246376811594203,
            0.24061014236690928,
            -0.07246376811594203,
            0.2593898576330907
           ]
          }
         ],
         "name": 14
        },
        {
         "data": [
          {
           "hoverinfo": "none",
           "line": {
            "color": "rgb(0, 255, 0)",
            "width": 2
           },
           "mode": "lines",
           "x": [
            0,
            0.25,
            null
           ],
           "y": [
            0.5,
            1,
            null
           ]
          },
          {
           "hoverinfo": "none",
           "line": {
            "color": "rgb(0, 255, 0)",
            "width": 2
           },
           "mode": "lines",
           "x": [
            0,
            0.25,
            null
           ],
           "y": [
            0.5,
            0,
            null
           ]
          },
          {
           "hoverinfo": "none",
           "line": {
            "color": "rgb(0, 0, 0)",
            "width": 2
           },
           "mode": "lines",
           "x": [
            0.25,
            0.5,
            null
           ],
           "y": [
            1,
            1,
            null
           ]
          },
          {
           "hoverinfo": "none",
           "line": {
            "color": "rgb(0, 0, 0)",
            "width": 2
           },
           "mode": "lines",
           "x": [
            0.25,
            0.25,
            null
           ],
           "y": [
            1,
            0,
            null
           ]
          },
          {
           "hoverinfo": "none",
           "line": {
            "color": "rgb(0, 255, 0)",
            "width": 2
           },
           "mode": "lines",
           "x": [
            0.5,
            0.375,
            null
           ],
           "y": [
            1,
            0.5,
            null
           ]
          },
          {
           "hoverinfo": "none",
           "line": {
            "color": "rgb(0, 255, 0)",
            "width": 2
           },
           "mode": "lines",
           "x": [
            0.5,
            0.75,
            null
           ],
           "y": [
            1,
            1,
            null
           ]
          },
          {
           "hoverinfo": "none",
           "line": {
            "color": "rgb(0, 255, 0)",
            "width": 2
           },
           "mode": "lines",
           "x": [
            0.5,
            0.75,
            null
           ],
           "y": [
            1,
            0,
            null
           ]
          },
          {
           "hoverinfo": "none",
           "line": {
            "color": "rgb(0, 255, 0)",
            "width": 2
           },
           "mode": "lines",
           "x": [
            0.75,
            1,
            null
           ],
           "y": [
            1,
            0.5,
            null
           ]
          },
          {
           "hoverinfo": "none",
           "line": {
            "color": "rgb(0, 0, 0)",
            "width": 2
           },
           "mode": "lines",
           "x": [
            0.75,
            0.75,
            null
           ],
           "y": [
            1,
            0,
            null
           ]
          },
          {
           "hoverinfo": "none",
           "line": {
            "color": "rgb(0, 0, 0)",
            "width": 2
           },
           "mode": "lines",
           "x": [
            1,
            0.75,
            null
           ],
           "y": [
            0.5,
            0,
            null
           ]
          },
          {
           "hoverinfo": "none",
           "line": {
            "color": "rgb(0, 255, 0)",
            "width": 2
           },
           "mode": "lines",
           "x": [
            0.75,
            0.5,
            null
           ],
           "y": [
            0,
            0,
            null
           ]
          },
          {
           "hoverinfo": "none",
           "line": {
            "color": "rgb(0, 0, 0)",
            "width": 2
           },
           "mode": "lines",
           "x": [
            0.5,
            0.375,
            null
           ],
           "y": [
            0,
            0.5,
            null
           ]
          },
          {
           "hoverinfo": "none",
           "line": {
            "color": "rgb(0, 255, 0)",
            "width": 2
           },
           "mode": "lines",
           "x": [
            0.5,
            0.25,
            null
           ],
           "y": [
            0,
            0,
            null
           ]
          },
          {
           "hoverinfo": "none",
           "line": {
            "color": "rgb(0, 0, 0)",
            "width": 2
           },
           "mode": "lines",
           "x": [
            0.25,
            0.375,
            null
           ],
           "y": [
            0,
            0.5,
            null
           ]
          },
          {
           "hoverinfo": "none",
           "marker": {
            "color": "rgb(255, 255, 255)",
            "line": {
             "color": "rgb(0, 0, 0)",
             "width": 2
            },
            "size": 20
           },
           "mode": "markers+text",
           "text": [],
           "textfont": {
            "color": "rgb(0, 0, 0)"
           },
           "textposition": "middle center",
           "x": [
            0
           ],
           "y": [
            0.5
           ]
          },
          {
           "hoverinfo": "none",
           "marker": {
            "color": "rgb(255, 255, 255)",
            "line": {
             "color": "rgb(0, 0, 0)",
             "width": 2
            },
            "size": 20
           },
           "mode": "markers+text",
           "text": [],
           "textfont": {
            "color": "rgb(0, 0, 0)"
           },
           "textposition": "middle center",
           "x": [
            0.25
           ],
           "y": [
            1
           ]
          },
          {
           "hoverinfo": "none",
           "marker": {
            "color": "rgb(255, 255, 255)",
            "line": {
             "color": "rgb(0, 0, 0)",
             "width": 2
            },
            "size": 20
           },
           "mode": "markers+text",
           "text": [],
           "textfont": {
            "color": "rgb(0, 0, 0)"
           },
           "textposition": "middle center",
           "x": [
            0.5
           ],
           "y": [
            1
           ]
          },
          {
           "hoverinfo": "none",
           "marker": {
            "color": "rgb(255, 255, 255)",
            "line": {
             "color": "rgb(0, 0, 0)",
             "width": 2
            },
            "size": 20
           },
           "mode": "markers+text",
           "text": [],
           "textfont": {
            "color": "rgb(0, 0, 0)"
           },
           "textposition": "middle center",
           "x": [
            0.75
           ],
           "y": [
            1
           ]
          },
          {
           "hoverinfo": "none",
           "marker": {
            "color": "rgb(255, 255, 255)",
            "line": {
             "color": "rgb(0, 0, 0)",
             "width": 2
            },
            "size": 20
           },
           "mode": "markers+text",
           "text": [],
           "textfont": {
            "color": "rgb(0, 0, 0)"
           },
           "textposition": "middle center",
           "x": [
            1
           ],
           "y": [
            0.5
           ]
          },
          {
           "hoverinfo": "none",
           "marker": {
            "color": "rgb(255, 255, 255)",
            "line": {
             "color": "rgb(0, 0, 0)",
             "width": 2
            },
            "size": 20
           },
           "mode": "markers+text",
           "text": [],
           "textfont": {
            "color": "rgb(0, 0, 0)"
           },
           "textposition": "middle center",
           "x": [
            0.75
           ],
           "y": [
            0
           ]
          },
          {
           "hoverinfo": "none",
           "marker": {
            "color": "rgb(255, 255, 255)",
            "line": {
             "color": "rgb(0, 0, 0)",
             "width": 2
            },
            "size": 20
           },
           "mode": "markers+text",
           "text": [],
           "textfont": {
            "color": "rgb(0, 0, 0)"
           },
           "textposition": "middle center",
           "x": [
            0.5
           ],
           "y": [
            0
           ]
          },
          {
           "hoverinfo": "none",
           "marker": {
            "color": "rgb(255, 255, 255)",
            "line": {
             "color": "rgb(0, 0, 0)",
             "width": 2
            },
            "size": 20
           },
           "mode": "markers+text",
           "text": [],
           "textfont": {
            "color": "rgb(0, 0, 0)"
           },
           "textposition": "middle center",
           "x": [
            0.25
           ],
           "y": [
            0
           ]
          },
          {
           "hoverinfo": "none",
           "marker": {
            "color": "rgb(255, 255, 255)",
            "line": {
             "color": "rgb(0, 0, 0)",
             "width": 2
            },
            "size": 20
           },
           "mode": "markers+text",
           "text": [],
           "textfont": {
            "color": "rgb(0, 0, 0)"
           },
           "textposition": "middle center",
           "x": [
            0.375
           ],
           "y": [
            0.5
           ]
          },
          {
           "hoverinfo": "none",
           "mode": "text",
           "text": [
            4,
            8,
            8,
            11,
            2,
            7,
            4,
            9,
            14,
            10,
            2,
            6,
            1,
            7
           ],
           "textfont": {
            "color": "rgb(0, 0, 0)"
           },
           "textposition": "middle center",
           "x": [
            0.08835225700681207,
            0.16164774299318793,
            0.375,
            0.2878787878787879,
            0.4750594305323629,
            0.625,
            0.6625594305323629,
            0.911647742993188,
            0.7878787878787878,
            0.911647742993188,
            0.625,
            0.3999405694676371,
            0.375,
            0.2749405694676371
           ],
           "y": [
            0.768323871496594,
            0.268323871496594,
            1.0724637681159421,
            0.5,
            0.7406101423669093,
            1.0724637681159421,
            0.5093898576330907,
            0.768323871496594,
            0.5,
            0.23167612850340602,
            -0.07246376811594203,
            0.24061014236690928,
            -0.07246376811594203,
            0.2593898576330907
           ]
          }
         ],
         "name": 15
        }
       ],
       "layout": {
        "height": 256,
        "margin": {
         "b": 0,
         "l": 0,
         "r": 0,
         "t": 0
        },
        "showlegend": false,
        "sliders": [
         {
          "currentvalue": {
           "visible": false
          },
          "steps": [
           {
            "args": [
             [
              0
             ],
             {
              "frame": {
               "redraw": false
              },
              "mode": "immediate"
             }
            ],
            "label": "",
            "method": "animate"
           },
           {
            "args": [
             [
              1
             ],
             {
              "frame": {
               "redraw": false
              },
              "mode": "immediate"
             }
            ],
            "label": "",
            "method": "animate"
           },
           {
            "args": [
             [
              2
             ],
             {
              "frame": {
               "redraw": false
              },
              "mode": "immediate"
             }
            ],
            "label": "",
            "method": "animate"
           },
           {
            "args": [
             [
              3
             ],
             {
              "frame": {
               "redraw": false
              },
              "mode": "immediate"
             }
            ],
            "label": "",
            "method": "animate"
           },
           {
            "args": [
             [
              4
             ],
             {
              "frame": {
               "redraw": false
              },
              "mode": "immediate"
             }
            ],
            "label": "",
            "method": "animate"
           },
           {
            "args": [
             [
              5
             ],
             {
              "frame": {
               "redraw": false
              },
              "mode": "immediate"
             }
            ],
            "label": "",
            "method": "animate"
           },
           {
            "args": [
             [
              6
             ],
             {
              "frame": {
               "redraw": false
              },
              "mode": "immediate"
             }
            ],
            "label": "",
            "method": "animate"
           },
           {
            "args": [
             [
              7
             ],
             {
              "frame": {
               "redraw": false
              },
              "mode": "immediate"
             }
            ],
            "label": "",
            "method": "animate"
           },
           {
            "args": [
             [
              8
             ],
             {
              "frame": {
               "redraw": false
              },
              "mode": "immediate"
             }
            ],
            "label": "",
            "method": "animate"
           },
           {
            "args": [
             [
              9
             ],
             {
              "frame": {
               "redraw": false
              },
              "mode": "immediate"
             }
            ],
            "label": "",
            "method": "animate"
           },
           {
            "args": [
             [
              10
             ],
             {
              "frame": {
               "redraw": false
              },
              "mode": "immediate"
             }
            ],
            "label": "",
            "method": "animate"
           },
           {
            "args": [
             [
              11
             ],
             {
              "frame": {
               "redraw": false
              },
              "mode": "immediate"
             }
            ],
            "label": "",
            "method": "animate"
           },
           {
            "args": [
             [
              12
             ],
             {
              "frame": {
               "redraw": false
              },
              "mode": "immediate"
             }
            ],
            "label": "",
            "method": "animate"
           },
           {
            "args": [
             [
              13
             ],
             {
              "frame": {
               "redraw": false
              },
              "mode": "immediate"
             }
            ],
            "label": "",
            "method": "animate"
           },
           {
            "args": [
             [
              14
             ],
             {
              "frame": {
               "redraw": false
              },
              "mode": "immediate"
             }
            ],
            "label": "",
            "method": "animate"
           },
           {
            "args": [
             [
              15
             ],
             {
              "frame": {
               "redraw": false
              },
              "mode": "immediate"
             }
            ],
            "label": "",
            "method": "animate"
           }
          ]
         }
        ],
        "updatemenus": [
         {
          "buttons": [
           {
            "args": [
             null,
             {
              "frame": {
               "redraw": false
              },
              "fromcurrent": true
             }
            ],
            "label": "Play",
            "method": "animate"
           },
           {
            "args": [
             [
              null
             ],
             {
              "frame": {
               "redraw": false
              },
              "mode": "immediate"
             }
            ],
            "label": "Pause",
            "method": "animate"
           }
          ],
          "showactive": true,
          "type": "buttons"
         }
        ],
        "width": 408,
        "xaxis": {
         "showgrid": false,
         "showticklabels": false,
         "zeroline": false
        },
        "yaxis": {
         "showgrid": false,
         "showticklabels": false,
         "zeroline": false
        }
       }
      },
      "text/html": [
       "<div id=\"8b963740-e51c-4c26-8e1f-a887b43d9580\" style=\"height: 256.0px; width: 408.0px;\" class=\"plotly-graph-div\"></div><script type=\"text/javascript\">require([\"plotly\"], function(Plotly) { window.PLOTLYENV=window.PLOTLYENV || {};window.PLOTLYENV.BASE_URL=\"https://plot.ly\";\n",
       "        Plotly.plot(\n",
       "            '8b963740-e51c-4c26-8e1f-a887b43d9580',\n",
       "            [{\"hoverinfo\": \"none\", \"y\": [0.5, 1.0, null], \"x\": [0.0, 0.25, null], \"mode\": \"lines\", \"line\": {\"width\": 2, \"color\": \"rgb(0, 0, 0)\"}}, {\"hoverinfo\": \"none\", \"y\": [0.5, 0.0, null], \"x\": [0.0, 0.25, null], \"mode\": \"lines\", \"line\": {\"width\": 2, \"color\": \"rgb(0, 0, 0)\"}}, {\"hoverinfo\": \"none\", \"y\": [1.0, 1.0, null], \"x\": [0.25, 0.5, null], \"mode\": \"lines\", \"line\": {\"width\": 2, \"color\": \"rgb(0, 0, 0)\"}}, {\"hoverinfo\": \"none\", \"y\": [1.0, 0.0, null], \"x\": [0.25, 0.25, null], \"mode\": \"lines\", \"line\": {\"width\": 2, \"color\": \"rgb(0, 0, 0)\"}}, {\"hoverinfo\": \"none\", \"y\": [1.0, 0.5, null], \"x\": [0.5, 0.375, null], \"mode\": \"lines\", \"line\": {\"width\": 2, \"color\": \"rgb(0, 0, 0)\"}}, {\"hoverinfo\": \"none\", \"y\": [1.0, 1.0, null], \"x\": [0.5, 0.75, null], \"mode\": \"lines\", \"line\": {\"width\": 2, \"color\": \"rgb(0, 0, 0)\"}}, {\"hoverinfo\": \"none\", \"y\": [1.0, 0.0, null], \"x\": [0.5, 0.75, null], \"mode\": \"lines\", \"line\": {\"width\": 2, \"color\": \"rgb(0, 0, 0)\"}}, {\"hoverinfo\": \"none\", \"y\": [1.0, 0.5, null], \"x\": [0.75, 1.0, null], \"mode\": \"lines\", \"line\": {\"width\": 2, \"color\": \"rgb(0, 0, 0)\"}}, {\"hoverinfo\": \"none\", \"y\": [1.0, 0.0, null], \"x\": [0.75, 0.75, null], \"mode\": \"lines\", \"line\": {\"width\": 2, \"color\": \"rgb(0, 0, 0)\"}}, {\"hoverinfo\": \"none\", \"y\": [0.5, 0.0, null], \"x\": [1.0, 0.75, null], \"mode\": \"lines\", \"line\": {\"width\": 2, \"color\": \"rgb(0, 0, 0)\"}}, {\"hoverinfo\": \"none\", \"y\": [0.0, 0.0, null], \"x\": [0.75, 0.5, null], \"mode\": \"lines\", \"line\": {\"width\": 2, \"color\": \"rgb(0, 0, 0)\"}}, {\"hoverinfo\": \"none\", \"y\": [0.0, 0.5, null], \"x\": [0.5, 0.375, null], \"mode\": \"lines\", \"line\": {\"width\": 2, \"color\": \"rgb(0, 0, 0)\"}}, {\"hoverinfo\": \"none\", \"y\": [0.0, 0.0, null], \"x\": [0.5, 0.25, null], \"mode\": \"lines\", \"line\": {\"width\": 2, \"color\": \"rgb(0, 0, 0)\"}}, {\"hoverinfo\": \"none\", \"y\": [0.0, 0.5, null], \"x\": [0.25, 0.375, null], \"mode\": \"lines\", \"line\": {\"width\": 2, \"color\": \"rgb(0, 0, 0)\"}}, {\"text\": [], \"y\": [0.5], \"textfont\": {\"color\": \"rgb(0, 0, 0)\"}, \"textposition\": \"middle center\", \"x\": [0.0], \"hoverinfo\": \"none\", \"marker\": {\"size\": 20, \"color\": \"rgb(255, 255, 255)\", \"line\": {\"width\": 2, \"color\": \"rgb(0, 0, 0)\"}}, \"mode\": \"markers+text\"}, {\"text\": [], \"y\": [1.0], \"textfont\": {\"color\": \"rgb(0, 0, 0)\"}, \"textposition\": \"middle center\", \"x\": [0.25], \"hoverinfo\": \"none\", \"marker\": {\"size\": 20, \"color\": \"rgb(255, 255, 255)\", \"line\": {\"width\": 2, \"color\": \"rgb(0, 0, 0)\"}}, \"mode\": \"markers+text\"}, {\"text\": [], \"y\": [1.0], \"textfont\": {\"color\": \"rgb(0, 0, 0)\"}, \"textposition\": \"middle center\", \"x\": [0.5], \"hoverinfo\": \"none\", \"marker\": {\"size\": 20, \"color\": \"rgb(255, 255, 255)\", \"line\": {\"width\": 2, \"color\": \"rgb(0, 0, 0)\"}}, \"mode\": \"markers+text\"}, {\"text\": [], \"y\": [1.0], \"textfont\": {\"color\": \"rgb(0, 0, 0)\"}, \"textposition\": \"middle center\", \"x\": [0.75], \"hoverinfo\": \"none\", \"marker\": {\"size\": 20, \"color\": \"rgb(255, 255, 255)\", \"line\": {\"width\": 2, \"color\": \"rgb(0, 0, 0)\"}}, \"mode\": \"markers+text\"}, {\"text\": [], \"y\": [0.5], \"textfont\": {\"color\": \"rgb(0, 0, 0)\"}, \"textposition\": \"middle center\", \"x\": [1.0], \"hoverinfo\": \"none\", \"marker\": {\"size\": 20, \"color\": \"rgb(255, 255, 255)\", \"line\": {\"width\": 2, \"color\": \"rgb(0, 0, 0)\"}}, \"mode\": \"markers+text\"}, {\"text\": [], \"y\": [0.0], \"textfont\": {\"color\": \"rgb(0, 0, 0)\"}, \"textposition\": \"middle center\", \"x\": [0.75], \"hoverinfo\": \"none\", \"marker\": {\"size\": 20, \"color\": \"rgb(255, 255, 255)\", \"line\": {\"width\": 2, \"color\": \"rgb(0, 0, 0)\"}}, \"mode\": \"markers+text\"}, {\"text\": [], \"y\": [0.0], \"textfont\": {\"color\": \"rgb(0, 0, 0)\"}, \"textposition\": \"middle center\", \"x\": [0.5], \"hoverinfo\": \"none\", \"marker\": {\"size\": 20, \"color\": \"rgb(255, 255, 255)\", \"line\": {\"width\": 2, \"color\": \"rgb(0, 0, 0)\"}}, \"mode\": \"markers+text\"}, {\"text\": [], \"y\": [0.0], \"textfont\": {\"color\": \"rgb(0, 0, 0)\"}, \"textposition\": \"middle center\", \"x\": [0.25], \"hoverinfo\": \"none\", \"marker\": {\"size\": 20, \"color\": \"rgb(255, 255, 255)\", \"line\": {\"width\": 2, \"color\": \"rgb(0, 0, 0)\"}}, \"mode\": \"markers+text\"}, {\"text\": [], \"y\": [0.5], \"textfont\": {\"color\": \"rgb(0, 0, 0)\"}, \"textposition\": \"middle center\", \"x\": [0.375], \"hoverinfo\": \"none\", \"marker\": {\"size\": 20, \"color\": \"rgb(255, 255, 255)\", \"line\": {\"width\": 2, \"color\": \"rgb(0, 0, 0)\"}}, \"mode\": \"markers+text\"}, {\"text\": [4, 8, 8, 11, 2, 7, 4, 9, 14, 10, 2, 6, 1, 7], \"y\": [0.768323871496594, 0.268323871496594, 1.0724637681159421, 0.5, 0.7406101423669093, 1.0724637681159421, 0.5093898576330907, 0.768323871496594, 0.5, 0.23167612850340602, -0.07246376811594203, 0.24061014236690928, -0.07246376811594203, 0.2593898576330907], \"textfont\": {\"color\": \"rgb(0, 0, 0)\"}, \"textposition\": \"middle center\", \"x\": [0.08835225700681207, 0.16164774299318793, 0.375, 0.2878787878787879, 0.4750594305323629, 0.625, 0.6625594305323629, 0.911647742993188, 0.7878787878787878, 0.911647742993188, 0.625, 0.3999405694676371, 0.375, 0.2749405694676371], \"hoverinfo\": \"none\", \"mode\": \"text\"}],\n",
       "            {\"height\": 256.0, \"showlegend\": false, \"width\": 408.0, \"xaxis\": {\"zeroline\": false, \"showgrid\": false, \"showticklabels\": false}, \"margin\": {\"b\": 0, \"r\": 0, \"t\": 0, \"l\": 0}, \"yaxis\": {\"zeroline\": false, \"showgrid\": false, \"showticklabels\": false}, \"updatemenus\": [{\"buttons\": [{\"method\": \"animate\", \"label\": \"Play\", \"args\": [null, {\"fromcurrent\": true, \"frame\": {\"redraw\": false}}]}, {\"method\": \"animate\", \"label\": \"Pause\", \"args\": [[null], {\"mode\": \"immediate\", \"frame\": {\"redraw\": false}}]}], \"type\": \"buttons\", \"showactive\": true}], \"sliders\": [{\"steps\": [{\"method\": \"animate\", \"label\": \"\", \"args\": [[0], {\"mode\": \"immediate\", \"frame\": {\"redraw\": false}}]}, {\"method\": \"animate\", \"label\": \"\", \"args\": [[1], {\"mode\": \"immediate\", \"frame\": {\"redraw\": false}}]}, {\"method\": \"animate\", \"label\": \"\", \"args\": [[2], {\"mode\": \"immediate\", \"frame\": {\"redraw\": false}}]}, {\"method\": \"animate\", \"label\": \"\", \"args\": [[3], {\"mode\": \"immediate\", \"frame\": {\"redraw\": false}}]}, {\"method\": \"animate\", \"label\": \"\", \"args\": [[4], {\"mode\": \"immediate\", \"frame\": {\"redraw\": false}}]}, {\"method\": \"animate\", \"label\": \"\", \"args\": [[5], {\"mode\": \"immediate\", \"frame\": {\"redraw\": false}}]}, {\"method\": \"animate\", \"label\": \"\", \"args\": [[6], {\"mode\": \"immediate\", \"frame\": {\"redraw\": false}}]}, {\"method\": \"animate\", \"label\": \"\", \"args\": [[7], {\"mode\": \"immediate\", \"frame\": {\"redraw\": false}}]}, {\"method\": \"animate\", \"label\": \"\", \"args\": [[8], {\"mode\": \"immediate\", \"frame\": {\"redraw\": false}}]}, {\"method\": \"animate\", \"label\": \"\", \"args\": [[9], {\"mode\": \"immediate\", \"frame\": {\"redraw\": false}}]}, {\"method\": \"animate\", \"label\": \"\", \"args\": [[10], {\"mode\": \"immediate\", \"frame\": {\"redraw\": false}}]}, {\"method\": \"animate\", \"label\": \"\", \"args\": [[11], {\"mode\": \"immediate\", \"frame\": {\"redraw\": false}}]}, {\"method\": \"animate\", \"label\": \"\", \"args\": [[12], {\"mode\": \"immediate\", \"frame\": {\"redraw\": false}}]}, {\"method\": \"animate\", \"label\": \"\", \"args\": [[13], {\"mode\": \"immediate\", \"frame\": {\"redraw\": false}}]}, {\"method\": \"animate\", \"label\": \"\", \"args\": [[14], {\"mode\": \"immediate\", \"frame\": {\"redraw\": false}}]}, {\"method\": \"animate\", \"label\": \"\", \"args\": [[15], {\"mode\": \"immediate\", \"frame\": {\"redraw\": false}}]}], \"currentvalue\": {\"visible\": false}}]},\n",
       "            {\"showLink\": false, \"displayModeBar\": false, \"linkText\": \"Export to plot.ly\"}\n",
       "        ).then(function () {return Plotly.addFrames('8b963740-e51c-4c26-8e1f-a887b43d9580',[{\"name\": 0, \"data\": [{\"hoverinfo\": \"none\", \"y\": [0.5, 1.0, null], \"x\": [0.0, 0.25, null], \"mode\": \"lines\", \"line\": {\"width\": 2, \"color\": \"rgb(0, 0, 0)\"}}, {\"hoverinfo\": \"none\", \"y\": [0.5, 0.0, null], \"x\": [0.0, 0.25, null], \"mode\": \"lines\", \"line\": {\"width\": 2, \"color\": \"rgb(0, 0, 0)\"}}, {\"hoverinfo\": \"none\", \"y\": [1.0, 1.0, null], \"x\": [0.25, 0.5, null], \"mode\": \"lines\", \"line\": {\"width\": 2, \"color\": \"rgb(0, 0, 0)\"}}, {\"hoverinfo\": \"none\", \"y\": [1.0, 0.0, null], \"x\": [0.25, 0.25, null], \"mode\": \"lines\", \"line\": {\"width\": 2, \"color\": \"rgb(0, 0, 0)\"}}, {\"hoverinfo\": \"none\", \"y\": [1.0, 0.5, null], \"x\": [0.5, 0.375, null], \"mode\": \"lines\", \"line\": {\"width\": 2, \"color\": \"rgb(0, 0, 0)\"}}, {\"hoverinfo\": \"none\", \"y\": [1.0, 1.0, null], \"x\": [0.5, 0.75, null], \"mode\": \"lines\", \"line\": {\"width\": 2, \"color\": \"rgb(0, 0, 0)\"}}, {\"hoverinfo\": \"none\", \"y\": [1.0, 0.0, null], \"x\": [0.5, 0.75, null], \"mode\": \"lines\", \"line\": {\"width\": 2, \"color\": \"rgb(0, 0, 0)\"}}, {\"hoverinfo\": \"none\", \"y\": [1.0, 0.5, null], \"x\": [0.75, 1.0, null], \"mode\": \"lines\", \"line\": {\"width\": 2, \"color\": \"rgb(0, 0, 0)\"}}, {\"hoverinfo\": \"none\", \"y\": [1.0, 0.0, null], \"x\": [0.75, 0.75, null], \"mode\": \"lines\", \"line\": {\"width\": 2, \"color\": \"rgb(0, 0, 0)\"}}, {\"hoverinfo\": \"none\", \"y\": [0.5, 0.0, null], \"x\": [1.0, 0.75, null], \"mode\": \"lines\", \"line\": {\"width\": 2, \"color\": \"rgb(0, 0, 0)\"}}, {\"hoverinfo\": \"none\", \"y\": [0.0, 0.0, null], \"x\": [0.75, 0.5, null], \"mode\": \"lines\", \"line\": {\"width\": 2, \"color\": \"rgb(0, 0, 0)\"}}, {\"hoverinfo\": \"none\", \"y\": [0.0, 0.5, null], \"x\": [0.5, 0.375, null], \"mode\": \"lines\", \"line\": {\"width\": 2, \"color\": \"rgb(0, 0, 0)\"}}, {\"hoverinfo\": \"none\", \"y\": [0.0, 0.0, null], \"x\": [0.5, 0.25, null], \"mode\": \"lines\", \"line\": {\"width\": 2, \"color\": \"rgb(0, 0, 0)\"}}, {\"hoverinfo\": \"none\", \"y\": [0.0, 0.5, null], \"x\": [0.25, 0.375, null], \"mode\": \"lines\", \"line\": {\"width\": 2, \"color\": \"rgb(0, 0, 0)\"}}, {\"text\": [], \"y\": [0.5], \"textfont\": {\"color\": \"rgb(0, 0, 0)\"}, \"textposition\": \"middle center\", \"x\": [0.0], \"hoverinfo\": \"none\", \"marker\": {\"size\": 20, \"color\": \"rgb(255, 255, 255)\", \"line\": {\"width\": 2, \"color\": \"rgb(0, 0, 0)\"}}, \"mode\": \"markers+text\"}, {\"text\": [], \"y\": [1.0], \"textfont\": {\"color\": \"rgb(0, 0, 0)\"}, \"textposition\": \"middle center\", \"x\": [0.25], \"hoverinfo\": \"none\", \"marker\": {\"size\": 20, \"color\": \"rgb(255, 255, 255)\", \"line\": {\"width\": 2, \"color\": \"rgb(0, 0, 0)\"}}, \"mode\": \"markers+text\"}, {\"text\": [], \"y\": [1.0], \"textfont\": {\"color\": \"rgb(0, 0, 0)\"}, \"textposition\": \"middle center\", \"x\": [0.5], \"hoverinfo\": \"none\", \"marker\": {\"size\": 20, \"color\": \"rgb(255, 255, 255)\", \"line\": {\"width\": 2, \"color\": \"rgb(0, 0, 0)\"}}, \"mode\": \"markers+text\"}, {\"text\": [], \"y\": [1.0], \"textfont\": {\"color\": \"rgb(0, 0, 0)\"}, \"textposition\": \"middle center\", \"x\": [0.75], \"hoverinfo\": \"none\", \"marker\": {\"size\": 20, \"color\": \"rgb(255, 255, 255)\", \"line\": {\"width\": 2, \"color\": \"rgb(0, 0, 0)\"}}, \"mode\": \"markers+text\"}, {\"text\": [], \"y\": [0.5], \"textfont\": {\"color\": \"rgb(0, 0, 0)\"}, \"textposition\": \"middle center\", \"x\": [1.0], \"hoverinfo\": \"none\", \"marker\": {\"size\": 20, \"color\": \"rgb(255, 255, 255)\", \"line\": {\"width\": 2, \"color\": \"rgb(0, 0, 0)\"}}, \"mode\": \"markers+text\"}, {\"text\": [], \"y\": [0.0], \"textfont\": {\"color\": \"rgb(0, 0, 0)\"}, \"textposition\": \"middle center\", \"x\": [0.75], \"hoverinfo\": \"none\", \"marker\": {\"size\": 20, \"color\": \"rgb(255, 255, 255)\", \"line\": {\"width\": 2, \"color\": \"rgb(0, 0, 0)\"}}, \"mode\": \"markers+text\"}, {\"text\": [], \"y\": [0.0], \"textfont\": {\"color\": \"rgb(0, 0, 0)\"}, \"textposition\": \"middle center\", \"x\": [0.5], \"hoverinfo\": \"none\", \"marker\": {\"size\": 20, \"color\": \"rgb(255, 255, 255)\", \"line\": {\"width\": 2, \"color\": \"rgb(0, 0, 0)\"}}, \"mode\": \"markers+text\"}, {\"text\": [], \"y\": [0.0], \"textfont\": {\"color\": \"rgb(0, 0, 0)\"}, \"textposition\": \"middle center\", \"x\": [0.25], \"hoverinfo\": \"none\", \"marker\": {\"size\": 20, \"color\": \"rgb(255, 255, 255)\", \"line\": {\"width\": 2, \"color\": \"rgb(0, 0, 0)\"}}, \"mode\": \"markers+text\"}, {\"text\": [], \"y\": [0.5], \"textfont\": {\"color\": \"rgb(0, 0, 0)\"}, \"textposition\": \"middle center\", \"x\": [0.375], \"hoverinfo\": \"none\", \"marker\": {\"size\": 20, \"color\": \"rgb(255, 255, 255)\", \"line\": {\"width\": 2, \"color\": \"rgb(0, 0, 0)\"}}, \"mode\": \"markers+text\"}, {\"text\": [4, 8, 8, 11, 2, 7, 4, 9, 14, 10, 2, 6, 1, 7], \"y\": [0.768323871496594, 0.268323871496594, 1.0724637681159421, 0.5, 0.7406101423669093, 1.0724637681159421, 0.5093898576330907, 0.768323871496594, 0.5, 0.23167612850340602, -0.07246376811594203, 0.24061014236690928, -0.07246376811594203, 0.2593898576330907], \"textfont\": {\"color\": \"rgb(0, 0, 0)\"}, \"textposition\": \"middle center\", \"x\": [0.08835225700681207, 0.16164774299318793, 0.375, 0.2878787878787879, 0.4750594305323629, 0.625, 0.6625594305323629, 0.911647742993188, 0.7878787878787878, 0.911647742993188, 0.625, 0.3999405694676371, 0.375, 0.2749405694676371], \"hoverinfo\": \"none\", \"mode\": \"text\"}]}, {\"name\": 1, \"data\": [{\"hoverinfo\": \"none\", \"y\": [0.5, 1.0, null], \"x\": [0.0, 0.25, null], \"mode\": \"lines\", \"line\": {\"width\": 2, \"color\": \"rgb(0, 0, 0)\"}}, {\"hoverinfo\": \"none\", \"y\": [0.5, 0.0, null], \"x\": [0.0, 0.25, null], \"mode\": \"lines\", \"line\": {\"width\": 2, \"color\": \"rgb(0, 0, 0)\"}}, {\"hoverinfo\": \"none\", \"y\": [1.0, 1.0, null], \"x\": [0.25, 0.5, null], \"mode\": \"lines\", \"line\": {\"width\": 2, \"color\": \"rgb(0, 0, 0)\"}}, {\"hoverinfo\": \"none\", \"y\": [1.0, 0.0, null], \"x\": [0.25, 0.25, null], \"mode\": \"lines\", \"line\": {\"width\": 2, \"color\": \"rgb(0, 0, 0)\"}}, {\"hoverinfo\": \"none\", \"y\": [1.0, 0.5, null], \"x\": [0.5, 0.375, null], \"mode\": \"lines\", \"line\": {\"width\": 2, \"color\": \"rgb(0, 0, 0)\"}}, {\"hoverinfo\": \"none\", \"y\": [1.0, 1.0, null], \"x\": [0.5, 0.75, null], \"mode\": \"lines\", \"line\": {\"width\": 2, \"color\": \"rgb(0, 0, 0)\"}}, {\"hoverinfo\": \"none\", \"y\": [1.0, 0.0, null], \"x\": [0.5, 0.75, null], \"mode\": \"lines\", \"line\": {\"width\": 2, \"color\": \"rgb(0, 0, 0)\"}}, {\"hoverinfo\": \"none\", \"y\": [1.0, 0.5, null], \"x\": [0.75, 1.0, null], \"mode\": \"lines\", \"line\": {\"width\": 2, \"color\": \"rgb(0, 0, 0)\"}}, {\"hoverinfo\": \"none\", \"y\": [1.0, 0.0, null], \"x\": [0.75, 0.75, null], \"mode\": \"lines\", \"line\": {\"width\": 2, \"color\": \"rgb(0, 0, 0)\"}}, {\"hoverinfo\": \"none\", \"y\": [0.5, 0.0, null], \"x\": [1.0, 0.75, null], \"mode\": \"lines\", \"line\": {\"width\": 2, \"color\": \"rgb(0, 0, 0)\"}}, {\"hoverinfo\": \"none\", \"y\": [0.0, 0.0, null], \"x\": [0.75, 0.5, null], \"mode\": \"lines\", \"line\": {\"width\": 2, \"color\": \"rgb(0, 0, 0)\"}}, {\"hoverinfo\": \"none\", \"y\": [0.0, 0.5, null], \"x\": [0.5, 0.375, null], \"mode\": \"lines\", \"line\": {\"width\": 2, \"color\": \"rgb(0, 0, 0)\"}}, {\"hoverinfo\": \"none\", \"y\": [0.0, 0.0, null], \"x\": [0.5, 0.25, null], \"mode\": \"lines\", \"line\": {\"width\": 2, \"color\": \"rgb(255, 0, 0)\"}}, {\"hoverinfo\": \"none\", \"y\": [0.0, 0.5, null], \"x\": [0.25, 0.375, null], \"mode\": \"lines\", \"line\": {\"width\": 2, \"color\": \"rgb(0, 0, 0)\"}}, {\"text\": [], \"y\": [0.5], \"textfont\": {\"color\": \"rgb(0, 0, 0)\"}, \"textposition\": \"middle center\", \"x\": [0.0], \"hoverinfo\": \"none\", \"marker\": {\"size\": 20, \"color\": \"rgb(255, 255, 255)\", \"line\": {\"width\": 2, \"color\": \"rgb(0, 0, 0)\"}}, \"mode\": \"markers+text\"}, {\"text\": [], \"y\": [1.0], \"textfont\": {\"color\": \"rgb(0, 0, 0)\"}, \"textposition\": \"middle center\", \"x\": [0.25], \"hoverinfo\": \"none\", \"marker\": {\"size\": 20, \"color\": \"rgb(255, 255, 255)\", \"line\": {\"width\": 2, \"color\": \"rgb(0, 0, 0)\"}}, \"mode\": \"markers+text\"}, {\"text\": [], \"y\": [1.0], \"textfont\": {\"color\": \"rgb(0, 0, 0)\"}, \"textposition\": \"middle center\", \"x\": [0.5], \"hoverinfo\": \"none\", \"marker\": {\"size\": 20, \"color\": \"rgb(255, 255, 255)\", \"line\": {\"width\": 2, \"color\": \"rgb(0, 0, 0)\"}}, \"mode\": \"markers+text\"}, {\"text\": [], \"y\": [1.0], \"textfont\": {\"color\": \"rgb(0, 0, 0)\"}, \"textposition\": \"middle center\", \"x\": [0.75], \"hoverinfo\": \"none\", \"marker\": {\"size\": 20, \"color\": \"rgb(255, 255, 255)\", \"line\": {\"width\": 2, \"color\": \"rgb(0, 0, 0)\"}}, \"mode\": \"markers+text\"}, {\"text\": [], \"y\": [0.5], \"textfont\": {\"color\": \"rgb(0, 0, 0)\"}, \"textposition\": \"middle center\", \"x\": [1.0], \"hoverinfo\": \"none\", \"marker\": {\"size\": 20, \"color\": \"rgb(255, 255, 255)\", \"line\": {\"width\": 2, \"color\": \"rgb(0, 0, 0)\"}}, \"mode\": \"markers+text\"}, {\"text\": [], \"y\": [0.0], \"textfont\": {\"color\": \"rgb(0, 0, 0)\"}, \"textposition\": \"middle center\", \"x\": [0.75], \"hoverinfo\": \"none\", \"marker\": {\"size\": 20, \"color\": \"rgb(255, 255, 255)\", \"line\": {\"width\": 2, \"color\": \"rgb(0, 0, 0)\"}}, \"mode\": \"markers+text\"}, {\"text\": [], \"y\": [0.0], \"textfont\": {\"color\": \"rgb(0, 0, 0)\"}, \"textposition\": \"middle center\", \"x\": [0.5], \"hoverinfo\": \"none\", \"marker\": {\"size\": 20, \"color\": \"rgb(255, 255, 255)\", \"line\": {\"width\": 2, \"color\": \"rgb(0, 0, 0)\"}}, \"mode\": \"markers+text\"}, {\"text\": [], \"y\": [0.0], \"textfont\": {\"color\": \"rgb(0, 0, 0)\"}, \"textposition\": \"middle center\", \"x\": [0.25], \"hoverinfo\": \"none\", \"marker\": {\"size\": 20, \"color\": \"rgb(255, 255, 255)\", \"line\": {\"width\": 2, \"color\": \"rgb(0, 0, 0)\"}}, \"mode\": \"markers+text\"}, {\"text\": [], \"y\": [0.5], \"textfont\": {\"color\": \"rgb(0, 0, 0)\"}, \"textposition\": \"middle center\", \"x\": [0.375], \"hoverinfo\": \"none\", \"marker\": {\"size\": 20, \"color\": \"rgb(255, 255, 255)\", \"line\": {\"width\": 2, \"color\": \"rgb(0, 0, 0)\"}}, \"mode\": \"markers+text\"}, {\"text\": [4, 8, 8, 11, 2, 7, 4, 9, 14, 10, 2, 6, 1, 7], \"y\": [0.768323871496594, 0.268323871496594, 1.0724637681159421, 0.5, 0.7406101423669093, 1.0724637681159421, 0.5093898576330907, 0.768323871496594, 0.5, 0.23167612850340602, -0.07246376811594203, 0.24061014236690928, -0.07246376811594203, 0.2593898576330907], \"textfont\": {\"color\": \"rgb(0, 0, 0)\"}, \"textposition\": \"middle center\", \"x\": [0.08835225700681207, 0.16164774299318793, 0.375, 0.2878787878787879, 0.4750594305323629, 0.625, 0.6625594305323629, 0.911647742993188, 0.7878787878787878, 0.911647742993188, 0.625, 0.3999405694676371, 0.375, 0.2749405694676371], \"hoverinfo\": \"none\", \"mode\": \"text\"}]}, {\"name\": 2, \"data\": [{\"hoverinfo\": \"none\", \"y\": [0.5, 1.0, null], \"x\": [0.0, 0.25, null], \"mode\": \"lines\", \"line\": {\"width\": 2, \"color\": \"rgb(0, 0, 0)\"}}, {\"hoverinfo\": \"none\", \"y\": [0.5, 0.0, null], \"x\": [0.0, 0.25, null], \"mode\": \"lines\", \"line\": {\"width\": 2, \"color\": \"rgb(0, 0, 0)\"}}, {\"hoverinfo\": \"none\", \"y\": [1.0, 1.0, null], \"x\": [0.25, 0.5, null], \"mode\": \"lines\", \"line\": {\"width\": 2, \"color\": \"rgb(0, 0, 0)\"}}, {\"hoverinfo\": \"none\", \"y\": [1.0, 0.0, null], \"x\": [0.25, 0.25, null], \"mode\": \"lines\", \"line\": {\"width\": 2, \"color\": \"rgb(0, 0, 0)\"}}, {\"hoverinfo\": \"none\", \"y\": [1.0, 0.5, null], \"x\": [0.5, 0.375, null], \"mode\": \"lines\", \"line\": {\"width\": 2, \"color\": \"rgb(255, 0, 0)\"}}, {\"hoverinfo\": \"none\", \"y\": [1.0, 1.0, null], \"x\": [0.5, 0.75, null], \"mode\": \"lines\", \"line\": {\"width\": 2, \"color\": \"rgb(0, 0, 0)\"}}, {\"hoverinfo\": \"none\", \"y\": [1.0, 0.0, null], \"x\": [0.5, 0.75, null], \"mode\": \"lines\", \"line\": {\"width\": 2, \"color\": \"rgb(0, 0, 0)\"}}, {\"hoverinfo\": \"none\", \"y\": [1.0, 0.5, null], \"x\": [0.75, 1.0, null], \"mode\": \"lines\", \"line\": {\"width\": 2, \"color\": \"rgb(0, 0, 0)\"}}, {\"hoverinfo\": \"none\", \"y\": [1.0, 0.0, null], \"x\": [0.75, 0.75, null], \"mode\": \"lines\", \"line\": {\"width\": 2, \"color\": \"rgb(0, 0, 0)\"}}, {\"hoverinfo\": \"none\", \"y\": [0.5, 0.0, null], \"x\": [1.0, 0.75, null], \"mode\": \"lines\", \"line\": {\"width\": 2, \"color\": \"rgb(0, 0, 0)\"}}, {\"hoverinfo\": \"none\", \"y\": [0.0, 0.0, null], \"x\": [0.75, 0.5, null], \"mode\": \"lines\", \"line\": {\"width\": 2, \"color\": \"rgb(0, 0, 0)\"}}, {\"hoverinfo\": \"none\", \"y\": [0.0, 0.5, null], \"x\": [0.5, 0.375, null], \"mode\": \"lines\", \"line\": {\"width\": 2, \"color\": \"rgb(0, 0, 0)\"}}, {\"hoverinfo\": \"none\", \"y\": [0.0, 0.0, null], \"x\": [0.5, 0.25, null], \"mode\": \"lines\", \"line\": {\"width\": 2, \"color\": \"rgb(0, 255, 0)\"}}, {\"hoverinfo\": \"none\", \"y\": [0.0, 0.5, null], \"x\": [0.25, 0.375, null], \"mode\": \"lines\", \"line\": {\"width\": 2, \"color\": \"rgb(0, 0, 0)\"}}, {\"text\": [], \"y\": [0.5], \"textfont\": {\"color\": \"rgb(0, 0, 0)\"}, \"textposition\": \"middle center\", \"x\": [0.0], \"hoverinfo\": \"none\", \"marker\": {\"size\": 20, \"color\": \"rgb(255, 255, 255)\", \"line\": {\"width\": 2, \"color\": \"rgb(0, 0, 0)\"}}, \"mode\": \"markers+text\"}, {\"text\": [], \"y\": [1.0], \"textfont\": {\"color\": \"rgb(0, 0, 0)\"}, \"textposition\": \"middle center\", \"x\": [0.25], \"hoverinfo\": \"none\", \"marker\": {\"size\": 20, \"color\": \"rgb(255, 255, 255)\", \"line\": {\"width\": 2, \"color\": \"rgb(0, 0, 0)\"}}, \"mode\": \"markers+text\"}, {\"text\": [], \"y\": [1.0], \"textfont\": {\"color\": \"rgb(0, 0, 0)\"}, \"textposition\": \"middle center\", \"x\": [0.5], \"hoverinfo\": \"none\", \"marker\": {\"size\": 20, \"color\": \"rgb(255, 255, 255)\", \"line\": {\"width\": 2, \"color\": \"rgb(0, 0, 0)\"}}, \"mode\": \"markers+text\"}, {\"text\": [], \"y\": [1.0], \"textfont\": {\"color\": \"rgb(0, 0, 0)\"}, \"textposition\": \"middle center\", \"x\": [0.75], \"hoverinfo\": \"none\", \"marker\": {\"size\": 20, \"color\": \"rgb(255, 255, 255)\", \"line\": {\"width\": 2, \"color\": \"rgb(0, 0, 0)\"}}, \"mode\": \"markers+text\"}, {\"text\": [], \"y\": [0.5], \"textfont\": {\"color\": \"rgb(0, 0, 0)\"}, \"textposition\": \"middle center\", \"x\": [1.0], \"hoverinfo\": \"none\", \"marker\": {\"size\": 20, \"color\": \"rgb(255, 255, 255)\", \"line\": {\"width\": 2, \"color\": \"rgb(0, 0, 0)\"}}, \"mode\": \"markers+text\"}, {\"text\": [], \"y\": [0.0], \"textfont\": {\"color\": \"rgb(0, 0, 0)\"}, \"textposition\": \"middle center\", \"x\": [0.75], \"hoverinfo\": \"none\", \"marker\": {\"size\": 20, \"color\": \"rgb(255, 255, 255)\", \"line\": {\"width\": 2, \"color\": \"rgb(0, 0, 0)\"}}, \"mode\": \"markers+text\"}, {\"text\": [], \"y\": [0.0], \"textfont\": {\"color\": \"rgb(0, 0, 0)\"}, \"textposition\": \"middle center\", \"x\": [0.5], \"hoverinfo\": \"none\", \"marker\": {\"size\": 20, \"color\": \"rgb(255, 255, 255)\", \"line\": {\"width\": 2, \"color\": \"rgb(0, 0, 0)\"}}, \"mode\": \"markers+text\"}, {\"text\": [], \"y\": [0.0], \"textfont\": {\"color\": \"rgb(0, 0, 0)\"}, \"textposition\": \"middle center\", \"x\": [0.25], \"hoverinfo\": \"none\", \"marker\": {\"size\": 20, \"color\": \"rgb(255, 255, 255)\", \"line\": {\"width\": 2, \"color\": \"rgb(0, 0, 0)\"}}, \"mode\": \"markers+text\"}, {\"text\": [], \"y\": [0.5], \"textfont\": {\"color\": \"rgb(0, 0, 0)\"}, \"textposition\": \"middle center\", \"x\": [0.375], \"hoverinfo\": \"none\", \"marker\": {\"size\": 20, \"color\": \"rgb(255, 255, 255)\", \"line\": {\"width\": 2, \"color\": \"rgb(0, 0, 0)\"}}, \"mode\": \"markers+text\"}, {\"text\": [4, 8, 8, 11, 2, 7, 4, 9, 14, 10, 2, 6, 1, 7], \"y\": [0.768323871496594, 0.268323871496594, 1.0724637681159421, 0.5, 0.7406101423669093, 1.0724637681159421, 0.5093898576330907, 0.768323871496594, 0.5, 0.23167612850340602, -0.07246376811594203, 0.24061014236690928, -0.07246376811594203, 0.2593898576330907], \"textfont\": {\"color\": \"rgb(0, 0, 0)\"}, \"textposition\": \"middle center\", \"x\": [0.08835225700681207, 0.16164774299318793, 0.375, 0.2878787878787879, 0.4750594305323629, 0.625, 0.6625594305323629, 0.911647742993188, 0.7878787878787878, 0.911647742993188, 0.625, 0.3999405694676371, 0.375, 0.2749405694676371], \"hoverinfo\": \"none\", \"mode\": \"text\"}]}, {\"name\": 3, \"data\": [{\"hoverinfo\": \"none\", \"y\": [0.5, 1.0, null], \"x\": [0.0, 0.25, null], \"mode\": \"lines\", \"line\": {\"width\": 2, \"color\": \"rgb(0, 0, 0)\"}}, {\"hoverinfo\": \"none\", \"y\": [0.5, 0.0, null], \"x\": [0.0, 0.25, null], \"mode\": \"lines\", \"line\": {\"width\": 2, \"color\": \"rgb(0, 0, 0)\"}}, {\"hoverinfo\": \"none\", \"y\": [1.0, 1.0, null], \"x\": [0.25, 0.5, null], \"mode\": \"lines\", \"line\": {\"width\": 2, \"color\": \"rgb(0, 0, 0)\"}}, {\"hoverinfo\": \"none\", \"y\": [1.0, 0.0, null], \"x\": [0.25, 0.25, null], \"mode\": \"lines\", \"line\": {\"width\": 2, \"color\": \"rgb(0, 0, 0)\"}}, {\"hoverinfo\": \"none\", \"y\": [1.0, 0.5, null], \"x\": [0.5, 0.375, null], \"mode\": \"lines\", \"line\": {\"width\": 2, \"color\": \"rgb(0, 255, 0)\"}}, {\"hoverinfo\": \"none\", \"y\": [1.0, 1.0, null], \"x\": [0.5, 0.75, null], \"mode\": \"lines\", \"line\": {\"width\": 2, \"color\": \"rgb(0, 0, 0)\"}}, {\"hoverinfo\": \"none\", \"y\": [1.0, 0.0, null], \"x\": [0.5, 0.75, null], \"mode\": \"lines\", \"line\": {\"width\": 2, \"color\": \"rgb(0, 0, 0)\"}}, {\"hoverinfo\": \"none\", \"y\": [1.0, 0.5, null], \"x\": [0.75, 1.0, null], \"mode\": \"lines\", \"line\": {\"width\": 2, \"color\": \"rgb(0, 0, 0)\"}}, {\"hoverinfo\": \"none\", \"y\": [1.0, 0.0, null], \"x\": [0.75, 0.75, null], \"mode\": \"lines\", \"line\": {\"width\": 2, \"color\": \"rgb(0, 0, 0)\"}}, {\"hoverinfo\": \"none\", \"y\": [0.5, 0.0, null], \"x\": [1.0, 0.75, null], \"mode\": \"lines\", \"line\": {\"width\": 2, \"color\": \"rgb(0, 0, 0)\"}}, {\"hoverinfo\": \"none\", \"y\": [0.0, 0.0, null], \"x\": [0.75, 0.5, null], \"mode\": \"lines\", \"line\": {\"width\": 2, \"color\": \"rgb(255, 0, 0)\"}}, {\"hoverinfo\": \"none\", \"y\": [0.0, 0.5, null], \"x\": [0.5, 0.375, null], \"mode\": \"lines\", \"line\": {\"width\": 2, \"color\": \"rgb(0, 0, 0)\"}}, {\"hoverinfo\": \"none\", \"y\": [0.0, 0.0, null], \"x\": [0.5, 0.25, null], \"mode\": \"lines\", \"line\": {\"width\": 2, \"color\": \"rgb(0, 255, 0)\"}}, {\"hoverinfo\": \"none\", \"y\": [0.0, 0.5, null], \"x\": [0.25, 0.375, null], \"mode\": \"lines\", \"line\": {\"width\": 2, \"color\": \"rgb(0, 0, 0)\"}}, {\"text\": [], \"y\": [0.5], \"textfont\": {\"color\": \"rgb(0, 0, 0)\"}, \"textposition\": \"middle center\", \"x\": [0.0], \"hoverinfo\": \"none\", \"marker\": {\"size\": 20, \"color\": \"rgb(255, 255, 255)\", \"line\": {\"width\": 2, \"color\": \"rgb(0, 0, 0)\"}}, \"mode\": \"markers+text\"}, {\"text\": [], \"y\": [1.0], \"textfont\": {\"color\": \"rgb(0, 0, 0)\"}, \"textposition\": \"middle center\", \"x\": [0.25], \"hoverinfo\": \"none\", \"marker\": {\"size\": 20, \"color\": \"rgb(255, 255, 255)\", \"line\": {\"width\": 2, \"color\": \"rgb(0, 0, 0)\"}}, \"mode\": \"markers+text\"}, {\"text\": [], \"y\": [1.0], \"textfont\": {\"color\": \"rgb(0, 0, 0)\"}, \"textposition\": \"middle center\", \"x\": [0.5], \"hoverinfo\": \"none\", \"marker\": {\"size\": 20, \"color\": \"rgb(255, 255, 255)\", \"line\": {\"width\": 2, \"color\": \"rgb(0, 0, 0)\"}}, \"mode\": \"markers+text\"}, {\"text\": [], \"y\": [1.0], \"textfont\": {\"color\": \"rgb(0, 0, 0)\"}, \"textposition\": \"middle center\", \"x\": [0.75], \"hoverinfo\": \"none\", \"marker\": {\"size\": 20, \"color\": \"rgb(255, 255, 255)\", \"line\": {\"width\": 2, \"color\": \"rgb(0, 0, 0)\"}}, \"mode\": \"markers+text\"}, {\"text\": [], \"y\": [0.5], \"textfont\": {\"color\": \"rgb(0, 0, 0)\"}, \"textposition\": \"middle center\", \"x\": [1.0], \"hoverinfo\": \"none\", \"marker\": {\"size\": 20, \"color\": \"rgb(255, 255, 255)\", \"line\": {\"width\": 2, \"color\": \"rgb(0, 0, 0)\"}}, \"mode\": \"markers+text\"}, {\"text\": [], \"y\": [0.0], \"textfont\": {\"color\": \"rgb(0, 0, 0)\"}, \"textposition\": \"middle center\", \"x\": [0.75], \"hoverinfo\": \"none\", \"marker\": {\"size\": 20, \"color\": \"rgb(255, 255, 255)\", \"line\": {\"width\": 2, \"color\": \"rgb(0, 0, 0)\"}}, \"mode\": \"markers+text\"}, {\"text\": [], \"y\": [0.0], \"textfont\": {\"color\": \"rgb(0, 0, 0)\"}, \"textposition\": \"middle center\", \"x\": [0.5], \"hoverinfo\": \"none\", \"marker\": {\"size\": 20, \"color\": \"rgb(255, 255, 255)\", \"line\": {\"width\": 2, \"color\": \"rgb(0, 0, 0)\"}}, \"mode\": \"markers+text\"}, {\"text\": [], \"y\": [0.0], \"textfont\": {\"color\": \"rgb(0, 0, 0)\"}, \"textposition\": \"middle center\", \"x\": [0.25], \"hoverinfo\": \"none\", \"marker\": {\"size\": 20, \"color\": \"rgb(255, 255, 255)\", \"line\": {\"width\": 2, \"color\": \"rgb(0, 0, 0)\"}}, \"mode\": \"markers+text\"}, {\"text\": [], \"y\": [0.5], \"textfont\": {\"color\": \"rgb(0, 0, 0)\"}, \"textposition\": \"middle center\", \"x\": [0.375], \"hoverinfo\": \"none\", \"marker\": {\"size\": 20, \"color\": \"rgb(255, 255, 255)\", \"line\": {\"width\": 2, \"color\": \"rgb(0, 0, 0)\"}}, \"mode\": \"markers+text\"}, {\"text\": [4, 8, 8, 11, 2, 7, 4, 9, 14, 10, 2, 6, 1, 7], \"y\": [0.768323871496594, 0.268323871496594, 1.0724637681159421, 0.5, 0.7406101423669093, 1.0724637681159421, 0.5093898576330907, 0.768323871496594, 0.5, 0.23167612850340602, -0.07246376811594203, 0.24061014236690928, -0.07246376811594203, 0.2593898576330907], \"textfont\": {\"color\": \"rgb(0, 0, 0)\"}, \"textposition\": \"middle center\", \"x\": [0.08835225700681207, 0.16164774299318793, 0.375, 0.2878787878787879, 0.4750594305323629, 0.625, 0.6625594305323629, 0.911647742993188, 0.7878787878787878, 0.911647742993188, 0.625, 0.3999405694676371, 0.375, 0.2749405694676371], \"hoverinfo\": \"none\", \"mode\": \"text\"}]}, {\"name\": 4, \"data\": [{\"hoverinfo\": \"none\", \"y\": [0.5, 1.0, null], \"x\": [0.0, 0.25, null], \"mode\": \"lines\", \"line\": {\"width\": 2, \"color\": \"rgb(255, 0, 0)\"}}, {\"hoverinfo\": \"none\", \"y\": [0.5, 0.0, null], \"x\": [0.0, 0.25, null], \"mode\": \"lines\", \"line\": {\"width\": 2, \"color\": \"rgb(0, 0, 0)\"}}, {\"hoverinfo\": \"none\", \"y\": [1.0, 1.0, null], \"x\": [0.25, 0.5, null], \"mode\": \"lines\", \"line\": {\"width\": 2, \"color\": \"rgb(0, 0, 0)\"}}, {\"hoverinfo\": \"none\", \"y\": [1.0, 0.0, null], \"x\": [0.25, 0.25, null], \"mode\": \"lines\", \"line\": {\"width\": 2, \"color\": \"rgb(0, 0, 0)\"}}, {\"hoverinfo\": \"none\", \"y\": [1.0, 0.5, null], \"x\": [0.5, 0.375, null], \"mode\": \"lines\", \"line\": {\"width\": 2, \"color\": \"rgb(0, 255, 0)\"}}, {\"hoverinfo\": \"none\", \"y\": [1.0, 1.0, null], \"x\": [0.5, 0.75, null], \"mode\": \"lines\", \"line\": {\"width\": 2, \"color\": \"rgb(0, 0, 0)\"}}, {\"hoverinfo\": \"none\", \"y\": [1.0, 0.0, null], \"x\": [0.5, 0.75, null], \"mode\": \"lines\", \"line\": {\"width\": 2, \"color\": \"rgb(0, 0, 0)\"}}, {\"hoverinfo\": \"none\", \"y\": [1.0, 0.5, null], \"x\": [0.75, 1.0, null], \"mode\": \"lines\", \"line\": {\"width\": 2, \"color\": \"rgb(0, 0, 0)\"}}, {\"hoverinfo\": \"none\", \"y\": [1.0, 0.0, null], \"x\": [0.75, 0.75, null], \"mode\": \"lines\", \"line\": {\"width\": 2, \"color\": \"rgb(0, 0, 0)\"}}, {\"hoverinfo\": \"none\", \"y\": [0.5, 0.0, null], \"x\": [1.0, 0.75, null], \"mode\": \"lines\", \"line\": {\"width\": 2, \"color\": \"rgb(0, 0, 0)\"}}, {\"hoverinfo\": \"none\", \"y\": [0.0, 0.0, null], \"x\": [0.75, 0.5, null], \"mode\": \"lines\", \"line\": {\"width\": 2, \"color\": \"rgb(0, 255, 0)\"}}, {\"hoverinfo\": \"none\", \"y\": [0.0, 0.5, null], \"x\": [0.5, 0.375, null], \"mode\": \"lines\", \"line\": {\"width\": 2, \"color\": \"rgb(0, 0, 0)\"}}, {\"hoverinfo\": \"none\", \"y\": [0.0, 0.0, null], \"x\": [0.5, 0.25, null], \"mode\": \"lines\", \"line\": {\"width\": 2, \"color\": \"rgb(0, 255, 0)\"}}, {\"hoverinfo\": \"none\", \"y\": [0.0, 0.5, null], \"x\": [0.25, 0.375, null], \"mode\": \"lines\", \"line\": {\"width\": 2, \"color\": \"rgb(0, 0, 0)\"}}, {\"text\": [], \"y\": [0.5], \"textfont\": {\"color\": \"rgb(0, 0, 0)\"}, \"textposition\": \"middle center\", \"x\": [0.0], \"hoverinfo\": \"none\", \"marker\": {\"size\": 20, \"color\": \"rgb(255, 255, 255)\", \"line\": {\"width\": 2, \"color\": \"rgb(0, 0, 0)\"}}, \"mode\": \"markers+text\"}, {\"text\": [], \"y\": [1.0], \"textfont\": {\"color\": \"rgb(0, 0, 0)\"}, \"textposition\": \"middle center\", \"x\": [0.25], \"hoverinfo\": \"none\", \"marker\": {\"size\": 20, \"color\": \"rgb(255, 255, 255)\", \"line\": {\"width\": 2, \"color\": \"rgb(0, 0, 0)\"}}, \"mode\": \"markers+text\"}, {\"text\": [], \"y\": [1.0], \"textfont\": {\"color\": \"rgb(0, 0, 0)\"}, \"textposition\": \"middle center\", \"x\": [0.5], \"hoverinfo\": \"none\", \"marker\": {\"size\": 20, \"color\": \"rgb(255, 255, 255)\", \"line\": {\"width\": 2, \"color\": \"rgb(0, 0, 0)\"}}, \"mode\": \"markers+text\"}, {\"text\": [], \"y\": [1.0], \"textfont\": {\"color\": \"rgb(0, 0, 0)\"}, \"textposition\": \"middle center\", \"x\": [0.75], \"hoverinfo\": \"none\", \"marker\": {\"size\": 20, \"color\": \"rgb(255, 255, 255)\", \"line\": {\"width\": 2, \"color\": \"rgb(0, 0, 0)\"}}, \"mode\": \"markers+text\"}, {\"text\": [], \"y\": [0.5], \"textfont\": {\"color\": \"rgb(0, 0, 0)\"}, \"textposition\": \"middle center\", \"x\": [1.0], \"hoverinfo\": \"none\", \"marker\": {\"size\": 20, \"color\": \"rgb(255, 255, 255)\", \"line\": {\"width\": 2, \"color\": \"rgb(0, 0, 0)\"}}, \"mode\": \"markers+text\"}, {\"text\": [], \"y\": [0.0], \"textfont\": {\"color\": \"rgb(0, 0, 0)\"}, \"textposition\": \"middle center\", \"x\": [0.75], \"hoverinfo\": \"none\", \"marker\": {\"size\": 20, \"color\": \"rgb(255, 255, 255)\", \"line\": {\"width\": 2, \"color\": \"rgb(0, 0, 0)\"}}, \"mode\": \"markers+text\"}, {\"text\": [], \"y\": [0.0], \"textfont\": {\"color\": \"rgb(0, 0, 0)\"}, \"textposition\": \"middle center\", \"x\": [0.5], \"hoverinfo\": \"none\", \"marker\": {\"size\": 20, \"color\": \"rgb(255, 255, 255)\", \"line\": {\"width\": 2, \"color\": \"rgb(0, 0, 0)\"}}, \"mode\": \"markers+text\"}, {\"text\": [], \"y\": [0.0], \"textfont\": {\"color\": \"rgb(0, 0, 0)\"}, \"textposition\": \"middle center\", \"x\": [0.25], \"hoverinfo\": \"none\", \"marker\": {\"size\": 20, \"color\": \"rgb(255, 255, 255)\", \"line\": {\"width\": 2, \"color\": \"rgb(0, 0, 0)\"}}, \"mode\": \"markers+text\"}, {\"text\": [], \"y\": [0.5], \"textfont\": {\"color\": \"rgb(0, 0, 0)\"}, \"textposition\": \"middle center\", \"x\": [0.375], \"hoverinfo\": \"none\", \"marker\": {\"size\": 20, \"color\": \"rgb(255, 255, 255)\", \"line\": {\"width\": 2, \"color\": \"rgb(0, 0, 0)\"}}, \"mode\": \"markers+text\"}, {\"text\": [4, 8, 8, 11, 2, 7, 4, 9, 14, 10, 2, 6, 1, 7], \"y\": [0.768323871496594, 0.268323871496594, 1.0724637681159421, 0.5, 0.7406101423669093, 1.0724637681159421, 0.5093898576330907, 0.768323871496594, 0.5, 0.23167612850340602, -0.07246376811594203, 0.24061014236690928, -0.07246376811594203, 0.2593898576330907], \"textfont\": {\"color\": \"rgb(0, 0, 0)\"}, \"textposition\": \"middle center\", \"x\": [0.08835225700681207, 0.16164774299318793, 0.375, 0.2878787878787879, 0.4750594305323629, 0.625, 0.6625594305323629, 0.911647742993188, 0.7878787878787878, 0.911647742993188, 0.625, 0.3999405694676371, 0.375, 0.2749405694676371], \"hoverinfo\": \"none\", \"mode\": \"text\"}]}, {\"name\": 5, \"data\": [{\"hoverinfo\": \"none\", \"y\": [0.5, 1.0, null], \"x\": [0.0, 0.25, null], \"mode\": \"lines\", \"line\": {\"width\": 2, \"color\": \"rgb(0, 255, 0)\"}}, {\"hoverinfo\": \"none\", \"y\": [0.5, 0.0, null], \"x\": [0.0, 0.25, null], \"mode\": \"lines\", \"line\": {\"width\": 2, \"color\": \"rgb(0, 0, 0)\"}}, {\"hoverinfo\": \"none\", \"y\": [1.0, 1.0, null], \"x\": [0.25, 0.5, null], \"mode\": \"lines\", \"line\": {\"width\": 2, \"color\": \"rgb(0, 0, 0)\"}}, {\"hoverinfo\": \"none\", \"y\": [1.0, 0.0, null], \"x\": [0.25, 0.25, null], \"mode\": \"lines\", \"line\": {\"width\": 2, \"color\": \"rgb(0, 0, 0)\"}}, {\"hoverinfo\": \"none\", \"y\": [1.0, 0.5, null], \"x\": [0.5, 0.375, null], \"mode\": \"lines\", \"line\": {\"width\": 2, \"color\": \"rgb(0, 255, 0)\"}}, {\"hoverinfo\": \"none\", \"y\": [1.0, 1.0, null], \"x\": [0.5, 0.75, null], \"mode\": \"lines\", \"line\": {\"width\": 2, \"color\": \"rgb(0, 0, 0)\"}}, {\"hoverinfo\": \"none\", \"y\": [1.0, 0.0, null], \"x\": [0.5, 0.75, null], \"mode\": \"lines\", \"line\": {\"width\": 2, \"color\": \"rgb(255, 0, 0)\"}}, {\"hoverinfo\": \"none\", \"y\": [1.0, 0.5, null], \"x\": [0.75, 1.0, null], \"mode\": \"lines\", \"line\": {\"width\": 2, \"color\": \"rgb(0, 0, 0)\"}}, {\"hoverinfo\": \"none\", \"y\": [1.0, 0.0, null], \"x\": [0.75, 0.75, null], \"mode\": \"lines\", \"line\": {\"width\": 2, \"color\": \"rgb(0, 0, 0)\"}}, {\"hoverinfo\": \"none\", \"y\": [0.5, 0.0, null], \"x\": [1.0, 0.75, null], \"mode\": \"lines\", \"line\": {\"width\": 2, \"color\": \"rgb(0, 0, 0)\"}}, {\"hoverinfo\": \"none\", \"y\": [0.0, 0.0, null], \"x\": [0.75, 0.5, null], \"mode\": \"lines\", \"line\": {\"width\": 2, \"color\": \"rgb(0, 255, 0)\"}}, {\"hoverinfo\": \"none\", \"y\": [0.0, 0.5, null], \"x\": [0.5, 0.375, null], \"mode\": \"lines\", \"line\": {\"width\": 2, \"color\": \"rgb(0, 0, 0)\"}}, {\"hoverinfo\": \"none\", \"y\": [0.0, 0.0, null], \"x\": [0.5, 0.25, null], \"mode\": \"lines\", \"line\": {\"width\": 2, \"color\": \"rgb(0, 255, 0)\"}}, {\"hoverinfo\": \"none\", \"y\": [0.0, 0.5, null], \"x\": [0.25, 0.375, null], \"mode\": \"lines\", \"line\": {\"width\": 2, \"color\": \"rgb(0, 0, 0)\"}}, {\"text\": [], \"y\": [0.5], \"textfont\": {\"color\": \"rgb(0, 0, 0)\"}, \"textposition\": \"middle center\", \"x\": [0.0], \"hoverinfo\": \"none\", \"marker\": {\"size\": 20, \"color\": \"rgb(255, 255, 255)\", \"line\": {\"width\": 2, \"color\": \"rgb(0, 0, 0)\"}}, \"mode\": \"markers+text\"}, {\"text\": [], \"y\": [1.0], \"textfont\": {\"color\": \"rgb(0, 0, 0)\"}, \"textposition\": \"middle center\", \"x\": [0.25], \"hoverinfo\": \"none\", \"marker\": {\"size\": 20, \"color\": \"rgb(255, 255, 255)\", \"line\": {\"width\": 2, \"color\": \"rgb(0, 0, 0)\"}}, \"mode\": \"markers+text\"}, {\"text\": [], \"y\": [1.0], \"textfont\": {\"color\": \"rgb(0, 0, 0)\"}, \"textposition\": \"middle center\", \"x\": [0.5], \"hoverinfo\": \"none\", \"marker\": {\"size\": 20, \"color\": \"rgb(255, 255, 255)\", \"line\": {\"width\": 2, \"color\": \"rgb(0, 0, 0)\"}}, \"mode\": \"markers+text\"}, {\"text\": [], \"y\": [1.0], \"textfont\": {\"color\": \"rgb(0, 0, 0)\"}, \"textposition\": \"middle center\", \"x\": [0.75], \"hoverinfo\": \"none\", \"marker\": {\"size\": 20, \"color\": \"rgb(255, 255, 255)\", \"line\": {\"width\": 2, \"color\": \"rgb(0, 0, 0)\"}}, \"mode\": \"markers+text\"}, {\"text\": [], \"y\": [0.5], \"textfont\": {\"color\": \"rgb(0, 0, 0)\"}, \"textposition\": \"middle center\", \"x\": [1.0], \"hoverinfo\": \"none\", \"marker\": {\"size\": 20, \"color\": \"rgb(255, 255, 255)\", \"line\": {\"width\": 2, \"color\": \"rgb(0, 0, 0)\"}}, \"mode\": \"markers+text\"}, {\"text\": [], \"y\": [0.0], \"textfont\": {\"color\": \"rgb(0, 0, 0)\"}, \"textposition\": \"middle center\", \"x\": [0.75], \"hoverinfo\": \"none\", \"marker\": {\"size\": 20, \"color\": \"rgb(255, 255, 255)\", \"line\": {\"width\": 2, \"color\": \"rgb(0, 0, 0)\"}}, \"mode\": \"markers+text\"}, {\"text\": [], \"y\": [0.0], \"textfont\": {\"color\": \"rgb(0, 0, 0)\"}, \"textposition\": \"middle center\", \"x\": [0.5], \"hoverinfo\": \"none\", \"marker\": {\"size\": 20, \"color\": \"rgb(255, 255, 255)\", \"line\": {\"width\": 2, \"color\": \"rgb(0, 0, 0)\"}}, \"mode\": \"markers+text\"}, {\"text\": [], \"y\": [0.0], \"textfont\": {\"color\": \"rgb(0, 0, 0)\"}, \"textposition\": \"middle center\", \"x\": [0.25], \"hoverinfo\": \"none\", \"marker\": {\"size\": 20, \"color\": \"rgb(255, 255, 255)\", \"line\": {\"width\": 2, \"color\": \"rgb(0, 0, 0)\"}}, \"mode\": \"markers+text\"}, {\"text\": [], \"y\": [0.5], \"textfont\": {\"color\": \"rgb(0, 0, 0)\"}, \"textposition\": \"middle center\", \"x\": [0.375], \"hoverinfo\": \"none\", \"marker\": {\"size\": 20, \"color\": \"rgb(255, 255, 255)\", \"line\": {\"width\": 2, \"color\": \"rgb(0, 0, 0)\"}}, \"mode\": \"markers+text\"}, {\"text\": [4, 8, 8, 11, 2, 7, 4, 9, 14, 10, 2, 6, 1, 7], \"y\": [0.768323871496594, 0.268323871496594, 1.0724637681159421, 0.5, 0.7406101423669093, 1.0724637681159421, 0.5093898576330907, 0.768323871496594, 0.5, 0.23167612850340602, -0.07246376811594203, 0.24061014236690928, -0.07246376811594203, 0.2593898576330907], \"textfont\": {\"color\": \"rgb(0, 0, 0)\"}, \"textposition\": \"middle center\", \"x\": [0.08835225700681207, 0.16164774299318793, 0.375, 0.2878787878787879, 0.4750594305323629, 0.625, 0.6625594305323629, 0.911647742993188, 0.7878787878787878, 0.911647742993188, 0.625, 0.3999405694676371, 0.375, 0.2749405694676371], \"hoverinfo\": \"none\", \"mode\": \"text\"}]}, {\"name\": 6, \"data\": [{\"hoverinfo\": \"none\", \"y\": [0.5, 1.0, null], \"x\": [0.0, 0.25, null], \"mode\": \"lines\", \"line\": {\"width\": 2, \"color\": \"rgb(0, 255, 0)\"}}, {\"hoverinfo\": \"none\", \"y\": [0.5, 0.0, null], \"x\": [0.0, 0.25, null], \"mode\": \"lines\", \"line\": {\"width\": 2, \"color\": \"rgb(0, 0, 0)\"}}, {\"hoverinfo\": \"none\", \"y\": [1.0, 1.0, null], \"x\": [0.25, 0.5, null], \"mode\": \"lines\", \"line\": {\"width\": 2, \"color\": \"rgb(0, 0, 0)\"}}, {\"hoverinfo\": \"none\", \"y\": [1.0, 0.0, null], \"x\": [0.25, 0.25, null], \"mode\": \"lines\", \"line\": {\"width\": 2, \"color\": \"rgb(0, 0, 0)\"}}, {\"hoverinfo\": \"none\", \"y\": [1.0, 0.5, null], \"x\": [0.5, 0.375, null], \"mode\": \"lines\", \"line\": {\"width\": 2, \"color\": \"rgb(0, 255, 0)\"}}, {\"hoverinfo\": \"none\", \"y\": [1.0, 1.0, null], \"x\": [0.5, 0.75, null], \"mode\": \"lines\", \"line\": {\"width\": 2, \"color\": \"rgb(0, 0, 0)\"}}, {\"hoverinfo\": \"none\", \"y\": [1.0, 0.0, null], \"x\": [0.5, 0.75, null], \"mode\": \"lines\", \"line\": {\"width\": 2, \"color\": \"rgb(0, 255, 0)\"}}, {\"hoverinfo\": \"none\", \"y\": [1.0, 0.5, null], \"x\": [0.75, 1.0, null], \"mode\": \"lines\", \"line\": {\"width\": 2, \"color\": \"rgb(0, 0, 0)\"}}, {\"hoverinfo\": \"none\", \"y\": [1.0, 0.0, null], \"x\": [0.75, 0.75, null], \"mode\": \"lines\", \"line\": {\"width\": 2, \"color\": \"rgb(0, 0, 0)\"}}, {\"hoverinfo\": \"none\", \"y\": [0.5, 0.0, null], \"x\": [1.0, 0.75, null], \"mode\": \"lines\", \"line\": {\"width\": 2, \"color\": \"rgb(0, 0, 0)\"}}, {\"hoverinfo\": \"none\", \"y\": [0.0, 0.0, null], \"x\": [0.75, 0.5, null], \"mode\": \"lines\", \"line\": {\"width\": 2, \"color\": \"rgb(0, 255, 0)\"}}, {\"hoverinfo\": \"none\", \"y\": [0.0, 0.5, null], \"x\": [0.5, 0.375, null], \"mode\": \"lines\", \"line\": {\"width\": 2, \"color\": \"rgb(255, 0, 0)\"}}, {\"hoverinfo\": \"none\", \"y\": [0.0, 0.0, null], \"x\": [0.5, 0.25, null], \"mode\": \"lines\", \"line\": {\"width\": 2, \"color\": \"rgb(0, 255, 0)\"}}, {\"hoverinfo\": \"none\", \"y\": [0.0, 0.5, null], \"x\": [0.25, 0.375, null], \"mode\": \"lines\", \"line\": {\"width\": 2, \"color\": \"rgb(0, 0, 0)\"}}, {\"text\": [], \"y\": [0.5], \"textfont\": {\"color\": \"rgb(0, 0, 0)\"}, \"textposition\": \"middle center\", \"x\": [0.0], \"hoverinfo\": \"none\", \"marker\": {\"size\": 20, \"color\": \"rgb(255, 255, 255)\", \"line\": {\"width\": 2, \"color\": \"rgb(0, 0, 0)\"}}, \"mode\": \"markers+text\"}, {\"text\": [], \"y\": [1.0], \"textfont\": {\"color\": \"rgb(0, 0, 0)\"}, \"textposition\": \"middle center\", \"x\": [0.25], \"hoverinfo\": \"none\", \"marker\": {\"size\": 20, \"color\": \"rgb(255, 255, 255)\", \"line\": {\"width\": 2, \"color\": \"rgb(0, 0, 0)\"}}, \"mode\": \"markers+text\"}, {\"text\": [], \"y\": [1.0], \"textfont\": {\"color\": \"rgb(0, 0, 0)\"}, \"textposition\": \"middle center\", \"x\": [0.5], \"hoverinfo\": \"none\", \"marker\": {\"size\": 20, \"color\": \"rgb(255, 255, 255)\", \"line\": {\"width\": 2, \"color\": \"rgb(0, 0, 0)\"}}, \"mode\": \"markers+text\"}, {\"text\": [], \"y\": [1.0], \"textfont\": {\"color\": \"rgb(0, 0, 0)\"}, \"textposition\": \"middle center\", \"x\": [0.75], \"hoverinfo\": \"none\", \"marker\": {\"size\": 20, \"color\": \"rgb(255, 255, 255)\", \"line\": {\"width\": 2, \"color\": \"rgb(0, 0, 0)\"}}, \"mode\": \"markers+text\"}, {\"text\": [], \"y\": [0.5], \"textfont\": {\"color\": \"rgb(0, 0, 0)\"}, \"textposition\": \"middle center\", \"x\": [1.0], \"hoverinfo\": \"none\", \"marker\": {\"size\": 20, \"color\": \"rgb(255, 255, 255)\", \"line\": {\"width\": 2, \"color\": \"rgb(0, 0, 0)\"}}, \"mode\": \"markers+text\"}, {\"text\": [], \"y\": [0.0], \"textfont\": {\"color\": \"rgb(0, 0, 0)\"}, \"textposition\": \"middle center\", \"x\": [0.75], \"hoverinfo\": \"none\", \"marker\": {\"size\": 20, \"color\": \"rgb(255, 255, 255)\", \"line\": {\"width\": 2, \"color\": \"rgb(0, 0, 0)\"}}, \"mode\": \"markers+text\"}, {\"text\": [], \"y\": [0.0], \"textfont\": {\"color\": \"rgb(0, 0, 0)\"}, \"textposition\": \"middle center\", \"x\": [0.5], \"hoverinfo\": \"none\", \"marker\": {\"size\": 20, \"color\": \"rgb(255, 255, 255)\", \"line\": {\"width\": 2, \"color\": \"rgb(0, 0, 0)\"}}, \"mode\": \"markers+text\"}, {\"text\": [], \"y\": [0.0], \"textfont\": {\"color\": \"rgb(0, 0, 0)\"}, \"textposition\": \"middle center\", \"x\": [0.25], \"hoverinfo\": \"none\", \"marker\": {\"size\": 20, \"color\": \"rgb(255, 255, 255)\", \"line\": {\"width\": 2, \"color\": \"rgb(0, 0, 0)\"}}, \"mode\": \"markers+text\"}, {\"text\": [], \"y\": [0.5], \"textfont\": {\"color\": \"rgb(0, 0, 0)\"}, \"textposition\": \"middle center\", \"x\": [0.375], \"hoverinfo\": \"none\", \"marker\": {\"size\": 20, \"color\": \"rgb(255, 255, 255)\", \"line\": {\"width\": 2, \"color\": \"rgb(0, 0, 0)\"}}, \"mode\": \"markers+text\"}, {\"text\": [4, 8, 8, 11, 2, 7, 4, 9, 14, 10, 2, 6, 1, 7], \"y\": [0.768323871496594, 0.268323871496594, 1.0724637681159421, 0.5, 0.7406101423669093, 1.0724637681159421, 0.5093898576330907, 0.768323871496594, 0.5, 0.23167612850340602, -0.07246376811594203, 0.24061014236690928, -0.07246376811594203, 0.2593898576330907], \"textfont\": {\"color\": \"rgb(0, 0, 0)\"}, \"textposition\": \"middle center\", \"x\": [0.08835225700681207, 0.16164774299318793, 0.375, 0.2878787878787879, 0.4750594305323629, 0.625, 0.6625594305323629, 0.911647742993188, 0.7878787878787878, 0.911647742993188, 0.625, 0.3999405694676371, 0.375, 0.2749405694676371], \"hoverinfo\": \"none\", \"mode\": \"text\"}]}, {\"name\": 7, \"data\": [{\"hoverinfo\": \"none\", \"y\": [0.5, 1.0, null], \"x\": [0.0, 0.25, null], \"mode\": \"lines\", \"line\": {\"width\": 2, \"color\": \"rgb(0, 255, 0)\"}}, {\"hoverinfo\": \"none\", \"y\": [0.5, 0.0, null], \"x\": [0.0, 0.25, null], \"mode\": \"lines\", \"line\": {\"width\": 2, \"color\": \"rgb(0, 0, 0)\"}}, {\"hoverinfo\": \"none\", \"y\": [1.0, 1.0, null], \"x\": [0.25, 0.5, null], \"mode\": \"lines\", \"line\": {\"width\": 2, \"color\": \"rgb(0, 0, 0)\"}}, {\"hoverinfo\": \"none\", \"y\": [1.0, 0.0, null], \"x\": [0.25, 0.25, null], \"mode\": \"lines\", \"line\": {\"width\": 2, \"color\": \"rgb(0, 0, 0)\"}}, {\"hoverinfo\": \"none\", \"y\": [1.0, 0.5, null], \"x\": [0.5, 0.375, null], \"mode\": \"lines\", \"line\": {\"width\": 2, \"color\": \"rgb(0, 255, 0)\"}}, {\"hoverinfo\": \"none\", \"y\": [1.0, 1.0, null], \"x\": [0.5, 0.75, null], \"mode\": \"lines\", \"line\": {\"width\": 2, \"color\": \"rgb(255, 0, 0)\"}}, {\"hoverinfo\": \"none\", \"y\": [1.0, 0.0, null], \"x\": [0.5, 0.75, null], \"mode\": \"lines\", \"line\": {\"width\": 2, \"color\": \"rgb(0, 255, 0)\"}}, {\"hoverinfo\": \"none\", \"y\": [1.0, 0.5, null], \"x\": [0.75, 1.0, null], \"mode\": \"lines\", \"line\": {\"width\": 2, \"color\": \"rgb(0, 0, 0)\"}}, {\"hoverinfo\": \"none\", \"y\": [1.0, 0.0, null], \"x\": [0.75, 0.75, null], \"mode\": \"lines\", \"line\": {\"width\": 2, \"color\": \"rgb(0, 0, 0)\"}}, {\"hoverinfo\": \"none\", \"y\": [0.5, 0.0, null], \"x\": [1.0, 0.75, null], \"mode\": \"lines\", \"line\": {\"width\": 2, \"color\": \"rgb(0, 0, 0)\"}}, {\"hoverinfo\": \"none\", \"y\": [0.0, 0.0, null], \"x\": [0.75, 0.5, null], \"mode\": \"lines\", \"line\": {\"width\": 2, \"color\": \"rgb(0, 255, 0)\"}}, {\"hoverinfo\": \"none\", \"y\": [0.0, 0.5, null], \"x\": [0.5, 0.375, null], \"mode\": \"lines\", \"line\": {\"width\": 2, \"color\": \"rgb(0, 0, 0)\"}}, {\"hoverinfo\": \"none\", \"y\": [0.0, 0.0, null], \"x\": [0.5, 0.25, null], \"mode\": \"lines\", \"line\": {\"width\": 2, \"color\": \"rgb(0, 255, 0)\"}}, {\"hoverinfo\": \"none\", \"y\": [0.0, 0.5, null], \"x\": [0.25, 0.375, null], \"mode\": \"lines\", \"line\": {\"width\": 2, \"color\": \"rgb(0, 0, 0)\"}}, {\"text\": [], \"y\": [0.5], \"textfont\": {\"color\": \"rgb(0, 0, 0)\"}, \"textposition\": \"middle center\", \"x\": [0.0], \"hoverinfo\": \"none\", \"marker\": {\"size\": 20, \"color\": \"rgb(255, 255, 255)\", \"line\": {\"width\": 2, \"color\": \"rgb(0, 0, 0)\"}}, \"mode\": \"markers+text\"}, {\"text\": [], \"y\": [1.0], \"textfont\": {\"color\": \"rgb(0, 0, 0)\"}, \"textposition\": \"middle center\", \"x\": [0.25], \"hoverinfo\": \"none\", \"marker\": {\"size\": 20, \"color\": \"rgb(255, 255, 255)\", \"line\": {\"width\": 2, \"color\": \"rgb(0, 0, 0)\"}}, \"mode\": \"markers+text\"}, {\"text\": [], \"y\": [1.0], \"textfont\": {\"color\": \"rgb(0, 0, 0)\"}, \"textposition\": \"middle center\", \"x\": [0.5], \"hoverinfo\": \"none\", \"marker\": {\"size\": 20, \"color\": \"rgb(255, 255, 255)\", \"line\": {\"width\": 2, \"color\": \"rgb(0, 0, 0)\"}}, \"mode\": \"markers+text\"}, {\"text\": [], \"y\": [1.0], \"textfont\": {\"color\": \"rgb(0, 0, 0)\"}, \"textposition\": \"middle center\", \"x\": [0.75], \"hoverinfo\": \"none\", \"marker\": {\"size\": 20, \"color\": \"rgb(255, 255, 255)\", \"line\": {\"width\": 2, \"color\": \"rgb(0, 0, 0)\"}}, \"mode\": \"markers+text\"}, {\"text\": [], \"y\": [0.5], \"textfont\": {\"color\": \"rgb(0, 0, 0)\"}, \"textposition\": \"middle center\", \"x\": [1.0], \"hoverinfo\": \"none\", \"marker\": {\"size\": 20, \"color\": \"rgb(255, 255, 255)\", \"line\": {\"width\": 2, \"color\": \"rgb(0, 0, 0)\"}}, \"mode\": \"markers+text\"}, {\"text\": [], \"y\": [0.0], \"textfont\": {\"color\": \"rgb(0, 0, 0)\"}, \"textposition\": \"middle center\", \"x\": [0.75], \"hoverinfo\": \"none\", \"marker\": {\"size\": 20, \"color\": \"rgb(255, 255, 255)\", \"line\": {\"width\": 2, \"color\": \"rgb(0, 0, 0)\"}}, \"mode\": \"markers+text\"}, {\"text\": [], \"y\": [0.0], \"textfont\": {\"color\": \"rgb(0, 0, 0)\"}, \"textposition\": \"middle center\", \"x\": [0.5], \"hoverinfo\": \"none\", \"marker\": {\"size\": 20, \"color\": \"rgb(255, 255, 255)\", \"line\": {\"width\": 2, \"color\": \"rgb(0, 0, 0)\"}}, \"mode\": \"markers+text\"}, {\"text\": [], \"y\": [0.0], \"textfont\": {\"color\": \"rgb(0, 0, 0)\"}, \"textposition\": \"middle center\", \"x\": [0.25], \"hoverinfo\": \"none\", \"marker\": {\"size\": 20, \"color\": \"rgb(255, 255, 255)\", \"line\": {\"width\": 2, \"color\": \"rgb(0, 0, 0)\"}}, \"mode\": \"markers+text\"}, {\"text\": [], \"y\": [0.5], \"textfont\": {\"color\": \"rgb(0, 0, 0)\"}, \"textposition\": \"middle center\", \"x\": [0.375], \"hoverinfo\": \"none\", \"marker\": {\"size\": 20, \"color\": \"rgb(255, 255, 255)\", \"line\": {\"width\": 2, \"color\": \"rgb(0, 0, 0)\"}}, \"mode\": \"markers+text\"}, {\"text\": [4, 8, 8, 11, 2, 7, 4, 9, 14, 10, 2, 6, 1, 7], \"y\": [0.768323871496594, 0.268323871496594, 1.0724637681159421, 0.5, 0.7406101423669093, 1.0724637681159421, 0.5093898576330907, 0.768323871496594, 0.5, 0.23167612850340602, -0.07246376811594203, 0.24061014236690928, -0.07246376811594203, 0.2593898576330907], \"textfont\": {\"color\": \"rgb(0, 0, 0)\"}, \"textposition\": \"middle center\", \"x\": [0.08835225700681207, 0.16164774299318793, 0.375, 0.2878787878787879, 0.4750594305323629, 0.625, 0.6625594305323629, 0.911647742993188, 0.7878787878787878, 0.911647742993188, 0.625, 0.3999405694676371, 0.375, 0.2749405694676371], \"hoverinfo\": \"none\", \"mode\": \"text\"}]}, {\"name\": 8, \"data\": [{\"hoverinfo\": \"none\", \"y\": [0.5, 1.0, null], \"x\": [0.0, 0.25, null], \"mode\": \"lines\", \"line\": {\"width\": 2, \"color\": \"rgb(0, 255, 0)\"}}, {\"hoverinfo\": \"none\", \"y\": [0.5, 0.0, null], \"x\": [0.0, 0.25, null], \"mode\": \"lines\", \"line\": {\"width\": 2, \"color\": \"rgb(0, 0, 0)\"}}, {\"hoverinfo\": \"none\", \"y\": [1.0, 1.0, null], \"x\": [0.25, 0.5, null], \"mode\": \"lines\", \"line\": {\"width\": 2, \"color\": \"rgb(0, 0, 0)\"}}, {\"hoverinfo\": \"none\", \"y\": [1.0, 0.0, null], \"x\": [0.25, 0.25, null], \"mode\": \"lines\", \"line\": {\"width\": 2, \"color\": \"rgb(0, 0, 0)\"}}, {\"hoverinfo\": \"none\", \"y\": [1.0, 0.5, null], \"x\": [0.5, 0.375, null], \"mode\": \"lines\", \"line\": {\"width\": 2, \"color\": \"rgb(0, 255, 0)\"}}, {\"hoverinfo\": \"none\", \"y\": [1.0, 1.0, null], \"x\": [0.5, 0.75, null], \"mode\": \"lines\", \"line\": {\"width\": 2, \"color\": \"rgb(0, 255, 0)\"}}, {\"hoverinfo\": \"none\", \"y\": [1.0, 0.0, null], \"x\": [0.5, 0.75, null], \"mode\": \"lines\", \"line\": {\"width\": 2, \"color\": \"rgb(0, 255, 0)\"}}, {\"hoverinfo\": \"none\", \"y\": [1.0, 0.5, null], \"x\": [0.75, 1.0, null], \"mode\": \"lines\", \"line\": {\"width\": 2, \"color\": \"rgb(0, 0, 0)\"}}, {\"hoverinfo\": \"none\", \"y\": [1.0, 0.0, null], \"x\": [0.75, 0.75, null], \"mode\": \"lines\", \"line\": {\"width\": 2, \"color\": \"rgb(0, 0, 0)\"}}, {\"hoverinfo\": \"none\", \"y\": [0.5, 0.0, null], \"x\": [1.0, 0.75, null], \"mode\": \"lines\", \"line\": {\"width\": 2, \"color\": \"rgb(0, 0, 0)\"}}, {\"hoverinfo\": \"none\", \"y\": [0.0, 0.0, null], \"x\": [0.75, 0.5, null], \"mode\": \"lines\", \"line\": {\"width\": 2, \"color\": \"rgb(0, 255, 0)\"}}, {\"hoverinfo\": \"none\", \"y\": [0.0, 0.5, null], \"x\": [0.5, 0.375, null], \"mode\": \"lines\", \"line\": {\"width\": 2, \"color\": \"rgb(0, 0, 0)\"}}, {\"hoverinfo\": \"none\", \"y\": [0.0, 0.0, null], \"x\": [0.5, 0.25, null], \"mode\": \"lines\", \"line\": {\"width\": 2, \"color\": \"rgb(0, 255, 0)\"}}, {\"hoverinfo\": \"none\", \"y\": [0.0, 0.5, null], \"x\": [0.25, 0.375, null], \"mode\": \"lines\", \"line\": {\"width\": 2, \"color\": \"rgb(255, 0, 0)\"}}, {\"text\": [], \"y\": [0.5], \"textfont\": {\"color\": \"rgb(0, 0, 0)\"}, \"textposition\": \"middle center\", \"x\": [0.0], \"hoverinfo\": \"none\", \"marker\": {\"size\": 20, \"color\": \"rgb(255, 255, 255)\", \"line\": {\"width\": 2, \"color\": \"rgb(0, 0, 0)\"}}, \"mode\": \"markers+text\"}, {\"text\": [], \"y\": [1.0], \"textfont\": {\"color\": \"rgb(0, 0, 0)\"}, \"textposition\": \"middle center\", \"x\": [0.25], \"hoverinfo\": \"none\", \"marker\": {\"size\": 20, \"color\": \"rgb(255, 255, 255)\", \"line\": {\"width\": 2, \"color\": \"rgb(0, 0, 0)\"}}, \"mode\": \"markers+text\"}, {\"text\": [], \"y\": [1.0], \"textfont\": {\"color\": \"rgb(0, 0, 0)\"}, \"textposition\": \"middle center\", \"x\": [0.5], \"hoverinfo\": \"none\", \"marker\": {\"size\": 20, \"color\": \"rgb(255, 255, 255)\", \"line\": {\"width\": 2, \"color\": \"rgb(0, 0, 0)\"}}, \"mode\": \"markers+text\"}, {\"text\": [], \"y\": [1.0], \"textfont\": {\"color\": \"rgb(0, 0, 0)\"}, \"textposition\": \"middle center\", \"x\": [0.75], \"hoverinfo\": \"none\", \"marker\": {\"size\": 20, \"color\": \"rgb(255, 255, 255)\", \"line\": {\"width\": 2, \"color\": \"rgb(0, 0, 0)\"}}, \"mode\": \"markers+text\"}, {\"text\": [], \"y\": [0.5], \"textfont\": {\"color\": \"rgb(0, 0, 0)\"}, \"textposition\": \"middle center\", \"x\": [1.0], \"hoverinfo\": \"none\", \"marker\": {\"size\": 20, \"color\": \"rgb(255, 255, 255)\", \"line\": {\"width\": 2, \"color\": \"rgb(0, 0, 0)\"}}, \"mode\": \"markers+text\"}, {\"text\": [], \"y\": [0.0], \"textfont\": {\"color\": \"rgb(0, 0, 0)\"}, \"textposition\": \"middle center\", \"x\": [0.75], \"hoverinfo\": \"none\", \"marker\": {\"size\": 20, \"color\": \"rgb(255, 255, 255)\", \"line\": {\"width\": 2, \"color\": \"rgb(0, 0, 0)\"}}, \"mode\": \"markers+text\"}, {\"text\": [], \"y\": [0.0], \"textfont\": {\"color\": \"rgb(0, 0, 0)\"}, \"textposition\": \"middle center\", \"x\": [0.5], \"hoverinfo\": \"none\", \"marker\": {\"size\": 20, \"color\": \"rgb(255, 255, 255)\", \"line\": {\"width\": 2, \"color\": \"rgb(0, 0, 0)\"}}, \"mode\": \"markers+text\"}, {\"text\": [], \"y\": [0.0], \"textfont\": {\"color\": \"rgb(0, 0, 0)\"}, \"textposition\": \"middle center\", \"x\": [0.25], \"hoverinfo\": \"none\", \"marker\": {\"size\": 20, \"color\": \"rgb(255, 255, 255)\", \"line\": {\"width\": 2, \"color\": \"rgb(0, 0, 0)\"}}, \"mode\": \"markers+text\"}, {\"text\": [], \"y\": [0.5], \"textfont\": {\"color\": \"rgb(0, 0, 0)\"}, \"textposition\": \"middle center\", \"x\": [0.375], \"hoverinfo\": \"none\", \"marker\": {\"size\": 20, \"color\": \"rgb(255, 255, 255)\", \"line\": {\"width\": 2, \"color\": \"rgb(0, 0, 0)\"}}, \"mode\": \"markers+text\"}, {\"text\": [4, 8, 8, 11, 2, 7, 4, 9, 14, 10, 2, 6, 1, 7], \"y\": [0.768323871496594, 0.268323871496594, 1.0724637681159421, 0.5, 0.7406101423669093, 1.0724637681159421, 0.5093898576330907, 0.768323871496594, 0.5, 0.23167612850340602, -0.07246376811594203, 0.24061014236690928, -0.07246376811594203, 0.2593898576330907], \"textfont\": {\"color\": \"rgb(0, 0, 0)\"}, \"textposition\": \"middle center\", \"x\": [0.08835225700681207, 0.16164774299318793, 0.375, 0.2878787878787879, 0.4750594305323629, 0.625, 0.6625594305323629, 0.911647742993188, 0.7878787878787878, 0.911647742993188, 0.625, 0.3999405694676371, 0.375, 0.2749405694676371], \"hoverinfo\": \"none\", \"mode\": \"text\"}]}, {\"name\": 9, \"data\": [{\"hoverinfo\": \"none\", \"y\": [0.5, 1.0, null], \"x\": [0.0, 0.25, null], \"mode\": \"lines\", \"line\": {\"width\": 2, \"color\": \"rgb(0, 255, 0)\"}}, {\"hoverinfo\": \"none\", \"y\": [0.5, 0.0, null], \"x\": [0.0, 0.25, null], \"mode\": \"lines\", \"line\": {\"width\": 2, \"color\": \"rgb(255, 0, 0)\"}}, {\"hoverinfo\": \"none\", \"y\": [1.0, 1.0, null], \"x\": [0.25, 0.5, null], \"mode\": \"lines\", \"line\": {\"width\": 2, \"color\": \"rgb(0, 0, 0)\"}}, {\"hoverinfo\": \"none\", \"y\": [1.0, 0.0, null], \"x\": [0.25, 0.25, null], \"mode\": \"lines\", \"line\": {\"width\": 2, \"color\": \"rgb(0, 0, 0)\"}}, {\"hoverinfo\": \"none\", \"y\": [1.0, 0.5, null], \"x\": [0.5, 0.375, null], \"mode\": \"lines\", \"line\": {\"width\": 2, \"color\": \"rgb(0, 255, 0)\"}}, {\"hoverinfo\": \"none\", \"y\": [1.0, 1.0, null], \"x\": [0.5, 0.75, null], \"mode\": \"lines\", \"line\": {\"width\": 2, \"color\": \"rgb(0, 255, 0)\"}}, {\"hoverinfo\": \"none\", \"y\": [1.0, 0.0, null], \"x\": [0.5, 0.75, null], \"mode\": \"lines\", \"line\": {\"width\": 2, \"color\": \"rgb(0, 255, 0)\"}}, {\"hoverinfo\": \"none\", \"y\": [1.0, 0.5, null], \"x\": [0.75, 1.0, null], \"mode\": \"lines\", \"line\": {\"width\": 2, \"color\": \"rgb(0, 0, 0)\"}}, {\"hoverinfo\": \"none\", \"y\": [1.0, 0.0, null], \"x\": [0.75, 0.75, null], \"mode\": \"lines\", \"line\": {\"width\": 2, \"color\": \"rgb(0, 0, 0)\"}}, {\"hoverinfo\": \"none\", \"y\": [0.5, 0.0, null], \"x\": [1.0, 0.75, null], \"mode\": \"lines\", \"line\": {\"width\": 2, \"color\": \"rgb(0, 0, 0)\"}}, {\"hoverinfo\": \"none\", \"y\": [0.0, 0.0, null], \"x\": [0.75, 0.5, null], \"mode\": \"lines\", \"line\": {\"width\": 2, \"color\": \"rgb(0, 255, 0)\"}}, {\"hoverinfo\": \"none\", \"y\": [0.0, 0.5, null], \"x\": [0.5, 0.375, null], \"mode\": \"lines\", \"line\": {\"width\": 2, \"color\": \"rgb(0, 0, 0)\"}}, {\"hoverinfo\": \"none\", \"y\": [0.0, 0.0, null], \"x\": [0.5, 0.25, null], \"mode\": \"lines\", \"line\": {\"width\": 2, \"color\": \"rgb(0, 255, 0)\"}}, {\"hoverinfo\": \"none\", \"y\": [0.0, 0.5, null], \"x\": [0.25, 0.375, null], \"mode\": \"lines\", \"line\": {\"width\": 2, \"color\": \"rgb(0, 0, 0)\"}}, {\"text\": [], \"y\": [0.5], \"textfont\": {\"color\": \"rgb(0, 0, 0)\"}, \"textposition\": \"middle center\", \"x\": [0.0], \"hoverinfo\": \"none\", \"marker\": {\"size\": 20, \"color\": \"rgb(255, 255, 255)\", \"line\": {\"width\": 2, \"color\": \"rgb(0, 0, 0)\"}}, \"mode\": \"markers+text\"}, {\"text\": [], \"y\": [1.0], \"textfont\": {\"color\": \"rgb(0, 0, 0)\"}, \"textposition\": \"middle center\", \"x\": [0.25], \"hoverinfo\": \"none\", \"marker\": {\"size\": 20, \"color\": \"rgb(255, 255, 255)\", \"line\": {\"width\": 2, \"color\": \"rgb(0, 0, 0)\"}}, \"mode\": \"markers+text\"}, {\"text\": [], \"y\": [1.0], \"textfont\": {\"color\": \"rgb(0, 0, 0)\"}, \"textposition\": \"middle center\", \"x\": [0.5], \"hoverinfo\": \"none\", \"marker\": {\"size\": 20, \"color\": \"rgb(255, 255, 255)\", \"line\": {\"width\": 2, \"color\": \"rgb(0, 0, 0)\"}}, \"mode\": \"markers+text\"}, {\"text\": [], \"y\": [1.0], \"textfont\": {\"color\": \"rgb(0, 0, 0)\"}, \"textposition\": \"middle center\", \"x\": [0.75], \"hoverinfo\": \"none\", \"marker\": {\"size\": 20, \"color\": \"rgb(255, 255, 255)\", \"line\": {\"width\": 2, \"color\": \"rgb(0, 0, 0)\"}}, \"mode\": \"markers+text\"}, {\"text\": [], \"y\": [0.5], \"textfont\": {\"color\": \"rgb(0, 0, 0)\"}, \"textposition\": \"middle center\", \"x\": [1.0], \"hoverinfo\": \"none\", \"marker\": {\"size\": 20, \"color\": \"rgb(255, 255, 255)\", \"line\": {\"width\": 2, \"color\": \"rgb(0, 0, 0)\"}}, \"mode\": \"markers+text\"}, {\"text\": [], \"y\": [0.0], \"textfont\": {\"color\": \"rgb(0, 0, 0)\"}, \"textposition\": \"middle center\", \"x\": [0.75], \"hoverinfo\": \"none\", \"marker\": {\"size\": 20, \"color\": \"rgb(255, 255, 255)\", \"line\": {\"width\": 2, \"color\": \"rgb(0, 0, 0)\"}}, \"mode\": \"markers+text\"}, {\"text\": [], \"y\": [0.0], \"textfont\": {\"color\": \"rgb(0, 0, 0)\"}, \"textposition\": \"middle center\", \"x\": [0.5], \"hoverinfo\": \"none\", \"marker\": {\"size\": 20, \"color\": \"rgb(255, 255, 255)\", \"line\": {\"width\": 2, \"color\": \"rgb(0, 0, 0)\"}}, \"mode\": \"markers+text\"}, {\"text\": [], \"y\": [0.0], \"textfont\": {\"color\": \"rgb(0, 0, 0)\"}, \"textposition\": \"middle center\", \"x\": [0.25], \"hoverinfo\": \"none\", \"marker\": {\"size\": 20, \"color\": \"rgb(255, 255, 255)\", \"line\": {\"width\": 2, \"color\": \"rgb(0, 0, 0)\"}}, \"mode\": \"markers+text\"}, {\"text\": [], \"y\": [0.5], \"textfont\": {\"color\": \"rgb(0, 0, 0)\"}, \"textposition\": \"middle center\", \"x\": [0.375], \"hoverinfo\": \"none\", \"marker\": {\"size\": 20, \"color\": \"rgb(255, 255, 255)\", \"line\": {\"width\": 2, \"color\": \"rgb(0, 0, 0)\"}}, \"mode\": \"markers+text\"}, {\"text\": [4, 8, 8, 11, 2, 7, 4, 9, 14, 10, 2, 6, 1, 7], \"y\": [0.768323871496594, 0.268323871496594, 1.0724637681159421, 0.5, 0.7406101423669093, 1.0724637681159421, 0.5093898576330907, 0.768323871496594, 0.5, 0.23167612850340602, -0.07246376811594203, 0.24061014236690928, -0.07246376811594203, 0.2593898576330907], \"textfont\": {\"color\": \"rgb(0, 0, 0)\"}, \"textposition\": \"middle center\", \"x\": [0.08835225700681207, 0.16164774299318793, 0.375, 0.2878787878787879, 0.4750594305323629, 0.625, 0.6625594305323629, 0.911647742993188, 0.7878787878787878, 0.911647742993188, 0.625, 0.3999405694676371, 0.375, 0.2749405694676371], \"hoverinfo\": \"none\", \"mode\": \"text\"}]}, {\"name\": 10, \"data\": [{\"hoverinfo\": \"none\", \"y\": [0.5, 1.0, null], \"x\": [0.0, 0.25, null], \"mode\": \"lines\", \"line\": {\"width\": 2, \"color\": \"rgb(0, 255, 0)\"}}, {\"hoverinfo\": \"none\", \"y\": [0.5, 0.0, null], \"x\": [0.0, 0.25, null], \"mode\": \"lines\", \"line\": {\"width\": 2, \"color\": \"rgb(0, 255, 0)\"}}, {\"hoverinfo\": \"none\", \"y\": [1.0, 1.0, null], \"x\": [0.25, 0.5, null], \"mode\": \"lines\", \"line\": {\"width\": 2, \"color\": \"rgb(255, 0, 0)\"}}, {\"hoverinfo\": \"none\", \"y\": [1.0, 0.0, null], \"x\": [0.25, 0.25, null], \"mode\": \"lines\", \"line\": {\"width\": 2, \"color\": \"rgb(0, 0, 0)\"}}, {\"hoverinfo\": \"none\", \"y\": [1.0, 0.5, null], \"x\": [0.5, 0.375, null], \"mode\": \"lines\", \"line\": {\"width\": 2, \"color\": \"rgb(0, 255, 0)\"}}, {\"hoverinfo\": \"none\", \"y\": [1.0, 1.0, null], \"x\": [0.5, 0.75, null], \"mode\": \"lines\", \"line\": {\"width\": 2, \"color\": \"rgb(0, 255, 0)\"}}, {\"hoverinfo\": \"none\", \"y\": [1.0, 0.0, null], \"x\": [0.5, 0.75, null], \"mode\": \"lines\", \"line\": {\"width\": 2, \"color\": \"rgb(0, 255, 0)\"}}, {\"hoverinfo\": \"none\", \"y\": [1.0, 0.5, null], \"x\": [0.75, 1.0, null], \"mode\": \"lines\", \"line\": {\"width\": 2, \"color\": \"rgb(0, 0, 0)\"}}, {\"hoverinfo\": \"none\", \"y\": [1.0, 0.0, null], \"x\": [0.75, 0.75, null], \"mode\": \"lines\", \"line\": {\"width\": 2, \"color\": \"rgb(0, 0, 0)\"}}, {\"hoverinfo\": \"none\", \"y\": [0.5, 0.0, null], \"x\": [1.0, 0.75, null], \"mode\": \"lines\", \"line\": {\"width\": 2, \"color\": \"rgb(0, 0, 0)\"}}, {\"hoverinfo\": \"none\", \"y\": [0.0, 0.0, null], \"x\": [0.75, 0.5, null], \"mode\": \"lines\", \"line\": {\"width\": 2, \"color\": \"rgb(0, 255, 0)\"}}, {\"hoverinfo\": \"none\", \"y\": [0.0, 0.5, null], \"x\": [0.5, 0.375, null], \"mode\": \"lines\", \"line\": {\"width\": 2, \"color\": \"rgb(0, 0, 0)\"}}, {\"hoverinfo\": \"none\", \"y\": [0.0, 0.0, null], \"x\": [0.5, 0.25, null], \"mode\": \"lines\", \"line\": {\"width\": 2, \"color\": \"rgb(0, 255, 0)\"}}, {\"hoverinfo\": \"none\", \"y\": [0.0, 0.5, null], \"x\": [0.25, 0.375, null], \"mode\": \"lines\", \"line\": {\"width\": 2, \"color\": \"rgb(0, 0, 0)\"}}, {\"text\": [], \"y\": [0.5], \"textfont\": {\"color\": \"rgb(0, 0, 0)\"}, \"textposition\": \"middle center\", \"x\": [0.0], \"hoverinfo\": \"none\", \"marker\": {\"size\": 20, \"color\": \"rgb(255, 255, 255)\", \"line\": {\"width\": 2, \"color\": \"rgb(0, 0, 0)\"}}, \"mode\": \"markers+text\"}, {\"text\": [], \"y\": [1.0], \"textfont\": {\"color\": \"rgb(0, 0, 0)\"}, \"textposition\": \"middle center\", \"x\": [0.25], \"hoverinfo\": \"none\", \"marker\": {\"size\": 20, \"color\": \"rgb(255, 255, 255)\", \"line\": {\"width\": 2, \"color\": \"rgb(0, 0, 0)\"}}, \"mode\": \"markers+text\"}, {\"text\": [], \"y\": [1.0], \"textfont\": {\"color\": \"rgb(0, 0, 0)\"}, \"textposition\": \"middle center\", \"x\": [0.5], \"hoverinfo\": \"none\", \"marker\": {\"size\": 20, \"color\": \"rgb(255, 255, 255)\", \"line\": {\"width\": 2, \"color\": \"rgb(0, 0, 0)\"}}, \"mode\": \"markers+text\"}, {\"text\": [], \"y\": [1.0], \"textfont\": {\"color\": \"rgb(0, 0, 0)\"}, \"textposition\": \"middle center\", \"x\": [0.75], \"hoverinfo\": \"none\", \"marker\": {\"size\": 20, \"color\": \"rgb(255, 255, 255)\", \"line\": {\"width\": 2, \"color\": \"rgb(0, 0, 0)\"}}, \"mode\": \"markers+text\"}, {\"text\": [], \"y\": [0.5], \"textfont\": {\"color\": \"rgb(0, 0, 0)\"}, \"textposition\": \"middle center\", \"x\": [1.0], \"hoverinfo\": \"none\", \"marker\": {\"size\": 20, \"color\": \"rgb(255, 255, 255)\", \"line\": {\"width\": 2, \"color\": \"rgb(0, 0, 0)\"}}, \"mode\": \"markers+text\"}, {\"text\": [], \"y\": [0.0], \"textfont\": {\"color\": \"rgb(0, 0, 0)\"}, \"textposition\": \"middle center\", \"x\": [0.75], \"hoverinfo\": \"none\", \"marker\": {\"size\": 20, \"color\": \"rgb(255, 255, 255)\", \"line\": {\"width\": 2, \"color\": \"rgb(0, 0, 0)\"}}, \"mode\": \"markers+text\"}, {\"text\": [], \"y\": [0.0], \"textfont\": {\"color\": \"rgb(0, 0, 0)\"}, \"textposition\": \"middle center\", \"x\": [0.5], \"hoverinfo\": \"none\", \"marker\": {\"size\": 20, \"color\": \"rgb(255, 255, 255)\", \"line\": {\"width\": 2, \"color\": \"rgb(0, 0, 0)\"}}, \"mode\": \"markers+text\"}, {\"text\": [], \"y\": [0.0], \"textfont\": {\"color\": \"rgb(0, 0, 0)\"}, \"textposition\": \"middle center\", \"x\": [0.25], \"hoverinfo\": \"none\", \"marker\": {\"size\": 20, \"color\": \"rgb(255, 255, 255)\", \"line\": {\"width\": 2, \"color\": \"rgb(0, 0, 0)\"}}, \"mode\": \"markers+text\"}, {\"text\": [], \"y\": [0.5], \"textfont\": {\"color\": \"rgb(0, 0, 0)\"}, \"textposition\": \"middle center\", \"x\": [0.375], \"hoverinfo\": \"none\", \"marker\": {\"size\": 20, \"color\": \"rgb(255, 255, 255)\", \"line\": {\"width\": 2, \"color\": \"rgb(0, 0, 0)\"}}, \"mode\": \"markers+text\"}, {\"text\": [4, 8, 8, 11, 2, 7, 4, 9, 14, 10, 2, 6, 1, 7], \"y\": [0.768323871496594, 0.268323871496594, 1.0724637681159421, 0.5, 0.7406101423669093, 1.0724637681159421, 0.5093898576330907, 0.768323871496594, 0.5, 0.23167612850340602, -0.07246376811594203, 0.24061014236690928, -0.07246376811594203, 0.2593898576330907], \"textfont\": {\"color\": \"rgb(0, 0, 0)\"}, \"textposition\": \"middle center\", \"x\": [0.08835225700681207, 0.16164774299318793, 0.375, 0.2878787878787879, 0.4750594305323629, 0.625, 0.6625594305323629, 0.911647742993188, 0.7878787878787878, 0.911647742993188, 0.625, 0.3999405694676371, 0.375, 0.2749405694676371], \"hoverinfo\": \"none\", \"mode\": \"text\"}]}, {\"name\": 11, \"data\": [{\"hoverinfo\": \"none\", \"y\": [0.5, 1.0, null], \"x\": [0.0, 0.25, null], \"mode\": \"lines\", \"line\": {\"width\": 2, \"color\": \"rgb(0, 255, 0)\"}}, {\"hoverinfo\": \"none\", \"y\": [0.5, 0.0, null], \"x\": [0.0, 0.25, null], \"mode\": \"lines\", \"line\": {\"width\": 2, \"color\": \"rgb(0, 255, 0)\"}}, {\"hoverinfo\": \"none\", \"y\": [1.0, 1.0, null], \"x\": [0.25, 0.5, null], \"mode\": \"lines\", \"line\": {\"width\": 2, \"color\": \"rgb(0, 0, 0)\"}}, {\"hoverinfo\": \"none\", \"y\": [1.0, 0.0, null], \"x\": [0.25, 0.25, null], \"mode\": \"lines\", \"line\": {\"width\": 2, \"color\": \"rgb(0, 0, 0)\"}}, {\"hoverinfo\": \"none\", \"y\": [1.0, 0.5, null], \"x\": [0.5, 0.375, null], \"mode\": \"lines\", \"line\": {\"width\": 2, \"color\": \"rgb(0, 255, 0)\"}}, {\"hoverinfo\": \"none\", \"y\": [1.0, 1.0, null], \"x\": [0.5, 0.75, null], \"mode\": \"lines\", \"line\": {\"width\": 2, \"color\": \"rgb(0, 255, 0)\"}}, {\"hoverinfo\": \"none\", \"y\": [1.0, 0.0, null], \"x\": [0.5, 0.75, null], \"mode\": \"lines\", \"line\": {\"width\": 2, \"color\": \"rgb(0, 255, 0)\"}}, {\"hoverinfo\": \"none\", \"y\": [1.0, 0.5, null], \"x\": [0.75, 1.0, null], \"mode\": \"lines\", \"line\": {\"width\": 2, \"color\": \"rgb(255, 0, 0)\"}}, {\"hoverinfo\": \"none\", \"y\": [1.0, 0.0, null], \"x\": [0.75, 0.75, null], \"mode\": \"lines\", \"line\": {\"width\": 2, \"color\": \"rgb(0, 0, 0)\"}}, {\"hoverinfo\": \"none\", \"y\": [0.5, 0.0, null], \"x\": [1.0, 0.75, null], \"mode\": \"lines\", \"line\": {\"width\": 2, \"color\": \"rgb(0, 0, 0)\"}}, {\"hoverinfo\": \"none\", \"y\": [0.0, 0.0, null], \"x\": [0.75, 0.5, null], \"mode\": \"lines\", \"line\": {\"width\": 2, \"color\": \"rgb(0, 255, 0)\"}}, {\"hoverinfo\": \"none\", \"y\": [0.0, 0.5, null], \"x\": [0.5, 0.375, null], \"mode\": \"lines\", \"line\": {\"width\": 2, \"color\": \"rgb(0, 0, 0)\"}}, {\"hoverinfo\": \"none\", \"y\": [0.0, 0.0, null], \"x\": [0.5, 0.25, null], \"mode\": \"lines\", \"line\": {\"width\": 2, \"color\": \"rgb(0, 255, 0)\"}}, {\"hoverinfo\": \"none\", \"y\": [0.0, 0.5, null], \"x\": [0.25, 0.375, null], \"mode\": \"lines\", \"line\": {\"width\": 2, \"color\": \"rgb(0, 0, 0)\"}}, {\"text\": [], \"y\": [0.5], \"textfont\": {\"color\": \"rgb(0, 0, 0)\"}, \"textposition\": \"middle center\", \"x\": [0.0], \"hoverinfo\": \"none\", \"marker\": {\"size\": 20, \"color\": \"rgb(255, 255, 255)\", \"line\": {\"width\": 2, \"color\": \"rgb(0, 0, 0)\"}}, \"mode\": \"markers+text\"}, {\"text\": [], \"y\": [1.0], \"textfont\": {\"color\": \"rgb(0, 0, 0)\"}, \"textposition\": \"middle center\", \"x\": [0.25], \"hoverinfo\": \"none\", \"marker\": {\"size\": 20, \"color\": \"rgb(255, 255, 255)\", \"line\": {\"width\": 2, \"color\": \"rgb(0, 0, 0)\"}}, \"mode\": \"markers+text\"}, {\"text\": [], \"y\": [1.0], \"textfont\": {\"color\": \"rgb(0, 0, 0)\"}, \"textposition\": \"middle center\", \"x\": [0.5], \"hoverinfo\": \"none\", \"marker\": {\"size\": 20, \"color\": \"rgb(255, 255, 255)\", \"line\": {\"width\": 2, \"color\": \"rgb(0, 0, 0)\"}}, \"mode\": \"markers+text\"}, {\"text\": [], \"y\": [1.0], \"textfont\": {\"color\": \"rgb(0, 0, 0)\"}, \"textposition\": \"middle center\", \"x\": [0.75], \"hoverinfo\": \"none\", \"marker\": {\"size\": 20, \"color\": \"rgb(255, 255, 255)\", \"line\": {\"width\": 2, \"color\": \"rgb(0, 0, 0)\"}}, \"mode\": \"markers+text\"}, {\"text\": [], \"y\": [0.5], \"textfont\": {\"color\": \"rgb(0, 0, 0)\"}, \"textposition\": \"middle center\", \"x\": [1.0], \"hoverinfo\": \"none\", \"marker\": {\"size\": 20, \"color\": \"rgb(255, 255, 255)\", \"line\": {\"width\": 2, \"color\": \"rgb(0, 0, 0)\"}}, \"mode\": \"markers+text\"}, {\"text\": [], \"y\": [0.0], \"textfont\": {\"color\": \"rgb(0, 0, 0)\"}, \"textposition\": \"middle center\", \"x\": [0.75], \"hoverinfo\": \"none\", \"marker\": {\"size\": 20, \"color\": \"rgb(255, 255, 255)\", \"line\": {\"width\": 2, \"color\": \"rgb(0, 0, 0)\"}}, \"mode\": \"markers+text\"}, {\"text\": [], \"y\": [0.0], \"textfont\": {\"color\": \"rgb(0, 0, 0)\"}, \"textposition\": \"middle center\", \"x\": [0.5], \"hoverinfo\": \"none\", \"marker\": {\"size\": 20, \"color\": \"rgb(255, 255, 255)\", \"line\": {\"width\": 2, \"color\": \"rgb(0, 0, 0)\"}}, \"mode\": \"markers+text\"}, {\"text\": [], \"y\": [0.0], \"textfont\": {\"color\": \"rgb(0, 0, 0)\"}, \"textposition\": \"middle center\", \"x\": [0.25], \"hoverinfo\": \"none\", \"marker\": {\"size\": 20, \"color\": \"rgb(255, 255, 255)\", \"line\": {\"width\": 2, \"color\": \"rgb(0, 0, 0)\"}}, \"mode\": \"markers+text\"}, {\"text\": [], \"y\": [0.5], \"textfont\": {\"color\": \"rgb(0, 0, 0)\"}, \"textposition\": \"middle center\", \"x\": [0.375], \"hoverinfo\": \"none\", \"marker\": {\"size\": 20, \"color\": \"rgb(255, 255, 255)\", \"line\": {\"width\": 2, \"color\": \"rgb(0, 0, 0)\"}}, \"mode\": \"markers+text\"}, {\"text\": [4, 8, 8, 11, 2, 7, 4, 9, 14, 10, 2, 6, 1, 7], \"y\": [0.768323871496594, 0.268323871496594, 1.0724637681159421, 0.5, 0.7406101423669093, 1.0724637681159421, 0.5093898576330907, 0.768323871496594, 0.5, 0.23167612850340602, -0.07246376811594203, 0.24061014236690928, -0.07246376811594203, 0.2593898576330907], \"textfont\": {\"color\": \"rgb(0, 0, 0)\"}, \"textposition\": \"middle center\", \"x\": [0.08835225700681207, 0.16164774299318793, 0.375, 0.2878787878787879, 0.4750594305323629, 0.625, 0.6625594305323629, 0.911647742993188, 0.7878787878787878, 0.911647742993188, 0.625, 0.3999405694676371, 0.375, 0.2749405694676371], \"hoverinfo\": \"none\", \"mode\": \"text\"}]}, {\"name\": 12, \"data\": [{\"hoverinfo\": \"none\", \"y\": [0.5, 1.0, null], \"x\": [0.0, 0.25, null], \"mode\": \"lines\", \"line\": {\"width\": 2, \"color\": \"rgb(0, 255, 0)\"}}, {\"hoverinfo\": \"none\", \"y\": [0.5, 0.0, null], \"x\": [0.0, 0.25, null], \"mode\": \"lines\", \"line\": {\"width\": 2, \"color\": \"rgb(0, 255, 0)\"}}, {\"hoverinfo\": \"none\", \"y\": [1.0, 1.0, null], \"x\": [0.25, 0.5, null], \"mode\": \"lines\", \"line\": {\"width\": 2, \"color\": \"rgb(0, 0, 0)\"}}, {\"hoverinfo\": \"none\", \"y\": [1.0, 0.0, null], \"x\": [0.25, 0.25, null], \"mode\": \"lines\", \"line\": {\"width\": 2, \"color\": \"rgb(0, 0, 0)\"}}, {\"hoverinfo\": \"none\", \"y\": [1.0, 0.5, null], \"x\": [0.5, 0.375, null], \"mode\": \"lines\", \"line\": {\"width\": 2, \"color\": \"rgb(0, 255, 0)\"}}, {\"hoverinfo\": \"none\", \"y\": [1.0, 1.0, null], \"x\": [0.5, 0.75, null], \"mode\": \"lines\", \"line\": {\"width\": 2, \"color\": \"rgb(0, 255, 0)\"}}, {\"hoverinfo\": \"none\", \"y\": [1.0, 0.0, null], \"x\": [0.5, 0.75, null], \"mode\": \"lines\", \"line\": {\"width\": 2, \"color\": \"rgb(0, 255, 0)\"}}, {\"hoverinfo\": \"none\", \"y\": [1.0, 0.5, null], \"x\": [0.75, 1.0, null], \"mode\": \"lines\", \"line\": {\"width\": 2, \"color\": \"rgb(0, 255, 0)\"}}, {\"hoverinfo\": \"none\", \"y\": [1.0, 0.0, null], \"x\": [0.75, 0.75, null], \"mode\": \"lines\", \"line\": {\"width\": 2, \"color\": \"rgb(0, 0, 0)\"}}, {\"hoverinfo\": \"none\", \"y\": [0.5, 0.0, null], \"x\": [1.0, 0.75, null], \"mode\": \"lines\", \"line\": {\"width\": 2, \"color\": \"rgb(255, 0, 0)\"}}, {\"hoverinfo\": \"none\", \"y\": [0.0, 0.0, null], \"x\": [0.75, 0.5, null], \"mode\": \"lines\", \"line\": {\"width\": 2, \"color\": \"rgb(0, 255, 0)\"}}, {\"hoverinfo\": \"none\", \"y\": [0.0, 0.5, null], \"x\": [0.5, 0.375, null], \"mode\": \"lines\", \"line\": {\"width\": 2, \"color\": \"rgb(0, 0, 0)\"}}, {\"hoverinfo\": \"none\", \"y\": [0.0, 0.0, null], \"x\": [0.5, 0.25, null], \"mode\": \"lines\", \"line\": {\"width\": 2, \"color\": \"rgb(0, 255, 0)\"}}, {\"hoverinfo\": \"none\", \"y\": [0.0, 0.5, null], \"x\": [0.25, 0.375, null], \"mode\": \"lines\", \"line\": {\"width\": 2, \"color\": \"rgb(0, 0, 0)\"}}, {\"text\": [], \"y\": [0.5], \"textfont\": {\"color\": \"rgb(0, 0, 0)\"}, \"textposition\": \"middle center\", \"x\": [0.0], \"hoverinfo\": \"none\", \"marker\": {\"size\": 20, \"color\": \"rgb(255, 255, 255)\", \"line\": {\"width\": 2, \"color\": \"rgb(0, 0, 0)\"}}, \"mode\": \"markers+text\"}, {\"text\": [], \"y\": [1.0], \"textfont\": {\"color\": \"rgb(0, 0, 0)\"}, \"textposition\": \"middle center\", \"x\": [0.25], \"hoverinfo\": \"none\", \"marker\": {\"size\": 20, \"color\": \"rgb(255, 255, 255)\", \"line\": {\"width\": 2, \"color\": \"rgb(0, 0, 0)\"}}, \"mode\": \"markers+text\"}, {\"text\": [], \"y\": [1.0], \"textfont\": {\"color\": \"rgb(0, 0, 0)\"}, \"textposition\": \"middle center\", \"x\": [0.5], \"hoverinfo\": \"none\", \"marker\": {\"size\": 20, \"color\": \"rgb(255, 255, 255)\", \"line\": {\"width\": 2, \"color\": \"rgb(0, 0, 0)\"}}, \"mode\": \"markers+text\"}, {\"text\": [], \"y\": [1.0], \"textfont\": {\"color\": \"rgb(0, 0, 0)\"}, \"textposition\": \"middle center\", \"x\": [0.75], \"hoverinfo\": \"none\", \"marker\": {\"size\": 20, \"color\": \"rgb(255, 255, 255)\", \"line\": {\"width\": 2, \"color\": \"rgb(0, 0, 0)\"}}, \"mode\": \"markers+text\"}, {\"text\": [], \"y\": [0.5], \"textfont\": {\"color\": \"rgb(0, 0, 0)\"}, \"textposition\": \"middle center\", \"x\": [1.0], \"hoverinfo\": \"none\", \"marker\": {\"size\": 20, \"color\": \"rgb(255, 255, 255)\", \"line\": {\"width\": 2, \"color\": \"rgb(0, 0, 0)\"}}, \"mode\": \"markers+text\"}, {\"text\": [], \"y\": [0.0], \"textfont\": {\"color\": \"rgb(0, 0, 0)\"}, \"textposition\": \"middle center\", \"x\": [0.75], \"hoverinfo\": \"none\", \"marker\": {\"size\": 20, \"color\": \"rgb(255, 255, 255)\", \"line\": {\"width\": 2, \"color\": \"rgb(0, 0, 0)\"}}, \"mode\": \"markers+text\"}, {\"text\": [], \"y\": [0.0], \"textfont\": {\"color\": \"rgb(0, 0, 0)\"}, \"textposition\": \"middle center\", \"x\": [0.5], \"hoverinfo\": \"none\", \"marker\": {\"size\": 20, \"color\": \"rgb(255, 255, 255)\", \"line\": {\"width\": 2, \"color\": \"rgb(0, 0, 0)\"}}, \"mode\": \"markers+text\"}, {\"text\": [], \"y\": [0.0], \"textfont\": {\"color\": \"rgb(0, 0, 0)\"}, \"textposition\": \"middle center\", \"x\": [0.25], \"hoverinfo\": \"none\", \"marker\": {\"size\": 20, \"color\": \"rgb(255, 255, 255)\", \"line\": {\"width\": 2, \"color\": \"rgb(0, 0, 0)\"}}, \"mode\": \"markers+text\"}, {\"text\": [], \"y\": [0.5], \"textfont\": {\"color\": \"rgb(0, 0, 0)\"}, \"textposition\": \"middle center\", \"x\": [0.375], \"hoverinfo\": \"none\", \"marker\": {\"size\": 20, \"color\": \"rgb(255, 255, 255)\", \"line\": {\"width\": 2, \"color\": \"rgb(0, 0, 0)\"}}, \"mode\": \"markers+text\"}, {\"text\": [4, 8, 8, 11, 2, 7, 4, 9, 14, 10, 2, 6, 1, 7], \"y\": [0.768323871496594, 0.268323871496594, 1.0724637681159421, 0.5, 0.7406101423669093, 1.0724637681159421, 0.5093898576330907, 0.768323871496594, 0.5, 0.23167612850340602, -0.07246376811594203, 0.24061014236690928, -0.07246376811594203, 0.2593898576330907], \"textfont\": {\"color\": \"rgb(0, 0, 0)\"}, \"textposition\": \"middle center\", \"x\": [0.08835225700681207, 0.16164774299318793, 0.375, 0.2878787878787879, 0.4750594305323629, 0.625, 0.6625594305323629, 0.911647742993188, 0.7878787878787878, 0.911647742993188, 0.625, 0.3999405694676371, 0.375, 0.2749405694676371], \"hoverinfo\": \"none\", \"mode\": \"text\"}]}, {\"name\": 13, \"data\": [{\"hoverinfo\": \"none\", \"y\": [0.5, 1.0, null], \"x\": [0.0, 0.25, null], \"mode\": \"lines\", \"line\": {\"width\": 2, \"color\": \"rgb(0, 255, 0)\"}}, {\"hoverinfo\": \"none\", \"y\": [0.5, 0.0, null], \"x\": [0.0, 0.25, null], \"mode\": \"lines\", \"line\": {\"width\": 2, \"color\": \"rgb(0, 255, 0)\"}}, {\"hoverinfo\": \"none\", \"y\": [1.0, 1.0, null], \"x\": [0.25, 0.5, null], \"mode\": \"lines\", \"line\": {\"width\": 2, \"color\": \"rgb(0, 0, 0)\"}}, {\"hoverinfo\": \"none\", \"y\": [1.0, 0.0, null], \"x\": [0.25, 0.25, null], \"mode\": \"lines\", \"line\": {\"width\": 2, \"color\": \"rgb(255, 0, 0)\"}}, {\"hoverinfo\": \"none\", \"y\": [1.0, 0.5, null], \"x\": [0.5, 0.375, null], \"mode\": \"lines\", \"line\": {\"width\": 2, \"color\": \"rgb(0, 255, 0)\"}}, {\"hoverinfo\": \"none\", \"y\": [1.0, 1.0, null], \"x\": [0.5, 0.75, null], \"mode\": \"lines\", \"line\": {\"width\": 2, \"color\": \"rgb(0, 255, 0)\"}}, {\"hoverinfo\": \"none\", \"y\": [1.0, 0.0, null], \"x\": [0.5, 0.75, null], \"mode\": \"lines\", \"line\": {\"width\": 2, \"color\": \"rgb(0, 255, 0)\"}}, {\"hoverinfo\": \"none\", \"y\": [1.0, 0.5, null], \"x\": [0.75, 1.0, null], \"mode\": \"lines\", \"line\": {\"width\": 2, \"color\": \"rgb(0, 255, 0)\"}}, {\"hoverinfo\": \"none\", \"y\": [1.0, 0.0, null], \"x\": [0.75, 0.75, null], \"mode\": \"lines\", \"line\": {\"width\": 2, \"color\": \"rgb(0, 0, 0)\"}}, {\"hoverinfo\": \"none\", \"y\": [0.5, 0.0, null], \"x\": [1.0, 0.75, null], \"mode\": \"lines\", \"line\": {\"width\": 2, \"color\": \"rgb(0, 0, 0)\"}}, {\"hoverinfo\": \"none\", \"y\": [0.0, 0.0, null], \"x\": [0.75, 0.5, null], \"mode\": \"lines\", \"line\": {\"width\": 2, \"color\": \"rgb(0, 255, 0)\"}}, {\"hoverinfo\": \"none\", \"y\": [0.0, 0.5, null], \"x\": [0.5, 0.375, null], \"mode\": \"lines\", \"line\": {\"width\": 2, \"color\": \"rgb(0, 0, 0)\"}}, {\"hoverinfo\": \"none\", \"y\": [0.0, 0.0, null], \"x\": [0.5, 0.25, null], \"mode\": \"lines\", \"line\": {\"width\": 2, \"color\": \"rgb(0, 255, 0)\"}}, {\"hoverinfo\": \"none\", \"y\": [0.0, 0.5, null], \"x\": [0.25, 0.375, null], \"mode\": \"lines\", \"line\": {\"width\": 2, \"color\": \"rgb(0, 0, 0)\"}}, {\"text\": [], \"y\": [0.5], \"textfont\": {\"color\": \"rgb(0, 0, 0)\"}, \"textposition\": \"middle center\", \"x\": [0.0], \"hoverinfo\": \"none\", \"marker\": {\"size\": 20, \"color\": \"rgb(255, 255, 255)\", \"line\": {\"width\": 2, \"color\": \"rgb(0, 0, 0)\"}}, \"mode\": \"markers+text\"}, {\"text\": [], \"y\": [1.0], \"textfont\": {\"color\": \"rgb(0, 0, 0)\"}, \"textposition\": \"middle center\", \"x\": [0.25], \"hoverinfo\": \"none\", \"marker\": {\"size\": 20, \"color\": \"rgb(255, 255, 255)\", \"line\": {\"width\": 2, \"color\": \"rgb(0, 0, 0)\"}}, \"mode\": \"markers+text\"}, {\"text\": [], \"y\": [1.0], \"textfont\": {\"color\": \"rgb(0, 0, 0)\"}, \"textposition\": \"middle center\", \"x\": [0.5], \"hoverinfo\": \"none\", \"marker\": {\"size\": 20, \"color\": \"rgb(255, 255, 255)\", \"line\": {\"width\": 2, \"color\": \"rgb(0, 0, 0)\"}}, \"mode\": \"markers+text\"}, {\"text\": [], \"y\": [1.0], \"textfont\": {\"color\": \"rgb(0, 0, 0)\"}, \"textposition\": \"middle center\", \"x\": [0.75], \"hoverinfo\": \"none\", \"marker\": {\"size\": 20, \"color\": \"rgb(255, 255, 255)\", \"line\": {\"width\": 2, \"color\": \"rgb(0, 0, 0)\"}}, \"mode\": \"markers+text\"}, {\"text\": [], \"y\": [0.5], \"textfont\": {\"color\": \"rgb(0, 0, 0)\"}, \"textposition\": \"middle center\", \"x\": [1.0], \"hoverinfo\": \"none\", \"marker\": {\"size\": 20, \"color\": \"rgb(255, 255, 255)\", \"line\": {\"width\": 2, \"color\": \"rgb(0, 0, 0)\"}}, \"mode\": \"markers+text\"}, {\"text\": [], \"y\": [0.0], \"textfont\": {\"color\": \"rgb(0, 0, 0)\"}, \"textposition\": \"middle center\", \"x\": [0.75], \"hoverinfo\": \"none\", \"marker\": {\"size\": 20, \"color\": \"rgb(255, 255, 255)\", \"line\": {\"width\": 2, \"color\": \"rgb(0, 0, 0)\"}}, \"mode\": \"markers+text\"}, {\"text\": [], \"y\": [0.0], \"textfont\": {\"color\": \"rgb(0, 0, 0)\"}, \"textposition\": \"middle center\", \"x\": [0.5], \"hoverinfo\": \"none\", \"marker\": {\"size\": 20, \"color\": \"rgb(255, 255, 255)\", \"line\": {\"width\": 2, \"color\": \"rgb(0, 0, 0)\"}}, \"mode\": \"markers+text\"}, {\"text\": [], \"y\": [0.0], \"textfont\": {\"color\": \"rgb(0, 0, 0)\"}, \"textposition\": \"middle center\", \"x\": [0.25], \"hoverinfo\": \"none\", \"marker\": {\"size\": 20, \"color\": \"rgb(255, 255, 255)\", \"line\": {\"width\": 2, \"color\": \"rgb(0, 0, 0)\"}}, \"mode\": \"markers+text\"}, {\"text\": [], \"y\": [0.5], \"textfont\": {\"color\": \"rgb(0, 0, 0)\"}, \"textposition\": \"middle center\", \"x\": [0.375], \"hoverinfo\": \"none\", \"marker\": {\"size\": 20, \"color\": \"rgb(255, 255, 255)\", \"line\": {\"width\": 2, \"color\": \"rgb(0, 0, 0)\"}}, \"mode\": \"markers+text\"}, {\"text\": [4, 8, 8, 11, 2, 7, 4, 9, 14, 10, 2, 6, 1, 7], \"y\": [0.768323871496594, 0.268323871496594, 1.0724637681159421, 0.5, 0.7406101423669093, 1.0724637681159421, 0.5093898576330907, 0.768323871496594, 0.5, 0.23167612850340602, -0.07246376811594203, 0.24061014236690928, -0.07246376811594203, 0.2593898576330907], \"textfont\": {\"color\": \"rgb(0, 0, 0)\"}, \"textposition\": \"middle center\", \"x\": [0.08835225700681207, 0.16164774299318793, 0.375, 0.2878787878787879, 0.4750594305323629, 0.625, 0.6625594305323629, 0.911647742993188, 0.7878787878787878, 0.911647742993188, 0.625, 0.3999405694676371, 0.375, 0.2749405694676371], \"hoverinfo\": \"none\", \"mode\": \"text\"}]}, {\"name\": 14, \"data\": [{\"hoverinfo\": \"none\", \"y\": [0.5, 1.0, null], \"x\": [0.0, 0.25, null], \"mode\": \"lines\", \"line\": {\"width\": 2, \"color\": \"rgb(0, 255, 0)\"}}, {\"hoverinfo\": \"none\", \"y\": [0.5, 0.0, null], \"x\": [0.0, 0.25, null], \"mode\": \"lines\", \"line\": {\"width\": 2, \"color\": \"rgb(0, 255, 0)\"}}, {\"hoverinfo\": \"none\", \"y\": [1.0, 1.0, null], \"x\": [0.25, 0.5, null], \"mode\": \"lines\", \"line\": {\"width\": 2, \"color\": \"rgb(0, 0, 0)\"}}, {\"hoverinfo\": \"none\", \"y\": [1.0, 0.0, null], \"x\": [0.25, 0.25, null], \"mode\": \"lines\", \"line\": {\"width\": 2, \"color\": \"rgb(0, 0, 0)\"}}, {\"hoverinfo\": \"none\", \"y\": [1.0, 0.5, null], \"x\": [0.5, 0.375, null], \"mode\": \"lines\", \"line\": {\"width\": 2, \"color\": \"rgb(0, 255, 0)\"}}, {\"hoverinfo\": \"none\", \"y\": [1.0, 1.0, null], \"x\": [0.5, 0.75, null], \"mode\": \"lines\", \"line\": {\"width\": 2, \"color\": \"rgb(0, 255, 0)\"}}, {\"hoverinfo\": \"none\", \"y\": [1.0, 0.0, null], \"x\": [0.5, 0.75, null], \"mode\": \"lines\", \"line\": {\"width\": 2, \"color\": \"rgb(0, 255, 0)\"}}, {\"hoverinfo\": \"none\", \"y\": [1.0, 0.5, null], \"x\": [0.75, 1.0, null], \"mode\": \"lines\", \"line\": {\"width\": 2, \"color\": \"rgb(0, 255, 0)\"}}, {\"hoverinfo\": \"none\", \"y\": [1.0, 0.0, null], \"x\": [0.75, 0.75, null], \"mode\": \"lines\", \"line\": {\"width\": 2, \"color\": \"rgb(255, 0, 0)\"}}, {\"hoverinfo\": \"none\", \"y\": [0.5, 0.0, null], \"x\": [1.0, 0.75, null], \"mode\": \"lines\", \"line\": {\"width\": 2, \"color\": \"rgb(0, 0, 0)\"}}, {\"hoverinfo\": \"none\", \"y\": [0.0, 0.0, null], \"x\": [0.75, 0.5, null], \"mode\": \"lines\", \"line\": {\"width\": 2, \"color\": \"rgb(0, 255, 0)\"}}, {\"hoverinfo\": \"none\", \"y\": [0.0, 0.5, null], \"x\": [0.5, 0.375, null], \"mode\": \"lines\", \"line\": {\"width\": 2, \"color\": \"rgb(0, 0, 0)\"}}, {\"hoverinfo\": \"none\", \"y\": [0.0, 0.0, null], \"x\": [0.5, 0.25, null], \"mode\": \"lines\", \"line\": {\"width\": 2, \"color\": \"rgb(0, 255, 0)\"}}, {\"hoverinfo\": \"none\", \"y\": [0.0, 0.5, null], \"x\": [0.25, 0.375, null], \"mode\": \"lines\", \"line\": {\"width\": 2, \"color\": \"rgb(0, 0, 0)\"}}, {\"text\": [], \"y\": [0.5], \"textfont\": {\"color\": \"rgb(0, 0, 0)\"}, \"textposition\": \"middle center\", \"x\": [0.0], \"hoverinfo\": \"none\", \"marker\": {\"size\": 20, \"color\": \"rgb(255, 255, 255)\", \"line\": {\"width\": 2, \"color\": \"rgb(0, 0, 0)\"}}, \"mode\": \"markers+text\"}, {\"text\": [], \"y\": [1.0], \"textfont\": {\"color\": \"rgb(0, 0, 0)\"}, \"textposition\": \"middle center\", \"x\": [0.25], \"hoverinfo\": \"none\", \"marker\": {\"size\": 20, \"color\": \"rgb(255, 255, 255)\", \"line\": {\"width\": 2, \"color\": \"rgb(0, 0, 0)\"}}, \"mode\": \"markers+text\"}, {\"text\": [], \"y\": [1.0], \"textfont\": {\"color\": \"rgb(0, 0, 0)\"}, \"textposition\": \"middle center\", \"x\": [0.5], \"hoverinfo\": \"none\", \"marker\": {\"size\": 20, \"color\": \"rgb(255, 255, 255)\", \"line\": {\"width\": 2, \"color\": \"rgb(0, 0, 0)\"}}, \"mode\": \"markers+text\"}, {\"text\": [], \"y\": [1.0], \"textfont\": {\"color\": \"rgb(0, 0, 0)\"}, \"textposition\": \"middle center\", \"x\": [0.75], \"hoverinfo\": \"none\", \"marker\": {\"size\": 20, \"color\": \"rgb(255, 255, 255)\", \"line\": {\"width\": 2, \"color\": \"rgb(0, 0, 0)\"}}, \"mode\": \"markers+text\"}, {\"text\": [], \"y\": [0.5], \"textfont\": {\"color\": \"rgb(0, 0, 0)\"}, \"textposition\": \"middle center\", \"x\": [1.0], \"hoverinfo\": \"none\", \"marker\": {\"size\": 20, \"color\": \"rgb(255, 255, 255)\", \"line\": {\"width\": 2, \"color\": \"rgb(0, 0, 0)\"}}, \"mode\": \"markers+text\"}, {\"text\": [], \"y\": [0.0], \"textfont\": {\"color\": \"rgb(0, 0, 0)\"}, \"textposition\": \"middle center\", \"x\": [0.75], \"hoverinfo\": \"none\", \"marker\": {\"size\": 20, \"color\": \"rgb(255, 255, 255)\", \"line\": {\"width\": 2, \"color\": \"rgb(0, 0, 0)\"}}, \"mode\": \"markers+text\"}, {\"text\": [], \"y\": [0.0], \"textfont\": {\"color\": \"rgb(0, 0, 0)\"}, \"textposition\": \"middle center\", \"x\": [0.5], \"hoverinfo\": \"none\", \"marker\": {\"size\": 20, \"color\": \"rgb(255, 255, 255)\", \"line\": {\"width\": 2, \"color\": \"rgb(0, 0, 0)\"}}, \"mode\": \"markers+text\"}, {\"text\": [], \"y\": [0.0], \"textfont\": {\"color\": \"rgb(0, 0, 0)\"}, \"textposition\": \"middle center\", \"x\": [0.25], \"hoverinfo\": \"none\", \"marker\": {\"size\": 20, \"color\": \"rgb(255, 255, 255)\", \"line\": {\"width\": 2, \"color\": \"rgb(0, 0, 0)\"}}, \"mode\": \"markers+text\"}, {\"text\": [], \"y\": [0.5], \"textfont\": {\"color\": \"rgb(0, 0, 0)\"}, \"textposition\": \"middle center\", \"x\": [0.375], \"hoverinfo\": \"none\", \"marker\": {\"size\": 20, \"color\": \"rgb(255, 255, 255)\", \"line\": {\"width\": 2, \"color\": \"rgb(0, 0, 0)\"}}, \"mode\": \"markers+text\"}, {\"text\": [4, 8, 8, 11, 2, 7, 4, 9, 14, 10, 2, 6, 1, 7], \"y\": [0.768323871496594, 0.268323871496594, 1.0724637681159421, 0.5, 0.7406101423669093, 1.0724637681159421, 0.5093898576330907, 0.768323871496594, 0.5, 0.23167612850340602, -0.07246376811594203, 0.24061014236690928, -0.07246376811594203, 0.2593898576330907], \"textfont\": {\"color\": \"rgb(0, 0, 0)\"}, \"textposition\": \"middle center\", \"x\": [0.08835225700681207, 0.16164774299318793, 0.375, 0.2878787878787879, 0.4750594305323629, 0.625, 0.6625594305323629, 0.911647742993188, 0.7878787878787878, 0.911647742993188, 0.625, 0.3999405694676371, 0.375, 0.2749405694676371], \"hoverinfo\": \"none\", \"mode\": \"text\"}]}, {\"name\": 15, \"data\": [{\"hoverinfo\": \"none\", \"y\": [0.5, 1.0, null], \"x\": [0.0, 0.25, null], \"mode\": \"lines\", \"line\": {\"width\": 2, \"color\": \"rgb(0, 255, 0)\"}}, {\"hoverinfo\": \"none\", \"y\": [0.5, 0.0, null], \"x\": [0.0, 0.25, null], \"mode\": \"lines\", \"line\": {\"width\": 2, \"color\": \"rgb(0, 255, 0)\"}}, {\"hoverinfo\": \"none\", \"y\": [1.0, 1.0, null], \"x\": [0.25, 0.5, null], \"mode\": \"lines\", \"line\": {\"width\": 2, \"color\": \"rgb(0, 0, 0)\"}}, {\"hoverinfo\": \"none\", \"y\": [1.0, 0.0, null], \"x\": [0.25, 0.25, null], \"mode\": \"lines\", \"line\": {\"width\": 2, \"color\": \"rgb(0, 0, 0)\"}}, {\"hoverinfo\": \"none\", \"y\": [1.0, 0.5, null], \"x\": [0.5, 0.375, null], \"mode\": \"lines\", \"line\": {\"width\": 2, \"color\": \"rgb(0, 255, 0)\"}}, {\"hoverinfo\": \"none\", \"y\": [1.0, 1.0, null], \"x\": [0.5, 0.75, null], \"mode\": \"lines\", \"line\": {\"width\": 2, \"color\": \"rgb(0, 255, 0)\"}}, {\"hoverinfo\": \"none\", \"y\": [1.0, 0.0, null], \"x\": [0.5, 0.75, null], \"mode\": \"lines\", \"line\": {\"width\": 2, \"color\": \"rgb(0, 255, 0)\"}}, {\"hoverinfo\": \"none\", \"y\": [1.0, 0.5, null], \"x\": [0.75, 1.0, null], \"mode\": \"lines\", \"line\": {\"width\": 2, \"color\": \"rgb(0, 255, 0)\"}}, {\"hoverinfo\": \"none\", \"y\": [1.0, 0.0, null], \"x\": [0.75, 0.75, null], \"mode\": \"lines\", \"line\": {\"width\": 2, \"color\": \"rgb(0, 0, 0)\"}}, {\"hoverinfo\": \"none\", \"y\": [0.5, 0.0, null], \"x\": [1.0, 0.75, null], \"mode\": \"lines\", \"line\": {\"width\": 2, \"color\": \"rgb(0, 0, 0)\"}}, {\"hoverinfo\": \"none\", \"y\": [0.0, 0.0, null], \"x\": [0.75, 0.5, null], \"mode\": \"lines\", \"line\": {\"width\": 2, \"color\": \"rgb(0, 255, 0)\"}}, {\"hoverinfo\": \"none\", \"y\": [0.0, 0.5, null], \"x\": [0.5, 0.375, null], \"mode\": \"lines\", \"line\": {\"width\": 2, \"color\": \"rgb(0, 0, 0)\"}}, {\"hoverinfo\": \"none\", \"y\": [0.0, 0.0, null], \"x\": [0.5, 0.25, null], \"mode\": \"lines\", \"line\": {\"width\": 2, \"color\": \"rgb(0, 255, 0)\"}}, {\"hoverinfo\": \"none\", \"y\": [0.0, 0.5, null], \"x\": [0.25, 0.375, null], \"mode\": \"lines\", \"line\": {\"width\": 2, \"color\": \"rgb(0, 0, 0)\"}}, {\"text\": [], \"y\": [0.5], \"textfont\": {\"color\": \"rgb(0, 0, 0)\"}, \"textposition\": \"middle center\", \"x\": [0.0], \"hoverinfo\": \"none\", \"marker\": {\"size\": 20, \"color\": \"rgb(255, 255, 255)\", \"line\": {\"width\": 2, \"color\": \"rgb(0, 0, 0)\"}}, \"mode\": \"markers+text\"}, {\"text\": [], \"y\": [1.0], \"textfont\": {\"color\": \"rgb(0, 0, 0)\"}, \"textposition\": \"middle center\", \"x\": [0.25], \"hoverinfo\": \"none\", \"marker\": {\"size\": 20, \"color\": \"rgb(255, 255, 255)\", \"line\": {\"width\": 2, \"color\": \"rgb(0, 0, 0)\"}}, \"mode\": \"markers+text\"}, {\"text\": [], \"y\": [1.0], \"textfont\": {\"color\": \"rgb(0, 0, 0)\"}, \"textposition\": \"middle center\", \"x\": [0.5], \"hoverinfo\": \"none\", \"marker\": {\"size\": 20, \"color\": \"rgb(255, 255, 255)\", \"line\": {\"width\": 2, \"color\": \"rgb(0, 0, 0)\"}}, \"mode\": \"markers+text\"}, {\"text\": [], \"y\": [1.0], \"textfont\": {\"color\": \"rgb(0, 0, 0)\"}, \"textposition\": \"middle center\", \"x\": [0.75], \"hoverinfo\": \"none\", \"marker\": {\"size\": 20, \"color\": \"rgb(255, 255, 255)\", \"line\": {\"width\": 2, \"color\": \"rgb(0, 0, 0)\"}}, \"mode\": \"markers+text\"}, {\"text\": [], \"y\": [0.5], \"textfont\": {\"color\": \"rgb(0, 0, 0)\"}, \"textposition\": \"middle center\", \"x\": [1.0], \"hoverinfo\": \"none\", \"marker\": {\"size\": 20, \"color\": \"rgb(255, 255, 255)\", \"line\": {\"width\": 2, \"color\": \"rgb(0, 0, 0)\"}}, \"mode\": \"markers+text\"}, {\"text\": [], \"y\": [0.0], \"textfont\": {\"color\": \"rgb(0, 0, 0)\"}, \"textposition\": \"middle center\", \"x\": [0.75], \"hoverinfo\": \"none\", \"marker\": {\"size\": 20, \"color\": \"rgb(255, 255, 255)\", \"line\": {\"width\": 2, \"color\": \"rgb(0, 0, 0)\"}}, \"mode\": \"markers+text\"}, {\"text\": [], \"y\": [0.0], \"textfont\": {\"color\": \"rgb(0, 0, 0)\"}, \"textposition\": \"middle center\", \"x\": [0.5], \"hoverinfo\": \"none\", \"marker\": {\"size\": 20, \"color\": \"rgb(255, 255, 255)\", \"line\": {\"width\": 2, \"color\": \"rgb(0, 0, 0)\"}}, \"mode\": \"markers+text\"}, {\"text\": [], \"y\": [0.0], \"textfont\": {\"color\": \"rgb(0, 0, 0)\"}, \"textposition\": \"middle center\", \"x\": [0.25], \"hoverinfo\": \"none\", \"marker\": {\"size\": 20, \"color\": \"rgb(255, 255, 255)\", \"line\": {\"width\": 2, \"color\": \"rgb(0, 0, 0)\"}}, \"mode\": \"markers+text\"}, {\"text\": [], \"y\": [0.5], \"textfont\": {\"color\": \"rgb(0, 0, 0)\"}, \"textposition\": \"middle center\", \"x\": [0.375], \"hoverinfo\": \"none\", \"marker\": {\"size\": 20, \"color\": \"rgb(255, 255, 255)\", \"line\": {\"width\": 2, \"color\": \"rgb(0, 0, 0)\"}}, \"mode\": \"markers+text\"}, {\"text\": [4, 8, 8, 11, 2, 7, 4, 9, 14, 10, 2, 6, 1, 7], \"y\": [0.768323871496594, 0.268323871496594, 1.0724637681159421, 0.5, 0.7406101423669093, 1.0724637681159421, 0.5093898576330907, 0.768323871496594, 0.5, 0.23167612850340602, -0.07246376811594203, 0.24061014236690928, -0.07246376811594203, 0.2593898576330907], \"textfont\": {\"color\": \"rgb(0, 0, 0)\"}, \"textposition\": \"middle center\", \"x\": [0.08835225700681207, 0.16164774299318793, 0.375, 0.2878787878787879, 0.4750594305323629, 0.625, 0.6625594305323629, 0.911647742993188, 0.7878787878787878, 0.911647742993188, 0.625, 0.3999405694676371, 0.375, 0.2749405694676371], \"hoverinfo\": \"none\", \"mode\": \"text\"}]}]);}).then(function(){Plotly.animate('8b963740-e51c-4c26-8e1f-a887b43d9580');})\n",
       "        });</script>"
      ],
      "text/vnd.plotly.v1+html": [
       "<div id=\"8b963740-e51c-4c26-8e1f-a887b43d9580\" style=\"height: 256.0px; width: 408.0px;\" class=\"plotly-graph-div\"></div><script type=\"text/javascript\">require([\"plotly\"], function(Plotly) { window.PLOTLYENV=window.PLOTLYENV || {};window.PLOTLYENV.BASE_URL=\"https://plot.ly\";\n",
       "        Plotly.plot(\n",
       "            '8b963740-e51c-4c26-8e1f-a887b43d9580',\n",
       "            [{\"hoverinfo\": \"none\", \"y\": [0.5, 1.0, null], \"x\": [0.0, 0.25, null], \"mode\": \"lines\", \"line\": {\"width\": 2, \"color\": \"rgb(0, 0, 0)\"}}, {\"hoverinfo\": \"none\", \"y\": [0.5, 0.0, null], \"x\": [0.0, 0.25, null], \"mode\": \"lines\", \"line\": {\"width\": 2, \"color\": \"rgb(0, 0, 0)\"}}, {\"hoverinfo\": \"none\", \"y\": [1.0, 1.0, null], \"x\": [0.25, 0.5, null], \"mode\": \"lines\", \"line\": {\"width\": 2, \"color\": \"rgb(0, 0, 0)\"}}, {\"hoverinfo\": \"none\", \"y\": [1.0, 0.0, null], \"x\": [0.25, 0.25, null], \"mode\": \"lines\", \"line\": {\"width\": 2, \"color\": \"rgb(0, 0, 0)\"}}, {\"hoverinfo\": \"none\", \"y\": [1.0, 0.5, null], \"x\": [0.5, 0.375, null], \"mode\": \"lines\", \"line\": {\"width\": 2, \"color\": \"rgb(0, 0, 0)\"}}, {\"hoverinfo\": \"none\", \"y\": [1.0, 1.0, null], \"x\": [0.5, 0.75, null], \"mode\": \"lines\", \"line\": {\"width\": 2, \"color\": \"rgb(0, 0, 0)\"}}, {\"hoverinfo\": \"none\", \"y\": [1.0, 0.0, null], \"x\": [0.5, 0.75, null], \"mode\": \"lines\", \"line\": {\"width\": 2, \"color\": \"rgb(0, 0, 0)\"}}, {\"hoverinfo\": \"none\", \"y\": [1.0, 0.5, null], \"x\": [0.75, 1.0, null], \"mode\": \"lines\", \"line\": {\"width\": 2, \"color\": \"rgb(0, 0, 0)\"}}, {\"hoverinfo\": \"none\", \"y\": [1.0, 0.0, null], \"x\": [0.75, 0.75, null], \"mode\": \"lines\", \"line\": {\"width\": 2, \"color\": \"rgb(0, 0, 0)\"}}, {\"hoverinfo\": \"none\", \"y\": [0.5, 0.0, null], \"x\": [1.0, 0.75, null], \"mode\": \"lines\", \"line\": {\"width\": 2, \"color\": \"rgb(0, 0, 0)\"}}, {\"hoverinfo\": \"none\", \"y\": [0.0, 0.0, null], \"x\": [0.75, 0.5, null], \"mode\": \"lines\", \"line\": {\"width\": 2, \"color\": \"rgb(0, 0, 0)\"}}, {\"hoverinfo\": \"none\", \"y\": [0.0, 0.5, null], \"x\": [0.5, 0.375, null], \"mode\": \"lines\", \"line\": {\"width\": 2, \"color\": \"rgb(0, 0, 0)\"}}, {\"hoverinfo\": \"none\", \"y\": [0.0, 0.0, null], \"x\": [0.5, 0.25, null], \"mode\": \"lines\", \"line\": {\"width\": 2, \"color\": \"rgb(0, 0, 0)\"}}, {\"hoverinfo\": \"none\", \"y\": [0.0, 0.5, null], \"x\": [0.25, 0.375, null], \"mode\": \"lines\", \"line\": {\"width\": 2, \"color\": \"rgb(0, 0, 0)\"}}, {\"text\": [], \"y\": [0.5], \"textfont\": {\"color\": \"rgb(0, 0, 0)\"}, \"textposition\": \"middle center\", \"x\": [0.0], \"hoverinfo\": \"none\", \"marker\": {\"size\": 20, \"color\": \"rgb(255, 255, 255)\", \"line\": {\"width\": 2, \"color\": \"rgb(0, 0, 0)\"}}, \"mode\": \"markers+text\"}, {\"text\": [], \"y\": [1.0], \"textfont\": {\"color\": \"rgb(0, 0, 0)\"}, \"textposition\": \"middle center\", \"x\": [0.25], \"hoverinfo\": \"none\", \"marker\": {\"size\": 20, \"color\": \"rgb(255, 255, 255)\", \"line\": {\"width\": 2, \"color\": \"rgb(0, 0, 0)\"}}, \"mode\": \"markers+text\"}, {\"text\": [], \"y\": [1.0], \"textfont\": {\"color\": \"rgb(0, 0, 0)\"}, \"textposition\": \"middle center\", \"x\": [0.5], \"hoverinfo\": \"none\", \"marker\": {\"size\": 20, \"color\": \"rgb(255, 255, 255)\", \"line\": {\"width\": 2, \"color\": \"rgb(0, 0, 0)\"}}, \"mode\": \"markers+text\"}, {\"text\": [], \"y\": [1.0], \"textfont\": {\"color\": \"rgb(0, 0, 0)\"}, \"textposition\": \"middle center\", \"x\": [0.75], \"hoverinfo\": \"none\", \"marker\": {\"size\": 20, \"color\": \"rgb(255, 255, 255)\", \"line\": {\"width\": 2, \"color\": \"rgb(0, 0, 0)\"}}, \"mode\": \"markers+text\"}, {\"text\": [], \"y\": [0.5], \"textfont\": {\"color\": \"rgb(0, 0, 0)\"}, \"textposition\": \"middle center\", \"x\": [1.0], \"hoverinfo\": \"none\", \"marker\": {\"size\": 20, \"color\": \"rgb(255, 255, 255)\", \"line\": {\"width\": 2, \"color\": \"rgb(0, 0, 0)\"}}, \"mode\": \"markers+text\"}, {\"text\": [], \"y\": [0.0], \"textfont\": {\"color\": \"rgb(0, 0, 0)\"}, \"textposition\": \"middle center\", \"x\": [0.75], \"hoverinfo\": \"none\", \"marker\": {\"size\": 20, \"color\": \"rgb(255, 255, 255)\", \"line\": {\"width\": 2, \"color\": \"rgb(0, 0, 0)\"}}, \"mode\": \"markers+text\"}, {\"text\": [], \"y\": [0.0], \"textfont\": {\"color\": \"rgb(0, 0, 0)\"}, \"textposition\": \"middle center\", \"x\": [0.5], \"hoverinfo\": \"none\", \"marker\": {\"size\": 20, \"color\": \"rgb(255, 255, 255)\", \"line\": {\"width\": 2, \"color\": \"rgb(0, 0, 0)\"}}, \"mode\": \"markers+text\"}, {\"text\": [], \"y\": [0.0], \"textfont\": {\"color\": \"rgb(0, 0, 0)\"}, \"textposition\": \"middle center\", \"x\": [0.25], \"hoverinfo\": \"none\", \"marker\": {\"size\": 20, \"color\": \"rgb(255, 255, 255)\", \"line\": {\"width\": 2, \"color\": \"rgb(0, 0, 0)\"}}, \"mode\": \"markers+text\"}, {\"text\": [], \"y\": [0.5], \"textfont\": {\"color\": \"rgb(0, 0, 0)\"}, \"textposition\": \"middle center\", \"x\": [0.375], \"hoverinfo\": \"none\", \"marker\": {\"size\": 20, \"color\": \"rgb(255, 255, 255)\", \"line\": {\"width\": 2, \"color\": \"rgb(0, 0, 0)\"}}, \"mode\": \"markers+text\"}, {\"text\": [4, 8, 8, 11, 2, 7, 4, 9, 14, 10, 2, 6, 1, 7], \"y\": [0.768323871496594, 0.268323871496594, 1.0724637681159421, 0.5, 0.7406101423669093, 1.0724637681159421, 0.5093898576330907, 0.768323871496594, 0.5, 0.23167612850340602, -0.07246376811594203, 0.24061014236690928, -0.07246376811594203, 0.2593898576330907], \"textfont\": {\"color\": \"rgb(0, 0, 0)\"}, \"textposition\": \"middle center\", \"x\": [0.08835225700681207, 0.16164774299318793, 0.375, 0.2878787878787879, 0.4750594305323629, 0.625, 0.6625594305323629, 0.911647742993188, 0.7878787878787878, 0.911647742993188, 0.625, 0.3999405694676371, 0.375, 0.2749405694676371], \"hoverinfo\": \"none\", \"mode\": \"text\"}],\n",
       "            {\"height\": 256.0, \"showlegend\": false, \"width\": 408.0, \"xaxis\": {\"zeroline\": false, \"showgrid\": false, \"showticklabels\": false}, \"margin\": {\"b\": 0, \"r\": 0, \"t\": 0, \"l\": 0}, \"yaxis\": {\"zeroline\": false, \"showgrid\": false, \"showticklabels\": false}, \"updatemenus\": [{\"buttons\": [{\"method\": \"animate\", \"label\": \"Play\", \"args\": [null, {\"fromcurrent\": true, \"frame\": {\"redraw\": false}}]}, {\"method\": \"animate\", \"label\": \"Pause\", \"args\": [[null], {\"mode\": \"immediate\", \"frame\": {\"redraw\": false}}]}], \"type\": \"buttons\", \"showactive\": true}], \"sliders\": [{\"steps\": [{\"method\": \"animate\", \"label\": \"\", \"args\": [[0], {\"mode\": \"immediate\", \"frame\": {\"redraw\": false}}]}, {\"method\": \"animate\", \"label\": \"\", \"args\": [[1], {\"mode\": \"immediate\", \"frame\": {\"redraw\": false}}]}, {\"method\": \"animate\", \"label\": \"\", \"args\": [[2], {\"mode\": \"immediate\", \"frame\": {\"redraw\": false}}]}, {\"method\": \"animate\", \"label\": \"\", \"args\": [[3], {\"mode\": \"immediate\", \"frame\": {\"redraw\": false}}]}, {\"method\": \"animate\", \"label\": \"\", \"args\": [[4], {\"mode\": \"immediate\", \"frame\": {\"redraw\": false}}]}, {\"method\": \"animate\", \"label\": \"\", \"args\": [[5], {\"mode\": \"immediate\", \"frame\": {\"redraw\": false}}]}, {\"method\": \"animate\", \"label\": \"\", \"args\": [[6], {\"mode\": \"immediate\", \"frame\": {\"redraw\": false}}]}, {\"method\": \"animate\", \"label\": \"\", \"args\": [[7], {\"mode\": \"immediate\", \"frame\": {\"redraw\": false}}]}, {\"method\": \"animate\", \"label\": \"\", \"args\": [[8], {\"mode\": \"immediate\", \"frame\": {\"redraw\": false}}]}, {\"method\": \"animate\", \"label\": \"\", \"args\": [[9], {\"mode\": \"immediate\", \"frame\": {\"redraw\": false}}]}, {\"method\": \"animate\", \"label\": \"\", \"args\": [[10], {\"mode\": \"immediate\", \"frame\": {\"redraw\": false}}]}, {\"method\": \"animate\", \"label\": \"\", \"args\": [[11], {\"mode\": \"immediate\", \"frame\": {\"redraw\": false}}]}, {\"method\": \"animate\", \"label\": \"\", \"args\": [[12], {\"mode\": \"immediate\", \"frame\": {\"redraw\": false}}]}, {\"method\": \"animate\", \"label\": \"\", \"args\": [[13], {\"mode\": \"immediate\", \"frame\": {\"redraw\": false}}]}, {\"method\": \"animate\", \"label\": \"\", \"args\": [[14], {\"mode\": \"immediate\", \"frame\": {\"redraw\": false}}]}, {\"method\": \"animate\", \"label\": \"\", \"args\": [[15], {\"mode\": \"immediate\", \"frame\": {\"redraw\": false}}]}], \"currentvalue\": {\"visible\": false}}]},\n",
       "            {\"showLink\": false, \"displayModeBar\": false, \"linkText\": \"Export to plot.ly\"}\n",
       "        ).then(function () {return Plotly.addFrames('8b963740-e51c-4c26-8e1f-a887b43d9580',[{\"name\": 0, \"data\": [{\"hoverinfo\": \"none\", \"y\": [0.5, 1.0, null], \"x\": [0.0, 0.25, null], \"mode\": \"lines\", \"line\": {\"width\": 2, \"color\": \"rgb(0, 0, 0)\"}}, {\"hoverinfo\": \"none\", \"y\": [0.5, 0.0, null], \"x\": [0.0, 0.25, null], \"mode\": \"lines\", \"line\": {\"width\": 2, \"color\": \"rgb(0, 0, 0)\"}}, {\"hoverinfo\": \"none\", \"y\": [1.0, 1.0, null], \"x\": [0.25, 0.5, null], \"mode\": \"lines\", \"line\": {\"width\": 2, \"color\": \"rgb(0, 0, 0)\"}}, {\"hoverinfo\": \"none\", \"y\": [1.0, 0.0, null], \"x\": [0.25, 0.25, null], \"mode\": \"lines\", \"line\": {\"width\": 2, \"color\": \"rgb(0, 0, 0)\"}}, {\"hoverinfo\": \"none\", \"y\": [1.0, 0.5, null], \"x\": [0.5, 0.375, null], \"mode\": \"lines\", \"line\": {\"width\": 2, \"color\": \"rgb(0, 0, 0)\"}}, {\"hoverinfo\": \"none\", \"y\": [1.0, 1.0, null], \"x\": [0.5, 0.75, null], \"mode\": \"lines\", \"line\": {\"width\": 2, \"color\": \"rgb(0, 0, 0)\"}}, {\"hoverinfo\": \"none\", \"y\": [1.0, 0.0, null], \"x\": [0.5, 0.75, null], \"mode\": \"lines\", \"line\": {\"width\": 2, \"color\": \"rgb(0, 0, 0)\"}}, {\"hoverinfo\": \"none\", \"y\": [1.0, 0.5, null], \"x\": [0.75, 1.0, null], \"mode\": \"lines\", \"line\": {\"width\": 2, \"color\": \"rgb(0, 0, 0)\"}}, {\"hoverinfo\": \"none\", \"y\": [1.0, 0.0, null], \"x\": [0.75, 0.75, null], \"mode\": \"lines\", \"line\": {\"width\": 2, \"color\": \"rgb(0, 0, 0)\"}}, {\"hoverinfo\": \"none\", \"y\": [0.5, 0.0, null], \"x\": [1.0, 0.75, null], \"mode\": \"lines\", \"line\": {\"width\": 2, \"color\": \"rgb(0, 0, 0)\"}}, {\"hoverinfo\": \"none\", \"y\": [0.0, 0.0, null], \"x\": [0.75, 0.5, null], \"mode\": \"lines\", \"line\": {\"width\": 2, \"color\": \"rgb(0, 0, 0)\"}}, {\"hoverinfo\": \"none\", \"y\": [0.0, 0.5, null], \"x\": [0.5, 0.375, null], \"mode\": \"lines\", \"line\": {\"width\": 2, \"color\": \"rgb(0, 0, 0)\"}}, {\"hoverinfo\": \"none\", \"y\": [0.0, 0.0, null], \"x\": [0.5, 0.25, null], \"mode\": \"lines\", \"line\": {\"width\": 2, \"color\": \"rgb(0, 0, 0)\"}}, {\"hoverinfo\": \"none\", \"y\": [0.0, 0.5, null], \"x\": [0.25, 0.375, null], \"mode\": \"lines\", \"line\": {\"width\": 2, \"color\": \"rgb(0, 0, 0)\"}}, {\"text\": [], \"y\": [0.5], \"textfont\": {\"color\": \"rgb(0, 0, 0)\"}, \"textposition\": \"middle center\", \"x\": [0.0], \"hoverinfo\": \"none\", \"marker\": {\"size\": 20, \"color\": \"rgb(255, 255, 255)\", \"line\": {\"width\": 2, \"color\": \"rgb(0, 0, 0)\"}}, \"mode\": \"markers+text\"}, {\"text\": [], \"y\": [1.0], \"textfont\": {\"color\": \"rgb(0, 0, 0)\"}, \"textposition\": \"middle center\", \"x\": [0.25], \"hoverinfo\": \"none\", \"marker\": {\"size\": 20, \"color\": \"rgb(255, 255, 255)\", \"line\": {\"width\": 2, \"color\": \"rgb(0, 0, 0)\"}}, \"mode\": \"markers+text\"}, {\"text\": [], \"y\": [1.0], \"textfont\": {\"color\": \"rgb(0, 0, 0)\"}, \"textposition\": \"middle center\", \"x\": [0.5], \"hoverinfo\": \"none\", \"marker\": {\"size\": 20, \"color\": \"rgb(255, 255, 255)\", \"line\": {\"width\": 2, \"color\": \"rgb(0, 0, 0)\"}}, \"mode\": \"markers+text\"}, {\"text\": [], \"y\": [1.0], \"textfont\": {\"color\": \"rgb(0, 0, 0)\"}, \"textposition\": \"middle center\", \"x\": [0.75], \"hoverinfo\": \"none\", \"marker\": {\"size\": 20, \"color\": \"rgb(255, 255, 255)\", \"line\": {\"width\": 2, \"color\": \"rgb(0, 0, 0)\"}}, \"mode\": \"markers+text\"}, {\"text\": [], \"y\": [0.5], \"textfont\": {\"color\": \"rgb(0, 0, 0)\"}, \"textposition\": \"middle center\", \"x\": [1.0], \"hoverinfo\": \"none\", \"marker\": {\"size\": 20, \"color\": \"rgb(255, 255, 255)\", \"line\": {\"width\": 2, \"color\": \"rgb(0, 0, 0)\"}}, \"mode\": \"markers+text\"}, {\"text\": [], \"y\": [0.0], \"textfont\": {\"color\": \"rgb(0, 0, 0)\"}, \"textposition\": \"middle center\", \"x\": [0.75], \"hoverinfo\": \"none\", \"marker\": {\"size\": 20, \"color\": \"rgb(255, 255, 255)\", \"line\": {\"width\": 2, \"color\": \"rgb(0, 0, 0)\"}}, \"mode\": \"markers+text\"}, {\"text\": [], \"y\": [0.0], \"textfont\": {\"color\": \"rgb(0, 0, 0)\"}, \"textposition\": \"middle center\", \"x\": [0.5], \"hoverinfo\": \"none\", \"marker\": {\"size\": 20, \"color\": \"rgb(255, 255, 255)\", \"line\": {\"width\": 2, \"color\": \"rgb(0, 0, 0)\"}}, \"mode\": \"markers+text\"}, {\"text\": [], \"y\": [0.0], \"textfont\": {\"color\": \"rgb(0, 0, 0)\"}, \"textposition\": \"middle center\", \"x\": [0.25], \"hoverinfo\": \"none\", \"marker\": {\"size\": 20, \"color\": \"rgb(255, 255, 255)\", \"line\": {\"width\": 2, \"color\": \"rgb(0, 0, 0)\"}}, \"mode\": \"markers+text\"}, {\"text\": [], \"y\": [0.5], \"textfont\": {\"color\": \"rgb(0, 0, 0)\"}, \"textposition\": \"middle center\", \"x\": [0.375], \"hoverinfo\": \"none\", \"marker\": {\"size\": 20, \"color\": \"rgb(255, 255, 255)\", \"line\": {\"width\": 2, \"color\": \"rgb(0, 0, 0)\"}}, \"mode\": \"markers+text\"}, {\"text\": [4, 8, 8, 11, 2, 7, 4, 9, 14, 10, 2, 6, 1, 7], \"y\": [0.768323871496594, 0.268323871496594, 1.0724637681159421, 0.5, 0.7406101423669093, 1.0724637681159421, 0.5093898576330907, 0.768323871496594, 0.5, 0.23167612850340602, -0.07246376811594203, 0.24061014236690928, -0.07246376811594203, 0.2593898576330907], \"textfont\": {\"color\": \"rgb(0, 0, 0)\"}, \"textposition\": \"middle center\", \"x\": [0.08835225700681207, 0.16164774299318793, 0.375, 0.2878787878787879, 0.4750594305323629, 0.625, 0.6625594305323629, 0.911647742993188, 0.7878787878787878, 0.911647742993188, 0.625, 0.3999405694676371, 0.375, 0.2749405694676371], \"hoverinfo\": \"none\", \"mode\": \"text\"}]}, {\"name\": 1, \"data\": [{\"hoverinfo\": \"none\", \"y\": [0.5, 1.0, null], \"x\": [0.0, 0.25, null], \"mode\": \"lines\", \"line\": {\"width\": 2, \"color\": \"rgb(0, 0, 0)\"}}, {\"hoverinfo\": \"none\", \"y\": [0.5, 0.0, null], \"x\": [0.0, 0.25, null], \"mode\": \"lines\", \"line\": {\"width\": 2, \"color\": \"rgb(0, 0, 0)\"}}, {\"hoverinfo\": \"none\", \"y\": [1.0, 1.0, null], \"x\": [0.25, 0.5, null], \"mode\": \"lines\", \"line\": {\"width\": 2, \"color\": \"rgb(0, 0, 0)\"}}, {\"hoverinfo\": \"none\", \"y\": [1.0, 0.0, null], \"x\": [0.25, 0.25, null], \"mode\": \"lines\", \"line\": {\"width\": 2, \"color\": \"rgb(0, 0, 0)\"}}, {\"hoverinfo\": \"none\", \"y\": [1.0, 0.5, null], \"x\": [0.5, 0.375, null], \"mode\": \"lines\", \"line\": {\"width\": 2, \"color\": \"rgb(0, 0, 0)\"}}, {\"hoverinfo\": \"none\", \"y\": [1.0, 1.0, null], \"x\": [0.5, 0.75, null], \"mode\": \"lines\", \"line\": {\"width\": 2, \"color\": \"rgb(0, 0, 0)\"}}, {\"hoverinfo\": \"none\", \"y\": [1.0, 0.0, null], \"x\": [0.5, 0.75, null], \"mode\": \"lines\", \"line\": {\"width\": 2, \"color\": \"rgb(0, 0, 0)\"}}, {\"hoverinfo\": \"none\", \"y\": [1.0, 0.5, null], \"x\": [0.75, 1.0, null], \"mode\": \"lines\", \"line\": {\"width\": 2, \"color\": \"rgb(0, 0, 0)\"}}, {\"hoverinfo\": \"none\", \"y\": [1.0, 0.0, null], \"x\": [0.75, 0.75, null], \"mode\": \"lines\", \"line\": {\"width\": 2, \"color\": \"rgb(0, 0, 0)\"}}, {\"hoverinfo\": \"none\", \"y\": [0.5, 0.0, null], \"x\": [1.0, 0.75, null], \"mode\": \"lines\", \"line\": {\"width\": 2, \"color\": \"rgb(0, 0, 0)\"}}, {\"hoverinfo\": \"none\", \"y\": [0.0, 0.0, null], \"x\": [0.75, 0.5, null], \"mode\": \"lines\", \"line\": {\"width\": 2, \"color\": \"rgb(0, 0, 0)\"}}, {\"hoverinfo\": \"none\", \"y\": [0.0, 0.5, null], \"x\": [0.5, 0.375, null], \"mode\": \"lines\", \"line\": {\"width\": 2, \"color\": \"rgb(0, 0, 0)\"}}, {\"hoverinfo\": \"none\", \"y\": [0.0, 0.0, null], \"x\": [0.5, 0.25, null], \"mode\": \"lines\", \"line\": {\"width\": 2, \"color\": \"rgb(255, 0, 0)\"}}, {\"hoverinfo\": \"none\", \"y\": [0.0, 0.5, null], \"x\": [0.25, 0.375, null], \"mode\": \"lines\", \"line\": {\"width\": 2, \"color\": \"rgb(0, 0, 0)\"}}, {\"text\": [], \"y\": [0.5], \"textfont\": {\"color\": \"rgb(0, 0, 0)\"}, \"textposition\": \"middle center\", \"x\": [0.0], \"hoverinfo\": \"none\", \"marker\": {\"size\": 20, \"color\": \"rgb(255, 255, 255)\", \"line\": {\"width\": 2, \"color\": \"rgb(0, 0, 0)\"}}, \"mode\": \"markers+text\"}, {\"text\": [], \"y\": [1.0], \"textfont\": {\"color\": \"rgb(0, 0, 0)\"}, \"textposition\": \"middle center\", \"x\": [0.25], \"hoverinfo\": \"none\", \"marker\": {\"size\": 20, \"color\": \"rgb(255, 255, 255)\", \"line\": {\"width\": 2, \"color\": \"rgb(0, 0, 0)\"}}, \"mode\": \"markers+text\"}, {\"text\": [], \"y\": [1.0], \"textfont\": {\"color\": \"rgb(0, 0, 0)\"}, \"textposition\": \"middle center\", \"x\": [0.5], \"hoverinfo\": \"none\", \"marker\": {\"size\": 20, \"color\": \"rgb(255, 255, 255)\", \"line\": {\"width\": 2, \"color\": \"rgb(0, 0, 0)\"}}, \"mode\": \"markers+text\"}, {\"text\": [], \"y\": [1.0], \"textfont\": {\"color\": \"rgb(0, 0, 0)\"}, \"textposition\": \"middle center\", \"x\": [0.75], \"hoverinfo\": \"none\", \"marker\": {\"size\": 20, \"color\": \"rgb(255, 255, 255)\", \"line\": {\"width\": 2, \"color\": \"rgb(0, 0, 0)\"}}, \"mode\": \"markers+text\"}, {\"text\": [], \"y\": [0.5], \"textfont\": {\"color\": \"rgb(0, 0, 0)\"}, \"textposition\": \"middle center\", \"x\": [1.0], \"hoverinfo\": \"none\", \"marker\": {\"size\": 20, \"color\": \"rgb(255, 255, 255)\", \"line\": {\"width\": 2, \"color\": \"rgb(0, 0, 0)\"}}, \"mode\": \"markers+text\"}, {\"text\": [], \"y\": [0.0], \"textfont\": {\"color\": \"rgb(0, 0, 0)\"}, \"textposition\": \"middle center\", \"x\": [0.75], \"hoverinfo\": \"none\", \"marker\": {\"size\": 20, \"color\": \"rgb(255, 255, 255)\", \"line\": {\"width\": 2, \"color\": \"rgb(0, 0, 0)\"}}, \"mode\": \"markers+text\"}, {\"text\": [], \"y\": [0.0], \"textfont\": {\"color\": \"rgb(0, 0, 0)\"}, \"textposition\": \"middle center\", \"x\": [0.5], \"hoverinfo\": \"none\", \"marker\": {\"size\": 20, \"color\": \"rgb(255, 255, 255)\", \"line\": {\"width\": 2, \"color\": \"rgb(0, 0, 0)\"}}, \"mode\": \"markers+text\"}, {\"text\": [], \"y\": [0.0], \"textfont\": {\"color\": \"rgb(0, 0, 0)\"}, \"textposition\": \"middle center\", \"x\": [0.25], \"hoverinfo\": \"none\", \"marker\": {\"size\": 20, \"color\": \"rgb(255, 255, 255)\", \"line\": {\"width\": 2, \"color\": \"rgb(0, 0, 0)\"}}, \"mode\": \"markers+text\"}, {\"text\": [], \"y\": [0.5], \"textfont\": {\"color\": \"rgb(0, 0, 0)\"}, \"textposition\": \"middle center\", \"x\": [0.375], \"hoverinfo\": \"none\", \"marker\": {\"size\": 20, \"color\": \"rgb(255, 255, 255)\", \"line\": {\"width\": 2, \"color\": \"rgb(0, 0, 0)\"}}, \"mode\": \"markers+text\"}, {\"text\": [4, 8, 8, 11, 2, 7, 4, 9, 14, 10, 2, 6, 1, 7], \"y\": [0.768323871496594, 0.268323871496594, 1.0724637681159421, 0.5, 0.7406101423669093, 1.0724637681159421, 0.5093898576330907, 0.768323871496594, 0.5, 0.23167612850340602, -0.07246376811594203, 0.24061014236690928, -0.07246376811594203, 0.2593898576330907], \"textfont\": {\"color\": \"rgb(0, 0, 0)\"}, \"textposition\": \"middle center\", \"x\": [0.08835225700681207, 0.16164774299318793, 0.375, 0.2878787878787879, 0.4750594305323629, 0.625, 0.6625594305323629, 0.911647742993188, 0.7878787878787878, 0.911647742993188, 0.625, 0.3999405694676371, 0.375, 0.2749405694676371], \"hoverinfo\": \"none\", \"mode\": \"text\"}]}, {\"name\": 2, \"data\": [{\"hoverinfo\": \"none\", \"y\": [0.5, 1.0, null], \"x\": [0.0, 0.25, null], \"mode\": \"lines\", \"line\": {\"width\": 2, \"color\": \"rgb(0, 0, 0)\"}}, {\"hoverinfo\": \"none\", \"y\": [0.5, 0.0, null], \"x\": [0.0, 0.25, null], \"mode\": \"lines\", \"line\": {\"width\": 2, \"color\": \"rgb(0, 0, 0)\"}}, {\"hoverinfo\": \"none\", \"y\": [1.0, 1.0, null], \"x\": [0.25, 0.5, null], \"mode\": \"lines\", \"line\": {\"width\": 2, \"color\": \"rgb(0, 0, 0)\"}}, {\"hoverinfo\": \"none\", \"y\": [1.0, 0.0, null], \"x\": [0.25, 0.25, null], \"mode\": \"lines\", \"line\": {\"width\": 2, \"color\": \"rgb(0, 0, 0)\"}}, {\"hoverinfo\": \"none\", \"y\": [1.0, 0.5, null], \"x\": [0.5, 0.375, null], \"mode\": \"lines\", \"line\": {\"width\": 2, \"color\": \"rgb(255, 0, 0)\"}}, {\"hoverinfo\": \"none\", \"y\": [1.0, 1.0, null], \"x\": [0.5, 0.75, null], \"mode\": \"lines\", \"line\": {\"width\": 2, \"color\": \"rgb(0, 0, 0)\"}}, {\"hoverinfo\": \"none\", \"y\": [1.0, 0.0, null], \"x\": [0.5, 0.75, null], \"mode\": \"lines\", \"line\": {\"width\": 2, \"color\": \"rgb(0, 0, 0)\"}}, {\"hoverinfo\": \"none\", \"y\": [1.0, 0.5, null], \"x\": [0.75, 1.0, null], \"mode\": \"lines\", \"line\": {\"width\": 2, \"color\": \"rgb(0, 0, 0)\"}}, {\"hoverinfo\": \"none\", \"y\": [1.0, 0.0, null], \"x\": [0.75, 0.75, null], \"mode\": \"lines\", \"line\": {\"width\": 2, \"color\": \"rgb(0, 0, 0)\"}}, {\"hoverinfo\": \"none\", \"y\": [0.5, 0.0, null], \"x\": [1.0, 0.75, null], \"mode\": \"lines\", \"line\": {\"width\": 2, \"color\": \"rgb(0, 0, 0)\"}}, {\"hoverinfo\": \"none\", \"y\": [0.0, 0.0, null], \"x\": [0.75, 0.5, null], \"mode\": \"lines\", \"line\": {\"width\": 2, \"color\": \"rgb(0, 0, 0)\"}}, {\"hoverinfo\": \"none\", \"y\": [0.0, 0.5, null], \"x\": [0.5, 0.375, null], \"mode\": \"lines\", \"line\": {\"width\": 2, \"color\": \"rgb(0, 0, 0)\"}}, {\"hoverinfo\": \"none\", \"y\": [0.0, 0.0, null], \"x\": [0.5, 0.25, null], \"mode\": \"lines\", \"line\": {\"width\": 2, \"color\": \"rgb(0, 255, 0)\"}}, {\"hoverinfo\": \"none\", \"y\": [0.0, 0.5, null], \"x\": [0.25, 0.375, null], \"mode\": \"lines\", \"line\": {\"width\": 2, \"color\": \"rgb(0, 0, 0)\"}}, {\"text\": [], \"y\": [0.5], \"textfont\": {\"color\": \"rgb(0, 0, 0)\"}, \"textposition\": \"middle center\", \"x\": [0.0], \"hoverinfo\": \"none\", \"marker\": {\"size\": 20, \"color\": \"rgb(255, 255, 255)\", \"line\": {\"width\": 2, \"color\": \"rgb(0, 0, 0)\"}}, \"mode\": \"markers+text\"}, {\"text\": [], \"y\": [1.0], \"textfont\": {\"color\": \"rgb(0, 0, 0)\"}, \"textposition\": \"middle center\", \"x\": [0.25], \"hoverinfo\": \"none\", \"marker\": {\"size\": 20, \"color\": \"rgb(255, 255, 255)\", \"line\": {\"width\": 2, \"color\": \"rgb(0, 0, 0)\"}}, \"mode\": \"markers+text\"}, {\"text\": [], \"y\": [1.0], \"textfont\": {\"color\": \"rgb(0, 0, 0)\"}, \"textposition\": \"middle center\", \"x\": [0.5], \"hoverinfo\": \"none\", \"marker\": {\"size\": 20, \"color\": \"rgb(255, 255, 255)\", \"line\": {\"width\": 2, \"color\": \"rgb(0, 0, 0)\"}}, \"mode\": \"markers+text\"}, {\"text\": [], \"y\": [1.0], \"textfont\": {\"color\": \"rgb(0, 0, 0)\"}, \"textposition\": \"middle center\", \"x\": [0.75], \"hoverinfo\": \"none\", \"marker\": {\"size\": 20, \"color\": \"rgb(255, 255, 255)\", \"line\": {\"width\": 2, \"color\": \"rgb(0, 0, 0)\"}}, \"mode\": \"markers+text\"}, {\"text\": [], \"y\": [0.5], \"textfont\": {\"color\": \"rgb(0, 0, 0)\"}, \"textposition\": \"middle center\", \"x\": [1.0], \"hoverinfo\": \"none\", \"marker\": {\"size\": 20, \"color\": \"rgb(255, 255, 255)\", \"line\": {\"width\": 2, \"color\": \"rgb(0, 0, 0)\"}}, \"mode\": \"markers+text\"}, {\"text\": [], \"y\": [0.0], \"textfont\": {\"color\": \"rgb(0, 0, 0)\"}, \"textposition\": \"middle center\", \"x\": [0.75], \"hoverinfo\": \"none\", \"marker\": {\"size\": 20, \"color\": \"rgb(255, 255, 255)\", \"line\": {\"width\": 2, \"color\": \"rgb(0, 0, 0)\"}}, \"mode\": \"markers+text\"}, {\"text\": [], \"y\": [0.0], \"textfont\": {\"color\": \"rgb(0, 0, 0)\"}, \"textposition\": \"middle center\", \"x\": [0.5], \"hoverinfo\": \"none\", \"marker\": {\"size\": 20, \"color\": \"rgb(255, 255, 255)\", \"line\": {\"width\": 2, \"color\": \"rgb(0, 0, 0)\"}}, \"mode\": \"markers+text\"}, {\"text\": [], \"y\": [0.0], \"textfont\": {\"color\": \"rgb(0, 0, 0)\"}, \"textposition\": \"middle center\", \"x\": [0.25], \"hoverinfo\": \"none\", \"marker\": {\"size\": 20, \"color\": \"rgb(255, 255, 255)\", \"line\": {\"width\": 2, \"color\": \"rgb(0, 0, 0)\"}}, \"mode\": \"markers+text\"}, {\"text\": [], \"y\": [0.5], \"textfont\": {\"color\": \"rgb(0, 0, 0)\"}, \"textposition\": \"middle center\", \"x\": [0.375], \"hoverinfo\": \"none\", \"marker\": {\"size\": 20, \"color\": \"rgb(255, 255, 255)\", \"line\": {\"width\": 2, \"color\": \"rgb(0, 0, 0)\"}}, \"mode\": \"markers+text\"}, {\"text\": [4, 8, 8, 11, 2, 7, 4, 9, 14, 10, 2, 6, 1, 7], \"y\": [0.768323871496594, 0.268323871496594, 1.0724637681159421, 0.5, 0.7406101423669093, 1.0724637681159421, 0.5093898576330907, 0.768323871496594, 0.5, 0.23167612850340602, -0.07246376811594203, 0.24061014236690928, -0.07246376811594203, 0.2593898576330907], \"textfont\": {\"color\": \"rgb(0, 0, 0)\"}, \"textposition\": \"middle center\", \"x\": [0.08835225700681207, 0.16164774299318793, 0.375, 0.2878787878787879, 0.4750594305323629, 0.625, 0.6625594305323629, 0.911647742993188, 0.7878787878787878, 0.911647742993188, 0.625, 0.3999405694676371, 0.375, 0.2749405694676371], \"hoverinfo\": \"none\", \"mode\": \"text\"}]}, {\"name\": 3, \"data\": [{\"hoverinfo\": \"none\", \"y\": [0.5, 1.0, null], \"x\": [0.0, 0.25, null], \"mode\": \"lines\", \"line\": {\"width\": 2, \"color\": \"rgb(0, 0, 0)\"}}, {\"hoverinfo\": \"none\", \"y\": [0.5, 0.0, null], \"x\": [0.0, 0.25, null], \"mode\": \"lines\", \"line\": {\"width\": 2, \"color\": \"rgb(0, 0, 0)\"}}, {\"hoverinfo\": \"none\", \"y\": [1.0, 1.0, null], \"x\": [0.25, 0.5, null], \"mode\": \"lines\", \"line\": {\"width\": 2, \"color\": \"rgb(0, 0, 0)\"}}, {\"hoverinfo\": \"none\", \"y\": [1.0, 0.0, null], \"x\": [0.25, 0.25, null], \"mode\": \"lines\", \"line\": {\"width\": 2, \"color\": \"rgb(0, 0, 0)\"}}, {\"hoverinfo\": \"none\", \"y\": [1.0, 0.5, null], \"x\": [0.5, 0.375, null], \"mode\": \"lines\", \"line\": {\"width\": 2, \"color\": \"rgb(0, 255, 0)\"}}, {\"hoverinfo\": \"none\", \"y\": [1.0, 1.0, null], \"x\": [0.5, 0.75, null], \"mode\": \"lines\", \"line\": {\"width\": 2, \"color\": \"rgb(0, 0, 0)\"}}, {\"hoverinfo\": \"none\", \"y\": [1.0, 0.0, null], \"x\": [0.5, 0.75, null], \"mode\": \"lines\", \"line\": {\"width\": 2, \"color\": \"rgb(0, 0, 0)\"}}, {\"hoverinfo\": \"none\", \"y\": [1.0, 0.5, null], \"x\": [0.75, 1.0, null], \"mode\": \"lines\", \"line\": {\"width\": 2, \"color\": \"rgb(0, 0, 0)\"}}, {\"hoverinfo\": \"none\", \"y\": [1.0, 0.0, null], \"x\": [0.75, 0.75, null], \"mode\": \"lines\", \"line\": {\"width\": 2, \"color\": \"rgb(0, 0, 0)\"}}, {\"hoverinfo\": \"none\", \"y\": [0.5, 0.0, null], \"x\": [1.0, 0.75, null], \"mode\": \"lines\", \"line\": {\"width\": 2, \"color\": \"rgb(0, 0, 0)\"}}, {\"hoverinfo\": \"none\", \"y\": [0.0, 0.0, null], \"x\": [0.75, 0.5, null], \"mode\": \"lines\", \"line\": {\"width\": 2, \"color\": \"rgb(255, 0, 0)\"}}, {\"hoverinfo\": \"none\", \"y\": [0.0, 0.5, null], \"x\": [0.5, 0.375, null], \"mode\": \"lines\", \"line\": {\"width\": 2, \"color\": \"rgb(0, 0, 0)\"}}, {\"hoverinfo\": \"none\", \"y\": [0.0, 0.0, null], \"x\": [0.5, 0.25, null], \"mode\": \"lines\", \"line\": {\"width\": 2, \"color\": \"rgb(0, 255, 0)\"}}, {\"hoverinfo\": \"none\", \"y\": [0.0, 0.5, null], \"x\": [0.25, 0.375, null], \"mode\": \"lines\", \"line\": {\"width\": 2, \"color\": \"rgb(0, 0, 0)\"}}, {\"text\": [], \"y\": [0.5], \"textfont\": {\"color\": \"rgb(0, 0, 0)\"}, \"textposition\": \"middle center\", \"x\": [0.0], \"hoverinfo\": \"none\", \"marker\": {\"size\": 20, \"color\": \"rgb(255, 255, 255)\", \"line\": {\"width\": 2, \"color\": \"rgb(0, 0, 0)\"}}, \"mode\": \"markers+text\"}, {\"text\": [], \"y\": [1.0], \"textfont\": {\"color\": \"rgb(0, 0, 0)\"}, \"textposition\": \"middle center\", \"x\": [0.25], \"hoverinfo\": \"none\", \"marker\": {\"size\": 20, \"color\": \"rgb(255, 255, 255)\", \"line\": {\"width\": 2, \"color\": \"rgb(0, 0, 0)\"}}, \"mode\": \"markers+text\"}, {\"text\": [], \"y\": [1.0], \"textfont\": {\"color\": \"rgb(0, 0, 0)\"}, \"textposition\": \"middle center\", \"x\": [0.5], \"hoverinfo\": \"none\", \"marker\": {\"size\": 20, \"color\": \"rgb(255, 255, 255)\", \"line\": {\"width\": 2, \"color\": \"rgb(0, 0, 0)\"}}, \"mode\": \"markers+text\"}, {\"text\": [], \"y\": [1.0], \"textfont\": {\"color\": \"rgb(0, 0, 0)\"}, \"textposition\": \"middle center\", \"x\": [0.75], \"hoverinfo\": \"none\", \"marker\": {\"size\": 20, \"color\": \"rgb(255, 255, 255)\", \"line\": {\"width\": 2, \"color\": \"rgb(0, 0, 0)\"}}, \"mode\": \"markers+text\"}, {\"text\": [], \"y\": [0.5], \"textfont\": {\"color\": \"rgb(0, 0, 0)\"}, \"textposition\": \"middle center\", \"x\": [1.0], \"hoverinfo\": \"none\", \"marker\": {\"size\": 20, \"color\": \"rgb(255, 255, 255)\", \"line\": {\"width\": 2, \"color\": \"rgb(0, 0, 0)\"}}, \"mode\": \"markers+text\"}, {\"text\": [], \"y\": [0.0], \"textfont\": {\"color\": \"rgb(0, 0, 0)\"}, \"textposition\": \"middle center\", \"x\": [0.75], \"hoverinfo\": \"none\", \"marker\": {\"size\": 20, \"color\": \"rgb(255, 255, 255)\", \"line\": {\"width\": 2, \"color\": \"rgb(0, 0, 0)\"}}, \"mode\": \"markers+text\"}, {\"text\": [], \"y\": [0.0], \"textfont\": {\"color\": \"rgb(0, 0, 0)\"}, \"textposition\": \"middle center\", \"x\": [0.5], \"hoverinfo\": \"none\", \"marker\": {\"size\": 20, \"color\": \"rgb(255, 255, 255)\", \"line\": {\"width\": 2, \"color\": \"rgb(0, 0, 0)\"}}, \"mode\": \"markers+text\"}, {\"text\": [], \"y\": [0.0], \"textfont\": {\"color\": \"rgb(0, 0, 0)\"}, \"textposition\": \"middle center\", \"x\": [0.25], \"hoverinfo\": \"none\", \"marker\": {\"size\": 20, \"color\": \"rgb(255, 255, 255)\", \"line\": {\"width\": 2, \"color\": \"rgb(0, 0, 0)\"}}, \"mode\": \"markers+text\"}, {\"text\": [], \"y\": [0.5], \"textfont\": {\"color\": \"rgb(0, 0, 0)\"}, \"textposition\": \"middle center\", \"x\": [0.375], \"hoverinfo\": \"none\", \"marker\": {\"size\": 20, \"color\": \"rgb(255, 255, 255)\", \"line\": {\"width\": 2, \"color\": \"rgb(0, 0, 0)\"}}, \"mode\": \"markers+text\"}, {\"text\": [4, 8, 8, 11, 2, 7, 4, 9, 14, 10, 2, 6, 1, 7], \"y\": [0.768323871496594, 0.268323871496594, 1.0724637681159421, 0.5, 0.7406101423669093, 1.0724637681159421, 0.5093898576330907, 0.768323871496594, 0.5, 0.23167612850340602, -0.07246376811594203, 0.24061014236690928, -0.07246376811594203, 0.2593898576330907], \"textfont\": {\"color\": \"rgb(0, 0, 0)\"}, \"textposition\": \"middle center\", \"x\": [0.08835225700681207, 0.16164774299318793, 0.375, 0.2878787878787879, 0.4750594305323629, 0.625, 0.6625594305323629, 0.911647742993188, 0.7878787878787878, 0.911647742993188, 0.625, 0.3999405694676371, 0.375, 0.2749405694676371], \"hoverinfo\": \"none\", \"mode\": \"text\"}]}, {\"name\": 4, \"data\": [{\"hoverinfo\": \"none\", \"y\": [0.5, 1.0, null], \"x\": [0.0, 0.25, null], \"mode\": \"lines\", \"line\": {\"width\": 2, \"color\": \"rgb(255, 0, 0)\"}}, {\"hoverinfo\": \"none\", \"y\": [0.5, 0.0, null], \"x\": [0.0, 0.25, null], \"mode\": \"lines\", \"line\": {\"width\": 2, \"color\": \"rgb(0, 0, 0)\"}}, {\"hoverinfo\": \"none\", \"y\": [1.0, 1.0, null], \"x\": [0.25, 0.5, null], \"mode\": \"lines\", \"line\": {\"width\": 2, \"color\": \"rgb(0, 0, 0)\"}}, {\"hoverinfo\": \"none\", \"y\": [1.0, 0.0, null], \"x\": [0.25, 0.25, null], \"mode\": \"lines\", \"line\": {\"width\": 2, \"color\": \"rgb(0, 0, 0)\"}}, {\"hoverinfo\": \"none\", \"y\": [1.0, 0.5, null], \"x\": [0.5, 0.375, null], \"mode\": \"lines\", \"line\": {\"width\": 2, \"color\": \"rgb(0, 255, 0)\"}}, {\"hoverinfo\": \"none\", \"y\": [1.0, 1.0, null], \"x\": [0.5, 0.75, null], \"mode\": \"lines\", \"line\": {\"width\": 2, \"color\": \"rgb(0, 0, 0)\"}}, {\"hoverinfo\": \"none\", \"y\": [1.0, 0.0, null], \"x\": [0.5, 0.75, null], \"mode\": \"lines\", \"line\": {\"width\": 2, \"color\": \"rgb(0, 0, 0)\"}}, {\"hoverinfo\": \"none\", \"y\": [1.0, 0.5, null], \"x\": [0.75, 1.0, null], \"mode\": \"lines\", \"line\": {\"width\": 2, \"color\": \"rgb(0, 0, 0)\"}}, {\"hoverinfo\": \"none\", \"y\": [1.0, 0.0, null], \"x\": [0.75, 0.75, null], \"mode\": \"lines\", \"line\": {\"width\": 2, \"color\": \"rgb(0, 0, 0)\"}}, {\"hoverinfo\": \"none\", \"y\": [0.5, 0.0, null], \"x\": [1.0, 0.75, null], \"mode\": \"lines\", \"line\": {\"width\": 2, \"color\": \"rgb(0, 0, 0)\"}}, {\"hoverinfo\": \"none\", \"y\": [0.0, 0.0, null], \"x\": [0.75, 0.5, null], \"mode\": \"lines\", \"line\": {\"width\": 2, \"color\": \"rgb(0, 255, 0)\"}}, {\"hoverinfo\": \"none\", \"y\": [0.0, 0.5, null], \"x\": [0.5, 0.375, null], \"mode\": \"lines\", \"line\": {\"width\": 2, \"color\": \"rgb(0, 0, 0)\"}}, {\"hoverinfo\": \"none\", \"y\": [0.0, 0.0, null], \"x\": [0.5, 0.25, null], \"mode\": \"lines\", \"line\": {\"width\": 2, \"color\": \"rgb(0, 255, 0)\"}}, {\"hoverinfo\": \"none\", \"y\": [0.0, 0.5, null], \"x\": [0.25, 0.375, null], \"mode\": \"lines\", \"line\": {\"width\": 2, \"color\": \"rgb(0, 0, 0)\"}}, {\"text\": [], \"y\": [0.5], \"textfont\": {\"color\": \"rgb(0, 0, 0)\"}, \"textposition\": \"middle center\", \"x\": [0.0], \"hoverinfo\": \"none\", \"marker\": {\"size\": 20, \"color\": \"rgb(255, 255, 255)\", \"line\": {\"width\": 2, \"color\": \"rgb(0, 0, 0)\"}}, \"mode\": \"markers+text\"}, {\"text\": [], \"y\": [1.0], \"textfont\": {\"color\": \"rgb(0, 0, 0)\"}, \"textposition\": \"middle center\", \"x\": [0.25], \"hoverinfo\": \"none\", \"marker\": {\"size\": 20, \"color\": \"rgb(255, 255, 255)\", \"line\": {\"width\": 2, \"color\": \"rgb(0, 0, 0)\"}}, \"mode\": \"markers+text\"}, {\"text\": [], \"y\": [1.0], \"textfont\": {\"color\": \"rgb(0, 0, 0)\"}, \"textposition\": \"middle center\", \"x\": [0.5], \"hoverinfo\": \"none\", \"marker\": {\"size\": 20, \"color\": \"rgb(255, 255, 255)\", \"line\": {\"width\": 2, \"color\": \"rgb(0, 0, 0)\"}}, \"mode\": \"markers+text\"}, {\"text\": [], \"y\": [1.0], \"textfont\": {\"color\": \"rgb(0, 0, 0)\"}, \"textposition\": \"middle center\", \"x\": [0.75], \"hoverinfo\": \"none\", \"marker\": {\"size\": 20, \"color\": \"rgb(255, 255, 255)\", \"line\": {\"width\": 2, \"color\": \"rgb(0, 0, 0)\"}}, \"mode\": \"markers+text\"}, {\"text\": [], \"y\": [0.5], \"textfont\": {\"color\": \"rgb(0, 0, 0)\"}, \"textposition\": \"middle center\", \"x\": [1.0], \"hoverinfo\": \"none\", \"marker\": {\"size\": 20, \"color\": \"rgb(255, 255, 255)\", \"line\": {\"width\": 2, \"color\": \"rgb(0, 0, 0)\"}}, \"mode\": \"markers+text\"}, {\"text\": [], \"y\": [0.0], \"textfont\": {\"color\": \"rgb(0, 0, 0)\"}, \"textposition\": \"middle center\", \"x\": [0.75], \"hoverinfo\": \"none\", \"marker\": {\"size\": 20, \"color\": \"rgb(255, 255, 255)\", \"line\": {\"width\": 2, \"color\": \"rgb(0, 0, 0)\"}}, \"mode\": \"markers+text\"}, {\"text\": [], \"y\": [0.0], \"textfont\": {\"color\": \"rgb(0, 0, 0)\"}, \"textposition\": \"middle center\", \"x\": [0.5], \"hoverinfo\": \"none\", \"marker\": {\"size\": 20, \"color\": \"rgb(255, 255, 255)\", \"line\": {\"width\": 2, \"color\": \"rgb(0, 0, 0)\"}}, \"mode\": \"markers+text\"}, {\"text\": [], \"y\": [0.0], \"textfont\": {\"color\": \"rgb(0, 0, 0)\"}, \"textposition\": \"middle center\", \"x\": [0.25], \"hoverinfo\": \"none\", \"marker\": {\"size\": 20, \"color\": \"rgb(255, 255, 255)\", \"line\": {\"width\": 2, \"color\": \"rgb(0, 0, 0)\"}}, \"mode\": \"markers+text\"}, {\"text\": [], \"y\": [0.5], \"textfont\": {\"color\": \"rgb(0, 0, 0)\"}, \"textposition\": \"middle center\", \"x\": [0.375], \"hoverinfo\": \"none\", \"marker\": {\"size\": 20, \"color\": \"rgb(255, 255, 255)\", \"line\": {\"width\": 2, \"color\": \"rgb(0, 0, 0)\"}}, \"mode\": \"markers+text\"}, {\"text\": [4, 8, 8, 11, 2, 7, 4, 9, 14, 10, 2, 6, 1, 7], \"y\": [0.768323871496594, 0.268323871496594, 1.0724637681159421, 0.5, 0.7406101423669093, 1.0724637681159421, 0.5093898576330907, 0.768323871496594, 0.5, 0.23167612850340602, -0.07246376811594203, 0.24061014236690928, -0.07246376811594203, 0.2593898576330907], \"textfont\": {\"color\": \"rgb(0, 0, 0)\"}, \"textposition\": \"middle center\", \"x\": [0.08835225700681207, 0.16164774299318793, 0.375, 0.2878787878787879, 0.4750594305323629, 0.625, 0.6625594305323629, 0.911647742993188, 0.7878787878787878, 0.911647742993188, 0.625, 0.3999405694676371, 0.375, 0.2749405694676371], \"hoverinfo\": \"none\", \"mode\": \"text\"}]}, {\"name\": 5, \"data\": [{\"hoverinfo\": \"none\", \"y\": [0.5, 1.0, null], \"x\": [0.0, 0.25, null], \"mode\": \"lines\", \"line\": {\"width\": 2, \"color\": \"rgb(0, 255, 0)\"}}, {\"hoverinfo\": \"none\", \"y\": [0.5, 0.0, null], \"x\": [0.0, 0.25, null], \"mode\": \"lines\", \"line\": {\"width\": 2, \"color\": \"rgb(0, 0, 0)\"}}, {\"hoverinfo\": \"none\", \"y\": [1.0, 1.0, null], \"x\": [0.25, 0.5, null], \"mode\": \"lines\", \"line\": {\"width\": 2, \"color\": \"rgb(0, 0, 0)\"}}, {\"hoverinfo\": \"none\", \"y\": [1.0, 0.0, null], \"x\": [0.25, 0.25, null], \"mode\": \"lines\", \"line\": {\"width\": 2, \"color\": \"rgb(0, 0, 0)\"}}, {\"hoverinfo\": \"none\", \"y\": [1.0, 0.5, null], \"x\": [0.5, 0.375, null], \"mode\": \"lines\", \"line\": {\"width\": 2, \"color\": \"rgb(0, 255, 0)\"}}, {\"hoverinfo\": \"none\", \"y\": [1.0, 1.0, null], \"x\": [0.5, 0.75, null], \"mode\": \"lines\", \"line\": {\"width\": 2, \"color\": \"rgb(0, 0, 0)\"}}, {\"hoverinfo\": \"none\", \"y\": [1.0, 0.0, null], \"x\": [0.5, 0.75, null], \"mode\": \"lines\", \"line\": {\"width\": 2, \"color\": \"rgb(255, 0, 0)\"}}, {\"hoverinfo\": \"none\", \"y\": [1.0, 0.5, null], \"x\": [0.75, 1.0, null], \"mode\": \"lines\", \"line\": {\"width\": 2, \"color\": \"rgb(0, 0, 0)\"}}, {\"hoverinfo\": \"none\", \"y\": [1.0, 0.0, null], \"x\": [0.75, 0.75, null], \"mode\": \"lines\", \"line\": {\"width\": 2, \"color\": \"rgb(0, 0, 0)\"}}, {\"hoverinfo\": \"none\", \"y\": [0.5, 0.0, null], \"x\": [1.0, 0.75, null], \"mode\": \"lines\", \"line\": {\"width\": 2, \"color\": \"rgb(0, 0, 0)\"}}, {\"hoverinfo\": \"none\", \"y\": [0.0, 0.0, null], \"x\": [0.75, 0.5, null], \"mode\": \"lines\", \"line\": {\"width\": 2, \"color\": \"rgb(0, 255, 0)\"}}, {\"hoverinfo\": \"none\", \"y\": [0.0, 0.5, null], \"x\": [0.5, 0.375, null], \"mode\": \"lines\", \"line\": {\"width\": 2, \"color\": \"rgb(0, 0, 0)\"}}, {\"hoverinfo\": \"none\", \"y\": [0.0, 0.0, null], \"x\": [0.5, 0.25, null], \"mode\": \"lines\", \"line\": {\"width\": 2, \"color\": \"rgb(0, 255, 0)\"}}, {\"hoverinfo\": \"none\", \"y\": [0.0, 0.5, null], \"x\": [0.25, 0.375, null], \"mode\": \"lines\", \"line\": {\"width\": 2, \"color\": \"rgb(0, 0, 0)\"}}, {\"text\": [], \"y\": [0.5], \"textfont\": {\"color\": \"rgb(0, 0, 0)\"}, \"textposition\": \"middle center\", \"x\": [0.0], \"hoverinfo\": \"none\", \"marker\": {\"size\": 20, \"color\": \"rgb(255, 255, 255)\", \"line\": {\"width\": 2, \"color\": \"rgb(0, 0, 0)\"}}, \"mode\": \"markers+text\"}, {\"text\": [], \"y\": [1.0], \"textfont\": {\"color\": \"rgb(0, 0, 0)\"}, \"textposition\": \"middle center\", \"x\": [0.25], \"hoverinfo\": \"none\", \"marker\": {\"size\": 20, \"color\": \"rgb(255, 255, 255)\", \"line\": {\"width\": 2, \"color\": \"rgb(0, 0, 0)\"}}, \"mode\": \"markers+text\"}, {\"text\": [], \"y\": [1.0], \"textfont\": {\"color\": \"rgb(0, 0, 0)\"}, \"textposition\": \"middle center\", \"x\": [0.5], \"hoverinfo\": \"none\", \"marker\": {\"size\": 20, \"color\": \"rgb(255, 255, 255)\", \"line\": {\"width\": 2, \"color\": \"rgb(0, 0, 0)\"}}, \"mode\": \"markers+text\"}, {\"text\": [], \"y\": [1.0], \"textfont\": {\"color\": \"rgb(0, 0, 0)\"}, \"textposition\": \"middle center\", \"x\": [0.75], \"hoverinfo\": \"none\", \"marker\": {\"size\": 20, \"color\": \"rgb(255, 255, 255)\", \"line\": {\"width\": 2, \"color\": \"rgb(0, 0, 0)\"}}, \"mode\": \"markers+text\"}, {\"text\": [], \"y\": [0.5], \"textfont\": {\"color\": \"rgb(0, 0, 0)\"}, \"textposition\": \"middle center\", \"x\": [1.0], \"hoverinfo\": \"none\", \"marker\": {\"size\": 20, \"color\": \"rgb(255, 255, 255)\", \"line\": {\"width\": 2, \"color\": \"rgb(0, 0, 0)\"}}, \"mode\": \"markers+text\"}, {\"text\": [], \"y\": [0.0], \"textfont\": {\"color\": \"rgb(0, 0, 0)\"}, \"textposition\": \"middle center\", \"x\": [0.75], \"hoverinfo\": \"none\", \"marker\": {\"size\": 20, \"color\": \"rgb(255, 255, 255)\", \"line\": {\"width\": 2, \"color\": \"rgb(0, 0, 0)\"}}, \"mode\": \"markers+text\"}, {\"text\": [], \"y\": [0.0], \"textfont\": {\"color\": \"rgb(0, 0, 0)\"}, \"textposition\": \"middle center\", \"x\": [0.5], \"hoverinfo\": \"none\", \"marker\": {\"size\": 20, \"color\": \"rgb(255, 255, 255)\", \"line\": {\"width\": 2, \"color\": \"rgb(0, 0, 0)\"}}, \"mode\": \"markers+text\"}, {\"text\": [], \"y\": [0.0], \"textfont\": {\"color\": \"rgb(0, 0, 0)\"}, \"textposition\": \"middle center\", \"x\": [0.25], \"hoverinfo\": \"none\", \"marker\": {\"size\": 20, \"color\": \"rgb(255, 255, 255)\", \"line\": {\"width\": 2, \"color\": \"rgb(0, 0, 0)\"}}, \"mode\": \"markers+text\"}, {\"text\": [], \"y\": [0.5], \"textfont\": {\"color\": \"rgb(0, 0, 0)\"}, \"textposition\": \"middle center\", \"x\": [0.375], \"hoverinfo\": \"none\", \"marker\": {\"size\": 20, \"color\": \"rgb(255, 255, 255)\", \"line\": {\"width\": 2, \"color\": \"rgb(0, 0, 0)\"}}, \"mode\": \"markers+text\"}, {\"text\": [4, 8, 8, 11, 2, 7, 4, 9, 14, 10, 2, 6, 1, 7], \"y\": [0.768323871496594, 0.268323871496594, 1.0724637681159421, 0.5, 0.7406101423669093, 1.0724637681159421, 0.5093898576330907, 0.768323871496594, 0.5, 0.23167612850340602, -0.07246376811594203, 0.24061014236690928, -0.07246376811594203, 0.2593898576330907], \"textfont\": {\"color\": \"rgb(0, 0, 0)\"}, \"textposition\": \"middle center\", \"x\": [0.08835225700681207, 0.16164774299318793, 0.375, 0.2878787878787879, 0.4750594305323629, 0.625, 0.6625594305323629, 0.911647742993188, 0.7878787878787878, 0.911647742993188, 0.625, 0.3999405694676371, 0.375, 0.2749405694676371], \"hoverinfo\": \"none\", \"mode\": \"text\"}]}, {\"name\": 6, \"data\": [{\"hoverinfo\": \"none\", \"y\": [0.5, 1.0, null], \"x\": [0.0, 0.25, null], \"mode\": \"lines\", \"line\": {\"width\": 2, \"color\": \"rgb(0, 255, 0)\"}}, {\"hoverinfo\": \"none\", \"y\": [0.5, 0.0, null], \"x\": [0.0, 0.25, null], \"mode\": \"lines\", \"line\": {\"width\": 2, \"color\": \"rgb(0, 0, 0)\"}}, {\"hoverinfo\": \"none\", \"y\": [1.0, 1.0, null], \"x\": [0.25, 0.5, null], \"mode\": \"lines\", \"line\": {\"width\": 2, \"color\": \"rgb(0, 0, 0)\"}}, {\"hoverinfo\": \"none\", \"y\": [1.0, 0.0, null], \"x\": [0.25, 0.25, null], \"mode\": \"lines\", \"line\": {\"width\": 2, \"color\": \"rgb(0, 0, 0)\"}}, {\"hoverinfo\": \"none\", \"y\": [1.0, 0.5, null], \"x\": [0.5, 0.375, null], \"mode\": \"lines\", \"line\": {\"width\": 2, \"color\": \"rgb(0, 255, 0)\"}}, {\"hoverinfo\": \"none\", \"y\": [1.0, 1.0, null], \"x\": [0.5, 0.75, null], \"mode\": \"lines\", \"line\": {\"width\": 2, \"color\": \"rgb(0, 0, 0)\"}}, {\"hoverinfo\": \"none\", \"y\": [1.0, 0.0, null], \"x\": [0.5, 0.75, null], \"mode\": \"lines\", \"line\": {\"width\": 2, \"color\": \"rgb(0, 255, 0)\"}}, {\"hoverinfo\": \"none\", \"y\": [1.0, 0.5, null], \"x\": [0.75, 1.0, null], \"mode\": \"lines\", \"line\": {\"width\": 2, \"color\": \"rgb(0, 0, 0)\"}}, {\"hoverinfo\": \"none\", \"y\": [1.0, 0.0, null], \"x\": [0.75, 0.75, null], \"mode\": \"lines\", \"line\": {\"width\": 2, \"color\": \"rgb(0, 0, 0)\"}}, {\"hoverinfo\": \"none\", \"y\": [0.5, 0.0, null], \"x\": [1.0, 0.75, null], \"mode\": \"lines\", \"line\": {\"width\": 2, \"color\": \"rgb(0, 0, 0)\"}}, {\"hoverinfo\": \"none\", \"y\": [0.0, 0.0, null], \"x\": [0.75, 0.5, null], \"mode\": \"lines\", \"line\": {\"width\": 2, \"color\": \"rgb(0, 255, 0)\"}}, {\"hoverinfo\": \"none\", \"y\": [0.0, 0.5, null], \"x\": [0.5, 0.375, null], \"mode\": \"lines\", \"line\": {\"width\": 2, \"color\": \"rgb(255, 0, 0)\"}}, {\"hoverinfo\": \"none\", \"y\": [0.0, 0.0, null], \"x\": [0.5, 0.25, null], \"mode\": \"lines\", \"line\": {\"width\": 2, \"color\": \"rgb(0, 255, 0)\"}}, {\"hoverinfo\": \"none\", \"y\": [0.0, 0.5, null], \"x\": [0.25, 0.375, null], \"mode\": \"lines\", \"line\": {\"width\": 2, \"color\": \"rgb(0, 0, 0)\"}}, {\"text\": [], \"y\": [0.5], \"textfont\": {\"color\": \"rgb(0, 0, 0)\"}, \"textposition\": \"middle center\", \"x\": [0.0], \"hoverinfo\": \"none\", \"marker\": {\"size\": 20, \"color\": \"rgb(255, 255, 255)\", \"line\": {\"width\": 2, \"color\": \"rgb(0, 0, 0)\"}}, \"mode\": \"markers+text\"}, {\"text\": [], \"y\": [1.0], \"textfont\": {\"color\": \"rgb(0, 0, 0)\"}, \"textposition\": \"middle center\", \"x\": [0.25], \"hoverinfo\": \"none\", \"marker\": {\"size\": 20, \"color\": \"rgb(255, 255, 255)\", \"line\": {\"width\": 2, \"color\": \"rgb(0, 0, 0)\"}}, \"mode\": \"markers+text\"}, {\"text\": [], \"y\": [1.0], \"textfont\": {\"color\": \"rgb(0, 0, 0)\"}, \"textposition\": \"middle center\", \"x\": [0.5], \"hoverinfo\": \"none\", \"marker\": {\"size\": 20, \"color\": \"rgb(255, 255, 255)\", \"line\": {\"width\": 2, \"color\": \"rgb(0, 0, 0)\"}}, \"mode\": \"markers+text\"}, {\"text\": [], \"y\": [1.0], \"textfont\": {\"color\": \"rgb(0, 0, 0)\"}, \"textposition\": \"middle center\", \"x\": [0.75], \"hoverinfo\": \"none\", \"marker\": {\"size\": 20, \"color\": \"rgb(255, 255, 255)\", \"line\": {\"width\": 2, \"color\": \"rgb(0, 0, 0)\"}}, \"mode\": \"markers+text\"}, {\"text\": [], \"y\": [0.5], \"textfont\": {\"color\": \"rgb(0, 0, 0)\"}, \"textposition\": \"middle center\", \"x\": [1.0], \"hoverinfo\": \"none\", \"marker\": {\"size\": 20, \"color\": \"rgb(255, 255, 255)\", \"line\": {\"width\": 2, \"color\": \"rgb(0, 0, 0)\"}}, \"mode\": \"markers+text\"}, {\"text\": [], \"y\": [0.0], \"textfont\": {\"color\": \"rgb(0, 0, 0)\"}, \"textposition\": \"middle center\", \"x\": [0.75], \"hoverinfo\": \"none\", \"marker\": {\"size\": 20, \"color\": \"rgb(255, 255, 255)\", \"line\": {\"width\": 2, \"color\": \"rgb(0, 0, 0)\"}}, \"mode\": \"markers+text\"}, {\"text\": [], \"y\": [0.0], \"textfont\": {\"color\": \"rgb(0, 0, 0)\"}, \"textposition\": \"middle center\", \"x\": [0.5], \"hoverinfo\": \"none\", \"marker\": {\"size\": 20, \"color\": \"rgb(255, 255, 255)\", \"line\": {\"width\": 2, \"color\": \"rgb(0, 0, 0)\"}}, \"mode\": \"markers+text\"}, {\"text\": [], \"y\": [0.0], \"textfont\": {\"color\": \"rgb(0, 0, 0)\"}, \"textposition\": \"middle center\", \"x\": [0.25], \"hoverinfo\": \"none\", \"marker\": {\"size\": 20, \"color\": \"rgb(255, 255, 255)\", \"line\": {\"width\": 2, \"color\": \"rgb(0, 0, 0)\"}}, \"mode\": \"markers+text\"}, {\"text\": [], \"y\": [0.5], \"textfont\": {\"color\": \"rgb(0, 0, 0)\"}, \"textposition\": \"middle center\", \"x\": [0.375], \"hoverinfo\": \"none\", \"marker\": {\"size\": 20, \"color\": \"rgb(255, 255, 255)\", \"line\": {\"width\": 2, \"color\": \"rgb(0, 0, 0)\"}}, \"mode\": \"markers+text\"}, {\"text\": [4, 8, 8, 11, 2, 7, 4, 9, 14, 10, 2, 6, 1, 7], \"y\": [0.768323871496594, 0.268323871496594, 1.0724637681159421, 0.5, 0.7406101423669093, 1.0724637681159421, 0.5093898576330907, 0.768323871496594, 0.5, 0.23167612850340602, -0.07246376811594203, 0.24061014236690928, -0.07246376811594203, 0.2593898576330907], \"textfont\": {\"color\": \"rgb(0, 0, 0)\"}, \"textposition\": \"middle center\", \"x\": [0.08835225700681207, 0.16164774299318793, 0.375, 0.2878787878787879, 0.4750594305323629, 0.625, 0.6625594305323629, 0.911647742993188, 0.7878787878787878, 0.911647742993188, 0.625, 0.3999405694676371, 0.375, 0.2749405694676371], \"hoverinfo\": \"none\", \"mode\": \"text\"}]}, {\"name\": 7, \"data\": [{\"hoverinfo\": \"none\", \"y\": [0.5, 1.0, null], \"x\": [0.0, 0.25, null], \"mode\": \"lines\", \"line\": {\"width\": 2, \"color\": \"rgb(0, 255, 0)\"}}, {\"hoverinfo\": \"none\", \"y\": [0.5, 0.0, null], \"x\": [0.0, 0.25, null], \"mode\": \"lines\", \"line\": {\"width\": 2, \"color\": \"rgb(0, 0, 0)\"}}, {\"hoverinfo\": \"none\", \"y\": [1.0, 1.0, null], \"x\": [0.25, 0.5, null], \"mode\": \"lines\", \"line\": {\"width\": 2, \"color\": \"rgb(0, 0, 0)\"}}, {\"hoverinfo\": \"none\", \"y\": [1.0, 0.0, null], \"x\": [0.25, 0.25, null], \"mode\": \"lines\", \"line\": {\"width\": 2, \"color\": \"rgb(0, 0, 0)\"}}, {\"hoverinfo\": \"none\", \"y\": [1.0, 0.5, null], \"x\": [0.5, 0.375, null], \"mode\": \"lines\", \"line\": {\"width\": 2, \"color\": \"rgb(0, 255, 0)\"}}, {\"hoverinfo\": \"none\", \"y\": [1.0, 1.0, null], \"x\": [0.5, 0.75, null], \"mode\": \"lines\", \"line\": {\"width\": 2, \"color\": \"rgb(255, 0, 0)\"}}, {\"hoverinfo\": \"none\", \"y\": [1.0, 0.0, null], \"x\": [0.5, 0.75, null], \"mode\": \"lines\", \"line\": {\"width\": 2, \"color\": \"rgb(0, 255, 0)\"}}, {\"hoverinfo\": \"none\", \"y\": [1.0, 0.5, null], \"x\": [0.75, 1.0, null], \"mode\": \"lines\", \"line\": {\"width\": 2, \"color\": \"rgb(0, 0, 0)\"}}, {\"hoverinfo\": \"none\", \"y\": [1.0, 0.0, null], \"x\": [0.75, 0.75, null], \"mode\": \"lines\", \"line\": {\"width\": 2, \"color\": \"rgb(0, 0, 0)\"}}, {\"hoverinfo\": \"none\", \"y\": [0.5, 0.0, null], \"x\": [1.0, 0.75, null], \"mode\": \"lines\", \"line\": {\"width\": 2, \"color\": \"rgb(0, 0, 0)\"}}, {\"hoverinfo\": \"none\", \"y\": [0.0, 0.0, null], \"x\": [0.75, 0.5, null], \"mode\": \"lines\", \"line\": {\"width\": 2, \"color\": \"rgb(0, 255, 0)\"}}, {\"hoverinfo\": \"none\", \"y\": [0.0, 0.5, null], \"x\": [0.5, 0.375, null], \"mode\": \"lines\", \"line\": {\"width\": 2, \"color\": \"rgb(0, 0, 0)\"}}, {\"hoverinfo\": \"none\", \"y\": [0.0, 0.0, null], \"x\": [0.5, 0.25, null], \"mode\": \"lines\", \"line\": {\"width\": 2, \"color\": \"rgb(0, 255, 0)\"}}, {\"hoverinfo\": \"none\", \"y\": [0.0, 0.5, null], \"x\": [0.25, 0.375, null], \"mode\": \"lines\", \"line\": {\"width\": 2, \"color\": \"rgb(0, 0, 0)\"}}, {\"text\": [], \"y\": [0.5], \"textfont\": {\"color\": \"rgb(0, 0, 0)\"}, \"textposition\": \"middle center\", \"x\": [0.0], \"hoverinfo\": \"none\", \"marker\": {\"size\": 20, \"color\": \"rgb(255, 255, 255)\", \"line\": {\"width\": 2, \"color\": \"rgb(0, 0, 0)\"}}, \"mode\": \"markers+text\"}, {\"text\": [], \"y\": [1.0], \"textfont\": {\"color\": \"rgb(0, 0, 0)\"}, \"textposition\": \"middle center\", \"x\": [0.25], \"hoverinfo\": \"none\", \"marker\": {\"size\": 20, \"color\": \"rgb(255, 255, 255)\", \"line\": {\"width\": 2, \"color\": \"rgb(0, 0, 0)\"}}, \"mode\": \"markers+text\"}, {\"text\": [], \"y\": [1.0], \"textfont\": {\"color\": \"rgb(0, 0, 0)\"}, \"textposition\": \"middle center\", \"x\": [0.5], \"hoverinfo\": \"none\", \"marker\": {\"size\": 20, \"color\": \"rgb(255, 255, 255)\", \"line\": {\"width\": 2, \"color\": \"rgb(0, 0, 0)\"}}, \"mode\": \"markers+text\"}, {\"text\": [], \"y\": [1.0], \"textfont\": {\"color\": \"rgb(0, 0, 0)\"}, \"textposition\": \"middle center\", \"x\": [0.75], \"hoverinfo\": \"none\", \"marker\": {\"size\": 20, \"color\": \"rgb(255, 255, 255)\", \"line\": {\"width\": 2, \"color\": \"rgb(0, 0, 0)\"}}, \"mode\": \"markers+text\"}, {\"text\": [], \"y\": [0.5], \"textfont\": {\"color\": \"rgb(0, 0, 0)\"}, \"textposition\": \"middle center\", \"x\": [1.0], \"hoverinfo\": \"none\", \"marker\": {\"size\": 20, \"color\": \"rgb(255, 255, 255)\", \"line\": {\"width\": 2, \"color\": \"rgb(0, 0, 0)\"}}, \"mode\": \"markers+text\"}, {\"text\": [], \"y\": [0.0], \"textfont\": {\"color\": \"rgb(0, 0, 0)\"}, \"textposition\": \"middle center\", \"x\": [0.75], \"hoverinfo\": \"none\", \"marker\": {\"size\": 20, \"color\": \"rgb(255, 255, 255)\", \"line\": {\"width\": 2, \"color\": \"rgb(0, 0, 0)\"}}, \"mode\": \"markers+text\"}, {\"text\": [], \"y\": [0.0], \"textfont\": {\"color\": \"rgb(0, 0, 0)\"}, \"textposition\": \"middle center\", \"x\": [0.5], \"hoverinfo\": \"none\", \"marker\": {\"size\": 20, \"color\": \"rgb(255, 255, 255)\", \"line\": {\"width\": 2, \"color\": \"rgb(0, 0, 0)\"}}, \"mode\": \"markers+text\"}, {\"text\": [], \"y\": [0.0], \"textfont\": {\"color\": \"rgb(0, 0, 0)\"}, \"textposition\": \"middle center\", \"x\": [0.25], \"hoverinfo\": \"none\", \"marker\": {\"size\": 20, \"color\": \"rgb(255, 255, 255)\", \"line\": {\"width\": 2, \"color\": \"rgb(0, 0, 0)\"}}, \"mode\": \"markers+text\"}, {\"text\": [], \"y\": [0.5], \"textfont\": {\"color\": \"rgb(0, 0, 0)\"}, \"textposition\": \"middle center\", \"x\": [0.375], \"hoverinfo\": \"none\", \"marker\": {\"size\": 20, \"color\": \"rgb(255, 255, 255)\", \"line\": {\"width\": 2, \"color\": \"rgb(0, 0, 0)\"}}, \"mode\": \"markers+text\"}, {\"text\": [4, 8, 8, 11, 2, 7, 4, 9, 14, 10, 2, 6, 1, 7], \"y\": [0.768323871496594, 0.268323871496594, 1.0724637681159421, 0.5, 0.7406101423669093, 1.0724637681159421, 0.5093898576330907, 0.768323871496594, 0.5, 0.23167612850340602, -0.07246376811594203, 0.24061014236690928, -0.07246376811594203, 0.2593898576330907], \"textfont\": {\"color\": \"rgb(0, 0, 0)\"}, \"textposition\": \"middle center\", \"x\": [0.08835225700681207, 0.16164774299318793, 0.375, 0.2878787878787879, 0.4750594305323629, 0.625, 0.6625594305323629, 0.911647742993188, 0.7878787878787878, 0.911647742993188, 0.625, 0.3999405694676371, 0.375, 0.2749405694676371], \"hoverinfo\": \"none\", \"mode\": \"text\"}]}, {\"name\": 8, \"data\": [{\"hoverinfo\": \"none\", \"y\": [0.5, 1.0, null], \"x\": [0.0, 0.25, null], \"mode\": \"lines\", \"line\": {\"width\": 2, \"color\": \"rgb(0, 255, 0)\"}}, {\"hoverinfo\": \"none\", \"y\": [0.5, 0.0, null], \"x\": [0.0, 0.25, null], \"mode\": \"lines\", \"line\": {\"width\": 2, \"color\": \"rgb(0, 0, 0)\"}}, {\"hoverinfo\": \"none\", \"y\": [1.0, 1.0, null], \"x\": [0.25, 0.5, null], \"mode\": \"lines\", \"line\": {\"width\": 2, \"color\": \"rgb(0, 0, 0)\"}}, {\"hoverinfo\": \"none\", \"y\": [1.0, 0.0, null], \"x\": [0.25, 0.25, null], \"mode\": \"lines\", \"line\": {\"width\": 2, \"color\": \"rgb(0, 0, 0)\"}}, {\"hoverinfo\": \"none\", \"y\": [1.0, 0.5, null], \"x\": [0.5, 0.375, null], \"mode\": \"lines\", \"line\": {\"width\": 2, \"color\": \"rgb(0, 255, 0)\"}}, {\"hoverinfo\": \"none\", \"y\": [1.0, 1.0, null], \"x\": [0.5, 0.75, null], \"mode\": \"lines\", \"line\": {\"width\": 2, \"color\": \"rgb(0, 255, 0)\"}}, {\"hoverinfo\": \"none\", \"y\": [1.0, 0.0, null], \"x\": [0.5, 0.75, null], \"mode\": \"lines\", \"line\": {\"width\": 2, \"color\": \"rgb(0, 255, 0)\"}}, {\"hoverinfo\": \"none\", \"y\": [1.0, 0.5, null], \"x\": [0.75, 1.0, null], \"mode\": \"lines\", \"line\": {\"width\": 2, \"color\": \"rgb(0, 0, 0)\"}}, {\"hoverinfo\": \"none\", \"y\": [1.0, 0.0, null], \"x\": [0.75, 0.75, null], \"mode\": \"lines\", \"line\": {\"width\": 2, \"color\": \"rgb(0, 0, 0)\"}}, {\"hoverinfo\": \"none\", \"y\": [0.5, 0.0, null], \"x\": [1.0, 0.75, null], \"mode\": \"lines\", \"line\": {\"width\": 2, \"color\": \"rgb(0, 0, 0)\"}}, {\"hoverinfo\": \"none\", \"y\": [0.0, 0.0, null], \"x\": [0.75, 0.5, null], \"mode\": \"lines\", \"line\": {\"width\": 2, \"color\": \"rgb(0, 255, 0)\"}}, {\"hoverinfo\": \"none\", \"y\": [0.0, 0.5, null], \"x\": [0.5, 0.375, null], \"mode\": \"lines\", \"line\": {\"width\": 2, \"color\": \"rgb(0, 0, 0)\"}}, {\"hoverinfo\": \"none\", \"y\": [0.0, 0.0, null], \"x\": [0.5, 0.25, null], \"mode\": \"lines\", \"line\": {\"width\": 2, \"color\": \"rgb(0, 255, 0)\"}}, {\"hoverinfo\": \"none\", \"y\": [0.0, 0.5, null], \"x\": [0.25, 0.375, null], \"mode\": \"lines\", \"line\": {\"width\": 2, \"color\": \"rgb(255, 0, 0)\"}}, {\"text\": [], \"y\": [0.5], \"textfont\": {\"color\": \"rgb(0, 0, 0)\"}, \"textposition\": \"middle center\", \"x\": [0.0], \"hoverinfo\": \"none\", \"marker\": {\"size\": 20, \"color\": \"rgb(255, 255, 255)\", \"line\": {\"width\": 2, \"color\": \"rgb(0, 0, 0)\"}}, \"mode\": \"markers+text\"}, {\"text\": [], \"y\": [1.0], \"textfont\": {\"color\": \"rgb(0, 0, 0)\"}, \"textposition\": \"middle center\", \"x\": [0.25], \"hoverinfo\": \"none\", \"marker\": {\"size\": 20, \"color\": \"rgb(255, 255, 255)\", \"line\": {\"width\": 2, \"color\": \"rgb(0, 0, 0)\"}}, \"mode\": \"markers+text\"}, {\"text\": [], \"y\": [1.0], \"textfont\": {\"color\": \"rgb(0, 0, 0)\"}, \"textposition\": \"middle center\", \"x\": [0.5], \"hoverinfo\": \"none\", \"marker\": {\"size\": 20, \"color\": \"rgb(255, 255, 255)\", \"line\": {\"width\": 2, \"color\": \"rgb(0, 0, 0)\"}}, \"mode\": \"markers+text\"}, {\"text\": [], \"y\": [1.0], \"textfont\": {\"color\": \"rgb(0, 0, 0)\"}, \"textposition\": \"middle center\", \"x\": [0.75], \"hoverinfo\": \"none\", \"marker\": {\"size\": 20, \"color\": \"rgb(255, 255, 255)\", \"line\": {\"width\": 2, \"color\": \"rgb(0, 0, 0)\"}}, \"mode\": \"markers+text\"}, {\"text\": [], \"y\": [0.5], \"textfont\": {\"color\": \"rgb(0, 0, 0)\"}, \"textposition\": \"middle center\", \"x\": [1.0], \"hoverinfo\": \"none\", \"marker\": {\"size\": 20, \"color\": \"rgb(255, 255, 255)\", \"line\": {\"width\": 2, \"color\": \"rgb(0, 0, 0)\"}}, \"mode\": \"markers+text\"}, {\"text\": [], \"y\": [0.0], \"textfont\": {\"color\": \"rgb(0, 0, 0)\"}, \"textposition\": \"middle center\", \"x\": [0.75], \"hoverinfo\": \"none\", \"marker\": {\"size\": 20, \"color\": \"rgb(255, 255, 255)\", \"line\": {\"width\": 2, \"color\": \"rgb(0, 0, 0)\"}}, \"mode\": \"markers+text\"}, {\"text\": [], \"y\": [0.0], \"textfont\": {\"color\": \"rgb(0, 0, 0)\"}, \"textposition\": \"middle center\", \"x\": [0.5], \"hoverinfo\": \"none\", \"marker\": {\"size\": 20, \"color\": \"rgb(255, 255, 255)\", \"line\": {\"width\": 2, \"color\": \"rgb(0, 0, 0)\"}}, \"mode\": \"markers+text\"}, {\"text\": [], \"y\": [0.0], \"textfont\": {\"color\": \"rgb(0, 0, 0)\"}, \"textposition\": \"middle center\", \"x\": [0.25], \"hoverinfo\": \"none\", \"marker\": {\"size\": 20, \"color\": \"rgb(255, 255, 255)\", \"line\": {\"width\": 2, \"color\": \"rgb(0, 0, 0)\"}}, \"mode\": \"markers+text\"}, {\"text\": [], \"y\": [0.5], \"textfont\": {\"color\": \"rgb(0, 0, 0)\"}, \"textposition\": \"middle center\", \"x\": [0.375], \"hoverinfo\": \"none\", \"marker\": {\"size\": 20, \"color\": \"rgb(255, 255, 255)\", \"line\": {\"width\": 2, \"color\": \"rgb(0, 0, 0)\"}}, \"mode\": \"markers+text\"}, {\"text\": [4, 8, 8, 11, 2, 7, 4, 9, 14, 10, 2, 6, 1, 7], \"y\": [0.768323871496594, 0.268323871496594, 1.0724637681159421, 0.5, 0.7406101423669093, 1.0724637681159421, 0.5093898576330907, 0.768323871496594, 0.5, 0.23167612850340602, -0.07246376811594203, 0.24061014236690928, -0.07246376811594203, 0.2593898576330907], \"textfont\": {\"color\": \"rgb(0, 0, 0)\"}, \"textposition\": \"middle center\", \"x\": [0.08835225700681207, 0.16164774299318793, 0.375, 0.2878787878787879, 0.4750594305323629, 0.625, 0.6625594305323629, 0.911647742993188, 0.7878787878787878, 0.911647742993188, 0.625, 0.3999405694676371, 0.375, 0.2749405694676371], \"hoverinfo\": \"none\", \"mode\": \"text\"}]}, {\"name\": 9, \"data\": [{\"hoverinfo\": \"none\", \"y\": [0.5, 1.0, null], \"x\": [0.0, 0.25, null], \"mode\": \"lines\", \"line\": {\"width\": 2, \"color\": \"rgb(0, 255, 0)\"}}, {\"hoverinfo\": \"none\", \"y\": [0.5, 0.0, null], \"x\": [0.0, 0.25, null], \"mode\": \"lines\", \"line\": {\"width\": 2, \"color\": \"rgb(255, 0, 0)\"}}, {\"hoverinfo\": \"none\", \"y\": [1.0, 1.0, null], \"x\": [0.25, 0.5, null], \"mode\": \"lines\", \"line\": {\"width\": 2, \"color\": \"rgb(0, 0, 0)\"}}, {\"hoverinfo\": \"none\", \"y\": [1.0, 0.0, null], \"x\": [0.25, 0.25, null], \"mode\": \"lines\", \"line\": {\"width\": 2, \"color\": \"rgb(0, 0, 0)\"}}, {\"hoverinfo\": \"none\", \"y\": [1.0, 0.5, null], \"x\": [0.5, 0.375, null], \"mode\": \"lines\", \"line\": {\"width\": 2, \"color\": \"rgb(0, 255, 0)\"}}, {\"hoverinfo\": \"none\", \"y\": [1.0, 1.0, null], \"x\": [0.5, 0.75, null], \"mode\": \"lines\", \"line\": {\"width\": 2, \"color\": \"rgb(0, 255, 0)\"}}, {\"hoverinfo\": \"none\", \"y\": [1.0, 0.0, null], \"x\": [0.5, 0.75, null], \"mode\": \"lines\", \"line\": {\"width\": 2, \"color\": \"rgb(0, 255, 0)\"}}, {\"hoverinfo\": \"none\", \"y\": [1.0, 0.5, null], \"x\": [0.75, 1.0, null], \"mode\": \"lines\", \"line\": {\"width\": 2, \"color\": \"rgb(0, 0, 0)\"}}, {\"hoverinfo\": \"none\", \"y\": [1.0, 0.0, null], \"x\": [0.75, 0.75, null], \"mode\": \"lines\", \"line\": {\"width\": 2, \"color\": \"rgb(0, 0, 0)\"}}, {\"hoverinfo\": \"none\", \"y\": [0.5, 0.0, null], \"x\": [1.0, 0.75, null], \"mode\": \"lines\", \"line\": {\"width\": 2, \"color\": \"rgb(0, 0, 0)\"}}, {\"hoverinfo\": \"none\", \"y\": [0.0, 0.0, null], \"x\": [0.75, 0.5, null], \"mode\": \"lines\", \"line\": {\"width\": 2, \"color\": \"rgb(0, 255, 0)\"}}, {\"hoverinfo\": \"none\", \"y\": [0.0, 0.5, null], \"x\": [0.5, 0.375, null], \"mode\": \"lines\", \"line\": {\"width\": 2, \"color\": \"rgb(0, 0, 0)\"}}, {\"hoverinfo\": \"none\", \"y\": [0.0, 0.0, null], \"x\": [0.5, 0.25, null], \"mode\": \"lines\", \"line\": {\"width\": 2, \"color\": \"rgb(0, 255, 0)\"}}, {\"hoverinfo\": \"none\", \"y\": [0.0, 0.5, null], \"x\": [0.25, 0.375, null], \"mode\": \"lines\", \"line\": {\"width\": 2, \"color\": \"rgb(0, 0, 0)\"}}, {\"text\": [], \"y\": [0.5], \"textfont\": {\"color\": \"rgb(0, 0, 0)\"}, \"textposition\": \"middle center\", \"x\": [0.0], \"hoverinfo\": \"none\", \"marker\": {\"size\": 20, \"color\": \"rgb(255, 255, 255)\", \"line\": {\"width\": 2, \"color\": \"rgb(0, 0, 0)\"}}, \"mode\": \"markers+text\"}, {\"text\": [], \"y\": [1.0], \"textfont\": {\"color\": \"rgb(0, 0, 0)\"}, \"textposition\": \"middle center\", \"x\": [0.25], \"hoverinfo\": \"none\", \"marker\": {\"size\": 20, \"color\": \"rgb(255, 255, 255)\", \"line\": {\"width\": 2, \"color\": \"rgb(0, 0, 0)\"}}, \"mode\": \"markers+text\"}, {\"text\": [], \"y\": [1.0], \"textfont\": {\"color\": \"rgb(0, 0, 0)\"}, \"textposition\": \"middle center\", \"x\": [0.5], \"hoverinfo\": \"none\", \"marker\": {\"size\": 20, \"color\": \"rgb(255, 255, 255)\", \"line\": {\"width\": 2, \"color\": \"rgb(0, 0, 0)\"}}, \"mode\": \"markers+text\"}, {\"text\": [], \"y\": [1.0], \"textfont\": {\"color\": \"rgb(0, 0, 0)\"}, \"textposition\": \"middle center\", \"x\": [0.75], \"hoverinfo\": \"none\", \"marker\": {\"size\": 20, \"color\": \"rgb(255, 255, 255)\", \"line\": {\"width\": 2, \"color\": \"rgb(0, 0, 0)\"}}, \"mode\": \"markers+text\"}, {\"text\": [], \"y\": [0.5], \"textfont\": {\"color\": \"rgb(0, 0, 0)\"}, \"textposition\": \"middle center\", \"x\": [1.0], \"hoverinfo\": \"none\", \"marker\": {\"size\": 20, \"color\": \"rgb(255, 255, 255)\", \"line\": {\"width\": 2, \"color\": \"rgb(0, 0, 0)\"}}, \"mode\": \"markers+text\"}, {\"text\": [], \"y\": [0.0], \"textfont\": {\"color\": \"rgb(0, 0, 0)\"}, \"textposition\": \"middle center\", \"x\": [0.75], \"hoverinfo\": \"none\", \"marker\": {\"size\": 20, \"color\": \"rgb(255, 255, 255)\", \"line\": {\"width\": 2, \"color\": \"rgb(0, 0, 0)\"}}, \"mode\": \"markers+text\"}, {\"text\": [], \"y\": [0.0], \"textfont\": {\"color\": \"rgb(0, 0, 0)\"}, \"textposition\": \"middle center\", \"x\": [0.5], \"hoverinfo\": \"none\", \"marker\": {\"size\": 20, \"color\": \"rgb(255, 255, 255)\", \"line\": {\"width\": 2, \"color\": \"rgb(0, 0, 0)\"}}, \"mode\": \"markers+text\"}, {\"text\": [], \"y\": [0.0], \"textfont\": {\"color\": \"rgb(0, 0, 0)\"}, \"textposition\": \"middle center\", \"x\": [0.25], \"hoverinfo\": \"none\", \"marker\": {\"size\": 20, \"color\": \"rgb(255, 255, 255)\", \"line\": {\"width\": 2, \"color\": \"rgb(0, 0, 0)\"}}, \"mode\": \"markers+text\"}, {\"text\": [], \"y\": [0.5], \"textfont\": {\"color\": \"rgb(0, 0, 0)\"}, \"textposition\": \"middle center\", \"x\": [0.375], \"hoverinfo\": \"none\", \"marker\": {\"size\": 20, \"color\": \"rgb(255, 255, 255)\", \"line\": {\"width\": 2, \"color\": \"rgb(0, 0, 0)\"}}, \"mode\": \"markers+text\"}, {\"text\": [4, 8, 8, 11, 2, 7, 4, 9, 14, 10, 2, 6, 1, 7], \"y\": [0.768323871496594, 0.268323871496594, 1.0724637681159421, 0.5, 0.7406101423669093, 1.0724637681159421, 0.5093898576330907, 0.768323871496594, 0.5, 0.23167612850340602, -0.07246376811594203, 0.24061014236690928, -0.07246376811594203, 0.2593898576330907], \"textfont\": {\"color\": \"rgb(0, 0, 0)\"}, \"textposition\": \"middle center\", \"x\": [0.08835225700681207, 0.16164774299318793, 0.375, 0.2878787878787879, 0.4750594305323629, 0.625, 0.6625594305323629, 0.911647742993188, 0.7878787878787878, 0.911647742993188, 0.625, 0.3999405694676371, 0.375, 0.2749405694676371], \"hoverinfo\": \"none\", \"mode\": \"text\"}]}, {\"name\": 10, \"data\": [{\"hoverinfo\": \"none\", \"y\": [0.5, 1.0, null], \"x\": [0.0, 0.25, null], \"mode\": \"lines\", \"line\": {\"width\": 2, \"color\": \"rgb(0, 255, 0)\"}}, {\"hoverinfo\": \"none\", \"y\": [0.5, 0.0, null], \"x\": [0.0, 0.25, null], \"mode\": \"lines\", \"line\": {\"width\": 2, \"color\": \"rgb(0, 255, 0)\"}}, {\"hoverinfo\": \"none\", \"y\": [1.0, 1.0, null], \"x\": [0.25, 0.5, null], \"mode\": \"lines\", \"line\": {\"width\": 2, \"color\": \"rgb(255, 0, 0)\"}}, {\"hoverinfo\": \"none\", \"y\": [1.0, 0.0, null], \"x\": [0.25, 0.25, null], \"mode\": \"lines\", \"line\": {\"width\": 2, \"color\": \"rgb(0, 0, 0)\"}}, {\"hoverinfo\": \"none\", \"y\": [1.0, 0.5, null], \"x\": [0.5, 0.375, null], \"mode\": \"lines\", \"line\": {\"width\": 2, \"color\": \"rgb(0, 255, 0)\"}}, {\"hoverinfo\": \"none\", \"y\": [1.0, 1.0, null], \"x\": [0.5, 0.75, null], \"mode\": \"lines\", \"line\": {\"width\": 2, \"color\": \"rgb(0, 255, 0)\"}}, {\"hoverinfo\": \"none\", \"y\": [1.0, 0.0, null], \"x\": [0.5, 0.75, null], \"mode\": \"lines\", \"line\": {\"width\": 2, \"color\": \"rgb(0, 255, 0)\"}}, {\"hoverinfo\": \"none\", \"y\": [1.0, 0.5, null], \"x\": [0.75, 1.0, null], \"mode\": \"lines\", \"line\": {\"width\": 2, \"color\": \"rgb(0, 0, 0)\"}}, {\"hoverinfo\": \"none\", \"y\": [1.0, 0.0, null], \"x\": [0.75, 0.75, null], \"mode\": \"lines\", \"line\": {\"width\": 2, \"color\": \"rgb(0, 0, 0)\"}}, {\"hoverinfo\": \"none\", \"y\": [0.5, 0.0, null], \"x\": [1.0, 0.75, null], \"mode\": \"lines\", \"line\": {\"width\": 2, \"color\": \"rgb(0, 0, 0)\"}}, {\"hoverinfo\": \"none\", \"y\": [0.0, 0.0, null], \"x\": [0.75, 0.5, null], \"mode\": \"lines\", \"line\": {\"width\": 2, \"color\": \"rgb(0, 255, 0)\"}}, {\"hoverinfo\": \"none\", \"y\": [0.0, 0.5, null], \"x\": [0.5, 0.375, null], \"mode\": \"lines\", \"line\": {\"width\": 2, \"color\": \"rgb(0, 0, 0)\"}}, {\"hoverinfo\": \"none\", \"y\": [0.0, 0.0, null], \"x\": [0.5, 0.25, null], \"mode\": \"lines\", \"line\": {\"width\": 2, \"color\": \"rgb(0, 255, 0)\"}}, {\"hoverinfo\": \"none\", \"y\": [0.0, 0.5, null], \"x\": [0.25, 0.375, null], \"mode\": \"lines\", \"line\": {\"width\": 2, \"color\": \"rgb(0, 0, 0)\"}}, {\"text\": [], \"y\": [0.5], \"textfont\": {\"color\": \"rgb(0, 0, 0)\"}, \"textposition\": \"middle center\", \"x\": [0.0], \"hoverinfo\": \"none\", \"marker\": {\"size\": 20, \"color\": \"rgb(255, 255, 255)\", \"line\": {\"width\": 2, \"color\": \"rgb(0, 0, 0)\"}}, \"mode\": \"markers+text\"}, {\"text\": [], \"y\": [1.0], \"textfont\": {\"color\": \"rgb(0, 0, 0)\"}, \"textposition\": \"middle center\", \"x\": [0.25], \"hoverinfo\": \"none\", \"marker\": {\"size\": 20, \"color\": \"rgb(255, 255, 255)\", \"line\": {\"width\": 2, \"color\": \"rgb(0, 0, 0)\"}}, \"mode\": \"markers+text\"}, {\"text\": [], \"y\": [1.0], \"textfont\": {\"color\": \"rgb(0, 0, 0)\"}, \"textposition\": \"middle center\", \"x\": [0.5], \"hoverinfo\": \"none\", \"marker\": {\"size\": 20, \"color\": \"rgb(255, 255, 255)\", \"line\": {\"width\": 2, \"color\": \"rgb(0, 0, 0)\"}}, \"mode\": \"markers+text\"}, {\"text\": [], \"y\": [1.0], \"textfont\": {\"color\": \"rgb(0, 0, 0)\"}, \"textposition\": \"middle center\", \"x\": [0.75], \"hoverinfo\": \"none\", \"marker\": {\"size\": 20, \"color\": \"rgb(255, 255, 255)\", \"line\": {\"width\": 2, \"color\": \"rgb(0, 0, 0)\"}}, \"mode\": \"markers+text\"}, {\"text\": [], \"y\": [0.5], \"textfont\": {\"color\": \"rgb(0, 0, 0)\"}, \"textposition\": \"middle center\", \"x\": [1.0], \"hoverinfo\": \"none\", \"marker\": {\"size\": 20, \"color\": \"rgb(255, 255, 255)\", \"line\": {\"width\": 2, \"color\": \"rgb(0, 0, 0)\"}}, \"mode\": \"markers+text\"}, {\"text\": [], \"y\": [0.0], \"textfont\": {\"color\": \"rgb(0, 0, 0)\"}, \"textposition\": \"middle center\", \"x\": [0.75], \"hoverinfo\": \"none\", \"marker\": {\"size\": 20, \"color\": \"rgb(255, 255, 255)\", \"line\": {\"width\": 2, \"color\": \"rgb(0, 0, 0)\"}}, \"mode\": \"markers+text\"}, {\"text\": [], \"y\": [0.0], \"textfont\": {\"color\": \"rgb(0, 0, 0)\"}, \"textposition\": \"middle center\", \"x\": [0.5], \"hoverinfo\": \"none\", \"marker\": {\"size\": 20, \"color\": \"rgb(255, 255, 255)\", \"line\": {\"width\": 2, \"color\": \"rgb(0, 0, 0)\"}}, \"mode\": \"markers+text\"}, {\"text\": [], \"y\": [0.0], \"textfont\": {\"color\": \"rgb(0, 0, 0)\"}, \"textposition\": \"middle center\", \"x\": [0.25], \"hoverinfo\": \"none\", \"marker\": {\"size\": 20, \"color\": \"rgb(255, 255, 255)\", \"line\": {\"width\": 2, \"color\": \"rgb(0, 0, 0)\"}}, \"mode\": \"markers+text\"}, {\"text\": [], \"y\": [0.5], \"textfont\": {\"color\": \"rgb(0, 0, 0)\"}, \"textposition\": \"middle center\", \"x\": [0.375], \"hoverinfo\": \"none\", \"marker\": {\"size\": 20, \"color\": \"rgb(255, 255, 255)\", \"line\": {\"width\": 2, \"color\": \"rgb(0, 0, 0)\"}}, \"mode\": \"markers+text\"}, {\"text\": [4, 8, 8, 11, 2, 7, 4, 9, 14, 10, 2, 6, 1, 7], \"y\": [0.768323871496594, 0.268323871496594, 1.0724637681159421, 0.5, 0.7406101423669093, 1.0724637681159421, 0.5093898576330907, 0.768323871496594, 0.5, 0.23167612850340602, -0.07246376811594203, 0.24061014236690928, -0.07246376811594203, 0.2593898576330907], \"textfont\": {\"color\": \"rgb(0, 0, 0)\"}, \"textposition\": \"middle center\", \"x\": [0.08835225700681207, 0.16164774299318793, 0.375, 0.2878787878787879, 0.4750594305323629, 0.625, 0.6625594305323629, 0.911647742993188, 0.7878787878787878, 0.911647742993188, 0.625, 0.3999405694676371, 0.375, 0.2749405694676371], \"hoverinfo\": \"none\", \"mode\": \"text\"}]}, {\"name\": 11, \"data\": [{\"hoverinfo\": \"none\", \"y\": [0.5, 1.0, null], \"x\": [0.0, 0.25, null], \"mode\": \"lines\", \"line\": {\"width\": 2, \"color\": \"rgb(0, 255, 0)\"}}, {\"hoverinfo\": \"none\", \"y\": [0.5, 0.0, null], \"x\": [0.0, 0.25, null], \"mode\": \"lines\", \"line\": {\"width\": 2, \"color\": \"rgb(0, 255, 0)\"}}, {\"hoverinfo\": \"none\", \"y\": [1.0, 1.0, null], \"x\": [0.25, 0.5, null], \"mode\": \"lines\", \"line\": {\"width\": 2, \"color\": \"rgb(0, 0, 0)\"}}, {\"hoverinfo\": \"none\", \"y\": [1.0, 0.0, null], \"x\": [0.25, 0.25, null], \"mode\": \"lines\", \"line\": {\"width\": 2, \"color\": \"rgb(0, 0, 0)\"}}, {\"hoverinfo\": \"none\", \"y\": [1.0, 0.5, null], \"x\": [0.5, 0.375, null], \"mode\": \"lines\", \"line\": {\"width\": 2, \"color\": \"rgb(0, 255, 0)\"}}, {\"hoverinfo\": \"none\", \"y\": [1.0, 1.0, null], \"x\": [0.5, 0.75, null], \"mode\": \"lines\", \"line\": {\"width\": 2, \"color\": \"rgb(0, 255, 0)\"}}, {\"hoverinfo\": \"none\", \"y\": [1.0, 0.0, null], \"x\": [0.5, 0.75, null], \"mode\": \"lines\", \"line\": {\"width\": 2, \"color\": \"rgb(0, 255, 0)\"}}, {\"hoverinfo\": \"none\", \"y\": [1.0, 0.5, null], \"x\": [0.75, 1.0, null], \"mode\": \"lines\", \"line\": {\"width\": 2, \"color\": \"rgb(255, 0, 0)\"}}, {\"hoverinfo\": \"none\", \"y\": [1.0, 0.0, null], \"x\": [0.75, 0.75, null], \"mode\": \"lines\", \"line\": {\"width\": 2, \"color\": \"rgb(0, 0, 0)\"}}, {\"hoverinfo\": \"none\", \"y\": [0.5, 0.0, null], \"x\": [1.0, 0.75, null], \"mode\": \"lines\", \"line\": {\"width\": 2, \"color\": \"rgb(0, 0, 0)\"}}, {\"hoverinfo\": \"none\", \"y\": [0.0, 0.0, null], \"x\": [0.75, 0.5, null], \"mode\": \"lines\", \"line\": {\"width\": 2, \"color\": \"rgb(0, 255, 0)\"}}, {\"hoverinfo\": \"none\", \"y\": [0.0, 0.5, null], \"x\": [0.5, 0.375, null], \"mode\": \"lines\", \"line\": {\"width\": 2, \"color\": \"rgb(0, 0, 0)\"}}, {\"hoverinfo\": \"none\", \"y\": [0.0, 0.0, null], \"x\": [0.5, 0.25, null], \"mode\": \"lines\", \"line\": {\"width\": 2, \"color\": \"rgb(0, 255, 0)\"}}, {\"hoverinfo\": \"none\", \"y\": [0.0, 0.5, null], \"x\": [0.25, 0.375, null], \"mode\": \"lines\", \"line\": {\"width\": 2, \"color\": \"rgb(0, 0, 0)\"}}, {\"text\": [], \"y\": [0.5], \"textfont\": {\"color\": \"rgb(0, 0, 0)\"}, \"textposition\": \"middle center\", \"x\": [0.0], \"hoverinfo\": \"none\", \"marker\": {\"size\": 20, \"color\": \"rgb(255, 255, 255)\", \"line\": {\"width\": 2, \"color\": \"rgb(0, 0, 0)\"}}, \"mode\": \"markers+text\"}, {\"text\": [], \"y\": [1.0], \"textfont\": {\"color\": \"rgb(0, 0, 0)\"}, \"textposition\": \"middle center\", \"x\": [0.25], \"hoverinfo\": \"none\", \"marker\": {\"size\": 20, \"color\": \"rgb(255, 255, 255)\", \"line\": {\"width\": 2, \"color\": \"rgb(0, 0, 0)\"}}, \"mode\": \"markers+text\"}, {\"text\": [], \"y\": [1.0], \"textfont\": {\"color\": \"rgb(0, 0, 0)\"}, \"textposition\": \"middle center\", \"x\": [0.5], \"hoverinfo\": \"none\", \"marker\": {\"size\": 20, \"color\": \"rgb(255, 255, 255)\", \"line\": {\"width\": 2, \"color\": \"rgb(0, 0, 0)\"}}, \"mode\": \"markers+text\"}, {\"text\": [], \"y\": [1.0], \"textfont\": {\"color\": \"rgb(0, 0, 0)\"}, \"textposition\": \"middle center\", \"x\": [0.75], \"hoverinfo\": \"none\", \"marker\": {\"size\": 20, \"color\": \"rgb(255, 255, 255)\", \"line\": {\"width\": 2, \"color\": \"rgb(0, 0, 0)\"}}, \"mode\": \"markers+text\"}, {\"text\": [], \"y\": [0.5], \"textfont\": {\"color\": \"rgb(0, 0, 0)\"}, \"textposition\": \"middle center\", \"x\": [1.0], \"hoverinfo\": \"none\", \"marker\": {\"size\": 20, \"color\": \"rgb(255, 255, 255)\", \"line\": {\"width\": 2, \"color\": \"rgb(0, 0, 0)\"}}, \"mode\": \"markers+text\"}, {\"text\": [], \"y\": [0.0], \"textfont\": {\"color\": \"rgb(0, 0, 0)\"}, \"textposition\": \"middle center\", \"x\": [0.75], \"hoverinfo\": \"none\", \"marker\": {\"size\": 20, \"color\": \"rgb(255, 255, 255)\", \"line\": {\"width\": 2, \"color\": \"rgb(0, 0, 0)\"}}, \"mode\": \"markers+text\"}, {\"text\": [], \"y\": [0.0], \"textfont\": {\"color\": \"rgb(0, 0, 0)\"}, \"textposition\": \"middle center\", \"x\": [0.5], \"hoverinfo\": \"none\", \"marker\": {\"size\": 20, \"color\": \"rgb(255, 255, 255)\", \"line\": {\"width\": 2, \"color\": \"rgb(0, 0, 0)\"}}, \"mode\": \"markers+text\"}, {\"text\": [], \"y\": [0.0], \"textfont\": {\"color\": \"rgb(0, 0, 0)\"}, \"textposition\": \"middle center\", \"x\": [0.25], \"hoverinfo\": \"none\", \"marker\": {\"size\": 20, \"color\": \"rgb(255, 255, 255)\", \"line\": {\"width\": 2, \"color\": \"rgb(0, 0, 0)\"}}, \"mode\": \"markers+text\"}, {\"text\": [], \"y\": [0.5], \"textfont\": {\"color\": \"rgb(0, 0, 0)\"}, \"textposition\": \"middle center\", \"x\": [0.375], \"hoverinfo\": \"none\", \"marker\": {\"size\": 20, \"color\": \"rgb(255, 255, 255)\", \"line\": {\"width\": 2, \"color\": \"rgb(0, 0, 0)\"}}, \"mode\": \"markers+text\"}, {\"text\": [4, 8, 8, 11, 2, 7, 4, 9, 14, 10, 2, 6, 1, 7], \"y\": [0.768323871496594, 0.268323871496594, 1.0724637681159421, 0.5, 0.7406101423669093, 1.0724637681159421, 0.5093898576330907, 0.768323871496594, 0.5, 0.23167612850340602, -0.07246376811594203, 0.24061014236690928, -0.07246376811594203, 0.2593898576330907], \"textfont\": {\"color\": \"rgb(0, 0, 0)\"}, \"textposition\": \"middle center\", \"x\": [0.08835225700681207, 0.16164774299318793, 0.375, 0.2878787878787879, 0.4750594305323629, 0.625, 0.6625594305323629, 0.911647742993188, 0.7878787878787878, 0.911647742993188, 0.625, 0.3999405694676371, 0.375, 0.2749405694676371], \"hoverinfo\": \"none\", \"mode\": \"text\"}]}, {\"name\": 12, \"data\": [{\"hoverinfo\": \"none\", \"y\": [0.5, 1.0, null], \"x\": [0.0, 0.25, null], \"mode\": \"lines\", \"line\": {\"width\": 2, \"color\": \"rgb(0, 255, 0)\"}}, {\"hoverinfo\": \"none\", \"y\": [0.5, 0.0, null], \"x\": [0.0, 0.25, null], \"mode\": \"lines\", \"line\": {\"width\": 2, \"color\": \"rgb(0, 255, 0)\"}}, {\"hoverinfo\": \"none\", \"y\": [1.0, 1.0, null], \"x\": [0.25, 0.5, null], \"mode\": \"lines\", \"line\": {\"width\": 2, \"color\": \"rgb(0, 0, 0)\"}}, {\"hoverinfo\": \"none\", \"y\": [1.0, 0.0, null], \"x\": [0.25, 0.25, null], \"mode\": \"lines\", \"line\": {\"width\": 2, \"color\": \"rgb(0, 0, 0)\"}}, {\"hoverinfo\": \"none\", \"y\": [1.0, 0.5, null], \"x\": [0.5, 0.375, null], \"mode\": \"lines\", \"line\": {\"width\": 2, \"color\": \"rgb(0, 255, 0)\"}}, {\"hoverinfo\": \"none\", \"y\": [1.0, 1.0, null], \"x\": [0.5, 0.75, null], \"mode\": \"lines\", \"line\": {\"width\": 2, \"color\": \"rgb(0, 255, 0)\"}}, {\"hoverinfo\": \"none\", \"y\": [1.0, 0.0, null], \"x\": [0.5, 0.75, null], \"mode\": \"lines\", \"line\": {\"width\": 2, \"color\": \"rgb(0, 255, 0)\"}}, {\"hoverinfo\": \"none\", \"y\": [1.0, 0.5, null], \"x\": [0.75, 1.0, null], \"mode\": \"lines\", \"line\": {\"width\": 2, \"color\": \"rgb(0, 255, 0)\"}}, {\"hoverinfo\": \"none\", \"y\": [1.0, 0.0, null], \"x\": [0.75, 0.75, null], \"mode\": \"lines\", \"line\": {\"width\": 2, \"color\": \"rgb(0, 0, 0)\"}}, {\"hoverinfo\": \"none\", \"y\": [0.5, 0.0, null], \"x\": [1.0, 0.75, null], \"mode\": \"lines\", \"line\": {\"width\": 2, \"color\": \"rgb(255, 0, 0)\"}}, {\"hoverinfo\": \"none\", \"y\": [0.0, 0.0, null], \"x\": [0.75, 0.5, null], \"mode\": \"lines\", \"line\": {\"width\": 2, \"color\": \"rgb(0, 255, 0)\"}}, {\"hoverinfo\": \"none\", \"y\": [0.0, 0.5, null], \"x\": [0.5, 0.375, null], \"mode\": \"lines\", \"line\": {\"width\": 2, \"color\": \"rgb(0, 0, 0)\"}}, {\"hoverinfo\": \"none\", \"y\": [0.0, 0.0, null], \"x\": [0.5, 0.25, null], \"mode\": \"lines\", \"line\": {\"width\": 2, \"color\": \"rgb(0, 255, 0)\"}}, {\"hoverinfo\": \"none\", \"y\": [0.0, 0.5, null], \"x\": [0.25, 0.375, null], \"mode\": \"lines\", \"line\": {\"width\": 2, \"color\": \"rgb(0, 0, 0)\"}}, {\"text\": [], \"y\": [0.5], \"textfont\": {\"color\": \"rgb(0, 0, 0)\"}, \"textposition\": \"middle center\", \"x\": [0.0], \"hoverinfo\": \"none\", \"marker\": {\"size\": 20, \"color\": \"rgb(255, 255, 255)\", \"line\": {\"width\": 2, \"color\": \"rgb(0, 0, 0)\"}}, \"mode\": \"markers+text\"}, {\"text\": [], \"y\": [1.0], \"textfont\": {\"color\": \"rgb(0, 0, 0)\"}, \"textposition\": \"middle center\", \"x\": [0.25], \"hoverinfo\": \"none\", \"marker\": {\"size\": 20, \"color\": \"rgb(255, 255, 255)\", \"line\": {\"width\": 2, \"color\": \"rgb(0, 0, 0)\"}}, \"mode\": \"markers+text\"}, {\"text\": [], \"y\": [1.0], \"textfont\": {\"color\": \"rgb(0, 0, 0)\"}, \"textposition\": \"middle center\", \"x\": [0.5], \"hoverinfo\": \"none\", \"marker\": {\"size\": 20, \"color\": \"rgb(255, 255, 255)\", \"line\": {\"width\": 2, \"color\": \"rgb(0, 0, 0)\"}}, \"mode\": \"markers+text\"}, {\"text\": [], \"y\": [1.0], \"textfont\": {\"color\": \"rgb(0, 0, 0)\"}, \"textposition\": \"middle center\", \"x\": [0.75], \"hoverinfo\": \"none\", \"marker\": {\"size\": 20, \"color\": \"rgb(255, 255, 255)\", \"line\": {\"width\": 2, \"color\": \"rgb(0, 0, 0)\"}}, \"mode\": \"markers+text\"}, {\"text\": [], \"y\": [0.5], \"textfont\": {\"color\": \"rgb(0, 0, 0)\"}, \"textposition\": \"middle center\", \"x\": [1.0], \"hoverinfo\": \"none\", \"marker\": {\"size\": 20, \"color\": \"rgb(255, 255, 255)\", \"line\": {\"width\": 2, \"color\": \"rgb(0, 0, 0)\"}}, \"mode\": \"markers+text\"}, {\"text\": [], \"y\": [0.0], \"textfont\": {\"color\": \"rgb(0, 0, 0)\"}, \"textposition\": \"middle center\", \"x\": [0.75], \"hoverinfo\": \"none\", \"marker\": {\"size\": 20, \"color\": \"rgb(255, 255, 255)\", \"line\": {\"width\": 2, \"color\": \"rgb(0, 0, 0)\"}}, \"mode\": \"markers+text\"}, {\"text\": [], \"y\": [0.0], \"textfont\": {\"color\": \"rgb(0, 0, 0)\"}, \"textposition\": \"middle center\", \"x\": [0.5], \"hoverinfo\": \"none\", \"marker\": {\"size\": 20, \"color\": \"rgb(255, 255, 255)\", \"line\": {\"width\": 2, \"color\": \"rgb(0, 0, 0)\"}}, \"mode\": \"markers+text\"}, {\"text\": [], \"y\": [0.0], \"textfont\": {\"color\": \"rgb(0, 0, 0)\"}, \"textposition\": \"middle center\", \"x\": [0.25], \"hoverinfo\": \"none\", \"marker\": {\"size\": 20, \"color\": \"rgb(255, 255, 255)\", \"line\": {\"width\": 2, \"color\": \"rgb(0, 0, 0)\"}}, \"mode\": \"markers+text\"}, {\"text\": [], \"y\": [0.5], \"textfont\": {\"color\": \"rgb(0, 0, 0)\"}, \"textposition\": \"middle center\", \"x\": [0.375], \"hoverinfo\": \"none\", \"marker\": {\"size\": 20, \"color\": \"rgb(255, 255, 255)\", \"line\": {\"width\": 2, \"color\": \"rgb(0, 0, 0)\"}}, \"mode\": \"markers+text\"}, {\"text\": [4, 8, 8, 11, 2, 7, 4, 9, 14, 10, 2, 6, 1, 7], \"y\": [0.768323871496594, 0.268323871496594, 1.0724637681159421, 0.5, 0.7406101423669093, 1.0724637681159421, 0.5093898576330907, 0.768323871496594, 0.5, 0.23167612850340602, -0.07246376811594203, 0.24061014236690928, -0.07246376811594203, 0.2593898576330907], \"textfont\": {\"color\": \"rgb(0, 0, 0)\"}, \"textposition\": \"middle center\", \"x\": [0.08835225700681207, 0.16164774299318793, 0.375, 0.2878787878787879, 0.4750594305323629, 0.625, 0.6625594305323629, 0.911647742993188, 0.7878787878787878, 0.911647742993188, 0.625, 0.3999405694676371, 0.375, 0.2749405694676371], \"hoverinfo\": \"none\", \"mode\": \"text\"}]}, {\"name\": 13, \"data\": [{\"hoverinfo\": \"none\", \"y\": [0.5, 1.0, null], \"x\": [0.0, 0.25, null], \"mode\": \"lines\", \"line\": {\"width\": 2, \"color\": \"rgb(0, 255, 0)\"}}, {\"hoverinfo\": \"none\", \"y\": [0.5, 0.0, null], \"x\": [0.0, 0.25, null], \"mode\": \"lines\", \"line\": {\"width\": 2, \"color\": \"rgb(0, 255, 0)\"}}, {\"hoverinfo\": \"none\", \"y\": [1.0, 1.0, null], \"x\": [0.25, 0.5, null], \"mode\": \"lines\", \"line\": {\"width\": 2, \"color\": \"rgb(0, 0, 0)\"}}, {\"hoverinfo\": \"none\", \"y\": [1.0, 0.0, null], \"x\": [0.25, 0.25, null], \"mode\": \"lines\", \"line\": {\"width\": 2, \"color\": \"rgb(255, 0, 0)\"}}, {\"hoverinfo\": \"none\", \"y\": [1.0, 0.5, null], \"x\": [0.5, 0.375, null], \"mode\": \"lines\", \"line\": {\"width\": 2, \"color\": \"rgb(0, 255, 0)\"}}, {\"hoverinfo\": \"none\", \"y\": [1.0, 1.0, null], \"x\": [0.5, 0.75, null], \"mode\": \"lines\", \"line\": {\"width\": 2, \"color\": \"rgb(0, 255, 0)\"}}, {\"hoverinfo\": \"none\", \"y\": [1.0, 0.0, null], \"x\": [0.5, 0.75, null], \"mode\": \"lines\", \"line\": {\"width\": 2, \"color\": \"rgb(0, 255, 0)\"}}, {\"hoverinfo\": \"none\", \"y\": [1.0, 0.5, null], \"x\": [0.75, 1.0, null], \"mode\": \"lines\", \"line\": {\"width\": 2, \"color\": \"rgb(0, 255, 0)\"}}, {\"hoverinfo\": \"none\", \"y\": [1.0, 0.0, null], \"x\": [0.75, 0.75, null], \"mode\": \"lines\", \"line\": {\"width\": 2, \"color\": \"rgb(0, 0, 0)\"}}, {\"hoverinfo\": \"none\", \"y\": [0.5, 0.0, null], \"x\": [1.0, 0.75, null], \"mode\": \"lines\", \"line\": {\"width\": 2, \"color\": \"rgb(0, 0, 0)\"}}, {\"hoverinfo\": \"none\", \"y\": [0.0, 0.0, null], \"x\": [0.75, 0.5, null], \"mode\": \"lines\", \"line\": {\"width\": 2, \"color\": \"rgb(0, 255, 0)\"}}, {\"hoverinfo\": \"none\", \"y\": [0.0, 0.5, null], \"x\": [0.5, 0.375, null], \"mode\": \"lines\", \"line\": {\"width\": 2, \"color\": \"rgb(0, 0, 0)\"}}, {\"hoverinfo\": \"none\", \"y\": [0.0, 0.0, null], \"x\": [0.5, 0.25, null], \"mode\": \"lines\", \"line\": {\"width\": 2, \"color\": \"rgb(0, 255, 0)\"}}, {\"hoverinfo\": \"none\", \"y\": [0.0, 0.5, null], \"x\": [0.25, 0.375, null], \"mode\": \"lines\", \"line\": {\"width\": 2, \"color\": \"rgb(0, 0, 0)\"}}, {\"text\": [], \"y\": [0.5], \"textfont\": {\"color\": \"rgb(0, 0, 0)\"}, \"textposition\": \"middle center\", \"x\": [0.0], \"hoverinfo\": \"none\", \"marker\": {\"size\": 20, \"color\": \"rgb(255, 255, 255)\", \"line\": {\"width\": 2, \"color\": \"rgb(0, 0, 0)\"}}, \"mode\": \"markers+text\"}, {\"text\": [], \"y\": [1.0], \"textfont\": {\"color\": \"rgb(0, 0, 0)\"}, \"textposition\": \"middle center\", \"x\": [0.25], \"hoverinfo\": \"none\", \"marker\": {\"size\": 20, \"color\": \"rgb(255, 255, 255)\", \"line\": {\"width\": 2, \"color\": \"rgb(0, 0, 0)\"}}, \"mode\": \"markers+text\"}, {\"text\": [], \"y\": [1.0], \"textfont\": {\"color\": \"rgb(0, 0, 0)\"}, \"textposition\": \"middle center\", \"x\": [0.5], \"hoverinfo\": \"none\", \"marker\": {\"size\": 20, \"color\": \"rgb(255, 255, 255)\", \"line\": {\"width\": 2, \"color\": \"rgb(0, 0, 0)\"}}, \"mode\": \"markers+text\"}, {\"text\": [], \"y\": [1.0], \"textfont\": {\"color\": \"rgb(0, 0, 0)\"}, \"textposition\": \"middle center\", \"x\": [0.75], \"hoverinfo\": \"none\", \"marker\": {\"size\": 20, \"color\": \"rgb(255, 255, 255)\", \"line\": {\"width\": 2, \"color\": \"rgb(0, 0, 0)\"}}, \"mode\": \"markers+text\"}, {\"text\": [], \"y\": [0.5], \"textfont\": {\"color\": \"rgb(0, 0, 0)\"}, \"textposition\": \"middle center\", \"x\": [1.0], \"hoverinfo\": \"none\", \"marker\": {\"size\": 20, \"color\": \"rgb(255, 255, 255)\", \"line\": {\"width\": 2, \"color\": \"rgb(0, 0, 0)\"}}, \"mode\": \"markers+text\"}, {\"text\": [], \"y\": [0.0], \"textfont\": {\"color\": \"rgb(0, 0, 0)\"}, \"textposition\": \"middle center\", \"x\": [0.75], \"hoverinfo\": \"none\", \"marker\": {\"size\": 20, \"color\": \"rgb(255, 255, 255)\", \"line\": {\"width\": 2, \"color\": \"rgb(0, 0, 0)\"}}, \"mode\": \"markers+text\"}, {\"text\": [], \"y\": [0.0], \"textfont\": {\"color\": \"rgb(0, 0, 0)\"}, \"textposition\": \"middle center\", \"x\": [0.5], \"hoverinfo\": \"none\", \"marker\": {\"size\": 20, \"color\": \"rgb(255, 255, 255)\", \"line\": {\"width\": 2, \"color\": \"rgb(0, 0, 0)\"}}, \"mode\": \"markers+text\"}, {\"text\": [], \"y\": [0.0], \"textfont\": {\"color\": \"rgb(0, 0, 0)\"}, \"textposition\": \"middle center\", \"x\": [0.25], \"hoverinfo\": \"none\", \"marker\": {\"size\": 20, \"color\": \"rgb(255, 255, 255)\", \"line\": {\"width\": 2, \"color\": \"rgb(0, 0, 0)\"}}, \"mode\": \"markers+text\"}, {\"text\": [], \"y\": [0.5], \"textfont\": {\"color\": \"rgb(0, 0, 0)\"}, \"textposition\": \"middle center\", \"x\": [0.375], \"hoverinfo\": \"none\", \"marker\": {\"size\": 20, \"color\": \"rgb(255, 255, 255)\", \"line\": {\"width\": 2, \"color\": \"rgb(0, 0, 0)\"}}, \"mode\": \"markers+text\"}, {\"text\": [4, 8, 8, 11, 2, 7, 4, 9, 14, 10, 2, 6, 1, 7], \"y\": [0.768323871496594, 0.268323871496594, 1.0724637681159421, 0.5, 0.7406101423669093, 1.0724637681159421, 0.5093898576330907, 0.768323871496594, 0.5, 0.23167612850340602, -0.07246376811594203, 0.24061014236690928, -0.07246376811594203, 0.2593898576330907], \"textfont\": {\"color\": \"rgb(0, 0, 0)\"}, \"textposition\": \"middle center\", \"x\": [0.08835225700681207, 0.16164774299318793, 0.375, 0.2878787878787879, 0.4750594305323629, 0.625, 0.6625594305323629, 0.911647742993188, 0.7878787878787878, 0.911647742993188, 0.625, 0.3999405694676371, 0.375, 0.2749405694676371], \"hoverinfo\": \"none\", \"mode\": \"text\"}]}, {\"name\": 14, \"data\": [{\"hoverinfo\": \"none\", \"y\": [0.5, 1.0, null], \"x\": [0.0, 0.25, null], \"mode\": \"lines\", \"line\": {\"width\": 2, \"color\": \"rgb(0, 255, 0)\"}}, {\"hoverinfo\": \"none\", \"y\": [0.5, 0.0, null], \"x\": [0.0, 0.25, null], \"mode\": \"lines\", \"line\": {\"width\": 2, \"color\": \"rgb(0, 255, 0)\"}}, {\"hoverinfo\": \"none\", \"y\": [1.0, 1.0, null], \"x\": [0.25, 0.5, null], \"mode\": \"lines\", \"line\": {\"width\": 2, \"color\": \"rgb(0, 0, 0)\"}}, {\"hoverinfo\": \"none\", \"y\": [1.0, 0.0, null], \"x\": [0.25, 0.25, null], \"mode\": \"lines\", \"line\": {\"width\": 2, \"color\": \"rgb(0, 0, 0)\"}}, {\"hoverinfo\": \"none\", \"y\": [1.0, 0.5, null], \"x\": [0.5, 0.375, null], \"mode\": \"lines\", \"line\": {\"width\": 2, \"color\": \"rgb(0, 255, 0)\"}}, {\"hoverinfo\": \"none\", \"y\": [1.0, 1.0, null], \"x\": [0.5, 0.75, null], \"mode\": \"lines\", \"line\": {\"width\": 2, \"color\": \"rgb(0, 255, 0)\"}}, {\"hoverinfo\": \"none\", \"y\": [1.0, 0.0, null], \"x\": [0.5, 0.75, null], \"mode\": \"lines\", \"line\": {\"width\": 2, \"color\": \"rgb(0, 255, 0)\"}}, {\"hoverinfo\": \"none\", \"y\": [1.0, 0.5, null], \"x\": [0.75, 1.0, null], \"mode\": \"lines\", \"line\": {\"width\": 2, \"color\": \"rgb(0, 255, 0)\"}}, {\"hoverinfo\": \"none\", \"y\": [1.0, 0.0, null], \"x\": [0.75, 0.75, null], \"mode\": \"lines\", \"line\": {\"width\": 2, \"color\": \"rgb(255, 0, 0)\"}}, {\"hoverinfo\": \"none\", \"y\": [0.5, 0.0, null], \"x\": [1.0, 0.75, null], \"mode\": \"lines\", \"line\": {\"width\": 2, \"color\": \"rgb(0, 0, 0)\"}}, {\"hoverinfo\": \"none\", \"y\": [0.0, 0.0, null], \"x\": [0.75, 0.5, null], \"mode\": \"lines\", \"line\": {\"width\": 2, \"color\": \"rgb(0, 255, 0)\"}}, {\"hoverinfo\": \"none\", \"y\": [0.0, 0.5, null], \"x\": [0.5, 0.375, null], \"mode\": \"lines\", \"line\": {\"width\": 2, \"color\": \"rgb(0, 0, 0)\"}}, {\"hoverinfo\": \"none\", \"y\": [0.0, 0.0, null], \"x\": [0.5, 0.25, null], \"mode\": \"lines\", \"line\": {\"width\": 2, \"color\": \"rgb(0, 255, 0)\"}}, {\"hoverinfo\": \"none\", \"y\": [0.0, 0.5, null], \"x\": [0.25, 0.375, null], \"mode\": \"lines\", \"line\": {\"width\": 2, \"color\": \"rgb(0, 0, 0)\"}}, {\"text\": [], \"y\": [0.5], \"textfont\": {\"color\": \"rgb(0, 0, 0)\"}, \"textposition\": \"middle center\", \"x\": [0.0], \"hoverinfo\": \"none\", \"marker\": {\"size\": 20, \"color\": \"rgb(255, 255, 255)\", \"line\": {\"width\": 2, \"color\": \"rgb(0, 0, 0)\"}}, \"mode\": \"markers+text\"}, {\"text\": [], \"y\": [1.0], \"textfont\": {\"color\": \"rgb(0, 0, 0)\"}, \"textposition\": \"middle center\", \"x\": [0.25], \"hoverinfo\": \"none\", \"marker\": {\"size\": 20, \"color\": \"rgb(255, 255, 255)\", \"line\": {\"width\": 2, \"color\": \"rgb(0, 0, 0)\"}}, \"mode\": \"markers+text\"}, {\"text\": [], \"y\": [1.0], \"textfont\": {\"color\": \"rgb(0, 0, 0)\"}, \"textposition\": \"middle center\", \"x\": [0.5], \"hoverinfo\": \"none\", \"marker\": {\"size\": 20, \"color\": \"rgb(255, 255, 255)\", \"line\": {\"width\": 2, \"color\": \"rgb(0, 0, 0)\"}}, \"mode\": \"markers+text\"}, {\"text\": [], \"y\": [1.0], \"textfont\": {\"color\": \"rgb(0, 0, 0)\"}, \"textposition\": \"middle center\", \"x\": [0.75], \"hoverinfo\": \"none\", \"marker\": {\"size\": 20, \"color\": \"rgb(255, 255, 255)\", \"line\": {\"width\": 2, \"color\": \"rgb(0, 0, 0)\"}}, \"mode\": \"markers+text\"}, {\"text\": [], \"y\": [0.5], \"textfont\": {\"color\": \"rgb(0, 0, 0)\"}, \"textposition\": \"middle center\", \"x\": [1.0], \"hoverinfo\": \"none\", \"marker\": {\"size\": 20, \"color\": \"rgb(255, 255, 255)\", \"line\": {\"width\": 2, \"color\": \"rgb(0, 0, 0)\"}}, \"mode\": \"markers+text\"}, {\"text\": [], \"y\": [0.0], \"textfont\": {\"color\": \"rgb(0, 0, 0)\"}, \"textposition\": \"middle center\", \"x\": [0.75], \"hoverinfo\": \"none\", \"marker\": {\"size\": 20, \"color\": \"rgb(255, 255, 255)\", \"line\": {\"width\": 2, \"color\": \"rgb(0, 0, 0)\"}}, \"mode\": \"markers+text\"}, {\"text\": [], \"y\": [0.0], \"textfont\": {\"color\": \"rgb(0, 0, 0)\"}, \"textposition\": \"middle center\", \"x\": [0.5], \"hoverinfo\": \"none\", \"marker\": {\"size\": 20, \"color\": \"rgb(255, 255, 255)\", \"line\": {\"width\": 2, \"color\": \"rgb(0, 0, 0)\"}}, \"mode\": \"markers+text\"}, {\"text\": [], \"y\": [0.0], \"textfont\": {\"color\": \"rgb(0, 0, 0)\"}, \"textposition\": \"middle center\", \"x\": [0.25], \"hoverinfo\": \"none\", \"marker\": {\"size\": 20, \"color\": \"rgb(255, 255, 255)\", \"line\": {\"width\": 2, \"color\": \"rgb(0, 0, 0)\"}}, \"mode\": \"markers+text\"}, {\"text\": [], \"y\": [0.5], \"textfont\": {\"color\": \"rgb(0, 0, 0)\"}, \"textposition\": \"middle center\", \"x\": [0.375], \"hoverinfo\": \"none\", \"marker\": {\"size\": 20, \"color\": \"rgb(255, 255, 255)\", \"line\": {\"width\": 2, \"color\": \"rgb(0, 0, 0)\"}}, \"mode\": \"markers+text\"}, {\"text\": [4, 8, 8, 11, 2, 7, 4, 9, 14, 10, 2, 6, 1, 7], \"y\": [0.768323871496594, 0.268323871496594, 1.0724637681159421, 0.5, 0.7406101423669093, 1.0724637681159421, 0.5093898576330907, 0.768323871496594, 0.5, 0.23167612850340602, -0.07246376811594203, 0.24061014236690928, -0.07246376811594203, 0.2593898576330907], \"textfont\": {\"color\": \"rgb(0, 0, 0)\"}, \"textposition\": \"middle center\", \"x\": [0.08835225700681207, 0.16164774299318793, 0.375, 0.2878787878787879, 0.4750594305323629, 0.625, 0.6625594305323629, 0.911647742993188, 0.7878787878787878, 0.911647742993188, 0.625, 0.3999405694676371, 0.375, 0.2749405694676371], \"hoverinfo\": \"none\", \"mode\": \"text\"}]}, {\"name\": 15, \"data\": [{\"hoverinfo\": \"none\", \"y\": [0.5, 1.0, null], \"x\": [0.0, 0.25, null], \"mode\": \"lines\", \"line\": {\"width\": 2, \"color\": \"rgb(0, 255, 0)\"}}, {\"hoverinfo\": \"none\", \"y\": [0.5, 0.0, null], \"x\": [0.0, 0.25, null], \"mode\": \"lines\", \"line\": {\"width\": 2, \"color\": \"rgb(0, 255, 0)\"}}, {\"hoverinfo\": \"none\", \"y\": [1.0, 1.0, null], \"x\": [0.25, 0.5, null], \"mode\": \"lines\", \"line\": {\"width\": 2, \"color\": \"rgb(0, 0, 0)\"}}, {\"hoverinfo\": \"none\", \"y\": [1.0, 0.0, null], \"x\": [0.25, 0.25, null], \"mode\": \"lines\", \"line\": {\"width\": 2, \"color\": \"rgb(0, 0, 0)\"}}, {\"hoverinfo\": \"none\", \"y\": [1.0, 0.5, null], \"x\": [0.5, 0.375, null], \"mode\": \"lines\", \"line\": {\"width\": 2, \"color\": \"rgb(0, 255, 0)\"}}, {\"hoverinfo\": \"none\", \"y\": [1.0, 1.0, null], \"x\": [0.5, 0.75, null], \"mode\": \"lines\", \"line\": {\"width\": 2, \"color\": \"rgb(0, 255, 0)\"}}, {\"hoverinfo\": \"none\", \"y\": [1.0, 0.0, null], \"x\": [0.5, 0.75, null], \"mode\": \"lines\", \"line\": {\"width\": 2, \"color\": \"rgb(0, 255, 0)\"}}, {\"hoverinfo\": \"none\", \"y\": [1.0, 0.5, null], \"x\": [0.75, 1.0, null], \"mode\": \"lines\", \"line\": {\"width\": 2, \"color\": \"rgb(0, 255, 0)\"}}, {\"hoverinfo\": \"none\", \"y\": [1.0, 0.0, null], \"x\": [0.75, 0.75, null], \"mode\": \"lines\", \"line\": {\"width\": 2, \"color\": \"rgb(0, 0, 0)\"}}, {\"hoverinfo\": \"none\", \"y\": [0.5, 0.0, null], \"x\": [1.0, 0.75, null], \"mode\": \"lines\", \"line\": {\"width\": 2, \"color\": \"rgb(0, 0, 0)\"}}, {\"hoverinfo\": \"none\", \"y\": [0.0, 0.0, null], \"x\": [0.75, 0.5, null], \"mode\": \"lines\", \"line\": {\"width\": 2, \"color\": \"rgb(0, 255, 0)\"}}, {\"hoverinfo\": \"none\", \"y\": [0.0, 0.5, null], \"x\": [0.5, 0.375, null], \"mode\": \"lines\", \"line\": {\"width\": 2, \"color\": \"rgb(0, 0, 0)\"}}, {\"hoverinfo\": \"none\", \"y\": [0.0, 0.0, null], \"x\": [0.5, 0.25, null], \"mode\": \"lines\", \"line\": {\"width\": 2, \"color\": \"rgb(0, 255, 0)\"}}, {\"hoverinfo\": \"none\", \"y\": [0.0, 0.5, null], \"x\": [0.25, 0.375, null], \"mode\": \"lines\", \"line\": {\"width\": 2, \"color\": \"rgb(0, 0, 0)\"}}, {\"text\": [], \"y\": [0.5], \"textfont\": {\"color\": \"rgb(0, 0, 0)\"}, \"textposition\": \"middle center\", \"x\": [0.0], \"hoverinfo\": \"none\", \"marker\": {\"size\": 20, \"color\": \"rgb(255, 255, 255)\", \"line\": {\"width\": 2, \"color\": \"rgb(0, 0, 0)\"}}, \"mode\": \"markers+text\"}, {\"text\": [], \"y\": [1.0], \"textfont\": {\"color\": \"rgb(0, 0, 0)\"}, \"textposition\": \"middle center\", \"x\": [0.25], \"hoverinfo\": \"none\", \"marker\": {\"size\": 20, \"color\": \"rgb(255, 255, 255)\", \"line\": {\"width\": 2, \"color\": \"rgb(0, 0, 0)\"}}, \"mode\": \"markers+text\"}, {\"text\": [], \"y\": [1.0], \"textfont\": {\"color\": \"rgb(0, 0, 0)\"}, \"textposition\": \"middle center\", \"x\": [0.5], \"hoverinfo\": \"none\", \"marker\": {\"size\": 20, \"color\": \"rgb(255, 255, 255)\", \"line\": {\"width\": 2, \"color\": \"rgb(0, 0, 0)\"}}, \"mode\": \"markers+text\"}, {\"text\": [], \"y\": [1.0], \"textfont\": {\"color\": \"rgb(0, 0, 0)\"}, \"textposition\": \"middle center\", \"x\": [0.75], \"hoverinfo\": \"none\", \"marker\": {\"size\": 20, \"color\": \"rgb(255, 255, 255)\", \"line\": {\"width\": 2, \"color\": \"rgb(0, 0, 0)\"}}, \"mode\": \"markers+text\"}, {\"text\": [], \"y\": [0.5], \"textfont\": {\"color\": \"rgb(0, 0, 0)\"}, \"textposition\": \"middle center\", \"x\": [1.0], \"hoverinfo\": \"none\", \"marker\": {\"size\": 20, \"color\": \"rgb(255, 255, 255)\", \"line\": {\"width\": 2, \"color\": \"rgb(0, 0, 0)\"}}, \"mode\": \"markers+text\"}, {\"text\": [], \"y\": [0.0], \"textfont\": {\"color\": \"rgb(0, 0, 0)\"}, \"textposition\": \"middle center\", \"x\": [0.75], \"hoverinfo\": \"none\", \"marker\": {\"size\": 20, \"color\": \"rgb(255, 255, 255)\", \"line\": {\"width\": 2, \"color\": \"rgb(0, 0, 0)\"}}, \"mode\": \"markers+text\"}, {\"text\": [], \"y\": [0.0], \"textfont\": {\"color\": \"rgb(0, 0, 0)\"}, \"textposition\": \"middle center\", \"x\": [0.5], \"hoverinfo\": \"none\", \"marker\": {\"size\": 20, \"color\": \"rgb(255, 255, 255)\", \"line\": {\"width\": 2, \"color\": \"rgb(0, 0, 0)\"}}, \"mode\": \"markers+text\"}, {\"text\": [], \"y\": [0.0], \"textfont\": {\"color\": \"rgb(0, 0, 0)\"}, \"textposition\": \"middle center\", \"x\": [0.25], \"hoverinfo\": \"none\", \"marker\": {\"size\": 20, \"color\": \"rgb(255, 255, 255)\", \"line\": {\"width\": 2, \"color\": \"rgb(0, 0, 0)\"}}, \"mode\": \"markers+text\"}, {\"text\": [], \"y\": [0.5], \"textfont\": {\"color\": \"rgb(0, 0, 0)\"}, \"textposition\": \"middle center\", \"x\": [0.375], \"hoverinfo\": \"none\", \"marker\": {\"size\": 20, \"color\": \"rgb(255, 255, 255)\", \"line\": {\"width\": 2, \"color\": \"rgb(0, 0, 0)\"}}, \"mode\": \"markers+text\"}, {\"text\": [4, 8, 8, 11, 2, 7, 4, 9, 14, 10, 2, 6, 1, 7], \"y\": [0.768323871496594, 0.268323871496594, 1.0724637681159421, 0.5, 0.7406101423669093, 1.0724637681159421, 0.5093898576330907, 0.768323871496594, 0.5, 0.23167612850340602, -0.07246376811594203, 0.24061014236690928, -0.07246376811594203, 0.2593898576330907], \"textfont\": {\"color\": \"rgb(0, 0, 0)\"}, \"textposition\": \"middle center\", \"x\": [0.08835225700681207, 0.16164774299318793, 0.375, 0.2878787878787879, 0.4750594305323629, 0.625, 0.6625594305323629, 0.911647742993188, 0.7878787878787878, 0.911647742993188, 0.625, 0.3999405694676371, 0.375, 0.2749405694676371], \"hoverinfo\": \"none\", \"mode\": \"text\"}]}]);}).then(function(){Plotly.animate('8b963740-e51c-4c26-8e1f-a887b43d9580');})\n",
       "        });</script>"
      ]
     },
     "metadata": {},
     "output_type": "display_data"
    }
   ],
   "source": [
    "# sua resposta\n",
    "f = Forest(g)\n",
    "\n",
    "# sort para garantir que não estão em ordem decrescente\n",
    "edges = []\n",
    "n = g.edges()\n",
    "for i in n:\n",
    "    edges.append((i[0], i[1]))\n",
    "    \n",
    "edges = sorted(edges, key=lambda k: g.edge[k[0]][k[1]]['c'])\n",
    "\n",
    "\n",
    "RED = (255, 0, 0)\n",
    "GREEN = (0, 255, 0)\n",
    "BLUE = (0, 0, 255)\n",
    "CYAN = (0, 255, 255)\n",
    "frames = []\n",
    "\n",
    "sn.reset_node_colors(g)\n",
    "sn.reset_edge_colors(g)\n",
    "snapshot(g, frames)\n",
    "\n",
    "for edge in edges:\n",
    "    g.edge[edge[0]][edge[1]]['color'] = RED\n",
    "    snapshot(g, frames)\n",
    "    \n",
    "    if f.adding_does_not_form_circuit(edge[0], edge[1]):\n",
    "        f.add(edge[0], edge[1])\n",
    "        g.edge[edge[0]][edge[1]]['color'] = GREEN\n",
    "    else:\n",
    "        g.edge[edge[0]][edge[1]]['color'] = sn.edge_color\n",
    "    \n",
    "snapshot(g, frames)\n",
    "sn.show_animation(frames)"
   ]
  },
  {
   "cell_type": "code",
   "execution_count": null,
   "metadata": {
    "collapsed": true
   },
   "outputs": [],
   "source": []
  }
 ],
 "metadata": {
  "kernelspec": {
   "display_name": "Python 3",
   "language": "python",
   "name": "python3"
  },
  "language_info": {
   "codemirror_mode": {
    "name": "ipython",
    "version": 3
   },
   "file_extension": ".py",
   "mimetype": "text/x-python",
   "name": "python",
   "nbconvert_exporter": "python",
   "pygments_lexer": "ipython3",
   "version": "3.5.3"
  }
 },
 "nbformat": 4,
 "nbformat_minor": 1
}
