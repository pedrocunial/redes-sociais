{
 "cells": [
  {
   "cell_type": "markdown",
   "metadata": {},
   "source": [
    "# Encontro 02, Parte 1: Revisão de Grafos\n",
    "\n",
    "Este guia foi escrito para ajudar você a atingir os seguintes objetivos:\n",
    "\n",
    "* formalizar conceitos básicos de teoria dos grafos;\n",
    "* usar funcionalidades básicas da biblioteca da disciplina.\n",
    "\n",
    "\n",
    "## Grafos não-dirigidos\n",
    "\n",
    "Um **grafo não-dirigido** (*undirected graph*) é um par\n",
    "\n",
    "$(N, E)$,\n",
    "\n",
    "onde $N$ é um conjunto qualquer e $E$ é um conjunto de pares *não-ordenados* de elementos de $N$, ou seja,\n",
    "\n",
    "$E \\subseteq \\{\\{n, m\\} \\colon n \\in N \\textrm{ e } m \\in N\\}$.\n",
    "\n",
    "Um elemento de $N$ chama-se **nó** (*node*) e um elemento de $E$ chama-se **aresta** (*edge*). Em alguns trabalhos, usa-se $V$ e *vértice* em vez de $N$ e nó.\n",
    "\n",
    "\n",
    "## Grafos dirigidos\n",
    "\n",
    "Formalmente, um **grafo dirigido** (*directed graph*) é um par\n",
    "\n",
    "$(N, E)$,\n",
    "\n",
    "onde $N$ é um conjunto qualquer e $E$ é um conjunto de pares *ordenados* de elementos de *N*, ou seja,\n",
    "\n",
    "$E \\subseteq \\{(n, m) \\colon n \\in N \\textrm{ e } m \\in N\\}$.\n",
    "\n",
    "Um elemento de $N$ chama-se **nó** (*node*) e um elemento de $E$ chama-se **aresta** (*edge*). Em alguns trabalhos, usa-se $V$ e *vértice* em vez de $N$ e nó e usa-se $A$ e *arco* em vez de $E$ e aresta.\n",
    "\n",
    "\n",
    "## Instalando as dependências\n",
    "\n",
    "Antes de continuar, instale as duas dependências da biblioteca da disciplina:\n",
    "\n",
    "> `pip install networkx plotly`\n",
    "\n",
    "Em algumas distribuições Linux você deve usar o comando `pip3`, pois o comando `pip` está associado a Python 2 por padrão.\n",
    "\n",
    "\n",
    "## Importando a biblioteca\n",
    "\n",
    "Não mova ou renomeie os arquivos do repositório, a menos que você esteja disposto a adaptar os notebooks de acordo.\n",
    "\n",
    "Vamos importar a biblioteca da disciplina no notebook:"
   ]
  },
  {
   "cell_type": "code",
   "execution_count": 2,
   "metadata": {},
   "outputs": [
    {
     "data": {
      "text/html": [
       "<script>requirejs.config({paths: { 'plotly': ['https://cdn.plot.ly/plotly-latest.min']},});if(!window.Plotly) {{require(['plotly'],function(plotly) {window.Plotly=plotly;});}}</script>"
      ],
      "text/vnd.plotly.v1+html": [
       "<script>requirejs.config({paths: { 'plotly': ['https://cdn.plot.ly/plotly-latest.min']},});if(!window.Plotly) {{require(['plotly'],function(plotly) {window.Plotly=plotly;});}}</script>"
      ]
     },
     "metadata": {},
     "output_type": "display_data"
    }
   ],
   "source": [
    "import sys\n",
    "sys.path.append('..')\n",
    "\n",
    "import socnet as sn"
   ]
  },
  {
   "cell_type": "markdown",
   "metadata": {},
   "source": [
    "## Configurando a biblioteca\n",
    "\n",
    "A `socnet` disponibiliza variáveis de módulo que permitem configurar propriedades visuais. Os nomes são auto-explicativos e os valores abaixo são padrão."
   ]
  },
  {
   "cell_type": "code",
   "execution_count": 3,
   "metadata": {},
   "outputs": [],
   "source": [
    "sn.graph_width = 800\n",
    "sn.graph_height = 450\n",
    "\n",
    "sn.node_size = 20\n",
    "sn.node_color = (255, 255, 255)\n",
    "\n",
    "sn.edge_width = 2\n",
    "sn.edge_color = (0, 0, 0)\n",
    "\n",
    "sn.node_label_position = 'middle center'\n",
    "sn.edge_label_distance = 10"
   ]
  },
  {
   "cell_type": "markdown",
   "metadata": {},
   "source": [
    "Uma variável de cor armazena uma tupla contendo três inteiros entre *0* e *255* que representam intensidades de *vermelho*, *verde* e *azul* respectivamente.\n",
    "\n",
    "Uma variável de posição armazena uma string contendo duas palavras separadas por um espaço:\n",
    "* a primeira representa o alinhamento vertical e pode ser `top`, `middle` ou `bottom`;\n",
    "* a segunda representa o alinhamento horizontal e pode ser `left`, `center` ou `right`.\n",
    "\n",
    "## Carregando grafos\n",
    "\n",
    "Vamos carregar dois grafos no [formato GML](http://www.fim.uni-passau.de/fileadmin/files/lehrstuhl/brandenburg/projekte/gml/gml-technical-report.pdf):"
   ]
  },
  {
   "cell_type": "code",
   "execution_count": 4,
   "metadata": {
    "collapsed": true
   },
   "outputs": [],
   "source": [
    "ug = sn.load_graph('5-kruskal.gml', has_pos=True)\n",
    "dg = sn.load_graph('4-dijkstra.gml', has_pos=True)"
   ]
  },
  {
   "cell_type": "markdown",
   "metadata": {},
   "source": [
    "Abra esses arquivos em um editor de texto e note como o formato é auto-explicativo.\n",
    "\n",
    "## Visualizando grafos\n",
    "\n",
    "Vamos visualizar o primeiro grafo, que é não-dirigido:"
   ]
  },
  {
   "cell_type": "code",
   "execution_count": 5,
   "metadata": {},
   "outputs": [
    {
     "data": {
      "application/vnd.plotly.v1+json": {
       "data": [
        {
         "hoverinfo": "none",
         "line": {
          "color": "rgb(0, 0, 0)",
          "width": 2
         },
         "mode": "lines",
         "x": [
          0,
          0.25,
          null,
          0,
          0.25,
          null,
          0.25,
          0.5,
          null,
          0.25,
          0.25,
          null,
          0.5,
          0.375,
          null,
          0.5,
          0.75,
          null,
          0.5,
          0.75,
          null,
          0.75,
          1,
          null,
          0.75,
          0.75,
          null,
          1,
          0.75,
          null,
          0.75,
          0.5,
          null,
          0.5,
          0.375,
          null,
          0.5,
          0.25,
          null,
          0.25,
          0.375,
          null
         ],
         "y": [
          0.5,
          1,
          null,
          0.5,
          0,
          null,
          1,
          1,
          null,
          1,
          0,
          null,
          1,
          0.5,
          null,
          1,
          1,
          null,
          1,
          0,
          null,
          1,
          0.5,
          null,
          1,
          0,
          null,
          0.5,
          0,
          null,
          0,
          0,
          null,
          0,
          0.5,
          null,
          0,
          0,
          null,
          0,
          0.5,
          null
         ]
        },
        {
         "hoverinfo": "none",
         "marker": {
          "color": "rgb(255, 255, 255)",
          "line": {
           "color": "rgb(0, 0, 0)",
           "width": 2
          },
          "size": 20
         },
         "mode": "markers+text",
         "text": [],
         "textfont": {
          "color": "rgb(0, 0, 0)"
         },
         "textposition": "middle center",
         "x": [
          0,
          0.25,
          0.5,
          0.75,
          1,
          0.75,
          0.5,
          0.25,
          0.375
         ],
         "y": [
          0.5,
          1,
          1,
          1,
          0.5,
          0,
          0,
          0,
          0.5
         ]
        }
       ],
       "layout": {
        "height": 180,
        "margin": {
         "b": 0,
         "l": 0,
         "r": 0,
         "t": 0
        },
        "showlegend": false,
        "width": 320,
        "xaxis": {
         "showgrid": false,
         "showticklabels": false,
         "zeroline": false
        },
        "yaxis": {
         "showgrid": false,
         "showticklabels": false,
         "zeroline": false
        }
       }
      },
      "text/html": [
       "<div id=\"f6557fb2-6e42-4eab-bdf9-0b04ba7da563\" style=\"height: 180px; width: 320px;\" class=\"plotly-graph-div\"></div><script type=\"text/javascript\">require([\"plotly\"], function(Plotly) { window.PLOTLYENV=window.PLOTLYENV || {};window.PLOTLYENV.BASE_URL=\"https://plot.ly\";Plotly.newPlot(\"f6557fb2-6e42-4eab-bdf9-0b04ba7da563\", [{\"y\": [0.5, 1.0, null, 0.5, 0.0, null, 1.0, 1.0, null, 1.0, 0.0, null, 1.0, 0.5, null, 1.0, 1.0, null, 1.0, 0.0, null, 1.0, 0.5, null, 1.0, 0.0, null, 0.5, 0.0, null, 0.0, 0.0, null, 0.0, 0.5, null, 0.0, 0.0, null, 0.0, 0.5, null], \"hoverinfo\": \"none\", \"x\": [0.0, 0.25, null, 0.0, 0.25, null, 0.25, 0.5, null, 0.25, 0.25, null, 0.5, 0.375, null, 0.5, 0.75, null, 0.5, 0.75, null, 0.75, 1.0, null, 0.75, 0.75, null, 1.0, 0.75, null, 0.75, 0.5, null, 0.5, 0.375, null, 0.5, 0.25, null, 0.25, 0.375, null], \"line\": {\"width\": 2, \"color\": \"rgb(0, 0, 0)\"}, \"mode\": \"lines\"}, {\"textfont\": {\"color\": \"rgb(0, 0, 0)\"}, \"hoverinfo\": \"none\", \"mode\": \"markers+text\", \"text\": [], \"textposition\": \"middle center\", \"marker\": {\"size\": 20, \"color\": \"rgb(255, 255, 255)\", \"line\": {\"width\": 2, \"color\": \"rgb(0, 0, 0)\"}}, \"y\": [0.5, 1.0, 1.0, 1.0, 0.5, 0.0, 0.0, 0.0, 0.5], \"x\": [0.0, 0.25, 0.5, 0.75, 1.0, 0.75, 0.5, 0.25, 0.375]}], {\"yaxis\": {\"showticklabels\": false, \"showgrid\": false, \"zeroline\": false}, \"width\": 320, \"xaxis\": {\"showticklabels\": false, \"showgrid\": false, \"zeroline\": false}, \"height\": 180, \"showlegend\": false, \"margin\": {\"b\": 0, \"l\": 0, \"t\": 0, \"r\": 0}}, {\"showLink\": false, \"linkText\": \"Export to plot.ly\", \"displayModeBar\": false})});</script>"
      ],
      "text/vnd.plotly.v1+html": [
       "<div id=\"f6557fb2-6e42-4eab-bdf9-0b04ba7da563\" style=\"height: 180px; width: 320px;\" class=\"plotly-graph-div\"></div><script type=\"text/javascript\">require([\"plotly\"], function(Plotly) { window.PLOTLYENV=window.PLOTLYENV || {};window.PLOTLYENV.BASE_URL=\"https://plot.ly\";Plotly.newPlot(\"f6557fb2-6e42-4eab-bdf9-0b04ba7da563\", [{\"y\": [0.5, 1.0, null, 0.5, 0.0, null, 1.0, 1.0, null, 1.0, 0.0, null, 1.0, 0.5, null, 1.0, 1.0, null, 1.0, 0.0, null, 1.0, 0.5, null, 1.0, 0.0, null, 0.5, 0.0, null, 0.0, 0.0, null, 0.0, 0.5, null, 0.0, 0.0, null, 0.0, 0.5, null], \"hoverinfo\": \"none\", \"x\": [0.0, 0.25, null, 0.0, 0.25, null, 0.25, 0.5, null, 0.25, 0.25, null, 0.5, 0.375, null, 0.5, 0.75, null, 0.5, 0.75, null, 0.75, 1.0, null, 0.75, 0.75, null, 1.0, 0.75, null, 0.75, 0.5, null, 0.5, 0.375, null, 0.5, 0.25, null, 0.25, 0.375, null], \"line\": {\"width\": 2, \"color\": \"rgb(0, 0, 0)\"}, \"mode\": \"lines\"}, {\"textfont\": {\"color\": \"rgb(0, 0, 0)\"}, \"hoverinfo\": \"none\", \"mode\": \"markers+text\", \"text\": [], \"textposition\": \"middle center\", \"marker\": {\"size\": 20, \"color\": \"rgb(255, 255, 255)\", \"line\": {\"width\": 2, \"color\": \"rgb(0, 0, 0)\"}}, \"y\": [0.5, 1.0, 1.0, 1.0, 0.5, 0.0, 0.0, 0.0, 0.5], \"x\": [0.0, 0.25, 0.5, 0.75, 1.0, 0.75, 0.5, 0.25, 0.375]}], {\"yaxis\": {\"showticklabels\": false, \"showgrid\": false, \"zeroline\": false}, \"width\": 320, \"xaxis\": {\"showticklabels\": false, \"showgrid\": false, \"zeroline\": false}, \"height\": 180, \"showlegend\": false, \"margin\": {\"b\": 0, \"l\": 0, \"t\": 0, \"r\": 0}}, {\"showLink\": false, \"linkText\": \"Export to plot.ly\", \"displayModeBar\": false})});</script>"
      ]
     },
     "metadata": {},
     "output_type": "display_data"
    }
   ],
   "source": [
    "sn.graph_width = 320\n",
    "sn.graph_height = 180\n",
    "\n",
    "sn.show_graph(ug)"
   ]
  },
  {
   "cell_type": "markdown",
   "metadata": {},
   "source": [
    "Essa é a representação mais comum de grafos não-dirigidos: círculos como nós e retas como arestas. Se uma reta *conecta* o círculo que representa $n$ ao círculo que representa $m$, ela representa a aresta $\\{n, m\\}$.\n",
    "\n",
    "Vamos agora visualizar o segundo grafo, que é dirigido:"
   ]
  },
  {
   "cell_type": "code",
   "execution_count": 6,
   "metadata": {},
   "outputs": [
    {
     "data": {
      "application/vnd.plotly.v1+json": {
       "data": [
        {
         "hoverinfo": "none",
         "line": {
          "color": "rgb(0, 0, 0)",
          "width": 2
         },
         "mode": "lines",
         "x": [
          0,
          0.5,
          null,
          0.46643085439538495,
          0.44538388103556675,
          null,
          0.46643085439538495,
          0.4285584341548651,
          null,
          0,
          0.5,
          null,
          0.46643085439538495,
          0.4285584341548651,
          null,
          0.46643085439538495,
          0.44538388103556675,
          null,
          0.5,
          1,
          null,
          0.9621212121212122,
          0.9288794484132434,
          null,
          0.9621212121212122,
          0.9288794484132434,
          null,
          0.5075757575757576,
          0.5075757575757576,
          null,
          0.5075757575757576,
          0.5257358158562198,
          null,
          1.0075757575757576,
          1.0075757575757576,
          null,
          1.0075757575757576,
          1.0257358158562198,
          null,
          0.49242424242424243,
          0.49242424242424243,
          null,
          0.49242424242424243,
          0.4742641841437802,
          null,
          0.5,
          1,
          null,
          0.9738173240163878,
          0.9639630823912474,
          null,
          0.9738173240163878,
          0.9377166459078401,
          null,
          0.5,
          1,
          null,
          0.9621212121212122,
          0.9288794484132434,
          null,
          0.9621212121212122,
          0.9288794484132434,
          null,
          1,
          0,
          null,
          0.03664774299318793,
          0.07340128670201525,
          null,
          0.03664774299318793,
          0.06421703965128427,
          null,
          0.9924242424242424,
          0.9924242424242424,
          null,
          0.9924242424242424,
          0.9742641841437802,
          null
         ],
         "y": [
          0.5,
          1,
          null,
          0.966430854395385,
          0.906182816233176,
          null,
          0.966430854395385,
          0.967759498957256,
          null,
          0.5,
          0,
          null,
          0.03356914560461503,
          0.032240501042743994,
          null,
          0.03356914560461503,
          0.09381718376682407,
          null,
          1,
          1,
          null,
          1,
          0.9652590189417244,
          null,
          1,
          1.0347409810582755,
          null,
          1,
          0,
          null,
          0.07246376811594203,
          0.13605670738336034,
          null,
          1,
          0,
          null,
          0.07246376811594203,
          0.13605670738336034,
          null,
          0,
          1,
          null,
          0.927536231884058,
          0.8639432926166397,
          null,
          0,
          1,
          null,
          0.9476346480327754,
          0.8776659754484841,
          null,
          0.9476346480327754,
          0.9256934811496907,
          null,
          0,
          0,
          null,
          0,
          -0.03474098105827558,
          null,
          0,
          0.03474098105827558,
          null,
          0,
          0.5,
          null,
          0.481676128503406,
          0.4992073320037643,
          null,
          0.481676128503406,
          0.4319835048195859,
          null,
          0,
          1,
          null,
          0.927536231884058,
          0.8639432926166397,
          null
         ]
        },
        {
         "hoverinfo": "none",
         "marker": {
          "color": "rgb(255, 255, 255)",
          "line": {
           "color": "rgb(0, 0, 0)",
           "width": 2
          },
          "size": 20
         },
         "mode": "markers+text",
         "text": [],
         "textfont": {
          "color": "rgb(0, 0, 0)"
         },
         "textposition": "middle center",
         "x": [
          0,
          0.5,
          1,
          0.5,
          1
         ],
         "y": [
          0.5,
          1,
          1,
          0,
          0
         ]
        }
       ],
       "layout": {
        "height": 180,
        "margin": {
         "b": 0,
         "l": 0,
         "r": 0,
         "t": 0
        },
        "showlegend": false,
        "width": 320,
        "xaxis": {
         "showgrid": false,
         "showticklabels": false,
         "zeroline": false
        },
        "yaxis": {
         "showgrid": false,
         "showticklabels": false,
         "zeroline": false
        }
       }
      },
      "text/html": [
       "<div id=\"8482d149-bef9-4b2f-920d-2f6a337643a3\" style=\"height: 180px; width: 320px;\" class=\"plotly-graph-div\"></div><script type=\"text/javascript\">require([\"plotly\"], function(Plotly) { window.PLOTLYENV=window.PLOTLYENV || {};window.PLOTLYENV.BASE_URL=\"https://plot.ly\";Plotly.newPlot(\"8482d149-bef9-4b2f-920d-2f6a337643a3\", [{\"y\": [0.5, 1.0, null, 0.966430854395385, 0.906182816233176, null, 0.966430854395385, 0.967759498957256, null, 0.5, 0.0, null, 0.03356914560461503, 0.032240501042743994, null, 0.03356914560461503, 0.09381718376682407, null, 1.0, 1.0, null, 1.0, 0.9652590189417244, null, 1.0, 1.0347409810582755, null, 1.0, 0.0, null, 0.07246376811594203, 0.13605670738336034, null, 1.0, 0.0, null, 0.07246376811594203, 0.13605670738336034, null, 0.0, 1.0, null, 0.927536231884058, 0.8639432926166397, null, 0.0, 1.0, null, 0.9476346480327754, 0.8776659754484841, null, 0.9476346480327754, 0.9256934811496907, null, 0.0, 0.0, null, 0.0, -0.03474098105827558, null, 0.0, 0.03474098105827558, null, 0.0, 0.5, null, 0.481676128503406, 0.4992073320037643, null, 0.481676128503406, 0.4319835048195859, null, 0.0, 1.0, null, 0.927536231884058, 0.8639432926166397, null], \"hoverinfo\": \"none\", \"x\": [0.0, 0.5, null, 0.46643085439538495, 0.44538388103556675, null, 0.46643085439538495, 0.4285584341548651, null, 0.0, 0.5, null, 0.46643085439538495, 0.4285584341548651, null, 0.46643085439538495, 0.44538388103556675, null, 0.5, 1.0, null, 0.9621212121212122, 0.9288794484132434, null, 0.9621212121212122, 0.9288794484132434, null, 0.5075757575757576, 0.5075757575757576, null, 0.5075757575757576, 0.5257358158562198, null, 1.0075757575757576, 1.0075757575757576, null, 1.0075757575757576, 1.0257358158562198, null, 0.49242424242424243, 0.49242424242424243, null, 0.49242424242424243, 0.4742641841437802, null, 0.5, 1.0, null, 0.9738173240163878, 0.9639630823912474, null, 0.9738173240163878, 0.9377166459078401, null, 0.5, 1.0, null, 0.9621212121212122, 0.9288794484132434, null, 0.9621212121212122, 0.9288794484132434, null, 1.0, 0.0, null, 0.03664774299318793, 0.07340128670201525, null, 0.03664774299318793, 0.06421703965128427, null, 0.9924242424242424, 0.9924242424242424, null, 0.9924242424242424, 0.9742641841437802, null], \"line\": {\"width\": 2, \"color\": \"rgb(0, 0, 0)\"}, \"mode\": \"lines\"}, {\"textfont\": {\"color\": \"rgb(0, 0, 0)\"}, \"hoverinfo\": \"none\", \"mode\": \"markers+text\", \"text\": [], \"textposition\": \"middle center\", \"marker\": {\"size\": 20, \"color\": \"rgb(255, 255, 255)\", \"line\": {\"width\": 2, \"color\": \"rgb(0, 0, 0)\"}}, \"y\": [0.5, 1.0, 1.0, 0.0, 0.0], \"x\": [0.0, 0.5, 1.0, 0.5, 1.0]}], {\"yaxis\": {\"showticklabels\": false, \"showgrid\": false, \"zeroline\": false}, \"width\": 320, \"xaxis\": {\"showticklabels\": false, \"showgrid\": false, \"zeroline\": false}, \"height\": 180, \"showlegend\": false, \"margin\": {\"b\": 0, \"l\": 0, \"t\": 0, \"r\": 0}}, {\"showLink\": false, \"linkText\": \"Export to plot.ly\", \"displayModeBar\": false})});</script>"
      ],
      "text/vnd.plotly.v1+html": [
       "<div id=\"8482d149-bef9-4b2f-920d-2f6a337643a3\" style=\"height: 180px; width: 320px;\" class=\"plotly-graph-div\"></div><script type=\"text/javascript\">require([\"plotly\"], function(Plotly) { window.PLOTLYENV=window.PLOTLYENV || {};window.PLOTLYENV.BASE_URL=\"https://plot.ly\";Plotly.newPlot(\"8482d149-bef9-4b2f-920d-2f6a337643a3\", [{\"y\": [0.5, 1.0, null, 0.966430854395385, 0.906182816233176, null, 0.966430854395385, 0.967759498957256, null, 0.5, 0.0, null, 0.03356914560461503, 0.032240501042743994, null, 0.03356914560461503, 0.09381718376682407, null, 1.0, 1.0, null, 1.0, 0.9652590189417244, null, 1.0, 1.0347409810582755, null, 1.0, 0.0, null, 0.07246376811594203, 0.13605670738336034, null, 1.0, 0.0, null, 0.07246376811594203, 0.13605670738336034, null, 0.0, 1.0, null, 0.927536231884058, 0.8639432926166397, null, 0.0, 1.0, null, 0.9476346480327754, 0.8776659754484841, null, 0.9476346480327754, 0.9256934811496907, null, 0.0, 0.0, null, 0.0, -0.03474098105827558, null, 0.0, 0.03474098105827558, null, 0.0, 0.5, null, 0.481676128503406, 0.4992073320037643, null, 0.481676128503406, 0.4319835048195859, null, 0.0, 1.0, null, 0.927536231884058, 0.8639432926166397, null], \"hoverinfo\": \"none\", \"x\": [0.0, 0.5, null, 0.46643085439538495, 0.44538388103556675, null, 0.46643085439538495, 0.4285584341548651, null, 0.0, 0.5, null, 0.46643085439538495, 0.4285584341548651, null, 0.46643085439538495, 0.44538388103556675, null, 0.5, 1.0, null, 0.9621212121212122, 0.9288794484132434, null, 0.9621212121212122, 0.9288794484132434, null, 0.5075757575757576, 0.5075757575757576, null, 0.5075757575757576, 0.5257358158562198, null, 1.0075757575757576, 1.0075757575757576, null, 1.0075757575757576, 1.0257358158562198, null, 0.49242424242424243, 0.49242424242424243, null, 0.49242424242424243, 0.4742641841437802, null, 0.5, 1.0, null, 0.9738173240163878, 0.9639630823912474, null, 0.9738173240163878, 0.9377166459078401, null, 0.5, 1.0, null, 0.9621212121212122, 0.9288794484132434, null, 0.9621212121212122, 0.9288794484132434, null, 1.0, 0.0, null, 0.03664774299318793, 0.07340128670201525, null, 0.03664774299318793, 0.06421703965128427, null, 0.9924242424242424, 0.9924242424242424, null, 0.9924242424242424, 0.9742641841437802, null], \"line\": {\"width\": 2, \"color\": \"rgb(0, 0, 0)\"}, \"mode\": \"lines\"}, {\"textfont\": {\"color\": \"rgb(0, 0, 0)\"}, \"hoverinfo\": \"none\", \"mode\": \"markers+text\", \"text\": [], \"textposition\": \"middle center\", \"marker\": {\"size\": 20, \"color\": \"rgb(255, 255, 255)\", \"line\": {\"width\": 2, \"color\": \"rgb(0, 0, 0)\"}}, \"y\": [0.5, 1.0, 1.0, 0.0, 0.0], \"x\": [0.0, 0.5, 1.0, 0.5, 1.0]}], {\"yaxis\": {\"showticklabels\": false, \"showgrid\": false, \"zeroline\": false}, \"width\": 320, \"xaxis\": {\"showticklabels\": false, \"showgrid\": false, \"zeroline\": false}, \"height\": 180, \"showlegend\": false, \"margin\": {\"b\": 0, \"l\": 0, \"t\": 0, \"r\": 0}}, {\"showLink\": false, \"linkText\": \"Export to plot.ly\", \"displayModeBar\": false})});</script>"
      ]
     },
     "metadata": {},
     "output_type": "display_data"
    }
   ],
   "source": [
    "sn.graph_width = 320\n",
    "sn.graph_height = 180\n",
    "\n",
    "sn.show_graph(dg)"
   ]
  },
  {
   "cell_type": "markdown",
   "metadata": {},
   "source": [
    "Essa é a representação mais comum de grafos dirigidos: círculos como nós e setas como arestas. Se uma seta *sai* do círculo que representa $n$ e *entra* no círculo que representa $m$, ela representa a aresta $(n, m)$.\n",
    "\n",
    "Note que as duas primeiras linhas não são necessárias se você rodou a célula anterior, pois os valores atribuídos a `graph_width` e `graph_height` são exatamente iguais.\n",
    "\n",
    "\n",
    "## Atributos de nós e arestas\n",
    "\n",
    "Na estrutura de dados usada pela `socnet`, os nós são *inteiros* e cada nó é asssociado a um *dicionário* que armazena seus atributos. Vamos modificar e imprimir o atributo `color` do nó $0$ do grafo `ug`. Esse atributo existe por padrão."
   ]
  },
  {
   "cell_type": "code",
   "execution_count": 7,
   "metadata": {},
   "outputs": [
    {
     "name": "stdout",
     "output_type": "stream",
     "text": [
      "(255, 0, 0)\n"
     ]
    }
   ],
   "source": [
    "ug.node[0]['color'] = (255, 0, 0)\n",
    "\n",
    "print(ug.node[0]['color'])"
   ]
  },
  {
   "cell_type": "markdown",
   "metadata": {},
   "source": [
    "Cada aresta também é asssociada a um dicionário que armazena seus atributos. Vamos modificar e imprimir o atributo `color` da aresta $\\{1, 2\\}$ do grafo `ug`. Esse atributo existe por padrão."
   ]
  },
  {
   "cell_type": "code",
   "execution_count": 8,
   "metadata": {},
   "outputs": [
    {
     "name": "stdout",
     "output_type": "stream",
     "text": [
      "(0, 255, 0)\n"
     ]
    }
   ],
   "source": [
    "ug.edge[1][2]['color'] = (0, 255, 0)\n",
    "\n",
    "print(ug.edge[1][2]['color'])"
   ]
  },
  {
   "cell_type": "markdown",
   "metadata": {},
   "source": [
    "Note que a ordem dos nós não importa, pois `ug` é um grafo não-dirigido."
   ]
  },
  {
   "cell_type": "code",
   "execution_count": 9,
   "metadata": {},
   "outputs": [
    {
     "name": "stdout",
     "output_type": "stream",
     "text": [
      "(0, 0, 255)\n"
     ]
    }
   ],
   "source": [
    "ug.edge[2][1]['color'] = (0, 0, 255)\n",
    "\n",
    "print(ug.edge[1][2]['color'])"
   ]
  },
  {
   "cell_type": "markdown",
   "metadata": {},
   "source": [
    "Os atributos `color` são exibidos na visualização."
   ]
  },
  {
   "cell_type": "code",
   "execution_count": 10,
   "metadata": {},
   "outputs": [
    {
     "data": {
      "application/vnd.plotly.v1+json": {
       "data": [
        {
         "hoverinfo": "none",
         "line": {
          "color": "rgb(0, 0, 255)",
          "width": 2
         },
         "mode": "lines",
         "x": [
          0.25,
          0.5,
          null
         ],
         "y": [
          1,
          1,
          null
         ]
        },
        {
         "hoverinfo": "none",
         "line": {
          "color": "rgb(0, 0, 0)",
          "width": 2
         },
         "mode": "lines",
         "x": [
          0,
          0.25,
          null,
          0,
          0.25,
          null,
          0.25,
          0.25,
          null,
          0.5,
          0.375,
          null,
          0.5,
          0.75,
          null,
          0.5,
          0.75,
          null,
          0.75,
          1,
          null,
          0.75,
          0.75,
          null,
          1,
          0.75,
          null,
          0.75,
          0.5,
          null,
          0.5,
          0.375,
          null,
          0.5,
          0.25,
          null,
          0.25,
          0.375,
          null
         ],
         "y": [
          0.5,
          1,
          null,
          0.5,
          0,
          null,
          1,
          0,
          null,
          1,
          0.5,
          null,
          1,
          1,
          null,
          1,
          0,
          null,
          1,
          0.5,
          null,
          1,
          0,
          null,
          0.5,
          0,
          null,
          0,
          0,
          null,
          0,
          0.5,
          null,
          0,
          0,
          null,
          0,
          0.5,
          null
         ]
        },
        {
         "hoverinfo": "none",
         "marker": {
          "color": "rgb(255, 255, 255)",
          "line": {
           "color": "rgb(0, 0, 0)",
           "width": 2
          },
          "size": 20
         },
         "mode": "markers+text",
         "text": [],
         "textfont": {
          "color": "rgb(0, 0, 0)"
         },
         "textposition": "middle center",
         "x": [
          0.25,
          0.5,
          0.75,
          1,
          0.75,
          0.5,
          0.25,
          0.375
         ],
         "y": [
          1,
          1,
          1,
          0.5,
          0,
          0,
          0,
          0.5
         ]
        },
        {
         "hoverinfo": "none",
         "marker": {
          "color": "rgb(255, 0, 0)",
          "line": {
           "color": "rgb(0, 0, 0)",
           "width": 2
          },
          "size": 20
         },
         "mode": "markers+text",
         "text": [],
         "textfont": {
          "color": "rgb(255, 255, 255)"
         },
         "textposition": "middle center",
         "x": [
          0
         ],
         "y": [
          0.5
         ]
        }
       ],
       "layout": {
        "height": 180,
        "margin": {
         "b": 0,
         "l": 0,
         "r": 0,
         "t": 0
        },
        "showlegend": false,
        "width": 320,
        "xaxis": {
         "showgrid": false,
         "showticklabels": false,
         "zeroline": false
        },
        "yaxis": {
         "showgrid": false,
         "showticklabels": false,
         "zeroline": false
        }
       }
      },
      "text/html": [
       "<div id=\"5f9a966a-1feb-4ba9-9b13-54d27ad6ef49\" style=\"height: 180px; width: 320px;\" class=\"plotly-graph-div\"></div><script type=\"text/javascript\">require([\"plotly\"], function(Plotly) { window.PLOTLYENV=window.PLOTLYENV || {};window.PLOTLYENV.BASE_URL=\"https://plot.ly\";Plotly.newPlot(\"5f9a966a-1feb-4ba9-9b13-54d27ad6ef49\", [{\"y\": [1.0, 1.0, null], \"hoverinfo\": \"none\", \"x\": [0.25, 0.5, null], \"line\": {\"width\": 2, \"color\": \"rgb(0, 0, 255)\"}, \"mode\": \"lines\"}, {\"y\": [0.5, 1.0, null, 0.5, 0.0, null, 1.0, 0.0, null, 1.0, 0.5, null, 1.0, 1.0, null, 1.0, 0.0, null, 1.0, 0.5, null, 1.0, 0.0, null, 0.5, 0.0, null, 0.0, 0.0, null, 0.0, 0.5, null, 0.0, 0.0, null, 0.0, 0.5, null], \"hoverinfo\": \"none\", \"x\": [0.0, 0.25, null, 0.0, 0.25, null, 0.25, 0.25, null, 0.5, 0.375, null, 0.5, 0.75, null, 0.5, 0.75, null, 0.75, 1.0, null, 0.75, 0.75, null, 1.0, 0.75, null, 0.75, 0.5, null, 0.5, 0.375, null, 0.5, 0.25, null, 0.25, 0.375, null], \"line\": {\"width\": 2, \"color\": \"rgb(0, 0, 0)\"}, \"mode\": \"lines\"}, {\"textfont\": {\"color\": \"rgb(0, 0, 0)\"}, \"hoverinfo\": \"none\", \"mode\": \"markers+text\", \"text\": [], \"textposition\": \"middle center\", \"marker\": {\"size\": 20, \"color\": \"rgb(255, 255, 255)\", \"line\": {\"width\": 2, \"color\": \"rgb(0, 0, 0)\"}}, \"y\": [1.0, 1.0, 1.0, 0.5, 0.0, 0.0, 0.0, 0.5], \"x\": [0.25, 0.5, 0.75, 1.0, 0.75, 0.5, 0.25, 0.375]}, {\"textfont\": {\"color\": \"rgb(255, 255, 255)\"}, \"hoverinfo\": \"none\", \"mode\": \"markers+text\", \"text\": [], \"textposition\": \"middle center\", \"marker\": {\"size\": 20, \"color\": \"rgb(255, 0, 0)\", \"line\": {\"width\": 2, \"color\": \"rgb(0, 0, 0)\"}}, \"y\": [0.5], \"x\": [0.0]}], {\"yaxis\": {\"showticklabels\": false, \"showgrid\": false, \"zeroline\": false}, \"width\": 320, \"xaxis\": {\"showticklabels\": false, \"showgrid\": false, \"zeroline\": false}, \"height\": 180, \"showlegend\": false, \"margin\": {\"b\": 0, \"l\": 0, \"t\": 0, \"r\": 0}}, {\"showLink\": false, \"linkText\": \"Export to plot.ly\", \"displayModeBar\": false})});</script>"
      ],
      "text/vnd.plotly.v1+html": [
       "<div id=\"5f9a966a-1feb-4ba9-9b13-54d27ad6ef49\" style=\"height: 180px; width: 320px;\" class=\"plotly-graph-div\"></div><script type=\"text/javascript\">require([\"plotly\"], function(Plotly) { window.PLOTLYENV=window.PLOTLYENV || {};window.PLOTLYENV.BASE_URL=\"https://plot.ly\";Plotly.newPlot(\"5f9a966a-1feb-4ba9-9b13-54d27ad6ef49\", [{\"y\": [1.0, 1.0, null], \"hoverinfo\": \"none\", \"x\": [0.25, 0.5, null], \"line\": {\"width\": 2, \"color\": \"rgb(0, 0, 255)\"}, \"mode\": \"lines\"}, {\"y\": [0.5, 1.0, null, 0.5, 0.0, null, 1.0, 0.0, null, 1.0, 0.5, null, 1.0, 1.0, null, 1.0, 0.0, null, 1.0, 0.5, null, 1.0, 0.0, null, 0.5, 0.0, null, 0.0, 0.0, null, 0.0, 0.5, null, 0.0, 0.0, null, 0.0, 0.5, null], \"hoverinfo\": \"none\", \"x\": [0.0, 0.25, null, 0.0, 0.25, null, 0.25, 0.25, null, 0.5, 0.375, null, 0.5, 0.75, null, 0.5, 0.75, null, 0.75, 1.0, null, 0.75, 0.75, null, 1.0, 0.75, null, 0.75, 0.5, null, 0.5, 0.375, null, 0.5, 0.25, null, 0.25, 0.375, null], \"line\": {\"width\": 2, \"color\": \"rgb(0, 0, 0)\"}, \"mode\": \"lines\"}, {\"textfont\": {\"color\": \"rgb(0, 0, 0)\"}, \"hoverinfo\": \"none\", \"mode\": \"markers+text\", \"text\": [], \"textposition\": \"middle center\", \"marker\": {\"size\": 20, \"color\": \"rgb(255, 255, 255)\", \"line\": {\"width\": 2, \"color\": \"rgb(0, 0, 0)\"}}, \"y\": [1.0, 1.0, 1.0, 0.5, 0.0, 0.0, 0.0, 0.5], \"x\": [0.25, 0.5, 0.75, 1.0, 0.75, 0.5, 0.25, 0.375]}, {\"textfont\": {\"color\": \"rgb(255, 255, 255)\"}, \"hoverinfo\": \"none\", \"mode\": \"markers+text\", \"text\": [], \"textposition\": \"middle center\", \"marker\": {\"size\": 20, \"color\": \"rgb(255, 0, 0)\", \"line\": {\"width\": 2, \"color\": \"rgb(0, 0, 0)\"}}, \"y\": [0.5], \"x\": [0.0]}], {\"yaxis\": {\"showticklabels\": false, \"showgrid\": false, \"zeroline\": false}, \"width\": 320, \"xaxis\": {\"showticklabels\": false, \"showgrid\": false, \"zeroline\": false}, \"height\": 180, \"showlegend\": false, \"margin\": {\"b\": 0, \"l\": 0, \"t\": 0, \"r\": 0}}, {\"showLink\": false, \"linkText\": \"Export to plot.ly\", \"displayModeBar\": false})});</script>"
      ]
     },
     "metadata": {},
     "output_type": "display_data"
    }
   ],
   "source": [
    "sn.show_graph(ug)"
   ]
  },
  {
   "cell_type": "markdown",
   "metadata": {},
   "source": [
    "Podemos usar funções de conveniência para reinicializar as cores."
   ]
  },
  {
   "cell_type": "code",
   "execution_count": 11,
   "metadata": {},
   "outputs": [
    {
     "data": {
      "application/vnd.plotly.v1+json": {
       "data": [
        {
         "hoverinfo": "none",
         "line": {
          "color": "rgb(0, 0, 0)",
          "width": 2
         },
         "mode": "lines",
         "x": [
          0,
          0.25,
          null,
          0,
          0.25,
          null,
          0.25,
          0.5,
          null,
          0.25,
          0.25,
          null,
          0.5,
          0.375,
          null,
          0.5,
          0.75,
          null,
          0.5,
          0.75,
          null,
          0.75,
          1,
          null,
          0.75,
          0.75,
          null,
          1,
          0.75,
          null,
          0.75,
          0.5,
          null,
          0.5,
          0.375,
          null,
          0.5,
          0.25,
          null,
          0.25,
          0.375,
          null
         ],
         "y": [
          0.5,
          1,
          null,
          0.5,
          0,
          null,
          1,
          1,
          null,
          1,
          0,
          null,
          1,
          0.5,
          null,
          1,
          1,
          null,
          1,
          0,
          null,
          1,
          0.5,
          null,
          1,
          0,
          null,
          0.5,
          0,
          null,
          0,
          0,
          null,
          0,
          0.5,
          null,
          0,
          0,
          null,
          0,
          0.5,
          null
         ]
        },
        {
         "hoverinfo": "none",
         "marker": {
          "color": "rgb(255, 255, 255)",
          "line": {
           "color": "rgb(0, 0, 0)",
           "width": 2
          },
          "size": 20
         },
         "mode": "markers+text",
         "text": [],
         "textfont": {
          "color": "rgb(0, 0, 0)"
         },
         "textposition": "middle center",
         "x": [
          0,
          0.25,
          0.5,
          0.75,
          1,
          0.75,
          0.5,
          0.25,
          0.375
         ],
         "y": [
          0.5,
          1,
          1,
          1,
          0.5,
          0,
          0,
          0,
          0.5
         ]
        }
       ],
       "layout": {
        "height": 180,
        "margin": {
         "b": 0,
         "l": 0,
         "r": 0,
         "t": 0
        },
        "showlegend": false,
        "width": 320,
        "xaxis": {
         "showgrid": false,
         "showticklabels": false,
         "zeroline": false
        },
        "yaxis": {
         "showgrid": false,
         "showticklabels": false,
         "zeroline": false
        }
       }
      },
      "text/html": [
       "<div id=\"1e8d0273-103c-4e8d-be07-35a9bf63d1b0\" style=\"height: 180px; width: 320px;\" class=\"plotly-graph-div\"></div><script type=\"text/javascript\">require([\"plotly\"], function(Plotly) { window.PLOTLYENV=window.PLOTLYENV || {};window.PLOTLYENV.BASE_URL=\"https://plot.ly\";Plotly.newPlot(\"1e8d0273-103c-4e8d-be07-35a9bf63d1b0\", [{\"y\": [0.5, 1.0, null, 0.5, 0.0, null, 1.0, 1.0, null, 1.0, 0.0, null, 1.0, 0.5, null, 1.0, 1.0, null, 1.0, 0.0, null, 1.0, 0.5, null, 1.0, 0.0, null, 0.5, 0.0, null, 0.0, 0.0, null, 0.0, 0.5, null, 0.0, 0.0, null, 0.0, 0.5, null], \"hoverinfo\": \"none\", \"x\": [0.0, 0.25, null, 0.0, 0.25, null, 0.25, 0.5, null, 0.25, 0.25, null, 0.5, 0.375, null, 0.5, 0.75, null, 0.5, 0.75, null, 0.75, 1.0, null, 0.75, 0.75, null, 1.0, 0.75, null, 0.75, 0.5, null, 0.5, 0.375, null, 0.5, 0.25, null, 0.25, 0.375, null], \"line\": {\"width\": 2, \"color\": \"rgb(0, 0, 0)\"}, \"mode\": \"lines\"}, {\"textfont\": {\"color\": \"rgb(0, 0, 0)\"}, \"hoverinfo\": \"none\", \"mode\": \"markers+text\", \"text\": [], \"textposition\": \"middle center\", \"marker\": {\"size\": 20, \"color\": \"rgb(255, 255, 255)\", \"line\": {\"width\": 2, \"color\": \"rgb(0, 0, 0)\"}}, \"y\": [0.5, 1.0, 1.0, 1.0, 0.5, 0.0, 0.0, 0.0, 0.5], \"x\": [0.0, 0.25, 0.5, 0.75, 1.0, 0.75, 0.5, 0.25, 0.375]}], {\"yaxis\": {\"showticklabels\": false, \"showgrid\": false, \"zeroline\": false}, \"width\": 320, \"xaxis\": {\"showticklabels\": false, \"showgrid\": false, \"zeroline\": false}, \"height\": 180, \"showlegend\": false, \"margin\": {\"b\": 0, \"l\": 0, \"t\": 0, \"r\": 0}}, {\"showLink\": false, \"linkText\": \"Export to plot.ly\", \"displayModeBar\": false})});</script>"
      ],
      "text/vnd.plotly.v1+html": [
       "<div id=\"1e8d0273-103c-4e8d-be07-35a9bf63d1b0\" style=\"height: 180px; width: 320px;\" class=\"plotly-graph-div\"></div><script type=\"text/javascript\">require([\"plotly\"], function(Plotly) { window.PLOTLYENV=window.PLOTLYENV || {};window.PLOTLYENV.BASE_URL=\"https://plot.ly\";Plotly.newPlot(\"1e8d0273-103c-4e8d-be07-35a9bf63d1b0\", [{\"y\": [0.5, 1.0, null, 0.5, 0.0, null, 1.0, 1.0, null, 1.0, 0.0, null, 1.0, 0.5, null, 1.0, 1.0, null, 1.0, 0.0, null, 1.0, 0.5, null, 1.0, 0.0, null, 0.5, 0.0, null, 0.0, 0.0, null, 0.0, 0.5, null, 0.0, 0.0, null, 0.0, 0.5, null], \"hoverinfo\": \"none\", \"x\": [0.0, 0.25, null, 0.0, 0.25, null, 0.25, 0.5, null, 0.25, 0.25, null, 0.5, 0.375, null, 0.5, 0.75, null, 0.5, 0.75, null, 0.75, 1.0, null, 0.75, 0.75, null, 1.0, 0.75, null, 0.75, 0.5, null, 0.5, 0.375, null, 0.5, 0.25, null, 0.25, 0.375, null], \"line\": {\"width\": 2, \"color\": \"rgb(0, 0, 0)\"}, \"mode\": \"lines\"}, {\"textfont\": {\"color\": \"rgb(0, 0, 0)\"}, \"hoverinfo\": \"none\", \"mode\": \"markers+text\", \"text\": [], \"textposition\": \"middle center\", \"marker\": {\"size\": 20, \"color\": \"rgb(255, 255, 255)\", \"line\": {\"width\": 2, \"color\": \"rgb(0, 0, 0)\"}}, \"y\": [0.5, 1.0, 1.0, 1.0, 0.5, 0.0, 0.0, 0.0, 0.5], \"x\": [0.0, 0.25, 0.5, 0.75, 1.0, 0.75, 0.5, 0.25, 0.375]}], {\"yaxis\": {\"showticklabels\": false, \"showgrid\": false, \"zeroline\": false}, \"width\": 320, \"xaxis\": {\"showticklabels\": false, \"showgrid\": false, \"zeroline\": false}, \"height\": 180, \"showlegend\": false, \"margin\": {\"b\": 0, \"l\": 0, \"t\": 0, \"r\": 0}}, {\"showLink\": false, \"linkText\": \"Export to plot.ly\", \"displayModeBar\": false})});</script>"
      ]
     },
     "metadata": {},
     "output_type": "display_data"
    }
   ],
   "source": [
    "sn.reset_node_colors(ug)\n",
    "sn.reset_edge_colors(ug)\n",
    "\n",
    "sn.show_graph(ug)"
   ]
  },
  {
   "cell_type": "markdown",
   "metadata": {},
   "source": [
    "Os atributos `label` também podem ser exibidos na visualização, mas não existem por padrão. Primeiramente, precisamos criá-los."
   ]
  },
  {
   "cell_type": "code",
   "execution_count": 12,
   "metadata": {
    "collapsed": true
   },
   "outputs": [],
   "source": [
    "for n in ug.nodes():\n",
    "    ug.node[n]['label'] = str(n)\n",
    "for n, m in ug.edges():\n",
    "    ug.edge[n][m]['label'] = '?'\n",
    "\n",
    "for n in dg.nodes():\n",
    "    dg.node[n]['label'] = str(n)\n",
    "for n, m in dg.edges():\n",
    "    dg.edge[n][m]['label'] = '?'"
   ]
  },
  {
   "cell_type": "markdown",
   "metadata": {},
   "source": [
    "Depois, precisamos usar os argumentos `nlab` e `elab` para indicar que queremos exibi-los. Esses argumentos são `False` por padrão. "
   ]
  },
  {
   "cell_type": "code",
   "execution_count": 13,
   "metadata": {},
   "outputs": [
    {
     "data": {
      "application/vnd.plotly.v1+json": {
       "data": [
        {
         "hoverinfo": "none",
         "line": {
          "color": "rgb(0, 0, 0)",
          "width": 2
         },
         "mode": "lines",
         "x": [
          0,
          0.25,
          null,
          0,
          0.25,
          null,
          0.25,
          0.5,
          null,
          0.25,
          0.25,
          null,
          0.5,
          0.375,
          null,
          0.5,
          0.75,
          null,
          0.5,
          0.75,
          null,
          0.75,
          1,
          null,
          0.75,
          0.75,
          null,
          1,
          0.75,
          null,
          0.75,
          0.5,
          null,
          0.5,
          0.375,
          null,
          0.5,
          0.25,
          null,
          0.25,
          0.375,
          null
         ],
         "y": [
          0.5,
          1,
          null,
          0.5,
          0,
          null,
          1,
          1,
          null,
          1,
          0,
          null,
          1,
          0.5,
          null,
          1,
          1,
          null,
          1,
          0,
          null,
          1,
          0.5,
          null,
          1,
          0,
          null,
          0.5,
          0,
          null,
          0,
          0,
          null,
          0,
          0.5,
          null,
          0,
          0,
          null,
          0,
          0.5,
          null
         ]
        },
        {
         "hoverinfo": "none",
         "marker": {
          "color": "rgb(255, 255, 255)",
          "line": {
           "color": "rgb(0, 0, 0)",
           "width": 2
          },
          "size": 20
         },
         "mode": "markers+text",
         "text": [
          "0",
          "1",
          "2",
          "3",
          "4",
          "5",
          "6",
          "7",
          "8"
         ],
         "textfont": {
          "color": "rgb(0, 0, 0)"
         },
         "textposition": "middle center",
         "x": [
          0,
          0.25,
          0.5,
          0.75,
          1,
          0.75,
          0.5,
          0.25,
          0.375
         ],
         "y": [
          0.5,
          1,
          1,
          1,
          0.5,
          0,
          0,
          0,
          0.5
         ]
        },
        {
         "hoverinfo": "none",
         "mode": "text",
         "text": [
          "?",
          "?",
          "?",
          "?",
          "?",
          "?",
          "?",
          "?",
          "?",
          "?",
          "?",
          "?",
          "?",
          "?"
         ],
         "textfont": {
          "color": "rgb(0, 0, 0)"
         },
         "textposition": "middle center",
         "x": [
          0.08835225700681207,
          0.16164774299318793,
          0.375,
          0.2878787878787879,
          0.4750594305323629,
          0.625,
          0.6625594305323629,
          0.911647742993188,
          0.7878787878787878,
          0.911647742993188,
          0.625,
          0.3999405694676371,
          0.375,
          0.2749405694676371
         ],
         "y": [
          0.768323871496594,
          0.268323871496594,
          1.0724637681159421,
          0.5,
          0.7406101423669093,
          1.0724637681159421,
          0.5093898576330907,
          0.768323871496594,
          0.5,
          0.23167612850340602,
          -0.07246376811594203,
          0.24061014236690928,
          -0.07246376811594203,
          0.2593898576330907
         ]
        }
       ],
       "layout": {
        "height": 180,
        "margin": {
         "b": 0,
         "l": 0,
         "r": 0,
         "t": 0
        },
        "showlegend": false,
        "width": 320,
        "xaxis": {
         "showgrid": false,
         "showticklabels": false,
         "zeroline": false
        },
        "yaxis": {
         "showgrid": false,
         "showticklabels": false,
         "zeroline": false
        }
       }
      },
      "text/html": [
       "<div id=\"3d010f26-5d56-4978-b33b-0eaf8073b79c\" style=\"height: 180px; width: 320px;\" class=\"plotly-graph-div\"></div><script type=\"text/javascript\">require([\"plotly\"], function(Plotly) { window.PLOTLYENV=window.PLOTLYENV || {};window.PLOTLYENV.BASE_URL=\"https://plot.ly\";Plotly.newPlot(\"3d010f26-5d56-4978-b33b-0eaf8073b79c\", [{\"y\": [0.5, 1.0, null, 0.5, 0.0, null, 1.0, 1.0, null, 1.0, 0.0, null, 1.0, 0.5, null, 1.0, 1.0, null, 1.0, 0.0, null, 1.0, 0.5, null, 1.0, 0.0, null, 0.5, 0.0, null, 0.0, 0.0, null, 0.0, 0.5, null, 0.0, 0.0, null, 0.0, 0.5, null], \"hoverinfo\": \"none\", \"x\": [0.0, 0.25, null, 0.0, 0.25, null, 0.25, 0.5, null, 0.25, 0.25, null, 0.5, 0.375, null, 0.5, 0.75, null, 0.5, 0.75, null, 0.75, 1.0, null, 0.75, 0.75, null, 1.0, 0.75, null, 0.75, 0.5, null, 0.5, 0.375, null, 0.5, 0.25, null, 0.25, 0.375, null], \"line\": {\"width\": 2, \"color\": \"rgb(0, 0, 0)\"}, \"mode\": \"lines\"}, {\"textfont\": {\"color\": \"rgb(0, 0, 0)\"}, \"hoverinfo\": \"none\", \"mode\": \"markers+text\", \"text\": [\"0\", \"1\", \"2\", \"3\", \"4\", \"5\", \"6\", \"7\", \"8\"], \"textposition\": \"middle center\", \"marker\": {\"size\": 20, \"color\": \"rgb(255, 255, 255)\", \"line\": {\"width\": 2, \"color\": \"rgb(0, 0, 0)\"}}, \"y\": [0.5, 1.0, 1.0, 1.0, 0.5, 0.0, 0.0, 0.0, 0.5], \"x\": [0.0, 0.25, 0.5, 0.75, 1.0, 0.75, 0.5, 0.25, 0.375]}, {\"textfont\": {\"color\": \"rgb(0, 0, 0)\"}, \"hoverinfo\": \"none\", \"mode\": \"text\", \"text\": [\"?\", \"?\", \"?\", \"?\", \"?\", \"?\", \"?\", \"?\", \"?\", \"?\", \"?\", \"?\", \"?\", \"?\"], \"textposition\": \"middle center\", \"y\": [0.768323871496594, 0.268323871496594, 1.0724637681159421, 0.5, 0.7406101423669093, 1.0724637681159421, 0.5093898576330907, 0.768323871496594, 0.5, 0.23167612850340602, -0.07246376811594203, 0.24061014236690928, -0.07246376811594203, 0.2593898576330907], \"x\": [0.08835225700681207, 0.16164774299318793, 0.375, 0.2878787878787879, 0.4750594305323629, 0.625, 0.6625594305323629, 0.911647742993188, 0.7878787878787878, 0.911647742993188, 0.625, 0.3999405694676371, 0.375, 0.2749405694676371]}], {\"yaxis\": {\"showticklabels\": false, \"showgrid\": false, \"zeroline\": false}, \"width\": 320, \"xaxis\": {\"showticklabels\": false, \"showgrid\": false, \"zeroline\": false}, \"height\": 180, \"showlegend\": false, \"margin\": {\"b\": 0, \"l\": 0, \"t\": 0, \"r\": 0}}, {\"showLink\": false, \"linkText\": \"Export to plot.ly\", \"displayModeBar\": false})});</script>"
      ],
      "text/vnd.plotly.v1+html": [
       "<div id=\"3d010f26-5d56-4978-b33b-0eaf8073b79c\" style=\"height: 180px; width: 320px;\" class=\"plotly-graph-div\"></div><script type=\"text/javascript\">require([\"plotly\"], function(Plotly) { window.PLOTLYENV=window.PLOTLYENV || {};window.PLOTLYENV.BASE_URL=\"https://plot.ly\";Plotly.newPlot(\"3d010f26-5d56-4978-b33b-0eaf8073b79c\", [{\"y\": [0.5, 1.0, null, 0.5, 0.0, null, 1.0, 1.0, null, 1.0, 0.0, null, 1.0, 0.5, null, 1.0, 1.0, null, 1.0, 0.0, null, 1.0, 0.5, null, 1.0, 0.0, null, 0.5, 0.0, null, 0.0, 0.0, null, 0.0, 0.5, null, 0.0, 0.0, null, 0.0, 0.5, null], \"hoverinfo\": \"none\", \"x\": [0.0, 0.25, null, 0.0, 0.25, null, 0.25, 0.5, null, 0.25, 0.25, null, 0.5, 0.375, null, 0.5, 0.75, null, 0.5, 0.75, null, 0.75, 1.0, null, 0.75, 0.75, null, 1.0, 0.75, null, 0.75, 0.5, null, 0.5, 0.375, null, 0.5, 0.25, null, 0.25, 0.375, null], \"line\": {\"width\": 2, \"color\": \"rgb(0, 0, 0)\"}, \"mode\": \"lines\"}, {\"textfont\": {\"color\": \"rgb(0, 0, 0)\"}, \"hoverinfo\": \"none\", \"mode\": \"markers+text\", \"text\": [\"0\", \"1\", \"2\", \"3\", \"4\", \"5\", \"6\", \"7\", \"8\"], \"textposition\": \"middle center\", \"marker\": {\"size\": 20, \"color\": \"rgb(255, 255, 255)\", \"line\": {\"width\": 2, \"color\": \"rgb(0, 0, 0)\"}}, \"y\": [0.5, 1.0, 1.0, 1.0, 0.5, 0.0, 0.0, 0.0, 0.5], \"x\": [0.0, 0.25, 0.5, 0.75, 1.0, 0.75, 0.5, 0.25, 0.375]}, {\"textfont\": {\"color\": \"rgb(0, 0, 0)\"}, \"hoverinfo\": \"none\", \"mode\": \"text\", \"text\": [\"?\", \"?\", \"?\", \"?\", \"?\", \"?\", \"?\", \"?\", \"?\", \"?\", \"?\", \"?\", \"?\", \"?\"], \"textposition\": \"middle center\", \"y\": [0.768323871496594, 0.268323871496594, 1.0724637681159421, 0.5, 0.7406101423669093, 1.0724637681159421, 0.5093898576330907, 0.768323871496594, 0.5, 0.23167612850340602, -0.07246376811594203, 0.24061014236690928, -0.07246376811594203, 0.2593898576330907], \"x\": [0.08835225700681207, 0.16164774299318793, 0.375, 0.2878787878787879, 0.4750594305323629, 0.625, 0.6625594305323629, 0.911647742993188, 0.7878787878787878, 0.911647742993188, 0.625, 0.3999405694676371, 0.375, 0.2749405694676371]}], {\"yaxis\": {\"showticklabels\": false, \"showgrid\": false, \"zeroline\": false}, \"width\": 320, \"xaxis\": {\"showticklabels\": false, \"showgrid\": false, \"zeroline\": false}, \"height\": 180, \"showlegend\": false, \"margin\": {\"b\": 0, \"l\": 0, \"t\": 0, \"r\": 0}}, {\"showLink\": false, \"linkText\": \"Export to plot.ly\", \"displayModeBar\": false})});</script>"
      ]
     },
     "metadata": {},
     "output_type": "display_data"
    },
    {
     "data": {
      "application/vnd.plotly.v1+json": {
       "data": [
        {
         "hoverinfo": "none",
         "line": {
          "color": "rgb(0, 0, 0)",
          "width": 2
         },
         "mode": "lines",
         "x": [
          0,
          0.5,
          null,
          0.46643085439538495,
          0.44538388103556675,
          null,
          0.46643085439538495,
          0.4285584341548651,
          null,
          0,
          0.5,
          null,
          0.46643085439538495,
          0.4285584341548651,
          null,
          0.46643085439538495,
          0.44538388103556675,
          null,
          0.5,
          1,
          null,
          0.9621212121212122,
          0.9288794484132434,
          null,
          0.9621212121212122,
          0.9288794484132434,
          null,
          0.5075757575757576,
          0.5075757575757576,
          null,
          0.5075757575757576,
          0.5257358158562198,
          null,
          1.0075757575757576,
          1.0075757575757576,
          null,
          1.0075757575757576,
          1.0257358158562198,
          null,
          0.49242424242424243,
          0.49242424242424243,
          null,
          0.49242424242424243,
          0.4742641841437802,
          null,
          0.5,
          1,
          null,
          0.9738173240163878,
          0.9639630823912474,
          null,
          0.9738173240163878,
          0.9377166459078401,
          null,
          0.5,
          1,
          null,
          0.9621212121212122,
          0.9288794484132434,
          null,
          0.9621212121212122,
          0.9288794484132434,
          null,
          1,
          0,
          null,
          0.03664774299318793,
          0.07340128670201525,
          null,
          0.03664774299318793,
          0.06421703965128427,
          null,
          0.9924242424242424,
          0.9924242424242424,
          null,
          0.9924242424242424,
          0.9742641841437802,
          null
         ],
         "y": [
          0.5,
          1,
          null,
          0.966430854395385,
          0.906182816233176,
          null,
          0.966430854395385,
          0.967759498957256,
          null,
          0.5,
          0,
          null,
          0.03356914560461503,
          0.032240501042743994,
          null,
          0.03356914560461503,
          0.09381718376682407,
          null,
          1,
          1,
          null,
          1,
          0.9652590189417244,
          null,
          1,
          1.0347409810582755,
          null,
          1,
          0,
          null,
          0.07246376811594203,
          0.13605670738336034,
          null,
          1,
          0,
          null,
          0.07246376811594203,
          0.13605670738336034,
          null,
          0,
          1,
          null,
          0.927536231884058,
          0.8639432926166397,
          null,
          0,
          1,
          null,
          0.9476346480327754,
          0.8776659754484841,
          null,
          0.9476346480327754,
          0.9256934811496907,
          null,
          0,
          0,
          null,
          0,
          -0.03474098105827558,
          null,
          0,
          0.03474098105827558,
          null,
          0,
          0.5,
          null,
          0.481676128503406,
          0.4992073320037643,
          null,
          0.481676128503406,
          0.4319835048195859,
          null,
          0,
          1,
          null,
          0.927536231884058,
          0.8639432926166397,
          null
         ]
        },
        {
         "hoverinfo": "none",
         "marker": {
          "color": "rgb(255, 255, 255)",
          "line": {
           "color": "rgb(0, 0, 0)",
           "width": 2
          },
          "size": 20
         },
         "mode": "markers+text",
         "text": [
          "0",
          "1",
          "2",
          "3",
          "4"
         ],
         "textfont": {
          "color": "rgb(0, 0, 0)"
         },
         "textposition": "middle center",
         "x": [
          0,
          0.5,
          1,
          0.5,
          1
         ],
         "y": [
          0.5,
          1,
          1,
          0,
          0
         ]
        },
        {
         "hoverinfo": "none",
         "mode": "text",
         "text": [
          "?",
          "?",
          "?",
          "?",
          "?",
          "?",
          "?",
          "?",
          "?",
          "?"
         ],
         "textfont": {
          "color": "rgb(0, 0, 0)"
         },
         "textposition": "middle center",
         "x": [
          0.21643085439538495,
          0.28356914560461505,
          0.75,
          0.5454545454545454,
          1.0454545454545454,
          0.45454545454545453,
          0.713352257006812,
          0.75,
          0.4738173240163877,
          0.9545454545454546
         ],
         "y": [
          0.783569145604615,
          0.28356914560461505,
          1.0724637681159421,
          0.5,
          0.5,
          0.5,
          0.518323871496594,
          0.07246376811594203,
          0.19763464803277542,
          0.5
         ]
        }
       ],
       "layout": {
        "height": 180,
        "margin": {
         "b": 0,
         "l": 0,
         "r": 0,
         "t": 0
        },
        "showlegend": false,
        "width": 320,
        "xaxis": {
         "showgrid": false,
         "showticklabels": false,
         "zeroline": false
        },
        "yaxis": {
         "showgrid": false,
         "showticklabels": false,
         "zeroline": false
        }
       }
      },
      "text/html": [
       "<div id=\"8e64d447-e128-47cb-8d79-d37e6abcb6ae\" style=\"height: 180px; width: 320px;\" class=\"plotly-graph-div\"></div><script type=\"text/javascript\">require([\"plotly\"], function(Plotly) { window.PLOTLYENV=window.PLOTLYENV || {};window.PLOTLYENV.BASE_URL=\"https://plot.ly\";Plotly.newPlot(\"8e64d447-e128-47cb-8d79-d37e6abcb6ae\", [{\"y\": [0.5, 1.0, null, 0.966430854395385, 0.906182816233176, null, 0.966430854395385, 0.967759498957256, null, 0.5, 0.0, null, 0.03356914560461503, 0.032240501042743994, null, 0.03356914560461503, 0.09381718376682407, null, 1.0, 1.0, null, 1.0, 0.9652590189417244, null, 1.0, 1.0347409810582755, null, 1.0, 0.0, null, 0.07246376811594203, 0.13605670738336034, null, 1.0, 0.0, null, 0.07246376811594203, 0.13605670738336034, null, 0.0, 1.0, null, 0.927536231884058, 0.8639432926166397, null, 0.0, 1.0, null, 0.9476346480327754, 0.8776659754484841, null, 0.9476346480327754, 0.9256934811496907, null, 0.0, 0.0, null, 0.0, -0.03474098105827558, null, 0.0, 0.03474098105827558, null, 0.0, 0.5, null, 0.481676128503406, 0.4992073320037643, null, 0.481676128503406, 0.4319835048195859, null, 0.0, 1.0, null, 0.927536231884058, 0.8639432926166397, null], \"hoverinfo\": \"none\", \"x\": [0.0, 0.5, null, 0.46643085439538495, 0.44538388103556675, null, 0.46643085439538495, 0.4285584341548651, null, 0.0, 0.5, null, 0.46643085439538495, 0.4285584341548651, null, 0.46643085439538495, 0.44538388103556675, null, 0.5, 1.0, null, 0.9621212121212122, 0.9288794484132434, null, 0.9621212121212122, 0.9288794484132434, null, 0.5075757575757576, 0.5075757575757576, null, 0.5075757575757576, 0.5257358158562198, null, 1.0075757575757576, 1.0075757575757576, null, 1.0075757575757576, 1.0257358158562198, null, 0.49242424242424243, 0.49242424242424243, null, 0.49242424242424243, 0.4742641841437802, null, 0.5, 1.0, null, 0.9738173240163878, 0.9639630823912474, null, 0.9738173240163878, 0.9377166459078401, null, 0.5, 1.0, null, 0.9621212121212122, 0.9288794484132434, null, 0.9621212121212122, 0.9288794484132434, null, 1.0, 0.0, null, 0.03664774299318793, 0.07340128670201525, null, 0.03664774299318793, 0.06421703965128427, null, 0.9924242424242424, 0.9924242424242424, null, 0.9924242424242424, 0.9742641841437802, null], \"line\": {\"width\": 2, \"color\": \"rgb(0, 0, 0)\"}, \"mode\": \"lines\"}, {\"textfont\": {\"color\": \"rgb(0, 0, 0)\"}, \"hoverinfo\": \"none\", \"mode\": \"markers+text\", \"text\": [\"0\", \"1\", \"2\", \"3\", \"4\"], \"textposition\": \"middle center\", \"marker\": {\"size\": 20, \"color\": \"rgb(255, 255, 255)\", \"line\": {\"width\": 2, \"color\": \"rgb(0, 0, 0)\"}}, \"y\": [0.5, 1.0, 1.0, 0.0, 0.0], \"x\": [0.0, 0.5, 1.0, 0.5, 1.0]}, {\"textfont\": {\"color\": \"rgb(0, 0, 0)\"}, \"hoverinfo\": \"none\", \"mode\": \"text\", \"text\": [\"?\", \"?\", \"?\", \"?\", \"?\", \"?\", \"?\", \"?\", \"?\", \"?\"], \"textposition\": \"middle center\", \"y\": [0.783569145604615, 0.28356914560461505, 1.0724637681159421, 0.5, 0.5, 0.5, 0.518323871496594, 0.07246376811594203, 0.19763464803277542, 0.5], \"x\": [0.21643085439538495, 0.28356914560461505, 0.75, 0.5454545454545454, 1.0454545454545454, 0.45454545454545453, 0.713352257006812, 0.75, 0.4738173240163877, 0.9545454545454546]}], {\"yaxis\": {\"showticklabels\": false, \"showgrid\": false, \"zeroline\": false}, \"width\": 320, \"xaxis\": {\"showticklabels\": false, \"showgrid\": false, \"zeroline\": false}, \"height\": 180, \"showlegend\": false, \"margin\": {\"b\": 0, \"l\": 0, \"t\": 0, \"r\": 0}}, {\"showLink\": false, \"linkText\": \"Export to plot.ly\", \"displayModeBar\": false})});</script>"
      ],
      "text/vnd.plotly.v1+html": [
       "<div id=\"8e64d447-e128-47cb-8d79-d37e6abcb6ae\" style=\"height: 180px; width: 320px;\" class=\"plotly-graph-div\"></div><script type=\"text/javascript\">require([\"plotly\"], function(Plotly) { window.PLOTLYENV=window.PLOTLYENV || {};window.PLOTLYENV.BASE_URL=\"https://plot.ly\";Plotly.newPlot(\"8e64d447-e128-47cb-8d79-d37e6abcb6ae\", [{\"y\": [0.5, 1.0, null, 0.966430854395385, 0.906182816233176, null, 0.966430854395385, 0.967759498957256, null, 0.5, 0.0, null, 0.03356914560461503, 0.032240501042743994, null, 0.03356914560461503, 0.09381718376682407, null, 1.0, 1.0, null, 1.0, 0.9652590189417244, null, 1.0, 1.0347409810582755, null, 1.0, 0.0, null, 0.07246376811594203, 0.13605670738336034, null, 1.0, 0.0, null, 0.07246376811594203, 0.13605670738336034, null, 0.0, 1.0, null, 0.927536231884058, 0.8639432926166397, null, 0.0, 1.0, null, 0.9476346480327754, 0.8776659754484841, null, 0.9476346480327754, 0.9256934811496907, null, 0.0, 0.0, null, 0.0, -0.03474098105827558, null, 0.0, 0.03474098105827558, null, 0.0, 0.5, null, 0.481676128503406, 0.4992073320037643, null, 0.481676128503406, 0.4319835048195859, null, 0.0, 1.0, null, 0.927536231884058, 0.8639432926166397, null], \"hoverinfo\": \"none\", \"x\": [0.0, 0.5, null, 0.46643085439538495, 0.44538388103556675, null, 0.46643085439538495, 0.4285584341548651, null, 0.0, 0.5, null, 0.46643085439538495, 0.4285584341548651, null, 0.46643085439538495, 0.44538388103556675, null, 0.5, 1.0, null, 0.9621212121212122, 0.9288794484132434, null, 0.9621212121212122, 0.9288794484132434, null, 0.5075757575757576, 0.5075757575757576, null, 0.5075757575757576, 0.5257358158562198, null, 1.0075757575757576, 1.0075757575757576, null, 1.0075757575757576, 1.0257358158562198, null, 0.49242424242424243, 0.49242424242424243, null, 0.49242424242424243, 0.4742641841437802, null, 0.5, 1.0, null, 0.9738173240163878, 0.9639630823912474, null, 0.9738173240163878, 0.9377166459078401, null, 0.5, 1.0, null, 0.9621212121212122, 0.9288794484132434, null, 0.9621212121212122, 0.9288794484132434, null, 1.0, 0.0, null, 0.03664774299318793, 0.07340128670201525, null, 0.03664774299318793, 0.06421703965128427, null, 0.9924242424242424, 0.9924242424242424, null, 0.9924242424242424, 0.9742641841437802, null], \"line\": {\"width\": 2, \"color\": \"rgb(0, 0, 0)\"}, \"mode\": \"lines\"}, {\"textfont\": {\"color\": \"rgb(0, 0, 0)\"}, \"hoverinfo\": \"none\", \"mode\": \"markers+text\", \"text\": [\"0\", \"1\", \"2\", \"3\", \"4\"], \"textposition\": \"middle center\", \"marker\": {\"size\": 20, \"color\": \"rgb(255, 255, 255)\", \"line\": {\"width\": 2, \"color\": \"rgb(0, 0, 0)\"}}, \"y\": [0.5, 1.0, 1.0, 0.0, 0.0], \"x\": [0.0, 0.5, 1.0, 0.5, 1.0]}, {\"textfont\": {\"color\": \"rgb(0, 0, 0)\"}, \"hoverinfo\": \"none\", \"mode\": \"text\", \"text\": [\"?\", \"?\", \"?\", \"?\", \"?\", \"?\", \"?\", \"?\", \"?\", \"?\"], \"textposition\": \"middle center\", \"y\": [0.783569145604615, 0.28356914560461505, 1.0724637681159421, 0.5, 0.5, 0.5, 0.518323871496594, 0.07246376811594203, 0.19763464803277542, 0.5], \"x\": [0.21643085439538495, 0.28356914560461505, 0.75, 0.5454545454545454, 1.0454545454545454, 0.45454545454545453, 0.713352257006812, 0.75, 0.4738173240163877, 0.9545454545454546]}], {\"yaxis\": {\"showticklabels\": false, \"showgrid\": false, \"zeroline\": false}, \"width\": 320, \"xaxis\": {\"showticklabels\": false, \"showgrid\": false, \"zeroline\": false}, \"height\": 180, \"showlegend\": false, \"margin\": {\"b\": 0, \"l\": 0, \"t\": 0, \"r\": 0}}, {\"showLink\": false, \"linkText\": \"Export to plot.ly\", \"displayModeBar\": false})});</script>"
      ]
     },
     "metadata": {},
     "output_type": "display_data"
    }
   ],
   "source": [
    "sn.show_graph(ug, nlab=True, elab=True)\n",
    "sn.show_graph(dg, nlab=True, elab=True)"
   ]
  },
  {
   "cell_type": "markdown",
   "metadata": {},
   "source": [
    "## Vizinhos, predecessores e sucessores\n",
    "\n",
    "Considere um grafo $(N, E)$ e um nó $n$. Suponha que esse grafo é não-dirigido.\n",
    "\n",
    "Nesse caso, dizemos que $n$ é **vizinho** (*neighbor*) de $m$ se $\\{n, m\\} \\in E$. Denotamos por $\\mathcal{N}(n)$ o conjunto dos vizinhos de $n$."
   ]
  },
  {
   "cell_type": "code",
   "execution_count": 22,
   "metadata": {},
   "outputs": [
    {
     "name": "stdout",
     "output_type": "stream",
     "text": [
      "[1, 7]\n"
     ]
    }
   ],
   "source": [
    "print(ug.neighbors(0))"
   ]
  },
  {
   "cell_type": "markdown",
   "metadata": {},
   "source": [
    "Suponha agora que o grafo $(N, E)$ é dirigido.\n",
    "\n",
    "Nesse caso, dizemos que $n$ é **predecessor** de $m$ se $(n, m) \\in E$ e dizemos que $n$ é **sucessor** de $m$ se $(m, n) \\in E$. Denotamos por $\\mathcal{P}(n)$ o conjunto dos predecessores de $n$ e denotamos por $\\mathcal{S}(n)$ o conjunto dos sucessores de $n$."
   ]
  },
  {
   "cell_type": "code",
   "execution_count": 23,
   "metadata": {},
   "outputs": [
    {
     "name": "stdout",
     "output_type": "stream",
     "text": [
      "[1, 3]\n",
      "[0, 3]\n"
     ]
    }
   ],
   "source": [
    "print(dg.successors(0))\n",
    "print(dg.predecessors(1))"
   ]
  },
  {
   "cell_type": "markdown",
   "metadata": {},
   "source": [
    "## Passeios, trilhas e caminhos\n",
    "\n",
    "Se $(N, E)$ é um grafo não-dirigido:\n",
    "\n",
    "* um **passeio** (*walk*) é uma sequência de nós $\\langle n_0, n_1, \\ldots, n_{k-1} \\rangle$ tal que, para todo $i$ entre $0$ e $k-2$, temos que $\\{n_i, n_{i + 1}\\} \\in E$;\n",
    "\n",
    "* uma **trilha** (*trail*) é um passeio $\\langle n_0, n_1, \\ldots, n_{k-1} \\rangle$ no qual não existem índices $i$ e $j$ entre $0$ e $k-2$ tais que $i \\neq j$ e $\\{n_i, n_{i+1}\\} = \\{n_j, n_{j+1}\\}$;\n",
    "\n",
    "* um **caminho** (*path*) é um passeio $\\langle n_0, n_1, \\ldots, n_{k-1} \\rangle$ no qual não existem índices $i$ e $j$ entre $0$ e $k-1$ tais que $i \\neq j$ e $n_i = n_j$.\n",
    "\n",
    "Se $(N, E)$ é um grafo dirigido:\n",
    "\n",
    "* um **passeio** (*walk*) é uma sequência de nós $\\langle n_0, n_1, \\ldots, n_{k-1} \\rangle$ tal que, para todo $i$ entre $0$ e $k-2$, temos que $(n_i, n_{i + 1}) \\in E$;\n",
    "\n",
    "* uma **trilha** (*trail*) é um passeio $\\langle n_0, n_1, \\ldots, n_{k-1} \\rangle$ no qual não existem índices $i$ e $j$ entre $0$ e $k-2$ tais que $i \\neq j$ e $(n_i, n_{i+1}) = (n_j, n_{j+1})$;\n",
    "\n",
    "* um **caminho** (*path*) é um passeio $\\langle n_0, n_1, \\ldots, n_{k-1} \\rangle$ no qual não existem índices $i$ e $j$ entre $0$ e $k-1$ tais que $i \\neq j$ e $n_i = n_j$.\n",
    "\n",
    "Pode-se dizer que uma trilha é um passeio que não repete arestas e um caminho é um passeio que não repete nós.\n",
    "\n",
    "### Exercício 1\n",
    "\n",
    "Dê um exemplo de passeio que não é trilha no grafo `ug`."
   ]
  },
  {
   "cell_type": "markdown",
   "metadata": {},
   "source": [
    "*Resposta:* 0 - 1 - 7 - 0 - 1"
   ]
  },
  {
   "cell_type": "markdown",
   "metadata": {},
   "source": [
    "### Exercício 2\n",
    "\n",
    "Dê um exemplo de passeio que não é trilha no grafo `dg`."
   ]
  },
  {
   "cell_type": "markdown",
   "metadata": {},
   "source": [
    "*Resposta:* 0 - 1 - 2 - 4 - 0 - 1 "
   ]
  },
  {
   "cell_type": "markdown",
   "metadata": {},
   "source": [
    "### Exercício 3\n",
    "\n",
    "Dê um exemplo de trilha que não é caminho no grafo `ug`."
   ]
  },
  {
   "cell_type": "markdown",
   "metadata": {},
   "source": [
    "*Resposta:* 6 - 7 - 8 - 6 - 5"
   ]
  },
  {
   "cell_type": "markdown",
   "metadata": {},
   "source": [
    "### Exercício 4\n",
    "\n",
    "Dê um exemplo de trilha que não é caminho no grafo `dg`."
   ]
  },
  {
   "cell_type": "markdown",
   "metadata": {},
   "source": [
    "*Resposta:* 0 - 1 - 2 - 4 - 0 - 1"
   ]
  },
  {
   "cell_type": "markdown",
   "metadata": {},
   "source": [
    "### Exercício 5\n",
    "\n",
    "Use cores para dar um exemplo de caminho no grafo `ug`."
   ]
  },
  {
   "cell_type": "code",
   "execution_count": 29,
   "metadata": {},
   "outputs": [
    {
     "data": {
      "application/vnd.plotly.v1+json": {
       "data": [
        {
         "hoverinfo": "none",
         "line": {
          "color": "rgb(0, 0, 0)",
          "width": 2
         },
         "mode": "lines",
         "x": [
          0,
          0.25,
          null,
          0,
          0.25,
          null,
          0.25,
          0.5,
          null,
          0.25,
          0.25,
          null,
          0.5,
          0.375,
          null,
          0.5,
          0.75,
          null,
          0.5,
          0.75,
          null,
          0.75,
          1,
          null,
          0.75,
          0.75,
          null,
          1,
          0.75,
          null,
          0.75,
          0.5,
          null,
          0.5,
          0.375,
          null,
          0.5,
          0.25,
          null,
          0.25,
          0.375,
          null
         ],
         "y": [
          0.5,
          1,
          null,
          0.5,
          0,
          null,
          1,
          1,
          null,
          1,
          0,
          null,
          1,
          0.5,
          null,
          1,
          1,
          null,
          1,
          0,
          null,
          1,
          0.5,
          null,
          1,
          0,
          null,
          0.5,
          0,
          null,
          0,
          0,
          null,
          0,
          0.5,
          null,
          0,
          0,
          null,
          0,
          0.5,
          null
         ]
        },
        {
         "hoverinfo": "text",
         "marker": {
          "color": "rgb(255, 255, 255)",
          "line": {
           "color": "rgb(0, 0, 0)",
           "width": 2
          },
          "size": 20
         },
         "mode": "markers",
         "text": [],
         "textfont": {
          "color": "rgb(0, 0, 0)"
         },
         "textposition": "hover",
         "x": [
          0,
          0.25,
          0.5,
          0.75,
          1,
          0.75
         ],
         "y": [
          0.5,
          1,
          1,
          1,
          0.5,
          0
         ]
        },
        {
         "hoverinfo": "text",
         "marker": {
          "color": "rgb(255, 0, 0)",
          "line": {
           "color": "rgb(0, 0, 0)",
           "width": 2
          },
          "size": 20
         },
         "mode": "markers",
         "text": [],
         "textfont": {
          "color": "rgb(0, 0, 0)"
         },
         "textposition": "hover",
         "x": [
          0.5,
          0.25,
          0.375
         ],
         "y": [
          0,
          0,
          0.5
         ]
        }
       ],
       "layout": {
        "height": 200,
        "margin": {
         "b": 0,
         "l": 0,
         "r": 0,
         "t": 0
        },
        "showlegend": false,
        "width": 300,
        "xaxis": {
         "showgrid": false,
         "showticklabels": false,
         "zeroline": false
        },
        "yaxis": {
         "showgrid": false,
         "showticklabels": false,
         "zeroline": false
        }
       }
      },
      "text/html": [
       "<div id=\"8d2518a3-0c48-4ef3-bf42-c167dcccfc91\" style=\"height: 200px; width: 300px;\" class=\"plotly-graph-div\"></div><script type=\"text/javascript\">require([\"plotly\"], function(Plotly) { window.PLOTLYENV=window.PLOTLYENV || {};window.PLOTLYENV.BASE_URL=\"https://plot.ly\";Plotly.newPlot(\"8d2518a3-0c48-4ef3-bf42-c167dcccfc91\", [{\"y\": [0.5, 1.0, null, 0.5, 0.0, null, 1.0, 1.0, null, 1.0, 0.0, null, 1.0, 0.5, null, 1.0, 1.0, null, 1.0, 0.0, null, 1.0, 0.5, null, 1.0, 0.0, null, 0.5, 0.0, null, 0.0, 0.0, null, 0.0, 0.5, null, 0.0, 0.0, null, 0.0, 0.5, null], \"hoverinfo\": \"none\", \"x\": [0.0, 0.25, null, 0.0, 0.25, null, 0.25, 0.5, null, 0.25, 0.25, null, 0.5, 0.375, null, 0.5, 0.75, null, 0.5, 0.75, null, 0.75, 1.0, null, 0.75, 0.75, null, 1.0, 0.75, null, 0.75, 0.5, null, 0.5, 0.375, null, 0.5, 0.25, null, 0.25, 0.375, null], \"line\": {\"width\": 2, \"color\": \"rgb(0, 0, 0)\"}, \"mode\": \"lines\"}, {\"textfont\": {\"color\": \"rgb(0, 0, 0)\"}, \"hoverinfo\": \"text\", \"mode\": \"markers\", \"text\": [], \"textposition\": \"hover\", \"marker\": {\"size\": 20, \"color\": \"rgb(255, 255, 255)\", \"line\": {\"width\": 2, \"color\": \"rgb(0, 0, 0)\"}}, \"y\": [0.5, 1.0, 1.0, 1.0, 0.5, 0.0], \"x\": [0.0, 0.25, 0.5, 0.75, 1.0, 0.75]}, {\"textfont\": {\"color\": \"rgb(0, 0, 0)\"}, \"hoverinfo\": \"text\", \"mode\": \"markers\", \"text\": [], \"textposition\": \"hover\", \"marker\": {\"size\": 20, \"color\": \"rgb(255, 0, 0)\", \"line\": {\"width\": 2, \"color\": \"rgb(0, 0, 0)\"}}, \"y\": [0.0, 0.0, 0.5], \"x\": [0.5, 0.25, 0.375]}], {\"yaxis\": {\"showticklabels\": false, \"showgrid\": false, \"zeroline\": false}, \"width\": 300, \"xaxis\": {\"showticklabels\": false, \"showgrid\": false, \"zeroline\": false}, \"height\": 200, \"showlegend\": false, \"margin\": {\"b\": 0, \"l\": 0, \"t\": 0, \"r\": 0}}, {\"showLink\": false, \"linkText\": \"Export to plot.ly\", \"displayModeBar\": false})});</script>"
      ],
      "text/vnd.plotly.v1+html": [
       "<div id=\"8d2518a3-0c48-4ef3-bf42-c167dcccfc91\" style=\"height: 200px; width: 300px;\" class=\"plotly-graph-div\"></div><script type=\"text/javascript\">require([\"plotly\"], function(Plotly) { window.PLOTLYENV=window.PLOTLYENV || {};window.PLOTLYENV.BASE_URL=\"https://plot.ly\";Plotly.newPlot(\"8d2518a3-0c48-4ef3-bf42-c167dcccfc91\", [{\"y\": [0.5, 1.0, null, 0.5, 0.0, null, 1.0, 1.0, null, 1.0, 0.0, null, 1.0, 0.5, null, 1.0, 1.0, null, 1.0, 0.0, null, 1.0, 0.5, null, 1.0, 0.0, null, 0.5, 0.0, null, 0.0, 0.0, null, 0.0, 0.5, null, 0.0, 0.0, null, 0.0, 0.5, null], \"hoverinfo\": \"none\", \"x\": [0.0, 0.25, null, 0.0, 0.25, null, 0.25, 0.5, null, 0.25, 0.25, null, 0.5, 0.375, null, 0.5, 0.75, null, 0.5, 0.75, null, 0.75, 1.0, null, 0.75, 0.75, null, 1.0, 0.75, null, 0.75, 0.5, null, 0.5, 0.375, null, 0.5, 0.25, null, 0.25, 0.375, null], \"line\": {\"width\": 2, \"color\": \"rgb(0, 0, 0)\"}, \"mode\": \"lines\"}, {\"textfont\": {\"color\": \"rgb(0, 0, 0)\"}, \"hoverinfo\": \"text\", \"mode\": \"markers\", \"text\": [], \"textposition\": \"hover\", \"marker\": {\"size\": 20, \"color\": \"rgb(255, 255, 255)\", \"line\": {\"width\": 2, \"color\": \"rgb(0, 0, 0)\"}}, \"y\": [0.5, 1.0, 1.0, 1.0, 0.5, 0.0], \"x\": [0.0, 0.25, 0.5, 0.75, 1.0, 0.75]}, {\"textfont\": {\"color\": \"rgb(0, 0, 0)\"}, \"hoverinfo\": \"text\", \"mode\": \"markers\", \"text\": [], \"textposition\": \"hover\", \"marker\": {\"size\": 20, \"color\": \"rgb(255, 0, 0)\", \"line\": {\"width\": 2, \"color\": \"rgb(0, 0, 0)\"}}, \"y\": [0.0, 0.0, 0.5], \"x\": [0.5, 0.25, 0.375]}], {\"yaxis\": {\"showticklabels\": false, \"showgrid\": false, \"zeroline\": false}, \"width\": 300, \"xaxis\": {\"showticklabels\": false, \"showgrid\": false, \"zeroline\": false}, \"height\": 200, \"showlegend\": false, \"margin\": {\"b\": 0, \"l\": 0, \"t\": 0, \"r\": 0}}, {\"showLink\": false, \"linkText\": \"Export to plot.ly\", \"displayModeBar\": false})});</script>"
      ]
     },
     "metadata": {},
     "output_type": "display_data"
    }
   ],
   "source": [
    "# sua resposta\n",
    "ug.node[6]['color'] = (255, 0, 0)\n",
    "ug.node[7]['color'] = (255, 0, 0)\n",
    "ug.node[8]['color'] = (255, 0, 0)\n",
    "\n",
    "sn.graph_height = 200\n",
    "sn.show_graph(ug)"
   ]
  },
  {
   "cell_type": "markdown",
   "metadata": {},
   "source": [
    "### Exercício 6\n",
    "\n",
    "Use cores para dar um exemplo de caminho no grafo `dg`."
   ]
  },
  {
   "cell_type": "code",
   "execution_count": 28,
   "metadata": {},
   "outputs": [
    {
     "data": {
      "application/vnd.plotly.v1+json": {
       "data": [
        {
         "hoverinfo": "none",
         "line": {
          "color": "rgb(0, 0, 0)",
          "width": 2
         },
         "mode": "lines",
         "x": [
          0,
          0.5,
          null,
          0.47125582190298587,
          0.4598111255150712,
          null,
          0.47125582190298587,
          0.43224973938327893,
          null,
          0,
          0.5,
          null,
          0.47125582190298587,
          0.43224973938327893,
          null,
          0.47125582190298587,
          0.4598111255150712,
          null,
          0.5,
          1,
          null,
          0.959349593495935,
          0.9236755056142125,
          null,
          0.959349593495935,
          0.9236755056142125,
          null,
          0.508130081300813,
          0.508130081300813,
          null,
          0.508130081300813,
          0.5276189243335042,
          null,
          1.008130081300813,
          1.008130081300813,
          null,
          1.008130081300813,
          1.027618924333504,
          null,
          0.491869918699187,
          0.491869918699187,
          null,
          0.491869918699187,
          0.47238107566649584,
          null,
          0.5,
          1,
          null,
          0.9818205855487822,
          0.9832979995705838,
          null,
          0.9818205855487822,
          0.9484352973114474,
          null,
          0.5,
          1,
          null,
          0.959349593495935,
          0.9236755056142125,
          null,
          0.959349593495935,
          0.9236755056142125,
          null,
          1,
          0,
          null,
          0.0363588289024356,
          0.0769823786827529,
          null,
          0.0363588289024356,
          0.05955102755318464,
          null,
          0.991869918699187,
          0.991869918699187,
          null,
          0.991869918699187,
          0.9723810756664958,
          null
         ],
         "y": [
          0.5,
          1,
          null,
          0.9712558219029859,
          0.9322497393832789,
          null,
          0.9712558219029859,
          0.9598111255150712,
          null,
          0.5,
          0,
          null,
          0.028744178097014128,
          0.04018887448492879,
          null,
          0.028744178097014128,
          0.06775026061672106,
          null,
          1,
          1,
          null,
          1,
          0.9805111569673088,
          null,
          1,
          1.0194888430326912,
          null,
          1,
          0,
          null,
          0.04065040650406504,
          0.0763244943857875,
          null,
          1,
          0,
          null,
          0.04065040650406504,
          0.0763244943857875,
          null,
          0,
          1,
          null,
          0.959349593495935,
          0.9236755056142125,
          null,
          0,
          1,
          null,
          0.9636411710975644,
          0.9230176213172472,
          null,
          0.9636411710975644,
          0.9404489724468154,
          null,
          0,
          0,
          null,
          0,
          -0.01948884303269118,
          null,
          0,
          0.01948884303269118,
          null,
          0,
          0.5,
          null,
          0.4818205855487822,
          0.4832979995705839,
          null,
          0.4818205855487822,
          0.4484352973114474,
          null,
          0,
          1,
          null,
          0.959349593495935,
          0.9236755056142125,
          null
         ]
        },
        {
         "hoverinfo": "text",
         "marker": {
          "color": "rgb(255, 255, 255)",
          "line": {
           "color": "rgb(0, 0, 0)",
           "width": 2
          },
          "size": 20
         },
         "mode": "markers",
         "text": [],
         "textfont": {
          "color": "rgb(0, 0, 0)"
         },
         "textposition": "hover",
         "x": [
          0.5
         ],
         "y": [
          0
         ]
        },
        {
         "hoverinfo": "text",
         "marker": {
          "color": "rgb(0, 255, 0)",
          "line": {
           "color": "rgb(0, 0, 0)",
           "width": 2
          },
          "size": 20
         },
         "mode": "markers",
         "text": [],
         "textfont": {
          "color": "rgb(0, 0, 0)"
         },
         "textposition": "hover",
         "x": [
          0,
          0.5,
          1,
          1
         ],
         "y": [
          0.5,
          1,
          1,
          0
         ]
        }
       ],
       "layout": {
        "height": 300,
        "margin": {
         "b": 0,
         "l": 0,
         "r": 0,
         "t": 0
        },
        "showlegend": false,
        "width": 300,
        "xaxis": {
         "showgrid": false,
         "showticklabels": false,
         "zeroline": false
        },
        "yaxis": {
         "showgrid": false,
         "showticklabels": false,
         "zeroline": false
        }
       }
      },
      "text/html": [
       "<div id=\"829ec7ce-7da1-461f-98fb-8f4fcff4efa7\" style=\"height: 300px; width: 300px;\" class=\"plotly-graph-div\"></div><script type=\"text/javascript\">require([\"plotly\"], function(Plotly) { window.PLOTLYENV=window.PLOTLYENV || {};window.PLOTLYENV.BASE_URL=\"https://plot.ly\";Plotly.newPlot(\"829ec7ce-7da1-461f-98fb-8f4fcff4efa7\", [{\"y\": [0.5, 1.0, null, 0.9712558219029859, 0.9322497393832789, null, 0.9712558219029859, 0.9598111255150712, null, 0.5, 0.0, null, 0.028744178097014128, 0.04018887448492879, null, 0.028744178097014128, 0.06775026061672106, null, 1.0, 1.0, null, 1.0, 0.9805111569673088, null, 1.0, 1.0194888430326912, null, 1.0, 0.0, null, 0.04065040650406504, 0.0763244943857875, null, 1.0, 0.0, null, 0.04065040650406504, 0.0763244943857875, null, 0.0, 1.0, null, 0.959349593495935, 0.9236755056142125, null, 0.0, 1.0, null, 0.9636411710975644, 0.9230176213172472, null, 0.9636411710975644, 0.9404489724468154, null, 0.0, 0.0, null, 0.0, -0.01948884303269118, null, 0.0, 0.01948884303269118, null, 0.0, 0.5, null, 0.4818205855487822, 0.4832979995705839, null, 0.4818205855487822, 0.4484352973114474, null, 0.0, 1.0, null, 0.959349593495935, 0.9236755056142125, null], \"hoverinfo\": \"none\", \"x\": [0.0, 0.5, null, 0.47125582190298587, 0.4598111255150712, null, 0.47125582190298587, 0.43224973938327893, null, 0.0, 0.5, null, 0.47125582190298587, 0.43224973938327893, null, 0.47125582190298587, 0.4598111255150712, null, 0.5, 1.0, null, 0.959349593495935, 0.9236755056142125, null, 0.959349593495935, 0.9236755056142125, null, 0.508130081300813, 0.508130081300813, null, 0.508130081300813, 0.5276189243335042, null, 1.008130081300813, 1.008130081300813, null, 1.008130081300813, 1.027618924333504, null, 0.491869918699187, 0.491869918699187, null, 0.491869918699187, 0.47238107566649584, null, 0.5, 1.0, null, 0.9818205855487822, 0.9832979995705838, null, 0.9818205855487822, 0.9484352973114474, null, 0.5, 1.0, null, 0.959349593495935, 0.9236755056142125, null, 0.959349593495935, 0.9236755056142125, null, 1.0, 0.0, null, 0.0363588289024356, 0.0769823786827529, null, 0.0363588289024356, 0.05955102755318464, null, 0.991869918699187, 0.991869918699187, null, 0.991869918699187, 0.9723810756664958, null], \"line\": {\"width\": 2, \"color\": \"rgb(0, 0, 0)\"}, \"mode\": \"lines\"}, {\"textfont\": {\"color\": \"rgb(0, 0, 0)\"}, \"hoverinfo\": \"text\", \"mode\": \"markers\", \"text\": [], \"textposition\": \"hover\", \"marker\": {\"size\": 20, \"color\": \"rgb(255, 255, 255)\", \"line\": {\"width\": 2, \"color\": \"rgb(0, 0, 0)\"}}, \"y\": [0.0], \"x\": [0.5]}, {\"textfont\": {\"color\": \"rgb(0, 0, 0)\"}, \"hoverinfo\": \"text\", \"mode\": \"markers\", \"text\": [], \"textposition\": \"hover\", \"marker\": {\"size\": 20, \"color\": \"rgb(0, 255, 0)\", \"line\": {\"width\": 2, \"color\": \"rgb(0, 0, 0)\"}}, \"y\": [0.5, 1.0, 1.0, 0.0], \"x\": [0.0, 0.5, 1.0, 1.0]}], {\"yaxis\": {\"showticklabels\": false, \"showgrid\": false, \"zeroline\": false}, \"width\": 300, \"xaxis\": {\"showticklabels\": false, \"showgrid\": false, \"zeroline\": false}, \"height\": 300, \"showlegend\": false, \"margin\": {\"b\": 0, \"l\": 0, \"t\": 0, \"r\": 0}}, {\"showLink\": false, \"linkText\": \"Export to plot.ly\", \"displayModeBar\": false})});</script>"
      ],
      "text/vnd.plotly.v1+html": [
       "<div id=\"829ec7ce-7da1-461f-98fb-8f4fcff4efa7\" style=\"height: 300px; width: 300px;\" class=\"plotly-graph-div\"></div><script type=\"text/javascript\">require([\"plotly\"], function(Plotly) { window.PLOTLYENV=window.PLOTLYENV || {};window.PLOTLYENV.BASE_URL=\"https://plot.ly\";Plotly.newPlot(\"829ec7ce-7da1-461f-98fb-8f4fcff4efa7\", [{\"y\": [0.5, 1.0, null, 0.9712558219029859, 0.9322497393832789, null, 0.9712558219029859, 0.9598111255150712, null, 0.5, 0.0, null, 0.028744178097014128, 0.04018887448492879, null, 0.028744178097014128, 0.06775026061672106, null, 1.0, 1.0, null, 1.0, 0.9805111569673088, null, 1.0, 1.0194888430326912, null, 1.0, 0.0, null, 0.04065040650406504, 0.0763244943857875, null, 1.0, 0.0, null, 0.04065040650406504, 0.0763244943857875, null, 0.0, 1.0, null, 0.959349593495935, 0.9236755056142125, null, 0.0, 1.0, null, 0.9636411710975644, 0.9230176213172472, null, 0.9636411710975644, 0.9404489724468154, null, 0.0, 0.0, null, 0.0, -0.01948884303269118, null, 0.0, 0.01948884303269118, null, 0.0, 0.5, null, 0.4818205855487822, 0.4832979995705839, null, 0.4818205855487822, 0.4484352973114474, null, 0.0, 1.0, null, 0.959349593495935, 0.9236755056142125, null], \"hoverinfo\": \"none\", \"x\": [0.0, 0.5, null, 0.47125582190298587, 0.4598111255150712, null, 0.47125582190298587, 0.43224973938327893, null, 0.0, 0.5, null, 0.47125582190298587, 0.43224973938327893, null, 0.47125582190298587, 0.4598111255150712, null, 0.5, 1.0, null, 0.959349593495935, 0.9236755056142125, null, 0.959349593495935, 0.9236755056142125, null, 0.508130081300813, 0.508130081300813, null, 0.508130081300813, 0.5276189243335042, null, 1.008130081300813, 1.008130081300813, null, 1.008130081300813, 1.027618924333504, null, 0.491869918699187, 0.491869918699187, null, 0.491869918699187, 0.47238107566649584, null, 0.5, 1.0, null, 0.9818205855487822, 0.9832979995705838, null, 0.9818205855487822, 0.9484352973114474, null, 0.5, 1.0, null, 0.959349593495935, 0.9236755056142125, null, 0.959349593495935, 0.9236755056142125, null, 1.0, 0.0, null, 0.0363588289024356, 0.0769823786827529, null, 0.0363588289024356, 0.05955102755318464, null, 0.991869918699187, 0.991869918699187, null, 0.991869918699187, 0.9723810756664958, null], \"line\": {\"width\": 2, \"color\": \"rgb(0, 0, 0)\"}, \"mode\": \"lines\"}, {\"textfont\": {\"color\": \"rgb(0, 0, 0)\"}, \"hoverinfo\": \"text\", \"mode\": \"markers\", \"text\": [], \"textposition\": \"hover\", \"marker\": {\"size\": 20, \"color\": \"rgb(255, 255, 255)\", \"line\": {\"width\": 2, \"color\": \"rgb(0, 0, 0)\"}}, \"y\": [0.0], \"x\": [0.5]}, {\"textfont\": {\"color\": \"rgb(0, 0, 0)\"}, \"hoverinfo\": \"text\", \"mode\": \"markers\", \"text\": [], \"textposition\": \"hover\", \"marker\": {\"size\": 20, \"color\": \"rgb(0, 255, 0)\", \"line\": {\"width\": 2, \"color\": \"rgb(0, 0, 0)\"}}, \"y\": [0.5, 1.0, 1.0, 0.0], \"x\": [0.0, 0.5, 1.0, 1.0]}], {\"yaxis\": {\"showticklabels\": false, \"showgrid\": false, \"zeroline\": false}, \"width\": 300, \"xaxis\": {\"showticklabels\": false, \"showgrid\": false, \"zeroline\": false}, \"height\": 300, \"showlegend\": false, \"margin\": {\"b\": 0, \"l\": 0, \"t\": 0, \"r\": 0}}, {\"showLink\": false, \"linkText\": \"Export to plot.ly\", \"displayModeBar\": false})});</script>"
      ]
     },
     "metadata": {},
     "output_type": "display_data"
    }
   ],
   "source": [
    "# sua resposta\n",
    "dg.node[0]['color'] = (0, 255, 0)\n",
    "dg.node[1]['color'] = (0, 255, 0)\n",
    "dg.node[2]['color'] = (0, 255, 0)\n",
    "dg.node[4]['color'] = (0, 255, 0)\n",
    "\n",
    "sn.graph_width = 300\n",
    "sn.graph_height = 300\n",
    "sn.show_graph(dg)"
   ]
  },
  {
   "cell_type": "markdown",
   "metadata": {},
   "source": [
    "## Posicionamento dos nós\n",
    "\n",
    "Para encerrar, vamos carregar o grafo do encontro anterior. O próprio arquivo atribui `label` aos nós, portanto não é necessário criá-los."
   ]
  },
  {
   "cell_type": "code",
   "execution_count": 18,
   "metadata": {},
   "outputs": [
    {
     "data": {
      "application/vnd.plotly.v1+json": {
       "data": [
        {
         "hoverinfo": "none",
         "line": {
          "color": "rgb(0, 0, 0)",
          "width": 2
         },
         "mode": "lines",
         "x": [
          0.4963144963144963,
          0.05405405405405406,
          null,
          0.4963144963144963,
          0.10319410319410319,
          null,
          0.4963144963144963,
          0.25061425061425063,
          null,
          0.4963144963144963,
          0.9115479115479116,
          null,
          0.4963144963144963,
          0.9877149877149877,
          null,
          0.4963144963144963,
          0.941031941031941,
          null,
          0.4963144963144963,
          0.8304668304668305,
          null,
          0.3022113022113022,
          0.4004914004914005,
          null,
          0.3022113022113022,
          0.742014742014742,
          null,
          0.3022113022113022,
          0.009828009828009828,
          null,
          0.3022113022113022,
          0.10319410319410319,
          null,
          0.3022113022113022,
          1,
          null,
          0.15233415233415235,
          0.6953316953316954,
          null,
          0.15233415233415235,
          0.742014742014742,
          null,
          0.15233415233415235,
          1,
          null,
          0.05405405405405406,
          0,
          null,
          0.05405405405405406,
          0.25061425061425063,
          null,
          0.05405405405405406,
          0.597051597051597,
          null,
          0.05405405405405406,
          0.9115479115479116,
          null,
          0.05405405405405406,
          0.9877149877149877,
          null,
          0.05405405405405406,
          0.941031941031941,
          null,
          0.05405405405405406,
          0.8304668304668305,
          null,
          0,
          0.597051597051597,
          null,
          0,
          0.25061425061425063,
          null,
          0.009828009828009828,
          0.6953316953316954,
          null,
          0.009828009828009828,
          0.742014742014742,
          null,
          0.009828009828009828,
          1,
          null,
          0.009828009828009828,
          0.4004914004914005,
          null,
          0.10319410319410319,
          0.742014742014742,
          null,
          0.10319410319410319,
          0.9115479115479116,
          null,
          0.25061425061425063,
          0.9115479115479116,
          null,
          0.25061425061425063,
          0.9877149877149877,
          null,
          0.25061425061425063,
          0.8304668304668305,
          null,
          0.4004914004914005,
          1,
          null,
          0.597051597051597,
          0.9877149877149877,
          null,
          0.742014742014742,
          0.6953316953316954,
          null,
          0.742014742014742,
          1,
          null,
          0.9115479115479116,
          0.9877149877149877,
          null,
          0.9115479115479116,
          0.941031941031941,
          null,
          0.9877149877149877,
          0.8304668304668305,
          null,
          1,
          0.6953316953316954,
          null
         ],
         "y": [
          1,
          0.7213930348258706,
          null,
          1,
          0.20149253731343286,
          null,
          1,
          0.07213930348258701,
          null,
          1,
          0.20149253731343286,
          null,
          1,
          0.3731343283582089,
          null,
          1,
          0.7238805970149254,
          null,
          1,
          0.8706467661691543,
          null,
          0.9701492537313433,
          0,
          null,
          0.9701492537313433,
          0.07462686567164178,
          null,
          0.9701492537313433,
          0.37064676616915426,
          null,
          0.9701492537313433,
          0.20149253731343286,
          null,
          0.9701492537313433,
          0.5472636815920398,
          null,
          0.8731343283582089,
          0.9676616915422885,
          null,
          0.8731343283582089,
          0.07462686567164178,
          null,
          0.8731343283582089,
          0.5472636815920398,
          null,
          0.7213930348258706,
          0.5447761194029851,
          null,
          0.7213930348258706,
          0.07213930348258701,
          null,
          0.7213930348258706,
          0,
          null,
          0.7213930348258706,
          0.20149253731343286,
          null,
          0.7213930348258706,
          0.3731343283582089,
          null,
          0.7213930348258706,
          0.7238805970149254,
          null,
          0.7213930348258706,
          0.8706467661691543,
          null,
          0.5447761194029851,
          0,
          null,
          0.5447761194029851,
          0.07213930348258701,
          null,
          0.37064676616915426,
          0.9676616915422885,
          null,
          0.37064676616915426,
          0.07462686567164178,
          null,
          0.37064676616915426,
          0.5472636815920398,
          null,
          0.37064676616915426,
          0,
          null,
          0.20149253731343286,
          0.07462686567164178,
          null,
          0.20149253731343286,
          0.20149253731343286,
          null,
          0.07213930348258701,
          0.20149253731343286,
          null,
          0.07213930348258701,
          0.3731343283582089,
          null,
          0.07213930348258701,
          0.8706467661691543,
          null,
          0,
          0.5472636815920398,
          null,
          0,
          0.3731343283582089,
          null,
          0.07462686567164178,
          0.9676616915422885,
          null,
          0.07462686567164178,
          0.5472636815920398,
          null,
          0.20149253731343286,
          0.3731343283582089,
          null,
          0.20149253731343286,
          0.7238805970149254,
          null,
          0.3731343283582089,
          0.8706467661691543,
          null,
          0.5472636815920398,
          0.9676616915422885,
          null
         ]
        },
        {
         "hoverinfo": "text",
         "marker": {
          "color": "rgb(255, 255, 255)",
          "line": {
           "color": "rgb(0, 0, 0)",
           "width": 2
          },
          "size": 20
         },
         "mode": "markers",
         "text": [
          "Rogerio",
          "Roberto",
          "Renato",
          "Larissa",
          "Jorge",
          "Sueli",
          "Conrado",
          "Ricardo",
          "Pamela",
          "Fabio",
          "Paulo",
          "William",
          "Tiago",
          "Sandra",
          "Patrick",
          "Jose",
          "Caio"
         ],
         "textfont": {
          "color": "rgb(0, 0, 0)"
         },
         "textposition": "hover",
         "x": [
          0.4963144963144963,
          0.3022113022113022,
          0.15233415233415235,
          0.05405405405405406,
          0,
          0.009828009828009828,
          0.10319410319410319,
          0.25061425061425063,
          0.4004914004914005,
          0.597051597051597,
          0.742014742014742,
          0.9115479115479116,
          0.9877149877149877,
          1,
          0.941031941031941,
          0.8304668304668305,
          0.6953316953316954
         ],
         "y": [
          1,
          0.9701492537313433,
          0.8731343283582089,
          0.7213930348258706,
          0.5447761194029851,
          0.37064676616915426,
          0.20149253731343286,
          0.07213930348258701,
          0,
          0,
          0.07462686567164178,
          0.20149253731343286,
          0.3731343283582089,
          0.5472636815920398,
          0.7238805970149254,
          0.8706467661691543,
          0.9676616915422885
         ]
        }
       ],
       "layout": {
        "height": 450,
        "margin": {
         "b": 0,
         "l": 0,
         "r": 0,
         "t": 0
        },
        "showlegend": false,
        "width": 450,
        "xaxis": {
         "showgrid": false,
         "showticklabels": false,
         "zeroline": false
        },
        "yaxis": {
         "showgrid": false,
         "showticklabels": false,
         "zeroline": false
        }
       }
      },
      "text/html": [
       "<div id=\"699d873c-24d3-4a04-ba7f-e37ae762b81e\" style=\"height: 450px; width: 450px;\" class=\"plotly-graph-div\"></div><script type=\"text/javascript\">require([\"plotly\"], function(Plotly) { window.PLOTLYENV=window.PLOTLYENV || {};window.PLOTLYENV.BASE_URL=\"https://plot.ly\";Plotly.newPlot(\"699d873c-24d3-4a04-ba7f-e37ae762b81e\", [{\"y\": [1.0, 0.7213930348258706, null, 1.0, 0.20149253731343286, null, 1.0, 0.07213930348258701, null, 1.0, 0.20149253731343286, null, 1.0, 0.3731343283582089, null, 1.0, 0.7238805970149254, null, 1.0, 0.8706467661691543, null, 0.9701492537313433, 0.0, null, 0.9701492537313433, 0.07462686567164178, null, 0.9701492537313433, 0.37064676616915426, null, 0.9701492537313433, 0.20149253731343286, null, 0.9701492537313433, 0.5472636815920398, null, 0.8731343283582089, 0.9676616915422885, null, 0.8731343283582089, 0.07462686567164178, null, 0.8731343283582089, 0.5472636815920398, null, 0.7213930348258706, 0.5447761194029851, null, 0.7213930348258706, 0.07213930348258701, null, 0.7213930348258706, 0.0, null, 0.7213930348258706, 0.20149253731343286, null, 0.7213930348258706, 0.3731343283582089, null, 0.7213930348258706, 0.7238805970149254, null, 0.7213930348258706, 0.8706467661691543, null, 0.5447761194029851, 0.0, null, 0.5447761194029851, 0.07213930348258701, null, 0.37064676616915426, 0.9676616915422885, null, 0.37064676616915426, 0.07462686567164178, null, 0.37064676616915426, 0.5472636815920398, null, 0.37064676616915426, 0.0, null, 0.20149253731343286, 0.07462686567164178, null, 0.20149253731343286, 0.20149253731343286, null, 0.07213930348258701, 0.20149253731343286, null, 0.07213930348258701, 0.3731343283582089, null, 0.07213930348258701, 0.8706467661691543, null, 0.0, 0.5472636815920398, null, 0.0, 0.3731343283582089, null, 0.07462686567164178, 0.9676616915422885, null, 0.07462686567164178, 0.5472636815920398, null, 0.20149253731343286, 0.3731343283582089, null, 0.20149253731343286, 0.7238805970149254, null, 0.3731343283582089, 0.8706467661691543, null, 0.5472636815920398, 0.9676616915422885, null], \"hoverinfo\": \"none\", \"x\": [0.4963144963144963, 0.05405405405405406, null, 0.4963144963144963, 0.10319410319410319, null, 0.4963144963144963, 0.25061425061425063, null, 0.4963144963144963, 0.9115479115479116, null, 0.4963144963144963, 0.9877149877149877, null, 0.4963144963144963, 0.941031941031941, null, 0.4963144963144963, 0.8304668304668305, null, 0.3022113022113022, 0.4004914004914005, null, 0.3022113022113022, 0.742014742014742, null, 0.3022113022113022, 0.009828009828009828, null, 0.3022113022113022, 0.10319410319410319, null, 0.3022113022113022, 1.0, null, 0.15233415233415235, 0.6953316953316954, null, 0.15233415233415235, 0.742014742014742, null, 0.15233415233415235, 1.0, null, 0.05405405405405406, 0.0, null, 0.05405405405405406, 0.25061425061425063, null, 0.05405405405405406, 0.597051597051597, null, 0.05405405405405406, 0.9115479115479116, null, 0.05405405405405406, 0.9877149877149877, null, 0.05405405405405406, 0.941031941031941, null, 0.05405405405405406, 0.8304668304668305, null, 0.0, 0.597051597051597, null, 0.0, 0.25061425061425063, null, 0.009828009828009828, 0.6953316953316954, null, 0.009828009828009828, 0.742014742014742, null, 0.009828009828009828, 1.0, null, 0.009828009828009828, 0.4004914004914005, null, 0.10319410319410319, 0.742014742014742, null, 0.10319410319410319, 0.9115479115479116, null, 0.25061425061425063, 0.9115479115479116, null, 0.25061425061425063, 0.9877149877149877, null, 0.25061425061425063, 0.8304668304668305, null, 0.4004914004914005, 1.0, null, 0.597051597051597, 0.9877149877149877, null, 0.742014742014742, 0.6953316953316954, null, 0.742014742014742, 1.0, null, 0.9115479115479116, 0.9877149877149877, null, 0.9115479115479116, 0.941031941031941, null, 0.9877149877149877, 0.8304668304668305, null, 1.0, 0.6953316953316954, null], \"line\": {\"width\": 2, \"color\": \"rgb(0, 0, 0)\"}, \"mode\": \"lines\"}, {\"textfont\": {\"color\": \"rgb(0, 0, 0)\"}, \"hoverinfo\": \"text\", \"mode\": \"markers\", \"text\": [\"Rogerio\", \"Roberto\", \"Renato\", \"Larissa\", \"Jorge\", \"Sueli\", \"Conrado\", \"Ricardo\", \"Pamela\", \"Fabio\", \"Paulo\", \"William\", \"Tiago\", \"Sandra\", \"Patrick\", \"Jose\", \"Caio\"], \"textposition\": \"hover\", \"marker\": {\"size\": 20, \"color\": \"rgb(255, 255, 255)\", \"line\": {\"width\": 2, \"color\": \"rgb(0, 0, 0)\"}}, \"y\": [1.0, 0.9701492537313433, 0.8731343283582089, 0.7213930348258706, 0.5447761194029851, 0.37064676616915426, 0.20149253731343286, 0.07213930348258701, 0.0, 0.0, 0.07462686567164178, 0.20149253731343286, 0.3731343283582089, 0.5472636815920398, 0.7238805970149254, 0.8706467661691543, 0.9676616915422885], \"x\": [0.4963144963144963, 0.3022113022113022, 0.15233415233415235, 0.05405405405405406, 0.0, 0.009828009828009828, 0.10319410319410319, 0.25061425061425063, 0.4004914004914005, 0.597051597051597, 0.742014742014742, 0.9115479115479116, 0.9877149877149877, 1.0, 0.941031941031941, 0.8304668304668305, 0.6953316953316954]}], {\"yaxis\": {\"showticklabels\": false, \"showgrid\": false, \"zeroline\": false}, \"width\": 450, \"xaxis\": {\"showticklabels\": false, \"showgrid\": false, \"zeroline\": false}, \"height\": 450, \"showlegend\": false, \"margin\": {\"b\": 0, \"l\": 0, \"t\": 0, \"r\": 0}}, {\"showLink\": false, \"linkText\": \"Export to plot.ly\", \"displayModeBar\": false})});</script>"
      ],
      "text/vnd.plotly.v1+html": [
       "<div id=\"699d873c-24d3-4a04-ba7f-e37ae762b81e\" style=\"height: 450px; width: 450px;\" class=\"plotly-graph-div\"></div><script type=\"text/javascript\">require([\"plotly\"], function(Plotly) { window.PLOTLYENV=window.PLOTLYENV || {};window.PLOTLYENV.BASE_URL=\"https://plot.ly\";Plotly.newPlot(\"699d873c-24d3-4a04-ba7f-e37ae762b81e\", [{\"y\": [1.0, 0.7213930348258706, null, 1.0, 0.20149253731343286, null, 1.0, 0.07213930348258701, null, 1.0, 0.20149253731343286, null, 1.0, 0.3731343283582089, null, 1.0, 0.7238805970149254, null, 1.0, 0.8706467661691543, null, 0.9701492537313433, 0.0, null, 0.9701492537313433, 0.07462686567164178, null, 0.9701492537313433, 0.37064676616915426, null, 0.9701492537313433, 0.20149253731343286, null, 0.9701492537313433, 0.5472636815920398, null, 0.8731343283582089, 0.9676616915422885, null, 0.8731343283582089, 0.07462686567164178, null, 0.8731343283582089, 0.5472636815920398, null, 0.7213930348258706, 0.5447761194029851, null, 0.7213930348258706, 0.07213930348258701, null, 0.7213930348258706, 0.0, null, 0.7213930348258706, 0.20149253731343286, null, 0.7213930348258706, 0.3731343283582089, null, 0.7213930348258706, 0.7238805970149254, null, 0.7213930348258706, 0.8706467661691543, null, 0.5447761194029851, 0.0, null, 0.5447761194029851, 0.07213930348258701, null, 0.37064676616915426, 0.9676616915422885, null, 0.37064676616915426, 0.07462686567164178, null, 0.37064676616915426, 0.5472636815920398, null, 0.37064676616915426, 0.0, null, 0.20149253731343286, 0.07462686567164178, null, 0.20149253731343286, 0.20149253731343286, null, 0.07213930348258701, 0.20149253731343286, null, 0.07213930348258701, 0.3731343283582089, null, 0.07213930348258701, 0.8706467661691543, null, 0.0, 0.5472636815920398, null, 0.0, 0.3731343283582089, null, 0.07462686567164178, 0.9676616915422885, null, 0.07462686567164178, 0.5472636815920398, null, 0.20149253731343286, 0.3731343283582089, null, 0.20149253731343286, 0.7238805970149254, null, 0.3731343283582089, 0.8706467661691543, null, 0.5472636815920398, 0.9676616915422885, null], \"hoverinfo\": \"none\", \"x\": [0.4963144963144963, 0.05405405405405406, null, 0.4963144963144963, 0.10319410319410319, null, 0.4963144963144963, 0.25061425061425063, null, 0.4963144963144963, 0.9115479115479116, null, 0.4963144963144963, 0.9877149877149877, null, 0.4963144963144963, 0.941031941031941, null, 0.4963144963144963, 0.8304668304668305, null, 0.3022113022113022, 0.4004914004914005, null, 0.3022113022113022, 0.742014742014742, null, 0.3022113022113022, 0.009828009828009828, null, 0.3022113022113022, 0.10319410319410319, null, 0.3022113022113022, 1.0, null, 0.15233415233415235, 0.6953316953316954, null, 0.15233415233415235, 0.742014742014742, null, 0.15233415233415235, 1.0, null, 0.05405405405405406, 0.0, null, 0.05405405405405406, 0.25061425061425063, null, 0.05405405405405406, 0.597051597051597, null, 0.05405405405405406, 0.9115479115479116, null, 0.05405405405405406, 0.9877149877149877, null, 0.05405405405405406, 0.941031941031941, null, 0.05405405405405406, 0.8304668304668305, null, 0.0, 0.597051597051597, null, 0.0, 0.25061425061425063, null, 0.009828009828009828, 0.6953316953316954, null, 0.009828009828009828, 0.742014742014742, null, 0.009828009828009828, 1.0, null, 0.009828009828009828, 0.4004914004914005, null, 0.10319410319410319, 0.742014742014742, null, 0.10319410319410319, 0.9115479115479116, null, 0.25061425061425063, 0.9115479115479116, null, 0.25061425061425063, 0.9877149877149877, null, 0.25061425061425063, 0.8304668304668305, null, 0.4004914004914005, 1.0, null, 0.597051597051597, 0.9877149877149877, null, 0.742014742014742, 0.6953316953316954, null, 0.742014742014742, 1.0, null, 0.9115479115479116, 0.9877149877149877, null, 0.9115479115479116, 0.941031941031941, null, 0.9877149877149877, 0.8304668304668305, null, 1.0, 0.6953316953316954, null], \"line\": {\"width\": 2, \"color\": \"rgb(0, 0, 0)\"}, \"mode\": \"lines\"}, {\"textfont\": {\"color\": \"rgb(0, 0, 0)\"}, \"hoverinfo\": \"text\", \"mode\": \"markers\", \"text\": [\"Rogerio\", \"Roberto\", \"Renato\", \"Larissa\", \"Jorge\", \"Sueli\", \"Conrado\", \"Ricardo\", \"Pamela\", \"Fabio\", \"Paulo\", \"William\", \"Tiago\", \"Sandra\", \"Patrick\", \"Jose\", \"Caio\"], \"textposition\": \"hover\", \"marker\": {\"size\": 20, \"color\": \"rgb(255, 255, 255)\", \"line\": {\"width\": 2, \"color\": \"rgb(0, 0, 0)\"}}, \"y\": [1.0, 0.9701492537313433, 0.8731343283582089, 0.7213930348258706, 0.5447761194029851, 0.37064676616915426, 0.20149253731343286, 0.07213930348258701, 0.0, 0.0, 0.07462686567164178, 0.20149253731343286, 0.3731343283582089, 0.5472636815920398, 0.7238805970149254, 0.8706467661691543, 0.9676616915422885], \"x\": [0.4963144963144963, 0.3022113022113022, 0.15233415233415235, 0.05405405405405406, 0.0, 0.009828009828009828, 0.10319410319410319, 0.25061425061425063, 0.4004914004914005, 0.597051597051597, 0.742014742014742, 0.9115479115479116, 0.9877149877149877, 1.0, 0.941031941031941, 0.8304668304668305, 0.6953316953316954]}], {\"yaxis\": {\"showticklabels\": false, \"showgrid\": false, \"zeroline\": false}, \"width\": 450, \"xaxis\": {\"showticklabels\": false, \"showgrid\": false, \"zeroline\": false}, \"height\": 450, \"showlegend\": false, \"margin\": {\"b\": 0, \"l\": 0, \"t\": 0, \"r\": 0}}, {\"showLink\": false, \"linkText\": \"Export to plot.ly\", \"displayModeBar\": false})});</script>"
      ]
     },
     "metadata": {},
     "output_type": "display_data"
    }
   ],
   "source": [
    "sn.graph_width = 450\n",
    "sn.graph_height = 450\n",
    "\n",
    "sn.node_label_position = 'hover' # easter egg!\n",
    "\n",
    "g = sn.load_graph('1-introducao.gml', has_pos=True)\n",
    "\n",
    "sn.show_graph(g, nlab=True)"
   ]
  },
  {
   "cell_type": "markdown",
   "metadata": {},
   "source": [
    "Usamos o argumento `has_pos` para indicar que os atributos `x` e `y` devem ser usados para posicionar os nós. Esse argumento é `False` por padrão, pois nem todo arquivo atribui essas coordenadas.\n",
    "\n",
    "Se elas não forem usadas, a visualização usa um tipo de [force-directed graph drawing](https://en.wikipedia.org/wiki/Force-directed_graph_drawing)."
   ]
  },
  {
   "cell_type": "code",
   "execution_count": 19,
   "metadata": {},
   "outputs": [
    {
     "data": {
      "application/vnd.plotly.v1+json": {
       "data": [
        {
         "hoverinfo": "none",
         "line": {
          "color": "rgb(0, 0, 0)",
          "width": 2
         },
         "mode": "lines",
         "x": [
          0.6963667818691124,
          0.46429382831570243,
          null,
          0.6963667818691124,
          0.858924310132355,
          null,
          0.6963667818691124,
          0.34281501718770835,
          null,
          0.6963667818691124,
          0.7912875838573369,
          null,
          0.6963667818691124,
          0.4466122116845377,
          null,
          0.6963667818691124,
          1,
          null,
          0.6963667818691124,
          0.6389607496154484,
          null,
          0.8649923170835085,
          0.8354785071752097,
          null,
          0.8649923170835085,
          0.5057067562370274,
          null,
          0.8649923170835085,
          0.635496447999523,
          null,
          0.8649923170835085,
          0.858924310132355,
          null,
          0.8649923170835085,
          0.470255763182538,
          null,
          0.09345782836897164,
          0.2625321870452481,
          null,
          0.09345782836897164,
          0.5057067562370274,
          null,
          0.09345782836897164,
          0.470255763182538,
          null,
          0.46429382831570243,
          0.09324917557859762,
          null,
          0.46429382831570243,
          0.34281501718770835,
          null,
          0.46429382831570243,
          0,
          null,
          0.46429382831570243,
          0.7912875838573369,
          null,
          0.46429382831570243,
          0.4466122116845377,
          null,
          0.46429382831570243,
          1,
          null,
          0.46429382831570243,
          0.6389607496154484,
          null,
          0.09324917557859762,
          0,
          null,
          0.09324917557859762,
          0.34281501718770835,
          null,
          0.635496447999523,
          0.2625321870452481,
          null,
          0.635496447999523,
          0.5057067562370274,
          null,
          0.635496447999523,
          0.470255763182538,
          null,
          0.635496447999523,
          0.8354785071752097,
          null,
          0.858924310132355,
          0.5057067562370274,
          null,
          0.858924310132355,
          0.7912875838573369,
          null,
          0.34281501718770835,
          0.7912875838573369,
          null,
          0.34281501718770835,
          0.4466122116845377,
          null,
          0.34281501718770835,
          0.6389607496154484,
          null,
          0.8354785071752097,
          0.470255763182538,
          null,
          0,
          0.4466122116845377,
          null,
          0.5057067562370274,
          0.2625321870452481,
          null,
          0.5057067562370274,
          0.470255763182538,
          null,
          0.7912875838573369,
          0.4466122116845377,
          null,
          0.7912875838573369,
          1,
          null,
          0.4466122116845377,
          0.6389607496154484,
          null,
          0.470255763182538,
          0.2625321870452481,
          null
         ],
         "y": [
          0.7819773759613629,
          0.8435472309258087,
          null,
          0.7819773759613629,
          0.4812632370069426,
          null,
          0.7819773759613629,
          0.9455410879305093,
          null,
          0.7819773759613629,
          0.8783336441383809,
          null,
          0.7819773759613629,
          1,
          null,
          0.7819773759613629,
          0.8337382591636127,
          null,
          0.7819773759613629,
          0.993063506031087,
          null,
          0.16760960567501743,
          0.04576396764852051,
          null,
          0.16760960567501743,
          0.1875480229992109,
          null,
          0.16760960567501743,
          0.010040942054924947,
          null,
          0.16760960567501743,
          0.4812632370069426,
          null,
          0.16760960567501743,
          0,
          null,
          0.12369312130046371,
          0.03261391737438196,
          null,
          0.12369312130046371,
          0.1875480229992109,
          null,
          0.12369312130046371,
          0,
          null,
          0.8435472309258087,
          0.904335232885387,
          null,
          0.8435472309258087,
          0.9455410879305093,
          null,
          0.8435472309258087,
          0.8104712898257558,
          null,
          0.8435472309258087,
          0.8783336441383809,
          null,
          0.8435472309258087,
          1,
          null,
          0.8435472309258087,
          0.8337382591636127,
          null,
          0.8435472309258087,
          0.993063506031087,
          null,
          0.904335232885387,
          0.8104712898257558,
          null,
          0.904335232885387,
          0.9455410879305093,
          null,
          0.010040942054924947,
          0.03261391737438196,
          null,
          0.010040942054924947,
          0.1875480229992109,
          null,
          0.010040942054924947,
          0,
          null,
          0.010040942054924947,
          0.04576396764852051,
          null,
          0.4812632370069426,
          0.1875480229992109,
          null,
          0.4812632370069426,
          0.8783336441383809,
          null,
          0.9455410879305093,
          0.8783336441383809,
          null,
          0.9455410879305093,
          1,
          null,
          0.9455410879305093,
          0.993063506031087,
          null,
          0.04576396764852051,
          0,
          null,
          0.8104712898257558,
          1,
          null,
          0.1875480229992109,
          0.03261391737438196,
          null,
          0.1875480229992109,
          0,
          null,
          0.8783336441383809,
          1,
          null,
          0.8783336441383809,
          0.8337382591636127,
          null,
          1,
          0.993063506031087,
          null,
          0,
          0.03261391737438196,
          null
         ]
        },
        {
         "hoverinfo": "text",
         "marker": {
          "color": "rgb(255, 255, 255)",
          "line": {
           "color": "rgb(0, 0, 0)",
           "width": 2
          },
          "size": 20
         },
         "mode": "markers",
         "text": [
          "Rogerio",
          "Roberto",
          "Renato",
          "Larissa",
          "Jorge",
          "Sueli",
          "Conrado",
          "Ricardo",
          "Pamela",
          "Fabio",
          "Paulo",
          "William",
          "Tiago",
          "Sandra",
          "Patrick",
          "Jose",
          "Caio"
         ],
         "textfont": {
          "color": "rgb(0, 0, 0)"
         },
         "textposition": "hover",
         "x": [
          0.6963667818691124,
          0.8649923170835085,
          0.09345782836897164,
          0.46429382831570243,
          0.09324917557859762,
          0.635496447999523,
          0.858924310132355,
          0.34281501718770835,
          0.8354785071752097,
          0,
          0.5057067562370274,
          0.7912875838573369,
          0.4466122116845377,
          0.470255763182538,
          1,
          0.6389607496154484,
          0.2625321870452481
         ],
         "y": [
          0.7819773759613629,
          0.16760960567501743,
          0.12369312130046371,
          0.8435472309258087,
          0.904335232885387,
          0.010040942054924947,
          0.4812632370069426,
          0.9455410879305093,
          0.04576396764852051,
          0.8104712898257558,
          0.1875480229992109,
          0.8783336441383809,
          1,
          0,
          0.8337382591636127,
          0.993063506031087,
          0.03261391737438196
         ]
        }
       ],
       "layout": {
        "height": 450,
        "margin": {
         "b": 0,
         "l": 0,
         "r": 0,
         "t": 0
        },
        "showlegend": false,
        "width": 450,
        "xaxis": {
         "showgrid": false,
         "showticklabels": false,
         "zeroline": false
        },
        "yaxis": {
         "showgrid": false,
         "showticklabels": false,
         "zeroline": false
        }
       }
      },
      "text/html": [
       "<div id=\"ddf10c07-f0c4-47d9-af4a-e2305edb619a\" style=\"height: 450px; width: 450px;\" class=\"plotly-graph-div\"></div><script type=\"text/javascript\">require([\"plotly\"], function(Plotly) { window.PLOTLYENV=window.PLOTLYENV || {};window.PLOTLYENV.BASE_URL=\"https://plot.ly\";Plotly.newPlot(\"ddf10c07-f0c4-47d9-af4a-e2305edb619a\", [{\"y\": [0.7819773759613629, 0.8435472309258087, null, 0.7819773759613629, 0.4812632370069426, null, 0.7819773759613629, 0.9455410879305093, null, 0.7819773759613629, 0.8783336441383809, null, 0.7819773759613629, 1.0, null, 0.7819773759613629, 0.8337382591636127, null, 0.7819773759613629, 0.993063506031087, null, 0.16760960567501743, 0.04576396764852051, null, 0.16760960567501743, 0.1875480229992109, null, 0.16760960567501743, 0.010040942054924947, null, 0.16760960567501743, 0.4812632370069426, null, 0.16760960567501743, 0.0, null, 0.12369312130046371, 0.03261391737438196, null, 0.12369312130046371, 0.1875480229992109, null, 0.12369312130046371, 0.0, null, 0.8435472309258087, 0.904335232885387, null, 0.8435472309258087, 0.9455410879305093, null, 0.8435472309258087, 0.8104712898257558, null, 0.8435472309258087, 0.8783336441383809, null, 0.8435472309258087, 1.0, null, 0.8435472309258087, 0.8337382591636127, null, 0.8435472309258087, 0.993063506031087, null, 0.904335232885387, 0.8104712898257558, null, 0.904335232885387, 0.9455410879305093, null, 0.010040942054924947, 0.03261391737438196, null, 0.010040942054924947, 0.1875480229992109, null, 0.010040942054924947, 0.0, null, 0.010040942054924947, 0.04576396764852051, null, 0.4812632370069426, 0.1875480229992109, null, 0.4812632370069426, 0.8783336441383809, null, 0.9455410879305093, 0.8783336441383809, null, 0.9455410879305093, 1.0, null, 0.9455410879305093, 0.993063506031087, null, 0.04576396764852051, 0.0, null, 0.8104712898257558, 1.0, null, 0.1875480229992109, 0.03261391737438196, null, 0.1875480229992109, 0.0, null, 0.8783336441383809, 1.0, null, 0.8783336441383809, 0.8337382591636127, null, 1.0, 0.993063506031087, null, 0.0, 0.03261391737438196, null], \"hoverinfo\": \"none\", \"x\": [0.6963667818691124, 0.46429382831570243, null, 0.6963667818691124, 0.858924310132355, null, 0.6963667818691124, 0.34281501718770835, null, 0.6963667818691124, 0.7912875838573369, null, 0.6963667818691124, 0.4466122116845377, null, 0.6963667818691124, 1.0, null, 0.6963667818691124, 0.6389607496154484, null, 0.8649923170835085, 0.8354785071752097, null, 0.8649923170835085, 0.5057067562370274, null, 0.8649923170835085, 0.635496447999523, null, 0.8649923170835085, 0.858924310132355, null, 0.8649923170835085, 0.470255763182538, null, 0.09345782836897164, 0.2625321870452481, null, 0.09345782836897164, 0.5057067562370274, null, 0.09345782836897164, 0.470255763182538, null, 0.46429382831570243, 0.09324917557859762, null, 0.46429382831570243, 0.34281501718770835, null, 0.46429382831570243, 0.0, null, 0.46429382831570243, 0.7912875838573369, null, 0.46429382831570243, 0.4466122116845377, null, 0.46429382831570243, 1.0, null, 0.46429382831570243, 0.6389607496154484, null, 0.09324917557859762, 0.0, null, 0.09324917557859762, 0.34281501718770835, null, 0.635496447999523, 0.2625321870452481, null, 0.635496447999523, 0.5057067562370274, null, 0.635496447999523, 0.470255763182538, null, 0.635496447999523, 0.8354785071752097, null, 0.858924310132355, 0.5057067562370274, null, 0.858924310132355, 0.7912875838573369, null, 0.34281501718770835, 0.7912875838573369, null, 0.34281501718770835, 0.4466122116845377, null, 0.34281501718770835, 0.6389607496154484, null, 0.8354785071752097, 0.470255763182538, null, 0.0, 0.4466122116845377, null, 0.5057067562370274, 0.2625321870452481, null, 0.5057067562370274, 0.470255763182538, null, 0.7912875838573369, 0.4466122116845377, null, 0.7912875838573369, 1.0, null, 0.4466122116845377, 0.6389607496154484, null, 0.470255763182538, 0.2625321870452481, null], \"line\": {\"width\": 2, \"color\": \"rgb(0, 0, 0)\"}, \"mode\": \"lines\"}, {\"textfont\": {\"color\": \"rgb(0, 0, 0)\"}, \"hoverinfo\": \"text\", \"mode\": \"markers\", \"text\": [\"Rogerio\", \"Roberto\", \"Renato\", \"Larissa\", \"Jorge\", \"Sueli\", \"Conrado\", \"Ricardo\", \"Pamela\", \"Fabio\", \"Paulo\", \"William\", \"Tiago\", \"Sandra\", \"Patrick\", \"Jose\", \"Caio\"], \"textposition\": \"hover\", \"marker\": {\"size\": 20, \"color\": \"rgb(255, 255, 255)\", \"line\": {\"width\": 2, \"color\": \"rgb(0, 0, 0)\"}}, \"y\": [0.7819773759613629, 0.16760960567501743, 0.12369312130046371, 0.8435472309258087, 0.904335232885387, 0.010040942054924947, 0.4812632370069426, 0.9455410879305093, 0.04576396764852051, 0.8104712898257558, 0.1875480229992109, 0.8783336441383809, 1.0, 0.0, 0.8337382591636127, 0.993063506031087, 0.03261391737438196], \"x\": [0.6963667818691124, 0.8649923170835085, 0.09345782836897164, 0.46429382831570243, 0.09324917557859762, 0.635496447999523, 0.858924310132355, 0.34281501718770835, 0.8354785071752097, 0.0, 0.5057067562370274, 0.7912875838573369, 0.4466122116845377, 0.470255763182538, 1.0, 0.6389607496154484, 0.2625321870452481]}], {\"yaxis\": {\"showticklabels\": false, \"showgrid\": false, \"zeroline\": false}, \"width\": 450, \"xaxis\": {\"showticklabels\": false, \"showgrid\": false, \"zeroline\": false}, \"height\": 450, \"showlegend\": false, \"margin\": {\"b\": 0, \"l\": 0, \"t\": 0, \"r\": 0}}, {\"showLink\": false, \"linkText\": \"Export to plot.ly\", \"displayModeBar\": false})});</script>"
      ],
      "text/vnd.plotly.v1+html": [
       "<div id=\"ddf10c07-f0c4-47d9-af4a-e2305edb619a\" style=\"height: 450px; width: 450px;\" class=\"plotly-graph-div\"></div><script type=\"text/javascript\">require([\"plotly\"], function(Plotly) { window.PLOTLYENV=window.PLOTLYENV || {};window.PLOTLYENV.BASE_URL=\"https://plot.ly\";Plotly.newPlot(\"ddf10c07-f0c4-47d9-af4a-e2305edb619a\", [{\"y\": [0.7819773759613629, 0.8435472309258087, null, 0.7819773759613629, 0.4812632370069426, null, 0.7819773759613629, 0.9455410879305093, null, 0.7819773759613629, 0.8783336441383809, null, 0.7819773759613629, 1.0, null, 0.7819773759613629, 0.8337382591636127, null, 0.7819773759613629, 0.993063506031087, null, 0.16760960567501743, 0.04576396764852051, null, 0.16760960567501743, 0.1875480229992109, null, 0.16760960567501743, 0.010040942054924947, null, 0.16760960567501743, 0.4812632370069426, null, 0.16760960567501743, 0.0, null, 0.12369312130046371, 0.03261391737438196, null, 0.12369312130046371, 0.1875480229992109, null, 0.12369312130046371, 0.0, null, 0.8435472309258087, 0.904335232885387, null, 0.8435472309258087, 0.9455410879305093, null, 0.8435472309258087, 0.8104712898257558, null, 0.8435472309258087, 0.8783336441383809, null, 0.8435472309258087, 1.0, null, 0.8435472309258087, 0.8337382591636127, null, 0.8435472309258087, 0.993063506031087, null, 0.904335232885387, 0.8104712898257558, null, 0.904335232885387, 0.9455410879305093, null, 0.010040942054924947, 0.03261391737438196, null, 0.010040942054924947, 0.1875480229992109, null, 0.010040942054924947, 0.0, null, 0.010040942054924947, 0.04576396764852051, null, 0.4812632370069426, 0.1875480229992109, null, 0.4812632370069426, 0.8783336441383809, null, 0.9455410879305093, 0.8783336441383809, null, 0.9455410879305093, 1.0, null, 0.9455410879305093, 0.993063506031087, null, 0.04576396764852051, 0.0, null, 0.8104712898257558, 1.0, null, 0.1875480229992109, 0.03261391737438196, null, 0.1875480229992109, 0.0, null, 0.8783336441383809, 1.0, null, 0.8783336441383809, 0.8337382591636127, null, 1.0, 0.993063506031087, null, 0.0, 0.03261391737438196, null], \"hoverinfo\": \"none\", \"x\": [0.6963667818691124, 0.46429382831570243, null, 0.6963667818691124, 0.858924310132355, null, 0.6963667818691124, 0.34281501718770835, null, 0.6963667818691124, 0.7912875838573369, null, 0.6963667818691124, 0.4466122116845377, null, 0.6963667818691124, 1.0, null, 0.6963667818691124, 0.6389607496154484, null, 0.8649923170835085, 0.8354785071752097, null, 0.8649923170835085, 0.5057067562370274, null, 0.8649923170835085, 0.635496447999523, null, 0.8649923170835085, 0.858924310132355, null, 0.8649923170835085, 0.470255763182538, null, 0.09345782836897164, 0.2625321870452481, null, 0.09345782836897164, 0.5057067562370274, null, 0.09345782836897164, 0.470255763182538, null, 0.46429382831570243, 0.09324917557859762, null, 0.46429382831570243, 0.34281501718770835, null, 0.46429382831570243, 0.0, null, 0.46429382831570243, 0.7912875838573369, null, 0.46429382831570243, 0.4466122116845377, null, 0.46429382831570243, 1.0, null, 0.46429382831570243, 0.6389607496154484, null, 0.09324917557859762, 0.0, null, 0.09324917557859762, 0.34281501718770835, null, 0.635496447999523, 0.2625321870452481, null, 0.635496447999523, 0.5057067562370274, null, 0.635496447999523, 0.470255763182538, null, 0.635496447999523, 0.8354785071752097, null, 0.858924310132355, 0.5057067562370274, null, 0.858924310132355, 0.7912875838573369, null, 0.34281501718770835, 0.7912875838573369, null, 0.34281501718770835, 0.4466122116845377, null, 0.34281501718770835, 0.6389607496154484, null, 0.8354785071752097, 0.470255763182538, null, 0.0, 0.4466122116845377, null, 0.5057067562370274, 0.2625321870452481, null, 0.5057067562370274, 0.470255763182538, null, 0.7912875838573369, 0.4466122116845377, null, 0.7912875838573369, 1.0, null, 0.4466122116845377, 0.6389607496154484, null, 0.470255763182538, 0.2625321870452481, null], \"line\": {\"width\": 2, \"color\": \"rgb(0, 0, 0)\"}, \"mode\": \"lines\"}, {\"textfont\": {\"color\": \"rgb(0, 0, 0)\"}, \"hoverinfo\": \"text\", \"mode\": \"markers\", \"text\": [\"Rogerio\", \"Roberto\", \"Renato\", \"Larissa\", \"Jorge\", \"Sueli\", \"Conrado\", \"Ricardo\", \"Pamela\", \"Fabio\", \"Paulo\", \"William\", \"Tiago\", \"Sandra\", \"Patrick\", \"Jose\", \"Caio\"], \"textposition\": \"hover\", \"marker\": {\"size\": 20, \"color\": \"rgb(255, 255, 255)\", \"line\": {\"width\": 2, \"color\": \"rgb(0, 0, 0)\"}}, \"y\": [0.7819773759613629, 0.16760960567501743, 0.12369312130046371, 0.8435472309258087, 0.904335232885387, 0.010040942054924947, 0.4812632370069426, 0.9455410879305093, 0.04576396764852051, 0.8104712898257558, 0.1875480229992109, 0.8783336441383809, 1.0, 0.0, 0.8337382591636127, 0.993063506031087, 0.03261391737438196], \"x\": [0.6963667818691124, 0.8649923170835085, 0.09345782836897164, 0.46429382831570243, 0.09324917557859762, 0.635496447999523, 0.858924310132355, 0.34281501718770835, 0.8354785071752097, 0.0, 0.5057067562370274, 0.7912875838573369, 0.4466122116845377, 0.470255763182538, 1.0, 0.6389607496154484, 0.2625321870452481]}], {\"yaxis\": {\"showticklabels\": false, \"showgrid\": false, \"zeroline\": false}, \"width\": 450, \"xaxis\": {\"showticklabels\": false, \"showgrid\": false, \"zeroline\": false}, \"height\": 450, \"showlegend\": false, \"margin\": {\"b\": 0, \"l\": 0, \"t\": 0, \"r\": 0}}, {\"showLink\": false, \"linkText\": \"Export to plot.ly\", \"displayModeBar\": false})});</script>"
      ]
     },
     "metadata": {},
     "output_type": "display_data"
    }
   ],
   "source": [
    "g = sn.load_graph('1-introducao.gml')\n",
    "\n",
    "sn.show_graph(g, nlab=True)"
   ]
  },
  {
   "cell_type": "markdown",
   "metadata": {},
   "source": [
    "Esse posicionamento parece familiar?"
   ]
  },
  {
   "cell_type": "markdown",
   "metadata": {},
   "source": [
    "*Resposta:* Sim."
   ]
  },
  {
   "cell_type": "code",
   "execution_count": null,
   "metadata": {
    "collapsed": true
   },
   "outputs": [],
   "source": []
  }
 ],
 "metadata": {
  "kernelspec": {
   "display_name": "Python 3",
   "language": "python",
   "name": "python3"
  },
  "language_info": {
   "codemirror_mode": {
    "name": "ipython",
    "version": 3
   },
   "file_extension": ".py",
   "mimetype": "text/x-python",
   "name": "python",
   "nbconvert_exporter": "python",
   "pygments_lexer": "ipython3",
   "version": "3.5.3"
  }
 },
 "nbformat": 4,
 "nbformat_minor": 1
}
