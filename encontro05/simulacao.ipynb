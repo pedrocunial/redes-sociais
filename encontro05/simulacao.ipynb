{
 "cells": [
  {
   "cell_type": "markdown",
   "metadata": {},
   "source": [
    "# Encontro 05: Simulação de Centralidades\n",
    "\n",
    "Importando a biblioteca:"
   ]
  },
  {
   "cell_type": "code",
   "execution_count": null,
   "metadata": {
    "collapsed": true
   },
   "outputs": [],
   "source": [
    "import sys\n",
    "sys.path.append('..')\n",
    "\n",
    "import socnet as sn"
   ]
  },
  {
   "cell_type": "markdown",
   "metadata": {},
   "source": [
    "Configurando a biblioteca:"
   ]
  },
  {
   "cell_type": "code",
   "execution_count": null,
   "metadata": {
    "collapsed": true
   },
   "outputs": [],
   "source": [
    "sn.node_size = 10\n",
    "sn.edge_width = 1\n",
    "sn.edge_color = (192, 192, 192)\n",
    "sn.node_label_position = 'top center'"
   ]
  },
  {
   "cell_type": "markdown",
   "metadata": {},
   "source": [
    "O objetivo desta atividade é realizar $24$ simulações de centralidade diferentes, para avaliar o desempenho de medidas clássicas em relação a diferentes processos de fluxo. Dessas $24$ simulações, são $12$ sobre o grafo `g1` e $12$ sobre o grafo `g2`."
   ]
  },
  {
   "cell_type": "code",
   "execution_count": null,
   "metadata": {
    "collapsed": true
   },
   "outputs": [],
   "source": [
    "g1 = sn.load_graph('renaissance.gml', has_pos=True)\n",
    "g2 = sn.load_graph('../encontro02/1-introducao.gml', has_pos=True)"
   ]
  },
  {
   "cell_type": "markdown",
   "metadata": {},
   "source": [
    "O primeiro grafo corresponde aos casamentos entre famílias de Florença durante a Renascença.\n",
    "\n",
    "J. F. Padgett, C. K. Ansell, 1993. *Robust action and the rise of the Medici, 1400–1434.* American Journal of\n",
    "Sociology 98, págs. 1259-1319."
   ]
  },
  {
   "cell_type": "code",
   "execution_count": null,
   "metadata": {
    "collapsed": true
   },
   "outputs": [],
   "source": [
    "sn.show_graph(g1, nlab=True)"
   ]
  },
  {
   "cell_type": "markdown",
   "metadata": {},
   "source": [
    "O segundo grafo corresponde ao estudo de caso do primeiro encontro."
   ]
  },
  {
   "cell_type": "code",
   "execution_count": null,
   "metadata": {
    "collapsed": true
   },
   "outputs": [],
   "source": [
    "sn.show_graph(g2, nlab=True)"
   ]
  },
  {
   "cell_type": "markdown",
   "metadata": {},
   "source": [
    "Das $12$ simulações sobre um dos grafos, são $6$ de *closeness* e $6$ de *betweenness*:\n",
    "\n",
    "* duplicação serial através de caminhos;\n",
    "* transferência através de caminhos;\n",
    "* duplicação serial através de trilhas;\n",
    "* transferência através de trilhas;\n",
    "* duplicação serial através de passeios;\n",
    "* transferência através de passeios."
   ]
  },
  {
   "cell_type": "code",
   "execution_count": null,
   "metadata": {
    "collapsed": true
   },
   "outputs": [],
   "source": [
    "from random import choice\n",
    "\n",
    "TIMES = 1000"
   ]
  },
  {
   "cell_type": "markdown",
   "metadata": {},
   "source": [
    "Em uma simulação de *closeness*, para cada origem `s` e destino `t`, mede-se o tempo que o fluxo leva para chegar de `s` a `t`. O *closeness simulado* de um nó `s` é a soma de todos os tempos medidos quando esse nó é uma origem. Como o fluxo pode ter passos aleatórios, o processo é repetido `TIMES` vezes e considera-se a média.\n",
    "\n",
    "A função abaixo calcula o closeness simulado em relação a *transferência através de geodésicas*."
   ]
  },
  {
   "cell_type": "code",
   "execution_count": null,
   "metadata": {
    "collapsed": true
   },
   "outputs": [],
   "source": [
    "def simulate_closeness_transfer_geodesic(g):\n",
    "\n",
    "    # Inicialização das médias.\n",
    "\n",
    "    for n in g.nodes():\n",
    "        g.node[n]['simulated_closeness'] = 0\n",
    "\n",
    "    for _ in range(TIMES):\n",
    "        for s in g.nodes():\n",
    "\n",
    "            # Inicialização do closeness de s.\n",
    "            g.node[s]['closeness'] = 0\n",
    "\n",
    "            for t in g.nodes():\n",
    "                if s != t:\n",
    "\n",
    "                    # Função caixa-preta que calcula, para cada nó, seu subconjunto\n",
    "                    # de vizinhos que pertencem a geodésicas de s a t. Esse subconjunto\n",
    "                    # é armazenado no atributo shortest_neighbors. Vocês vão aprender\n",
    "                    # a abrir essa caixa-preta em encontros posteriores.\n",
    "                    sn.build_shortest_paths(g, s, t)\n",
    "\n",
    "                    # Dependendo do processo, o fluxo pode não ter sucesso, ou seja,\n",
    "                    # pode ficar preso em uma parte do grafo sem nunca atingir t.\n",
    "                    # Quando isso acontece, simplesmente tenta-se novamente.\n",
    "\n",
    "                    success = False\n",
    "\n",
    "                    while not success:\n",
    "\n",
    "                        # Chamamos de \"dono\" um nó que possui o bem conduzido pelo\n",
    "                        # fluxo. No início do processo, sabemos que o único dono é s.\n",
    "                        for n in g.nodes():\n",
    "                            g.node[n]['owner'] = False\n",
    "                        g.node[s]['owner'] = True\n",
    "\n",
    "                        time = 1\n",
    "\n",
    "                        while True:\n",
    "\n",
    "                            # O conjunto nodes_reached indica os nós que o fluxo\n",
    "                            # alcança ao \"avançar mais um passo\".\n",
    "                            nodes_reached = set()\n",
    "\n",
    "                            for n in g.nodes():\n",
    "                                if g.node[n]['owner']:\n",
    "\n",
    "                                    # TRANSFERÊNCIA: Escolhemos aleatoriamente um dos vizinhos válidos.\n",
    "                                    # GEODÉSICA: Os vizinhos válidos são os que pertencem a geodésicas.\n",
    "                                    m = choice(g.node[n]['shortest_neighbors'])\n",
    "                                    nodes_reached.add(m)\n",
    "\n",
    "                                    # TRANSFERÊNCIA: O fluxo transfere o bem para os nós que o fluxo\n",
    "                                    # alcança, portanto o nó deixa de ser dono. Nos processos baseados\n",
    "                                    # em duplicação, a linha abaixo não pode ser executada.\n",
    "                                    g.node[n]['owner'] = False\n",
    "\n",
    "                            # Todos os nós que o fluxo alcança tornam-se donos.\n",
    "                            for n in nodes_reached:\n",
    "                                g.node[n]['owner'] = True\n",
    "\n",
    "                            # Se alcançamos t, interrompemos o fluxo e paramos de tentar.\n",
    "                            if t in nodes_reached:\n",
    "                                success = True\n",
    "                                break\n",
    "\n",
    "                            # Se não alcançamos ninguém, interrompemos o fluxo e tentamos novamente.\n",
    "                            if not nodes_reached:\n",
    "                                break\n",
    "\n",
    "                            time += 1\n",
    "\n",
    "                    # Soma do tempo de s a t ao closeness de s.\n",
    "                    g.node[s]['closeness'] += time\n",
    "\n",
    "        # Incremento das médias.\n",
    "        for n in g.nodes():\n",
    "            g.node[n]['simulated_closeness'] += g.node[n]['closeness']\n",
    "\n",
    "    # Finalização das médias.\n",
    "    for n in g.nodes():\n",
    "        g.node[n]['simulated_closeness'] /= TIMES"
   ]
  },
  {
   "cell_type": "markdown",
   "metadata": {},
   "source": [
    "Vamos comparar o closeness simulado com o *closeness teórico*.\n",
    "\n",
    "Para calcular o segundo, basta usar o *algoritmo de busca em largura* que vimos em encontros anteriores."
   ]
  },
  {
   "cell_type": "code",
   "execution_count": null,
   "metadata": {
    "collapsed": true
   },
   "outputs": [],
   "source": [
    "from math import inf, isinf\n",
    "from queue import Queue\n",
    "\n",
    "def build_closeness(g):\n",
    "    for s in g.nodes():\n",
    "        # início da busca em largura\n",
    "\n",
    "        q = Queue()\n",
    "\n",
    "        for n in g.nodes():\n",
    "            g.node[n]['d'] = inf\n",
    "\n",
    "        g.node[s]['d'] = 0\n",
    "        q.put(s)\n",
    "\n",
    "        while not q.empty():\n",
    "            n = q.get()\n",
    "\n",
    "            for m in g.neighbors(n):\n",
    "                if isinf(g.node[m]['d']):\n",
    "                    g.node[m]['d'] = g.node[n]['d'] + 1\n",
    "                    q.put(m)\n",
    "\n",
    "        # fim da busca em largura\n",
    "\n",
    "        g.node[s]['theoretical_closeness'] = 0\n",
    "\n",
    "        for n in g.nodes():\n",
    "            g.node[s]['theoretical_closeness'] += g.node[n]['d']"
   ]
  },
  {
   "cell_type": "markdown",
   "metadata": {},
   "source": [
    "Comparação de closeness no grafo `g1`:\n",
    "\n",
    "*(vai demorar alguns segundos)*"
   ]
  },
  {
   "cell_type": "code",
   "execution_count": null,
   "metadata": {
    "collapsed": true
   },
   "outputs": [],
   "source": [
    "build_closeness(g1)\n",
    "\n",
    "simulate_closeness_transfer_geodesic(g1)\n",
    "\n",
    "for n in g1.nodes():\n",
    "    print(g1.node[n]['label'], g1.node[n]['theoretical_closeness'], g1.node[n]['simulated_closeness'])"
   ]
  },
  {
   "cell_type": "markdown",
   "metadata": {},
   "source": [
    "Comparação de closeness no grafo `g2`:\n",
    "\n",
    "*(vai demorar alguns segundos)*"
   ]
  },
  {
   "cell_type": "code",
   "execution_count": null,
   "metadata": {
    "collapsed": true
   },
   "outputs": [],
   "source": [
    "build_closeness(g2)\n",
    "\n",
    "simulate_closeness_transfer_geodesic(g2)\n",
    "\n",
    "for n in g2.nodes():\n",
    "    print(g2.node[n]['label'], g2.node[n]['theoretical_closeness'], g2.node[n]['simulated_closeness'])"
   ]
  },
  {
   "cell_type": "markdown",
   "metadata": {},
   "source": [
    "Em uma simulação de *betweenness*, para cada origem `s`, destino `t` e intermediário `n`, mede-se a quantidade de vezes que o fluxo passa por `n` antes de chegar de `s` a `t`. O *betweenness simulado* de um nó `n` é a soma de todas as quantidades medidas quando esse nó é um intermediário. Como o fluxo pode ter passos aleatórios, o processo é repetido `TIMES` vezes e considera-se a média.\n",
    "\n",
    "A função abaixo calcula o betweenness simulado em relação a *transferência através de geodésicas*."
   ]
  },
  {
   "cell_type": "code",
   "execution_count": null,
   "metadata": {
    "collapsed": true
   },
   "outputs": [],
   "source": [
    "def simulate_betweenness_transfer_geodesic(g):\n",
    "\n",
    "    # Inicialização das médias.\n",
    "\n",
    "    for n in g.nodes():\n",
    "        g.node[n]['simulated_betweenness'] = 0\n",
    "\n",
    "    for _ in range(TIMES):\n",
    "\n",
    "        # Inicialização de todos os betweenness.\n",
    "        for n in g.nodes():\n",
    "            g.node[n]['betweenness'] = 0\n",
    "\n",
    "        for s in g.nodes():\n",
    "            for t in g.nodes():\n",
    "                if s != t:\n",
    "\n",
    "                    # Função caixa-preta que calcula, para cada nó, seu subconjunto\n",
    "                    # de vizinhos que pertencem a geodésicas de s a t. Esse subconjunto\n",
    "                    # é armazenado no atributo shortest_neighbors. Vocês vão aprender\n",
    "                    # a abrir essa caixa-preta em encontros posteriores.\n",
    "                    sn.build_shortest_paths(g, s, t)\n",
    "\n",
    "                    # Dependendo do processo, o fluxo pode não ter sucesso, ou seja,\n",
    "                    # pode ficar preso em uma parte do grafo sem nunca atingir t.\n",
    "                    # Quando isso acontece, simplesmente tenta-se novamente.\n",
    "\n",
    "                    success = False\n",
    "\n",
    "                    while not success:\n",
    "\n",
    "                        # Chamamos de \"dono\" um nó que possui o bem conduzido pelo\n",
    "                        # fluxo. No início do processo, sabemos que o único dono é s.\n",
    "                        for n in g.nodes():\n",
    "                            g.node[n]['owner'] = False\n",
    "                        g.node[s]['owner'] = True\n",
    "\n",
    "                        for n in g.nodes():\n",
    "                            if n != s and n != t:\n",
    "                                g.node[n]['partial_betweenness'] = 0\n",
    "\n",
    "                        while True:\n",
    "\n",
    "                            # O conjunto nodes_reached indica os nós que o fluxo\n",
    "                            # alcança ao \"avançar mais um passo\".\n",
    "                            nodes_reached = set()\n",
    "\n",
    "                            for n in g.nodes():\n",
    "                                if g.node[n]['owner']:\n",
    "\n",
    "                                    # TRANSFERÊNCIA: Escolhemos aleatoriamente um dos vizinhos válidos.\n",
    "                                    # GEODÉSICA: Os vizinhos válidos são os que pertencem a geodésicas.\n",
    "                                    m = choice(g.node[n]['shortest_neighbors'])\n",
    "                                    nodes_reached.add(m)\n",
    "\n",
    "                                    # TRANSFERÊNCIA: O fluxo transfere o bem para os nós que o fluxo\n",
    "                                    # alcança, portanto o nó deixa de ser dono. Nos processos baseados\n",
    "                                    # em duplicação, a linha abaixo não pode ser executada.\n",
    "                                    g.node[n]['owner'] = False\n",
    "\n",
    "                            # Todos os nós que o fluxo alcança tornam-se donos.\n",
    "                            for n in nodes_reached:\n",
    "                                g.node[n]['owner'] = True\n",
    "\n",
    "                            # Se alcançamos t, interrompemos o fluxo e paramos de tentar.\n",
    "                            if t in nodes_reached:\n",
    "                                success = True\n",
    "                                break\n",
    "\n",
    "                            # Se não alcançamos ninguém, interrompemos o fluxo e tentamos novamente.\n",
    "                            if not nodes_reached:\n",
    "                                break\n",
    "\n",
    "                            for n in nodes_reached:\n",
    "                                if n != s and n != t:\n",
    "                                    g.node[n]['partial_betweenness'] += 1\n",
    "\n",
    "                    # Soma de todos os betweenness parciais dos intermediários.\n",
    "                    for n in g.nodes():\n",
    "                        if n != s and n != t:\n",
    "                            g.node[n]['betweenness'] += g.node[n]['partial_betweenness']\n",
    "\n",
    "        # Incremento das médias. Divide-se o valor por 2 para\n",
    "        # desconsiderar a simetria de um grafo não-dirigido.\n",
    "        for n in g.nodes():\n",
    "            g.node[n]['simulated_betweenness'] += g.node[n]['betweenness'] / 2\n",
    "\n",
    "    # Finalização das médias.\n",
    "    for n in g.nodes():\n",
    "        g.node[n]['simulated_betweenness'] /= TIMES"
   ]
  },
  {
   "cell_type": "markdown",
   "metadata": {},
   "source": [
    "Vamos comparar o betweenness simulado com o *betweennesss teórico*.\n",
    "\n",
    "Para calcular o segundo, basta usar a função caixa-preta `build_betweenness`. Vocês vão aprender a abrir essa caixa-preta em encontros posteriores.\n",
    "\n",
    "Comparação de betweenness no grafo `g1`:\n",
    "\n",
    "*(vai demorar alguns segundos)*"
   ]
  },
  {
   "cell_type": "code",
   "execution_count": null,
   "metadata": {
    "collapsed": true
   },
   "outputs": [],
   "source": [
    "sn.build_betweenness(g1)\n",
    "\n",
    "simulate_betweenness_transfer_geodesic(g1)\n",
    "\n",
    "for n in g1.nodes():\n",
    "    print(g1.node[n]['label'], g1.node[n]['theoretical_betweenness'], g1.node[n]['simulated_betweenness'])"
   ]
  },
  {
   "cell_type": "markdown",
   "metadata": {},
   "source": [
    "Comparação de betweenness no grafo `g2`:\n",
    "\n",
    "*(vai demorar alguns segundos)*"
   ]
  },
  {
   "cell_type": "code",
   "execution_count": null,
   "metadata": {
    "collapsed": true
   },
   "outputs": [],
   "source": [
    "sn.build_betweenness(g2)\n",
    "\n",
    "simulate_betweenness_transfer_geodesic(g2)\n",
    "\n",
    "for n in g2.nodes():\n",
    "    print(g2.node[n]['label'], g2.node[n]['theoretical_betweenness'], g2.node[n]['simulated_betweenness'])"
   ]
  },
  {
   "cell_type": "markdown",
   "metadata": {},
   "source": [
    "## Entregáveis\n",
    "\n",
    "Para **quinta 24/8**, você deve entregar todas as funções abaixo.\n",
    "\n",
    "Funções auxiliares para evitar repetição de código são permitidas e encorajadas."
   ]
  },
  {
   "cell_type": "code",
   "execution_count": null,
   "metadata": {
    "collapsed": true
   },
   "outputs": [],
   "source": [
    "def simulate_closeness_serial_path(g):\n",
    "    pass"
   ]
  },
  {
   "cell_type": "code",
   "execution_count": null,
   "metadata": {
    "collapsed": true
   },
   "outputs": [],
   "source": [
    "def simulate_closeness_transfer_path(g):\n",
    "    pass"
   ]
  },
  {
   "cell_type": "code",
   "execution_count": null,
   "metadata": {
    "collapsed": true
   },
   "outputs": [],
   "source": [
    "def simulate_closeness_serial_trail(g):\n",
    "    pass"
   ]
  },
  {
   "cell_type": "code",
   "execution_count": null,
   "metadata": {
    "collapsed": true
   },
   "outputs": [],
   "source": [
    "def simulate_closeness_transfer_trail(g):\n",
    "    pass"
   ]
  },
  {
   "cell_type": "code",
   "execution_count": null,
   "metadata": {
    "collapsed": true
   },
   "outputs": [],
   "source": [
    "def simulate_closeness_serial_walk(g):\n",
    "    pass"
   ]
  },
  {
   "cell_type": "code",
   "execution_count": null,
   "metadata": {
    "collapsed": true
   },
   "outputs": [],
   "source": [
    "def simulate_closeness_transfer_walk(g):\n",
    "    pass"
   ]
  },
  {
   "cell_type": "code",
   "execution_count": null,
   "metadata": {
    "collapsed": true
   },
   "outputs": [],
   "source": [
    "def simulate_betweenness_serial_path(g):\n",
    "    pass"
   ]
  },
  {
   "cell_type": "code",
   "execution_count": null,
   "metadata": {
    "collapsed": true
   },
   "outputs": [],
   "source": [
    "def simulate_betweenness_transfer_path(g):\n",
    "    pass"
   ]
  },
  {
   "cell_type": "code",
   "execution_count": null,
   "metadata": {
    "collapsed": true
   },
   "outputs": [],
   "source": [
    "def simulate_betweenness_serial_trail(g):\n",
    "    pass"
   ]
  },
  {
   "cell_type": "code",
   "execution_count": null,
   "metadata": {
    "collapsed": true
   },
   "outputs": [],
   "source": [
    "def simulate_betweenness_transfer_trail(g):\n",
    "    pass"
   ]
  },
  {
   "cell_type": "code",
   "execution_count": null,
   "metadata": {
    "collapsed": true
   },
   "outputs": [],
   "source": [
    "def simulate_betweenness_serial_walk(g):\n",
    "    pass"
   ]
  },
  {
   "cell_type": "code",
   "execution_count": null,
   "metadata": {
    "collapsed": true
   },
   "outputs": [],
   "source": [
    "def simulate_betweenness_transfer_walk(g):\n",
    "    pass"
   ]
  },
  {
   "cell_type": "markdown",
   "metadata": {},
   "source": [
    "Para encontros posteriores, serão pedidas análises dos resultados dessas simulações.\n",
    "\n",
    "\n",
    "## Avançado\n",
    "\n",
    "Na consolidação do módulo de centralidade, você pode atingir conceito avançado no objetivo **traduzir conceitos sociológicos para teoria dos grafos e algoritmos em grafos** se formular e implementar uma proposta coerente de *degree simulado*. Essa proposta deve ser entregue na mesma data."
   ]
  }
 ],
 "metadata": {
  "kernelspec": {
   "display_name": "Python 3",
   "language": "python",
   "name": "python3"
  },
  "language_info": {
   "codemirror_mode": {
    "name": "ipython",
    "version": 3
   },
   "file_extension": ".py",
   "mimetype": "text/x-python",
   "name": "python",
   "nbconvert_exporter": "python",
   "pygments_lexer": "ipython3",
   "version": "3.6.1"
  }
 },
 "nbformat": 4,
 "nbformat_minor": 1
}
