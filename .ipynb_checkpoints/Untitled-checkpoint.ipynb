{
 "cells": [
  {
   "cell_type": "code",
   "execution_count": 1,
   "metadata": {},
   "outputs": [
    {
     "data": {
      "text/html": [
       "<script>requirejs.config({paths: { 'plotly': ['https://cdn.plot.ly/plotly-latest.min']},});if(!window.Plotly) {{require(['plotly'],function(plotly) {window.Plotly=plotly;});}}</script>"
      ],
      "text/vnd.plotly.v1+html": [
       "<script>requirejs.config({paths: { 'plotly': ['https://cdn.plot.ly/plotly-latest.min']},});if(!window.Plotly) {{require(['plotly'],function(plotly) {window.Plotly=plotly;});}}</script>"
      ]
     },
     "metadata": {},
     "output_type": "display_data"
    }
   ],
   "source": [
    "import sys\n",
    "sys.path.append('..')\n",
    "\n",
    "import socnet as sn"
   ]
  },
  {
   "cell_type": "code",
   "execution_count": 2,
   "metadata": {},
   "outputs": [
    {
     "data": {
      "application/vnd.plotly.v1+json": {
       "data": [
        {
         "hoverinfo": "none",
         "line": {
          "color": "rgb(192, 192, 192)",
          "width": 1
         },
         "mode": "lines",
         "x": [
          0.3062744815572697,
          0,
          null,
          0.3062744815572697,
          0.20147244448903515,
          null,
          0,
          0.20147244448903515,
          null
         ],
         "y": [
          1,
          0.7060832711238287,
          null,
          1,
          0.8034296254089484,
          null,
          0.7060832711238287,
          0.8034296254089484,
          null
         ]
        },
        {
         "hoverinfo": "none",
         "marker": {
          "color": "rgb(0, 0, 0)",
          "line": {
           "color": "rgb(0, 0, 0)",
           "width": 1
          },
          "size": 3
         },
         "mode": "markers+text",
         "text": [
          "supernerd1337",
          "TolarianCollege",
          "MacDsmash",
          "Toufool",
          "TSMZeRo",
          "TSM_Leffen",
          "JovenHood"
         ],
         "textfont": {
          "color": "rgb(0, 0, 0)"
         },
         "textposition": "top center",
         "x": [
          1,
          0.8937159602532411,
          0.3062744815572697,
          0.6212006104867268,
          0,
          0.20147244448903515,
          0.13943520142655033
         ],
         "y": [
          0.3320730718524957,
          0.8527486593508892,
          1,
          0,
          0.7060832711238287,
          0.8034296254089484,
          0.1160700117305539
         ]
        }
       ],
       "layout": {
        "height": 450,
        "margin": {
         "b": 0,
         "l": 0,
         "r": 0,
         "t": 0
        },
        "showlegend": false,
        "width": 800,
        "xaxis": {
         "showgrid": false,
         "showticklabels": false,
         "zeroline": false
        },
        "yaxis": {
         "showgrid": false,
         "showticklabels": false,
         "zeroline": false
        }
       }
      },
      "text/html": [
       "<div id=\"2c838015-0d28-42d1-a019-50c5e12577f6\" style=\"height: 450px; width: 800px;\" class=\"plotly-graph-div\"></div><script type=\"text/javascript\">require([\"plotly\"], function(Plotly) { window.PLOTLYENV=window.PLOTLYENV || {};window.PLOTLYENV.BASE_URL=\"https://plot.ly\";Plotly.newPlot(\"2c838015-0d28-42d1-a019-50c5e12577f6\", [{\"x\": [0.3062744815572697, 0.0, null, 0.3062744815572697, 0.20147244448903515, null, 0.0, 0.20147244448903515, null], \"line\": {\"width\": 1, \"color\": \"rgb(192, 192, 192)\"}, \"hoverinfo\": \"none\", \"mode\": \"lines\", \"y\": [1.0, 0.7060832711238287, null, 1.0, 0.8034296254089484, null, 0.7060832711238287, 0.8034296254089484, null]}, {\"marker\": {\"size\": 3, \"line\": {\"width\": 1, \"color\": \"rgb(0, 0, 0)\"}, \"color\": \"rgb(0, 0, 0)\"}, \"x\": [1.0, 0.8937159602532411, 0.3062744815572697, 0.6212006104867268, 0.0, 0.20147244448903515, 0.13943520142655033], \"text\": [\"supernerd1337\", \"TolarianCollege\", \"MacDsmash\", \"Toufool\", \"TSMZeRo\", \"TSM_Leffen\", \"JovenHood\"], \"hoverinfo\": \"none\", \"y\": [0.3320730718524957, 0.8527486593508892, 1.0, 0.0, 0.7060832711238287, 0.8034296254089484, 0.1160700117305539], \"textposition\": \"top center\", \"textfont\": {\"color\": \"rgb(0, 0, 0)\"}, \"mode\": \"markers+text\"}], {\"showlegend\": false, \"margin\": {\"b\": 0, \"r\": 0, \"t\": 0, \"l\": 0}, \"height\": 450, \"yaxis\": {\"showgrid\": false, \"zeroline\": false, \"showticklabels\": false}, \"width\": 800, \"xaxis\": {\"showgrid\": false, \"zeroline\": false, \"showticklabels\": false}}, {\"showLink\": false, \"displayModeBar\": false, \"linkText\": \"Export to plot.ly\"})});</script>"
      ],
      "text/vnd.plotly.v1+html": [
       "<div id=\"2c838015-0d28-42d1-a019-50c5e12577f6\" style=\"height: 450px; width: 800px;\" class=\"plotly-graph-div\"></div><script type=\"text/javascript\">require([\"plotly\"], function(Plotly) { window.PLOTLYENV=window.PLOTLYENV || {};window.PLOTLYENV.BASE_URL=\"https://plot.ly\";Plotly.newPlot(\"2c838015-0d28-42d1-a019-50c5e12577f6\", [{\"x\": [0.3062744815572697, 0.0, null, 0.3062744815572697, 0.20147244448903515, null, 0.0, 0.20147244448903515, null], \"line\": {\"width\": 1, \"color\": \"rgb(192, 192, 192)\"}, \"hoverinfo\": \"none\", \"mode\": \"lines\", \"y\": [1.0, 0.7060832711238287, null, 1.0, 0.8034296254089484, null, 0.7060832711238287, 0.8034296254089484, null]}, {\"marker\": {\"size\": 3, \"line\": {\"width\": 1, \"color\": \"rgb(0, 0, 0)\"}, \"color\": \"rgb(0, 0, 0)\"}, \"x\": [1.0, 0.8937159602532411, 0.3062744815572697, 0.6212006104867268, 0.0, 0.20147244448903515, 0.13943520142655033], \"text\": [\"supernerd1337\", \"TolarianCollege\", \"MacDsmash\", \"Toufool\", \"TSMZeRo\", \"TSM_Leffen\", \"JovenHood\"], \"hoverinfo\": \"none\", \"y\": [0.3320730718524957, 0.8527486593508892, 1.0, 0.0, 0.7060832711238287, 0.8034296254089484, 0.1160700117305539], \"textposition\": \"top center\", \"textfont\": {\"color\": \"rgb(0, 0, 0)\"}, \"mode\": \"markers+text\"}], {\"showlegend\": false, \"margin\": {\"b\": 0, \"r\": 0, \"t\": 0, \"l\": 0}, \"height\": 450, \"yaxis\": {\"showgrid\": false, \"zeroline\": false, \"showticklabels\": false}, \"width\": 800, \"xaxis\": {\"showgrid\": false, \"zeroline\": false, \"showticklabels\": false}}, {\"showLink\": false, \"displayModeBar\": false, \"linkText\": \"Export to plot.ly\"})});</script>"
      ]
     },
     "metadata": {},
     "output_type": "display_data"
    }
   ],
   "source": [
    "sn.node_size = 3\n",
    "sn.node_color = (0, 0, 0)\n",
    "sn.edge_width = 1\n",
    "sn.edge_color = (192, 192, 192)\n",
    "sn.node_label_position = 'top center'\n",
    "\n",
    "g = sn.load_graph('twitter-supernerd1337.gml')\n",
    "\n",
    "sn.show_graph(g, nlab=True)"
   ]
  },
  {
   "cell_type": "code",
   "execution_count": null,
   "metadata": {
    "collapsed": true
   },
   "outputs": [],
   "source": [
    "O único grupo mais identificavel são os 3 jogadores profissionais de Super Smash Bros (TSMZero, TSM_Leffen e MacDsmash)"
   ]
  }
 ],
 "metadata": {
  "kernelspec": {
   "display_name": "Python 3",
   "language": "python",
   "name": "python3"
  },
  "language_info": {
   "codemirror_mode": {
    "name": "ipython",
    "version": 3
   },
   "file_extension": ".py",
   "mimetype": "text/x-python",
   "name": "python",
   "nbconvert_exporter": "python",
   "pygments_lexer": "ipython3",
   "version": "3.5.3"
  }
 },
 "nbformat": 4,
 "nbformat_minor": 2
}
