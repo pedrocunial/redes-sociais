{
 "cells": [
  {
   "cell_type": "markdown",
   "metadata": {},
   "source": [
    "# Encontro 10: Lacunas Estruturais\n",
    "\n",
    "O enunciado da *Escrita 4* continua ao longo deste notebook.\n",
    "\n",
    "**Preste atenção nas partes em negrito.**\n",
    "\n",
    "Importando a biblioteca:"
   ]
  },
  {
   "cell_type": "code",
   "execution_count": null,
   "metadata": {
    "scrolled": true
   },
   "outputs": [],
   "source": [
    "import sys\n",
    "sys.path.append('..')\n",
    "\n",
    "import socnet as sn"
   ]
  },
  {
   "cell_type": "markdown",
   "metadata": {},
   "source": [
    "Configurando a biblioteca:"
   ]
  },
  {
   "cell_type": "code",
   "execution_count": null,
   "metadata": {
    "collapsed": true
   },
   "outputs": [],
   "source": [
    "sn.node_size = 10\n",
    "sn.node_color = (0, 0, 0)\n",
    "\n",
    "sn.edge_width = 1"
   ]
  },
  {
   "cell_type": "markdown",
   "metadata": {},
   "source": [
    "Gerando um grafo completo:"
   ]
  },
  {
   "cell_type": "code",
   "execution_count": null,
   "metadata": {},
   "outputs": [],
   "source": [
    "g = sn.generate_complete_graph(15)\n",
    "\n",
    "sn.show_graph(g)"
   ]
  },
  {
   "cell_type": "markdown",
   "metadata": {},
   "source": [
    "**Esse será o grafo da comunidade.**\n",
    "\n",
    "Atribuindo aleatoriamente tipos aos nós:"
   ]
  },
  {
   "cell_type": "code",
   "execution_count": null,
   "metadata": {
    "collapsed": true
   },
   "outputs": [],
   "source": [
    "from random import shuffle\n",
    "\n",
    "\n",
    "def randomize_types(g, num_openers, num_closers, num_chummies):\n",
    "    if num_openers + num_closers + num_chummies != g.number_of_nodes():\n",
    "        raise Exception('a soma dos tipos não é igual ao número de nós')\n",
    "\n",
    "    nodes = g.nodes()\n",
    "\n",
    "    shuffle(nodes)\n",
    "\n",
    "    for _ in range(num_openers):\n",
    "        g.node[nodes.pop()]['type'] = 'opener'\n",
    "\n",
    "    for _ in range(num_closers):\n",
    "        g.node[nodes.pop()]['type'] = 'closer'\n",
    "\n",
    "    for _ in range(num_chummies):\n",
    "        g.node[nodes.pop()]['type'] = 'chummy'\n",
    "\n",
    "\n",
    "randomize_types(g, 15, 0, 0)"
   ]
  },
  {
   "cell_type": "markdown",
   "metadata": {},
   "source": [
    "Atribuindo aleatoriamente existências às arestas:"
   ]
  },
  {
   "cell_type": "code",
   "execution_count": null,
   "metadata": {
    "collapsed": true
   },
   "outputs": [],
   "source": [
    "from random import random\n",
    "\n",
    "\n",
    "def randomize_existences(g):\n",
    "    for n, m in g.edges():\n",
    "        if random() < 0.5:\n",
    "            g.edge[n][m]['exists'] = 0\n",
    "        else:\n",
    "            g.edge[n][m]['exists'] = 1\n",
    "\n",
    "\n",
    "randomize_existences(g)"
   ]
  },
  {
   "cell_type": "markdown",
   "metadata": {},
   "source": [
    "Convertendo tipos e existências em cores para visualização:"
   ]
  },
  {
   "cell_type": "code",
   "execution_count": null,
   "metadata": {},
   "outputs": [],
   "source": [
    "def convert_types_and_existences_to_colors(g):\n",
    "    for n in g.nodes():\n",
    "        if g.node[n]['type'] == 'opener':\n",
    "            g.node[n]['color'] = (255, 0, 0)\n",
    "        elif g.node[n]['type'] == 'closer':\n",
    "            g.node[n]['color'] = (0, 255, 0)\n",
    "        else:\n",
    "            g.node[n]['color'] = (0, 0, 255)\n",
    "\n",
    "    for n, m in g.edges():\n",
    "        if g.edge[n][m]['exists'] == 0:\n",
    "            g.edge[n][m]['color'] = (192, 192, 192)\n",
    "        else:\n",
    "            g.edge[n][m]['color'] = (0, 0, 0)\n",
    "\n",
    "\n",
    "convert_types_and_existences_to_colors(g)\n",
    "\n",
    "sn.show_graph(g)"
   ]
  },
  {
   "cell_type": "markdown",
   "metadata": {},
   "source": [
    "Definindo uma medida de restrição:"
   ]
  },
  {
   "cell_type": "code",
   "execution_count": null,
   "metadata": {
    "collapsed": true
   },
   "outputs": [],
   "source": [
    "def neighbors(g, n):\n",
    "    return [m for m in g.neighbors(n) if g.edge[n][m]['exists'] == 1]\n",
    "\n",
    "\n",
    "# Independentemente do tipo, a restrição é sempre entre 0 e 2.\n",
    "\n",
    "def calculate_constraint(g, n):\n",
    "    neighbors_n = neighbors(g, n)\n",
    "    degree_n = len(neighbors_n)\n",
    "\n",
    "    # Todos os tipos evitam isolamento. A restrição é máxima nesse caso.\n",
    "\n",
    "    if degree_n == 0:\n",
    "        return 2\n",
    "\n",
    "    # Para um chummy, a restrição é o inverso do grau. Uma pequena\n",
    "    # normalização é necessária para garantir que está entre 0 e 2.\n",
    "\n",
    "    if g.node[n]['type'] == 'chummy':\n",
    "        return 2 * (g.number_of_nodes() - degree_n - 1) / (g.number_of_nodes() - 1)\n",
    "\n",
    "    # Fórmula de Burt.\n",
    "\n",
    "    constraint = 0\n",
    "\n",
    "    for m in neighbors_n:\n",
    "        neighbors_m = neighbors(g, m)\n",
    "        degree_m = len(neighbors_m)\n",
    "\n",
    "        sub_constraint = 1 / degree_n\n",
    "\n",
    "        for l in neighbors_m:\n",
    "            if n != l and g.edge[n][l]['exists'] == 1:\n",
    "                sub_constraint += (1 / degree_n) * (1 / degree_m)\n",
    "\n",
    "        constraint += sub_constraint ** 2\n",
    "\n",
    "    # Para um closer, a restrição é o inverso da fórmula de Burt.\n",
    "\n",
    "    if g.node[n]['type'] == 'closer':\n",
    "        return 2 - constraint\n",
    "\n",
    "    # Para um opener, a restrição é a fórmula de Burt.\n",
    "\n",
    "    return constraint"
   ]
  },
  {
   "cell_type": "markdown",
   "metadata": {},
   "source": [
    "Definindo uma atualização de existência:"
   ]
  },
  {
   "cell_type": "code",
   "execution_count": null,
   "metadata": {
    "collapsed": true
   },
   "outputs": [],
   "source": [
    "from random import choice\n",
    "\n",
    "\n",
    "def equals(a, b):\n",
    "    return abs(a - b) < 0.000000001\n",
    "\n",
    "\n",
    "def invert_existence(g, n, m):\n",
    "    g.edge[n][m]['exists'] = 1 - g.edge[n][m]['exists']\n",
    "\n",
    "\n",
    "def update_existences(g):\n",
    "\n",
    "    # Para cada nó n...\n",
    "\n",
    "    for n in g.nodes():\n",
    "\n",
    "        # Calcula a restrição de n.\n",
    "\n",
    "        cn = calculate_constraint(g, n)\n",
    "\n",
    "        # Inicializa o dicionário de ganhos.\n",
    "\n",
    "        g.node[n]['gains'] = {}\n",
    "\n",
    "        # Para cada nó m diferente de n...\n",
    "\n",
    "        for m in g.nodes():\n",
    "            if n != m:\n",
    "\n",
    "                # Calcula a restrição de m.\n",
    "\n",
    "                cm = calculate_constraint(g, m)\n",
    "\n",
    "                # Inverte temporariamente a existência de (n, m) para ver o que acontece.\n",
    "\n",
    "                invert_existence(g, n, m)\n",
    "\n",
    "                # Se a inversão representa uma adição e ela não faz a restrição\n",
    "                # de m diminuir, então o ganho é zero porque essa inversão não\n",
    "                # é possível: adicionar só é possível se ambos os nós querem.\n",
    "\n",
    "                if g.edge[n][m]['exists'] == 1 and calculate_constraint(g, m) >= cm:\n",
    "                    g.node[n]['gains'][m] = 0\n",
    "\n",
    "                # Senão, o ganho é simplesmente a diferença das restrições.\n",
    "\n",
    "                else:\n",
    "                    g.node[n]['gains'][m] = cn - calculate_constraint(g, n)\n",
    "\n",
    "                # Restaura a existência original de (n, m), pois a inversão era temporária.\n",
    "\n",
    "                invert_existence(g, n, m)\n",
    "\n",
    "        # Obtém o maior ganho de n.\n",
    "\n",
    "        g.node[n]['max_gain'] = max(g.node[n]['gains'].values())\n",
    "\n",
    "    # Obtém o maior ganho de todos os nós.\n",
    "\n",
    "    max_gain = max([g.node[n]['max_gain'] for n in g.nodes()])\n",
    "\n",
    "    # Se o maior ganho não for positivo, devolve False indicando que o grafo estabilizou.\n",
    "\n",
    "    if max_gain <= 0:\n",
    "        return False\n",
    "\n",
    "    # Senão, escolhe aleatoriamente uma aresta correspondente ao maior ganho e inverte sua existência.\n",
    "\n",
    "    n = choice([n for n in g.nodes() if equals(g.node[n]['max_gain'], max_gain)])\n",
    "\n",
    "    m = choice([m for m in g.node[n]['gains'] if equals(g.node[n]['gains'][m], max_gain)])\n",
    "\n",
    "    invert_existence(g, n, m)\n",
    "\n",
    "    # Devolve True indicando que o grafo ainda não estabilizou.\n",
    "\n",
    "    return True"
   ]
  },
  {
   "cell_type": "markdown",
   "metadata": {},
   "source": [
    "Definindo uma calculadora de variáveis."
   ]
  },
  {
   "cell_type": "code",
   "execution_count": null,
   "metadata": {
    "collapsed": true
   },
   "outputs": [],
   "source": [
    "from math import inf\n",
    "from statistics import stdev\n",
    "from queue import Queue\n",
    "\n",
    "\n",
    "def calculate_variables(g, verbose=False):\n",
    "\n",
    "    # Cria uma cóṕia do grafo na qual as arestas realmente\n",
    "    # existem ou não existem. Isso facilita os cálculos.\n",
    "\n",
    "    gc = g.copy()\n",
    "\n",
    "    for n, m in g.edges():\n",
    "        if g.edge[n][m]['exists'] == 0:\n",
    "            gc.remove_edge(n, m)\n",
    "\n",
    "    # Cálculo do número de arestas. (densidade)\n",
    "\n",
    "    num_edges = gc.number_of_edges()\n",
    "\n",
    "    if verbose:\n",
    "        print('número de arestas:', num_edges)\n",
    "\n",
    "    # Cálculo do número de componentes. (fragmentação)\n",
    "\n",
    "    for n in gc.nodes():\n",
    "        gc.node[n]['label'] = 0\n",
    "\n",
    "    label = 0\n",
    "    q = Queue()\n",
    "\n",
    "    for s in gc.nodes():\n",
    "        if gc.node[s]['label'] == 0:\n",
    "            label += 1\n",
    "\n",
    "            gc.node[s]['label'] = label\n",
    "            q.put(s)\n",
    "\n",
    "            while not q.empty():\n",
    "                n = q.get()\n",
    "\n",
    "                for m in gc.neighbors(n):\n",
    "                    if gc.node[m]['label'] == 0:\n",
    "                        gc.node[m]['label'] = label\n",
    "                        q.put(m)\n",
    "\n",
    "    num_components = label\n",
    "\n",
    "    if verbose:\n",
    "        print('número de componentes:', num_components)\n",
    "\n",
    "    # Cálculo do desvio do tamanho de componentes. (fragmentação)\n",
    "\n",
    "    sizes = {label: 0 for label in range(1, num_components + 1)}\n",
    "\n",
    "    for n in gc.nodes():\n",
    "        sizes[gc.node[n]['label']] += 1\n",
    "\n",
    "    if num_components == 1:\n",
    "        dev_components = 0\n",
    "    else:\n",
    "        dev_components = stdev(sizes.values())\n",
    "\n",
    "    if verbose:\n",
    "        print('desvio do tamanho de componentes: {:05.2f}\\n'.format(dev_components))\n",
    "\n",
    "    # Cálculo do desvio do betweenness. (desigualdade)\n",
    "    # Cálculo do betweenness médio por tipo. (quais perfis ficaram centrais)\n",
    "\n",
    "    sn.build_betweenness(gc)\n",
    "\n",
    "    betweenness = []\n",
    "\n",
    "    mean_betweenness = {\n",
    "        'closer': 0,\n",
    "        'opener': 0,\n",
    "        'chummy': 0,\n",
    "    }\n",
    "\n",
    "    for n in gc.nodes():\n",
    "        betweenness.append(gc.node[n]['theoretical_betweenness'])\n",
    "\n",
    "        mean_betweenness[gc.node[n]['type']] += betweenness[-1]\n",
    "\n",
    "        if verbose:\n",
    "            print('betweenness do nó {:2} ({}): {:05.2f}'.format(n, gc.node[n]['type'], betweenness[-1]))\n",
    "\n",
    "    dev_betweenness = stdev(betweenness)\n",
    "\n",
    "    for key in mean_betweenness:\n",
    "        length = len([n for n in gc.nodes() if gc.node[n]['type'] == key])\n",
    "\n",
    "        if length == 0:\n",
    "            mean_betweenness[key] = 0\n",
    "        else:\n",
    "            mean_betweenness[key] /= length\n",
    "\n",
    "    if verbose:\n",
    "        print('\\ndesvio do betweenness: {:05.2f}\\n'.format(dev_betweenness))\n",
    "\n",
    "        for key, value in mean_betweenness.items():\n",
    "            print('betweenness médios de {}: {:05.2f}'.format(key, value))\n",
    "\n",
    "    return num_edges, num_components, dev_components, dev_betweenness, mean_betweenness"
   ]
  },
  {
   "cell_type": "markdown",
   "metadata": {},
   "source": [
    "Simulando várias vezes o processo no qual os nós invertem a existência de arestas até não poderem mais diminuir a restrição."
   ]
  },
  {
   "cell_type": "code",
   "execution_count": null,
   "metadata": {
    "collapsed": true
   },
   "outputs": [],
   "source": [
    "TIMES = 25"
   ]
  },
  {
   "cell_type": "markdown",
   "metadata": {},
   "source": [
    "No final das simulações, a média das variáveis é impressa."
   ]
  },
  {
   "cell_type": "code",
   "execution_count": null,
   "metadata": {},
   "outputs": [],
   "source": [
    "num_openers  = 15\n",
    "num_closers  =  0\n",
    "num_chummies =  0\n",
    "\n",
    "mean_num_edges = 0\n",
    "mean_num_components = 0\n",
    "mean_dev_components = 0\n",
    "mean_dev_betweenness = 0\n",
    "\n",
    "mean_mean_betweenness = {\n",
    "    'opener': 0,\n",
    "    'closer': 0,\n",
    "    'chummy': 0,\n",
    "}\n",
    "\n",
    "for _ in range(TIMES):\n",
    "    randomize_types(g, num_openers, num_closers, num_chummies)\n",
    "\n",
    "    randomize_existences(g)\n",
    "\n",
    "    while update_existences(g):\n",
    "        pass\n",
    "\n",
    "    num_edges, num_components, dev_components, dev_betweenness, mean_betweenness = calculate_variables(g)\n",
    "\n",
    "    mean_num_edges += num_edges\n",
    "    mean_num_components += num_components\n",
    "    mean_dev_components += dev_components\n",
    "    mean_dev_betweenness += dev_betweenness\n",
    "\n",
    "    for key, value in mean_betweenness.items():\n",
    "        mean_mean_betweenness[key] += value\n",
    "\n",
    "mean_num_edges /= TIMES\n",
    "mean_num_components /= TIMES\n",
    "mean_dev_components /= TIMES\n",
    "mean_dev_betweenness /= TIMES\n",
    "\n",
    "for key in mean_mean_betweenness:\n",
    "    mean_mean_betweenness[key] /= TIMES\n",
    "\n",
    "print('média do número de arestas: {:05.2f}'.format(mean_num_edges))\n",
    "print('média do número de componentes: {:05.2f}'.format(mean_num_components))\n",
    "print('média do desvio do tamanho de componentes: {:05.2f}'.format(mean_dev_components))\n",
    "print('média do desvio do betweenness: {:05.2f}'.format(mean_dev_betweenness))\n",
    "\n",
    "for key, value in mean_mean_betweenness.items():\n",
    "    print('média do betweenness médio de {}: {:05.2f}'.format(key, value))"
   ]
  },
  {
   "cell_type": "markdown",
   "metadata": {},
   "source": [
    "Para ter *insights* sobre o que está acontecendo, não esqueça de examinar a versão animada da simulação!"
   ]
  },
  {
   "cell_type": "code",
   "execution_count": null,
   "metadata": {},
   "outputs": [],
   "source": [
    "def update_positions(g, invert=False):\n",
    "    if invert:\n",
    "        for n, m in g.edges():\n",
    "            g.edge[n][m]['notexists'] = 1 - g.edge[n][m]['exists']\n",
    "\n",
    "        sn.update_positions(g, 'notexists')\n",
    "    else:\n",
    "        sn.update_positions(g, 'exists')\n",
    "\n",
    "\n",
    "def snapshot(g, frames):\n",
    "    convert_types_and_existences_to_colors(g)\n",
    "\n",
    "    frame = sn.generate_frame(g)\n",
    "\n",
    "    frames.append(frame)\n",
    "\n",
    "\n",
    "frames = []\n",
    "\n",
    "randomize_types(g, num_openers, num_closers, num_chummies)\n",
    "\n",
    "randomize_existences(g)\n",
    "\n",
    "sn.randomize_positions(g)\n",
    "\n",
    "snapshot(g, frames)\n",
    "\n",
    "while update_existences(g):\n",
    "    update_positions(g, False)\n",
    "\n",
    "    snapshot(g, frames)\n",
    "\n",
    "sn.show_animation(frames)\n",
    "\n",
    "_, _, _, _, _ = calculate_variables(g, verbose=True)"
   ]
  },
  {
   "cell_type": "markdown",
   "metadata": {
    "collapsed": true
   },
   "source": [
    "Se a animação não parece dizer muito, tente trocar `False` por `True` no `update_positions`."
   ]
  }
 ],
 "metadata": {
  "kernelspec": {
   "display_name": "Python 3",
   "language": "python",
   "name": "python3"
  },
  "language_info": {
   "codemirror_mode": {
    "name": "ipython",
    "version": 3
   },
   "file_extension": ".py",
   "mimetype": "text/x-python",
   "name": "python",
   "nbconvert_exporter": "python",
   "pygments_lexer": "ipython3",
   "version": "3.5.4"
  }
 },
 "nbformat": 4,
 "nbformat_minor": 1
}
