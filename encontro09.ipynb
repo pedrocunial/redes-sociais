{
 "cells": [
  {
   "cell_type": "markdown",
   "metadata": {},
   "source": [
    "# Encontro 09: Simulação de Balanceamento\n",
    "\n",
    "O enunciado da *Escrita 3* continua ao longo deste notebook.\n",
    "\n",
    "**Preste atenção nas partes em negrito.**\n",
    "\n",
    "Importando a biblioteca:"
   ]
  },
  {
   "cell_type": "code",
   "execution_count": null,
   "metadata": {
    "collapsed": true,
    "scrolled": true
   },
   "outputs": [],
   "source": [
    "import sys\n",
    "sys.path.append('..')\n",
    "\n",
    "import socnet as sn"
   ]
  },
  {
   "cell_type": "markdown",
   "metadata": {},
   "source": [
    "Configurando a biblioteca:"
   ]
  },
  {
   "cell_type": "code",
   "execution_count": null,
   "metadata": {
    "collapsed": true
   },
   "outputs": [],
   "source": [
    "sn.node_size = 3\n",
    "sn.node_color = (0, 0, 0)\n",
    "\n",
    "sn.edge_width = 1\n",
    "sn.edge_color = (192, 192, 192)"
   ]
  },
  {
   "cell_type": "markdown",
   "metadata": {},
   "source": [
    "Gerando um grafo completo:"
   ]
  },
  {
   "cell_type": "code",
   "execution_count": null,
   "metadata": {
    "collapsed": true
   },
   "outputs": [],
   "source": [
    "g = sn.generate_complete_graph(15)\n",
    "\n",
    "sn.show_graph(g)"
   ]
  },
  {
   "cell_type": "markdown",
   "metadata": {},
   "source": [
    "**Esse será o grafo dos professores.**\n",
    "\n",
    "Atribuindo aleatoriamente tipos negativos e positivos às arestas:"
   ]
  },
  {
   "cell_type": "code",
   "execution_count": null,
   "metadata": {
    "collapsed": true
   },
   "outputs": [],
   "source": [
    "from random import random\n",
    "\n",
    "\n",
    "def randomize_types(g):\n",
    "    for n, m in g.edges():\n",
    "        if random() < 0.5:\n",
    "            g.edge[n][m]['type'] = -1\n",
    "        else:\n",
    "            g.edge[n][m]['type'] = 1\n",
    "\n",
    "\n",
    "randomize_types(g)"
   ]
  },
  {
   "cell_type": "markdown",
   "metadata": {},
   "source": [
    "**Essa distribuição uniforme modela de forma aproximada os julgamentos dos professores após o \"retreat\". Não vamos usar uma atribuição fixa de tipos, pois sua solução não pode ser \"viciada\". Ela deve ser adequada para qualquer atribuição aleatória próxima.**\n",
    "\n",
    "Convertendo tipos em cores para visualização:"
   ]
  },
  {
   "cell_type": "code",
   "execution_count": null,
   "metadata": {
    "collapsed": true
   },
   "outputs": [],
   "source": [
    "def convert_types_to_colors(g):\n",
    "    for n, m in g.edges():\n",
    "        if g.edge[n][m]['type'] == -1:\n",
    "            g.edge[n][m]['color'] = (255, 0, 0)\n",
    "        else:\n",
    "            g.edge[n][m]['color'] = (0, 0, 255)\n",
    "\n",
    "\n",
    "convert_types_to_colors(g)\n",
    "\n",
    "sn.show_graph(g)"
   ]
  },
  {
   "cell_type": "markdown",
   "metadata": {},
   "source": [
    "Definindo uma atualização de tipo:"
   ]
  },
  {
   "cell_type": "code",
   "execution_count": null,
   "metadata": {
    "collapsed": true
   },
   "outputs": [],
   "source": [
    "from random import choice\n",
    "\n",
    "\n",
    "# Essa função calcula a pressão que cada aresta sofre para mudar seu tipo,\n",
    "# ou seja, a quantidade de situações de influência nas quais está envolvida.\n",
    "# Se nenhuma aresta está sofrendo pressão, a função devolve False. Senão,\n",
    "# uma aresta com maior pressão inverte seu tipo e a função devolve True.\n",
    "#\n",
    "# Os parâmetros a, b, c representam os pesos dos três tipos de pressão.\n",
    "#\n",
    "# a: peso da Situação A (\"inimigo comum\")\n",
    "#\n",
    "# b: peso da Situação B (\"pacificador\")\n",
    "#\n",
    "# c: peso da Situação C (\"cizânia\")\n",
    "#\n",
    "# Os valores padrão são 1. Já vimos em sala que eles levam a polarização.\n",
    "\n",
    "def update_type(g, a=1, b=1, c=1):\n",
    "\n",
    "    # Inicializa as pressões.\n",
    "\n",
    "    for n, m in g.edges():\n",
    "        g.edge[n][m]['pressure'] = 0\n",
    "\n",
    "    # Para cada triângulo do grafo.\n",
    "\n",
    "    for n in g.nodes():\n",
    "        for m in g.nodes():\n",
    "            if n != m:\n",
    "                for l in g.nodes():\n",
    "                    if n != l and m != l:\n",
    "\n",
    "                        # Armazena em uma lista as três arestas do triângulo.\n",
    "\n",
    "                        edges = [(n, m), (n, l), (m, l)]\n",
    "\n",
    "                        # Conta quantas dessas arestas são positivas.\n",
    "\n",
    "                        positives = 0\n",
    "\n",
    "                        for e in edges:\n",
    "                            if g.edge[e[0]][e[1]]['type'] == 1:\n",
    "                                positives += 1\n",
    "\n",
    "                        # Se existem zero ou duas positivas, aumenta as pressões.\n",
    "\n",
    "                        if positives == 0:\n",
    "                            for e in edges:\n",
    "                                g.edge[e[0]][e[1]]['pressure'] += a # Situação A\n",
    "\n",
    "                        if positives == 2:\n",
    "                            for e in edges:\n",
    "                                if g.edge[e[0]][e[1]]['type'] == -1:\n",
    "                                    g.edge[e[0]][e[1]]['pressure'] += b # Situação B\n",
    "                                else:\n",
    "                                    g.edge[e[0]][e[1]]['pressure'] += c # Situação C\n",
    "\n",
    "    # Obtém a maior pressão.\n",
    "\n",
    "    pressure = max([g.edge[n][m]['pressure'] for n, m in g.edges()])\n",
    "\n",
    "    # Se essa maior pressão for zero, devolve False.\n",
    "\n",
    "    if pressure == 0:\n",
    "        return False\n",
    "\n",
    "    # Senão, escolhe aleatoriamente uma aresta com maior pressão e inverte seu tipo.\n",
    "\n",
    "    n, m = choice([(n, m) for n, m in g.edges() if g.edge[n][m]['pressure'] == pressure])\n",
    "\n",
    "    g.edge[n][m]['type'] *= -1\n",
    "\n",
    "    return True"
   ]
  },
  {
   "cell_type": "markdown",
   "metadata": {},
   "source": [
    "**Você não precisa modificar `update_type`, apenas decidir quais valores de `a`, `b` e `c` devem ser passados.**\n",
    "\n",
    "Definindo um contador de componentes:"
   ]
  },
  {
   "cell_type": "code",
   "execution_count": null,
   "metadata": {
    "collapsed": true
   },
   "outputs": [],
   "source": [
    "from queue import Queue\n",
    "\n",
    "\n",
    "# Não é obrigatório entender esse código, mas eu ficarei triste se\n",
    "# você não perceber que é apenas uma sequência de buscas em largura!\n",
    "\n",
    "def count_components(g):\n",
    "    for n in g.nodes():\n",
    "        g.node[n]['label'] = 0\n",
    "\n",
    "    label = 0\n",
    "    q = Queue()\n",
    "\n",
    "    for s in g.nodes():\n",
    "        if g.node[s]['label'] == 0:\n",
    "            label += 1\n",
    "\n",
    "            g.node[s]['label'] = label\n",
    "            q.put(s)\n",
    "\n",
    "            while not q.empty():\n",
    "                n = q.get()\n",
    "\n",
    "                for m in g.neighbors(n):\n",
    "                    if g.node[m]['label'] == 0 and g.edge[n][m]['type'] == 1:\n",
    "                        g.node[m]['label'] = label\n",
    "                        q.put(m)\n",
    "\n",
    "    return label"
   ]
  },
  {
   "cell_type": "markdown",
   "metadata": {},
   "source": [
    "Simulando várias vezes o processo no qual as arestas do grafo mudam de tipo até as pressões acabarem.\n",
    "\n",
    "No final das simulações, o número médio de componentes é impresso.\n",
    "\n",
    "**Esse é o código que você deve modificar. Em particular, deve modificar as variáveis `a`, `b` e `c`.**"
   ]
  },
  {
   "cell_type": "code",
   "execution_count": null,
   "metadata": {
    "collapsed": true
   },
   "outputs": [],
   "source": [
    "TIMES = 100\n",
    "LIMIT = 100\n",
    "\n",
    "a = 1 # Situação A\n",
    "b = 1 # Situação B\n",
    "c = 1 # Situação C\n",
    "\n",
    "# Inicializa o número médio de componentes.\n",
    "mean_components = 0\n",
    "\n",
    "for _ in range(TIMES):\n",
    "\n",
    "    # Inicializa as arestas para uma nova simulação.\n",
    "    randomize_types(g)\n",
    "\n",
    "    # Inicializa o contador de iterações.\n",
    "    iterations = 0\n",
    "\n",
    "    # Continua enquanto alguma aresta sofre pressão.\n",
    "    while update_type(g, a=a, b=b, c=c):\n",
    "        iterations += 1\n",
    "\n",
    "        # Se passou de LIMIT iterações, provavelmente nunca vai terminar.\n",
    "        if iterations == LIMIT:\n",
    "            break\n",
    "\n",
    "    # Se uma das simulações não convergiu, desiste.\n",
    "    if iterations == LIMIT:\n",
    "        break\n",
    "\n",
    "    # Senão, atualiza o número médio de componentes.\n",
    "    mean_components += count_components(g)\n",
    "\n",
    "if iterations == LIMIT:\n",
    "    print('uma das simulações não parecia estar convergindo')\n",
    "else:\n",
    "    # Finaliza o número médio de componentes\n",
    "    mean_components /= TIMES\n",
    "\n",
    "    print('número médio de componentes:', mean_components)"
   ]
  },
  {
   "cell_type": "markdown",
   "metadata": {},
   "source": [
    "Para ter *insights* sobre o que está acontecendo, não esqueça de examinar a versão animada da simulação!"
   ]
  },
  {
   "cell_type": "code",
   "execution_count": null,
   "metadata": {
    "collapsed": true
   },
   "outputs": [],
   "source": [
    "def snapshot(g, frames):\n",
    "    convert_types_to_colors(g)\n",
    "\n",
    "    frame = sn.generate_frame(g)\n",
    "\n",
    "    frames.append(frame)\n",
    "\n",
    "\n",
    "frames = []\n",
    "\n",
    "# Inicializa as arestas para uma nova simulação.\n",
    "randomize_types(g)\n",
    "\n",
    "# Inicializa aleatoriamente as posições dos nós.\n",
    "sn.randomize_positions(g)\n",
    "\n",
    "snapshot(g, frames)\n",
    "\n",
    "iterations = 0\n",
    "\n",
    "# Continua enquanto alguma aresta sofre pressão.\n",
    "while update_type(g, a=a, b=b, c=c):\n",
    "\n",
    "    # Move um pouco os vértices de posição, usando o atributo 'type' das\n",
    "    # arestas como referência para saber o quanto dois vértices se atraem.\n",
    "    sn.update_positions(g, 'type')\n",
    "\n",
    "    snapshot(g, frames)\n",
    "\n",
    "    iterations += 1\n",
    "\n",
    "    # Se passou de LIMIT iterações, provavelmente nunca vai terminar.\n",
    "    if iterations == LIMIT:\n",
    "        print('a simulação não parecia estar convergindo')\n",
    "        break\n",
    "\n",
    "sn.show_animation(frames)"
   ]
  },
  {
   "cell_type": "markdown",
   "metadata": {},
   "source": [
    "**ATENÇÃO:** Segundo a primeira parte do enunciado, uma das configurações que você deve encontrar é a que leva a polarização. Essa *não pode ser a configuração na qual os três pesos são iguais*, pois já foi vista em sala. Não se preocupe, existem outras!"
   ]
  }
 ],
 "metadata": {
  "kernelspec": {
   "display_name": "Python 3",
   "language": "python",
   "name": "python3"
  },
  "language_info": {
   "codemirror_mode": {
    "name": "ipython",
    "version": 3
   },
   "file_extension": ".py",
   "mimetype": "text/x-python",
   "name": "python",
   "nbconvert_exporter": "python",
   "pygments_lexer": "ipython3",
   "version": "3.5.4"
  }
 },
 "nbformat": 4,
 "nbformat_minor": 1
}
