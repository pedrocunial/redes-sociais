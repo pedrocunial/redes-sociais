{
 "cells": [
  {
   "cell_type": "markdown",
   "metadata": {},
   "source": [
    "# Encontro 12: Algoritmo de Girvan-Newman\n",
    "\n",
    "Importando a biblioteca:"
   ]
  },
  {
   "cell_type": "code",
   "execution_count": null,
   "metadata": {
    "scrolled": true
   },
   "outputs": [],
   "source": [
    "import sys\n",
    "sys.path.append('..')\n",
    "\n",
    "import socnet as sn"
   ]
  },
  {
   "cell_type": "markdown",
   "metadata": {},
   "source": [
    "Configurando a biblioteca:"
   ]
  },
  {
   "cell_type": "code",
   "execution_count": null,
   "metadata": {
    "collapsed": true
   },
   "outputs": [],
   "source": [
    "sn.graph_width = 400\n",
    "sn.graph_height = 225\n",
    "\n",
    "sn.edge_width = 1"
   ]
  },
  {
   "cell_type": "markdown",
   "metadata": {},
   "source": [
    "Carregando o primeiro grafo:"
   ]
  },
  {
   "cell_type": "code",
   "execution_count": null,
   "metadata": {},
   "outputs": [],
   "source": [
    "g = sn.load_graph('teste.gml', has_pos=True)\n",
    "\n",
    "sn.show_graph(g)"
   ]
  },
  {
   "cell_type": "markdown",
   "metadata": {},
   "source": [
    "Você pode usar esse grafo para depurar sua implementação do cálculo de *edge betweenness*."
   ]
  },
  {
   "cell_type": "code",
   "execution_count": null,
   "metadata": {},
   "outputs": [],
   "source": [
    "def calculate_partial_betweenness(g, s):\n",
    "\n",
    "    # Esta função deve calcular o betweenness parcial de cada aresta\n",
    "    # e armazenar esse valor no campo `partial_betweenness` dela.\n",
    "\n",
    "    # Betweenness parcial significa o valor do fluxo quando um nó\n",
    "    # específico é a fonte. Nesta função, esse nó é o parâmetro s.\n"
   ]
  },
  {
   "cell_type": "markdown",
   "metadata": {},
   "source": [
    "Carregando o segundo grafo:"
   ]
  },
  {
   "cell_type": "code",
   "execution_count": null,
   "metadata": {
    "collapsed": true
   },
   "outputs": [],
   "source": [
    "sn.graph_width = 800\n",
    "sn.graph_height = 450\n",
    "\n",
    "g = sn.load_graph('karate.gml', has_pos=True)\n",
    "\n",
    "sn.show_graph(g)"
   ]
  },
  {
   "cell_type": "markdown",
   "metadata": {},
   "source": [
    "Construindo uma animação do Girvan-Newman:"
   ]
  },
  {
   "cell_type": "code",
   "execution_count": null,
   "metadata": {
    "collapsed": true
   },
   "outputs": [],
   "source": [
    "from random import randrange\n",
    "from queue import Queue\n",
    "\n",
    "\n",
    "def snapshot(g, frames):\n",
    "    frame = sn.generate_frame(g)\n",
    "\n",
    "    frames.append(frame)\n",
    "\n",
    "\n",
    "frames = []\n",
    "\n",
    "prev_num_components = 1\n",
    "\n",
    "gc = g.copy()\n",
    "\n",
    "snapshot(gc, frames)\n",
    "\n",
    "while g.edges():\n",
    "    # Identifica e remove a aresta com maior betweenness.\n",
    "\n",
    "    for n, m in g.edges():\n",
    "        g.edge[n][m]['betweenness'] = 0\n",
    "\n",
    "    for n in g.nodes():\n",
    "        calculate_partial_betweenness(g, n)\n",
    "\n",
    "        for n, m in g.edges():\n",
    "            g.edge[n][m]['betweenness'] += g.edge[n][m]['partial_betweenness']\n",
    "\n",
    "    for n, m in g.edges():\n",
    "        g.edge[n][m]['betweenness'] /= 2\n",
    "\n",
    "    n, m = max(g.edges(), key=lambda e: g.edge[e[0]][e[1]]['betweenness'])\n",
    "\n",
    "    g.remove_edge(n, m)\n",
    "\n",
    "    gc.edge[n][m]['color'] = (255, 255, 255)\n",
    "\n",
    "    # Calcula o número de componentes depois da remoção.\n",
    "\n",
    "    for n in g.nodes():\n",
    "        g.node[n]['label'] = 0\n",
    "\n",
    "    label = 0\n",
    "    q = Queue()\n",
    "\n",
    "    for s in g.nodes():\n",
    "        if g.node[s]['label'] == 0:\n",
    "            label += 1\n",
    "\n",
    "            g.node[s]['label'] = label\n",
    "            q.put(s)\n",
    "\n",
    "            while not q.empty():\n",
    "                n = q.get()\n",
    "\n",
    "                for m in g.neighbors(n):\n",
    "                    if g.node[m]['label'] == 0:\n",
    "                        g.node[m]['label'] = label\n",
    "                        q.put(m)\n",
    "\n",
    "    num_components = label\n",
    "\n",
    "    # Se o número de componentes aumentou, identifica as componentes por cores aleatórias.\n",
    "\n",
    "    if prev_num_components < num_components:\n",
    "        colors = {}\n",
    "\n",
    "        for label in range(1, num_components + 1):\n",
    "            colors[label] = (randrange(256), randrange(256), randrange(256))\n",
    "\n",
    "        for n in gc.nodes():\n",
    "            gc.node[n]['color'] = colors[g.node[n]['label']]\n",
    "\n",
    "        prev_num_components = num_components\n",
    "\n",
    "    snapshot(gc, frames)\n",
    "\n",
    "sn.show_animation(frames)"
   ]
  },
  {
   "cell_type": "markdown",
   "metadata": {
    "collapsed": true
   },
   "source": [
    "Você não precisa modificar esse código, apenas completar o código de `calculate_partial_betweenness`.\n",
    "\n",
    "O \"gabarito\" deste notebook é o vídeo `encontro12.webm` que está na mesma pasta."
   ]
  }
 ],
 "metadata": {
  "kernelspec": {
   "display_name": "Python 3",
   "language": "python",
   "name": "python3"
  },
  "language_info": {
   "codemirror_mode": {
    "name": "ipython",
    "version": 3
   },
   "file_extension": ".py",
   "mimetype": "text/x-python",
   "name": "python",
   "nbconvert_exporter": "python",
   "pygments_lexer": "ipython3",
   "version": "3.5.4"
  }
 },
 "nbformat": 4,
 "nbformat_minor": 1
}
